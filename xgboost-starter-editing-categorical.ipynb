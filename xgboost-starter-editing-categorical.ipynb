{
 "cells": [
  {
   "cell_type": "markdown",
   "id": "aa7c195b",
   "metadata": {
    "papermill": {
     "duration": 0.007411,
     "end_time": "2022-07-10T15:32:21.245933",
     "exception": false,
     "start_time": "2022-07-10T15:32:21.238522",
     "status": "completed"
    },
    "tags": []
   },
   "source": [
    "# XGBoost Starter - LB 0.793\n",
    "In this notebook we build and train an XGBoost model using @raddar Kaggle dataset from [here][1] with discussion [here][2]. Then we engineer features suggested by @huseyincot in his notebooks [here][3] and [here][4]. This XGB model achieves CV 0.792 LB 0.793! When training with XGB, we use a special XGB dataloader called `DeviceQuantileDMatrix` which uses a small GPU memory footprint. This allows us to engineer more additional columns and train with more rows of data. Our feature engineering is performed using [RAPIDS][5] on the GPU to create new features quickly.\n",
    "\n",
    "[1]: https://www.kaggle.com/datasets/raddar/amex-data-integer-dtypes-parquet-format\n",
    "[2]: https://www.kaggle.com/competitions/amex-default-prediction/discussion/328514\n",
    "[3]: https://www.kaggle.com/code/huseyincot/amex-catboost-0-793\n",
    "[4]: https://www.kaggle.com/code/huseyincot/amex-agg-data-how-it-created\n",
    "[5]: https://rapids.ai/"
   ]
  },
  {
   "cell_type": "markdown",
   "id": "de7fe4ba",
   "metadata": {
    "papermill": {
     "duration": 0.005849,
     "end_time": "2022-07-10T15:32:21.257985",
     "exception": false,
     "start_time": "2022-07-10T15:32:21.252136",
     "status": "completed"
    },
    "tags": []
   },
   "source": [
    "# Load Libraries"
   ]
  },
  {
   "cell_type": "code",
   "execution_count": 1,
   "id": "4cf4fc7d",
   "metadata": {
    "execution": {
     "iopub.execute_input": "2022-07-10T15:32:21.272432Z",
     "iopub.status.busy": "2022-07-10T15:32:21.271722Z",
     "iopub.status.idle": "2022-07-10T15:32:25.085750Z",
     "shell.execute_reply": "2022-07-10T15:32:25.083181Z"
    },
    "papermill": {
     "duration": 3.823314,
     "end_time": "2022-07-10T15:32:25.087658",
     "exception": false,
     "start_time": "2022-07-10T15:32:21.264344",
     "status": "completed"
    },
    "tags": []
   },
   "outputs": [
    {
     "name": "stdout",
     "output_type": "stream",
     "text": [
      "RAPIDS version 21.10.01\n"
     ]
    }
   ],
   "source": [
    "# LOAD LIBRARIES\n",
    "import pandas as pd, numpy as np # CPU libraries\n",
    "import cupy, cudf # GPU libraries\n",
    "import matplotlib.pyplot as plt, gc, os\n",
    "\n",
    "print('RAPIDS version',cudf.__version__)"
   ]
  },
  {
   "cell_type": "code",
   "execution_count": 2,
   "id": "99fa8898",
   "metadata": {
    "execution": {
     "iopub.execute_input": "2022-07-10T15:32:25.101546Z",
     "iopub.status.busy": "2022-07-10T15:32:25.101257Z",
     "iopub.status.idle": "2022-07-10T15:32:25.105257Z",
     "shell.execute_reply": "2022-07-10T15:32:25.104487Z"
    },
    "papermill": {
     "duration": 0.013005,
     "end_time": "2022-07-10T15:32:25.107153",
     "exception": false,
     "start_time": "2022-07-10T15:32:25.094148",
     "status": "completed"
    },
    "tags": []
   },
   "outputs": [],
   "source": [
    "# VERSION NAME FOR SAVED MODEL FILES\n",
    "VER = 1\n",
    "\n",
    "# TRAIN RANDOM SEED\n",
    "SEED = 42\n",
    "\n",
    "# FILL NAN VALUE\n",
    "NAN_VALUE = -127 # will fit in int8\n",
    "\n",
    "# FOLDS PER MODEL\n",
    "FOLDS = 5"
   ]
  },
  {
   "cell_type": "markdown",
   "id": "06ed8868",
   "metadata": {
    "papermill": {
     "duration": 0.005909,
     "end_time": "2022-07-10T15:32:25.119194",
     "exception": false,
     "start_time": "2022-07-10T15:32:25.113285",
     "status": "completed"
    },
    "tags": []
   },
   "source": [
    "# Process and Feature Engineer Train Data\n",
    "We will load @raddar Kaggle dataset from [here][1] with discussion [here][2]. Then we will engineer features suggested by @huseyincot in his notebooks [here][3] and [here][4]. We will use [RAPIDS][5] and the GPU to create new features quickly.\n",
    "\n",
    "[1]: https://www.kaggle.com/datasets/raddar/amex-data-integer-dtypes-parquet-format\n",
    "[2]: https://www.kaggle.com/competitions/amex-default-prediction/discussion/328514\n",
    "[3]: https://www.kaggle.com/code/huseyincot/amex-catboost-0-793\n",
    "[4]: https://www.kaggle.com/code/huseyincot/amex-agg-data-how-it-created\n",
    "[5]: https://rapids.ai/"
   ]
  },
  {
   "cell_type": "code",
   "execution_count": 3,
   "id": "da46e261",
   "metadata": {
    "execution": {
     "iopub.execute_input": "2022-07-10T15:32:25.133156Z",
     "iopub.status.busy": "2022-07-10T15:32:25.132908Z",
     "iopub.status.idle": "2022-07-10T15:32:46.874644Z",
     "shell.execute_reply": "2022-07-10T15:32:46.873810Z"
    },
    "papermill": {
     "duration": 21.751308,
     "end_time": "2022-07-10T15:32:46.876618",
     "exception": false,
     "start_time": "2022-07-10T15:32:25.125310",
     "status": "completed"
    },
    "tags": []
   },
   "outputs": [
    {
     "name": "stdout",
     "output_type": "stream",
     "text": [
      "Reading train data...\n",
      "shape of data: (5531451, 190)\n"
     ]
    }
   ],
   "source": [
    "def read_file(path = '', usecols = None):\n",
    "    # LOAD DATAFRAME\n",
    "    if usecols is not None: df = cudf.read_parquet(path, columns=usecols)\n",
    "    else: df = cudf.read_parquet(path)\n",
    "    # REDUCE DTYPE FOR CUSTOMER AND DATE\n",
    "    df['customer_ID'] = df['customer_ID'].str[-16:].str.hex_to_int().astype('int64')\n",
    "    df.S_2 = cudf.to_datetime( df.S_2 )\n",
    "    # SORT BY CUSTOMER AND DATE (so agg('last') works correctly)\n",
    "    #df = df.sort_values(['customer_ID','S_2'])\n",
    "    #df = df.reset_index(drop=True)\n",
    "    # FILL NAN\n",
    "    df = df.fillna(NAN_VALUE) \n",
    "    print('shape of data:', df.shape)\n",
    "    \n",
    "    return df\n",
    "\n",
    "print('Reading train data...')\n",
    "TRAIN_PATH = '../input/amex-data-integer-dtypes-parquet-format/train.parquet'\n",
    "train = read_file(path = TRAIN_PATH)"
   ]
  },
  {
   "cell_type": "code",
   "execution_count": 4,
   "id": "7470866c",
   "metadata": {
    "execution": {
     "iopub.execute_input": "2022-07-10T15:32:46.891137Z",
     "iopub.status.busy": "2022-07-10T15:32:46.890548Z",
     "iopub.status.idle": "2022-07-10T15:32:47.128539Z",
     "shell.execute_reply": "2022-07-10T15:32:47.127692Z"
    },
    "papermill": {
     "duration": 0.247912,
     "end_time": "2022-07-10T15:32:47.131231",
     "exception": false,
     "start_time": "2022-07-10T15:32:46.883319",
     "status": "completed"
    },
    "tags": []
   },
   "outputs": [
    {
     "data": {
      "text/html": [
       "<div>\n",
       "<style scoped>\n",
       "    .dataframe tbody tr th:only-of-type {\n",
       "        vertical-align: middle;\n",
       "    }\n",
       "\n",
       "    .dataframe tbody tr th {\n",
       "        vertical-align: top;\n",
       "    }\n",
       "\n",
       "    .dataframe thead th {\n",
       "        text-align: right;\n",
       "    }\n",
       "</style>\n",
       "<table border=\"1\" class=\"dataframe\">\n",
       "  <thead>\n",
       "    <tr style=\"text-align: right;\">\n",
       "      <th></th>\n",
       "      <th>customer_ID</th>\n",
       "      <th>S_2</th>\n",
       "      <th>P_2</th>\n",
       "      <th>D_39</th>\n",
       "      <th>B_1</th>\n",
       "      <th>B_2</th>\n",
       "      <th>R_1</th>\n",
       "      <th>S_3</th>\n",
       "      <th>D_41</th>\n",
       "      <th>B_3</th>\n",
       "      <th>...</th>\n",
       "      <th>D_136</th>\n",
       "      <th>D_137</th>\n",
       "      <th>D_138</th>\n",
       "      <th>D_139</th>\n",
       "      <th>D_140</th>\n",
       "      <th>D_141</th>\n",
       "      <th>D_142</th>\n",
       "      <th>D_143</th>\n",
       "      <th>D_144</th>\n",
       "      <th>D_145</th>\n",
       "    </tr>\n",
       "  </thead>\n",
       "  <tbody>\n",
       "    <tr>\n",
       "      <th>0</th>\n",
       "      <td>-4532153018459703766</td>\n",
       "      <td>2017-03-09</td>\n",
       "      <td>0.938469</td>\n",
       "      <td>0</td>\n",
       "      <td>0.008724</td>\n",
       "      <td>1.006838</td>\n",
       "      <td>0.009228</td>\n",
       "      <td>0.124035</td>\n",
       "      <td>0.0</td>\n",
       "      <td>0.004709</td>\n",
       "      <td>...</td>\n",
       "      <td>-1</td>\n",
       "      <td>-1</td>\n",
       "      <td>-1</td>\n",
       "      <td>0</td>\n",
       "      <td>0</td>\n",
       "      <td>0.0</td>\n",
       "      <td>-127.0</td>\n",
       "      <td>0</td>\n",
       "      <td>0.000610</td>\n",
       "      <td>0</td>\n",
       "    </tr>\n",
       "    <tr>\n",
       "      <th>1</th>\n",
       "      <td>-4532153018459703766</td>\n",
       "      <td>2017-04-07</td>\n",
       "      <td>0.936665</td>\n",
       "      <td>0</td>\n",
       "      <td>0.004923</td>\n",
       "      <td>1.000653</td>\n",
       "      <td>0.006151</td>\n",
       "      <td>0.126750</td>\n",
       "      <td>0.0</td>\n",
       "      <td>0.002714</td>\n",
       "      <td>...</td>\n",
       "      <td>-1</td>\n",
       "      <td>-1</td>\n",
       "      <td>-1</td>\n",
       "      <td>0</td>\n",
       "      <td>0</td>\n",
       "      <td>0.0</td>\n",
       "      <td>-127.0</td>\n",
       "      <td>0</td>\n",
       "      <td>0.005492</td>\n",
       "      <td>0</td>\n",
       "    </tr>\n",
       "    <tr>\n",
       "      <th>2</th>\n",
       "      <td>-4532153018459703766</td>\n",
       "      <td>2017-05-28</td>\n",
       "      <td>0.954180</td>\n",
       "      <td>3</td>\n",
       "      <td>0.021655</td>\n",
       "      <td>1.009672</td>\n",
       "      <td>0.006815</td>\n",
       "      <td>0.123977</td>\n",
       "      <td>0.0</td>\n",
       "      <td>0.009423</td>\n",
       "      <td>...</td>\n",
       "      <td>-1</td>\n",
       "      <td>-1</td>\n",
       "      <td>-1</td>\n",
       "      <td>0</td>\n",
       "      <td>0</td>\n",
       "      <td>0.0</td>\n",
       "      <td>-127.0</td>\n",
       "      <td>0</td>\n",
       "      <td>0.006986</td>\n",
       "      <td>0</td>\n",
       "    </tr>\n",
       "    <tr>\n",
       "      <th>3</th>\n",
       "      <td>-4532153018459703766</td>\n",
       "      <td>2017-06-13</td>\n",
       "      <td>0.960384</td>\n",
       "      <td>0</td>\n",
       "      <td>0.013683</td>\n",
       "      <td>1.002700</td>\n",
       "      <td>0.001373</td>\n",
       "      <td>0.117169</td>\n",
       "      <td>0.0</td>\n",
       "      <td>0.005531</td>\n",
       "      <td>...</td>\n",
       "      <td>-1</td>\n",
       "      <td>-1</td>\n",
       "      <td>-1</td>\n",
       "      <td>0</td>\n",
       "      <td>0</td>\n",
       "      <td>0.0</td>\n",
       "      <td>-127.0</td>\n",
       "      <td>0</td>\n",
       "      <td>0.006527</td>\n",
       "      <td>0</td>\n",
       "    </tr>\n",
       "    <tr>\n",
       "      <th>4</th>\n",
       "      <td>-4532153018459703766</td>\n",
       "      <td>2017-07-16</td>\n",
       "      <td>0.947248</td>\n",
       "      <td>0</td>\n",
       "      <td>0.015193</td>\n",
       "      <td>1.000727</td>\n",
       "      <td>0.007605</td>\n",
       "      <td>0.117325</td>\n",
       "      <td>0.0</td>\n",
       "      <td>0.009312</td>\n",
       "      <td>...</td>\n",
       "      <td>-1</td>\n",
       "      <td>-1</td>\n",
       "      <td>-1</td>\n",
       "      <td>0</td>\n",
       "      <td>0</td>\n",
       "      <td>0.0</td>\n",
       "      <td>-127.0</td>\n",
       "      <td>0</td>\n",
       "      <td>0.008126</td>\n",
       "      <td>0</td>\n",
       "    </tr>\n",
       "  </tbody>\n",
       "</table>\n",
       "<p>5 rows × 190 columns</p>\n",
       "</div>"
      ],
      "text/plain": [
       "           customer_ID        S_2       P_2  D_39       B_1       B_2  \\\n",
       "0 -4532153018459703766 2017-03-09  0.938469     0  0.008724  1.006838   \n",
       "1 -4532153018459703766 2017-04-07  0.936665     0  0.004923  1.000653   \n",
       "2 -4532153018459703766 2017-05-28  0.954180     3  0.021655  1.009672   \n",
       "3 -4532153018459703766 2017-06-13  0.960384     0  0.013683  1.002700   \n",
       "4 -4532153018459703766 2017-07-16  0.947248     0  0.015193  1.000727   \n",
       "\n",
       "        R_1       S_3  D_41       B_3  ...  D_136  D_137  D_138  D_139  D_140  \\\n",
       "0  0.009228  0.124035   0.0  0.004709  ...     -1     -1     -1      0      0   \n",
       "1  0.006151  0.126750   0.0  0.002714  ...     -1     -1     -1      0      0   \n",
       "2  0.006815  0.123977   0.0  0.009423  ...     -1     -1     -1      0      0   \n",
       "3  0.001373  0.117169   0.0  0.005531  ...     -1     -1     -1      0      0   \n",
       "4  0.007605  0.117325   0.0  0.009312  ...     -1     -1     -1      0      0   \n",
       "\n",
       "   D_141  D_142  D_143     D_144  D_145  \n",
       "0    0.0 -127.0      0  0.000610      0  \n",
       "1    0.0 -127.0      0  0.005492      0  \n",
       "2    0.0 -127.0      0  0.006986      0  \n",
       "3    0.0 -127.0      0  0.006527      0  \n",
       "4    0.0 -127.0      0  0.008126      0  \n",
       "\n",
       "[5 rows x 190 columns]"
      ]
     },
     "execution_count": 4,
     "metadata": {},
     "output_type": "execute_result"
    }
   ],
   "source": [
    "train.head()"
   ]
  },
  {
   "cell_type": "code",
   "execution_count": 5,
   "id": "e89c845d",
   "metadata": {
    "execution": {
     "iopub.execute_input": "2022-07-10T15:32:47.146468Z",
     "iopub.status.busy": "2022-07-10T15:32:47.146179Z",
     "iopub.status.idle": "2022-07-10T15:32:48.978599Z",
     "shell.execute_reply": "2022-07-10T15:32:48.977098Z"
    },
    "papermill": {
     "duration": 1.842078,
     "end_time": "2022-07-10T15:32:48.980456",
     "exception": false,
     "start_time": "2022-07-10T15:32:47.138378",
     "status": "completed"
    },
    "tags": []
   },
   "outputs": [
    {
     "name": "stdout",
     "output_type": "stream",
     "text": [
      "shape after engineering (458913, 858)\n"
     ]
    }
   ],
   "source": [
    "def process_and_feature_engineer(df):\n",
    "    # FEATURE ENGINEERING FROM \n",
    "    # https://www.kaggle.com/code/huseyincot/amex-agg-data-how-it-created\n",
    "    all_cols = [c for c in list(df.columns) if c not in ['customer_ID','S_2']]\n",
    "#     cat_features = [\"B_30\",\"B_38\",\"D_114\",\"D_116\",\"D_117\",\"D_120\",\"D_126\",\"D_63\",\"D_64\",\"D_66\",\"D_68\"]\n",
    "    cat_features = ['B_30',\n",
    "         'B_38',\n",
    "         'D_114',\n",
    "         'D_116',\n",
    "         'D_117',\n",
    "         'D_120',\n",
    "         'D_126',\n",
    "         'D_63',\n",
    "         'D_64',\n",
    "         'D_66',\n",
    "         'D_68',\n",
    "         'B_31',\n",
    "         'B_32',\n",
    "         'B_33',\n",
    "         'D_103',\n",
    "         'D_109',\n",
    "         'D_127',\n",
    "         'D_129',\n",
    "         'D_135',\n",
    "         'D_137',\n",
    "         'D_139',\n",
    "         'D_140',\n",
    "         'D_143',\n",
    "         'D_86',\n",
    "         'D_87',\n",
    "         'D_93',\n",
    "         'D_94',\n",
    "         'D_96',\n",
    "         'R_15',\n",
    "         'R_19',\n",
    "         'R_2',\n",
    "         'R_21',\n",
    "         'R_22',\n",
    "         'R_23',\n",
    "         'R_24',\n",
    "         'R_25',\n",
    "         'R_28',\n",
    "         'R_4',\n",
    "         'S_18',\n",
    "         'S_20',\n",
    "         'S_6']\n",
    "    num_features = [col for col in all_cols if col not in cat_features]\n",
    "\n",
    "    test_num_agg = df.groupby(\"customer_ID\")[num_features].agg(['mean', 'std', 'min', 'max', 'last'])\n",
    "    test_num_agg.columns = ['_'.join(x) for x in test_num_agg.columns]\n",
    "\n",
    "    test_cat_agg = df.groupby(\"customer_ID\")[cat_features].agg(['count', 'last', 'nunique'])\n",
    "    test_cat_agg.columns = ['_'.join(x) for x in test_cat_agg.columns]\n",
    "\n",
    "    df = cudf.concat([test_num_agg, test_cat_agg], axis=1)\n",
    "    del test_num_agg, test_cat_agg\n",
    "    print('shape after engineering', df.shape )\n",
    "    \n",
    "    return df\n",
    "\n",
    "train = process_and_feature_engineer(train)"
   ]
  },
  {
   "cell_type": "code",
   "execution_count": 6,
   "id": "4ab8f12d",
   "metadata": {
    "execution": {
     "iopub.execute_input": "2022-07-10T15:32:48.995306Z",
     "iopub.status.busy": "2022-07-10T15:32:48.995034Z",
     "iopub.status.idle": "2022-07-10T15:32:50.253868Z",
     "shell.execute_reply": "2022-07-10T15:32:50.253041Z"
    },
    "papermill": {
     "duration": 1.269026,
     "end_time": "2022-07-10T15:32:50.256330",
     "exception": false,
     "start_time": "2022-07-10T15:32:48.987304",
     "status": "completed"
    },
    "tags": []
   },
   "outputs": [
    {
     "name": "stdout",
     "output_type": "stream",
     "text": [
      "There are 858 features!\n"
     ]
    }
   ],
   "source": [
    "# ADD TARGETS\n",
    "targets = cudf.read_csv('../input/amex-default-prediction/train_labels.csv')\n",
    "targets['customer_ID'] = targets['customer_ID'].str[-16:].str.hex_to_int().astype('int64')\n",
    "targets = targets.set_index('customer_ID')\n",
    "train = train.merge(targets, left_index=True, right_index=True, how='left')\n",
    "train.target = train.target.astype('int8')\n",
    "del targets\n",
    "\n",
    "# NEEDED TO MAKE CV DETERMINISTIC (cudf merge above randomly shuffles rows)\n",
    "train = train.sort_index().reset_index()\n",
    "\n",
    "# FEATURES\n",
    "FEATURES = train.columns[1:-1]\n",
    "print(f'There are {len(FEATURES)} features!')"
   ]
  },
  {
   "cell_type": "markdown",
   "id": "15e3a4f5",
   "metadata": {
    "papermill": {
     "duration": 0.006964,
     "end_time": "2022-07-10T15:32:50.270928",
     "exception": false,
     "start_time": "2022-07-10T15:32:50.263964",
     "status": "completed"
    },
    "tags": []
   },
   "source": [
    "# Train XGB\n",
    "We will train using `DeviceQuantileDMatrix`. This has a very small GPU memory footprint."
   ]
  },
  {
   "cell_type": "code",
   "execution_count": 7,
   "id": "38d80734",
   "metadata": {
    "execution": {
     "iopub.execute_input": "2022-07-10T15:32:50.285895Z",
     "iopub.status.busy": "2022-07-10T15:32:50.285242Z",
     "iopub.status.idle": "2022-07-10T15:32:50.380826Z",
     "shell.execute_reply": "2022-07-10T15:32:50.379953Z"
    },
    "papermill": {
     "duration": 0.104963,
     "end_time": "2022-07-10T15:32:50.382654",
     "exception": false,
     "start_time": "2022-07-10T15:32:50.277691",
     "status": "completed"
    },
    "tags": []
   },
   "outputs": [
    {
     "name": "stdout",
     "output_type": "stream",
     "text": [
      "XGB Version 1.6.1\n"
     ]
    }
   ],
   "source": [
    "# LOAD XGB LIBRARY\n",
    "from sklearn.model_selection import KFold\n",
    "import xgboost as xgb\n",
    "print('XGB Version',xgb.__version__)\n",
    "\n",
    "# XGB MODEL PARAMETERS\n",
    "xgb_parms = { \n",
    "    'max_depth':4, \n",
    "    'learning_rate':0.05, \n",
    "    'subsample':0.8,\n",
    "    'colsample_bytree':0.6, \n",
    "    'eval_metric':'logloss',\n",
    "    'objective':'binary:logistic',\n",
    "    'tree_method':'gpu_hist',\n",
    "    'predictor':'gpu_predictor',\n",
    "    'random_state':SEED\n",
    "}"
   ]
  },
  {
   "cell_type": "code",
   "execution_count": 8,
   "id": "07d154f7",
   "metadata": {
    "execution": {
     "iopub.execute_input": "2022-07-10T15:32:50.397200Z",
     "iopub.status.busy": "2022-07-10T15:32:50.396939Z",
     "iopub.status.idle": "2022-07-10T15:32:50.406895Z",
     "shell.execute_reply": "2022-07-10T15:32:50.406214Z"
    },
    "papermill": {
     "duration": 0.019229,
     "end_time": "2022-07-10T15:32:50.408502",
     "exception": false,
     "start_time": "2022-07-10T15:32:50.389273",
     "status": "completed"
    },
    "tags": []
   },
   "outputs": [],
   "source": [
    "# NEEDED WITH DeviceQuantileDMatrix BELOW\n",
    "class IterLoadForDMatrix(xgb.core.DataIter):\n",
    "    def __init__(self, df=None, features=None, target=None, batch_size=256*1024):\n",
    "        self.features = features\n",
    "        self.target = target\n",
    "        self.df = df\n",
    "        self.it = 0 # set iterator to 0\n",
    "        self.batch_size = batch_size\n",
    "        self.batches = int( np.ceil( len(df) / self.batch_size ) )\n",
    "        super().__init__()\n",
    "\n",
    "    def reset(self):\n",
    "        '''Reset the iterator'''\n",
    "        self.it = 0\n",
    "\n",
    "    def next(self, input_data):\n",
    "        '''Yield next batch of data.'''\n",
    "        if self.it == self.batches:\n",
    "            return 0 # Return 0 when there's no more batch.\n",
    "        \n",
    "        a = self.it * self.batch_size\n",
    "        b = min( (self.it + 1) * self.batch_size, len(self.df) )\n",
    "        dt = cudf.DataFrame(self.df.iloc[a:b])\n",
    "        input_data(data=dt[self.features], label=dt[self.target]) #, weight=dt['weight'])\n",
    "        self.it += 1\n",
    "        return 1"
   ]
  },
  {
   "cell_type": "code",
   "execution_count": 9,
   "id": "7ba8f7a3",
   "metadata": {
    "execution": {
     "iopub.execute_input": "2022-07-10T15:32:50.422998Z",
     "iopub.status.busy": "2022-07-10T15:32:50.422732Z",
     "iopub.status.idle": "2022-07-10T15:32:50.432200Z",
     "shell.execute_reply": "2022-07-10T15:32:50.431265Z"
    },
    "papermill": {
     "duration": 0.018803,
     "end_time": "2022-07-10T15:32:50.434073",
     "exception": false,
     "start_time": "2022-07-10T15:32:50.415270",
     "status": "completed"
    },
    "tags": []
   },
   "outputs": [],
   "source": [
    "# https://www.kaggle.com/kyakovlev\n",
    "# https://www.kaggle.com/competitions/amex-default-prediction/discussion/327534\n",
    "def amex_metric_mod(y_true, y_pred):\n",
    "\n",
    "    labels     = np.transpose(np.array([y_true, y_pred]))\n",
    "    labels     = labels[labels[:, 1].argsort()[::-1]]\n",
    "    weights    = np.where(labels[:,0]==0, 20, 1)\n",
    "    cut_vals   = labels[np.cumsum(weights) <= int(0.04 * np.sum(weights))]\n",
    "    top_four   = np.sum(cut_vals[:,0]) / np.sum(labels[:,0])\n",
    "\n",
    "    gini = [0,0]\n",
    "    for i in [1,0]:\n",
    "        labels         = np.transpose(np.array([y_true, y_pred]))\n",
    "        labels         = labels[labels[:, i].argsort()[::-1]]\n",
    "        weight         = np.where(labels[:,0]==0, 20, 1)\n",
    "        weight_random  = np.cumsum(weight / np.sum(weight))\n",
    "        total_pos      = np.sum(labels[:, 0] *  weight)\n",
    "        cum_pos_found  = np.cumsum(labels[:, 0] * weight)\n",
    "        lorentz        = cum_pos_found / total_pos\n",
    "        gini[i]        = np.sum((lorentz - weight_random) * weight)\n",
    "\n",
    "    return 0.5 * (gini[1]/gini[0] + top_four)"
   ]
  },
  {
   "cell_type": "code",
   "execution_count": 10,
   "id": "00714aee",
   "metadata": {
    "execution": {
     "iopub.execute_input": "2022-07-10T15:32:50.448311Z",
     "iopub.status.busy": "2022-07-10T15:32:50.448051Z",
     "iopub.status.idle": "2022-07-10T15:41:08.078099Z",
     "shell.execute_reply": "2022-07-10T15:41:08.077251Z"
    },
    "papermill": {
     "duration": 497.639687,
     "end_time": "2022-07-10T15:41:08.080307",
     "exception": false,
     "start_time": "2022-07-10T15:32:50.440620",
     "status": "completed"
    },
    "scrolled": true,
    "tags": []
   },
   "outputs": [
    {
     "name": "stdout",
     "output_type": "stream",
     "text": [
      "#########################\n",
      "### Fold 1\n",
      "### Train size 367130 Valid size 91783\n",
      "### Training with 100% fold data...\n",
      "#########################\n",
      "[0]\ttrain-logloss:0.66290\tvalid-logloss:0.66286\n",
      "[100]\ttrain-logloss:0.23676\tvalid-logloss:0.23952\n",
      "[200]\ttrain-logloss:0.22232\tvalid-logloss:0.22760\n",
      "[300]\ttrain-logloss:0.21628\tvalid-logloss:0.22367\n",
      "[400]\ttrain-logloss:0.21229\tvalid-logloss:0.22167\n",
      "[500]\ttrain-logloss:0.20911\tvalid-logloss:0.22043\n",
      "[600]\ttrain-logloss:0.20636\tvalid-logloss:0.21956\n",
      "[700]\ttrain-logloss:0.20391\tvalid-logloss:0.21904\n",
      "[800]\ttrain-logloss:0.20173\tvalid-logloss:0.21864\n",
      "[900]\ttrain-logloss:0.19953\tvalid-logloss:0.21831\n",
      "[1000]\ttrain-logloss:0.19745\tvalid-logloss:0.21805\n",
      "[1100]\ttrain-logloss:0.19543\tvalid-logloss:0.21789\n",
      "[1200]\ttrain-logloss:0.19348\tvalid-logloss:0.21776\n",
      "[1300]\ttrain-logloss:0.19165\tvalid-logloss:0.21762\n",
      "[1400]\ttrain-logloss:0.18983\tvalid-logloss:0.21749\n",
      "[1500]\ttrain-logloss:0.18804\tvalid-logloss:0.21743\n",
      "[1600]\ttrain-logloss:0.18623\tvalid-logloss:0.21736\n",
      "[1700]\ttrain-logloss:0.18454\tvalid-logloss:0.21730\n",
      "[1800]\ttrain-logloss:0.18282\tvalid-logloss:0.21725\n",
      "[1900]\ttrain-logloss:0.18114\tvalid-logloss:0.21720\n",
      "[1995]\ttrain-logloss:0.17958\tvalid-logloss:0.21724\n",
      "Kaggle Metric = 0.7918293917280474 \n",
      "\n",
      "#########################\n",
      "### Fold 2\n",
      "### Train size 367130 Valid size 91783\n",
      "### Training with 100% fold data...\n",
      "#########################\n",
      "[0]\ttrain-logloss:0.66282\tvalid-logloss:0.66272\n",
      "[100]\ttrain-logloss:0.23724\tvalid-logloss:0.23798\n",
      "[200]\ttrain-logloss:0.22286\tvalid-logloss:0.22562\n",
      "[300]\ttrain-logloss:0.21673\tvalid-logloss:0.22170\n",
      "[400]\ttrain-logloss:0.21261\tvalid-logloss:0.21967\n",
      "[500]\ttrain-logloss:0.20948\tvalid-logloss:0.21853\n",
      "[600]\ttrain-logloss:0.20669\tvalid-logloss:0.21782\n",
      "[700]\ttrain-logloss:0.20423\tvalid-logloss:0.21740\n",
      "[800]\ttrain-logloss:0.20190\tvalid-logloss:0.21704\n",
      "[900]\ttrain-logloss:0.19979\tvalid-logloss:0.21677\n",
      "[1000]\ttrain-logloss:0.19768\tvalid-logloss:0.21660\n",
      "[1100]\ttrain-logloss:0.19567\tvalid-logloss:0.21641\n",
      "[1200]\ttrain-logloss:0.19376\tvalid-logloss:0.21632\n",
      "[1300]\ttrain-logloss:0.19183\tvalid-logloss:0.21621\n",
      "[1400]\ttrain-logloss:0.18995\tvalid-logloss:0.21610\n",
      "[1500]\ttrain-logloss:0.18813\tvalid-logloss:0.21607\n",
      "[1600]\ttrain-logloss:0.18635\tvalid-logloss:0.21606\n",
      "[1680]\ttrain-logloss:0.18494\tvalid-logloss:0.21609\n",
      "Kaggle Metric = 0.7929823864625044 \n",
      "\n",
      "#########################\n",
      "### Fold 3\n",
      "### Train size 367130 Valid size 91783\n",
      "### Training with 100% fold data...\n",
      "#########################\n",
      "[0]\ttrain-logloss:0.66284\tvalid-logloss:0.66302\n",
      "[100]\ttrain-logloss:0.23665\tvalid-logloss:0.24053\n",
      "[200]\ttrain-logloss:0.22217\tvalid-logloss:0.22860\n",
      "[300]\ttrain-logloss:0.21606\tvalid-logloss:0.22468\n",
      "[400]\ttrain-logloss:0.21195\tvalid-logloss:0.22270\n",
      "[500]\ttrain-logloss:0.20876\tvalid-logloss:0.22160\n",
      "[600]\ttrain-logloss:0.20603\tvalid-logloss:0.22089\n",
      "[700]\ttrain-logloss:0.20350\tvalid-logloss:0.22038\n",
      "[800]\ttrain-logloss:0.20123\tvalid-logloss:0.22004\n",
      "[900]\ttrain-logloss:0.19909\tvalid-logloss:0.21974\n",
      "[1000]\ttrain-logloss:0.19699\tvalid-logloss:0.21955\n",
      "[1100]\ttrain-logloss:0.19499\tvalid-logloss:0.21938\n",
      "[1200]\ttrain-logloss:0.19298\tvalid-logloss:0.21928\n",
      "[1300]\ttrain-logloss:0.19114\tvalid-logloss:0.21918\n",
      "[1400]\ttrain-logloss:0.18930\tvalid-logloss:0.21904\n",
      "[1500]\ttrain-logloss:0.18751\tvalid-logloss:0.21900\n",
      "[1600]\ttrain-logloss:0.18569\tvalid-logloss:0.21898\n",
      "[1657]\ttrain-logloss:0.18469\tvalid-logloss:0.21895\n",
      "Kaggle Metric = 0.7895670535271195 \n",
      "\n",
      "#########################\n",
      "### Fold 4\n",
      "### Train size 367131 Valid size 91782\n",
      "### Training with 100% fold data...\n",
      "#########################\n",
      "[0]\ttrain-logloss:0.66286\tvalid-logloss:0.66302\n",
      "[100]\ttrain-logloss:0.23651\tvalid-logloss:0.24115\n",
      "[200]\ttrain-logloss:0.22194\tvalid-logloss:0.22902\n",
      "[300]\ttrain-logloss:0.21584\tvalid-logloss:0.22525\n",
      "[400]\ttrain-logloss:0.21177\tvalid-logloss:0.22336\n",
      "[500]\ttrain-logloss:0.20858\tvalid-logloss:0.22225\n",
      "[600]\ttrain-logloss:0.20581\tvalid-logloss:0.22160\n",
      "[700]\ttrain-logloss:0.20336\tvalid-logloss:0.22105\n",
      "[800]\ttrain-logloss:0.20106\tvalid-logloss:0.22076\n",
      "[900]\ttrain-logloss:0.19887\tvalid-logloss:0.22052\n",
      "[1000]\ttrain-logloss:0.19673\tvalid-logloss:0.22036\n",
      "[1100]\ttrain-logloss:0.19472\tvalid-logloss:0.22021\n",
      "[1200]\ttrain-logloss:0.19276\tvalid-logloss:0.22012\n",
      "[1300]\ttrain-logloss:0.19086\tvalid-logloss:0.21999\n",
      "[1400]\ttrain-logloss:0.18898\tvalid-logloss:0.21992\n",
      "[1500]\ttrain-logloss:0.18717\tvalid-logloss:0.21989\n",
      "[1600]\ttrain-logloss:0.18540\tvalid-logloss:0.21984\n",
      "[1700]\ttrain-logloss:0.18365\tvalid-logloss:0.21988\n",
      "[1709]\ttrain-logloss:0.18351\tvalid-logloss:0.21988\n",
      "Kaggle Metric = 0.7878205865624408 \n",
      "\n",
      "#########################\n",
      "### Fold 5\n",
      "### Train size 367131 Valid size 91782\n",
      "### Training with 100% fold data...\n",
      "#########################\n",
      "[0]\ttrain-logloss:0.66299\tvalid-logloss:0.66291\n",
      "[100]\ttrain-logloss:0.23738\tvalid-logloss:0.23805\n",
      "[200]\ttrain-logloss:0.22302\tvalid-logloss:0.22579\n",
      "[300]\ttrain-logloss:0.21699\tvalid-logloss:0.22187\n",
      "[400]\ttrain-logloss:0.21293\tvalid-logloss:0.21977\n",
      "[500]\ttrain-logloss:0.20978\tvalid-logloss:0.21864\n",
      "[600]\ttrain-logloss:0.20708\tvalid-logloss:0.21790\n",
      "[700]\ttrain-logloss:0.20459\tvalid-logloss:0.21735\n",
      "[800]\ttrain-logloss:0.20226\tvalid-logloss:0.21692\n",
      "[900]\ttrain-logloss:0.20009\tvalid-logloss:0.21661\n",
      "[1000]\ttrain-logloss:0.19799\tvalid-logloss:0.21639\n",
      "[1100]\ttrain-logloss:0.19605\tvalid-logloss:0.21622\n",
      "[1200]\ttrain-logloss:0.19405\tvalid-logloss:0.21617\n",
      "[1300]\ttrain-logloss:0.19216\tvalid-logloss:0.21609\n",
      "[1400]\ttrain-logloss:0.19033\tvalid-logloss:0.21604\n",
      "[1500]\ttrain-logloss:0.18853\tvalid-logloss:0.21594\n",
      "[1600]\ttrain-logloss:0.18672\tvalid-logloss:0.21596\n",
      "[1648]\ttrain-logloss:0.18587\tvalid-logloss:0.21593\n",
      "Kaggle Metric = 0.7941232951466368 \n",
      "\n",
      "#########################\n",
      "OVERALL CV Kaggle Metric = 0.7912266422320564\n"
     ]
    }
   ],
   "source": [
    "importances = []\n",
    "oof = []\n",
    "train = train.to_pandas() # free GPU memory\n",
    "TRAIN_SUBSAMPLE = 1.0\n",
    "gc.collect()\n",
    "\n",
    "skf = KFold(n_splits=FOLDS, shuffle=True, random_state=SEED)\n",
    "for fold,(train_idx, valid_idx) in enumerate(skf.split(\n",
    "            train, train.target )):\n",
    "    \n",
    "    # TRAIN WITH SUBSAMPLE OF TRAIN FOLD DATA\n",
    "    if TRAIN_SUBSAMPLE<1.0:\n",
    "        np.random.seed(SEED)\n",
    "        train_idx = np.random.choice(train_idx, \n",
    "                       int(len(train_idx)*TRAIN_SUBSAMPLE), replace=False)\n",
    "        np.random.seed(None)\n",
    "    \n",
    "    print('#'*25)\n",
    "    print('### Fold',fold+1)\n",
    "    print('### Train size',len(train_idx),'Valid size',len(valid_idx))\n",
    "    print(f'### Training with {int(TRAIN_SUBSAMPLE*100)}% fold data...')\n",
    "    print('#'*25)\n",
    "    \n",
    "    # TRAIN, VALID, TEST FOR FOLD K\n",
    "    Xy_train = IterLoadForDMatrix(train.loc[train_idx], FEATURES, 'target')\n",
    "    X_valid = train.loc[valid_idx, FEATURES]\n",
    "    y_valid = train.loc[valid_idx, 'target']\n",
    "    \n",
    "    dtrain = xgb.DeviceQuantileDMatrix(Xy_train, max_bin=256)\n",
    "    dvalid = xgb.DMatrix(data=X_valid, label=y_valid)\n",
    "    \n",
    "    # TRAIN MODEL FOLD K\n",
    "    model = xgb.train(xgb_parms, \n",
    "                dtrain=dtrain,\n",
    "                evals=[(dtrain,'train'),(dvalid,'valid')],\n",
    "                num_boost_round=9999,\n",
    "                early_stopping_rounds=100,\n",
    "                verbose_eval=100) \n",
    "    model.save_model(f'XGB_v{VER}_fold{fold}.xgb')\n",
    "    \n",
    "    # GET FEATURE IMPORTANCE FOR FOLD K\n",
    "    dd = model.get_score(importance_type='weight')\n",
    "    df = pd.DataFrame({'feature':dd.keys(),f'importance_{fold}':dd.values()})\n",
    "    importances.append(df)\n",
    "            \n",
    "    # INFER OOF FOLD K\n",
    "    oof_preds = model.predict(dvalid)\n",
    "    acc = amex_metric_mod(y_valid.values, oof_preds)\n",
    "    print('Kaggle Metric =',acc,'\\n')\n",
    "    \n",
    "    # SAVE OOF\n",
    "    df = train.loc[valid_idx, ['customer_ID','target'] ].copy()\n",
    "    df['oof_pred'] = oof_preds\n",
    "    oof.append( df )\n",
    "    \n",
    "    del dtrain, Xy_train, dd, df\n",
    "    del X_valid, y_valid, dvalid, model\n",
    "    _ = gc.collect()\n",
    "    \n",
    "print('#'*25)\n",
    "oof = pd.concat(oof,axis=0,ignore_index=True).set_index('customer_ID')\n",
    "acc = amex_metric_mod(oof.target.values, oof.oof_pred.values)\n",
    "print('OVERALL CV Kaggle Metric =',acc)"
   ]
  },
  {
   "cell_type": "code",
   "execution_count": 11,
   "id": "3130e711",
   "metadata": {
    "execution": {
     "iopub.execute_input": "2022-07-10T15:41:08.106788Z",
     "iopub.status.busy": "2022-07-10T15:41:08.106481Z",
     "iopub.status.idle": "2022-07-10T15:41:08.241417Z",
     "shell.execute_reply": "2022-07-10T15:41:08.240596Z"
    },
    "papermill": {
     "duration": 0.149669,
     "end_time": "2022-07-10T15:41:08.243126",
     "exception": false,
     "start_time": "2022-07-10T15:41:08.093457",
     "status": "completed"
    },
    "tags": []
   },
   "outputs": [],
   "source": [
    "# CLEAN RAM\n",
    "del train\n",
    "_ = gc.collect()"
   ]
  },
  {
   "cell_type": "markdown",
   "id": "fd965800",
   "metadata": {
    "papermill": {
     "duration": 0.012682,
     "end_time": "2022-07-10T15:41:08.268381",
     "exception": false,
     "start_time": "2022-07-10T15:41:08.255699",
     "status": "completed"
    },
    "tags": []
   },
   "source": [
    "# Save OOF Preds"
   ]
  },
  {
   "cell_type": "code",
   "execution_count": 12,
   "id": "712158ac",
   "metadata": {
    "execution": {
     "iopub.execute_input": "2022-07-10T15:41:08.294376Z",
     "iopub.status.busy": "2022-07-10T15:41:08.294092Z",
     "iopub.status.idle": "2022-07-10T15:41:13.423563Z",
     "shell.execute_reply": "2022-07-10T15:41:13.422713Z"
    },
    "papermill": {
     "duration": 5.14466,
     "end_time": "2022-07-10T15:41:13.425830",
     "exception": false,
     "start_time": "2022-07-10T15:41:08.281170",
     "status": "completed"
    },
    "tags": []
   },
   "outputs": [
    {
     "data": {
      "text/html": [
       "<div>\n",
       "<style scoped>\n",
       "    .dataframe tbody tr th:only-of-type {\n",
       "        vertical-align: middle;\n",
       "    }\n",
       "\n",
       "    .dataframe tbody tr th {\n",
       "        vertical-align: top;\n",
       "    }\n",
       "\n",
       "    .dataframe thead th {\n",
       "        text-align: right;\n",
       "    }\n",
       "</style>\n",
       "<table border=\"1\" class=\"dataframe\">\n",
       "  <thead>\n",
       "    <tr style=\"text-align: right;\">\n",
       "      <th></th>\n",
       "      <th>customer_ID</th>\n",
       "      <th>target</th>\n",
       "      <th>oof_pred</th>\n",
       "    </tr>\n",
       "  </thead>\n",
       "  <tbody>\n",
       "    <tr>\n",
       "      <th>0</th>\n",
       "      <td>20eac26171c3d251c55fc78204e59fab1c15fc2bc96d0c...</td>\n",
       "      <td>1</td>\n",
       "      <td>0.655632</td>\n",
       "    </tr>\n",
       "    <tr>\n",
       "      <th>1</th>\n",
       "      <td>aea50fdf9b974ccec95fa177c3225a0f913483b457de6e...</td>\n",
       "      <td>0</td>\n",
       "      <td>0.000431</td>\n",
       "    </tr>\n",
       "    <tr>\n",
       "      <th>2</th>\n",
       "      <td>32cd2d41aef737b69089882754395925c96eaee1f4a859...</td>\n",
       "      <td>0</td>\n",
       "      <td>0.002933</td>\n",
       "    </tr>\n",
       "    <tr>\n",
       "      <th>3</th>\n",
       "      <td>8daa6d5dc2655a8a437531e6b8b96829113cdfe9bf6cae...</td>\n",
       "      <td>0</td>\n",
       "      <td>0.013865</td>\n",
       "    </tr>\n",
       "    <tr>\n",
       "      <th>4</th>\n",
       "      <td>0ceba351a3851202542feb49d7385bcef32f6037fc57c7...</td>\n",
       "      <td>1</td>\n",
       "      <td>0.788454</td>\n",
       "    </tr>\n",
       "  </tbody>\n",
       "</table>\n",
       "</div>"
      ],
      "text/plain": [
       "                                         customer_ID  target  oof_pred\n",
       "0  20eac26171c3d251c55fc78204e59fab1c15fc2bc96d0c...       1  0.655632\n",
       "1  aea50fdf9b974ccec95fa177c3225a0f913483b457de6e...       0  0.000431\n",
       "2  32cd2d41aef737b69089882754395925c96eaee1f4a859...       0  0.002933\n",
       "3  8daa6d5dc2655a8a437531e6b8b96829113cdfe9bf6cae...       0  0.013865\n",
       "4  0ceba351a3851202542feb49d7385bcef32f6037fc57c7...       1  0.788454"
      ]
     },
     "execution_count": 12,
     "metadata": {},
     "output_type": "execute_result"
    }
   ],
   "source": [
    "oof_xgb = pd.read_parquet(TRAIN_PATH, columns=['customer_ID']).drop_duplicates()\n",
    "oof_xgb['customer_ID_hash'] = oof_xgb['customer_ID'].apply(lambda x: int(x[-16:],16) ).astype('int64')\n",
    "oof_xgb = oof_xgb.set_index('customer_ID_hash')\n",
    "oof_xgb = oof_xgb.merge(oof, left_index=True, right_index=True)\n",
    "oof_xgb = oof_xgb.sort_index().reset_index(drop=True)\n",
    "oof_xgb.to_csv(f'oof_xgb_v{VER}.csv',index=False)\n",
    "oof_xgb.head()"
   ]
  },
  {
   "cell_type": "code",
   "execution_count": 13,
   "id": "1b6cf443",
   "metadata": {
    "execution": {
     "iopub.execute_input": "2022-07-10T15:41:13.456460Z",
     "iopub.status.busy": "2022-07-10T15:41:13.456177Z",
     "iopub.status.idle": "2022-07-10T15:41:13.849886Z",
     "shell.execute_reply": "2022-07-10T15:41:13.848645Z"
    },
    "papermill": {
     "duration": 0.411533,
     "end_time": "2022-07-10T15:41:13.852084",
     "exception": false,
     "start_time": "2022-07-10T15:41:13.440551",
     "status": "completed"
    },
    "tags": []
   },
   "outputs": [
    {
     "data": {
      "image/png": "[encoded data removed]",
      "text/plain": [
       "<Figure size 432x288 with 1 Axes>"
      ]
     },
     "metadata": {
      "needs_background": "light"
     },
     "output_type": "display_data"
    }
   ],
   "source": [
    "# PLOT OOF PREDICTIONS\n",
    "plt.hist(oof_xgb.oof_pred.values, bins=100)\n",
    "plt.title('OOF Predictions')\n",
    "plt.show()"
   ]
  },
  {
   "cell_type": "code",
   "execution_count": 14,
   "id": "720ba22a",
   "metadata": {
    "execution": {
     "iopub.execute_input": "2022-07-10T15:41:13.883206Z",
     "iopub.status.busy": "2022-07-10T15:41:13.882718Z",
     "iopub.status.idle": "2022-07-10T15:41:14.021983Z",
     "shell.execute_reply": "2022-07-10T15:41:14.021163Z"
    },
    "papermill": {
     "duration": 0.156364,
     "end_time": "2022-07-10T15:41:14.023912",
     "exception": false,
     "start_time": "2022-07-10T15:41:13.867548",
     "status": "completed"
    },
    "tags": []
   },
   "outputs": [],
   "source": [
    "# CLEAR VRAM, RAM FOR INFERENCE BELOW\n",
    "del oof_xgb, oof\n",
    "_ = gc.collect()"
   ]
  },
  {
   "cell_type": "markdown",
   "id": "f5a82dfc",
   "metadata": {
    "papermill": {
     "duration": 0.01306,
     "end_time": "2022-07-10T15:41:14.054061",
     "exception": false,
     "start_time": "2022-07-10T15:41:14.041001",
     "status": "completed"
    },
    "tags": []
   },
   "source": [
    "# Feature Importance"
   ]
  },
  {
   "cell_type": "code",
   "execution_count": 15,
   "id": "b5edcbf1",
   "metadata": {
    "execution": {
     "iopub.execute_input": "2022-07-10T15:41:14.081814Z",
     "iopub.status.busy": "2022-07-10T15:41:14.081498Z",
     "iopub.status.idle": "2022-07-10T15:41:14.108917Z",
     "shell.execute_reply": "2022-07-10T15:41:14.108183Z"
    },
    "papermill": {
     "duration": 0.043438,
     "end_time": "2022-07-10T15:41:14.110624",
     "exception": false,
     "start_time": "2022-07-10T15:41:14.067186",
     "status": "completed"
    },
    "tags": []
   },
   "outputs": [],
   "source": [
    "import matplotlib.pyplot as plt\n",
    "\n",
    "df = importances[0].copy()\n",
    "for k in range(1,FOLDS): df = df.merge(importances[k], on='feature', how='left')\n",
    "df['importance'] = df.iloc[:,1:].mean(axis=1)\n",
    "df = df.sort_values('importance',ascending=False)\n",
    "df.to_csv(f'xgb_feature_importance_v{VER}.csv',index=False)"
   ]
  },
  {
   "cell_type": "code",
   "execution_count": 16,
   "id": "3f2b591f",
   "metadata": {
    "execution": {
     "iopub.execute_input": "2022-07-10T15:41:14.137882Z",
     "iopub.status.busy": "2022-07-10T15:41:14.137602Z",
     "iopub.status.idle": "2022-07-10T15:41:14.391373Z",
     "shell.execute_reply": "2022-07-10T15:41:14.390608Z"
    },
    "papermill": {
     "duration": 0.269244,
     "end_time": "2022-07-10T15:41:14.393297",
     "exception": false,
     "start_time": "2022-07-10T15:41:14.124053",
     "status": "completed"
    },
    "tags": []
   },
   "outputs": [
    {
     "data": {
      "image/png": "[encoded data removed]",
      "text/plain": [
       "<Figure size 720x720 with 1 Axes>"
      ]
     },
     "metadata": {
      "needs_background": "light"
     },
     "output_type": "display_data"
    }
   ],
   "source": [
    "NUM_FEATURES = 20\n",
    "plt.figure(figsize=(10,5*NUM_FEATURES//10))\n",
    "plt.barh(np.arange(NUM_FEATURES,0,-1), df.importance.values[:NUM_FEATURES])\n",
    "plt.yticks(np.arange(NUM_FEATURES,0,-1), df.feature.values[:NUM_FEATURES])\n",
    "plt.title(f'XGB Feature Importance - Top {NUM_FEATURES}')\n",
    "plt.show()"
   ]
  },
  {
   "cell_type": "markdown",
   "id": "4d0d9837",
   "metadata": {
    "papermill": {
     "duration": 0.012955,
     "end_time": "2022-07-10T15:41:14.420718",
     "exception": false,
     "start_time": "2022-07-10T15:41:14.407763",
     "status": "completed"
    },
    "tags": []
   },
   "source": [
    "# Process and Feature Engineer Test Data\n",
    "We will load @raddar Kaggle dataset from [here][1] with discussion [here][2]. Then we will engineer features suggested by @huseyincot in his notebooks [here][1] and [here][4]. We will use [RAPIDS][5] and the GPU to create new features quickly.\n",
    "\n",
    "[1]: https://www.kaggle.com/datasets/raddar/amex-data-integer-dtypes-parquet-format\n",
    "[2]: https://www.kaggle.com/competitions/amex-default-prediction/discussion/328514\n",
    "[3]: https://www.kaggle.com/code/huseyincot/amex-catboost-0-793\n",
    "[4]: https://www.kaggle.com/code/huseyincot/amex-agg-data-how-it-created\n",
    "[5]: https://rapids.ai/"
   ]
  },
  {
   "cell_type": "code",
   "execution_count": 17,
   "id": "719b5c71",
   "metadata": {
    "execution": {
     "iopub.execute_input": "2022-07-10T15:41:14.448828Z",
     "iopub.status.busy": "2022-07-10T15:41:14.448521Z",
     "iopub.status.idle": "2022-07-10T15:41:17.168568Z",
     "shell.execute_reply": "2022-07-10T15:41:17.166940Z"
    },
    "papermill": {
     "duration": 2.736715,
     "end_time": "2022-07-10T15:41:17.170512",
     "exception": false,
     "start_time": "2022-07-10T15:41:14.433797",
     "status": "completed"
    },
    "tags": []
   },
   "outputs": [
    {
     "name": "stdout",
     "output_type": "stream",
     "text": [
      "Reading test data...\n",
      "shape of data: (11363762, 2)\n",
      "We will process test data as 4 separate parts.\n",
      "There will be 231155 customers in each part (except the last part).\n",
      "Below are number of rows in each part:\n",
      "[2841209, 2839857, 2842105, 2840591]\n"
     ]
    }
   ],
   "source": [
    "# CALCULATE SIZE OF EACH SEPARATE TEST PART\n",
    "def get_rows(customers, test, NUM_PARTS = 4, verbose = ''):\n",
    "    chunk = len(customers)//NUM_PARTS\n",
    "    if verbose != '':\n",
    "        print(f'We will process {verbose} data as {NUM_PARTS} separate parts.')\n",
    "        print(f'There will be {chunk} customers in each part (except the last part).')\n",
    "        print('Below are number of rows in each part:')\n",
    "    rows = []\n",
    "\n",
    "    for k in range(NUM_PARTS):\n",
    "        if k==NUM_PARTS-1: cc = customers[k*chunk:]\n",
    "        else: cc = customers[k*chunk:(k+1)*chunk]\n",
    "        s = test.loc[test.customer_ID.isin(cc)].shape[0]\n",
    "        rows.append(s)\n",
    "    if verbose != '': print( rows )\n",
    "    return rows,chunk\n",
    "\n",
    "# COMPUTE SIZE OF 4 PARTS FOR TEST DATA\n",
    "NUM_PARTS = 4\n",
    "TEST_PATH = '../input/amex-data-integer-dtypes-parquet-format/test.parquet'\n",
    "\n",
    "print(f'Reading test data...')\n",
    "test = read_file(path = TEST_PATH, usecols = ['customer_ID','S_2'])\n",
    "customers = test[['customer_ID']].drop_duplicates().sort_index().values.flatten()\n",
    "rows,num_cust = get_rows(customers, test[['customer_ID']], NUM_PARTS = NUM_PARTS, verbose = 'test')"
   ]
  },
  {
   "cell_type": "markdown",
   "id": "2943ee16",
   "metadata": {
    "papermill": {
     "duration": 0.013495,
     "end_time": "2022-07-10T15:41:17.198655",
     "exception": false,
     "start_time": "2022-07-10T15:41:17.185160",
     "status": "completed"
    },
    "tags": []
   },
   "source": [
    "# Infer Test"
   ]
  },
  {
   "cell_type": "code",
   "execution_count": 18,
   "id": "0acf64bf",
   "metadata": {
    "execution": {
     "iopub.execute_input": "2022-07-10T15:41:17.227406Z",
     "iopub.status.busy": "2022-07-10T15:41:17.227100Z",
     "iopub.status.idle": "2022-07-10T15:43:56.217107Z",
     "shell.execute_reply": "2022-07-10T15:43:56.216299Z"
    },
    "papermill": {
     "duration": 159.006892,
     "end_time": "2022-07-10T15:43:56.219248",
     "exception": false,
     "start_time": "2022-07-10T15:41:17.212356",
     "status": "completed"
    },
    "tags": []
   },
   "outputs": [
    {
     "name": "stdout",
     "output_type": "stream",
     "text": [
      "\n",
      "Reading test data...\n",
      "shape of data: (11363762, 190)\n",
      "=> Test part 1 has shape (2841209, 190)\n",
      "shape after engineering (231155, 858)\n",
      "\n",
      "Reading test data...\n",
      "shape of data: (11363762, 190)\n",
      "=> Test part 2 has shape (2839857, 190)\n",
      "shape after engineering (231155, 858)\n",
      "\n",
      "Reading test data...\n",
      "shape of data: (11363762, 190)\n",
      "=> Test part 3 has shape (2842105, 190)\n",
      "shape after engineering (231155, 858)\n",
      "\n",
      "Reading test data...\n",
      "shape of data: (11363762, 190)\n",
      "=> Test part 4 has shape (2840591, 190)\n",
      "shape after engineering (231156, 858)\n"
     ]
    }
   ],
   "source": [
    "# INFER TEST DATA IN PARTS\n",
    "skip_rows = 0\n",
    "skip_cust = 0\n",
    "test_preds = []\n",
    "\n",
    "for k in range(NUM_PARTS):\n",
    "    \n",
    "    # READ PART OF TEST DATA\n",
    "    print(f'\\nReading test data...')\n",
    "    test = read_file(path = TEST_PATH)\n",
    "    test = test.iloc[skip_rows:skip_rows+rows[k]]\n",
    "    skip_rows += rows[k]\n",
    "    print(f'=> Test part {k+1} has shape', test.shape )\n",
    "    \n",
    "    # PROCESS AND FEATURE ENGINEER PART OF TEST DATA\n",
    "    test = process_and_feature_engineer(test)\n",
    "    if k==NUM_PARTS-1: test = test.loc[customers[skip_cust:]]\n",
    "    else: test = test.loc[customers[skip_cust:skip_cust+num_cust]]\n",
    "    skip_cust += num_cust\n",
    "    \n",
    "    # TEST DATA FOR XGB\n",
    "    X_test = test[FEATURES]\n",
    "    dtest = xgb.DMatrix(data=X_test)\n",
    "    test = test[['P_2_mean']] # reduce memory\n",
    "    del X_test\n",
    "    gc.collect()\n",
    "\n",
    "    # INFER XGB MODELS ON TEST DATA\n",
    "    model = xgb.Booster()\n",
    "    model.load_model(f'XGB_v{VER}_fold0.xgb')\n",
    "    preds = model.predict(dtest)\n",
    "    for f in range(1,FOLDS):\n",
    "        model.load_model(f'XGB_v{VER}_fold{f}.xgb')\n",
    "        preds += model.predict(dtest)\n",
    "    preds /= FOLDS\n",
    "    test_preds.append(preds)\n",
    "\n",
    "    # CLEAN MEMORY\n",
    "    del dtest, model\n",
    "    _ = gc.collect()"
   ]
  },
  {
   "cell_type": "markdown",
   "id": "b28a596e",
   "metadata": {
    "papermill": {
     "duration": 0.014044,
     "end_time": "2022-07-10T15:43:56.248636",
     "exception": false,
     "start_time": "2022-07-10T15:43:56.234592",
     "status": "completed"
    },
    "tags": []
   },
   "source": [
    "# Create Submission CSV"
   ]
  },
  {
   "cell_type": "code",
   "execution_count": 19,
   "id": "5592cd77",
   "metadata": {
    "execution": {
     "iopub.execute_input": "2022-07-10T15:43:56.278757Z",
     "iopub.status.busy": "2022-07-10T15:43:56.278398Z",
     "iopub.status.idle": "2022-07-10T15:43:57.452407Z",
     "shell.execute_reply": "2022-07-10T15:43:57.451536Z"
    },
    "papermill": {
     "duration": 1.191492,
     "end_time": "2022-07-10T15:43:57.454265",
     "exception": false,
     "start_time": "2022-07-10T15:43:56.262773",
     "status": "completed"
    },
    "tags": []
   },
   "outputs": [
    {
     "name": "stdout",
     "output_type": "stream",
     "text": [
      "Submission file shape is (924621, 2)\n"
     ]
    },
    {
     "data": {
      "text/html": [
       "<div>\n",
       "<style scoped>\n",
       "    .dataframe tbody tr th:only-of-type {\n",
       "        vertical-align: middle;\n",
       "    }\n",
       "\n",
       "    .dataframe tbody tr th {\n",
       "        vertical-align: top;\n",
       "    }\n",
       "\n",
       "    .dataframe thead th {\n",
       "        text-align: right;\n",
       "    }\n",
       "</style>\n",
       "<table border=\"1\" class=\"dataframe\">\n",
       "  <thead>\n",
       "    <tr style=\"text-align: right;\">\n",
       "      <th></th>\n",
       "      <th>customer_ID</th>\n",
       "      <th>prediction</th>\n",
       "    </tr>\n",
       "  </thead>\n",
       "  <tbody>\n",
       "    <tr>\n",
       "      <th>0</th>\n",
       "      <td>0359e97c244bbbbe2db7c21e891debe80e82291f2e470e...</td>\n",
       "      <td>0.002738</td>\n",
       "    </tr>\n",
       "    <tr>\n",
       "      <th>1</th>\n",
       "      <td>035b3479c9020483c00b7dac8f816759bb3aa6fdd8dfab...</td>\n",
       "      <td>0.000363</td>\n",
       "    </tr>\n",
       "    <tr>\n",
       "      <th>2</th>\n",
       "      <td>035a556cc13aae13de7bdcc71c81a1ab27f586f2ddf50e...</td>\n",
       "      <td>0.003026</td>\n",
       "    </tr>\n",
       "    <tr>\n",
       "      <th>3</th>\n",
       "      <td>035bca6744c2fe912b15a0bc6011f3ec679cbc7c60e049...</td>\n",
       "      <td>0.038530</td>\n",
       "    </tr>\n",
       "    <tr>\n",
       "      <th>4</th>\n",
       "      <td>0359f31145b54da7258ed5ff894cbe50dd4302d3d4a1e9...</td>\n",
       "      <td>0.034676</td>\n",
       "    </tr>\n",
       "  </tbody>\n",
       "</table>\n",
       "</div>"
      ],
      "text/plain": [
       "                                         customer_ID  prediction\n",
       "0  0359e97c244bbbbe2db7c21e891debe80e82291f2e470e...    0.002738\n",
       "1  035b3479c9020483c00b7dac8f816759bb3aa6fdd8dfab...    0.000363\n",
       "2  035a556cc13aae13de7bdcc71c81a1ab27f586f2ddf50e...    0.003026\n",
       "3  035bca6744c2fe912b15a0bc6011f3ec679cbc7c60e049...    0.038530\n",
       "4  0359f31145b54da7258ed5ff894cbe50dd4302d3d4a1e9...    0.034676"
      ]
     },
     "execution_count": 19,
     "metadata": {},
     "output_type": "execute_result"
    }
   ],
   "source": [
    "# WRITE SUBMISSION FILE\n",
    "test_preds = np.concatenate(test_preds)\n",
    "test = cudf.DataFrame(index=customers,data={'prediction':test_preds})\n",
    "sub = cudf.read_csv('../input/amex-default-prediction/sample_submission.csv')[['customer_ID']]\n",
    "sub['customer_ID_hash'] = sub['customer_ID'].str[-16:].str.hex_to_int().astype('int64')\n",
    "sub = sub.set_index('customer_ID_hash')\n",
    "sub = sub.merge(test[['prediction']], left_index=True, right_index=True, how='left')\n",
    "sub = sub.reset_index(drop=True)\n",
    "\n",
    "# DISPLAY PREDICTIONS\n",
    "sub.to_csv(f'submission_xgb_v{VER}.csv',index=False)\n",
    "print('Submission file shape is', sub.shape )\n",
    "sub.head()"
   ]
  },
  {
   "cell_type": "code",
   "execution_count": 20,
   "id": "68fd56e7",
   "metadata": {
    "execution": {
     "iopub.execute_input": "2022-07-10T15:43:57.486738Z",
     "iopub.status.busy": "2022-07-10T15:43:57.486459Z",
     "iopub.status.idle": "2022-07-10T15:43:58.188375Z",
     "shell.execute_reply": "2022-07-10T15:43:58.187641Z"
    },
    "papermill": {
     "duration": 0.718978,
     "end_time": "2022-07-10T15:43:58.190081",
     "exception": false,
     "start_time": "2022-07-10T15:43:57.471103",
     "status": "completed"
    },
    "tags": []
   },
   "outputs": [
    {
     "data": {
      "image/png": "[encoded data removed]",
      "text/plain": [
       "<Figure size 432x288 with 1 Axes>"
      ]
     },
     "metadata": {
      "needs_background": "light"
     },
     "output_type": "display_data"
    }
   ],
   "source": [
    "# PLOT PREDICTIONS\n",
    "plt.hist(sub.to_pandas().prediction, bins=100)\n",
    "plt.title('Test Predictions')\n",
    "plt.show()"
   ]
  }
 ],
 "metadata": {
  "kernelspec": {
   "display_name": "Python 3",
   "language": "python",
   "name": "python3"
  },
  "language_info": {
   "codemirror_mode": {
    "name": "ipython",
    "version": 3
   },
   "file_extension": ".py",
   "mimetype": "text/x-python",
   "name": "python",
   "nbconvert_exporter": "python",
   "pygments_lexer": "ipython3",
   "version": "3.7.12"
  },
  "papermill": {
   "default_parameters": {},
   "duration": 706.264635,
   "end_time": "2022-07-10T15:43:59.527281",
   "environment_variables": {},
   "exception": null,
   "input_path": "__notebook__.ipynb",
   "output_path": "__notebook__.ipynb",
   "parameters": {},
   "start_time": "2022-07-10T15:32:13.262646",
   "version": "2.3.4"
  }
 },
 "nbformat": 4,
 "nbformat_minor": 5
}
