{
 "cells": [
  {
   "cell_type": "markdown",
   "id": "9c0cbeb5",
   "metadata": {
    "papermill": {
     "duration": 0.010051,
     "end_time": "2022-06-10T16:43:31.762410",
     "exception": false,
     "start_time": "2022-06-10T16:43:31.752359",
     "status": "completed"
    },
    "tags": []
   },
   "source": [
    "# AMEX EDA"
   ]
  },
  {
   "cell_type": "code",
   "execution_count": 1,
   "id": "b4af264a",
   "metadata": {
    "_cell_guid": "b1076dfc-b9ad-4769-8c92-a6c4dae69d19",
    "_uuid": "8f2839f25d086af736a60e9eeb907d3b93b6e0e5",
    "execution": {
     "iopub.execute_input": "2022-06-10T16:43:31.777310Z",
     "iopub.status.busy": "2022-06-10T16:43:31.776118Z",
     "iopub.status.idle": "2022-06-10T16:43:31.791261Z",
     "shell.execute_reply": "2022-06-10T16:43:31.790218Z"
    },
    "papermill": {
     "duration": 0.025905,
     "end_time": "2022-06-10T16:43:31.794228",
     "exception": false,
     "start_time": "2022-06-10T16:43:31.768323",
     "status": "completed"
    },
    "tags": []
   },
   "outputs": [],
   "source": [
    "import pandas as pd\n",
    "import numpy as np\n",
    "import matplotlib.pyplot as plt"
   ]
  },
  {
   "cell_type": "markdown",
   "id": "9a25ed24",
   "metadata": {
    "papermill": {
     "duration": 0.005131,
     "end_time": "2022-06-10T16:43:31.805165",
     "exception": false,
     "start_time": "2022-06-10T16:43:31.800034",
     "status": "completed"
    },
    "tags": []
   },
   "source": [
    "# 🍙 Load Data"
   ]
  },
  {
   "cell_type": "markdown",
   "id": "ba41082e",
   "metadata": {
    "papermill": {
     "duration": 0.005045,
     "end_time": "2022-06-10T16:43:31.815670",
     "exception": false,
     "start_time": "2022-06-10T16:43:31.810625",
     "status": "completed"
    },
    "tags": []
   },
   "source": [
    "## Data\n",
    "The dataset contains aggregated profile features for each customer at each statement date. Features are anonymized and normalized, and fall into the following general categories:\n",
    "\n",
    "D_* = Delinquency variables  \n",
    "S_* = Spend variables  \n",
    "P_* = Payment variables  \n",
    "B_* = Balance variables  \n",
    "R_* = Risk variables  \n",
    "with the following features being categorical:\n",
    "['B_30', 'B_38', 'D_114', 'D_116', 'D_117', 'D_120', 'D_126', 'D_63', 'D_64', 'D_66', 'D_68']\n",
    "\n",
    "\n",
    "데이터셋이 너무 크기에, @munumbutt's의 [AMEX-feather-Dataset](https://www.kaggle.com/datasets/munumbutt/amexfeather)을 사용하자.\n",
    "유의할점은 부동소수점 정밀도가 64bit에서 16bit로 바뀌었다는 것이다.\n",
    "\n"
   ]
  },
  {
   "cell_type": "code",
   "execution_count": 2,
   "id": "edb62c75",
   "metadata": {
    "execution": {
     "iopub.execute_input": "2022-06-10T16:43:31.828860Z",
     "iopub.status.busy": "2022-06-10T16:43:31.828129Z",
     "iopub.status.idle": "2022-06-10T16:44:34.259399Z",
     "shell.execute_reply": "2022-06-10T16:44:34.258129Z"
    },
    "papermill": {
     "duration": 62.441579,
     "end_time": "2022-06-10T16:44:34.262697",
     "exception": false,
     "start_time": "2022-06-10T16:43:31.821118",
     "status": "completed"
    },
    "tags": []
   },
   "outputs": [],
   "source": [
    "train_data = pd.read_feather('../input/amexfeather/train_data.ftr')\n",
    "test_data = pd.read_feather('../input/amexfeather/test_data.ftr')"
   ]
  },
  {
   "cell_type": "code",
   "execution_count": 3,
   "id": "72456bec",
   "metadata": {
    "execution": {
     "iopub.execute_input": "2022-06-10T16:44:34.277897Z",
     "iopub.status.busy": "2022-06-10T16:44:34.277334Z",
     "iopub.status.idle": "2022-06-10T16:44:34.323660Z",
     "shell.execute_reply": "2022-06-10T16:44:34.322541Z"
    },
    "papermill": {
     "duration": 0.057493,
     "end_time": "2022-06-10T16:44:34.326732",
     "exception": false,
     "start_time": "2022-06-10T16:44:34.269239",
     "status": "completed"
    },
    "tags": []
   },
   "outputs": [
    {
     "data": {
      "text/html": [
       "<div>\n",
       "<style scoped>\n",
       "    .dataframe tbody tr th:only-of-type {\n",
       "        vertical-align: middle;\n",
       "    }\n",
       "\n",
       "    .dataframe tbody tr th {\n",
       "        vertical-align: top;\n",
       "    }\n",
       "\n",
       "    .dataframe thead th {\n",
       "        text-align: right;\n",
       "    }\n",
       "</style>\n",
       "<table border=\"1\" class=\"dataframe\">\n",
       "  <thead>\n",
       "    <tr style=\"text-align: right;\">\n",
       "      <th></th>\n",
       "      <th>customer_ID</th>\n",
       "      <th>S_2</th>\n",
       "      <th>P_2</th>\n",
       "      <th>D_39</th>\n",
       "      <th>B_1</th>\n",
       "      <th>B_2</th>\n",
       "      <th>R_1</th>\n",
       "      <th>S_3</th>\n",
       "      <th>D_41</th>\n",
       "      <th>B_3</th>\n",
       "      <th>...</th>\n",
       "      <th>D_137</th>\n",
       "      <th>D_138</th>\n",
       "      <th>D_139</th>\n",
       "      <th>D_140</th>\n",
       "      <th>D_141</th>\n",
       "      <th>D_142</th>\n",
       "      <th>D_143</th>\n",
       "      <th>D_144</th>\n",
       "      <th>D_145</th>\n",
       "      <th>target</th>\n",
       "    </tr>\n",
       "  </thead>\n",
       "  <tbody>\n",
       "    <tr>\n",
       "      <th>0</th>\n",
       "      <td>0000099d6bd597052cdcda90ffabf56573fe9d7c79be5f...</td>\n",
       "      <td>2017-03-09</td>\n",
       "      <td>0.938477</td>\n",
       "      <td>0.001734</td>\n",
       "      <td>0.008728</td>\n",
       "      <td>1.006836</td>\n",
       "      <td>0.009224</td>\n",
       "      <td>0.124023</td>\n",
       "      <td>0.008774</td>\n",
       "      <td>0.004707</td>\n",
       "      <td>...</td>\n",
       "      <td>NaN</td>\n",
       "      <td>NaN</td>\n",
       "      <td>0.002426</td>\n",
       "      <td>0.003706</td>\n",
       "      <td>0.003819</td>\n",
       "      <td>NaN</td>\n",
       "      <td>0.000569</td>\n",
       "      <td>0.000610</td>\n",
       "      <td>0.002674</td>\n",
       "      <td>0</td>\n",
       "    </tr>\n",
       "    <tr>\n",
       "      <th>1</th>\n",
       "      <td>0000099d6bd597052cdcda90ffabf56573fe9d7c79be5f...</td>\n",
       "      <td>2017-04-07</td>\n",
       "      <td>0.936523</td>\n",
       "      <td>0.005775</td>\n",
       "      <td>0.004925</td>\n",
       "      <td>1.000977</td>\n",
       "      <td>0.006153</td>\n",
       "      <td>0.126709</td>\n",
       "      <td>0.000798</td>\n",
       "      <td>0.002714</td>\n",
       "      <td>...</td>\n",
       "      <td>NaN</td>\n",
       "      <td>NaN</td>\n",
       "      <td>0.003956</td>\n",
       "      <td>0.003166</td>\n",
       "      <td>0.005032</td>\n",
       "      <td>NaN</td>\n",
       "      <td>0.009575</td>\n",
       "      <td>0.005493</td>\n",
       "      <td>0.009216</td>\n",
       "      <td>0</td>\n",
       "    </tr>\n",
       "    <tr>\n",
       "      <th>2</th>\n",
       "      <td>0000099d6bd597052cdcda90ffabf56573fe9d7c79be5f...</td>\n",
       "      <td>2017-05-28</td>\n",
       "      <td>0.954102</td>\n",
       "      <td>0.091492</td>\n",
       "      <td>0.021652</td>\n",
       "      <td>1.009766</td>\n",
       "      <td>0.006817</td>\n",
       "      <td>0.123962</td>\n",
       "      <td>0.007599</td>\n",
       "      <td>0.009422</td>\n",
       "      <td>...</td>\n",
       "      <td>NaN</td>\n",
       "      <td>NaN</td>\n",
       "      <td>0.003269</td>\n",
       "      <td>0.007328</td>\n",
       "      <td>0.000427</td>\n",
       "      <td>NaN</td>\n",
       "      <td>0.003429</td>\n",
       "      <td>0.006985</td>\n",
       "      <td>0.002604</td>\n",
       "      <td>0</td>\n",
       "    </tr>\n",
       "    <tr>\n",
       "      <th>3</th>\n",
       "      <td>0000099d6bd597052cdcda90ffabf56573fe9d7c79be5f...</td>\n",
       "      <td>2017-06-13</td>\n",
       "      <td>0.960449</td>\n",
       "      <td>0.002455</td>\n",
       "      <td>0.013687</td>\n",
       "      <td>1.002930</td>\n",
       "      <td>0.001372</td>\n",
       "      <td>0.117188</td>\n",
       "      <td>0.000685</td>\n",
       "      <td>0.005531</td>\n",
       "      <td>...</td>\n",
       "      <td>NaN</td>\n",
       "      <td>NaN</td>\n",
       "      <td>0.006119</td>\n",
       "      <td>0.004517</td>\n",
       "      <td>0.003201</td>\n",
       "      <td>NaN</td>\n",
       "      <td>0.008423</td>\n",
       "      <td>0.006527</td>\n",
       "      <td>0.009598</td>\n",
       "      <td>0</td>\n",
       "    </tr>\n",
       "    <tr>\n",
       "      <th>4</th>\n",
       "      <td>0000099d6bd597052cdcda90ffabf56573fe9d7c79be5f...</td>\n",
       "      <td>2017-07-16</td>\n",
       "      <td>0.947266</td>\n",
       "      <td>0.002483</td>\n",
       "      <td>0.015190</td>\n",
       "      <td>1.000977</td>\n",
       "      <td>0.007607</td>\n",
       "      <td>0.117310</td>\n",
       "      <td>0.004654</td>\n",
       "      <td>0.009308</td>\n",
       "      <td>...</td>\n",
       "      <td>NaN</td>\n",
       "      <td>NaN</td>\n",
       "      <td>0.003672</td>\n",
       "      <td>0.004944</td>\n",
       "      <td>0.008888</td>\n",
       "      <td>NaN</td>\n",
       "      <td>0.001670</td>\n",
       "      <td>0.008125</td>\n",
       "      <td>0.009827</td>\n",
       "      <td>0</td>\n",
       "    </tr>\n",
       "  </tbody>\n",
       "</table>\n",
       "<p>5 rows × 191 columns</p>\n",
       "</div>"
      ],
      "text/plain": [
       "                                         customer_ID        S_2       P_2  \\\n",
       "0  0000099d6bd597052cdcda90ffabf56573fe9d7c79be5f... 2017-03-09  0.938477   \n",
       "1  0000099d6bd597052cdcda90ffabf56573fe9d7c79be5f... 2017-04-07  0.936523   \n",
       "2  0000099d6bd597052cdcda90ffabf56573fe9d7c79be5f... 2017-05-28  0.954102   \n",
       "3  0000099d6bd597052cdcda90ffabf56573fe9d7c79be5f... 2017-06-13  0.960449   \n",
       "4  0000099d6bd597052cdcda90ffabf56573fe9d7c79be5f... 2017-07-16  0.947266   \n",
       "\n",
       "       D_39       B_1       B_2       R_1       S_3      D_41       B_3  ...  \\\n",
       "0  0.001734  0.008728  1.006836  0.009224  0.124023  0.008774  0.004707  ...   \n",
       "1  0.005775  0.004925  1.000977  0.006153  0.126709  0.000798  0.002714  ...   \n",
       "2  0.091492  0.021652  1.009766  0.006817  0.123962  0.007599  0.009422  ...   \n",
       "3  0.002455  0.013687  1.002930  0.001372  0.117188  0.000685  0.005531  ...   \n",
       "4  0.002483  0.015190  1.000977  0.007607  0.117310  0.004654  0.009308  ...   \n",
       "\n",
       "   D_137  D_138     D_139     D_140     D_141  D_142     D_143     D_144  \\\n",
       "0    NaN    NaN  0.002426  0.003706  0.003819    NaN  0.000569  0.000610   \n",
       "1    NaN    NaN  0.003956  0.003166  0.005032    NaN  0.009575  0.005493   \n",
       "2    NaN    NaN  0.003269  0.007328  0.000427    NaN  0.003429  0.006985   \n",
       "3    NaN    NaN  0.006119  0.004517  0.003201    NaN  0.008423  0.006527   \n",
       "4    NaN    NaN  0.003672  0.004944  0.008888    NaN  0.001670  0.008125   \n",
       "\n",
       "      D_145  target  \n",
       "0  0.002674       0  \n",
       "1  0.009216       0  \n",
       "2  0.002604       0  \n",
       "3  0.009598       0  \n",
       "4  0.009827       0  \n",
       "\n",
       "[5 rows x 191 columns]"
      ]
     },
     "execution_count": 3,
     "metadata": {},
     "output_type": "execute_result"
    }
   ],
   "source": [
    "train_data.head()"
   ]
  },
  {
   "cell_type": "code",
   "execution_count": 4,
   "id": "5197bc4b",
   "metadata": {
    "execution": {
     "iopub.execute_input": "2022-06-10T16:44:34.342270Z",
     "iopub.status.busy": "2022-06-10T16:44:34.341015Z",
     "iopub.status.idle": "2022-06-10T16:44:34.372614Z",
     "shell.execute_reply": "2022-06-10T16:44:34.370936Z"
    },
    "papermill": {
     "duration": 0.043025,
     "end_time": "2022-06-10T16:44:34.376014",
     "exception": false,
     "start_time": "2022-06-10T16:44:34.332989",
     "status": "completed"
    },
    "tags": []
   },
   "outputs": [
    {
     "data": {
      "text/html": [
       "<div>\n",
       "<style scoped>\n",
       "    .dataframe tbody tr th:only-of-type {\n",
       "        vertical-align: middle;\n",
       "    }\n",
       "\n",
       "    .dataframe tbody tr th {\n",
       "        vertical-align: top;\n",
       "    }\n",
       "\n",
       "    .dataframe thead th {\n",
       "        text-align: right;\n",
       "    }\n",
       "</style>\n",
       "<table border=\"1\" class=\"dataframe\">\n",
       "  <thead>\n",
       "    <tr style=\"text-align: right;\">\n",
       "      <th></th>\n",
       "      <th>customer_ID</th>\n",
       "      <th>S_2</th>\n",
       "      <th>P_2</th>\n",
       "      <th>D_39</th>\n",
       "      <th>B_1</th>\n",
       "      <th>B_2</th>\n",
       "      <th>R_1</th>\n",
       "      <th>S_3</th>\n",
       "      <th>D_41</th>\n",
       "      <th>B_3</th>\n",
       "      <th>...</th>\n",
       "      <th>D_136</th>\n",
       "      <th>D_137</th>\n",
       "      <th>D_138</th>\n",
       "      <th>D_139</th>\n",
       "      <th>D_140</th>\n",
       "      <th>D_141</th>\n",
       "      <th>D_142</th>\n",
       "      <th>D_143</th>\n",
       "      <th>D_144</th>\n",
       "      <th>D_145</th>\n",
       "    </tr>\n",
       "  </thead>\n",
       "  <tbody>\n",
       "    <tr>\n",
       "      <th>0</th>\n",
       "      <td>00000469ba478561f23a92a868bd366de6f6527a684c9a...</td>\n",
       "      <td>2019-02-19</td>\n",
       "      <td>0.631348</td>\n",
       "      <td>0.001912</td>\n",
       "      <td>0.010727</td>\n",
       "      <td>0.814453</td>\n",
       "      <td>0.007545</td>\n",
       "      <td>0.168701</td>\n",
       "      <td>0.009972</td>\n",
       "      <td>0.002348</td>\n",
       "      <td>...</td>\n",
       "      <td>NaN</td>\n",
       "      <td>NaN</td>\n",
       "      <td>NaN</td>\n",
       "      <td>NaN</td>\n",
       "      <td>0.004669</td>\n",
       "      <td>NaN</td>\n",
       "      <td>NaN</td>\n",
       "      <td>NaN</td>\n",
       "      <td>0.008278</td>\n",
       "      <td>NaN</td>\n",
       "    </tr>\n",
       "    <tr>\n",
       "      <th>1</th>\n",
       "      <td>00000469ba478561f23a92a868bd366de6f6527a684c9a...</td>\n",
       "      <td>2019-03-25</td>\n",
       "      <td>0.586914</td>\n",
       "      <td>0.005276</td>\n",
       "      <td>0.011024</td>\n",
       "      <td>0.811035</td>\n",
       "      <td>0.001817</td>\n",
       "      <td>0.241333</td>\n",
       "      <td>0.000166</td>\n",
       "      <td>0.009132</td>\n",
       "      <td>...</td>\n",
       "      <td>NaN</td>\n",
       "      <td>NaN</td>\n",
       "      <td>NaN</td>\n",
       "      <td>0.000142</td>\n",
       "      <td>0.004940</td>\n",
       "      <td>0.009018</td>\n",
       "      <td>NaN</td>\n",
       "      <td>0.003695</td>\n",
       "      <td>0.003754</td>\n",
       "      <td>0.001460</td>\n",
       "    </tr>\n",
       "    <tr>\n",
       "      <th>2</th>\n",
       "      <td>00000469ba478561f23a92a868bd366de6f6527a684c9a...</td>\n",
       "      <td>2019-04-25</td>\n",
       "      <td>0.608887</td>\n",
       "      <td>0.003326</td>\n",
       "      <td>0.016388</td>\n",
       "      <td>1.004883</td>\n",
       "      <td>0.000114</td>\n",
       "      <td>0.267090</td>\n",
       "      <td>0.004196</td>\n",
       "      <td>0.004192</td>\n",
       "      <td>...</td>\n",
       "      <td>NaN</td>\n",
       "      <td>NaN</td>\n",
       "      <td>NaN</td>\n",
       "      <td>0.000074</td>\n",
       "      <td>0.002113</td>\n",
       "      <td>0.004658</td>\n",
       "      <td>NaN</td>\n",
       "      <td>0.003155</td>\n",
       "      <td>0.002155</td>\n",
       "      <td>0.006481</td>\n",
       "    </tr>\n",
       "    <tr>\n",
       "      <th>3</th>\n",
       "      <td>00000469ba478561f23a92a868bd366de6f6527a684c9a...</td>\n",
       "      <td>2019-05-20</td>\n",
       "      <td>0.614746</td>\n",
       "      <td>0.009064</td>\n",
       "      <td>0.021667</td>\n",
       "      <td>0.816406</td>\n",
       "      <td>0.009720</td>\n",
       "      <td>0.188965</td>\n",
       "      <td>0.004124</td>\n",
       "      <td>0.015327</td>\n",
       "      <td>...</td>\n",
       "      <td>NaN</td>\n",
       "      <td>NaN</td>\n",
       "      <td>NaN</td>\n",
       "      <td>0.004742</td>\n",
       "      <td>0.006393</td>\n",
       "      <td>0.002890</td>\n",
       "      <td>NaN</td>\n",
       "      <td>0.006042</td>\n",
       "      <td>0.005207</td>\n",
       "      <td>0.007858</td>\n",
       "    </tr>\n",
       "    <tr>\n",
       "      <th>4</th>\n",
       "      <td>00000469ba478561f23a92a868bd366de6f6527a684c9a...</td>\n",
       "      <td>2019-06-15</td>\n",
       "      <td>0.591797</td>\n",
       "      <td>0.238770</td>\n",
       "      <td>0.015930</td>\n",
       "      <td>0.810547</td>\n",
       "      <td>0.002026</td>\n",
       "      <td>0.180054</td>\n",
       "      <td>0.000731</td>\n",
       "      <td>0.011284</td>\n",
       "      <td>...</td>\n",
       "      <td>NaN</td>\n",
       "      <td>NaN</td>\n",
       "      <td>NaN</td>\n",
       "      <td>0.008133</td>\n",
       "      <td>0.004330</td>\n",
       "      <td>0.008385</td>\n",
       "      <td>NaN</td>\n",
       "      <td>0.001008</td>\n",
       "      <td>0.007420</td>\n",
       "      <td>0.009468</td>\n",
       "    </tr>\n",
       "  </tbody>\n",
       "</table>\n",
       "<p>5 rows × 190 columns</p>\n",
       "</div>"
      ],
      "text/plain": [
       "                                         customer_ID        S_2       P_2  \\\n",
       "0  00000469ba478561f23a92a868bd366de6f6527a684c9a... 2019-02-19  0.631348   \n",
       "1  00000469ba478561f23a92a868bd366de6f6527a684c9a... 2019-03-25  0.586914   \n",
       "2  00000469ba478561f23a92a868bd366de6f6527a684c9a... 2019-04-25  0.608887   \n",
       "3  00000469ba478561f23a92a868bd366de6f6527a684c9a... 2019-05-20  0.614746   \n",
       "4  00000469ba478561f23a92a868bd366de6f6527a684c9a... 2019-06-15  0.591797   \n",
       "\n",
       "       D_39       B_1       B_2       R_1       S_3      D_41       B_3  ...  \\\n",
       "0  0.001912  0.010727  0.814453  0.007545  0.168701  0.009972  0.002348  ...   \n",
       "1  0.005276  0.011024  0.811035  0.001817  0.241333  0.000166  0.009132  ...   \n",
       "2  0.003326  0.016388  1.004883  0.000114  0.267090  0.004196  0.004192  ...   \n",
       "3  0.009064  0.021667  0.816406  0.009720  0.188965  0.004124  0.015327  ...   \n",
       "4  0.238770  0.015930  0.810547  0.002026  0.180054  0.000731  0.011284  ...   \n",
       "\n",
       "   D_136  D_137  D_138     D_139     D_140     D_141  D_142     D_143  \\\n",
       "0    NaN    NaN    NaN       NaN  0.004669       NaN    NaN       NaN   \n",
       "1    NaN    NaN    NaN  0.000142  0.004940  0.009018    NaN  0.003695   \n",
       "2    NaN    NaN    NaN  0.000074  0.002113  0.004658    NaN  0.003155   \n",
       "3    NaN    NaN    NaN  0.004742  0.006393  0.002890    NaN  0.006042   \n",
       "4    NaN    NaN    NaN  0.008133  0.004330  0.008385    NaN  0.001008   \n",
       "\n",
       "      D_144     D_145  \n",
       "0  0.008278       NaN  \n",
       "1  0.003754  0.001460  \n",
       "2  0.002155  0.006481  \n",
       "3  0.005207  0.007858  \n",
       "4  0.007420  0.009468  \n",
       "\n",
       "[5 rows x 190 columns]"
      ]
     },
     "execution_count": 4,
     "metadata": {},
     "output_type": "execute_result"
    }
   ],
   "source": [
    "test_data.head()"
   ]
  },
  {
   "cell_type": "markdown",
   "id": "97bd0586",
   "metadata": {
    "papermill": {
     "duration": 0.006488,
     "end_time": "2022-06-10T16:44:34.390399",
     "exception": false,
     "start_time": "2022-06-10T16:44:34.383911",
     "status": "completed"
    },
    "tags": []
   },
   "source": [
    "train_data의 target colum은 train_labels.csv의 customer_ID의 정보와 같다. 원래(train_data.csv)는 없는 열이나, 편의상 붙여놓았다."
   ]
  },
  {
   "cell_type": "code",
   "execution_count": 5,
   "id": "898ca14f",
   "metadata": {
    "execution": {
     "iopub.execute_input": "2022-06-10T16:44:34.405762Z",
     "iopub.status.busy": "2022-06-10T16:44:34.404796Z",
     "iopub.status.idle": "2022-06-10T16:44:34.594317Z",
     "shell.execute_reply": "2022-06-10T16:44:34.593098Z"
    },
    "papermill": {
     "duration": 0.200664,
     "end_time": "2022-06-10T16:44:34.597562",
     "exception": false,
     "start_time": "2022-06-10T16:44:34.396898",
     "status": "completed"
    },
    "tags": []
   },
   "outputs": [
    {
     "name": "stdout",
     "output_type": "stream",
     "text": [
      "Train statement dates:  2017-03-01 00:00:00 2018-03-31 00:00:00 False\n",
      "Test statement dates:  2018-04-01 00:00:00 2019-10-31 00:00:00 False\n"
     ]
    }
   ],
   "source": [
    "print(\"Train statement dates: \", train_data.S_2.min(), train_data.S_2.max(), train_data.S_2.isna().any())\n",
    "print(\"Test statement dates: \", test_data.S_2.min(), test_data.S_2.max(), test_data.S_2.isna().any())"
   ]
  },
  {
   "cell_type": "markdown",
   "id": "c693d163",
   "metadata": {
    "execution": {
     "iopub.execute_input": "2022-06-10T16:42:41.577412Z",
     "iopub.status.busy": "2022-06-10T16:42:41.576542Z",
     "iopub.status.idle": "2022-06-10T16:42:41.583494Z",
     "shell.execute_reply": "2022-06-10T16:42:41.582525Z",
     "shell.execute_reply.started": "2022-06-10T16:42:41.577376Z"
    },
    "papermill": {
     "duration": 0.006044,
     "end_time": "2022-06-10T16:44:34.611379",
     "exception": false,
     "start_time": "2022-06-10T16:44:34.605335",
     "status": "completed"
    },
    "tags": []
   },
   "source": [
    "여기서 S_2는 statement data (청구일)이며 train data의 경우 2017.03.01 ~ 2018.03.31 (13개월), test data의 경우 2018.04.01 ~ 2019.10.31 (17개월)이다.\n",
    "missing data는 없다."
   ]
  },
  {
   "cell_type": "markdown",
   "id": "06224c25",
   "metadata": {
    "papermill": {
     "duration": 0.006046,
     "end_time": "2022-06-10T16:44:34.623935",
     "exception": false,
     "start_time": "2022-06-10T16:44:34.617889",
     "status": "completed"
    },
    "tags": []
   },
   "source": [
    "## Label\n",
    "\n",
    "missing 데이터나 중복되는 customer_ID는 없다. \n",
    "458913의 customer_IDs 중 340,085(74.1%)가 label 0(good)를 가졌으며 나머지 118,828(25.9%)가 label 1(bad)을 가지고 있다.\n",
    "[여기](https://www.kaggle.com/competitions/amex-default-prediction/data)에 다음과 같이 나와있듯이\n",
    "> Note that the negative class has been subsampled for this dataset at 5%, and thus receives a 20x weighting in the scoring metric.\n",
    "\n",
    "실제로는 680만 명이 좋은 고객 (98.2%)이며, 1.8%가 나쁜 고객임을 알 수 있다."
   ]
  },
  {
   "cell_type": "code",
   "execution_count": 6,
   "id": "a9fd92bb",
   "metadata": {
    "execution": {
     "iopub.execute_input": "2022-06-10T16:44:34.639210Z",
     "iopub.status.busy": "2022-06-10T16:44:34.638308Z",
     "iopub.status.idle": "2022-06-10T16:44:35.915104Z",
     "shell.execute_reply": "2022-06-10T16:44:35.914003Z"
    },
    "papermill": {
     "duration": 1.287033,
     "end_time": "2022-06-10T16:44:35.917485",
     "exception": false,
     "start_time": "2022-06-10T16:44:34.630452",
     "status": "completed"
    },
    "tags": []
   },
   "outputs": [
    {
     "data": {
      "text/html": [
       "<div>\n",
       "<style scoped>\n",
       "    .dataframe tbody tr th:only-of-type {\n",
       "        vertical-align: middle;\n",
       "    }\n",
       "\n",
       "    .dataframe tbody tr th {\n",
       "        vertical-align: top;\n",
       "    }\n",
       "\n",
       "    .dataframe thead th {\n",
       "        text-align: right;\n",
       "    }\n",
       "</style>\n",
       "<table border=\"1\" class=\"dataframe\">\n",
       "  <thead>\n",
       "    <tr style=\"text-align: right;\">\n",
       "      <th></th>\n",
       "      <th>customer_ID</th>\n",
       "      <th>target</th>\n",
       "    </tr>\n",
       "  </thead>\n",
       "  <tbody>\n",
       "    <tr>\n",
       "      <th>0</th>\n",
       "      <td>0000099d6bd597052cdcda90ffabf56573fe9d7c79be5f...</td>\n",
       "      <td>0</td>\n",
       "    </tr>\n",
       "    <tr>\n",
       "      <th>1</th>\n",
       "      <td>00000fd6641609c6ece5454664794f0340ad84dddce9a2...</td>\n",
       "      <td>0</td>\n",
       "    </tr>\n",
       "    <tr>\n",
       "      <th>2</th>\n",
       "      <td>00001b22f846c82c51f6e3958ccd81970162bae8b007e8...</td>\n",
       "      <td>0</td>\n",
       "    </tr>\n",
       "    <tr>\n",
       "      <th>3</th>\n",
       "      <td>000041bdba6ecadd89a52d11886e8eaaec9325906c9723...</td>\n",
       "      <td>0</td>\n",
       "    </tr>\n",
       "    <tr>\n",
       "      <th>4</th>\n",
       "      <td>00007889e4fcd2614b6cbe7f8f3d2e5c728eca32d9eb8a...</td>\n",
       "      <td>0</td>\n",
       "    </tr>\n",
       "    <tr>\n",
       "      <th>...</th>\n",
       "      <td>...</td>\n",
       "      <td>...</td>\n",
       "    </tr>\n",
       "    <tr>\n",
       "      <th>458908</th>\n",
       "      <td>ffff41c8a52833b56430603969b9ca48d208e7c192c6a4...</td>\n",
       "      <td>0</td>\n",
       "    </tr>\n",
       "    <tr>\n",
       "      <th>458909</th>\n",
       "      <td>ffff518bb2075e4816ee3fe9f3b152c57fc0e6f01bf7fd...</td>\n",
       "      <td>0</td>\n",
       "    </tr>\n",
       "    <tr>\n",
       "      <th>458910</th>\n",
       "      <td>ffff9984b999fccb2b6127635ed0736dda94e544e67e02...</td>\n",
       "      <td>0</td>\n",
       "    </tr>\n",
       "    <tr>\n",
       "      <th>458911</th>\n",
       "      <td>ffffa5c46bc8de74f5a4554e74e239c8dee6b9baf38814...</td>\n",
       "      <td>1</td>\n",
       "    </tr>\n",
       "    <tr>\n",
       "      <th>458912</th>\n",
       "      <td>fffff1d38b785cef84adeace64f8f83db3a0c31e8d92ea...</td>\n",
       "      <td>0</td>\n",
       "    </tr>\n",
       "  </tbody>\n",
       "</table>\n",
       "<p>458913 rows × 2 columns</p>\n",
       "</div>"
      ],
      "text/plain": [
       "                                              customer_ID  target\n",
       "0       0000099d6bd597052cdcda90ffabf56573fe9d7c79be5f...       0\n",
       "1       00000fd6641609c6ece5454664794f0340ad84dddce9a2...       0\n",
       "2       00001b22f846c82c51f6e3958ccd81970162bae8b007e8...       0\n",
       "3       000041bdba6ecadd89a52d11886e8eaaec9325906c9723...       0\n",
       "4       00007889e4fcd2614b6cbe7f8f3d2e5c728eca32d9eb8a...       0\n",
       "...                                                   ...     ...\n",
       "458908  ffff41c8a52833b56430603969b9ca48d208e7c192c6a4...       0\n",
       "458909  ffff518bb2075e4816ee3fe9f3b152c57fc0e6f01bf7fd...       0\n",
       "458910  ffff9984b999fccb2b6127635ed0736dda94e544e67e02...       0\n",
       "458911  ffffa5c46bc8de74f5a4554e74e239c8dee6b9baf38814...       1\n",
       "458912  fffff1d38b785cef84adeace64f8f83db3a0c31e8d92ea...       0\n",
       "\n",
       "[458913 rows x 2 columns]"
      ]
     },
     "execution_count": 6,
     "metadata": {},
     "output_type": "execute_result"
    }
   ],
   "source": [
    "train_labels = pd.read_csv('../input/amex-default-prediction/train_labels.csv')\n",
    "train_labels"
   ]
  },
  {
   "cell_type": "code",
   "execution_count": 7,
   "id": "4d1e6145",
   "metadata": {
    "execution": {
     "iopub.execute_input": "2022-06-10T16:44:35.932550Z",
     "iopub.status.busy": "2022-06-10T16:44:35.932084Z",
     "iopub.status.idle": "2022-06-10T16:44:36.096764Z",
     "shell.execute_reply": "2022-06-10T16:44:36.095656Z"
    },
    "papermill": {
     "duration": 0.175224,
     "end_time": "2022-06-10T16:44:36.099289",
     "exception": false,
     "start_time": "2022-06-10T16:44:35.924065",
     "status": "completed"
    },
    "tags": []
   },
   "outputs": [
    {
     "data": {
      "text/plain": [
       "(customer_ID    False\n",
       " target         False\n",
       " dtype: bool,\n",
       " False)"
      ]
     },
     "execution_count": 7,
     "metadata": {},
     "output_type": "execute_result"
    }
   ],
   "source": [
    "# missing 과 중복 체크\n",
    "train_labels.isna().any(), train_labels.customer_ID.duplicated().any()"
   ]
  },
  {
   "cell_type": "code",
   "execution_count": 8,
   "id": "b3a20ef6",
   "metadata": {
    "execution": {
     "iopub.execute_input": "2022-06-10T16:44:36.115073Z",
     "iopub.status.busy": "2022-06-10T16:44:36.114563Z",
     "iopub.status.idle": "2022-06-10T16:44:36.134064Z",
     "shell.execute_reply": "2022-06-10T16:44:36.132884Z"
    },
    "papermill": {
     "duration": 0.030482,
     "end_time": "2022-06-10T16:44:36.136637",
     "exception": false,
     "start_time": "2022-06-10T16:44:36.106155",
     "status": "completed"
    },
    "tags": []
   },
   "outputs": [],
   "source": [
    "label_stats = pd.DataFrame({'absolute':train_labels.target.value_counts(), \n",
    "                            'relative':train_labels.target.value_counts()/len(train_labels)})\n",
    "label_stats['absolute upsampled'] = label_stats.absolute * np.array([20, 1])\n",
    "label_stats['relative upsampled'] = label_stats['absolute upsampled'] / label_stats['absolute upsampled'].sum()"
   ]
  },
  {
   "cell_type": "code",
   "execution_count": 9,
   "id": "ffa674f3",
   "metadata": {
    "execution": {
     "iopub.execute_input": "2022-06-10T16:44:36.152481Z",
     "iopub.status.busy": "2022-06-10T16:44:36.151991Z",
     "iopub.status.idle": "2022-06-10T16:44:36.164319Z",
     "shell.execute_reply": "2022-06-10T16:44:36.163203Z"
    },
    "papermill": {
     "duration": 0.022877,
     "end_time": "2022-06-10T16:44:36.166539",
     "exception": false,
     "start_time": "2022-06-10T16:44:36.143662",
     "status": "completed"
    },
    "tags": []
   },
   "outputs": [
    {
     "data": {
      "text/html": [
       "<div>\n",
       "<style scoped>\n",
       "    .dataframe tbody tr th:only-of-type {\n",
       "        vertical-align: middle;\n",
       "    }\n",
       "\n",
       "    .dataframe tbody tr th {\n",
       "        vertical-align: top;\n",
       "    }\n",
       "\n",
       "    .dataframe thead th {\n",
       "        text-align: right;\n",
       "    }\n",
       "</style>\n",
       "<table border=\"1\" class=\"dataframe\">\n",
       "  <thead>\n",
       "    <tr style=\"text-align: right;\">\n",
       "      <th></th>\n",
       "      <th>absolute</th>\n",
       "      <th>relative</th>\n",
       "      <th>absolute upsampled</th>\n",
       "      <th>relative upsampled</th>\n",
       "    </tr>\n",
       "  </thead>\n",
       "  <tbody>\n",
       "    <tr>\n",
       "      <th>0</th>\n",
       "      <td>340085</td>\n",
       "      <td>0.741066</td>\n",
       "      <td>6801700</td>\n",
       "      <td>0.98283</td>\n",
       "    </tr>\n",
       "    <tr>\n",
       "      <th>1</th>\n",
       "      <td>118828</td>\n",
       "      <td>0.258934</td>\n",
       "      <td>118828</td>\n",
       "      <td>0.01717</td>\n",
       "    </tr>\n",
       "  </tbody>\n",
       "</table>\n",
       "</div>"
      ],
      "text/plain": [
       "   absolute  relative  absolute upsampled  relative upsampled\n",
       "0    340085  0.741066             6801700             0.98283\n",
       "1    118828  0.258934              118828             0.01717"
      ]
     },
     "execution_count": 9,
     "metadata": {},
     "output_type": "execute_result"
    }
   ],
   "source": [
    "label_stats"
   ]
  },
  {
   "cell_type": "code",
   "execution_count": null,
   "id": "4ef2faed",
   "metadata": {
    "papermill": {
     "duration": 0.006878,
     "end_time": "2022-06-10T16:44:36.180636",
     "exception": false,
     "start_time": "2022-06-10T16:44:36.173758",
     "status": "completed"
    },
    "tags": []
   },
   "outputs": [],
   "source": []
  },
  {
   "cell_type": "code",
   "execution_count": null,
   "id": "1719554a",
   "metadata": {
    "papermill": {
     "duration": 0.00663,
     "end_time": "2022-06-10T16:44:36.194650",
     "exception": false,
     "start_time": "2022-06-10T16:44:36.188020",
     "status": "completed"
    },
    "tags": []
   },
   "outputs": [],
   "source": []
  },
  {
   "cell_type": "code",
   "execution_count": null,
   "id": "d7bb70ad",
   "metadata": {
    "papermill": {
     "duration": 0.006487,
     "end_time": "2022-06-10T16:44:36.208112",
     "exception": false,
     "start_time": "2022-06-10T16:44:36.201625",
     "status": "completed"
    },
    "tags": []
   },
   "outputs": [],
   "source": []
  }
 ],
 "metadata": {
  "kernelspec": {
   "display_name": "Python 3",
   "language": "python",
   "name": "python3"
  },
  "language_info": {
   "codemirror_mode": {
    "name": "ipython",
    "version": 3
   },
   "file_extension": ".py",
   "mimetype": "text/x-python",
   "name": "python",
   "nbconvert_exporter": "python",
   "pygments_lexer": "ipython3",
   "version": "3.7.12"
  },
  "papermill": {
   "default_parameters": {},
   "duration": 79.656777,
   "end_time": "2022-06-10T16:44:37.543691",
   "environment_variables": {},
   "exception": null,
   "input_path": "__notebook__.ipynb",
   "output_path": "__notebook__.ipynb",
   "parameters": {},
   "start_time": "2022-06-10T16:43:17.886914",
   "version": "2.3.4"
  }
 },
 "nbformat": 4,
 "nbformat_minor": 5
}
