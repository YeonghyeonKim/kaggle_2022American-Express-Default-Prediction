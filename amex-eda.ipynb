{
 "cells": [
  {
   "cell_type": "markdown",
   "id": "fb5a7980",
   "metadata": {
    "papermill": {
     "duration": 0.013559,
     "end_time": "2022-06-12T14:11:21.115802",
     "exception": false,
     "start_time": "2022-06-12T14:11:21.102243",
     "status": "completed"
    },
    "tags": []
   },
   "source": [
    "# AMEX EDA"
   ]
  },
  {
   "cell_type": "code",
   "execution_count": 1,
   "id": "6c367335",
   "metadata": {
    "_cell_guid": "b1076dfc-b9ad-4769-8c92-a6c4dae69d19",
    "_uuid": "8f2839f25d086af736a60e9eeb907d3b93b6e0e5",
    "execution": {
     "iopub.execute_input": "2022-06-12T14:11:21.136707Z",
     "iopub.status.busy": "2022-06-12T14:11:21.136014Z",
     "iopub.status.idle": "2022-06-12T14:11:21.147008Z",
     "shell.execute_reply": "2022-06-12T14:11:21.146209Z"
    },
    "papermill": {
     "duration": 0.023723,
     "end_time": "2022-06-12T14:11:21.149201",
     "exception": false,
     "start_time": "2022-06-12T14:11:21.125478",
     "status": "completed"
    },
    "tags": []
   },
   "outputs": [],
   "source": [
    "import pandas as pd\n",
    "import numpy as np\n",
    "import matplotlib.pyplot as plt"
   ]
  },
  {
   "cell_type": "markdown",
   "id": "a925a3c3",
   "metadata": {
    "papermill": {
     "duration": 0.008592,
     "end_time": "2022-06-12T14:11:21.166536",
     "exception": false,
     "start_time": "2022-06-12T14:11:21.157944",
     "status": "completed"
    },
    "tags": []
   },
   "source": [
    "# 🍙 Load Data"
   ]
  },
  {
   "cell_type": "markdown",
   "id": "e47a2113",
   "metadata": {
    "papermill": {
     "duration": 0.008476,
     "end_time": "2022-06-12T14:11:21.183807",
     "exception": false,
     "start_time": "2022-06-12T14:11:21.175331",
     "status": "completed"
    },
    "tags": []
   },
   "source": [
    "## Data\n",
    "The dataset contains aggregated profile features for each customer at each statement date. Features are anonymized and normalized, and fall into the following general categories:\n",
    "\n",
    "D_* = Delinquency variables  \n",
    "S_* = Spend variables  \n",
    "P_* = Payment variables  \n",
    "B_* = Balance variables  \n",
    "R_* = Risk variables  \n",
    "with the following features being categorical:\n",
    "['B_30', 'B_38', 'D_114', 'D_116', 'D_117', 'D_120', 'D_126', 'D_63', 'D_64', 'D_66', 'D_68']\n",
    "\n",
    "\n",
    "데이터셋이 너무 크기에, @munumbutt's의 [AMEX-feather-Dataset](https://www.kaggle.com/datasets/munumbutt/amexfeather)을 사용하자.\n",
    "유의할점은 부동소수점 정밀도가 64bit에서 16bit로 바뀌었다는 것이다.\n",
    "\n"
   ]
  },
  {
   "cell_type": "code",
   "execution_count": 2,
   "id": "c75417b0",
   "metadata": {
    "execution": {
     "iopub.execute_input": "2022-06-12T14:11:21.204128Z",
     "iopub.status.busy": "2022-06-12T14:11:21.203635Z",
     "iopub.status.idle": "2022-06-12T14:12:16.663008Z",
     "shell.execute_reply": "2022-06-12T14:12:16.661357Z"
    },
    "papermill": {
     "duration": 55.4743,
     "end_time": "2022-06-12T14:12:16.667595",
     "exception": false,
     "start_time": "2022-06-12T14:11:21.193295",
     "status": "completed"
    },
    "tags": []
   },
   "outputs": [],
   "source": [
    "train_data = pd.read_feather('../input/amexfeather/train_data.ftr')\n",
    "test_data = pd.read_feather('../input/amexfeather/test_data.ftr')"
   ]
  },
  {
   "cell_type": "code",
   "execution_count": 3,
   "id": "6718f52a",
   "metadata": {
    "execution": {
     "iopub.execute_input": "2022-06-12T14:12:16.695313Z",
     "iopub.status.busy": "2022-06-12T14:12:16.694793Z",
     "iopub.status.idle": "2022-06-12T14:12:16.752393Z",
     "shell.execute_reply": "2022-06-12T14:12:16.750826Z"
    },
    "papermill": {
     "duration": 0.073465,
     "end_time": "2022-06-12T14:12:16.756709",
     "exception": false,
     "start_time": "2022-06-12T14:12:16.683244",
     "status": "completed"
    },
    "tags": []
   },
   "outputs": [
    {
     "data": {
      "text/html": [
       "<div>\n",
       "<style scoped>\n",
       "    .dataframe tbody tr th:only-of-type {\n",
       "        vertical-align: middle;\n",
       "    }\n",
       "\n",
       "    .dataframe tbody tr th {\n",
       "        vertical-align: top;\n",
       "    }\n",
       "\n",
       "    .dataframe thead th {\n",
       "        text-align: right;\n",
       "    }\n",
       "</style>\n",
       "<table border=\"1\" class=\"dataframe\">\n",
       "  <thead>\n",
       "    <tr style=\"text-align: right;\">\n",
       "      <th></th>\n",
       "      <th>customer_ID</th>\n",
       "      <th>S_2</th>\n",
       "      <th>P_2</th>\n",
       "      <th>D_39</th>\n",
       "      <th>B_1</th>\n",
       "      <th>B_2</th>\n",
       "      <th>R_1</th>\n",
       "      <th>S_3</th>\n",
       "      <th>D_41</th>\n",
       "      <th>B_3</th>\n",
       "      <th>...</th>\n",
       "      <th>D_137</th>\n",
       "      <th>D_138</th>\n",
       "      <th>D_139</th>\n",
       "      <th>D_140</th>\n",
       "      <th>D_141</th>\n",
       "      <th>D_142</th>\n",
       "      <th>D_143</th>\n",
       "      <th>D_144</th>\n",
       "      <th>D_145</th>\n",
       "      <th>target</th>\n",
       "    </tr>\n",
       "  </thead>\n",
       "  <tbody>\n",
       "    <tr>\n",
       "      <th>0</th>\n",
       "      <td>0000099d6bd597052cdcda90ffabf56573fe9d7c79be5f...</td>\n",
       "      <td>2017-03-09</td>\n",
       "      <td>0.938477</td>\n",
       "      <td>0.001734</td>\n",
       "      <td>0.008728</td>\n",
       "      <td>1.006836</td>\n",
       "      <td>0.009224</td>\n",
       "      <td>0.124023</td>\n",
       "      <td>0.008774</td>\n",
       "      <td>0.004707</td>\n",
       "      <td>...</td>\n",
       "      <td>NaN</td>\n",
       "      <td>NaN</td>\n",
       "      <td>0.002426</td>\n",
       "      <td>0.003706</td>\n",
       "      <td>0.003819</td>\n",
       "      <td>NaN</td>\n",
       "      <td>0.000569</td>\n",
       "      <td>0.000610</td>\n",
       "      <td>0.002674</td>\n",
       "      <td>0</td>\n",
       "    </tr>\n",
       "    <tr>\n",
       "      <th>1</th>\n",
       "      <td>0000099d6bd597052cdcda90ffabf56573fe9d7c79be5f...</td>\n",
       "      <td>2017-04-07</td>\n",
       "      <td>0.936523</td>\n",
       "      <td>0.005775</td>\n",
       "      <td>0.004925</td>\n",
       "      <td>1.000977</td>\n",
       "      <td>0.006153</td>\n",
       "      <td>0.126709</td>\n",
       "      <td>0.000798</td>\n",
       "      <td>0.002714</td>\n",
       "      <td>...</td>\n",
       "      <td>NaN</td>\n",
       "      <td>NaN</td>\n",
       "      <td>0.003956</td>\n",
       "      <td>0.003166</td>\n",
       "      <td>0.005032</td>\n",
       "      <td>NaN</td>\n",
       "      <td>0.009575</td>\n",
       "      <td>0.005493</td>\n",
       "      <td>0.009216</td>\n",
       "      <td>0</td>\n",
       "    </tr>\n",
       "    <tr>\n",
       "      <th>2</th>\n",
       "      <td>0000099d6bd597052cdcda90ffabf56573fe9d7c79be5f...</td>\n",
       "      <td>2017-05-28</td>\n",
       "      <td>0.954102</td>\n",
       "      <td>0.091492</td>\n",
       "      <td>0.021652</td>\n",
       "      <td>1.009766</td>\n",
       "      <td>0.006817</td>\n",
       "      <td>0.123962</td>\n",
       "      <td>0.007599</td>\n",
       "      <td>0.009422</td>\n",
       "      <td>...</td>\n",
       "      <td>NaN</td>\n",
       "      <td>NaN</td>\n",
       "      <td>0.003269</td>\n",
       "      <td>0.007328</td>\n",
       "      <td>0.000427</td>\n",
       "      <td>NaN</td>\n",
       "      <td>0.003429</td>\n",
       "      <td>0.006985</td>\n",
       "      <td>0.002604</td>\n",
       "      <td>0</td>\n",
       "    </tr>\n",
       "    <tr>\n",
       "      <th>3</th>\n",
       "      <td>0000099d6bd597052cdcda90ffabf56573fe9d7c79be5f...</td>\n",
       "      <td>2017-06-13</td>\n",
       "      <td>0.960449</td>\n",
       "      <td>0.002455</td>\n",
       "      <td>0.013687</td>\n",
       "      <td>1.002930</td>\n",
       "      <td>0.001372</td>\n",
       "      <td>0.117188</td>\n",
       "      <td>0.000685</td>\n",
       "      <td>0.005531</td>\n",
       "      <td>...</td>\n",
       "      <td>NaN</td>\n",
       "      <td>NaN</td>\n",
       "      <td>0.006119</td>\n",
       "      <td>0.004517</td>\n",
       "      <td>0.003201</td>\n",
       "      <td>NaN</td>\n",
       "      <td>0.008423</td>\n",
       "      <td>0.006527</td>\n",
       "      <td>0.009598</td>\n",
       "      <td>0</td>\n",
       "    </tr>\n",
       "    <tr>\n",
       "      <th>4</th>\n",
       "      <td>0000099d6bd597052cdcda90ffabf56573fe9d7c79be5f...</td>\n",
       "      <td>2017-07-16</td>\n",
       "      <td>0.947266</td>\n",
       "      <td>0.002483</td>\n",
       "      <td>0.015190</td>\n",
       "      <td>1.000977</td>\n",
       "      <td>0.007607</td>\n",
       "      <td>0.117310</td>\n",
       "      <td>0.004654</td>\n",
       "      <td>0.009308</td>\n",
       "      <td>...</td>\n",
       "      <td>NaN</td>\n",
       "      <td>NaN</td>\n",
       "      <td>0.003672</td>\n",
       "      <td>0.004944</td>\n",
       "      <td>0.008888</td>\n",
       "      <td>NaN</td>\n",
       "      <td>0.001670</td>\n",
       "      <td>0.008125</td>\n",
       "      <td>0.009827</td>\n",
       "      <td>0</td>\n",
       "    </tr>\n",
       "  </tbody>\n",
       "</table>\n",
       "<p>5 rows × 191 columns</p>\n",
       "</div>"
      ],
      "text/plain": [
       "                                         customer_ID        S_2       P_2  \\\n",
       "0  0000099d6bd597052cdcda90ffabf56573fe9d7c79be5f... 2017-03-09  0.938477   \n",
       "1  0000099d6bd597052cdcda90ffabf56573fe9d7c79be5f... 2017-04-07  0.936523   \n",
       "2  0000099d6bd597052cdcda90ffabf56573fe9d7c79be5f... 2017-05-28  0.954102   \n",
       "3  0000099d6bd597052cdcda90ffabf56573fe9d7c79be5f... 2017-06-13  0.960449   \n",
       "4  0000099d6bd597052cdcda90ffabf56573fe9d7c79be5f... 2017-07-16  0.947266   \n",
       "\n",
       "       D_39       B_1       B_2       R_1       S_3      D_41       B_3  ...  \\\n",
       "0  0.001734  0.008728  1.006836  0.009224  0.124023  0.008774  0.004707  ...   \n",
       "1  0.005775  0.004925  1.000977  0.006153  0.126709  0.000798  0.002714  ...   \n",
       "2  0.091492  0.021652  1.009766  0.006817  0.123962  0.007599  0.009422  ...   \n",
       "3  0.002455  0.013687  1.002930  0.001372  0.117188  0.000685  0.005531  ...   \n",
       "4  0.002483  0.015190  1.000977  0.007607  0.117310  0.004654  0.009308  ...   \n",
       "\n",
       "   D_137  D_138     D_139     D_140     D_141  D_142     D_143     D_144  \\\n",
       "0    NaN    NaN  0.002426  0.003706  0.003819    NaN  0.000569  0.000610   \n",
       "1    NaN    NaN  0.003956  0.003166  0.005032    NaN  0.009575  0.005493   \n",
       "2    NaN    NaN  0.003269  0.007328  0.000427    NaN  0.003429  0.006985   \n",
       "3    NaN    NaN  0.006119  0.004517  0.003201    NaN  0.008423  0.006527   \n",
       "4    NaN    NaN  0.003672  0.004944  0.008888    NaN  0.001670  0.008125   \n",
       "\n",
       "      D_145  target  \n",
       "0  0.002674       0  \n",
       "1  0.009216       0  \n",
       "2  0.002604       0  \n",
       "3  0.009598       0  \n",
       "4  0.009827       0  \n",
       "\n",
       "[5 rows x 191 columns]"
      ]
     },
     "execution_count": 3,
     "metadata": {},
     "output_type": "execute_result"
    }
   ],
   "source": [
    "train_data.head()"
   ]
  },
  {
   "cell_type": "code",
   "execution_count": 4,
   "id": "a962683e",
   "metadata": {
    "execution": {
     "iopub.execute_input": "2022-06-12T14:12:16.778050Z",
     "iopub.status.busy": "2022-06-12T14:12:16.777304Z",
     "iopub.status.idle": "2022-06-12T14:12:16.805568Z",
     "shell.execute_reply": "2022-06-12T14:12:16.804615Z"
    },
    "papermill": {
     "duration": 0.041326,
     "end_time": "2022-06-12T14:12:16.807968",
     "exception": false,
     "start_time": "2022-06-12T14:12:16.766642",
     "status": "completed"
    },
    "tags": []
   },
   "outputs": [
    {
     "data": {
      "text/html": [
       "<div>\n",
       "<style scoped>\n",
       "    .dataframe tbody tr th:only-of-type {\n",
       "        vertical-align: middle;\n",
       "    }\n",
       "\n",
       "    .dataframe tbody tr th {\n",
       "        vertical-align: top;\n",
       "    }\n",
       "\n",
       "    .dataframe thead th {\n",
       "        text-align: right;\n",
       "    }\n",
       "</style>\n",
       "<table border=\"1\" class=\"dataframe\">\n",
       "  <thead>\n",
       "    <tr style=\"text-align: right;\">\n",
       "      <th></th>\n",
       "      <th>customer_ID</th>\n",
       "      <th>S_2</th>\n",
       "      <th>P_2</th>\n",
       "      <th>D_39</th>\n",
       "      <th>B_1</th>\n",
       "      <th>B_2</th>\n",
       "      <th>R_1</th>\n",
       "      <th>S_3</th>\n",
       "      <th>D_41</th>\n",
       "      <th>B_3</th>\n",
       "      <th>...</th>\n",
       "      <th>D_136</th>\n",
       "      <th>D_137</th>\n",
       "      <th>D_138</th>\n",
       "      <th>D_139</th>\n",
       "      <th>D_140</th>\n",
       "      <th>D_141</th>\n",
       "      <th>D_142</th>\n",
       "      <th>D_143</th>\n",
       "      <th>D_144</th>\n",
       "      <th>D_145</th>\n",
       "    </tr>\n",
       "  </thead>\n",
       "  <tbody>\n",
       "    <tr>\n",
       "      <th>0</th>\n",
       "      <td>00000469ba478561f23a92a868bd366de6f6527a684c9a...</td>\n",
       "      <td>2019-02-19</td>\n",
       "      <td>0.631348</td>\n",
       "      <td>0.001912</td>\n",
       "      <td>0.010727</td>\n",
       "      <td>0.814453</td>\n",
       "      <td>0.007545</td>\n",
       "      <td>0.168701</td>\n",
       "      <td>0.009972</td>\n",
       "      <td>0.002348</td>\n",
       "      <td>...</td>\n",
       "      <td>NaN</td>\n",
       "      <td>NaN</td>\n",
       "      <td>NaN</td>\n",
       "      <td>NaN</td>\n",
       "      <td>0.004669</td>\n",
       "      <td>NaN</td>\n",
       "      <td>NaN</td>\n",
       "      <td>NaN</td>\n",
       "      <td>0.008278</td>\n",
       "      <td>NaN</td>\n",
       "    </tr>\n",
       "    <tr>\n",
       "      <th>1</th>\n",
       "      <td>00000469ba478561f23a92a868bd366de6f6527a684c9a...</td>\n",
       "      <td>2019-03-25</td>\n",
       "      <td>0.586914</td>\n",
       "      <td>0.005276</td>\n",
       "      <td>0.011024</td>\n",
       "      <td>0.811035</td>\n",
       "      <td>0.001817</td>\n",
       "      <td>0.241333</td>\n",
       "      <td>0.000166</td>\n",
       "      <td>0.009132</td>\n",
       "      <td>...</td>\n",
       "      <td>NaN</td>\n",
       "      <td>NaN</td>\n",
       "      <td>NaN</td>\n",
       "      <td>0.000142</td>\n",
       "      <td>0.004940</td>\n",
       "      <td>0.009018</td>\n",
       "      <td>NaN</td>\n",
       "      <td>0.003695</td>\n",
       "      <td>0.003754</td>\n",
       "      <td>0.001460</td>\n",
       "    </tr>\n",
       "    <tr>\n",
       "      <th>2</th>\n",
       "      <td>00000469ba478561f23a92a868bd366de6f6527a684c9a...</td>\n",
       "      <td>2019-04-25</td>\n",
       "      <td>0.608887</td>\n",
       "      <td>0.003326</td>\n",
       "      <td>0.016388</td>\n",
       "      <td>1.004883</td>\n",
       "      <td>0.000114</td>\n",
       "      <td>0.267090</td>\n",
       "      <td>0.004196</td>\n",
       "      <td>0.004192</td>\n",
       "      <td>...</td>\n",
       "      <td>NaN</td>\n",
       "      <td>NaN</td>\n",
       "      <td>NaN</td>\n",
       "      <td>0.000074</td>\n",
       "      <td>0.002113</td>\n",
       "      <td>0.004658</td>\n",
       "      <td>NaN</td>\n",
       "      <td>0.003155</td>\n",
       "      <td>0.002155</td>\n",
       "      <td>0.006481</td>\n",
       "    </tr>\n",
       "    <tr>\n",
       "      <th>3</th>\n",
       "      <td>00000469ba478561f23a92a868bd366de6f6527a684c9a...</td>\n",
       "      <td>2019-05-20</td>\n",
       "      <td>0.614746</td>\n",
       "      <td>0.009064</td>\n",
       "      <td>0.021667</td>\n",
       "      <td>0.816406</td>\n",
       "      <td>0.009720</td>\n",
       "      <td>0.188965</td>\n",
       "      <td>0.004124</td>\n",
       "      <td>0.015327</td>\n",
       "      <td>...</td>\n",
       "      <td>NaN</td>\n",
       "      <td>NaN</td>\n",
       "      <td>NaN</td>\n",
       "      <td>0.004742</td>\n",
       "      <td>0.006393</td>\n",
       "      <td>0.002890</td>\n",
       "      <td>NaN</td>\n",
       "      <td>0.006042</td>\n",
       "      <td>0.005207</td>\n",
       "      <td>0.007858</td>\n",
       "    </tr>\n",
       "    <tr>\n",
       "      <th>4</th>\n",
       "      <td>00000469ba478561f23a92a868bd366de6f6527a684c9a...</td>\n",
       "      <td>2019-06-15</td>\n",
       "      <td>0.591797</td>\n",
       "      <td>0.238770</td>\n",
       "      <td>0.015930</td>\n",
       "      <td>0.810547</td>\n",
       "      <td>0.002026</td>\n",
       "      <td>0.180054</td>\n",
       "      <td>0.000731</td>\n",
       "      <td>0.011284</td>\n",
       "      <td>...</td>\n",
       "      <td>NaN</td>\n",
       "      <td>NaN</td>\n",
       "      <td>NaN</td>\n",
       "      <td>0.008133</td>\n",
       "      <td>0.004330</td>\n",
       "      <td>0.008385</td>\n",
       "      <td>NaN</td>\n",
       "      <td>0.001008</td>\n",
       "      <td>0.007420</td>\n",
       "      <td>0.009468</td>\n",
       "    </tr>\n",
       "  </tbody>\n",
       "</table>\n",
       "<p>5 rows × 190 columns</p>\n",
       "</div>"
      ],
      "text/plain": [
       "                                         customer_ID        S_2       P_2  \\\n",
       "0  00000469ba478561f23a92a868bd366de6f6527a684c9a... 2019-02-19  0.631348   \n",
       "1  00000469ba478561f23a92a868bd366de6f6527a684c9a... 2019-03-25  0.586914   \n",
       "2  00000469ba478561f23a92a868bd366de6f6527a684c9a... 2019-04-25  0.608887   \n",
       "3  00000469ba478561f23a92a868bd366de6f6527a684c9a... 2019-05-20  0.614746   \n",
       "4  00000469ba478561f23a92a868bd366de6f6527a684c9a... 2019-06-15  0.591797   \n",
       "\n",
       "       D_39       B_1       B_2       R_1       S_3      D_41       B_3  ...  \\\n",
       "0  0.001912  0.010727  0.814453  0.007545  0.168701  0.009972  0.002348  ...   \n",
       "1  0.005276  0.011024  0.811035  0.001817  0.241333  0.000166  0.009132  ...   \n",
       "2  0.003326  0.016388  1.004883  0.000114  0.267090  0.004196  0.004192  ...   \n",
       "3  0.009064  0.021667  0.816406  0.009720  0.188965  0.004124  0.015327  ...   \n",
       "4  0.238770  0.015930  0.810547  0.002026  0.180054  0.000731  0.011284  ...   \n",
       "\n",
       "   D_136  D_137  D_138     D_139     D_140     D_141  D_142     D_143  \\\n",
       "0    NaN    NaN    NaN       NaN  0.004669       NaN    NaN       NaN   \n",
       "1    NaN    NaN    NaN  0.000142  0.004940  0.009018    NaN  0.003695   \n",
       "2    NaN    NaN    NaN  0.000074  0.002113  0.004658    NaN  0.003155   \n",
       "3    NaN    NaN    NaN  0.004742  0.006393  0.002890    NaN  0.006042   \n",
       "4    NaN    NaN    NaN  0.008133  0.004330  0.008385    NaN  0.001008   \n",
       "\n",
       "      D_144     D_145  \n",
       "0  0.008278       NaN  \n",
       "1  0.003754  0.001460  \n",
       "2  0.002155  0.006481  \n",
       "3  0.005207  0.007858  \n",
       "4  0.007420  0.009468  \n",
       "\n",
       "[5 rows x 190 columns]"
      ]
     },
     "execution_count": 4,
     "metadata": {},
     "output_type": "execute_result"
    }
   ],
   "source": [
    "test_data.head()"
   ]
  },
  {
   "cell_type": "markdown",
   "id": "569cdd86",
   "metadata": {
    "papermill": {
     "duration": 0.009869,
     "end_time": "2022-06-12T14:12:16.828204",
     "exception": false,
     "start_time": "2022-06-12T14:12:16.818335",
     "status": "completed"
    },
    "tags": []
   },
   "source": [
    "train_data의 target colum은 train_labels.csv의 customer_ID의 정보와 같다. 원래(train_data.csv)는 없는 열이나, 편의상 붙여놓았다."
   ]
  },
  {
   "cell_type": "code",
   "execution_count": 5,
   "id": "b5e7f188",
   "metadata": {
    "execution": {
     "iopub.execute_input": "2022-06-12T14:12:16.842590Z",
     "iopub.status.busy": "2022-06-12T14:12:16.842217Z",
     "iopub.status.idle": "2022-06-12T14:12:16.970270Z",
     "shell.execute_reply": "2022-06-12T14:12:16.968981Z"
    },
    "papermill": {
     "duration": 0.137813,
     "end_time": "2022-06-12T14:12:16.972444",
     "exception": false,
     "start_time": "2022-06-12T14:12:16.834631",
     "status": "completed"
    },
    "tags": []
   },
   "outputs": [
    {
     "name": "stdout",
     "output_type": "stream",
     "text": [
      "Train statement dates:  2017-03-01 00:00:00 2018-03-31 00:00:00 False\n",
      "Test statement dates:  2018-04-01 00:00:00 2019-10-31 00:00:00 False\n"
     ]
    }
   ],
   "source": [
    "print(\"Train statement dates: \", train_data.S_2.min(), train_data.S_2.max(), train_data.S_2.isna().any())\n",
    "print(\"Test statement dates: \", test_data.S_2.min(), test_data.S_2.max(), test_data.S_2.isna().any())"
   ]
  },
  {
   "cell_type": "markdown",
   "id": "d4c6b159",
   "metadata": {
    "execution": {
     "iopub.execute_input": "2022-06-10T16:42:41.577412Z",
     "iopub.status.busy": "2022-06-10T16:42:41.576542Z",
     "iopub.status.idle": "2022-06-10T16:42:41.583494Z",
     "shell.execute_reply": "2022-06-10T16:42:41.582525Z",
     "shell.execute_reply.started": "2022-06-10T16:42:41.577376Z"
    },
    "papermill": {
     "duration": 0.005938,
     "end_time": "2022-06-12T14:12:16.984738",
     "exception": false,
     "start_time": "2022-06-12T14:12:16.978800",
     "status": "completed"
    },
    "tags": []
   },
   "source": [
    "여기서 S_2는 statement data (청구일)이며 train data의 경우 2017.03.01 ~ 2018.03.31 (13개월), test data의 경우 2018.04.01 ~ 2019.10.31 (17개월)이다.\n",
    "missing data는 없다."
   ]
  },
  {
   "cell_type": "markdown",
   "id": "0b6cb6af",
   "metadata": {
    "papermill": {
     "duration": 0.005782,
     "end_time": "2022-06-12T14:12:16.997027",
     "exception": false,
     "start_time": "2022-06-12T14:12:16.991245",
     "status": "completed"
    },
    "tags": []
   },
   "source": [
    "## Label\n",
    "\n",
    "missing 데이터나 중복되는 customer_ID는 없다. \n",
    "458913의 customer_IDs 중 340,085(74.1%)가 label 0(good)를 가졌으며 나머지 118,828(25.9%)가 label 1(bad)을 가지고 있다.\n",
    "[여기](https://www.kaggle.com/competitions/amex-default-prediction/data)에 다음과 같이 나와있듯이\n",
    "> Note that the negative class has been subsampled for this dataset at 5%, and thus receives a 20x weighting in the scoring metric.\n",
    "\n",
    "실제로는 680만 명이 좋은 고객 (98.2%)이며, 1.8%가 나쁜 고객임을 알 수 있다."
   ]
  },
  {
   "cell_type": "code",
   "execution_count": 6,
   "id": "717d713c",
   "metadata": {
    "execution": {
     "iopub.execute_input": "2022-06-12T14:12:17.037201Z",
     "iopub.status.busy": "2022-06-12T14:12:17.036761Z",
     "iopub.status.idle": "2022-06-12T14:12:18.273178Z",
     "shell.execute_reply": "2022-06-12T14:12:18.272334Z"
    },
    "papermill": {
     "duration": 1.257071,
     "end_time": "2022-06-12T14:12:18.274792",
     "exception": false,
     "start_time": "2022-06-12T14:12:17.017721",
     "status": "completed"
    },
    "tags": []
   },
   "outputs": [
    {
     "data": {
      "text/html": [
       "<div>\n",
       "<style scoped>\n",
       "    .dataframe tbody tr th:only-of-type {\n",
       "        vertical-align: middle;\n",
       "    }\n",
       "\n",
       "    .dataframe tbody tr th {\n",
       "        vertical-align: top;\n",
       "    }\n",
       "\n",
       "    .dataframe thead th {\n",
       "        text-align: right;\n",
       "    }\n",
       "</style>\n",
       "<table border=\"1\" class=\"dataframe\">\n",
       "  <thead>\n",
       "    <tr style=\"text-align: right;\">\n",
       "      <th></th>\n",
       "      <th>customer_ID</th>\n",
       "      <th>target</th>\n",
       "    </tr>\n",
       "  </thead>\n",
       "  <tbody>\n",
       "    <tr>\n",
       "      <th>0</th>\n",
       "      <td>0000099d6bd597052cdcda90ffabf56573fe9d7c79be5f...</td>\n",
       "      <td>0</td>\n",
       "    </tr>\n",
       "    <tr>\n",
       "      <th>1</th>\n",
       "      <td>00000fd6641609c6ece5454664794f0340ad84dddce9a2...</td>\n",
       "      <td>0</td>\n",
       "    </tr>\n",
       "    <tr>\n",
       "      <th>2</th>\n",
       "      <td>00001b22f846c82c51f6e3958ccd81970162bae8b007e8...</td>\n",
       "      <td>0</td>\n",
       "    </tr>\n",
       "    <tr>\n",
       "      <th>3</th>\n",
       "      <td>000041bdba6ecadd89a52d11886e8eaaec9325906c9723...</td>\n",
       "      <td>0</td>\n",
       "    </tr>\n",
       "    <tr>\n",
       "      <th>4</th>\n",
       "      <td>00007889e4fcd2614b6cbe7f8f3d2e5c728eca32d9eb8a...</td>\n",
       "      <td>0</td>\n",
       "    </tr>\n",
       "    <tr>\n",
       "      <th>...</th>\n",
       "      <td>...</td>\n",
       "      <td>...</td>\n",
       "    </tr>\n",
       "    <tr>\n",
       "      <th>458908</th>\n",
       "      <td>ffff41c8a52833b56430603969b9ca48d208e7c192c6a4...</td>\n",
       "      <td>0</td>\n",
       "    </tr>\n",
       "    <tr>\n",
       "      <th>458909</th>\n",
       "      <td>ffff518bb2075e4816ee3fe9f3b152c57fc0e6f01bf7fd...</td>\n",
       "      <td>0</td>\n",
       "    </tr>\n",
       "    <tr>\n",
       "      <th>458910</th>\n",
       "      <td>ffff9984b999fccb2b6127635ed0736dda94e544e67e02...</td>\n",
       "      <td>0</td>\n",
       "    </tr>\n",
       "    <tr>\n",
       "      <th>458911</th>\n",
       "      <td>ffffa5c46bc8de74f5a4554e74e239c8dee6b9baf38814...</td>\n",
       "      <td>1</td>\n",
       "    </tr>\n",
       "    <tr>\n",
       "      <th>458912</th>\n",
       "      <td>fffff1d38b785cef84adeace64f8f83db3a0c31e8d92ea...</td>\n",
       "      <td>0</td>\n",
       "    </tr>\n",
       "  </tbody>\n",
       "</table>\n",
       "<p>458913 rows × 2 columns</p>\n",
       "</div>"
      ],
      "text/plain": [
       "                                              customer_ID  target\n",
       "0       0000099d6bd597052cdcda90ffabf56573fe9d7c79be5f...       0\n",
       "1       00000fd6641609c6ece5454664794f0340ad84dddce9a2...       0\n",
       "2       00001b22f846c82c51f6e3958ccd81970162bae8b007e8...       0\n",
       "3       000041bdba6ecadd89a52d11886e8eaaec9325906c9723...       0\n",
       "4       00007889e4fcd2614b6cbe7f8f3d2e5c728eca32d9eb8a...       0\n",
       "...                                                   ...     ...\n",
       "458908  ffff41c8a52833b56430603969b9ca48d208e7c192c6a4...       0\n",
       "458909  ffff518bb2075e4816ee3fe9f3b152c57fc0e6f01bf7fd...       0\n",
       "458910  ffff9984b999fccb2b6127635ed0736dda94e544e67e02...       0\n",
       "458911  ffffa5c46bc8de74f5a4554e74e239c8dee6b9baf38814...       1\n",
       "458912  fffff1d38b785cef84adeace64f8f83db3a0c31e8d92ea...       0\n",
       "\n",
       "[458913 rows x 2 columns]"
      ]
     },
     "execution_count": 6,
     "metadata": {},
     "output_type": "execute_result"
    }
   ],
   "source": [
    "train_labels = pd.read_csv('../input/amex-default-prediction/train_labels.csv')\n",
    "train_labels"
   ]
  },
  {
   "cell_type": "code",
   "execution_count": 7,
   "id": "0fa4e0b1",
   "metadata": {
    "execution": {
     "iopub.execute_input": "2022-06-12T14:12:18.289482Z",
     "iopub.status.busy": "2022-06-12T14:12:18.289145Z",
     "iopub.status.idle": "2022-06-12T14:12:18.421965Z",
     "shell.execute_reply": "2022-06-12T14:12:18.421000Z"
    },
    "papermill": {
     "duration": 0.142543,
     "end_time": "2022-06-12T14:12:18.424089",
     "exception": false,
     "start_time": "2022-06-12T14:12:18.281546",
     "status": "completed"
    },
    "tags": []
   },
   "outputs": [
    {
     "data": {
      "text/plain": [
       "(customer_ID    False\n",
       " target         False\n",
       " dtype: bool,\n",
       " False)"
      ]
     },
     "execution_count": 7,
     "metadata": {},
     "output_type": "execute_result"
    }
   ],
   "source": [
    "# missing 과 중복 체크\n",
    "train_labels.isna().any(), train_labels.customer_ID.duplicated().any()"
   ]
  },
  {
   "cell_type": "code",
   "execution_count": 8,
   "id": "39c499a2",
   "metadata": {
    "execution": {
     "iopub.execute_input": "2022-06-12T14:12:18.439011Z",
     "iopub.status.busy": "2022-06-12T14:12:18.438651Z",
     "iopub.status.idle": "2022-06-12T14:12:18.462240Z",
     "shell.execute_reply": "2022-06-12T14:12:18.460998Z"
    },
    "papermill": {
     "duration": 0.033436,
     "end_time": "2022-06-12T14:12:18.464464",
     "exception": false,
     "start_time": "2022-06-12T14:12:18.431028",
     "status": "completed"
    },
    "tags": []
   },
   "outputs": [],
   "source": [
    "label_stats = pd.DataFrame({'absolute':train_labels.target.value_counts(), \n",
    "                            'relative':train_labels.target.value_counts()/len(train_labels)})\n",
    "label_stats['absolute upsampled'] = label_stats.absolute * np.array([20, 1])\n",
    "label_stats['relative upsampled'] = label_stats['absolute upsampled'] / label_stats['absolute upsampled'].sum()"
   ]
  },
  {
   "cell_type": "code",
   "execution_count": 9,
   "id": "0b663726",
   "metadata": {
    "execution": {
     "iopub.execute_input": "2022-06-12T14:12:18.485912Z",
     "iopub.status.busy": "2022-06-12T14:12:18.485596Z",
     "iopub.status.idle": "2022-06-12T14:12:18.496164Z",
     "shell.execute_reply": "2022-06-12T14:12:18.494778Z"
    },
    "papermill": {
     "duration": 0.022957,
     "end_time": "2022-06-12T14:12:18.497766",
     "exception": false,
     "start_time": "2022-06-12T14:12:18.474809",
     "status": "completed"
    },
    "tags": []
   },
   "outputs": [
    {
     "data": {
      "text/html": [
       "<div>\n",
       "<style scoped>\n",
       "    .dataframe tbody tr th:only-of-type {\n",
       "        vertical-align: middle;\n",
       "    }\n",
       "\n",
       "    .dataframe tbody tr th {\n",
       "        vertical-align: top;\n",
       "    }\n",
       "\n",
       "    .dataframe thead th {\n",
       "        text-align: right;\n",
       "    }\n",
       "</style>\n",
       "<table border=\"1\" class=\"dataframe\">\n",
       "  <thead>\n",
       "    <tr style=\"text-align: right;\">\n",
       "      <th></th>\n",
       "      <th>absolute</th>\n",
       "      <th>relative</th>\n",
       "      <th>absolute upsampled</th>\n",
       "      <th>relative upsampled</th>\n",
       "    </tr>\n",
       "  </thead>\n",
       "  <tbody>\n",
       "    <tr>\n",
       "      <th>0</th>\n",
       "      <td>340085</td>\n",
       "      <td>0.741066</td>\n",
       "      <td>6801700</td>\n",
       "      <td>0.98283</td>\n",
       "    </tr>\n",
       "    <tr>\n",
       "      <th>1</th>\n",
       "      <td>118828</td>\n",
       "      <td>0.258934</td>\n",
       "      <td>118828</td>\n",
       "      <td>0.01717</td>\n",
       "    </tr>\n",
       "  </tbody>\n",
       "</table>\n",
       "</div>"
      ],
      "text/plain": [
       "   absolute  relative  absolute upsampled  relative upsampled\n",
       "0    340085  0.741066             6801700             0.98283\n",
       "1    118828  0.258934              118828             0.01717"
      ]
     },
     "execution_count": 9,
     "metadata": {},
     "output_type": "execute_result"
    }
   ],
   "source": [
    "label_stats"
   ]
  },
  {
   "cell_type": "markdown",
   "id": "f39c2f97",
   "metadata": {
    "papermill": {
     "duration": 0.006205,
     "end_time": "2022-06-12T14:12:18.510709",
     "exception": false,
     "start_time": "2022-06-12T14:12:18.504504",
     "status": "completed"
    },
    "tags": []
   },
   "source": [
    "## Missing Value"
   ]
  },
  {
   "cell_type": "code",
   "execution_count": 10,
   "id": "28ee0a0a",
   "metadata": {
    "execution": {
     "iopub.execute_input": "2022-06-12T14:12:18.525704Z",
     "iopub.status.busy": "2022-06-12T14:12:18.525335Z",
     "iopub.status.idle": "2022-06-12T14:12:24.404108Z",
     "shell.execute_reply": "2022-06-12T14:12:24.403128Z"
    },
    "papermill": {
     "duration": 5.889366,
     "end_time": "2022-06-12T14:12:24.406586",
     "exception": false,
     "start_time": "2022-06-12T14:12:18.517220",
     "status": "completed"
    },
    "tags": []
   },
   "outputs": [
    {
     "name": "stdout",
     "output_type": "stream",
     "text": [
      "<class 'pandas.core.frame.DataFrame'>\n",
      "RangeIndex: 5531451 entries, 0 to 5531450\n",
      "Data columns (total 191 columns):\n",
      " #    Column       Non-Null Count    Dtype         \n",
      "---   ------       --------------    -----         \n",
      " 0    customer_ID  5531451 non-null  object        \n",
      " 1    S_2          5531451 non-null  datetime64[ns]\n",
      " 2    P_2          5485466 non-null  float16       \n",
      " 3    D_39         5531451 non-null  float16       \n",
      " 4    B_1          5531451 non-null  float16       \n",
      " 5    B_2          5529435 non-null  float16       \n",
      " 6    R_1          5531451 non-null  float16       \n",
      " 7    S_3          4510907 non-null  float16       \n",
      " 8    D_41         5529435 non-null  float16       \n",
      " 9    B_3          5529435 non-null  float16       \n",
      " 10   D_42         791314 non-null   float16       \n",
      " 11   D_43         3873055 non-null  float16       \n",
      " 12   D_44         5257132 non-null  float16       \n",
      " 13   B_4          5531451 non-null  float16       \n",
      " 14   D_45         5529434 non-null  float16       \n",
      " 15   B_5          5531451 non-null  float16       \n",
      " 16   R_2          5531451 non-null  float16       \n",
      " 17   D_46         4319752 non-null  float16       \n",
      " 18   D_47         5531451 non-null  float16       \n",
      " 19   D_48         4812726 non-null  float16       \n",
      " 20   D_49         545534 non-null   float16       \n",
      " 21   B_6          5531218 non-null  float16       \n",
      " 22   B_7          5531451 non-null  float16       \n",
      " 23   B_8          5509183 non-null  float16       \n",
      " 24   D_50         2389049 non-null  float16       \n",
      " 25   D_51         5531451 non-null  float16       \n",
      " 26   B_9          5531451 non-null  float16       \n",
      " 27   R_3          5531451 non-null  float16       \n",
      " 28   D_52         5501888 non-null  float16       \n",
      " 29   P_3          5229959 non-null  float16       \n",
      " 30   B_10         5531451 non-null  float16       \n",
      " 31   D_53         1446866 non-null  float16       \n",
      " 32   S_5          5531451 non-null  float16       \n",
      " 33   B_11         5531451 non-null  float16       \n",
      " 34   S_6          5531451 non-null  float16       \n",
      " 35   D_54         5529435 non-null  float16       \n",
      " 36   R_4          5531451 non-null  float16       \n",
      " 37   S_7          4510907 non-null  float16       \n",
      " 38   B_12         5531451 non-null  float16       \n",
      " 39   S_8          5531451 non-null  float16       \n",
      " 40   D_55         5346648 non-null  float16       \n",
      " 41   D_56         2540508 non-null  float16       \n",
      " 42   B_13         5481932 non-null  float16       \n",
      " 43   R_5          5531451 non-null  float16       \n",
      " 44   D_58         5531451 non-null  float16       \n",
      " 45   S_9          2597808 non-null  float16       \n",
      " 46   B_14         5531451 non-null  float16       \n",
      " 47   D_59         5424726 non-null  float16       \n",
      " 48   D_60         5531451 non-null  float16       \n",
      " 49   D_61         4933399 non-null  float16       \n",
      " 50   B_15         5524528 non-null  float16       \n",
      " 51   S_11         5531451 non-null  float16       \n",
      " 52   D_62         4773290 non-null  float16       \n",
      " 53   D_63         5531451 non-null  category      \n",
      " 54   D_64         5531451 non-null  category      \n",
      " 55   D_65         5531451 non-null  float16       \n",
      " 56   B_16         5529435 non-null  float16       \n",
      " 57   B_17         2393853 non-null  float16       \n",
      " 58   B_18         5531451 non-null  float16       \n",
      " 59   B_19         5529435 non-null  float16       \n",
      " 60   D_66         623354 non-null   category      \n",
      " 61   B_20         5529435 non-null  float16       \n",
      " 62   D_68         5314948 non-null  category      \n",
      " 63   S_12         5531451 non-null  float16       \n",
      " 64   R_6          5531451 non-null  float16       \n",
      " 65   S_13         5531451 non-null  float16       \n",
      " 66   B_21         5531451 non-null  float16       \n",
      " 67   D_69         5336978 non-null  float16       \n",
      " 68   B_22         5529435 non-null  float16       \n",
      " 69   D_70         5436534 non-null  float16       \n",
      " 70   D_71         5531451 non-null  float16       \n",
      " 71   D_72         5507743 non-null  float16       \n",
      " 72   S_15         5531451 non-null  float16       \n",
      " 73   B_23         5531451 non-null  float16       \n",
      " 74   D_73         55856 non-null    float16       \n",
      " 75   P_4          5531451 non-null  float16       \n",
      " 76   D_74         5509678 non-null  float16       \n",
      " 77   D_75         5531451 non-null  float16       \n",
      " 78   D_76         622497 non-null   float16       \n",
      " 79   B_24         5531451 non-null  float16       \n",
      " 80   R_7          5531450 non-null  float16       \n",
      " 81   D_77         3017539 non-null  float16       \n",
      " 82   B_25         5524528 non-null  float16       \n",
      " 83   B_26         5529435 non-null  float16       \n",
      " 84   D_78         5257132 non-null  float16       \n",
      " 85   D_79         5455512 non-null  float16       \n",
      " 86   R_8          5531451 non-null  float16       \n",
      " 87   R_9          312533 non-null   float16       \n",
      " 88   S_16         5531451 non-null  float16       \n",
      " 89   D_80         5509678 non-null  float16       \n",
      " 90   R_10         5531451 non-null  float16       \n",
      " 91   R_11         5531451 non-null  float16       \n",
      " 92   B_27         5529435 non-null  float16       \n",
      " 93   D_81         5505764 non-null  float16       \n",
      " 94   D_82         1472837 non-null  float16       \n",
      " 95   S_17         5531451 non-null  float16       \n",
      " 96   R_12         5531395 non-null  float16       \n",
      " 97   B_28         5531451 non-null  float16       \n",
      " 98   R_13         5531451 non-null  float16       \n",
      " 99   D_83         5336978 non-null  float16       \n",
      " 100  R_14         5531450 non-null  float16       \n",
      " 101  R_15         5531451 non-null  float16       \n",
      " 102  D_84         5501888 non-null  float16       \n",
      " 103  R_16         5531451 non-null  float16       \n",
      " 104  B_29         381416 non-null   float16       \n",
      " 105  B_30         5529435 non-null  category      \n",
      " 106  S_18         5531451 non-null  float16       \n",
      " 107  D_86         5531451 non-null  float16       \n",
      " 108  D_87         3865 non-null     float16       \n",
      " 109  R_17         5531451 non-null  float16       \n",
      " 110  R_18         5531451 non-null  float16       \n",
      " 111  D_88         6004 non-null     float16       \n",
      " 112  B_31         5531451 non-null  float16       \n",
      " 113  S_19         5531451 non-null  float16       \n",
      " 114  R_19         5531451 non-null  float16       \n",
      " 115  B_32         5531451 non-null  float16       \n",
      " 116  S_20         5531451 non-null  float16       \n",
      " 117  R_20         5531376 non-null  float16       \n",
      " 118  R_21         5531451 non-null  float16       \n",
      " 119  B_33         5529435 non-null  float16       \n",
      " 120  D_89         5501888 non-null  float16       \n",
      " 121  R_22         5531451 non-null  float16       \n",
      " 122  R_23         5531451 non-null  float16       \n",
      " 123  D_91         5374235 non-null  float16       \n",
      " 124  D_92         5531451 non-null  float16       \n",
      " 125  D_93         5531451 non-null  float16       \n",
      " 126  D_94         5531451 non-null  float16       \n",
      " 127  R_24         5531451 non-null  float16       \n",
      " 128  R_25         5531451 non-null  float16       \n",
      " 129  D_96         5531451 non-null  float16       \n",
      " 130  S_22         5512427 non-null  float16       \n",
      " 131  S_23         5531006 non-null  float16       \n",
      " 132  S_24         5512858 non-null  float16       \n",
      " 133  S_25         5518604 non-null  float16       \n",
      " 134  S_26         5530817 non-null  float16       \n",
      " 135  D_102        5490796 non-null  float16       \n",
      " 136  D_103        5429903 non-null  float16       \n",
      " 137  D_104        5429903 non-null  float16       \n",
      " 138  D_105        2510020 non-null  float16       \n",
      " 139  D_106        541349 non-null   float16       \n",
      " 140  D_107        5429903 non-null  float16       \n",
      " 141  B_36         5531451 non-null  float16       \n",
      " 142  B_37         5531395 non-null  float16       \n",
      " 143  R_26         609305 non-null   float16       \n",
      " 144  R_27         5402748 non-null  float16       \n",
      " 145  B_38         5529435 non-null  category      \n",
      " 146  D_108        28938 non-null    float16       \n",
      " 147  D_109        5529854 non-null  float16       \n",
      " 148  D_110        31334 non-null    float16       \n",
      " 149  D_111        31334 non-null    float16       \n",
      " 150  B_39         33632 non-null    float16       \n",
      " 151  D_112        5528801 non-null  float16       \n",
      " 152  B_40         5531398 non-null  float16       \n",
      " 153  S_27         4130516 non-null  float16       \n",
      " 154  D_113        5354735 non-null  float16       \n",
      " 155  D_114        5354735 non-null  category      \n",
      " 156  D_115        5354735 non-null  float16       \n",
      " 157  D_116        5354735 non-null  category      \n",
      " 158  D_117        5354735 non-null  category      \n",
      " 159  D_118        5354735 non-null  float16       \n",
      " 160  D_119        5354735 non-null  float16       \n",
      " 161  D_120        5354735 non-null  category      \n",
      " 162  D_121        5354735 non-null  float16       \n",
      " 163  D_122        5354735 non-null  float16       \n",
      " 164  D_123        5354735 non-null  float16       \n",
      " 165  D_124        5354735 non-null  float16       \n",
      " 166  D_125        5354735 non-null  float16       \n",
      " 167  D_126        5414635 non-null  category      \n",
      " 168  D_127        5531451 non-null  float16       \n",
      " 169  D_128        5429903 non-null  float16       \n",
      " 170  D_129        5429903 non-null  float16       \n",
      " 171  B_41         5530761 non-null  float16       \n",
      " 172  B_42         71478 non-null    float16       \n",
      " 173  D_130        5429903 non-null  float16       \n",
      " 174  D_131        5429903 non-null  float16       \n",
      " 175  D_132        542577 non-null   float16       \n",
      " 176  D_133        5488735 non-null  float16       \n",
      " 177  R_28         5531451 non-null  float16       \n",
      " 178  D_134        194699 non-null   float16       \n",
      " 179  D_135        194699 non-null   float16       \n",
      " 180  D_136        194699 non-null   float16       \n",
      " 181  D_137        194699 non-null   float16       \n",
      " 182  D_138        194699 non-null   float16       \n",
      " 183  D_139        5429903 non-null  float16       \n",
      " 184  D_140        5490819 non-null  float16       \n",
      " 185  D_141        5429903 non-null  float16       \n",
      " 186  D_142        944408 non-null   float16       \n",
      " 187  D_143        5429903 non-null  float16       \n",
      " 188  D_144        5490724 non-null  float16       \n",
      " 189  D_145        5429903 non-null  float16       \n",
      " 190  target       5531451 non-null  int64         \n",
      "dtypes: category(11), datetime64[ns](1), float16(177), int64(1), object(1)\n",
      "memory usage: 2.0+ GB\n"
     ]
    }
   ],
   "source": [
    "train_data.info(max_cols=200, show_counts=True)"
   ]
  },
  {
   "cell_type": "markdown",
   "id": "efc3f197",
   "metadata": {
    "papermill": {
     "duration": 0.006631,
     "end_time": "2022-06-12T14:12:24.420575",
     "exception": false,
     "start_time": "2022-06-12T14:12:24.413944",
     "status": "completed"
    },
    "tags": []
   },
   "source": [
    "- 대부분의 row와 col이 missing을 포함 \n",
    "  - mssing value를 포함하는 row/col을 drop하는건 좋은 생각이 아님\n",
    "- Decision tree계열의 대부분은 missing value를 포함한 데이터를 다뤄줌.\n",
    "- NN이나 다른 여타 추정기들은 mssing value를 못 다루기에 imputation을 수행해야함. [참고](https://www.kaggle.com/code/parulpandey/a-guide-to-handling-missing-values-in-python)"
   ]
  },
  {
   "cell_type": "markdown",
   "id": "d60ab6e2",
   "metadata": {
    "papermill": {
     "duration": 0.006531,
     "end_time": "2022-06-12T14:12:24.433834",
     "exception": false,
     "start_time": "2022-06-12T14:12:24.427303",
     "status": "completed"
    },
    "tags": []
   },
   "source": [
    "# 🌄 Visualization"
   ]
  },
  {
   "cell_type": "code",
   "execution_count": 11,
   "id": "81d2c20a",
   "metadata": {
    "_kg_hide-input": true,
    "execution": {
     "iopub.execute_input": "2022-06-12T14:12:24.450470Z",
     "iopub.status.busy": "2022-06-12T14:12:24.449426Z",
     "iopub.status.idle": "2022-06-12T14:12:27.184820Z",
     "shell.execute_reply": "2022-06-12T14:12:27.184135Z"
    },
    "papermill": {
     "duration": 2.745968,
     "end_time": "2022-06-12T14:12:27.186959",
     "exception": false,
     "start_time": "2022-06-12T14:12:24.440991",
     "status": "completed"
    },
    "tags": []
   },
   "outputs": [
    {
     "data": {
      "image/png": "[encoded data removed]",
      "text/plain": [
       "<Figure size 1080x720 with 2 Axes>"
      ]
     },
     "metadata": {},
     "output_type": "display_data"
    }
   ],
   "source": [
    "plt.figure(figsize=(15,10))\n",
    "train_counts = train_data.customer_ID.value_counts().value_counts().sort_index()\n",
    "plt.subplot(1,2,1)\n",
    "plt.pie(train_counts, labels=train_counts.index)\n",
    "plt.title('Train statements per customer')\n",
    "\n",
    "test_counts = test_data.customer_ID.value_counts().value_counts().sort_index()\n",
    "plt.subplot(1,2,2)\n",
    "plt.pie(test_counts, labels=test_counts.index)\n",
    "plt.title('Test statements per customer')\n",
    "plt.show()"
   ]
  },
  {
   "cell_type": "markdown",
   "id": "a94881d0",
   "metadata": {
    "papermill": {
     "duration": 0.012668,
     "end_time": "2022-06-12T14:12:27.213975",
     "exception": false,
     "start_time": "2022-06-12T14:12:27.201307",
     "status": "completed"
    },
    "tags": []
   },
   "source": [
    "대부분의 customer(80%)이 13개의 statements를 가지고 있음을 알 수 있다.  \n",
    "=> 즉, customer별로 variable-sized 입력을 처리해야한다."
   ]
  },
  {
   "cell_type": "markdown",
   "id": "c99990f4",
   "metadata": {
    "papermill": {
     "duration": 0.01186,
     "end_time": "2022-06-12T14:12:27.238480",
     "exception": false,
     "start_time": "2022-06-12T14:12:27.226620",
     "status": "completed"
    },
    "tags": []
   },
   "source": [
    "customer의 마지막 statement를 알아보자."
   ]
  },
  {
   "cell_type": "code",
   "execution_count": 12,
   "id": "ee715722",
   "metadata": {
    "execution": {
     "iopub.execute_input": "2022-06-12T14:12:27.265128Z",
     "iopub.status.busy": "2022-06-12T14:12:27.264471Z",
     "iopub.status.idle": "2022-06-12T14:12:32.584710Z",
     "shell.execute_reply": "2022-06-12T14:12:32.583571Z"
    },
    "papermill": {
     "duration": 5.336695,
     "end_time": "2022-06-12T14:12:32.587032",
     "exception": false,
     "start_time": "2022-06-12T14:12:27.250337",
     "status": "completed"
    },
    "tags": []
   },
   "outputs": [
    {
     "data": {
      "image/png": "[encoded data removed]",
      "text/plain": [
       "<Figure size 1080x720 with 1 Axes>"
      ]
     },
     "metadata": {
      "needs_background": "light"
     },
     "output_type": "display_data"
    },
    {
     "data": {
      "image/png": "[encoded data removed]",
      "text/plain": [
       "<Figure size 1080x720 with 1 Axes>"
      ]
     },
     "metadata": {
      "needs_background": "light"
     },
     "output_type": "display_data"
    }
   ],
   "source": [
    "tmp = train_data.S_2.groupby(train_data.customer_ID).max()\n",
    "plt.figure(figsize=(15,10))\n",
    "plt.hist(tmp, bins=pd.date_range(\"2018-03-01\", \"2018-04-01\", freq='d'), rwidth=0.8, color='#ffd700')\n",
    "plt.title('When did the train customers get their last statements?', fontsize=20)\n",
    "plt.xlabel('Last statement date per customer')\n",
    "plt.ylabel('Count')\n",
    "plt.show()\n",
    "del tmp\n",
    "tmp = test_data.S_2.groupby(test_data.customer_ID).max()\n",
    "plt.figure(figsize=(15,10))\n",
    "plt.hist(tmp, bins=pd.date_range(\"2019-04-01\", \"2019-11-01\", freq='d'), rwidth=0.8, color='#ffd700')\n",
    "plt.title('When did the test customers get their last statements?', fontsize=20)\n",
    "plt.xlabel('Last statement date per customer')\n",
    "plt.ylabel('Count')\n",
    "plt.show()\n",
    "del tmp"
   ]
  },
  {
   "cell_type": "markdown",
   "id": "8a57a6dd",
   "metadata": {
    "papermill": {
     "duration": 0.012047,
     "end_time": "2022-06-12T14:12:32.611684",
     "exception": false,
     "start_time": "2022-06-12T14:12:32.599637",
     "status": "completed"
    },
    "tags": []
   },
   "source": [
    "- train customer는 2018.03에 last statements 받음을 알 수 있고, 3월 3, 10, 17, 24일 (토요일)에 더 많은 statement가 있음을 알 수 있다.\n",
    "- test customer는 2개로 나눠져 있다. [이 곳](https://www.kaggle.com/competitions/amex-default-prediction/discussion/327602)에서 논의 되었듯이 2019.04는 public, 2019.10은 private을 위해 사용될 데이터다."
   ]
  },
  {
   "cell_type": "code",
   "execution_count": 13,
   "id": "7fb6d14b",
   "metadata": {
    "execution": {
     "iopub.execute_input": "2022-06-12T14:12:32.640026Z",
     "iopub.status.busy": "2022-06-12T14:12:32.639660Z",
     "iopub.status.idle": "2022-06-12T14:12:38.671372Z",
     "shell.execute_reply": "2022-06-12T14:12:38.670554Z"
    },
    "papermill": {
     "duration": 6.047976,
     "end_time": "2022-06-12T14:12:38.673002",
     "exception": false,
     "start_time": "2022-06-12T14:12:32.625026",
     "status": "completed"
    },
    "tags": []
   },
   "outputs": [
    {
     "data": {
      "image/png": "[encoded data removed]",
      "text/plain": [
       "<Figure size 1080x720 with 1 Axes>"
      ]
     },
     "metadata": {
      "needs_background": "light"
     },
     "output_type": "display_data"
    },
    {
     "data": {
      "image/png": "[encoded data removed]",
      "text/plain": [
       "<Figure size 1080x720 with 1 Axes>"
      ]
     },
     "metadata": {
      "needs_background": "light"
     },
     "output_type": "display_data"
    }
   ],
   "source": [
    "tmp = train_data.S_2.groupby(train_data.customer_ID).agg(['max', 'min'])\n",
    "plt.figure(figsize=(15,10))\n",
    "\n",
    "plt.hist((tmp['max'] - tmp['min']).dt.days, bins=400, color='#ffd700')\n",
    "plt.xlabel('days')\n",
    "plt.ylabel('count')\n",
    "plt.title('Number of days between first and last statement of customer (train)', fontsize=20)\n",
    "plt.gca().set_facecolor('#000000')\n",
    "plt.show()\n",
    "del tmp\n",
    "\n",
    "tmp = test_data.S_2.groupby(test_data.customer_ID).agg(['max', 'min'])\n",
    "plt.figure(figsize=(15,10))\n",
    "\n",
    "plt.hist((tmp['max'] - tmp['min']).dt.days, bins=400, color='#ffd700')\n",
    "plt.xlabel('days')\n",
    "plt.ylabel('count')\n",
    "plt.title('Number of days between first and last statement of customer (test)', fontsize=20)\n",
    "plt.gca().set_facecolor('#000000')\n",
    "plt.show()\n",
    "del tmp\n"
   ]
  },
  {
   "cell_type": "markdown",
   "id": "a16a2771",
   "metadata": {
    "papermill": {
     "duration": 0.00889,
     "end_time": "2022-06-12T14:12:38.691262",
     "exception": false,
     "start_time": "2022-06-12T14:12:38.682372",
     "status": "completed"
    },
    "tags": []
   },
   "source": [
    "대부분의 고객의 첫 statement와 마지막 statement는 약 1년의 차이가 있다. 일반적으로 13개의 statements가 있다는 것은 매월 statement를 받았음을 나타낸다."
   ]
  },
  {
   "cell_type": "code",
   "execution_count": 14,
   "id": "8e164c23",
   "metadata": {
    "execution": {
     "iopub.execute_input": "2022-06-12T14:12:38.712291Z",
     "iopub.status.busy": "2022-06-12T14:12:38.711761Z",
     "iopub.status.idle": "2022-06-12T14:12:48.681461Z",
     "shell.execute_reply": "2022-06-12T14:12:48.680182Z"
    },
    "papermill": {
     "duration": 9.98264,
     "end_time": "2022-06-12T14:12:48.683235",
     "exception": false,
     "start_time": "2022-06-12T14:12:38.700595",
     "status": "completed"
    },
    "tags": []
   },
   "outputs": [
    {
     "data": {
      "image/png": "[encoded data removed]",
      "text/plain": [
       "<Figure size 1080x720 with 1 Axes>"
      ]
     },
     "metadata": {
      "needs_background": "light"
     },
     "output_type": "display_data"
    }
   ],
   "source": [
    "tmp = pd.concat([train_data[['customer_ID', 'S_2']], test_data[['customer_ID', 'S_2']]], axis=0)\n",
    "tmp.set_index('customer_ID', inplace=True)\n",
    "tmp['last_month'] = tmp.groupby('customer_ID').S_2.max().dt.month\n",
    "last_month = tmp['last_month'].values\n",
    "\n",
    "plt.figure(figsize=(15,10))\n",
    "plt.hist([tmp.S_2[tmp.last_month==3],\n",
    "          tmp.S_2[tmp.last_month==4],\n",
    "          tmp.S_2[tmp.last_month==10]],\n",
    "         bins=pd.date_range('2017-03-01', '2019-11-01', freq='MS'),\n",
    "         label=['Training', 'Public leaderboard', 'Private leaderboard'],\n",
    "         stacked=True)\n",
    "plt.xticks(pd.date_range('2017-03-01', '2019-11-01', freq='QS'))\n",
    "plt.xlabel('Statement date')\n",
    "plt.ylabel('Count')\n",
    "plt.title('The three datasets over time', fontsize=20)\n",
    "plt.legend()\n",
    "plt.show()"
   ]
  },
  {
   "cell_type": "markdown",
   "id": "1bbb6f82",
   "metadata": {
    "papermill": {
     "duration": 0.00937,
     "end_time": "2022-06-12T14:12:48.703198",
     "exception": false,
     "start_time": "2022-06-12T14:12:48.693828",
     "status": "completed"
    },
    "tags": []
   },
   "source": [
    "- 데이터셋별로 13개월씩 이뤄짐을 알 수 있다.\n",
    "- Public leaderboard와 Private leaderboard가 겹침을 볼 수 있다."
   ]
  },
  {
   "cell_type": "code",
   "execution_count": null,
   "id": "f807545d",
   "metadata": {
    "papermill": {
     "duration": 0.013796,
     "end_time": "2022-06-12T14:12:48.730903",
     "exception": false,
     "start_time": "2022-06-12T14:12:48.717107",
     "status": "completed"
    },
    "tags": []
   },
   "outputs": [],
   "source": []
  }
 ],
 "metadata": {
  "kernelspec": {
   "display_name": "Python 3",
   "language": "python",
   "name": "python3"
  },
  "language_info": {
   "codemirror_mode": {
    "name": "ipython",
    "version": 3
   },
   "file_extension": ".py",
   "mimetype": "text/x-python",
   "name": "python",
   "nbconvert_exporter": "python",
   "pygments_lexer": "ipython3",
   "version": "3.7.12"
  },
  "papermill": {
   "default_parameters": {},
   "duration": 99.963335,
   "end_time": "2022-06-12T14:12:49.970674",
   "environment_variables": {},
   "exception": null,
   "input_path": "__notebook__.ipynb",
   "output_path": "__notebook__.ipynb",
   "parameters": {},
   "start_time": "2022-06-12T14:11:10.007339",
   "version": "2.3.4"
  }
 },
 "nbformat": 4,
 "nbformat_minor": 5
}
