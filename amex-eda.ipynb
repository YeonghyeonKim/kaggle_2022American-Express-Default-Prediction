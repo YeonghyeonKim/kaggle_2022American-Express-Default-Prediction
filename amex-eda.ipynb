{
 "cells": [
  {
   "cell_type": "markdown",
   "id": "eb77a040",
   "metadata": {
    "papermill": {
     "duration": 0.002955,
     "end_time": "2022-06-10T15:54:34.614500",
     "exception": false,
     "start_time": "2022-06-10T15:54:34.611545",
     "status": "completed"
    },
    "tags": []
   },
   "source": [
    "# AMEX EDA"
   ]
  },
  {
   "cell_type": "code",
   "execution_count": 1,
   "id": "ff72b8c4",
   "metadata": {
    "_cell_guid": "b1076dfc-b9ad-4769-8c92-a6c4dae69d19",
    "_uuid": "8f2839f25d086af736a60e9eeb907d3b93b6e0e5",
    "execution": {
     "iopub.execute_input": "2022-06-10T15:54:34.620711Z",
     "iopub.status.busy": "2022-06-10T15:54:34.619828Z",
     "iopub.status.idle": "2022-06-10T15:54:34.628876Z",
     "shell.execute_reply": "2022-06-10T15:54:34.628071Z"
    },
    "papermill": {
     "duration": 0.014338,
     "end_time": "2022-06-10T15:54:34.631045",
     "exception": false,
     "start_time": "2022-06-10T15:54:34.616707",
     "status": "completed"
    },
    "tags": []
   },
   "outputs": [],
   "source": [
    "import pandas as pd\n",
    "import numpy as np\n",
    "import matplotlib.pyplot as plt"
   ]
  },
  {
   "cell_type": "markdown",
   "id": "de755503",
   "metadata": {
    "papermill": {
     "duration": 0.001691,
     "end_time": "2022-06-10T15:54:34.634872",
     "exception": false,
     "start_time": "2022-06-10T15:54:34.633181",
     "status": "completed"
    },
    "tags": []
   },
   "source": [
    "# 🍙 Load Data"
   ]
  },
  {
   "cell_type": "code",
   "execution_count": 2,
   "id": "6794677d",
   "metadata": {
    "execution": {
     "iopub.execute_input": "2022-06-10T15:54:34.640616Z",
     "iopub.status.busy": "2022-06-10T15:54:34.639568Z",
     "iopub.status.idle": "2022-06-10T15:54:35.482642Z",
     "shell.execute_reply": "2022-06-10T15:54:35.481467Z"
    },
    "papermill": {
     "duration": 0.848235,
     "end_time": "2022-06-10T15:54:35.484954",
     "exception": false,
     "start_time": "2022-06-10T15:54:34.636719",
     "status": "completed"
    },
    "tags": []
   },
   "outputs": [],
   "source": [
    "train_labels = pd.read_csv('../input/amex-default-prediction/train_labels.csv')"
   ]
  },
  {
   "cell_type": "code",
   "execution_count": 3,
   "id": "8ca46f27",
   "metadata": {
    "execution": {
     "iopub.execute_input": "2022-06-10T15:54:35.491644Z",
     "iopub.status.busy": "2022-06-10T15:54:35.490713Z",
     "iopub.status.idle": "2022-06-10T15:54:35.508944Z",
     "shell.execute_reply": "2022-06-10T15:54:35.507919Z"
    },
    "papermill": {
     "duration": 0.023981,
     "end_time": "2022-06-10T15:54:35.511456",
     "exception": false,
     "start_time": "2022-06-10T15:54:35.487475",
     "status": "completed"
    },
    "tags": []
   },
   "outputs": [
    {
     "data": {
      "text/html": [
       "<div>\n",
       "<style scoped>\n",
       "    .dataframe tbody tr th:only-of-type {\n",
       "        vertical-align: middle;\n",
       "    }\n",
       "\n",
       "    .dataframe tbody tr th {\n",
       "        vertical-align: top;\n",
       "    }\n",
       "\n",
       "    .dataframe thead th {\n",
       "        text-align: right;\n",
       "    }\n",
       "</style>\n",
       "<table border=\"1\" class=\"dataframe\">\n",
       "  <thead>\n",
       "    <tr style=\"text-align: right;\">\n",
       "      <th></th>\n",
       "      <th>customer_ID</th>\n",
       "      <th>target</th>\n",
       "    </tr>\n",
       "  </thead>\n",
       "  <tbody>\n",
       "    <tr>\n",
       "      <th>0</th>\n",
       "      <td>0000099d6bd597052cdcda90ffabf56573fe9d7c79be5f...</td>\n",
       "      <td>0</td>\n",
       "    </tr>\n",
       "    <tr>\n",
       "      <th>1</th>\n",
       "      <td>00000fd6641609c6ece5454664794f0340ad84dddce9a2...</td>\n",
       "      <td>0</td>\n",
       "    </tr>\n",
       "    <tr>\n",
       "      <th>2</th>\n",
       "      <td>00001b22f846c82c51f6e3958ccd81970162bae8b007e8...</td>\n",
       "      <td>0</td>\n",
       "    </tr>\n",
       "    <tr>\n",
       "      <th>3</th>\n",
       "      <td>000041bdba6ecadd89a52d11886e8eaaec9325906c9723...</td>\n",
       "      <td>0</td>\n",
       "    </tr>\n",
       "    <tr>\n",
       "      <th>4</th>\n",
       "      <td>00007889e4fcd2614b6cbe7f8f3d2e5c728eca32d9eb8a...</td>\n",
       "      <td>0</td>\n",
       "    </tr>\n",
       "  </tbody>\n",
       "</table>\n",
       "</div>"
      ],
      "text/plain": [
       "                                         customer_ID  target\n",
       "0  0000099d6bd597052cdcda90ffabf56573fe9d7c79be5f...       0\n",
       "1  00000fd6641609c6ece5454664794f0340ad84dddce9a2...       0\n",
       "2  00001b22f846c82c51f6e3958ccd81970162bae8b007e8...       0\n",
       "3  000041bdba6ecadd89a52d11886e8eaaec9325906c9723...       0\n",
       "4  00007889e4fcd2614b6cbe7f8f3d2e5c728eca32d9eb8a...       0"
      ]
     },
     "execution_count": 3,
     "metadata": {},
     "output_type": "execute_result"
    }
   ],
   "source": [
    "train_labels.head()"
   ]
  },
  {
   "cell_type": "code",
   "execution_count": null,
   "id": "d9f8bf8c",
   "metadata": {
    "papermill": {
     "duration": 0.004315,
     "end_time": "2022-06-10T15:54:35.518144",
     "exception": false,
     "start_time": "2022-06-10T15:54:35.513829",
     "status": "completed"
    },
    "tags": []
   },
   "outputs": [],
   "source": []
  }
 ],
 "metadata": {
  "kernelspec": {
   "display_name": "Python 3",
   "language": "python",
   "name": "python3"
  },
  "language_info": {
   "codemirror_mode": {
    "name": "ipython",
    "version": 3
   },
   "file_extension": ".py",
   "mimetype": "text/x-python",
   "name": "python",
   "nbconvert_exporter": "python",
   "pygments_lexer": "ipython3",
   "version": "3.7.12"
  },
  "papermill": {
   "default_parameters": {},
   "duration": 10.592642,
   "end_time": "2022-06-10T15:54:36.143846",
   "environment_variables": {},
   "exception": null,
   "input_path": "__notebook__.ipynb",
   "output_path": "__notebook__.ipynb",
   "parameters": {},
   "start_time": "2022-06-10T15:54:25.551204",
   "version": "2.3.4"
  }
 },
 "nbformat": 4,
 "nbformat_minor": 5
}
