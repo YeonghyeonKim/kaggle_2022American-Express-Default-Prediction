{
 "cells": [
  {
   "cell_type": "markdown",
   "id": "d791b784",
   "metadata": {
    "papermill": {
     "duration": 0.008349,
     "end_time": "2022-07-29T15:51:24.068657",
     "exception": false,
     "start_time": "2022-07-29T15:51:24.060308",
     "status": "completed"
    },
    "tags": []
   },
   "source": [
    "# XGBoost Starter - LB 0.793\n",
    "In this notebook we build and train an XGBoost model using @raddar Kaggle dataset from [here][1] with discussion [here][2]. Then we engineer features suggested by @huseyincot in his notebooks [here][3] and [here][4]. This XGB model achieves CV 0.792 LB 0.793! When training with XGB, we use a special XGB dataloader called `DeviceQuantileDMatrix` which uses a small GPU memory footprint. This allows us to engineer more additional columns and train with more rows of data. Our feature engineering is performed using [RAPIDS][5] on the GPU to create new features quickly.\n",
    "\n",
    "[1]: https://www.kaggle.com/datasets/raddar/amex-data-integer-dtypes-parquet-format\n",
    "[2]: https://www.kaggle.com/competitions/amex-default-prediction/discussion/328514\n",
    "[3]: https://www.kaggle.com/code/huseyincot/amex-catboost-0-793\n",
    "[4]: https://www.kaggle.com/code/huseyincot/amex-agg-data-how-it-created\n",
    "[5]: https://rapids.ai/"
   ]
  },
  {
   "cell_type": "markdown",
   "id": "570ff4a0",
   "metadata": {
    "papermill": {
     "duration": 0.007332,
     "end_time": "2022-07-29T15:51:24.083468",
     "exception": false,
     "start_time": "2022-07-29T15:51:24.076136",
     "status": "completed"
    },
    "tags": []
   },
   "source": [
    "Feature Engineering I done\n",
    "1. Drop B_29, https://www.kaggle.com/code/roberthatch/amex-feature-engg-gpu-or-cpu-process-in-chunks/notebook\n",
    "2. Add each customer count (how long they used) (not normalize)\n",
    "3. Don't fill NaN (with -127)\n",
    "4. remove num_features's min, std\n",
    "5. 중요하다고 판단되는 feature만 남김"
   ]
  },
  {
   "cell_type": "markdown",
   "id": "6c9d5de1",
   "metadata": {
    "papermill": {
     "duration": 0.007116,
     "end_time": "2022-07-29T15:51:24.098096",
     "exception": false,
     "start_time": "2022-07-29T15:51:24.090980",
     "status": "completed"
    },
    "tags": []
   },
   "source": [
    "# Load Libraries"
   ]
  },
  {
   "cell_type": "code",
   "execution_count": 1,
   "id": "3f93ec3a",
   "metadata": {
    "execution": {
     "iopub.execute_input": "2022-07-29T15:51:24.114537Z",
     "iopub.status.busy": "2022-07-29T15:51:24.113988Z",
     "iopub.status.idle": "2022-07-29T15:51:28.274256Z",
     "shell.execute_reply": "2022-07-29T15:51:28.272451Z"
    },
    "papermill": {
     "duration": 4.172185,
     "end_time": "2022-07-29T15:51:28.277317",
     "exception": false,
     "start_time": "2022-07-29T15:51:24.105132",
     "status": "completed"
    },
    "tags": []
   },
   "outputs": [
    {
     "name": "stdout",
     "output_type": "stream",
     "text": [
      "RAPIDS version 21.10.01\n"
     ]
    }
   ],
   "source": [
    "# LOAD LIBRARIES\n",
    "import pandas as pd, numpy as np # CPU libraries\n",
    "import cupy, cudf # GPU libraries\n",
    "import matplotlib.pyplot as plt, gc, os\n",
    "\n",
    "print('RAPIDS version',cudf.__version__)"
   ]
  },
  {
   "cell_type": "code",
   "execution_count": 2,
   "id": "f923acf7",
   "metadata": {
    "execution": {
     "iopub.execute_input": "2022-07-29T15:51:28.294403Z",
     "iopub.status.busy": "2022-07-29T15:51:28.293413Z",
     "iopub.status.idle": "2022-07-29T15:51:28.298822Z",
     "shell.execute_reply": "2022-07-29T15:51:28.298105Z"
    },
    "papermill": {
     "duration": 0.015448,
     "end_time": "2022-07-29T15:51:28.300595",
     "exception": false,
     "start_time": "2022-07-29T15:51:28.285147",
     "status": "completed"
    },
    "tags": []
   },
   "outputs": [],
   "source": [
    "# VERSION NAME FOR SAVED MODEL FILES\n",
    "VER = 1\n",
    "\n",
    "# TRAIN RANDOM SEED\n",
    "SEED = 42\n",
    "\n",
    "# FILL NAN VALUE\n",
    "NAN_VALUE = -127 # will fit in int8\n",
    "\n",
    "# FOLDS PER MODEL\n",
    "FOLDS = 5"
   ]
  },
  {
   "cell_type": "markdown",
   "id": "6c942926",
   "metadata": {
    "papermill": {
     "duration": 0.006845,
     "end_time": "2022-07-29T15:51:28.314478",
     "exception": false,
     "start_time": "2022-07-29T15:51:28.307633",
     "status": "completed"
    },
    "tags": []
   },
   "source": [
    "# Process and Feature Engineer Train Data\n",
    "We will load @raddar Kaggle dataset from [here][1] with discussion [here][2]. Then we will engineer features suggested by @huseyincot in his notebooks [here][3] and [here][4]. We will use [RAPIDS][5] and the GPU to create new features quickly.\n",
    "\n",
    "[1]: https://www.kaggle.com/datasets/raddar/amex-data-integer-dtypes-parquet-format\n",
    "[2]: https://www.kaggle.com/competitions/amex-default-prediction/discussion/328514\n",
    "[3]: https://www.kaggle.com/code/huseyincot/amex-catboost-0-793\n",
    "[4]: https://www.kaggle.com/code/huseyincot/amex-agg-data-how-it-created\n",
    "[5]: https://rapids.ai/"
   ]
  },
  {
   "cell_type": "code",
   "execution_count": 3,
   "id": "506bf348",
   "metadata": {
    "execution": {
     "iopub.execute_input": "2022-07-29T15:51:28.330078Z",
     "iopub.status.busy": "2022-07-29T15:51:28.329387Z",
     "iopub.status.idle": "2022-07-29T15:51:52.447744Z",
     "shell.execute_reply": "2022-07-29T15:51:52.445923Z"
    },
    "papermill": {
     "duration": 24.128465,
     "end_time": "2022-07-29T15:51:52.449700",
     "exception": false,
     "start_time": "2022-07-29T15:51:28.321235",
     "status": "completed"
    },
    "tags": []
   },
   "outputs": [
    {
     "name": "stdout",
     "output_type": "stream",
     "text": [
      "Reading train data...\n",
      "shape of data: (5531451, 190)\n"
     ]
    }
   ],
   "source": [
    "def read_file(path = '', usecols = None):\n",
    "    # LOAD DATAFRAME\n",
    "    if usecols is not None: df = cudf.read_parquet(path, columns=usecols)\n",
    "    else: df = cudf.read_parquet(path)\n",
    "    # REDUCE DTYPE FOR CUSTOMER AND DATE\n",
    "    df['customer_ID'] = df['customer_ID'].str[-16:].str.hex_to_int().astype('int64')\n",
    "    df.S_2 = cudf.to_datetime( df.S_2 )\n",
    "    # SORT BY CUSTOMER AND DATE (so agg('last') works correctly)\n",
    "    #df = df.sort_values(['customer_ID','S_2'])\n",
    "    #df = df.reset_index(drop=True)\n",
    "    # FILL NAN\n",
    "#     df = df.fillna(NAN_VALUE) \n",
    "    print('shape of data:', df.shape)\n",
    "    \n",
    "    return df\n",
    "\n",
    "print('Reading train data...')\n",
    "TRAIN_PATH = '../input/amex-data-integer-dtypes-parquet-format/train.parquet'\n",
    "train = read_file(path = TRAIN_PATH)"
   ]
  },
  {
   "cell_type": "code",
   "execution_count": 4,
   "id": "f26b8719",
   "metadata": {
    "execution": {
     "iopub.execute_input": "2022-07-29T15:51:52.465615Z",
     "iopub.status.busy": "2022-07-29T15:51:52.465063Z",
     "iopub.status.idle": "2022-07-29T15:51:52.780476Z",
     "shell.execute_reply": "2022-07-29T15:51:52.779591Z"
    },
    "papermill": {
     "duration": 0.325437,
     "end_time": "2022-07-29T15:51:52.782471",
     "exception": false,
     "start_time": "2022-07-29T15:51:52.457034",
     "status": "completed"
    },
    "tags": []
   },
   "outputs": [
    {
     "data": {
      "text/html": [
       "<div>\n",
       "<style scoped>\n",
       "    .dataframe tbody tr th:only-of-type {\n",
       "        vertical-align: middle;\n",
       "    }\n",
       "\n",
       "    .dataframe tbody tr th {\n",
       "        vertical-align: top;\n",
       "    }\n",
       "\n",
       "    .dataframe thead th {\n",
       "        text-align: right;\n",
       "    }\n",
       "</style>\n",
       "<table border=\"1\" class=\"dataframe\">\n",
       "  <thead>\n",
       "    <tr style=\"text-align: right;\">\n",
       "      <th></th>\n",
       "      <th>customer_ID</th>\n",
       "      <th>S_2</th>\n",
       "      <th>P_2</th>\n",
       "      <th>D_39</th>\n",
       "      <th>B_1</th>\n",
       "      <th>B_2</th>\n",
       "      <th>R_1</th>\n",
       "      <th>S_3</th>\n",
       "      <th>D_41</th>\n",
       "      <th>B_3</th>\n",
       "      <th>...</th>\n",
       "      <th>D_136</th>\n",
       "      <th>D_137</th>\n",
       "      <th>D_138</th>\n",
       "      <th>D_139</th>\n",
       "      <th>D_140</th>\n",
       "      <th>D_141</th>\n",
       "      <th>D_142</th>\n",
       "      <th>D_143</th>\n",
       "      <th>D_144</th>\n",
       "      <th>D_145</th>\n",
       "    </tr>\n",
       "  </thead>\n",
       "  <tbody>\n",
       "    <tr>\n",
       "      <th>0</th>\n",
       "      <td>-4532153018459703766</td>\n",
       "      <td>2017-03-09</td>\n",
       "      <td>0.938469</td>\n",
       "      <td>0</td>\n",
       "      <td>0.008724</td>\n",
       "      <td>1.006838</td>\n",
       "      <td>0.009228</td>\n",
       "      <td>0.124035</td>\n",
       "      <td>0.0</td>\n",
       "      <td>0.004709</td>\n",
       "      <td>...</td>\n",
       "      <td>-1</td>\n",
       "      <td>-1</td>\n",
       "      <td>-1</td>\n",
       "      <td>0</td>\n",
       "      <td>0</td>\n",
       "      <td>0.0</td>\n",
       "      <td>&lt;NA&gt;</td>\n",
       "      <td>0</td>\n",
       "      <td>0.000610</td>\n",
       "      <td>0</td>\n",
       "    </tr>\n",
       "    <tr>\n",
       "      <th>1</th>\n",
       "      <td>-4532153018459703766</td>\n",
       "      <td>2017-04-07</td>\n",
       "      <td>0.936665</td>\n",
       "      <td>0</td>\n",
       "      <td>0.004923</td>\n",
       "      <td>1.000653</td>\n",
       "      <td>0.006151</td>\n",
       "      <td>0.126750</td>\n",
       "      <td>0.0</td>\n",
       "      <td>0.002714</td>\n",
       "      <td>...</td>\n",
       "      <td>-1</td>\n",
       "      <td>-1</td>\n",
       "      <td>-1</td>\n",
       "      <td>0</td>\n",
       "      <td>0</td>\n",
       "      <td>0.0</td>\n",
       "      <td>&lt;NA&gt;</td>\n",
       "      <td>0</td>\n",
       "      <td>0.005492</td>\n",
       "      <td>0</td>\n",
       "    </tr>\n",
       "    <tr>\n",
       "      <th>2</th>\n",
       "      <td>-4532153018459703766</td>\n",
       "      <td>2017-05-28</td>\n",
       "      <td>0.954180</td>\n",
       "      <td>3</td>\n",
       "      <td>0.021655</td>\n",
       "      <td>1.009672</td>\n",
       "      <td>0.006815</td>\n",
       "      <td>0.123977</td>\n",
       "      <td>0.0</td>\n",
       "      <td>0.009423</td>\n",
       "      <td>...</td>\n",
       "      <td>-1</td>\n",
       "      <td>-1</td>\n",
       "      <td>-1</td>\n",
       "      <td>0</td>\n",
       "      <td>0</td>\n",
       "      <td>0.0</td>\n",
       "      <td>&lt;NA&gt;</td>\n",
       "      <td>0</td>\n",
       "      <td>0.006986</td>\n",
       "      <td>0</td>\n",
       "    </tr>\n",
       "    <tr>\n",
       "      <th>3</th>\n",
       "      <td>-4532153018459703766</td>\n",
       "      <td>2017-06-13</td>\n",
       "      <td>0.960384</td>\n",
       "      <td>0</td>\n",
       "      <td>0.013683</td>\n",
       "      <td>1.002700</td>\n",
       "      <td>0.001373</td>\n",
       "      <td>0.117169</td>\n",
       "      <td>0.0</td>\n",
       "      <td>0.005531</td>\n",
       "      <td>...</td>\n",
       "      <td>-1</td>\n",
       "      <td>-1</td>\n",
       "      <td>-1</td>\n",
       "      <td>0</td>\n",
       "      <td>0</td>\n",
       "      <td>0.0</td>\n",
       "      <td>&lt;NA&gt;</td>\n",
       "      <td>0</td>\n",
       "      <td>0.006527</td>\n",
       "      <td>0</td>\n",
       "    </tr>\n",
       "    <tr>\n",
       "      <th>4</th>\n",
       "      <td>-4532153018459703766</td>\n",
       "      <td>2017-07-16</td>\n",
       "      <td>0.947248</td>\n",
       "      <td>0</td>\n",
       "      <td>0.015193</td>\n",
       "      <td>1.000727</td>\n",
       "      <td>0.007605</td>\n",
       "      <td>0.117325</td>\n",
       "      <td>0.0</td>\n",
       "      <td>0.009312</td>\n",
       "      <td>...</td>\n",
       "      <td>-1</td>\n",
       "      <td>-1</td>\n",
       "      <td>-1</td>\n",
       "      <td>0</td>\n",
       "      <td>0</td>\n",
       "      <td>0.0</td>\n",
       "      <td>&lt;NA&gt;</td>\n",
       "      <td>0</td>\n",
       "      <td>0.008126</td>\n",
       "      <td>0</td>\n",
       "    </tr>\n",
       "  </tbody>\n",
       "</table>\n",
       "<p>5 rows × 190 columns</p>\n",
       "</div>"
      ],
      "text/plain": [
       "           customer_ID        S_2       P_2  D_39       B_1       B_2  \\\n",
       "0 -4532153018459703766 2017-03-09  0.938469     0  0.008724  1.006838   \n",
       "1 -4532153018459703766 2017-04-07  0.936665     0  0.004923  1.000653   \n",
       "2 -4532153018459703766 2017-05-28  0.954180     3  0.021655  1.009672   \n",
       "3 -4532153018459703766 2017-06-13  0.960384     0  0.013683  1.002700   \n",
       "4 -4532153018459703766 2017-07-16  0.947248     0  0.015193  1.000727   \n",
       "\n",
       "        R_1       S_3  D_41       B_3  ... D_136  D_137  D_138  D_139  D_140  \\\n",
       "0  0.009228  0.124035   0.0  0.004709  ...    -1     -1     -1      0      0   \n",
       "1  0.006151  0.126750   0.0  0.002714  ...    -1     -1     -1      0      0   \n",
       "2  0.006815  0.123977   0.0  0.009423  ...    -1     -1     -1      0      0   \n",
       "3  0.001373  0.117169   0.0  0.005531  ...    -1     -1     -1      0      0   \n",
       "4  0.007605  0.117325   0.0  0.009312  ...    -1     -1     -1      0      0   \n",
       "\n",
       "   D_141  D_142 D_143     D_144  D_145  \n",
       "0    0.0   <NA>     0  0.000610      0  \n",
       "1    0.0   <NA>     0  0.005492      0  \n",
       "2    0.0   <NA>     0  0.006986      0  \n",
       "3    0.0   <NA>     0  0.006527      0  \n",
       "4    0.0   <NA>     0  0.008126      0  \n",
       "\n",
       "[5 rows x 190 columns]"
      ]
     },
     "execution_count": 4,
     "metadata": {},
     "output_type": "execute_result"
    }
   ],
   "source": [
    "train.head()"
   ]
  },
  {
   "cell_type": "code",
   "execution_count": 5,
   "id": "939c8716",
   "metadata": {
    "execution": {
     "iopub.execute_input": "2022-07-29T15:51:52.798503Z",
     "iopub.status.busy": "2022-07-29T15:51:52.798198Z",
     "iopub.status.idle": "2022-07-29T15:51:55.156587Z",
     "shell.execute_reply": "2022-07-29T15:51:55.155566Z"
    },
    "papermill": {
     "duration": 2.369163,
     "end_time": "2022-07-29T15:51:55.158953",
     "exception": false,
     "start_time": "2022-07-29T15:51:52.789790",
     "status": "completed"
    },
    "tags": []
   },
   "outputs": [
    {
     "name": "stdout",
     "output_type": "stream",
     "text": [
      "shape after engineering (458913, 535)\n"
     ]
    }
   ],
   "source": [
    "def process_and_feature_engineer(df):\n",
    "    # FEATURE ENGINEERING FROM \n",
    "    # https://www.kaggle.com/code/huseyincot/amex-agg-data-how-it-created\n",
    "    \n",
    "#     1) Drop 'B_29'\n",
    "    df.drop(['B_29'], inplace=True, axis=1)\n",
    "#     5) D_39에 대한 feature 추가\n",
    "#     df['D_39_div30'] = df['D_39']/30\n",
    "    \n",
    "#     6) B1, B2에 연관 feature추가\n",
    "#     df['B_1,2ratio'] = df['B_1']/(df['B_2']+0.0000001)\n",
    "\n",
    "    \n",
    "    \n",
    "    all_cols = [c for c in list(df.columns) if c not in ['customer_ID','S_2']]\n",
    "    cat_features = [\"B_30\",\"B_38\",\"D_114\",\"D_116\",\"D_117\",\"D_120\",\"D_126\",\"D_63\",\"D_64\",\"D_66\",\"D_68\"]\n",
    "    num_features = [col for col in all_cols if col not in cat_features]\n",
    "    cat_features = ['D_116', 'D_120']\n",
    "#     2) Add customer count\n",
    "    test_count_agg = df.groupby(['customer_ID'])['S_2'].agg(['count'])\n",
    "\n",
    "\n",
    "    test_num_agg = df.groupby(\"customer_ID\")[num_features].agg(['mean', 'max', 'last'])\n",
    "    test_num_agg.columns = ['_'.join(x) for x in test_num_agg.columns]\n",
    "\n",
    "    test_cat_agg = df.groupby(\"customer_ID\")[cat_features].agg(['count', 'last', 'nunique'])\n",
    "    test_cat_agg.columns = ['_'.join(x) for x in test_cat_agg.columns]\n",
    "    \n",
    "    \n",
    "    df = cudf.concat([test_count_agg,test_num_agg, test_cat_agg], axis=1)\n",
    "    del test_num_agg, test_cat_agg\n",
    "    print('shape after engineering', df.shape )\n",
    "    \n",
    "    return df\n",
    "\n",
    "train = process_and_feature_engineer(train)"
   ]
  },
  {
   "cell_type": "code",
   "execution_count": 6,
   "id": "f61d7a69",
   "metadata": {
    "execution": {
     "iopub.execute_input": "2022-07-29T15:51:55.175541Z",
     "iopub.status.busy": "2022-07-29T15:51:55.175199Z",
     "iopub.status.idle": "2022-07-29T15:51:56.211053Z",
     "shell.execute_reply": "2022-07-29T15:51:56.210102Z"
    },
    "papermill": {
     "duration": 1.046922,
     "end_time": "2022-07-29T15:51:56.213141",
     "exception": false,
     "start_time": "2022-07-29T15:51:55.166219",
     "status": "completed"
    },
    "tags": []
   },
   "outputs": [
    {
     "name": "stdout",
     "output_type": "stream",
     "text": [
      "There are 535 features!\n"
     ]
    }
   ],
   "source": [
    "# ADD TARGETS\n",
    "targets = cudf.read_csv('../input/amex-default-prediction/train_labels.csv')\n",
    "targets['customer_ID'] = targets['customer_ID'].str[-16:].str.hex_to_int().astype('int64')\n",
    "targets = targets.set_index('customer_ID')\n",
    "train = train.merge(targets, left_index=True, right_index=True, how='left')\n",
    "train.target = train.target.astype('int8')\n",
    "del targets\n",
    "\n",
    "# NEEDED TO MAKE CV DETERMINISTIC (cudf merge above randomly shuffles rows)\n",
    "train = train.sort_index().reset_index()\n",
    "\n",
    "# FEATURES\n",
    "FEATURES = train.columns[1:-1]\n",
    "print(f'There are {len(FEATURES)} features!')"
   ]
  },
  {
   "cell_type": "markdown",
   "id": "69ea7a82",
   "metadata": {
    "papermill": {
     "duration": 0.007308,
     "end_time": "2022-07-29T15:51:56.228368",
     "exception": false,
     "start_time": "2022-07-29T15:51:56.221060",
     "status": "completed"
    },
    "tags": []
   },
   "source": [
    "# Train XGB\n",
    "We will train using `DeviceQuantileDMatrix`. This has a very small GPU memory footprint."
   ]
  },
  {
   "cell_type": "code",
   "execution_count": 7,
   "id": "8bcf56aa",
   "metadata": {
    "execution": {
     "iopub.execute_input": "2022-07-29T15:51:56.246113Z",
     "iopub.status.busy": "2022-07-29T15:51:56.245307Z",
     "iopub.status.idle": "2022-07-29T15:51:56.349484Z",
     "shell.execute_reply": "2022-07-29T15:51:56.348403Z"
    },
    "papermill": {
     "duration": 0.115598,
     "end_time": "2022-07-29T15:51:56.352028",
     "exception": false,
     "start_time": "2022-07-29T15:51:56.236430",
     "status": "completed"
    },
    "tags": []
   },
   "outputs": [
    {
     "name": "stdout",
     "output_type": "stream",
     "text": [
      "XGB Version 1.6.1\n"
     ]
    }
   ],
   "source": [
    "# LOAD XGB LIBRARY\n",
    "from sklearn.model_selection import KFold\n",
    "import xgboost as xgb\n",
    "print('XGB Version',xgb.__version__)\n",
    "\n",
    "# XGB MODEL PARAMETERS\n",
    "xgb_parms = { \n",
    "    'max_depth':4, \n",
    "    'learning_rate':0.05, \n",
    "    'subsample':0.8,\n",
    "    'colsample_bytree':0.6, \n",
    "    'eval_metric':'logloss',\n",
    "    'objective':'binary:logistic',\n",
    "    'tree_method':'gpu_hist',\n",
    "    'predictor':'gpu_predictor',\n",
    "    'random_state':SEED\n",
    "}"
   ]
  },
  {
   "cell_type": "code",
   "execution_count": 8,
   "id": "1ef26caa",
   "metadata": {
    "execution": {
     "iopub.execute_input": "2022-07-29T15:51:56.369296Z",
     "iopub.status.busy": "2022-07-29T15:51:56.368936Z",
     "iopub.status.idle": "2022-07-29T15:51:56.378470Z",
     "shell.execute_reply": "2022-07-29T15:51:56.377563Z"
    },
    "papermill": {
     "duration": 0.020543,
     "end_time": "2022-07-29T15:51:56.380437",
     "exception": false,
     "start_time": "2022-07-29T15:51:56.359894",
     "status": "completed"
    },
    "tags": []
   },
   "outputs": [],
   "source": [
    "# NEEDED WITH DeviceQuantileDMatrix BELOW\n",
    "class IterLoadForDMatrix(xgb.core.DataIter):\n",
    "    def __init__(self, df=None, features=None, target=None, batch_size=256*1024):\n",
    "        self.features = features\n",
    "        self.target = target\n",
    "        self.df = df\n",
    "        self.it = 0 # set iterator to 0\n",
    "        self.batch_size = batch_size\n",
    "        self.batches = int( np.ceil( len(df) / self.batch_size ) )\n",
    "        super().__init__()\n",
    "\n",
    "    def reset(self):\n",
    "        '''Reset the iterator'''\n",
    "        self.it = 0\n",
    "\n",
    "    def next(self, input_data):\n",
    "        '''Yield next batch of data.'''\n",
    "        if self.it == self.batches:\n",
    "            return 0 # Return 0 when there's no more batch.\n",
    "        \n",
    "        a = self.it * self.batch_size\n",
    "        b = min( (self.it + 1) * self.batch_size, len(self.df) )\n",
    "        dt = cudf.DataFrame(self.df.iloc[a:b])\n",
    "        input_data(data=dt[self.features], label=dt[self.target]) #, weight=dt['weight'])\n",
    "        self.it += 1\n",
    "        return 1"
   ]
  },
  {
   "cell_type": "code",
   "execution_count": 9,
   "id": "173c5b80",
   "metadata": {
    "execution": {
     "iopub.execute_input": "2022-07-29T15:51:56.397530Z",
     "iopub.status.busy": "2022-07-29T15:51:56.397203Z",
     "iopub.status.idle": "2022-07-29T15:51:56.407380Z",
     "shell.execute_reply": "2022-07-29T15:51:56.406519Z"
    },
    "papermill": {
     "duration": 0.021148,
     "end_time": "2022-07-29T15:51:56.409593",
     "exception": false,
     "start_time": "2022-07-29T15:51:56.388445",
     "status": "completed"
    },
    "tags": []
   },
   "outputs": [],
   "source": [
    "# https://www.kaggle.com/kyakovlev\n",
    "# https://www.kaggle.com/competitions/amex-default-prediction/discussion/327534\n",
    "def amex_metric_mod(y_true, y_pred):\n",
    "\n",
    "    labels     = np.transpose(np.array([y_true, y_pred]))\n",
    "    labels     = labels[labels[:, 1].argsort()[::-1]]\n",
    "    weights    = np.where(labels[:,0]==0, 20, 1)\n",
    "    cut_vals   = labels[np.cumsum(weights) <= int(0.04 * np.sum(weights))]\n",
    "    top_four   = np.sum(cut_vals[:,0]) / np.sum(labels[:,0])\n",
    "\n",
    "    gini = [0,0]\n",
    "    for i in [1,0]:\n",
    "        labels         = np.transpose(np.array([y_true, y_pred]))\n",
    "        labels         = labels[labels[:, i].argsort()[::-1]]\n",
    "        weight         = np.where(labels[:,0]==0, 20, 1)\n",
    "        weight_random  = np.cumsum(weight / np.sum(weight))\n",
    "        total_pos      = np.sum(labels[:, 0] *  weight)\n",
    "        cum_pos_found  = np.cumsum(labels[:, 0] * weight)\n",
    "        lorentz        = cum_pos_found / total_pos\n",
    "        gini[i]        = np.sum((lorentz - weight_random) * weight)\n",
    "\n",
    "    return 0.5 * (gini[1]/gini[0] + top_four)"
   ]
  },
  {
   "cell_type": "code",
   "execution_count": 10,
   "id": "e094a4e4",
   "metadata": {
    "execution": {
     "iopub.execute_input": "2022-07-29T15:51:56.426630Z",
     "iopub.status.busy": "2022-07-29T15:51:56.426092Z",
     "iopub.status.idle": "2022-07-29T15:58:06.674830Z",
     "shell.execute_reply": "2022-07-29T15:58:06.673837Z"
    },
    "papermill": {
     "duration": 370.259695,
     "end_time": "2022-07-29T15:58:06.677039",
     "exception": false,
     "start_time": "2022-07-29T15:51:56.417344",
     "status": "completed"
    },
    "scrolled": true,
    "tags": []
   },
   "outputs": [
    {
     "name": "stdout",
     "output_type": "stream",
     "text": [
      "#########################\n",
      "### Fold 1\n",
      "### Train size 367130 Valid size 91783\n",
      "### Training with 100% fold data...\n",
      "#########################\n",
      "[0]\ttrain-logloss:0.66200\tvalid-logloss:0.66202\n",
      "[100]\ttrain-logloss:0.23713\tvalid-logloss:0.23971\n",
      "[200]\ttrain-logloss:0.22283\tvalid-logloss:0.22789\n",
      "[300]\ttrain-logloss:0.21677\tvalid-logloss:0.22384\n",
      "[400]\ttrain-logloss:0.21285\tvalid-logloss:0.22180\n",
      "[500]\ttrain-logloss:0.20977\tvalid-logloss:0.22069\n",
      "[600]\ttrain-logloss:0.20716\tvalid-logloss:0.21990\n",
      "[700]\ttrain-logloss:0.20479\tvalid-logloss:0.21935\n",
      "[800]\ttrain-logloss:0.20265\tvalid-logloss:0.21891\n",
      "[900]\ttrain-logloss:0.20054\tvalid-logloss:0.21861\n",
      "[1000]\ttrain-logloss:0.19857\tvalid-logloss:0.21839\n",
      "[1100]\ttrain-logloss:0.19667\tvalid-logloss:0.21822\n",
      "[1200]\ttrain-logloss:0.19489\tvalid-logloss:0.21806\n",
      "[1300]\ttrain-logloss:0.19322\tvalid-logloss:0.21793\n",
      "[1400]\ttrain-logloss:0.19151\tvalid-logloss:0.21784\n",
      "[1500]\ttrain-logloss:0.18988\tvalid-logloss:0.21784\n",
      "[1600]\ttrain-logloss:0.18818\tvalid-logloss:0.21777\n",
      "[1700]\ttrain-logloss:0.18656\tvalid-logloss:0.21773\n",
      "[1800]\ttrain-logloss:0.18497\tvalid-logloss:0.21769\n",
      "[1892]\ttrain-logloss:0.18351\tvalid-logloss:0.21770\n",
      "Kaggle Metric = 0.7917946653990279 \n",
      "\n",
      "#########################\n",
      "### Fold 2\n",
      "### Train size 367130 Valid size 91783\n",
      "### Training with 100% fold data...\n",
      "#########################\n",
      "[0]\ttrain-logloss:0.66202\tvalid-logloss:0.66199\n",
      "[100]\ttrain-logloss:0.23734\tvalid-logloss:0.23825\n",
      "[200]\ttrain-logloss:0.22327\tvalid-logloss:0.22617\n",
      "[300]\ttrain-logloss:0.21717\tvalid-logloss:0.22221\n",
      "[400]\ttrain-logloss:0.21319\tvalid-logloss:0.22025\n",
      "[500]\ttrain-logloss:0.21017\tvalid-logloss:0.21914\n",
      "[600]\ttrain-logloss:0.20744\tvalid-logloss:0.21838\n",
      "[700]\ttrain-logloss:0.20505\tvalid-logloss:0.21791\n",
      "[800]\ttrain-logloss:0.20287\tvalid-logloss:0.21751\n",
      "[900]\ttrain-logloss:0.20080\tvalid-logloss:0.21725\n",
      "[1000]\ttrain-logloss:0.19890\tvalid-logloss:0.21711\n",
      "[1100]\ttrain-logloss:0.19695\tvalid-logloss:0.21697\n",
      "[1200]\ttrain-logloss:0.19508\tvalid-logloss:0.21687\n",
      "[1300]\ttrain-logloss:0.19336\tvalid-logloss:0.21673\n",
      "[1400]\ttrain-logloss:0.19160\tvalid-logloss:0.21669\n",
      "[1500]\ttrain-logloss:0.18990\tvalid-logloss:0.21663\n",
      "[1600]\ttrain-logloss:0.18826\tvalid-logloss:0.21659\n",
      "[1700]\ttrain-logloss:0.18661\tvalid-logloss:0.21656\n",
      "[1770]\ttrain-logloss:0.18550\tvalid-logloss:0.21656\n",
      "Kaggle Metric = 0.7920982245609344 \n",
      "\n",
      "#########################\n",
      "### Fold 3\n",
      "### Train size 367130 Valid size 91783\n",
      "### Training with 100% fold data...\n",
      "#########################\n",
      "[0]\ttrain-logloss:0.66194\tvalid-logloss:0.66205\n",
      "[100]\ttrain-logloss:0.23681\tvalid-logloss:0.24081\n",
      "[200]\ttrain-logloss:0.22265\tvalid-logloss:0.22907\n",
      "[300]\ttrain-logloss:0.21657\tvalid-logloss:0.22507\n",
      "[400]\ttrain-logloss:0.21253\tvalid-logloss:0.22307\n",
      "[500]\ttrain-logloss:0.20933\tvalid-logloss:0.22192\n",
      "[600]\ttrain-logloss:0.20660\tvalid-logloss:0.22114\n",
      "[700]\ttrain-logloss:0.20429\tvalid-logloss:0.22068\n",
      "[800]\ttrain-logloss:0.20214\tvalid-logloss:0.22032\n",
      "[900]\ttrain-logloss:0.20007\tvalid-logloss:0.22003\n",
      "[1000]\ttrain-logloss:0.19810\tvalid-logloss:0.21984\n",
      "[1100]\ttrain-logloss:0.19620\tvalid-logloss:0.21972\n",
      "[1200]\ttrain-logloss:0.19439\tvalid-logloss:0.21961\n",
      "[1300]\ttrain-logloss:0.19264\tvalid-logloss:0.21956\n",
      "[1400]\ttrain-logloss:0.19089\tvalid-logloss:0.21950\n",
      "[1500]\ttrain-logloss:0.18925\tvalid-logloss:0.21946\n",
      "[1600]\ttrain-logloss:0.18757\tvalid-logloss:0.21940\n",
      "[1700]\ttrain-logloss:0.18592\tvalid-logloss:0.21936\n",
      "[1800]\ttrain-logloss:0.18431\tvalid-logloss:0.21931\n",
      "[1900]\ttrain-logloss:0.18279\tvalid-logloss:0.21937\n",
      "[1906]\ttrain-logloss:0.18268\tvalid-logloss:0.21937\n",
      "Kaggle Metric = 0.7901821639977051 \n",
      "\n",
      "#########################\n",
      "### Fold 4\n",
      "### Train size 367131 Valid size 91782\n",
      "### Training with 100% fold data...\n",
      "#########################\n",
      "[0]\ttrain-logloss:0.66197\tvalid-logloss:0.66210\n",
      "[100]\ttrain-logloss:0.23669\tvalid-logloss:0.24129\n",
      "[200]\ttrain-logloss:0.22238\tvalid-logloss:0.22919\n",
      "[300]\ttrain-logloss:0.21641\tvalid-logloss:0.22540\n",
      "[400]\ttrain-logloss:0.21242\tvalid-logloss:0.22350\n",
      "[500]\ttrain-logloss:0.20928\tvalid-logloss:0.22243\n",
      "[600]\ttrain-logloss:0.20658\tvalid-logloss:0.22168\n",
      "[700]\ttrain-logloss:0.20422\tvalid-logloss:0.22117\n",
      "[800]\ttrain-logloss:0.20203\tvalid-logloss:0.22091\n",
      "[900]\ttrain-logloss:0.19995\tvalid-logloss:0.22062\n",
      "[1000]\ttrain-logloss:0.19794\tvalid-logloss:0.22040\n",
      "[1100]\ttrain-logloss:0.19608\tvalid-logloss:0.22022\n",
      "[1200]\ttrain-logloss:0.19421\tvalid-logloss:0.22008\n",
      "[1300]\ttrain-logloss:0.19238\tvalid-logloss:0.21994\n",
      "[1400]\ttrain-logloss:0.19065\tvalid-logloss:0.21988\n",
      "[1500]\ttrain-logloss:0.18894\tvalid-logloss:0.21984\n",
      "[1600]\ttrain-logloss:0.18731\tvalid-logloss:0.21979\n",
      "[1700]\ttrain-logloss:0.18569\tvalid-logloss:0.21976\n",
      "[1753]\ttrain-logloss:0.18478\tvalid-logloss:0.21973\n",
      "Kaggle Metric = 0.7875058247747768 \n",
      "\n",
      "#########################\n",
      "### Fold 5\n",
      "### Train size 367131 Valid size 91782\n",
      "### Training with 100% fold data...\n",
      "#########################\n",
      "[0]\ttrain-logloss:0.66203\tvalid-logloss:0.66193\n",
      "[100]\ttrain-logloss:0.23749\tvalid-logloss:0.23774\n",
      "[200]\ttrain-logloss:0.22346\tvalid-logloss:0.22575\n",
      "[300]\ttrain-logloss:0.21744\tvalid-logloss:0.22171\n",
      "[400]\ttrain-logloss:0.21349\tvalid-logloss:0.21962\n",
      "[500]\ttrain-logloss:0.21043\tvalid-logloss:0.21842\n",
      "[600]\ttrain-logloss:0.20771\tvalid-logloss:0.21761\n",
      "[700]\ttrain-logloss:0.20529\tvalid-logloss:0.21705\n",
      "[800]\ttrain-logloss:0.20308\tvalid-logloss:0.21676\n",
      "[900]\ttrain-logloss:0.20098\tvalid-logloss:0.21645\n",
      "[1000]\ttrain-logloss:0.19902\tvalid-logloss:0.21623\n",
      "[1100]\ttrain-logloss:0.19712\tvalid-logloss:0.21606\n",
      "[1200]\ttrain-logloss:0.19533\tvalid-logloss:0.21595\n",
      "[1300]\ttrain-logloss:0.19353\tvalid-logloss:0.21578\n",
      "[1400]\ttrain-logloss:0.19179\tvalid-logloss:0.21572\n",
      "[1500]\ttrain-logloss:0.19005\tvalid-logloss:0.21562\n",
      "[1600]\ttrain-logloss:0.18836\tvalid-logloss:0.21559\n",
      "[1700]\ttrain-logloss:0.18677\tvalid-logloss:0.21552\n",
      "[1800]\ttrain-logloss:0.18512\tvalid-logloss:0.21544\n",
      "[1900]\ttrain-logloss:0.18356\tvalid-logloss:0.21545\n",
      "[1940]\ttrain-logloss:0.18295\tvalid-logloss:0.21546\n",
      "Kaggle Metric = 0.7953991336358136 \n",
      "\n",
      "#########################\n",
      "OVERALL CV Kaggle Metric = 0.7914489429193148\n"
     ]
    }
   ],
   "source": [
    "importances = []\n",
    "oof = []\n",
    "train = train.to_pandas() # free GPU memory\n",
    "TRAIN_SUBSAMPLE = 1.0\n",
    "gc.collect()\n",
    "\n",
    "skf = KFold(n_splits=FOLDS, shuffle=True, random_state=SEED)\n",
    "for fold,(train_idx, valid_idx) in enumerate(skf.split(\n",
    "            train, train.target )):\n",
    "    \n",
    "    # TRAIN WITH SUBSAMPLE OF TRAIN FOLD DATA\n",
    "    if TRAIN_SUBSAMPLE<1.0:\n",
    "        np.random.seed(SEED)\n",
    "        train_idx = np.random.choice(train_idx, \n",
    "                       int(len(train_idx)*TRAIN_SUBSAMPLE), replace=False)\n",
    "        np.random.seed(None)\n",
    "    \n",
    "    print('#'*25)\n",
    "    print('### Fold',fold+1)\n",
    "    print('### Train size',len(train_idx),'Valid size',len(valid_idx))\n",
    "    print(f'### Training with {int(TRAIN_SUBSAMPLE*100)}% fold data...')\n",
    "    print('#'*25)\n",
    "    \n",
    "    # TRAIN, VALID, TEST FOR FOLD K\n",
    "    Xy_train = IterLoadForDMatrix(train.loc[train_idx], FEATURES, 'target')\n",
    "    X_valid = train.loc[valid_idx, FEATURES]\n",
    "    y_valid = train.loc[valid_idx, 'target']\n",
    "    \n",
    "    dtrain = xgb.DeviceQuantileDMatrix(Xy_train, max_bin=256)\n",
    "    dvalid = xgb.DMatrix(data=X_valid, label=y_valid)\n",
    "    \n",
    "    # TRAIN MODEL FOLD K\n",
    "    model = xgb.train(xgb_parms, \n",
    "                dtrain=dtrain,\n",
    "                evals=[(dtrain,'train'),(dvalid,'valid')],\n",
    "                num_boost_round=9999,\n",
    "                early_stopping_rounds=100,\n",
    "                verbose_eval=100) \n",
    "    model.save_model(f'XGB_v{VER}_fold{fold}.xgb')\n",
    "    \n",
    "    # GET FEATURE IMPORTANCE FOR FOLD K\n",
    "    dd = model.get_score(importance_type='weight')\n",
    "    df = pd.DataFrame({'feature':dd.keys(),f'importance_{fold}':dd.values()})\n",
    "    importances.append(df)\n",
    "            \n",
    "    # INFER OOF FOLD K\n",
    "    oof_preds = model.predict(dvalid)\n",
    "    acc = amex_metric_mod(y_valid.values, oof_preds)\n",
    "    print('Kaggle Metric =',acc,'\\n')\n",
    "    \n",
    "    # SAVE OOF\n",
    "    df = train.loc[valid_idx, ['customer_ID','target'] ].copy()\n",
    "    df['oof_pred'] = oof_preds\n",
    "    oof.append( df )\n",
    "    \n",
    "    del dtrain, Xy_train, dd, df\n",
    "    del X_valid, y_valid, dvalid, model\n",
    "    _ = gc.collect()\n",
    "    \n",
    "print('#'*25)\n",
    "oof = pd.concat(oof,axis=0,ignore_index=True).set_index('customer_ID')\n",
    "acc = amex_metric_mod(oof.target.values, oof.oof_pred.values)\n",
    "print('OVERALL CV Kaggle Metric =',acc)"
   ]
  },
  {
   "cell_type": "code",
   "execution_count": 11,
   "id": "1fec7d77",
   "metadata": {
    "execution": {
     "iopub.execute_input": "2022-07-29T15:58:06.708543Z",
     "iopub.status.busy": "2022-07-29T15:58:06.708197Z",
     "iopub.status.idle": "2022-07-29T15:58:06.857961Z",
     "shell.execute_reply": "2022-07-29T15:58:06.857087Z"
    },
    "papermill": {
     "duration": 0.167322,
     "end_time": "2022-07-29T15:58:06.859780",
     "exception": false,
     "start_time": "2022-07-29T15:58:06.692458",
     "status": "completed"
    },
    "tags": []
   },
   "outputs": [],
   "source": [
    "# CLEAN RAM\n",
    "del train\n",
    "_ = gc.collect()"
   ]
  },
  {
   "cell_type": "markdown",
   "id": "ec50b348",
   "metadata": {
    "papermill": {
     "duration": 0.014688,
     "end_time": "2022-07-29T15:58:06.888944",
     "exception": false,
     "start_time": "2022-07-29T15:58:06.874256",
     "status": "completed"
    },
    "tags": []
   },
   "source": [
    "# Save OOF Preds"
   ]
  },
  {
   "cell_type": "code",
   "execution_count": 12,
   "id": "b382737f",
   "metadata": {
    "execution": {
     "iopub.execute_input": "2022-07-29T15:58:06.919516Z",
     "iopub.status.busy": "2022-07-29T15:58:06.919120Z",
     "iopub.status.idle": "2022-07-29T15:58:12.532527Z",
     "shell.execute_reply": "2022-07-29T15:58:12.531623Z"
    },
    "papermill": {
     "duration": 5.631713,
     "end_time": "2022-07-29T15:58:12.535120",
     "exception": false,
     "start_time": "2022-07-29T15:58:06.903407",
     "status": "completed"
    },
    "tags": []
   },
   "outputs": [
    {
     "data": {
      "text/html": [
       "<div>\n",
       "<style scoped>\n",
       "    .dataframe tbody tr th:only-of-type {\n",
       "        vertical-align: middle;\n",
       "    }\n",
       "\n",
       "    .dataframe tbody tr th {\n",
       "        vertical-align: top;\n",
       "    }\n",
       "\n",
       "    .dataframe thead th {\n",
       "        text-align: right;\n",
       "    }\n",
       "</style>\n",
       "<table border=\"1\" class=\"dataframe\">\n",
       "  <thead>\n",
       "    <tr style=\"text-align: right;\">\n",
       "      <th></th>\n",
       "      <th>customer_ID</th>\n",
       "      <th>target</th>\n",
       "      <th>oof_pred</th>\n",
       "    </tr>\n",
       "  </thead>\n",
       "  <tbody>\n",
       "    <tr>\n",
       "      <th>0</th>\n",
       "      <td>20eac26171c3d251c55fc78204e59fab1c15fc2bc96d0c...</td>\n",
       "      <td>1</td>\n",
       "      <td>0.747054</td>\n",
       "    </tr>\n",
       "    <tr>\n",
       "      <th>1</th>\n",
       "      <td>aea50fdf9b974ccec95fa177c3225a0f913483b457de6e...</td>\n",
       "      <td>0</td>\n",
       "      <td>0.000377</td>\n",
       "    </tr>\n",
       "    <tr>\n",
       "      <th>2</th>\n",
       "      <td>32cd2d41aef737b69089882754395925c96eaee1f4a859...</td>\n",
       "      <td>0</td>\n",
       "      <td>0.001409</td>\n",
       "    </tr>\n",
       "    <tr>\n",
       "      <th>3</th>\n",
       "      <td>8daa6d5dc2655a8a437531e6b8b96829113cdfe9bf6cae...</td>\n",
       "      <td>0</td>\n",
       "      <td>0.011335</td>\n",
       "    </tr>\n",
       "    <tr>\n",
       "      <th>4</th>\n",
       "      <td>0ceba351a3851202542feb49d7385bcef32f6037fc57c7...</td>\n",
       "      <td>1</td>\n",
       "      <td>0.870954</td>\n",
       "    </tr>\n",
       "  </tbody>\n",
       "</table>\n",
       "</div>"
      ],
      "text/plain": [
       "                                         customer_ID  target  oof_pred\n",
       "0  20eac26171c3d251c55fc78204e59fab1c15fc2bc96d0c...       1  0.747054\n",
       "1  aea50fdf9b974ccec95fa177c3225a0f913483b457de6e...       0  0.000377\n",
       "2  32cd2d41aef737b69089882754395925c96eaee1f4a859...       0  0.001409\n",
       "3  8daa6d5dc2655a8a437531e6b8b96829113cdfe9bf6cae...       0  0.011335\n",
       "4  0ceba351a3851202542feb49d7385bcef32f6037fc57c7...       1  0.870954"
      ]
     },
     "execution_count": 12,
     "metadata": {},
     "output_type": "execute_result"
    }
   ],
   "source": [
    "oof_xgb = pd.read_parquet(TRAIN_PATH, columns=['customer_ID']).drop_duplicates()\n",
    "oof_xgb['customer_ID_hash'] = oof_xgb['customer_ID'].apply(lambda x: int(x[-16:],16) ).astype('int64')\n",
    "oof_xgb = oof_xgb.set_index('customer_ID_hash')\n",
    "oof_xgb = oof_xgb.merge(oof, left_index=True, right_index=True)\n",
    "oof_xgb = oof_xgb.sort_index().reset_index(drop=True)\n",
    "oof_xgb.to_csv(f'oof_xgb_v{VER}.csv',index=False)\n",
    "oof_xgb.head()"
   ]
  },
  {
   "cell_type": "code",
   "execution_count": 13,
   "id": "74ea7ec2",
   "metadata": {
    "execution": {
     "iopub.execute_input": "2022-07-29T15:58:12.568748Z",
     "iopub.status.busy": "2022-07-29T15:58:12.568340Z",
     "iopub.status.idle": "2022-07-29T15:58:12.967423Z",
     "shell.execute_reply": "2022-07-29T15:58:12.966547Z"
    },
    "papermill": {
     "duration": 0.418222,
     "end_time": "2022-07-29T15:58:12.969520",
     "exception": false,
     "start_time": "2022-07-29T15:58:12.551298",
     "status": "completed"
    },
    "tags": []
   },
   "outputs": [
    {
     "data": {
      "image/png": "[encoded data removed]",
      "text/plain": [
       "<Figure size 432x288 with 1 Axes>"
      ]
     },
     "metadata": {
      "needs_background": "light"
     },
     "output_type": "display_data"
    }
   ],
   "source": [
    "# PLOT OOF PREDICTIONS\n",
    "plt.hist(oof_xgb.oof_pred.values, bins=100)\n",
    "plt.title('OOF Predictions')\n",
    "plt.show()"
   ]
  },
  {
   "cell_type": "code",
   "execution_count": 14,
   "id": "5c7637ef",
   "metadata": {
    "execution": {
     "iopub.execute_input": "2022-07-29T15:58:13.002313Z",
     "iopub.status.busy": "2022-07-29T15:58:13.001940Z",
     "iopub.status.idle": "2022-07-29T15:58:13.152545Z",
     "shell.execute_reply": "2022-07-29T15:58:13.151715Z"
    },
    "papermill": {
     "duration": 0.169042,
     "end_time": "2022-07-29T15:58:13.154671",
     "exception": false,
     "start_time": "2022-07-29T15:58:12.985629",
     "status": "completed"
    },
    "tags": []
   },
   "outputs": [],
   "source": [
    "# CLEAR VRAM, RAM FOR INFERENCE BELOW\n",
    "del oof_xgb, oof\n",
    "_ = gc.collect()"
   ]
  },
  {
   "cell_type": "markdown",
   "id": "03b7e02e",
   "metadata": {
    "papermill": {
     "duration": 0.015328,
     "end_time": "2022-07-29T15:58:13.185113",
     "exception": false,
     "start_time": "2022-07-29T15:58:13.169785",
     "status": "completed"
    },
    "tags": []
   },
   "source": [
    "# Feature Importance"
   ]
  },
  {
   "cell_type": "code",
   "execution_count": 15,
   "id": "7792ec4d",
   "metadata": {
    "execution": {
     "iopub.execute_input": "2022-07-29T15:58:13.217860Z",
     "iopub.status.busy": "2022-07-29T15:58:13.217441Z",
     "iopub.status.idle": "2022-07-29T15:58:13.246443Z",
     "shell.execute_reply": "2022-07-29T15:58:13.245727Z"
    },
    "papermill": {
     "duration": 0.047891,
     "end_time": "2022-07-29T15:58:13.248345",
     "exception": false,
     "start_time": "2022-07-29T15:58:13.200454",
     "status": "completed"
    },
    "tags": []
   },
   "outputs": [],
   "source": [
    "import matplotlib.pyplot as plt\n",
    "\n",
    "df = importances[0].copy()\n",
    "for k in range(1,FOLDS): df = df.merge(importances[k], on='feature', how='left')\n",
    "df['importance'] = df.iloc[:,1:].mean(axis=1)\n",
    "df = df.sort_values('importance',ascending=False)\n",
    "df.to_csv(f'xgb_feature_importance_v{VER}.csv',index=False)"
   ]
  },
  {
   "cell_type": "code",
   "execution_count": 16,
   "id": "c805a8fb",
   "metadata": {
    "execution": {
     "iopub.execute_input": "2022-07-29T15:58:13.279748Z",
     "iopub.status.busy": "2022-07-29T15:58:13.279388Z",
     "iopub.status.idle": "2022-07-29T15:58:13.563129Z",
     "shell.execute_reply": "2022-07-29T15:58:13.562368Z"
    },
    "papermill": {
     "duration": 0.301635,
     "end_time": "2022-07-29T15:58:13.565165",
     "exception": false,
     "start_time": "2022-07-29T15:58:13.263530",
     "status": "completed"
    },
    "tags": []
   },
   "outputs": [
    {
     "data": {
      "image/png": "[encoded data removed]",
      "text/plain": [
       "<Figure size 720x720 with 1 Axes>"
      ]
     },
     "metadata": {
      "needs_background": "light"
     },
     "output_type": "display_data"
    }
   ],
   "source": [
    "NUM_FEATURES = 20\n",
    "plt.figure(figsize=(10,5*NUM_FEATURES//10))\n",
    "plt.barh(np.arange(NUM_FEATURES,0,-1), df.importance.values[:NUM_FEATURES])\n",
    "plt.yticks(np.arange(NUM_FEATURES,0,-1), df.feature.values[:NUM_FEATURES])\n",
    "plt.title(f'XGB Feature Importance - Top {NUM_FEATURES}')\n",
    "plt.show()"
   ]
  },
  {
   "cell_type": "markdown",
   "id": "61dbea96",
   "metadata": {
    "papermill": {
     "duration": 0.015328,
     "end_time": "2022-07-29T15:58:13.595949",
     "exception": false,
     "start_time": "2022-07-29T15:58:13.580621",
     "status": "completed"
    },
    "tags": []
   },
   "source": [
    "# Process and Feature Engineer Test Data\n",
    "We will load @raddar Kaggle dataset from [here][1] with discussion [here][2]. Then we will engineer features suggested by @huseyincot in his notebooks [here][1] and [here][4]. We will use [RAPIDS][5] and the GPU to create new features quickly.\n",
    "\n",
    "[1]: https://www.kaggle.com/datasets/raddar/amex-data-integer-dtypes-parquet-format\n",
    "[2]: https://www.kaggle.com/competitions/amex-default-prediction/discussion/328514\n",
    "[3]: https://www.kaggle.com/code/huseyincot/amex-catboost-0-793\n",
    "[4]: https://www.kaggle.com/code/huseyincot/amex-agg-data-how-it-created\n",
    "[5]: https://rapids.ai/"
   ]
  },
  {
   "cell_type": "code",
   "execution_count": 17,
   "id": "c0f09c68",
   "metadata": {
    "execution": {
     "iopub.execute_input": "2022-07-29T15:58:13.629033Z",
     "iopub.status.busy": "2022-07-29T15:58:13.628636Z",
     "iopub.status.idle": "2022-07-29T15:58:16.305052Z",
     "shell.execute_reply": "2022-07-29T15:58:16.304104Z"
    },
    "papermill": {
     "duration": 2.69516,
     "end_time": "2022-07-29T15:58:16.307026",
     "exception": false,
     "start_time": "2022-07-29T15:58:13.611866",
     "status": "completed"
    },
    "tags": []
   },
   "outputs": [
    {
     "name": "stdout",
     "output_type": "stream",
     "text": [
      "Reading test data...\n",
      "shape of data: (11363762, 2)\n",
      "We will process test data as 4 separate parts.\n",
      "There will be 231155 customers in each part (except the last part).\n",
      "Below are number of rows in each part:\n",
      "[2841209, 2839857, 2842105, 2840591]\n"
     ]
    }
   ],
   "source": [
    "# CALCULATE SIZE OF EACH SEPARATE TEST PART\n",
    "def get_rows(customers, test, NUM_PARTS = 4, verbose = ''):\n",
    "    chunk = len(customers)//NUM_PARTS\n",
    "    if verbose != '':\n",
    "        print(f'We will process {verbose} data as {NUM_PARTS} separate parts.')\n",
    "        print(f'There will be {chunk} customers in each part (except the last part).')\n",
    "        print('Below are number of rows in each part:')\n",
    "    rows = []\n",
    "\n",
    "    for k in range(NUM_PARTS):\n",
    "        if k==NUM_PARTS-1: cc = customers[k*chunk:]\n",
    "        else: cc = customers[k*chunk:(k+1)*chunk]\n",
    "        s = test.loc[test.customer_ID.isin(cc)].shape[0]\n",
    "        rows.append(s)\n",
    "    if verbose != '': print( rows )\n",
    "    return rows,chunk\n",
    "\n",
    "# COMPUTE SIZE OF 4 PARTS FOR TEST DATA\n",
    "NUM_PARTS = 4\n",
    "TEST_PATH = '../input/amex-data-integer-dtypes-parquet-format/test.parquet'\n",
    "\n",
    "print(f'Reading test data...')\n",
    "test = read_file(path = TEST_PATH, usecols = ['customer_ID','S_2'])\n",
    "customers = test[['customer_ID']].drop_duplicates().sort_index().values.flatten()\n",
    "rows,num_cust = get_rows(customers, test[['customer_ID']], NUM_PARTS = NUM_PARTS, verbose = 'test')"
   ]
  },
  {
   "cell_type": "markdown",
   "id": "d181dbe1",
   "metadata": {
    "papermill": {
     "duration": 0.016325,
     "end_time": "2022-07-29T15:58:16.339937",
     "exception": false,
     "start_time": "2022-07-29T15:58:16.323612",
     "status": "completed"
    },
    "tags": []
   },
   "source": [
    "# Infer Test"
   ]
  },
  {
   "cell_type": "code",
   "execution_count": 18,
   "id": "ee86dec9",
   "metadata": {
    "execution": {
     "iopub.execute_input": "2022-07-29T15:58:16.373314Z",
     "iopub.status.busy": "2022-07-29T15:58:16.372521Z",
     "iopub.status.idle": "2022-07-29T16:01:02.307344Z",
     "shell.execute_reply": "2022-07-29T16:01:02.306375Z"
    },
    "papermill": {
     "duration": 165.954489,
     "end_time": "2022-07-29T16:01:02.310484",
     "exception": false,
     "start_time": "2022-07-29T15:58:16.355995",
     "status": "completed"
    },
    "tags": []
   },
   "outputs": [
    {
     "name": "stdout",
     "output_type": "stream",
     "text": [
      "\n",
      "Reading test data...\n",
      "shape of data: (11363762, 190)\n",
      "=> Test part 1 has shape (2841209, 190)\n",
      "shape after engineering (231155, 535)\n",
      "\n",
      "Reading test data...\n",
      "shape of data: (11363762, 190)\n",
      "=> Test part 2 has shape (2839857, 190)\n",
      "shape after engineering (231155, 535)\n",
      "\n",
      "Reading test data...\n",
      "shape of data: (11363762, 190)\n",
      "=> Test part 3 has shape (2842105, 190)\n",
      "shape after engineering (231155, 535)\n",
      "\n",
      "Reading test data...\n",
      "shape of data: (11363762, 190)\n",
      "=> Test part 4 has shape (2840591, 190)\n",
      "shape after engineering (231156, 535)\n"
     ]
    }
   ],
   "source": [
    "# INFER TEST DATA IN PARTS\n",
    "skip_rows = 0\n",
    "skip_cust = 0\n",
    "test_preds = []\n",
    "\n",
    "for k in range(NUM_PARTS):\n",
    "    \n",
    "    # READ PART OF TEST DATA\n",
    "    print(f'\\nReading test data...')\n",
    "    test = read_file(path = TEST_PATH)\n",
    "    test = test.iloc[skip_rows:skip_rows+rows[k]]\n",
    "    skip_rows += rows[k]\n",
    "    print(f'=> Test part {k+1} has shape', test.shape )\n",
    "    \n",
    "    # PROCESS AND FEATURE ENGINEER PART OF TEST DATA\n",
    "    test = process_and_feature_engineer(test)\n",
    "    if k==NUM_PARTS-1: test = test.loc[customers[skip_cust:]]\n",
    "    else: test = test.loc[customers[skip_cust:skip_cust+num_cust]]\n",
    "    skip_cust += num_cust\n",
    "    \n",
    "    # TEST DATA FOR XGB\n",
    "    X_test = test[FEATURES]\n",
    "    dtest = xgb.DMatrix(data=X_test)\n",
    "    test = test[['P_2_mean']] # reduce memory\n",
    "    del X_test\n",
    "    gc.collect()\n",
    "\n",
    "    # INFER XGB MODELS ON TEST DATA\n",
    "    model = xgb.Booster()\n",
    "    model.load_model(f'XGB_v{VER}_fold0.xgb')\n",
    "    preds = model.predict(dtest)\n",
    "    for f in range(1,FOLDS):\n",
    "        model.load_model(f'XGB_v{VER}_fold{f}.xgb')\n",
    "        preds += model.predict(dtest)\n",
    "    preds /= FOLDS\n",
    "    test_preds.append(preds)\n",
    "\n",
    "    # CLEAN MEMORY\n",
    "    del dtest, model\n",
    "    _ = gc.collect()"
   ]
  },
  {
   "cell_type": "markdown",
   "id": "18379539",
   "metadata": {
    "papermill": {
     "duration": 0.027228,
     "end_time": "2022-07-29T16:01:02.366625",
     "exception": false,
     "start_time": "2022-07-29T16:01:02.339397",
     "status": "completed"
    },
    "tags": []
   },
   "source": [
    "# Create Submission CSV"
   ]
  },
  {
   "cell_type": "code",
   "execution_count": 19,
   "id": "9ff75823",
   "metadata": {
    "execution": {
     "iopub.execute_input": "2022-07-29T16:01:02.422632Z",
     "iopub.status.busy": "2022-07-29T16:01:02.422150Z",
     "iopub.status.idle": "2022-07-29T16:01:03.641321Z",
     "shell.execute_reply": "2022-07-29T16:01:03.640349Z"
    },
    "papermill": {
     "duration": 1.249605,
     "end_time": "2022-07-29T16:01:03.643465",
     "exception": false,
     "start_time": "2022-07-29T16:01:02.393860",
     "status": "completed"
    },
    "tags": []
   },
   "outputs": [
    {
     "name": "stdout",
     "output_type": "stream",
     "text": [
      "Submission file shape is (924621, 2)\n"
     ]
    },
    {
     "data": {
      "text/html": [
       "<div>\n",
       "<style scoped>\n",
       "    .dataframe tbody tr th:only-of-type {\n",
       "        vertical-align: middle;\n",
       "    }\n",
       "\n",
       "    .dataframe tbody tr th {\n",
       "        vertical-align: top;\n",
       "    }\n",
       "\n",
       "    .dataframe thead th {\n",
       "        text-align: right;\n",
       "    }\n",
       "</style>\n",
       "<table border=\"1\" class=\"dataframe\">\n",
       "  <thead>\n",
       "    <tr style=\"text-align: right;\">\n",
       "      <th></th>\n",
       "      <th>customer_ID</th>\n",
       "      <th>prediction</th>\n",
       "    </tr>\n",
       "  </thead>\n",
       "  <tbody>\n",
       "    <tr>\n",
       "      <th>0</th>\n",
       "      <td>059d0d925a7606822fd71edaad9f192bc788993a2f1433...</td>\n",
       "      <td>0.012709</td>\n",
       "    </tr>\n",
       "    <tr>\n",
       "      <th>1</th>\n",
       "      <td>059e117ce5b7c36c4338441f907128c89616b20eeaff54...</td>\n",
       "      <td>0.083580</td>\n",
       "    </tr>\n",
       "    <tr>\n",
       "      <th>2</th>\n",
       "      <td>059d675765b6d51b8c3c72319a4ade32082fef63435237...</td>\n",
       "      <td>0.006737</td>\n",
       "    </tr>\n",
       "    <tr>\n",
       "      <th>3</th>\n",
       "      <td>059e82e458361e64283d0b6c882d982a9991f027b55912...</td>\n",
       "      <td>0.422152</td>\n",
       "    </tr>\n",
       "    <tr>\n",
       "      <th>4</th>\n",
       "      <td>059d110b78c63e3ac64467563ea5da3729000103fc2070...</td>\n",
       "      <td>0.002337</td>\n",
       "    </tr>\n",
       "  </tbody>\n",
       "</table>\n",
       "</div>"
      ],
      "text/plain": [
       "                                         customer_ID  prediction\n",
       "0  059d0d925a7606822fd71edaad9f192bc788993a2f1433...    0.012709\n",
       "1  059e117ce5b7c36c4338441f907128c89616b20eeaff54...    0.083580\n",
       "2  059d675765b6d51b8c3c72319a4ade32082fef63435237...    0.006737\n",
       "3  059e82e458361e64283d0b6c882d982a9991f027b55912...    0.422152\n",
       "4  059d110b78c63e3ac64467563ea5da3729000103fc2070...    0.002337"
      ]
     },
     "execution_count": 19,
     "metadata": {},
     "output_type": "execute_result"
    }
   ],
   "source": [
    "# WRITE SUBMISSION FILE\n",
    "test_preds = np.concatenate(test_preds)\n",
    "test = cudf.DataFrame(index=customers,data={'prediction':test_preds})\n",
    "sub = cudf.read_csv('../input/amex-default-prediction/sample_submission.csv')[['customer_ID']]\n",
    "sub['customer_ID_hash'] = sub['customer_ID'].str[-16:].str.hex_to_int().astype('int64')\n",
    "sub = sub.set_index('customer_ID_hash')\n",
    "sub = sub.merge(test[['prediction']], left_index=True, right_index=True, how='left')\n",
    "sub = sub.reset_index(drop=True)\n",
    "\n",
    "# DISPLAY PREDICTIONS\n",
    "sub.to_csv(f'submission_xgb_v{VER}.csv',index=False)\n",
    "print('Submission file shape is', sub.shape )\n",
    "sub.head()"
   ]
  },
  {
   "cell_type": "code",
   "execution_count": 20,
   "id": "02b5989c",
   "metadata": {
    "execution": {
     "iopub.execute_input": "2022-07-29T16:01:03.680210Z",
     "iopub.status.busy": "2022-07-29T16:01:03.679302Z",
     "iopub.status.idle": "2022-07-29T16:01:04.485387Z",
     "shell.execute_reply": "2022-07-29T16:01:04.484539Z"
    },
    "papermill": {
     "duration": 0.826393,
     "end_time": "2022-07-29T16:01:04.487501",
     "exception": false,
     "start_time": "2022-07-29T16:01:03.661108",
     "status": "completed"
    },
    "tags": []
   },
   "outputs": [
    {
     "data": {
      "image/png": "[encoded data removed]",
      "text/plain": [
       "<Figure size 432x288 with 1 Axes>"
      ]
     },
     "metadata": {
      "needs_background": "light"
     },
     "output_type": "display_data"
    }
   ],
   "source": [
    "# PLOT PREDICTIONS\n",
    "plt.hist(sub.to_pandas().prediction, bins=100)\n",
    "plt.title('Test Predictions')\n",
    "plt.show()"
   ]
  }
 ],
 "metadata": {
  "kernelspec": {
   "display_name": "Python 3",
   "language": "python",
   "name": "python3"
  },
  "language_info": {
   "codemirror_mode": {
    "name": "ipython",
    "version": 3
   },
   "file_extension": ".py",
   "mimetype": "text/x-python",
   "name": "python",
   "nbconvert_exporter": "python",
   "pygments_lexer": "ipython3",
   "version": "3.7.12"
  },
  "papermill": {
   "default_parameters": {},
   "duration": 592.682196,
   "end_time": "2022-07-29T16:01:06.863718",
   "environment_variables": {},
   "exception": null,
   "input_path": "__notebook__.ipynb",
   "output_path": "__notebook__.ipynb",
   "parameters": {},
   "start_time": "2022-07-29T15:51:14.181522",
   "version": "2.3.4"
  }
 },
 "nbformat": 4,
 "nbformat_minor": 5
}
