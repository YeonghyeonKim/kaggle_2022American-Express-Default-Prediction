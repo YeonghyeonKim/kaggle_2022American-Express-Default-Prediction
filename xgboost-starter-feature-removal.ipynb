{
 "cells": [
  {
   "cell_type": "markdown",
   "id": "68dd4052",
   "metadata": {
    "papermill": {
     "duration": 0.007783,
     "end_time": "2022-07-29T15:39:08.081777",
     "exception": false,
     "start_time": "2022-07-29T15:39:08.073994",
     "status": "completed"
    },
    "tags": []
   },
   "source": [
    "# XGBoost Starter - LB 0.793\n",
    "In this notebook we build and train an XGBoost model using @raddar Kaggle dataset from [here][1] with discussion [here][2]. Then we engineer features suggested by @huseyincot in his notebooks [here][3] and [here][4]. This XGB model achieves CV 0.792 LB 0.793! When training with XGB, we use a special XGB dataloader called `DeviceQuantileDMatrix` which uses a small GPU memory footprint. This allows us to engineer more additional columns and train with more rows of data. Our feature engineering is performed using [RAPIDS][5] on the GPU to create new features quickly.\n",
    "\n",
    "[1]: https://www.kaggle.com/datasets/raddar/amex-data-integer-dtypes-parquet-format\n",
    "[2]: https://www.kaggle.com/competitions/amex-default-prediction/discussion/328514\n",
    "[3]: https://www.kaggle.com/code/huseyincot/amex-catboost-0-793\n",
    "[4]: https://www.kaggle.com/code/huseyincot/amex-agg-data-how-it-created\n",
    "[5]: https://rapids.ai/"
   ]
  },
  {
   "cell_type": "markdown",
   "id": "0d69d5a7",
   "metadata": {
    "papermill": {
     "duration": 0.006021,
     "end_time": "2022-07-29T15:39:08.094408",
     "exception": false,
     "start_time": "2022-07-29T15:39:08.088387",
     "status": "completed"
    },
    "tags": []
   },
   "source": [
    "Feature Engineering I done\n",
    "1. Drop B_29, https://www.kaggle.com/code/roberthatch/amex-feature-engg-gpu-or-cpu-process-in-chunks/notebook\n",
    "2. Add each customer count (how long they used) (not normalize)\n",
    "3. Don't fill NaN (with -127)\n",
    "4. remove num_features's min, std\n",
    "5. 중요하다고 판단되는 feature만 남김"
   ]
  },
  {
   "cell_type": "markdown",
   "id": "8a6f1677",
   "metadata": {
    "papermill": {
     "duration": 0.006056,
     "end_time": "2022-07-29T15:39:08.106555",
     "exception": false,
     "start_time": "2022-07-29T15:39:08.100499",
     "status": "completed"
    },
    "tags": []
   },
   "source": [
    "# Load Libraries"
   ]
  },
  {
   "cell_type": "code",
   "execution_count": 1,
   "id": "d2886b2a",
   "metadata": {
    "execution": {
     "iopub.execute_input": "2022-07-29T15:39:08.120752Z",
     "iopub.status.busy": "2022-07-29T15:39:08.120251Z",
     "iopub.status.idle": "2022-07-29T15:39:12.237272Z",
     "shell.execute_reply": "2022-07-29T15:39:12.235823Z"
    },
    "papermill": {
     "duration": 4.126706,
     "end_time": "2022-07-29T15:39:12.239382",
     "exception": false,
     "start_time": "2022-07-29T15:39:08.112676",
     "status": "completed"
    },
    "tags": []
   },
   "outputs": [
    {
     "name": "stdout",
     "output_type": "stream",
     "text": [
      "RAPIDS version 21.10.01\n"
     ]
    }
   ],
   "source": [
    "# LOAD LIBRARIES\n",
    "import pandas as pd, numpy as np # CPU libraries\n",
    "import cupy, cudf # GPU libraries\n",
    "import matplotlib.pyplot as plt, gc, os\n",
    "\n",
    "print('RAPIDS version',cudf.__version__)"
   ]
  },
  {
   "cell_type": "code",
   "execution_count": 2,
   "id": "74ba04c2",
   "metadata": {
    "execution": {
     "iopub.execute_input": "2022-07-29T15:39:12.253979Z",
     "iopub.status.busy": "2022-07-29T15:39:12.253293Z",
     "iopub.status.idle": "2022-07-29T15:39:12.257682Z",
     "shell.execute_reply": "2022-07-29T15:39:12.256856Z"
    },
    "papermill": {
     "duration": 0.013595,
     "end_time": "2022-07-29T15:39:12.259546",
     "exception": false,
     "start_time": "2022-07-29T15:39:12.245951",
     "status": "completed"
    },
    "tags": []
   },
   "outputs": [],
   "source": [
    "# VERSION NAME FOR SAVED MODEL FILES\n",
    "VER = 1\n",
    "\n",
    "# TRAIN RANDOM SEED\n",
    "SEED = 42\n",
    "\n",
    "# FILL NAN VALUE\n",
    "NAN_VALUE = -127 # will fit in int8\n",
    "\n",
    "# FOLDS PER MODEL\n",
    "FOLDS = 5"
   ]
  },
  {
   "cell_type": "markdown",
   "id": "efd81e7f",
   "metadata": {
    "papermill": {
     "duration": 0.006525,
     "end_time": "2022-07-29T15:39:12.272315",
     "exception": false,
     "start_time": "2022-07-29T15:39:12.265790",
     "status": "completed"
    },
    "tags": []
   },
   "source": [
    "# Process and Feature Engineer Train Data\n",
    "We will load @raddar Kaggle dataset from [here][1] with discussion [here][2]. Then we will engineer features suggested by @huseyincot in his notebooks [here][3] and [here][4]. We will use [RAPIDS][5] and the GPU to create new features quickly.\n",
    "\n",
    "[1]: https://www.kaggle.com/datasets/raddar/amex-data-integer-dtypes-parquet-format\n",
    "[2]: https://www.kaggle.com/competitions/amex-default-prediction/discussion/328514\n",
    "[3]: https://www.kaggle.com/code/huseyincot/amex-catboost-0-793\n",
    "[4]: https://www.kaggle.com/code/huseyincot/amex-agg-data-how-it-created\n",
    "[5]: https://rapids.ai/"
   ]
  },
  {
   "cell_type": "code",
   "execution_count": 3,
   "id": "b00d3340",
   "metadata": {
    "execution": {
     "iopub.execute_input": "2022-07-29T15:39:12.286275Z",
     "iopub.status.busy": "2022-07-29T15:39:12.285742Z",
     "iopub.status.idle": "2022-07-29T15:39:34.898365Z",
     "shell.execute_reply": "2022-07-29T15:39:34.897516Z"
    },
    "papermill": {
     "duration": 22.622083,
     "end_time": "2022-07-29T15:39:34.900710",
     "exception": false,
     "start_time": "2022-07-29T15:39:12.278627",
     "status": "completed"
    },
    "tags": []
   },
   "outputs": [
    {
     "name": "stdout",
     "output_type": "stream",
     "text": [
      "Reading train data...\n",
      "shape of data: (5531451, 190)\n"
     ]
    }
   ],
   "source": [
    "def read_file(path = '', usecols = None):\n",
    "    # LOAD DATAFRAME\n",
    "    if usecols is not None: df = cudf.read_parquet(path, columns=usecols)\n",
    "    else: df = cudf.read_parquet(path)\n",
    "    # REDUCE DTYPE FOR CUSTOMER AND DATE\n",
    "    df['customer_ID'] = df['customer_ID'].str[-16:].str.hex_to_int().astype('int64')\n",
    "    df.S_2 = cudf.to_datetime( df.S_2 )\n",
    "    # SORT BY CUSTOMER AND DATE (so agg('last') works correctly)\n",
    "    #df = df.sort_values(['customer_ID','S_2'])\n",
    "    #df = df.reset_index(drop=True)\n",
    "    # FILL NAN\n",
    "#     df = df.fillna(NAN_VALUE) \n",
    "    print('shape of data:', df.shape)\n",
    "    \n",
    "    return df\n",
    "\n",
    "print('Reading train data...')\n",
    "TRAIN_PATH = '../input/amex-data-integer-dtypes-parquet-format/train.parquet'\n",
    "train = read_file(path = TRAIN_PATH)"
   ]
  },
  {
   "cell_type": "code",
   "execution_count": 4,
   "id": "e5a87649",
   "metadata": {
    "execution": {
     "iopub.execute_input": "2022-07-29T15:39:34.915403Z",
     "iopub.status.busy": "2022-07-29T15:39:34.914662Z",
     "iopub.status.idle": "2022-07-29T15:39:35.212578Z",
     "shell.execute_reply": "2022-07-29T15:39:35.211837Z"
    },
    "papermill": {
     "duration": 0.307065,
     "end_time": "2022-07-29T15:39:35.214359",
     "exception": false,
     "start_time": "2022-07-29T15:39:34.907294",
     "status": "completed"
    },
    "tags": []
   },
   "outputs": [
    {
     "data": {
      "text/html": [
       "<div>\n",
       "<style scoped>\n",
       "    .dataframe tbody tr th:only-of-type {\n",
       "        vertical-align: middle;\n",
       "    }\n",
       "\n",
       "    .dataframe tbody tr th {\n",
       "        vertical-align: top;\n",
       "    }\n",
       "\n",
       "    .dataframe thead th {\n",
       "        text-align: right;\n",
       "    }\n",
       "</style>\n",
       "<table border=\"1\" class=\"dataframe\">\n",
       "  <thead>\n",
       "    <tr style=\"text-align: right;\">\n",
       "      <th></th>\n",
       "      <th>customer_ID</th>\n",
       "      <th>S_2</th>\n",
       "      <th>P_2</th>\n",
       "      <th>D_39</th>\n",
       "      <th>B_1</th>\n",
       "      <th>B_2</th>\n",
       "      <th>R_1</th>\n",
       "      <th>S_3</th>\n",
       "      <th>D_41</th>\n",
       "      <th>B_3</th>\n",
       "      <th>...</th>\n",
       "      <th>D_136</th>\n",
       "      <th>D_137</th>\n",
       "      <th>D_138</th>\n",
       "      <th>D_139</th>\n",
       "      <th>D_140</th>\n",
       "      <th>D_141</th>\n",
       "      <th>D_142</th>\n",
       "      <th>D_143</th>\n",
       "      <th>D_144</th>\n",
       "      <th>D_145</th>\n",
       "    </tr>\n",
       "  </thead>\n",
       "  <tbody>\n",
       "    <tr>\n",
       "      <th>0</th>\n",
       "      <td>-4532153018459703766</td>\n",
       "      <td>2017-03-09</td>\n",
       "      <td>0.938469</td>\n",
       "      <td>0</td>\n",
       "      <td>0.008724</td>\n",
       "      <td>1.006838</td>\n",
       "      <td>0.009228</td>\n",
       "      <td>0.124035</td>\n",
       "      <td>0.0</td>\n",
       "      <td>0.004709</td>\n",
       "      <td>...</td>\n",
       "      <td>-1</td>\n",
       "      <td>-1</td>\n",
       "      <td>-1</td>\n",
       "      <td>0</td>\n",
       "      <td>0</td>\n",
       "      <td>0.0</td>\n",
       "      <td>&lt;NA&gt;</td>\n",
       "      <td>0</td>\n",
       "      <td>0.000610</td>\n",
       "      <td>0</td>\n",
       "    </tr>\n",
       "    <tr>\n",
       "      <th>1</th>\n",
       "      <td>-4532153018459703766</td>\n",
       "      <td>2017-04-07</td>\n",
       "      <td>0.936665</td>\n",
       "      <td>0</td>\n",
       "      <td>0.004923</td>\n",
       "      <td>1.000653</td>\n",
       "      <td>0.006151</td>\n",
       "      <td>0.126750</td>\n",
       "      <td>0.0</td>\n",
       "      <td>0.002714</td>\n",
       "      <td>...</td>\n",
       "      <td>-1</td>\n",
       "      <td>-1</td>\n",
       "      <td>-1</td>\n",
       "      <td>0</td>\n",
       "      <td>0</td>\n",
       "      <td>0.0</td>\n",
       "      <td>&lt;NA&gt;</td>\n",
       "      <td>0</td>\n",
       "      <td>0.005492</td>\n",
       "      <td>0</td>\n",
       "    </tr>\n",
       "    <tr>\n",
       "      <th>2</th>\n",
       "      <td>-4532153018459703766</td>\n",
       "      <td>2017-05-28</td>\n",
       "      <td>0.954180</td>\n",
       "      <td>3</td>\n",
       "      <td>0.021655</td>\n",
       "      <td>1.009672</td>\n",
       "      <td>0.006815</td>\n",
       "      <td>0.123977</td>\n",
       "      <td>0.0</td>\n",
       "      <td>0.009423</td>\n",
       "      <td>...</td>\n",
       "      <td>-1</td>\n",
       "      <td>-1</td>\n",
       "      <td>-1</td>\n",
       "      <td>0</td>\n",
       "      <td>0</td>\n",
       "      <td>0.0</td>\n",
       "      <td>&lt;NA&gt;</td>\n",
       "      <td>0</td>\n",
       "      <td>0.006986</td>\n",
       "      <td>0</td>\n",
       "    </tr>\n",
       "    <tr>\n",
       "      <th>3</th>\n",
       "      <td>-4532153018459703766</td>\n",
       "      <td>2017-06-13</td>\n",
       "      <td>0.960384</td>\n",
       "      <td>0</td>\n",
       "      <td>0.013683</td>\n",
       "      <td>1.002700</td>\n",
       "      <td>0.001373</td>\n",
       "      <td>0.117169</td>\n",
       "      <td>0.0</td>\n",
       "      <td>0.005531</td>\n",
       "      <td>...</td>\n",
       "      <td>-1</td>\n",
       "      <td>-1</td>\n",
       "      <td>-1</td>\n",
       "      <td>0</td>\n",
       "      <td>0</td>\n",
       "      <td>0.0</td>\n",
       "      <td>&lt;NA&gt;</td>\n",
       "      <td>0</td>\n",
       "      <td>0.006527</td>\n",
       "      <td>0</td>\n",
       "    </tr>\n",
       "    <tr>\n",
       "      <th>4</th>\n",
       "      <td>-4532153018459703766</td>\n",
       "      <td>2017-07-16</td>\n",
       "      <td>0.947248</td>\n",
       "      <td>0</td>\n",
       "      <td>0.015193</td>\n",
       "      <td>1.000727</td>\n",
       "      <td>0.007605</td>\n",
       "      <td>0.117325</td>\n",
       "      <td>0.0</td>\n",
       "      <td>0.009312</td>\n",
       "      <td>...</td>\n",
       "      <td>-1</td>\n",
       "      <td>-1</td>\n",
       "      <td>-1</td>\n",
       "      <td>0</td>\n",
       "      <td>0</td>\n",
       "      <td>0.0</td>\n",
       "      <td>&lt;NA&gt;</td>\n",
       "      <td>0</td>\n",
       "      <td>0.008126</td>\n",
       "      <td>0</td>\n",
       "    </tr>\n",
       "  </tbody>\n",
       "</table>\n",
       "<p>5 rows × 190 columns</p>\n",
       "</div>"
      ],
      "text/plain": [
       "           customer_ID        S_2       P_2  D_39       B_1       B_2  \\\n",
       "0 -4532153018459703766 2017-03-09  0.938469     0  0.008724  1.006838   \n",
       "1 -4532153018459703766 2017-04-07  0.936665     0  0.004923  1.000653   \n",
       "2 -4532153018459703766 2017-05-28  0.954180     3  0.021655  1.009672   \n",
       "3 -4532153018459703766 2017-06-13  0.960384     0  0.013683  1.002700   \n",
       "4 -4532153018459703766 2017-07-16  0.947248     0  0.015193  1.000727   \n",
       "\n",
       "        R_1       S_3  D_41       B_3  ... D_136  D_137  D_138  D_139  D_140  \\\n",
       "0  0.009228  0.124035   0.0  0.004709  ...    -1     -1     -1      0      0   \n",
       "1  0.006151  0.126750   0.0  0.002714  ...    -1     -1     -1      0      0   \n",
       "2  0.006815  0.123977   0.0  0.009423  ...    -1     -1     -1      0      0   \n",
       "3  0.001373  0.117169   0.0  0.005531  ...    -1     -1     -1      0      0   \n",
       "4  0.007605  0.117325   0.0  0.009312  ...    -1     -1     -1      0      0   \n",
       "\n",
       "   D_141  D_142 D_143     D_144  D_145  \n",
       "0    0.0   <NA>     0  0.000610      0  \n",
       "1    0.0   <NA>     0  0.005492      0  \n",
       "2    0.0   <NA>     0  0.006986      0  \n",
       "3    0.0   <NA>     0  0.006527      0  \n",
       "4    0.0   <NA>     0  0.008126      0  \n",
       "\n",
       "[5 rows x 190 columns]"
      ]
     },
     "execution_count": 4,
     "metadata": {},
     "output_type": "execute_result"
    }
   ],
   "source": [
    "train.head()"
   ]
  },
  {
   "cell_type": "code",
   "execution_count": 5,
   "id": "5d445697",
   "metadata": {
    "execution": {
     "iopub.execute_input": "2022-07-29T15:39:35.230070Z",
     "iopub.status.busy": "2022-07-29T15:39:35.229736Z",
     "iopub.status.idle": "2022-07-29T15:39:37.400533Z",
     "shell.execute_reply": "2022-07-29T15:39:37.399479Z"
    },
    "papermill": {
     "duration": 2.18116,
     "end_time": "2022-07-29T15:39:37.403058",
     "exception": false,
     "start_time": "2022-07-29T15:39:35.221898",
     "status": "completed"
    },
    "tags": []
   },
   "outputs": [
    {
     "name": "stdout",
     "output_type": "stream",
     "text": [
      "shape after engineering (458913, 529)\n"
     ]
    }
   ],
   "source": [
    "def process_and_feature_engineer(df):\n",
    "    # FEATURE ENGINEERING FROM \n",
    "    # https://www.kaggle.com/code/huseyincot/amex-agg-data-how-it-created\n",
    "    \n",
    "#     1) Drop 'B_29'\n",
    "    df.drop(['B_29'], inplace=True, axis=1)\n",
    "#     5) D_39에 대한 feature 추가\n",
    "#     df['D_39_div30'] = df['D_39']/30\n",
    "    \n",
    "#     6) B1, B2에 연관 feature추가\n",
    "#     df['B_1,2ratio'] = df['B_1']/(df['B_2']+0.0000001)\n",
    "\n",
    "    \n",
    "    \n",
    "    all_cols = [c for c in list(df.columns) if c not in ['customer_ID','S_2']]\n",
    "    cat_features = [\"B_30\",\"B_38\",\"D_114\",\"D_116\",\"D_117\",\"D_120\",\"D_126\",\"D_63\",\"D_64\",\"D_66\",\"D_68\"]\n",
    "    num_features = [col for col in all_cols if col not in cat_features]\n",
    "    \n",
    "#     2) Add customer count\n",
    "    test_count_agg = df.groupby(['customer_ID'])['S_2'].agg(['count'])\n",
    "\n",
    "\n",
    "    test_num_agg = df.groupby(\"customer_ID\")[num_features].agg(['mean', 'max', 'last'])\n",
    "    test_num_agg.columns = ['_'.join(x) for x in test_num_agg.columns]\n",
    "\n",
    "#     test_cat_agg = df.groupby(\"customer_ID\")[cat_features].agg(['count', 'last', 'nunique'])\n",
    "#     test_cat_agg.columns = ['_'.join(x) for x in test_cat_agg.columns]\n",
    "    \n",
    "    \n",
    "    df = cudf.concat([test_count_agg,test_num_agg], axis=1)\n",
    "    del test_num_agg\n",
    "    print('shape after engineering', df.shape )\n",
    "    \n",
    "    return df\n",
    "\n",
    "train = process_and_feature_engineer(train)"
   ]
  },
  {
   "cell_type": "code",
   "execution_count": 6,
   "id": "4cb6dca8",
   "metadata": {
    "execution": {
     "iopub.execute_input": "2022-07-29T15:39:37.418256Z",
     "iopub.status.busy": "2022-07-29T15:39:37.417929Z",
     "iopub.status.idle": "2022-07-29T15:39:38.331007Z",
     "shell.execute_reply": "2022-07-29T15:39:38.330156Z"
    },
    "papermill": {
     "duration": 0.923193,
     "end_time": "2022-07-29T15:39:38.333373",
     "exception": false,
     "start_time": "2022-07-29T15:39:37.410180",
     "status": "completed"
    },
    "tags": []
   },
   "outputs": [
    {
     "name": "stdout",
     "output_type": "stream",
     "text": [
      "There are 529 features!\n"
     ]
    }
   ],
   "source": [
    "# ADD TARGETS\n",
    "targets = cudf.read_csv('../input/amex-default-prediction/train_labels.csv')\n",
    "targets['customer_ID'] = targets['customer_ID'].str[-16:].str.hex_to_int().astype('int64')\n",
    "targets = targets.set_index('customer_ID')\n",
    "train = train.merge(targets, left_index=True, right_index=True, how='left')\n",
    "train.target = train.target.astype('int8')\n",
    "del targets\n",
    "\n",
    "# NEEDED TO MAKE CV DETERMINISTIC (cudf merge above randomly shuffles rows)\n",
    "train = train.sort_index().reset_index()\n",
    "\n",
    "# FEATURES\n",
    "FEATURES = train.columns[1:-1]\n",
    "print(f'There are {len(FEATURES)} features!')"
   ]
  },
  {
   "cell_type": "markdown",
   "id": "d1ba2aec",
   "metadata": {
    "papermill": {
     "duration": 0.006516,
     "end_time": "2022-07-29T15:39:38.347652",
     "exception": false,
     "start_time": "2022-07-29T15:39:38.341136",
     "status": "completed"
    },
    "tags": []
   },
   "source": [
    "# Train XGB\n",
    "We will train using `DeviceQuantileDMatrix`. This has a very small GPU memory footprint."
   ]
  },
  {
   "cell_type": "code",
   "execution_count": 7,
   "id": "5370e3be",
   "metadata": {
    "execution": {
     "iopub.execute_input": "2022-07-29T15:39:38.362808Z",
     "iopub.status.busy": "2022-07-29T15:39:38.362509Z",
     "iopub.status.idle": "2022-07-29T15:39:38.486205Z",
     "shell.execute_reply": "2022-07-29T15:39:38.485357Z"
    },
    "papermill": {
     "duration": 0.133522,
     "end_time": "2022-07-29T15:39:38.488364",
     "exception": false,
     "start_time": "2022-07-29T15:39:38.354842",
     "status": "completed"
    },
    "tags": []
   },
   "outputs": [
    {
     "name": "stdout",
     "output_type": "stream",
     "text": [
      "XGB Version 1.6.1\n"
     ]
    }
   ],
   "source": [
    "# LOAD XGB LIBRARY\n",
    "from sklearn.model_selection import KFold\n",
    "import xgboost as xgb\n",
    "print('XGB Version',xgb.__version__)\n",
    "\n",
    "# XGB MODEL PARAMETERS\n",
    "xgb_parms = { \n",
    "    'max_depth':4, \n",
    "    'learning_rate':0.05, \n",
    "    'subsample':0.8,\n",
    "    'colsample_bytree':0.6, \n",
    "    'eval_metric':'logloss',\n",
    "    'objective':'binary:logistic',\n",
    "    'tree_method':'gpu_hist',\n",
    "    'predictor':'gpu_predictor',\n",
    "    'random_state':SEED\n",
    "}"
   ]
  },
  {
   "cell_type": "code",
   "execution_count": 8,
   "id": "74446cd1",
   "metadata": {
    "execution": {
     "iopub.execute_input": "2022-07-29T15:39:38.503672Z",
     "iopub.status.busy": "2022-07-29T15:39:38.503026Z",
     "iopub.status.idle": "2022-07-29T15:39:38.511647Z",
     "shell.execute_reply": "2022-07-29T15:39:38.510931Z"
    },
    "papermill": {
     "duration": 0.017988,
     "end_time": "2022-07-29T15:39:38.513283",
     "exception": false,
     "start_time": "2022-07-29T15:39:38.495295",
     "status": "completed"
    },
    "tags": []
   },
   "outputs": [],
   "source": [
    "# NEEDED WITH DeviceQuantileDMatrix BELOW\n",
    "class IterLoadForDMatrix(xgb.core.DataIter):\n",
    "    def __init__(self, df=None, features=None, target=None, batch_size=256*1024):\n",
    "        self.features = features\n",
    "        self.target = target\n",
    "        self.df = df\n",
    "        self.it = 0 # set iterator to 0\n",
    "        self.batch_size = batch_size\n",
    "        self.batches = int( np.ceil( len(df) / self.batch_size ) )\n",
    "        super().__init__()\n",
    "\n",
    "    def reset(self):\n",
    "        '''Reset the iterator'''\n",
    "        self.it = 0\n",
    "\n",
    "    def next(self, input_data):\n",
    "        '''Yield next batch of data.'''\n",
    "        if self.it == self.batches:\n",
    "            return 0 # Return 0 when there's no more batch.\n",
    "        \n",
    "        a = self.it * self.batch_size\n",
    "        b = min( (self.it + 1) * self.batch_size, len(self.df) )\n",
    "        dt = cudf.DataFrame(self.df.iloc[a:b])\n",
    "        input_data(data=dt[self.features], label=dt[self.target]) #, weight=dt['weight'])\n",
    "        self.it += 1\n",
    "        return 1"
   ]
  },
  {
   "cell_type": "code",
   "execution_count": 9,
   "id": "016f06b2",
   "metadata": {
    "execution": {
     "iopub.execute_input": "2022-07-29T15:39:38.527936Z",
     "iopub.status.busy": "2022-07-29T15:39:38.527666Z",
     "iopub.status.idle": "2022-07-29T15:39:38.537350Z",
     "shell.execute_reply": "2022-07-29T15:39:38.536665Z"
    },
    "papermill": {
     "duration": 0.018745,
     "end_time": "2022-07-29T15:39:38.539061",
     "exception": false,
     "start_time": "2022-07-29T15:39:38.520316",
     "status": "completed"
    },
    "tags": []
   },
   "outputs": [],
   "source": [
    "# https://www.kaggle.com/kyakovlev\n",
    "# https://www.kaggle.com/competitions/amex-default-prediction/discussion/327534\n",
    "def amex_metric_mod(y_true, y_pred):\n",
    "\n",
    "    labels     = np.transpose(np.array([y_true, y_pred]))\n",
    "    labels     = labels[labels[:, 1].argsort()[::-1]]\n",
    "    weights    = np.where(labels[:,0]==0, 20, 1)\n",
    "    cut_vals   = labels[np.cumsum(weights) <= int(0.04 * np.sum(weights))]\n",
    "    top_four   = np.sum(cut_vals[:,0]) / np.sum(labels[:,0])\n",
    "\n",
    "    gini = [0,0]\n",
    "    for i in [1,0]:\n",
    "        labels         = np.transpose(np.array([y_true, y_pred]))\n",
    "        labels         = labels[labels[:, i].argsort()[::-1]]\n",
    "        weight         = np.where(labels[:,0]==0, 20, 1)\n",
    "        weight_random  = np.cumsum(weight / np.sum(weight))\n",
    "        total_pos      = np.sum(labels[:, 0] *  weight)\n",
    "        cum_pos_found  = np.cumsum(labels[:, 0] * weight)\n",
    "        lorentz        = cum_pos_found / total_pos\n",
    "        gini[i]        = np.sum((lorentz - weight_random) * weight)\n",
    "\n",
    "    return 0.5 * (gini[1]/gini[0] + top_four)"
   ]
  },
  {
   "cell_type": "code",
   "execution_count": 10,
   "id": "94ae6f7b",
   "metadata": {
    "execution": {
     "iopub.execute_input": "2022-07-29T15:39:38.553613Z",
     "iopub.status.busy": "2022-07-29T15:39:38.553361Z",
     "iopub.status.idle": "2022-07-29T15:45:23.638327Z",
     "shell.execute_reply": "2022-07-29T15:45:23.637480Z"
    },
    "papermill": {
     "duration": 345.095304,
     "end_time": "2022-07-29T15:45:23.641008",
     "exception": false,
     "start_time": "2022-07-29T15:39:38.545704",
     "status": "completed"
    },
    "scrolled": true,
    "tags": []
   },
   "outputs": [
    {
     "name": "stdout",
     "output_type": "stream",
     "text": [
      "#########################\n",
      "### Fold 1\n",
      "### Train size 367130 Valid size 91783\n",
      "### Training with 100% fold data...\n",
      "#########################\n",
      "[0]\ttrain-logloss:0.66200\tvalid-logloss:0.66202\n",
      "[100]\ttrain-logloss:0.23717\tvalid-logloss:0.23948\n",
      "[200]\ttrain-logloss:0.22289\tvalid-logloss:0.22769\n",
      "[300]\ttrain-logloss:0.21700\tvalid-logloss:0.22376\n",
      "[400]\ttrain-logloss:0.21310\tvalid-logloss:0.22178\n",
      "[500]\ttrain-logloss:0.20999\tvalid-logloss:0.22047\n",
      "[600]\ttrain-logloss:0.20742\tvalid-logloss:0.21976\n",
      "[700]\ttrain-logloss:0.20509\tvalid-logloss:0.21923\n",
      "[800]\ttrain-logloss:0.20296\tvalid-logloss:0.21890\n",
      "[900]\ttrain-logloss:0.20083\tvalid-logloss:0.21857\n",
      "[1000]\ttrain-logloss:0.19891\tvalid-logloss:0.21830\n",
      "[1100]\ttrain-logloss:0.19702\tvalid-logloss:0.21813\n",
      "[1200]\ttrain-logloss:0.19522\tvalid-logloss:0.21801\n",
      "[1300]\ttrain-logloss:0.19341\tvalid-logloss:0.21789\n",
      "[1400]\ttrain-logloss:0.19170\tvalid-logloss:0.21785\n",
      "[1500]\ttrain-logloss:0.19002\tvalid-logloss:0.21771\n",
      "[1600]\ttrain-logloss:0.18837\tvalid-logloss:0.21768\n",
      "[1700]\ttrain-logloss:0.18671\tvalid-logloss:0.21760\n",
      "[1800]\ttrain-logloss:0.18511\tvalid-logloss:0.21758\n",
      "[1840]\ttrain-logloss:0.18446\tvalid-logloss:0.21760\n",
      "Kaggle Metric = 0.79235667335207 \n",
      "\n",
      "#########################\n",
      "### Fold 2\n",
      "### Train size 367130 Valid size 91783\n",
      "### Training with 100% fold data...\n",
      "#########################\n",
      "[0]\ttrain-logloss:0.66202\tvalid-logloss:0.66199\n",
      "[100]\ttrain-logloss:0.23741\tvalid-logloss:0.23840\n",
      "[200]\ttrain-logloss:0.22333\tvalid-logloss:0.22624\n",
      "[300]\ttrain-logloss:0.21734\tvalid-logloss:0.22238\n",
      "[400]\ttrain-logloss:0.21340\tvalid-logloss:0.22048\n",
      "[500]\ttrain-logloss:0.21033\tvalid-logloss:0.21936\n",
      "[600]\ttrain-logloss:0.20765\tvalid-logloss:0.21856\n",
      "[700]\ttrain-logloss:0.20531\tvalid-logloss:0.21810\n",
      "[800]\ttrain-logloss:0.20316\tvalid-logloss:0.21771\n",
      "[900]\ttrain-logloss:0.20109\tvalid-logloss:0.21745\n",
      "[1000]\ttrain-logloss:0.19918\tvalid-logloss:0.21721\n",
      "[1100]\ttrain-logloss:0.19722\tvalid-logloss:0.21705\n",
      "[1200]\ttrain-logloss:0.19536\tvalid-logloss:0.21689\n",
      "[1300]\ttrain-logloss:0.19361\tvalid-logloss:0.21678\n",
      "[1400]\ttrain-logloss:0.19192\tvalid-logloss:0.21669\n",
      "[1500]\ttrain-logloss:0.19016\tvalid-logloss:0.21663\n",
      "[1600]\ttrain-logloss:0.18847\tvalid-logloss:0.21661\n",
      "[1700]\ttrain-logloss:0.18679\tvalid-logloss:0.21657\n",
      "[1800]\ttrain-logloss:0.18519\tvalid-logloss:0.21655\n",
      "[1836]\ttrain-logloss:0.18464\tvalid-logloss:0.21656\n",
      "Kaggle Metric = 0.7931764370223294 \n",
      "\n",
      "#########################\n",
      "### Fold 3\n",
      "### Train size 367130 Valid size 91783\n",
      "### Training with 100% fold data...\n",
      "#########################\n",
      "[0]\ttrain-logloss:0.66194\tvalid-logloss:0.66205\n",
      "[100]\ttrain-logloss:0.23672\tvalid-logloss:0.24077\n",
      "[200]\ttrain-logloss:0.22269\tvalid-logloss:0.22913\n",
      "[300]\ttrain-logloss:0.21669\tvalid-logloss:0.22523\n",
      "[400]\ttrain-logloss:0.21279\tvalid-logloss:0.22325\n",
      "[500]\ttrain-logloss:0.20965\tvalid-logloss:0.22207\n",
      "[600]\ttrain-logloss:0.20695\tvalid-logloss:0.22132\n",
      "[700]\ttrain-logloss:0.20457\tvalid-logloss:0.22079\n",
      "[800]\ttrain-logloss:0.20240\tvalid-logloss:0.22042\n",
      "[900]\ttrain-logloss:0.20038\tvalid-logloss:0.22020\n",
      "[1000]\ttrain-logloss:0.19840\tvalid-logloss:0.21995\n",
      "[1100]\ttrain-logloss:0.19649\tvalid-logloss:0.21978\n",
      "[1200]\ttrain-logloss:0.19464\tvalid-logloss:0.21965\n",
      "[1300]\ttrain-logloss:0.19290\tvalid-logloss:0.21956\n",
      "[1400]\ttrain-logloss:0.19115\tvalid-logloss:0.21946\n",
      "[1500]\ttrain-logloss:0.18944\tvalid-logloss:0.21935\n",
      "[1600]\ttrain-logloss:0.18778\tvalid-logloss:0.21930\n",
      "[1700]\ttrain-logloss:0.18615\tvalid-logloss:0.21926\n",
      "[1800]\ttrain-logloss:0.18457\tvalid-logloss:0.21927\n",
      "[1866]\ttrain-logloss:0.18354\tvalid-logloss:0.21929\n",
      "Kaggle Metric = 0.7902277281622414 \n",
      "\n",
      "#########################\n",
      "### Fold 4\n",
      "### Train size 367131 Valid size 91782\n",
      "### Training with 100% fold data...\n",
      "#########################\n",
      "[0]\ttrain-logloss:0.66197\tvalid-logloss:0.66210\n",
      "[100]\ttrain-logloss:0.23698\tvalid-logloss:0.24147\n",
      "[200]\ttrain-logloss:0.22258\tvalid-logloss:0.22949\n",
      "[300]\ttrain-logloss:0.21656\tvalid-logloss:0.22574\n",
      "[400]\ttrain-logloss:0.21258\tvalid-logloss:0.22385\n",
      "[500]\ttrain-logloss:0.20947\tvalid-logloss:0.22278\n",
      "[600]\ttrain-logloss:0.20680\tvalid-logloss:0.22196\n",
      "[700]\ttrain-logloss:0.20445\tvalid-logloss:0.22149\n",
      "[800]\ttrain-logloss:0.20226\tvalid-logloss:0.22116\n",
      "[900]\ttrain-logloss:0.20019\tvalid-logloss:0.22096\n",
      "[1000]\ttrain-logloss:0.19821\tvalid-logloss:0.22081\n",
      "[1100]\ttrain-logloss:0.19628\tvalid-logloss:0.22068\n",
      "[1200]\ttrain-logloss:0.19445\tvalid-logloss:0.22059\n",
      "[1300]\ttrain-logloss:0.19263\tvalid-logloss:0.22044\n",
      "[1400]\ttrain-logloss:0.19093\tvalid-logloss:0.22037\n",
      "[1500]\ttrain-logloss:0.18923\tvalid-logloss:0.22034\n",
      "[1600]\ttrain-logloss:0.18761\tvalid-logloss:0.22030\n",
      "[1700]\ttrain-logloss:0.18598\tvalid-logloss:0.22025\n",
      "[1746]\ttrain-logloss:0.18522\tvalid-logloss:0.22026\n",
      "Kaggle Metric = 0.787487101018435 \n",
      "\n",
      "#########################\n",
      "### Fold 5\n",
      "### Train size 367131 Valid size 91782\n",
      "### Training with 100% fold data...\n",
      "#########################\n",
      "[0]\ttrain-logloss:0.66203\tvalid-logloss:0.66193\n",
      "[100]\ttrain-logloss:0.23760\tvalid-logloss:0.23810\n",
      "[200]\ttrain-logloss:0.22341\tvalid-logloss:0.22599\n",
      "[300]\ttrain-logloss:0.21747\tvalid-logloss:0.22192\n",
      "[400]\ttrain-logloss:0.21369\tvalid-logloss:0.22002\n",
      "[500]\ttrain-logloss:0.21062\tvalid-logloss:0.21883\n",
      "[600]\ttrain-logloss:0.20795\tvalid-logloss:0.21797\n",
      "[700]\ttrain-logloss:0.20552\tvalid-logloss:0.21746\n",
      "[800]\ttrain-logloss:0.20330\tvalid-logloss:0.21709\n",
      "[900]\ttrain-logloss:0.20127\tvalid-logloss:0.21682\n",
      "[1000]\ttrain-logloss:0.19925\tvalid-logloss:0.21658\n",
      "[1100]\ttrain-logloss:0.19733\tvalid-logloss:0.21638\n",
      "[1200]\ttrain-logloss:0.19555\tvalid-logloss:0.21626\n",
      "[1300]\ttrain-logloss:0.19371\tvalid-logloss:0.21609\n",
      "[1400]\ttrain-logloss:0.19199\tvalid-logloss:0.21602\n",
      "[1448]\ttrain-logloss:0.19118\tvalid-logloss:0.21600\n",
      "Kaggle Metric = 0.7937171993882999 \n",
      "\n",
      "#########################\n",
      "OVERALL CV Kaggle Metric = 0.7913894636513089\n"
     ]
    }
   ],
   "source": [
    "importances = []\n",
    "oof = []\n",
    "train = train.to_pandas() # free GPU memory\n",
    "TRAIN_SUBSAMPLE = 1.0\n",
    "gc.collect()\n",
    "\n",
    "skf = KFold(n_splits=FOLDS, shuffle=True, random_state=SEED)\n",
    "for fold,(train_idx, valid_idx) in enumerate(skf.split(\n",
    "            train, train.target )):\n",
    "    \n",
    "    # TRAIN WITH SUBSAMPLE OF TRAIN FOLD DATA\n",
    "    if TRAIN_SUBSAMPLE<1.0:\n",
    "        np.random.seed(SEED)\n",
    "        train_idx = np.random.choice(train_idx, \n",
    "                       int(len(train_idx)*TRAIN_SUBSAMPLE), replace=False)\n",
    "        np.random.seed(None)\n",
    "    \n",
    "    print('#'*25)\n",
    "    print('### Fold',fold+1)\n",
    "    print('### Train size',len(train_idx),'Valid size',len(valid_idx))\n",
    "    print(f'### Training with {int(TRAIN_SUBSAMPLE*100)}% fold data...')\n",
    "    print('#'*25)\n",
    "    \n",
    "    # TRAIN, VALID, TEST FOR FOLD K\n",
    "    Xy_train = IterLoadForDMatrix(train.loc[train_idx], FEATURES, 'target')\n",
    "    X_valid = train.loc[valid_idx, FEATURES]\n",
    "    y_valid = train.loc[valid_idx, 'target']\n",
    "    \n",
    "    dtrain = xgb.DeviceQuantileDMatrix(Xy_train, max_bin=256)\n",
    "    dvalid = xgb.DMatrix(data=X_valid, label=y_valid)\n",
    "    \n",
    "    # TRAIN MODEL FOLD K\n",
    "    model = xgb.train(xgb_parms, \n",
    "                dtrain=dtrain,\n",
    "                evals=[(dtrain,'train'),(dvalid,'valid')],\n",
    "                num_boost_round=9999,\n",
    "                early_stopping_rounds=100,\n",
    "                verbose_eval=100) \n",
    "    model.save_model(f'XGB_v{VER}_fold{fold}.xgb')\n",
    "    \n",
    "    # GET FEATURE IMPORTANCE FOR FOLD K\n",
    "    dd = model.get_score(importance_type='weight')\n",
    "    df = pd.DataFrame({'feature':dd.keys(),f'importance_{fold}':dd.values()})\n",
    "    importances.append(df)\n",
    "            \n",
    "    # INFER OOF FOLD K\n",
    "    oof_preds = model.predict(dvalid)\n",
    "    acc = amex_metric_mod(y_valid.values, oof_preds)\n",
    "    print('Kaggle Metric =',acc,'\\n')\n",
    "    \n",
    "    # SAVE OOF\n",
    "    df = train.loc[valid_idx, ['customer_ID','target'] ].copy()\n",
    "    df['oof_pred'] = oof_preds\n",
    "    oof.append( df )\n",
    "    \n",
    "    del dtrain, Xy_train, dd, df\n",
    "    del X_valid, y_valid, dvalid, model\n",
    "    _ = gc.collect()\n",
    "    \n",
    "print('#'*25)\n",
    "oof = pd.concat(oof,axis=0,ignore_index=True).set_index('customer_ID')\n",
    "acc = amex_metric_mod(oof.target.values, oof.oof_pred.values)\n",
    "print('OVERALL CV Kaggle Metric =',acc)"
   ]
  },
  {
   "cell_type": "code",
   "execution_count": 11,
   "id": "d0038aa3",
   "metadata": {
    "execution": {
     "iopub.execute_input": "2022-07-29T15:45:23.670501Z",
     "iopub.status.busy": "2022-07-29T15:45:23.669727Z",
     "iopub.status.idle": "2022-07-29T15:45:23.808949Z",
     "shell.execute_reply": "2022-07-29T15:45:23.808113Z"
    },
    "papermill": {
     "duration": 0.155232,
     "end_time": "2022-07-29T15:45:23.810948",
     "exception": false,
     "start_time": "2022-07-29T15:45:23.655716",
     "status": "completed"
    },
    "tags": []
   },
   "outputs": [],
   "source": [
    "# CLEAN RAM\n",
    "del train\n",
    "_ = gc.collect()"
   ]
  },
  {
   "cell_type": "markdown",
   "id": "6f0d4307",
   "metadata": {
    "papermill": {
     "duration": 0.013479,
     "end_time": "2022-07-29T15:45:23.837952",
     "exception": false,
     "start_time": "2022-07-29T15:45:23.824473",
     "status": "completed"
    },
    "tags": []
   },
   "source": [
    "# Save OOF Preds"
   ]
  },
  {
   "cell_type": "code",
   "execution_count": 12,
   "id": "7a49343d",
   "metadata": {
    "execution": {
     "iopub.execute_input": "2022-07-29T15:45:23.865631Z",
     "iopub.status.busy": "2022-07-29T15:45:23.865296Z",
     "iopub.status.idle": "2022-07-29T15:45:29.121460Z",
     "shell.execute_reply": "2022-07-29T15:45:29.120694Z"
    },
    "papermill": {
     "duration": 5.272233,
     "end_time": "2022-07-29T15:45:29.123389",
     "exception": false,
     "start_time": "2022-07-29T15:45:23.851156",
     "status": "completed"
    },
    "tags": []
   },
   "outputs": [
    {
     "data": {
      "text/html": [
       "<div>\n",
       "<style scoped>\n",
       "    .dataframe tbody tr th:only-of-type {\n",
       "        vertical-align: middle;\n",
       "    }\n",
       "\n",
       "    .dataframe tbody tr th {\n",
       "        vertical-align: top;\n",
       "    }\n",
       "\n",
       "    .dataframe thead th {\n",
       "        text-align: right;\n",
       "    }\n",
       "</style>\n",
       "<table border=\"1\" class=\"dataframe\">\n",
       "  <thead>\n",
       "    <tr style=\"text-align: right;\">\n",
       "      <th></th>\n",
       "      <th>customer_ID</th>\n",
       "      <th>target</th>\n",
       "      <th>oof_pred</th>\n",
       "    </tr>\n",
       "  </thead>\n",
       "  <tbody>\n",
       "    <tr>\n",
       "      <th>0</th>\n",
       "      <td>20eac26171c3d251c55fc78204e59fab1c15fc2bc96d0c...</td>\n",
       "      <td>1</td>\n",
       "      <td>0.679096</td>\n",
       "    </tr>\n",
       "    <tr>\n",
       "      <th>1</th>\n",
       "      <td>aea50fdf9b974ccec95fa177c3225a0f913483b457de6e...</td>\n",
       "      <td>0</td>\n",
       "      <td>0.000316</td>\n",
       "    </tr>\n",
       "    <tr>\n",
       "      <th>2</th>\n",
       "      <td>32cd2d41aef737b69089882754395925c96eaee1f4a859...</td>\n",
       "      <td>0</td>\n",
       "      <td>0.001245</td>\n",
       "    </tr>\n",
       "    <tr>\n",
       "      <th>3</th>\n",
       "      <td>8daa6d5dc2655a8a437531e6b8b96829113cdfe9bf6cae...</td>\n",
       "      <td>0</td>\n",
       "      <td>0.015886</td>\n",
       "    </tr>\n",
       "    <tr>\n",
       "      <th>4</th>\n",
       "      <td>0ceba351a3851202542feb49d7385bcef32f6037fc57c7...</td>\n",
       "      <td>1</td>\n",
       "      <td>0.868132</td>\n",
       "    </tr>\n",
       "  </tbody>\n",
       "</table>\n",
       "</div>"
      ],
      "text/plain": [
       "                                         customer_ID  target  oof_pred\n",
       "0  20eac26171c3d251c55fc78204e59fab1c15fc2bc96d0c...       1  0.679096\n",
       "1  aea50fdf9b974ccec95fa177c3225a0f913483b457de6e...       0  0.000316\n",
       "2  32cd2d41aef737b69089882754395925c96eaee1f4a859...       0  0.001245\n",
       "3  8daa6d5dc2655a8a437531e6b8b96829113cdfe9bf6cae...       0  0.015886\n",
       "4  0ceba351a3851202542feb49d7385bcef32f6037fc57c7...       1  0.868132"
      ]
     },
     "execution_count": 12,
     "metadata": {},
     "output_type": "execute_result"
    }
   ],
   "source": [
    "oof_xgb = pd.read_parquet(TRAIN_PATH, columns=['customer_ID']).drop_duplicates()\n",
    "oof_xgb['customer_ID_hash'] = oof_xgb['customer_ID'].apply(lambda x: int(x[-16:],16) ).astype('int64')\n",
    "oof_xgb = oof_xgb.set_index('customer_ID_hash')\n",
    "oof_xgb = oof_xgb.merge(oof, left_index=True, right_index=True)\n",
    "oof_xgb = oof_xgb.sort_index().reset_index(drop=True)\n",
    "oof_xgb.to_csv(f'oof_xgb_v{VER}.csv',index=False)\n",
    "oof_xgb.head()"
   ]
  },
  {
   "cell_type": "code",
   "execution_count": 13,
   "id": "8267b6da",
   "metadata": {
    "execution": {
     "iopub.execute_input": "2022-07-29T15:45:29.151935Z",
     "iopub.status.busy": "2022-07-29T15:45:29.151603Z",
     "iopub.status.idle": "2022-07-29T15:45:29.502892Z",
     "shell.execute_reply": "2022-07-29T15:45:29.502130Z"
    },
    "papermill": {
     "duration": 0.367071,
     "end_time": "2022-07-29T15:45:29.504788",
     "exception": false,
     "start_time": "2022-07-29T15:45:29.137717",
     "status": "completed"
    },
    "tags": []
   },
   "outputs": [
    {
     "data": {
      "image/png": "[encoded data removed]",
      "text/plain": [
       "<Figure size 432x288 with 1 Axes>"
      ]
     },
     "metadata": {
      "needs_background": "light"
     },
     "output_type": "display_data"
    }
   ],
   "source": [
    "# PLOT OOF PREDICTIONS\n",
    "plt.hist(oof_xgb.oof_pred.values, bins=100)\n",
    "plt.title('OOF Predictions')\n",
    "plt.show()"
   ]
  },
  {
   "cell_type": "code",
   "execution_count": 14,
   "id": "94e7eeff",
   "metadata": {
    "execution": {
     "iopub.execute_input": "2022-07-29T15:45:29.534459Z",
     "iopub.status.busy": "2022-07-29T15:45:29.534161Z",
     "iopub.status.idle": "2022-07-29T15:45:29.672959Z",
     "shell.execute_reply": "2022-07-29T15:45:29.672154Z"
    },
    "papermill": {
     "duration": 0.155383,
     "end_time": "2022-07-29T15:45:29.674727",
     "exception": false,
     "start_time": "2022-07-29T15:45:29.519344",
     "status": "completed"
    },
    "tags": []
   },
   "outputs": [],
   "source": [
    "# CLEAR VRAM, RAM FOR INFERENCE BELOW\n",
    "del oof_xgb, oof\n",
    "_ = gc.collect()"
   ]
  },
  {
   "cell_type": "markdown",
   "id": "592feb26",
   "metadata": {
    "papermill": {
     "duration": 0.013255,
     "end_time": "2022-07-29T15:45:29.701695",
     "exception": false,
     "start_time": "2022-07-29T15:45:29.688440",
     "status": "completed"
    },
    "tags": []
   },
   "source": [
    "# Feature Importance"
   ]
  },
  {
   "cell_type": "code",
   "execution_count": 15,
   "id": "7bfb8c54",
   "metadata": {
    "execution": {
     "iopub.execute_input": "2022-07-29T15:45:29.729506Z",
     "iopub.status.busy": "2022-07-29T15:45:29.729176Z",
     "iopub.status.idle": "2022-07-29T15:45:29.755505Z",
     "shell.execute_reply": "2022-07-29T15:45:29.754695Z"
    },
    "papermill": {
     "duration": 0.043073,
     "end_time": "2022-07-29T15:45:29.757859",
     "exception": false,
     "start_time": "2022-07-29T15:45:29.714786",
     "status": "completed"
    },
    "tags": []
   },
   "outputs": [],
   "source": [
    "import matplotlib.pyplot as plt\n",
    "\n",
    "df = importances[0].copy()\n",
    "for k in range(1,FOLDS): df = df.merge(importances[k], on='feature', how='left')\n",
    "df['importance'] = df.iloc[:,1:].mean(axis=1)\n",
    "df = df.sort_values('importance',ascending=False)\n",
    "df.to_csv(f'xgb_feature_importance_v{VER}.csv',index=False)"
   ]
  },
  {
   "cell_type": "code",
   "execution_count": 16,
   "id": "d5648d61",
   "metadata": {
    "execution": {
     "iopub.execute_input": "2022-07-29T15:45:29.786552Z",
     "iopub.status.busy": "2022-07-29T15:45:29.786227Z",
     "iopub.status.idle": "2022-07-29T15:45:30.040436Z",
     "shell.execute_reply": "2022-07-29T15:45:30.039625Z"
    },
    "papermill": {
     "duration": 0.270581,
     "end_time": "2022-07-29T15:45:30.042182",
     "exception": false,
     "start_time": "2022-07-29T15:45:29.771601",
     "status": "completed"
    },
    "tags": []
   },
   "outputs": [
    {
     "data": {
      "image/png": "[encoded data removed]",
      "text/plain": [
       "<Figure size 720x720 with 1 Axes>"
      ]
     },
     "metadata": {
      "needs_background": "light"
     },
     "output_type": "display_data"
    }
   ],
   "source": [
    "NUM_FEATURES = 20\n",
    "plt.figure(figsize=(10,5*NUM_FEATURES//10))\n",
    "plt.barh(np.arange(NUM_FEATURES,0,-1), df.importance.values[:NUM_FEATURES])\n",
    "plt.yticks(np.arange(NUM_FEATURES,0,-1), df.feature.values[:NUM_FEATURES])\n",
    "plt.title(f'XGB Feature Importance - Top {NUM_FEATURES}')\n",
    "plt.show()"
   ]
  },
  {
   "cell_type": "markdown",
   "id": "a30c6db7",
   "metadata": {
    "papermill": {
     "duration": 0.01396,
     "end_time": "2022-07-29T15:45:30.070239",
     "exception": false,
     "start_time": "2022-07-29T15:45:30.056279",
     "status": "completed"
    },
    "tags": []
   },
   "source": [
    "# Process and Feature Engineer Test Data\n",
    "We will load @raddar Kaggle dataset from [here][1] with discussion [here][2]. Then we will engineer features suggested by @huseyincot in his notebooks [here][1] and [here][4]. We will use [RAPIDS][5] and the GPU to create new features quickly.\n",
    "\n",
    "[1]: https://www.kaggle.com/datasets/raddar/amex-data-integer-dtypes-parquet-format\n",
    "[2]: https://www.kaggle.com/competitions/amex-default-prediction/discussion/328514\n",
    "[3]: https://www.kaggle.com/code/huseyincot/amex-catboost-0-793\n",
    "[4]: https://www.kaggle.com/code/huseyincot/amex-agg-data-how-it-created\n",
    "[5]: https://rapids.ai/"
   ]
  },
  {
   "cell_type": "code",
   "execution_count": 17,
   "id": "1bcfceac",
   "metadata": {
    "execution": {
     "iopub.execute_input": "2022-07-29T15:45:30.100523Z",
     "iopub.status.busy": "2022-07-29T15:45:30.100050Z",
     "iopub.status.idle": "2022-07-29T15:45:32.554111Z",
     "shell.execute_reply": "2022-07-29T15:45:32.552531Z"
    },
    "papermill": {
     "duration": 2.47185,
     "end_time": "2022-07-29T15:45:32.556412",
     "exception": false,
     "start_time": "2022-07-29T15:45:30.084562",
     "status": "completed"
    },
    "tags": []
   },
   "outputs": [
    {
     "name": "stdout",
     "output_type": "stream",
     "text": [
      "Reading test data...\n",
      "shape of data: (11363762, 2)\n",
      "We will process test data as 4 separate parts.\n",
      "There will be 231155 customers in each part (except the last part).\n",
      "Below are number of rows in each part:\n",
      "[2841209, 2839857, 2842105, 2840591]\n"
     ]
    }
   ],
   "source": [
    "# CALCULATE SIZE OF EACH SEPARATE TEST PART\n",
    "def get_rows(customers, test, NUM_PARTS = 4, verbose = ''):\n",
    "    chunk = len(customers)//NUM_PARTS\n",
    "    if verbose != '':\n",
    "        print(f'We will process {verbose} data as {NUM_PARTS} separate parts.')\n",
    "        print(f'There will be {chunk} customers in each part (except the last part).')\n",
    "        print('Below are number of rows in each part:')\n",
    "    rows = []\n",
    "\n",
    "    for k in range(NUM_PARTS):\n",
    "        if k==NUM_PARTS-1: cc = customers[k*chunk:]\n",
    "        else: cc = customers[k*chunk:(k+1)*chunk]\n",
    "        s = test.loc[test.customer_ID.isin(cc)].shape[0]\n",
    "        rows.append(s)\n",
    "    if verbose != '': print( rows )\n",
    "    return rows,chunk\n",
    "\n",
    "# COMPUTE SIZE OF 4 PARTS FOR TEST DATA\n",
    "NUM_PARTS = 4\n",
    "TEST_PATH = '../input/amex-data-integer-dtypes-parquet-format/test.parquet'\n",
    "\n",
    "print(f'Reading test data...')\n",
    "test = read_file(path = TEST_PATH, usecols = ['customer_ID','S_2'])\n",
    "customers = test[['customer_ID']].drop_duplicates().sort_index().values.flatten()\n",
    "rows,num_cust = get_rows(customers, test[['customer_ID']], NUM_PARTS = NUM_PARTS, verbose = 'test')"
   ]
  },
  {
   "cell_type": "markdown",
   "id": "744507d1",
   "metadata": {
    "papermill": {
     "duration": 0.014828,
     "end_time": "2022-07-29T15:45:32.586890",
     "exception": false,
     "start_time": "2022-07-29T15:45:32.572062",
     "status": "completed"
    },
    "tags": []
   },
   "source": [
    "# Infer Test"
   ]
  },
  {
   "cell_type": "code",
   "execution_count": 18,
   "id": "f65a83f6",
   "metadata": {
    "execution": {
     "iopub.execute_input": "2022-07-29T15:45:32.616910Z",
     "iopub.status.busy": "2022-07-29T15:45:32.616528Z",
     "iopub.status.idle": "2022-07-29T15:48:21.901614Z",
     "shell.execute_reply": "2022-07-29T15:48:21.900834Z"
    },
    "papermill": {
     "duration": 169.302171,
     "end_time": "2022-07-29T15:48:21.903817",
     "exception": false,
     "start_time": "2022-07-29T15:45:32.601646",
     "status": "completed"
    },
    "tags": []
   },
   "outputs": [
    {
     "name": "stdout",
     "output_type": "stream",
     "text": [
      "\n",
      "Reading test data...\n",
      "shape of data: (11363762, 190)\n",
      "=> Test part 1 has shape (2841209, 190)\n",
      "shape after engineering (231155, 529)\n",
      "\n",
      "Reading test data...\n",
      "shape of data: (11363762, 190)\n",
      "=> Test part 2 has shape (2839857, 190)\n",
      "shape after engineering (231155, 529)\n",
      "\n",
      "Reading test data...\n",
      "shape of data: (11363762, 190)\n",
      "=> Test part 3 has shape (2842105, 190)\n",
      "shape after engineering (231155, 529)\n",
      "\n",
      "Reading test data...\n",
      "shape of data: (11363762, 190)\n",
      "=> Test part 4 has shape (2840591, 190)\n",
      "shape after engineering (231156, 529)\n"
     ]
    }
   ],
   "source": [
    "# INFER TEST DATA IN PARTS\n",
    "skip_rows = 0\n",
    "skip_cust = 0\n",
    "test_preds = []\n",
    "\n",
    "for k in range(NUM_PARTS):\n",
    "    \n",
    "    # READ PART OF TEST DATA\n",
    "    print(f'\\nReading test data...')\n",
    "    test = read_file(path = TEST_PATH)\n",
    "    test = test.iloc[skip_rows:skip_rows+rows[k]]\n",
    "    skip_rows += rows[k]\n",
    "    print(f'=> Test part {k+1} has shape', test.shape )\n",
    "    \n",
    "    # PROCESS AND FEATURE ENGINEER PART OF TEST DATA\n",
    "    test = process_and_feature_engineer(test)\n",
    "    if k==NUM_PARTS-1: test = test.loc[customers[skip_cust:]]\n",
    "    else: test = test.loc[customers[skip_cust:skip_cust+num_cust]]\n",
    "    skip_cust += num_cust\n",
    "    \n",
    "    # TEST DATA FOR XGB\n",
    "    X_test = test[FEATURES]\n",
    "    dtest = xgb.DMatrix(data=X_test)\n",
    "    test = test[['P_2_mean']] # reduce memory\n",
    "    del X_test\n",
    "    gc.collect()\n",
    "\n",
    "    # INFER XGB MODELS ON TEST DATA\n",
    "    model = xgb.Booster()\n",
    "    model.load_model(f'XGB_v{VER}_fold0.xgb')\n",
    "    preds = model.predict(dtest)\n",
    "    for f in range(1,FOLDS):\n",
    "        model.load_model(f'XGB_v{VER}_fold{f}.xgb')\n",
    "        preds += model.predict(dtest)\n",
    "    preds /= FOLDS\n",
    "    test_preds.append(preds)\n",
    "\n",
    "    # CLEAN MEMORY\n",
    "    del dtest, model\n",
    "    _ = gc.collect()"
   ]
  },
  {
   "cell_type": "markdown",
   "id": "c6bd05a3",
   "metadata": {
    "papermill": {
     "duration": 0.014945,
     "end_time": "2022-07-29T15:48:21.933921",
     "exception": false,
     "start_time": "2022-07-29T15:48:21.918976",
     "status": "completed"
    },
    "tags": []
   },
   "source": [
    "# Create Submission CSV"
   ]
  },
  {
   "cell_type": "code",
   "execution_count": 19,
   "id": "bc3f2bf5",
   "metadata": {
    "execution": {
     "iopub.execute_input": "2022-07-29T15:48:21.964561Z",
     "iopub.status.busy": "2022-07-29T15:48:21.964244Z",
     "iopub.status.idle": "2022-07-29T15:48:23.182126Z",
     "shell.execute_reply": "2022-07-29T15:48:23.180844Z"
    },
    "papermill": {
     "duration": 1.235494,
     "end_time": "2022-07-29T15:48:23.184376",
     "exception": false,
     "start_time": "2022-07-29T15:48:21.948882",
     "status": "completed"
    },
    "tags": []
   },
   "outputs": [
    {
     "name": "stdout",
     "output_type": "stream",
     "text": [
      "Submission file shape is (924621, 2)\n"
     ]
    },
    {
     "data": {
      "text/html": [
       "<div>\n",
       "<style scoped>\n",
       "    .dataframe tbody tr th:only-of-type {\n",
       "        vertical-align: middle;\n",
       "    }\n",
       "\n",
       "    .dataframe tbody tr th {\n",
       "        vertical-align: top;\n",
       "    }\n",
       "\n",
       "    .dataframe thead th {\n",
       "        text-align: right;\n",
       "    }\n",
       "</style>\n",
       "<table border=\"1\" class=\"dataframe\">\n",
       "  <thead>\n",
       "    <tr style=\"text-align: right;\">\n",
       "      <th></th>\n",
       "      <th>customer_ID</th>\n",
       "      <th>prediction</th>\n",
       "    </tr>\n",
       "  </thead>\n",
       "  <tbody>\n",
       "    <tr>\n",
       "      <th>0</th>\n",
       "      <td>03999d5e3bd61a69504cc6e7025c260c1ed2e5b449dba5...</td>\n",
       "      <td>0.100473</td>\n",
       "    </tr>\n",
       "    <tr>\n",
       "      <th>1</th>\n",
       "      <td>039b4f21aa584fb0c3c7055beabc098af55013f9f25515...</td>\n",
       "      <td>0.004220</td>\n",
       "    </tr>\n",
       "    <tr>\n",
       "      <th>2</th>\n",
       "      <td>039a6aea85575ebd33eec75e5c45bc7973481b81a99b62...</td>\n",
       "      <td>0.065614</td>\n",
       "    </tr>\n",
       "    <tr>\n",
       "      <th>3</th>\n",
       "      <td>039bd96164c6567580b24ba13c2b85b60f4554eb43d55b...</td>\n",
       "      <td>0.453776</td>\n",
       "    </tr>\n",
       "    <tr>\n",
       "      <th>4</th>\n",
       "      <td>0399a5a95461ced4134cd9693712fb012351cca1bde04d...</td>\n",
       "      <td>0.000173</td>\n",
       "    </tr>\n",
       "  </tbody>\n",
       "</table>\n",
       "</div>"
      ],
      "text/plain": [
       "                                         customer_ID  prediction\n",
       "0  03999d5e3bd61a69504cc6e7025c260c1ed2e5b449dba5...    0.100473\n",
       "1  039b4f21aa584fb0c3c7055beabc098af55013f9f25515...    0.004220\n",
       "2  039a6aea85575ebd33eec75e5c45bc7973481b81a99b62...    0.065614\n",
       "3  039bd96164c6567580b24ba13c2b85b60f4554eb43d55b...    0.453776\n",
       "4  0399a5a95461ced4134cd9693712fb012351cca1bde04d...    0.000173"
      ]
     },
     "execution_count": 19,
     "metadata": {},
     "output_type": "execute_result"
    }
   ],
   "source": [
    "# WRITE SUBMISSION FILE\n",
    "test_preds = np.concatenate(test_preds)\n",
    "test = cudf.DataFrame(index=customers,data={'prediction':test_preds})\n",
    "sub = cudf.read_csv('../input/amex-default-prediction/sample_submission.csv')[['customer_ID']]\n",
    "sub['customer_ID_hash'] = sub['customer_ID'].str[-16:].str.hex_to_int().astype('int64')\n",
    "sub = sub.set_index('customer_ID_hash')\n",
    "sub = sub.merge(test[['prediction']], left_index=True, right_index=True, how='left')\n",
    "sub = sub.reset_index(drop=True)\n",
    "\n",
    "# DISPLAY PREDICTIONS\n",
    "sub.to_csv(f'submission_xgb_v{VER}.csv',index=False)\n",
    "print('Submission file shape is', sub.shape )\n",
    "sub.head()"
   ]
  },
  {
   "cell_type": "code",
   "execution_count": 20,
   "id": "5ea171a4",
   "metadata": {
    "execution": {
     "iopub.execute_input": "2022-07-29T15:48:23.216749Z",
     "iopub.status.busy": "2022-07-29T15:48:23.216125Z",
     "iopub.status.idle": "2022-07-29T15:48:23.931971Z",
     "shell.execute_reply": "2022-07-29T15:48:23.931227Z"
    },
    "papermill": {
     "duration": 0.733324,
     "end_time": "2022-07-29T15:48:23.933766",
     "exception": false,
     "start_time": "2022-07-29T15:48:23.200442",
     "status": "completed"
    },
    "tags": []
   },
   "outputs": [
    {
     "data": {
      "image/png": "[encoded data removed]",
      "text/plain": [
       "<Figure size 432x288 with 1 Axes>"
      ]
     },
     "metadata": {
      "needs_background": "light"
     },
     "output_type": "display_data"
    }
   ],
   "source": [
    "# PLOT PREDICTIONS\n",
    "plt.hist(sub.to_pandas().prediction, bins=100)\n",
    "plt.title('Test Predictions')\n",
    "plt.show()"
   ]
  }
 ],
 "metadata": {
  "kernelspec": {
   "display_name": "Python 3",
   "language": "python",
   "name": "python3"
  },
  "language_info": {
   "codemirror_mode": {
    "name": "ipython",
    "version": 3
   },
   "file_extension": ".py",
   "mimetype": "text/x-python",
   "name": "python",
   "nbconvert_exporter": "python",
   "pygments_lexer": "ipython3",
   "version": "3.7.12"
  },
  "papermill": {
   "default_parameters": {},
   "duration": 566.022616,
   "end_time": "2022-07-29T15:48:25.373386",
   "environment_variables": {},
   "exception": null,
   "input_path": "__notebook__.ipynb",
   "output_path": "__notebook__.ipynb",
   "parameters": {},
   "start_time": "2022-07-29T15:38:59.350770",
   "version": "2.3.4"
  }
 },
 "nbformat": 4,
 "nbformat_minor": 5
}
