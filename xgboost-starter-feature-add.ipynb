{
 "cells": [
  {
   "cell_type": "markdown",
   "id": "7893dcb3",
   "metadata": {
    "papermill": {
     "duration": 0.010836,
     "end_time": "2022-07-16T16:45:51.765662",
     "exception": false,
     "start_time": "2022-07-16T16:45:51.754826",
     "status": "completed"
    },
    "tags": []
   },
   "source": [
    "# XGBoost Starter - LB 0.793\n",
    "In this notebook we build and train an XGBoost model using @raddar Kaggle dataset from [here][1] with discussion [here][2]. Then we engineer features suggested by @huseyincot in his notebooks [here][3] and [here][4]. This XGB model achieves CV 0.792 LB 0.793! When training with XGB, we use a special XGB dataloader called `DeviceQuantileDMatrix` which uses a small GPU memory footprint. This allows us to engineer more additional columns and train with more rows of data. Our feature engineering is performed using [RAPIDS][5] on the GPU to create new features quickly.\n",
    "\n",
    "[1]: https://www.kaggle.com/datasets/raddar/amex-data-integer-dtypes-parquet-format\n",
    "[2]: https://www.kaggle.com/competitions/amex-default-prediction/discussion/328514\n",
    "[3]: https://www.kaggle.com/code/huseyincot/amex-catboost-0-793\n",
    "[4]: https://www.kaggle.com/code/huseyincot/amex-agg-data-how-it-created\n",
    "[5]: https://rapids.ai/"
   ]
  },
  {
   "cell_type": "markdown",
   "id": "2835e4f3",
   "metadata": {
    "papermill": {
     "duration": 0.007612,
     "end_time": "2022-07-16T16:45:51.781622",
     "exception": false,
     "start_time": "2022-07-16T16:45:51.774010",
     "status": "completed"
    },
    "tags": []
   },
   "source": [
    "Feature Engineering I done\n",
    "1. Drop B_29, https://www.kaggle.com/code/roberthatch/amex-feature-engg-gpu-or-cpu-process-in-chunks/notebook\n",
    "2. Add each customer count (how long they used) (not normalize)\n",
    "3. Don't fill NaN (with -127)\n",
    "4. remove num_features's min, std\n",
    "<!-- 5. D_39에 대한 feature 추가 -> CV하락 -->\n",
    "6. B_1과 B_2간의 연관 feature 추가\n",
    "\n",
    "2번을 빼니 0.792에서 0.7917 로 줄어듦.\n"
   ]
  },
  {
   "cell_type": "markdown",
   "id": "c3c447ea",
   "metadata": {
    "papermill": {
     "duration": 0.007565,
     "end_time": "2022-07-16T16:45:51.796825",
     "exception": false,
     "start_time": "2022-07-16T16:45:51.789260",
     "status": "completed"
    },
    "tags": []
   },
   "source": [
    "# Load Libraries"
   ]
  },
  {
   "cell_type": "code",
   "execution_count": 1,
   "id": "12d546be",
   "metadata": {
    "execution": {
     "iopub.execute_input": "2022-07-16T16:45:51.814779Z",
     "iopub.status.busy": "2022-07-16T16:45:51.814236Z",
     "iopub.status.idle": "2022-07-16T16:45:56.541274Z",
     "shell.execute_reply": "2022-07-16T16:45:56.538038Z"
    },
    "papermill": {
     "duration": 4.738867,
     "end_time": "2022-07-16T16:45:56.543923",
     "exception": false,
     "start_time": "2022-07-16T16:45:51.805056",
     "status": "completed"
    },
    "tags": []
   },
   "outputs": [
    {
     "name": "stdout",
     "output_type": "stream",
     "text": [
      "RAPIDS version 21.10.01\n"
     ]
    }
   ],
   "source": [
    "# LOAD LIBRARIES\n",
    "import pandas as pd, numpy as np # CPU libraries\n",
    "import cupy, cudf # GPU libraries\n",
    "import matplotlib.pyplot as plt, gc, os\n",
    "\n",
    "print('RAPIDS version',cudf.__version__)"
   ]
  },
  {
   "cell_type": "code",
   "execution_count": 2,
   "id": "90807593",
   "metadata": {
    "execution": {
     "iopub.execute_input": "2022-07-16T16:45:56.560112Z",
     "iopub.status.busy": "2022-07-16T16:45:56.559788Z",
     "iopub.status.idle": "2022-07-16T16:45:56.565908Z",
     "shell.execute_reply": "2022-07-16T16:45:56.564952Z"
    },
    "papermill": {
     "duration": 0.016638,
     "end_time": "2022-07-16T16:45:56.568147",
     "exception": false,
     "start_time": "2022-07-16T16:45:56.551509",
     "status": "completed"
    },
    "tags": []
   },
   "outputs": [],
   "source": [
    "# VERSION NAME FOR SAVED MODEL FILES\n",
    "VER = 1\n",
    "\n",
    "# TRAIN RANDOM SEED\n",
    "SEED = 42\n",
    "\n",
    "# FILL NAN VALUE\n",
    "NAN_VALUE = -127 # will fit in int8\n",
    "\n",
    "# FOLDS PER MODEL\n",
    "FOLDS = 5"
   ]
  },
  {
   "cell_type": "markdown",
   "id": "529a8d90",
   "metadata": {
    "papermill": {
     "duration": 0.007198,
     "end_time": "2022-07-16T16:45:56.582682",
     "exception": false,
     "start_time": "2022-07-16T16:45:56.575484",
     "status": "completed"
    },
    "tags": []
   },
   "source": [
    "# Process and Feature Engineer Train Data\n",
    "We will load @raddar Kaggle dataset from [here][1] with discussion [here][2]. Then we will engineer features suggested by @huseyincot in his notebooks [here][3] and [here][4]. We will use [RAPIDS][5] and the GPU to create new features quickly.\n",
    "\n",
    "[1]: https://www.kaggle.com/datasets/raddar/amex-data-integer-dtypes-parquet-format\n",
    "[2]: https://www.kaggle.com/competitions/amex-default-prediction/discussion/328514\n",
    "[3]: https://www.kaggle.com/code/huseyincot/amex-catboost-0-793\n",
    "[4]: https://www.kaggle.com/code/huseyincot/amex-agg-data-how-it-created\n",
    "[5]: https://rapids.ai/"
   ]
  },
  {
   "cell_type": "code",
   "execution_count": 3,
   "id": "d8b3fab8",
   "metadata": {
    "execution": {
     "iopub.execute_input": "2022-07-16T16:45:56.598901Z",
     "iopub.status.busy": "2022-07-16T16:45:56.597984Z",
     "iopub.status.idle": "2022-07-16T16:46:19.582932Z",
     "shell.execute_reply": "2022-07-16T16:46:19.581857Z"
    },
    "papermill": {
     "duration": 22.995222,
     "end_time": "2022-07-16T16:46:19.585113",
     "exception": false,
     "start_time": "2022-07-16T16:45:56.589891",
     "status": "completed"
    },
    "tags": []
   },
   "outputs": [
    {
     "name": "stdout",
     "output_type": "stream",
     "text": [
      "Reading train data...\n",
      "shape of data: (5531451, 190)\n"
     ]
    }
   ],
   "source": [
    "def read_file(path = '', usecols = None):\n",
    "    # LOAD DATAFRAME\n",
    "    if usecols is not None: df = cudf.read_parquet(path, columns=usecols)\n",
    "    else: df = cudf.read_parquet(path)\n",
    "    # REDUCE DTYPE FOR CUSTOMER AND DATE\n",
    "    df['customer_ID'] = df['customer_ID'].str[-16:].str.hex_to_int().astype('int64')\n",
    "    df.S_2 = cudf.to_datetime( df.S_2 )\n",
    "    # SORT BY CUSTOMER AND DATE (so agg('last') works correctly)\n",
    "    #df = df.sort_values(['customer_ID','S_2'])\n",
    "    #df = df.reset_index(drop=True)\n",
    "    # FILL NAN\n",
    "#     df = df.fillna(NAN_VALUE) \n",
    "    print('shape of data:', df.shape)\n",
    "    \n",
    "    return df\n",
    "\n",
    "print('Reading train data...')\n",
    "TRAIN_PATH = '../input/amex-data-integer-dtypes-parquet-format/train.parquet'\n",
    "train = read_file(path = TRAIN_PATH)"
   ]
  },
  {
   "cell_type": "code",
   "execution_count": 4,
   "id": "5c73916b",
   "metadata": {
    "execution": {
     "iopub.execute_input": "2022-07-16T16:46:19.601902Z",
     "iopub.status.busy": "2022-07-16T16:46:19.601522Z",
     "iopub.status.idle": "2022-07-16T16:46:19.964018Z",
     "shell.execute_reply": "2022-07-16T16:46:19.963077Z"
    },
    "papermill": {
     "duration": 0.372989,
     "end_time": "2022-07-16T16:46:19.966267",
     "exception": false,
     "start_time": "2022-07-16T16:46:19.593278",
     "status": "completed"
    },
    "tags": []
   },
   "outputs": [
    {
     "data": {
      "text/html": [
       "<div>\n",
       "<style scoped>\n",
       "    .dataframe tbody tr th:only-of-type {\n",
       "        vertical-align: middle;\n",
       "    }\n",
       "\n",
       "    .dataframe tbody tr th {\n",
       "        vertical-align: top;\n",
       "    }\n",
       "\n",
       "    .dataframe thead th {\n",
       "        text-align: right;\n",
       "    }\n",
       "</style>\n",
       "<table border=\"1\" class=\"dataframe\">\n",
       "  <thead>\n",
       "    <tr style=\"text-align: right;\">\n",
       "      <th></th>\n",
       "      <th>customer_ID</th>\n",
       "      <th>S_2</th>\n",
       "      <th>P_2</th>\n",
       "      <th>D_39</th>\n",
       "      <th>B_1</th>\n",
       "      <th>B_2</th>\n",
       "      <th>R_1</th>\n",
       "      <th>S_3</th>\n",
       "      <th>D_41</th>\n",
       "      <th>B_3</th>\n",
       "      <th>...</th>\n",
       "      <th>D_136</th>\n",
       "      <th>D_137</th>\n",
       "      <th>D_138</th>\n",
       "      <th>D_139</th>\n",
       "      <th>D_140</th>\n",
       "      <th>D_141</th>\n",
       "      <th>D_142</th>\n",
       "      <th>D_143</th>\n",
       "      <th>D_144</th>\n",
       "      <th>D_145</th>\n",
       "    </tr>\n",
       "  </thead>\n",
       "  <tbody>\n",
       "    <tr>\n",
       "      <th>0</th>\n",
       "      <td>-4532153018459703766</td>\n",
       "      <td>2017-03-09</td>\n",
       "      <td>0.938469</td>\n",
       "      <td>0</td>\n",
       "      <td>0.008724</td>\n",
       "      <td>1.006838</td>\n",
       "      <td>0.009228</td>\n",
       "      <td>0.124035</td>\n",
       "      <td>0.0</td>\n",
       "      <td>0.004709</td>\n",
       "      <td>...</td>\n",
       "      <td>-1</td>\n",
       "      <td>-1</td>\n",
       "      <td>-1</td>\n",
       "      <td>0</td>\n",
       "      <td>0</td>\n",
       "      <td>0.0</td>\n",
       "      <td>&lt;NA&gt;</td>\n",
       "      <td>0</td>\n",
       "      <td>0.000610</td>\n",
       "      <td>0</td>\n",
       "    </tr>\n",
       "    <tr>\n",
       "      <th>1</th>\n",
       "      <td>-4532153018459703766</td>\n",
       "      <td>2017-04-07</td>\n",
       "      <td>0.936665</td>\n",
       "      <td>0</td>\n",
       "      <td>0.004923</td>\n",
       "      <td>1.000653</td>\n",
       "      <td>0.006151</td>\n",
       "      <td>0.126750</td>\n",
       "      <td>0.0</td>\n",
       "      <td>0.002714</td>\n",
       "      <td>...</td>\n",
       "      <td>-1</td>\n",
       "      <td>-1</td>\n",
       "      <td>-1</td>\n",
       "      <td>0</td>\n",
       "      <td>0</td>\n",
       "      <td>0.0</td>\n",
       "      <td>&lt;NA&gt;</td>\n",
       "      <td>0</td>\n",
       "      <td>0.005492</td>\n",
       "      <td>0</td>\n",
       "    </tr>\n",
       "    <tr>\n",
       "      <th>2</th>\n",
       "      <td>-4532153018459703766</td>\n",
       "      <td>2017-05-28</td>\n",
       "      <td>0.954180</td>\n",
       "      <td>3</td>\n",
       "      <td>0.021655</td>\n",
       "      <td>1.009672</td>\n",
       "      <td>0.006815</td>\n",
       "      <td>0.123977</td>\n",
       "      <td>0.0</td>\n",
       "      <td>0.009423</td>\n",
       "      <td>...</td>\n",
       "      <td>-1</td>\n",
       "      <td>-1</td>\n",
       "      <td>-1</td>\n",
       "      <td>0</td>\n",
       "      <td>0</td>\n",
       "      <td>0.0</td>\n",
       "      <td>&lt;NA&gt;</td>\n",
       "      <td>0</td>\n",
       "      <td>0.006986</td>\n",
       "      <td>0</td>\n",
       "    </tr>\n",
       "    <tr>\n",
       "      <th>3</th>\n",
       "      <td>-4532153018459703766</td>\n",
       "      <td>2017-06-13</td>\n",
       "      <td>0.960384</td>\n",
       "      <td>0</td>\n",
       "      <td>0.013683</td>\n",
       "      <td>1.002700</td>\n",
       "      <td>0.001373</td>\n",
       "      <td>0.117169</td>\n",
       "      <td>0.0</td>\n",
       "      <td>0.005531</td>\n",
       "      <td>...</td>\n",
       "      <td>-1</td>\n",
       "      <td>-1</td>\n",
       "      <td>-1</td>\n",
       "      <td>0</td>\n",
       "      <td>0</td>\n",
       "      <td>0.0</td>\n",
       "      <td>&lt;NA&gt;</td>\n",
       "      <td>0</td>\n",
       "      <td>0.006527</td>\n",
       "      <td>0</td>\n",
       "    </tr>\n",
       "    <tr>\n",
       "      <th>4</th>\n",
       "      <td>-4532153018459703766</td>\n",
       "      <td>2017-07-16</td>\n",
       "      <td>0.947248</td>\n",
       "      <td>0</td>\n",
       "      <td>0.015193</td>\n",
       "      <td>1.000727</td>\n",
       "      <td>0.007605</td>\n",
       "      <td>0.117325</td>\n",
       "      <td>0.0</td>\n",
       "      <td>0.009312</td>\n",
       "      <td>...</td>\n",
       "      <td>-1</td>\n",
       "      <td>-1</td>\n",
       "      <td>-1</td>\n",
       "      <td>0</td>\n",
       "      <td>0</td>\n",
       "      <td>0.0</td>\n",
       "      <td>&lt;NA&gt;</td>\n",
       "      <td>0</td>\n",
       "      <td>0.008126</td>\n",
       "      <td>0</td>\n",
       "    </tr>\n",
       "  </tbody>\n",
       "</table>\n",
       "<p>5 rows × 190 columns</p>\n",
       "</div>"
      ],
      "text/plain": [
       "           customer_ID        S_2       P_2  D_39       B_1       B_2  \\\n",
       "0 -4532153018459703766 2017-03-09  0.938469     0  0.008724  1.006838   \n",
       "1 -4532153018459703766 2017-04-07  0.936665     0  0.004923  1.000653   \n",
       "2 -4532153018459703766 2017-05-28  0.954180     3  0.021655  1.009672   \n",
       "3 -4532153018459703766 2017-06-13  0.960384     0  0.013683  1.002700   \n",
       "4 -4532153018459703766 2017-07-16  0.947248     0  0.015193  1.000727   \n",
       "\n",
       "        R_1       S_3  D_41       B_3  ... D_136  D_137  D_138  D_139  D_140  \\\n",
       "0  0.009228  0.124035   0.0  0.004709  ...    -1     -1     -1      0      0   \n",
       "1  0.006151  0.126750   0.0  0.002714  ...    -1     -1     -1      0      0   \n",
       "2  0.006815  0.123977   0.0  0.009423  ...    -1     -1     -1      0      0   \n",
       "3  0.001373  0.117169   0.0  0.005531  ...    -1     -1     -1      0      0   \n",
       "4  0.007605  0.117325   0.0  0.009312  ...    -1     -1     -1      0      0   \n",
       "\n",
       "   D_141  D_142 D_143     D_144  D_145  \n",
       "0    0.0   <NA>     0  0.000610      0  \n",
       "1    0.0   <NA>     0  0.005492      0  \n",
       "2    0.0   <NA>     0  0.006986      0  \n",
       "3    0.0   <NA>     0  0.006527      0  \n",
       "4    0.0   <NA>     0  0.008126      0  \n",
       "\n",
       "[5 rows x 190 columns]"
      ]
     },
     "execution_count": 4,
     "metadata": {},
     "output_type": "execute_result"
    }
   ],
   "source": [
    "train.head()"
   ]
  },
  {
   "cell_type": "code",
   "execution_count": 5,
   "id": "5573e00e",
   "metadata": {
    "execution": {
     "iopub.execute_input": "2022-07-16T16:46:19.985987Z",
     "iopub.status.busy": "2022-07-16T16:46:19.985539Z",
     "iopub.status.idle": "2022-07-16T16:46:22.950621Z",
     "shell.execute_reply": "2022-07-16T16:46:22.949551Z"
    },
    "papermill": {
     "duration": 2.978707,
     "end_time": "2022-07-16T16:46:22.953320",
     "exception": false,
     "start_time": "2022-07-16T16:46:19.974613",
     "status": "completed"
    },
    "tags": []
   },
   "outputs": [
    {
     "name": "stdout",
     "output_type": "stream",
     "text": [
      "shape after engineering (458913, 568)\n"
     ]
    }
   ],
   "source": [
    "def process_and_feature_engineer(df):\n",
    "    # FEATURE ENGINEERING FROM \n",
    "    # https://www.kaggle.com/code/huseyincot/amex-agg-data-how-it-created\n",
    "    \n",
    "#     1) Drop 'B_29'\n",
    "    df.drop(['B_29'], inplace=True, axis=1)\n",
    "#     5) D_39에 대한 feature 추가\n",
    "#     df['D_39_div30'] = df['D_39']/30\n",
    "    \n",
    "#     6) B1, B2에 연관 feature추가\n",
    "    df['B_1_2'] = df['B_1']/(df['B_2']+0.0000001)\n",
    "    df['B_1_3'] = (df['B_1']+0.0000001) * (df['B_2']+0.0000001)\n",
    "    \n",
    "    all_cols = [c for c in list(df.columns) if c not in ['customer_ID','S_2']]\n",
    "    cat_features = [\"B_30\",\"B_38\",\"D_114\",\"D_116\",\"D_117\",\"D_120\",\"D_126\",\"D_63\",\"D_64\",\"D_66\",\"D_68\"]\n",
    "    num_features = [col for col in all_cols if col not in cat_features]\n",
    "    \n",
    "#     2) Add customer count\n",
    "    test_count_agg = df.groupby(['customer_ID'])['S_2'].agg(['count'])\n",
    "\n",
    "\n",
    "    test_num_agg = df.groupby(\"customer_ID\")[num_features].agg(['mean', 'max', 'last'])\n",
    "    test_num_agg.columns = ['_'.join(x) for x in test_num_agg.columns]\n",
    "\n",
    "    test_cat_agg = df.groupby(\"customer_ID\")[cat_features].agg(['count', 'last', 'nunique'])\n",
    "    test_cat_agg.columns = ['_'.join(x) for x in test_cat_agg.columns]\n",
    "\n",
    "    df = cudf.concat([test_count_agg,test_num_agg, test_cat_agg], axis=1)\n",
    "    del test_num_agg, test_cat_agg\n",
    "    print('shape after engineering', df.shape )\n",
    "    \n",
    "    return df\n",
    "\n",
    "train = process_and_feature_engineer(train)"
   ]
  },
  {
   "cell_type": "code",
   "execution_count": 6,
   "id": "a9e7d753",
   "metadata": {
    "execution": {
     "iopub.execute_input": "2022-07-16T16:46:22.971304Z",
     "iopub.status.busy": "2022-07-16T16:46:22.970931Z",
     "iopub.status.idle": "2022-07-16T16:46:24.126323Z",
     "shell.execute_reply": "2022-07-16T16:46:24.125217Z"
    },
    "papermill": {
     "duration": 1.16715,
     "end_time": "2022-07-16T16:46:24.128704",
     "exception": false,
     "start_time": "2022-07-16T16:46:22.961554",
     "status": "completed"
    },
    "tags": []
   },
   "outputs": [
    {
     "name": "stdout",
     "output_type": "stream",
     "text": [
      "There are 568 features!\n"
     ]
    }
   ],
   "source": [
    "# ADD TARGETS\n",
    "targets = cudf.read_csv('../input/amex-default-prediction/train_labels.csv')\n",
    "targets['customer_ID'] = targets['customer_ID'].str[-16:].str.hex_to_int().astype('int64')\n",
    "targets = targets.set_index('customer_ID')\n",
    "train = train.merge(targets, left_index=True, right_index=True, how='left')\n",
    "train.target = train.target.astype('int8')\n",
    "del targets\n",
    "\n",
    "# NEEDED TO MAKE CV DETERMINISTIC (cudf merge above randomly shuffles rows)\n",
    "train = train.sort_index().reset_index()\n",
    "\n",
    "# FEATURES\n",
    "FEATURES = train.columns[1:-1]\n",
    "print(f'There are {len(FEATURES)} features!')"
   ]
  },
  {
   "cell_type": "markdown",
   "id": "71285070",
   "metadata": {
    "papermill": {
     "duration": 0.007853,
     "end_time": "2022-07-16T16:46:24.145193",
     "exception": false,
     "start_time": "2022-07-16T16:46:24.137340",
     "status": "completed"
    },
    "tags": []
   },
   "source": [
    "# Train XGB\n",
    "We will train using `DeviceQuantileDMatrix`. This has a very small GPU memory footprint."
   ]
  },
  {
   "cell_type": "code",
   "execution_count": 7,
   "id": "1b6ca1c8",
   "metadata": {
    "execution": {
     "iopub.execute_input": "2022-07-16T16:46:24.163230Z",
     "iopub.status.busy": "2022-07-16T16:46:24.162460Z",
     "iopub.status.idle": "2022-07-16T16:46:24.297971Z",
     "shell.execute_reply": "2022-07-16T16:46:24.296838Z"
    },
    "papermill": {
     "duration": 0.146633,
     "end_time": "2022-07-16T16:46:24.299989",
     "exception": false,
     "start_time": "2022-07-16T16:46:24.153356",
     "status": "completed"
    },
    "tags": []
   },
   "outputs": [
    {
     "name": "stdout",
     "output_type": "stream",
     "text": [
      "XGB Version 1.6.1\n"
     ]
    }
   ],
   "source": [
    "# LOAD XGB LIBRARY\n",
    "from sklearn.model_selection import KFold\n",
    "import xgboost as xgb\n",
    "print('XGB Version',xgb.__version__)\n",
    "\n",
    "# XGB MODEL PARAMETERS\n",
    "xgb_parms = { \n",
    "    'max_depth':4, \n",
    "    'learning_rate':0.05, \n",
    "    'subsample':0.8,\n",
    "    'colsample_bytree':0.6, \n",
    "    'eval_metric':'logloss',\n",
    "    'objective':'binary:logistic',\n",
    "    'tree_method':'gpu_hist',\n",
    "    'predictor':'gpu_predictor',\n",
    "    'random_state':SEED\n",
    "}"
   ]
  },
  {
   "cell_type": "code",
   "execution_count": 8,
   "id": "05ce4a17",
   "metadata": {
    "execution": {
     "iopub.execute_input": "2022-07-16T16:46:24.317397Z",
     "iopub.status.busy": "2022-07-16T16:46:24.316596Z",
     "iopub.status.idle": "2022-07-16T16:46:24.327799Z",
     "shell.execute_reply": "2022-07-16T16:46:24.326613Z"
    },
    "papermill": {
     "duration": 0.022345,
     "end_time": "2022-07-16T16:46:24.329742",
     "exception": false,
     "start_time": "2022-07-16T16:46:24.307397",
     "status": "completed"
    },
    "tags": []
   },
   "outputs": [],
   "source": [
    "# NEEDED WITH DeviceQuantileDMatrix BELOW\n",
    "class IterLoadForDMatrix(xgb.core.DataIter):\n",
    "    def __init__(self, df=None, features=None, target=None, batch_size=256*1024):\n",
    "        self.features = features\n",
    "        self.target = target\n",
    "        self.df = df\n",
    "        self.it = 0 # set iterator to 0\n",
    "        self.batch_size = batch_size\n",
    "        self.batches = int( np.ceil( len(df) / self.batch_size ) )\n",
    "        super().__init__()\n",
    "\n",
    "    def reset(self):\n",
    "        '''Reset the iterator'''\n",
    "        self.it = 0\n",
    "\n",
    "    def next(self, input_data):\n",
    "        '''Yield next batch of data.'''\n",
    "        if self.it == self.batches:\n",
    "            return 0 # Return 0 when there's no more batch.\n",
    "        \n",
    "        a = self.it * self.batch_size\n",
    "        b = min( (self.it + 1) * self.batch_size, len(self.df) )\n",
    "        dt = cudf.DataFrame(self.df.iloc[a:b])\n",
    "        input_data(data=dt[self.features], label=dt[self.target]) #, weight=dt['weight'])\n",
    "        self.it += 1\n",
    "        return 1"
   ]
  },
  {
   "cell_type": "code",
   "execution_count": 9,
   "id": "e52c6567",
   "metadata": {
    "execution": {
     "iopub.execute_input": "2022-07-16T16:46:24.347667Z",
     "iopub.status.busy": "2022-07-16T16:46:24.347348Z",
     "iopub.status.idle": "2022-07-16T16:46:24.359290Z",
     "shell.execute_reply": "2022-07-16T16:46:24.358373Z"
    },
    "papermill": {
     "duration": 0.023769,
     "end_time": "2022-07-16T16:46:24.361581",
     "exception": false,
     "start_time": "2022-07-16T16:46:24.337812",
     "status": "completed"
    },
    "tags": []
   },
   "outputs": [],
   "source": [
    "# https://www.kaggle.com/kyakovlev\n",
    "# https://www.kaggle.com/competitions/amex-default-prediction/discussion/327534\n",
    "def amex_metric_mod(y_true, y_pred):\n",
    "\n",
    "    labels     = np.transpose(np.array([y_true, y_pred]))\n",
    "    labels     = labels[labels[:, 1].argsort()[::-1]]\n",
    "    weights    = np.where(labels[:,0]==0, 20, 1)\n",
    "    cut_vals   = labels[np.cumsum(weights) <= int(0.04 * np.sum(weights))]\n",
    "    top_four   = np.sum(cut_vals[:,0]) / np.sum(labels[:,0])\n",
    "\n",
    "    gini = [0,0]\n",
    "    for i in [1,0]:\n",
    "        labels         = np.transpose(np.array([y_true, y_pred]))\n",
    "        labels         = labels[labels[:, i].argsort()[::-1]]\n",
    "        weight         = np.where(labels[:,0]==0, 20, 1)\n",
    "        weight_random  = np.cumsum(weight / np.sum(weight))\n",
    "        total_pos      = np.sum(labels[:, 0] *  weight)\n",
    "        cum_pos_found  = np.cumsum(labels[:, 0] * weight)\n",
    "        lorentz        = cum_pos_found / total_pos\n",
    "        gini[i]        = np.sum((lorentz - weight_random) * weight)\n",
    "\n",
    "    return 0.5 * (gini[1]/gini[0] + top_four)"
   ]
  },
  {
   "cell_type": "code",
   "execution_count": 10,
   "id": "c8d94a20",
   "metadata": {
    "execution": {
     "iopub.execute_input": "2022-07-16T16:46:24.378483Z",
     "iopub.status.busy": "2022-07-16T16:46:24.378117Z",
     "iopub.status.idle": "2022-07-16T16:53:21.348368Z",
     "shell.execute_reply": "2022-07-16T16:53:21.347190Z"
    },
    "papermill": {
     "duration": 416.982576,
     "end_time": "2022-07-16T16:53:21.351410",
     "exception": false,
     "start_time": "2022-07-16T16:46:24.368834",
     "status": "completed"
    },
    "scrolled": true,
    "tags": []
   },
   "outputs": [
    {
     "name": "stdout",
     "output_type": "stream",
     "text": [
      "#########################\n",
      "### Fold 1\n",
      "### Train size 367130 Valid size 91783\n",
      "### Training with 100% fold data...\n",
      "#########################\n",
      "[0]\ttrain-logloss:0.66324\tvalid-logloss:0.66325\n",
      "[100]\ttrain-logloss:0.23702\tvalid-logloss:0.23963\n",
      "[200]\ttrain-logloss:0.22279\tvalid-logloss:0.22781\n",
      "[300]\ttrain-logloss:0.21672\tvalid-logloss:0.22370\n",
      "[400]\ttrain-logloss:0.21271\tvalid-logloss:0.22152\n",
      "[500]\ttrain-logloss:0.20959\tvalid-logloss:0.22022\n",
      "[600]\ttrain-logloss:0.20696\tvalid-logloss:0.21943\n",
      "[700]\ttrain-logloss:0.20455\tvalid-logloss:0.21884\n",
      "[800]\ttrain-logloss:0.20240\tvalid-logloss:0.21839\n",
      "[900]\ttrain-logloss:0.20031\tvalid-logloss:0.21808\n",
      "[1000]\ttrain-logloss:0.19839\tvalid-logloss:0.21785\n",
      "[1100]\ttrain-logloss:0.19644\tvalid-logloss:0.21764\n",
      "[1200]\ttrain-logloss:0.19461\tvalid-logloss:0.21746\n",
      "[1300]\ttrain-logloss:0.19286\tvalid-logloss:0.21735\n",
      "[1400]\ttrain-logloss:0.19117\tvalid-logloss:0.21718\n",
      "[1500]\ttrain-logloss:0.18944\tvalid-logloss:0.21710\n",
      "[1600]\ttrain-logloss:0.18776\tvalid-logloss:0.21701\n",
      "[1700]\ttrain-logloss:0.18619\tvalid-logloss:0.21690\n",
      "[1800]\ttrain-logloss:0.18457\tvalid-logloss:0.21686\n",
      "[1814]\ttrain-logloss:0.18433\tvalid-logloss:0.21687\n",
      "Kaggle Metric = 0.7932605282240809 \n",
      "\n",
      "#########################\n",
      "### Fold 2\n",
      "### Train size 367130 Valid size 91783\n",
      "### Training with 100% fold data...\n",
      "#########################\n",
      "[0]\ttrain-logloss:0.66330\tvalid-logloss:0.66317\n",
      "[100]\ttrain-logloss:0.23740\tvalid-logloss:0.23804\n",
      "[200]\ttrain-logloss:0.22325\tvalid-logloss:0.22586\n",
      "[300]\ttrain-logloss:0.21715\tvalid-logloss:0.22192\n",
      "[400]\ttrain-logloss:0.21312\tvalid-logloss:0.21997\n",
      "[500]\ttrain-logloss:0.20997\tvalid-logloss:0.21882\n",
      "[600]\ttrain-logloss:0.20723\tvalid-logloss:0.21802\n",
      "[700]\ttrain-logloss:0.20488\tvalid-logloss:0.21752\n",
      "[800]\ttrain-logloss:0.20262\tvalid-logloss:0.21706\n",
      "[900]\ttrain-logloss:0.20050\tvalid-logloss:0.21673\n",
      "[1000]\ttrain-logloss:0.19847\tvalid-logloss:0.21655\n",
      "[1100]\ttrain-logloss:0.19654\tvalid-logloss:0.21638\n",
      "[1200]\ttrain-logloss:0.19472\tvalid-logloss:0.21629\n",
      "[1300]\ttrain-logloss:0.19291\tvalid-logloss:0.21612\n",
      "[1400]\ttrain-logloss:0.19119\tvalid-logloss:0.21608\n",
      "[1500]\ttrain-logloss:0.18950\tvalid-logloss:0.21597\n",
      "[1600]\ttrain-logloss:0.18783\tvalid-logloss:0.21595\n",
      "[1700]\ttrain-logloss:0.18625\tvalid-logloss:0.21588\n",
      "[1800]\ttrain-logloss:0.18466\tvalid-logloss:0.21588\n",
      "[1857]\ttrain-logloss:0.18376\tvalid-logloss:0.21587\n",
      "Kaggle Metric = 0.7937569874327192 \n",
      "\n",
      "#########################\n",
      "### Fold 3\n",
      "### Train size 367130 Valid size 91783\n",
      "### Training with 100% fold data...\n",
      "#########################\n",
      "[0]\ttrain-logloss:0.66319\tvalid-logloss:0.66332\n",
      "[100]\ttrain-logloss:0.23665\tvalid-logloss:0.24072\n",
      "[200]\ttrain-logloss:0.22242\tvalid-logloss:0.22894\n",
      "[300]\ttrain-logloss:0.21635\tvalid-logloss:0.22487\n",
      "[400]\ttrain-logloss:0.21230\tvalid-logloss:0.22284\n",
      "[500]\ttrain-logloss:0.20910\tvalid-logloss:0.22168\n",
      "[600]\ttrain-logloss:0.20639\tvalid-logloss:0.22091\n",
      "[700]\ttrain-logloss:0.20395\tvalid-logloss:0.22030\n",
      "[800]\ttrain-logloss:0.20179\tvalid-logloss:0.22003\n",
      "[900]\ttrain-logloss:0.19972\tvalid-logloss:0.21970\n",
      "[1000]\ttrain-logloss:0.19769\tvalid-logloss:0.21942\n",
      "[1100]\ttrain-logloss:0.19580\tvalid-logloss:0.21925\n",
      "[1200]\ttrain-logloss:0.19393\tvalid-logloss:0.21913\n",
      "[1300]\ttrain-logloss:0.19219\tvalid-logloss:0.21906\n",
      "[1400]\ttrain-logloss:0.19044\tvalid-logloss:0.21901\n",
      "[1500]\ttrain-logloss:0.18873\tvalid-logloss:0.21896\n",
      "[1600]\ttrain-logloss:0.18708\tvalid-logloss:0.21892\n",
      "[1700]\ttrain-logloss:0.18547\tvalid-logloss:0.21889\n",
      "[1800]\ttrain-logloss:0.18382\tvalid-logloss:0.21884\n",
      "[1900]\ttrain-logloss:0.18223\tvalid-logloss:0.21884\n",
      "[1983]\ttrain-logloss:0.18095\tvalid-logloss:0.21889\n",
      "Kaggle Metric = 0.7906896354886954 \n",
      "\n",
      "#########################\n",
      "### Fold 4\n",
      "### Train size 367131 Valid size 91782\n",
      "### Training with 100% fold data...\n",
      "#########################\n",
      "[0]\ttrain-logloss:0.66315\tvalid-logloss:0.66334\n",
      "[100]\ttrain-logloss:0.23664\tvalid-logloss:0.24111\n",
      "[200]\ttrain-logloss:0.22231\tvalid-logloss:0.22918\n",
      "[300]\ttrain-logloss:0.21625\tvalid-logloss:0.22537\n",
      "[400]\ttrain-logloss:0.21224\tvalid-logloss:0.22339\n",
      "[500]\ttrain-logloss:0.20904\tvalid-logloss:0.22219\n",
      "[600]\ttrain-logloss:0.20639\tvalid-logloss:0.22143\n",
      "[700]\ttrain-logloss:0.20398\tvalid-logloss:0.22085\n",
      "[800]\ttrain-logloss:0.20172\tvalid-logloss:0.22052\n",
      "[900]\ttrain-logloss:0.19963\tvalid-logloss:0.22018\n",
      "[1000]\ttrain-logloss:0.19761\tvalid-logloss:0.21997\n",
      "[1100]\ttrain-logloss:0.19571\tvalid-logloss:0.21976\n",
      "[1200]\ttrain-logloss:0.19384\tvalid-logloss:0.21963\n",
      "[1300]\ttrain-logloss:0.19207\tvalid-logloss:0.21958\n",
      "[1400]\ttrain-logloss:0.19038\tvalid-logloss:0.21956\n",
      "[1500]\ttrain-logloss:0.18866\tvalid-logloss:0.21950\n",
      "[1600]\ttrain-logloss:0.18700\tvalid-logloss:0.21942\n",
      "[1700]\ttrain-logloss:0.18535\tvalid-logloss:0.21939\n",
      "[1800]\ttrain-logloss:0.18372\tvalid-logloss:0.21935\n",
      "[1879]\ttrain-logloss:0.18249\tvalid-logloss:0.21934\n",
      "Kaggle Metric = 0.7876498711962212 \n",
      "\n",
      "#########################\n",
      "### Fold 5\n",
      "### Train size 367131 Valid size 91782\n",
      "### Training with 100% fold data...\n",
      "#########################\n",
      "[0]\ttrain-logloss:0.66321\tvalid-logloss:0.66318\n",
      "[100]\ttrain-logloss:0.23757\tvalid-logloss:0.23798\n",
      "[200]\ttrain-logloss:0.22340\tvalid-logloss:0.22595\n",
      "[300]\ttrain-logloss:0.21740\tvalid-logloss:0.22191\n",
      "[400]\ttrain-logloss:0.21331\tvalid-logloss:0.21968\n",
      "[500]\ttrain-logloss:0.21016\tvalid-logloss:0.21836\n",
      "[600]\ttrain-logloss:0.20746\tvalid-logloss:0.21759\n",
      "[700]\ttrain-logloss:0.20503\tvalid-logloss:0.21702\n",
      "[800]\ttrain-logloss:0.20274\tvalid-logloss:0.21655\n",
      "[900]\ttrain-logloss:0.20066\tvalid-logloss:0.21623\n",
      "[1000]\ttrain-logloss:0.19868\tvalid-logloss:0.21596\n",
      "[1100]\ttrain-logloss:0.19676\tvalid-logloss:0.21580\n",
      "[1200]\ttrain-logloss:0.19491\tvalid-logloss:0.21568\n",
      "[1300]\ttrain-logloss:0.19310\tvalid-logloss:0.21558\n",
      "[1400]\ttrain-logloss:0.19136\tvalid-logloss:0.21552\n",
      "[1500]\ttrain-logloss:0.18965\tvalid-logloss:0.21548\n",
      "[1600]\ttrain-logloss:0.18797\tvalid-logloss:0.21538\n",
      "[1700]\ttrain-logloss:0.18635\tvalid-logloss:0.21533\n",
      "[1800]\ttrain-logloss:0.18477\tvalid-logloss:0.21534\n",
      "[1862]\ttrain-logloss:0.18381\tvalid-logloss:0.21534\n",
      "Kaggle Metric = 0.7943876065284624 \n",
      "\n",
      "#########################\n",
      "OVERALL CV Kaggle Metric = 0.7918686297032955\n"
     ]
    }
   ],
   "source": [
    "importances = []\n",
    "oof = []\n",
    "train = train.to_pandas() # free GPU memory\n",
    "TRAIN_SUBSAMPLE = 1.0\n",
    "gc.collect()\n",
    "\n",
    "skf = KFold(n_splits=FOLDS, shuffle=True, random_state=SEED)\n",
    "for fold,(train_idx, valid_idx) in enumerate(skf.split(\n",
    "            train, train.target )):\n",
    "    \n",
    "    # TRAIN WITH SUBSAMPLE OF TRAIN FOLD DATA\n",
    "    if TRAIN_SUBSAMPLE<1.0:\n",
    "        np.random.seed(SEED)\n",
    "        train_idx = np.random.choice(train_idx, \n",
    "                       int(len(train_idx)*TRAIN_SUBSAMPLE), replace=False)\n",
    "        np.random.seed(None)\n",
    "    \n",
    "    print('#'*25)\n",
    "    print('### Fold',fold+1)\n",
    "    print('### Train size',len(train_idx),'Valid size',len(valid_idx))\n",
    "    print(f'### Training with {int(TRAIN_SUBSAMPLE*100)}% fold data...')\n",
    "    print('#'*25)\n",
    "    \n",
    "    # TRAIN, VALID, TEST FOR FOLD K\n",
    "    Xy_train = IterLoadForDMatrix(train.loc[train_idx], FEATURES, 'target')\n",
    "    X_valid = train.loc[valid_idx, FEATURES]\n",
    "    y_valid = train.loc[valid_idx, 'target']\n",
    "    \n",
    "    dtrain = xgb.DeviceQuantileDMatrix(Xy_train, max_bin=256)\n",
    "    dvalid = xgb.DMatrix(data=X_valid, label=y_valid)\n",
    "    \n",
    "    # TRAIN MODEL FOLD K\n",
    "    model = xgb.train(xgb_parms, \n",
    "                dtrain=dtrain,\n",
    "                evals=[(dtrain,'train'),(dvalid,'valid')],\n",
    "                num_boost_round=9999,\n",
    "                early_stopping_rounds=100,\n",
    "                verbose_eval=100) \n",
    "    model.save_model(f'XGB_v{VER}_fold{fold}.xgb')\n",
    "    \n",
    "    # GET FEATURE IMPORTANCE FOR FOLD K\n",
    "    dd = model.get_score(importance_type='weight')\n",
    "    df = pd.DataFrame({'feature':dd.keys(),f'importance_{fold}':dd.values()})\n",
    "    importances.append(df)\n",
    "            \n",
    "    # INFER OOF FOLD K\n",
    "    oof_preds = model.predict(dvalid)\n",
    "    acc = amex_metric_mod(y_valid.values, oof_preds)\n",
    "    print('Kaggle Metric =',acc,'\\n')\n",
    "    \n",
    "    # SAVE OOF\n",
    "    df = train.loc[valid_idx, ['customer_ID','target'] ].copy()\n",
    "    df['oof_pred'] = oof_preds\n",
    "    oof.append( df )\n",
    "    \n",
    "    del dtrain, Xy_train, dd, df\n",
    "    del X_valid, y_valid, dvalid, model\n",
    "    _ = gc.collect()\n",
    "    \n",
    "print('#'*25)\n",
    "oof = pd.concat(oof,axis=0,ignore_index=True).set_index('customer_ID')\n",
    "acc = amex_metric_mod(oof.target.values, oof.oof_pred.values)\n",
    "print('OVERALL CV Kaggle Metric =',acc)"
   ]
  },
  {
   "cell_type": "code",
   "execution_count": 11,
   "id": "1812b38b",
   "metadata": {
    "execution": {
     "iopub.execute_input": "2022-07-16T16:53:21.386170Z",
     "iopub.status.busy": "2022-07-16T16:53:21.385256Z",
     "iopub.status.idle": "2022-07-16T16:53:21.526462Z",
     "shell.execute_reply": "2022-07-16T16:53:21.525185Z"
    },
    "papermill": {
     "duration": 0.160772,
     "end_time": "2022-07-16T16:53:21.529225",
     "exception": false,
     "start_time": "2022-07-16T16:53:21.368453",
     "status": "completed"
    },
    "tags": []
   },
   "outputs": [],
   "source": [
    "# CLEAN RAM\n",
    "del train\n",
    "_ = gc.collect()"
   ]
  },
  {
   "cell_type": "markdown",
   "id": "e8373b7f",
   "metadata": {
    "papermill": {
     "duration": 0.015675,
     "end_time": "2022-07-16T16:53:21.560882",
     "exception": false,
     "start_time": "2022-07-16T16:53:21.545207",
     "status": "completed"
    },
    "tags": []
   },
   "source": [
    "# Save OOF Preds"
   ]
  },
  {
   "cell_type": "code",
   "execution_count": 12,
   "id": "09689841",
   "metadata": {
    "execution": {
     "iopub.execute_input": "2022-07-16T16:53:21.592743Z",
     "iopub.status.busy": "2022-07-16T16:53:21.592389Z",
     "iopub.status.idle": "2022-07-16T16:53:26.770206Z",
     "shell.execute_reply": "2022-07-16T16:53:26.769119Z"
    },
    "papermill": {
     "duration": 5.196687,
     "end_time": "2022-07-16T16:53:26.772522",
     "exception": false,
     "start_time": "2022-07-16T16:53:21.575835",
     "status": "completed"
    },
    "tags": []
   },
   "outputs": [
    {
     "data": {
      "text/html": [
       "<div>\n",
       "<style scoped>\n",
       "    .dataframe tbody tr th:only-of-type {\n",
       "        vertical-align: middle;\n",
       "    }\n",
       "\n",
       "    .dataframe tbody tr th {\n",
       "        vertical-align: top;\n",
       "    }\n",
       "\n",
       "    .dataframe thead th {\n",
       "        text-align: right;\n",
       "    }\n",
       "</style>\n",
       "<table border=\"1\" class=\"dataframe\">\n",
       "  <thead>\n",
       "    <tr style=\"text-align: right;\">\n",
       "      <th></th>\n",
       "      <th>customer_ID</th>\n",
       "      <th>target</th>\n",
       "      <th>oof_pred</th>\n",
       "    </tr>\n",
       "  </thead>\n",
       "  <tbody>\n",
       "    <tr>\n",
       "      <th>0</th>\n",
       "      <td>20eac26171c3d251c55fc78204e59fab1c15fc2bc96d0c...</td>\n",
       "      <td>1</td>\n",
       "      <td>0.735229</td>\n",
       "    </tr>\n",
       "    <tr>\n",
       "      <th>1</th>\n",
       "      <td>aea50fdf9b974ccec95fa177c3225a0f913483b457de6e...</td>\n",
       "      <td>0</td>\n",
       "      <td>0.000267</td>\n",
       "    </tr>\n",
       "    <tr>\n",
       "      <th>2</th>\n",
       "      <td>32cd2d41aef737b69089882754395925c96eaee1f4a859...</td>\n",
       "      <td>0</td>\n",
       "      <td>0.001968</td>\n",
       "    </tr>\n",
       "    <tr>\n",
       "      <th>3</th>\n",
       "      <td>8daa6d5dc2655a8a437531e6b8b96829113cdfe9bf6cae...</td>\n",
       "      <td>0</td>\n",
       "      <td>0.015845</td>\n",
       "    </tr>\n",
       "    <tr>\n",
       "      <th>4</th>\n",
       "      <td>0ceba351a3851202542feb49d7385bcef32f6037fc57c7...</td>\n",
       "      <td>1</td>\n",
       "      <td>0.866201</td>\n",
       "    </tr>\n",
       "  </tbody>\n",
       "</table>\n",
       "</div>"
      ],
      "text/plain": [
       "                                         customer_ID  target  oof_pred\n",
       "0  20eac26171c3d251c55fc78204e59fab1c15fc2bc96d0c...       1  0.735229\n",
       "1  aea50fdf9b974ccec95fa177c3225a0f913483b457de6e...       0  0.000267\n",
       "2  32cd2d41aef737b69089882754395925c96eaee1f4a859...       0  0.001968\n",
       "3  8daa6d5dc2655a8a437531e6b8b96829113cdfe9bf6cae...       0  0.015845\n",
       "4  0ceba351a3851202542feb49d7385bcef32f6037fc57c7...       1  0.866201"
      ]
     },
     "execution_count": 12,
     "metadata": {},
     "output_type": "execute_result"
    }
   ],
   "source": [
    "oof_xgb = pd.read_parquet(TRAIN_PATH, columns=['customer_ID']).drop_duplicates()\n",
    "oof_xgb['customer_ID_hash'] = oof_xgb['customer_ID'].apply(lambda x: int(x[-16:],16) ).astype('int64')\n",
    "oof_xgb = oof_xgb.set_index('customer_ID_hash')\n",
    "oof_xgb = oof_xgb.merge(oof, left_index=True, right_index=True)\n",
    "oof_xgb = oof_xgb.sort_index().reset_index(drop=True)\n",
    "oof_xgb.to_csv(f'oof_xgb_v{VER}.csv',index=False)\n",
    "oof_xgb.head()"
   ]
  },
  {
   "cell_type": "code",
   "execution_count": 13,
   "id": "77d8f5e5",
   "metadata": {
    "execution": {
     "iopub.execute_input": "2022-07-16T16:53:26.806178Z",
     "iopub.status.busy": "2022-07-16T16:53:26.805495Z",
     "iopub.status.idle": "2022-07-16T16:53:27.241707Z",
     "shell.execute_reply": "2022-07-16T16:53:27.240753Z"
    },
    "papermill": {
     "duration": 0.454913,
     "end_time": "2022-07-16T16:53:27.243930",
     "exception": false,
     "start_time": "2022-07-16T16:53:26.789017",
     "status": "completed"
    },
    "tags": []
   },
   "outputs": [
    {
     "data": {
      "image/png": "[encoded data removed]",
      "text/plain": [
       "<Figure size 432x288 with 1 Axes>"
      ]
     },
     "metadata": {
      "needs_background": "light"
     },
     "output_type": "display_data"
    }
   ],
   "source": [
    "# PLOT OOF PREDICTIONS\n",
    "plt.hist(oof_xgb.oof_pred.values, bins=100)\n",
    "plt.title('OOF Predictions')\n",
    "plt.show()"
   ]
  },
  {
   "cell_type": "code",
   "execution_count": 14,
   "id": "3ea2d986",
   "metadata": {
    "execution": {
     "iopub.execute_input": "2022-07-16T16:53:27.277760Z",
     "iopub.status.busy": "2022-07-16T16:53:27.276708Z",
     "iopub.status.idle": "2022-07-16T16:53:27.418652Z",
     "shell.execute_reply": "2022-07-16T16:53:27.417618Z"
    },
    "papermill": {
     "duration": 0.161439,
     "end_time": "2022-07-16T16:53:27.421369",
     "exception": false,
     "start_time": "2022-07-16T16:53:27.259930",
     "status": "completed"
    },
    "tags": []
   },
   "outputs": [],
   "source": [
    "# CLEAR VRAM, RAM FOR INFERENCE BELOW\n",
    "del oof_xgb, oof\n",
    "_ = gc.collect()"
   ]
  },
  {
   "cell_type": "markdown",
   "id": "da80f0d2",
   "metadata": {
    "papermill": {
     "duration": 0.015174,
     "end_time": "2022-07-16T16:53:27.453184",
     "exception": false,
     "start_time": "2022-07-16T16:53:27.438010",
     "status": "completed"
    },
    "tags": []
   },
   "source": [
    "# Feature Importance"
   ]
  },
  {
   "cell_type": "code",
   "execution_count": 15,
   "id": "b75d3695",
   "metadata": {
    "execution": {
     "iopub.execute_input": "2022-07-16T16:53:27.486155Z",
     "iopub.status.busy": "2022-07-16T16:53:27.485773Z",
     "iopub.status.idle": "2022-07-16T16:53:27.516221Z",
     "shell.execute_reply": "2022-07-16T16:53:27.515339Z"
    },
    "papermill": {
     "duration": 0.04999,
     "end_time": "2022-07-16T16:53:27.518728",
     "exception": false,
     "start_time": "2022-07-16T16:53:27.468738",
     "status": "completed"
    },
    "tags": []
   },
   "outputs": [],
   "source": [
    "import matplotlib.pyplot as plt\n",
    "\n",
    "df = importances[0].copy()\n",
    "for k in range(1,FOLDS): df = df.merge(importances[k], on='feature', how='left')\n",
    "df['importance'] = df.iloc[:,1:].mean(axis=1)\n",
    "df = df.sort_values('importance',ascending=False)\n",
    "df.to_csv(f'xgb_feature_importance_v{VER}.csv',index=False)"
   ]
  },
  {
   "cell_type": "code",
   "execution_count": 16,
   "id": "d8b81748",
   "metadata": {
    "execution": {
     "iopub.execute_input": "2022-07-16T16:53:27.551652Z",
     "iopub.status.busy": "2022-07-16T16:53:27.551347Z",
     "iopub.status.idle": "2022-07-16T16:53:27.876977Z",
     "shell.execute_reply": "2022-07-16T16:53:27.876068Z"
    },
    "papermill": {
     "duration": 0.344276,
     "end_time": "2022-07-16T16:53:27.879086",
     "exception": false,
     "start_time": "2022-07-16T16:53:27.534810",
     "status": "completed"
    },
    "tags": []
   },
   "outputs": [
    {
     "data": {
      "image/png": "[encoded data removed]",
      "text/plain": [
       "<Figure size 720x720 with 1 Axes>"
      ]
     },
     "metadata": {
      "needs_background": "light"
     },
     "output_type": "display_data"
    }
   ],
   "source": [
    "NUM_FEATURES = 20\n",
    "plt.figure(figsize=(10,5*NUM_FEATURES//10))\n",
    "plt.barh(np.arange(NUM_FEATURES,0,-1), df.importance.values[:NUM_FEATURES])\n",
    "plt.yticks(np.arange(NUM_FEATURES,0,-1), df.feature.values[:NUM_FEATURES])\n",
    "plt.title(f'XGB Feature Importance - Top {NUM_FEATURES}')\n",
    "plt.show()"
   ]
  },
  {
   "cell_type": "markdown",
   "id": "ffb941fe",
   "metadata": {
    "papermill": {
     "duration": 0.016128,
     "end_time": "2022-07-16T16:53:27.911552",
     "exception": false,
     "start_time": "2022-07-16T16:53:27.895424",
     "status": "completed"
    },
    "tags": []
   },
   "source": [
    "# Process and Feature Engineer Test Data\n",
    "We will load @raddar Kaggle dataset from [here][1] with discussion [here][2]. Then we will engineer features suggested by @huseyincot in his notebooks [here][1] and [here][4]. We will use [RAPIDS][5] and the GPU to create new features quickly.\n",
    "\n",
    "[1]: https://www.kaggle.com/datasets/raddar/amex-data-integer-dtypes-parquet-format\n",
    "[2]: https://www.kaggle.com/competitions/amex-default-prediction/discussion/328514\n",
    "[3]: https://www.kaggle.com/code/huseyincot/amex-catboost-0-793\n",
    "[4]: https://www.kaggle.com/code/huseyincot/amex-agg-data-how-it-created\n",
    "[5]: https://rapids.ai/"
   ]
  },
  {
   "cell_type": "code",
   "execution_count": 17,
   "id": "64c7d498",
   "metadata": {
    "execution": {
     "iopub.execute_input": "2022-07-16T16:53:27.945197Z",
     "iopub.status.busy": "2022-07-16T16:53:27.944832Z",
     "iopub.status.idle": "2022-07-16T16:53:30.619301Z",
     "shell.execute_reply": "2022-07-16T16:53:30.617829Z"
    },
    "papermill": {
     "duration": 2.695012,
     "end_time": "2022-07-16T16:53:30.622872",
     "exception": false,
     "start_time": "2022-07-16T16:53:27.927860",
     "status": "completed"
    },
    "tags": []
   },
   "outputs": [
    {
     "name": "stdout",
     "output_type": "stream",
     "text": [
      "Reading test data...\n",
      "shape of data: (11363762, 2)\n",
      "We will process test data as 4 separate parts.\n",
      "There will be 231155 customers in each part (except the last part).\n",
      "Below are number of rows in each part:\n",
      "[2841209, 2839857, 2842105, 2840591]\n"
     ]
    }
   ],
   "source": [
    "# CALCULATE SIZE OF EACH SEPARATE TEST PART\n",
    "def get_rows(customers, test, NUM_PARTS = 4, verbose = ''):\n",
    "    chunk = len(customers)//NUM_PARTS\n",
    "    if verbose != '':\n",
    "        print(f'We will process {verbose} data as {NUM_PARTS} separate parts.')\n",
    "        print(f'There will be {chunk} customers in each part (except the last part).')\n",
    "        print('Below are number of rows in each part:')\n",
    "    rows = []\n",
    "\n",
    "    for k in range(NUM_PARTS):\n",
    "        if k==NUM_PARTS-1: cc = customers[k*chunk:]\n",
    "        else: cc = customers[k*chunk:(k+1)*chunk]\n",
    "        s = test.loc[test.customer_ID.isin(cc)].shape[0]\n",
    "        rows.append(s)\n",
    "    if verbose != '': print( rows )\n",
    "    return rows,chunk\n",
    "\n",
    "# COMPUTE SIZE OF 4 PARTS FOR TEST DATA\n",
    "NUM_PARTS = 4\n",
    "TEST_PATH = '../input/amex-data-integer-dtypes-parquet-format/test.parquet'\n",
    "\n",
    "print(f'Reading test data...')\n",
    "test = read_file(path = TEST_PATH, usecols = ['customer_ID','S_2'])\n",
    "customers = test[['customer_ID']].drop_duplicates().sort_index().values.flatten()\n",
    "rows,num_cust = get_rows(customers, test[['customer_ID']], NUM_PARTS = NUM_PARTS, verbose = 'test')"
   ]
  },
  {
   "cell_type": "markdown",
   "id": "7677338d",
   "metadata": {
    "papermill": {
     "duration": 0.015131,
     "end_time": "2022-07-16T16:53:30.654702",
     "exception": false,
     "start_time": "2022-07-16T16:53:30.639571",
     "status": "completed"
    },
    "tags": []
   },
   "source": [
    "# Infer Test"
   ]
  },
  {
   "cell_type": "code",
   "execution_count": 18,
   "id": "ef5d4efa",
   "metadata": {
    "execution": {
     "iopub.execute_input": "2022-07-16T16:53:30.689710Z",
     "iopub.status.busy": "2022-07-16T16:53:30.688680Z",
     "iopub.status.idle": "2022-07-16T16:56:37.328040Z",
     "shell.execute_reply": "2022-07-16T16:56:37.327086Z"
    },
    "papermill": {
     "duration": 186.659488,
     "end_time": "2022-07-16T16:56:37.330658",
     "exception": false,
     "start_time": "2022-07-16T16:53:30.671170",
     "status": "completed"
    },
    "tags": []
   },
   "outputs": [
    {
     "name": "stdout",
     "output_type": "stream",
     "text": [
      "\n",
      "Reading test data...\n",
      "shape of data: (11363762, 190)\n",
      "=> Test part 1 has shape (2841209, 190)\n",
      "shape after engineering (231155, 568)\n",
      "\n",
      "Reading test data...\n",
      "shape of data: (11363762, 190)\n",
      "=> Test part 2 has shape (2839857, 190)\n",
      "shape after engineering (231155, 568)\n",
      "\n",
      "Reading test data...\n",
      "shape of data: (11363762, 190)\n",
      "=> Test part 3 has shape (2842105, 190)\n",
      "shape after engineering (231155, 568)\n",
      "\n",
      "Reading test data...\n",
      "shape of data: (11363762, 190)\n",
      "=> Test part 4 has shape (2840591, 190)\n",
      "shape after engineering (231156, 568)\n"
     ]
    }
   ],
   "source": [
    "# INFER TEST DATA IN PARTS\n",
    "skip_rows = 0\n",
    "skip_cust = 0\n",
    "test_preds = []\n",
    "\n",
    "for k in range(NUM_PARTS):\n",
    "    \n",
    "    # READ PART OF TEST DATA\n",
    "    print(f'\\nReading test data...')\n",
    "    test = read_file(path = TEST_PATH)\n",
    "    test = test.iloc[skip_rows:skip_rows+rows[k]]\n",
    "    skip_rows += rows[k]\n",
    "    print(f'=> Test part {k+1} has shape', test.shape )\n",
    "    \n",
    "    # PROCESS AND FEATURE ENGINEER PART OF TEST DATA\n",
    "    test = process_and_feature_engineer(test)\n",
    "    if k==NUM_PARTS-1: test = test.loc[customers[skip_cust:]]\n",
    "    else: test = test.loc[customers[skip_cust:skip_cust+num_cust]]\n",
    "    skip_cust += num_cust\n",
    "    \n",
    "    # TEST DATA FOR XGB\n",
    "    X_test = test[FEATURES]\n",
    "    dtest = xgb.DMatrix(data=X_test)\n",
    "    test = test[['P_2_mean']] # reduce memory\n",
    "    del X_test\n",
    "    gc.collect()\n",
    "\n",
    "    # INFER XGB MODELS ON TEST DATA\n",
    "    model = xgb.Booster()\n",
    "    model.load_model(f'XGB_v{VER}_fold0.xgb')\n",
    "    preds = model.predict(dtest)\n",
    "    for f in range(1,FOLDS):\n",
    "        model.load_model(f'XGB_v{VER}_fold{f}.xgb')\n",
    "        preds += model.predict(dtest)\n",
    "    preds /= FOLDS\n",
    "    test_preds.append(preds)\n",
    "\n",
    "    # CLEAN MEMORY\n",
    "    del dtest, model\n",
    "    _ = gc.collect()"
   ]
  },
  {
   "cell_type": "markdown",
   "id": "1f6b17d1",
   "metadata": {
    "papermill": {
     "duration": 0.015472,
     "end_time": "2022-07-16T16:56:37.361693",
     "exception": false,
     "start_time": "2022-07-16T16:56:37.346221",
     "status": "completed"
    },
    "tags": []
   },
   "source": [
    "# Create Submission CSV"
   ]
  },
  {
   "cell_type": "code",
   "execution_count": 19,
   "id": "4af7bd65",
   "metadata": {
    "execution": {
     "iopub.execute_input": "2022-07-16T16:56:37.396645Z",
     "iopub.status.busy": "2022-07-16T16:56:37.395763Z",
     "iopub.status.idle": "2022-07-16T16:56:38.618087Z",
     "shell.execute_reply": "2022-07-16T16:56:38.616926Z"
    },
    "papermill": {
     "duration": 1.241897,
     "end_time": "2022-07-16T16:56:38.620501",
     "exception": false,
     "start_time": "2022-07-16T16:56:37.378604",
     "status": "completed"
    },
    "tags": []
   },
   "outputs": [
    {
     "name": "stdout",
     "output_type": "stream",
     "text": [
      "Submission file shape is (924621, 2)\n"
     ]
    },
    {
     "data": {
      "text/html": [
       "<div>\n",
       "<style scoped>\n",
       "    .dataframe tbody tr th:only-of-type {\n",
       "        vertical-align: middle;\n",
       "    }\n",
       "\n",
       "    .dataframe tbody tr th {\n",
       "        vertical-align: top;\n",
       "    }\n",
       "\n",
       "    .dataframe thead th {\n",
       "        text-align: right;\n",
       "    }\n",
       "</style>\n",
       "<table border=\"1\" class=\"dataframe\">\n",
       "  <thead>\n",
       "    <tr style=\"text-align: right;\">\n",
       "      <th></th>\n",
       "      <th>customer_ID</th>\n",
       "      <th>prediction</th>\n",
       "    </tr>\n",
       "  </thead>\n",
       "  <tbody>\n",
       "    <tr>\n",
       "      <th>0</th>\n",
       "      <td>0359e97c244bbbbe2db7c21e891debe80e82291f2e470e...</td>\n",
       "      <td>0.002225</td>\n",
       "    </tr>\n",
       "    <tr>\n",
       "      <th>1</th>\n",
       "      <td>035b3479c9020483c00b7dac8f816759bb3aa6fdd8dfab...</td>\n",
       "      <td>0.000595</td>\n",
       "    </tr>\n",
       "    <tr>\n",
       "      <th>2</th>\n",
       "      <td>035a556cc13aae13de7bdcc71c81a1ab27f586f2ddf50e...</td>\n",
       "      <td>0.001334</td>\n",
       "    </tr>\n",
       "    <tr>\n",
       "      <th>3</th>\n",
       "      <td>035bca6744c2fe912b15a0bc6011f3ec679cbc7c60e049...</td>\n",
       "      <td>0.036360</td>\n",
       "    </tr>\n",
       "    <tr>\n",
       "      <th>4</th>\n",
       "      <td>0359f31145b54da7258ed5ff894cbe50dd4302d3d4a1e9...</td>\n",
       "      <td>0.050805</td>\n",
       "    </tr>\n",
       "  </tbody>\n",
       "</table>\n",
       "</div>"
      ],
      "text/plain": [
       "                                         customer_ID  prediction\n",
       "0  0359e97c244bbbbe2db7c21e891debe80e82291f2e470e...    0.002225\n",
       "1  035b3479c9020483c00b7dac8f816759bb3aa6fdd8dfab...    0.000595\n",
       "2  035a556cc13aae13de7bdcc71c81a1ab27f586f2ddf50e...    0.001334\n",
       "3  035bca6744c2fe912b15a0bc6011f3ec679cbc7c60e049...    0.036360\n",
       "4  0359f31145b54da7258ed5ff894cbe50dd4302d3d4a1e9...    0.050805"
      ]
     },
     "execution_count": 19,
     "metadata": {},
     "output_type": "execute_result"
    }
   ],
   "source": [
    "# WRITE SUBMISSION FILE\n",
    "test_preds = np.concatenate(test_preds)\n",
    "test = cudf.DataFrame(index=customers,data={'prediction':test_preds})\n",
    "sub = cudf.read_csv('../input/amex-default-prediction/sample_submission.csv')[['customer_ID']]\n",
    "sub['customer_ID_hash'] = sub['customer_ID'].str[-16:].str.hex_to_int().astype('int64')\n",
    "sub = sub.set_index('customer_ID_hash')\n",
    "sub = sub.merge(test[['prediction']], left_index=True, right_index=True, how='left')\n",
    "sub = sub.reset_index(drop=True)\n",
    "\n",
    "# DISPLAY PREDICTIONS\n",
    "sub.to_csv(f'submission_xgb_v{VER}.csv',index=False)\n",
    "print('Submission file shape is', sub.shape )\n",
    "sub.head()"
   ]
  },
  {
   "cell_type": "code",
   "execution_count": 20,
   "id": "02c497f0",
   "metadata": {
    "execution": {
     "iopub.execute_input": "2022-07-16T16:56:38.658439Z",
     "iopub.status.busy": "2022-07-16T16:56:38.658049Z",
     "iopub.status.idle": "2022-07-16T16:56:39.503286Z",
     "shell.execute_reply": "2022-07-16T16:56:39.502166Z"
    },
    "papermill": {
     "duration": 0.86649,
     "end_time": "2022-07-16T16:56:39.505484",
     "exception": false,
     "start_time": "2022-07-16T16:56:38.638994",
     "status": "completed"
    },
    "tags": []
   },
   "outputs": [
    {
     "data": {
      "image/png": "[encoded data removed]",
      "text/plain": [
       "<Figure size 432x288 with 1 Axes>"
      ]
     },
     "metadata": {
      "needs_background": "light"
     },
     "output_type": "display_data"
    }
   ],
   "source": [
    "# PLOT PREDICTIONS\n",
    "plt.hist(sub.to_pandas().prediction, bins=100)\n",
    "plt.title('Test Predictions')\n",
    "plt.show()"
   ]
  }
 ],
 "metadata": {
  "kernelspec": {
   "display_name": "Python 3",
   "language": "python",
   "name": "python3"
  },
  "language_info": {
   "codemirror_mode": {
    "name": "ipython",
    "version": 3
   },
   "file_extension": ".py",
   "mimetype": "text/x-python",
   "name": "python",
   "nbconvert_exporter": "python",
   "pygments_lexer": "ipython3",
   "version": "3.7.12"
  },
  "papermill": {
   "default_parameters": {},
   "duration": 659.853583,
   "end_time": "2022-07-16T16:56:41.937448",
   "environment_variables": {},
   "exception": null,
   "input_path": "__notebook__.ipynb",
   "output_path": "__notebook__.ipynb",
   "parameters": {},
   "start_time": "2022-07-16T16:45:42.083865",
   "version": "2.3.4"
  }
 },
 "nbformat": 4,
 "nbformat_minor": 5
}
