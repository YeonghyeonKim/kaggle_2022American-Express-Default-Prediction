{
 "cells": [
  {
   "cell_type": "markdown",
   "id": "f8093502",
   "metadata": {
    "papermill": {
     "duration": 0.007682,
     "end_time": "2022-07-30T17:08:16.903456",
     "exception": false,
     "start_time": "2022-07-30T17:08:16.895774",
     "status": "completed"
    },
    "tags": []
   },
   "source": [
    "# XGBoost Starter - LB 0.793\n",
    "In this notebook we build and train an XGBoost model using @raddar Kaggle dataset from [here][1] with discussion [here][2]. Then we engineer features suggested by @huseyincot in his notebooks [here][3] and [here][4]. This XGB model achieves CV 0.792 LB 0.793! When training with XGB, we use a special XGB dataloader called `DeviceQuantileDMatrix` which uses a small GPU memory footprint. This allows us to engineer more additional columns and train with more rows of data. Our feature engineering is performed using [RAPIDS][5] on the GPU to create new features quickly.\n",
    "\n",
    "[1]: https://www.kaggle.com/datasets/raddar/amex-data-integer-dtypes-parquet-format\n",
    "[2]: https://www.kaggle.com/competitions/amex-default-prediction/discussion/328514\n",
    "[3]: https://www.kaggle.com/code/huseyincot/amex-catboost-0-793\n",
    "[4]: https://www.kaggle.com/code/huseyincot/amex-agg-data-how-it-created\n",
    "[5]: https://rapids.ai/"
   ]
  },
  {
   "cell_type": "markdown",
   "id": "d33342c2",
   "metadata": {
    "papermill": {
     "duration": 0.006194,
     "end_time": "2022-07-30T17:08:16.916330",
     "exception": false,
     "start_time": "2022-07-30T17:08:16.910136",
     "status": "completed"
    },
    "tags": []
   },
   "source": [
    "Feature Engineering I done\n",
    "1. Drop B_29, https://www.kaggle.com/code/roberthatch/amex-feature-engg-gpu-or-cpu-process-in-chunks/notebook\n",
    "2. Add each customer count (how long they used) (not normalize)\n",
    "3. Don't fill NaN (with -127)\n",
    "4. remove num_features's min, std\n",
    "5. D_39에 대한 feature 추가 -> CV하락\n",
    "6. B_1과 B_2간의 연관 feature 추가; CV 0.7920\n",
    "7. B_8과 B_9간의 연관 feature 추가; CV 0.7919\n",
    "8. corr가 높은 feature중 제거; CV: 0.7914\n",
    "9. 6+ fillna(method='bfill'); CV: 0.7906 => NaN으로 냅두자\n",
    "10. 마지막 3개월만 이용; 6 + CV: 0.7892; 4 + CV: 0.7886\n",
    "11. 영향도 낮은 features  제거 R_28, D_94, R_2; 10 + CV: 0.7890,4 + CV: 0.7916, 6 + CV: \n",
    "<!-- 9. add nasdaq info simply -->"
   ]
  },
  {
   "cell_type": "markdown",
   "id": "3098a101",
   "metadata": {
    "papermill": {
     "duration": 0.006109,
     "end_time": "2022-07-30T17:08:16.928766",
     "exception": false,
     "start_time": "2022-07-30T17:08:16.922657",
     "status": "completed"
    },
    "tags": []
   },
   "source": [
    "# Load Libraries"
   ]
  },
  {
   "cell_type": "code",
   "execution_count": 1,
   "id": "6db81cf4",
   "metadata": {
    "execution": {
     "iopub.execute_input": "2022-07-30T17:08:16.943735Z",
     "iopub.status.busy": "2022-07-30T17:08:16.943258Z",
     "iopub.status.idle": "2022-07-30T17:08:21.045075Z",
     "shell.execute_reply": "2022-07-30T17:08:21.043134Z"
    },
    "papermill": {
     "duration": 4.111644,
     "end_time": "2022-07-30T17:08:21.047337",
     "exception": false,
     "start_time": "2022-07-30T17:08:16.935693",
     "status": "completed"
    },
    "tags": []
   },
   "outputs": [
    {
     "name": "stdout",
     "output_type": "stream",
     "text": [
      "RAPIDS version 21.10.01\n"
     ]
    }
   ],
   "source": [
    "# LOAD LIBRARIES\n",
    "import pandas as pd, numpy as np # CPU libraries\n",
    "import cupy, cudf # GPU libraries\n",
    "import matplotlib.pyplot as plt, gc, os\n",
    "\n",
    "print('RAPIDS version',cudf.__version__)"
   ]
  },
  {
   "cell_type": "code",
   "execution_count": 2,
   "id": "043253ce",
   "metadata": {
    "execution": {
     "iopub.execute_input": "2022-07-30T17:08:21.062383Z",
     "iopub.status.busy": "2022-07-30T17:08:21.062100Z",
     "iopub.status.idle": "2022-07-30T17:08:21.066371Z",
     "shell.execute_reply": "2022-07-30T17:08:21.065571Z"
    },
    "papermill": {
     "duration": 0.013449,
     "end_time": "2022-07-30T17:08:21.068120",
     "exception": false,
     "start_time": "2022-07-30T17:08:21.054671",
     "status": "completed"
    },
    "tags": []
   },
   "outputs": [],
   "source": [
    "# VERSION NAME FOR SAVED MODEL FILES\n",
    "VER = 1\n",
    "\n",
    "# TRAIN RANDOM SEED\n",
    "SEED = 42\n",
    "\n",
    "# FILL NAN VALUE\n",
    "NAN_VALUE = -127 # will fit in int8\n",
    "\n",
    "# FOLDS PER MODEL\n",
    "FOLDS = 5"
   ]
  },
  {
   "cell_type": "markdown",
   "id": "2d18ba15",
   "metadata": {
    "papermill": {
     "duration": 0.006268,
     "end_time": "2022-07-30T17:08:21.081008",
     "exception": false,
     "start_time": "2022-07-30T17:08:21.074740",
     "status": "completed"
    },
    "tags": []
   },
   "source": [
    "# Process and Feature Engineer Train Data\n",
    "We will load @raddar Kaggle dataset from [here][1] with discussion [here][2]. Then we will engineer features suggested by @huseyincot in his notebooks [here][3] and [here][4]. We will use [RAPIDS][5] and the GPU to create new features quickly.\n",
    "\n",
    "[1]: https://www.kaggle.com/datasets/raddar/amex-data-integer-dtypes-parquet-format\n",
    "[2]: https://www.kaggle.com/competitions/amex-default-prediction/discussion/328514\n",
    "[3]: https://www.kaggle.com/code/huseyincot/amex-catboost-0-793\n",
    "[4]: https://www.kaggle.com/code/huseyincot/amex-agg-data-how-it-created\n",
    "[5]: https://rapids.ai/"
   ]
  },
  {
   "cell_type": "code",
   "execution_count": 3,
   "id": "7845edb5",
   "metadata": {
    "execution": {
     "iopub.execute_input": "2022-07-30T17:08:21.095378Z",
     "iopub.status.busy": "2022-07-30T17:08:21.094774Z",
     "iopub.status.idle": "2022-07-30T17:08:42.656513Z",
     "shell.execute_reply": "2022-07-30T17:08:42.655459Z"
    },
    "papermill": {
     "duration": 21.570778,
     "end_time": "2022-07-30T17:08:42.658453",
     "exception": false,
     "start_time": "2022-07-30T17:08:21.087675",
     "status": "completed"
    },
    "tags": []
   },
   "outputs": [
    {
     "name": "stdout",
     "output_type": "stream",
     "text": [
      "Reading train data...\n",
      "shape of data: (5531451, 190)\n"
     ]
    }
   ],
   "source": [
    "def read_file(path = '', usecols = None):\n",
    "    # LOAD DATAFRAME\n",
    "    if usecols is not None: df = cudf.read_parquet(path, columns=usecols)\n",
    "    else: df = cudf.read_parquet(path)\n",
    "    # REDUCE DTYPE FOR CUSTOMER AND DATE\n",
    "    df['customer_ID'] = df['customer_ID'].str[-16:].str.hex_to_int().astype('int64')\n",
    "    df.S_2 = cudf.to_datetime( df.S_2 )\n",
    "    # SORT BY CUSTOMER AND DATE (so agg('last') works correctly)\n",
    "    #df = df.sort_values(['customer_ID','S_2'])\n",
    "    #df = df.reset_index(drop=True)\n",
    "    # FILL NAN\n",
    "#     df = df.fillna(NAN_VALUE) \n",
    "    print('shape of data:', df.shape)\n",
    "    \n",
    "    return df\n",
    "\n",
    "print('Reading train data...')\n",
    "TRAIN_PATH = '../input/amex-data-integer-dtypes-parquet-format/train.parquet'\n",
    "train = read_file(path = TRAIN_PATH)"
   ]
  },
  {
   "cell_type": "code",
   "execution_count": 4,
   "id": "78930c88",
   "metadata": {
    "execution": {
     "iopub.execute_input": "2022-07-30T17:08:42.673118Z",
     "iopub.status.busy": "2022-07-30T17:08:42.672839Z",
     "iopub.status.idle": "2022-07-30T17:08:42.965717Z",
     "shell.execute_reply": "2022-07-30T17:08:42.964940Z"
    },
    "papermill": {
     "duration": 0.302331,
     "end_time": "2022-07-30T17:08:42.967680",
     "exception": false,
     "start_time": "2022-07-30T17:08:42.665349",
     "status": "completed"
    },
    "tags": []
   },
   "outputs": [
    {
     "data": {
      "text/html": [
       "<div>\n",
       "<style scoped>\n",
       "    .dataframe tbody tr th:only-of-type {\n",
       "        vertical-align: middle;\n",
       "    }\n",
       "\n",
       "    .dataframe tbody tr th {\n",
       "        vertical-align: top;\n",
       "    }\n",
       "\n",
       "    .dataframe thead th {\n",
       "        text-align: right;\n",
       "    }\n",
       "</style>\n",
       "<table border=\"1\" class=\"dataframe\">\n",
       "  <thead>\n",
       "    <tr style=\"text-align: right;\">\n",
       "      <th></th>\n",
       "      <th>customer_ID</th>\n",
       "      <th>S_2</th>\n",
       "      <th>P_2</th>\n",
       "      <th>D_39</th>\n",
       "      <th>B_1</th>\n",
       "      <th>B_2</th>\n",
       "      <th>R_1</th>\n",
       "      <th>S_3</th>\n",
       "      <th>D_41</th>\n",
       "      <th>B_3</th>\n",
       "      <th>...</th>\n",
       "      <th>D_136</th>\n",
       "      <th>D_137</th>\n",
       "      <th>D_138</th>\n",
       "      <th>D_139</th>\n",
       "      <th>D_140</th>\n",
       "      <th>D_141</th>\n",
       "      <th>D_142</th>\n",
       "      <th>D_143</th>\n",
       "      <th>D_144</th>\n",
       "      <th>D_145</th>\n",
       "    </tr>\n",
       "  </thead>\n",
       "  <tbody>\n",
       "    <tr>\n",
       "      <th>0</th>\n",
       "      <td>-4532153018459703766</td>\n",
       "      <td>2017-03-09</td>\n",
       "      <td>0.938469</td>\n",
       "      <td>0</td>\n",
       "      <td>0.008724</td>\n",
       "      <td>1.006838</td>\n",
       "      <td>0.009228</td>\n",
       "      <td>0.124035</td>\n",
       "      <td>0.0</td>\n",
       "      <td>0.004709</td>\n",
       "      <td>...</td>\n",
       "      <td>-1</td>\n",
       "      <td>-1</td>\n",
       "      <td>-1</td>\n",
       "      <td>0</td>\n",
       "      <td>0</td>\n",
       "      <td>0.0</td>\n",
       "      <td>&lt;NA&gt;</td>\n",
       "      <td>0</td>\n",
       "      <td>0.000610</td>\n",
       "      <td>0</td>\n",
       "    </tr>\n",
       "    <tr>\n",
       "      <th>1</th>\n",
       "      <td>-4532153018459703766</td>\n",
       "      <td>2017-04-07</td>\n",
       "      <td>0.936665</td>\n",
       "      <td>0</td>\n",
       "      <td>0.004923</td>\n",
       "      <td>1.000653</td>\n",
       "      <td>0.006151</td>\n",
       "      <td>0.126750</td>\n",
       "      <td>0.0</td>\n",
       "      <td>0.002714</td>\n",
       "      <td>...</td>\n",
       "      <td>-1</td>\n",
       "      <td>-1</td>\n",
       "      <td>-1</td>\n",
       "      <td>0</td>\n",
       "      <td>0</td>\n",
       "      <td>0.0</td>\n",
       "      <td>&lt;NA&gt;</td>\n",
       "      <td>0</td>\n",
       "      <td>0.005492</td>\n",
       "      <td>0</td>\n",
       "    </tr>\n",
       "    <tr>\n",
       "      <th>2</th>\n",
       "      <td>-4532153018459703766</td>\n",
       "      <td>2017-05-28</td>\n",
       "      <td>0.954180</td>\n",
       "      <td>3</td>\n",
       "      <td>0.021655</td>\n",
       "      <td>1.009672</td>\n",
       "      <td>0.006815</td>\n",
       "      <td>0.123977</td>\n",
       "      <td>0.0</td>\n",
       "      <td>0.009423</td>\n",
       "      <td>...</td>\n",
       "      <td>-1</td>\n",
       "      <td>-1</td>\n",
       "      <td>-1</td>\n",
       "      <td>0</td>\n",
       "      <td>0</td>\n",
       "      <td>0.0</td>\n",
       "      <td>&lt;NA&gt;</td>\n",
       "      <td>0</td>\n",
       "      <td>0.006986</td>\n",
       "      <td>0</td>\n",
       "    </tr>\n",
       "    <tr>\n",
       "      <th>3</th>\n",
       "      <td>-4532153018459703766</td>\n",
       "      <td>2017-06-13</td>\n",
       "      <td>0.960384</td>\n",
       "      <td>0</td>\n",
       "      <td>0.013683</td>\n",
       "      <td>1.002700</td>\n",
       "      <td>0.001373</td>\n",
       "      <td>0.117169</td>\n",
       "      <td>0.0</td>\n",
       "      <td>0.005531</td>\n",
       "      <td>...</td>\n",
       "      <td>-1</td>\n",
       "      <td>-1</td>\n",
       "      <td>-1</td>\n",
       "      <td>0</td>\n",
       "      <td>0</td>\n",
       "      <td>0.0</td>\n",
       "      <td>&lt;NA&gt;</td>\n",
       "      <td>0</td>\n",
       "      <td>0.006527</td>\n",
       "      <td>0</td>\n",
       "    </tr>\n",
       "    <tr>\n",
       "      <th>4</th>\n",
       "      <td>-4532153018459703766</td>\n",
       "      <td>2017-07-16</td>\n",
       "      <td>0.947248</td>\n",
       "      <td>0</td>\n",
       "      <td>0.015193</td>\n",
       "      <td>1.000727</td>\n",
       "      <td>0.007605</td>\n",
       "      <td>0.117325</td>\n",
       "      <td>0.0</td>\n",
       "      <td>0.009312</td>\n",
       "      <td>...</td>\n",
       "      <td>-1</td>\n",
       "      <td>-1</td>\n",
       "      <td>-1</td>\n",
       "      <td>0</td>\n",
       "      <td>0</td>\n",
       "      <td>0.0</td>\n",
       "      <td>&lt;NA&gt;</td>\n",
       "      <td>0</td>\n",
       "      <td>0.008126</td>\n",
       "      <td>0</td>\n",
       "    </tr>\n",
       "  </tbody>\n",
       "</table>\n",
       "<p>5 rows × 190 columns</p>\n",
       "</div>"
      ],
      "text/plain": [
       "           customer_ID        S_2       P_2  D_39       B_1       B_2  \\\n",
       "0 -4532153018459703766 2017-03-09  0.938469     0  0.008724  1.006838   \n",
       "1 -4532153018459703766 2017-04-07  0.936665     0  0.004923  1.000653   \n",
       "2 -4532153018459703766 2017-05-28  0.954180     3  0.021655  1.009672   \n",
       "3 -4532153018459703766 2017-06-13  0.960384     0  0.013683  1.002700   \n",
       "4 -4532153018459703766 2017-07-16  0.947248     0  0.015193  1.000727   \n",
       "\n",
       "        R_1       S_3  D_41       B_3  ... D_136  D_137  D_138  D_139  D_140  \\\n",
       "0  0.009228  0.124035   0.0  0.004709  ...    -1     -1     -1      0      0   \n",
       "1  0.006151  0.126750   0.0  0.002714  ...    -1     -1     -1      0      0   \n",
       "2  0.006815  0.123977   0.0  0.009423  ...    -1     -1     -1      0      0   \n",
       "3  0.001373  0.117169   0.0  0.005531  ...    -1     -1     -1      0      0   \n",
       "4  0.007605  0.117325   0.0  0.009312  ...    -1     -1     -1      0      0   \n",
       "\n",
       "   D_141  D_142 D_143     D_144  D_145  \n",
       "0    0.0   <NA>     0  0.000610      0  \n",
       "1    0.0   <NA>     0  0.005492      0  \n",
       "2    0.0   <NA>     0  0.006986      0  \n",
       "3    0.0   <NA>     0  0.006527      0  \n",
       "4    0.0   <NA>     0  0.008126      0  \n",
       "\n",
       "[5 rows x 190 columns]"
      ]
     },
     "execution_count": 4,
     "metadata": {},
     "output_type": "execute_result"
    }
   ],
   "source": [
    "train.head()"
   ]
  },
  {
   "cell_type": "code",
   "execution_count": 5,
   "id": "11d7726f",
   "metadata": {
    "execution": {
     "iopub.execute_input": "2022-07-30T17:08:42.983530Z",
     "iopub.status.busy": "2022-07-30T17:08:42.983231Z",
     "iopub.status.idle": "2022-07-30T17:08:45.481123Z",
     "shell.execute_reply": "2022-07-30T17:08:45.480275Z"
    },
    "papermill": {
     "duration": 2.508144,
     "end_time": "2022-07-30T17:08:45.483113",
     "exception": false,
     "start_time": "2022-07-30T17:08:42.974969",
     "status": "completed"
    },
    "tags": []
   },
   "outputs": [
    {
     "name": "stdout",
     "output_type": "stream",
     "text": [
      "shape after engineering (458913, 556)\n"
     ]
    }
   ],
   "source": [
    "def process_and_feature_engineer(df):\n",
    "    # FEATURE ENGINEERING FROM \n",
    "    # https://www.kaggle.com/code/huseyincot/amex-agg-data-how-it-created\n",
    "#     9) nasdaq\n",
    "#     nasdaq_path = '../input/nasdaq/nasdaq.csv'\n",
    "#     nasdaq = cudf.read_csv(nasdaq_path, encoding='utf-8-sig')\n",
    "#     nasdaq.rename(columns={'\\ufeffS_2': 'S_2'}, inplace=True)\n",
    "#     nasdaq.drop(['tradingvolume'], inplace=True, axis=1)\n",
    "#     nasdaq.S_2 = cudf.to_datetime(nasdaq.S_2)\n",
    "#     nasdaq[['closing','open', 'high', 'low']] = nasdaq[['closing','open', 'high', 'low']].astype(float)    \n",
    "#     df = df.merge(nasdaq, on='S_2')\n",
    "    \n",
    "#     1) Drop 'B_29'\n",
    "    df.drop(['B_29'], inplace=True, axis=1)\n",
    "#     11) Drop R_28, D_94, R_2\n",
    "    df.drop(['R_28', 'D_94', 'R_2'], inplace=True, axis=1)\n",
    "    \n",
    "#     6) B1, B2에 연관 feature추가\n",
    "    df['B_1_2'] = df['B_1']/(df['B_2']+0.0000001)\n",
    "\n",
    "#     5) D_39에 대한 feature 추가\n",
    "#     df['D_39_div30'] = df['D_39']/30\n",
    "#     10) 마지막 3개월만 이용\n",
    "#     df = cudf.concat([df.groupby('customer_ID').nth(-3), df.groupby('customer_ID').nth(-2), df.groupby('customer_ID').nth(-1)]).reset_index()\n",
    "\n",
    "    \n",
    "    all_cols = [c for c in list(df.columns) if c not in ['customer_ID','S_2']]\n",
    "    cat_features = [\"B_30\",\"B_38\",\"D_114\",\"D_116\",\"D_117\",\"D_120\",\"D_126\",\"D_63\",\"D_64\",\"D_66\",\"D_68\"]\n",
    "    num_features = [col for col in all_cols if col not in cat_features]\n",
    "    \n",
    "#     2) Add customer count\n",
    "    test_count_agg = df.groupby(['customer_ID'])['S_2'].agg(['count'])\n",
    "\n",
    "\n",
    "    test_num_agg = df.groupby(\"customer_ID\")[num_features].agg(['mean', 'max', 'last'])\n",
    "    test_num_agg.columns = ['_'.join(x) for x in test_num_agg.columns]\n",
    "\n",
    "    test_cat_agg = df.groupby(\"customer_ID\")[cat_features].agg(['count', 'last', 'nunique'])\n",
    "    test_cat_agg.columns = ['_'.join(x) for x in test_cat_agg.columns]\n",
    "\n",
    "    df = cudf.concat([test_count_agg,test_num_agg, test_cat_agg], axis=1)\n",
    "    del test_num_agg, test_cat_agg\n",
    "    print('shape after engineering', df.shape )\n",
    "    \n",
    "    return df\n",
    "\n",
    "train = process_and_feature_engineer(train)"
   ]
  },
  {
   "cell_type": "code",
   "execution_count": 6,
   "id": "8c99caa2",
   "metadata": {
    "execution": {
     "iopub.execute_input": "2022-07-30T17:08:45.499559Z",
     "iopub.status.busy": "2022-07-30T17:08:45.498764Z",
     "iopub.status.idle": "2022-07-30T17:08:46.405098Z",
     "shell.execute_reply": "2022-07-30T17:08:46.404040Z"
    },
    "papermill": {
     "duration": 0.916385,
     "end_time": "2022-07-30T17:08:46.406907",
     "exception": false,
     "start_time": "2022-07-30T17:08:45.490522",
     "status": "completed"
    },
    "tags": []
   },
   "outputs": [
    {
     "name": "stdout",
     "output_type": "stream",
     "text": [
      "There are 556 features!\n"
     ]
    }
   ],
   "source": [
    "# ADD TARGETS\n",
    "targets = cudf.read_csv('../input/amex-default-prediction/train_labels.csv')\n",
    "targets['customer_ID'] = targets['customer_ID'].str[-16:].str.hex_to_int().astype('int64')\n",
    "targets = targets.set_index('customer_ID')\n",
    "train = train.merge(targets, left_index=True, right_index=True, how='left')\n",
    "train.target = train.target.astype('int8')\n",
    "del targets\n",
    "\n",
    "# NEEDED TO MAKE CV DETERMINISTIC (cudf merge above randomly shuffles rows)\n",
    "train = train.sort_index().reset_index()\n",
    "\n",
    "# FEATURES\n",
    "FEATURES = train.columns[1:-1]\n",
    "print(f'There are {len(FEATURES)} features!')"
   ]
  },
  {
   "cell_type": "markdown",
   "id": "99aa46b8",
   "metadata": {
    "papermill": {
     "duration": 0.006996,
     "end_time": "2022-07-30T17:08:46.421369",
     "exception": false,
     "start_time": "2022-07-30T17:08:46.414373",
     "status": "completed"
    },
    "tags": []
   },
   "source": [
    "# Train XGB\n",
    "We will train using `DeviceQuantileDMatrix`. This has a very small GPU memory footprint."
   ]
  },
  {
   "cell_type": "code",
   "execution_count": 7,
   "id": "39eaf15e",
   "metadata": {
    "execution": {
     "iopub.execute_input": "2022-07-30T17:08:46.436883Z",
     "iopub.status.busy": "2022-07-30T17:08:46.436607Z",
     "iopub.status.idle": "2022-07-30T17:08:46.546212Z",
     "shell.execute_reply": "2022-07-30T17:08:46.545166Z"
    },
    "papermill": {
     "duration": 0.119986,
     "end_time": "2022-07-30T17:08:46.548534",
     "exception": false,
     "start_time": "2022-07-30T17:08:46.428548",
     "status": "completed"
    },
    "tags": []
   },
   "outputs": [
    {
     "name": "stdout",
     "output_type": "stream",
     "text": [
      "XGB Version 1.6.1\n"
     ]
    }
   ],
   "source": [
    "# LOAD XGB LIBRARY\n",
    "from sklearn.model_selection import KFold\n",
    "import xgboost as xgb\n",
    "print('XGB Version',xgb.__version__)\n",
    "\n",
    "# XGB MODEL PARAMETERS\n",
    "xgb_parms = { \n",
    "    'max_depth':4, \n",
    "    'learning_rate':0.05, \n",
    "    'subsample':0.8,\n",
    "    'colsample_bytree':0.6, \n",
    "    'eval_metric':'logloss',\n",
    "    'objective':'binary:logistic',\n",
    "    'tree_method':'gpu_hist',\n",
    "    'predictor':'gpu_predictor',\n",
    "    'random_state':SEED\n",
    "}"
   ]
  },
  {
   "cell_type": "code",
   "execution_count": 8,
   "id": "c9906a11",
   "metadata": {
    "execution": {
     "iopub.execute_input": "2022-07-30T17:08:46.564867Z",
     "iopub.status.busy": "2022-07-30T17:08:46.564607Z",
     "iopub.status.idle": "2022-07-30T17:08:46.573192Z",
     "shell.execute_reply": "2022-07-30T17:08:46.572409Z"
    },
    "papermill": {
     "duration": 0.018337,
     "end_time": "2022-07-30T17:08:46.574880",
     "exception": false,
     "start_time": "2022-07-30T17:08:46.556543",
     "status": "completed"
    },
    "tags": []
   },
   "outputs": [],
   "source": [
    "# NEEDED WITH DeviceQuantileDMatrix BELOW\n",
    "class IterLoadForDMatrix(xgb.core.DataIter):\n",
    "    def __init__(self, df=None, features=None, target=None, batch_size=256*1024):\n",
    "        self.features = features\n",
    "        self.target = target\n",
    "        self.df = df\n",
    "        self.it = 0 # set iterator to 0\n",
    "        self.batch_size = batch_size\n",
    "        self.batches = int( np.ceil( len(df) / self.batch_size ) )\n",
    "        super().__init__()\n",
    "\n",
    "    def reset(self):\n",
    "        '''Reset the iterator'''\n",
    "        self.it = 0\n",
    "\n",
    "    def next(self, input_data):\n",
    "        '''Yield next batch of data.'''\n",
    "        if self.it == self.batches:\n",
    "            return 0 # Return 0 when there's no more batch.\n",
    "        \n",
    "        a = self.it * self.batch_size\n",
    "        b = min( (self.it + 1) * self.batch_size, len(self.df) )\n",
    "        dt = cudf.DataFrame(self.df.iloc[a:b])\n",
    "        input_data(data=dt[self.features], label=dt[self.target]) #, weight=dt['weight'])\n",
    "        self.it += 1\n",
    "        return 1"
   ]
  },
  {
   "cell_type": "code",
   "execution_count": 9,
   "id": "3b5aeb39",
   "metadata": {
    "execution": {
     "iopub.execute_input": "2022-07-30T17:08:46.590143Z",
     "iopub.status.busy": "2022-07-30T17:08:46.589888Z",
     "iopub.status.idle": "2022-07-30T17:08:46.599683Z",
     "shell.execute_reply": "2022-07-30T17:08:46.599033Z"
    },
    "papermill": {
     "duration": 0.019253,
     "end_time": "2022-07-30T17:08:46.601282",
     "exception": false,
     "start_time": "2022-07-30T17:08:46.582029",
     "status": "completed"
    },
    "tags": []
   },
   "outputs": [],
   "source": [
    "# https://www.kaggle.com/kyakovlev\n",
    "# https://www.kaggle.com/competitions/amex-default-prediction/discussion/327534\n",
    "def amex_metric_mod(y_true, y_pred):\n",
    "\n",
    "    labels     = np.transpose(np.array([y_true, y_pred]))\n",
    "    labels     = labels[labels[:, 1].argsort()[::-1]]\n",
    "    weights    = np.where(labels[:,0]==0, 20, 1)\n",
    "    cut_vals   = labels[np.cumsum(weights) <= int(0.04 * np.sum(weights))]\n",
    "    top_four   = np.sum(cut_vals[:,0]) / np.sum(labels[:,0])\n",
    "\n",
    "    gini = [0,0]\n",
    "    for i in [1,0]:\n",
    "        labels         = np.transpose(np.array([y_true, y_pred]))\n",
    "        labels         = labels[labels[:, i].argsort()[::-1]]\n",
    "        weight         = np.where(labels[:,0]==0, 20, 1)\n",
    "        weight_random  = np.cumsum(weight / np.sum(weight))\n",
    "        total_pos      = np.sum(labels[:, 0] *  weight)\n",
    "        cum_pos_found  = np.cumsum(labels[:, 0] * weight)\n",
    "        lorentz        = cum_pos_found / total_pos\n",
    "        gini[i]        = np.sum((lorentz - weight_random) * weight)\n",
    "\n",
    "    return 0.5 * (gini[1]/gini[0] + top_four)"
   ]
  },
  {
   "cell_type": "code",
   "execution_count": 10,
   "id": "5d957f9c",
   "metadata": {
    "execution": {
     "iopub.execute_input": "2022-07-30T17:08:46.617007Z",
     "iopub.status.busy": "2022-07-30T17:08:46.616441Z",
     "iopub.status.idle": "2022-07-30T17:15:31.023857Z",
     "shell.execute_reply": "2022-07-30T17:15:31.023011Z"
    },
    "papermill": {
     "duration": 404.417964,
     "end_time": "2022-07-30T17:15:31.026505",
     "exception": false,
     "start_time": "2022-07-30T17:08:46.608541",
     "status": "completed"
    },
    "scrolled": true,
    "tags": []
   },
   "outputs": [
    {
     "name": "stdout",
     "output_type": "stream",
     "text": [
      "#########################\n",
      "### Fold 1\n",
      "### Train size 367130 Valid size 91783\n",
      "### Training with 100% fold data...\n",
      "#########################\n",
      "[0]\ttrain-logloss:0.66357\tvalid-logloss:0.66356\n",
      "[100]\ttrain-logloss:0.23699\tvalid-logloss:0.23936\n",
      "[200]\ttrain-logloss:0.22268\tvalid-logloss:0.22745\n",
      "[300]\ttrain-logloss:0.21658\tvalid-logloss:0.22335\n",
      "[400]\ttrain-logloss:0.21256\tvalid-logloss:0.22122\n",
      "[500]\ttrain-logloss:0.20953\tvalid-logloss:0.22010\n",
      "[600]\ttrain-logloss:0.20685\tvalid-logloss:0.21929\n",
      "[700]\ttrain-logloss:0.20447\tvalid-logloss:0.21867\n",
      "[800]\ttrain-logloss:0.20234\tvalid-logloss:0.21831\n",
      "[900]\ttrain-logloss:0.20034\tvalid-logloss:0.21799\n",
      "[1000]\ttrain-logloss:0.19838\tvalid-logloss:0.21775\n",
      "[1100]\ttrain-logloss:0.19645\tvalid-logloss:0.21757\n",
      "[1200]\ttrain-logloss:0.19461\tvalid-logloss:0.21743\n",
      "[1300]\ttrain-logloss:0.19281\tvalid-logloss:0.21734\n",
      "[1400]\ttrain-logloss:0.19102\tvalid-logloss:0.21721\n",
      "[1500]\ttrain-logloss:0.18935\tvalid-logloss:0.21710\n",
      "[1600]\ttrain-logloss:0.18770\tvalid-logloss:0.21704\n",
      "[1700]\ttrain-logloss:0.18611\tvalid-logloss:0.21701\n",
      "[1800]\ttrain-logloss:0.18448\tvalid-logloss:0.21699\n",
      "[1900]\ttrain-logloss:0.18293\tvalid-logloss:0.21693\n",
      "[1993]\ttrain-logloss:0.18149\tvalid-logloss:0.21699\n",
      "Kaggle Metric = 0.7923048872955598 \n",
      "\n",
      "#########################\n",
      "### Fold 2\n",
      "### Train size 367130 Valid size 91783\n",
      "### Training with 100% fold data...\n",
      "#########################\n",
      "[0]\ttrain-logloss:0.66350\tvalid-logloss:0.66347\n",
      "[100]\ttrain-logloss:0.23720\tvalid-logloss:0.23806\n",
      "[200]\ttrain-logloss:0.22313\tvalid-logloss:0.22592\n",
      "[300]\ttrain-logloss:0.21707\tvalid-logloss:0.22194\n",
      "[400]\ttrain-logloss:0.21298\tvalid-logloss:0.21999\n",
      "[500]\ttrain-logloss:0.20992\tvalid-logloss:0.21888\n",
      "[600]\ttrain-logloss:0.20723\tvalid-logloss:0.21811\n",
      "[700]\ttrain-logloss:0.20483\tvalid-logloss:0.21761\n",
      "[800]\ttrain-logloss:0.20253\tvalid-logloss:0.21711\n",
      "[900]\ttrain-logloss:0.20043\tvalid-logloss:0.21689\n",
      "[1000]\ttrain-logloss:0.19844\tvalid-logloss:0.21669\n",
      "[1100]\ttrain-logloss:0.19657\tvalid-logloss:0.21652\n",
      "[1200]\ttrain-logloss:0.19475\tvalid-logloss:0.21643\n",
      "[1300]\ttrain-logloss:0.19299\tvalid-logloss:0.21632\n",
      "[1400]\ttrain-logloss:0.19123\tvalid-logloss:0.21626\n",
      "[1500]\ttrain-logloss:0.18954\tvalid-logloss:0.21617\n",
      "[1600]\ttrain-logloss:0.18785\tvalid-logloss:0.21612\n",
      "[1700]\ttrain-logloss:0.18625\tvalid-logloss:0.21610\n",
      "[1800]\ttrain-logloss:0.18466\tvalid-logloss:0.21605\n",
      "[1900]\ttrain-logloss:0.18308\tvalid-logloss:0.21598\n",
      "[2000]\ttrain-logloss:0.18154\tvalid-logloss:0.21600\n",
      "[2043]\ttrain-logloss:0.18092\tvalid-logloss:0.21599\n",
      "Kaggle Metric = 0.7938297614110851 \n",
      "\n",
      "#########################\n",
      "### Fold 3\n",
      "### Train size 367130 Valid size 91783\n",
      "### Training with 100% fold data...\n",
      "#########################\n",
      "[0]\ttrain-logloss:0.66343\tvalid-logloss:0.66360\n",
      "[100]\ttrain-logloss:0.23656\tvalid-logloss:0.24053\n",
      "[200]\ttrain-logloss:0.22233\tvalid-logloss:0.22879\n",
      "[300]\ttrain-logloss:0.21638\tvalid-logloss:0.22478\n",
      "[400]\ttrain-logloss:0.21242\tvalid-logloss:0.22286\n",
      "[500]\ttrain-logloss:0.20928\tvalid-logloss:0.22168\n",
      "[600]\ttrain-logloss:0.20660\tvalid-logloss:0.22092\n",
      "[700]\ttrain-logloss:0.20415\tvalid-logloss:0.22027\n",
      "[800]\ttrain-logloss:0.20197\tvalid-logloss:0.21990\n",
      "[900]\ttrain-logloss:0.19988\tvalid-logloss:0.21959\n",
      "[1000]\ttrain-logloss:0.19792\tvalid-logloss:0.21939\n",
      "[1100]\ttrain-logloss:0.19596\tvalid-logloss:0.21916\n",
      "[1200]\ttrain-logloss:0.19411\tvalid-logloss:0.21898\n",
      "[1300]\ttrain-logloss:0.19230\tvalid-logloss:0.21890\n",
      "[1400]\ttrain-logloss:0.19057\tvalid-logloss:0.21887\n",
      "[1500]\ttrain-logloss:0.18884\tvalid-logloss:0.21876\n",
      "[1600]\ttrain-logloss:0.18722\tvalid-logloss:0.21872\n",
      "[1700]\ttrain-logloss:0.18562\tvalid-logloss:0.21866\n",
      "[1800]\ttrain-logloss:0.18400\tvalid-logloss:0.21858\n",
      "[1900]\ttrain-logloss:0.18239\tvalid-logloss:0.21853\n",
      "[2000]\ttrain-logloss:0.18080\tvalid-logloss:0.21847\n",
      "[2100]\ttrain-logloss:0.17932\tvalid-logloss:0.21844\n",
      "[2200]\ttrain-logloss:0.17783\tvalid-logloss:0.21841\n",
      "[2300]\ttrain-logloss:0.17633\tvalid-logloss:0.21840\n",
      "[2400]\ttrain-logloss:0.17491\tvalid-logloss:0.21837\n",
      "[2458]\ttrain-logloss:0.17407\tvalid-logloss:0.21843\n",
      "Kaggle Metric = 0.7909250867311801 \n",
      "\n",
      "#########################\n",
      "### Fold 4\n",
      "### Train size 367131 Valid size 91782\n",
      "### Training with 100% fold data...\n",
      "#########################\n",
      "[0]\ttrain-logloss:0.66348\tvalid-logloss:0.66367\n",
      "[100]\ttrain-logloss:0.23643\tvalid-logloss:0.24120\n",
      "[200]\ttrain-logloss:0.22217\tvalid-logloss:0.22921\n",
      "[300]\ttrain-logloss:0.21618\tvalid-logloss:0.22541\n",
      "[400]\ttrain-logloss:0.21210\tvalid-logloss:0.22340\n",
      "[500]\ttrain-logloss:0.20896\tvalid-logloss:0.22228\n",
      "[600]\ttrain-logloss:0.20621\tvalid-logloss:0.22150\n",
      "[700]\ttrain-logloss:0.20387\tvalid-logloss:0.22097\n",
      "[800]\ttrain-logloss:0.20167\tvalid-logloss:0.22060\n",
      "[900]\ttrain-logloss:0.19955\tvalid-logloss:0.22032\n",
      "[1000]\ttrain-logloss:0.19754\tvalid-logloss:0.22012\n",
      "[1100]\ttrain-logloss:0.19568\tvalid-logloss:0.21995\n",
      "[1200]\ttrain-logloss:0.19387\tvalid-logloss:0.21989\n",
      "[1300]\ttrain-logloss:0.19202\tvalid-logloss:0.21983\n",
      "[1400]\ttrain-logloss:0.19029\tvalid-logloss:0.21969\n",
      "[1500]\ttrain-logloss:0.18861\tvalid-logloss:0.21965\n",
      "[1600]\ttrain-logloss:0.18690\tvalid-logloss:0.21956\n",
      "[1700]\ttrain-logloss:0.18525\tvalid-logloss:0.21956\n",
      "[1734]\ttrain-logloss:0.18469\tvalid-logloss:0.21956\n",
      "Kaggle Metric = 0.7874561365025865 \n",
      "\n",
      "#########################\n",
      "### Fold 5\n",
      "### Train size 367131 Valid size 91782\n",
      "### Training with 100% fold data...\n",
      "#########################\n",
      "[0]\ttrain-logloss:0.66351\tvalid-logloss:0.66347\n",
      "[100]\ttrain-logloss:0.23751\tvalid-logloss:0.23792\n",
      "[200]\ttrain-logloss:0.22335\tvalid-logloss:0.22586\n",
      "[300]\ttrain-logloss:0.21738\tvalid-logloss:0.22179\n",
      "[400]\ttrain-logloss:0.21332\tvalid-logloss:0.21960\n",
      "[500]\ttrain-logloss:0.21014\tvalid-logloss:0.21837\n",
      "[600]\ttrain-logloss:0.20746\tvalid-logloss:0.21753\n",
      "[700]\ttrain-logloss:0.20504\tvalid-logloss:0.21698\n",
      "[800]\ttrain-logloss:0.20276\tvalid-logloss:0.21653\n",
      "[900]\ttrain-logloss:0.20070\tvalid-logloss:0.21628\n",
      "[1000]\ttrain-logloss:0.19867\tvalid-logloss:0.21603\n",
      "[1100]\ttrain-logloss:0.19672\tvalid-logloss:0.21581\n",
      "[1200]\ttrain-logloss:0.19486\tvalid-logloss:0.21567\n",
      "[1300]\ttrain-logloss:0.19307\tvalid-logloss:0.21551\n",
      "[1400]\ttrain-logloss:0.19131\tvalid-logloss:0.21549\n",
      "[1500]\ttrain-logloss:0.18963\tvalid-logloss:0.21544\n",
      "[1600]\ttrain-logloss:0.18794\tvalid-logloss:0.21536\n",
      "[1700]\ttrain-logloss:0.18639\tvalid-logloss:0.21532\n",
      "[1800]\ttrain-logloss:0.18482\tvalid-logloss:0.21533\n",
      "[1900]\ttrain-logloss:0.18323\tvalid-logloss:0.21527\n",
      "[2000]\ttrain-logloss:0.18168\tvalid-logloss:0.21521\n",
      "[2100]\ttrain-logloss:0.18021\tvalid-logloss:0.21526\n",
      "[2110]\ttrain-logloss:0.18004\tvalid-logloss:0.21527\n",
      "Kaggle Metric = 0.7961153704973595 \n",
      "\n",
      "#########################\n",
      "OVERALL CV Kaggle Metric = 0.792124145016082\n"
     ]
    }
   ],
   "source": [
    "importances = []\n",
    "oof = []\n",
    "train = train.to_pandas() # free GPU memory\n",
    "TRAIN_SUBSAMPLE = 1.0\n",
    "gc.collect()\n",
    "\n",
    "skf = KFold(n_splits=FOLDS, shuffle=True, random_state=SEED)\n",
    "for fold,(train_idx, valid_idx) in enumerate(skf.split(\n",
    "            train, train.target )):\n",
    "    \n",
    "    # TRAIN WITH SUBSAMPLE OF TRAIN FOLD DATA\n",
    "    if TRAIN_SUBSAMPLE<1.0:\n",
    "        np.random.seed(SEED)\n",
    "        train_idx = np.random.choice(train_idx, \n",
    "                       int(len(train_idx)*TRAIN_SUBSAMPLE), replace=False)\n",
    "        np.random.seed(None)\n",
    "    \n",
    "    print('#'*25)\n",
    "    print('### Fold',fold+1)\n",
    "    print('### Train size',len(train_idx),'Valid size',len(valid_idx))\n",
    "    print(f'### Training with {int(TRAIN_SUBSAMPLE*100)}% fold data...')\n",
    "    print('#'*25)\n",
    "    \n",
    "    # TRAIN, VALID, TEST FOR FOLD K\n",
    "    Xy_train = IterLoadForDMatrix(train.loc[train_idx], FEATURES, 'target')\n",
    "    X_valid = train.loc[valid_idx, FEATURES]\n",
    "    y_valid = train.loc[valid_idx, 'target']\n",
    "    \n",
    "    dtrain = xgb.DeviceQuantileDMatrix(Xy_train, max_bin=256)\n",
    "    dvalid = xgb.DMatrix(data=X_valid, label=y_valid)\n",
    "    \n",
    "    # TRAIN MODEL FOLD K\n",
    "    model = xgb.train(xgb_parms, \n",
    "                dtrain=dtrain,\n",
    "                evals=[(dtrain,'train'),(dvalid,'valid')],\n",
    "                num_boost_round=9999,\n",
    "                early_stopping_rounds=100,\n",
    "                verbose_eval=100) \n",
    "    model.save_model(f'XGB_v{VER}_fold{fold}.xgb')\n",
    "    \n",
    "    # GET FEATURE IMPORTANCE FOR FOLD K\n",
    "    dd = model.get_score(importance_type='weight')\n",
    "    df = pd.DataFrame({'feature':dd.keys(),f'importance_{fold}':dd.values()})\n",
    "    importances.append(df)\n",
    "            \n",
    "    # INFER OOF FOLD K\n",
    "    oof_preds = model.predict(dvalid)\n",
    "    acc = amex_metric_mod(y_valid.values, oof_preds)\n",
    "    print('Kaggle Metric =',acc,'\\n')\n",
    "    \n",
    "    # SAVE OOF\n",
    "    df = train.loc[valid_idx, ['customer_ID','target'] ].copy()\n",
    "    df['oof_pred'] = oof_preds\n",
    "    oof.append( df )\n",
    "    \n",
    "    del dtrain, Xy_train, dd, df\n",
    "    del X_valid, y_valid, dvalid, model\n",
    "    _ = gc.collect()\n",
    "    \n",
    "print('#'*25)\n",
    "oof = pd.concat(oof,axis=0,ignore_index=True).set_index('customer_ID')\n",
    "acc = amex_metric_mod(oof.target.values, oof.oof_pred.values)\n",
    "print('OVERALL CV Kaggle Metric =',acc)"
   ]
  },
  {
   "cell_type": "code",
   "execution_count": 11,
   "id": "d4f6e068",
   "metadata": {
    "execution": {
     "iopub.execute_input": "2022-07-30T17:15:31.057790Z",
     "iopub.status.busy": "2022-07-30T17:15:31.057075Z",
     "iopub.status.idle": "2022-07-30T17:15:31.191130Z",
     "shell.execute_reply": "2022-07-30T17:15:31.190346Z"
    },
    "papermill": {
     "duration": 0.151198,
     "end_time": "2022-07-30T17:15:31.192972",
     "exception": false,
     "start_time": "2022-07-30T17:15:31.041774",
     "status": "completed"
    },
    "tags": []
   },
   "outputs": [],
   "source": [
    "# CLEAN RAM\n",
    "del train\n",
    "_ = gc.collect()"
   ]
  },
  {
   "cell_type": "markdown",
   "id": "e0fe1664",
   "metadata": {
    "papermill": {
     "duration": 0.014398,
     "end_time": "2022-07-30T17:15:31.222471",
     "exception": false,
     "start_time": "2022-07-30T17:15:31.208073",
     "status": "completed"
    },
    "tags": []
   },
   "source": [
    "# Save OOF Preds"
   ]
  },
  {
   "cell_type": "code",
   "execution_count": 12,
   "id": "e30a4221",
   "metadata": {
    "execution": {
     "iopub.execute_input": "2022-07-30T17:15:31.251733Z",
     "iopub.status.busy": "2022-07-30T17:15:31.251439Z",
     "iopub.status.idle": "2022-07-30T17:15:35.893012Z",
     "shell.execute_reply": "2022-07-30T17:15:35.892240Z"
    },
    "papermill": {
     "duration": 4.658399,
     "end_time": "2022-07-30T17:15:35.894904",
     "exception": false,
     "start_time": "2022-07-30T17:15:31.236505",
     "status": "completed"
    },
    "tags": []
   },
   "outputs": [
    {
     "data": {
      "text/html": [
       "<div>\n",
       "<style scoped>\n",
       "    .dataframe tbody tr th:only-of-type {\n",
       "        vertical-align: middle;\n",
       "    }\n",
       "\n",
       "    .dataframe tbody tr th {\n",
       "        vertical-align: top;\n",
       "    }\n",
       "\n",
       "    .dataframe thead th {\n",
       "        text-align: right;\n",
       "    }\n",
       "</style>\n",
       "<table border=\"1\" class=\"dataframe\">\n",
       "  <thead>\n",
       "    <tr style=\"text-align: right;\">\n",
       "      <th></th>\n",
       "      <th>customer_ID</th>\n",
       "      <th>target</th>\n",
       "      <th>oof_pred</th>\n",
       "    </tr>\n",
       "  </thead>\n",
       "  <tbody>\n",
       "    <tr>\n",
       "      <th>0</th>\n",
       "      <td>20eac26171c3d251c55fc78204e59fab1c15fc2bc96d0c...</td>\n",
       "      <td>1</td>\n",
       "      <td>0.733395</td>\n",
       "    </tr>\n",
       "    <tr>\n",
       "      <th>1</th>\n",
       "      <td>aea50fdf9b974ccec95fa177c3225a0f913483b457de6e...</td>\n",
       "      <td>0</td>\n",
       "      <td>0.000287</td>\n",
       "    </tr>\n",
       "    <tr>\n",
       "      <th>2</th>\n",
       "      <td>32cd2d41aef737b69089882754395925c96eaee1f4a859...</td>\n",
       "      <td>0</td>\n",
       "      <td>0.001725</td>\n",
       "    </tr>\n",
       "    <tr>\n",
       "      <th>3</th>\n",
       "      <td>8daa6d5dc2655a8a437531e6b8b96829113cdfe9bf6cae...</td>\n",
       "      <td>0</td>\n",
       "      <td>0.010200</td>\n",
       "    </tr>\n",
       "    <tr>\n",
       "      <th>4</th>\n",
       "      <td>0ceba351a3851202542feb49d7385bcef32f6037fc57c7...</td>\n",
       "      <td>1</td>\n",
       "      <td>0.892409</td>\n",
       "    </tr>\n",
       "  </tbody>\n",
       "</table>\n",
       "</div>"
      ],
      "text/plain": [
       "                                         customer_ID  target  oof_pred\n",
       "0  20eac26171c3d251c55fc78204e59fab1c15fc2bc96d0c...       1  0.733395\n",
       "1  aea50fdf9b974ccec95fa177c3225a0f913483b457de6e...       0  0.000287\n",
       "2  32cd2d41aef737b69089882754395925c96eaee1f4a859...       0  0.001725\n",
       "3  8daa6d5dc2655a8a437531e6b8b96829113cdfe9bf6cae...       0  0.010200\n",
       "4  0ceba351a3851202542feb49d7385bcef32f6037fc57c7...       1  0.892409"
      ]
     },
     "execution_count": 12,
     "metadata": {},
     "output_type": "execute_result"
    }
   ],
   "source": [
    "oof_xgb = pd.read_parquet(TRAIN_PATH, columns=['customer_ID']).drop_duplicates()\n",
    "oof_xgb['customer_ID_hash'] = oof_xgb['customer_ID'].apply(lambda x: int(x[-16:],16) ).astype('int64')\n",
    "oof_xgb = oof_xgb.set_index('customer_ID_hash')\n",
    "oof_xgb = oof_xgb.merge(oof, left_index=True, right_index=True)\n",
    "oof_xgb = oof_xgb.sort_index().reset_index(drop=True)\n",
    "oof_xgb.to_csv(f'oof_xgb_v{VER}.csv',index=False)\n",
    "oof_xgb.head()"
   ]
  },
  {
   "cell_type": "code",
   "execution_count": 13,
   "id": "b594e7ed",
   "metadata": {
    "execution": {
     "iopub.execute_input": "2022-07-30T17:15:35.925931Z",
     "iopub.status.busy": "2022-07-30T17:15:35.925641Z",
     "iopub.status.idle": "2022-07-30T17:15:36.272047Z",
     "shell.execute_reply": "2022-07-30T17:15:36.271255Z"
    },
    "papermill": {
     "duration": 0.363616,
     "end_time": "2022-07-30T17:15:36.273835",
     "exception": false,
     "start_time": "2022-07-30T17:15:35.910219",
     "status": "completed"
    },
    "tags": []
   },
   "outputs": [
    {
     "data": {
      "image/png": "[encoded data removed]",
      "text/plain": [
       "<Figure size 432x288 with 1 Axes>"
      ]
     },
     "metadata": {
      "needs_background": "light"
     },
     "output_type": "display_data"
    }
   ],
   "source": [
    "# PLOT OOF PREDICTIONS\n",
    "plt.hist(oof_xgb.oof_pred.values, bins=100)\n",
    "plt.title('OOF Predictions')\n",
    "plt.show()"
   ]
  },
  {
   "cell_type": "code",
   "execution_count": 14,
   "id": "9c767047",
   "metadata": {
    "execution": {
     "iopub.execute_input": "2022-07-30T17:15:36.305046Z",
     "iopub.status.busy": "2022-07-30T17:15:36.304772Z",
     "iopub.status.idle": "2022-07-30T17:15:36.437294Z",
     "shell.execute_reply": "2022-07-30T17:15:36.436543Z"
    },
    "papermill": {
     "duration": 0.15011,
     "end_time": "2022-07-30T17:15:36.439359",
     "exception": false,
     "start_time": "2022-07-30T17:15:36.289249",
     "status": "completed"
    },
    "tags": []
   },
   "outputs": [],
   "source": [
    "# CLEAR VRAM, RAM FOR INFERENCE BELOW\n",
    "del oof_xgb, oof\n",
    "_ = gc.collect()"
   ]
  },
  {
   "cell_type": "markdown",
   "id": "d4f7a34d",
   "metadata": {
    "papermill": {
     "duration": 0.014291,
     "end_time": "2022-07-30T17:15:36.469211",
     "exception": false,
     "start_time": "2022-07-30T17:15:36.454920",
     "status": "completed"
    },
    "tags": []
   },
   "source": [
    "# Feature Importance"
   ]
  },
  {
   "cell_type": "code",
   "execution_count": 15,
   "id": "b1e767ed",
   "metadata": {
    "execution": {
     "iopub.execute_input": "2022-07-30T17:15:36.499827Z",
     "iopub.status.busy": "2022-07-30T17:15:36.499543Z",
     "iopub.status.idle": "2022-07-30T17:15:36.524529Z",
     "shell.execute_reply": "2022-07-30T17:15:36.523847Z"
    },
    "papermill": {
     "duration": 0.042232,
     "end_time": "2022-07-30T17:15:36.526207",
     "exception": false,
     "start_time": "2022-07-30T17:15:36.483975",
     "status": "completed"
    },
    "tags": []
   },
   "outputs": [],
   "source": [
    "import matplotlib.pyplot as plt\n",
    "\n",
    "df = importances[0].copy()\n",
    "for k in range(1,FOLDS): df = df.merge(importances[k], on='feature', how='left')\n",
    "df['importance'] = df.iloc[:,1:].mean(axis=1)\n",
    "df = df.sort_values('importance',ascending=False)\n",
    "df.to_csv(f'xgb_feature_importance_v{VER}.csv',index=False)"
   ]
  },
  {
   "cell_type": "code",
   "execution_count": 16,
   "id": "690ab194",
   "metadata": {
    "execution": {
     "iopub.execute_input": "2022-07-30T17:15:36.557277Z",
     "iopub.status.busy": "2022-07-30T17:15:36.556820Z",
     "iopub.status.idle": "2022-07-30T17:15:36.809082Z",
     "shell.execute_reply": "2022-07-30T17:15:36.808304Z"
    },
    "papermill": {
     "duration": 0.269281,
     "end_time": "2022-07-30T17:15:36.810950",
     "exception": false,
     "start_time": "2022-07-30T17:15:36.541669",
     "status": "completed"
    },
    "tags": []
   },
   "outputs": [
    {
     "data": {
      "image/png": "[encoded data removed]",
      "text/plain": [
       "<Figure size 720x720 with 1 Axes>"
      ]
     },
     "metadata": {
      "needs_background": "light"
     },
     "output_type": "display_data"
    }
   ],
   "source": [
    "NUM_FEATURES = 20\n",
    "plt.figure(figsize=(10,5*NUM_FEATURES//10))\n",
    "plt.barh(np.arange(NUM_FEATURES,0,-1), df.importance.values[:NUM_FEATURES])\n",
    "plt.yticks(np.arange(NUM_FEATURES,0,-1), df.feature.values[:NUM_FEATURES])\n",
    "plt.title(f'XGB Feature Importance - Top {NUM_FEATURES}')\n",
    "plt.show()"
   ]
  },
  {
   "cell_type": "markdown",
   "id": "3246fb9c",
   "metadata": {
    "papermill": {
     "duration": 0.014486,
     "end_time": "2022-07-30T17:15:36.841470",
     "exception": false,
     "start_time": "2022-07-30T17:15:36.826984",
     "status": "completed"
    },
    "tags": []
   },
   "source": [
    "# Process and Feature Engineer Test Data\n",
    "We will load @raddar Kaggle dataset from [here][1] with discussion [here][2]. Then we will engineer features suggested by @huseyincot in his notebooks [here][1] and [here][4]. We will use [RAPIDS][5] and the GPU to create new features quickly.\n",
    "\n",
    "[1]: https://www.kaggle.com/datasets/raddar/amex-data-integer-dtypes-parquet-format\n",
    "[2]: https://www.kaggle.com/competitions/amex-default-prediction/discussion/328514\n",
    "[3]: https://www.kaggle.com/code/huseyincot/amex-catboost-0-793\n",
    "[4]: https://www.kaggle.com/code/huseyincot/amex-agg-data-how-it-created\n",
    "[5]: https://rapids.ai/"
   ]
  },
  {
   "cell_type": "code",
   "execution_count": 17,
   "id": "98725074",
   "metadata": {
    "execution": {
     "iopub.execute_input": "2022-07-30T17:15:36.872531Z",
     "iopub.status.busy": "2022-07-30T17:15:36.871816Z",
     "iopub.status.idle": "2022-07-30T17:15:39.243189Z",
     "shell.execute_reply": "2022-07-30T17:15:39.241968Z"
    },
    "papermill": {
     "duration": 2.38877,
     "end_time": "2022-07-30T17:15:39.245078",
     "exception": false,
     "start_time": "2022-07-30T17:15:36.856308",
     "status": "completed"
    },
    "tags": []
   },
   "outputs": [
    {
     "name": "stdout",
     "output_type": "stream",
     "text": [
      "Reading test data...\n",
      "shape of data: (11363762, 2)\n",
      "We will process test data as 4 separate parts.\n",
      "There will be 231155 customers in each part (except the last part).\n",
      "Below are number of rows in each part:\n",
      "[2841209, 2839857, 2842105, 2840591]\n"
     ]
    }
   ],
   "source": [
    "# CALCULATE SIZE OF EACH SEPARATE TEST PART\n",
    "def get_rows(customers, test, NUM_PARTS = 4, verbose = ''):\n",
    "    chunk = len(customers)//NUM_PARTS\n",
    "    if verbose != '':\n",
    "        print(f'We will process {verbose} data as {NUM_PARTS} separate parts.')\n",
    "        print(f'There will be {chunk} customers in each part (except the last part).')\n",
    "        print('Below are number of rows in each part:')\n",
    "    rows = []\n",
    "\n",
    "    for k in range(NUM_PARTS):\n",
    "        if k==NUM_PARTS-1: cc = customers[k*chunk:]\n",
    "        else: cc = customers[k*chunk:(k+1)*chunk]\n",
    "        s = test.loc[test.customer_ID.isin(cc)].shape[0]\n",
    "        rows.append(s)\n",
    "    if verbose != '': print( rows )\n",
    "    return rows,chunk\n",
    "\n",
    "# COMPUTE SIZE OF 4 PARTS FOR TEST DATA\n",
    "NUM_PARTS = 4\n",
    "TEST_PATH = '../input/amex-data-integer-dtypes-parquet-format/test.parquet'\n",
    "\n",
    "print(f'Reading test data...')\n",
    "test = read_file(path = TEST_PATH, usecols = ['customer_ID','S_2'])\n",
    "customers = test[['customer_ID']].drop_duplicates().sort_index().values.flatten()\n",
    "rows,num_cust = get_rows(customers, test[['customer_ID']], NUM_PARTS = NUM_PARTS, verbose = 'test')"
   ]
  },
  {
   "cell_type": "markdown",
   "id": "f33be443",
   "metadata": {
    "papermill": {
     "duration": 0.015004,
     "end_time": "2022-07-30T17:15:39.275498",
     "exception": false,
     "start_time": "2022-07-30T17:15:39.260494",
     "status": "completed"
    },
    "tags": []
   },
   "source": [
    "# Infer Test"
   ]
  },
  {
   "cell_type": "code",
   "execution_count": 18,
   "id": "b0580574",
   "metadata": {
    "execution": {
     "iopub.execute_input": "2022-07-30T17:15:39.306873Z",
     "iopub.status.busy": "2022-07-30T17:15:39.306568Z",
     "iopub.status.idle": "2022-07-30T17:17:48.167479Z",
     "shell.execute_reply": "2022-07-30T17:17:48.166646Z"
    },
    "papermill": {
     "duration": 128.879458,
     "end_time": "2022-07-30T17:17:48.170016",
     "exception": false,
     "start_time": "2022-07-30T17:15:39.290558",
     "status": "completed"
    },
    "tags": []
   },
   "outputs": [
    {
     "name": "stdout",
     "output_type": "stream",
     "text": [
      "\n",
      "Reading test data...\n",
      "shape of data: (11363762, 190)\n",
      "=> Test part 1 has shape (2841209, 190)\n",
      "shape after engineering (231155, 556)\n",
      "\n",
      "Reading test data...\n",
      "shape of data: (11363762, 190)\n",
      "=> Test part 2 has shape (2839857, 190)\n",
      "shape after engineering (231155, 556)\n",
      "\n",
      "Reading test data...\n",
      "shape of data: (11363762, 190)\n",
      "=> Test part 3 has shape (2842105, 190)\n",
      "shape after engineering (231155, 556)\n",
      "\n",
      "Reading test data...\n",
      "shape of data: (11363762, 190)\n",
      "=> Test part 4 has shape (2840591, 190)\n",
      "shape after engineering (231156, 556)\n"
     ]
    }
   ],
   "source": [
    "# INFER TEST DATA IN PARTS\n",
    "skip_rows = 0\n",
    "skip_cust = 0\n",
    "test_preds = []\n",
    "\n",
    "for k in range(NUM_PARTS):\n",
    "    \n",
    "    # READ PART OF TEST DATA\n",
    "    print(f'\\nReading test data...')\n",
    "    test = read_file(path = TEST_PATH)\n",
    "    test = test.iloc[skip_rows:skip_rows+rows[k]]\n",
    "    skip_rows += rows[k]\n",
    "    print(f'=> Test part {k+1} has shape', test.shape )\n",
    "    \n",
    "    # PROCESS AND FEATURE ENGINEER PART OF TEST DATA\n",
    "    test = process_and_feature_engineer(test)\n",
    "    if k==NUM_PARTS-1: test = test.loc[customers[skip_cust:]]\n",
    "    else: test = test.loc[customers[skip_cust:skip_cust+num_cust]]\n",
    "    skip_cust += num_cust\n",
    "    \n",
    "    # TEST DATA FOR XGB\n",
    "    X_test = test[FEATURES]\n",
    "    dtest = xgb.DMatrix(data=X_test)\n",
    "    test = test[['P_2_mean']] # reduce memory\n",
    "    del X_test\n",
    "    gc.collect()\n",
    "\n",
    "    # INFER XGB MODELS ON TEST DATA\n",
    "    model = xgb.Booster()\n",
    "    model.load_model(f'XGB_v{VER}_fold0.xgb')\n",
    "    preds = model.predict(dtest)\n",
    "    for f in range(1,FOLDS):\n",
    "        model.load_model(f'XGB_v{VER}_fold{f}.xgb')\n",
    "        preds += model.predict(dtest)\n",
    "    preds /= FOLDS\n",
    "    test_preds.append(preds)\n",
    "\n",
    "    # CLEAN MEMORY\n",
    "    del dtest, model\n",
    "    _ = gc.collect()"
   ]
  },
  {
   "cell_type": "markdown",
   "id": "569642e2",
   "metadata": {
    "papermill": {
     "duration": 0.015544,
     "end_time": "2022-07-30T17:17:48.201812",
     "exception": false,
     "start_time": "2022-07-30T17:17:48.186268",
     "status": "completed"
    },
    "tags": []
   },
   "source": [
    "# Create Submission CSV"
   ]
  },
  {
   "cell_type": "code",
   "execution_count": 19,
   "id": "624776ae",
   "metadata": {
    "execution": {
     "iopub.execute_input": "2022-07-30T17:17:48.234678Z",
     "iopub.status.busy": "2022-07-30T17:17:48.234232Z",
     "iopub.status.idle": "2022-07-30T17:17:49.238992Z",
     "shell.execute_reply": "2022-07-30T17:17:49.238245Z"
    },
    "papermill": {
     "duration": 1.023166,
     "end_time": "2022-07-30T17:17:49.240675",
     "exception": false,
     "start_time": "2022-07-30T17:17:48.217509",
     "status": "completed"
    },
    "tags": []
   },
   "outputs": [
    {
     "name": "stdout",
     "output_type": "stream",
     "text": [
      "Submission file shape is (924621, 2)\n"
     ]
    },
    {
     "data": {
      "text/html": [
       "<div>\n",
       "<style scoped>\n",
       "    .dataframe tbody tr th:only-of-type {\n",
       "        vertical-align: middle;\n",
       "    }\n",
       "\n",
       "    .dataframe tbody tr th {\n",
       "        vertical-align: top;\n",
       "    }\n",
       "\n",
       "    .dataframe thead th {\n",
       "        text-align: right;\n",
       "    }\n",
       "</style>\n",
       "<table border=\"1\" class=\"dataframe\">\n",
       "  <thead>\n",
       "    <tr style=\"text-align: right;\">\n",
       "      <th></th>\n",
       "      <th>customer_ID</th>\n",
       "      <th>prediction</th>\n",
       "    </tr>\n",
       "  </thead>\n",
       "  <tbody>\n",
       "    <tr>\n",
       "      <th>0</th>\n",
       "      <td>03999d5e3bd61a69504cc6e7025c260c1ed2e5b449dba5...</td>\n",
       "      <td>0.102908</td>\n",
       "    </tr>\n",
       "    <tr>\n",
       "      <th>1</th>\n",
       "      <td>039b4f21aa584fb0c3c7055beabc098af55013f9f25515...</td>\n",
       "      <td>0.003837</td>\n",
       "    </tr>\n",
       "    <tr>\n",
       "      <th>2</th>\n",
       "      <td>039a6aea85575ebd33eec75e5c45bc7973481b81a99b62...</td>\n",
       "      <td>0.058108</td>\n",
       "    </tr>\n",
       "    <tr>\n",
       "      <th>3</th>\n",
       "      <td>039bd96164c6567580b24ba13c2b85b60f4554eb43d55b...</td>\n",
       "      <td>0.370480</td>\n",
       "    </tr>\n",
       "    <tr>\n",
       "      <th>4</th>\n",
       "      <td>0399a5a95461ced4134cd9693712fb012351cca1bde04d...</td>\n",
       "      <td>0.000101</td>\n",
       "    </tr>\n",
       "  </tbody>\n",
       "</table>\n",
       "</div>"
      ],
      "text/plain": [
       "                                         customer_ID  prediction\n",
       "0  03999d5e3bd61a69504cc6e7025c260c1ed2e5b449dba5...    0.102908\n",
       "1  039b4f21aa584fb0c3c7055beabc098af55013f9f25515...    0.003837\n",
       "2  039a6aea85575ebd33eec75e5c45bc7973481b81a99b62...    0.058108\n",
       "3  039bd96164c6567580b24ba13c2b85b60f4554eb43d55b...    0.370480\n",
       "4  0399a5a95461ced4134cd9693712fb012351cca1bde04d...    0.000101"
      ]
     },
     "execution_count": 19,
     "metadata": {},
     "output_type": "execute_result"
    }
   ],
   "source": [
    "# WRITE SUBMISSION FILE\n",
    "test_preds = np.concatenate(test_preds)\n",
    "test = cudf.DataFrame(index=customers,data={'prediction':test_preds})\n",
    "sub = cudf.read_csv('../input/amex-default-prediction/sample_submission.csv')[['customer_ID']]\n",
    "sub['customer_ID_hash'] = sub['customer_ID'].str[-16:].str.hex_to_int().astype('int64')\n",
    "sub = sub.set_index('customer_ID_hash')\n",
    "sub = sub.merge(test[['prediction']], left_index=True, right_index=True, how='left')\n",
    "sub = sub.reset_index(drop=True)\n",
    "\n",
    "# DISPLAY PREDICTIONS\n",
    "sub.to_csv(f'submission_xgb_v{VER}.csv',index=False)\n",
    "print('Submission file shape is', sub.shape )\n",
    "sub.head()"
   ]
  },
  {
   "cell_type": "code",
   "execution_count": 20,
   "id": "4f16150b",
   "metadata": {
    "execution": {
     "iopub.execute_input": "2022-07-30T17:17:49.274692Z",
     "iopub.status.busy": "2022-07-30T17:17:49.274391Z",
     "iopub.status.idle": "2022-07-30T17:17:49.959060Z",
     "shell.execute_reply": "2022-07-30T17:17:49.958245Z"
    },
    "papermill": {
     "duration": 0.704089,
     "end_time": "2022-07-30T17:17:49.961013",
     "exception": false,
     "start_time": "2022-07-30T17:17:49.256924",
     "status": "completed"
    },
    "tags": []
   },
   "outputs": [
    {
     "data": {
      "image/png": "[encoded data removed]",
      "text/plain": [
       "<Figure size 432x288 with 1 Axes>"
      ]
     },
     "metadata": {
      "needs_background": "light"
     },
     "output_type": "display_data"
    }
   ],
   "source": [
    "# PLOT PREDICTIONS\n",
    "plt.hist(sub.to_pandas().prediction, bins=100)\n",
    "plt.title('Test Predictions')\n",
    "plt.show()"
   ]
  }
 ],
 "metadata": {
  "kernelspec": {
   "display_name": "Python 3",
   "language": "python",
   "name": "python3"
  },
  "language_info": {
   "codemirror_mode": {
    "name": "ipython",
    "version": 3
   },
   "file_extension": ".py",
   "mimetype": "text/x-python",
   "name": "python",
   "nbconvert_exporter": "python",
   "pygments_lexer": "ipython3",
   "version": "3.7.12"
  },
  "papermill": {
   "default_parameters": {},
   "duration": 582.70938,
   "end_time": "2022-07-30T17:17:51.400308",
   "environment_variables": {},
   "exception": null,
   "input_path": "__notebook__.ipynb",
   "output_path": "__notebook__.ipynb",
   "parameters": {},
   "start_time": "2022-07-30T17:08:08.690928",
   "version": "2.3.4"
  }
 },
 "nbformat": 4,
 "nbformat_minor": 5
}
