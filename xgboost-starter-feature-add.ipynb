{
 "cells": [
  {
   "cell_type": "markdown",
   "id": "3daeb3b1",
   "metadata": {
    "papermill": {
     "duration": 0.007486,
     "end_time": "2022-07-30T16:29:30.340512",
     "exception": false,
     "start_time": "2022-07-30T16:29:30.333026",
     "status": "completed"
    },
    "tags": []
   },
   "source": [
    "# XGBoost Starter - LB 0.793\n",
    "In this notebook we build and train an XGBoost model using @raddar Kaggle dataset from [here][1] with discussion [here][2]. Then we engineer features suggested by @huseyincot in his notebooks [here][3] and [here][4]. This XGB model achieves CV 0.792 LB 0.793! When training with XGB, we use a special XGB dataloader called `DeviceQuantileDMatrix` which uses a small GPU memory footprint. This allows us to engineer more additional columns and train with more rows of data. Our feature engineering is performed using [RAPIDS][5] on the GPU to create new features quickly.\n",
    "\n",
    "[1]: https://www.kaggle.com/datasets/raddar/amex-data-integer-dtypes-parquet-format\n",
    "[2]: https://www.kaggle.com/competitions/amex-default-prediction/discussion/328514\n",
    "[3]: https://www.kaggle.com/code/huseyincot/amex-catboost-0-793\n",
    "[4]: https://www.kaggle.com/code/huseyincot/amex-agg-data-how-it-created\n",
    "[5]: https://rapids.ai/"
   ]
  },
  {
   "cell_type": "markdown",
   "id": "30b8ffb9",
   "metadata": {
    "papermill": {
     "duration": 0.006092,
     "end_time": "2022-07-30T16:29:30.353225",
     "exception": false,
     "start_time": "2022-07-30T16:29:30.347133",
     "status": "completed"
    },
    "tags": []
   },
   "source": [
    "Feature Engineering I done\n",
    "1. Drop B_29, https://www.kaggle.com/code/roberthatch/amex-feature-engg-gpu-or-cpu-process-in-chunks/notebook\n",
    "2. Add each customer count (how long they used) (not normalize)\n",
    "3. Don't fill NaN (with -127)\n",
    "4. remove num_features's min, std\n",
    "5. D_39에 대한 feature 추가 -> CV하락\n",
    "6. B_1과 B_2간의 연관 feature 추가; CV 0.7920\n",
    "7. B_8과 B_9간의 연관 feature 추가; CV 0.7919\n",
    "8. corr가 높은 feature중 제거; CV: 0.7914\n",
    "9. 6+ fillna(method='bfill'); CV: 0.7906 => NaN으로 냅두자\n",
    "10. 마지막 3개월만 이용\n",
    "<!-- 9. add nasdaq info simply -->"
   ]
  },
  {
   "cell_type": "markdown",
   "id": "880965f3",
   "metadata": {
    "papermill": {
     "duration": 0.006327,
     "end_time": "2022-07-30T16:29:30.365725",
     "exception": false,
     "start_time": "2022-07-30T16:29:30.359398",
     "status": "completed"
    },
    "tags": []
   },
   "source": [
    "# Load Libraries"
   ]
  },
  {
   "cell_type": "code",
   "execution_count": 1,
   "id": "42c2fd10",
   "metadata": {
    "execution": {
     "iopub.execute_input": "2022-07-30T16:29:30.380797Z",
     "iopub.status.busy": "2022-07-30T16:29:30.380164Z",
     "iopub.status.idle": "2022-07-30T16:29:34.348372Z",
     "shell.execute_reply": "2022-07-30T16:29:34.346235Z"
    },
    "papermill": {
     "duration": 3.978084,
     "end_time": "2022-07-30T16:29:34.350275",
     "exception": false,
     "start_time": "2022-07-30T16:29:30.372191",
     "status": "completed"
    },
    "tags": []
   },
   "outputs": [
    {
     "name": "stdout",
     "output_type": "stream",
     "text": [
      "RAPIDS version 21.10.01\n"
     ]
    }
   ],
   "source": [
    "# LOAD LIBRARIES\n",
    "import pandas as pd, numpy as np # CPU libraries\n",
    "import cupy, cudf # GPU libraries\n",
    "import matplotlib.pyplot as plt, gc, os\n",
    "\n",
    "print('RAPIDS version',cudf.__version__)"
   ]
  },
  {
   "cell_type": "code",
   "execution_count": 2,
   "id": "e27ba004",
   "metadata": {
    "execution": {
     "iopub.execute_input": "2022-07-30T16:29:34.365206Z",
     "iopub.status.busy": "2022-07-30T16:29:34.364920Z",
     "iopub.status.idle": "2022-07-30T16:29:34.369889Z",
     "shell.execute_reply": "2022-07-30T16:29:34.369161Z"
    },
    "papermill": {
     "duration": 0.014583,
     "end_time": "2022-07-30T16:29:34.371536",
     "exception": false,
     "start_time": "2022-07-30T16:29:34.356953",
     "status": "completed"
    },
    "tags": []
   },
   "outputs": [],
   "source": [
    "# VERSION NAME FOR SAVED MODEL FILES\n",
    "VER = 1\n",
    "\n",
    "# TRAIN RANDOM SEED\n",
    "SEED = 42\n",
    "\n",
    "# FILL NAN VALUE\n",
    "NAN_VALUE = -127 # will fit in int8\n",
    "\n",
    "# FOLDS PER MODEL\n",
    "FOLDS = 5"
   ]
  },
  {
   "cell_type": "markdown",
   "id": "8dd81111",
   "metadata": {
    "papermill": {
     "duration": 0.006519,
     "end_time": "2022-07-30T16:29:34.384435",
     "exception": false,
     "start_time": "2022-07-30T16:29:34.377916",
     "status": "completed"
    },
    "tags": []
   },
   "source": [
    "# Process and Feature Engineer Train Data\n",
    "We will load @raddar Kaggle dataset from [here][1] with discussion [here][2]. Then we will engineer features suggested by @huseyincot in his notebooks [here][3] and [here][4]. We will use [RAPIDS][5] and the GPU to create new features quickly.\n",
    "\n",
    "[1]: https://www.kaggle.com/datasets/raddar/amex-data-integer-dtypes-parquet-format\n",
    "[2]: https://www.kaggle.com/competitions/amex-default-prediction/discussion/328514\n",
    "[3]: https://www.kaggle.com/code/huseyincot/amex-catboost-0-793\n",
    "[4]: https://www.kaggle.com/code/huseyincot/amex-agg-data-how-it-created\n",
    "[5]: https://rapids.ai/"
   ]
  },
  {
   "cell_type": "code",
   "execution_count": 3,
   "id": "f43b09ac",
   "metadata": {
    "execution": {
     "iopub.execute_input": "2022-07-30T16:29:34.398182Z",
     "iopub.status.busy": "2022-07-30T16:29:34.397745Z",
     "iopub.status.idle": "2022-07-30T16:29:56.969050Z",
     "shell.execute_reply": "2022-07-30T16:29:56.968237Z"
    },
    "papermill": {
     "duration": 22.580315,
     "end_time": "2022-07-30T16:29:56.971037",
     "exception": false,
     "start_time": "2022-07-30T16:29:34.390722",
     "status": "completed"
    },
    "tags": []
   },
   "outputs": [
    {
     "name": "stdout",
     "output_type": "stream",
     "text": [
      "Reading train data...\n",
      "shape of data: (5531451, 190)\n"
     ]
    }
   ],
   "source": [
    "def read_file(path = '', usecols = None):\n",
    "    # LOAD DATAFRAME\n",
    "    if usecols is not None: df = cudf.read_parquet(path, columns=usecols)\n",
    "    else: df = cudf.read_parquet(path)\n",
    "    # REDUCE DTYPE FOR CUSTOMER AND DATE\n",
    "    df['customer_ID'] = df['customer_ID'].str[-16:].str.hex_to_int().astype('int64')\n",
    "    df.S_2 = cudf.to_datetime( df.S_2 )\n",
    "    # SORT BY CUSTOMER AND DATE (so agg('last') works correctly)\n",
    "    #df = df.sort_values(['customer_ID','S_2'])\n",
    "    #df = df.reset_index(drop=True)\n",
    "    # FILL NAN\n",
    "#     df = df.fillna(NAN_VALUE) \n",
    "    print('shape of data:', df.shape)\n",
    "    \n",
    "    return df\n",
    "\n",
    "print('Reading train data...')\n",
    "TRAIN_PATH = '../input/amex-data-integer-dtypes-parquet-format/train.parquet'\n",
    "train = read_file(path = TRAIN_PATH)"
   ]
  },
  {
   "cell_type": "code",
   "execution_count": 4,
   "id": "ffb4d389",
   "metadata": {
    "execution": {
     "iopub.execute_input": "2022-07-30T16:29:56.986555Z",
     "iopub.status.busy": "2022-07-30T16:29:56.985750Z",
     "iopub.status.idle": "2022-07-30T16:29:57.282471Z",
     "shell.execute_reply": "2022-07-30T16:29:57.281682Z"
    },
    "papermill": {
     "duration": 0.306579,
     "end_time": "2022-07-30T16:29:57.284482",
     "exception": false,
     "start_time": "2022-07-30T16:29:56.977903",
     "status": "completed"
    },
    "tags": []
   },
   "outputs": [
    {
     "data": {
      "text/html": [
       "<div>\n",
       "<style scoped>\n",
       "    .dataframe tbody tr th:only-of-type {\n",
       "        vertical-align: middle;\n",
       "    }\n",
       "\n",
       "    .dataframe tbody tr th {\n",
       "        vertical-align: top;\n",
       "    }\n",
       "\n",
       "    .dataframe thead th {\n",
       "        text-align: right;\n",
       "    }\n",
       "</style>\n",
       "<table border=\"1\" class=\"dataframe\">\n",
       "  <thead>\n",
       "    <tr style=\"text-align: right;\">\n",
       "      <th></th>\n",
       "      <th>customer_ID</th>\n",
       "      <th>S_2</th>\n",
       "      <th>P_2</th>\n",
       "      <th>D_39</th>\n",
       "      <th>B_1</th>\n",
       "      <th>B_2</th>\n",
       "      <th>R_1</th>\n",
       "      <th>S_3</th>\n",
       "      <th>D_41</th>\n",
       "      <th>B_3</th>\n",
       "      <th>...</th>\n",
       "      <th>D_136</th>\n",
       "      <th>D_137</th>\n",
       "      <th>D_138</th>\n",
       "      <th>D_139</th>\n",
       "      <th>D_140</th>\n",
       "      <th>D_141</th>\n",
       "      <th>D_142</th>\n",
       "      <th>D_143</th>\n",
       "      <th>D_144</th>\n",
       "      <th>D_145</th>\n",
       "    </tr>\n",
       "  </thead>\n",
       "  <tbody>\n",
       "    <tr>\n",
       "      <th>0</th>\n",
       "      <td>-4532153018459703766</td>\n",
       "      <td>2017-03-09</td>\n",
       "      <td>0.938469</td>\n",
       "      <td>0</td>\n",
       "      <td>0.008724</td>\n",
       "      <td>1.006838</td>\n",
       "      <td>0.009228</td>\n",
       "      <td>0.124035</td>\n",
       "      <td>0.0</td>\n",
       "      <td>0.004709</td>\n",
       "      <td>...</td>\n",
       "      <td>-1</td>\n",
       "      <td>-1</td>\n",
       "      <td>-1</td>\n",
       "      <td>0</td>\n",
       "      <td>0</td>\n",
       "      <td>0.0</td>\n",
       "      <td>&lt;NA&gt;</td>\n",
       "      <td>0</td>\n",
       "      <td>0.000610</td>\n",
       "      <td>0</td>\n",
       "    </tr>\n",
       "    <tr>\n",
       "      <th>1</th>\n",
       "      <td>-4532153018459703766</td>\n",
       "      <td>2017-04-07</td>\n",
       "      <td>0.936665</td>\n",
       "      <td>0</td>\n",
       "      <td>0.004923</td>\n",
       "      <td>1.000653</td>\n",
       "      <td>0.006151</td>\n",
       "      <td>0.126750</td>\n",
       "      <td>0.0</td>\n",
       "      <td>0.002714</td>\n",
       "      <td>...</td>\n",
       "      <td>-1</td>\n",
       "      <td>-1</td>\n",
       "      <td>-1</td>\n",
       "      <td>0</td>\n",
       "      <td>0</td>\n",
       "      <td>0.0</td>\n",
       "      <td>&lt;NA&gt;</td>\n",
       "      <td>0</td>\n",
       "      <td>0.005492</td>\n",
       "      <td>0</td>\n",
       "    </tr>\n",
       "    <tr>\n",
       "      <th>2</th>\n",
       "      <td>-4532153018459703766</td>\n",
       "      <td>2017-05-28</td>\n",
       "      <td>0.954180</td>\n",
       "      <td>3</td>\n",
       "      <td>0.021655</td>\n",
       "      <td>1.009672</td>\n",
       "      <td>0.006815</td>\n",
       "      <td>0.123977</td>\n",
       "      <td>0.0</td>\n",
       "      <td>0.009423</td>\n",
       "      <td>...</td>\n",
       "      <td>-1</td>\n",
       "      <td>-1</td>\n",
       "      <td>-1</td>\n",
       "      <td>0</td>\n",
       "      <td>0</td>\n",
       "      <td>0.0</td>\n",
       "      <td>&lt;NA&gt;</td>\n",
       "      <td>0</td>\n",
       "      <td>0.006986</td>\n",
       "      <td>0</td>\n",
       "    </tr>\n",
       "    <tr>\n",
       "      <th>3</th>\n",
       "      <td>-4532153018459703766</td>\n",
       "      <td>2017-06-13</td>\n",
       "      <td>0.960384</td>\n",
       "      <td>0</td>\n",
       "      <td>0.013683</td>\n",
       "      <td>1.002700</td>\n",
       "      <td>0.001373</td>\n",
       "      <td>0.117169</td>\n",
       "      <td>0.0</td>\n",
       "      <td>0.005531</td>\n",
       "      <td>...</td>\n",
       "      <td>-1</td>\n",
       "      <td>-1</td>\n",
       "      <td>-1</td>\n",
       "      <td>0</td>\n",
       "      <td>0</td>\n",
       "      <td>0.0</td>\n",
       "      <td>&lt;NA&gt;</td>\n",
       "      <td>0</td>\n",
       "      <td>0.006527</td>\n",
       "      <td>0</td>\n",
       "    </tr>\n",
       "    <tr>\n",
       "      <th>4</th>\n",
       "      <td>-4532153018459703766</td>\n",
       "      <td>2017-07-16</td>\n",
       "      <td>0.947248</td>\n",
       "      <td>0</td>\n",
       "      <td>0.015193</td>\n",
       "      <td>1.000727</td>\n",
       "      <td>0.007605</td>\n",
       "      <td>0.117325</td>\n",
       "      <td>0.0</td>\n",
       "      <td>0.009312</td>\n",
       "      <td>...</td>\n",
       "      <td>-1</td>\n",
       "      <td>-1</td>\n",
       "      <td>-1</td>\n",
       "      <td>0</td>\n",
       "      <td>0</td>\n",
       "      <td>0.0</td>\n",
       "      <td>&lt;NA&gt;</td>\n",
       "      <td>0</td>\n",
       "      <td>0.008126</td>\n",
       "      <td>0</td>\n",
       "    </tr>\n",
       "  </tbody>\n",
       "</table>\n",
       "<p>5 rows × 190 columns</p>\n",
       "</div>"
      ],
      "text/plain": [
       "           customer_ID        S_2       P_2  D_39       B_1       B_2  \\\n",
       "0 -4532153018459703766 2017-03-09  0.938469     0  0.008724  1.006838   \n",
       "1 -4532153018459703766 2017-04-07  0.936665     0  0.004923  1.000653   \n",
       "2 -4532153018459703766 2017-05-28  0.954180     3  0.021655  1.009672   \n",
       "3 -4532153018459703766 2017-06-13  0.960384     0  0.013683  1.002700   \n",
       "4 -4532153018459703766 2017-07-16  0.947248     0  0.015193  1.000727   \n",
       "\n",
       "        R_1       S_3  D_41       B_3  ... D_136  D_137  D_138  D_139  D_140  \\\n",
       "0  0.009228  0.124035   0.0  0.004709  ...    -1     -1     -1      0      0   \n",
       "1  0.006151  0.126750   0.0  0.002714  ...    -1     -1     -1      0      0   \n",
       "2  0.006815  0.123977   0.0  0.009423  ...    -1     -1     -1      0      0   \n",
       "3  0.001373  0.117169   0.0  0.005531  ...    -1     -1     -1      0      0   \n",
       "4  0.007605  0.117325   0.0  0.009312  ...    -1     -1     -1      0      0   \n",
       "\n",
       "   D_141  D_142 D_143     D_144  D_145  \n",
       "0    0.0   <NA>     0  0.000610      0  \n",
       "1    0.0   <NA>     0  0.005492      0  \n",
       "2    0.0   <NA>     0  0.006986      0  \n",
       "3    0.0   <NA>     0  0.006527      0  \n",
       "4    0.0   <NA>     0  0.008126      0  \n",
       "\n",
       "[5 rows x 190 columns]"
      ]
     },
     "execution_count": 4,
     "metadata": {},
     "output_type": "execute_result"
    }
   ],
   "source": [
    "train.head()"
   ]
  },
  {
   "cell_type": "code",
   "execution_count": 5,
   "id": "48d62fb0",
   "metadata": {
    "execution": {
     "iopub.execute_input": "2022-07-30T16:29:57.301031Z",
     "iopub.status.busy": "2022-07-30T16:29:57.300372Z",
     "iopub.status.idle": "2022-07-30T16:30:01.127680Z",
     "shell.execute_reply": "2022-07-30T16:30:01.126866Z"
    },
    "papermill": {
     "duration": 3.837582,
     "end_time": "2022-07-30T16:30:01.130037",
     "exception": false,
     "start_time": "2022-07-30T16:29:57.292455",
     "status": "completed"
    },
    "tags": []
   },
   "outputs": [
    {
     "name": "stdout",
     "output_type": "stream",
     "text": [
      "shape after engineering (458913, 565)\n"
     ]
    }
   ],
   "source": [
    "def process_and_feature_engineer(df):\n",
    "    # FEATURE ENGINEERING FROM \n",
    "    # https://www.kaggle.com/code/huseyincot/amex-agg-data-how-it-created\n",
    "#     9) nasdaq\n",
    "#     nasdaq_path = '../input/nasdaq/nasdaq.csv'\n",
    "#     nasdaq = cudf.read_csv(nasdaq_path, encoding='utf-8-sig')\n",
    "#     nasdaq.rename(columns={'\\ufeffS_2': 'S_2'}, inplace=True)\n",
    "#     nasdaq.drop(['tradingvolume'], inplace=True, axis=1)\n",
    "#     nasdaq.S_2 = cudf.to_datetime(nasdaq.S_2)\n",
    "#     nasdaq[['closing','open', 'high', 'low']] = nasdaq[['closing','open', 'high', 'low']].astype(float)    \n",
    "#     df = df.merge(nasdaq, on='S_2')\n",
    "    \n",
    "#     1) Drop 'B_29'\n",
    "    df.drop(['B_29'], inplace=True, axis=1)\n",
    "    \n",
    "#     5) D_39에 대한 feature 추가\n",
    "#     df['D_39_div30'] = df['D_39']/30\n",
    "#     10) 마지막 3개월만 이용\n",
    "    df = cudf.concat([df.groupby('customer_ID').nth(-3), df.groupby('customer_ID').nth(-2), df.groupby('customer_ID').nth(-1)]).reset_index()\n",
    "#     6) B1, B2에 연관 feature추가\n",
    "    df['B_1_2'] = df['B_1']/(df['B_2']+0.0000001)\n",
    "#     df['B_1_3'] = (df['B_1']+0.0000001) * (df['B_2']+0.0000001) # 성능하락\n",
    "\n",
    "    \n",
    "    all_cols = [c for c in list(df.columns) if c not in ['customer_ID','S_2']]\n",
    "    cat_features = [\"B_30\",\"B_38\",\"D_114\",\"D_116\",\"D_117\",\"D_120\",\"D_126\",\"D_63\",\"D_64\",\"D_66\",\"D_68\"]\n",
    "    num_features = [col for col in all_cols if col not in cat_features]\n",
    "    \n",
    "#     2) Add customer count\n",
    "    test_count_agg = df.groupby(['customer_ID'])['S_2'].agg(['count'])\n",
    "\n",
    "\n",
    "    test_num_agg = df.groupby(\"customer_ID\")[num_features].agg(['mean', 'max', 'last'])\n",
    "    test_num_agg.columns = ['_'.join(x) for x in test_num_agg.columns]\n",
    "\n",
    "    test_cat_agg = df.groupby(\"customer_ID\")[cat_features].agg(['count', 'last', 'nunique'])\n",
    "    test_cat_agg.columns = ['_'.join(x) for x in test_cat_agg.columns]\n",
    "\n",
    "    df = cudf.concat([test_count_agg,test_num_agg, test_cat_agg], axis=1)\n",
    "    del test_num_agg, test_cat_agg\n",
    "    print('shape after engineering', df.shape )\n",
    "    \n",
    "    return df\n",
    "\n",
    "train = process_and_feature_engineer(train)"
   ]
  },
  {
   "cell_type": "code",
   "execution_count": 6,
   "id": "4f54f8ef",
   "metadata": {
    "execution": {
     "iopub.execute_input": "2022-07-30T16:30:01.147333Z",
     "iopub.status.busy": "2022-07-30T16:30:01.145877Z",
     "iopub.status.idle": "2022-07-30T16:30:02.183307Z",
     "shell.execute_reply": "2022-07-30T16:30:02.182489Z"
    },
    "papermill": {
     "duration": 1.047782,
     "end_time": "2022-07-30T16:30:02.185764",
     "exception": false,
     "start_time": "2022-07-30T16:30:01.137982",
     "status": "completed"
    },
    "tags": []
   },
   "outputs": [
    {
     "name": "stdout",
     "output_type": "stream",
     "text": [
      "There are 565 features!\n"
     ]
    }
   ],
   "source": [
    "# ADD TARGETS\n",
    "targets = cudf.read_csv('../input/amex-default-prediction/train_labels.csv')\n",
    "targets['customer_ID'] = targets['customer_ID'].str[-16:].str.hex_to_int().astype('int64')\n",
    "targets = targets.set_index('customer_ID')\n",
    "train = train.merge(targets, left_index=True, right_index=True, how='left')\n",
    "train.target = train.target.astype('int8')\n",
    "del targets\n",
    "\n",
    "# NEEDED TO MAKE CV DETERMINISTIC (cudf merge above randomly shuffles rows)\n",
    "train = train.sort_index().reset_index()\n",
    "\n",
    "# FEATURES\n",
    "FEATURES = train.columns[1:-1]\n",
    "print(f'There are {len(FEATURES)} features!')"
   ]
  },
  {
   "cell_type": "markdown",
   "id": "fb7155b3",
   "metadata": {
    "papermill": {
     "duration": 0.007498,
     "end_time": "2022-07-30T16:30:02.201417",
     "exception": false,
     "start_time": "2022-07-30T16:30:02.193919",
     "status": "completed"
    },
    "tags": []
   },
   "source": [
    "# Train XGB\n",
    "We will train using `DeviceQuantileDMatrix`. This has a very small GPU memory footprint."
   ]
  },
  {
   "cell_type": "code",
   "execution_count": 7,
   "id": "d23a4a74",
   "metadata": {
    "execution": {
     "iopub.execute_input": "2022-07-30T16:30:02.216850Z",
     "iopub.status.busy": "2022-07-30T16:30:02.216524Z",
     "iopub.status.idle": "2022-07-30T16:30:02.309718Z",
     "shell.execute_reply": "2022-07-30T16:30:02.308368Z"
    },
    "papermill": {
     "duration": 0.102856,
     "end_time": "2022-07-30T16:30:02.311457",
     "exception": false,
     "start_time": "2022-07-30T16:30:02.208601",
     "status": "completed"
    },
    "tags": []
   },
   "outputs": [
    {
     "name": "stdout",
     "output_type": "stream",
     "text": [
      "XGB Version 1.6.1\n"
     ]
    }
   ],
   "source": [
    "# LOAD XGB LIBRARY\n",
    "from sklearn.model_selection import KFold\n",
    "import xgboost as xgb\n",
    "print('XGB Version',xgb.__version__)\n",
    "\n",
    "# XGB MODEL PARAMETERS\n",
    "xgb_parms = { \n",
    "    'max_depth':4, \n",
    "    'learning_rate':0.05, \n",
    "    'subsample':0.8,\n",
    "    'colsample_bytree':0.6, \n",
    "    'eval_metric':'logloss',\n",
    "    'objective':'binary:logistic',\n",
    "    'tree_method':'gpu_hist',\n",
    "    'predictor':'gpu_predictor',\n",
    "    'random_state':SEED\n",
    "}"
   ]
  },
  {
   "cell_type": "code",
   "execution_count": 8,
   "id": "9e20e4cb",
   "metadata": {
    "execution": {
     "iopub.execute_input": "2022-07-30T16:30:02.327543Z",
     "iopub.status.busy": "2022-07-30T16:30:02.326740Z",
     "iopub.status.idle": "2022-07-30T16:30:02.336225Z",
     "shell.execute_reply": "2022-07-30T16:30:02.335511Z"
    },
    "papermill": {
     "duration": 0.019079,
     "end_time": "2022-07-30T16:30:02.337817",
     "exception": false,
     "start_time": "2022-07-30T16:30:02.318738",
     "status": "completed"
    },
    "tags": []
   },
   "outputs": [],
   "source": [
    "# NEEDED WITH DeviceQuantileDMatrix BELOW\n",
    "class IterLoadForDMatrix(xgb.core.DataIter):\n",
    "    def __init__(self, df=None, features=None, target=None, batch_size=256*1024):\n",
    "        self.features = features\n",
    "        self.target = target\n",
    "        self.df = df\n",
    "        self.it = 0 # set iterator to 0\n",
    "        self.batch_size = batch_size\n",
    "        self.batches = int( np.ceil( len(df) / self.batch_size ) )\n",
    "        super().__init__()\n",
    "\n",
    "    def reset(self):\n",
    "        '''Reset the iterator'''\n",
    "        self.it = 0\n",
    "\n",
    "    def next(self, input_data):\n",
    "        '''Yield next batch of data.'''\n",
    "        if self.it == self.batches:\n",
    "            return 0 # Return 0 when there's no more batch.\n",
    "        \n",
    "        a = self.it * self.batch_size\n",
    "        b = min( (self.it + 1) * self.batch_size, len(self.df) )\n",
    "        dt = cudf.DataFrame(self.df.iloc[a:b])\n",
    "        input_data(data=dt[self.features], label=dt[self.target]) #, weight=dt['weight'])\n",
    "        self.it += 1\n",
    "        return 1"
   ]
  },
  {
   "cell_type": "code",
   "execution_count": 9,
   "id": "5f4cbd86",
   "metadata": {
    "execution": {
     "iopub.execute_input": "2022-07-30T16:30:02.353106Z",
     "iopub.status.busy": "2022-07-30T16:30:02.352808Z",
     "iopub.status.idle": "2022-07-30T16:30:02.362504Z",
     "shell.execute_reply": "2022-07-30T16:30:02.361808Z"
    },
    "papermill": {
     "duration": 0.019063,
     "end_time": "2022-07-30T16:30:02.364145",
     "exception": false,
     "start_time": "2022-07-30T16:30:02.345082",
     "status": "completed"
    },
    "tags": []
   },
   "outputs": [],
   "source": [
    "# https://www.kaggle.com/kyakovlev\n",
    "# https://www.kaggle.com/competitions/amex-default-prediction/discussion/327534\n",
    "def amex_metric_mod(y_true, y_pred):\n",
    "\n",
    "    labels     = np.transpose(np.array([y_true, y_pred]))\n",
    "    labels     = labels[labels[:, 1].argsort()[::-1]]\n",
    "    weights    = np.where(labels[:,0]==0, 20, 1)\n",
    "    cut_vals   = labels[np.cumsum(weights) <= int(0.04 * np.sum(weights))]\n",
    "    top_four   = np.sum(cut_vals[:,0]) / np.sum(labels[:,0])\n",
    "\n",
    "    gini = [0,0]\n",
    "    for i in [1,0]:\n",
    "        labels         = np.transpose(np.array([y_true, y_pred]))\n",
    "        labels         = labels[labels[:, i].argsort()[::-1]]\n",
    "        weight         = np.where(labels[:,0]==0, 20, 1)\n",
    "        weight_random  = np.cumsum(weight / np.sum(weight))\n",
    "        total_pos      = np.sum(labels[:, 0] *  weight)\n",
    "        cum_pos_found  = np.cumsum(labels[:, 0] * weight)\n",
    "        lorentz        = cum_pos_found / total_pos\n",
    "        gini[i]        = np.sum((lorentz - weight_random) * weight)\n",
    "\n",
    "    return 0.5 * (gini[1]/gini[0] + top_four)"
   ]
  },
  {
   "cell_type": "code",
   "execution_count": 10,
   "id": "db7e763e",
   "metadata": {
    "execution": {
     "iopub.execute_input": "2022-07-30T16:30:02.379487Z",
     "iopub.status.busy": "2022-07-30T16:30:02.379219Z",
     "iopub.status.idle": "2022-07-30T16:36:25.233913Z",
     "shell.execute_reply": "2022-07-30T16:36:25.233074Z"
    },
    "papermill": {
     "duration": 382.864615,
     "end_time": "2022-07-30T16:36:25.235782",
     "exception": false,
     "start_time": "2022-07-30T16:30:02.371167",
     "status": "completed"
    },
    "scrolled": true,
    "tags": []
   },
   "outputs": [
    {
     "name": "stdout",
     "output_type": "stream",
     "text": [
      "#########################\n",
      "### Fold 1\n",
      "### Train size 367130 Valid size 91783\n",
      "### Training with 100% fold data...\n",
      "#########################\n",
      "[0]\ttrain-logloss:0.66200\tvalid-logloss:0.66206\n",
      "[100]\ttrain-logloss:0.23819\tvalid-logloss:0.24069\n",
      "[200]\ttrain-logloss:0.22417\tvalid-logloss:0.22887\n",
      "[300]\ttrain-logloss:0.21839\tvalid-logloss:0.22501\n",
      "[400]\ttrain-logloss:0.21462\tvalid-logloss:0.22309\n",
      "[500]\ttrain-logloss:0.21169\tvalid-logloss:0.22196\n",
      "[600]\ttrain-logloss:0.20924\tvalid-logloss:0.22122\n",
      "[700]\ttrain-logloss:0.20692\tvalid-logloss:0.22069\n",
      "[800]\ttrain-logloss:0.20484\tvalid-logloss:0.22031\n",
      "[900]\ttrain-logloss:0.20284\tvalid-logloss:0.21999\n",
      "[1000]\ttrain-logloss:0.20094\tvalid-logloss:0.21977\n",
      "[1100]\ttrain-logloss:0.19908\tvalid-logloss:0.21963\n",
      "[1200]\ttrain-logloss:0.19730\tvalid-logloss:0.21943\n",
      "[1300]\ttrain-logloss:0.19564\tvalid-logloss:0.21936\n",
      "[1400]\ttrain-logloss:0.19396\tvalid-logloss:0.21932\n",
      "[1500]\ttrain-logloss:0.19226\tvalid-logloss:0.21921\n",
      "[1600]\ttrain-logloss:0.19061\tvalid-logloss:0.21917\n",
      "[1700]\ttrain-logloss:0.18909\tvalid-logloss:0.21919\n",
      "[1705]\ttrain-logloss:0.18900\tvalid-logloss:0.21916\n",
      "Kaggle Metric = 0.7884440088538976 \n",
      "\n",
      "#########################\n",
      "### Fold 2\n",
      "### Train size 367130 Valid size 91783\n",
      "### Training with 100% fold data...\n",
      "#########################\n",
      "[0]\ttrain-logloss:0.66204\tvalid-logloss:0.66199\n",
      "[100]\ttrain-logloss:0.23857\tvalid-logloss:0.23924\n",
      "[200]\ttrain-logloss:0.22468\tvalid-logloss:0.22714\n",
      "[300]\ttrain-logloss:0.21886\tvalid-logloss:0.22332\n",
      "[400]\ttrain-logloss:0.21505\tvalid-logloss:0.22143\n",
      "[500]\ttrain-logloss:0.21214\tvalid-logloss:0.22034\n",
      "[600]\ttrain-logloss:0.20960\tvalid-logloss:0.21963\n",
      "[700]\ttrain-logloss:0.20742\tvalid-logloss:0.21917\n",
      "[800]\ttrain-logloss:0.20524\tvalid-logloss:0.21877\n",
      "[900]\ttrain-logloss:0.20321\tvalid-logloss:0.21856\n",
      "[1000]\ttrain-logloss:0.20135\tvalid-logloss:0.21835\n",
      "[1100]\ttrain-logloss:0.19943\tvalid-logloss:0.21815\n",
      "[1200]\ttrain-logloss:0.19764\tvalid-logloss:0.21807\n",
      "[1300]\ttrain-logloss:0.19590\tvalid-logloss:0.21797\n",
      "[1400]\ttrain-logloss:0.19423\tvalid-logloss:0.21792\n",
      "[1500]\ttrain-logloss:0.19260\tvalid-logloss:0.21792\n",
      "[1600]\ttrain-logloss:0.19104\tvalid-logloss:0.21785\n",
      "[1700]\ttrain-logloss:0.18942\tvalid-logloss:0.21785\n",
      "[1800]\ttrain-logloss:0.18782\tvalid-logloss:0.21787\n",
      "[1849]\ttrain-logloss:0.18703\tvalid-logloss:0.21789\n",
      "Kaggle Metric = 0.7919226922759104 \n",
      "\n",
      "#########################\n",
      "### Fold 3\n",
      "### Train size 367130 Valid size 91783\n",
      "### Training with 100% fold data...\n",
      "#########################\n",
      "[0]\ttrain-logloss:0.66196\tvalid-logloss:0.66206\n",
      "[100]\ttrain-logloss:0.23792\tvalid-logloss:0.24208\n",
      "[200]\ttrain-logloss:0.22390\tvalid-logloss:0.23052\n",
      "[300]\ttrain-logloss:0.21806\tvalid-logloss:0.22658\n",
      "[400]\ttrain-logloss:0.21436\tvalid-logloss:0.22480\n",
      "[500]\ttrain-logloss:0.21133\tvalid-logloss:0.22386\n",
      "[600]\ttrain-logloss:0.20877\tvalid-logloss:0.22319\n",
      "[700]\ttrain-logloss:0.20643\tvalid-logloss:0.22267\n",
      "[800]\ttrain-logloss:0.20432\tvalid-logloss:0.22237\n",
      "[900]\ttrain-logloss:0.20229\tvalid-logloss:0.22209\n",
      "[1000]\ttrain-logloss:0.20040\tvalid-logloss:0.22198\n",
      "[1100]\ttrain-logloss:0.19857\tvalid-logloss:0.22186\n",
      "[1200]\ttrain-logloss:0.19678\tvalid-logloss:0.22181\n",
      "[1300]\ttrain-logloss:0.19508\tvalid-logloss:0.22172\n",
      "[1400]\ttrain-logloss:0.19337\tvalid-logloss:0.22163\n",
      "[1470]\ttrain-logloss:0.19222\tvalid-logloss:0.22168\n",
      "Kaggle Metric = 0.786326611309526 \n",
      "\n",
      "#########################\n",
      "### Fold 4\n",
      "### Train size 367131 Valid size 91782\n",
      "### Training with 100% fold data...\n",
      "#########################\n",
      "[0]\ttrain-logloss:0.66196\tvalid-logloss:0.66212\n",
      "[100]\ttrain-logloss:0.23790\tvalid-logloss:0.24247\n",
      "[200]\ttrain-logloss:0.22390\tvalid-logloss:0.23075\n",
      "[300]\ttrain-logloss:0.21806\tvalid-logloss:0.22702\n",
      "[400]\ttrain-logloss:0.21425\tvalid-logloss:0.22519\n",
      "[500]\ttrain-logloss:0.21131\tvalid-logloss:0.22413\n",
      "[600]\ttrain-logloss:0.20879\tvalid-logloss:0.22339\n",
      "[700]\ttrain-logloss:0.20652\tvalid-logloss:0.22287\n",
      "[800]\ttrain-logloss:0.20438\tvalid-logloss:0.22253\n",
      "[900]\ttrain-logloss:0.20244\tvalid-logloss:0.22230\n",
      "[1000]\ttrain-logloss:0.20059\tvalid-logloss:0.22215\n",
      "[1100]\ttrain-logloss:0.19869\tvalid-logloss:0.22198\n",
      "[1200]\ttrain-logloss:0.19688\tvalid-logloss:0.22191\n",
      "[1300]\ttrain-logloss:0.19517\tvalid-logloss:0.22184\n",
      "[1400]\ttrain-logloss:0.19347\tvalid-logloss:0.22179\n",
      "[1500]\ttrain-logloss:0.19181\tvalid-logloss:0.22173\n",
      "[1586]\ttrain-logloss:0.19044\tvalid-logloss:0.22175\n",
      "Kaggle Metric = 0.7848025460125122 \n",
      "\n",
      "#########################\n",
      "### Fold 5\n",
      "### Train size 367131 Valid size 91782\n",
      "### Training with 100% fold data...\n",
      "#########################\n",
      "[0]\ttrain-logloss:0.66203\tvalid-logloss:0.66197\n",
      "[100]\ttrain-logloss:0.23885\tvalid-logloss:0.23927\n",
      "[200]\ttrain-logloss:0.22488\tvalid-logloss:0.22732\n",
      "[300]\ttrain-logloss:0.21902\tvalid-logloss:0.22330\n",
      "[400]\ttrain-logloss:0.21528\tvalid-logloss:0.22119\n",
      "[500]\ttrain-logloss:0.21234\tvalid-logloss:0.22000\n",
      "[600]\ttrain-logloss:0.20979\tvalid-logloss:0.21914\n",
      "[700]\ttrain-logloss:0.20747\tvalid-logloss:0.21859\n",
      "[800]\ttrain-logloss:0.20532\tvalid-logloss:0.21825\n",
      "[900]\ttrain-logloss:0.20330\tvalid-logloss:0.21796\n",
      "[1000]\ttrain-logloss:0.20140\tvalid-logloss:0.21776\n",
      "[1100]\ttrain-logloss:0.19952\tvalid-logloss:0.21759\n",
      "[1200]\ttrain-logloss:0.19775\tvalid-logloss:0.21745\n",
      "[1300]\ttrain-logloss:0.19605\tvalid-logloss:0.21743\n",
      "[1400]\ttrain-logloss:0.19440\tvalid-logloss:0.21736\n",
      "[1500]\ttrain-logloss:0.19272\tvalid-logloss:0.21725\n",
      "[1600]\ttrain-logloss:0.19110\tvalid-logloss:0.21722\n",
      "[1700]\ttrain-logloss:0.18952\tvalid-logloss:0.21712\n",
      "[1800]\ttrain-logloss:0.18795\tvalid-logloss:0.21712\n",
      "[1806]\ttrain-logloss:0.18786\tvalid-logloss:0.21711\n",
      "Kaggle Metric = 0.7943277369062753 \n",
      "\n",
      "#########################\n",
      "OVERALL CV Kaggle Metric = 0.7891698209722169\n"
     ]
    }
   ],
   "source": [
    "importances = []\n",
    "oof = []\n",
    "train = train.to_pandas() # free GPU memory\n",
    "TRAIN_SUBSAMPLE = 1.0\n",
    "gc.collect()\n",
    "\n",
    "skf = KFold(n_splits=FOLDS, shuffle=True, random_state=SEED)\n",
    "for fold,(train_idx, valid_idx) in enumerate(skf.split(\n",
    "            train, train.target )):\n",
    "    \n",
    "    # TRAIN WITH SUBSAMPLE OF TRAIN FOLD DATA\n",
    "    if TRAIN_SUBSAMPLE<1.0:\n",
    "        np.random.seed(SEED)\n",
    "        train_idx = np.random.choice(train_idx, \n",
    "                       int(len(train_idx)*TRAIN_SUBSAMPLE), replace=False)\n",
    "        np.random.seed(None)\n",
    "    \n",
    "    print('#'*25)\n",
    "    print('### Fold',fold+1)\n",
    "    print('### Train size',len(train_idx),'Valid size',len(valid_idx))\n",
    "    print(f'### Training with {int(TRAIN_SUBSAMPLE*100)}% fold data...')\n",
    "    print('#'*25)\n",
    "    \n",
    "    # TRAIN, VALID, TEST FOR FOLD K\n",
    "    Xy_train = IterLoadForDMatrix(train.loc[train_idx], FEATURES, 'target')\n",
    "    X_valid = train.loc[valid_idx, FEATURES]\n",
    "    y_valid = train.loc[valid_idx, 'target']\n",
    "    \n",
    "    dtrain = xgb.DeviceQuantileDMatrix(Xy_train, max_bin=256)\n",
    "    dvalid = xgb.DMatrix(data=X_valid, label=y_valid)\n",
    "    \n",
    "    # TRAIN MODEL FOLD K\n",
    "    model = xgb.train(xgb_parms, \n",
    "                dtrain=dtrain,\n",
    "                evals=[(dtrain,'train'),(dvalid,'valid')],\n",
    "                num_boost_round=9999,\n",
    "                early_stopping_rounds=100,\n",
    "                verbose_eval=100) \n",
    "    model.save_model(f'XGB_v{VER}_fold{fold}.xgb')\n",
    "    \n",
    "    # GET FEATURE IMPORTANCE FOR FOLD K\n",
    "    dd = model.get_score(importance_type='weight')\n",
    "    df = pd.DataFrame({'feature':dd.keys(),f'importance_{fold}':dd.values()})\n",
    "    importances.append(df)\n",
    "            \n",
    "    # INFER OOF FOLD K\n",
    "    oof_preds = model.predict(dvalid)\n",
    "    acc = amex_metric_mod(y_valid.values, oof_preds)\n",
    "    print('Kaggle Metric =',acc,'\\n')\n",
    "    \n",
    "    # SAVE OOF\n",
    "    df = train.loc[valid_idx, ['customer_ID','target'] ].copy()\n",
    "    df['oof_pred'] = oof_preds\n",
    "    oof.append( df )\n",
    "    \n",
    "    del dtrain, Xy_train, dd, df\n",
    "    del X_valid, y_valid, dvalid, model\n",
    "    _ = gc.collect()\n",
    "    \n",
    "print('#'*25)\n",
    "oof = pd.concat(oof,axis=0,ignore_index=True).set_index('customer_ID')\n",
    "acc = amex_metric_mod(oof.target.values, oof.oof_pred.values)\n",
    "print('OVERALL CV Kaggle Metric =',acc)"
   ]
  },
  {
   "cell_type": "code",
   "execution_count": 11,
   "id": "6b02e2cf",
   "metadata": {
    "execution": {
     "iopub.execute_input": "2022-07-30T16:36:25.265080Z",
     "iopub.status.busy": "2022-07-30T16:36:25.264353Z",
     "iopub.status.idle": "2022-07-30T16:36:25.400659Z",
     "shell.execute_reply": "2022-07-30T16:36:25.399844Z"
    },
    "papermill": {
     "duration": 0.15344,
     "end_time": "2022-07-30T16:36:25.402709",
     "exception": false,
     "start_time": "2022-07-30T16:36:25.249269",
     "status": "completed"
    },
    "tags": []
   },
   "outputs": [],
   "source": [
    "# CLEAN RAM\n",
    "del train\n",
    "_ = gc.collect()"
   ]
  },
  {
   "cell_type": "markdown",
   "id": "ee2b681f",
   "metadata": {
    "papermill": {
     "duration": 0.012647,
     "end_time": "2022-07-30T16:36:25.428886",
     "exception": false,
     "start_time": "2022-07-30T16:36:25.416239",
     "status": "completed"
    },
    "tags": []
   },
   "source": [
    "# Save OOF Preds"
   ]
  },
  {
   "cell_type": "code",
   "execution_count": 12,
   "id": "8879ebc9",
   "metadata": {
    "execution": {
     "iopub.execute_input": "2022-07-30T16:36:25.456200Z",
     "iopub.status.busy": "2022-07-30T16:36:25.455350Z",
     "iopub.status.idle": "2022-07-30T16:36:30.448084Z",
     "shell.execute_reply": "2022-07-30T16:36:30.447312Z"
    },
    "papermill": {
     "duration": 5.008182,
     "end_time": "2022-07-30T16:36:30.449890",
     "exception": false,
     "start_time": "2022-07-30T16:36:25.441708",
     "status": "completed"
    },
    "tags": []
   },
   "outputs": [
    {
     "data": {
      "text/html": [
       "<div>\n",
       "<style scoped>\n",
       "    .dataframe tbody tr th:only-of-type {\n",
       "        vertical-align: middle;\n",
       "    }\n",
       "\n",
       "    .dataframe tbody tr th {\n",
       "        vertical-align: top;\n",
       "    }\n",
       "\n",
       "    .dataframe thead th {\n",
       "        text-align: right;\n",
       "    }\n",
       "</style>\n",
       "<table border=\"1\" class=\"dataframe\">\n",
       "  <thead>\n",
       "    <tr style=\"text-align: right;\">\n",
       "      <th></th>\n",
       "      <th>customer_ID</th>\n",
       "      <th>target</th>\n",
       "      <th>oof_pred</th>\n",
       "    </tr>\n",
       "  </thead>\n",
       "  <tbody>\n",
       "    <tr>\n",
       "      <th>0</th>\n",
       "      <td>20eac26171c3d251c55fc78204e59fab1c15fc2bc96d0c...</td>\n",
       "      <td>1</td>\n",
       "      <td>0.572531</td>\n",
       "    </tr>\n",
       "    <tr>\n",
       "      <th>1</th>\n",
       "      <td>aea50fdf9b974ccec95fa177c3225a0f913483b457de6e...</td>\n",
       "      <td>0</td>\n",
       "      <td>0.000405</td>\n",
       "    </tr>\n",
       "    <tr>\n",
       "      <th>2</th>\n",
       "      <td>32cd2d41aef737b69089882754395925c96eaee1f4a859...</td>\n",
       "      <td>0</td>\n",
       "      <td>0.002195</td>\n",
       "    </tr>\n",
       "    <tr>\n",
       "      <th>3</th>\n",
       "      <td>8daa6d5dc2655a8a437531e6b8b96829113cdfe9bf6cae...</td>\n",
       "      <td>0</td>\n",
       "      <td>0.012250</td>\n",
       "    </tr>\n",
       "    <tr>\n",
       "      <th>4</th>\n",
       "      <td>0ceba351a3851202542feb49d7385bcef32f6037fc57c7...</td>\n",
       "      <td>1</td>\n",
       "      <td>0.896128</td>\n",
       "    </tr>\n",
       "  </tbody>\n",
       "</table>\n",
       "</div>"
      ],
      "text/plain": [
       "                                         customer_ID  target  oof_pred\n",
       "0  20eac26171c3d251c55fc78204e59fab1c15fc2bc96d0c...       1  0.572531\n",
       "1  aea50fdf9b974ccec95fa177c3225a0f913483b457de6e...       0  0.000405\n",
       "2  32cd2d41aef737b69089882754395925c96eaee1f4a859...       0  0.002195\n",
       "3  8daa6d5dc2655a8a437531e6b8b96829113cdfe9bf6cae...       0  0.012250\n",
       "4  0ceba351a3851202542feb49d7385bcef32f6037fc57c7...       1  0.896128"
      ]
     },
     "execution_count": 12,
     "metadata": {},
     "output_type": "execute_result"
    }
   ],
   "source": [
    "oof_xgb = pd.read_parquet(TRAIN_PATH, columns=['customer_ID']).drop_duplicates()\n",
    "oof_xgb['customer_ID_hash'] = oof_xgb['customer_ID'].apply(lambda x: int(x[-16:],16) ).astype('int64')\n",
    "oof_xgb = oof_xgb.set_index('customer_ID_hash')\n",
    "oof_xgb = oof_xgb.merge(oof, left_index=True, right_index=True)\n",
    "oof_xgb = oof_xgb.sort_index().reset_index(drop=True)\n",
    "oof_xgb.to_csv(f'oof_xgb_v{VER}.csv',index=False)\n",
    "oof_xgb.head()"
   ]
  },
  {
   "cell_type": "code",
   "execution_count": 13,
   "id": "e22c6c11",
   "metadata": {
    "execution": {
     "iopub.execute_input": "2022-07-30T16:36:30.479231Z",
     "iopub.status.busy": "2022-07-30T16:36:30.478435Z",
     "iopub.status.idle": "2022-07-30T16:36:30.847429Z",
     "shell.execute_reply": "2022-07-30T16:36:30.846686Z"
    },
    "papermill": {
     "duration": 0.385602,
     "end_time": "2022-07-30T16:36:30.849230",
     "exception": false,
     "start_time": "2022-07-30T16:36:30.463628",
     "status": "completed"
    },
    "tags": []
   },
   "outputs": [
    {
     "data": {
      "image/png": "[encoded data removed]",
      "text/plain": [
       "<Figure size 432x288 with 1 Axes>"
      ]
     },
     "metadata": {
      "needs_background": "light"
     },
     "output_type": "display_data"
    }
   ],
   "source": [
    "# PLOT OOF PREDICTIONS\n",
    "plt.hist(oof_xgb.oof_pred.values, bins=100)\n",
    "plt.title('OOF Predictions')\n",
    "plt.show()"
   ]
  },
  {
   "cell_type": "code",
   "execution_count": 14,
   "id": "5cc12237",
   "metadata": {
    "execution": {
     "iopub.execute_input": "2022-07-30T16:36:30.878042Z",
     "iopub.status.busy": "2022-07-30T16:36:30.877508Z",
     "iopub.status.idle": "2022-07-30T16:36:31.016135Z",
     "shell.execute_reply": "2022-07-30T16:36:31.014725Z"
    },
    "papermill": {
     "duration": 0.155547,
     "end_time": "2022-07-30T16:36:31.018225",
     "exception": false,
     "start_time": "2022-07-30T16:36:30.862678",
     "status": "completed"
    },
    "tags": []
   },
   "outputs": [],
   "source": [
    "# CLEAR VRAM, RAM FOR INFERENCE BELOW\n",
    "del oof_xgb, oof\n",
    "_ = gc.collect()"
   ]
  },
  {
   "cell_type": "markdown",
   "id": "31919e89",
   "metadata": {
    "papermill": {
     "duration": 0.013203,
     "end_time": "2022-07-30T16:36:31.045627",
     "exception": false,
     "start_time": "2022-07-30T16:36:31.032424",
     "status": "completed"
    },
    "tags": []
   },
   "source": [
    "# Feature Importance"
   ]
  },
  {
   "cell_type": "code",
   "execution_count": 15,
   "id": "f5046e8c",
   "metadata": {
    "execution": {
     "iopub.execute_input": "2022-07-30T16:36:31.073894Z",
     "iopub.status.busy": "2022-07-30T16:36:31.073553Z",
     "iopub.status.idle": "2022-07-30T16:36:31.099995Z",
     "shell.execute_reply": "2022-07-30T16:36:31.099111Z"
    },
    "papermill": {
     "duration": 0.042989,
     "end_time": "2022-07-30T16:36:31.102090",
     "exception": false,
     "start_time": "2022-07-30T16:36:31.059101",
     "status": "completed"
    },
    "tags": []
   },
   "outputs": [],
   "source": [
    "import matplotlib.pyplot as plt\n",
    "\n",
    "df = importances[0].copy()\n",
    "for k in range(1,FOLDS): df = df.merge(importances[k], on='feature', how='left')\n",
    "df['importance'] = df.iloc[:,1:].mean(axis=1)\n",
    "df = df.sort_values('importance',ascending=False)\n",
    "df.to_csv(f'xgb_feature_importance_v{VER}.csv',index=False)"
   ]
  },
  {
   "cell_type": "code",
   "execution_count": 16,
   "id": "d854ebd8",
   "metadata": {
    "execution": {
     "iopub.execute_input": "2022-07-30T16:36:31.130317Z",
     "iopub.status.busy": "2022-07-30T16:36:31.129511Z",
     "iopub.status.idle": "2022-07-30T16:36:31.382486Z",
     "shell.execute_reply": "2022-07-30T16:36:31.381681Z"
    },
    "papermill": {
     "duration": 0.268719,
     "end_time": "2022-07-30T16:36:31.384226",
     "exception": false,
     "start_time": "2022-07-30T16:36:31.115507",
     "status": "completed"
    },
    "tags": []
   },
   "outputs": [
    {
     "data": {
      "image/png": "[encoded data removed]",
      "text/plain": [
       "<Figure size 720x720 with 1 Axes>"
      ]
     },
     "metadata": {
      "needs_background": "light"
     },
     "output_type": "display_data"
    }
   ],
   "source": [
    "NUM_FEATURES = 20\n",
    "plt.figure(figsize=(10,5*NUM_FEATURES//10))\n",
    "plt.barh(np.arange(NUM_FEATURES,0,-1), df.importance.values[:NUM_FEATURES])\n",
    "plt.yticks(np.arange(NUM_FEATURES,0,-1), df.feature.values[:NUM_FEATURES])\n",
    "plt.title(f'XGB Feature Importance - Top {NUM_FEATURES}')\n",
    "plt.show()"
   ]
  },
  {
   "cell_type": "markdown",
   "id": "cdc5c8a5",
   "metadata": {
    "papermill": {
     "duration": 0.013801,
     "end_time": "2022-07-30T16:36:31.412237",
     "exception": false,
     "start_time": "2022-07-30T16:36:31.398436",
     "status": "completed"
    },
    "tags": []
   },
   "source": [
    "# Process and Feature Engineer Test Data\n",
    "We will load @raddar Kaggle dataset from [here][1] with discussion [here][2]. Then we will engineer features suggested by @huseyincot in his notebooks [here][1] and [here][4]. We will use [RAPIDS][5] and the GPU to create new features quickly.\n",
    "\n",
    "[1]: https://www.kaggle.com/datasets/raddar/amex-data-integer-dtypes-parquet-format\n",
    "[2]: https://www.kaggle.com/competitions/amex-default-prediction/discussion/328514\n",
    "[3]: https://www.kaggle.com/code/huseyincot/amex-catboost-0-793\n",
    "[4]: https://www.kaggle.com/code/huseyincot/amex-agg-data-how-it-created\n",
    "[5]: https://rapids.ai/"
   ]
  },
  {
   "cell_type": "code",
   "execution_count": 17,
   "id": "967dcc94",
   "metadata": {
    "execution": {
     "iopub.execute_input": "2022-07-30T16:36:31.440725Z",
     "iopub.status.busy": "2022-07-30T16:36:31.440384Z",
     "iopub.status.idle": "2022-07-30T16:36:33.892068Z",
     "shell.execute_reply": "2022-07-30T16:36:33.890668Z"
    },
    "papermill": {
     "duration": 2.468441,
     "end_time": "2022-07-30T16:36:33.894174",
     "exception": false,
     "start_time": "2022-07-30T16:36:31.425733",
     "status": "completed"
    },
    "tags": []
   },
   "outputs": [
    {
     "name": "stdout",
     "output_type": "stream",
     "text": [
      "Reading test data...\n",
      "shape of data: (11363762, 2)\n",
      "We will process test data as 4 separate parts.\n",
      "There will be 231155 customers in each part (except the last part).\n",
      "Below are number of rows in each part:\n",
      "[2841209, 2839857, 2842105, 2840591]\n"
     ]
    }
   ],
   "source": [
    "# CALCULATE SIZE OF EACH SEPARATE TEST PART\n",
    "def get_rows(customers, test, NUM_PARTS = 4, verbose = ''):\n",
    "    chunk = len(customers)//NUM_PARTS\n",
    "    if verbose != '':\n",
    "        print(f'We will process {verbose} data as {NUM_PARTS} separate parts.')\n",
    "        print(f'There will be {chunk} customers in each part (except the last part).')\n",
    "        print('Below are number of rows in each part:')\n",
    "    rows = []\n",
    "\n",
    "    for k in range(NUM_PARTS):\n",
    "        if k==NUM_PARTS-1: cc = customers[k*chunk:]\n",
    "        else: cc = customers[k*chunk:(k+1)*chunk]\n",
    "        s = test.loc[test.customer_ID.isin(cc)].shape[0]\n",
    "        rows.append(s)\n",
    "    if verbose != '': print( rows )\n",
    "    return rows,chunk\n",
    "\n",
    "# COMPUTE SIZE OF 4 PARTS FOR TEST DATA\n",
    "NUM_PARTS = 4\n",
    "TEST_PATH = '../input/amex-data-integer-dtypes-parquet-format/test.parquet'\n",
    "\n",
    "print(f'Reading test data...')\n",
    "test = read_file(path = TEST_PATH, usecols = ['customer_ID','S_2'])\n",
    "customers = test[['customer_ID']].drop_duplicates().sort_index().values.flatten()\n",
    "rows,num_cust = get_rows(customers, test[['customer_ID']], NUM_PARTS = NUM_PARTS, verbose = 'test')"
   ]
  },
  {
   "cell_type": "markdown",
   "id": "25c96339",
   "metadata": {
    "papermill": {
     "duration": 0.015004,
     "end_time": "2022-07-30T16:36:33.923939",
     "exception": false,
     "start_time": "2022-07-30T16:36:33.908935",
     "status": "completed"
    },
    "tags": []
   },
   "source": [
    "# Infer Test"
   ]
  },
  {
   "cell_type": "code",
   "execution_count": 18,
   "id": "af892a2f",
   "metadata": {
    "execution": {
     "iopub.execute_input": "2022-07-30T16:36:33.952540Z",
     "iopub.status.busy": "2022-07-30T16:36:33.952227Z",
     "iopub.status.idle": "2022-07-30T16:38:37.983708Z",
     "shell.execute_reply": "2022-07-30T16:38:37.982808Z"
    },
    "papermill": {
     "duration": 124.048453,
     "end_time": "2022-07-30T16:38:37.985932",
     "exception": false,
     "start_time": "2022-07-30T16:36:33.937479",
     "status": "completed"
    },
    "tags": []
   },
   "outputs": [
    {
     "name": "stdout",
     "output_type": "stream",
     "text": [
      "\n",
      "Reading test data...\n",
      "shape of data: (11363762, 190)\n",
      "=> Test part 1 has shape (2841209, 190)\n",
      "shape after engineering (231155, 565)\n",
      "\n",
      "Reading test data...\n",
      "shape of data: (11363762, 190)\n",
      "=> Test part 2 has shape (2839857, 190)\n",
      "shape after engineering (231155, 565)\n",
      "\n",
      "Reading test data...\n",
      "shape of data: (11363762, 190)\n",
      "=> Test part 3 has shape (2842105, 190)\n",
      "shape after engineering (231155, 565)\n",
      "\n",
      "Reading test data...\n",
      "shape of data: (11363762, 190)\n",
      "=> Test part 4 has shape (2840591, 190)\n",
      "shape after engineering (231156, 565)\n"
     ]
    }
   ],
   "source": [
    "# INFER TEST DATA IN PARTS\n",
    "skip_rows = 0\n",
    "skip_cust = 0\n",
    "test_preds = []\n",
    "\n",
    "for k in range(NUM_PARTS):\n",
    "    \n",
    "    # READ PART OF TEST DATA\n",
    "    print(f'\\nReading test data...')\n",
    "    test = read_file(path = TEST_PATH)\n",
    "    test = test.iloc[skip_rows:skip_rows+rows[k]]\n",
    "    skip_rows += rows[k]\n",
    "    print(f'=> Test part {k+1} has shape', test.shape )\n",
    "    \n",
    "    # PROCESS AND FEATURE ENGINEER PART OF TEST DATA\n",
    "    test = process_and_feature_engineer(test)\n",
    "    if k==NUM_PARTS-1: test = test.loc[customers[skip_cust:]]\n",
    "    else: test = test.loc[customers[skip_cust:skip_cust+num_cust]]\n",
    "    skip_cust += num_cust\n",
    "    \n",
    "    # TEST DATA FOR XGB\n",
    "    X_test = test[FEATURES]\n",
    "    dtest = xgb.DMatrix(data=X_test)\n",
    "    test = test[['P_2_mean']] # reduce memory\n",
    "    del X_test\n",
    "    gc.collect()\n",
    "\n",
    "    # INFER XGB MODELS ON TEST DATA\n",
    "    model = xgb.Booster()\n",
    "    model.load_model(f'XGB_v{VER}_fold0.xgb')\n",
    "    preds = model.predict(dtest)\n",
    "    for f in range(1,FOLDS):\n",
    "        model.load_model(f'XGB_v{VER}_fold{f}.xgb')\n",
    "        preds += model.predict(dtest)\n",
    "    preds /= FOLDS\n",
    "    test_preds.append(preds)\n",
    "\n",
    "    # CLEAN MEMORY\n",
    "    del dtest, model\n",
    "    _ = gc.collect()"
   ]
  },
  {
   "cell_type": "markdown",
   "id": "3d228e6d",
   "metadata": {
    "papermill": {
     "duration": 0.014503,
     "end_time": "2022-07-30T16:38:38.015818",
     "exception": false,
     "start_time": "2022-07-30T16:38:38.001315",
     "status": "completed"
    },
    "tags": []
   },
   "source": [
    "# Create Submission CSV"
   ]
  },
  {
   "cell_type": "code",
   "execution_count": 19,
   "id": "0649a3f0",
   "metadata": {
    "execution": {
     "iopub.execute_input": "2022-07-30T16:38:38.045778Z",
     "iopub.status.busy": "2022-07-30T16:38:38.045441Z",
     "iopub.status.idle": "2022-07-30T16:38:39.225770Z",
     "shell.execute_reply": "2022-07-30T16:38:39.224443Z"
    },
    "papermill": {
     "duration": 1.198352,
     "end_time": "2022-07-30T16:38:39.228546",
     "exception": false,
     "start_time": "2022-07-30T16:38:38.030194",
     "status": "completed"
    },
    "tags": []
   },
   "outputs": [
    {
     "name": "stdout",
     "output_type": "stream",
     "text": [
      "Submission file shape is (924621, 2)\n"
     ]
    },
    {
     "data": {
      "text/html": [
       "<div>\n",
       "<style scoped>\n",
       "    .dataframe tbody tr th:only-of-type {\n",
       "        vertical-align: middle;\n",
       "    }\n",
       "\n",
       "    .dataframe tbody tr th {\n",
       "        vertical-align: top;\n",
       "    }\n",
       "\n",
       "    .dataframe thead th {\n",
       "        text-align: right;\n",
       "    }\n",
       "</style>\n",
       "<table border=\"1\" class=\"dataframe\">\n",
       "  <thead>\n",
       "    <tr style=\"text-align: right;\">\n",
       "      <th></th>\n",
       "      <th>customer_ID</th>\n",
       "      <th>prediction</th>\n",
       "    </tr>\n",
       "  </thead>\n",
       "  <tbody>\n",
       "    <tr>\n",
       "      <th>0</th>\n",
       "      <td>03999d5e3bd61a69504cc6e7025c260c1ed2e5b449dba5...</td>\n",
       "      <td>0.136795</td>\n",
       "    </tr>\n",
       "    <tr>\n",
       "      <th>1</th>\n",
       "      <td>039b4f21aa584fb0c3c7055beabc098af55013f9f25515...</td>\n",
       "      <td>0.005713</td>\n",
       "    </tr>\n",
       "    <tr>\n",
       "      <th>2</th>\n",
       "      <td>039a6aea85575ebd33eec75e5c45bc7973481b81a99b62...</td>\n",
       "      <td>0.074318</td>\n",
       "    </tr>\n",
       "    <tr>\n",
       "      <th>3</th>\n",
       "      <td>039bd96164c6567580b24ba13c2b85b60f4554eb43d55b...</td>\n",
       "      <td>0.448785</td>\n",
       "    </tr>\n",
       "    <tr>\n",
       "      <th>4</th>\n",
       "      <td>0399a5a95461ced4134cd9693712fb012351cca1bde04d...</td>\n",
       "      <td>0.000186</td>\n",
       "    </tr>\n",
       "  </tbody>\n",
       "</table>\n",
       "</div>"
      ],
      "text/plain": [
       "                                         customer_ID  prediction\n",
       "0  03999d5e3bd61a69504cc6e7025c260c1ed2e5b449dba5...    0.136795\n",
       "1  039b4f21aa584fb0c3c7055beabc098af55013f9f25515...    0.005713\n",
       "2  039a6aea85575ebd33eec75e5c45bc7973481b81a99b62...    0.074318\n",
       "3  039bd96164c6567580b24ba13c2b85b60f4554eb43d55b...    0.448785\n",
       "4  0399a5a95461ced4134cd9693712fb012351cca1bde04d...    0.000186"
      ]
     },
     "execution_count": 19,
     "metadata": {},
     "output_type": "execute_result"
    }
   ],
   "source": [
    "# WRITE SUBMISSION FILE\n",
    "test_preds = np.concatenate(test_preds)\n",
    "test = cudf.DataFrame(index=customers,data={'prediction':test_preds})\n",
    "sub = cudf.read_csv('../input/amex-default-prediction/sample_submission.csv')[['customer_ID']]\n",
    "sub['customer_ID_hash'] = sub['customer_ID'].str[-16:].str.hex_to_int().astype('int64')\n",
    "sub = sub.set_index('customer_ID_hash')\n",
    "sub = sub.merge(test[['prediction']], left_index=True, right_index=True, how='left')\n",
    "sub = sub.reset_index(drop=True)\n",
    "\n",
    "# DISPLAY PREDICTIONS\n",
    "sub.to_csv(f'submission_xgb_v{VER}.csv',index=False)\n",
    "print('Submission file shape is', sub.shape )\n",
    "sub.head()"
   ]
  },
  {
   "cell_type": "code",
   "execution_count": 20,
   "id": "4caf42a2",
   "metadata": {
    "execution": {
     "iopub.execute_input": "2022-07-30T16:38:39.261179Z",
     "iopub.status.busy": "2022-07-30T16:38:39.260872Z",
     "iopub.status.idle": "2022-07-30T16:38:39.976411Z",
     "shell.execute_reply": "2022-07-30T16:38:39.975687Z"
    },
    "papermill": {
     "duration": 0.73346,
     "end_time": "2022-07-30T16:38:39.978162",
     "exception": false,
     "start_time": "2022-07-30T16:38:39.244702",
     "status": "completed"
    },
    "tags": []
   },
   "outputs": [
    {
     "data": {
      "image/png": "[encoded data removed]",
      "text/plain": [
       "<Figure size 432x288 with 1 Axes>"
      ]
     },
     "metadata": {
      "needs_background": "light"
     },
     "output_type": "display_data"
    }
   ],
   "source": [
    "# PLOT PREDICTIONS\n",
    "plt.hist(sub.to_pandas().prediction, bins=100)\n",
    "plt.title('Test Predictions')\n",
    "plt.show()"
   ]
  }
 ],
 "metadata": {
  "kernelspec": {
   "display_name": "Python 3",
   "language": "python",
   "name": "python3"
  },
  "language_info": {
   "codemirror_mode": {
    "name": "ipython",
    "version": 3
   },
   "file_extension": ".py",
   "mimetype": "text/x-python",
   "name": "python",
   "nbconvert_exporter": "python",
   "pygments_lexer": "ipython3",
   "version": "3.7.12"
  },
  "papermill": {
   "default_parameters": {},
   "duration": 559.317476,
   "end_time": "2022-07-30T16:38:41.416653",
   "environment_variables": {},
   "exception": null,
   "input_path": "__notebook__.ipynb",
   "output_path": "__notebook__.ipynb",
   "parameters": {},
   "start_time": "2022-07-30T16:29:22.099177",
   "version": "2.3.4"
  }
 },
 "nbformat": 4,
 "nbformat_minor": 5
}
