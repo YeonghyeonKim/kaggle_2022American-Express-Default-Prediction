{
 "cells": [
  {
   "cell_type": "markdown",
   "id": "bd6a517b",
   "metadata": {
    "papermill": {
     "duration": 0.007353,
     "end_time": "2022-07-30T16:38:53.016359",
     "exception": false,
     "start_time": "2022-07-30T16:38:53.009006",
     "status": "completed"
    },
    "tags": []
   },
   "source": [
    "# XGBoost Starter - LB 0.793\n",
    "In this notebook we build and train an XGBoost model using @raddar Kaggle dataset from [here][1] with discussion [here][2]. Then we engineer features suggested by @huseyincot in his notebooks [here][3] and [here][4]. This XGB model achieves CV 0.792 LB 0.793! When training with XGB, we use a special XGB dataloader called `DeviceQuantileDMatrix` which uses a small GPU memory footprint. This allows us to engineer more additional columns and train with more rows of data. Our feature engineering is performed using [RAPIDS][5] on the GPU to create new features quickly.\n",
    "\n",
    "[1]: https://www.kaggle.com/datasets/raddar/amex-data-integer-dtypes-parquet-format\n",
    "[2]: https://www.kaggle.com/competitions/amex-default-prediction/discussion/328514\n",
    "[3]: https://www.kaggle.com/code/huseyincot/amex-catboost-0-793\n",
    "[4]: https://www.kaggle.com/code/huseyincot/amex-agg-data-how-it-created\n",
    "[5]: https://rapids.ai/"
   ]
  },
  {
   "cell_type": "markdown",
   "id": "0a39c7a7",
   "metadata": {
    "papermill": {
     "duration": 0.006007,
     "end_time": "2022-07-30T16:38:53.028804",
     "exception": false,
     "start_time": "2022-07-30T16:38:53.022797",
     "status": "completed"
    },
    "tags": []
   },
   "source": [
    "Feature Engineering I done\n",
    "1. Drop B_29, https://www.kaggle.com/code/roberthatch/amex-feature-engg-gpu-or-cpu-process-in-chunks/notebook\n",
    "2. Add each customer count (how long they used) (not normalize)\n",
    "3. Don't fill NaN (with -127)\n",
    "4. remove num_features's min, std\n",
    "5. D_39에 대한 feature 추가 -> CV하락\n",
    "6. B_1과 B_2간의 연관 feature 추가; CV 0.7920\n",
    "7. B_8과 B_9간의 연관 feature 추가; CV 0.7919\n",
    "8. corr가 높은 feature중 제거; CV: 0.7914\n",
    "9. 6+ fillna(method='bfill'); CV: 0.7906 => NaN으로 냅두자\n",
    "10. 마지막 3개월만 이용; 6 + CV: 0.7892; 4 + CV: ?\n",
    "<!-- 9. add nasdaq info simply -->"
   ]
  },
  {
   "cell_type": "markdown",
   "id": "d2219c1f",
   "metadata": {
    "papermill": {
     "duration": 0.005928,
     "end_time": "2022-07-30T16:38:53.040806",
     "exception": false,
     "start_time": "2022-07-30T16:38:53.034878",
     "status": "completed"
    },
    "tags": []
   },
   "source": [
    "# Load Libraries"
   ]
  },
  {
   "cell_type": "code",
   "execution_count": 1,
   "id": "795d0902",
   "metadata": {
    "execution": {
     "iopub.execute_input": "2022-07-30T16:38:53.055068Z",
     "iopub.status.busy": "2022-07-30T16:38:53.054534Z",
     "iopub.status.idle": "2022-07-30T16:38:57.100310Z",
     "shell.execute_reply": "2022-07-30T16:38:57.098253Z"
    },
    "papermill": {
     "duration": 4.055253,
     "end_time": "2022-07-30T16:38:57.102220",
     "exception": false,
     "start_time": "2022-07-30T16:38:53.046967",
     "status": "completed"
    },
    "tags": []
   },
   "outputs": [
    {
     "name": "stdout",
     "output_type": "stream",
     "text": [
      "RAPIDS version 21.10.01\n"
     ]
    }
   ],
   "source": [
    "# LOAD LIBRARIES\n",
    "import pandas as pd, numpy as np # CPU libraries\n",
    "import cupy, cudf # GPU libraries\n",
    "import matplotlib.pyplot as plt, gc, os\n",
    "\n",
    "print('RAPIDS version',cudf.__version__)"
   ]
  },
  {
   "cell_type": "code",
   "execution_count": 2,
   "id": "31e1174c",
   "metadata": {
    "execution": {
     "iopub.execute_input": "2022-07-30T16:38:57.117127Z",
     "iopub.status.busy": "2022-07-30T16:38:57.116417Z",
     "iopub.status.idle": "2022-07-30T16:38:57.121754Z",
     "shell.execute_reply": "2022-07-30T16:38:57.121056Z"
    },
    "papermill": {
     "duration": 0.01448,
     "end_time": "2022-07-30T16:38:57.123435",
     "exception": false,
     "start_time": "2022-07-30T16:38:57.108955",
     "status": "completed"
    },
    "tags": []
   },
   "outputs": [],
   "source": [
    "# VERSION NAME FOR SAVED MODEL FILES\n",
    "VER = 1\n",
    "\n",
    "# TRAIN RANDOM SEED\n",
    "SEED = 42\n",
    "\n",
    "# FILL NAN VALUE\n",
    "NAN_VALUE = -127 # will fit in int8\n",
    "\n",
    "# FOLDS PER MODEL\n",
    "FOLDS = 5"
   ]
  },
  {
   "cell_type": "markdown",
   "id": "f0afed57",
   "metadata": {
    "papermill": {
     "duration": 0.006135,
     "end_time": "2022-07-30T16:38:57.136012",
     "exception": false,
     "start_time": "2022-07-30T16:38:57.129877",
     "status": "completed"
    },
    "tags": []
   },
   "source": [
    "# Process and Feature Engineer Train Data\n",
    "We will load @raddar Kaggle dataset from [here][1] with discussion [here][2]. Then we will engineer features suggested by @huseyincot in his notebooks [here][3] and [here][4]. We will use [RAPIDS][5] and the GPU to create new features quickly.\n",
    "\n",
    "[1]: https://www.kaggle.com/datasets/raddar/amex-data-integer-dtypes-parquet-format\n",
    "[2]: https://www.kaggle.com/competitions/amex-default-prediction/discussion/328514\n",
    "[3]: https://www.kaggle.com/code/huseyincot/amex-catboost-0-793\n",
    "[4]: https://www.kaggle.com/code/huseyincot/amex-agg-data-how-it-created\n",
    "[5]: https://rapids.ai/"
   ]
  },
  {
   "cell_type": "code",
   "execution_count": 3,
   "id": "1f61b70a",
   "metadata": {
    "execution": {
     "iopub.execute_input": "2022-07-30T16:38:57.150214Z",
     "iopub.status.busy": "2022-07-30T16:38:57.149879Z",
     "iopub.status.idle": "2022-07-30T16:39:18.723091Z",
     "shell.execute_reply": "2022-07-30T16:39:18.721648Z"
    },
    "papermill": {
     "duration": 21.582256,
     "end_time": "2022-07-30T16:39:18.724808",
     "exception": false,
     "start_time": "2022-07-30T16:38:57.142552",
     "status": "completed"
    },
    "tags": []
   },
   "outputs": [
    {
     "name": "stdout",
     "output_type": "stream",
     "text": [
      "Reading train data...\n",
      "shape of data: (5531451, 190)\n"
     ]
    }
   ],
   "source": [
    "def read_file(path = '', usecols = None):\n",
    "    # LOAD DATAFRAME\n",
    "    if usecols is not None: df = cudf.read_parquet(path, columns=usecols)\n",
    "    else: df = cudf.read_parquet(path)\n",
    "    # REDUCE DTYPE FOR CUSTOMER AND DATE\n",
    "    df['customer_ID'] = df['customer_ID'].str[-16:].str.hex_to_int().astype('int64')\n",
    "    df.S_2 = cudf.to_datetime( df.S_2 )\n",
    "    # SORT BY CUSTOMER AND DATE (so agg('last') works correctly)\n",
    "    #df = df.sort_values(['customer_ID','S_2'])\n",
    "    #df = df.reset_index(drop=True)\n",
    "    # FILL NAN\n",
    "#     df = df.fillna(NAN_VALUE) \n",
    "    print('shape of data:', df.shape)\n",
    "    \n",
    "    return df\n",
    "\n",
    "print('Reading train data...')\n",
    "TRAIN_PATH = '../input/amex-data-integer-dtypes-parquet-format/train.parquet'\n",
    "train = read_file(path = TRAIN_PATH)"
   ]
  },
  {
   "cell_type": "code",
   "execution_count": 4,
   "id": "5c8f2ae2",
   "metadata": {
    "execution": {
     "iopub.execute_input": "2022-07-30T16:39:18.739138Z",
     "iopub.status.busy": "2022-07-30T16:39:18.738844Z",
     "iopub.status.idle": "2022-07-30T16:39:19.029303Z",
     "shell.execute_reply": "2022-07-30T16:39:19.028492Z"
    },
    "papermill": {
     "duration": 0.299736,
     "end_time": "2022-07-30T16:39:19.031271",
     "exception": false,
     "start_time": "2022-07-30T16:39:18.731535",
     "status": "completed"
    },
    "tags": []
   },
   "outputs": [
    {
     "data": {
      "text/html": [
       "<div>\n",
       "<style scoped>\n",
       "    .dataframe tbody tr th:only-of-type {\n",
       "        vertical-align: middle;\n",
       "    }\n",
       "\n",
       "    .dataframe tbody tr th {\n",
       "        vertical-align: top;\n",
       "    }\n",
       "\n",
       "    .dataframe thead th {\n",
       "        text-align: right;\n",
       "    }\n",
       "</style>\n",
       "<table border=\"1\" class=\"dataframe\">\n",
       "  <thead>\n",
       "    <tr style=\"text-align: right;\">\n",
       "      <th></th>\n",
       "      <th>customer_ID</th>\n",
       "      <th>S_2</th>\n",
       "      <th>P_2</th>\n",
       "      <th>D_39</th>\n",
       "      <th>B_1</th>\n",
       "      <th>B_2</th>\n",
       "      <th>R_1</th>\n",
       "      <th>S_3</th>\n",
       "      <th>D_41</th>\n",
       "      <th>B_3</th>\n",
       "      <th>...</th>\n",
       "      <th>D_136</th>\n",
       "      <th>D_137</th>\n",
       "      <th>D_138</th>\n",
       "      <th>D_139</th>\n",
       "      <th>D_140</th>\n",
       "      <th>D_141</th>\n",
       "      <th>D_142</th>\n",
       "      <th>D_143</th>\n",
       "      <th>D_144</th>\n",
       "      <th>D_145</th>\n",
       "    </tr>\n",
       "  </thead>\n",
       "  <tbody>\n",
       "    <tr>\n",
       "      <th>0</th>\n",
       "      <td>-4532153018459703766</td>\n",
       "      <td>2017-03-09</td>\n",
       "      <td>0.938469</td>\n",
       "      <td>0</td>\n",
       "      <td>0.008724</td>\n",
       "      <td>1.006838</td>\n",
       "      <td>0.009228</td>\n",
       "      <td>0.124035</td>\n",
       "      <td>0.0</td>\n",
       "      <td>0.004709</td>\n",
       "      <td>...</td>\n",
       "      <td>-1</td>\n",
       "      <td>-1</td>\n",
       "      <td>-1</td>\n",
       "      <td>0</td>\n",
       "      <td>0</td>\n",
       "      <td>0.0</td>\n",
       "      <td>&lt;NA&gt;</td>\n",
       "      <td>0</td>\n",
       "      <td>0.000610</td>\n",
       "      <td>0</td>\n",
       "    </tr>\n",
       "    <tr>\n",
       "      <th>1</th>\n",
       "      <td>-4532153018459703766</td>\n",
       "      <td>2017-04-07</td>\n",
       "      <td>0.936665</td>\n",
       "      <td>0</td>\n",
       "      <td>0.004923</td>\n",
       "      <td>1.000653</td>\n",
       "      <td>0.006151</td>\n",
       "      <td>0.126750</td>\n",
       "      <td>0.0</td>\n",
       "      <td>0.002714</td>\n",
       "      <td>...</td>\n",
       "      <td>-1</td>\n",
       "      <td>-1</td>\n",
       "      <td>-1</td>\n",
       "      <td>0</td>\n",
       "      <td>0</td>\n",
       "      <td>0.0</td>\n",
       "      <td>&lt;NA&gt;</td>\n",
       "      <td>0</td>\n",
       "      <td>0.005492</td>\n",
       "      <td>0</td>\n",
       "    </tr>\n",
       "    <tr>\n",
       "      <th>2</th>\n",
       "      <td>-4532153018459703766</td>\n",
       "      <td>2017-05-28</td>\n",
       "      <td>0.954180</td>\n",
       "      <td>3</td>\n",
       "      <td>0.021655</td>\n",
       "      <td>1.009672</td>\n",
       "      <td>0.006815</td>\n",
       "      <td>0.123977</td>\n",
       "      <td>0.0</td>\n",
       "      <td>0.009423</td>\n",
       "      <td>...</td>\n",
       "      <td>-1</td>\n",
       "      <td>-1</td>\n",
       "      <td>-1</td>\n",
       "      <td>0</td>\n",
       "      <td>0</td>\n",
       "      <td>0.0</td>\n",
       "      <td>&lt;NA&gt;</td>\n",
       "      <td>0</td>\n",
       "      <td>0.006986</td>\n",
       "      <td>0</td>\n",
       "    </tr>\n",
       "    <tr>\n",
       "      <th>3</th>\n",
       "      <td>-4532153018459703766</td>\n",
       "      <td>2017-06-13</td>\n",
       "      <td>0.960384</td>\n",
       "      <td>0</td>\n",
       "      <td>0.013683</td>\n",
       "      <td>1.002700</td>\n",
       "      <td>0.001373</td>\n",
       "      <td>0.117169</td>\n",
       "      <td>0.0</td>\n",
       "      <td>0.005531</td>\n",
       "      <td>...</td>\n",
       "      <td>-1</td>\n",
       "      <td>-1</td>\n",
       "      <td>-1</td>\n",
       "      <td>0</td>\n",
       "      <td>0</td>\n",
       "      <td>0.0</td>\n",
       "      <td>&lt;NA&gt;</td>\n",
       "      <td>0</td>\n",
       "      <td>0.006527</td>\n",
       "      <td>0</td>\n",
       "    </tr>\n",
       "    <tr>\n",
       "      <th>4</th>\n",
       "      <td>-4532153018459703766</td>\n",
       "      <td>2017-07-16</td>\n",
       "      <td>0.947248</td>\n",
       "      <td>0</td>\n",
       "      <td>0.015193</td>\n",
       "      <td>1.000727</td>\n",
       "      <td>0.007605</td>\n",
       "      <td>0.117325</td>\n",
       "      <td>0.0</td>\n",
       "      <td>0.009312</td>\n",
       "      <td>...</td>\n",
       "      <td>-1</td>\n",
       "      <td>-1</td>\n",
       "      <td>-1</td>\n",
       "      <td>0</td>\n",
       "      <td>0</td>\n",
       "      <td>0.0</td>\n",
       "      <td>&lt;NA&gt;</td>\n",
       "      <td>0</td>\n",
       "      <td>0.008126</td>\n",
       "      <td>0</td>\n",
       "    </tr>\n",
       "  </tbody>\n",
       "</table>\n",
       "<p>5 rows × 190 columns</p>\n",
       "</div>"
      ],
      "text/plain": [
       "           customer_ID        S_2       P_2  D_39       B_1       B_2  \\\n",
       "0 -4532153018459703766 2017-03-09  0.938469     0  0.008724  1.006838   \n",
       "1 -4532153018459703766 2017-04-07  0.936665     0  0.004923  1.000653   \n",
       "2 -4532153018459703766 2017-05-28  0.954180     3  0.021655  1.009672   \n",
       "3 -4532153018459703766 2017-06-13  0.960384     0  0.013683  1.002700   \n",
       "4 -4532153018459703766 2017-07-16  0.947248     0  0.015193  1.000727   \n",
       "\n",
       "        R_1       S_3  D_41       B_3  ... D_136  D_137  D_138  D_139  D_140  \\\n",
       "0  0.009228  0.124035   0.0  0.004709  ...    -1     -1     -1      0      0   \n",
       "1  0.006151  0.126750   0.0  0.002714  ...    -1     -1     -1      0      0   \n",
       "2  0.006815  0.123977   0.0  0.009423  ...    -1     -1     -1      0      0   \n",
       "3  0.001373  0.117169   0.0  0.005531  ...    -1     -1     -1      0      0   \n",
       "4  0.007605  0.117325   0.0  0.009312  ...    -1     -1     -1      0      0   \n",
       "\n",
       "   D_141  D_142 D_143     D_144  D_145  \n",
       "0    0.0   <NA>     0  0.000610      0  \n",
       "1    0.0   <NA>     0  0.005492      0  \n",
       "2    0.0   <NA>     0  0.006986      0  \n",
       "3    0.0   <NA>     0  0.006527      0  \n",
       "4    0.0   <NA>     0  0.008126      0  \n",
       "\n",
       "[5 rows x 190 columns]"
      ]
     },
     "execution_count": 4,
     "metadata": {},
     "output_type": "execute_result"
    }
   ],
   "source": [
    "train.head()"
   ]
  },
  {
   "cell_type": "code",
   "execution_count": 5,
   "id": "7c9f4891",
   "metadata": {
    "execution": {
     "iopub.execute_input": "2022-07-30T16:39:19.046759Z",
     "iopub.status.busy": "2022-07-30T16:39:19.046470Z",
     "iopub.status.idle": "2022-07-30T16:39:22.828071Z",
     "shell.execute_reply": "2022-07-30T16:39:22.826620Z"
    },
    "papermill": {
     "duration": 3.791743,
     "end_time": "2022-07-30T16:39:22.830169",
     "exception": false,
     "start_time": "2022-07-30T16:39:19.038426",
     "status": "completed"
    },
    "tags": []
   },
   "outputs": [
    {
     "name": "stdout",
     "output_type": "stream",
     "text": [
      "shape after engineering (458913, 562)\n"
     ]
    }
   ],
   "source": [
    "def process_and_feature_engineer(df):\n",
    "    # FEATURE ENGINEERING FROM \n",
    "    # https://www.kaggle.com/code/huseyincot/amex-agg-data-how-it-created\n",
    "#     9) nasdaq\n",
    "#     nasdaq_path = '../input/nasdaq/nasdaq.csv'\n",
    "#     nasdaq = cudf.read_csv(nasdaq_path, encoding='utf-8-sig')\n",
    "#     nasdaq.rename(columns={'\\ufeffS_2': 'S_2'}, inplace=True)\n",
    "#     nasdaq.drop(['tradingvolume'], inplace=True, axis=1)\n",
    "#     nasdaq.S_2 = cudf.to_datetime(nasdaq.S_2)\n",
    "#     nasdaq[['closing','open', 'high', 'low']] = nasdaq[['closing','open', 'high', 'low']].astype(float)    \n",
    "#     df = df.merge(nasdaq, on='S_2')\n",
    "    \n",
    "#     1) Drop 'B_29'\n",
    "    df.drop(['B_29'], inplace=True, axis=1)\n",
    "    \n",
    "#     5) D_39에 대한 feature 추가\n",
    "#     df['D_39_div30'] = df['D_39']/30\n",
    "#     10) 마지막 3개월만 이용\n",
    "    df = cudf.concat([df.groupby('customer_ID').nth(-3), df.groupby('customer_ID').nth(-2), df.groupby('customer_ID').nth(-1)]).reset_index()\n",
    "\n",
    "    \n",
    "    all_cols = [c for c in list(df.columns) if c not in ['customer_ID','S_2']]\n",
    "    cat_features = [\"B_30\",\"B_38\",\"D_114\",\"D_116\",\"D_117\",\"D_120\",\"D_126\",\"D_63\",\"D_64\",\"D_66\",\"D_68\"]\n",
    "    num_features = [col for col in all_cols if col not in cat_features]\n",
    "    \n",
    "#     2) Add customer count\n",
    "    test_count_agg = df.groupby(['customer_ID'])['S_2'].agg(['count'])\n",
    "\n",
    "\n",
    "    test_num_agg = df.groupby(\"customer_ID\")[num_features].agg(['mean', 'max', 'last'])\n",
    "    test_num_agg.columns = ['_'.join(x) for x in test_num_agg.columns]\n",
    "\n",
    "    test_cat_agg = df.groupby(\"customer_ID\")[cat_features].agg(['count', 'last', 'nunique'])\n",
    "    test_cat_agg.columns = ['_'.join(x) for x in test_cat_agg.columns]\n",
    "\n",
    "    df = cudf.concat([test_count_agg,test_num_agg, test_cat_agg], axis=1)\n",
    "    del test_num_agg, test_cat_agg\n",
    "    print('shape after engineering', df.shape )\n",
    "    \n",
    "    return df\n",
    "\n",
    "train = process_and_feature_engineer(train)"
   ]
  },
  {
   "cell_type": "code",
   "execution_count": 6,
   "id": "82960603",
   "metadata": {
    "execution": {
     "iopub.execute_input": "2022-07-30T16:39:22.845624Z",
     "iopub.status.busy": "2022-07-30T16:39:22.845289Z",
     "iopub.status.idle": "2022-07-30T16:39:23.763904Z",
     "shell.execute_reply": "2022-07-30T16:39:23.763103Z"
    },
    "papermill": {
     "duration": 0.929171,
     "end_time": "2022-07-30T16:39:23.766497",
     "exception": false,
     "start_time": "2022-07-30T16:39:22.837326",
     "status": "completed"
    },
    "tags": []
   },
   "outputs": [
    {
     "name": "stdout",
     "output_type": "stream",
     "text": [
      "There are 562 features!\n"
     ]
    }
   ],
   "source": [
    "# ADD TARGETS\n",
    "targets = cudf.read_csv('../input/amex-default-prediction/train_labels.csv')\n",
    "targets['customer_ID'] = targets['customer_ID'].str[-16:].str.hex_to_int().astype('int64')\n",
    "targets = targets.set_index('customer_ID')\n",
    "train = train.merge(targets, left_index=True, right_index=True, how='left')\n",
    "train.target = train.target.astype('int8')\n",
    "del targets\n",
    "\n",
    "# NEEDED TO MAKE CV DETERMINISTIC (cudf merge above randomly shuffles rows)\n",
    "train = train.sort_index().reset_index()\n",
    "\n",
    "# FEATURES\n",
    "FEATURES = train.columns[1:-1]\n",
    "print(f'There are {len(FEATURES)} features!')"
   ]
  },
  {
   "cell_type": "markdown",
   "id": "507da3f1",
   "metadata": {
    "papermill": {
     "duration": 0.007365,
     "end_time": "2022-07-30T16:39:23.781922",
     "exception": false,
     "start_time": "2022-07-30T16:39:23.774557",
     "status": "completed"
    },
    "tags": []
   },
   "source": [
    "# Train XGB\n",
    "We will train using `DeviceQuantileDMatrix`. This has a very small GPU memory footprint."
   ]
  },
  {
   "cell_type": "code",
   "execution_count": 7,
   "id": "b0129503",
   "metadata": {
    "execution": {
     "iopub.execute_input": "2022-07-30T16:39:23.797073Z",
     "iopub.status.busy": "2022-07-30T16:39:23.796788Z",
     "iopub.status.idle": "2022-07-30T16:39:23.905383Z",
     "shell.execute_reply": "2022-07-30T16:39:23.904521Z"
    },
    "papermill": {
     "duration": 0.118364,
     "end_time": "2022-07-30T16:39:23.907317",
     "exception": false,
     "start_time": "2022-07-30T16:39:23.788953",
     "status": "completed"
    },
    "tags": []
   },
   "outputs": [
    {
     "name": "stdout",
     "output_type": "stream",
     "text": [
      "XGB Version 1.6.1\n"
     ]
    }
   ],
   "source": [
    "# LOAD XGB LIBRARY\n",
    "from sklearn.model_selection import KFold\n",
    "import xgboost as xgb\n",
    "print('XGB Version',xgb.__version__)\n",
    "\n",
    "# XGB MODEL PARAMETERS\n",
    "xgb_parms = { \n",
    "    'max_depth':4, \n",
    "    'learning_rate':0.05, \n",
    "    'subsample':0.8,\n",
    "    'colsample_bytree':0.6, \n",
    "    'eval_metric':'logloss',\n",
    "    'objective':'binary:logistic',\n",
    "    'tree_method':'gpu_hist',\n",
    "    'predictor':'gpu_predictor',\n",
    "    'random_state':SEED\n",
    "}"
   ]
  },
  {
   "cell_type": "code",
   "execution_count": 8,
   "id": "a8529506",
   "metadata": {
    "execution": {
     "iopub.execute_input": "2022-07-30T16:39:23.922659Z",
     "iopub.status.busy": "2022-07-30T16:39:23.922384Z",
     "iopub.status.idle": "2022-07-30T16:39:23.930893Z",
     "shell.execute_reply": "2022-07-30T16:39:23.930080Z"
    },
    "papermill": {
     "duration": 0.018185,
     "end_time": "2022-07-30T16:39:23.932651",
     "exception": false,
     "start_time": "2022-07-30T16:39:23.914466",
     "status": "completed"
    },
    "tags": []
   },
   "outputs": [],
   "source": [
    "# NEEDED WITH DeviceQuantileDMatrix BELOW\n",
    "class IterLoadForDMatrix(xgb.core.DataIter):\n",
    "    def __init__(self, df=None, features=None, target=None, batch_size=256*1024):\n",
    "        self.features = features\n",
    "        self.target = target\n",
    "        self.df = df\n",
    "        self.it = 0 # set iterator to 0\n",
    "        self.batch_size = batch_size\n",
    "        self.batches = int( np.ceil( len(df) / self.batch_size ) )\n",
    "        super().__init__()\n",
    "\n",
    "    def reset(self):\n",
    "        '''Reset the iterator'''\n",
    "        self.it = 0\n",
    "\n",
    "    def next(self, input_data):\n",
    "        '''Yield next batch of data.'''\n",
    "        if self.it == self.batches:\n",
    "            return 0 # Return 0 when there's no more batch.\n",
    "        \n",
    "        a = self.it * self.batch_size\n",
    "        b = min( (self.it + 1) * self.batch_size, len(self.df) )\n",
    "        dt = cudf.DataFrame(self.df.iloc[a:b])\n",
    "        input_data(data=dt[self.features], label=dt[self.target]) #, weight=dt['weight'])\n",
    "        self.it += 1\n",
    "        return 1"
   ]
  },
  {
   "cell_type": "code",
   "execution_count": 9,
   "id": "8fd55c10",
   "metadata": {
    "execution": {
     "iopub.execute_input": "2022-07-30T16:39:23.948238Z",
     "iopub.status.busy": "2022-07-30T16:39:23.947989Z",
     "iopub.status.idle": "2022-07-30T16:39:23.957149Z",
     "shell.execute_reply": "2022-07-30T16:39:23.956304Z"
    },
    "papermill": {
     "duration": 0.018513,
     "end_time": "2022-07-30T16:39:23.958811",
     "exception": false,
     "start_time": "2022-07-30T16:39:23.940298",
     "status": "completed"
    },
    "tags": []
   },
   "outputs": [],
   "source": [
    "# https://www.kaggle.com/kyakovlev\n",
    "# https://www.kaggle.com/competitions/amex-default-prediction/discussion/327534\n",
    "def amex_metric_mod(y_true, y_pred):\n",
    "\n",
    "    labels     = np.transpose(np.array([y_true, y_pred]))\n",
    "    labels     = labels[labels[:, 1].argsort()[::-1]]\n",
    "    weights    = np.where(labels[:,0]==0, 20, 1)\n",
    "    cut_vals   = labels[np.cumsum(weights) <= int(0.04 * np.sum(weights))]\n",
    "    top_four   = np.sum(cut_vals[:,0]) / np.sum(labels[:,0])\n",
    "\n",
    "    gini = [0,0]\n",
    "    for i in [1,0]:\n",
    "        labels         = np.transpose(np.array([y_true, y_pred]))\n",
    "        labels         = labels[labels[:, i].argsort()[::-1]]\n",
    "        weight         = np.where(labels[:,0]==0, 20, 1)\n",
    "        weight_random  = np.cumsum(weight / np.sum(weight))\n",
    "        total_pos      = np.sum(labels[:, 0] *  weight)\n",
    "        cum_pos_found  = np.cumsum(labels[:, 0] * weight)\n",
    "        lorentz        = cum_pos_found / total_pos\n",
    "        gini[i]        = np.sum((lorentz - weight_random) * weight)\n",
    "\n",
    "    return 0.5 * (gini[1]/gini[0] + top_four)"
   ]
  },
  {
   "cell_type": "code",
   "execution_count": 10,
   "id": "7c96ef35",
   "metadata": {
    "execution": {
     "iopub.execute_input": "2022-07-30T16:39:23.974463Z",
     "iopub.status.busy": "2022-07-30T16:39:23.973898Z",
     "iopub.status.idle": "2022-07-30T16:46:28.748197Z",
     "shell.execute_reply": "2022-07-30T16:46:28.747079Z"
    },
    "papermill": {
     "duration": 424.784257,
     "end_time": "2022-07-30T16:46:28.750113",
     "exception": false,
     "start_time": "2022-07-30T16:39:23.965856",
     "status": "completed"
    },
    "scrolled": true,
    "tags": []
   },
   "outputs": [
    {
     "name": "stdout",
     "output_type": "stream",
     "text": [
      "#########################\n",
      "### Fold 1\n",
      "### Train size 367130 Valid size 91783\n",
      "### Training with 100% fold data...\n",
      "#########################\n",
      "[0]\ttrain-logloss:0.66327\tvalid-logloss:0.66329\n",
      "[100]\ttrain-logloss:0.23859\tvalid-logloss:0.24104\n",
      "[200]\ttrain-logloss:0.22445\tvalid-logloss:0.22927\n",
      "[300]\ttrain-logloss:0.21856\tvalid-logloss:0.22525\n",
      "[400]\ttrain-logloss:0.21483\tvalid-logloss:0.22341\n",
      "[500]\ttrain-logloss:0.21190\tvalid-logloss:0.22229\n",
      "[600]\ttrain-logloss:0.20933\tvalid-logloss:0.22146\n",
      "[700]\ttrain-logloss:0.20708\tvalid-logloss:0.22098\n",
      "[800]\ttrain-logloss:0.20496\tvalid-logloss:0.22062\n",
      "[900]\ttrain-logloss:0.20299\tvalid-logloss:0.22030\n",
      "[1000]\ttrain-logloss:0.20107\tvalid-logloss:0.22008\n",
      "[1100]\ttrain-logloss:0.19922\tvalid-logloss:0.22002\n",
      "[1200]\ttrain-logloss:0.19745\tvalid-logloss:0.21988\n",
      "[1300]\ttrain-logloss:0.19573\tvalid-logloss:0.21980\n",
      "[1400]\ttrain-logloss:0.19398\tvalid-logloss:0.21974\n",
      "[1500]\ttrain-logloss:0.19237\tvalid-logloss:0.21969\n",
      "[1600]\ttrain-logloss:0.19074\tvalid-logloss:0.21967\n",
      "[1700]\ttrain-logloss:0.18923\tvalid-logloss:0.21964\n",
      "[1800]\ttrain-logloss:0.18764\tvalid-logloss:0.21959\n",
      "[1900]\ttrain-logloss:0.18607\tvalid-logloss:0.21965\n",
      "[1914]\ttrain-logloss:0.18587\tvalid-logloss:0.21964\n",
      "Kaggle Metric = 0.7903962622508052 \n",
      "\n",
      "#########################\n",
      "### Fold 2\n",
      "### Train size 367130 Valid size 91783\n",
      "### Training with 100% fold data...\n",
      "#########################\n",
      "[0]\ttrain-logloss:0.66331\tvalid-logloss:0.66321\n",
      "[100]\ttrain-logloss:0.23873\tvalid-logloss:0.23969\n",
      "[200]\ttrain-logloss:0.22479\tvalid-logloss:0.22756\n",
      "[300]\ttrain-logloss:0.21900\tvalid-logloss:0.22375\n",
      "[400]\ttrain-logloss:0.21518\tvalid-logloss:0.22185\n",
      "[500]\ttrain-logloss:0.21224\tvalid-logloss:0.22078\n",
      "[600]\ttrain-logloss:0.20967\tvalid-logloss:0.22004\n",
      "[700]\ttrain-logloss:0.20741\tvalid-logloss:0.21959\n",
      "[800]\ttrain-logloss:0.20529\tvalid-logloss:0.21910\n",
      "[900]\ttrain-logloss:0.20330\tvalid-logloss:0.21887\n",
      "[1000]\ttrain-logloss:0.20143\tvalid-logloss:0.21871\n",
      "[1100]\ttrain-logloss:0.19948\tvalid-logloss:0.21853\n",
      "[1200]\ttrain-logloss:0.19772\tvalid-logloss:0.21848\n",
      "[1300]\ttrain-logloss:0.19595\tvalid-logloss:0.21845\n",
      "[1400]\ttrain-logloss:0.19426\tvalid-logloss:0.21843\n",
      "[1500]\ttrain-logloss:0.19258\tvalid-logloss:0.21835\n",
      "[1600]\ttrain-logloss:0.19097\tvalid-logloss:0.21828\n",
      "[1700]\ttrain-logloss:0.18938\tvalid-logloss:0.21830\n",
      "Kaggle Metric = 0.7907543330384227 \n",
      "\n",
      "#########################\n",
      "### Fold 3\n",
      "### Train size 367130 Valid size 91783\n",
      "### Training with 100% fold data...\n",
      "#########################\n",
      "[0]\ttrain-logloss:0.66321\tvalid-logloss:0.66331\n",
      "[100]\ttrain-logloss:0.23811\tvalid-logloss:0.24214\n",
      "[200]\ttrain-logloss:0.22407\tvalid-logloss:0.23045\n",
      "[300]\ttrain-logloss:0.21817\tvalid-logloss:0.22668\n",
      "[400]\ttrain-logloss:0.21438\tvalid-logloss:0.22491\n",
      "[500]\ttrain-logloss:0.21146\tvalid-logloss:0.22392\n",
      "[600]\ttrain-logloss:0.20886\tvalid-logloss:0.22324\n",
      "[700]\ttrain-logloss:0.20660\tvalid-logloss:0.22281\n",
      "[800]\ttrain-logloss:0.20452\tvalid-logloss:0.22251\n",
      "[900]\ttrain-logloss:0.20259\tvalid-logloss:0.22231\n",
      "[1000]\ttrain-logloss:0.20064\tvalid-logloss:0.22212\n",
      "[1100]\ttrain-logloss:0.19881\tvalid-logloss:0.22199\n",
      "[1200]\ttrain-logloss:0.19699\tvalid-logloss:0.22193\n",
      "[1300]\ttrain-logloss:0.19527\tvalid-logloss:0.22190\n",
      "[1400]\ttrain-logloss:0.19354\tvalid-logloss:0.22181\n",
      "[1500]\ttrain-logloss:0.19185\tvalid-logloss:0.22176\n",
      "[1600]\ttrain-logloss:0.19020\tvalid-logloss:0.22176\n",
      "[1700]\ttrain-logloss:0.18861\tvalid-logloss:0.22171\n",
      "[1800]\ttrain-logloss:0.18706\tvalid-logloss:0.22172\n",
      "[1883]\ttrain-logloss:0.18577\tvalid-logloss:0.22177\n",
      "Kaggle Metric = 0.7854365816976141 \n",
      "\n",
      "#########################\n",
      "### Fold 4\n",
      "### Train size 367131 Valid size 91782\n",
      "### Training with 100% fold data...\n",
      "#########################\n",
      "[0]\ttrain-logloss:0.66316\tvalid-logloss:0.66329\n",
      "[100]\ttrain-logloss:0.23811\tvalid-logloss:0.24252\n",
      "[200]\ttrain-logloss:0.22399\tvalid-logloss:0.23064\n",
      "[300]\ttrain-logloss:0.21808\tvalid-logloss:0.22696\n",
      "[400]\ttrain-logloss:0.21429\tvalid-logloss:0.22509\n",
      "[500]\ttrain-logloss:0.21135\tvalid-logloss:0.22397\n",
      "[600]\ttrain-logloss:0.20880\tvalid-logloss:0.22325\n",
      "[700]\ttrain-logloss:0.20655\tvalid-logloss:0.22277\n",
      "[800]\ttrain-logloss:0.20442\tvalid-logloss:0.22244\n",
      "[900]\ttrain-logloss:0.20246\tvalid-logloss:0.22223\n",
      "[1000]\ttrain-logloss:0.20060\tvalid-logloss:0.22210\n",
      "[1100]\ttrain-logloss:0.19870\tvalid-logloss:0.22197\n",
      "[1200]\ttrain-logloss:0.19692\tvalid-logloss:0.22180\n",
      "[1300]\ttrain-logloss:0.19523\tvalid-logloss:0.22178\n",
      "[1400]\ttrain-logloss:0.19351\tvalid-logloss:0.22170\n",
      "[1494]\ttrain-logloss:0.19194\tvalid-logloss:0.22172\n",
      "Kaggle Metric = 0.7853712259482877 \n",
      "\n",
      "#########################\n",
      "### Fold 5\n",
      "### Train size 367131 Valid size 91782\n",
      "### Training with 100% fold data...\n",
      "#########################\n",
      "[0]\ttrain-logloss:0.66325\tvalid-logloss:0.66324\n",
      "[100]\ttrain-logloss:0.23898\tvalid-logloss:0.23931\n",
      "[200]\ttrain-logloss:0.22491\tvalid-logloss:0.22727\n",
      "[300]\ttrain-logloss:0.21904\tvalid-logloss:0.22320\n",
      "[400]\ttrain-logloss:0.21534\tvalid-logloss:0.22124\n",
      "[500]\ttrain-logloss:0.21241\tvalid-logloss:0.22008\n",
      "[600]\ttrain-logloss:0.20985\tvalid-logloss:0.21926\n",
      "[700]\ttrain-logloss:0.20758\tvalid-logloss:0.21880\n",
      "[800]\ttrain-logloss:0.20542\tvalid-logloss:0.21844\n",
      "[900]\ttrain-logloss:0.20344\tvalid-logloss:0.21821\n",
      "[1000]\ttrain-logloss:0.20156\tvalid-logloss:0.21801\n",
      "[1100]\ttrain-logloss:0.19971\tvalid-logloss:0.21777\n",
      "[1200]\ttrain-logloss:0.19795\tvalid-logloss:0.21762\n",
      "[1300]\ttrain-logloss:0.19622\tvalid-logloss:0.21756\n",
      "[1400]\ttrain-logloss:0.19455\tvalid-logloss:0.21752\n",
      "[1500]\ttrain-logloss:0.19290\tvalid-logloss:0.21746\n",
      "[1600]\ttrain-logloss:0.19130\tvalid-logloss:0.21741\n",
      "[1700]\ttrain-logloss:0.18970\tvalid-logloss:0.21736\n",
      "[1760]\ttrain-logloss:0.18876\tvalid-logloss:0.21736\n",
      "Kaggle Metric = 0.7914556538097663 \n",
      "\n",
      "#########################\n",
      "OVERALL CV Kaggle Metric = 0.7886966991598994\n"
     ]
    }
   ],
   "source": [
    "importances = []\n",
    "oof = []\n",
    "train = train.to_pandas() # free GPU memory\n",
    "TRAIN_SUBSAMPLE = 1.0\n",
    "gc.collect()\n",
    "\n",
    "skf = KFold(n_splits=FOLDS, shuffle=True, random_state=SEED)\n",
    "for fold,(train_idx, valid_idx) in enumerate(skf.split(\n",
    "            train, train.target )):\n",
    "    \n",
    "    # TRAIN WITH SUBSAMPLE OF TRAIN FOLD DATA\n",
    "    if TRAIN_SUBSAMPLE<1.0:\n",
    "        np.random.seed(SEED)\n",
    "        train_idx = np.random.choice(train_idx, \n",
    "                       int(len(train_idx)*TRAIN_SUBSAMPLE), replace=False)\n",
    "        np.random.seed(None)\n",
    "    \n",
    "    print('#'*25)\n",
    "    print('### Fold',fold+1)\n",
    "    print('### Train size',len(train_idx),'Valid size',len(valid_idx))\n",
    "    print(f'### Training with {int(TRAIN_SUBSAMPLE*100)}% fold data...')\n",
    "    print('#'*25)\n",
    "    \n",
    "    # TRAIN, VALID, TEST FOR FOLD K\n",
    "    Xy_train = IterLoadForDMatrix(train.loc[train_idx], FEATURES, 'target')\n",
    "    X_valid = train.loc[valid_idx, FEATURES]\n",
    "    y_valid = train.loc[valid_idx, 'target']\n",
    "    \n",
    "    dtrain = xgb.DeviceQuantileDMatrix(Xy_train, max_bin=256)\n",
    "    dvalid = xgb.DMatrix(data=X_valid, label=y_valid)\n",
    "    \n",
    "    # TRAIN MODEL FOLD K\n",
    "    model = xgb.train(xgb_parms, \n",
    "                dtrain=dtrain,\n",
    "                evals=[(dtrain,'train'),(dvalid,'valid')],\n",
    "                num_boost_round=9999,\n",
    "                early_stopping_rounds=100,\n",
    "                verbose_eval=100) \n",
    "    model.save_model(f'XGB_v{VER}_fold{fold}.xgb')\n",
    "    \n",
    "    # GET FEATURE IMPORTANCE FOR FOLD K\n",
    "    dd = model.get_score(importance_type='weight')\n",
    "    df = pd.DataFrame({'feature':dd.keys(),f'importance_{fold}':dd.values()})\n",
    "    importances.append(df)\n",
    "            \n",
    "    # INFER OOF FOLD K\n",
    "    oof_preds = model.predict(dvalid)\n",
    "    acc = amex_metric_mod(y_valid.values, oof_preds)\n",
    "    print('Kaggle Metric =',acc,'\\n')\n",
    "    \n",
    "    # SAVE OOF\n",
    "    df = train.loc[valid_idx, ['customer_ID','target'] ].copy()\n",
    "    df['oof_pred'] = oof_preds\n",
    "    oof.append( df )\n",
    "    \n",
    "    del dtrain, Xy_train, dd, df\n",
    "    del X_valid, y_valid, dvalid, model\n",
    "    _ = gc.collect()\n",
    "    \n",
    "print('#'*25)\n",
    "oof = pd.concat(oof,axis=0,ignore_index=True).set_index('customer_ID')\n",
    "acc = amex_metric_mod(oof.target.values, oof.oof_pred.values)\n",
    "print('OVERALL CV Kaggle Metric =',acc)"
   ]
  },
  {
   "cell_type": "code",
   "execution_count": 11,
   "id": "6cf850a2",
   "metadata": {
    "execution": {
     "iopub.execute_input": "2022-07-30T16:46:28.777444Z",
     "iopub.status.busy": "2022-07-30T16:46:28.777154Z",
     "iopub.status.idle": "2022-07-30T16:46:28.914584Z",
     "shell.execute_reply": "2022-07-30T16:46:28.913761Z"
    },
    "papermill": {
     "duration": 0.152825,
     "end_time": "2022-07-30T16:46:28.916365",
     "exception": false,
     "start_time": "2022-07-30T16:46:28.763540",
     "status": "completed"
    },
    "tags": []
   },
   "outputs": [],
   "source": [
    "# CLEAN RAM\n",
    "del train\n",
    "_ = gc.collect()"
   ]
  },
  {
   "cell_type": "markdown",
   "id": "06be3161",
   "metadata": {
    "papermill": {
     "duration": 0.012602,
     "end_time": "2022-07-30T16:46:28.941998",
     "exception": false,
     "start_time": "2022-07-30T16:46:28.929396",
     "status": "completed"
    },
    "tags": []
   },
   "source": [
    "# Save OOF Preds"
   ]
  },
  {
   "cell_type": "code",
   "execution_count": 12,
   "id": "5f8d5989",
   "metadata": {
    "execution": {
     "iopub.execute_input": "2022-07-30T16:46:28.968808Z",
     "iopub.status.busy": "2022-07-30T16:46:28.968487Z",
     "iopub.status.idle": "2022-07-30T16:46:33.663405Z",
     "shell.execute_reply": "2022-07-30T16:46:33.662606Z"
    },
    "papermill": {
     "duration": 4.710311,
     "end_time": "2022-07-30T16:46:33.665161",
     "exception": false,
     "start_time": "2022-07-30T16:46:28.954850",
     "status": "completed"
    },
    "tags": []
   },
   "outputs": [
    {
     "data": {
      "text/html": [
       "<div>\n",
       "<style scoped>\n",
       "    .dataframe tbody tr th:only-of-type {\n",
       "        vertical-align: middle;\n",
       "    }\n",
       "\n",
       "    .dataframe tbody tr th {\n",
       "        vertical-align: top;\n",
       "    }\n",
       "\n",
       "    .dataframe thead th {\n",
       "        text-align: right;\n",
       "    }\n",
       "</style>\n",
       "<table border=\"1\" class=\"dataframe\">\n",
       "  <thead>\n",
       "    <tr style=\"text-align: right;\">\n",
       "      <th></th>\n",
       "      <th>customer_ID</th>\n",
       "      <th>target</th>\n",
       "      <th>oof_pred</th>\n",
       "    </tr>\n",
       "  </thead>\n",
       "  <tbody>\n",
       "    <tr>\n",
       "      <th>0</th>\n",
       "      <td>20eac26171c3d251c55fc78204e59fab1c15fc2bc96d0c...</td>\n",
       "      <td>1</td>\n",
       "      <td>0.537870</td>\n",
       "    </tr>\n",
       "    <tr>\n",
       "      <th>1</th>\n",
       "      <td>aea50fdf9b974ccec95fa177c3225a0f913483b457de6e...</td>\n",
       "      <td>0</td>\n",
       "      <td>0.000449</td>\n",
       "    </tr>\n",
       "    <tr>\n",
       "      <th>2</th>\n",
       "      <td>32cd2d41aef737b69089882754395925c96eaee1f4a859...</td>\n",
       "      <td>0</td>\n",
       "      <td>0.002556</td>\n",
       "    </tr>\n",
       "    <tr>\n",
       "      <th>3</th>\n",
       "      <td>8daa6d5dc2655a8a437531e6b8b96829113cdfe9bf6cae...</td>\n",
       "      <td>0</td>\n",
       "      <td>0.011259</td>\n",
       "    </tr>\n",
       "    <tr>\n",
       "      <th>4</th>\n",
       "      <td>0ceba351a3851202542feb49d7385bcef32f6037fc57c7...</td>\n",
       "      <td>1</td>\n",
       "      <td>0.872543</td>\n",
       "    </tr>\n",
       "  </tbody>\n",
       "</table>\n",
       "</div>"
      ],
      "text/plain": [
       "                                         customer_ID  target  oof_pred\n",
       "0  20eac26171c3d251c55fc78204e59fab1c15fc2bc96d0c...       1  0.537870\n",
       "1  aea50fdf9b974ccec95fa177c3225a0f913483b457de6e...       0  0.000449\n",
       "2  32cd2d41aef737b69089882754395925c96eaee1f4a859...       0  0.002556\n",
       "3  8daa6d5dc2655a8a437531e6b8b96829113cdfe9bf6cae...       0  0.011259\n",
       "4  0ceba351a3851202542feb49d7385bcef32f6037fc57c7...       1  0.872543"
      ]
     },
     "execution_count": 12,
     "metadata": {},
     "output_type": "execute_result"
    }
   ],
   "source": [
    "oof_xgb = pd.read_parquet(TRAIN_PATH, columns=['customer_ID']).drop_duplicates()\n",
    "oof_xgb['customer_ID_hash'] = oof_xgb['customer_ID'].apply(lambda x: int(x[-16:],16) ).astype('int64')\n",
    "oof_xgb = oof_xgb.set_index('customer_ID_hash')\n",
    "oof_xgb = oof_xgb.merge(oof, left_index=True, right_index=True)\n",
    "oof_xgb = oof_xgb.sort_index().reset_index(drop=True)\n",
    "oof_xgb.to_csv(f'oof_xgb_v{VER}.csv',index=False)\n",
    "oof_xgb.head()"
   ]
  },
  {
   "cell_type": "code",
   "execution_count": 13,
   "id": "301144c2",
   "metadata": {
    "execution": {
     "iopub.execute_input": "2022-07-30T16:46:33.692834Z",
     "iopub.status.busy": "2022-07-30T16:46:33.692525Z",
     "iopub.status.idle": "2022-07-30T16:46:34.036547Z",
     "shell.execute_reply": "2022-07-30T16:46:34.035629Z"
    },
    "papermill": {
     "duration": 0.359948,
     "end_time": "2022-07-30T16:46:34.038671",
     "exception": false,
     "start_time": "2022-07-30T16:46:33.678723",
     "status": "completed"
    },
    "tags": []
   },
   "outputs": [
    {
     "data": {
      "image/png": "[encoded data removed]",
      "text/plain": [
       "<Figure size 432x288 with 1 Axes>"
      ]
     },
     "metadata": {
      "needs_background": "light"
     },
     "output_type": "display_data"
    }
   ],
   "source": [
    "# PLOT OOF PREDICTIONS\n",
    "plt.hist(oof_xgb.oof_pred.values, bins=100)\n",
    "plt.title('OOF Predictions')\n",
    "plt.show()"
   ]
  },
  {
   "cell_type": "code",
   "execution_count": 14,
   "id": "8ac9caf3",
   "metadata": {
    "execution": {
     "iopub.execute_input": "2022-07-30T16:46:34.066322Z",
     "iopub.status.busy": "2022-07-30T16:46:34.066015Z",
     "iopub.status.idle": "2022-07-30T16:46:34.203322Z",
     "shell.execute_reply": "2022-07-30T16:46:34.202386Z"
    },
    "papermill": {
     "duration": 0.153272,
     "end_time": "2022-07-30T16:46:34.205453",
     "exception": false,
     "start_time": "2022-07-30T16:46:34.052181",
     "status": "completed"
    },
    "tags": []
   },
   "outputs": [],
   "source": [
    "# CLEAR VRAM, RAM FOR INFERENCE BELOW\n",
    "del oof_xgb, oof\n",
    "_ = gc.collect()"
   ]
  },
  {
   "cell_type": "markdown",
   "id": "3742c63c",
   "metadata": {
    "papermill": {
     "duration": 0.013451,
     "end_time": "2022-07-30T16:46:34.232301",
     "exception": false,
     "start_time": "2022-07-30T16:46:34.218850",
     "status": "completed"
    },
    "tags": []
   },
   "source": [
    "# Feature Importance"
   ]
  },
  {
   "cell_type": "code",
   "execution_count": 15,
   "id": "41fe4bc5",
   "metadata": {
    "execution": {
     "iopub.execute_input": "2022-07-30T16:46:34.259798Z",
     "iopub.status.busy": "2022-07-30T16:46:34.259481Z",
     "iopub.status.idle": "2022-07-30T16:46:34.285485Z",
     "shell.execute_reply": "2022-07-30T16:46:34.284769Z"
    },
    "papermill": {
     "duration": 0.042172,
     "end_time": "2022-07-30T16:46:34.287684",
     "exception": false,
     "start_time": "2022-07-30T16:46:34.245512",
     "status": "completed"
    },
    "tags": []
   },
   "outputs": [],
   "source": [
    "import matplotlib.pyplot as plt\n",
    "\n",
    "df = importances[0].copy()\n",
    "for k in range(1,FOLDS): df = df.merge(importances[k], on='feature', how='left')\n",
    "df['importance'] = df.iloc[:,1:].mean(axis=1)\n",
    "df = df.sort_values('importance',ascending=False)\n",
    "df.to_csv(f'xgb_feature_importance_v{VER}.csv',index=False)"
   ]
  },
  {
   "cell_type": "code",
   "execution_count": 16,
   "id": "2102404c",
   "metadata": {
    "execution": {
     "iopub.execute_input": "2022-07-30T16:46:34.315464Z",
     "iopub.status.busy": "2022-07-30T16:46:34.315184Z",
     "iopub.status.idle": "2022-07-30T16:46:34.561261Z",
     "shell.execute_reply": "2022-07-30T16:46:34.560541Z"
    },
    "papermill": {
     "duration": 0.261773,
     "end_time": "2022-07-30T16:46:34.563139",
     "exception": false,
     "start_time": "2022-07-30T16:46:34.301366",
     "status": "completed"
    },
    "tags": []
   },
   "outputs": [
    {
     "data": {
      "image/png": "[encoded data removed]",
      "text/plain": [
       "<Figure size 720x720 with 1 Axes>"
      ]
     },
     "metadata": {
      "needs_background": "light"
     },
     "output_type": "display_data"
    }
   ],
   "source": [
    "NUM_FEATURES = 20\n",
    "plt.figure(figsize=(10,5*NUM_FEATURES//10))\n",
    "plt.barh(np.arange(NUM_FEATURES,0,-1), df.importance.values[:NUM_FEATURES])\n",
    "plt.yticks(np.arange(NUM_FEATURES,0,-1), df.feature.values[:NUM_FEATURES])\n",
    "plt.title(f'XGB Feature Importance - Top {NUM_FEATURES}')\n",
    "plt.show()"
   ]
  },
  {
   "cell_type": "markdown",
   "id": "92c859f5",
   "metadata": {
    "papermill": {
     "duration": 0.013382,
     "end_time": "2022-07-30T16:46:34.590337",
     "exception": false,
     "start_time": "2022-07-30T16:46:34.576955",
     "status": "completed"
    },
    "tags": []
   },
   "source": [
    "# Process and Feature Engineer Test Data\n",
    "We will load @raddar Kaggle dataset from [here][1] with discussion [here][2]. Then we will engineer features suggested by @huseyincot in his notebooks [here][1] and [here][4]. We will use [RAPIDS][5] and the GPU to create new features quickly.\n",
    "\n",
    "[1]: https://www.kaggle.com/datasets/raddar/amex-data-integer-dtypes-parquet-format\n",
    "[2]: https://www.kaggle.com/competitions/amex-default-prediction/discussion/328514\n",
    "[3]: https://www.kaggle.com/code/huseyincot/amex-catboost-0-793\n",
    "[4]: https://www.kaggle.com/code/huseyincot/amex-agg-data-how-it-created\n",
    "[5]: https://rapids.ai/"
   ]
  },
  {
   "cell_type": "code",
   "execution_count": 17,
   "id": "7164ea73",
   "metadata": {
    "execution": {
     "iopub.execute_input": "2022-07-30T16:46:34.619482Z",
     "iopub.status.busy": "2022-07-30T16:46:34.619132Z",
     "iopub.status.idle": "2022-07-30T16:46:37.138694Z",
     "shell.execute_reply": "2022-07-30T16:46:37.137179Z"
    },
    "papermill": {
     "duration": 2.53625,
     "end_time": "2022-07-30T16:46:37.140681",
     "exception": false,
     "start_time": "2022-07-30T16:46:34.604431",
     "status": "completed"
    },
    "tags": []
   },
   "outputs": [
    {
     "name": "stdout",
     "output_type": "stream",
     "text": [
      "Reading test data...\n",
      "shape of data: (11363762, 2)\n",
      "We will process test data as 4 separate parts.\n",
      "There will be 231155 customers in each part (except the last part).\n",
      "Below are number of rows in each part:\n",
      "[2841209, 2839857, 2842105, 2840591]\n"
     ]
    }
   ],
   "source": [
    "# CALCULATE SIZE OF EACH SEPARATE TEST PART\n",
    "def get_rows(customers, test, NUM_PARTS = 4, verbose = ''):\n",
    "    chunk = len(customers)//NUM_PARTS\n",
    "    if verbose != '':\n",
    "        print(f'We will process {verbose} data as {NUM_PARTS} separate parts.')\n",
    "        print(f'There will be {chunk} customers in each part (except the last part).')\n",
    "        print('Below are number of rows in each part:')\n",
    "    rows = []\n",
    "\n",
    "    for k in range(NUM_PARTS):\n",
    "        if k==NUM_PARTS-1: cc = customers[k*chunk:]\n",
    "        else: cc = customers[k*chunk:(k+1)*chunk]\n",
    "        s = test.loc[test.customer_ID.isin(cc)].shape[0]\n",
    "        rows.append(s)\n",
    "    if verbose != '': print( rows )\n",
    "    return rows,chunk\n",
    "\n",
    "# COMPUTE SIZE OF 4 PARTS FOR TEST DATA\n",
    "NUM_PARTS = 4\n",
    "TEST_PATH = '../input/amex-data-integer-dtypes-parquet-format/test.parquet'\n",
    "\n",
    "print(f'Reading test data...')\n",
    "test = read_file(path = TEST_PATH, usecols = ['customer_ID','S_2'])\n",
    "customers = test[['customer_ID']].drop_duplicates().sort_index().values.flatten()\n",
    "rows,num_cust = get_rows(customers, test[['customer_ID']], NUM_PARTS = NUM_PARTS, verbose = 'test')"
   ]
  },
  {
   "cell_type": "markdown",
   "id": "299deff7",
   "metadata": {
    "papermill": {
     "duration": 0.013377,
     "end_time": "2022-07-30T16:46:37.167905",
     "exception": false,
     "start_time": "2022-07-30T16:46:37.154528",
     "status": "completed"
    },
    "tags": []
   },
   "source": [
    "# Infer Test"
   ]
  },
  {
   "cell_type": "code",
   "execution_count": 18,
   "id": "1ced87b1",
   "metadata": {
    "execution": {
     "iopub.execute_input": "2022-07-30T16:46:37.197013Z",
     "iopub.status.busy": "2022-07-30T16:46:37.196135Z",
     "iopub.status.idle": "2022-07-30T16:49:07.198118Z",
     "shell.execute_reply": "2022-07-30T16:49:07.197320Z"
    },
    "papermill": {
     "duration": 150.018651,
     "end_time": "2022-07-30T16:49:07.200237",
     "exception": false,
     "start_time": "2022-07-30T16:46:37.181586",
     "status": "completed"
    },
    "tags": []
   },
   "outputs": [
    {
     "name": "stdout",
     "output_type": "stream",
     "text": [
      "\n",
      "Reading test data...\n",
      "shape of data: (11363762, 190)\n",
      "=> Test part 1 has shape (2841209, 190)\n",
      "shape after engineering (231155, 562)\n",
      "\n",
      "Reading test data...\n",
      "shape of data: (11363762, 190)\n",
      "=> Test part 2 has shape (2839857, 190)\n",
      "shape after engineering (231155, 562)\n",
      "\n",
      "Reading test data...\n",
      "shape of data: (11363762, 190)\n",
      "=> Test part 3 has shape (2842105, 190)\n",
      "shape after engineering (231155, 562)\n",
      "\n",
      "Reading test data...\n",
      "shape of data: (11363762, 190)\n",
      "=> Test part 4 has shape (2840591, 190)\n",
      "shape after engineering (231156, 562)\n"
     ]
    }
   ],
   "source": [
    "# INFER TEST DATA IN PARTS\n",
    "skip_rows = 0\n",
    "skip_cust = 0\n",
    "test_preds = []\n",
    "\n",
    "for k in range(NUM_PARTS):\n",
    "    \n",
    "    # READ PART OF TEST DATA\n",
    "    print(f'\\nReading test data...')\n",
    "    test = read_file(path = TEST_PATH)\n",
    "    test = test.iloc[skip_rows:skip_rows+rows[k]]\n",
    "    skip_rows += rows[k]\n",
    "    print(f'=> Test part {k+1} has shape', test.shape )\n",
    "    \n",
    "    # PROCESS AND FEATURE ENGINEER PART OF TEST DATA\n",
    "    test = process_and_feature_engineer(test)\n",
    "    if k==NUM_PARTS-1: test = test.loc[customers[skip_cust:]]\n",
    "    else: test = test.loc[customers[skip_cust:skip_cust+num_cust]]\n",
    "    skip_cust += num_cust\n",
    "    \n",
    "    # TEST DATA FOR XGB\n",
    "    X_test = test[FEATURES]\n",
    "    dtest = xgb.DMatrix(data=X_test)\n",
    "    test = test[['P_2_mean']] # reduce memory\n",
    "    del X_test\n",
    "    gc.collect()\n",
    "\n",
    "    # INFER XGB MODELS ON TEST DATA\n",
    "    model = xgb.Booster()\n",
    "    model.load_model(f'XGB_v{VER}_fold0.xgb')\n",
    "    preds = model.predict(dtest)\n",
    "    for f in range(1,FOLDS):\n",
    "        model.load_model(f'XGB_v{VER}_fold{f}.xgb')\n",
    "        preds += model.predict(dtest)\n",
    "    preds /= FOLDS\n",
    "    test_preds.append(preds)\n",
    "\n",
    "    # CLEAN MEMORY\n",
    "    del dtest, model\n",
    "    _ = gc.collect()"
   ]
  },
  {
   "cell_type": "markdown",
   "id": "7de245ad",
   "metadata": {
    "papermill": {
     "duration": 0.014896,
     "end_time": "2022-07-30T16:49:07.229987",
     "exception": false,
     "start_time": "2022-07-30T16:49:07.215091",
     "status": "completed"
    },
    "tags": []
   },
   "source": [
    "# Create Submission CSV"
   ]
  },
  {
   "cell_type": "code",
   "execution_count": 19,
   "id": "4db2c902",
   "metadata": {
    "execution": {
     "iopub.execute_input": "2022-07-30T16:49:07.260489Z",
     "iopub.status.busy": "2022-07-30T16:49:07.260186Z",
     "iopub.status.idle": "2022-07-30T16:49:08.350719Z",
     "shell.execute_reply": "2022-07-30T16:49:08.349990Z"
    },
    "papermill": {
     "duration": 1.108392,
     "end_time": "2022-07-30T16:49:08.352866",
     "exception": false,
     "start_time": "2022-07-30T16:49:07.244474",
     "status": "completed"
    },
    "tags": []
   },
   "outputs": [
    {
     "name": "stdout",
     "output_type": "stream",
     "text": [
      "Submission file shape is (924621, 2)\n"
     ]
    },
    {
     "data": {
      "text/html": [
       "<div>\n",
       "<style scoped>\n",
       "    .dataframe tbody tr th:only-of-type {\n",
       "        vertical-align: middle;\n",
       "    }\n",
       "\n",
       "    .dataframe tbody tr th {\n",
       "        vertical-align: top;\n",
       "    }\n",
       "\n",
       "    .dataframe thead th {\n",
       "        text-align: right;\n",
       "    }\n",
       "</style>\n",
       "<table border=\"1\" class=\"dataframe\">\n",
       "  <thead>\n",
       "    <tr style=\"text-align: right;\">\n",
       "      <th></th>\n",
       "      <th>customer_ID</th>\n",
       "      <th>prediction</th>\n",
       "    </tr>\n",
       "  </thead>\n",
       "  <tbody>\n",
       "    <tr>\n",
       "      <th>0</th>\n",
       "      <td>03999d5e3bd61a69504cc6e7025c260c1ed2e5b449dba5...</td>\n",
       "      <td>0.136177</td>\n",
       "    </tr>\n",
       "    <tr>\n",
       "      <th>1</th>\n",
       "      <td>039b4f21aa584fb0c3c7055beabc098af55013f9f25515...</td>\n",
       "      <td>0.004448</td>\n",
       "    </tr>\n",
       "    <tr>\n",
       "      <th>2</th>\n",
       "      <td>039a6aea85575ebd33eec75e5c45bc7973481b81a99b62...</td>\n",
       "      <td>0.095313</td>\n",
       "    </tr>\n",
       "    <tr>\n",
       "      <th>3</th>\n",
       "      <td>039bd96164c6567580b24ba13c2b85b60f4554eb43d55b...</td>\n",
       "      <td>0.468349</td>\n",
       "    </tr>\n",
       "    <tr>\n",
       "      <th>4</th>\n",
       "      <td>0399a5a95461ced4134cd9693712fb012351cca1bde04d...</td>\n",
       "      <td>0.000190</td>\n",
       "    </tr>\n",
       "  </tbody>\n",
       "</table>\n",
       "</div>"
      ],
      "text/plain": [
       "                                         customer_ID  prediction\n",
       "0  03999d5e3bd61a69504cc6e7025c260c1ed2e5b449dba5...    0.136177\n",
       "1  039b4f21aa584fb0c3c7055beabc098af55013f9f25515...    0.004448\n",
       "2  039a6aea85575ebd33eec75e5c45bc7973481b81a99b62...    0.095313\n",
       "3  039bd96164c6567580b24ba13c2b85b60f4554eb43d55b...    0.468349\n",
       "4  0399a5a95461ced4134cd9693712fb012351cca1bde04d...    0.000190"
      ]
     },
     "execution_count": 19,
     "metadata": {},
     "output_type": "execute_result"
    }
   ],
   "source": [
    "# WRITE SUBMISSION FILE\n",
    "test_preds = np.concatenate(test_preds)\n",
    "test = cudf.DataFrame(index=customers,data={'prediction':test_preds})\n",
    "sub = cudf.read_csv('../input/amex-default-prediction/sample_submission.csv')[['customer_ID']]\n",
    "sub['customer_ID_hash'] = sub['customer_ID'].str[-16:].str.hex_to_int().astype('int64')\n",
    "sub = sub.set_index('customer_ID_hash')\n",
    "sub = sub.merge(test[['prediction']], left_index=True, right_index=True, how='left')\n",
    "sub = sub.reset_index(drop=True)\n",
    "\n",
    "# DISPLAY PREDICTIONS\n",
    "sub.to_csv(f'submission_xgb_v{VER}.csv',index=False)\n",
    "print('Submission file shape is', sub.shape )\n",
    "sub.head()"
   ]
  },
  {
   "cell_type": "code",
   "execution_count": 20,
   "id": "b8a376a5",
   "metadata": {
    "execution": {
     "iopub.execute_input": "2022-07-30T16:49:08.384177Z",
     "iopub.status.busy": "2022-07-30T16:49:08.383751Z",
     "iopub.status.idle": "2022-07-30T16:49:09.086181Z",
     "shell.execute_reply": "2022-07-30T16:49:09.085344Z"
    },
    "papermill": {
     "duration": 0.719995,
     "end_time": "2022-07-30T16:49:09.087938",
     "exception": false,
     "start_time": "2022-07-30T16:49:08.367943",
     "status": "completed"
    },
    "tags": []
   },
   "outputs": [
    {
     "data": {
      "image/png": "[encoded data removed]",
      "text/plain": [
       "<Figure size 432x288 with 1 Axes>"
      ]
     },
     "metadata": {
      "needs_background": "light"
     },
     "output_type": "display_data"
    }
   ],
   "source": [
    "# PLOT PREDICTIONS\n",
    "plt.hist(sub.to_pandas().prediction, bins=100)\n",
    "plt.title('Test Predictions')\n",
    "plt.show()"
   ]
  }
 ],
 "metadata": {
  "kernelspec": {
   "display_name": "Python 3",
   "language": "python",
   "name": "python3"
  },
  "language_info": {
   "codemirror_mode": {
    "name": "ipython",
    "version": 3
   },
   "file_extension": ".py",
   "mimetype": "text/x-python",
   "name": "python",
   "nbconvert_exporter": "python",
   "pygments_lexer": "ipython3",
   "version": "3.7.12"
  },
  "papermill": {
   "default_parameters": {},
   "duration": 626.602145,
   "end_time": "2022-07-30T16:49:11.395635",
   "environment_variables": {},
   "exception": null,
   "input_path": "__notebook__.ipynb",
   "output_path": "__notebook__.ipynb",
   "parameters": {},
   "start_time": "2022-07-30T16:38:44.793490",
   "version": "2.3.4"
  }
 },
 "nbformat": 4,
 "nbformat_minor": 5
}
