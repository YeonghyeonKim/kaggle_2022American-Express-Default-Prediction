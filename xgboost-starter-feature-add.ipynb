{
 "cells": [
  {
   "cell_type": "markdown",
   "id": "8be25368",
   "metadata": {
    "papermill": {
     "duration": 0.008367,
     "end_time": "2022-08-04T14:38:39.024986",
     "exception": false,
     "start_time": "2022-08-04T14:38:39.016619",
     "status": "completed"
    },
    "tags": []
   },
   "source": [
    "# XGBoost Starter - LB 0.793\n",
    "In this notebook we build and train an XGBoost model using @raddar Kaggle dataset from [here][1] with discussion [here][2]. Then we engineer features suggested by @huseyincot in his notebooks [here][3] and [here][4]. This XGB model achieves CV 0.792 LB 0.793! When training with XGB, we use a special XGB dataloader called `DeviceQuantileDMatrix` which uses a small GPU memory footprint. This allows us to engineer more additional columns and train with more rows of data. Our feature engineering is performed using [RAPIDS][5] on the GPU to create new features quickly.\n",
    "\n",
    "[1]: https://www.kaggle.com/datasets/raddar/amex-data-integer-dtypes-parquet-format\n",
    "[2]: https://www.kaggle.com/competitions/amex-default-prediction/discussion/328514\n",
    "[3]: https://www.kaggle.com/code/huseyincot/amex-catboost-0-793\n",
    "[4]: https://www.kaggle.com/code/huseyincot/amex-agg-data-how-it-created\n",
    "[5]: https://rapids.ai/"
   ]
  },
  {
   "cell_type": "markdown",
   "id": "c43c6757",
   "metadata": {
    "papermill": {
     "duration": 0.006144,
     "end_time": "2022-08-04T14:38:39.037727",
     "exception": false,
     "start_time": "2022-08-04T14:38:39.031583",
     "status": "completed"
    },
    "tags": []
   },
   "source": [
    "Feature Engineering I done\n",
    "1. Drop B_29, https://www.kaggle.com/code/roberthatch/amex-feature-engg-gpu-or-cpu-process-in-chunks/notebook\n",
    "2. Add each customer count (how long they used) (not normalize)\n",
    "3. Don't fill NaN (with -127)\n",
    "4. remove num_features's min, std\n",
    "5. D_39에 대한 feature 추가 -> CV하락\n",
    "6. B_1과 B_2간의 연관 feature 추가; CV 0.7920\n",
    "7. B_8과 B_9간의 연관 feature 추가; CV 0.7919\n",
    "~~8. corr가 높은 feature중 제거; CV: 0.7914~~\n",
    "9. 6+ fillna(method='bfill'); CV: 0.7906 => NaN으로 냅두자\n",
    "10. 마지막 3개월만 이용; 6 + CV: 0.7892; 4 + CV: 0.7886\n",
    "11. 영향도 낮은 features  제거 R_28, D_94, R_2; 10 + CV: 0.7890,4 + CV: 0.7916, 6 + CV: 0.7921  \n",
    "12. Test시 Fold4 제외; LB: 0.791\n",
    "~~13.\n",
    "    13-1. 영향도가 0인 features 제거; 12 + CV: 0.7921 (LB 등록시 12번을 적용할지 말지 선택해야함)  \n",
    "    13-2. 영향도 범위를 조금 늘림ㅣ 12 + CV: 0.7923, LB: 0.790, 6 + CV: 0.7923, LB: 0.791 (일단 LB가 떨어지긴 하는데 계속 진행)  ~~\n",
    "14. Fold 4;   \n",
    "    6+13-1 CV: 0.7909   \n",
    "    6+13-2 CV: 0.7920, LB: 0.792 (어떻게 해석해야지)  \n",
    "    6+11   CV: 0.7917, (이건 성능이 잘 나올줄 알았는데)\n",
    "~~15. After-pay, 6+11+FOLD4 CV: 0.7917~~ (적용안됬었음 코드 순서 ;;)\n",
    "16. 영향도가 0인 피쳐 제거\n",
    "<!-- 9. add nasdaq info simply -->"
   ]
  },
  {
   "cell_type": "markdown",
   "id": "d2c2b1ec",
   "metadata": {
    "papermill": {
     "duration": 0.005502,
     "end_time": "2022-08-04T14:38:39.049051",
     "exception": false,
     "start_time": "2022-08-04T14:38:39.043549",
     "status": "completed"
    },
    "tags": []
   },
   "source": [
    "# Load Libraries"
   ]
  },
  {
   "cell_type": "code",
   "execution_count": 1,
   "id": "24f3245d",
   "metadata": {
    "execution": {
     "iopub.execute_input": "2022-08-04T14:38:39.062444Z",
     "iopub.status.busy": "2022-08-04T14:38:39.061804Z",
     "iopub.status.idle": "2022-08-04T14:38:42.843636Z",
     "shell.execute_reply": "2022-08-04T14:38:42.842793Z"
    },
    "papermill": {
     "duration": 3.791871,
     "end_time": "2022-08-04T14:38:42.846656",
     "exception": false,
     "start_time": "2022-08-04T14:38:39.054785",
     "status": "completed"
    },
    "tags": []
   },
   "outputs": [
    {
     "name": "stdout",
     "output_type": "stream",
     "text": [
      "RAPIDS version 21.10.01\n"
     ]
    }
   ],
   "source": [
    "# LOAD LIBRARIES\n",
    "import pandas as pd, numpy as np # CPU libraries\n",
    "import cupy, cudf # GPU libraries\n",
    "import matplotlib.pyplot as plt, gc, os\n",
    "\n",
    "print('RAPIDS version',cudf.__version__)"
   ]
  },
  {
   "cell_type": "code",
   "execution_count": 2,
   "id": "059a5963",
   "metadata": {
    "execution": {
     "iopub.execute_input": "2022-08-04T14:38:42.861157Z",
     "iopub.status.busy": "2022-08-04T14:38:42.860457Z",
     "iopub.status.idle": "2022-08-04T14:38:42.865133Z",
     "shell.execute_reply": "2022-08-04T14:38:42.864384Z"
    },
    "papermill": {
     "duration": 0.013107,
     "end_time": "2022-08-04T14:38:42.866820",
     "exception": false,
     "start_time": "2022-08-04T14:38:42.853713",
     "status": "completed"
    },
    "tags": []
   },
   "outputs": [],
   "source": [
    "# VERSION NAME FOR SAVED MODEL FILES\n",
    "VER = 1\n",
    "\n",
    "# TRAIN RANDOM SEED\n",
    "SEED = 42\n",
    "\n",
    "# FILL NAN VALUE\n",
    "NAN_VALUE = -127 # will fit in int8\n",
    "\n",
    "# FOLDS PER MODEL\n",
    "FOLDS = 4"
   ]
  },
  {
   "cell_type": "markdown",
   "id": "8f2a32dc",
   "metadata": {
    "papermill": {
     "duration": 0.005606,
     "end_time": "2022-08-04T14:38:42.878122",
     "exception": false,
     "start_time": "2022-08-04T14:38:42.872516",
     "status": "completed"
    },
    "tags": []
   },
   "source": [
    "# Process and Feature Engineer Train Data\n",
    "We will load @raddar Kaggle dataset from [here][1] with discussion [here][2]. Then we will engineer features suggested by @huseyincot in his notebooks [here][3] and [here][4]. We will use [RAPIDS][5] and the GPU to create new features quickly.\n",
    "\n",
    "[1]: https://www.kaggle.com/datasets/raddar/amex-data-integer-dtypes-parquet-format\n",
    "[2]: https://www.kaggle.com/competitions/amex-default-prediction/discussion/328514\n",
    "[3]: https://www.kaggle.com/code/huseyincot/amex-catboost-0-793\n",
    "[4]: https://www.kaggle.com/code/huseyincot/amex-agg-data-how-it-created\n",
    "[5]: https://rapids.ai/"
   ]
  },
  {
   "cell_type": "code",
   "execution_count": 3,
   "id": "8da84457",
   "metadata": {
    "execution": {
     "iopub.execute_input": "2022-08-04T14:38:42.890629Z",
     "iopub.status.busy": "2022-08-04T14:38:42.890368Z",
     "iopub.status.idle": "2022-08-04T14:39:05.528602Z",
     "shell.execute_reply": "2022-08-04T14:39:05.527751Z"
    },
    "papermill": {
     "duration": 22.64667,
     "end_time": "2022-08-04T14:39:05.530490",
     "exception": false,
     "start_time": "2022-08-04T14:38:42.883820",
     "status": "completed"
    },
    "tags": []
   },
   "outputs": [
    {
     "name": "stdout",
     "output_type": "stream",
     "text": [
      "Reading train data...\n",
      "shape of data: (5531451, 190)\n"
     ]
    }
   ],
   "source": [
    "def read_file(path = '', usecols = None):\n",
    "    # LOAD DATAFRAME\n",
    "    if usecols is not None: df = cudf.read_parquet(path, columns=usecols)\n",
    "    else: df = cudf.read_parquet(path)\n",
    "    # REDUCE DTYPE FOR CUSTOMER AND DATE\n",
    "    df['customer_ID'] = df['customer_ID'].str[-16:].str.hex_to_int().astype('int64')\n",
    "    df.S_2 = cudf.to_datetime( df.S_2 )\n",
    "    # SORT BY CUSTOMER AND DATE (so agg('last') works correctly)\n",
    "    #df = df.sort_values(['customer_ID','S_2'])\n",
    "    #df = df.reset_index(drop=True)\n",
    "    # FILL NAN\n",
    "#     df = df.fillna(NAN_VALUE) \n",
    "    print('shape of data:', df.shape)\n",
    "    \n",
    "    return df\n",
    "\n",
    "print('Reading train data...')\n",
    "TRAIN_PATH = '../input/amex-data-integer-dtypes-parquet-format/train.parquet'\n",
    "train = read_file(path = TRAIN_PATH)"
   ]
  },
  {
   "cell_type": "code",
   "execution_count": 4,
   "id": "6d5492f4",
   "metadata": {
    "execution": {
     "iopub.execute_input": "2022-08-04T14:39:05.543598Z",
     "iopub.status.busy": "2022-08-04T14:39:05.543309Z",
     "iopub.status.idle": "2022-08-04T14:39:05.807800Z",
     "shell.execute_reply": "2022-08-04T14:39:05.807044Z"
    },
    "papermill": {
     "duration": 0.273079,
     "end_time": "2022-08-04T14:39:05.809703",
     "exception": false,
     "start_time": "2022-08-04T14:39:05.536624",
     "status": "completed"
    },
    "tags": []
   },
   "outputs": [
    {
     "data": {
      "text/html": [
       "<div>\n",
       "<style scoped>\n",
       "    .dataframe tbody tr th:only-of-type {\n",
       "        vertical-align: middle;\n",
       "    }\n",
       "\n",
       "    .dataframe tbody tr th {\n",
       "        vertical-align: top;\n",
       "    }\n",
       "\n",
       "    .dataframe thead th {\n",
       "        text-align: right;\n",
       "    }\n",
       "</style>\n",
       "<table border=\"1\" class=\"dataframe\">\n",
       "  <thead>\n",
       "    <tr style=\"text-align: right;\">\n",
       "      <th></th>\n",
       "      <th>customer_ID</th>\n",
       "      <th>S_2</th>\n",
       "      <th>P_2</th>\n",
       "      <th>D_39</th>\n",
       "      <th>B_1</th>\n",
       "      <th>B_2</th>\n",
       "      <th>R_1</th>\n",
       "      <th>S_3</th>\n",
       "      <th>D_41</th>\n",
       "      <th>B_3</th>\n",
       "      <th>...</th>\n",
       "      <th>D_136</th>\n",
       "      <th>D_137</th>\n",
       "      <th>D_138</th>\n",
       "      <th>D_139</th>\n",
       "      <th>D_140</th>\n",
       "      <th>D_141</th>\n",
       "      <th>D_142</th>\n",
       "      <th>D_143</th>\n",
       "      <th>D_144</th>\n",
       "      <th>D_145</th>\n",
       "    </tr>\n",
       "  </thead>\n",
       "  <tbody>\n",
       "    <tr>\n",
       "      <th>0</th>\n",
       "      <td>-4532153018459703766</td>\n",
       "      <td>2017-03-09</td>\n",
       "      <td>0.938469</td>\n",
       "      <td>0</td>\n",
       "      <td>0.008724</td>\n",
       "      <td>1.006838</td>\n",
       "      <td>0.009228</td>\n",
       "      <td>0.124035</td>\n",
       "      <td>0.0</td>\n",
       "      <td>0.004709</td>\n",
       "      <td>...</td>\n",
       "      <td>-1</td>\n",
       "      <td>-1</td>\n",
       "      <td>-1</td>\n",
       "      <td>0</td>\n",
       "      <td>0</td>\n",
       "      <td>0.0</td>\n",
       "      <td>&lt;NA&gt;</td>\n",
       "      <td>0</td>\n",
       "      <td>0.000610</td>\n",
       "      <td>0</td>\n",
       "    </tr>\n",
       "    <tr>\n",
       "      <th>1</th>\n",
       "      <td>-4532153018459703766</td>\n",
       "      <td>2017-04-07</td>\n",
       "      <td>0.936665</td>\n",
       "      <td>0</td>\n",
       "      <td>0.004923</td>\n",
       "      <td>1.000653</td>\n",
       "      <td>0.006151</td>\n",
       "      <td>0.126750</td>\n",
       "      <td>0.0</td>\n",
       "      <td>0.002714</td>\n",
       "      <td>...</td>\n",
       "      <td>-1</td>\n",
       "      <td>-1</td>\n",
       "      <td>-1</td>\n",
       "      <td>0</td>\n",
       "      <td>0</td>\n",
       "      <td>0.0</td>\n",
       "      <td>&lt;NA&gt;</td>\n",
       "      <td>0</td>\n",
       "      <td>0.005492</td>\n",
       "      <td>0</td>\n",
       "    </tr>\n",
       "    <tr>\n",
       "      <th>2</th>\n",
       "      <td>-4532153018459703766</td>\n",
       "      <td>2017-05-28</td>\n",
       "      <td>0.954180</td>\n",
       "      <td>3</td>\n",
       "      <td>0.021655</td>\n",
       "      <td>1.009672</td>\n",
       "      <td>0.006815</td>\n",
       "      <td>0.123977</td>\n",
       "      <td>0.0</td>\n",
       "      <td>0.009423</td>\n",
       "      <td>...</td>\n",
       "      <td>-1</td>\n",
       "      <td>-1</td>\n",
       "      <td>-1</td>\n",
       "      <td>0</td>\n",
       "      <td>0</td>\n",
       "      <td>0.0</td>\n",
       "      <td>&lt;NA&gt;</td>\n",
       "      <td>0</td>\n",
       "      <td>0.006986</td>\n",
       "      <td>0</td>\n",
       "    </tr>\n",
       "    <tr>\n",
       "      <th>3</th>\n",
       "      <td>-4532153018459703766</td>\n",
       "      <td>2017-06-13</td>\n",
       "      <td>0.960384</td>\n",
       "      <td>0</td>\n",
       "      <td>0.013683</td>\n",
       "      <td>1.002700</td>\n",
       "      <td>0.001373</td>\n",
       "      <td>0.117169</td>\n",
       "      <td>0.0</td>\n",
       "      <td>0.005531</td>\n",
       "      <td>...</td>\n",
       "      <td>-1</td>\n",
       "      <td>-1</td>\n",
       "      <td>-1</td>\n",
       "      <td>0</td>\n",
       "      <td>0</td>\n",
       "      <td>0.0</td>\n",
       "      <td>&lt;NA&gt;</td>\n",
       "      <td>0</td>\n",
       "      <td>0.006527</td>\n",
       "      <td>0</td>\n",
       "    </tr>\n",
       "    <tr>\n",
       "      <th>4</th>\n",
       "      <td>-4532153018459703766</td>\n",
       "      <td>2017-07-16</td>\n",
       "      <td>0.947248</td>\n",
       "      <td>0</td>\n",
       "      <td>0.015193</td>\n",
       "      <td>1.000727</td>\n",
       "      <td>0.007605</td>\n",
       "      <td>0.117325</td>\n",
       "      <td>0.0</td>\n",
       "      <td>0.009312</td>\n",
       "      <td>...</td>\n",
       "      <td>-1</td>\n",
       "      <td>-1</td>\n",
       "      <td>-1</td>\n",
       "      <td>0</td>\n",
       "      <td>0</td>\n",
       "      <td>0.0</td>\n",
       "      <td>&lt;NA&gt;</td>\n",
       "      <td>0</td>\n",
       "      <td>0.008126</td>\n",
       "      <td>0</td>\n",
       "    </tr>\n",
       "  </tbody>\n",
       "</table>\n",
       "<p>5 rows × 190 columns</p>\n",
       "</div>"
      ],
      "text/plain": [
       "           customer_ID        S_2       P_2  D_39       B_1       B_2  \\\n",
       "0 -4532153018459703766 2017-03-09  0.938469     0  0.008724  1.006838   \n",
       "1 -4532153018459703766 2017-04-07  0.936665     0  0.004923  1.000653   \n",
       "2 -4532153018459703766 2017-05-28  0.954180     3  0.021655  1.009672   \n",
       "3 -4532153018459703766 2017-06-13  0.960384     0  0.013683  1.002700   \n",
       "4 -4532153018459703766 2017-07-16  0.947248     0  0.015193  1.000727   \n",
       "\n",
       "        R_1       S_3  D_41       B_3  ... D_136  D_137  D_138  D_139  D_140  \\\n",
       "0  0.009228  0.124035   0.0  0.004709  ...    -1     -1     -1      0      0   \n",
       "1  0.006151  0.126750   0.0  0.002714  ...    -1     -1     -1      0      0   \n",
       "2  0.006815  0.123977   0.0  0.009423  ...    -1     -1     -1      0      0   \n",
       "3  0.001373  0.117169   0.0  0.005531  ...    -1     -1     -1      0      0   \n",
       "4  0.007605  0.117325   0.0  0.009312  ...    -1     -1     -1      0      0   \n",
       "\n",
       "   D_141  D_142 D_143     D_144  D_145  \n",
       "0    0.0   <NA>     0  0.000610      0  \n",
       "1    0.0   <NA>     0  0.005492      0  \n",
       "2    0.0   <NA>     0  0.006986      0  \n",
       "3    0.0   <NA>     0  0.006527      0  \n",
       "4    0.0   <NA>     0  0.008126      0  \n",
       "\n",
       "[5 rows x 190 columns]"
      ]
     },
     "execution_count": 4,
     "metadata": {},
     "output_type": "execute_result"
    }
   ],
   "source": [
    "train.head()"
   ]
  },
  {
   "cell_type": "code",
   "execution_count": 5,
   "id": "fb49ed27",
   "metadata": {
    "execution": {
     "iopub.execute_input": "2022-08-04T14:39:05.823749Z",
     "iopub.status.busy": "2022-08-04T14:39:05.823077Z",
     "iopub.status.idle": "2022-08-04T14:39:08.316178Z",
     "shell.execute_reply": "2022-08-04T14:39:08.315344Z"
    },
    "papermill": {
     "duration": 2.502458,
     "end_time": "2022-08-04T14:39:08.318504",
     "exception": false,
     "start_time": "2022-08-04T14:39:05.816046",
     "status": "completed"
    },
    "tags": []
   },
   "outputs": [
    {
     "name": "stdout",
     "output_type": "stream",
     "text": [
      "shape after engineering (458913, 520)\n"
     ]
    }
   ],
   "source": [
    "def process_and_feature_engineer(df):\n",
    "    # FEATURE ENGINEERING FROM \n",
    "    # https://www.kaggle.com/code/huseyincot/amex-agg-data-how-it-created\n",
    "#     9) nasdaq\n",
    "#     nasdaq_path = '../input/nasdaq/nasdaq.csv'\n",
    "#     nasdaq = cudf.read_csv(nasdaq_path, encoding='utf-8-sig')\n",
    "#     nasdaq.rename(columns={'\\ufeffS_2': 'S_2'}, inplace=True)\n",
    "#     nasdaq.drop(['tradingvolume'], inplace=True, axis=1)\n",
    "#     nasdaq.S_2 = cudf.to_datetime(nasdaq.S_2)\n",
    "#     nasdaq[['closing','open', 'high', 'low']] = nasdaq[['closing','open', 'high', 'low']].astype(float)    \n",
    "#     df = df.merge(nasdaq, on='S_2')\n",
    "    \n",
    "#     1) Drop 'B_29' \n",
    "    df.drop(['B_29'], inplace=True, axis=1)\n",
    "#     11) Drop R_28, D_94, R_2\n",
    "    df.drop(['R_28', 'D_94', 'R_2'], inplace=True, axis=1)\n",
    "    \n",
    "#     6) B1, B2에 연관 feature추가\n",
    "    df['B_1_2'] = df['B_1']/(df['B_2']+0.0000001)\n",
    "\n",
    "#     5) D_39에 대한 feature 추가\n",
    "#     df['D_39_div30'] = df['D_39']/30\n",
    "#     10) 마지막 3개월만 이용\n",
    "#     df = cudf.concat([df.groupby('customer_ID').nth(-3), df.groupby('customer_ID').nth(-2), df.groupby('customer_ID').nth(-1)]).reset_index()\n",
    "\n",
    "    \n",
    "    all_cols = [c for c in list(df.columns) if c not in ['customer_ID','S_2']]\n",
    "    cat_features = [\"B_30\",\"B_38\",\"D_114\",\"D_116\",\"D_117\",\"D_120\",\"D_126\",\"D_63\",\"D_64\",\"D_66\",\"D_68\"]\n",
    "    num_features = [col for col in all_cols if col not in cat_features]\n",
    "\n",
    "    \n",
    "#     2) Add customer count\n",
    "    test_count_agg = df.groupby(['customer_ID'])['S_2'].agg(['count'])\n",
    "\n",
    "\n",
    "    test_num_agg = df.groupby(\"customer_ID\")[num_features].agg(['mean', 'max', 'last'])\n",
    "    test_num_agg.columns = ['_'.join(x) for x in test_num_agg.columns]\n",
    "\n",
    "    test_cat_agg = df.groupby(\"customer_ID\")[cat_features].agg(['count', 'last', 'nunique'])\n",
    "    test_cat_agg.columns = ['_'.join(x) for x in test_cat_agg.columns]\n",
    "\n",
    "    \n",
    "    \n",
    "    df = cudf.concat([test_count_agg,test_num_agg, test_cat_agg], axis=1)\n",
    "    df.drop(['D_68_count',\n",
    " 'D_117_count',\n",
    " 'D_66_count',\n",
    " 'S_18_max',\n",
    " 'D_87_max',\n",
    " 'D_64_count',\n",
    " 'D_109_last',\n",
    " 'D_63_count',\n",
    " 'D_120_count',\n",
    " 'D_116_last',\n",
    " 'S_6_max',\n",
    " 'R_25_last',\n",
    " 'D_126_count',\n",
    " 'D_126_last',\n",
    " 'D_109_max',\n",
    " 'D_103_max',\n",
    " 'R_24_max',\n",
    " 'D_111_last',\n",
    " 'D_136_last',\n",
    " 'D_123_last',\n",
    " 'R_18_last',\n",
    " 'D_137_last',\n",
    " 'R_18_max',\n",
    " 'D_139_max',\n",
    " 'S_20_last',\n",
    " 'R_21_max',\n",
    " 'R_21_last',\n",
    " 'D_116_count',\n",
    " 'R_18_mean',\n",
    " 'R_23_mean',\n",
    " 'R_23_max',\n",
    " 'R_23_last',\n",
    " 'D_93_max',\n",
    " 'D_93_last',\n",
    " 'B_31_max',\n",
    " 'D_87_last',\n",
    " 'R_4_max',\n",
    " 'D_114_count',\n",
    " 'D_143_last',\n",
    " 'D_143_max'], inplace=True, axis=1)\n",
    "    # compute \"after pay\" features\n",
    "    for bcol in [f'B_{i}_last' for i in [ 14,17]]:\n",
    "        for pcol in ['P_2_last','P_3_last']:\n",
    "            if bcol in df.columns:\n",
    "                df[f'{bcol}-{pcol}'] = df[bcol] - df[pcol]\n",
    "    del test_num_agg, test_cat_agg\n",
    "    print('shape after engineering', df.shape )\n",
    "    \n",
    "    return df\n",
    "\n",
    "train = process_and_feature_engineer(train)"
   ]
  },
  {
   "cell_type": "code",
   "execution_count": 6,
   "id": "749a151b",
   "metadata": {
    "execution": {
     "iopub.execute_input": "2022-08-04T14:39:08.332736Z",
     "iopub.status.busy": "2022-08-04T14:39:08.332439Z",
     "iopub.status.idle": "2022-08-04T14:39:09.202086Z",
     "shell.execute_reply": "2022-08-04T14:39:09.201241Z"
    },
    "papermill": {
     "duration": 0.879298,
     "end_time": "2022-08-04T14:39:09.204187",
     "exception": false,
     "start_time": "2022-08-04T14:39:08.324889",
     "status": "completed"
    },
    "tags": []
   },
   "outputs": [
    {
     "name": "stdout",
     "output_type": "stream",
     "text": [
      "There are 520 features!\n"
     ]
    }
   ],
   "source": [
    "# ADD TARGETS\n",
    "targets = cudf.read_csv('../input/amex-default-prediction/train_labels.csv')\n",
    "targets['customer_ID'] = targets['customer_ID'].str[-16:].str.hex_to_int().astype('int64')\n",
    "targets = targets.set_index('customer_ID')\n",
    "train = train.merge(targets, left_index=True, right_index=True, how='left')\n",
    "train.target = train.target.astype('int8')\n",
    "del targets\n",
    "\n",
    "# NEEDED TO MAKE CV DETERMINISTIC (cudf merge above randomly shuffles rows)\n",
    "train = train.sort_index().reset_index()\n",
    "\n",
    "# FEATURES\n",
    "FEATURES = train.columns[1:-1]\n",
    "print(f'There are {len(FEATURES)} features!')"
   ]
  },
  {
   "cell_type": "markdown",
   "id": "0fcb1d23",
   "metadata": {
    "papermill": {
     "duration": 0.006018,
     "end_time": "2022-08-04T14:39:09.216842",
     "exception": false,
     "start_time": "2022-08-04T14:39:09.210824",
     "status": "completed"
    },
    "tags": []
   },
   "source": [
    "# Train XGB\n",
    "We will train using `DeviceQuantileDMatrix`. This has a very small GPU memory footprint."
   ]
  },
  {
   "cell_type": "code",
   "execution_count": 7,
   "id": "0e2cbfe5",
   "metadata": {
    "execution": {
     "iopub.execute_input": "2022-08-04T14:39:09.230675Z",
     "iopub.status.busy": "2022-08-04T14:39:09.230393Z",
     "iopub.status.idle": "2022-08-04T14:39:09.311000Z",
     "shell.execute_reply": "2022-08-04T14:39:09.310104Z"
    },
    "papermill": {
     "duration": 0.089767,
     "end_time": "2022-08-04T14:39:09.312763",
     "exception": false,
     "start_time": "2022-08-04T14:39:09.222996",
     "status": "completed"
    },
    "tags": []
   },
   "outputs": [
    {
     "name": "stdout",
     "output_type": "stream",
     "text": [
      "XGB Version 1.6.1\n"
     ]
    }
   ],
   "source": [
    "# LOAD XGB LIBRARY\n",
    "from sklearn.model_selection import KFold\n",
    "import xgboost as xgb\n",
    "print('XGB Version',xgb.__version__)\n",
    "\n",
    "# XGB MODEL PARAMETERS\n",
    "xgb_parms = { \n",
    "    'max_depth':4, \n",
    "    'learning_rate':0.05, \n",
    "    'subsample':0.8,\n",
    "    'colsample_bytree':0.6, \n",
    "    'eval_metric':'logloss',\n",
    "    'objective':'binary:logistic',\n",
    "    'tree_method':'gpu_hist',\n",
    "    'predictor':'gpu_predictor',\n",
    "    'random_state':SEED\n",
    "}"
   ]
  },
  {
   "cell_type": "code",
   "execution_count": 8,
   "id": "26801c7e",
   "metadata": {
    "execution": {
     "iopub.execute_input": "2022-08-04T14:39:09.326657Z",
     "iopub.status.busy": "2022-08-04T14:39:09.326396Z",
     "iopub.status.idle": "2022-08-04T14:39:09.334515Z",
     "shell.execute_reply": "2022-08-04T14:39:09.333840Z"
    },
    "papermill": {
     "duration": 0.017257,
     "end_time": "2022-08-04T14:39:09.336206",
     "exception": false,
     "start_time": "2022-08-04T14:39:09.318949",
     "status": "completed"
    },
    "tags": []
   },
   "outputs": [],
   "source": [
    "# NEEDED WITH DeviceQuantileDMatrix BELOW\n",
    "class IterLoadForDMatrix(xgb.core.DataIter):\n",
    "    def __init__(self, df=None, features=None, target=None, batch_size=256*1024):\n",
    "        self.features = features\n",
    "        self.target = target\n",
    "        self.df = df\n",
    "        self.it = 0 # set iterator to 0\n",
    "        self.batch_size = batch_size\n",
    "        self.batches = int( np.ceil( len(df) / self.batch_size ) )\n",
    "        super().__init__()\n",
    "\n",
    "    def reset(self):\n",
    "        '''Reset the iterator'''\n",
    "        self.it = 0\n",
    "\n",
    "    def next(self, input_data):\n",
    "        '''Yield next batch of data.'''\n",
    "        if self.it == self.batches:\n",
    "            return 0 # Return 0 when there's no more batch.\n",
    "        \n",
    "        a = self.it * self.batch_size\n",
    "        b = min( (self.it + 1) * self.batch_size, len(self.df) )\n",
    "        dt = cudf.DataFrame(self.df.iloc[a:b])\n",
    "        input_data(data=dt[self.features], label=dt[self.target]) #, weight=dt['weight'])\n",
    "        self.it += 1\n",
    "        return 1"
   ]
  },
  {
   "cell_type": "code",
   "execution_count": 9,
   "id": "38d8c36f",
   "metadata": {
    "execution": {
     "iopub.execute_input": "2022-08-04T14:39:09.351033Z",
     "iopub.status.busy": "2022-08-04T14:39:09.350146Z",
     "iopub.status.idle": "2022-08-04T14:39:09.358745Z",
     "shell.execute_reply": "2022-08-04T14:39:09.358010Z"
    },
    "papermill": {
     "duration": 0.01798,
     "end_time": "2022-08-04T14:39:09.360367",
     "exception": false,
     "start_time": "2022-08-04T14:39:09.342387",
     "status": "completed"
    },
    "tags": []
   },
   "outputs": [],
   "source": [
    "# https://www.kaggle.com/kyakovlev\n",
    "# https://www.kaggle.com/competitions/amex-default-prediction/discussion/327534\n",
    "def amex_metric_mod(y_true, y_pred):\n",
    "\n",
    "    labels     = np.transpose(np.array([y_true, y_pred]))\n",
    "    labels     = labels[labels[:, 1].argsort()[::-1]]\n",
    "    weights    = np.where(labels[:,0]==0, 20, 1)\n",
    "    cut_vals   = labels[np.cumsum(weights) <= int(0.04 * np.sum(weights))]\n",
    "    top_four   = np.sum(cut_vals[:,0]) / np.sum(labels[:,0])\n",
    "\n",
    "    gini = [0,0]\n",
    "    for i in [1,0]:\n",
    "        labels         = np.transpose(np.array([y_true, y_pred]))\n",
    "        labels         = labels[labels[:, i].argsort()[::-1]]\n",
    "        weight         = np.where(labels[:,0]==0, 20, 1)\n",
    "        weight_random  = np.cumsum(weight / np.sum(weight))\n",
    "        total_pos      = np.sum(labels[:, 0] *  weight)\n",
    "        cum_pos_found  = np.cumsum(labels[:, 0] * weight)\n",
    "        lorentz        = cum_pos_found / total_pos\n",
    "        gini[i]        = np.sum((lorentz - weight_random) * weight)\n",
    "\n",
    "    return 0.5 * (gini[1]/gini[0] + top_four)"
   ]
  },
  {
   "cell_type": "code",
   "execution_count": 10,
   "id": "0af85e86",
   "metadata": {
    "execution": {
     "iopub.execute_input": "2022-08-04T14:39:09.374049Z",
     "iopub.status.busy": "2022-08-04T14:39:09.373785Z",
     "iopub.status.idle": "2022-08-04T14:43:44.427141Z",
     "shell.execute_reply": "2022-08-04T14:43:44.426268Z"
    },
    "papermill": {
     "duration": 275.062627,
     "end_time": "2022-08-04T14:43:44.429131",
     "exception": false,
     "start_time": "2022-08-04T14:39:09.366504",
     "status": "completed"
    },
    "scrolled": true,
    "tags": []
   },
   "outputs": [
    {
     "name": "stdout",
     "output_type": "stream",
     "text": [
      "#########################\n",
      "### Fold 1\n",
      "### Train size 344184 Valid size 114729\n",
      "### Training with 100% fold data...\n",
      "#########################\n",
      "[0]\ttrain-logloss:0.66258\tvalid-logloss:0.66256\n",
      "[100]\ttrain-logloss:0.23659\tvalid-logloss:0.23895\n",
      "[200]\ttrain-logloss:0.22255\tvalid-logloss:0.22716\n",
      "[300]\ttrain-logloss:0.21633\tvalid-logloss:0.22303\n",
      "[400]\ttrain-logloss:0.21226\tvalid-logloss:0.22095\n",
      "[500]\ttrain-logloss:0.20901\tvalid-logloss:0.21970\n",
      "[600]\ttrain-logloss:0.20621\tvalid-logloss:0.21889\n",
      "[700]\ttrain-logloss:0.20367\tvalid-logloss:0.21839\n",
      "[800]\ttrain-logloss:0.20142\tvalid-logloss:0.21798\n",
      "[900]\ttrain-logloss:0.19921\tvalid-logloss:0.21773\n",
      "[1000]\ttrain-logloss:0.19721\tvalid-logloss:0.21744\n",
      "[1100]\ttrain-logloss:0.19513\tvalid-logloss:0.21728\n",
      "[1200]\ttrain-logloss:0.19320\tvalid-logloss:0.21715\n",
      "[1300]\ttrain-logloss:0.19137\tvalid-logloss:0.21703\n",
      "[1400]\ttrain-logloss:0.18953\tvalid-logloss:0.21691\n",
      "[1500]\ttrain-logloss:0.18774\tvalid-logloss:0.21684\n",
      "[1600]\ttrain-logloss:0.18603\tvalid-logloss:0.21685\n",
      "[1700]\ttrain-logloss:0.18426\tvalid-logloss:0.21680\n",
      "[1800]\ttrain-logloss:0.18259\tvalid-logloss:0.21680\n",
      "[1900]\ttrain-logloss:0.18091\tvalid-logloss:0.21673\n",
      "[1981]\ttrain-logloss:0.17957\tvalid-logloss:0.21676\n",
      "Kaggle Metric = 0.7929549102350388 \n",
      "\n",
      "#########################\n",
      "### Fold 2\n",
      "### Train size 344185 Valid size 114728\n",
      "### Training with 100% fold data...\n",
      "#########################\n",
      "[0]\ttrain-logloss:0.66257\tvalid-logloss:0.66263\n",
      "[100]\ttrain-logloss:0.23656\tvalid-logloss:0.23872\n",
      "[200]\ttrain-logloss:0.22245\tvalid-logloss:0.22694\n",
      "[300]\ttrain-logloss:0.21639\tvalid-logloss:0.22289\n",
      "[400]\ttrain-logloss:0.21235\tvalid-logloss:0.22084\n",
      "[500]\ttrain-logloss:0.20918\tvalid-logloss:0.21967\n",
      "[600]\ttrain-logloss:0.20645\tvalid-logloss:0.21888\n",
      "[700]\ttrain-logloss:0.20400\tvalid-logloss:0.21830\n",
      "[800]\ttrain-logloss:0.20169\tvalid-logloss:0.21793\n",
      "[900]\ttrain-logloss:0.19948\tvalid-logloss:0.21764\n",
      "[1000]\ttrain-logloss:0.19743\tvalid-logloss:0.21736\n",
      "[1100]\ttrain-logloss:0.19541\tvalid-logloss:0.21719\n",
      "[1200]\ttrain-logloss:0.19343\tvalid-logloss:0.21706\n",
      "[1300]\ttrain-logloss:0.19150\tvalid-logloss:0.21682\n",
      "[1400]\ttrain-logloss:0.18964\tvalid-logloss:0.21671\n",
      "[1500]\ttrain-logloss:0.18783\tvalid-logloss:0.21654\n",
      "[1600]\ttrain-logloss:0.18611\tvalid-logloss:0.21647\n",
      "[1700]\ttrain-logloss:0.18441\tvalid-logloss:0.21640\n",
      "[1800]\ttrain-logloss:0.18273\tvalid-logloss:0.21640\n",
      "[1871]\ttrain-logloss:0.18154\tvalid-logloss:0.21638\n",
      "Kaggle Metric = 0.7921709520332029 \n",
      "\n",
      "#########################\n",
      "### Fold 3\n",
      "### Train size 344185 Valid size 114728\n",
      "### Training with 100% fold data...\n",
      "#########################\n",
      "[0]\ttrain-logloss:0.66251\tvalid-logloss:0.66263\n",
      "[100]\ttrain-logloss:0.23605\tvalid-logloss:0.24049\n",
      "[200]\ttrain-logloss:0.22190\tvalid-logloss:0.22908\n",
      "[300]\ttrain-logloss:0.21568\tvalid-logloss:0.22525\n",
      "[400]\ttrain-logloss:0.21155\tvalid-logloss:0.22334\n",
      "[500]\ttrain-logloss:0.20829\tvalid-logloss:0.22234\n",
      "[600]\ttrain-logloss:0.20554\tvalid-logloss:0.22158\n",
      "[700]\ttrain-logloss:0.20306\tvalid-logloss:0.22113\n",
      "[800]\ttrain-logloss:0.20077\tvalid-logloss:0.22086\n",
      "[900]\ttrain-logloss:0.19856\tvalid-logloss:0.22056\n",
      "[1000]\ttrain-logloss:0.19639\tvalid-logloss:0.22037\n",
      "[1100]\ttrain-logloss:0.19439\tvalid-logloss:0.22019\n",
      "[1200]\ttrain-logloss:0.19241\tvalid-logloss:0.22007\n",
      "[1300]\ttrain-logloss:0.19052\tvalid-logloss:0.21997\n",
      "[1400]\ttrain-logloss:0.18866\tvalid-logloss:0.21985\n",
      "[1500]\ttrain-logloss:0.18684\tvalid-logloss:0.21980\n",
      "[1600]\ttrain-logloss:0.18510\tvalid-logloss:0.21974\n",
      "[1700]\ttrain-logloss:0.18339\tvalid-logloss:0.21970\n",
      "[1800]\ttrain-logloss:0.18168\tvalid-logloss:0.21970\n",
      "[1810]\ttrain-logloss:0.18151\tvalid-logloss:0.21970\n",
      "Kaggle Metric = 0.7891421772841574 \n",
      "\n",
      "#########################\n",
      "### Fold 4\n",
      "### Train size 344185 Valid size 114728\n",
      "### Training with 100% fold data...\n",
      "#########################\n",
      "[0]\ttrain-logloss:0.66257\tvalid-logloss:0.66255\n",
      "[100]\ttrain-logloss:0.23696\tvalid-logloss:0.23817\n",
      "[200]\ttrain-logloss:0.22287\tvalid-logloss:0.22622\n",
      "[300]\ttrain-logloss:0.21678\tvalid-logloss:0.22218\n",
      "[400]\ttrain-logloss:0.21275\tvalid-logloss:0.22017\n",
      "[500]\ttrain-logloss:0.20951\tvalid-logloss:0.21889\n",
      "[600]\ttrain-logloss:0.20676\tvalid-logloss:0.21814\n",
      "[700]\ttrain-logloss:0.20421\tvalid-logloss:0.21751\n",
      "[800]\ttrain-logloss:0.20188\tvalid-logloss:0.21715\n",
      "[900]\ttrain-logloss:0.19966\tvalid-logloss:0.21685\n",
      "[1000]\ttrain-logloss:0.19757\tvalid-logloss:0.21666\n",
      "[1100]\ttrain-logloss:0.19552\tvalid-logloss:0.21645\n",
      "[1200]\ttrain-logloss:0.19356\tvalid-logloss:0.21628\n",
      "[1300]\ttrain-logloss:0.19167\tvalid-logloss:0.21624\n",
      "[1400]\ttrain-logloss:0.18982\tvalid-logloss:0.21612\n",
      "[1500]\ttrain-logloss:0.18803\tvalid-logloss:0.21606\n",
      "[1600]\ttrain-logloss:0.18631\tvalid-logloss:0.21605\n",
      "[1648]\ttrain-logloss:0.18553\tvalid-logloss:0.21604\n",
      "Kaggle Metric = 0.7950082192845065 \n",
      "\n",
      "#########################\n",
      "OVERALL CV Kaggle Metric = 0.7922681921587627\n"
     ]
    }
   ],
   "source": [
    "importances = []\n",
    "oof = []\n",
    "train = train.to_pandas() # free GPU memory\n",
    "TRAIN_SUBSAMPLE = 1.0\n",
    "gc.collect()\n",
    "\n",
    "skf = KFold(n_splits=FOLDS, shuffle=True, random_state=SEED)\n",
    "for fold,(train_idx, valid_idx) in enumerate(skf.split(\n",
    "            train, train.target )):\n",
    "    \n",
    "    # TRAIN WITH SUBSAMPLE OF TRAIN FOLD DATA\n",
    "    if TRAIN_SUBSAMPLE<1.0:\n",
    "        np.random.seed(SEED)\n",
    "        train_idx = np.random.choice(train_idx, \n",
    "                       int(len(train_idx)*TRAIN_SUBSAMPLE), replace=False)\n",
    "        np.random.seed(None)\n",
    "    \n",
    "    print('#'*25)\n",
    "    print('### Fold',fold+1)\n",
    "    print('### Train size',len(train_idx),'Valid size',len(valid_idx))\n",
    "    print(f'### Training with {int(TRAIN_SUBSAMPLE*100)}% fold data...')\n",
    "    print('#'*25)\n",
    "    \n",
    "    # TRAIN, VALID, TEST FOR FOLD K\n",
    "    Xy_train = IterLoadForDMatrix(train.loc[train_idx], FEATURES, 'target')\n",
    "    X_valid = train.loc[valid_idx, FEATURES]\n",
    "    y_valid = train.loc[valid_idx, 'target']\n",
    "    \n",
    "    dtrain = xgb.DeviceQuantileDMatrix(Xy_train, max_bin=256)\n",
    "    dvalid = xgb.DMatrix(data=X_valid, label=y_valid)\n",
    "    \n",
    "    # TRAIN MODEL FOLD K\n",
    "    model = xgb.train(xgb_parms, \n",
    "                dtrain=dtrain,\n",
    "                evals=[(dtrain,'train'),(dvalid,'valid')],\n",
    "                num_boost_round=9999,\n",
    "                early_stopping_rounds=100,\n",
    "                verbose_eval=100) \n",
    "    model.save_model(f'XGB_v{VER}_fold{fold}.xgb')\n",
    "    \n",
    "    # GET FEATURE IMPORTANCE FOR FOLD K\n",
    "    dd = model.get_score(importance_type='weight')\n",
    "    df = pd.DataFrame({'feature':dd.keys(),f'importance_{fold}':dd.values()})\n",
    "    importances.append(df)\n",
    "            \n",
    "    # INFER OOF FOLD K\n",
    "    oof_preds = model.predict(dvalid)\n",
    "    acc = amex_metric_mod(y_valid.values, oof_preds)\n",
    "    print('Kaggle Metric =',acc,'\\n')\n",
    "    \n",
    "    # SAVE OOF\n",
    "    df = train.loc[valid_idx, ['customer_ID','target'] ].copy()\n",
    "    df['oof_pred'] = oof_preds\n",
    "    oof.append( df )\n",
    "    \n",
    "    del dtrain, Xy_train, dd, df\n",
    "    del X_valid, y_valid, dvalid, model\n",
    "    _ = gc.collect()\n",
    "    \n",
    "print('#'*25)\n",
    "oof = pd.concat(oof,axis=0,ignore_index=True).set_index('customer_ID')\n",
    "acc = amex_metric_mod(oof.target.values, oof.oof_pred.values)\n",
    "print('OVERALL CV Kaggle Metric =',acc)"
   ]
  },
  {
   "cell_type": "code",
   "execution_count": 11,
   "id": "3e1e4e09",
   "metadata": {
    "execution": {
     "iopub.execute_input": "2022-08-04T14:43:44.452351Z",
     "iopub.status.busy": "2022-08-04T14:43:44.451637Z",
     "iopub.status.idle": "2022-08-04T14:43:44.592160Z",
     "shell.execute_reply": "2022-08-04T14:43:44.591290Z"
    },
    "papermill": {
     "duration": 0.153807,
     "end_time": "2022-08-04T14:43:44.594168",
     "exception": false,
     "start_time": "2022-08-04T14:43:44.440361",
     "status": "completed"
    },
    "tags": []
   },
   "outputs": [],
   "source": [
    "# CLEAN RAM\n",
    "del train\n",
    "_ = gc.collect()"
   ]
  },
  {
   "cell_type": "markdown",
   "id": "66daa76a",
   "metadata": {
    "papermill": {
     "duration": 0.010805,
     "end_time": "2022-08-04T14:43:44.615977",
     "exception": false,
     "start_time": "2022-08-04T14:43:44.605172",
     "status": "completed"
    },
    "tags": []
   },
   "source": [
    "# Save OOF Preds"
   ]
  },
  {
   "cell_type": "code",
   "execution_count": 12,
   "id": "7e90a2fb",
   "metadata": {
    "execution": {
     "iopub.execute_input": "2022-08-04T14:43:44.639183Z",
     "iopub.status.busy": "2022-08-04T14:43:44.638281Z",
     "iopub.status.idle": "2022-08-04T14:43:48.487502Z",
     "shell.execute_reply": "2022-08-04T14:43:48.486560Z"
    },
    "papermill": {
     "duration": 3.862993,
     "end_time": "2022-08-04T14:43:48.489412",
     "exception": false,
     "start_time": "2022-08-04T14:43:44.626419",
     "status": "completed"
    },
    "tags": []
   },
   "outputs": [
    {
     "data": {
      "text/html": [
       "<div>\n",
       "<style scoped>\n",
       "    .dataframe tbody tr th:only-of-type {\n",
       "        vertical-align: middle;\n",
       "    }\n",
       "\n",
       "    .dataframe tbody tr th {\n",
       "        vertical-align: top;\n",
       "    }\n",
       "\n",
       "    .dataframe thead th {\n",
       "        text-align: right;\n",
       "    }\n",
       "</style>\n",
       "<table border=\"1\" class=\"dataframe\">\n",
       "  <thead>\n",
       "    <tr style=\"text-align: right;\">\n",
       "      <th></th>\n",
       "      <th>customer_ID</th>\n",
       "      <th>target</th>\n",
       "      <th>oof_pred</th>\n",
       "    </tr>\n",
       "  </thead>\n",
       "  <tbody>\n",
       "    <tr>\n",
       "      <th>0</th>\n",
       "      <td>20eac26171c3d251c55fc78204e59fab1c15fc2bc96d0c...</td>\n",
       "      <td>1</td>\n",
       "      <td>0.729800</td>\n",
       "    </tr>\n",
       "    <tr>\n",
       "      <th>1</th>\n",
       "      <td>aea50fdf9b974ccec95fa177c3225a0f913483b457de6e...</td>\n",
       "      <td>0</td>\n",
       "      <td>0.000277</td>\n",
       "    </tr>\n",
       "    <tr>\n",
       "      <th>2</th>\n",
       "      <td>32cd2d41aef737b69089882754395925c96eaee1f4a859...</td>\n",
       "      <td>0</td>\n",
       "      <td>0.001973</td>\n",
       "    </tr>\n",
       "    <tr>\n",
       "      <th>3</th>\n",
       "      <td>8daa6d5dc2655a8a437531e6b8b96829113cdfe9bf6cae...</td>\n",
       "      <td>0</td>\n",
       "      <td>0.015279</td>\n",
       "    </tr>\n",
       "    <tr>\n",
       "      <th>4</th>\n",
       "      <td>0ceba351a3851202542feb49d7385bcef32f6037fc57c7...</td>\n",
       "      <td>1</td>\n",
       "      <td>0.885695</td>\n",
       "    </tr>\n",
       "  </tbody>\n",
       "</table>\n",
       "</div>"
      ],
      "text/plain": [
       "                                         customer_ID  target  oof_pred\n",
       "0  20eac26171c3d251c55fc78204e59fab1c15fc2bc96d0c...       1  0.729800\n",
       "1  aea50fdf9b974ccec95fa177c3225a0f913483b457de6e...       0  0.000277\n",
       "2  32cd2d41aef737b69089882754395925c96eaee1f4a859...       0  0.001973\n",
       "3  8daa6d5dc2655a8a437531e6b8b96829113cdfe9bf6cae...       0  0.015279\n",
       "4  0ceba351a3851202542feb49d7385bcef32f6037fc57c7...       1  0.885695"
      ]
     },
     "execution_count": 12,
     "metadata": {},
     "output_type": "execute_result"
    }
   ],
   "source": [
    "oof_xgb = pd.read_parquet(TRAIN_PATH, columns=['customer_ID']).drop_duplicates()\n",
    "oof_xgb['customer_ID_hash'] = oof_xgb['customer_ID'].apply(lambda x: int(x[-16:],16) ).astype('int64')\n",
    "oof_xgb = oof_xgb.set_index('customer_ID_hash')\n",
    "oof_xgb = oof_xgb.merge(oof, left_index=True, right_index=True)\n",
    "oof_xgb = oof_xgb.sort_index().reset_index(drop=True)\n",
    "oof_xgb.to_csv(f'oof_xgb_v{VER}.csv',index=False)\n",
    "oof_xgb.head()"
   ]
  },
  {
   "cell_type": "code",
   "execution_count": 13,
   "id": "d6506125",
   "metadata": {
    "execution": {
     "iopub.execute_input": "2022-08-04T14:43:48.512671Z",
     "iopub.status.busy": "2022-08-04T14:43:48.512004Z",
     "iopub.status.idle": "2022-08-04T14:43:48.862454Z",
     "shell.execute_reply": "2022-08-04T14:43:48.861557Z"
    },
    "papermill": {
     "duration": 0.363768,
     "end_time": "2022-08-04T14:43:48.864307",
     "exception": false,
     "start_time": "2022-08-04T14:43:48.500539",
     "status": "completed"
    },
    "tags": []
   },
   "outputs": [
    {
     "data": {
      "image/png": "[encoded data removed]",
      "text/plain": [
       "<Figure size 432x288 with 1 Axes>"
      ]
     },
     "metadata": {
      "needs_background": "light"
     },
     "output_type": "display_data"
    }
   ],
   "source": [
    "# PLOT OOF PREDICTIONS\n",
    "plt.hist(oof_xgb.oof_pred.values, bins=100)\n",
    "plt.title('OOF Predictions')\n",
    "plt.show()"
   ]
  },
  {
   "cell_type": "code",
   "execution_count": 14,
   "id": "762820d5",
   "metadata": {
    "execution": {
     "iopub.execute_input": "2022-08-04T14:43:48.888193Z",
     "iopub.status.busy": "2022-08-04T14:43:48.887571Z",
     "iopub.status.idle": "2022-08-04T14:43:49.038354Z",
     "shell.execute_reply": "2022-08-04T14:43:49.037505Z"
    },
    "papermill": {
     "duration": 0.165555,
     "end_time": "2022-08-04T14:43:49.040969",
     "exception": false,
     "start_time": "2022-08-04T14:43:48.875414",
     "status": "completed"
    },
    "tags": []
   },
   "outputs": [],
   "source": [
    "# CLEAR VRAM, RAM FOR INFERENCE BELOW\n",
    "del oof_xgb, oof\n",
    "_ = gc.collect()"
   ]
  },
  {
   "cell_type": "markdown",
   "id": "1c39e486",
   "metadata": {
    "papermill": {
     "duration": 0.011114,
     "end_time": "2022-08-04T14:43:49.064875",
     "exception": false,
     "start_time": "2022-08-04T14:43:49.053761",
     "status": "completed"
    },
    "tags": []
   },
   "source": [
    "# Feature Importance"
   ]
  },
  {
   "cell_type": "code",
   "execution_count": 15,
   "id": "0b07b1fe",
   "metadata": {
    "execution": {
     "iopub.execute_input": "2022-08-04T14:43:49.087957Z",
     "iopub.status.busy": "2022-08-04T14:43:49.087461Z",
     "iopub.status.idle": "2022-08-04T14:43:49.108465Z",
     "shell.execute_reply": "2022-08-04T14:43:49.107712Z"
    },
    "papermill": {
     "duration": 0.034625,
     "end_time": "2022-08-04T14:43:49.110363",
     "exception": false,
     "start_time": "2022-08-04T14:43:49.075738",
     "status": "completed"
    },
    "tags": []
   },
   "outputs": [],
   "source": [
    "import matplotlib.pyplot as plt\n",
    "\n",
    "df = importances[0].copy()\n",
    "for k in range(1,FOLDS): df = df.merge(importances[k], on='feature', how='left')\n",
    "df['importance'] = df.iloc[:,1:].mean(axis=1)\n",
    "df = df.sort_values('importance',ascending=False)\n",
    "df.to_csv(f'xgb_feature_importance_v{VER}.csv',index=False)"
   ]
  },
  {
   "cell_type": "code",
   "execution_count": 16,
   "id": "4e0798bb",
   "metadata": {
    "execution": {
     "iopub.execute_input": "2022-08-04T14:43:49.134026Z",
     "iopub.status.busy": "2022-08-04T14:43:49.133740Z",
     "iopub.status.idle": "2022-08-04T14:43:49.406315Z",
     "shell.execute_reply": "2022-08-04T14:43:49.405532Z"
    },
    "papermill": {
     "duration": 0.286586,
     "end_time": "2022-08-04T14:43:49.408372",
     "exception": false,
     "start_time": "2022-08-04T14:43:49.121786",
     "status": "completed"
    },
    "tags": []
   },
   "outputs": [
    {
     "data": {
      "image/png": "[encoded data removed]",
      "text/plain": [
       "<Figure size 720x720 with 1 Axes>"
      ]
     },
     "metadata": {
      "needs_background": "light"
     },
     "output_type": "display_data"
    }
   ],
   "source": [
    "NUM_FEATURES = 20\n",
    "plt.figure(figsize=(10,5*NUM_FEATURES//10))\n",
    "plt.barh(np.arange(NUM_FEATURES,0,-1), df.importance.values[:NUM_FEATURES])\n",
    "plt.yticks(np.arange(NUM_FEATURES,0,-1), df.feature.values[:NUM_FEATURES])\n",
    "plt.title(f'XGB Feature Importance - Top {NUM_FEATURES}')\n",
    "plt.show()"
   ]
  },
  {
   "cell_type": "markdown",
   "id": "4078a507",
   "metadata": {
    "papermill": {
     "duration": 0.0112,
     "end_time": "2022-08-04T14:43:49.431296",
     "exception": false,
     "start_time": "2022-08-04T14:43:49.420096",
     "status": "completed"
    },
    "tags": []
   },
   "source": [
    "# Process and Feature Engineer Test Data\n",
    "We will load @raddar Kaggle dataset from [here][1] with discussion [here][2]. Then we will engineer features suggested by @huseyincot in his notebooks [here][1] and [here][4]. We will use [RAPIDS][5] and the GPU to create new features quickly.\n",
    "\n",
    "[1]: https://www.kaggle.com/datasets/raddar/amex-data-integer-dtypes-parquet-format\n",
    "[2]: https://www.kaggle.com/competitions/amex-default-prediction/discussion/328514\n",
    "[3]: https://www.kaggle.com/code/huseyincot/amex-catboost-0-793\n",
    "[4]: https://www.kaggle.com/code/huseyincot/amex-agg-data-how-it-created\n",
    "[5]: https://rapids.ai/"
   ]
  },
  {
   "cell_type": "code",
   "execution_count": 17,
   "id": "4c5b9d47",
   "metadata": {
    "execution": {
     "iopub.execute_input": "2022-08-04T14:43:49.456835Z",
     "iopub.status.busy": "2022-08-04T14:43:49.456427Z",
     "iopub.status.idle": "2022-08-04T14:43:51.893201Z",
     "shell.execute_reply": "2022-08-04T14:43:51.892363Z"
    },
    "papermill": {
     "duration": 2.451396,
     "end_time": "2022-08-04T14:43:51.895295",
     "exception": false,
     "start_time": "2022-08-04T14:43:49.443899",
     "status": "completed"
    },
    "tags": []
   },
   "outputs": [
    {
     "name": "stdout",
     "output_type": "stream",
     "text": [
      "Reading test data...\n",
      "shape of data: (11363762, 2)\n",
      "We will process test data as 4 separate parts.\n",
      "There will be 231155 customers in each part (except the last part).\n",
      "Below are number of rows in each part:\n",
      "[2841209, 2839857, 2842105, 2840591]\n"
     ]
    }
   ],
   "source": [
    "# CALCULATE SIZE OF EACH SEPARATE TEST PART\n",
    "def get_rows(customers, test, NUM_PARTS = 4, verbose = ''):\n",
    "    chunk = len(customers)//NUM_PARTS\n",
    "    if verbose != '':\n",
    "        print(f'We will process {verbose} data as {NUM_PARTS} separate parts.')\n",
    "        print(f'There will be {chunk} customers in each part (except the last part).')\n",
    "        print('Below are number of rows in each part:')\n",
    "    rows = []\n",
    "\n",
    "    for k in range(NUM_PARTS):\n",
    "        if k==NUM_PARTS-1: cc = customers[k*chunk:]\n",
    "        else: cc = customers[k*chunk:(k+1)*chunk]\n",
    "        s = test.loc[test.customer_ID.isin(cc)].shape[0]\n",
    "        rows.append(s)\n",
    "    if verbose != '': print( rows )\n",
    "    return rows,chunk\n",
    "\n",
    "# COMPUTE SIZE OF 4 PARTS FOR TEST DATA\n",
    "NUM_PARTS = 4\n",
    "TEST_PATH = '../input/amex-data-integer-dtypes-parquet-format/test.parquet'\n",
    "\n",
    "print(f'Reading test data...')\n",
    "test = read_file(path = TEST_PATH, usecols = ['customer_ID','S_2'])\n",
    "customers = test[['customer_ID']].drop_duplicates().sort_index().values.flatten()\n",
    "rows,num_cust = get_rows(customers, test[['customer_ID']], NUM_PARTS = NUM_PARTS, verbose = 'test')"
   ]
  },
  {
   "cell_type": "markdown",
   "id": "0584573f",
   "metadata": {
    "papermill": {
     "duration": 0.011255,
     "end_time": "2022-08-04T14:43:51.918453",
     "exception": false,
     "start_time": "2022-08-04T14:43:51.907198",
     "status": "completed"
    },
    "tags": []
   },
   "source": [
    "# Infer Test"
   ]
  },
  {
   "cell_type": "code",
   "execution_count": 18,
   "id": "f618e3c6",
   "metadata": {
    "execution": {
     "iopub.execute_input": "2022-08-04T14:43:51.943330Z",
     "iopub.status.busy": "2022-08-04T14:43:51.942541Z",
     "iopub.status.idle": "2022-08-04T14:46:47.818004Z",
     "shell.execute_reply": "2022-08-04T14:46:47.817047Z"
    },
    "papermill": {
     "duration": 175.890607,
     "end_time": "2022-08-04T14:46:47.820407",
     "exception": false,
     "start_time": "2022-08-04T14:43:51.929800",
     "status": "completed"
    },
    "tags": []
   },
   "outputs": [
    {
     "name": "stdout",
     "output_type": "stream",
     "text": [
      "\n",
      "Reading test data...\n",
      "shape of data: (11363762, 190)\n",
      "=> Test part 1 has shape (2841209, 190)\n",
      "shape after engineering (231155, 520)\n",
      "\n",
      "Reading test data...\n",
      "shape of data: (11363762, 190)\n",
      "=> Test part 2 has shape (2839857, 190)\n",
      "shape after engineering (231155, 520)\n",
      "\n",
      "Reading test data...\n",
      "shape of data: (11363762, 190)\n",
      "=> Test part 3 has shape (2842105, 190)\n",
      "shape after engineering (231155, 520)\n",
      "\n",
      "Reading test data...\n",
      "shape of data: (11363762, 190)\n",
      "=> Test part 4 has shape (2840591, 190)\n",
      "shape after engineering (231156, 520)\n"
     ]
    }
   ],
   "source": [
    "# INFER TEST DATA IN PARTS\n",
    "skip_rows = 0\n",
    "skip_cust = 0\n",
    "test_preds = []\n",
    "\n",
    "for k in range(NUM_PARTS):\n",
    "    \n",
    "    # READ PART OF TEST DATA\n",
    "    print(f'\\nReading test data...')\n",
    "    test = read_file(path = TEST_PATH)\n",
    "    test = test.iloc[skip_rows:skip_rows+rows[k]]\n",
    "    skip_rows += rows[k]\n",
    "    print(f'=> Test part {k+1} has shape', test.shape )\n",
    "    \n",
    "    # PROCESS AND FEATURE ENGINEER PART OF TEST DATA\n",
    "    test = process_and_feature_engineer(test)\n",
    "    if k==NUM_PARTS-1: test = test.loc[customers[skip_cust:]]\n",
    "    else: test = test.loc[customers[skip_cust:skip_cust+num_cust]]\n",
    "    skip_cust += num_cust\n",
    "    \n",
    "    # TEST DATA FOR XGB\n",
    "    X_test = test[FEATURES]\n",
    "    dtest = xgb.DMatrix(data=X_test)\n",
    "    test = test[['P_2_mean']] # reduce memory\n",
    "    del X_test\n",
    "    gc.collect()\n",
    "\n",
    "    # INFER XGB MODELS ON TEST DATA\n",
    "    model = xgb.Booster()\n",
    "    model.load_model(f'XGB_v{VER}_fold0.xgb')\n",
    "    preds = model.predict(dtest)\n",
    "    for f in range(1,FOLDS):\n",
    "        model.load_model(f'XGB_v{VER}_fold{f}.xgb')\n",
    "        preds += model.predict(dtest)\n",
    "    preds /= FOLDS\n",
    "    test_preds.append(preds)\n",
    "\n",
    "    # CLEAN MEMORY\n",
    "    del dtest, model\n",
    "    _ = gc.collect()"
   ]
  },
  {
   "cell_type": "markdown",
   "id": "dd15bfa2",
   "metadata": {
    "papermill": {
     "duration": 0.012953,
     "end_time": "2022-08-04T14:46:47.847639",
     "exception": false,
     "start_time": "2022-08-04T14:46:47.834686",
     "status": "completed"
    },
    "tags": []
   },
   "source": [
    "# Create Submission CSV"
   ]
  },
  {
   "cell_type": "code",
   "execution_count": 19,
   "id": "2039c768",
   "metadata": {
    "execution": {
     "iopub.execute_input": "2022-08-04T14:46:47.876777Z",
     "iopub.status.busy": "2022-08-04T14:46:47.876326Z",
     "iopub.status.idle": "2022-08-04T14:46:48.925387Z",
     "shell.execute_reply": "2022-08-04T14:46:48.924594Z"
    },
    "papermill": {
     "duration": 1.066379,
     "end_time": "2022-08-04T14:46:48.927331",
     "exception": false,
     "start_time": "2022-08-04T14:46:47.860952",
     "status": "completed"
    },
    "tags": []
   },
   "outputs": [
    {
     "name": "stdout",
     "output_type": "stream",
     "text": [
      "Submission file shape is (924621, 2)\n"
     ]
    },
    {
     "data": {
      "text/html": [
       "<div>\n",
       "<style scoped>\n",
       "    .dataframe tbody tr th:only-of-type {\n",
       "        vertical-align: middle;\n",
       "    }\n",
       "\n",
       "    .dataframe tbody tr th {\n",
       "        vertical-align: top;\n",
       "    }\n",
       "\n",
       "    .dataframe thead th {\n",
       "        text-align: right;\n",
       "    }\n",
       "</style>\n",
       "<table border=\"1\" class=\"dataframe\">\n",
       "  <thead>\n",
       "    <tr style=\"text-align: right;\">\n",
       "      <th></th>\n",
       "      <th>customer_ID</th>\n",
       "      <th>prediction</th>\n",
       "    </tr>\n",
       "  </thead>\n",
       "  <tbody>\n",
       "    <tr>\n",
       "      <th>0</th>\n",
       "      <td>0359e97c244bbbbe2db7c21e891debe80e82291f2e470e...</td>\n",
       "      <td>0.003313</td>\n",
       "    </tr>\n",
       "    <tr>\n",
       "      <th>1</th>\n",
       "      <td>035b3479c9020483c00b7dac8f816759bb3aa6fdd8dfab...</td>\n",
       "      <td>0.000383</td>\n",
       "    </tr>\n",
       "    <tr>\n",
       "      <th>2</th>\n",
       "      <td>035a556cc13aae13de7bdcc71c81a1ab27f586f2ddf50e...</td>\n",
       "      <td>0.001153</td>\n",
       "    </tr>\n",
       "    <tr>\n",
       "      <th>3</th>\n",
       "      <td>035bca6744c2fe912b15a0bc6011f3ec679cbc7c60e049...</td>\n",
       "      <td>0.037997</td>\n",
       "    </tr>\n",
       "    <tr>\n",
       "      <th>4</th>\n",
       "      <td>0359f31145b54da7258ed5ff894cbe50dd4302d3d4a1e9...</td>\n",
       "      <td>0.048874</td>\n",
       "    </tr>\n",
       "  </tbody>\n",
       "</table>\n",
       "</div>"
      ],
      "text/plain": [
       "                                         customer_ID  prediction\n",
       "0  0359e97c244bbbbe2db7c21e891debe80e82291f2e470e...    0.003313\n",
       "1  035b3479c9020483c00b7dac8f816759bb3aa6fdd8dfab...    0.000383\n",
       "2  035a556cc13aae13de7bdcc71c81a1ab27f586f2ddf50e...    0.001153\n",
       "3  035bca6744c2fe912b15a0bc6011f3ec679cbc7c60e049...    0.037997\n",
       "4  0359f31145b54da7258ed5ff894cbe50dd4302d3d4a1e9...    0.048874"
      ]
     },
     "execution_count": 19,
     "metadata": {},
     "output_type": "execute_result"
    }
   ],
   "source": [
    "# WRITE SUBMISSION FILE\n",
    "test_preds = np.concatenate(test_preds)\n",
    "test = cudf.DataFrame(index=customers,data={'prediction':test_preds})\n",
    "sub = cudf.read_csv('../input/amex-default-prediction/sample_submission.csv')[['customer_ID']]\n",
    "sub['customer_ID_hash'] = sub['customer_ID'].str[-16:].str.hex_to_int().astype('int64')\n",
    "sub = sub.set_index('customer_ID_hash')\n",
    "sub = sub.merge(test[['prediction']], left_index=True, right_index=True, how='left')\n",
    "sub = sub.reset_index(drop=True)\n",
    "\n",
    "# DISPLAY PREDICTIONS\n",
    "sub.to_csv(f'submission_xgb_v{VER}.csv',index=False)\n",
    "print('Submission file shape is', sub.shape )\n",
    "sub.head()"
   ]
  },
  {
   "cell_type": "code",
   "execution_count": 20,
   "id": "1385c419",
   "metadata": {
    "execution": {
     "iopub.execute_input": "2022-08-04T14:46:48.957102Z",
     "iopub.status.busy": "2022-08-04T14:46:48.956357Z",
     "iopub.status.idle": "2022-08-04T14:46:49.712302Z",
     "shell.execute_reply": "2022-08-04T14:46:49.711549Z"
    },
    "papermill": {
     "duration": 0.772427,
     "end_time": "2022-08-04T14:46:49.714249",
     "exception": false,
     "start_time": "2022-08-04T14:46:48.941822",
     "status": "completed"
    },
    "tags": []
   },
   "outputs": [
    {
     "data": {
      "image/png": "[encoded data removed]",
      "text/plain": [
       "<Figure size 432x288 with 1 Axes>"
      ]
     },
     "metadata": {
      "needs_background": "light"
     },
     "output_type": "display_data"
    }
   ],
   "source": [
    "# PLOT PREDICTIONS\n",
    "plt.hist(sub.to_pandas().prediction, bins=100)\n",
    "plt.title('Test Predictions')\n",
    "plt.show()"
   ]
  }
 ],
 "metadata": {
  "kernelspec": {
   "display_name": "Python 3",
   "language": "python",
   "name": "python3"
  },
  "language_info": {
   "codemirror_mode": {
    "name": "ipython",
    "version": 3
   },
   "file_extension": ".py",
   "mimetype": "text/x-python",
   "name": "python",
   "nbconvert_exporter": "python",
   "pygments_lexer": "ipython3",
   "version": "3.7.12"
  },
  "papermill": {
   "default_parameters": {},
   "duration": 499.571983,
   "end_time": "2022-08-04T14:46:51.049187",
   "environment_variables": {},
   "exception": null,
   "input_path": "__notebook__.ipynb",
   "output_path": "__notebook__.ipynb",
   "parameters": {},
   "start_time": "2022-08-04T14:38:31.477204",
   "version": "2.3.4"
  }
 },
 "nbformat": 4,
 "nbformat_minor": 5
}
