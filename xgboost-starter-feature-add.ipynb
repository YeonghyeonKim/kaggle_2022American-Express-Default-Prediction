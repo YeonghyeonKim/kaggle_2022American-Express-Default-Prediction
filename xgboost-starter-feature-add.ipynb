{
 "cells": [
  {
   "cell_type": "markdown",
   "id": "4f856078",
   "metadata": {
    "papermill": {
     "duration": 0.007676,
     "end_time": "2022-07-18T16:31:35.540127",
     "exception": false,
     "start_time": "2022-07-18T16:31:35.532451",
     "status": "completed"
    },
    "tags": []
   },
   "source": [
    "# XGBoost Starter - LB 0.793\n",
    "In this notebook we build and train an XGBoost model using @raddar Kaggle dataset from [here][1] with discussion [here][2]. Then we engineer features suggested by @huseyincot in his notebooks [here][3] and [here][4]. This XGB model achieves CV 0.792 LB 0.793! When training with XGB, we use a special XGB dataloader called `DeviceQuantileDMatrix` which uses a small GPU memory footprint. This allows us to engineer more additional columns and train with more rows of data. Our feature engineering is performed using [RAPIDS][5] on the GPU to create new features quickly.\n",
    "\n",
    "[1]: https://www.kaggle.com/datasets/raddar/amex-data-integer-dtypes-parquet-format\n",
    "[2]: https://www.kaggle.com/competitions/amex-default-prediction/discussion/328514\n",
    "[3]: https://www.kaggle.com/code/huseyincot/amex-catboost-0-793\n",
    "[4]: https://www.kaggle.com/code/huseyincot/amex-agg-data-how-it-created\n",
    "[5]: https://rapids.ai/"
   ]
  },
  {
   "cell_type": "markdown",
   "id": "935605c8",
   "metadata": {
    "papermill": {
     "duration": 0.006485,
     "end_time": "2022-07-18T16:31:35.553325",
     "exception": false,
     "start_time": "2022-07-18T16:31:35.546840",
     "status": "completed"
    },
    "tags": []
   },
   "source": [
    "Feature Engineering I done\n",
    "1. Drop B_29, https://www.kaggle.com/code/roberthatch/amex-feature-engg-gpu-or-cpu-process-in-chunks/notebook\n",
    "2. Add each customer count (how long they used) (not normalize)\n",
    "3. Don't fill NaN (with -127)\n",
    "4. remove num_features's min, std\n",
    "5. D_39에 대한 feature 추가 -> CV하락\n",
    "6. B_1과 B_2간의 연관 feature 추가; CV 0.7920\n",
    "7. B_8과 B_9간의 연관 feature 추가; CV 0.7919\n",
    "8. corr가 높은 feature중 제거\n",
    "<!-- 9. add nasdaq info simply -->"
   ]
  },
  {
   "cell_type": "markdown",
   "id": "1226a507",
   "metadata": {
    "papermill": {
     "duration": 0.006255,
     "end_time": "2022-07-18T16:31:35.566471",
     "exception": false,
     "start_time": "2022-07-18T16:31:35.560216",
     "status": "completed"
    },
    "tags": []
   },
   "source": [
    "# Load Libraries"
   ]
  },
  {
   "cell_type": "code",
   "execution_count": 1,
   "id": "91645a8a",
   "metadata": {
    "execution": {
     "iopub.execute_input": "2022-07-18T16:31:35.581486Z",
     "iopub.status.busy": "2022-07-18T16:31:35.580740Z",
     "iopub.status.idle": "2022-07-18T16:31:39.645524Z",
     "shell.execute_reply": "2022-07-18T16:31:39.643374Z"
    },
    "papermill": {
     "duration": 4.074536,
     "end_time": "2022-07-18T16:31:39.647439",
     "exception": false,
     "start_time": "2022-07-18T16:31:35.572903",
     "status": "completed"
    },
    "tags": []
   },
   "outputs": [
    {
     "name": "stdout",
     "output_type": "stream",
     "text": [
      "RAPIDS version 21.10.01\n"
     ]
    }
   ],
   "source": [
    "# LOAD LIBRARIES\n",
    "import pandas as pd, numpy as np # CPU libraries\n",
    "import cupy, cudf # GPU libraries\n",
    "import matplotlib.pyplot as plt, gc, os\n",
    "\n",
    "print('RAPIDS version',cudf.__version__)"
   ]
  },
  {
   "cell_type": "code",
   "execution_count": 2,
   "id": "88051f55",
   "metadata": {
    "execution": {
     "iopub.execute_input": "2022-07-18T16:31:39.662737Z",
     "iopub.status.busy": "2022-07-18T16:31:39.662402Z",
     "iopub.status.idle": "2022-07-18T16:31:39.667949Z",
     "shell.execute_reply": "2022-07-18T16:31:39.667252Z"
    },
    "papermill": {
     "duration": 0.015222,
     "end_time": "2022-07-18T16:31:39.669607",
     "exception": false,
     "start_time": "2022-07-18T16:31:39.654385",
     "status": "completed"
    },
    "tags": []
   },
   "outputs": [],
   "source": [
    "# VERSION NAME FOR SAVED MODEL FILES\n",
    "VER = 1\n",
    "\n",
    "# TRAIN RANDOM SEED\n",
    "SEED = 42\n",
    "\n",
    "# FILL NAN VALUE\n",
    "NAN_VALUE = -127 # will fit in int8\n",
    "\n",
    "# FOLDS PER MODEL\n",
    "FOLDS = 5"
   ]
  },
  {
   "cell_type": "markdown",
   "id": "4e016aab",
   "metadata": {
    "papermill": {
     "duration": 0.006297,
     "end_time": "2022-07-18T16:31:39.682432",
     "exception": false,
     "start_time": "2022-07-18T16:31:39.676135",
     "status": "completed"
    },
    "tags": []
   },
   "source": [
    "# Process and Feature Engineer Train Data\n",
    "We will load @raddar Kaggle dataset from [here][1] with discussion [here][2]. Then we will engineer features suggested by @huseyincot in his notebooks [here][3] and [here][4]. We will use [RAPIDS][5] and the GPU to create new features quickly.\n",
    "\n",
    "[1]: https://www.kaggle.com/datasets/raddar/amex-data-integer-dtypes-parquet-format\n",
    "[2]: https://www.kaggle.com/competitions/amex-default-prediction/discussion/328514\n",
    "[3]: https://www.kaggle.com/code/huseyincot/amex-catboost-0-793\n",
    "[4]: https://www.kaggle.com/code/huseyincot/amex-agg-data-how-it-created\n",
    "[5]: https://rapids.ai/"
   ]
  },
  {
   "cell_type": "code",
   "execution_count": 3,
   "id": "1fdb95a6",
   "metadata": {
    "execution": {
     "iopub.execute_input": "2022-07-18T16:31:39.697072Z",
     "iopub.status.busy": "2022-07-18T16:31:39.696799Z",
     "iopub.status.idle": "2022-07-18T16:32:03.225175Z",
     "shell.execute_reply": "2022-07-18T16:32:03.223611Z"
    },
    "papermill": {
     "duration": 23.538165,
     "end_time": "2022-07-18T16:32:03.227327",
     "exception": false,
     "start_time": "2022-07-18T16:31:39.689162",
     "status": "completed"
    },
    "tags": []
   },
   "outputs": [
    {
     "name": "stdout",
     "output_type": "stream",
     "text": [
      "Reading train data...\n",
      "shape of data: (5531451, 190)\n"
     ]
    }
   ],
   "source": [
    "def read_file(path = '', usecols = None):\n",
    "    # LOAD DATAFRAME\n",
    "    if usecols is not None: df = cudf.read_parquet(path, columns=usecols)\n",
    "    else: df = cudf.read_parquet(path)\n",
    "    # REDUCE DTYPE FOR CUSTOMER AND DATE\n",
    "    df['customer_ID'] = df['customer_ID'].str[-16:].str.hex_to_int().astype('int64')\n",
    "    df.S_2 = cudf.to_datetime( df.S_2 )\n",
    "    # SORT BY CUSTOMER AND DATE (so agg('last') works correctly)\n",
    "    #df = df.sort_values(['customer_ID','S_2'])\n",
    "    #df = df.reset_index(drop=True)\n",
    "    # FILL NAN\n",
    "#     df = df.fillna(NAN_VALUE) \n",
    "    print('shape of data:', df.shape)\n",
    "    \n",
    "    return df\n",
    "\n",
    "print('Reading train data...')\n",
    "TRAIN_PATH = '../input/amex-data-integer-dtypes-parquet-format/train.parquet'\n",
    "train = read_file(path = TRAIN_PATH)"
   ]
  },
  {
   "cell_type": "code",
   "execution_count": 4,
   "id": "d9117087",
   "metadata": {
    "execution": {
     "iopub.execute_input": "2022-07-18T16:32:03.242183Z",
     "iopub.status.busy": "2022-07-18T16:32:03.241875Z",
     "iopub.status.idle": "2022-07-18T16:32:03.536561Z",
     "shell.execute_reply": "2022-07-18T16:32:03.535804Z"
    },
    "papermill": {
     "duration": 0.304271,
     "end_time": "2022-07-18T16:32:03.538688",
     "exception": false,
     "start_time": "2022-07-18T16:32:03.234417",
     "status": "completed"
    },
    "tags": []
   },
   "outputs": [
    {
     "data": {
      "text/html": [
       "<div>\n",
       "<style scoped>\n",
       "    .dataframe tbody tr th:only-of-type {\n",
       "        vertical-align: middle;\n",
       "    }\n",
       "\n",
       "    .dataframe tbody tr th {\n",
       "        vertical-align: top;\n",
       "    }\n",
       "\n",
       "    .dataframe thead th {\n",
       "        text-align: right;\n",
       "    }\n",
       "</style>\n",
       "<table border=\"1\" class=\"dataframe\">\n",
       "  <thead>\n",
       "    <tr style=\"text-align: right;\">\n",
       "      <th></th>\n",
       "      <th>customer_ID</th>\n",
       "      <th>S_2</th>\n",
       "      <th>P_2</th>\n",
       "      <th>D_39</th>\n",
       "      <th>B_1</th>\n",
       "      <th>B_2</th>\n",
       "      <th>R_1</th>\n",
       "      <th>S_3</th>\n",
       "      <th>D_41</th>\n",
       "      <th>B_3</th>\n",
       "      <th>...</th>\n",
       "      <th>D_136</th>\n",
       "      <th>D_137</th>\n",
       "      <th>D_138</th>\n",
       "      <th>D_139</th>\n",
       "      <th>D_140</th>\n",
       "      <th>D_141</th>\n",
       "      <th>D_142</th>\n",
       "      <th>D_143</th>\n",
       "      <th>D_144</th>\n",
       "      <th>D_145</th>\n",
       "    </tr>\n",
       "  </thead>\n",
       "  <tbody>\n",
       "    <tr>\n",
       "      <th>0</th>\n",
       "      <td>-4532153018459703766</td>\n",
       "      <td>2017-03-09</td>\n",
       "      <td>0.938469</td>\n",
       "      <td>0</td>\n",
       "      <td>0.008724</td>\n",
       "      <td>1.006838</td>\n",
       "      <td>0.009228</td>\n",
       "      <td>0.124035</td>\n",
       "      <td>0.0</td>\n",
       "      <td>0.004709</td>\n",
       "      <td>...</td>\n",
       "      <td>-1</td>\n",
       "      <td>-1</td>\n",
       "      <td>-1</td>\n",
       "      <td>0</td>\n",
       "      <td>0</td>\n",
       "      <td>0.0</td>\n",
       "      <td>&lt;NA&gt;</td>\n",
       "      <td>0</td>\n",
       "      <td>0.000610</td>\n",
       "      <td>0</td>\n",
       "    </tr>\n",
       "    <tr>\n",
       "      <th>1</th>\n",
       "      <td>-4532153018459703766</td>\n",
       "      <td>2017-04-07</td>\n",
       "      <td>0.936665</td>\n",
       "      <td>0</td>\n",
       "      <td>0.004923</td>\n",
       "      <td>1.000653</td>\n",
       "      <td>0.006151</td>\n",
       "      <td>0.126750</td>\n",
       "      <td>0.0</td>\n",
       "      <td>0.002714</td>\n",
       "      <td>...</td>\n",
       "      <td>-1</td>\n",
       "      <td>-1</td>\n",
       "      <td>-1</td>\n",
       "      <td>0</td>\n",
       "      <td>0</td>\n",
       "      <td>0.0</td>\n",
       "      <td>&lt;NA&gt;</td>\n",
       "      <td>0</td>\n",
       "      <td>0.005492</td>\n",
       "      <td>0</td>\n",
       "    </tr>\n",
       "    <tr>\n",
       "      <th>2</th>\n",
       "      <td>-4532153018459703766</td>\n",
       "      <td>2017-05-28</td>\n",
       "      <td>0.954180</td>\n",
       "      <td>3</td>\n",
       "      <td>0.021655</td>\n",
       "      <td>1.009672</td>\n",
       "      <td>0.006815</td>\n",
       "      <td>0.123977</td>\n",
       "      <td>0.0</td>\n",
       "      <td>0.009423</td>\n",
       "      <td>...</td>\n",
       "      <td>-1</td>\n",
       "      <td>-1</td>\n",
       "      <td>-1</td>\n",
       "      <td>0</td>\n",
       "      <td>0</td>\n",
       "      <td>0.0</td>\n",
       "      <td>&lt;NA&gt;</td>\n",
       "      <td>0</td>\n",
       "      <td>0.006986</td>\n",
       "      <td>0</td>\n",
       "    </tr>\n",
       "    <tr>\n",
       "      <th>3</th>\n",
       "      <td>-4532153018459703766</td>\n",
       "      <td>2017-06-13</td>\n",
       "      <td>0.960384</td>\n",
       "      <td>0</td>\n",
       "      <td>0.013683</td>\n",
       "      <td>1.002700</td>\n",
       "      <td>0.001373</td>\n",
       "      <td>0.117169</td>\n",
       "      <td>0.0</td>\n",
       "      <td>0.005531</td>\n",
       "      <td>...</td>\n",
       "      <td>-1</td>\n",
       "      <td>-1</td>\n",
       "      <td>-1</td>\n",
       "      <td>0</td>\n",
       "      <td>0</td>\n",
       "      <td>0.0</td>\n",
       "      <td>&lt;NA&gt;</td>\n",
       "      <td>0</td>\n",
       "      <td>0.006527</td>\n",
       "      <td>0</td>\n",
       "    </tr>\n",
       "    <tr>\n",
       "      <th>4</th>\n",
       "      <td>-4532153018459703766</td>\n",
       "      <td>2017-07-16</td>\n",
       "      <td>0.947248</td>\n",
       "      <td>0</td>\n",
       "      <td>0.015193</td>\n",
       "      <td>1.000727</td>\n",
       "      <td>0.007605</td>\n",
       "      <td>0.117325</td>\n",
       "      <td>0.0</td>\n",
       "      <td>0.009312</td>\n",
       "      <td>...</td>\n",
       "      <td>-1</td>\n",
       "      <td>-1</td>\n",
       "      <td>-1</td>\n",
       "      <td>0</td>\n",
       "      <td>0</td>\n",
       "      <td>0.0</td>\n",
       "      <td>&lt;NA&gt;</td>\n",
       "      <td>0</td>\n",
       "      <td>0.008126</td>\n",
       "      <td>0</td>\n",
       "    </tr>\n",
       "  </tbody>\n",
       "</table>\n",
       "<p>5 rows × 190 columns</p>\n",
       "</div>"
      ],
      "text/plain": [
       "           customer_ID        S_2       P_2  D_39       B_1       B_2  \\\n",
       "0 -4532153018459703766 2017-03-09  0.938469     0  0.008724  1.006838   \n",
       "1 -4532153018459703766 2017-04-07  0.936665     0  0.004923  1.000653   \n",
       "2 -4532153018459703766 2017-05-28  0.954180     3  0.021655  1.009672   \n",
       "3 -4532153018459703766 2017-06-13  0.960384     0  0.013683  1.002700   \n",
       "4 -4532153018459703766 2017-07-16  0.947248     0  0.015193  1.000727   \n",
       "\n",
       "        R_1       S_3  D_41       B_3  ... D_136  D_137  D_138  D_139  D_140  \\\n",
       "0  0.009228  0.124035   0.0  0.004709  ...    -1     -1     -1      0      0   \n",
       "1  0.006151  0.126750   0.0  0.002714  ...    -1     -1     -1      0      0   \n",
       "2  0.006815  0.123977   0.0  0.009423  ...    -1     -1     -1      0      0   \n",
       "3  0.001373  0.117169   0.0  0.005531  ...    -1     -1     -1      0      0   \n",
       "4  0.007605  0.117325   0.0  0.009312  ...    -1     -1     -1      0      0   \n",
       "\n",
       "   D_141  D_142 D_143     D_144  D_145  \n",
       "0    0.0   <NA>     0  0.000610      0  \n",
       "1    0.0   <NA>     0  0.005492      0  \n",
       "2    0.0   <NA>     0  0.006986      0  \n",
       "3    0.0   <NA>     0  0.006527      0  \n",
       "4    0.0   <NA>     0  0.008126      0  \n",
       "\n",
       "[5 rows x 190 columns]"
      ]
     },
     "execution_count": 4,
     "metadata": {},
     "output_type": "execute_result"
    }
   ],
   "source": [
    "train.head()"
   ]
  },
  {
   "cell_type": "code",
   "execution_count": 5,
   "id": "7beee15b",
   "metadata": {
    "execution": {
     "iopub.execute_input": "2022-07-18T16:32:03.554308Z",
     "iopub.status.busy": "2022-07-18T16:32:03.553998Z",
     "iopub.status.idle": "2022-07-18T16:32:06.064209Z",
     "shell.execute_reply": "2022-07-18T16:32:06.062976Z"
    },
    "papermill": {
     "duration": 2.521087,
     "end_time": "2022-07-18T16:32:06.066958",
     "exception": false,
     "start_time": "2022-07-18T16:32:03.545871",
     "status": "completed"
    },
    "tags": []
   },
   "outputs": [
    {
     "name": "stdout",
     "output_type": "stream",
     "text": [
      "shape after engineering (458913, 556)\n"
     ]
    }
   ],
   "source": [
    "def process_and_feature_engineer(df):\n",
    "    # FEATURE ENGINEERING FROM \n",
    "    # https://www.kaggle.com/code/huseyincot/amex-agg-data-how-it-created\n",
    "#     9) nasdaq\n",
    "#     nasdaq_path = '../input/nasdaq/nasdaq.csv'\n",
    "#     nasdaq = cudf.read_csv(nasdaq_path, encoding='utf-8-sig')\n",
    "#     nasdaq.rename(columns={'\\ufeffS_2': 'S_2'}, inplace=True)\n",
    "#     nasdaq.drop(['tradingvolume'], inplace=True, axis=1)\n",
    "#     nasdaq.S_2 = cudf.to_datetime(nasdaq.S_2)\n",
    "#     nasdaq[['closing','open', 'high', 'low']] = nasdaq[['closing','open', 'high', 'low']].astype(float)    \n",
    "#     df = df.merge(nasdaq, on='S_2')\n",
    "    \n",
    "#     1) Drop 'B_29'\n",
    "    df.drop(['B_29'], inplace=True, axis=1)\n",
    "    \n",
    "#     5) D_39에 대한 feature 추가\n",
    "#     df['D_39_div30'] = df['D_39']/30\n",
    "    \n",
    "#     6) B1, B2에 연관 feature추가\n",
    "    df['B_1_2'] = df['B_1']/(df['B_2']+0.0000001)\n",
    "#     df['B_1_3'] = (df['B_1']+0.0000001) * (df['B_2']+0.0000001) # 성능하락\n",
    "    \n",
    "#     7) B8, B9에 연관 feature추가\n",
    "    #df['B_8_9'] = (df['B_8']+0.0000001)*(df['B_9']+0.0000001) # 성능하락\n",
    "#     df['B_8_9'] = (df['B_8']+0.0000001)/(df['B_9']+0.0000001) # 미소한 성능하락\n",
    "\n",
    "#     8) Corr 높은 특징 제거\n",
    "    df.drop(['D_118', 'D_119', 'D_121'], inplace=True, axis=1) #  D_115\n",
    "#     df.drop(['D_134'], inplace=True, axis=1) # D_135\n",
    "\n",
    "    \n",
    "    all_cols = [c for c in list(df.columns) if c not in ['customer_ID','S_2']]\n",
    "    cat_features = [\"B_30\",\"B_38\",\"D_114\",\"D_116\",\"D_117\",\"D_120\",\"D_126\",\"D_63\",\"D_64\",\"D_66\",\"D_68\"]\n",
    "    num_features = [col for col in all_cols if col not in cat_features]\n",
    "    \n",
    "#     2) Add customer count\n",
    "    test_count_agg = df.groupby(['customer_ID'])['S_2'].agg(['count'])\n",
    "\n",
    "\n",
    "    test_num_agg = df.groupby(\"customer_ID\")[num_features].agg(['mean', 'max', 'last'])\n",
    "    test_num_agg.columns = ['_'.join(x) for x in test_num_agg.columns]\n",
    "\n",
    "    test_cat_agg = df.groupby(\"customer_ID\")[cat_features].agg(['count', 'last', 'nunique'])\n",
    "    test_cat_agg.columns = ['_'.join(x) for x in test_cat_agg.columns]\n",
    "\n",
    "    df = cudf.concat([test_count_agg,test_num_agg, test_cat_agg], axis=1)\n",
    "    del test_num_agg, test_cat_agg\n",
    "    print('shape after engineering', df.shape )\n",
    "    \n",
    "    return df\n",
    "\n",
    "train = process_and_feature_engineer(train)"
   ]
  },
  {
   "cell_type": "code",
   "execution_count": 6,
   "id": "85bc867e",
   "metadata": {
    "execution": {
     "iopub.execute_input": "2022-07-18T16:32:06.082894Z",
     "iopub.status.busy": "2022-07-18T16:32:06.082216Z",
     "iopub.status.idle": "2022-07-18T16:32:07.041814Z",
     "shell.execute_reply": "2022-07-18T16:32:07.040800Z"
    },
    "papermill": {
     "duration": 0.969715,
     "end_time": "2022-07-18T16:32:07.043995",
     "exception": false,
     "start_time": "2022-07-18T16:32:06.074280",
     "status": "completed"
    },
    "tags": []
   },
   "outputs": [
    {
     "name": "stdout",
     "output_type": "stream",
     "text": [
      "There are 556 features!\n"
     ]
    }
   ],
   "source": [
    "# ADD TARGETS\n",
    "targets = cudf.read_csv('../input/amex-default-prediction/train_labels.csv')\n",
    "targets['customer_ID'] = targets['customer_ID'].str[-16:].str.hex_to_int().astype('int64')\n",
    "targets = targets.set_index('customer_ID')\n",
    "train = train.merge(targets, left_index=True, right_index=True, how='left')\n",
    "train.target = train.target.astype('int8')\n",
    "del targets\n",
    "\n",
    "# NEEDED TO MAKE CV DETERMINISTIC (cudf merge above randomly shuffles rows)\n",
    "train = train.sort_index().reset_index()\n",
    "\n",
    "# FEATURES\n",
    "FEATURES = train.columns[1:-1]\n",
    "print(f'There are {len(FEATURES)} features!')"
   ]
  },
  {
   "cell_type": "markdown",
   "id": "8ca04a8e",
   "metadata": {
    "papermill": {
     "duration": 0.007401,
     "end_time": "2022-07-18T16:32:07.059071",
     "exception": false,
     "start_time": "2022-07-18T16:32:07.051670",
     "status": "completed"
    },
    "tags": []
   },
   "source": [
    "# Train XGB\n",
    "We will train using `DeviceQuantileDMatrix`. This has a very small GPU memory footprint."
   ]
  },
  {
   "cell_type": "code",
   "execution_count": 7,
   "id": "66da1a15",
   "metadata": {
    "execution": {
     "iopub.execute_input": "2022-07-18T16:32:07.074397Z",
     "iopub.status.busy": "2022-07-18T16:32:07.074050Z",
     "iopub.status.idle": "2022-07-18T16:32:07.172856Z",
     "shell.execute_reply": "2022-07-18T16:32:07.171947Z"
    },
    "papermill": {
     "duration": 0.108822,
     "end_time": "2022-07-18T16:32:07.174895",
     "exception": false,
     "start_time": "2022-07-18T16:32:07.066073",
     "status": "completed"
    },
    "tags": []
   },
   "outputs": [
    {
     "name": "stdout",
     "output_type": "stream",
     "text": [
      "XGB Version 1.6.1\n"
     ]
    }
   ],
   "source": [
    "# LOAD XGB LIBRARY\n",
    "from sklearn.model_selection import KFold\n",
    "import xgboost as xgb\n",
    "print('XGB Version',xgb.__version__)\n",
    "\n",
    "# XGB MODEL PARAMETERS\n",
    "xgb_parms = { \n",
    "    'max_depth':4, \n",
    "    'learning_rate':0.05, \n",
    "    'subsample':0.8,\n",
    "    'colsample_bytree':0.6, \n",
    "    'eval_metric':'logloss',\n",
    "    'objective':'binary:logistic',\n",
    "    'tree_method':'gpu_hist',\n",
    "    'predictor':'gpu_predictor',\n",
    "    'random_state':SEED\n",
    "}"
   ]
  },
  {
   "cell_type": "code",
   "execution_count": 8,
   "id": "714536e0",
   "metadata": {
    "execution": {
     "iopub.execute_input": "2022-07-18T16:32:07.190959Z",
     "iopub.status.busy": "2022-07-18T16:32:07.190657Z",
     "iopub.status.idle": "2022-07-18T16:32:07.199853Z",
     "shell.execute_reply": "2022-07-18T16:32:07.198956Z"
    },
    "papermill": {
     "duration": 0.019625,
     "end_time": "2022-07-18T16:32:07.201773",
     "exception": false,
     "start_time": "2022-07-18T16:32:07.182148",
     "status": "completed"
    },
    "tags": []
   },
   "outputs": [],
   "source": [
    "# NEEDED WITH DeviceQuantileDMatrix BELOW\n",
    "class IterLoadForDMatrix(xgb.core.DataIter):\n",
    "    def __init__(self, df=None, features=None, target=None, batch_size=256*1024):\n",
    "        self.features = features\n",
    "        self.target = target\n",
    "        self.df = df\n",
    "        self.it = 0 # set iterator to 0\n",
    "        self.batch_size = batch_size\n",
    "        self.batches = int( np.ceil( len(df) / self.batch_size ) )\n",
    "        super().__init__()\n",
    "\n",
    "    def reset(self):\n",
    "        '''Reset the iterator'''\n",
    "        self.it = 0\n",
    "\n",
    "    def next(self, input_data):\n",
    "        '''Yield next batch of data.'''\n",
    "        if self.it == self.batches:\n",
    "            return 0 # Return 0 when there's no more batch.\n",
    "        \n",
    "        a = self.it * self.batch_size\n",
    "        b = min( (self.it + 1) * self.batch_size, len(self.df) )\n",
    "        dt = cudf.DataFrame(self.df.iloc[a:b])\n",
    "        input_data(data=dt[self.features], label=dt[self.target]) #, weight=dt['weight'])\n",
    "        self.it += 1\n",
    "        return 1"
   ]
  },
  {
   "cell_type": "code",
   "execution_count": 9,
   "id": "ea212a78",
   "metadata": {
    "execution": {
     "iopub.execute_input": "2022-07-18T16:32:07.218160Z",
     "iopub.status.busy": "2022-07-18T16:32:07.217826Z",
     "iopub.status.idle": "2022-07-18T16:32:07.227305Z",
     "shell.execute_reply": "2022-07-18T16:32:07.226483Z"
    },
    "papermill": {
     "duration": 0.020066,
     "end_time": "2022-07-18T16:32:07.228977",
     "exception": false,
     "start_time": "2022-07-18T16:32:07.208911",
     "status": "completed"
    },
    "tags": []
   },
   "outputs": [],
   "source": [
    "# https://www.kaggle.com/kyakovlev\n",
    "# https://www.kaggle.com/competitions/amex-default-prediction/discussion/327534\n",
    "def amex_metric_mod(y_true, y_pred):\n",
    "\n",
    "    labels     = np.transpose(np.array([y_true, y_pred]))\n",
    "    labels     = labels[labels[:, 1].argsort()[::-1]]\n",
    "    weights    = np.where(labels[:,0]==0, 20, 1)\n",
    "    cut_vals   = labels[np.cumsum(weights) <= int(0.04 * np.sum(weights))]\n",
    "    top_four   = np.sum(cut_vals[:,0]) / np.sum(labels[:,0])\n",
    "\n",
    "    gini = [0,0]\n",
    "    for i in [1,0]:\n",
    "        labels         = np.transpose(np.array([y_true, y_pred]))\n",
    "        labels         = labels[labels[:, i].argsort()[::-1]]\n",
    "        weight         = np.where(labels[:,0]==0, 20, 1)\n",
    "        weight_random  = np.cumsum(weight / np.sum(weight))\n",
    "        total_pos      = np.sum(labels[:, 0] *  weight)\n",
    "        cum_pos_found  = np.cumsum(labels[:, 0] * weight)\n",
    "        lorentz        = cum_pos_found / total_pos\n",
    "        gini[i]        = np.sum((lorentz - weight_random) * weight)\n",
    "\n",
    "    return 0.5 * (gini[1]/gini[0] + top_four)"
   ]
  },
  {
   "cell_type": "code",
   "execution_count": 10,
   "id": "b50272c4",
   "metadata": {
    "execution": {
     "iopub.execute_input": "2022-07-18T16:32:07.245662Z",
     "iopub.status.busy": "2022-07-18T16:32:07.244996Z",
     "iopub.status.idle": "2022-07-18T16:38:34.465386Z",
     "shell.execute_reply": "2022-07-18T16:38:34.462649Z"
    },
    "papermill": {
     "duration": 387.231572,
     "end_time": "2022-07-18T16:38:34.467912",
     "exception": false,
     "start_time": "2022-07-18T16:32:07.236340",
     "status": "completed"
    },
    "scrolled": true,
    "tags": []
   },
   "outputs": [
    {
     "name": "stdout",
     "output_type": "stream",
     "text": [
      "#########################\n",
      "### Fold 1\n",
      "### Train size 367130 Valid size 91783\n",
      "### Training with 100% fold data...\n",
      "#########################\n",
      "[0]\ttrain-logloss:0.66337\tvalid-logloss:0.66337\n",
      "[100]\ttrain-logloss:0.23690\tvalid-logloss:0.23944\n",
      "[200]\ttrain-logloss:0.22289\tvalid-logloss:0.22778\n",
      "[300]\ttrain-logloss:0.21691\tvalid-logloss:0.22375\n",
      "[400]\ttrain-logloss:0.21288\tvalid-logloss:0.22170\n",
      "[500]\ttrain-logloss:0.20991\tvalid-logloss:0.22058\n",
      "[600]\ttrain-logloss:0.20729\tvalid-logloss:0.21970\n",
      "[700]\ttrain-logloss:0.20490\tvalid-logloss:0.21914\n",
      "[800]\ttrain-logloss:0.20275\tvalid-logloss:0.21870\n",
      "[900]\ttrain-logloss:0.20064\tvalid-logloss:0.21832\n",
      "[1000]\ttrain-logloss:0.19868\tvalid-logloss:0.21811\n",
      "[1100]\ttrain-logloss:0.19678\tvalid-logloss:0.21789\n",
      "[1200]\ttrain-logloss:0.19497\tvalid-logloss:0.21767\n",
      "[1300]\ttrain-logloss:0.19323\tvalid-logloss:0.21754\n",
      "[1400]\ttrain-logloss:0.19148\tvalid-logloss:0.21744\n",
      "[1500]\ttrain-logloss:0.18980\tvalid-logloss:0.21741\n",
      "[1600]\ttrain-logloss:0.18814\tvalid-logloss:0.21730\n",
      "[1700]\ttrain-logloss:0.18652\tvalid-logloss:0.21720\n",
      "[1800]\ttrain-logloss:0.18491\tvalid-logloss:0.21719\n",
      "[1849]\ttrain-logloss:0.18413\tvalid-logloss:0.21719\n",
      "Kaggle Metric = 0.792701331473964 \n",
      "\n",
      "#########################\n",
      "### Fold 2\n",
      "### Train size 367130 Valid size 91783\n",
      "### Training with 100% fold data...\n",
      "#########################\n",
      "[0]\ttrain-logloss:0.66351\tvalid-logloss:0.66339\n",
      "[100]\ttrain-logloss:0.23734\tvalid-logloss:0.23804\n",
      "[200]\ttrain-logloss:0.22331\tvalid-logloss:0.22590\n",
      "[300]\ttrain-logloss:0.21726\tvalid-logloss:0.22205\n",
      "[400]\ttrain-logloss:0.21324\tvalid-logloss:0.22011\n",
      "[500]\ttrain-logloss:0.21019\tvalid-logloss:0.21901\n",
      "[600]\ttrain-logloss:0.20744\tvalid-logloss:0.21818\n",
      "[700]\ttrain-logloss:0.20512\tvalid-logloss:0.21774\n",
      "[800]\ttrain-logloss:0.20292\tvalid-logloss:0.21740\n",
      "[900]\ttrain-logloss:0.20087\tvalid-logloss:0.21708\n",
      "[1000]\ttrain-logloss:0.19891\tvalid-logloss:0.21689\n",
      "[1100]\ttrain-logloss:0.19698\tvalid-logloss:0.21674\n",
      "[1200]\ttrain-logloss:0.19508\tvalid-logloss:0.21659\n",
      "[1300]\ttrain-logloss:0.19333\tvalid-logloss:0.21648\n",
      "[1400]\ttrain-logloss:0.19164\tvalid-logloss:0.21640\n",
      "[1500]\ttrain-logloss:0.18990\tvalid-logloss:0.21628\n",
      "[1600]\ttrain-logloss:0.18823\tvalid-logloss:0.21624\n",
      "[1700]\ttrain-logloss:0.18657\tvalid-logloss:0.21620\n",
      "[1800]\ttrain-logloss:0.18495\tvalid-logloss:0.21619\n",
      "[1900]\ttrain-logloss:0.18335\tvalid-logloss:0.21617\n",
      "[2000]\ttrain-logloss:0.18181\tvalid-logloss:0.21611\n",
      "[2100]\ttrain-logloss:0.18035\tvalid-logloss:0.21612\n",
      "[2122]\ttrain-logloss:0.18001\tvalid-logloss:0.21612\n",
      "Kaggle Metric = 0.7937425240093838 \n",
      "\n",
      "#########################\n",
      "### Fold 3\n",
      "### Train size 367130 Valid size 91783\n",
      "### Training with 100% fold data...\n",
      "#########################\n",
      "[0]\ttrain-logloss:0.66331\tvalid-logloss:0.66343\n",
      "[100]\ttrain-logloss:0.23665\tvalid-logloss:0.24070\n",
      "[200]\ttrain-logloss:0.22254\tvalid-logloss:0.22890\n",
      "[300]\ttrain-logloss:0.21665\tvalid-logloss:0.22492\n",
      "[400]\ttrain-logloss:0.21275\tvalid-logloss:0.22293\n",
      "[500]\ttrain-logloss:0.20963\tvalid-logloss:0.22188\n",
      "[600]\ttrain-logloss:0.20698\tvalid-logloss:0.22116\n",
      "[700]\ttrain-logloss:0.20456\tvalid-logloss:0.22057\n",
      "[800]\ttrain-logloss:0.20238\tvalid-logloss:0.22023\n",
      "[900]\ttrain-logloss:0.20025\tvalid-logloss:0.21988\n",
      "[1000]\ttrain-logloss:0.19831\tvalid-logloss:0.21967\n",
      "[1100]\ttrain-logloss:0.19638\tvalid-logloss:0.21955\n",
      "[1200]\ttrain-logloss:0.19454\tvalid-logloss:0.21945\n",
      "[1300]\ttrain-logloss:0.19274\tvalid-logloss:0.21937\n",
      "[1400]\ttrain-logloss:0.19098\tvalid-logloss:0.21927\n",
      "[1500]\ttrain-logloss:0.18931\tvalid-logloss:0.21913\n",
      "[1600]\ttrain-logloss:0.18767\tvalid-logloss:0.21913\n",
      "[1613]\ttrain-logloss:0.18747\tvalid-logloss:0.21914\n",
      "Kaggle Metric = 0.7908621649573986 \n",
      "\n",
      "#########################\n",
      "### Fold 4\n",
      "### Train size 367131 Valid size 91782\n",
      "### Training with 100% fold data...\n",
      "#########################\n",
      "[0]\ttrain-logloss:0.66333\tvalid-logloss:0.66346\n",
      "[100]\ttrain-logloss:0.23650\tvalid-logloss:0.24109\n",
      "[200]\ttrain-logloss:0.22250\tvalid-logloss:0.22939\n",
      "[300]\ttrain-logloss:0.21641\tvalid-logloss:0.22553\n",
      "[400]\ttrain-logloss:0.21239\tvalid-logloss:0.22363\n",
      "[500]\ttrain-logloss:0.20936\tvalid-logloss:0.22264\n",
      "[600]\ttrain-logloss:0.20664\tvalid-logloss:0.22180\n",
      "[700]\ttrain-logloss:0.20428\tvalid-logloss:0.22126\n",
      "[800]\ttrain-logloss:0.20207\tvalid-logloss:0.22092\n",
      "[900]\ttrain-logloss:0.20005\tvalid-logloss:0.22063\n",
      "[1000]\ttrain-logloss:0.19804\tvalid-logloss:0.22047\n",
      "[1100]\ttrain-logloss:0.19613\tvalid-logloss:0.22031\n",
      "[1200]\ttrain-logloss:0.19425\tvalid-logloss:0.22024\n",
      "[1300]\ttrain-logloss:0.19246\tvalid-logloss:0.22015\n",
      "[1400]\ttrain-logloss:0.19069\tvalid-logloss:0.22007\n",
      "[1500]\ttrain-logloss:0.18898\tvalid-logloss:0.21997\n",
      "[1600]\ttrain-logloss:0.18732\tvalid-logloss:0.21992\n",
      "[1700]\ttrain-logloss:0.18570\tvalid-logloss:0.21995\n",
      "[1776]\ttrain-logloss:0.18447\tvalid-logloss:0.21997\n",
      "Kaggle Metric = 0.7862135832327093 \n",
      "\n",
      "#########################\n",
      "### Fold 5\n",
      "### Train size 367131 Valid size 91782\n",
      "### Training with 100% fold data...\n",
      "#########################\n",
      "[0]\ttrain-logloss:0.66339\tvalid-logloss:0.66339\n",
      "[100]\ttrain-logloss:0.23741\tvalid-logloss:0.23800\n",
      "[200]\ttrain-logloss:0.22343\tvalid-logloss:0.22607\n",
      "[300]\ttrain-logloss:0.21751\tvalid-logloss:0.22213\n",
      "[400]\ttrain-logloss:0.21359\tvalid-logloss:0.22010\n",
      "[500]\ttrain-logloss:0.21051\tvalid-logloss:0.21890\n",
      "[600]\ttrain-logloss:0.20781\tvalid-logloss:0.21811\n",
      "[700]\ttrain-logloss:0.20542\tvalid-logloss:0.21760\n",
      "[800]\ttrain-logloss:0.20316\tvalid-logloss:0.21715\n",
      "[900]\ttrain-logloss:0.20104\tvalid-logloss:0.21681\n",
      "[1000]\ttrain-logloss:0.19902\tvalid-logloss:0.21661\n",
      "[1100]\ttrain-logloss:0.19710\tvalid-logloss:0.21638\n",
      "[1200]\ttrain-logloss:0.19526\tvalid-logloss:0.21628\n",
      "[1300]\ttrain-logloss:0.19345\tvalid-logloss:0.21616\n",
      "[1400]\ttrain-logloss:0.19168\tvalid-logloss:0.21607\n",
      "[1500]\ttrain-logloss:0.18997\tvalid-logloss:0.21601\n",
      "[1600]\ttrain-logloss:0.18828\tvalid-logloss:0.21594\n",
      "[1700]\ttrain-logloss:0.18670\tvalid-logloss:0.21589\n",
      "[1800]\ttrain-logloss:0.18510\tvalid-logloss:0.21586\n",
      "[1900]\ttrain-logloss:0.18352\tvalid-logloss:0.21583\n",
      "[1941]\ttrain-logloss:0.18287\tvalid-logloss:0.21582\n",
      "Kaggle Metric = 0.7935646928644153 \n",
      "\n",
      "#########################\n",
      "OVERALL CV Kaggle Metric = 0.7913929677940014\n"
     ]
    }
   ],
   "source": [
    "importances = []\n",
    "oof = []\n",
    "train = train.to_pandas() # free GPU memory\n",
    "TRAIN_SUBSAMPLE = 1.0\n",
    "gc.collect()\n",
    "\n",
    "skf = KFold(n_splits=FOLDS, shuffle=True, random_state=SEED)\n",
    "for fold,(train_idx, valid_idx) in enumerate(skf.split(\n",
    "            train, train.target )):\n",
    "    \n",
    "    # TRAIN WITH SUBSAMPLE OF TRAIN FOLD DATA\n",
    "    if TRAIN_SUBSAMPLE<1.0:\n",
    "        np.random.seed(SEED)\n",
    "        train_idx = np.random.choice(train_idx, \n",
    "                       int(len(train_idx)*TRAIN_SUBSAMPLE), replace=False)\n",
    "        np.random.seed(None)\n",
    "    \n",
    "    print('#'*25)\n",
    "    print('### Fold',fold+1)\n",
    "    print('### Train size',len(train_idx),'Valid size',len(valid_idx))\n",
    "    print(f'### Training with {int(TRAIN_SUBSAMPLE*100)}% fold data...')\n",
    "    print('#'*25)\n",
    "    \n",
    "    # TRAIN, VALID, TEST FOR FOLD K\n",
    "    Xy_train = IterLoadForDMatrix(train.loc[train_idx], FEATURES, 'target')\n",
    "    X_valid = train.loc[valid_idx, FEATURES]\n",
    "    y_valid = train.loc[valid_idx, 'target']\n",
    "    \n",
    "    dtrain = xgb.DeviceQuantileDMatrix(Xy_train, max_bin=256)\n",
    "    dvalid = xgb.DMatrix(data=X_valid, label=y_valid)\n",
    "    \n",
    "    # TRAIN MODEL FOLD K\n",
    "    model = xgb.train(xgb_parms, \n",
    "                dtrain=dtrain,\n",
    "                evals=[(dtrain,'train'),(dvalid,'valid')],\n",
    "                num_boost_round=9999,\n",
    "                early_stopping_rounds=100,\n",
    "                verbose_eval=100) \n",
    "    model.save_model(f'XGB_v{VER}_fold{fold}.xgb')\n",
    "    \n",
    "    # GET FEATURE IMPORTANCE FOR FOLD K\n",
    "    dd = model.get_score(importance_type='weight')\n",
    "    df = pd.DataFrame({'feature':dd.keys(),f'importance_{fold}':dd.values()})\n",
    "    importances.append(df)\n",
    "            \n",
    "    # INFER OOF FOLD K\n",
    "    oof_preds = model.predict(dvalid)\n",
    "    acc = amex_metric_mod(y_valid.values, oof_preds)\n",
    "    print('Kaggle Metric =',acc,'\\n')\n",
    "    \n",
    "    # SAVE OOF\n",
    "    df = train.loc[valid_idx, ['customer_ID','target'] ].copy()\n",
    "    df['oof_pred'] = oof_preds\n",
    "    oof.append( df )\n",
    "    \n",
    "    del dtrain, Xy_train, dd, df\n",
    "    del X_valid, y_valid, dvalid, model\n",
    "    _ = gc.collect()\n",
    "    \n",
    "print('#'*25)\n",
    "oof = pd.concat(oof,axis=0,ignore_index=True).set_index('customer_ID')\n",
    "acc = amex_metric_mod(oof.target.values, oof.oof_pred.values)\n",
    "print('OVERALL CV Kaggle Metric =',acc)"
   ]
  },
  {
   "cell_type": "code",
   "execution_count": 11,
   "id": "4499d0ec",
   "metadata": {
    "execution": {
     "iopub.execute_input": "2022-07-18T16:38:34.514117Z",
     "iopub.status.busy": "2022-07-18T16:38:34.513778Z",
     "iopub.status.idle": "2022-07-18T16:38:34.713385Z",
     "shell.execute_reply": "2022-07-18T16:38:34.712342Z"
    },
    "papermill": {
     "duration": 0.225921,
     "end_time": "2022-07-18T16:38:34.715738",
     "exception": false,
     "start_time": "2022-07-18T16:38:34.489817",
     "status": "completed"
    },
    "tags": []
   },
   "outputs": [],
   "source": [
    "# CLEAN RAM\n",
    "del train\n",
    "_ = gc.collect()"
   ]
  },
  {
   "cell_type": "markdown",
   "id": "e8d1aac4",
   "metadata": {
    "papermill": {
     "duration": 0.022129,
     "end_time": "2022-07-18T16:38:34.761152",
     "exception": false,
     "start_time": "2022-07-18T16:38:34.739023",
     "status": "completed"
    },
    "tags": []
   },
   "source": [
    "# Save OOF Preds"
   ]
  },
  {
   "cell_type": "code",
   "execution_count": 12,
   "id": "e4b68ca4",
   "metadata": {
    "execution": {
     "iopub.execute_input": "2022-07-18T16:38:34.806602Z",
     "iopub.status.busy": "2022-07-18T16:38:34.805894Z",
     "iopub.status.idle": "2022-07-18T16:38:39.572436Z",
     "shell.execute_reply": "2022-07-18T16:38:39.571649Z"
    },
    "papermill": {
     "duration": 4.79138,
     "end_time": "2022-07-18T16:38:39.574229",
     "exception": false,
     "start_time": "2022-07-18T16:38:34.782849",
     "status": "completed"
    },
    "tags": []
   },
   "outputs": [
    {
     "data": {
      "text/html": [
       "<div>\n",
       "<style scoped>\n",
       "    .dataframe tbody tr th:only-of-type {\n",
       "        vertical-align: middle;\n",
       "    }\n",
       "\n",
       "    .dataframe tbody tr th {\n",
       "        vertical-align: top;\n",
       "    }\n",
       "\n",
       "    .dataframe thead th {\n",
       "        text-align: right;\n",
       "    }\n",
       "</style>\n",
       "<table border=\"1\" class=\"dataframe\">\n",
       "  <thead>\n",
       "    <tr style=\"text-align: right;\">\n",
       "      <th></th>\n",
       "      <th>customer_ID</th>\n",
       "      <th>target</th>\n",
       "      <th>oof_pred</th>\n",
       "    </tr>\n",
       "  </thead>\n",
       "  <tbody>\n",
       "    <tr>\n",
       "      <th>0</th>\n",
       "      <td>20eac26171c3d251c55fc78204e59fab1c15fc2bc96d0c...</td>\n",
       "      <td>1</td>\n",
       "      <td>0.686507</td>\n",
       "    </tr>\n",
       "    <tr>\n",
       "      <th>1</th>\n",
       "      <td>aea50fdf9b974ccec95fa177c3225a0f913483b457de6e...</td>\n",
       "      <td>0</td>\n",
       "      <td>0.000321</td>\n",
       "    </tr>\n",
       "    <tr>\n",
       "      <th>2</th>\n",
       "      <td>32cd2d41aef737b69089882754395925c96eaee1f4a859...</td>\n",
       "      <td>0</td>\n",
       "      <td>0.001326</td>\n",
       "    </tr>\n",
       "    <tr>\n",
       "      <th>3</th>\n",
       "      <td>8daa6d5dc2655a8a437531e6b8b96829113cdfe9bf6cae...</td>\n",
       "      <td>0</td>\n",
       "      <td>0.014178</td>\n",
       "    </tr>\n",
       "    <tr>\n",
       "      <th>4</th>\n",
       "      <td>0ceba351a3851202542feb49d7385bcef32f6037fc57c7...</td>\n",
       "      <td>1</td>\n",
       "      <td>0.846423</td>\n",
       "    </tr>\n",
       "  </tbody>\n",
       "</table>\n",
       "</div>"
      ],
      "text/plain": [
       "                                         customer_ID  target  oof_pred\n",
       "0  20eac26171c3d251c55fc78204e59fab1c15fc2bc96d0c...       1  0.686507\n",
       "1  aea50fdf9b974ccec95fa177c3225a0f913483b457de6e...       0  0.000321\n",
       "2  32cd2d41aef737b69089882754395925c96eaee1f4a859...       0  0.001326\n",
       "3  8daa6d5dc2655a8a437531e6b8b96829113cdfe9bf6cae...       0  0.014178\n",
       "4  0ceba351a3851202542feb49d7385bcef32f6037fc57c7...       1  0.846423"
      ]
     },
     "execution_count": 12,
     "metadata": {},
     "output_type": "execute_result"
    }
   ],
   "source": [
    "oof_xgb = pd.read_parquet(TRAIN_PATH, columns=['customer_ID']).drop_duplicates()\n",
    "oof_xgb['customer_ID_hash'] = oof_xgb['customer_ID'].apply(lambda x: int(x[-16:],16) ).astype('int64')\n",
    "oof_xgb = oof_xgb.set_index('customer_ID_hash')\n",
    "oof_xgb = oof_xgb.merge(oof, left_index=True, right_index=True)\n",
    "oof_xgb = oof_xgb.sort_index().reset_index(drop=True)\n",
    "oof_xgb.to_csv(f'oof_xgb_v{VER}.csv',index=False)\n",
    "oof_xgb.head()"
   ]
  },
  {
   "cell_type": "code",
   "execution_count": 13,
   "id": "dd4bb41b",
   "metadata": {
    "execution": {
     "iopub.execute_input": "2022-07-18T16:38:39.603713Z",
     "iopub.status.busy": "2022-07-18T16:38:39.603147Z",
     "iopub.status.idle": "2022-07-18T16:38:39.951700Z",
     "shell.execute_reply": "2022-07-18T16:38:39.950967Z"
    },
    "papermill": {
     "duration": 0.365117,
     "end_time": "2022-07-18T16:38:39.953486",
     "exception": false,
     "start_time": "2022-07-18T16:38:39.588369",
     "status": "completed"
    },
    "tags": []
   },
   "outputs": [
    {
     "data": {
      "image/png": "[encoded data removed]",
      "text/plain": [
       "<Figure size 432x288 with 1 Axes>"
      ]
     },
     "metadata": {
      "needs_background": "light"
     },
     "output_type": "display_data"
    }
   ],
   "source": [
    "# PLOT OOF PREDICTIONS\n",
    "plt.hist(oof_xgb.oof_pred.values, bins=100)\n",
    "plt.title('OOF Predictions')\n",
    "plt.show()"
   ]
  },
  {
   "cell_type": "code",
   "execution_count": 14,
   "id": "a9bcbced",
   "metadata": {
    "execution": {
     "iopub.execute_input": "2022-07-18T16:38:39.983416Z",
     "iopub.status.busy": "2022-07-18T16:38:39.983049Z",
     "iopub.status.idle": "2022-07-18T16:38:40.127722Z",
     "shell.execute_reply": "2022-07-18T16:38:40.126929Z"
    },
    "papermill": {
     "duration": 0.161755,
     "end_time": "2022-07-18T16:38:40.129673",
     "exception": false,
     "start_time": "2022-07-18T16:38:39.967918",
     "status": "completed"
    },
    "tags": []
   },
   "outputs": [],
   "source": [
    "# CLEAR VRAM, RAM FOR INFERENCE BELOW\n",
    "del oof_xgb, oof\n",
    "_ = gc.collect()"
   ]
  },
  {
   "cell_type": "markdown",
   "id": "4e6c3bd2",
   "metadata": {
    "papermill": {
     "duration": 0.013735,
     "end_time": "2022-07-18T16:38:40.157601",
     "exception": false,
     "start_time": "2022-07-18T16:38:40.143866",
     "status": "completed"
    },
    "tags": []
   },
   "source": [
    "# Feature Importance"
   ]
  },
  {
   "cell_type": "code",
   "execution_count": 15,
   "id": "df1e034c",
   "metadata": {
    "execution": {
     "iopub.execute_input": "2022-07-18T16:38:40.187166Z",
     "iopub.status.busy": "2022-07-18T16:38:40.186822Z",
     "iopub.status.idle": "2022-07-18T16:38:40.214465Z",
     "shell.execute_reply": "2022-07-18T16:38:40.213626Z"
    },
    "papermill": {
     "duration": 0.044884,
     "end_time": "2022-07-18T16:38:40.216434",
     "exception": false,
     "start_time": "2022-07-18T16:38:40.171550",
     "status": "completed"
    },
    "tags": []
   },
   "outputs": [],
   "source": [
    "import matplotlib.pyplot as plt\n",
    "\n",
    "df = importances[0].copy()\n",
    "for k in range(1,FOLDS): df = df.merge(importances[k], on='feature', how='left')\n",
    "df['importance'] = df.iloc[:,1:].mean(axis=1)\n",
    "df = df.sort_values('importance',ascending=False)\n",
    "df.to_csv(f'xgb_feature_importance_v{VER}.csv',index=False)"
   ]
  },
  {
   "cell_type": "code",
   "execution_count": 16,
   "id": "7b2b0496",
   "metadata": {
    "execution": {
     "iopub.execute_input": "2022-07-18T16:38:40.245357Z",
     "iopub.status.busy": "2022-07-18T16:38:40.245044Z",
     "iopub.status.idle": "2022-07-18T16:38:40.507419Z",
     "shell.execute_reply": "2022-07-18T16:38:40.506515Z"
    },
    "papermill": {
     "duration": 0.279092,
     "end_time": "2022-07-18T16:38:40.509361",
     "exception": false,
     "start_time": "2022-07-18T16:38:40.230269",
     "status": "completed"
    },
    "tags": []
   },
   "outputs": [
    {
     "data": {
      "image/png": "[encoded data removed]",
      "text/plain": [
       "<Figure size 720x720 with 1 Axes>"
      ]
     },
     "metadata": {
      "needs_background": "light"
     },
     "output_type": "display_data"
    }
   ],
   "source": [
    "NUM_FEATURES = 20\n",
    "plt.figure(figsize=(10,5*NUM_FEATURES//10))\n",
    "plt.barh(np.arange(NUM_FEATURES,0,-1), df.importance.values[:NUM_FEATURES])\n",
    "plt.yticks(np.arange(NUM_FEATURES,0,-1), df.feature.values[:NUM_FEATURES])\n",
    "plt.title(f'XGB Feature Importance - Top {NUM_FEATURES}')\n",
    "plt.show()"
   ]
  },
  {
   "cell_type": "markdown",
   "id": "df46c0bc",
   "metadata": {
    "papermill": {
     "duration": 0.014098,
     "end_time": "2022-07-18T16:38:40.538465",
     "exception": false,
     "start_time": "2022-07-18T16:38:40.524367",
     "status": "completed"
    },
    "tags": []
   },
   "source": [
    "# Process and Feature Engineer Test Data\n",
    "We will load @raddar Kaggle dataset from [here][1] with discussion [here][2]. Then we will engineer features suggested by @huseyincot in his notebooks [here][1] and [here][4]. We will use [RAPIDS][5] and the GPU to create new features quickly.\n",
    "\n",
    "[1]: https://www.kaggle.com/datasets/raddar/amex-data-integer-dtypes-parquet-format\n",
    "[2]: https://www.kaggle.com/competitions/amex-default-prediction/discussion/328514\n",
    "[3]: https://www.kaggle.com/code/huseyincot/amex-catboost-0-793\n",
    "[4]: https://www.kaggle.com/code/huseyincot/amex-agg-data-how-it-created\n",
    "[5]: https://rapids.ai/"
   ]
  },
  {
   "cell_type": "code",
   "execution_count": 17,
   "id": "0a3af90f",
   "metadata": {
    "execution": {
     "iopub.execute_input": "2022-07-18T16:38:40.567761Z",
     "iopub.status.busy": "2022-07-18T16:38:40.567440Z",
     "iopub.status.idle": "2022-07-18T16:38:43.002726Z",
     "shell.execute_reply": "2022-07-18T16:38:43.001901Z"
    },
    "papermill": {
     "duration": 2.452056,
     "end_time": "2022-07-18T16:38:43.004568",
     "exception": false,
     "start_time": "2022-07-18T16:38:40.552512",
     "status": "completed"
    },
    "tags": []
   },
   "outputs": [
    {
     "name": "stdout",
     "output_type": "stream",
     "text": [
      "Reading test data...\n",
      "shape of data: (11363762, 2)\n",
      "We will process test data as 4 separate parts.\n",
      "There will be 231155 customers in each part (except the last part).\n",
      "Below are number of rows in each part:\n",
      "[2841209, 2839857, 2842105, 2840591]\n"
     ]
    }
   ],
   "source": [
    "# CALCULATE SIZE OF EACH SEPARATE TEST PART\n",
    "def get_rows(customers, test, NUM_PARTS = 4, verbose = ''):\n",
    "    chunk = len(customers)//NUM_PARTS\n",
    "    if verbose != '':\n",
    "        print(f'We will process {verbose} data as {NUM_PARTS} separate parts.')\n",
    "        print(f'There will be {chunk} customers in each part (except the last part).')\n",
    "        print('Below are number of rows in each part:')\n",
    "    rows = []\n",
    "\n",
    "    for k in range(NUM_PARTS):\n",
    "        if k==NUM_PARTS-1: cc = customers[k*chunk:]\n",
    "        else: cc = customers[k*chunk:(k+1)*chunk]\n",
    "        s = test.loc[test.customer_ID.isin(cc)].shape[0]\n",
    "        rows.append(s)\n",
    "    if verbose != '': print( rows )\n",
    "    return rows,chunk\n",
    "\n",
    "# COMPUTE SIZE OF 4 PARTS FOR TEST DATA\n",
    "NUM_PARTS = 4\n",
    "TEST_PATH = '../input/amex-data-integer-dtypes-parquet-format/test.parquet'\n",
    "\n",
    "print(f'Reading test data...')\n",
    "test = read_file(path = TEST_PATH, usecols = ['customer_ID','S_2'])\n",
    "customers = test[['customer_ID']].drop_duplicates().sort_index().values.flatten()\n",
    "rows,num_cust = get_rows(customers, test[['customer_ID']], NUM_PARTS = NUM_PARTS, verbose = 'test')"
   ]
  },
  {
   "cell_type": "markdown",
   "id": "a8f9202d",
   "metadata": {
    "papermill": {
     "duration": 0.014772,
     "end_time": "2022-07-18T16:38:43.033992",
     "exception": false,
     "start_time": "2022-07-18T16:38:43.019220",
     "status": "completed"
    },
    "tags": []
   },
   "source": [
    "# Infer Test"
   ]
  },
  {
   "cell_type": "code",
   "execution_count": 18,
   "id": "bfe98e35",
   "metadata": {
    "execution": {
     "iopub.execute_input": "2022-07-18T16:38:43.064559Z",
     "iopub.status.busy": "2022-07-18T16:38:43.063728Z",
     "iopub.status.idle": "2022-07-18T16:40:48.646439Z",
     "shell.execute_reply": "2022-07-18T16:40:48.645618Z"
    },
    "papermill": {
     "duration": 125.600051,
     "end_time": "2022-07-18T16:40:48.648594",
     "exception": false,
     "start_time": "2022-07-18T16:38:43.048543",
     "status": "completed"
    },
    "tags": []
   },
   "outputs": [
    {
     "name": "stdout",
     "output_type": "stream",
     "text": [
      "\n",
      "Reading test data...\n",
      "shape of data: (11363762, 190)\n",
      "=> Test part 1 has shape (2841209, 190)\n",
      "shape after engineering (231155, 556)\n",
      "\n",
      "Reading test data...\n",
      "shape of data: (11363762, 190)\n",
      "=> Test part 2 has shape (2839857, 190)\n",
      "shape after engineering (231155, 556)\n",
      "\n",
      "Reading test data...\n",
      "shape of data: (11363762, 190)\n",
      "=> Test part 3 has shape (2842105, 190)\n",
      "shape after engineering (231155, 556)\n",
      "\n",
      "Reading test data...\n",
      "shape of data: (11363762, 190)\n",
      "=> Test part 4 has shape (2840591, 190)\n",
      "shape after engineering (231156, 556)\n"
     ]
    }
   ],
   "source": [
    "# INFER TEST DATA IN PARTS\n",
    "skip_rows = 0\n",
    "skip_cust = 0\n",
    "test_preds = []\n",
    "\n",
    "for k in range(NUM_PARTS):\n",
    "    \n",
    "    # READ PART OF TEST DATA\n",
    "    print(f'\\nReading test data...')\n",
    "    test = read_file(path = TEST_PATH)\n",
    "    test = test.iloc[skip_rows:skip_rows+rows[k]]\n",
    "    skip_rows += rows[k]\n",
    "    print(f'=> Test part {k+1} has shape', test.shape )\n",
    "    \n",
    "    # PROCESS AND FEATURE ENGINEER PART OF TEST DATA\n",
    "    test = process_and_feature_engineer(test)\n",
    "    if k==NUM_PARTS-1: test = test.loc[customers[skip_cust:]]\n",
    "    else: test = test.loc[customers[skip_cust:skip_cust+num_cust]]\n",
    "    skip_cust += num_cust\n",
    "    \n",
    "    # TEST DATA FOR XGB\n",
    "    X_test = test[FEATURES]\n",
    "    dtest = xgb.DMatrix(data=X_test)\n",
    "    test = test[['P_2_mean']] # reduce memory\n",
    "    del X_test\n",
    "    gc.collect()\n",
    "\n",
    "    # INFER XGB MODELS ON TEST DATA\n",
    "    model = xgb.Booster()\n",
    "    model.load_model(f'XGB_v{VER}_fold0.xgb')\n",
    "    preds = model.predict(dtest)\n",
    "    for f in range(1,FOLDS):\n",
    "        model.load_model(f'XGB_v{VER}_fold{f}.xgb')\n",
    "        preds += model.predict(dtest)\n",
    "    preds /= FOLDS\n",
    "    test_preds.append(preds)\n",
    "\n",
    "    # CLEAN MEMORY\n",
    "    del dtest, model\n",
    "    _ = gc.collect()"
   ]
  },
  {
   "cell_type": "markdown",
   "id": "1a98fcbd",
   "metadata": {
    "papermill": {
     "duration": 0.014976,
     "end_time": "2022-07-18T16:40:48.678909",
     "exception": false,
     "start_time": "2022-07-18T16:40:48.663933",
     "status": "completed"
    },
    "tags": []
   },
   "source": [
    "# Create Submission CSV"
   ]
  },
  {
   "cell_type": "code",
   "execution_count": 19,
   "id": "4c0de1b9",
   "metadata": {
    "execution": {
     "iopub.execute_input": "2022-07-18T16:40:48.710767Z",
     "iopub.status.busy": "2022-07-18T16:40:48.710423Z",
     "iopub.status.idle": "2022-07-18T16:40:49.994367Z",
     "shell.execute_reply": "2022-07-18T16:40:49.993016Z"
    },
    "papermill": {
     "duration": 1.302494,
     "end_time": "2022-07-18T16:40:49.996307",
     "exception": false,
     "start_time": "2022-07-18T16:40:48.693813",
     "status": "completed"
    },
    "tags": []
   },
   "outputs": [
    {
     "name": "stdout",
     "output_type": "stream",
     "text": [
      "Submission file shape is (924621, 2)\n"
     ]
    },
    {
     "data": {
      "text/html": [
       "<div>\n",
       "<style scoped>\n",
       "    .dataframe tbody tr th:only-of-type {\n",
       "        vertical-align: middle;\n",
       "    }\n",
       "\n",
       "    .dataframe tbody tr th {\n",
       "        vertical-align: top;\n",
       "    }\n",
       "\n",
       "    .dataframe thead th {\n",
       "        text-align: right;\n",
       "    }\n",
       "</style>\n",
       "<table border=\"1\" class=\"dataframe\">\n",
       "  <thead>\n",
       "    <tr style=\"text-align: right;\">\n",
       "      <th></th>\n",
       "      <th>customer_ID</th>\n",
       "      <th>prediction</th>\n",
       "    </tr>\n",
       "  </thead>\n",
       "  <tbody>\n",
       "    <tr>\n",
       "      <th>0</th>\n",
       "      <td>0359e97c244bbbbe2db7c21e891debe80e82291f2e470e...</td>\n",
       "      <td>0.003327</td>\n",
       "    </tr>\n",
       "    <tr>\n",
       "      <th>1</th>\n",
       "      <td>035b3479c9020483c00b7dac8f816759bb3aa6fdd8dfab...</td>\n",
       "      <td>0.000420</td>\n",
       "    </tr>\n",
       "    <tr>\n",
       "      <th>2</th>\n",
       "      <td>035a556cc13aae13de7bdcc71c81a1ab27f586f2ddf50e...</td>\n",
       "      <td>0.001899</td>\n",
       "    </tr>\n",
       "    <tr>\n",
       "      <th>3</th>\n",
       "      <td>035bca6744c2fe912b15a0bc6011f3ec679cbc7c60e049...</td>\n",
       "      <td>0.032924</td>\n",
       "    </tr>\n",
       "    <tr>\n",
       "      <th>4</th>\n",
       "      <td>0359f31145b54da7258ed5ff894cbe50dd4302d3d4a1e9...</td>\n",
       "      <td>0.048478</td>\n",
       "    </tr>\n",
       "  </tbody>\n",
       "</table>\n",
       "</div>"
      ],
      "text/plain": [
       "                                         customer_ID  prediction\n",
       "0  0359e97c244bbbbe2db7c21e891debe80e82291f2e470e...    0.003327\n",
       "1  035b3479c9020483c00b7dac8f816759bb3aa6fdd8dfab...    0.000420\n",
       "2  035a556cc13aae13de7bdcc71c81a1ab27f586f2ddf50e...    0.001899\n",
       "3  035bca6744c2fe912b15a0bc6011f3ec679cbc7c60e049...    0.032924\n",
       "4  0359f31145b54da7258ed5ff894cbe50dd4302d3d4a1e9...    0.048478"
      ]
     },
     "execution_count": 19,
     "metadata": {},
     "output_type": "execute_result"
    }
   ],
   "source": [
    "# WRITE SUBMISSION FILE\n",
    "test_preds = np.concatenate(test_preds)\n",
    "test = cudf.DataFrame(index=customers,data={'prediction':test_preds})\n",
    "sub = cudf.read_csv('../input/amex-default-prediction/sample_submission.csv')[['customer_ID']]\n",
    "sub['customer_ID_hash'] = sub['customer_ID'].str[-16:].str.hex_to_int().astype('int64')\n",
    "sub = sub.set_index('customer_ID_hash')\n",
    "sub = sub.merge(test[['prediction']], left_index=True, right_index=True, how='left')\n",
    "sub = sub.reset_index(drop=True)\n",
    "\n",
    "# DISPLAY PREDICTIONS\n",
    "sub.to_csv(f'submission_xgb_v{VER}.csv',index=False)\n",
    "print('Submission file shape is', sub.shape )\n",
    "sub.head()"
   ]
  },
  {
   "cell_type": "code",
   "execution_count": 20,
   "id": "f3f1ab9d",
   "metadata": {
    "execution": {
     "iopub.execute_input": "2022-07-18T16:40:50.028338Z",
     "iopub.status.busy": "2022-07-18T16:40:50.028036Z",
     "iopub.status.idle": "2022-07-18T16:40:50.717631Z",
     "shell.execute_reply": "2022-07-18T16:40:50.716790Z"
    },
    "papermill": {
     "duration": 0.707331,
     "end_time": "2022-07-18T16:40:50.719480",
     "exception": false,
     "start_time": "2022-07-18T16:40:50.012149",
     "status": "completed"
    },
    "tags": []
   },
   "outputs": [
    {
     "data": {
      "image/png": "[encoded data removed]",
      "text/plain": [
       "<Figure size 432x288 with 1 Axes>"
      ]
     },
     "metadata": {
      "needs_background": "light"
     },
     "output_type": "display_data"
    }
   ],
   "source": [
    "# PLOT PREDICTIONS\n",
    "plt.hist(sub.to_pandas().prediction, bins=100)\n",
    "plt.title('Test Predictions')\n",
    "plt.show()"
   ]
  }
 ],
 "metadata": {
  "kernelspec": {
   "display_name": "Python 3",
   "language": "python",
   "name": "python3"
  },
  "language_info": {
   "codemirror_mode": {
    "name": "ipython",
    "version": 3
   },
   "file_extension": ".py",
   "mimetype": "text/x-python",
   "name": "python",
   "nbconvert_exporter": "python",
   "pygments_lexer": "ipython3",
   "version": "3.7.12"
  },
  "papermill": {
   "default_parameters": {},
   "duration": 565.265103,
   "end_time": "2022-07-18T16:40:52.158546",
   "environment_variables": {},
   "exception": null,
   "input_path": "__notebook__.ipynb",
   "output_path": "__notebook__.ipynb",
   "parameters": {},
   "start_time": "2022-07-18T16:31:26.893443",
   "version": "2.3.4"
  }
 },
 "nbformat": 4,
 "nbformat_minor": 5
}
