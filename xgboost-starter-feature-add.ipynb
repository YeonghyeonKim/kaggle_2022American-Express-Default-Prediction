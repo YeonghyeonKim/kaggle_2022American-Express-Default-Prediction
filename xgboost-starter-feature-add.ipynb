{
 "cells": [
  {
   "cell_type": "markdown",
   "id": "04436712",
   "metadata": {
    "papermill": {
     "duration": 0.012628,
     "end_time": "2022-07-16T15:07:32.419048",
     "exception": false,
     "start_time": "2022-07-16T15:07:32.406420",
     "status": "completed"
    },
    "tags": []
   },
   "source": [
    "# XGBoost Starter - LB 0.793\n",
    "In this notebook we build and train an XGBoost model using @raddar Kaggle dataset from [here][1] with discussion [here][2]. Then we engineer features suggested by @huseyincot in his notebooks [here][3] and [here][4]. This XGB model achieves CV 0.792 LB 0.793! When training with XGB, we use a special XGB dataloader called `DeviceQuantileDMatrix` which uses a small GPU memory footprint. This allows us to engineer more additional columns and train with more rows of data. Our feature engineering is performed using [RAPIDS][5] on the GPU to create new features quickly.\n",
    "\n",
    "[1]: https://www.kaggle.com/datasets/raddar/amex-data-integer-dtypes-parquet-format\n",
    "[2]: https://www.kaggle.com/competitions/amex-default-prediction/discussion/328514\n",
    "[3]: https://www.kaggle.com/code/huseyincot/amex-catboost-0-793\n",
    "[4]: https://www.kaggle.com/code/huseyincot/amex-agg-data-how-it-created\n",
    "[5]: https://rapids.ai/"
   ]
  },
  {
   "cell_type": "markdown",
   "id": "093abf3a",
   "metadata": {
    "papermill": {
     "duration": 0.010974,
     "end_time": "2022-07-16T15:07:32.441547",
     "exception": false,
     "start_time": "2022-07-16T15:07:32.430573",
     "status": "completed"
    },
    "tags": []
   },
   "source": [
    "Feature Engineering I done\n",
    "1. Drop B_29, https://www.kaggle.com/code/roberthatch/amex-feature-engg-gpu-or-cpu-process-in-chunks/notebook\n",
    "<!-- 2. Add each customer count (how long they used) (not normalize) -->\n",
    "3. Don't fill NaN (with -127)\n",
    "4. remove num_features's min, std\n",
    "<!-- 5. D_39에 대한 feature 추가 -> CV하락 -->\n",
    "6. B_1과 B_2간의 연관 feature 추가\n"
   ]
  },
  {
   "cell_type": "markdown",
   "id": "197c44ba",
   "metadata": {
    "papermill": {
     "duration": 0.010625,
     "end_time": "2022-07-16T15:07:32.462978",
     "exception": false,
     "start_time": "2022-07-16T15:07:32.452353",
     "status": "completed"
    },
    "tags": []
   },
   "source": [
    "# Load Libraries"
   ]
  },
  {
   "cell_type": "code",
   "execution_count": 1,
   "id": "303d5d10",
   "metadata": {
    "execution": {
     "iopub.execute_input": "2022-07-16T15:07:32.486738Z",
     "iopub.status.busy": "2022-07-16T15:07:32.485867Z",
     "iopub.status.idle": "2022-07-16T15:07:36.741703Z",
     "shell.execute_reply": "2022-07-16T15:07:36.740553Z"
    },
    "papermill": {
     "duration": 4.270795,
     "end_time": "2022-07-16T15:07:36.744479",
     "exception": false,
     "start_time": "2022-07-16T15:07:32.473684",
     "status": "completed"
    },
    "tags": []
   },
   "outputs": [
    {
     "name": "stdout",
     "output_type": "stream",
     "text": [
      "RAPIDS version 21.10.01\n"
     ]
    }
   ],
   "source": [
    "# LOAD LIBRARIES\n",
    "import pandas as pd, numpy as np # CPU libraries\n",
    "import cupy, cudf # GPU libraries\n",
    "import matplotlib.pyplot as plt, gc, os\n",
    "\n",
    "print('RAPIDS version',cudf.__version__)"
   ]
  },
  {
   "cell_type": "code",
   "execution_count": 2,
   "id": "5f58506e",
   "metadata": {
    "execution": {
     "iopub.execute_input": "2022-07-16T15:07:36.760984Z",
     "iopub.status.busy": "2022-07-16T15:07:36.760189Z",
     "iopub.status.idle": "2022-07-16T15:07:36.765397Z",
     "shell.execute_reply": "2022-07-16T15:07:36.764678Z"
    },
    "papermill": {
     "duration": 0.015054,
     "end_time": "2022-07-16T15:07:36.767194",
     "exception": false,
     "start_time": "2022-07-16T15:07:36.752140",
     "status": "completed"
    },
    "tags": []
   },
   "outputs": [],
   "source": [
    "# VERSION NAME FOR SAVED MODEL FILES\n",
    "VER = 1\n",
    "\n",
    "# TRAIN RANDOM SEED\n",
    "SEED = 42\n",
    "\n",
    "# FILL NAN VALUE\n",
    "NAN_VALUE = -127 # will fit in int8\n",
    "\n",
    "# FOLDS PER MODEL\n",
    "FOLDS = 5"
   ]
  },
  {
   "cell_type": "markdown",
   "id": "572341fb",
   "metadata": {
    "papermill": {
     "duration": 0.006836,
     "end_time": "2022-07-16T15:07:36.780748",
     "exception": false,
     "start_time": "2022-07-16T15:07:36.773912",
     "status": "completed"
    },
    "tags": []
   },
   "source": [
    "# Process and Feature Engineer Train Data\n",
    "We will load @raddar Kaggle dataset from [here][1] with discussion [here][2]. Then we will engineer features suggested by @huseyincot in his notebooks [here][3] and [here][4]. We will use [RAPIDS][5] and the GPU to create new features quickly.\n",
    "\n",
    "[1]: https://www.kaggle.com/datasets/raddar/amex-data-integer-dtypes-parquet-format\n",
    "[2]: https://www.kaggle.com/competitions/amex-default-prediction/discussion/328514\n",
    "[3]: https://www.kaggle.com/code/huseyincot/amex-catboost-0-793\n",
    "[4]: https://www.kaggle.com/code/huseyincot/amex-agg-data-how-it-created\n",
    "[5]: https://rapids.ai/"
   ]
  },
  {
   "cell_type": "code",
   "execution_count": 3,
   "id": "0efaf828",
   "metadata": {
    "execution": {
     "iopub.execute_input": "2022-07-16T15:07:36.795456Z",
     "iopub.status.busy": "2022-07-16T15:07:36.795185Z",
     "iopub.status.idle": "2022-07-16T15:07:59.274502Z",
     "shell.execute_reply": "2022-07-16T15:07:59.273558Z"
    },
    "papermill": {
     "duration": 22.489192,
     "end_time": "2022-07-16T15:07:59.276761",
     "exception": false,
     "start_time": "2022-07-16T15:07:36.787569",
     "status": "completed"
    },
    "tags": []
   },
   "outputs": [
    {
     "name": "stdout",
     "output_type": "stream",
     "text": [
      "Reading train data...\n",
      "shape of data: (5531451, 190)\n"
     ]
    }
   ],
   "source": [
    "def read_file(path = '', usecols = None):\n",
    "    # LOAD DATAFRAME\n",
    "    if usecols is not None: df = cudf.read_parquet(path, columns=usecols)\n",
    "    else: df = cudf.read_parquet(path)\n",
    "    # REDUCE DTYPE FOR CUSTOMER AND DATE\n",
    "    df['customer_ID'] = df['customer_ID'].str[-16:].str.hex_to_int().astype('int64')\n",
    "    df.S_2 = cudf.to_datetime( df.S_2 )\n",
    "    # SORT BY CUSTOMER AND DATE (so agg('last') works correctly)\n",
    "    #df = df.sort_values(['customer_ID','S_2'])\n",
    "    #df = df.reset_index(drop=True)\n",
    "    # FILL NAN\n",
    "#     df = df.fillna(NAN_VALUE) \n",
    "    print('shape of data:', df.shape)\n",
    "    \n",
    "    return df\n",
    "\n",
    "print('Reading train data...')\n",
    "TRAIN_PATH = '../input/amex-data-integer-dtypes-parquet-format/train.parquet'\n",
    "train = read_file(path = TRAIN_PATH)"
   ]
  },
  {
   "cell_type": "code",
   "execution_count": 4,
   "id": "a57260a3",
   "metadata": {
    "execution": {
     "iopub.execute_input": "2022-07-16T15:07:59.292224Z",
     "iopub.status.busy": "2022-07-16T15:07:59.291661Z",
     "iopub.status.idle": "2022-07-16T15:07:59.605047Z",
     "shell.execute_reply": "2022-07-16T15:07:59.604110Z"
    },
    "papermill": {
     "duration": 0.323244,
     "end_time": "2022-07-16T15:07:59.607164",
     "exception": false,
     "start_time": "2022-07-16T15:07:59.283920",
     "status": "completed"
    },
    "tags": []
   },
   "outputs": [
    {
     "data": {
      "text/html": [
       "<div>\n",
       "<style scoped>\n",
       "    .dataframe tbody tr th:only-of-type {\n",
       "        vertical-align: middle;\n",
       "    }\n",
       "\n",
       "    .dataframe tbody tr th {\n",
       "        vertical-align: top;\n",
       "    }\n",
       "\n",
       "    .dataframe thead th {\n",
       "        text-align: right;\n",
       "    }\n",
       "</style>\n",
       "<table border=\"1\" class=\"dataframe\">\n",
       "  <thead>\n",
       "    <tr style=\"text-align: right;\">\n",
       "      <th></th>\n",
       "      <th>customer_ID</th>\n",
       "      <th>S_2</th>\n",
       "      <th>P_2</th>\n",
       "      <th>D_39</th>\n",
       "      <th>B_1</th>\n",
       "      <th>B_2</th>\n",
       "      <th>R_1</th>\n",
       "      <th>S_3</th>\n",
       "      <th>D_41</th>\n",
       "      <th>B_3</th>\n",
       "      <th>...</th>\n",
       "      <th>D_136</th>\n",
       "      <th>D_137</th>\n",
       "      <th>D_138</th>\n",
       "      <th>D_139</th>\n",
       "      <th>D_140</th>\n",
       "      <th>D_141</th>\n",
       "      <th>D_142</th>\n",
       "      <th>D_143</th>\n",
       "      <th>D_144</th>\n",
       "      <th>D_145</th>\n",
       "    </tr>\n",
       "  </thead>\n",
       "  <tbody>\n",
       "    <tr>\n",
       "      <th>0</th>\n",
       "      <td>-4532153018459703766</td>\n",
       "      <td>2017-03-09</td>\n",
       "      <td>0.938469</td>\n",
       "      <td>0</td>\n",
       "      <td>0.008724</td>\n",
       "      <td>1.006838</td>\n",
       "      <td>0.009228</td>\n",
       "      <td>0.124035</td>\n",
       "      <td>0.0</td>\n",
       "      <td>0.004709</td>\n",
       "      <td>...</td>\n",
       "      <td>-1</td>\n",
       "      <td>-1</td>\n",
       "      <td>-1</td>\n",
       "      <td>0</td>\n",
       "      <td>0</td>\n",
       "      <td>0.0</td>\n",
       "      <td>&lt;NA&gt;</td>\n",
       "      <td>0</td>\n",
       "      <td>0.000610</td>\n",
       "      <td>0</td>\n",
       "    </tr>\n",
       "    <tr>\n",
       "      <th>1</th>\n",
       "      <td>-4532153018459703766</td>\n",
       "      <td>2017-04-07</td>\n",
       "      <td>0.936665</td>\n",
       "      <td>0</td>\n",
       "      <td>0.004923</td>\n",
       "      <td>1.000653</td>\n",
       "      <td>0.006151</td>\n",
       "      <td>0.126750</td>\n",
       "      <td>0.0</td>\n",
       "      <td>0.002714</td>\n",
       "      <td>...</td>\n",
       "      <td>-1</td>\n",
       "      <td>-1</td>\n",
       "      <td>-1</td>\n",
       "      <td>0</td>\n",
       "      <td>0</td>\n",
       "      <td>0.0</td>\n",
       "      <td>&lt;NA&gt;</td>\n",
       "      <td>0</td>\n",
       "      <td>0.005492</td>\n",
       "      <td>0</td>\n",
       "    </tr>\n",
       "    <tr>\n",
       "      <th>2</th>\n",
       "      <td>-4532153018459703766</td>\n",
       "      <td>2017-05-28</td>\n",
       "      <td>0.954180</td>\n",
       "      <td>3</td>\n",
       "      <td>0.021655</td>\n",
       "      <td>1.009672</td>\n",
       "      <td>0.006815</td>\n",
       "      <td>0.123977</td>\n",
       "      <td>0.0</td>\n",
       "      <td>0.009423</td>\n",
       "      <td>...</td>\n",
       "      <td>-1</td>\n",
       "      <td>-1</td>\n",
       "      <td>-1</td>\n",
       "      <td>0</td>\n",
       "      <td>0</td>\n",
       "      <td>0.0</td>\n",
       "      <td>&lt;NA&gt;</td>\n",
       "      <td>0</td>\n",
       "      <td>0.006986</td>\n",
       "      <td>0</td>\n",
       "    </tr>\n",
       "    <tr>\n",
       "      <th>3</th>\n",
       "      <td>-4532153018459703766</td>\n",
       "      <td>2017-06-13</td>\n",
       "      <td>0.960384</td>\n",
       "      <td>0</td>\n",
       "      <td>0.013683</td>\n",
       "      <td>1.002700</td>\n",
       "      <td>0.001373</td>\n",
       "      <td>0.117169</td>\n",
       "      <td>0.0</td>\n",
       "      <td>0.005531</td>\n",
       "      <td>...</td>\n",
       "      <td>-1</td>\n",
       "      <td>-1</td>\n",
       "      <td>-1</td>\n",
       "      <td>0</td>\n",
       "      <td>0</td>\n",
       "      <td>0.0</td>\n",
       "      <td>&lt;NA&gt;</td>\n",
       "      <td>0</td>\n",
       "      <td>0.006527</td>\n",
       "      <td>0</td>\n",
       "    </tr>\n",
       "    <tr>\n",
       "      <th>4</th>\n",
       "      <td>-4532153018459703766</td>\n",
       "      <td>2017-07-16</td>\n",
       "      <td>0.947248</td>\n",
       "      <td>0</td>\n",
       "      <td>0.015193</td>\n",
       "      <td>1.000727</td>\n",
       "      <td>0.007605</td>\n",
       "      <td>0.117325</td>\n",
       "      <td>0.0</td>\n",
       "      <td>0.009312</td>\n",
       "      <td>...</td>\n",
       "      <td>-1</td>\n",
       "      <td>-1</td>\n",
       "      <td>-1</td>\n",
       "      <td>0</td>\n",
       "      <td>0</td>\n",
       "      <td>0.0</td>\n",
       "      <td>&lt;NA&gt;</td>\n",
       "      <td>0</td>\n",
       "      <td>0.008126</td>\n",
       "      <td>0</td>\n",
       "    </tr>\n",
       "  </tbody>\n",
       "</table>\n",
       "<p>5 rows × 190 columns</p>\n",
       "</div>"
      ],
      "text/plain": [
       "           customer_ID        S_2       P_2  D_39       B_1       B_2  \\\n",
       "0 -4532153018459703766 2017-03-09  0.938469     0  0.008724  1.006838   \n",
       "1 -4532153018459703766 2017-04-07  0.936665     0  0.004923  1.000653   \n",
       "2 -4532153018459703766 2017-05-28  0.954180     3  0.021655  1.009672   \n",
       "3 -4532153018459703766 2017-06-13  0.960384     0  0.013683  1.002700   \n",
       "4 -4532153018459703766 2017-07-16  0.947248     0  0.015193  1.000727   \n",
       "\n",
       "        R_1       S_3  D_41       B_3  ... D_136  D_137  D_138  D_139  D_140  \\\n",
       "0  0.009228  0.124035   0.0  0.004709  ...    -1     -1     -1      0      0   \n",
       "1  0.006151  0.126750   0.0  0.002714  ...    -1     -1     -1      0      0   \n",
       "2  0.006815  0.123977   0.0  0.009423  ...    -1     -1     -1      0      0   \n",
       "3  0.001373  0.117169   0.0  0.005531  ...    -1     -1     -1      0      0   \n",
       "4  0.007605  0.117325   0.0  0.009312  ...    -1     -1     -1      0      0   \n",
       "\n",
       "   D_141  D_142 D_143     D_144  D_145  \n",
       "0    0.0   <NA>     0  0.000610      0  \n",
       "1    0.0   <NA>     0  0.005492      0  \n",
       "2    0.0   <NA>     0  0.006986      0  \n",
       "3    0.0   <NA>     0  0.006527      0  \n",
       "4    0.0   <NA>     0  0.008126      0  \n",
       "\n",
       "[5 rows x 190 columns]"
      ]
     },
     "execution_count": 4,
     "metadata": {},
     "output_type": "execute_result"
    }
   ],
   "source": [
    "train.head()"
   ]
  },
  {
   "cell_type": "code",
   "execution_count": 5,
   "id": "0df51fcd",
   "metadata": {
    "execution": {
     "iopub.execute_input": "2022-07-16T15:07:59.623548Z",
     "iopub.status.busy": "2022-07-16T15:07:59.623269Z",
     "iopub.status.idle": "2022-07-16T15:08:00.663295Z",
     "shell.execute_reply": "2022-07-16T15:08:00.662089Z"
    },
    "papermill": {
     "duration": 1.050304,
     "end_time": "2022-07-16T15:08:00.665229",
     "exception": false,
     "start_time": "2022-07-16T15:07:59.614925",
     "status": "completed"
    },
    "tags": []
   },
   "outputs": [
    {
     "name": "stdout",
     "output_type": "stream",
     "text": [
      "shape after engineering (458913, 564)\n"
     ]
    }
   ],
   "source": [
    "def process_and_feature_engineer(df):\n",
    "    # FEATURE ENGINEERING FROM \n",
    "    # https://www.kaggle.com/code/huseyincot/amex-agg-data-how-it-created\n",
    "    \n",
    "#     1) Drop 'B_29'\n",
    "    df.drop(['B_29'], inplace=True, axis=1)\n",
    "    \n",
    "#     6) B1, B2에 연관 feature추가\n",
    "    df['B_1_2'] = df['B_1']/(df['B_2']+0.0000001)\n",
    "    \n",
    "    all_cols = [c for c in list(df.columns) if c not in ['customer_ID','S_2']]\n",
    "    cat_features = [\"B_30\",\"B_38\",\"D_114\",\"D_116\",\"D_117\",\"D_120\",\"D_126\",\"D_63\",\"D_64\",\"D_66\",\"D_68\"]\n",
    "    num_features = [col for col in all_cols if col not in cat_features]\n",
    "    \n",
    "    test_num_agg = df.groupby(\"customer_ID\")[num_features].agg(['mean', 'max', 'last'])\n",
    "    test_num_agg.columns = ['_'.join(x) for x in test_num_agg.columns]\n",
    "\n",
    "    test_cat_agg = df.groupby(\"customer_ID\")[cat_features].agg(['count', 'last', 'nunique'])\n",
    "    test_cat_agg.columns = ['_'.join(x) for x in test_cat_agg.columns]\n",
    "\n",
    "    df = cudf.concat([test_num_agg, test_cat_agg], axis=1)\n",
    "    del test_num_agg, test_cat_agg\n",
    "    print('shape after engineering', df.shape )\n",
    "    \n",
    "    return df\n",
    "\n",
    "train = process_and_feature_engineer(train)"
   ]
  },
  {
   "cell_type": "code",
   "execution_count": 6,
   "id": "43d6bbf1",
   "metadata": {
    "execution": {
     "iopub.execute_input": "2022-07-16T15:08:00.681540Z",
     "iopub.status.busy": "2022-07-16T15:08:00.680700Z",
     "iopub.status.idle": "2022-07-16T15:08:01.637631Z",
     "shell.execute_reply": "2022-07-16T15:08:01.636798Z"
    },
    "papermill": {
     "duration": 0.967044,
     "end_time": "2022-07-16T15:08:01.639562",
     "exception": false,
     "start_time": "2022-07-16T15:08:00.672518",
     "status": "completed"
    },
    "tags": []
   },
   "outputs": [
    {
     "name": "stdout",
     "output_type": "stream",
     "text": [
      "There are 564 features!\n"
     ]
    }
   ],
   "source": [
    "# ADD TARGETS\n",
    "targets = cudf.read_csv('../input/amex-default-prediction/train_labels.csv')\n",
    "targets['customer_ID'] = targets['customer_ID'].str[-16:].str.hex_to_int().astype('int64')\n",
    "targets = targets.set_index('customer_ID')\n",
    "train = train.merge(targets, left_index=True, right_index=True, how='left')\n",
    "train.target = train.target.astype('int8')\n",
    "del targets\n",
    "\n",
    "# NEEDED TO MAKE CV DETERMINISTIC (cudf merge above randomly shuffles rows)\n",
    "train = train.sort_index().reset_index()\n",
    "\n",
    "# FEATURES\n",
    "FEATURES = train.columns[1:-1]\n",
    "print(f'There are {len(FEATURES)} features!')"
   ]
  },
  {
   "cell_type": "markdown",
   "id": "b6f6f47e",
   "metadata": {
    "papermill": {
     "duration": 0.006912,
     "end_time": "2022-07-16T15:08:01.653837",
     "exception": false,
     "start_time": "2022-07-16T15:08:01.646925",
     "status": "completed"
    },
    "tags": []
   },
   "source": [
    "# Train XGB\n",
    "We will train using `DeviceQuantileDMatrix`. This has a very small GPU memory footprint."
   ]
  },
  {
   "cell_type": "code",
   "execution_count": 7,
   "id": "37aad34e",
   "metadata": {
    "execution": {
     "iopub.execute_input": "2022-07-16T15:08:01.669709Z",
     "iopub.status.busy": "2022-07-16T15:08:01.669052Z",
     "iopub.status.idle": "2022-07-16T15:08:01.763137Z",
     "shell.execute_reply": "2022-07-16T15:08:01.762200Z"
    },
    "papermill": {
     "duration": 0.104461,
     "end_time": "2022-07-16T15:08:01.765503",
     "exception": false,
     "start_time": "2022-07-16T15:08:01.661042",
     "status": "completed"
    },
    "tags": []
   },
   "outputs": [
    {
     "name": "stdout",
     "output_type": "stream",
     "text": [
      "XGB Version 1.6.1\n"
     ]
    }
   ],
   "source": [
    "# LOAD XGB LIBRARY\n",
    "from sklearn.model_selection import KFold\n",
    "import xgboost as xgb\n",
    "print('XGB Version',xgb.__version__)\n",
    "\n",
    "# XGB MODEL PARAMETERS\n",
    "xgb_parms = { \n",
    "    'max_depth':4, \n",
    "    'learning_rate':0.05, \n",
    "    'subsample':0.8,\n",
    "    'colsample_bytree':0.6, \n",
    "    'eval_metric':'logloss',\n",
    "    'objective':'binary:logistic',\n",
    "    'tree_method':'gpu_hist',\n",
    "    'predictor':'gpu_predictor',\n",
    "    'random_state':SEED\n",
    "}"
   ]
  },
  {
   "cell_type": "code",
   "execution_count": 8,
   "id": "b2c9ea99",
   "metadata": {
    "execution": {
     "iopub.execute_input": "2022-07-16T15:08:01.782099Z",
     "iopub.status.busy": "2022-07-16T15:08:01.781528Z",
     "iopub.status.idle": "2022-07-16T15:08:01.791409Z",
     "shell.execute_reply": "2022-07-16T15:08:01.790737Z"
    },
    "papermill": {
     "duration": 0.019875,
     "end_time": "2022-07-16T15:08:01.793245",
     "exception": false,
     "start_time": "2022-07-16T15:08:01.773370",
     "status": "completed"
    },
    "tags": []
   },
   "outputs": [],
   "source": [
    "# NEEDED WITH DeviceQuantileDMatrix BELOW\n",
    "class IterLoadForDMatrix(xgb.core.DataIter):\n",
    "    def __init__(self, df=None, features=None, target=None, batch_size=256*1024):\n",
    "        self.features = features\n",
    "        self.target = target\n",
    "        self.df = df\n",
    "        self.it = 0 # set iterator to 0\n",
    "        self.batch_size = batch_size\n",
    "        self.batches = int( np.ceil( len(df) / self.batch_size ) )\n",
    "        super().__init__()\n",
    "\n",
    "    def reset(self):\n",
    "        '''Reset the iterator'''\n",
    "        self.it = 0\n",
    "\n",
    "    def next(self, input_data):\n",
    "        '''Yield next batch of data.'''\n",
    "        if self.it == self.batches:\n",
    "            return 0 # Return 0 when there's no more batch.\n",
    "        \n",
    "        a = self.it * self.batch_size\n",
    "        b = min( (self.it + 1) * self.batch_size, len(self.df) )\n",
    "        dt = cudf.DataFrame(self.df.iloc[a:b])\n",
    "        input_data(data=dt[self.features], label=dt[self.target]) #, weight=dt['weight'])\n",
    "        self.it += 1\n",
    "        return 1"
   ]
  },
  {
   "cell_type": "code",
   "execution_count": 9,
   "id": "7affc095",
   "metadata": {
    "execution": {
     "iopub.execute_input": "2022-07-16T15:08:01.809367Z",
     "iopub.status.busy": "2022-07-16T15:08:01.809115Z",
     "iopub.status.idle": "2022-07-16T15:08:01.818566Z",
     "shell.execute_reply": "2022-07-16T15:08:01.817735Z"
    },
    "papermill": {
     "duration": 0.019894,
     "end_time": "2022-07-16T15:08:01.820501",
     "exception": false,
     "start_time": "2022-07-16T15:08:01.800607",
     "status": "completed"
    },
    "tags": []
   },
   "outputs": [],
   "source": [
    "# https://www.kaggle.com/kyakovlev\n",
    "# https://www.kaggle.com/competitions/amex-default-prediction/discussion/327534\n",
    "def amex_metric_mod(y_true, y_pred):\n",
    "\n",
    "    labels     = np.transpose(np.array([y_true, y_pred]))\n",
    "    labels     = labels[labels[:, 1].argsort()[::-1]]\n",
    "    weights    = np.where(labels[:,0]==0, 20, 1)\n",
    "    cut_vals   = labels[np.cumsum(weights) <= int(0.04 * np.sum(weights))]\n",
    "    top_four   = np.sum(cut_vals[:,0]) / np.sum(labels[:,0])\n",
    "\n",
    "    gini = [0,0]\n",
    "    for i in [1,0]:\n",
    "        labels         = np.transpose(np.array([y_true, y_pred]))\n",
    "        labels         = labels[labels[:, i].argsort()[::-1]]\n",
    "        weight         = np.where(labels[:,0]==0, 20, 1)\n",
    "        weight_random  = np.cumsum(weight / np.sum(weight))\n",
    "        total_pos      = np.sum(labels[:, 0] *  weight)\n",
    "        cum_pos_found  = np.cumsum(labels[:, 0] * weight)\n",
    "        lorentz        = cum_pos_found / total_pos\n",
    "        gini[i]        = np.sum((lorentz - weight_random) * weight)\n",
    "\n",
    "    return 0.5 * (gini[1]/gini[0] + top_four)"
   ]
  },
  {
   "cell_type": "code",
   "execution_count": 10,
   "id": "2e15e183",
   "metadata": {
    "execution": {
     "iopub.execute_input": "2022-07-16T15:08:01.835820Z",
     "iopub.status.busy": "2022-07-16T15:08:01.835508Z",
     "iopub.status.idle": "2022-07-16T15:14:36.103927Z",
     "shell.execute_reply": "2022-07-16T15:14:36.102110Z"
    },
    "papermill": {
     "duration": 394.278114,
     "end_time": "2022-07-16T15:14:36.105733",
     "exception": false,
     "start_time": "2022-07-16T15:08:01.827619",
     "status": "completed"
    },
    "scrolled": true,
    "tags": []
   },
   "outputs": [
    {
     "name": "stdout",
     "output_type": "stream",
     "text": [
      "#########################\n",
      "### Fold 1\n",
      "### Train size 367130 Valid size 91783\n",
      "### Training with 100% fold data...\n",
      "#########################\n",
      "[0]\ttrain-logloss:0.66267\tvalid-logloss:0.66261\n",
      "[100]\ttrain-logloss:0.23692\tvalid-logloss:0.23942\n",
      "[200]\ttrain-logloss:0.22280\tvalid-logloss:0.22766\n",
      "[300]\ttrain-logloss:0.21669\tvalid-logloss:0.22354\n",
      "[400]\ttrain-logloss:0.21276\tvalid-logloss:0.22146\n",
      "[500]\ttrain-logloss:0.20969\tvalid-logloss:0.22018\n",
      "[600]\ttrain-logloss:0.20697\tvalid-logloss:0.21938\n",
      "[700]\ttrain-logloss:0.20460\tvalid-logloss:0.21886\n",
      "[800]\ttrain-logloss:0.20243\tvalid-logloss:0.21849\n",
      "[900]\ttrain-logloss:0.20034\tvalid-logloss:0.21819\n",
      "[1000]\ttrain-logloss:0.19837\tvalid-logloss:0.21793\n",
      "[1100]\ttrain-logloss:0.19643\tvalid-logloss:0.21772\n",
      "[1200]\ttrain-logloss:0.19465\tvalid-logloss:0.21755\n",
      "[1300]\ttrain-logloss:0.19290\tvalid-logloss:0.21746\n",
      "[1400]\ttrain-logloss:0.19122\tvalid-logloss:0.21737\n",
      "[1500]\ttrain-logloss:0.18951\tvalid-logloss:0.21729\n",
      "[1600]\ttrain-logloss:0.18783\tvalid-logloss:0.21725\n",
      "[1677]\ttrain-logloss:0.18658\tvalid-logloss:0.21722\n",
      "Kaggle Metric = 0.7921737633247883 \n",
      "\n",
      "#########################\n",
      "### Fold 2\n",
      "### Train size 367130 Valid size 91783\n",
      "### Training with 100% fold data...\n",
      "#########################\n",
      "[0]\ttrain-logloss:0.66268\tvalid-logloss:0.66260\n",
      "[100]\ttrain-logloss:0.23715\tvalid-logloss:0.23790\n",
      "[200]\ttrain-logloss:0.22310\tvalid-logloss:0.22583\n",
      "[300]\ttrain-logloss:0.21708\tvalid-logloss:0.22192\n",
      "[400]\ttrain-logloss:0.21310\tvalid-logloss:0.22009\n",
      "[500]\ttrain-logloss:0.21002\tvalid-logloss:0.21890\n",
      "[600]\ttrain-logloss:0.20736\tvalid-logloss:0.21815\n",
      "[700]\ttrain-logloss:0.20498\tvalid-logloss:0.21763\n",
      "[800]\ttrain-logloss:0.20273\tvalid-logloss:0.21725\n",
      "[900]\ttrain-logloss:0.20063\tvalid-logloss:0.21693\n",
      "[1000]\ttrain-logloss:0.19859\tvalid-logloss:0.21667\n",
      "[1100]\ttrain-logloss:0.19671\tvalid-logloss:0.21647\n",
      "[1200]\ttrain-logloss:0.19485\tvalid-logloss:0.21632\n",
      "[1300]\ttrain-logloss:0.19307\tvalid-logloss:0.21624\n",
      "[1400]\ttrain-logloss:0.19137\tvalid-logloss:0.21615\n",
      "[1500]\ttrain-logloss:0.18962\tvalid-logloss:0.21606\n",
      "[1600]\ttrain-logloss:0.18793\tvalid-logloss:0.21602\n",
      "[1700]\ttrain-logloss:0.18625\tvalid-logloss:0.21592\n",
      "[1800]\ttrain-logloss:0.18462\tvalid-logloss:0.21585\n",
      "[1900]\ttrain-logloss:0.18307\tvalid-logloss:0.21581\n",
      "[1995]\ttrain-logloss:0.18167\tvalid-logloss:0.21582\n",
      "Kaggle Metric = 0.793465225073346 \n",
      "\n",
      "#########################\n",
      "### Fold 3\n",
      "### Train size 367130 Valid size 91783\n",
      "### Training with 100% fold data...\n",
      "#########################\n",
      "[0]\ttrain-logloss:0.66265\tvalid-logloss:0.66282\n",
      "[100]\ttrain-logloss:0.23652\tvalid-logloss:0.24066\n",
      "[200]\ttrain-logloss:0.22245\tvalid-logloss:0.22899\n",
      "[300]\ttrain-logloss:0.21643\tvalid-logloss:0.22494\n",
      "[400]\ttrain-logloss:0.21251\tvalid-logloss:0.22289\n",
      "[500]\ttrain-logloss:0.20937\tvalid-logloss:0.22170\n",
      "[600]\ttrain-logloss:0.20668\tvalid-logloss:0.22098\n",
      "[700]\ttrain-logloss:0.20422\tvalid-logloss:0.22045\n",
      "[800]\ttrain-logloss:0.20199\tvalid-logloss:0.22016\n",
      "[900]\ttrain-logloss:0.19993\tvalid-logloss:0.21977\n",
      "[1000]\ttrain-logloss:0.19796\tvalid-logloss:0.21958\n",
      "[1100]\ttrain-logloss:0.19599\tvalid-logloss:0.21936\n",
      "[1200]\ttrain-logloss:0.19411\tvalid-logloss:0.21923\n",
      "[1300]\ttrain-logloss:0.19239\tvalid-logloss:0.21911\n",
      "[1400]\ttrain-logloss:0.19061\tvalid-logloss:0.21901\n",
      "[1500]\ttrain-logloss:0.18890\tvalid-logloss:0.21898\n",
      "[1600]\ttrain-logloss:0.18722\tvalid-logloss:0.21893\n",
      "[1700]\ttrain-logloss:0.18564\tvalid-logloss:0.21885\n",
      "[1800]\ttrain-logloss:0.18398\tvalid-logloss:0.21885\n",
      "[1862]\ttrain-logloss:0.18299\tvalid-logloss:0.21889\n",
      "Kaggle Metric = 0.7897259665029407 \n",
      "\n",
      "#########################\n",
      "### Fold 4\n",
      "### Train size 367131 Valid size 91782\n",
      "### Training with 100% fold data...\n",
      "#########################\n",
      "[0]\ttrain-logloss:0.66264\tvalid-logloss:0.66282\n",
      "[100]\ttrain-logloss:0.23653\tvalid-logloss:0.24121\n",
      "[200]\ttrain-logloss:0.22230\tvalid-logloss:0.22926\n",
      "[300]\ttrain-logloss:0.21621\tvalid-logloss:0.22537\n",
      "[400]\ttrain-logloss:0.21225\tvalid-logloss:0.22359\n",
      "[500]\ttrain-logloss:0.20910\tvalid-logloss:0.22249\n",
      "[600]\ttrain-logloss:0.20633\tvalid-logloss:0.22176\n",
      "[700]\ttrain-logloss:0.20398\tvalid-logloss:0.22124\n",
      "[800]\ttrain-logloss:0.20170\tvalid-logloss:0.22082\n",
      "[900]\ttrain-logloss:0.19963\tvalid-logloss:0.22057\n",
      "[1000]\ttrain-logloss:0.19759\tvalid-logloss:0.22035\n",
      "[1100]\ttrain-logloss:0.19565\tvalid-logloss:0.22023\n",
      "[1200]\ttrain-logloss:0.19378\tvalid-logloss:0.22014\n",
      "[1300]\ttrain-logloss:0.19202\tvalid-logloss:0.22003\n",
      "[1400]\ttrain-logloss:0.19024\tvalid-logloss:0.21994\n",
      "[1500]\ttrain-logloss:0.18852\tvalid-logloss:0.21985\n",
      "[1600]\ttrain-logloss:0.18690\tvalid-logloss:0.21980\n",
      "[1700]\ttrain-logloss:0.18527\tvalid-logloss:0.21973\n",
      "[1800]\ttrain-logloss:0.18362\tvalid-logloss:0.21972\n",
      "[1900]\ttrain-logloss:0.18207\tvalid-logloss:0.21968\n",
      "[2000]\ttrain-logloss:0.18051\tvalid-logloss:0.21961\n",
      "[2085]\ttrain-logloss:0.17919\tvalid-logloss:0.21962\n",
      "Kaggle Metric = 0.7875922833746705 \n",
      "\n",
      "#########################\n",
      "### Fold 5\n",
      "### Train size 367131 Valid size 91782\n",
      "### Training with 100% fold data...\n",
      "#########################\n",
      "[0]\ttrain-logloss:0.66267\tvalid-logloss:0.66262\n",
      "[100]\ttrain-logloss:0.23733\tvalid-logloss:0.23780\n",
      "[200]\ttrain-logloss:0.22335\tvalid-logloss:0.22587\n",
      "[300]\ttrain-logloss:0.21730\tvalid-logloss:0.22176\n",
      "[400]\ttrain-logloss:0.21327\tvalid-logloss:0.21963\n",
      "[500]\ttrain-logloss:0.21023\tvalid-logloss:0.21855\n",
      "[600]\ttrain-logloss:0.20751\tvalid-logloss:0.21768\n",
      "[700]\ttrain-logloss:0.20511\tvalid-logloss:0.21707\n",
      "[800]\ttrain-logloss:0.20289\tvalid-logloss:0.21661\n",
      "[900]\ttrain-logloss:0.20080\tvalid-logloss:0.21631\n",
      "[1000]\ttrain-logloss:0.19877\tvalid-logloss:0.21600\n",
      "[1100]\ttrain-logloss:0.19689\tvalid-logloss:0.21585\n",
      "[1200]\ttrain-logloss:0.19501\tvalid-logloss:0.21570\n",
      "[1300]\ttrain-logloss:0.19321\tvalid-logloss:0.21559\n",
      "[1400]\ttrain-logloss:0.19144\tvalid-logloss:0.21555\n",
      "[1500]\ttrain-logloss:0.18975\tvalid-logloss:0.21541\n",
      "[1600]\ttrain-logloss:0.18805\tvalid-logloss:0.21537\n",
      "[1700]\ttrain-logloss:0.18639\tvalid-logloss:0.21528\n",
      "[1800]\ttrain-logloss:0.18478\tvalid-logloss:0.21520\n",
      "[1900]\ttrain-logloss:0.18321\tvalid-logloss:0.21515\n",
      "[1999]\ttrain-logloss:0.18166\tvalid-logloss:0.21516\n",
      "Kaggle Metric = 0.795041484300377 \n",
      "\n",
      "#########################\n",
      "OVERALL CV Kaggle Metric = 0.7917147302092578\n"
     ]
    }
   ],
   "source": [
    "importances = []\n",
    "oof = []\n",
    "train = train.to_pandas() # free GPU memory\n",
    "TRAIN_SUBSAMPLE = 1.0\n",
    "gc.collect()\n",
    "\n",
    "skf = KFold(n_splits=FOLDS, shuffle=True, random_state=SEED)\n",
    "for fold,(train_idx, valid_idx) in enumerate(skf.split(\n",
    "            train, train.target )):\n",
    "    \n",
    "    # TRAIN WITH SUBSAMPLE OF TRAIN FOLD DATA\n",
    "    if TRAIN_SUBSAMPLE<1.0:\n",
    "        np.random.seed(SEED)\n",
    "        train_idx = np.random.choice(train_idx, \n",
    "                       int(len(train_idx)*TRAIN_SUBSAMPLE), replace=False)\n",
    "        np.random.seed(None)\n",
    "    \n",
    "    print('#'*25)\n",
    "    print('### Fold',fold+1)\n",
    "    print('### Train size',len(train_idx),'Valid size',len(valid_idx))\n",
    "    print(f'### Training with {int(TRAIN_SUBSAMPLE*100)}% fold data...')\n",
    "    print('#'*25)\n",
    "    \n",
    "    # TRAIN, VALID, TEST FOR FOLD K\n",
    "    Xy_train = IterLoadForDMatrix(train.loc[train_idx], FEATURES, 'target')\n",
    "    X_valid = train.loc[valid_idx, FEATURES]\n",
    "    y_valid = train.loc[valid_idx, 'target']\n",
    "    \n",
    "    dtrain = xgb.DeviceQuantileDMatrix(Xy_train, max_bin=256)\n",
    "    dvalid = xgb.DMatrix(data=X_valid, label=y_valid)\n",
    "    \n",
    "    # TRAIN MODEL FOLD K\n",
    "    model = xgb.train(xgb_parms, \n",
    "                dtrain=dtrain,\n",
    "                evals=[(dtrain,'train'),(dvalid,'valid')],\n",
    "                num_boost_round=9999,\n",
    "                early_stopping_rounds=100,\n",
    "                verbose_eval=100) \n",
    "    model.save_model(f'XGB_v{VER}_fold{fold}.xgb')\n",
    "    \n",
    "    # GET FEATURE IMPORTANCE FOR FOLD K\n",
    "    dd = model.get_score(importance_type='weight')\n",
    "    df = pd.DataFrame({'feature':dd.keys(),f'importance_{fold}':dd.values()})\n",
    "    importances.append(df)\n",
    "            \n",
    "    # INFER OOF FOLD K\n",
    "    oof_preds = model.predict(dvalid)\n",
    "    acc = amex_metric_mod(y_valid.values, oof_preds)\n",
    "    print('Kaggle Metric =',acc,'\\n')\n",
    "    \n",
    "    # SAVE OOF\n",
    "    df = train.loc[valid_idx, ['customer_ID','target'] ].copy()\n",
    "    df['oof_pred'] = oof_preds\n",
    "    oof.append( df )\n",
    "    \n",
    "    del dtrain, Xy_train, dd, df\n",
    "    del X_valid, y_valid, dvalid, model\n",
    "    _ = gc.collect()\n",
    "    \n",
    "print('#'*25)\n",
    "oof = pd.concat(oof,axis=0,ignore_index=True).set_index('customer_ID')\n",
    "acc = amex_metric_mod(oof.target.values, oof.oof_pred.values)\n",
    "print('OVERALL CV Kaggle Metric =',acc)"
   ]
  },
  {
   "cell_type": "code",
   "execution_count": 11,
   "id": "9840e996",
   "metadata": {
    "execution": {
     "iopub.execute_input": "2022-07-16T15:14:36.134968Z",
     "iopub.status.busy": "2022-07-16T15:14:36.134644Z",
     "iopub.status.idle": "2022-07-16T15:14:36.271716Z",
     "shell.execute_reply": "2022-07-16T15:14:36.270807Z"
    },
    "papermill": {
     "duration": 0.153525,
     "end_time": "2022-07-16T15:14:36.273484",
     "exception": false,
     "start_time": "2022-07-16T15:14:36.119959",
     "status": "completed"
    },
    "tags": []
   },
   "outputs": [],
   "source": [
    "# CLEAN RAM\n",
    "del train\n",
    "_ = gc.collect()"
   ]
  },
  {
   "cell_type": "markdown",
   "id": "2a72a26a",
   "metadata": {
    "papermill": {
     "duration": 0.013683,
     "end_time": "2022-07-16T15:14:36.301463",
     "exception": false,
     "start_time": "2022-07-16T15:14:36.287780",
     "status": "completed"
    },
    "tags": []
   },
   "source": [
    "# Save OOF Preds"
   ]
  },
  {
   "cell_type": "code",
   "execution_count": 12,
   "id": "9b43ff25",
   "metadata": {
    "execution": {
     "iopub.execute_input": "2022-07-16T15:14:36.329467Z",
     "iopub.status.busy": "2022-07-16T15:14:36.329140Z",
     "iopub.status.idle": "2022-07-16T15:14:41.151347Z",
     "shell.execute_reply": "2022-07-16T15:14:41.150404Z"
    },
    "papermill": {
     "duration": 4.838537,
     "end_time": "2022-07-16T15:14:41.153421",
     "exception": false,
     "start_time": "2022-07-16T15:14:36.314884",
     "status": "completed"
    },
    "tags": []
   },
   "outputs": [
    {
     "data": {
      "text/html": [
       "<div>\n",
       "<style scoped>\n",
       "    .dataframe tbody tr th:only-of-type {\n",
       "        vertical-align: middle;\n",
       "    }\n",
       "\n",
       "    .dataframe tbody tr th {\n",
       "        vertical-align: top;\n",
       "    }\n",
       "\n",
       "    .dataframe thead th {\n",
       "        text-align: right;\n",
       "    }\n",
       "</style>\n",
       "<table border=\"1\" class=\"dataframe\">\n",
       "  <thead>\n",
       "    <tr style=\"text-align: right;\">\n",
       "      <th></th>\n",
       "      <th>customer_ID</th>\n",
       "      <th>target</th>\n",
       "      <th>oof_pred</th>\n",
       "    </tr>\n",
       "  </thead>\n",
       "  <tbody>\n",
       "    <tr>\n",
       "      <th>0</th>\n",
       "      <td>20eac26171c3d251c55fc78204e59fab1c15fc2bc96d0c...</td>\n",
       "      <td>1</td>\n",
       "      <td>0.757671</td>\n",
       "    </tr>\n",
       "    <tr>\n",
       "      <th>1</th>\n",
       "      <td>aea50fdf9b974ccec95fa177c3225a0f913483b457de6e...</td>\n",
       "      <td>0</td>\n",
       "      <td>0.000225</td>\n",
       "    </tr>\n",
       "    <tr>\n",
       "      <th>2</th>\n",
       "      <td>32cd2d41aef737b69089882754395925c96eaee1f4a859...</td>\n",
       "      <td>0</td>\n",
       "      <td>0.001665</td>\n",
       "    </tr>\n",
       "    <tr>\n",
       "      <th>3</th>\n",
       "      <td>8daa6d5dc2655a8a437531e6b8b96829113cdfe9bf6cae...</td>\n",
       "      <td>0</td>\n",
       "      <td>0.016092</td>\n",
       "    </tr>\n",
       "    <tr>\n",
       "      <th>4</th>\n",
       "      <td>0ceba351a3851202542feb49d7385bcef32f6037fc57c7...</td>\n",
       "      <td>1</td>\n",
       "      <td>0.874549</td>\n",
       "    </tr>\n",
       "  </tbody>\n",
       "</table>\n",
       "</div>"
      ],
      "text/plain": [
       "                                         customer_ID  target  oof_pred\n",
       "0  20eac26171c3d251c55fc78204e59fab1c15fc2bc96d0c...       1  0.757671\n",
       "1  aea50fdf9b974ccec95fa177c3225a0f913483b457de6e...       0  0.000225\n",
       "2  32cd2d41aef737b69089882754395925c96eaee1f4a859...       0  0.001665\n",
       "3  8daa6d5dc2655a8a437531e6b8b96829113cdfe9bf6cae...       0  0.016092\n",
       "4  0ceba351a3851202542feb49d7385bcef32f6037fc57c7...       1  0.874549"
      ]
     },
     "execution_count": 12,
     "metadata": {},
     "output_type": "execute_result"
    }
   ],
   "source": [
    "oof_xgb = pd.read_parquet(TRAIN_PATH, columns=['customer_ID']).drop_duplicates()\n",
    "oof_xgb['customer_ID_hash'] = oof_xgb['customer_ID'].apply(lambda x: int(x[-16:],16) ).astype('int64')\n",
    "oof_xgb = oof_xgb.set_index('customer_ID_hash')\n",
    "oof_xgb = oof_xgb.merge(oof, left_index=True, right_index=True)\n",
    "oof_xgb = oof_xgb.sort_index().reset_index(drop=True)\n",
    "oof_xgb.to_csv(f'oof_xgb_v{VER}.csv',index=False)\n",
    "oof_xgb.head()"
   ]
  },
  {
   "cell_type": "code",
   "execution_count": 13,
   "id": "060be137",
   "metadata": {
    "execution": {
     "iopub.execute_input": "2022-07-16T15:14:41.182221Z",
     "iopub.status.busy": "2022-07-16T15:14:41.181926Z",
     "iopub.status.idle": "2022-07-16T15:14:41.541550Z",
     "shell.execute_reply": "2022-07-16T15:14:41.540651Z"
    },
    "papermill": {
     "duration": 0.376144,
     "end_time": "2022-07-16T15:14:41.543390",
     "exception": false,
     "start_time": "2022-07-16T15:14:41.167246",
     "status": "completed"
    },
    "tags": []
   },
   "outputs": [
    {
     "data": {
      "image/png": "[encoded data removed]",
      "text/plain": [
       "<Figure size 432x288 with 1 Axes>"
      ]
     },
     "metadata": {
      "needs_background": "light"
     },
     "output_type": "display_data"
    }
   ],
   "source": [
    "# PLOT OOF PREDICTIONS\n",
    "plt.hist(oof_xgb.oof_pred.values, bins=100)\n",
    "plt.title('OOF Predictions')\n",
    "plt.show()"
   ]
  },
  {
   "cell_type": "code",
   "execution_count": 14,
   "id": "137a213b",
   "metadata": {
    "execution": {
     "iopub.execute_input": "2022-07-16T15:14:41.572487Z",
     "iopub.status.busy": "2022-07-16T15:14:41.572217Z",
     "iopub.status.idle": "2022-07-16T15:14:41.710554Z",
     "shell.execute_reply": "2022-07-16T15:14:41.709699Z"
    },
    "papermill": {
     "duration": 0.155048,
     "end_time": "2022-07-16T15:14:41.712529",
     "exception": false,
     "start_time": "2022-07-16T15:14:41.557481",
     "status": "completed"
    },
    "tags": []
   },
   "outputs": [],
   "source": [
    "# CLEAR VRAM, RAM FOR INFERENCE BELOW\n",
    "del oof_xgb, oof\n",
    "_ = gc.collect()"
   ]
  },
  {
   "cell_type": "markdown",
   "id": "120e2681",
   "metadata": {
    "papermill": {
     "duration": 0.014048,
     "end_time": "2022-07-16T15:14:41.740747",
     "exception": false,
     "start_time": "2022-07-16T15:14:41.726699",
     "status": "completed"
    },
    "tags": []
   },
   "source": [
    "# Feature Importance"
   ]
  },
  {
   "cell_type": "code",
   "execution_count": 15,
   "id": "d7bfdd0f",
   "metadata": {
    "execution": {
     "iopub.execute_input": "2022-07-16T15:14:41.770121Z",
     "iopub.status.busy": "2022-07-16T15:14:41.769806Z",
     "iopub.status.idle": "2022-07-16T15:14:41.796873Z",
     "shell.execute_reply": "2022-07-16T15:14:41.795928Z"
    },
    "papermill": {
     "duration": 0.043796,
     "end_time": "2022-07-16T15:14:41.798682",
     "exception": false,
     "start_time": "2022-07-16T15:14:41.754886",
     "status": "completed"
    },
    "tags": []
   },
   "outputs": [],
   "source": [
    "import matplotlib.pyplot as plt\n",
    "\n",
    "df = importances[0].copy()\n",
    "for k in range(1,FOLDS): df = df.merge(importances[k], on='feature', how='left')\n",
    "df['importance'] = df.iloc[:,1:].mean(axis=1)\n",
    "df = df.sort_values('importance',ascending=False)\n",
    "df.to_csv(f'xgb_feature_importance_v{VER}.csv',index=False)"
   ]
  },
  {
   "cell_type": "code",
   "execution_count": 16,
   "id": "493ac7af",
   "metadata": {
    "execution": {
     "iopub.execute_input": "2022-07-16T15:14:41.829291Z",
     "iopub.status.busy": "2022-07-16T15:14:41.829003Z",
     "iopub.status.idle": "2022-07-16T15:14:42.085367Z",
     "shell.execute_reply": "2022-07-16T15:14:42.084585Z"
    },
    "papermill": {
     "duration": 0.272942,
     "end_time": "2022-07-16T15:14:42.087216",
     "exception": false,
     "start_time": "2022-07-16T15:14:41.814274",
     "status": "completed"
    },
    "tags": []
   },
   "outputs": [
    {
     "data": {
      "image/png": "[encoded data removed]",
      "text/plain": [
       "<Figure size 720x720 with 1 Axes>"
      ]
     },
     "metadata": {
      "needs_background": "light"
     },
     "output_type": "display_data"
    }
   ],
   "source": [
    "NUM_FEATURES = 20\n",
    "plt.figure(figsize=(10,5*NUM_FEATURES//10))\n",
    "plt.barh(np.arange(NUM_FEATURES,0,-1), df.importance.values[:NUM_FEATURES])\n",
    "plt.yticks(np.arange(NUM_FEATURES,0,-1), df.feature.values[:NUM_FEATURES])\n",
    "plt.title(f'XGB Feature Importance - Top {NUM_FEATURES}')\n",
    "plt.show()"
   ]
  },
  {
   "cell_type": "markdown",
   "id": "c8e97851",
   "metadata": {
    "papermill": {
     "duration": 0.013951,
     "end_time": "2022-07-16T15:14:42.117077",
     "exception": false,
     "start_time": "2022-07-16T15:14:42.103126",
     "status": "completed"
    },
    "tags": []
   },
   "source": [
    "# Process and Feature Engineer Test Data\n",
    "We will load @raddar Kaggle dataset from [here][1] with discussion [here][2]. Then we will engineer features suggested by @huseyincot in his notebooks [here][1] and [here][4]. We will use [RAPIDS][5] and the GPU to create new features quickly.\n",
    "\n",
    "[1]: https://www.kaggle.com/datasets/raddar/amex-data-integer-dtypes-parquet-format\n",
    "[2]: https://www.kaggle.com/competitions/amex-default-prediction/discussion/328514\n",
    "[3]: https://www.kaggle.com/code/huseyincot/amex-catboost-0-793\n",
    "[4]: https://www.kaggle.com/code/huseyincot/amex-agg-data-how-it-created\n",
    "[5]: https://rapids.ai/"
   ]
  },
  {
   "cell_type": "code",
   "execution_count": 17,
   "id": "ab55a8ef",
   "metadata": {
    "execution": {
     "iopub.execute_input": "2022-07-16T15:14:42.146506Z",
     "iopub.status.busy": "2022-07-16T15:14:42.146206Z",
     "iopub.status.idle": "2022-07-16T15:14:44.956941Z",
     "shell.execute_reply": "2022-07-16T15:14:44.956010Z"
    },
    "papermill": {
     "duration": 2.828253,
     "end_time": "2022-07-16T15:14:44.959532",
     "exception": false,
     "start_time": "2022-07-16T15:14:42.131279",
     "status": "completed"
    },
    "tags": []
   },
   "outputs": [
    {
     "name": "stdout",
     "output_type": "stream",
     "text": [
      "Reading test data...\n",
      "shape of data: (11363762, 2)\n",
      "We will process test data as 4 separate parts.\n",
      "There will be 231155 customers in each part (except the last part).\n",
      "Below are number of rows in each part:\n",
      "[2841209, 2839857, 2842105, 2840591]\n"
     ]
    }
   ],
   "source": [
    "# CALCULATE SIZE OF EACH SEPARATE TEST PART\n",
    "def get_rows(customers, test, NUM_PARTS = 4, verbose = ''):\n",
    "    chunk = len(customers)//NUM_PARTS\n",
    "    if verbose != '':\n",
    "        print(f'We will process {verbose} data as {NUM_PARTS} separate parts.')\n",
    "        print(f'There will be {chunk} customers in each part (except the last part).')\n",
    "        print('Below are number of rows in each part:')\n",
    "    rows = []\n",
    "\n",
    "    for k in range(NUM_PARTS):\n",
    "        if k==NUM_PARTS-1: cc = customers[k*chunk:]\n",
    "        else: cc = customers[k*chunk:(k+1)*chunk]\n",
    "        s = test.loc[test.customer_ID.isin(cc)].shape[0]\n",
    "        rows.append(s)\n",
    "    if verbose != '': print( rows )\n",
    "    return rows,chunk\n",
    "\n",
    "# COMPUTE SIZE OF 4 PARTS FOR TEST DATA\n",
    "NUM_PARTS = 4\n",
    "TEST_PATH = '../input/amex-data-integer-dtypes-parquet-format/test.parquet'\n",
    "\n",
    "print(f'Reading test data...')\n",
    "test = read_file(path = TEST_PATH, usecols = ['customer_ID','S_2'])\n",
    "customers = test[['customer_ID']].drop_duplicates().sort_index().values.flatten()\n",
    "rows,num_cust = get_rows(customers, test[['customer_ID']], NUM_PARTS = NUM_PARTS, verbose = 'test')"
   ]
  },
  {
   "cell_type": "markdown",
   "id": "dabb7715",
   "metadata": {
    "papermill": {
     "duration": 0.015611,
     "end_time": "2022-07-16T15:14:44.991183",
     "exception": false,
     "start_time": "2022-07-16T15:14:44.975572",
     "status": "completed"
    },
    "tags": []
   },
   "source": [
    "# Infer Test"
   ]
  },
  {
   "cell_type": "code",
   "execution_count": 18,
   "id": "f1eda16b",
   "metadata": {
    "execution": {
     "iopub.execute_input": "2022-07-16T15:14:45.022461Z",
     "iopub.status.busy": "2022-07-16T15:14:45.022102Z",
     "iopub.status.idle": "2022-07-16T15:17:22.165722Z",
     "shell.execute_reply": "2022-07-16T15:17:22.164775Z"
    },
    "papermill": {
     "duration": 157.161879,
     "end_time": "2022-07-16T15:17:22.168168",
     "exception": false,
     "start_time": "2022-07-16T15:14:45.006289",
     "status": "completed"
    },
    "tags": []
   },
   "outputs": [
    {
     "name": "stdout",
     "output_type": "stream",
     "text": [
      "\n",
      "Reading test data...\n",
      "shape of data: (11363762, 190)\n",
      "=> Test part 1 has shape (2841209, 190)\n",
      "shape after engineering (231155, 564)\n",
      "\n",
      "Reading test data...\n",
      "shape of data: (11363762, 190)\n",
      "=> Test part 2 has shape (2839857, 190)\n",
      "shape after engineering (231155, 564)\n",
      "\n",
      "Reading test data...\n",
      "shape of data: (11363762, 190)\n",
      "=> Test part 3 has shape (2842105, 190)\n",
      "shape after engineering (231155, 564)\n",
      "\n",
      "Reading test data...\n",
      "shape of data: (11363762, 190)\n",
      "=> Test part 4 has shape (2840591, 190)\n",
      "shape after engineering (231156, 564)\n"
     ]
    }
   ],
   "source": [
    "# INFER TEST DATA IN PARTS\n",
    "skip_rows = 0\n",
    "skip_cust = 0\n",
    "test_preds = []\n",
    "\n",
    "for k in range(NUM_PARTS):\n",
    "    \n",
    "    # READ PART OF TEST DATA\n",
    "    print(f'\\nReading test data...')\n",
    "    test = read_file(path = TEST_PATH)\n",
    "    test = test.iloc[skip_rows:skip_rows+rows[k]]\n",
    "    skip_rows += rows[k]\n",
    "    print(f'=> Test part {k+1} has shape', test.shape )\n",
    "    \n",
    "    # PROCESS AND FEATURE ENGINEER PART OF TEST DATA\n",
    "    test = process_and_feature_engineer(test)\n",
    "    if k==NUM_PARTS-1: test = test.loc[customers[skip_cust:]]\n",
    "    else: test = test.loc[customers[skip_cust:skip_cust+num_cust]]\n",
    "    skip_cust += num_cust\n",
    "    \n",
    "    # TEST DATA FOR XGB\n",
    "    X_test = test[FEATURES]\n",
    "    dtest = xgb.DMatrix(data=X_test)\n",
    "    test = test[['P_2_mean']] # reduce memory\n",
    "    del X_test\n",
    "    gc.collect()\n",
    "\n",
    "    # INFER XGB MODELS ON TEST DATA\n",
    "    model = xgb.Booster()\n",
    "    model.load_model(f'XGB_v{VER}_fold0.xgb')\n",
    "    preds = model.predict(dtest)\n",
    "    for f in range(1,FOLDS):\n",
    "        model.load_model(f'XGB_v{VER}_fold{f}.xgb')\n",
    "        preds += model.predict(dtest)\n",
    "    preds /= FOLDS\n",
    "    test_preds.append(preds)\n",
    "\n",
    "    # CLEAN MEMORY\n",
    "    del dtest, model\n",
    "    _ = gc.collect()"
   ]
  },
  {
   "cell_type": "markdown",
   "id": "cabc0c4b",
   "metadata": {
    "papermill": {
     "duration": 0.027682,
     "end_time": "2022-07-16T15:17:22.226553",
     "exception": false,
     "start_time": "2022-07-16T15:17:22.198871",
     "status": "completed"
    },
    "tags": []
   },
   "source": [
    "# Create Submission CSV"
   ]
  },
  {
   "cell_type": "code",
   "execution_count": 19,
   "id": "282ec3a5",
   "metadata": {
    "execution": {
     "iopub.execute_input": "2022-07-16T15:17:22.269456Z",
     "iopub.status.busy": "2022-07-16T15:17:22.268983Z",
     "iopub.status.idle": "2022-07-16T15:17:23.315005Z",
     "shell.execute_reply": "2022-07-16T15:17:23.314002Z"
    },
    "papermill": {
     "duration": 1.067328,
     "end_time": "2022-07-16T15:17:23.318223",
     "exception": false,
     "start_time": "2022-07-16T15:17:22.250895",
     "status": "completed"
    },
    "tags": []
   },
   "outputs": [
    {
     "name": "stdout",
     "output_type": "stream",
     "text": [
      "Submission file shape is (924621, 2)\n"
     ]
    },
    {
     "data": {
      "text/html": [
       "<div>\n",
       "<style scoped>\n",
       "    .dataframe tbody tr th:only-of-type {\n",
       "        vertical-align: middle;\n",
       "    }\n",
       "\n",
       "    .dataframe tbody tr th {\n",
       "        vertical-align: top;\n",
       "    }\n",
       "\n",
       "    .dataframe thead th {\n",
       "        text-align: right;\n",
       "    }\n",
       "</style>\n",
       "<table border=\"1\" class=\"dataframe\">\n",
       "  <thead>\n",
       "    <tr style=\"text-align: right;\">\n",
       "      <th></th>\n",
       "      <th>customer_ID</th>\n",
       "      <th>prediction</th>\n",
       "    </tr>\n",
       "  </thead>\n",
       "  <tbody>\n",
       "    <tr>\n",
       "      <th>0</th>\n",
       "      <td>03999d5e3bd61a69504cc6e7025c260c1ed2e5b449dba5...</td>\n",
       "      <td>0.075511</td>\n",
       "    </tr>\n",
       "    <tr>\n",
       "      <th>1</th>\n",
       "      <td>039b4f21aa584fb0c3c7055beabc098af55013f9f25515...</td>\n",
       "      <td>0.003987</td>\n",
       "    </tr>\n",
       "    <tr>\n",
       "      <th>2</th>\n",
       "      <td>039a6aea85575ebd33eec75e5c45bc7973481b81a99b62...</td>\n",
       "      <td>0.057275</td>\n",
       "    </tr>\n",
       "    <tr>\n",
       "      <th>3</th>\n",
       "      <td>039bd96164c6567580b24ba13c2b85b60f4554eb43d55b...</td>\n",
       "      <td>0.455744</td>\n",
       "    </tr>\n",
       "    <tr>\n",
       "      <th>4</th>\n",
       "      <td>0399a5a95461ced4134cd9693712fb012351cca1bde04d...</td>\n",
       "      <td>0.000179</td>\n",
       "    </tr>\n",
       "  </tbody>\n",
       "</table>\n",
       "</div>"
      ],
      "text/plain": [
       "                                         customer_ID  prediction\n",
       "0  03999d5e3bd61a69504cc6e7025c260c1ed2e5b449dba5...    0.075511\n",
       "1  039b4f21aa584fb0c3c7055beabc098af55013f9f25515...    0.003987\n",
       "2  039a6aea85575ebd33eec75e5c45bc7973481b81a99b62...    0.057275\n",
       "3  039bd96164c6567580b24ba13c2b85b60f4554eb43d55b...    0.455744\n",
       "4  0399a5a95461ced4134cd9693712fb012351cca1bde04d...    0.000179"
      ]
     },
     "execution_count": 19,
     "metadata": {},
     "output_type": "execute_result"
    }
   ],
   "source": [
    "# WRITE SUBMISSION FILE\n",
    "test_preds = np.concatenate(test_preds)\n",
    "test = cudf.DataFrame(index=customers,data={'prediction':test_preds})\n",
    "sub = cudf.read_csv('../input/amex-default-prediction/sample_submission.csv')[['customer_ID']]\n",
    "sub['customer_ID_hash'] = sub['customer_ID'].str[-16:].str.hex_to_int().astype('int64')\n",
    "sub = sub.set_index('customer_ID_hash')\n",
    "sub = sub.merge(test[['prediction']], left_index=True, right_index=True, how='left')\n",
    "sub = sub.reset_index(drop=True)\n",
    "\n",
    "# DISPLAY PREDICTIONS\n",
    "sub.to_csv(f'submission_xgb_v{VER}.csv',index=False)\n",
    "print('Submission file shape is', sub.shape )\n",
    "sub.head()"
   ]
  },
  {
   "cell_type": "code",
   "execution_count": 20,
   "id": "b9e841d1",
   "metadata": {
    "execution": {
     "iopub.execute_input": "2022-07-16T15:17:23.350710Z",
     "iopub.status.busy": "2022-07-16T15:17:23.350336Z",
     "iopub.status.idle": "2022-07-16T15:17:24.065516Z",
     "shell.execute_reply": "2022-07-16T15:17:24.064650Z"
    },
    "papermill": {
     "duration": 0.733592,
     "end_time": "2022-07-16T15:17:24.067639",
     "exception": false,
     "start_time": "2022-07-16T15:17:23.334047",
     "status": "completed"
    },
    "tags": []
   },
   "outputs": [
    {
     "data": {
      "image/png": "[encoded data removed]",
      "text/plain": [
       "<Figure size 432x288 with 1 Axes>"
      ]
     },
     "metadata": {
      "needs_background": "light"
     },
     "output_type": "display_data"
    }
   ],
   "source": [
    "# PLOT PREDICTIONS\n",
    "plt.hist(sub.to_pandas().prediction, bins=100)\n",
    "plt.title('Test Predictions')\n",
    "plt.show()"
   ]
  }
 ],
 "metadata": {
  "kernelspec": {
   "display_name": "Python 3",
   "language": "python",
   "name": "python3"
  },
  "language_info": {
   "codemirror_mode": {
    "name": "ipython",
    "version": 3
   },
   "file_extension": ".py",
   "mimetype": "text/x-python",
   "name": "python",
   "nbconvert_exporter": "python",
   "pygments_lexer": "ipython3",
   "version": "3.7.12"
  },
  "papermill": {
   "default_parameters": {},
   "duration": 602.682915,
   "end_time": "2022-07-16T15:17:26.448571",
   "environment_variables": {},
   "exception": null,
   "input_path": "__notebook__.ipynb",
   "output_path": "__notebook__.ipynb",
   "parameters": {},
   "start_time": "2022-07-16T15:07:23.765656",
   "version": "2.3.4"
  }
 },
 "nbformat": 4,
 "nbformat_minor": 5
}
