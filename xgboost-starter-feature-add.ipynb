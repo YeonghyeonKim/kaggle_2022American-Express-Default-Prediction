{
 "cells": [
  {
   "cell_type": "markdown",
   "id": "691e1bac",
   "metadata": {
    "papermill": {
     "duration": 0.009935,
     "end_time": "2022-07-13T15:27:37.392118",
     "exception": false,
     "start_time": "2022-07-13T15:27:37.382183",
     "status": "completed"
    },
    "tags": []
   },
   "source": [
    "# XGBoost Starter - LB 0.793\n",
    "In this notebook we build and train an XGBoost model using @raddar Kaggle dataset from [here][1] with discussion [here][2]. Then we engineer features suggested by @huseyincot in his notebooks [here][3] and [here][4]. This XGB model achieves CV 0.792 LB 0.793! When training with XGB, we use a special XGB dataloader called `DeviceQuantileDMatrix` which uses a small GPU memory footprint. This allows us to engineer more additional columns and train with more rows of data. Our feature engineering is performed using [RAPIDS][5] on the GPU to create new features quickly.\n",
    "\n",
    "[1]: https://www.kaggle.com/datasets/raddar/amex-data-integer-dtypes-parquet-format\n",
    "[2]: https://www.kaggle.com/competitions/amex-default-prediction/discussion/328514\n",
    "[3]: https://www.kaggle.com/code/huseyincot/amex-catboost-0-793\n",
    "[4]: https://www.kaggle.com/code/huseyincot/amex-agg-data-how-it-created\n",
    "[5]: https://rapids.ai/"
   ]
  },
  {
   "cell_type": "markdown",
   "id": "aab708e8",
   "metadata": {
    "papermill": {
     "duration": 0.007742,
     "end_time": "2022-07-13T15:27:37.413649",
     "exception": false,
     "start_time": "2022-07-13T15:27:37.405907",
     "status": "completed"
    },
    "tags": []
   },
   "source": [
    "Feature Engineering I done\n",
    "1. Drop B_29, https://www.kaggle.com/code/roberthatch/amex-feature-engg-gpu-or-cpu-process-in-chunks/notebook\n",
    "2. Add each customer count (how long they used) (not normalize)\n",
    "3. Don't fill NaN (with -127)\n",
    "4. "
   ]
  },
  {
   "cell_type": "markdown",
   "id": "417de445",
   "metadata": {
    "papermill": {
     "duration": 0.006312,
     "end_time": "2022-07-13T15:27:37.426493",
     "exception": false,
     "start_time": "2022-07-13T15:27:37.420181",
     "status": "completed"
    },
    "tags": []
   },
   "source": [
    "# Load Libraries"
   ]
  },
  {
   "cell_type": "code",
   "execution_count": 1,
   "id": "50ec4779",
   "metadata": {
    "execution": {
     "iopub.execute_input": "2022-07-13T15:27:37.442626Z",
     "iopub.status.busy": "2022-07-13T15:27:37.441749Z",
     "iopub.status.idle": "2022-07-13T15:27:41.615238Z",
     "shell.execute_reply": "2022-07-13T15:27:41.612882Z"
    },
    "papermill": {
     "duration": 4.184644,
     "end_time": "2022-07-13T15:27:41.617653",
     "exception": false,
     "start_time": "2022-07-13T15:27:37.433009",
     "status": "completed"
    },
    "tags": []
   },
   "outputs": [
    {
     "name": "stdout",
     "output_type": "stream",
     "text": [
      "RAPIDS version 21.10.01\n"
     ]
    }
   ],
   "source": [
    "# LOAD LIBRARIES\n",
    "import pandas as pd, numpy as np # CPU libraries\n",
    "import cupy, cudf # GPU libraries\n",
    "import matplotlib.pyplot as plt, gc, os\n",
    "\n",
    "print('RAPIDS version',cudf.__version__)"
   ]
  },
  {
   "cell_type": "code",
   "execution_count": 2,
   "id": "78e8d1ba",
   "metadata": {
    "execution": {
     "iopub.execute_input": "2022-07-13T15:27:41.633069Z",
     "iopub.status.busy": "2022-07-13T15:27:41.632763Z",
     "iopub.status.idle": "2022-07-13T15:27:41.637078Z",
     "shell.execute_reply": "2022-07-13T15:27:41.636222Z"
    },
    "papermill": {
     "duration": 0.013389,
     "end_time": "2022-07-13T15:27:41.638757",
     "exception": false,
     "start_time": "2022-07-13T15:27:41.625368",
     "status": "completed"
    },
    "tags": []
   },
   "outputs": [],
   "source": [
    "# VERSION NAME FOR SAVED MODEL FILES\n",
    "VER = 1\n",
    "\n",
    "# TRAIN RANDOM SEED\n",
    "SEED = 42\n",
    "\n",
    "# FILL NAN VALUE\n",
    "NAN_VALUE = -127 # will fit in int8\n",
    "\n",
    "# FOLDS PER MODEL\n",
    "FOLDS = 5"
   ]
  },
  {
   "cell_type": "markdown",
   "id": "ae80e7b7",
   "metadata": {
    "papermill": {
     "duration": 0.006156,
     "end_time": "2022-07-13T15:27:41.651262",
     "exception": false,
     "start_time": "2022-07-13T15:27:41.645106",
     "status": "completed"
    },
    "tags": []
   },
   "source": [
    "# Process and Feature Engineer Train Data\n",
    "We will load @raddar Kaggle dataset from [here][1] with discussion [here][2]. Then we will engineer features suggested by @huseyincot in his notebooks [here][3] and [here][4]. We will use [RAPIDS][5] and the GPU to create new features quickly.\n",
    "\n",
    "[1]: https://www.kaggle.com/datasets/raddar/amex-data-integer-dtypes-parquet-format\n",
    "[2]: https://www.kaggle.com/competitions/amex-default-prediction/discussion/328514\n",
    "[3]: https://www.kaggle.com/code/huseyincot/amex-catboost-0-793\n",
    "[4]: https://www.kaggle.com/code/huseyincot/amex-agg-data-how-it-created\n",
    "[5]: https://rapids.ai/"
   ]
  },
  {
   "cell_type": "code",
   "execution_count": 3,
   "id": "59aba6a8",
   "metadata": {
    "execution": {
     "iopub.execute_input": "2022-07-13T15:27:41.665675Z",
     "iopub.status.busy": "2022-07-13T15:27:41.665003Z",
     "iopub.status.idle": "2022-07-13T15:28:04.744396Z",
     "shell.execute_reply": "2022-07-13T15:28:04.743045Z"
    },
    "papermill": {
     "duration": 23.088768,
     "end_time": "2022-07-13T15:28:04.746445",
     "exception": false,
     "start_time": "2022-07-13T15:27:41.657677",
     "status": "completed"
    },
    "tags": []
   },
   "outputs": [
    {
     "name": "stdout",
     "output_type": "stream",
     "text": [
      "Reading train data...\n",
      "shape of data: (5531451, 190)\n"
     ]
    }
   ],
   "source": [
    "def read_file(path = '', usecols = None):\n",
    "    # LOAD DATAFRAME\n",
    "    if usecols is not None: df = cudf.read_parquet(path, columns=usecols)\n",
    "    else: df = cudf.read_parquet(path)\n",
    "    # REDUCE DTYPE FOR CUSTOMER AND DATE\n",
    "    df['customer_ID'] = df['customer_ID'].str[-16:].str.hex_to_int().astype('int64')\n",
    "    df.S_2 = cudf.to_datetime( df.S_2 )\n",
    "    # SORT BY CUSTOMER AND DATE (so agg('last') works correctly)\n",
    "    #df = df.sort_values(['customer_ID','S_2'])\n",
    "    #df = df.reset_index(drop=True)\n",
    "    # FILL NAN\n",
    "#     df = df.fillna(NAN_VALUE) \n",
    "    print('shape of data:', df.shape)\n",
    "    \n",
    "    return df\n",
    "\n",
    "print('Reading train data...')\n",
    "TRAIN_PATH = '../input/amex-data-integer-dtypes-parquet-format/train.parquet'\n",
    "train = read_file(path = TRAIN_PATH)"
   ]
  },
  {
   "cell_type": "code",
   "execution_count": 4,
   "id": "6a8aa9c3",
   "metadata": {
    "execution": {
     "iopub.execute_input": "2022-07-13T15:28:04.762549Z",
     "iopub.status.busy": "2022-07-13T15:28:04.761820Z",
     "iopub.status.idle": "2022-07-13T15:28:05.075400Z",
     "shell.execute_reply": "2022-07-13T15:28:05.074182Z"
    },
    "papermill": {
     "duration": 0.324401,
     "end_time": "2022-07-13T15:28:05.077688",
     "exception": false,
     "start_time": "2022-07-13T15:28:04.753287",
     "status": "completed"
    },
    "tags": []
   },
   "outputs": [
    {
     "data": {
      "text/html": [
       "<div>\n",
       "<style scoped>\n",
       "    .dataframe tbody tr th:only-of-type {\n",
       "        vertical-align: middle;\n",
       "    }\n",
       "\n",
       "    .dataframe tbody tr th {\n",
       "        vertical-align: top;\n",
       "    }\n",
       "\n",
       "    .dataframe thead th {\n",
       "        text-align: right;\n",
       "    }\n",
       "</style>\n",
       "<table border=\"1\" class=\"dataframe\">\n",
       "  <thead>\n",
       "    <tr style=\"text-align: right;\">\n",
       "      <th></th>\n",
       "      <th>customer_ID</th>\n",
       "      <th>S_2</th>\n",
       "      <th>P_2</th>\n",
       "      <th>D_39</th>\n",
       "      <th>B_1</th>\n",
       "      <th>B_2</th>\n",
       "      <th>R_1</th>\n",
       "      <th>S_3</th>\n",
       "      <th>D_41</th>\n",
       "      <th>B_3</th>\n",
       "      <th>...</th>\n",
       "      <th>D_136</th>\n",
       "      <th>D_137</th>\n",
       "      <th>D_138</th>\n",
       "      <th>D_139</th>\n",
       "      <th>D_140</th>\n",
       "      <th>D_141</th>\n",
       "      <th>D_142</th>\n",
       "      <th>D_143</th>\n",
       "      <th>D_144</th>\n",
       "      <th>D_145</th>\n",
       "    </tr>\n",
       "  </thead>\n",
       "  <tbody>\n",
       "    <tr>\n",
       "      <th>0</th>\n",
       "      <td>-4532153018459703766</td>\n",
       "      <td>2017-03-09</td>\n",
       "      <td>0.938469</td>\n",
       "      <td>0</td>\n",
       "      <td>0.008724</td>\n",
       "      <td>1.006838</td>\n",
       "      <td>0.009228</td>\n",
       "      <td>0.124035</td>\n",
       "      <td>0.0</td>\n",
       "      <td>0.004709</td>\n",
       "      <td>...</td>\n",
       "      <td>-1</td>\n",
       "      <td>-1</td>\n",
       "      <td>-1</td>\n",
       "      <td>0</td>\n",
       "      <td>0</td>\n",
       "      <td>0.0</td>\n",
       "      <td>&lt;NA&gt;</td>\n",
       "      <td>0</td>\n",
       "      <td>0.000610</td>\n",
       "      <td>0</td>\n",
       "    </tr>\n",
       "    <tr>\n",
       "      <th>1</th>\n",
       "      <td>-4532153018459703766</td>\n",
       "      <td>2017-04-07</td>\n",
       "      <td>0.936665</td>\n",
       "      <td>0</td>\n",
       "      <td>0.004923</td>\n",
       "      <td>1.000653</td>\n",
       "      <td>0.006151</td>\n",
       "      <td>0.126750</td>\n",
       "      <td>0.0</td>\n",
       "      <td>0.002714</td>\n",
       "      <td>...</td>\n",
       "      <td>-1</td>\n",
       "      <td>-1</td>\n",
       "      <td>-1</td>\n",
       "      <td>0</td>\n",
       "      <td>0</td>\n",
       "      <td>0.0</td>\n",
       "      <td>&lt;NA&gt;</td>\n",
       "      <td>0</td>\n",
       "      <td>0.005492</td>\n",
       "      <td>0</td>\n",
       "    </tr>\n",
       "    <tr>\n",
       "      <th>2</th>\n",
       "      <td>-4532153018459703766</td>\n",
       "      <td>2017-05-28</td>\n",
       "      <td>0.954180</td>\n",
       "      <td>3</td>\n",
       "      <td>0.021655</td>\n",
       "      <td>1.009672</td>\n",
       "      <td>0.006815</td>\n",
       "      <td>0.123977</td>\n",
       "      <td>0.0</td>\n",
       "      <td>0.009423</td>\n",
       "      <td>...</td>\n",
       "      <td>-1</td>\n",
       "      <td>-1</td>\n",
       "      <td>-1</td>\n",
       "      <td>0</td>\n",
       "      <td>0</td>\n",
       "      <td>0.0</td>\n",
       "      <td>&lt;NA&gt;</td>\n",
       "      <td>0</td>\n",
       "      <td>0.006986</td>\n",
       "      <td>0</td>\n",
       "    </tr>\n",
       "    <tr>\n",
       "      <th>3</th>\n",
       "      <td>-4532153018459703766</td>\n",
       "      <td>2017-06-13</td>\n",
       "      <td>0.960384</td>\n",
       "      <td>0</td>\n",
       "      <td>0.013683</td>\n",
       "      <td>1.002700</td>\n",
       "      <td>0.001373</td>\n",
       "      <td>0.117169</td>\n",
       "      <td>0.0</td>\n",
       "      <td>0.005531</td>\n",
       "      <td>...</td>\n",
       "      <td>-1</td>\n",
       "      <td>-1</td>\n",
       "      <td>-1</td>\n",
       "      <td>0</td>\n",
       "      <td>0</td>\n",
       "      <td>0.0</td>\n",
       "      <td>&lt;NA&gt;</td>\n",
       "      <td>0</td>\n",
       "      <td>0.006527</td>\n",
       "      <td>0</td>\n",
       "    </tr>\n",
       "    <tr>\n",
       "      <th>4</th>\n",
       "      <td>-4532153018459703766</td>\n",
       "      <td>2017-07-16</td>\n",
       "      <td>0.947248</td>\n",
       "      <td>0</td>\n",
       "      <td>0.015193</td>\n",
       "      <td>1.000727</td>\n",
       "      <td>0.007605</td>\n",
       "      <td>0.117325</td>\n",
       "      <td>0.0</td>\n",
       "      <td>0.009312</td>\n",
       "      <td>...</td>\n",
       "      <td>-1</td>\n",
       "      <td>-1</td>\n",
       "      <td>-1</td>\n",
       "      <td>0</td>\n",
       "      <td>0</td>\n",
       "      <td>0.0</td>\n",
       "      <td>&lt;NA&gt;</td>\n",
       "      <td>0</td>\n",
       "      <td>0.008126</td>\n",
       "      <td>0</td>\n",
       "    </tr>\n",
       "  </tbody>\n",
       "</table>\n",
       "<p>5 rows × 190 columns</p>\n",
       "</div>"
      ],
      "text/plain": [
       "           customer_ID        S_2       P_2  D_39       B_1       B_2  \\\n",
       "0 -4532153018459703766 2017-03-09  0.938469     0  0.008724  1.006838   \n",
       "1 -4532153018459703766 2017-04-07  0.936665     0  0.004923  1.000653   \n",
       "2 -4532153018459703766 2017-05-28  0.954180     3  0.021655  1.009672   \n",
       "3 -4532153018459703766 2017-06-13  0.960384     0  0.013683  1.002700   \n",
       "4 -4532153018459703766 2017-07-16  0.947248     0  0.015193  1.000727   \n",
       "\n",
       "        R_1       S_3  D_41       B_3  ... D_136  D_137  D_138  D_139  D_140  \\\n",
       "0  0.009228  0.124035   0.0  0.004709  ...    -1     -1     -1      0      0   \n",
       "1  0.006151  0.126750   0.0  0.002714  ...    -1     -1     -1      0      0   \n",
       "2  0.006815  0.123977   0.0  0.009423  ...    -1     -1     -1      0      0   \n",
       "3  0.001373  0.117169   0.0  0.005531  ...    -1     -1     -1      0      0   \n",
       "4  0.007605  0.117325   0.0  0.009312  ...    -1     -1     -1      0      0   \n",
       "\n",
       "   D_141  D_142 D_143     D_144  D_145  \n",
       "0    0.0   <NA>     0  0.000610      0  \n",
       "1    0.0   <NA>     0  0.005492      0  \n",
       "2    0.0   <NA>     0  0.006986      0  \n",
       "3    0.0   <NA>     0  0.006527      0  \n",
       "4    0.0   <NA>     0  0.008126      0  \n",
       "\n",
       "[5 rows x 190 columns]"
      ]
     },
     "execution_count": 4,
     "metadata": {},
     "output_type": "execute_result"
    }
   ],
   "source": [
    "train.head()"
   ]
  },
  {
   "cell_type": "code",
   "execution_count": 5,
   "id": "f6b35fd6",
   "metadata": {
    "execution": {
     "iopub.execute_input": "2022-07-13T15:28:05.094554Z",
     "iopub.status.busy": "2022-07-13T15:28:05.093816Z",
     "iopub.status.idle": "2022-07-13T15:28:08.826720Z",
     "shell.execute_reply": "2022-07-13T15:28:08.824977Z"
    },
    "papermill": {
     "duration": 3.743306,
     "end_time": "2022-07-13T15:28:08.828935",
     "exception": false,
     "start_time": "2022-07-13T15:28:05.085629",
     "status": "completed"
    },
    "tags": []
   },
   "outputs": [
    {
     "name": "stdout",
     "output_type": "stream",
     "text": [
      "shape after engineering (458913, 914)\n"
     ]
    }
   ],
   "source": [
    "def process_and_feature_engineer(df):\n",
    "    # FEATURE ENGINEERING FROM \n",
    "    # https://www.kaggle.com/code/huseyincot/amex-agg-data-how-it-created\n",
    "    \n",
    "#     1) Drop 'B_29'\n",
    "    df.drop(['B_29'], inplace=True, axis=1)\n",
    "\n",
    "    all_cols = [c for c in list(df.columns) if c not in ['customer_ID','S_2']]\n",
    "    cat_features = [\"B_30\",\"B_38\",\"D_114\",\"D_116\",\"D_117\",\"D_120\",\"D_126\",\"D_63\",\"D_64\",\"D_66\",\"D_68\"]\n",
    "    num_features = [col for col in all_cols if col not in cat_features]\n",
    "    \n",
    "#     2) Add customer count\n",
    "    test_count_agg = df.groupby(['customer_ID'])['S_2'].agg(['count'])\n",
    "    \n",
    "    test_num_agg = df.groupby(\"customer_ID\")[num_features].agg(['mean', 'std', 'min', 'max', 'last'])\n",
    "    test_num_agg.columns = ['_'.join(x) for x in test_num_agg.columns]\n",
    "\n",
    "    test_cat_agg = df.groupby(\"customer_ID\")[cat_features].agg(['count', 'last', 'nunique'])\n",
    "    test_cat_agg.columns = ['_'.join(x) for x in test_cat_agg.columns]\n",
    "\n",
    "    df = cudf.concat([test_count_agg,test_num_agg, test_cat_agg], axis=1)\n",
    "    del test_num_agg, test_cat_agg\n",
    "    print('shape after engineering', df.shape )\n",
    "    \n",
    "    return df\n",
    "\n",
    "train = process_and_feature_engineer(train)"
   ]
  },
  {
   "cell_type": "code",
   "execution_count": 6,
   "id": "26ff2a21",
   "metadata": {
    "execution": {
     "iopub.execute_input": "2022-07-13T15:28:08.844670Z",
     "iopub.status.busy": "2022-07-13T15:28:08.844343Z",
     "iopub.status.idle": "2022-07-13T15:28:10.479347Z",
     "shell.execute_reply": "2022-07-13T15:28:10.478514Z"
    },
    "papermill": {
     "duration": 1.645491,
     "end_time": "2022-07-13T15:28:10.481610",
     "exception": false,
     "start_time": "2022-07-13T15:28:08.836119",
     "status": "completed"
    },
    "tags": []
   },
   "outputs": [
    {
     "name": "stdout",
     "output_type": "stream",
     "text": [
      "There are 914 features!\n"
     ]
    }
   ],
   "source": [
    "# ADD TARGETS\n",
    "targets = cudf.read_csv('../input/amex-default-prediction/train_labels.csv')\n",
    "targets['customer_ID'] = targets['customer_ID'].str[-16:].str.hex_to_int().astype('int64')\n",
    "targets = targets.set_index('customer_ID')\n",
    "train = train.merge(targets, left_index=True, right_index=True, how='left')\n",
    "train.target = train.target.astype('int8')\n",
    "del targets\n",
    "\n",
    "# NEEDED TO MAKE CV DETERMINISTIC (cudf merge above randomly shuffles rows)\n",
    "train = train.sort_index().reset_index()\n",
    "\n",
    "# FEATURES\n",
    "FEATURES = train.columns[1:-1]\n",
    "print(f'There are {len(FEATURES)} features!')"
   ]
  },
  {
   "cell_type": "markdown",
   "id": "a0a3e6d7",
   "metadata": {
    "papermill": {
     "duration": 0.006809,
     "end_time": "2022-07-13T15:28:10.495804",
     "exception": false,
     "start_time": "2022-07-13T15:28:10.488995",
     "status": "completed"
    },
    "tags": []
   },
   "source": [
    "# Train XGB\n",
    "We will train using `DeviceQuantileDMatrix`. This has a very small GPU memory footprint."
   ]
  },
  {
   "cell_type": "code",
   "execution_count": 7,
   "id": "021a56f4",
   "metadata": {
    "execution": {
     "iopub.execute_input": "2022-07-13T15:28:10.511479Z",
     "iopub.status.busy": "2022-07-13T15:28:10.511140Z",
     "iopub.status.idle": "2022-07-13T15:28:10.624286Z",
     "shell.execute_reply": "2022-07-13T15:28:10.623337Z"
    },
    "papermill": {
     "duration": 0.123756,
     "end_time": "2022-07-13T15:28:10.626695",
     "exception": false,
     "start_time": "2022-07-13T15:28:10.502939",
     "status": "completed"
    },
    "tags": []
   },
   "outputs": [
    {
     "name": "stdout",
     "output_type": "stream",
     "text": [
      "XGB Version 1.6.1\n"
     ]
    }
   ],
   "source": [
    "# LOAD XGB LIBRARY\n",
    "from sklearn.model_selection import KFold\n",
    "import xgboost as xgb\n",
    "print('XGB Version',xgb.__version__)\n",
    "\n",
    "# XGB MODEL PARAMETERS\n",
    "xgb_parms = { \n",
    "    'max_depth':4, \n",
    "    'learning_rate':0.05, \n",
    "    'subsample':0.8,\n",
    "    'colsample_bytree':0.6, \n",
    "    'eval_metric':'logloss',\n",
    "    'objective':'binary:logistic',\n",
    "    'tree_method':'gpu_hist',\n",
    "    'predictor':'gpu_predictor',\n",
    "    'random_state':SEED\n",
    "}"
   ]
  },
  {
   "cell_type": "code",
   "execution_count": 8,
   "id": "6a34a897",
   "metadata": {
    "execution": {
     "iopub.execute_input": "2022-07-13T15:28:10.642335Z",
     "iopub.status.busy": "2022-07-13T15:28:10.642020Z",
     "iopub.status.idle": "2022-07-13T15:28:10.651450Z",
     "shell.execute_reply": "2022-07-13T15:28:10.650673Z"
    },
    "papermill": {
     "duration": 0.019382,
     "end_time": "2022-07-13T15:28:10.653153",
     "exception": false,
     "start_time": "2022-07-13T15:28:10.633771",
     "status": "completed"
    },
    "tags": []
   },
   "outputs": [],
   "source": [
    "# NEEDED WITH DeviceQuantileDMatrix BELOW\n",
    "class IterLoadForDMatrix(xgb.core.DataIter):\n",
    "    def __init__(self, df=None, features=None, target=None, batch_size=256*1024):\n",
    "        self.features = features\n",
    "        self.target = target\n",
    "        self.df = df\n",
    "        self.it = 0 # set iterator to 0\n",
    "        self.batch_size = batch_size\n",
    "        self.batches = int( np.ceil( len(df) / self.batch_size ) )\n",
    "        super().__init__()\n",
    "\n",
    "    def reset(self):\n",
    "        '''Reset the iterator'''\n",
    "        self.it = 0\n",
    "\n",
    "    def next(self, input_data):\n",
    "        '''Yield next batch of data.'''\n",
    "        if self.it == self.batches:\n",
    "            return 0 # Return 0 when there's no more batch.\n",
    "        \n",
    "        a = self.it * self.batch_size\n",
    "        b = min( (self.it + 1) * self.batch_size, len(self.df) )\n",
    "        dt = cudf.DataFrame(self.df.iloc[a:b])\n",
    "        input_data(data=dt[self.features], label=dt[self.target]) #, weight=dt['weight'])\n",
    "        self.it += 1\n",
    "        return 1"
   ]
  },
  {
   "cell_type": "code",
   "execution_count": 9,
   "id": "c96224d9",
   "metadata": {
    "execution": {
     "iopub.execute_input": "2022-07-13T15:28:10.669760Z",
     "iopub.status.busy": "2022-07-13T15:28:10.669259Z",
     "iopub.status.idle": "2022-07-13T15:28:10.679000Z",
     "shell.execute_reply": "2022-07-13T15:28:10.678024Z"
    },
    "papermill": {
     "duration": 0.020105,
     "end_time": "2022-07-13T15:28:10.680993",
     "exception": false,
     "start_time": "2022-07-13T15:28:10.660888",
     "status": "completed"
    },
    "tags": []
   },
   "outputs": [],
   "source": [
    "# https://www.kaggle.com/kyakovlev\n",
    "# https://www.kaggle.com/competitions/amex-default-prediction/discussion/327534\n",
    "def amex_metric_mod(y_true, y_pred):\n",
    "\n",
    "    labels     = np.transpose(np.array([y_true, y_pred]))\n",
    "    labels     = labels[labels[:, 1].argsort()[::-1]]\n",
    "    weights    = np.where(labels[:,0]==0, 20, 1)\n",
    "    cut_vals   = labels[np.cumsum(weights) <= int(0.04 * np.sum(weights))]\n",
    "    top_four   = np.sum(cut_vals[:,0]) / np.sum(labels[:,0])\n",
    "\n",
    "    gini = [0,0]\n",
    "    for i in [1,0]:\n",
    "        labels         = np.transpose(np.array([y_true, y_pred]))\n",
    "        labels         = labels[labels[:, i].argsort()[::-1]]\n",
    "        weight         = np.where(labels[:,0]==0, 20, 1)\n",
    "        weight_random  = np.cumsum(weight / np.sum(weight))\n",
    "        total_pos      = np.sum(labels[:, 0] *  weight)\n",
    "        cum_pos_found  = np.cumsum(labels[:, 0] * weight)\n",
    "        lorentz        = cum_pos_found / total_pos\n",
    "        gini[i]        = np.sum((lorentz - weight_random) * weight)\n",
    "\n",
    "    return 0.5 * (gini[1]/gini[0] + top_four)"
   ]
  },
  {
   "cell_type": "code",
   "execution_count": 10,
   "id": "f865d984",
   "metadata": {
    "execution": {
     "iopub.execute_input": "2022-07-13T15:28:10.697015Z",
     "iopub.status.busy": "2022-07-13T15:28:10.696757Z",
     "iopub.status.idle": "2022-07-13T15:37:53.953433Z",
     "shell.execute_reply": "2022-07-13T15:37:53.952528Z"
    },
    "papermill": {
     "duration": 583.266845,
     "end_time": "2022-07-13T15:37:53.955425",
     "exception": false,
     "start_time": "2022-07-13T15:28:10.688580",
     "status": "completed"
    },
    "scrolled": true,
    "tags": []
   },
   "outputs": [
    {
     "name": "stdout",
     "output_type": "stream",
     "text": [
      "#########################\n",
      "### Fold 1\n",
      "### Train size 367130 Valid size 91783\n",
      "### Training with 100% fold data...\n",
      "#########################\n",
      "[0]\ttrain-logloss:0.66198\tvalid-logloss:0.66204\n",
      "[100]\ttrain-logloss:0.23625\tvalid-logloss:0.23900\n",
      "[200]\ttrain-logloss:0.22198\tvalid-logloss:0.22740\n",
      "[300]\ttrain-logloss:0.21593\tvalid-logloss:0.22357\n",
      "[400]\ttrain-logloss:0.21193\tvalid-logloss:0.22162\n",
      "[500]\ttrain-logloss:0.20871\tvalid-logloss:0.22044\n",
      "[600]\ttrain-logloss:0.20593\tvalid-logloss:0.21959\n",
      "[700]\ttrain-logloss:0.20340\tvalid-logloss:0.21906\n",
      "[800]\ttrain-logloss:0.20110\tvalid-logloss:0.21864\n",
      "[900]\ttrain-logloss:0.19896\tvalid-logloss:0.21827\n",
      "[1000]\ttrain-logloss:0.19688\tvalid-logloss:0.21806\n",
      "[1100]\ttrain-logloss:0.19486\tvalid-logloss:0.21794\n",
      "[1200]\ttrain-logloss:0.19288\tvalid-logloss:0.21785\n",
      "[1300]\ttrain-logloss:0.19101\tvalid-logloss:0.21773\n",
      "[1400]\ttrain-logloss:0.18917\tvalid-logloss:0.21760\n",
      "[1500]\ttrain-logloss:0.18736\tvalid-logloss:0.21748\n",
      "[1600]\ttrain-logloss:0.18550\tvalid-logloss:0.21744\n",
      "[1700]\ttrain-logloss:0.18379\tvalid-logloss:0.21737\n",
      "[1800]\ttrain-logloss:0.18203\tvalid-logloss:0.21736\n",
      "[1825]\ttrain-logloss:0.18158\tvalid-logloss:0.21738\n",
      "Kaggle Metric = 0.7919604196740357 \n",
      "\n",
      "#########################\n",
      "### Fold 2\n",
      "### Train size 367130 Valid size 91783\n",
      "### Training with 100% fold data...\n",
      "#########################\n",
      "[0]\ttrain-logloss:0.66203\tvalid-logloss:0.66202\n",
      "[100]\ttrain-logloss:0.23656\tvalid-logloss:0.23732\n",
      "[200]\ttrain-logloss:0.22231\tvalid-logloss:0.22541\n",
      "[300]\ttrain-logloss:0.21627\tvalid-logloss:0.22163\n",
      "[400]\ttrain-logloss:0.21225\tvalid-logloss:0.21969\n",
      "[500]\ttrain-logloss:0.20907\tvalid-logloss:0.21859\n",
      "[600]\ttrain-logloss:0.20621\tvalid-logloss:0.21785\n",
      "[700]\ttrain-logloss:0.20370\tvalid-logloss:0.21738\n",
      "[800]\ttrain-logloss:0.20131\tvalid-logloss:0.21704\n",
      "[900]\ttrain-logloss:0.19907\tvalid-logloss:0.21686\n",
      "[1000]\ttrain-logloss:0.19699\tvalid-logloss:0.21666\n",
      "[1100]\ttrain-logloss:0.19488\tvalid-logloss:0.21653\n",
      "[1200]\ttrain-logloss:0.19292\tvalid-logloss:0.21642\n",
      "[1300]\ttrain-logloss:0.19100\tvalid-logloss:0.21636\n",
      "[1400]\ttrain-logloss:0.18916\tvalid-logloss:0.21627\n",
      "[1500]\ttrain-logloss:0.18734\tvalid-logloss:0.21616\n",
      "[1597]\ttrain-logloss:0.18561\tvalid-logloss:0.21619\n",
      "Kaggle Metric = 0.7927974106507919 \n",
      "\n",
      "#########################\n",
      "### Fold 3\n",
      "### Train size 367130 Valid size 91783\n",
      "### Training with 100% fold data...\n",
      "#########################\n",
      "[0]\ttrain-logloss:0.66194\tvalid-logloss:0.66209\n",
      "[100]\ttrain-logloss:0.23598\tvalid-logloss:0.23985\n",
      "[200]\ttrain-logloss:0.22167\tvalid-logloss:0.22811\n",
      "[300]\ttrain-logloss:0.21562\tvalid-logloss:0.22422\n",
      "[400]\ttrain-logloss:0.21168\tvalid-logloss:0.22245\n",
      "[500]\ttrain-logloss:0.20843\tvalid-logloss:0.22137\n",
      "[600]\ttrain-logloss:0.20560\tvalid-logloss:0.22071\n",
      "[700]\ttrain-logloss:0.20302\tvalid-logloss:0.22023\n",
      "[800]\ttrain-logloss:0.20070\tvalid-logloss:0.21992\n",
      "[900]\ttrain-logloss:0.19846\tvalid-logloss:0.21968\n",
      "[1000]\ttrain-logloss:0.19638\tvalid-logloss:0.21951\n",
      "[1100]\ttrain-logloss:0.19435\tvalid-logloss:0.21931\n",
      "[1200]\ttrain-logloss:0.19240\tvalid-logloss:0.21917\n",
      "[1300]\ttrain-logloss:0.19052\tvalid-logloss:0.21907\n",
      "[1400]\ttrain-logloss:0.18864\tvalid-logloss:0.21893\n",
      "[1500]\ttrain-logloss:0.18684\tvalid-logloss:0.21884\n",
      "[1600]\ttrain-logloss:0.18502\tvalid-logloss:0.21884\n",
      "[1700]\ttrain-logloss:0.18326\tvalid-logloss:0.21879\n",
      "[1800]\ttrain-logloss:0.18151\tvalid-logloss:0.21881\n",
      "[1864]\ttrain-logloss:0.18037\tvalid-logloss:0.21880\n",
      "Kaggle Metric = 0.7908433155314423 \n",
      "\n",
      "#########################\n",
      "### Fold 4\n",
      "### Train size 367131 Valid size 91782\n",
      "### Training with 100% fold data...\n",
      "#########################\n",
      "[0]\ttrain-logloss:0.66197\tvalid-logloss:0.66209\n",
      "[100]\ttrain-logloss:0.23594\tvalid-logloss:0.24067\n",
      "[200]\ttrain-logloss:0.22154\tvalid-logloss:0.22867\n",
      "[300]\ttrain-logloss:0.21555\tvalid-logloss:0.22502\n",
      "[400]\ttrain-logloss:0.21145\tvalid-logloss:0.22315\n",
      "[500]\ttrain-logloss:0.20823\tvalid-logloss:0.22207\n",
      "[600]\ttrain-logloss:0.20547\tvalid-logloss:0.22136\n",
      "[700]\ttrain-logloss:0.20297\tvalid-logloss:0.22087\n",
      "[800]\ttrain-logloss:0.20060\tvalid-logloss:0.22056\n",
      "[900]\ttrain-logloss:0.19841\tvalid-logloss:0.22029\n",
      "[1000]\ttrain-logloss:0.19621\tvalid-logloss:0.22015\n",
      "[1100]\ttrain-logloss:0.19419\tvalid-logloss:0.21998\n",
      "[1200]\ttrain-logloss:0.19218\tvalid-logloss:0.21986\n",
      "[1300]\ttrain-logloss:0.19023\tvalid-logloss:0.21974\n",
      "[1400]\ttrain-logloss:0.18836\tvalid-logloss:0.21968\n",
      "[1500]\ttrain-logloss:0.18651\tvalid-logloss:0.21957\n",
      "[1600]\ttrain-logloss:0.18474\tvalid-logloss:0.21952\n",
      "[1700]\ttrain-logloss:0.18290\tvalid-logloss:0.21953\n",
      "[1719]\ttrain-logloss:0.18256\tvalid-logloss:0.21950\n",
      "Kaggle Metric = 0.7868794014767713 \n",
      "\n",
      "#########################\n",
      "### Fold 5\n",
      "### Train size 367131 Valid size 91782\n",
      "### Training with 100% fold data...\n",
      "#########################\n",
      "[0]\ttrain-logloss:0.66202\tvalid-logloss:0.66196\n",
      "[100]\ttrain-logloss:0.23693\tvalid-logloss:0.23754\n",
      "[200]\ttrain-logloss:0.22261\tvalid-logloss:0.22528\n",
      "[300]\ttrain-logloss:0.21657\tvalid-logloss:0.22137\n",
      "[400]\ttrain-logloss:0.21260\tvalid-logloss:0.21938\n",
      "[500]\ttrain-logloss:0.20938\tvalid-logloss:0.21817\n",
      "[600]\ttrain-logloss:0.20665\tvalid-logloss:0.21739\n",
      "[700]\ttrain-logloss:0.20415\tvalid-logloss:0.21693\n",
      "[800]\ttrain-logloss:0.20174\tvalid-logloss:0.21650\n",
      "[900]\ttrain-logloss:0.19948\tvalid-logloss:0.21624\n",
      "[1000]\ttrain-logloss:0.19737\tvalid-logloss:0.21603\n",
      "[1100]\ttrain-logloss:0.19539\tvalid-logloss:0.21587\n",
      "[1200]\ttrain-logloss:0.19338\tvalid-logloss:0.21573\n",
      "[1300]\ttrain-logloss:0.19144\tvalid-logloss:0.21561\n",
      "[1400]\ttrain-logloss:0.18959\tvalid-logloss:0.21559\n",
      "[1500]\ttrain-logloss:0.18774\tvalid-logloss:0.21549\n",
      "[1600]\ttrain-logloss:0.18590\tvalid-logloss:0.21540\n",
      "[1700]\ttrain-logloss:0.18417\tvalid-logloss:0.21535\n",
      "[1800]\ttrain-logloss:0.18241\tvalid-logloss:0.21531\n",
      "[1900]\ttrain-logloss:0.18069\tvalid-logloss:0.21531\n",
      "[1974]\ttrain-logloss:0.17945\tvalid-logloss:0.21531\n",
      "Kaggle Metric = 0.7952126175710592 \n",
      "\n",
      "#########################\n",
      "OVERALL CV Kaggle Metric = 0.7915114265258776\n"
     ]
    }
   ],
   "source": [
    "importances = []\n",
    "oof = []\n",
    "train = train.to_pandas() # free GPU memory\n",
    "TRAIN_SUBSAMPLE = 1.0\n",
    "gc.collect()\n",
    "\n",
    "skf = KFold(n_splits=FOLDS, shuffle=True, random_state=SEED)\n",
    "for fold,(train_idx, valid_idx) in enumerate(skf.split(\n",
    "            train, train.target )):\n",
    "    \n",
    "    # TRAIN WITH SUBSAMPLE OF TRAIN FOLD DATA\n",
    "    if TRAIN_SUBSAMPLE<1.0:\n",
    "        np.random.seed(SEED)\n",
    "        train_idx = np.random.choice(train_idx, \n",
    "                       int(len(train_idx)*TRAIN_SUBSAMPLE), replace=False)\n",
    "        np.random.seed(None)\n",
    "    \n",
    "    print('#'*25)\n",
    "    print('### Fold',fold+1)\n",
    "    print('### Train size',len(train_idx),'Valid size',len(valid_idx))\n",
    "    print(f'### Training with {int(TRAIN_SUBSAMPLE*100)}% fold data...')\n",
    "    print('#'*25)\n",
    "    \n",
    "    # TRAIN, VALID, TEST FOR FOLD K\n",
    "    Xy_train = IterLoadForDMatrix(train.loc[train_idx], FEATURES, 'target')\n",
    "    X_valid = train.loc[valid_idx, FEATURES]\n",
    "    y_valid = train.loc[valid_idx, 'target']\n",
    "    \n",
    "    dtrain = xgb.DeviceQuantileDMatrix(Xy_train, max_bin=256)\n",
    "    dvalid = xgb.DMatrix(data=X_valid, label=y_valid)\n",
    "    \n",
    "    # TRAIN MODEL FOLD K\n",
    "    model = xgb.train(xgb_parms, \n",
    "                dtrain=dtrain,\n",
    "                evals=[(dtrain,'train'),(dvalid,'valid')],\n",
    "                num_boost_round=9999,\n",
    "                early_stopping_rounds=100,\n",
    "                verbose_eval=100) \n",
    "    model.save_model(f'XGB_v{VER}_fold{fold}.xgb')\n",
    "    \n",
    "    # GET FEATURE IMPORTANCE FOR FOLD K\n",
    "    dd = model.get_score(importance_type='weight')\n",
    "    df = pd.DataFrame({'feature':dd.keys(),f'importance_{fold}':dd.values()})\n",
    "    importances.append(df)\n",
    "            \n",
    "    # INFER OOF FOLD K\n",
    "    oof_preds = model.predict(dvalid)\n",
    "    acc = amex_metric_mod(y_valid.values, oof_preds)\n",
    "    print('Kaggle Metric =',acc,'\\n')\n",
    "    \n",
    "    # SAVE OOF\n",
    "    df = train.loc[valid_idx, ['customer_ID','target'] ].copy()\n",
    "    df['oof_pred'] = oof_preds\n",
    "    oof.append( df )\n",
    "    \n",
    "    del dtrain, Xy_train, dd, df\n",
    "    del X_valid, y_valid, dvalid, model\n",
    "    _ = gc.collect()\n",
    "    \n",
    "print('#'*25)\n",
    "oof = pd.concat(oof,axis=0,ignore_index=True).set_index('customer_ID')\n",
    "acc = amex_metric_mod(oof.target.values, oof.oof_pred.values)\n",
    "print('OVERALL CV Kaggle Metric =',acc)"
   ]
  },
  {
   "cell_type": "code",
   "execution_count": 11,
   "id": "e3cc5eac",
   "metadata": {
    "execution": {
     "iopub.execute_input": "2022-07-13T15:37:53.989310Z",
     "iopub.status.busy": "2022-07-13T15:37:53.988572Z",
     "iopub.status.idle": "2022-07-13T15:37:54.188581Z",
     "shell.execute_reply": "2022-07-13T15:37:54.187632Z"
    },
    "papermill": {
     "duration": 0.222201,
     "end_time": "2022-07-13T15:37:54.191130",
     "exception": false,
     "start_time": "2022-07-13T15:37:53.968929",
     "status": "completed"
    },
    "tags": []
   },
   "outputs": [],
   "source": [
    "# CLEAN RAM\n",
    "del train\n",
    "_ = gc.collect()"
   ]
  },
  {
   "cell_type": "markdown",
   "id": "e9417abc",
   "metadata": {
    "papermill": {
     "duration": 0.021159,
     "end_time": "2022-07-13T15:37:54.234382",
     "exception": false,
     "start_time": "2022-07-13T15:37:54.213223",
     "status": "completed"
    },
    "tags": []
   },
   "source": [
    "# Save OOF Preds"
   ]
  },
  {
   "cell_type": "code",
   "execution_count": 12,
   "id": "31db1a70",
   "metadata": {
    "execution": {
     "iopub.execute_input": "2022-07-13T15:37:54.279474Z",
     "iopub.status.busy": "2022-07-13T15:37:54.278922Z",
     "iopub.status.idle": "2022-07-13T15:37:59.309112Z",
     "shell.execute_reply": "2022-07-13T15:37:59.308204Z"
    },
    "papermill": {
     "duration": 5.05558,
     "end_time": "2022-07-13T15:37:59.311761",
     "exception": false,
     "start_time": "2022-07-13T15:37:54.256181",
     "status": "completed"
    },
    "tags": []
   },
   "outputs": [
    {
     "data": {
      "text/html": [
       "<div>\n",
       "<style scoped>\n",
       "    .dataframe tbody tr th:only-of-type {\n",
       "        vertical-align: middle;\n",
       "    }\n",
       "\n",
       "    .dataframe tbody tr th {\n",
       "        vertical-align: top;\n",
       "    }\n",
       "\n",
       "    .dataframe thead th {\n",
       "        text-align: right;\n",
       "    }\n",
       "</style>\n",
       "<table border=\"1\" class=\"dataframe\">\n",
       "  <thead>\n",
       "    <tr style=\"text-align: right;\">\n",
       "      <th></th>\n",
       "      <th>customer_ID</th>\n",
       "      <th>target</th>\n",
       "      <th>oof_pred</th>\n",
       "    </tr>\n",
       "  </thead>\n",
       "  <tbody>\n",
       "    <tr>\n",
       "      <th>0</th>\n",
       "      <td>20eac26171c3d251c55fc78204e59fab1c15fc2bc96d0c...</td>\n",
       "      <td>1</td>\n",
       "      <td>0.650088</td>\n",
       "    </tr>\n",
       "    <tr>\n",
       "      <th>1</th>\n",
       "      <td>aea50fdf9b974ccec95fa177c3225a0f913483b457de6e...</td>\n",
       "      <td>0</td>\n",
       "      <td>0.000264</td>\n",
       "    </tr>\n",
       "    <tr>\n",
       "      <th>2</th>\n",
       "      <td>32cd2d41aef737b69089882754395925c96eaee1f4a859...</td>\n",
       "      <td>0</td>\n",
       "      <td>0.003809</td>\n",
       "    </tr>\n",
       "    <tr>\n",
       "      <th>3</th>\n",
       "      <td>8daa6d5dc2655a8a437531e6b8b96829113cdfe9bf6cae...</td>\n",
       "      <td>0</td>\n",
       "      <td>0.014353</td>\n",
       "    </tr>\n",
       "    <tr>\n",
       "      <th>4</th>\n",
       "      <td>0ceba351a3851202542feb49d7385bcef32f6037fc57c7...</td>\n",
       "      <td>1</td>\n",
       "      <td>0.819389</td>\n",
       "    </tr>\n",
       "  </tbody>\n",
       "</table>\n",
       "</div>"
      ],
      "text/plain": [
       "                                         customer_ID  target  oof_pred\n",
       "0  20eac26171c3d251c55fc78204e59fab1c15fc2bc96d0c...       1  0.650088\n",
       "1  aea50fdf9b974ccec95fa177c3225a0f913483b457de6e...       0  0.000264\n",
       "2  32cd2d41aef737b69089882754395925c96eaee1f4a859...       0  0.003809\n",
       "3  8daa6d5dc2655a8a437531e6b8b96829113cdfe9bf6cae...       0  0.014353\n",
       "4  0ceba351a3851202542feb49d7385bcef32f6037fc57c7...       1  0.819389"
      ]
     },
     "execution_count": 12,
     "metadata": {},
     "output_type": "execute_result"
    }
   ],
   "source": [
    "oof_xgb = pd.read_parquet(TRAIN_PATH, columns=['customer_ID']).drop_duplicates()\n",
    "oof_xgb['customer_ID_hash'] = oof_xgb['customer_ID'].apply(lambda x: int(x[-16:],16) ).astype('int64')\n",
    "oof_xgb = oof_xgb.set_index('customer_ID_hash')\n",
    "oof_xgb = oof_xgb.merge(oof, left_index=True, right_index=True)\n",
    "oof_xgb = oof_xgb.sort_index().reset_index(drop=True)\n",
    "oof_xgb.to_csv(f'oof_xgb_v{VER}.csv',index=False)\n",
    "oof_xgb.head()"
   ]
  },
  {
   "cell_type": "code",
   "execution_count": 13,
   "id": "1facfeba",
   "metadata": {
    "execution": {
     "iopub.execute_input": "2022-07-13T15:37:59.341795Z",
     "iopub.status.busy": "2022-07-13T15:37:59.341485Z",
     "iopub.status.idle": "2022-07-13T15:37:59.714226Z",
     "shell.execute_reply": "2022-07-13T15:37:59.713273Z"
    },
    "papermill": {
     "duration": 0.389145,
     "end_time": "2022-07-13T15:37:59.716108",
     "exception": false,
     "start_time": "2022-07-13T15:37:59.326963",
     "status": "completed"
    },
    "tags": []
   },
   "outputs": [
    {
     "data": {
      "image/png": "[encoded data removed]",
      "text/plain": [
       "<Figure size 432x288 with 1 Axes>"
      ]
     },
     "metadata": {
      "needs_background": "light"
     },
     "output_type": "display_data"
    }
   ],
   "source": [
    "# PLOT OOF PREDICTIONS\n",
    "plt.hist(oof_xgb.oof_pred.values, bins=100)\n",
    "plt.title('OOF Predictions')\n",
    "plt.show()"
   ]
  },
  {
   "cell_type": "code",
   "execution_count": 14,
   "id": "6b7edf26",
   "metadata": {
    "execution": {
     "iopub.execute_input": "2022-07-13T15:37:59.745139Z",
     "iopub.status.busy": "2022-07-13T15:37:59.744830Z",
     "iopub.status.idle": "2022-07-13T15:37:59.890895Z",
     "shell.execute_reply": "2022-07-13T15:37:59.890011Z"
    },
    "papermill": {
     "duration": 0.162642,
     "end_time": "2022-07-13T15:37:59.892788",
     "exception": false,
     "start_time": "2022-07-13T15:37:59.730146",
     "status": "completed"
    },
    "tags": []
   },
   "outputs": [],
   "source": [
    "# CLEAR VRAM, RAM FOR INFERENCE BELOW\n",
    "del oof_xgb, oof\n",
    "_ = gc.collect()"
   ]
  },
  {
   "cell_type": "markdown",
   "id": "3f4532cf",
   "metadata": {
    "papermill": {
     "duration": 0.013727,
     "end_time": "2022-07-13T15:37:59.920389",
     "exception": false,
     "start_time": "2022-07-13T15:37:59.906662",
     "status": "completed"
    },
    "tags": []
   },
   "source": [
    "# Feature Importance"
   ]
  },
  {
   "cell_type": "code",
   "execution_count": 15,
   "id": "d4268ee6",
   "metadata": {
    "execution": {
     "iopub.execute_input": "2022-07-13T15:37:59.949465Z",
     "iopub.status.busy": "2022-07-13T15:37:59.948578Z",
     "iopub.status.idle": "2022-07-13T15:37:59.977940Z",
     "shell.execute_reply": "2022-07-13T15:37:59.977123Z"
    },
    "papermill": {
     "duration": 0.045849,
     "end_time": "2022-07-13T15:37:59.980038",
     "exception": false,
     "start_time": "2022-07-13T15:37:59.934189",
     "status": "completed"
    },
    "tags": []
   },
   "outputs": [],
   "source": [
    "import matplotlib.pyplot as plt\n",
    "\n",
    "df = importances[0].copy()\n",
    "for k in range(1,FOLDS): df = df.merge(importances[k], on='feature', how='left')\n",
    "df['importance'] = df.iloc[:,1:].mean(axis=1)\n",
    "df = df.sort_values('importance',ascending=False)\n",
    "df.to_csv(f'xgb_feature_importance_v{VER}.csv',index=False)"
   ]
  },
  {
   "cell_type": "code",
   "execution_count": 16,
   "id": "db3c1537",
   "metadata": {
    "execution": {
     "iopub.execute_input": "2022-07-13T15:38:00.009000Z",
     "iopub.status.busy": "2022-07-13T15:38:00.008424Z",
     "iopub.status.idle": "2022-07-13T15:38:00.277474Z",
     "shell.execute_reply": "2022-07-13T15:38:00.276643Z"
    },
    "papermill": {
     "duration": 0.285377,
     "end_time": "2022-07-13T15:38:00.279575",
     "exception": false,
     "start_time": "2022-07-13T15:37:59.994198",
     "status": "completed"
    },
    "tags": []
   },
   "outputs": [
    {
     "data": {
      "image/png": "[encoded data removed]",
      "text/plain": [
       "<Figure size 720x720 with 1 Axes>"
      ]
     },
     "metadata": {
      "needs_background": "light"
     },
     "output_type": "display_data"
    }
   ],
   "source": [
    "NUM_FEATURES = 20\n",
    "plt.figure(figsize=(10,5*NUM_FEATURES//10))\n",
    "plt.barh(np.arange(NUM_FEATURES,0,-1), df.importance.values[:NUM_FEATURES])\n",
    "plt.yticks(np.arange(NUM_FEATURES,0,-1), df.feature.values[:NUM_FEATURES])\n",
    "plt.title(f'XGB Feature Importance - Top {NUM_FEATURES}')\n",
    "plt.show()"
   ]
  },
  {
   "cell_type": "markdown",
   "id": "5b6d0a9b",
   "metadata": {
    "papermill": {
     "duration": 0.015712,
     "end_time": "2022-07-13T15:38:00.310366",
     "exception": false,
     "start_time": "2022-07-13T15:38:00.294654",
     "status": "completed"
    },
    "tags": []
   },
   "source": [
    "# Process and Feature Engineer Test Data\n",
    "We will load @raddar Kaggle dataset from [here][1] with discussion [here][2]. Then we will engineer features suggested by @huseyincot in his notebooks [here][1] and [here][4]. We will use [RAPIDS][5] and the GPU to create new features quickly.\n",
    "\n",
    "[1]: https://www.kaggle.com/datasets/raddar/amex-data-integer-dtypes-parquet-format\n",
    "[2]: https://www.kaggle.com/competitions/amex-default-prediction/discussion/328514\n",
    "[3]: https://www.kaggle.com/code/huseyincot/amex-catboost-0-793\n",
    "[4]: https://www.kaggle.com/code/huseyincot/amex-agg-data-how-it-created\n",
    "[5]: https://rapids.ai/"
   ]
  },
  {
   "cell_type": "code",
   "execution_count": 17,
   "id": "8e246142",
   "metadata": {
    "execution": {
     "iopub.execute_input": "2022-07-13T15:38:00.340903Z",
     "iopub.status.busy": "2022-07-13T15:38:00.340529Z",
     "iopub.status.idle": "2022-07-13T15:38:02.971840Z",
     "shell.execute_reply": "2022-07-13T15:38:02.970838Z"
    },
    "papermill": {
     "duration": 2.648819,
     "end_time": "2022-07-13T15:38:02.973638",
     "exception": false,
     "start_time": "2022-07-13T15:38:00.324819",
     "status": "completed"
    },
    "tags": []
   },
   "outputs": [
    {
     "name": "stdout",
     "output_type": "stream",
     "text": [
      "Reading test data...\n",
      "shape of data: (11363762, 2)\n",
      "We will process test data as 4 separate parts.\n",
      "There will be 231155 customers in each part (except the last part).\n",
      "Below are number of rows in each part:\n",
      "[2841209, 2839857, 2842105, 2840591]\n"
     ]
    }
   ],
   "source": [
    "# CALCULATE SIZE OF EACH SEPARATE TEST PART\n",
    "def get_rows(customers, test, NUM_PARTS = 4, verbose = ''):\n",
    "    chunk = len(customers)//NUM_PARTS\n",
    "    if verbose != '':\n",
    "        print(f'We will process {verbose} data as {NUM_PARTS} separate parts.')\n",
    "        print(f'There will be {chunk} customers in each part (except the last part).')\n",
    "        print('Below are number of rows in each part:')\n",
    "    rows = []\n",
    "\n",
    "    for k in range(NUM_PARTS):\n",
    "        if k==NUM_PARTS-1: cc = customers[k*chunk:]\n",
    "        else: cc = customers[k*chunk:(k+1)*chunk]\n",
    "        s = test.loc[test.customer_ID.isin(cc)].shape[0]\n",
    "        rows.append(s)\n",
    "    if verbose != '': print( rows )\n",
    "    return rows,chunk\n",
    "\n",
    "# COMPUTE SIZE OF 4 PARTS FOR TEST DATA\n",
    "NUM_PARTS = 4\n",
    "TEST_PATH = '../input/amex-data-integer-dtypes-parquet-format/test.parquet'\n",
    "\n",
    "print(f'Reading test data...')\n",
    "test = read_file(path = TEST_PATH, usecols = ['customer_ID','S_2'])\n",
    "customers = test[['customer_ID']].drop_duplicates().sort_index().values.flatten()\n",
    "rows,num_cust = get_rows(customers, test[['customer_ID']], NUM_PARTS = NUM_PARTS, verbose = 'test')"
   ]
  },
  {
   "cell_type": "markdown",
   "id": "4851d17a",
   "metadata": {
    "papermill": {
     "duration": 0.014747,
     "end_time": "2022-07-13T15:38:03.003318",
     "exception": false,
     "start_time": "2022-07-13T15:38:02.988571",
     "status": "completed"
    },
    "tags": []
   },
   "source": [
    "# Infer Test"
   ]
  },
  {
   "cell_type": "code",
   "execution_count": 18,
   "id": "fdcad727",
   "metadata": {
    "execution": {
     "iopub.execute_input": "2022-07-13T15:38:03.035151Z",
     "iopub.status.busy": "2022-07-13T15:38:03.034461Z",
     "iopub.status.idle": "2022-07-13T15:40:53.675330Z",
     "shell.execute_reply": "2022-07-13T15:40:53.674472Z"
    },
    "papermill": {
     "duration": 170.659021,
     "end_time": "2022-07-13T15:40:53.677458",
     "exception": false,
     "start_time": "2022-07-13T15:38:03.018437",
     "status": "completed"
    },
    "tags": []
   },
   "outputs": [
    {
     "name": "stdout",
     "output_type": "stream",
     "text": [
      "\n",
      "Reading test data...\n",
      "shape of data: (11363762, 190)\n",
      "=> Test part 1 has shape (2841209, 190)\n",
      "shape after engineering (231155, 914)\n",
      "\n",
      "Reading test data...\n",
      "shape of data: (11363762, 190)\n",
      "=> Test part 2 has shape (2839857, 190)\n",
      "shape after engineering (231155, 914)\n",
      "\n",
      "Reading test data...\n",
      "shape of data: (11363762, 190)\n",
      "=> Test part 3 has shape (2842105, 190)\n",
      "shape after engineering (231155, 914)\n",
      "\n",
      "Reading test data...\n",
      "shape of data: (11363762, 190)\n",
      "=> Test part 4 has shape (2840591, 190)\n",
      "shape after engineering (231156, 914)\n"
     ]
    }
   ],
   "source": [
    "# INFER TEST DATA IN PARTS\n",
    "skip_rows = 0\n",
    "skip_cust = 0\n",
    "test_preds = []\n",
    "\n",
    "for k in range(NUM_PARTS):\n",
    "    \n",
    "    # READ PART OF TEST DATA\n",
    "    print(f'\\nReading test data...')\n",
    "    test = read_file(path = TEST_PATH)\n",
    "    test = test.iloc[skip_rows:skip_rows+rows[k]]\n",
    "    skip_rows += rows[k]\n",
    "    print(f'=> Test part {k+1} has shape', test.shape )\n",
    "    \n",
    "    # PROCESS AND FEATURE ENGINEER PART OF TEST DATA\n",
    "    test = process_and_feature_engineer(test)\n",
    "    if k==NUM_PARTS-1: test = test.loc[customers[skip_cust:]]\n",
    "    else: test = test.loc[customers[skip_cust:skip_cust+num_cust]]\n",
    "    skip_cust += num_cust\n",
    "    \n",
    "    # TEST DATA FOR XGB\n",
    "    X_test = test[FEATURES]\n",
    "    dtest = xgb.DMatrix(data=X_test)\n",
    "    test = test[['P_2_mean']] # reduce memory\n",
    "    del X_test\n",
    "    gc.collect()\n",
    "\n",
    "    # INFER XGB MODELS ON TEST DATA\n",
    "    model = xgb.Booster()\n",
    "    model.load_model(f'XGB_v{VER}_fold0.xgb')\n",
    "    preds = model.predict(dtest)\n",
    "    for f in range(1,FOLDS):\n",
    "        model.load_model(f'XGB_v{VER}_fold{f}.xgb')\n",
    "        preds += model.predict(dtest)\n",
    "    preds /= FOLDS\n",
    "    test_preds.append(preds)\n",
    "\n",
    "    # CLEAN MEMORY\n",
    "    del dtest, model\n",
    "    _ = gc.collect()"
   ]
  },
  {
   "cell_type": "markdown",
   "id": "cf1632f1",
   "metadata": {
    "papermill": {
     "duration": 0.015034,
     "end_time": "2022-07-13T15:40:53.707861",
     "exception": false,
     "start_time": "2022-07-13T15:40:53.692827",
     "status": "completed"
    },
    "tags": []
   },
   "source": [
    "# Create Submission CSV"
   ]
  },
  {
   "cell_type": "code",
   "execution_count": 19,
   "id": "ee52aab0",
   "metadata": {
    "execution": {
     "iopub.execute_input": "2022-07-13T15:40:53.741059Z",
     "iopub.status.busy": "2022-07-13T15:40:53.740195Z",
     "iopub.status.idle": "2022-07-13T15:40:54.935186Z",
     "shell.execute_reply": "2022-07-13T15:40:54.934170Z"
    },
    "papermill": {
     "duration": 1.213925,
     "end_time": "2022-07-13T15:40:54.937143",
     "exception": false,
     "start_time": "2022-07-13T15:40:53.723218",
     "status": "completed"
    },
    "tags": []
   },
   "outputs": [
    {
     "name": "stdout",
     "output_type": "stream",
     "text": [
      "Submission file shape is (924621, 2)\n"
     ]
    },
    {
     "data": {
      "text/html": [
       "<div>\n",
       "<style scoped>\n",
       "    .dataframe tbody tr th:only-of-type {\n",
       "        vertical-align: middle;\n",
       "    }\n",
       "\n",
       "    .dataframe tbody tr th {\n",
       "        vertical-align: top;\n",
       "    }\n",
       "\n",
       "    .dataframe thead th {\n",
       "        text-align: right;\n",
       "    }\n",
       "</style>\n",
       "<table border=\"1\" class=\"dataframe\">\n",
       "  <thead>\n",
       "    <tr style=\"text-align: right;\">\n",
       "      <th></th>\n",
       "      <th>customer_ID</th>\n",
       "      <th>prediction</th>\n",
       "    </tr>\n",
       "  </thead>\n",
       "  <tbody>\n",
       "    <tr>\n",
       "      <th>0</th>\n",
       "      <td>03999d5e3bd61a69504cc6e7025c260c1ed2e5b449dba5...</td>\n",
       "      <td>0.099497</td>\n",
       "    </tr>\n",
       "    <tr>\n",
       "      <th>1</th>\n",
       "      <td>039b4f21aa584fb0c3c7055beabc098af55013f9f25515...</td>\n",
       "      <td>0.003970</td>\n",
       "    </tr>\n",
       "    <tr>\n",
       "      <th>2</th>\n",
       "      <td>039a6aea85575ebd33eec75e5c45bc7973481b81a99b62...</td>\n",
       "      <td>0.085739</td>\n",
       "    </tr>\n",
       "    <tr>\n",
       "      <th>3</th>\n",
       "      <td>039bd96164c6567580b24ba13c2b85b60f4554eb43d55b...</td>\n",
       "      <td>0.327851</td>\n",
       "    </tr>\n",
       "    <tr>\n",
       "      <th>4</th>\n",
       "      <td>0399a5a95461ced4134cd9693712fb012351cca1bde04d...</td>\n",
       "      <td>0.000186</td>\n",
       "    </tr>\n",
       "  </tbody>\n",
       "</table>\n",
       "</div>"
      ],
      "text/plain": [
       "                                         customer_ID  prediction\n",
       "0  03999d5e3bd61a69504cc6e7025c260c1ed2e5b449dba5...    0.099497\n",
       "1  039b4f21aa584fb0c3c7055beabc098af55013f9f25515...    0.003970\n",
       "2  039a6aea85575ebd33eec75e5c45bc7973481b81a99b62...    0.085739\n",
       "3  039bd96164c6567580b24ba13c2b85b60f4554eb43d55b...    0.327851\n",
       "4  0399a5a95461ced4134cd9693712fb012351cca1bde04d...    0.000186"
      ]
     },
     "execution_count": 19,
     "metadata": {},
     "output_type": "execute_result"
    }
   ],
   "source": [
    "# WRITE SUBMISSION FILE\n",
    "test_preds = np.concatenate(test_preds)\n",
    "test = cudf.DataFrame(index=customers,data={'prediction':test_preds})\n",
    "sub = cudf.read_csv('../input/amex-default-prediction/sample_submission.csv')[['customer_ID']]\n",
    "sub['customer_ID_hash'] = sub['customer_ID'].str[-16:].str.hex_to_int().astype('int64')\n",
    "sub = sub.set_index('customer_ID_hash')\n",
    "sub = sub.merge(test[['prediction']], left_index=True, right_index=True, how='left')\n",
    "sub = sub.reset_index(drop=True)\n",
    "\n",
    "# DISPLAY PREDICTIONS\n",
    "sub.to_csv(f'submission_xgb_v{VER}.csv',index=False)\n",
    "print('Submission file shape is', sub.shape )\n",
    "sub.head()"
   ]
  },
  {
   "cell_type": "code",
   "execution_count": 20,
   "id": "6bf9cb88",
   "metadata": {
    "execution": {
     "iopub.execute_input": "2022-07-13T15:40:54.969371Z",
     "iopub.status.busy": "2022-07-13T15:40:54.969051Z",
     "iopub.status.idle": "2022-07-13T15:40:55.722265Z",
     "shell.execute_reply": "2022-07-13T15:40:55.721343Z"
    },
    "papermill": {
     "duration": 0.771199,
     "end_time": "2022-07-13T15:40:55.724193",
     "exception": false,
     "start_time": "2022-07-13T15:40:54.952994",
     "status": "completed"
    },
    "tags": []
   },
   "outputs": [
    {
     "data": {
      "image/png": "[encoded data removed]",
      "text/plain": [
       "<Figure size 432x288 with 1 Axes>"
      ]
     },
     "metadata": {
      "needs_background": "light"
     },
     "output_type": "display_data"
    }
   ],
   "source": [
    "# PLOT PREDICTIONS\n",
    "plt.hist(sub.to_pandas().prediction, bins=100)\n",
    "plt.title('Test Predictions')\n",
    "plt.show()"
   ]
  }
 ],
 "metadata": {
  "kernelspec": {
   "display_name": "Python 3",
   "language": "python",
   "name": "python3"
  },
  "language_info": {
   "codemirror_mode": {
    "name": "ipython",
    "version": 3
   },
   "file_extension": ".py",
   "mimetype": "text/x-python",
   "name": "python",
   "nbconvert_exporter": "python",
   "pygments_lexer": "ipython3",
   "version": "3.7.12"
  },
  "papermill": {
   "default_parameters": {},
   "duration": 808.522449,
   "end_time": "2022-07-13T15:40:57.165049",
   "environment_variables": {},
   "exception": null,
   "input_path": "__notebook__.ipynb",
   "output_path": "__notebook__.ipynb",
   "parameters": {},
   "start_time": "2022-07-13T15:27:28.642600",
   "version": "2.3.4"
  }
 },
 "nbformat": 4,
 "nbformat_minor": 5
}
