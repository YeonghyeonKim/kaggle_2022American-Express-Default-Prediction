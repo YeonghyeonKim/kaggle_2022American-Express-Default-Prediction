{
 "cells": [
  {
   "cell_type": "markdown",
   "id": "34698b0c",
   "metadata": {
    "papermill": {
     "duration": 0.009646,
     "end_time": "2022-08-01T15:26:46.791675",
     "exception": false,
     "start_time": "2022-08-01T15:26:46.782029",
     "status": "completed"
    },
    "tags": []
   },
   "source": [
    "# XGBoost Starter - LB 0.793\n",
    "In this notebook we build and train an XGBoost model using @raddar Kaggle dataset from [here][1] with discussion [here][2]. Then we engineer features suggested by @huseyincot in his notebooks [here][3] and [here][4]. This XGB model achieves CV 0.792 LB 0.793! When training with XGB, we use a special XGB dataloader called `DeviceQuantileDMatrix` which uses a small GPU memory footprint. This allows us to engineer more additional columns and train with more rows of data. Our feature engineering is performed using [RAPIDS][5] on the GPU to create new features quickly.\n",
    "\n",
    "[1]: https://www.kaggle.com/datasets/raddar/amex-data-integer-dtypes-parquet-format\n",
    "[2]: https://www.kaggle.com/competitions/amex-default-prediction/discussion/328514\n",
    "[3]: https://www.kaggle.com/code/huseyincot/amex-catboost-0-793\n",
    "[4]: https://www.kaggle.com/code/huseyincot/amex-agg-data-how-it-created\n",
    "[5]: https://rapids.ai/"
   ]
  },
  {
   "cell_type": "markdown",
   "id": "6111a5c1",
   "metadata": {
    "papermill": {
     "duration": 0.007957,
     "end_time": "2022-08-01T15:26:46.808168",
     "exception": false,
     "start_time": "2022-08-01T15:26:46.800211",
     "status": "completed"
    },
    "tags": []
   },
   "source": [
    "Feature Engineering I done\n",
    "1. Drop B_29, https://www.kaggle.com/code/roberthatch/amex-feature-engg-gpu-or-cpu-process-in-chunks/notebook\n",
    "2. Add each customer count (how long they used) (not normalize)\n",
    "3. Don't fill NaN (with -127)\n",
    "4. remove num_features's min, std\n",
    "5. D_39에 대한 feature 추가 -> CV하락\n",
    "6. B_1과 B_2간의 연관 feature 추가; CV 0.7920\n",
    "7. B_8과 B_9간의 연관 feature 추가; CV 0.7919\n",
    "8. corr가 높은 feature중 제거; CV: 0.7914\n",
    "9. 6+ fillna(method='bfill'); CV: 0.7906 => NaN으로 냅두자\n",
    "10. 마지막 3개월만 이용; 6 + CV: 0.7892; 4 + CV: 0.7886\n",
    "11. 영향도 낮은 features  제거 R_28, D_94, R_2; 10 + CV: 0.7890,4 + CV: 0.7916, 6 + CV: 0.7921\n",
    "<!-- 12. Test시 Fold4 제외; LB에서 체크 예정 -->\n",
    "13. 영향도가 0인 features 제거; 12 + CV: 0.7921 (LB 등록시 12번을 적용할지 말지 선택해야함)  \n",
    "13-2. 영향도 범위를 조금 늘림ㅣ 12 + CV: 0.7923, LB: 0.790, 6 + CV: 0.7923, LB: 0.791 (일단 LB가 떨어지긴 하는데 계속 진행)\n",
    "14. Fold 4;\n",
    "\n",
    "<!-- 9. add nasdaq info simply -->"
   ]
  },
  {
   "cell_type": "markdown",
   "id": "f8c54230",
   "metadata": {
    "papermill": {
     "duration": 0.007827,
     "end_time": "2022-08-01T15:26:46.824101",
     "exception": false,
     "start_time": "2022-08-01T15:26:46.816274",
     "status": "completed"
    },
    "tags": []
   },
   "source": [
    "# Load Libraries"
   ]
  },
  {
   "cell_type": "code",
   "execution_count": 1,
   "id": "3e14aff8",
   "metadata": {
    "execution": {
     "iopub.execute_input": "2022-08-01T15:26:46.842623Z",
     "iopub.status.busy": "2022-08-01T15:26:46.841933Z",
     "iopub.status.idle": "2022-08-01T15:26:51.085034Z",
     "shell.execute_reply": "2022-08-01T15:26:51.082711Z"
    },
    "papermill": {
     "duration": 4.255404,
     "end_time": "2022-08-01T15:26:51.087609",
     "exception": false,
     "start_time": "2022-08-01T15:26:46.832205",
     "status": "completed"
    },
    "tags": []
   },
   "outputs": [
    {
     "name": "stdout",
     "output_type": "stream",
     "text": [
      "RAPIDS version 21.10.01\n"
     ]
    }
   ],
   "source": [
    "# LOAD LIBRARIES\n",
    "import pandas as pd, numpy as np # CPU libraries\n",
    "import cupy, cudf # GPU libraries\n",
    "import matplotlib.pyplot as plt, gc, os\n",
    "\n",
    "print('RAPIDS version',cudf.__version__)"
   ]
  },
  {
   "cell_type": "code",
   "execution_count": 2,
   "id": "ad69d962",
   "metadata": {
    "execution": {
     "iopub.execute_input": "2022-08-01T15:26:51.106151Z",
     "iopub.status.busy": "2022-08-01T15:26:51.105834Z",
     "iopub.status.idle": "2022-08-01T15:26:51.110090Z",
     "shell.execute_reply": "2022-08-01T15:26:51.109332Z"
    },
    "papermill": {
     "duration": 0.015394,
     "end_time": "2022-08-01T15:26:51.112084",
     "exception": false,
     "start_time": "2022-08-01T15:26:51.096690",
     "status": "completed"
    },
    "tags": []
   },
   "outputs": [],
   "source": [
    "# VERSION NAME FOR SAVED MODEL FILES\n",
    "VER = 1\n",
    "\n",
    "# TRAIN RANDOM SEED\n",
    "SEED = 42\n",
    "\n",
    "# FILL NAN VALUE\n",
    "NAN_VALUE = -127 # will fit in int8\n",
    "\n",
    "# FOLDS PER MODEL\n",
    "FOLDS = 4"
   ]
  },
  {
   "cell_type": "markdown",
   "id": "5c726b62",
   "metadata": {
    "papermill": {
     "duration": 0.008113,
     "end_time": "2022-08-01T15:26:51.128279",
     "exception": false,
     "start_time": "2022-08-01T15:26:51.120166",
     "status": "completed"
    },
    "tags": []
   },
   "source": [
    "# Process and Feature Engineer Train Data\n",
    "We will load @raddar Kaggle dataset from [here][1] with discussion [here][2]. Then we will engineer features suggested by @huseyincot in his notebooks [here][3] and [here][4]. We will use [RAPIDS][5] and the GPU to create new features quickly.\n",
    "\n",
    "[1]: https://www.kaggle.com/datasets/raddar/amex-data-integer-dtypes-parquet-format\n",
    "[2]: https://www.kaggle.com/competitions/amex-default-prediction/discussion/328514\n",
    "[3]: https://www.kaggle.com/code/huseyincot/amex-catboost-0-793\n",
    "[4]: https://www.kaggle.com/code/huseyincot/amex-agg-data-how-it-created\n",
    "[5]: https://rapids.ai/"
   ]
  },
  {
   "cell_type": "code",
   "execution_count": 3,
   "id": "f43bba98",
   "metadata": {
    "execution": {
     "iopub.execute_input": "2022-08-01T15:26:51.146079Z",
     "iopub.status.busy": "2022-08-01T15:26:51.145774Z",
     "iopub.status.idle": "2022-08-01T15:27:14.464284Z",
     "shell.execute_reply": "2022-08-01T15:27:14.463484Z"
    },
    "papermill": {
     "duration": 23.329868,
     "end_time": "2022-08-01T15:27:14.466594",
     "exception": false,
     "start_time": "2022-08-01T15:26:51.136726",
     "status": "completed"
    },
    "tags": []
   },
   "outputs": [
    {
     "name": "stdout",
     "output_type": "stream",
     "text": [
      "Reading train data...\n",
      "shape of data: (5531451, 190)\n"
     ]
    }
   ],
   "source": [
    "def read_file(path = '', usecols = None):\n",
    "    # LOAD DATAFRAME\n",
    "    if usecols is not None: df = cudf.read_parquet(path, columns=usecols)\n",
    "    else: df = cudf.read_parquet(path)\n",
    "    # REDUCE DTYPE FOR CUSTOMER AND DATE\n",
    "    df['customer_ID'] = df['customer_ID'].str[-16:].str.hex_to_int().astype('int64')\n",
    "    df.S_2 = cudf.to_datetime( df.S_2 )\n",
    "    # SORT BY CUSTOMER AND DATE (so agg('last') works correctly)\n",
    "    #df = df.sort_values(['customer_ID','S_2'])\n",
    "    #df = df.reset_index(drop=True)\n",
    "    # FILL NAN\n",
    "#     df = df.fillna(NAN_VALUE) \n",
    "    print('shape of data:', df.shape)\n",
    "    \n",
    "    return df\n",
    "\n",
    "print('Reading train data...')\n",
    "TRAIN_PATH = '../input/amex-data-integer-dtypes-parquet-format/train.parquet'\n",
    "train = read_file(path = TRAIN_PATH)"
   ]
  },
  {
   "cell_type": "code",
   "execution_count": 4,
   "id": "3c4ec39d",
   "metadata": {
    "execution": {
     "iopub.execute_input": "2022-08-01T15:27:14.484821Z",
     "iopub.status.busy": "2022-08-01T15:27:14.484330Z",
     "iopub.status.idle": "2022-08-01T15:27:14.816999Z",
     "shell.execute_reply": "2022-08-01T15:27:14.816093Z"
    },
    "papermill": {
     "duration": 0.344688,
     "end_time": "2022-08-01T15:27:14.819851",
     "exception": false,
     "start_time": "2022-08-01T15:27:14.475163",
     "status": "completed"
    },
    "tags": []
   },
   "outputs": [
    {
     "data": {
      "text/html": [
       "<div>\n",
       "<style scoped>\n",
       "    .dataframe tbody tr th:only-of-type {\n",
       "        vertical-align: middle;\n",
       "    }\n",
       "\n",
       "    .dataframe tbody tr th {\n",
       "        vertical-align: top;\n",
       "    }\n",
       "\n",
       "    .dataframe thead th {\n",
       "        text-align: right;\n",
       "    }\n",
       "</style>\n",
       "<table border=\"1\" class=\"dataframe\">\n",
       "  <thead>\n",
       "    <tr style=\"text-align: right;\">\n",
       "      <th></th>\n",
       "      <th>customer_ID</th>\n",
       "      <th>S_2</th>\n",
       "      <th>P_2</th>\n",
       "      <th>D_39</th>\n",
       "      <th>B_1</th>\n",
       "      <th>B_2</th>\n",
       "      <th>R_1</th>\n",
       "      <th>S_3</th>\n",
       "      <th>D_41</th>\n",
       "      <th>B_3</th>\n",
       "      <th>...</th>\n",
       "      <th>D_136</th>\n",
       "      <th>D_137</th>\n",
       "      <th>D_138</th>\n",
       "      <th>D_139</th>\n",
       "      <th>D_140</th>\n",
       "      <th>D_141</th>\n",
       "      <th>D_142</th>\n",
       "      <th>D_143</th>\n",
       "      <th>D_144</th>\n",
       "      <th>D_145</th>\n",
       "    </tr>\n",
       "  </thead>\n",
       "  <tbody>\n",
       "    <tr>\n",
       "      <th>0</th>\n",
       "      <td>-4532153018459703766</td>\n",
       "      <td>2017-03-09</td>\n",
       "      <td>0.938469</td>\n",
       "      <td>0</td>\n",
       "      <td>0.008724</td>\n",
       "      <td>1.006838</td>\n",
       "      <td>0.009228</td>\n",
       "      <td>0.124035</td>\n",
       "      <td>0.0</td>\n",
       "      <td>0.004709</td>\n",
       "      <td>...</td>\n",
       "      <td>-1</td>\n",
       "      <td>-1</td>\n",
       "      <td>-1</td>\n",
       "      <td>0</td>\n",
       "      <td>0</td>\n",
       "      <td>0.0</td>\n",
       "      <td>&lt;NA&gt;</td>\n",
       "      <td>0</td>\n",
       "      <td>0.000610</td>\n",
       "      <td>0</td>\n",
       "    </tr>\n",
       "    <tr>\n",
       "      <th>1</th>\n",
       "      <td>-4532153018459703766</td>\n",
       "      <td>2017-04-07</td>\n",
       "      <td>0.936665</td>\n",
       "      <td>0</td>\n",
       "      <td>0.004923</td>\n",
       "      <td>1.000653</td>\n",
       "      <td>0.006151</td>\n",
       "      <td>0.126750</td>\n",
       "      <td>0.0</td>\n",
       "      <td>0.002714</td>\n",
       "      <td>...</td>\n",
       "      <td>-1</td>\n",
       "      <td>-1</td>\n",
       "      <td>-1</td>\n",
       "      <td>0</td>\n",
       "      <td>0</td>\n",
       "      <td>0.0</td>\n",
       "      <td>&lt;NA&gt;</td>\n",
       "      <td>0</td>\n",
       "      <td>0.005492</td>\n",
       "      <td>0</td>\n",
       "    </tr>\n",
       "    <tr>\n",
       "      <th>2</th>\n",
       "      <td>-4532153018459703766</td>\n",
       "      <td>2017-05-28</td>\n",
       "      <td>0.954180</td>\n",
       "      <td>3</td>\n",
       "      <td>0.021655</td>\n",
       "      <td>1.009672</td>\n",
       "      <td>0.006815</td>\n",
       "      <td>0.123977</td>\n",
       "      <td>0.0</td>\n",
       "      <td>0.009423</td>\n",
       "      <td>...</td>\n",
       "      <td>-1</td>\n",
       "      <td>-1</td>\n",
       "      <td>-1</td>\n",
       "      <td>0</td>\n",
       "      <td>0</td>\n",
       "      <td>0.0</td>\n",
       "      <td>&lt;NA&gt;</td>\n",
       "      <td>0</td>\n",
       "      <td>0.006986</td>\n",
       "      <td>0</td>\n",
       "    </tr>\n",
       "    <tr>\n",
       "      <th>3</th>\n",
       "      <td>-4532153018459703766</td>\n",
       "      <td>2017-06-13</td>\n",
       "      <td>0.960384</td>\n",
       "      <td>0</td>\n",
       "      <td>0.013683</td>\n",
       "      <td>1.002700</td>\n",
       "      <td>0.001373</td>\n",
       "      <td>0.117169</td>\n",
       "      <td>0.0</td>\n",
       "      <td>0.005531</td>\n",
       "      <td>...</td>\n",
       "      <td>-1</td>\n",
       "      <td>-1</td>\n",
       "      <td>-1</td>\n",
       "      <td>0</td>\n",
       "      <td>0</td>\n",
       "      <td>0.0</td>\n",
       "      <td>&lt;NA&gt;</td>\n",
       "      <td>0</td>\n",
       "      <td>0.006527</td>\n",
       "      <td>0</td>\n",
       "    </tr>\n",
       "    <tr>\n",
       "      <th>4</th>\n",
       "      <td>-4532153018459703766</td>\n",
       "      <td>2017-07-16</td>\n",
       "      <td>0.947248</td>\n",
       "      <td>0</td>\n",
       "      <td>0.015193</td>\n",
       "      <td>1.000727</td>\n",
       "      <td>0.007605</td>\n",
       "      <td>0.117325</td>\n",
       "      <td>0.0</td>\n",
       "      <td>0.009312</td>\n",
       "      <td>...</td>\n",
       "      <td>-1</td>\n",
       "      <td>-1</td>\n",
       "      <td>-1</td>\n",
       "      <td>0</td>\n",
       "      <td>0</td>\n",
       "      <td>0.0</td>\n",
       "      <td>&lt;NA&gt;</td>\n",
       "      <td>0</td>\n",
       "      <td>0.008126</td>\n",
       "      <td>0</td>\n",
       "    </tr>\n",
       "  </tbody>\n",
       "</table>\n",
       "<p>5 rows × 190 columns</p>\n",
       "</div>"
      ],
      "text/plain": [
       "           customer_ID        S_2       P_2  D_39       B_1       B_2  \\\n",
       "0 -4532153018459703766 2017-03-09  0.938469     0  0.008724  1.006838   \n",
       "1 -4532153018459703766 2017-04-07  0.936665     0  0.004923  1.000653   \n",
       "2 -4532153018459703766 2017-05-28  0.954180     3  0.021655  1.009672   \n",
       "3 -4532153018459703766 2017-06-13  0.960384     0  0.013683  1.002700   \n",
       "4 -4532153018459703766 2017-07-16  0.947248     0  0.015193  1.000727   \n",
       "\n",
       "        R_1       S_3  D_41       B_3  ... D_136  D_137  D_138  D_139  D_140  \\\n",
       "0  0.009228  0.124035   0.0  0.004709  ...    -1     -1     -1      0      0   \n",
       "1  0.006151  0.126750   0.0  0.002714  ...    -1     -1     -1      0      0   \n",
       "2  0.006815  0.123977   0.0  0.009423  ...    -1     -1     -1      0      0   \n",
       "3  0.001373  0.117169   0.0  0.005531  ...    -1     -1     -1      0      0   \n",
       "4  0.007605  0.117325   0.0  0.009312  ...    -1     -1     -1      0      0   \n",
       "\n",
       "   D_141  D_142 D_143     D_144  D_145  \n",
       "0    0.0   <NA>     0  0.000610      0  \n",
       "1    0.0   <NA>     0  0.005492      0  \n",
       "2    0.0   <NA>     0  0.006986      0  \n",
       "3    0.0   <NA>     0  0.006527      0  \n",
       "4    0.0   <NA>     0  0.008126      0  \n",
       "\n",
       "[5 rows x 190 columns]"
      ]
     },
     "execution_count": 4,
     "metadata": {},
     "output_type": "execute_result"
    }
   ],
   "source": [
    "train.head()"
   ]
  },
  {
   "cell_type": "code",
   "execution_count": 5,
   "id": "82fbccac",
   "metadata": {
    "execution": {
     "iopub.execute_input": "2022-08-01T15:27:14.839146Z",
     "iopub.status.busy": "2022-08-01T15:27:14.838823Z",
     "iopub.status.idle": "2022-08-01T15:27:17.475555Z",
     "shell.execute_reply": "2022-08-01T15:27:17.474684Z"
    },
    "papermill": {
     "duration": 2.648849,
     "end_time": "2022-08-01T15:27:17.477768",
     "exception": false,
     "start_time": "2022-08-01T15:27:14.828919",
     "status": "completed"
    },
    "tags": []
   },
   "outputs": [
    {
     "name": "stdout",
     "output_type": "stream",
     "text": [
      "shape after engineering (458913, 250)\n"
     ]
    }
   ],
   "source": [
    "def process_and_feature_engineer(df):\n",
    "    # FEATURE ENGINEERING FROM \n",
    "    # https://www.kaggle.com/code/huseyincot/amex-agg-data-how-it-created\n",
    "#     9) nasdaq\n",
    "#     nasdaq_path = '../input/nasdaq/nasdaq.csv'\n",
    "#     nasdaq = cudf.read_csv(nasdaq_path, encoding='utf-8-sig')\n",
    "#     nasdaq.rename(columns={'\\ufeffS_2': 'S_2'}, inplace=True)\n",
    "#     nasdaq.drop(['tradingvolume'], inplace=True, axis=1)\n",
    "#     nasdaq.S_2 = cudf.to_datetime(nasdaq.S_2)\n",
    "#     nasdaq[['closing','open', 'high', 'low']] = nasdaq[['closing','open', 'high', 'low']].astype(float)    \n",
    "#     df = df.merge(nasdaq, on='S_2')\n",
    "    \n",
    "#     1) Drop 'B_29'\n",
    "    df.drop(['B_29'], inplace=True, axis=1)\n",
    "#     11) Drop R_28, D_94, R_2\n",
    "    df.drop(['R_28', 'D_94', 'R_2'], inplace=True, axis=1)\n",
    "    \n",
    "#     6) B1, B2에 연관 feature추가\n",
    "    df['B_1_2'] = df['B_1']/(df['B_2']+0.0000001)\n",
    "\n",
    "#     5) D_39에 대한 feature 추가\n",
    "#     df['D_39_div30'] = df['D_39']/30\n",
    "#     10) 마지막 3개월만 이용\n",
    "#     df = cudf.concat([df.groupby('customer_ID').nth(-3), df.groupby('customer_ID').nth(-2), df.groupby('customer_ID').nth(-1)]).reset_index()\n",
    "\n",
    "    \n",
    "    all_cols = [c for c in list(df.columns) if c not in ['customer_ID','S_2']]\n",
    "    cat_features = [\"B_30\",\"B_38\",\"D_114\",\"D_116\",\"D_117\",\"D_120\",\"D_126\",\"D_63\",\"D_64\",\"D_66\",\"D_68\"]\n",
    "    num_features = [col for col in all_cols if col not in cat_features]\n",
    "    \n",
    "#     2) Add customer count\n",
    "    test_count_agg = df.groupby(['customer_ID'])['S_2'].agg(['count'])\n",
    "\n",
    "\n",
    "    test_num_agg = df.groupby(\"customer_ID\")[num_features].agg(['mean', 'max', 'last'])\n",
    "    test_num_agg.columns = ['_'.join(x) for x in test_num_agg.columns]\n",
    "\n",
    "    test_cat_agg = df.groupby(\"customer_ID\")[cat_features].agg(['count', 'last', 'nunique'])\n",
    "    test_cat_agg.columns = ['_'.join(x) for x in test_cat_agg.columns]\n",
    "\n",
    "    df = cudf.concat([test_count_agg,test_num_agg, test_cat_agg], axis=1)\n",
    "#     13) \n",
    "    df.drop(['D_119_last',\n",
    " 'D_79_last',\n",
    " 'B_39_mean',\n",
    " 'B_15_max',\n",
    " 'B_32_mean',\n",
    " 'D_41_mean',\n",
    " 'D_141_max',\n",
    " 'R_27_mean',\n",
    " 'S_9_mean',\n",
    " 'D_70_last',\n",
    " 'B_19_mean',\n",
    " 'D_131_max',\n",
    " 'D_138_last',\n",
    " 'D_111_mean',\n",
    " 'D_134_last',\n",
    " 'D_74_max',\n",
    " 'R_15_mean',\n",
    " 'D_39_mean',\n",
    " 'S_11_max',\n",
    " 'R_7_mean',\n",
    " 'R_9_max',\n",
    " 'R_26_last',\n",
    " 'B_17_mean',\n",
    " 'D_131_last',\n",
    " 'B_30_last',\n",
    " 'B_26_last',\n",
    " 'B_33_last',\n",
    " 'D_61_mean',\n",
    " 'D_125_mean',\n",
    " 'B_38_nunique',\n",
    " 'S_27_last',\n",
    " 'B_36_mean',\n",
    " 'D_144_last',\n",
    " 'D_84_last',\n",
    " 'B_26_mean',\n",
    " 'S_25_mean',\n",
    " 'B_4_mean',\n",
    " 'R_6_mean',\n",
    " 'B_42_max',\n",
    " 'S_6_last',\n",
    " 'D_105_mean',\n",
    " 'D_133_mean',\n",
    " 'R_14_max',\n",
    " 'B_18_max',\n",
    " 'P_3_mean',\n",
    " 'D_126_nunique',\n",
    " 'B_19_last',\n",
    " 'D_96_last',\n",
    " 'S_13_mean',\n",
    " 'S_19_mean',\n",
    " 'R_4_last',\n",
    " 'D_143_mean',\n",
    " 'S_15_last',\n",
    " 'D_145_mean',\n",
    " 'D_86_last',\n",
    " 'D_63_last',\n",
    " 'D_54_last',\n",
    " 'D_106_max',\n",
    " 'D_104_last',\n",
    " 'B_39_last',\n",
    " 'D_69_last',\n",
    " 'P_3_last',\n",
    " 'D_83_max',\n",
    " 'R_7_max',\n",
    " 'B_21_last',\n",
    " 'B_19_max',\n",
    " 'B_41_mean',\n",
    " 'R_26_max',\n",
    " 'S_7_max',\n",
    " 'D_102_mean',\n",
    " 'S_25_last',\n",
    " 'D_78_mean',\n",
    " 'R_16_last',\n",
    " 'B_24_max',\n",
    " 'D_104_max',\n",
    " 'R_12_last',\n",
    " 'D_69_max',\n",
    " 'D_141_last',\n",
    " 'S_18_mean',\n",
    " 'D_142_last',\n",
    " 'R_6_last',\n",
    " 'B_13_mean',\n",
    " 'B_13_last',\n",
    " 'S_19_max',\n",
    " 'D_142_max',\n",
    " 'B_8_mean',\n",
    " 'D_144_mean',\n",
    " 'S_12_max',\n",
    " 'B_27_last',\n",
    " 'D_129_last',\n",
    " 'D_106_mean',\n",
    " 'D_86_mean',\n",
    " 'D_48_mean',\n",
    " 'B_24_last',\n",
    " 'B_27_max',\n",
    " 'D_93_last',\n",
    " 'S_24_mean',\n",
    " 'B_36_last',\n",
    " 'D_58_mean',\n",
    " 'D_141_mean',\n",
    " 'R_27_max',\n",
    " 'S_17_max',\n",
    " 'D_144_max',\n",
    " 'D_124_max',\n",
    " 'R_20_last',\n",
    " 'S_26_last',\n",
    " 'D_72_max',\n",
    " 'D_130_last',\n",
    " 'D_125_max',\n",
    " 'D_114_nunique',\n",
    " 'R_11_max',\n",
    " 'D_44_mean',\n",
    " 'S_17_mean',\n",
    " 'D_65_last',\n",
    " 'D_92_last',\n",
    " 'R_8_mean',\n",
    " 'D_136_mean',\n",
    " 'D_124_mean',\n",
    " 'D_132_last',\n",
    " 'D_79_max',\n",
    " 'D_78_max',\n",
    " 'B_30_count',\n",
    " 'D_66_nunique',\n",
    " 'D_74_last',\n",
    " 'D_91_max',\n",
    " 'S_16_last',\n",
    " 'D_86_max',\n",
    " 'D_110_mean',\n",
    " 'B_32_last',\n",
    " 'D_82_last',\n",
    " 'B_39_max',\n",
    " 'R_22_mean',\n",
    " 'D_142_mean',\n",
    " 'D_124_last',\n",
    " 'D_128_mean',\n",
    " 'D_131_mean',\n",
    " 'D_78_last',\n",
    " 'P_4_last',\n",
    " 'D_73_max',\n",
    " 'D_110_last',\n",
    " 'S_16_max',\n",
    " 'R_15_last',\n",
    " 'D_84_mean',\n",
    " 'D_145_max',\n",
    " 'B_24_mean',\n",
    " 'R_15_max',\n",
    " 'S_19_last',\n",
    " 'D_82_max',\n",
    " 'D_135_mean',\n",
    " 'D_50_mean',\n",
    " 'S_13_max',\n",
    " 'R_16_max',\n",
    " 'R_21_mean',\n",
    " 'D_72_last',\n",
    " 'B_6_mean',\n",
    " 'D_111_max',\n",
    " 'D_137_mean',\n",
    " 'S_13_last',\n",
    " 'D_107_max',\n",
    " 'D_132_mean',\n",
    " 'D_138_max',\n",
    " 'D_130_max',\n",
    " 'D_107_last',\n",
    " 'D_54_max',\n",
    " 'S_6_mean',\n",
    " 'R_14_mean',\n",
    " 'D_88_last',\n",
    " 'D_109_mean',\n",
    " 'R_20_mean',\n",
    " 'D_53_mean',\n",
    " 'D_89_mean',\n",
    " 'D_130_mean',\n",
    " 'S_20_mean',\n",
    " 'D_107_mean',\n",
    " 'R_24_last',\n",
    " 'D_139_mean',\n",
    " 'D_105_last',\n",
    " 'R_5_mean',\n",
    " 'D_138_mean',\n",
    " 'D_117_nunique',\n",
    " 'B_27_mean',\n",
    " 'D_73_mean',\n",
    " 'D_104_mean',\n",
    " 'D_115_max',\n",
    " 'D_136_max',\n",
    " 'B_36_max',\n",
    " 'B_10_max',\n",
    " 'D_126_last',\n",
    " 'D_96_mean',\n",
    " 'R_12_max',\n",
    " 'D_82_mean',\n",
    " 'R_24_mean',\n",
    " 'R_4_mean',\n",
    " 'R_25_mean',\n",
    " 'D_145_last',\n",
    " 'D_116_nunique',\n",
    " 'S_17_last',\n",
    " 'D_63_nunique',\n",
    " 'D_68_nunique',\n",
    " 'R_16_mean',\n",
    " 'D_108_max',\n",
    " 'B_26_max',\n",
    " 'D_73_last',\n",
    " 'B_38_last',\n",
    " 'R_9_last',\n",
    " 'D_108_mean',\n",
    " 'D_135_last',\n",
    " 'D_89_last',\n",
    " 'D_125_last',\n",
    " 'R_10_last',\n",
    " 'D_59_last',\n",
    " 'D_80_mean',\n",
    " 'S_12_last',\n",
    " 'R_14_last',\n",
    " 'D_79_mean',\n",
    " 'D_64_nunique',\n",
    " 'R_23_mean',\n",
    " 'D_81_mean',\n",
    " 'D_118_mean',\n",
    " 'D_84_max',\n",
    " 'D_68_last',\n",
    " 'D_136_last',\n",
    " 'D_116_last',\n",
    " 'R_10_max',\n",
    " 'B_31_last',\n",
    " 'D_75_last',\n",
    " 'R_5_max',\n",
    " 'D_80_max',\n",
    " 'D_134_mean',\n",
    " 'R_25_last',\n",
    " 'B_41_max',\n",
    " 'D_103_mean',\n",
    " 'R_13_mean',\n",
    " 'D_52_mean',\n",
    " 'R_20_max',\n",
    " 'R_13_max',\n",
    " 'B_41_last',\n",
    " 'D_81_max',\n",
    " 'S_20_last',\n",
    " 'R_12_mean',\n",
    " 'D_127_max',\n",
    " 'B_6_max',\n",
    " 'D_54_mean',\n",
    " 'B_31_mean',\n",
    " 'D_135_max',\n",
    " 'R_17_mean',\n",
    " 'S_18_last',\n",
    " 'R_22_last',\n",
    " 'D_114_count',\n",
    " 'B_22_max',\n",
    " 'D_139_last',\n",
    " 'D_89_max',\n",
    " 'R_8_max',\n",
    " 'D_88_mean',\n",
    " 'S_20_max',\n",
    " 'R_19_mean',\n",
    " 'D_88_max',\n",
    " 'R_4_max',\n",
    " 'D_137_max',\n",
    " 'D_126_count',\n",
    " 'D_63_count',\n",
    " 'D_137_last',\n",
    " 'D_64_count',\n",
    " 'D_66_count',\n",
    " 'D_68_count',\n",
    " 'S_6_max',\n",
    " 'D_117_count',\n",
    " 'D_139_max',\n",
    " 'D_120_count',\n",
    " 'D_143_max',\n",
    " 'D_81_last',\n",
    " 'B_38_count',\n",
    " 'D_116_count',\n",
    " 'D_140_max',\n",
    " 'D_143_last',\n",
    " 'D_109_last',\n",
    " 'D_93_max',\n",
    " 'D_93_mean',\n",
    " 'D_92_max',\n",
    " 'R_23_last',\n",
    " 'R_23_max',\n",
    " 'R_22_max',\n",
    " 'B_33_max',\n",
    " 'R_24_max',\n",
    " 'D_109_max',\n",
    " 'D_111_last',\n",
    " 'D_108_last',\n",
    " 'D_103_last',\n",
    " 'D_103_max',\n",
    " 'D_96_max',\n",
    " 'R_25_max',\n",
    " 'R_21_last',\n",
    " 'R_21_max',\n",
    " 'R_17_max',\n",
    " 'D_87_last',\n",
    " 'D_87_max',\n",
    " 'D_87_mean',\n",
    " 'S_18_max',\n",
    " 'R_17_last',\n",
    " 'B_42_mean',\n",
    " 'D_123_last',\n",
    " 'B_32_max',\n",
    " 'R_19_last',\n",
    " 'R_19_max',\n",
    " 'B_31_max',\n",
    " 'D_129_max'], inplace=True, axis=1)\n",
    "    del test_num_agg, test_cat_agg\n",
    "    print('shape after engineering', df.shape )\n",
    "    \n",
    "    return df\n",
    "\n",
    "train = process_and_feature_engineer(train)"
   ]
  },
  {
   "cell_type": "code",
   "execution_count": 6,
   "id": "49b09268",
   "metadata": {
    "execution": {
     "iopub.execute_input": "2022-08-01T15:27:17.497755Z",
     "iopub.status.busy": "2022-08-01T15:27:17.496894Z",
     "iopub.status.idle": "2022-08-01T15:27:18.201499Z",
     "shell.execute_reply": "2022-08-01T15:27:18.200672Z"
    },
    "papermill": {
     "duration": 0.717085,
     "end_time": "2022-08-01T15:27:18.203901",
     "exception": false,
     "start_time": "2022-08-01T15:27:17.486816",
     "status": "completed"
    },
    "tags": []
   },
   "outputs": [
    {
     "name": "stdout",
     "output_type": "stream",
     "text": [
      "There are 250 features!\n"
     ]
    }
   ],
   "source": [
    "# ADD TARGETS\n",
    "targets = cudf.read_csv('../input/amex-default-prediction/train_labels.csv')\n",
    "targets['customer_ID'] = targets['customer_ID'].str[-16:].str.hex_to_int().astype('int64')\n",
    "targets = targets.set_index('customer_ID')\n",
    "train = train.merge(targets, left_index=True, right_index=True, how='left')\n",
    "train.target = train.target.astype('int8')\n",
    "del targets\n",
    "\n",
    "# NEEDED TO MAKE CV DETERMINISTIC (cudf merge above randomly shuffles rows)\n",
    "train = train.sort_index().reset_index()\n",
    "\n",
    "# FEATURES\n",
    "FEATURES = train.columns[1:-1]\n",
    "print(f'There are {len(FEATURES)} features!')"
   ]
  },
  {
   "cell_type": "markdown",
   "id": "addf7809",
   "metadata": {
    "papermill": {
     "duration": 0.008623,
     "end_time": "2022-08-01T15:27:18.221574",
     "exception": false,
     "start_time": "2022-08-01T15:27:18.212951",
     "status": "completed"
    },
    "tags": []
   },
   "source": [
    "# Train XGB\n",
    "We will train using `DeviceQuantileDMatrix`. This has a very small GPU memory footprint."
   ]
  },
  {
   "cell_type": "code",
   "execution_count": 7,
   "id": "8a23354c",
   "metadata": {
    "execution": {
     "iopub.execute_input": "2022-08-01T15:27:18.240563Z",
     "iopub.status.busy": "2022-08-01T15:27:18.240228Z",
     "iopub.status.idle": "2022-08-01T15:27:18.358456Z",
     "shell.execute_reply": "2022-08-01T15:27:18.357642Z"
    },
    "papermill": {
     "duration": 0.130707,
     "end_time": "2022-08-01T15:27:18.361062",
     "exception": false,
     "start_time": "2022-08-01T15:27:18.230355",
     "status": "completed"
    },
    "tags": []
   },
   "outputs": [
    {
     "name": "stdout",
     "output_type": "stream",
     "text": [
      "XGB Version 1.6.1\n"
     ]
    }
   ],
   "source": [
    "# LOAD XGB LIBRARY\n",
    "from sklearn.model_selection import KFold\n",
    "import xgboost as xgb\n",
    "print('XGB Version',xgb.__version__)\n",
    "\n",
    "# XGB MODEL PARAMETERS\n",
    "xgb_parms = { \n",
    "    'max_depth':4, \n",
    "    'learning_rate':0.05, \n",
    "    'subsample':0.8,\n",
    "    'colsample_bytree':0.6, \n",
    "    'eval_metric':'logloss',\n",
    "    'objective':'binary:logistic',\n",
    "    'tree_method':'gpu_hist',\n",
    "    'predictor':'gpu_predictor',\n",
    "    'random_state':SEED\n",
    "}"
   ]
  },
  {
   "cell_type": "code",
   "execution_count": 8,
   "id": "83ef4ce3",
   "metadata": {
    "execution": {
     "iopub.execute_input": "2022-08-01T15:27:18.381292Z",
     "iopub.status.busy": "2022-08-01T15:27:18.380707Z",
     "iopub.status.idle": "2022-08-01T15:27:18.390653Z",
     "shell.execute_reply": "2022-08-01T15:27:18.389738Z"
    },
    "papermill": {
     "duration": 0.022029,
     "end_time": "2022-08-01T15:27:18.392742",
     "exception": false,
     "start_time": "2022-08-01T15:27:18.370713",
     "status": "completed"
    },
    "tags": []
   },
   "outputs": [],
   "source": [
    "# NEEDED WITH DeviceQuantileDMatrix BELOW\n",
    "class IterLoadForDMatrix(xgb.core.DataIter):\n",
    "    def __init__(self, df=None, features=None, target=None, batch_size=256*1024):\n",
    "        self.features = features\n",
    "        self.target = target\n",
    "        self.df = df\n",
    "        self.it = 0 # set iterator to 0\n",
    "        self.batch_size = batch_size\n",
    "        self.batches = int( np.ceil( len(df) / self.batch_size ) )\n",
    "        super().__init__()\n",
    "\n",
    "    def reset(self):\n",
    "        '''Reset the iterator'''\n",
    "        self.it = 0\n",
    "\n",
    "    def next(self, input_data):\n",
    "        '''Yield next batch of data.'''\n",
    "        if self.it == self.batches:\n",
    "            return 0 # Return 0 when there's no more batch.\n",
    "        \n",
    "        a = self.it * self.batch_size\n",
    "        b = min( (self.it + 1) * self.batch_size, len(self.df) )\n",
    "        dt = cudf.DataFrame(self.df.iloc[a:b])\n",
    "        input_data(data=dt[self.features], label=dt[self.target]) #, weight=dt['weight'])\n",
    "        self.it += 1\n",
    "        return 1"
   ]
  },
  {
   "cell_type": "code",
   "execution_count": 9,
   "id": "baab94bf",
   "metadata": {
    "execution": {
     "iopub.execute_input": "2022-08-01T15:27:18.412705Z",
     "iopub.status.busy": "2022-08-01T15:27:18.412290Z",
     "iopub.status.idle": "2022-08-01T15:27:18.423174Z",
     "shell.execute_reply": "2022-08-01T15:27:18.422426Z"
    },
    "papermill": {
     "duration": 0.023205,
     "end_time": "2022-08-01T15:27:18.425121",
     "exception": false,
     "start_time": "2022-08-01T15:27:18.401916",
     "status": "completed"
    },
    "tags": []
   },
   "outputs": [],
   "source": [
    "# https://www.kaggle.com/kyakovlev\n",
    "# https://www.kaggle.com/competitions/amex-default-prediction/discussion/327534\n",
    "def amex_metric_mod(y_true, y_pred):\n",
    "\n",
    "    labels     = np.transpose(np.array([y_true, y_pred]))\n",
    "    labels     = labels[labels[:, 1].argsort()[::-1]]\n",
    "    weights    = np.where(labels[:,0]==0, 20, 1)\n",
    "    cut_vals   = labels[np.cumsum(weights) <= int(0.04 * np.sum(weights))]\n",
    "    top_four   = np.sum(cut_vals[:,0]) / np.sum(labels[:,0])\n",
    "\n",
    "    gini = [0,0]\n",
    "    for i in [1,0]:\n",
    "        labels         = np.transpose(np.array([y_true, y_pred]))\n",
    "        labels         = labels[labels[:, i].argsort()[::-1]]\n",
    "        weight         = np.where(labels[:,0]==0, 20, 1)\n",
    "        weight_random  = np.cumsum(weight / np.sum(weight))\n",
    "        total_pos      = np.sum(labels[:, 0] *  weight)\n",
    "        cum_pos_found  = np.cumsum(labels[:, 0] * weight)\n",
    "        lorentz        = cum_pos_found / total_pos\n",
    "        gini[i]        = np.sum((lorentz - weight_random) * weight)\n",
    "\n",
    "    return 0.5 * (gini[1]/gini[0] + top_four)"
   ]
  },
  {
   "cell_type": "code",
   "execution_count": 10,
   "id": "63b96997",
   "metadata": {
    "execution": {
     "iopub.execute_input": "2022-08-01T15:27:18.444294Z",
     "iopub.status.busy": "2022-08-01T15:27:18.443983Z",
     "iopub.status.idle": "2022-08-01T15:30:11.798827Z",
     "shell.execute_reply": "2022-08-01T15:30:11.797946Z"
    },
    "papermill": {
     "duration": 173.366978,
     "end_time": "2022-08-01T15:30:11.801016",
     "exception": false,
     "start_time": "2022-08-01T15:27:18.434038",
     "status": "completed"
    },
    "scrolled": true,
    "tags": []
   },
   "outputs": [
    {
     "name": "stdout",
     "output_type": "stream",
     "text": [
      "#########################\n",
      "### Fold 1\n",
      "### Train size 344184 Valid size 114729\n",
      "### Training with 100% fold data...\n",
      "#########################\n",
      "[0]\ttrain-logloss:0.66282\tvalid-logloss:0.66282\n",
      "[100]\ttrain-logloss:0.23725\tvalid-logloss:0.23973\n",
      "[200]\ttrain-logloss:0.22277\tvalid-logloss:0.22751\n",
      "[300]\ttrain-logloss:0.21669\tvalid-logloss:0.22333\n",
      "[400]\ttrain-logloss:0.21280\tvalid-logloss:0.22133\n",
      "[500]\ttrain-logloss:0.20975\tvalid-logloss:0.22011\n",
      "[600]\ttrain-logloss:0.20708\tvalid-logloss:0.21937\n",
      "[700]\ttrain-logloss:0.20477\tvalid-logloss:0.21883\n",
      "[800]\ttrain-logloss:0.20258\tvalid-logloss:0.21840\n",
      "[900]\ttrain-logloss:0.20057\tvalid-logloss:0.21815\n",
      "[1000]\ttrain-logloss:0.19865\tvalid-logloss:0.21801\n",
      "[1100]\ttrain-logloss:0.19680\tvalid-logloss:0.21783\n",
      "[1200]\ttrain-logloss:0.19500\tvalid-logloss:0.21772\n",
      "[1300]\ttrain-logloss:0.19322\tvalid-logloss:0.21758\n",
      "[1400]\ttrain-logloss:0.19155\tvalid-logloss:0.21753\n",
      "[1500]\ttrain-logloss:0.18985\tvalid-logloss:0.21742\n",
      "[1600]\ttrain-logloss:0.18819\tvalid-logloss:0.21735\n",
      "[1700]\ttrain-logloss:0.18663\tvalid-logloss:0.21727\n",
      "[1800]\ttrain-logloss:0.18501\tvalid-logloss:0.21726\n",
      "[1900]\ttrain-logloss:0.18350\tvalid-logloss:0.21724\n",
      "[2000]\ttrain-logloss:0.18199\tvalid-logloss:0.21723\n",
      "[2063]\ttrain-logloss:0.18102\tvalid-logloss:0.21723\n",
      "Kaggle Metric = 0.7934542909615159 \n",
      "\n",
      "#########################\n",
      "### Fold 2\n",
      "### Train size 344185 Valid size 114728\n",
      "### Training with 100% fold data...\n",
      "#########################\n",
      "[0]\ttrain-logloss:0.66287\tvalid-logloss:0.66291\n",
      "[100]\ttrain-logloss:0.23728\tvalid-logloss:0.23935\n",
      "[200]\ttrain-logloss:0.22286\tvalid-logloss:0.22698\n",
      "[300]\ttrain-logloss:0.21693\tvalid-logloss:0.22300\n",
      "[400]\ttrain-logloss:0.21299\tvalid-logloss:0.22091\n",
      "[500]\ttrain-logloss:0.20995\tvalid-logloss:0.21984\n",
      "[600]\ttrain-logloss:0.20733\tvalid-logloss:0.21906\n",
      "[700]\ttrain-logloss:0.20498\tvalid-logloss:0.21852\n",
      "[800]\ttrain-logloss:0.20285\tvalid-logloss:0.21813\n",
      "[900]\ttrain-logloss:0.20087\tvalid-logloss:0.21782\n",
      "[1000]\ttrain-logloss:0.19898\tvalid-logloss:0.21763\n",
      "[1100]\ttrain-logloss:0.19713\tvalid-logloss:0.21743\n",
      "[1200]\ttrain-logloss:0.19528\tvalid-logloss:0.21730\n",
      "[1300]\ttrain-logloss:0.19342\tvalid-logloss:0.21712\n",
      "[1400]\ttrain-logloss:0.19175\tvalid-logloss:0.21706\n",
      "[1500]\ttrain-logloss:0.19010\tvalid-logloss:0.21701\n",
      "[1600]\ttrain-logloss:0.18852\tvalid-logloss:0.21697\n",
      "[1700]\ttrain-logloss:0.18690\tvalid-logloss:0.21691\n",
      "[1800]\ttrain-logloss:0.18530\tvalid-logloss:0.21683\n",
      "[1900]\ttrain-logloss:0.18376\tvalid-logloss:0.21676\n",
      "[2000]\ttrain-logloss:0.18225\tvalid-logloss:0.21674\n",
      "[2087]\ttrain-logloss:0.18090\tvalid-logloss:0.21675\n",
      "Kaggle Metric = 0.7925589429364859 \n",
      "\n",
      "#########################\n",
      "### Fold 3\n",
      "### Train size 344185 Valid size 114728\n",
      "### Training with 100% fold data...\n",
      "#########################\n",
      "[0]\ttrain-logloss:0.66280\tvalid-logloss:0.66290\n",
      "[100]\ttrain-logloss:0.23694\tvalid-logloss:0.24104\n",
      "[200]\ttrain-logloss:0.22245\tvalid-logloss:0.22932\n",
      "[300]\ttrain-logloss:0.21632\tvalid-logloss:0.22552\n",
      "[400]\ttrain-logloss:0.21227\tvalid-logloss:0.22356\n",
      "[500]\ttrain-logloss:0.20913\tvalid-logloss:0.22246\n",
      "[600]\ttrain-logloss:0.20649\tvalid-logloss:0.22177\n",
      "[700]\ttrain-logloss:0.20413\tvalid-logloss:0.22134\n",
      "[800]\ttrain-logloss:0.20194\tvalid-logloss:0.22100\n",
      "[900]\ttrain-logloss:0.19991\tvalid-logloss:0.22071\n",
      "[1000]\ttrain-logloss:0.19798\tvalid-logloss:0.22051\n",
      "[1100]\ttrain-logloss:0.19610\tvalid-logloss:0.22033\n",
      "[1200]\ttrain-logloss:0.19430\tvalid-logloss:0.22024\n",
      "[1300]\ttrain-logloss:0.19253\tvalid-logloss:0.22012\n",
      "[1400]\ttrain-logloss:0.19085\tvalid-logloss:0.22006\n",
      "[1500]\ttrain-logloss:0.18920\tvalid-logloss:0.22003\n",
      "[1600]\ttrain-logloss:0.18752\tvalid-logloss:0.21994\n",
      "[1700]\ttrain-logloss:0.18597\tvalid-logloss:0.21990\n",
      "[1800]\ttrain-logloss:0.18442\tvalid-logloss:0.21989\n",
      "[1900]\ttrain-logloss:0.18289\tvalid-logloss:0.21989\n",
      "[1927]\ttrain-logloss:0.18248\tvalid-logloss:0.21989\n",
      "Kaggle Metric = 0.7870424114850075 \n",
      "\n",
      "#########################\n",
      "### Fold 4\n",
      "### Train size 344185 Valid size 114728\n",
      "### Training with 100% fold data...\n",
      "#########################\n",
      "[0]\ttrain-logloss:0.66284\tvalid-logloss:0.66285\n",
      "[100]\ttrain-logloss:0.23771\tvalid-logloss:0.23900\n",
      "[200]\ttrain-logloss:0.22343\tvalid-logloss:0.22665\n",
      "[300]\ttrain-logloss:0.21740\tvalid-logloss:0.22251\n",
      "[400]\ttrain-logloss:0.21338\tvalid-logloss:0.22040\n",
      "[500]\ttrain-logloss:0.21032\tvalid-logloss:0.21924\n",
      "[600]\ttrain-logloss:0.20768\tvalid-logloss:0.21848\n",
      "[700]\ttrain-logloss:0.20532\tvalid-logloss:0.21789\n",
      "[800]\ttrain-logloss:0.20314\tvalid-logloss:0.21743\n",
      "[900]\ttrain-logloss:0.20110\tvalid-logloss:0.21714\n",
      "[1000]\ttrain-logloss:0.19908\tvalid-logloss:0.21692\n",
      "[1100]\ttrain-logloss:0.19716\tvalid-logloss:0.21678\n",
      "[1200]\ttrain-logloss:0.19539\tvalid-logloss:0.21665\n",
      "[1300]\ttrain-logloss:0.19362\tvalid-logloss:0.21648\n",
      "[1400]\ttrain-logloss:0.19192\tvalid-logloss:0.21643\n",
      "[1500]\ttrain-logloss:0.19021\tvalid-logloss:0.21632\n",
      "[1600]\ttrain-logloss:0.18857\tvalid-logloss:0.21629\n",
      "[1700]\ttrain-logloss:0.18695\tvalid-logloss:0.21627\n",
      "[1800]\ttrain-logloss:0.18537\tvalid-logloss:0.21626\n",
      "[1825]\ttrain-logloss:0.18495\tvalid-logloss:0.21626\n",
      "Kaggle Metric = 0.795749514926033 \n",
      "\n",
      "#########################\n",
      "OVERALL CV Kaggle Metric = 0.7920733225011232\n"
     ]
    }
   ],
   "source": [
    "importances = []\n",
    "oof = []\n",
    "train = train.to_pandas() # free GPU memory\n",
    "TRAIN_SUBSAMPLE = 1.0\n",
    "gc.collect()\n",
    "\n",
    "skf = KFold(n_splits=FOLDS, shuffle=True, random_state=SEED)\n",
    "for fold,(train_idx, valid_idx) in enumerate(skf.split(\n",
    "            train, train.target )):\n",
    "    \n",
    "    # TRAIN WITH SUBSAMPLE OF TRAIN FOLD DATA\n",
    "    if TRAIN_SUBSAMPLE<1.0:\n",
    "        np.random.seed(SEED)\n",
    "        train_idx = np.random.choice(train_idx, \n",
    "                       int(len(train_idx)*TRAIN_SUBSAMPLE), replace=False)\n",
    "        np.random.seed(None)\n",
    "    \n",
    "    print('#'*25)\n",
    "    print('### Fold',fold+1)\n",
    "    print('### Train size',len(train_idx),'Valid size',len(valid_idx))\n",
    "    print(f'### Training with {int(TRAIN_SUBSAMPLE*100)}% fold data...')\n",
    "    print('#'*25)\n",
    "    \n",
    "    # TRAIN, VALID, TEST FOR FOLD K\n",
    "    Xy_train = IterLoadForDMatrix(train.loc[train_idx], FEATURES, 'target')\n",
    "    X_valid = train.loc[valid_idx, FEATURES]\n",
    "    y_valid = train.loc[valid_idx, 'target']\n",
    "    \n",
    "    dtrain = xgb.DeviceQuantileDMatrix(Xy_train, max_bin=256)\n",
    "    dvalid = xgb.DMatrix(data=X_valid, label=y_valid)\n",
    "    \n",
    "    # TRAIN MODEL FOLD K\n",
    "    model = xgb.train(xgb_parms, \n",
    "                dtrain=dtrain,\n",
    "                evals=[(dtrain,'train'),(dvalid,'valid')],\n",
    "                num_boost_round=9999,\n",
    "                early_stopping_rounds=100,\n",
    "                verbose_eval=100) \n",
    "    model.save_model(f'XGB_v{VER}_fold{fold}.xgb')\n",
    "    \n",
    "    # GET FEATURE IMPORTANCE FOR FOLD K\n",
    "    dd = model.get_score(importance_type='weight')\n",
    "    df = pd.DataFrame({'feature':dd.keys(),f'importance_{fold}':dd.values()})\n",
    "    importances.append(df)\n",
    "            \n",
    "    # INFER OOF FOLD K\n",
    "    oof_preds = model.predict(dvalid)\n",
    "    acc = amex_metric_mod(y_valid.values, oof_preds)\n",
    "    print('Kaggle Metric =',acc,'\\n')\n",
    "    \n",
    "    # SAVE OOF\n",
    "    df = train.loc[valid_idx, ['customer_ID','target'] ].copy()\n",
    "    df['oof_pred'] = oof_preds\n",
    "    oof.append( df )\n",
    "    \n",
    "    del dtrain, Xy_train, dd, df\n",
    "    del X_valid, y_valid, dvalid, model\n",
    "    _ = gc.collect()\n",
    "    \n",
    "print('#'*25)\n",
    "oof = pd.concat(oof,axis=0,ignore_index=True).set_index('customer_ID')\n",
    "acc = amex_metric_mod(oof.target.values, oof.oof_pred.values)\n",
    "print('OVERALL CV Kaggle Metric =',acc)"
   ]
  },
  {
   "cell_type": "code",
   "execution_count": 11,
   "id": "087e4c5b",
   "metadata": {
    "execution": {
     "iopub.execute_input": "2022-08-01T15:30:11.834090Z",
     "iopub.status.busy": "2022-08-01T15:30:11.833495Z",
     "iopub.status.idle": "2022-08-01T15:30:11.980683Z",
     "shell.execute_reply": "2022-08-01T15:30:11.979768Z"
    },
    "papermill": {
     "duration": 0.165557,
     "end_time": "2022-08-01T15:30:11.982569",
     "exception": false,
     "start_time": "2022-08-01T15:30:11.817012",
     "status": "completed"
    },
    "tags": []
   },
   "outputs": [],
   "source": [
    "# CLEAN RAM\n",
    "del train\n",
    "_ = gc.collect()"
   ]
  },
  {
   "cell_type": "markdown",
   "id": "383c9e68",
   "metadata": {
    "papermill": {
     "duration": 0.015043,
     "end_time": "2022-08-01T15:30:12.013314",
     "exception": false,
     "start_time": "2022-08-01T15:30:11.998271",
     "status": "completed"
    },
    "tags": []
   },
   "source": [
    "# Save OOF Preds"
   ]
  },
  {
   "cell_type": "code",
   "execution_count": 12,
   "id": "fad88132",
   "metadata": {
    "execution": {
     "iopub.execute_input": "2022-08-01T15:30:12.045979Z",
     "iopub.status.busy": "2022-08-01T15:30:12.045196Z",
     "iopub.status.idle": "2022-08-01T15:30:17.314051Z",
     "shell.execute_reply": "2022-08-01T15:30:17.313280Z"
    },
    "papermill": {
     "duration": 5.287384,
     "end_time": "2022-08-01T15:30:17.315936",
     "exception": false,
     "start_time": "2022-08-01T15:30:12.028552",
     "status": "completed"
    },
    "tags": []
   },
   "outputs": [
    {
     "data": {
      "text/html": [
       "<div>\n",
       "<style scoped>\n",
       "    .dataframe tbody tr th:only-of-type {\n",
       "        vertical-align: middle;\n",
       "    }\n",
       "\n",
       "    .dataframe tbody tr th {\n",
       "        vertical-align: top;\n",
       "    }\n",
       "\n",
       "    .dataframe thead th {\n",
       "        text-align: right;\n",
       "    }\n",
       "</style>\n",
       "<table border=\"1\" class=\"dataframe\">\n",
       "  <thead>\n",
       "    <tr style=\"text-align: right;\">\n",
       "      <th></th>\n",
       "      <th>customer_ID</th>\n",
       "      <th>target</th>\n",
       "      <th>oof_pred</th>\n",
       "    </tr>\n",
       "  </thead>\n",
       "  <tbody>\n",
       "    <tr>\n",
       "      <th>0</th>\n",
       "      <td>20eac26171c3d251c55fc78204e59fab1c15fc2bc96d0c...</td>\n",
       "      <td>1</td>\n",
       "      <td>0.692352</td>\n",
       "    </tr>\n",
       "    <tr>\n",
       "      <th>1</th>\n",
       "      <td>aea50fdf9b974ccec95fa177c3225a0f913483b457de6e...</td>\n",
       "      <td>0</td>\n",
       "      <td>0.000240</td>\n",
       "    </tr>\n",
       "    <tr>\n",
       "      <th>2</th>\n",
       "      <td>32cd2d41aef737b69089882754395925c96eaee1f4a859...</td>\n",
       "      <td>0</td>\n",
       "      <td>0.001089</td>\n",
       "    </tr>\n",
       "    <tr>\n",
       "      <th>3</th>\n",
       "      <td>8daa6d5dc2655a8a437531e6b8b96829113cdfe9bf6cae...</td>\n",
       "      <td>0</td>\n",
       "      <td>0.011221</td>\n",
       "    </tr>\n",
       "    <tr>\n",
       "      <th>4</th>\n",
       "      <td>0ceba351a3851202542feb49d7385bcef32f6037fc57c7...</td>\n",
       "      <td>1</td>\n",
       "      <td>0.840306</td>\n",
       "    </tr>\n",
       "  </tbody>\n",
       "</table>\n",
       "</div>"
      ],
      "text/plain": [
       "                                         customer_ID  target  oof_pred\n",
       "0  20eac26171c3d251c55fc78204e59fab1c15fc2bc96d0c...       1  0.692352\n",
       "1  aea50fdf9b974ccec95fa177c3225a0f913483b457de6e...       0  0.000240\n",
       "2  32cd2d41aef737b69089882754395925c96eaee1f4a859...       0  0.001089\n",
       "3  8daa6d5dc2655a8a437531e6b8b96829113cdfe9bf6cae...       0  0.011221\n",
       "4  0ceba351a3851202542feb49d7385bcef32f6037fc57c7...       1  0.840306"
      ]
     },
     "execution_count": 12,
     "metadata": {},
     "output_type": "execute_result"
    }
   ],
   "source": [
    "oof_xgb = pd.read_parquet(TRAIN_PATH, columns=['customer_ID']).drop_duplicates()\n",
    "oof_xgb['customer_ID_hash'] = oof_xgb['customer_ID'].apply(lambda x: int(x[-16:],16) ).astype('int64')\n",
    "oof_xgb = oof_xgb.set_index('customer_ID_hash')\n",
    "oof_xgb = oof_xgb.merge(oof, left_index=True, right_index=True)\n",
    "oof_xgb = oof_xgb.sort_index().reset_index(drop=True)\n",
    "oof_xgb.to_csv(f'oof_xgb_v{VER}.csv',index=False)\n",
    "oof_xgb.head()"
   ]
  },
  {
   "cell_type": "code",
   "execution_count": 13,
   "id": "81f9b321",
   "metadata": {
    "execution": {
     "iopub.execute_input": "2022-08-01T15:30:17.348636Z",
     "iopub.status.busy": "2022-08-01T15:30:17.348286Z",
     "iopub.status.idle": "2022-08-01T15:30:17.718082Z",
     "shell.execute_reply": "2022-08-01T15:30:17.717325Z"
    },
    "papermill": {
     "duration": 0.388332,
     "end_time": "2022-08-01T15:30:17.720057",
     "exception": false,
     "start_time": "2022-08-01T15:30:17.331725",
     "status": "completed"
    },
    "tags": []
   },
   "outputs": [
    {
     "data": {
      "image/png": "[encoded data removed]",
      "text/plain": [
       "<Figure size 432x288 with 1 Axes>"
      ]
     },
     "metadata": {
      "needs_background": "light"
     },
     "output_type": "display_data"
    }
   ],
   "source": [
    "# PLOT OOF PREDICTIONS\n",
    "plt.hist(oof_xgb.oof_pred.values, bins=100)\n",
    "plt.title('OOF Predictions')\n",
    "plt.show()"
   ]
  },
  {
   "cell_type": "code",
   "execution_count": 14,
   "id": "76c275f4",
   "metadata": {
    "execution": {
     "iopub.execute_input": "2022-08-01T15:30:17.753397Z",
     "iopub.status.busy": "2022-08-01T15:30:17.753093Z",
     "iopub.status.idle": "2022-08-01T15:30:17.897702Z",
     "shell.execute_reply": "2022-08-01T15:30:17.896737Z"
    },
    "papermill": {
     "duration": 0.163486,
     "end_time": "2022-08-01T15:30:17.900071",
     "exception": false,
     "start_time": "2022-08-01T15:30:17.736585",
     "status": "completed"
    },
    "tags": []
   },
   "outputs": [],
   "source": [
    "# CLEAR VRAM, RAM FOR INFERENCE BELOW\n",
    "del oof_xgb, oof\n",
    "_ = gc.collect()"
   ]
  },
  {
   "cell_type": "markdown",
   "id": "edd7aeb4",
   "metadata": {
    "papermill": {
     "duration": 0.015521,
     "end_time": "2022-08-01T15:30:17.931832",
     "exception": false,
     "start_time": "2022-08-01T15:30:17.916311",
     "status": "completed"
    },
    "tags": []
   },
   "source": [
    "# Feature Importance"
   ]
  },
  {
   "cell_type": "code",
   "execution_count": 15,
   "id": "39163eb2",
   "metadata": {
    "execution": {
     "iopub.execute_input": "2022-08-01T15:30:17.965325Z",
     "iopub.status.busy": "2022-08-01T15:30:17.964967Z",
     "iopub.status.idle": "2022-08-01T15:30:17.987658Z",
     "shell.execute_reply": "2022-08-01T15:30:17.986874Z"
    },
    "papermill": {
     "duration": 0.041737,
     "end_time": "2022-08-01T15:30:17.989862",
     "exception": false,
     "start_time": "2022-08-01T15:30:17.948125",
     "status": "completed"
    },
    "tags": []
   },
   "outputs": [],
   "source": [
    "import matplotlib.pyplot as plt\n",
    "\n",
    "df = importances[0].copy()\n",
    "for k in range(1,FOLDS): df = df.merge(importances[k], on='feature', how='left')\n",
    "df['importance'] = df.iloc[:,1:].mean(axis=1)\n",
    "df = df.sort_values('importance',ascending=False)\n",
    "df.to_csv(f'xgb_feature_importance_v{VER}.csv',index=False)"
   ]
  },
  {
   "cell_type": "code",
   "execution_count": 16,
   "id": "fa7d1ca7",
   "metadata": {
    "execution": {
     "iopub.execute_input": "2022-08-01T15:30:18.024206Z",
     "iopub.status.busy": "2022-08-01T15:30:18.023466Z",
     "iopub.status.idle": "2022-08-01T15:30:18.295778Z",
     "shell.execute_reply": "2022-08-01T15:30:18.294961Z"
    },
    "papermill": {
     "duration": 0.291698,
     "end_time": "2022-08-01T15:30:18.297826",
     "exception": false,
     "start_time": "2022-08-01T15:30:18.006128",
     "status": "completed"
    },
    "tags": []
   },
   "outputs": [
    {
     "data": {
      "image/png": "[encoded data removed]",
      "text/plain": [
       "<Figure size 720x720 with 1 Axes>"
      ]
     },
     "metadata": {
      "needs_background": "light"
     },
     "output_type": "display_data"
    }
   ],
   "source": [
    "NUM_FEATURES = 20\n",
    "plt.figure(figsize=(10,5*NUM_FEATURES//10))\n",
    "plt.barh(np.arange(NUM_FEATURES,0,-1), df.importance.values[:NUM_FEATURES])\n",
    "plt.yticks(np.arange(NUM_FEATURES,0,-1), df.feature.values[:NUM_FEATURES])\n",
    "plt.title(f'XGB Feature Importance - Top {NUM_FEATURES}')\n",
    "plt.show()"
   ]
  },
  {
   "cell_type": "markdown",
   "id": "e5b55d15",
   "metadata": {
    "papermill": {
     "duration": 0.016035,
     "end_time": "2022-08-01T15:30:18.330320",
     "exception": false,
     "start_time": "2022-08-01T15:30:18.314285",
     "status": "completed"
    },
    "tags": []
   },
   "source": [
    "# Process and Feature Engineer Test Data\n",
    "We will load @raddar Kaggle dataset from [here][1] with discussion [here][2]. Then we will engineer features suggested by @huseyincot in his notebooks [here][1] and [here][4]. We will use [RAPIDS][5] and the GPU to create new features quickly.\n",
    "\n",
    "[1]: https://www.kaggle.com/datasets/raddar/amex-data-integer-dtypes-parquet-format\n",
    "[2]: https://www.kaggle.com/competitions/amex-default-prediction/discussion/328514\n",
    "[3]: https://www.kaggle.com/code/huseyincot/amex-catboost-0-793\n",
    "[4]: https://www.kaggle.com/code/huseyincot/amex-agg-data-how-it-created\n",
    "[5]: https://rapids.ai/"
   ]
  },
  {
   "cell_type": "code",
   "execution_count": 17,
   "id": "3b6e7ead",
   "metadata": {
    "execution": {
     "iopub.execute_input": "2022-08-01T15:30:18.363608Z",
     "iopub.status.busy": "2022-08-01T15:30:18.363269Z",
     "iopub.status.idle": "2022-08-01T15:30:20.814664Z",
     "shell.execute_reply": "2022-08-01T15:30:20.813672Z"
    },
    "papermill": {
     "duration": 2.471191,
     "end_time": "2022-08-01T15:30:20.817517",
     "exception": false,
     "start_time": "2022-08-01T15:30:18.346326",
     "status": "completed"
    },
    "tags": []
   },
   "outputs": [
    {
     "name": "stdout",
     "output_type": "stream",
     "text": [
      "Reading test data...\n",
      "shape of data: (11363762, 2)\n",
      "We will process test data as 4 separate parts.\n",
      "There will be 231155 customers in each part (except the last part).\n",
      "Below are number of rows in each part:\n",
      "[2841209, 2839857, 2842105, 2840591]\n"
     ]
    }
   ],
   "source": [
    "# CALCULATE SIZE OF EACH SEPARATE TEST PART\n",
    "def get_rows(customers, test, NUM_PARTS = 4, verbose = ''):\n",
    "    chunk = len(customers)//NUM_PARTS\n",
    "    if verbose != '':\n",
    "        print(f'We will process {verbose} data as {NUM_PARTS} separate parts.')\n",
    "        print(f'There will be {chunk} customers in each part (except the last part).')\n",
    "        print('Below are number of rows in each part:')\n",
    "    rows = []\n",
    "\n",
    "    for k in range(NUM_PARTS):\n",
    "        if k==NUM_PARTS-1: cc = customers[k*chunk:]\n",
    "        else: cc = customers[k*chunk:(k+1)*chunk]\n",
    "        s = test.loc[test.customer_ID.isin(cc)].shape[0]\n",
    "        rows.append(s)\n",
    "    if verbose != '': print( rows )\n",
    "    return rows,chunk\n",
    "\n",
    "# COMPUTE SIZE OF 4 PARTS FOR TEST DATA\n",
    "NUM_PARTS = 4\n",
    "TEST_PATH = '../input/amex-data-integer-dtypes-parquet-format/test.parquet'\n",
    "\n",
    "print(f'Reading test data...')\n",
    "test = read_file(path = TEST_PATH, usecols = ['customer_ID','S_2'])\n",
    "customers = test[['customer_ID']].drop_duplicates().sort_index().values.flatten()\n",
    "rows,num_cust = get_rows(customers, test[['customer_ID']], NUM_PARTS = NUM_PARTS, verbose = 'test')"
   ]
  },
  {
   "cell_type": "markdown",
   "id": "7ac9c0da",
   "metadata": {
    "papermill": {
     "duration": 0.016523,
     "end_time": "2022-08-01T15:30:20.851949",
     "exception": false,
     "start_time": "2022-08-01T15:30:20.835426",
     "status": "completed"
    },
    "tags": []
   },
   "source": [
    "# Infer Test"
   ]
  },
  {
   "cell_type": "code",
   "execution_count": 18,
   "id": "01b4e326",
   "metadata": {
    "execution": {
     "iopub.execute_input": "2022-08-01T15:30:20.886533Z",
     "iopub.status.busy": "2022-08-01T15:30:20.886153Z",
     "iopub.status.idle": "2022-08-01T15:32:46.469668Z",
     "shell.execute_reply": "2022-08-01T15:32:46.468844Z"
    },
    "papermill": {
     "duration": 145.603292,
     "end_time": "2022-08-01T15:32:46.471927",
     "exception": false,
     "start_time": "2022-08-01T15:30:20.868635",
     "status": "completed"
    },
    "tags": []
   },
   "outputs": [
    {
     "name": "stdout",
     "output_type": "stream",
     "text": [
      "\n",
      "Reading test data...\n",
      "shape of data: (11363762, 190)\n",
      "=> Test part 1 has shape (2841209, 190)\n",
      "shape after engineering (231155, 250)\n",
      "\n",
      "Reading test data...\n",
      "shape of data: (11363762, 190)\n",
      "=> Test part 2 has shape (2839857, 190)\n",
      "shape after engineering (231155, 250)\n",
      "\n",
      "Reading test data...\n",
      "shape of data: (11363762, 190)\n",
      "=> Test part 3 has shape (2842105, 190)\n",
      "shape after engineering (231155, 250)\n",
      "\n",
      "Reading test data...\n",
      "shape of data: (11363762, 190)\n",
      "=> Test part 4 has shape (2840591, 190)\n",
      "shape after engineering (231156, 250)\n"
     ]
    }
   ],
   "source": [
    "# INFER TEST DATA IN PARTS\n",
    "skip_rows = 0\n",
    "skip_cust = 0\n",
    "test_preds = []\n",
    "\n",
    "for k in range(NUM_PARTS):\n",
    "    \n",
    "    # READ PART OF TEST DATA\n",
    "    print(f'\\nReading test data...')\n",
    "    test = read_file(path = TEST_PATH)\n",
    "    test = test.iloc[skip_rows:skip_rows+rows[k]]\n",
    "    skip_rows += rows[k]\n",
    "    print(f'=> Test part {k+1} has shape', test.shape )\n",
    "    \n",
    "    # PROCESS AND FEATURE ENGINEER PART OF TEST DATA\n",
    "    test = process_and_feature_engineer(test)\n",
    "    if k==NUM_PARTS-1: test = test.loc[customers[skip_cust:]]\n",
    "    else: test = test.loc[customers[skip_cust:skip_cust+num_cust]]\n",
    "    skip_cust += num_cust\n",
    "    \n",
    "    # TEST DATA FOR XGB\n",
    "    X_test = test[FEATURES]\n",
    "    dtest = xgb.DMatrix(data=X_test)\n",
    "    test = test[['P_2_mean']] # reduce memory\n",
    "    del X_test\n",
    "    gc.collect()\n",
    "\n",
    "    # INFER XGB MODELS ON TEST DATA\n",
    "    model = xgb.Booster()\n",
    "    model.load_model(f'XGB_v{VER}_fold0.xgb')\n",
    "    preds = model.predict(dtest)\n",
    "    for f in range(1,FOLDS):\n",
    "#         11) \n",
    "        model.load_model(f'XGB_v{VER}_fold{f}.xgb')\n",
    "        preds += model.predict(dtest)\n",
    "    preds /= FOLDS\n",
    "    test_preds.append(preds)\n",
    "\n",
    "    # CLEAN MEMORY\n",
    "    del dtest, model\n",
    "    _ = gc.collect()"
   ]
  },
  {
   "cell_type": "markdown",
   "id": "ff0af18c",
   "metadata": {
    "papermill": {
     "duration": 0.017332,
     "end_time": "2022-08-01T15:32:46.507198",
     "exception": false,
     "start_time": "2022-08-01T15:32:46.489866",
     "status": "completed"
    },
    "tags": []
   },
   "source": [
    "# Create Submission CSV"
   ]
  },
  {
   "cell_type": "code",
   "execution_count": 19,
   "id": "44c2eda6",
   "metadata": {
    "execution": {
     "iopub.execute_input": "2022-08-01T15:32:46.543619Z",
     "iopub.status.busy": "2022-08-01T15:32:46.543228Z",
     "iopub.status.idle": "2022-08-01T15:32:47.705630Z",
     "shell.execute_reply": "2022-08-01T15:32:47.704688Z"
    },
    "papermill": {
     "duration": 1.183257,
     "end_time": "2022-08-01T15:32:47.707866",
     "exception": false,
     "start_time": "2022-08-01T15:32:46.524609",
     "status": "completed"
    },
    "tags": []
   },
   "outputs": [
    {
     "name": "stdout",
     "output_type": "stream",
     "text": [
      "Submission file shape is (924621, 2)\n"
     ]
    },
    {
     "data": {
      "text/html": [
       "<div>\n",
       "<style scoped>\n",
       "    .dataframe tbody tr th:only-of-type {\n",
       "        vertical-align: middle;\n",
       "    }\n",
       "\n",
       "    .dataframe tbody tr th {\n",
       "        vertical-align: top;\n",
       "    }\n",
       "\n",
       "    .dataframe thead th {\n",
       "        text-align: right;\n",
       "    }\n",
       "</style>\n",
       "<table border=\"1\" class=\"dataframe\">\n",
       "  <thead>\n",
       "    <tr style=\"text-align: right;\">\n",
       "      <th></th>\n",
       "      <th>customer_ID</th>\n",
       "      <th>prediction</th>\n",
       "    </tr>\n",
       "  </thead>\n",
       "  <tbody>\n",
       "    <tr>\n",
       "      <th>0</th>\n",
       "      <td>03999d5e3bd61a69504cc6e7025c260c1ed2e5b449dba5...</td>\n",
       "      <td>0.096398</td>\n",
       "    </tr>\n",
       "    <tr>\n",
       "      <th>1</th>\n",
       "      <td>039b4f21aa584fb0c3c7055beabc098af55013f9f25515...</td>\n",
       "      <td>0.004650</td>\n",
       "    </tr>\n",
       "    <tr>\n",
       "      <th>2</th>\n",
       "      <td>039a6aea85575ebd33eec75e5c45bc7973481b81a99b62...</td>\n",
       "      <td>0.091860</td>\n",
       "    </tr>\n",
       "    <tr>\n",
       "      <th>3</th>\n",
       "      <td>039bd96164c6567580b24ba13c2b85b60f4554eb43d55b...</td>\n",
       "      <td>0.432438</td>\n",
       "    </tr>\n",
       "    <tr>\n",
       "      <th>4</th>\n",
       "      <td>0399a5a95461ced4134cd9693712fb012351cca1bde04d...</td>\n",
       "      <td>0.000128</td>\n",
       "    </tr>\n",
       "  </tbody>\n",
       "</table>\n",
       "</div>"
      ],
      "text/plain": [
       "                                         customer_ID  prediction\n",
       "0  03999d5e3bd61a69504cc6e7025c260c1ed2e5b449dba5...    0.096398\n",
       "1  039b4f21aa584fb0c3c7055beabc098af55013f9f25515...    0.004650\n",
       "2  039a6aea85575ebd33eec75e5c45bc7973481b81a99b62...    0.091860\n",
       "3  039bd96164c6567580b24ba13c2b85b60f4554eb43d55b...    0.432438\n",
       "4  0399a5a95461ced4134cd9693712fb012351cca1bde04d...    0.000128"
      ]
     },
     "execution_count": 19,
     "metadata": {},
     "output_type": "execute_result"
    }
   ],
   "source": [
    "# WRITE SUBMISSION FILE\n",
    "test_preds = np.concatenate(test_preds)\n",
    "test = cudf.DataFrame(index=customers,data={'prediction':test_preds})\n",
    "sub = cudf.read_csv('../input/amex-default-prediction/sample_submission.csv')[['customer_ID']]\n",
    "sub['customer_ID_hash'] = sub['customer_ID'].str[-16:].str.hex_to_int().astype('int64')\n",
    "sub = sub.set_index('customer_ID_hash')\n",
    "sub = sub.merge(test[['prediction']], left_index=True, right_index=True, how='left')\n",
    "sub = sub.reset_index(drop=True)\n",
    "\n",
    "# DISPLAY PREDICTIONS\n",
    "sub.to_csv(f'submission_xgb_v{VER}.csv',index=False)\n",
    "print('Submission file shape is', sub.shape )\n",
    "sub.head()"
   ]
  },
  {
   "cell_type": "code",
   "execution_count": 20,
   "id": "19790e94",
   "metadata": {
    "execution": {
     "iopub.execute_input": "2022-08-01T15:32:47.779051Z",
     "iopub.status.busy": "2022-08-01T15:32:47.778271Z",
     "iopub.status.idle": "2022-08-01T15:32:48.715924Z",
     "shell.execute_reply": "2022-08-01T15:32:48.715074Z"
    },
    "papermill": {
     "duration": 0.977644,
     "end_time": "2022-08-01T15:32:48.718319",
     "exception": false,
     "start_time": "2022-08-01T15:32:47.740675",
     "status": "completed"
    },
    "tags": []
   },
   "outputs": [
    {
     "data": {
      "image/png": "[encoded data removed]",
      "text/plain": [
       "<Figure size 432x288 with 1 Axes>"
      ]
     },
     "metadata": {
      "needs_background": "light"
     },
     "output_type": "display_data"
    }
   ],
   "source": [
    "# PLOT PREDICTIONS\n",
    "plt.hist(sub.to_pandas().prediction, bins=100)\n",
    "plt.title('Test Predictions')\n",
    "plt.show()"
   ]
  }
 ],
 "metadata": {
  "kernelspec": {
   "display_name": "Python 3",
   "language": "python",
   "name": "python3"
  },
  "language_info": {
   "codemirror_mode": {
    "name": "ipython",
    "version": 3
   },
   "file_extension": ".py",
   "mimetype": "text/x-python",
   "name": "python",
   "nbconvert_exporter": "python",
   "pygments_lexer": "ipython3",
   "version": "3.7.12"
  },
  "papermill": {
   "default_parameters": {},
   "duration": 372.431377,
   "end_time": "2022-08-01T15:32:50.164916",
   "environment_variables": {},
   "exception": null,
   "input_path": "__notebook__.ipynb",
   "output_path": "__notebook__.ipynb",
   "parameters": {},
   "start_time": "2022-08-01T15:26:37.733539",
   "version": "2.3.4"
  }
 },
 "nbformat": 4,
 "nbformat_minor": 5
}
