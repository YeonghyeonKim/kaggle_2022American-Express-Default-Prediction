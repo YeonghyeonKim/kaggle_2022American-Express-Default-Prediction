{
 "cells": [
  {
   "cell_type": "markdown",
   "id": "f4efa1cd",
   "metadata": {
    "papermill": {
     "duration": 0.0092,
     "end_time": "2022-08-01T16:03:36.463616",
     "exception": false,
     "start_time": "2022-08-01T16:03:36.454416",
     "status": "completed"
    },
    "tags": []
   },
   "source": [
    "# XGBoost Starter - LB 0.793\n",
    "In this notebook we build and train an XGBoost model using @raddar Kaggle dataset from [here][1] with discussion [here][2]. Then we engineer features suggested by @huseyincot in his notebooks [here][3] and [here][4]. This XGB model achieves CV 0.792 LB 0.793! When training with XGB, we use a special XGB dataloader called `DeviceQuantileDMatrix` which uses a small GPU memory footprint. This allows us to engineer more additional columns and train with more rows of data. Our feature engineering is performed using [RAPIDS][5] on the GPU to create new features quickly.\n",
    "\n",
    "[1]: https://www.kaggle.com/datasets/raddar/amex-data-integer-dtypes-parquet-format\n",
    "[2]: https://www.kaggle.com/competitions/amex-default-prediction/discussion/328514\n",
    "[3]: https://www.kaggle.com/code/huseyincot/amex-catboost-0-793\n",
    "[4]: https://www.kaggle.com/code/huseyincot/amex-agg-data-how-it-created\n",
    "[5]: https://rapids.ai/"
   ]
  },
  {
   "cell_type": "markdown",
   "id": "60335ad1",
   "metadata": {
    "papermill": {
     "duration": 0.007769,
     "end_time": "2022-08-01T16:03:36.479804",
     "exception": false,
     "start_time": "2022-08-01T16:03:36.472035",
     "status": "completed"
    },
    "tags": []
   },
   "source": [
    "Feature Engineering I done\n",
    "1. Drop B_29, https://www.kaggle.com/code/roberthatch/amex-feature-engg-gpu-or-cpu-process-in-chunks/notebook\n",
    "2. Add each customer count (how long they used) (not normalize)\n",
    "3. Don't fill NaN (with -127)\n",
    "4. remove num_features's min, std\n",
    "5. D_39에 대한 feature 추가 -> CV하락\n",
    "6. B_1과 B_2간의 연관 feature 추가; CV 0.7920\n",
    "7. B_8과 B_9간의 연관 feature 추가; CV 0.7919\n",
    "8. corr가 높은 feature중 제거; CV: 0.7914\n",
    "9. 6+ fillna(method='bfill'); CV: 0.7906 => NaN으로 냅두자\n",
    "10. 마지막 3개월만 이용; 6 + CV: 0.7892; 4 + CV: 0.7886\n",
    "11. 영향도 낮은 features  제거 R_28, D_94, R_2; 10 + CV: 0.7890,4 + CV: 0.7916, 6 + CV: 0.7921\n",
    "<!-- 12. Test시 Fold4 제외; LB에서 체크 예정 -->\n",
    "13-1. 영향도가 0인 features 제거; 12 + CV: 0.7921 (LB 등록시 12번을 적용할지 말지 선택해야함)    \n",
    "13-2. 영향도 범위를 조금 늘림ㅣ 12 + CV: 0.7923, LB: 0.790, 6 + CV: 0.7923, LB: 0.791 (일단 LB가 떨어지긴 하는데 계속 진행)  \n",
    "14. Fold 4;   \n",
    "    6+13-1 CV: ?   \n",
    "    6+13-2 CV: 0.7920, LB: 0.792 (어떻게 해석해야지)  \n",
    "\n",
    "<!-- 9. add nasdaq info simply -->"
   ]
  },
  {
   "cell_type": "markdown",
   "id": "fa21f17f",
   "metadata": {
    "papermill": {
     "duration": 0.007677,
     "end_time": "2022-08-01T16:03:36.495375",
     "exception": false,
     "start_time": "2022-08-01T16:03:36.487698",
     "status": "completed"
    },
    "tags": []
   },
   "source": [
    "# Load Libraries"
   ]
  },
  {
   "cell_type": "code",
   "execution_count": 1,
   "id": "6d2812c5",
   "metadata": {
    "execution": {
     "iopub.execute_input": "2022-08-01T16:03:36.513035Z",
     "iopub.status.busy": "2022-08-01T16:03:36.512537Z",
     "iopub.status.idle": "2022-08-01T16:03:40.446574Z",
     "shell.execute_reply": "2022-08-01T16:03:40.444845Z"
    },
    "papermill": {
     "duration": 3.946106,
     "end_time": "2022-08-01T16:03:40.449407",
     "exception": false,
     "start_time": "2022-08-01T16:03:36.503301",
     "status": "completed"
    },
    "tags": []
   },
   "outputs": [
    {
     "name": "stdout",
     "output_type": "stream",
     "text": [
      "RAPIDS version 21.10.01\n"
     ]
    }
   ],
   "source": [
    "# LOAD LIBRARIES\n",
    "import pandas as pd, numpy as np # CPU libraries\n",
    "import cupy, cudf # GPU libraries\n",
    "import matplotlib.pyplot as plt, gc, os\n",
    "\n",
    "print('RAPIDS version',cudf.__version__)"
   ]
  },
  {
   "cell_type": "code",
   "execution_count": 2,
   "id": "26209e99",
   "metadata": {
    "execution": {
     "iopub.execute_input": "2022-08-01T16:03:40.467606Z",
     "iopub.status.busy": "2022-08-01T16:03:40.466951Z",
     "iopub.status.idle": "2022-08-01T16:03:40.471217Z",
     "shell.execute_reply": "2022-08-01T16:03:40.470469Z"
    },
    "papermill": {
     "duration": 0.014931,
     "end_time": "2022-08-01T16:03:40.473059",
     "exception": false,
     "start_time": "2022-08-01T16:03:40.458128",
     "status": "completed"
    },
    "tags": []
   },
   "outputs": [],
   "source": [
    "# VERSION NAME FOR SAVED MODEL FILES\n",
    "VER = 1\n",
    "\n",
    "# TRAIN RANDOM SEED\n",
    "SEED = 42\n",
    "\n",
    "# FILL NAN VALUE\n",
    "NAN_VALUE = -127 # will fit in int8\n",
    "\n",
    "# FOLDS PER MODEL\n",
    "FOLDS = 4"
   ]
  },
  {
   "cell_type": "markdown",
   "id": "30304258",
   "metadata": {
    "papermill": {
     "duration": 0.007642,
     "end_time": "2022-08-01T16:03:40.488974",
     "exception": false,
     "start_time": "2022-08-01T16:03:40.481332",
     "status": "completed"
    },
    "tags": []
   },
   "source": [
    "# Process and Feature Engineer Train Data\n",
    "We will load @raddar Kaggle dataset from [here][1] with discussion [here][2]. Then we will engineer features suggested by @huseyincot in his notebooks [here][3] and [here][4]. We will use [RAPIDS][5] and the GPU to create new features quickly.\n",
    "\n",
    "[1]: https://www.kaggle.com/datasets/raddar/amex-data-integer-dtypes-parquet-format\n",
    "[2]: https://www.kaggle.com/competitions/amex-default-prediction/discussion/328514\n",
    "[3]: https://www.kaggle.com/code/huseyincot/amex-catboost-0-793\n",
    "[4]: https://www.kaggle.com/code/huseyincot/amex-agg-data-how-it-created\n",
    "[5]: https://rapids.ai/"
   ]
  },
  {
   "cell_type": "code",
   "execution_count": 3,
   "id": "a9bbdb8f",
   "metadata": {
    "execution": {
     "iopub.execute_input": "2022-08-01T16:03:40.506276Z",
     "iopub.status.busy": "2022-08-01T16:03:40.505644Z",
     "iopub.status.idle": "2022-08-01T16:04:01.469100Z",
     "shell.execute_reply": "2022-08-01T16:04:01.468319Z"
    },
    "papermill": {
     "duration": 20.974196,
     "end_time": "2022-08-01T16:04:01.471082",
     "exception": false,
     "start_time": "2022-08-01T16:03:40.496886",
     "status": "completed"
    },
    "tags": []
   },
   "outputs": [
    {
     "name": "stdout",
     "output_type": "stream",
     "text": [
      "Reading train data...\n",
      "shape of data: (5531451, 190)\n"
     ]
    }
   ],
   "source": [
    "def read_file(path = '', usecols = None):\n",
    "    # LOAD DATAFRAME\n",
    "    if usecols is not None: df = cudf.read_parquet(path, columns=usecols)\n",
    "    else: df = cudf.read_parquet(path)\n",
    "    # REDUCE DTYPE FOR CUSTOMER AND DATE\n",
    "    df['customer_ID'] = df['customer_ID'].str[-16:].str.hex_to_int().astype('int64')\n",
    "    df.S_2 = cudf.to_datetime( df.S_2 )\n",
    "    # SORT BY CUSTOMER AND DATE (so agg('last') works correctly)\n",
    "    #df = df.sort_values(['customer_ID','S_2'])\n",
    "    #df = df.reset_index(drop=True)\n",
    "    # FILL NAN\n",
    "#     df = df.fillna(NAN_VALUE) \n",
    "    print('shape of data:', df.shape)\n",
    "    \n",
    "    return df\n",
    "\n",
    "print('Reading train data...')\n",
    "TRAIN_PATH = '../input/amex-data-integer-dtypes-parquet-format/train.parquet'\n",
    "train = read_file(path = TRAIN_PATH)"
   ]
  },
  {
   "cell_type": "code",
   "execution_count": 4,
   "id": "2558bcb1",
   "metadata": {
    "execution": {
     "iopub.execute_input": "2022-08-01T16:04:01.489079Z",
     "iopub.status.busy": "2022-08-01T16:04:01.488783Z",
     "iopub.status.idle": "2022-08-01T16:04:01.816310Z",
     "shell.execute_reply": "2022-08-01T16:04:01.815353Z"
    },
    "papermill": {
     "duration": 0.339677,
     "end_time": "2022-08-01T16:04:01.819328",
     "exception": false,
     "start_time": "2022-08-01T16:04:01.479651",
     "status": "completed"
    },
    "tags": []
   },
   "outputs": [
    {
     "data": {
      "text/html": [
       "<div>\n",
       "<style scoped>\n",
       "    .dataframe tbody tr th:only-of-type {\n",
       "        vertical-align: middle;\n",
       "    }\n",
       "\n",
       "    .dataframe tbody tr th {\n",
       "        vertical-align: top;\n",
       "    }\n",
       "\n",
       "    .dataframe thead th {\n",
       "        text-align: right;\n",
       "    }\n",
       "</style>\n",
       "<table border=\"1\" class=\"dataframe\">\n",
       "  <thead>\n",
       "    <tr style=\"text-align: right;\">\n",
       "      <th></th>\n",
       "      <th>customer_ID</th>\n",
       "      <th>S_2</th>\n",
       "      <th>P_2</th>\n",
       "      <th>D_39</th>\n",
       "      <th>B_1</th>\n",
       "      <th>B_2</th>\n",
       "      <th>R_1</th>\n",
       "      <th>S_3</th>\n",
       "      <th>D_41</th>\n",
       "      <th>B_3</th>\n",
       "      <th>...</th>\n",
       "      <th>D_136</th>\n",
       "      <th>D_137</th>\n",
       "      <th>D_138</th>\n",
       "      <th>D_139</th>\n",
       "      <th>D_140</th>\n",
       "      <th>D_141</th>\n",
       "      <th>D_142</th>\n",
       "      <th>D_143</th>\n",
       "      <th>D_144</th>\n",
       "      <th>D_145</th>\n",
       "    </tr>\n",
       "  </thead>\n",
       "  <tbody>\n",
       "    <tr>\n",
       "      <th>0</th>\n",
       "      <td>-4532153018459703766</td>\n",
       "      <td>2017-03-09</td>\n",
       "      <td>0.938469</td>\n",
       "      <td>0</td>\n",
       "      <td>0.008724</td>\n",
       "      <td>1.006838</td>\n",
       "      <td>0.009228</td>\n",
       "      <td>0.124035</td>\n",
       "      <td>0.0</td>\n",
       "      <td>0.004709</td>\n",
       "      <td>...</td>\n",
       "      <td>-1</td>\n",
       "      <td>-1</td>\n",
       "      <td>-1</td>\n",
       "      <td>0</td>\n",
       "      <td>0</td>\n",
       "      <td>0.0</td>\n",
       "      <td>&lt;NA&gt;</td>\n",
       "      <td>0</td>\n",
       "      <td>0.000610</td>\n",
       "      <td>0</td>\n",
       "    </tr>\n",
       "    <tr>\n",
       "      <th>1</th>\n",
       "      <td>-4532153018459703766</td>\n",
       "      <td>2017-04-07</td>\n",
       "      <td>0.936665</td>\n",
       "      <td>0</td>\n",
       "      <td>0.004923</td>\n",
       "      <td>1.000653</td>\n",
       "      <td>0.006151</td>\n",
       "      <td>0.126750</td>\n",
       "      <td>0.0</td>\n",
       "      <td>0.002714</td>\n",
       "      <td>...</td>\n",
       "      <td>-1</td>\n",
       "      <td>-1</td>\n",
       "      <td>-1</td>\n",
       "      <td>0</td>\n",
       "      <td>0</td>\n",
       "      <td>0.0</td>\n",
       "      <td>&lt;NA&gt;</td>\n",
       "      <td>0</td>\n",
       "      <td>0.005492</td>\n",
       "      <td>0</td>\n",
       "    </tr>\n",
       "    <tr>\n",
       "      <th>2</th>\n",
       "      <td>-4532153018459703766</td>\n",
       "      <td>2017-05-28</td>\n",
       "      <td>0.954180</td>\n",
       "      <td>3</td>\n",
       "      <td>0.021655</td>\n",
       "      <td>1.009672</td>\n",
       "      <td>0.006815</td>\n",
       "      <td>0.123977</td>\n",
       "      <td>0.0</td>\n",
       "      <td>0.009423</td>\n",
       "      <td>...</td>\n",
       "      <td>-1</td>\n",
       "      <td>-1</td>\n",
       "      <td>-1</td>\n",
       "      <td>0</td>\n",
       "      <td>0</td>\n",
       "      <td>0.0</td>\n",
       "      <td>&lt;NA&gt;</td>\n",
       "      <td>0</td>\n",
       "      <td>0.006986</td>\n",
       "      <td>0</td>\n",
       "    </tr>\n",
       "    <tr>\n",
       "      <th>3</th>\n",
       "      <td>-4532153018459703766</td>\n",
       "      <td>2017-06-13</td>\n",
       "      <td>0.960384</td>\n",
       "      <td>0</td>\n",
       "      <td>0.013683</td>\n",
       "      <td>1.002700</td>\n",
       "      <td>0.001373</td>\n",
       "      <td>0.117169</td>\n",
       "      <td>0.0</td>\n",
       "      <td>0.005531</td>\n",
       "      <td>...</td>\n",
       "      <td>-1</td>\n",
       "      <td>-1</td>\n",
       "      <td>-1</td>\n",
       "      <td>0</td>\n",
       "      <td>0</td>\n",
       "      <td>0.0</td>\n",
       "      <td>&lt;NA&gt;</td>\n",
       "      <td>0</td>\n",
       "      <td>0.006527</td>\n",
       "      <td>0</td>\n",
       "    </tr>\n",
       "    <tr>\n",
       "      <th>4</th>\n",
       "      <td>-4532153018459703766</td>\n",
       "      <td>2017-07-16</td>\n",
       "      <td>0.947248</td>\n",
       "      <td>0</td>\n",
       "      <td>0.015193</td>\n",
       "      <td>1.000727</td>\n",
       "      <td>0.007605</td>\n",
       "      <td>0.117325</td>\n",
       "      <td>0.0</td>\n",
       "      <td>0.009312</td>\n",
       "      <td>...</td>\n",
       "      <td>-1</td>\n",
       "      <td>-1</td>\n",
       "      <td>-1</td>\n",
       "      <td>0</td>\n",
       "      <td>0</td>\n",
       "      <td>0.0</td>\n",
       "      <td>&lt;NA&gt;</td>\n",
       "      <td>0</td>\n",
       "      <td>0.008126</td>\n",
       "      <td>0</td>\n",
       "    </tr>\n",
       "  </tbody>\n",
       "</table>\n",
       "<p>5 rows × 190 columns</p>\n",
       "</div>"
      ],
      "text/plain": [
       "           customer_ID        S_2       P_2  D_39       B_1       B_2  \\\n",
       "0 -4532153018459703766 2017-03-09  0.938469     0  0.008724  1.006838   \n",
       "1 -4532153018459703766 2017-04-07  0.936665     0  0.004923  1.000653   \n",
       "2 -4532153018459703766 2017-05-28  0.954180     3  0.021655  1.009672   \n",
       "3 -4532153018459703766 2017-06-13  0.960384     0  0.013683  1.002700   \n",
       "4 -4532153018459703766 2017-07-16  0.947248     0  0.015193  1.000727   \n",
       "\n",
       "        R_1       S_3  D_41       B_3  ... D_136  D_137  D_138  D_139  D_140  \\\n",
       "0  0.009228  0.124035   0.0  0.004709  ...    -1     -1     -1      0      0   \n",
       "1  0.006151  0.126750   0.0  0.002714  ...    -1     -1     -1      0      0   \n",
       "2  0.006815  0.123977   0.0  0.009423  ...    -1     -1     -1      0      0   \n",
       "3  0.001373  0.117169   0.0  0.005531  ...    -1     -1     -1      0      0   \n",
       "4  0.007605  0.117325   0.0  0.009312  ...    -1     -1     -1      0      0   \n",
       "\n",
       "   D_141  D_142 D_143     D_144  D_145  \n",
       "0    0.0   <NA>     0  0.000610      0  \n",
       "1    0.0   <NA>     0  0.005492      0  \n",
       "2    0.0   <NA>     0  0.006986      0  \n",
       "3    0.0   <NA>     0  0.006527      0  \n",
       "4    0.0   <NA>     0  0.008126      0  \n",
       "\n",
       "[5 rows x 190 columns]"
      ]
     },
     "execution_count": 4,
     "metadata": {},
     "output_type": "execute_result"
    }
   ],
   "source": [
    "train.head()"
   ]
  },
  {
   "cell_type": "code",
   "execution_count": 5,
   "id": "e151c66e",
   "metadata": {
    "execution": {
     "iopub.execute_input": "2022-08-01T16:04:01.839487Z",
     "iopub.status.busy": "2022-08-01T16:04:01.839031Z",
     "iopub.status.idle": "2022-08-01T16:04:04.392956Z",
     "shell.execute_reply": "2022-08-01T16:04:04.391352Z"
    },
    "papermill": {
     "duration": 2.566643,
     "end_time": "2022-08-01T16:04:04.395489",
     "exception": false,
     "start_time": "2022-08-01T16:04:01.828846",
     "status": "completed"
    },
    "tags": []
   },
   "outputs": [
    {
     "name": "stdout",
     "output_type": "stream",
     "text": [
      "shape after engineering (458913, 507)\n"
     ]
    }
   ],
   "source": [
    "def process_and_feature_engineer(df):\n",
    "    # FEATURE ENGINEERING FROM \n",
    "    # https://www.kaggle.com/code/huseyincot/amex-agg-data-how-it-created\n",
    "#     9) nasdaq\n",
    "#     nasdaq_path = '../input/nasdaq/nasdaq.csv'\n",
    "#     nasdaq = cudf.read_csv(nasdaq_path, encoding='utf-8-sig')\n",
    "#     nasdaq.rename(columns={'\\ufeffS_2': 'S_2'}, inplace=True)\n",
    "#     nasdaq.drop(['tradingvolume'], inplace=True, axis=1)\n",
    "#     nasdaq.S_2 = cudf.to_datetime(nasdaq.S_2)\n",
    "#     nasdaq[['closing','open', 'high', 'low']] = nasdaq[['closing','open', 'high', 'low']].astype(float)    \n",
    "#     df = df.merge(nasdaq, on='S_2')\n",
    "    \n",
    "#     1) Drop 'B_29'\n",
    "    df.drop(['B_29'], inplace=True, axis=1)\n",
    "#     11) Drop R_28, D_94, R_2\n",
    "    df.drop(['R_28', 'D_94', 'R_2'], inplace=True, axis=1)\n",
    "    \n",
    "#     6) B1, B2에 연관 feature추가\n",
    "    df['B_1_2'] = df['B_1']/(df['B_2']+0.0000001)\n",
    "\n",
    "#     5) D_39에 대한 feature 추가\n",
    "#     df['D_39_div30'] = df['D_39']/30\n",
    "#     10) 마지막 3개월만 이용\n",
    "#     df = cudf.concat([df.groupby('customer_ID').nth(-3), df.groupby('customer_ID').nth(-2), df.groupby('customer_ID').nth(-1)]).reset_index()\n",
    "\n",
    "    \n",
    "    all_cols = [c for c in list(df.columns) if c not in ['customer_ID','S_2']]\n",
    "    cat_features = [\"B_30\",\"B_38\",\"D_114\",\"D_116\",\"D_117\",\"D_120\",\"D_126\",\"D_63\",\"D_64\",\"D_66\",\"D_68\"]\n",
    "    num_features = [col for col in all_cols if col not in cat_features]\n",
    "    \n",
    "#     2) Add customer count\n",
    "    test_count_agg = df.groupby(['customer_ID'])['S_2'].agg(['count'])\n",
    "\n",
    "\n",
    "    test_num_agg = df.groupby(\"customer_ID\")[num_features].agg(['mean', 'max', 'last'])\n",
    "    test_num_agg.columns = ['_'.join(x) for x in test_num_agg.columns]\n",
    "\n",
    "    test_cat_agg = df.groupby(\"customer_ID\")[cat_features].agg(['count', 'last', 'nunique'])\n",
    "    test_cat_agg.columns = ['_'.join(x) for x in test_cat_agg.columns]\n",
    "\n",
    "    df = cudf.concat([test_count_agg,test_num_agg, test_cat_agg], axis=1)\n",
    "#     13) \n",
    "    df.drop(['R_4_max',\n",
    " 'D_137_max',\n",
    " 'D_126_count',\n",
    " 'D_63_count',\n",
    " 'D_137_last',\n",
    " 'D_64_count',\n",
    " 'D_66_count',\n",
    " 'D_68_count',\n",
    " 'S_6_max',\n",
    " 'D_117_count',\n",
    " 'D_139_max',\n",
    " 'D_120_count',\n",
    " 'D_143_max',\n",
    " 'D_81_last',\n",
    " 'B_38_count',\n",
    " 'D_116_count',\n",
    " 'D_140_max',\n",
    " 'D_143_last',\n",
    " 'D_109_last',\n",
    " 'D_93_max',\n",
    " 'D_93_mean',\n",
    " 'D_92_max',\n",
    " 'R_23_last',\n",
    " 'R_23_max',\n",
    " 'R_22_max',\n",
    " 'B_33_max',\n",
    " 'R_24_max',\n",
    " 'D_109_max',\n",
    " 'D_111_last',\n",
    " 'D_108_last',\n",
    " 'D_103_last',\n",
    " 'D_103_max',\n",
    " 'D_96_max',\n",
    " 'R_25_max',\n",
    " 'R_21_last',\n",
    " 'R_21_max',\n",
    " 'R_17_max',\n",
    " 'D_87_last',\n",
    " 'D_87_max',\n",
    " 'D_87_mean',\n",
    " 'S_18_max',\n",
    " 'R_17_last',\n",
    " 'B_42_mean',\n",
    " 'D_123_last',\n",
    " 'B_32_max',\n",
    " 'R_19_last',\n",
    " 'R_19_max',\n",
    " 'B_31_max',\n",
    " 'D_129_max'], inplace=True, axis=1)\n",
    "    del test_num_agg, test_cat_agg\n",
    "    print('shape after engineering', df.shape )\n",
    "    \n",
    "    return df\n",
    "\n",
    "train = process_and_feature_engineer(train)"
   ]
  },
  {
   "cell_type": "code",
   "execution_count": 6,
   "id": "d88f90db",
   "metadata": {
    "execution": {
     "iopub.execute_input": "2022-08-01T16:04:04.414553Z",
     "iopub.status.busy": "2022-08-01T16:04:04.414241Z",
     "iopub.status.idle": "2022-08-01T16:04:05.337373Z",
     "shell.execute_reply": "2022-08-01T16:04:05.336459Z"
    },
    "papermill": {
     "duration": 0.934909,
     "end_time": "2022-08-01T16:04:05.339714",
     "exception": false,
     "start_time": "2022-08-01T16:04:04.404805",
     "status": "completed"
    },
    "tags": []
   },
   "outputs": [
    {
     "name": "stdout",
     "output_type": "stream",
     "text": [
      "There are 507 features!\n"
     ]
    }
   ],
   "source": [
    "# ADD TARGETS\n",
    "targets = cudf.read_csv('../input/amex-default-prediction/train_labels.csv')\n",
    "targets['customer_ID'] = targets['customer_ID'].str[-16:].str.hex_to_int().astype('int64')\n",
    "targets = targets.set_index('customer_ID')\n",
    "train = train.merge(targets, left_index=True, right_index=True, how='left')\n",
    "train.target = train.target.astype('int8')\n",
    "del targets\n",
    "\n",
    "# NEEDED TO MAKE CV DETERMINISTIC (cudf merge above randomly shuffles rows)\n",
    "train = train.sort_index().reset_index()\n",
    "\n",
    "# FEATURES\n",
    "FEATURES = train.columns[1:-1]\n",
    "print(f'There are {len(FEATURES)} features!')"
   ]
  },
  {
   "cell_type": "markdown",
   "id": "563aea47",
   "metadata": {
    "papermill": {
     "duration": 0.008508,
     "end_time": "2022-08-01T16:04:05.357661",
     "exception": false,
     "start_time": "2022-08-01T16:04:05.349153",
     "status": "completed"
    },
    "tags": []
   },
   "source": [
    "# Train XGB\n",
    "We will train using `DeviceQuantileDMatrix`. This has a very small GPU memory footprint."
   ]
  },
  {
   "cell_type": "code",
   "execution_count": 7,
   "id": "ac5e3293",
   "metadata": {
    "execution": {
     "iopub.execute_input": "2022-08-01T16:04:05.375958Z",
     "iopub.status.busy": "2022-08-01T16:04:05.375559Z",
     "iopub.status.idle": "2022-08-01T16:04:05.491261Z",
     "shell.execute_reply": "2022-08-01T16:04:05.490210Z"
    },
    "papermill": {
     "duration": 0.127987,
     "end_time": "2022-08-01T16:04:05.494172",
     "exception": false,
     "start_time": "2022-08-01T16:04:05.366185",
     "status": "completed"
    },
    "tags": []
   },
   "outputs": [
    {
     "name": "stdout",
     "output_type": "stream",
     "text": [
      "XGB Version 1.6.1\n"
     ]
    }
   ],
   "source": [
    "# LOAD XGB LIBRARY\n",
    "from sklearn.model_selection import KFold\n",
    "import xgboost as xgb\n",
    "print('XGB Version',xgb.__version__)\n",
    "\n",
    "# XGB MODEL PARAMETERS\n",
    "xgb_parms = { \n",
    "    'max_depth':4, \n",
    "    'learning_rate':0.05, \n",
    "    'subsample':0.8,\n",
    "    'colsample_bytree':0.6, \n",
    "    'eval_metric':'logloss',\n",
    "    'objective':'binary:logistic',\n",
    "    'tree_method':'gpu_hist',\n",
    "    'predictor':'gpu_predictor',\n",
    "    'random_state':SEED\n",
    "}"
   ]
  },
  {
   "cell_type": "code",
   "execution_count": 8,
   "id": "213b55db",
   "metadata": {
    "execution": {
     "iopub.execute_input": "2022-08-01T16:04:05.514668Z",
     "iopub.status.busy": "2022-08-01T16:04:05.514375Z",
     "iopub.status.idle": "2022-08-01T16:04:05.525711Z",
     "shell.execute_reply": "2022-08-01T16:04:05.524870Z"
    },
    "papermill": {
     "duration": 0.023435,
     "end_time": "2022-08-01T16:04:05.527637",
     "exception": false,
     "start_time": "2022-08-01T16:04:05.504202",
     "status": "completed"
    },
    "tags": []
   },
   "outputs": [],
   "source": [
    "# NEEDED WITH DeviceQuantileDMatrix BELOW\n",
    "class IterLoadForDMatrix(xgb.core.DataIter):\n",
    "    def __init__(self, df=None, features=None, target=None, batch_size=256*1024):\n",
    "        self.features = features\n",
    "        self.target = target\n",
    "        self.df = df\n",
    "        self.it = 0 # set iterator to 0\n",
    "        self.batch_size = batch_size\n",
    "        self.batches = int( np.ceil( len(df) / self.batch_size ) )\n",
    "        super().__init__()\n",
    "\n",
    "    def reset(self):\n",
    "        '''Reset the iterator'''\n",
    "        self.it = 0\n",
    "\n",
    "    def next(self, input_data):\n",
    "        '''Yield next batch of data.'''\n",
    "        if self.it == self.batches:\n",
    "            return 0 # Return 0 when there's no more batch.\n",
    "        \n",
    "        a = self.it * self.batch_size\n",
    "        b = min( (self.it + 1) * self.batch_size, len(self.df) )\n",
    "        dt = cudf.DataFrame(self.df.iloc[a:b])\n",
    "        input_data(data=dt[self.features], label=dt[self.target]) #, weight=dt['weight'])\n",
    "        self.it += 1\n",
    "        return 1"
   ]
  },
  {
   "cell_type": "code",
   "execution_count": 9,
   "id": "d288e97e",
   "metadata": {
    "execution": {
     "iopub.execute_input": "2022-08-01T16:04:05.547103Z",
     "iopub.status.busy": "2022-08-01T16:04:05.546501Z",
     "iopub.status.idle": "2022-08-01T16:04:05.556697Z",
     "shell.execute_reply": "2022-08-01T16:04:05.555916Z"
    },
    "papermill": {
     "duration": 0.021471,
     "end_time": "2022-08-01T16:04:05.558515",
     "exception": false,
     "start_time": "2022-08-01T16:04:05.537044",
     "status": "completed"
    },
    "tags": []
   },
   "outputs": [],
   "source": [
    "# https://www.kaggle.com/kyakovlev\n",
    "# https://www.kaggle.com/competitions/amex-default-prediction/discussion/327534\n",
    "def amex_metric_mod(y_true, y_pred):\n",
    "\n",
    "    labels     = np.transpose(np.array([y_true, y_pred]))\n",
    "    labels     = labels[labels[:, 1].argsort()[::-1]]\n",
    "    weights    = np.where(labels[:,0]==0, 20, 1)\n",
    "    cut_vals   = labels[np.cumsum(weights) <= int(0.04 * np.sum(weights))]\n",
    "    top_four   = np.sum(cut_vals[:,0]) / np.sum(labels[:,0])\n",
    "\n",
    "    gini = [0,0]\n",
    "    for i in [1,0]:\n",
    "        labels         = np.transpose(np.array([y_true, y_pred]))\n",
    "        labels         = labels[labels[:, i].argsort()[::-1]]\n",
    "        weight         = np.where(labels[:,0]==0, 20, 1)\n",
    "        weight_random  = np.cumsum(weight / np.sum(weight))\n",
    "        total_pos      = np.sum(labels[:, 0] *  weight)\n",
    "        cum_pos_found  = np.cumsum(labels[:, 0] * weight)\n",
    "        lorentz        = cum_pos_found / total_pos\n",
    "        gini[i]        = np.sum((lorentz - weight_random) * weight)\n",
    "\n",
    "    return 0.5 * (gini[1]/gini[0] + top_four)"
   ]
  },
  {
   "cell_type": "code",
   "execution_count": 10,
   "id": "0b10b308",
   "metadata": {
    "execution": {
     "iopub.execute_input": "2022-08-01T16:04:05.580435Z",
     "iopub.status.busy": "2022-08-01T16:04:05.579948Z",
     "iopub.status.idle": "2022-08-01T16:09:00.754547Z",
     "shell.execute_reply": "2022-08-01T16:09:00.753681Z"
    },
    "papermill": {
     "duration": 295.188435,
     "end_time": "2022-08-01T16:09:00.757123",
     "exception": false,
     "start_time": "2022-08-01T16:04:05.568688",
     "status": "completed"
    },
    "scrolled": true,
    "tags": []
   },
   "outputs": [
    {
     "name": "stdout",
     "output_type": "stream",
     "text": [
      "#########################\n",
      "### Fold 1\n",
      "### Train size 344184 Valid size 114729\n",
      "### Training with 100% fold data...\n",
      "#########################\n",
      "[0]\ttrain-logloss:0.66192\tvalid-logloss:0.66194\n",
      "[100]\ttrain-logloss:0.23708\tvalid-logloss:0.23943\n",
      "[200]\ttrain-logloss:0.22256\tvalid-logloss:0.22741\n",
      "[300]\ttrain-logloss:0.21637\tvalid-logloss:0.22333\n",
      "[400]\ttrain-logloss:0.21235\tvalid-logloss:0.22127\n",
      "[500]\ttrain-logloss:0.20915\tvalid-logloss:0.22013\n",
      "[600]\ttrain-logloss:0.20630\tvalid-logloss:0.21930\n",
      "[700]\ttrain-logloss:0.20379\tvalid-logloss:0.21878\n",
      "[800]\ttrain-logloss:0.20141\tvalid-logloss:0.21834\n",
      "[900]\ttrain-logloss:0.19929\tvalid-logloss:0.21806\n",
      "[1000]\ttrain-logloss:0.19726\tvalid-logloss:0.21778\n",
      "[1100]\ttrain-logloss:0.19524\tvalid-logloss:0.21761\n",
      "[1200]\ttrain-logloss:0.19334\tvalid-logloss:0.21752\n",
      "[1300]\ttrain-logloss:0.19147\tvalid-logloss:0.21733\n",
      "[1400]\ttrain-logloss:0.18962\tvalid-logloss:0.21728\n",
      "[1500]\ttrain-logloss:0.18783\tvalid-logloss:0.21723\n",
      "[1600]\ttrain-logloss:0.18608\tvalid-logloss:0.21722\n",
      "[1628]\ttrain-logloss:0.18560\tvalid-logloss:0.21722\n",
      "Kaggle Metric = 0.7915104082368238 \n",
      "\n",
      "#########################\n",
      "### Fold 2\n",
      "### Train size 344185 Valid size 114728\n",
      "### Training with 100% fold data...\n",
      "#########################\n",
      "[0]\ttrain-logloss:0.66200\tvalid-logloss:0.66203\n",
      "[100]\ttrain-logloss:0.23696\tvalid-logloss:0.23913\n",
      "[200]\ttrain-logloss:0.22266\tvalid-logloss:0.22694\n",
      "[300]\ttrain-logloss:0.21658\tvalid-logloss:0.22295\n",
      "[400]\ttrain-logloss:0.21243\tvalid-logloss:0.22087\n",
      "[500]\ttrain-logloss:0.20921\tvalid-logloss:0.21970\n",
      "[600]\ttrain-logloss:0.20644\tvalid-logloss:0.21897\n",
      "[700]\ttrain-logloss:0.20395\tvalid-logloss:0.21842\n",
      "[800]\ttrain-logloss:0.20167\tvalid-logloss:0.21809\n",
      "[900]\ttrain-logloss:0.19954\tvalid-logloss:0.21777\n",
      "[1000]\ttrain-logloss:0.19744\tvalid-logloss:0.21765\n",
      "[1100]\ttrain-logloss:0.19542\tvalid-logloss:0.21745\n",
      "[1200]\ttrain-logloss:0.19349\tvalid-logloss:0.21730\n",
      "[1300]\ttrain-logloss:0.19156\tvalid-logloss:0.21720\n",
      "[1400]\ttrain-logloss:0.18976\tvalid-logloss:0.21709\n",
      "[1500]\ttrain-logloss:0.18798\tvalid-logloss:0.21699\n",
      "[1600]\ttrain-logloss:0.18628\tvalid-logloss:0.21685\n",
      "[1700]\ttrain-logloss:0.18456\tvalid-logloss:0.21685\n",
      "[1767]\ttrain-logloss:0.18342\tvalid-logloss:0.21685\n",
      "Kaggle Metric = 0.7922881791868205 \n",
      "\n",
      "#########################\n",
      "### Fold 3\n",
      "### Train size 344185 Valid size 114728\n",
      "### Training with 100% fold data...\n",
      "#########################\n",
      "[0]\ttrain-logloss:0.66199\tvalid-logloss:0.66209\n",
      "[100]\ttrain-logloss:0.23665\tvalid-logloss:0.24115\n",
      "[200]\ttrain-logloss:0.22201\tvalid-logloss:0.22915\n",
      "[300]\ttrain-logloss:0.21588\tvalid-logloss:0.22545\n",
      "[400]\ttrain-logloss:0.21165\tvalid-logloss:0.22354\n",
      "[500]\ttrain-logloss:0.20845\tvalid-logloss:0.22251\n",
      "[600]\ttrain-logloss:0.20565\tvalid-logloss:0.22180\n",
      "[700]\ttrain-logloss:0.20317\tvalid-logloss:0.22136\n",
      "[800]\ttrain-logloss:0.20082\tvalid-logloss:0.22101\n",
      "[900]\ttrain-logloss:0.19865\tvalid-logloss:0.22079\n",
      "[1000]\ttrain-logloss:0.19656\tvalid-logloss:0.22068\n",
      "[1100]\ttrain-logloss:0.19456\tvalid-logloss:0.22049\n",
      "[1200]\ttrain-logloss:0.19261\tvalid-logloss:0.22040\n",
      "[1300]\ttrain-logloss:0.19080\tvalid-logloss:0.22036\n",
      "[1400]\ttrain-logloss:0.18891\tvalid-logloss:0.22027\n",
      "[1500]\ttrain-logloss:0.18712\tvalid-logloss:0.22023\n",
      "[1600]\ttrain-logloss:0.18535\tvalid-logloss:0.22019\n",
      "[1700]\ttrain-logloss:0.18365\tvalid-logloss:0.22012\n",
      "[1800]\ttrain-logloss:0.18200\tvalid-logloss:0.22009\n",
      "[1900]\ttrain-logloss:0.18035\tvalid-logloss:0.22004\n",
      "[2000]\ttrain-logloss:0.17871\tvalid-logloss:0.22006\n",
      "[2073]\ttrain-logloss:0.17756\tvalid-logloss:0.22004\n",
      "Kaggle Metric = 0.7861870995709561 \n",
      "\n",
      "#########################\n",
      "### Fold 4\n",
      "### Train size 344185 Valid size 114728\n",
      "### Training with 100% fold data...\n",
      "#########################\n",
      "[0]\ttrain-logloss:0.66200\tvalid-logloss:0.66199\n",
      "[100]\ttrain-logloss:0.23727\tvalid-logloss:0.23857\n",
      "[200]\ttrain-logloss:0.22297\tvalid-logloss:0.22633\n",
      "[300]\ttrain-logloss:0.21697\tvalid-logloss:0.22245\n",
      "[400]\ttrain-logloss:0.21293\tvalid-logloss:0.22039\n",
      "[500]\ttrain-logloss:0.20974\tvalid-logloss:0.21921\n",
      "[600]\ttrain-logloss:0.20696\tvalid-logloss:0.21833\n",
      "[700]\ttrain-logloss:0.20439\tvalid-logloss:0.21777\n",
      "[800]\ttrain-logloss:0.20201\tvalid-logloss:0.21739\n",
      "[900]\ttrain-logloss:0.19983\tvalid-logloss:0.21709\n",
      "[1000]\ttrain-logloss:0.19775\tvalid-logloss:0.21684\n",
      "[1100]\ttrain-logloss:0.19570\tvalid-logloss:0.21671\n",
      "[1200]\ttrain-logloss:0.19374\tvalid-logloss:0.21657\n",
      "[1300]\ttrain-logloss:0.19188\tvalid-logloss:0.21652\n",
      "[1400]\ttrain-logloss:0.19002\tvalid-logloss:0.21643\n",
      "[1500]\ttrain-logloss:0.18821\tvalid-logloss:0.21634\n",
      "[1600]\ttrain-logloss:0.18649\tvalid-logloss:0.21629\n",
      "[1700]\ttrain-logloss:0.18477\tvalid-logloss:0.21622\n",
      "[1800]\ttrain-logloss:0.18306\tvalid-logloss:0.21621\n",
      "[1860]\ttrain-logloss:0.18207\tvalid-logloss:0.21620\n",
      "Kaggle Metric = 0.7943706654422933 \n",
      "\n",
      "#########################\n",
      "OVERALL CV Kaggle Metric = 0.7909485030635072\n"
     ]
    }
   ],
   "source": [
    "importances = []\n",
    "oof = []\n",
    "train = train.to_pandas() # free GPU memory\n",
    "TRAIN_SUBSAMPLE = 1.0\n",
    "gc.collect()\n",
    "\n",
    "skf = KFold(n_splits=FOLDS, shuffle=True, random_state=SEED)\n",
    "for fold,(train_idx, valid_idx) in enumerate(skf.split(\n",
    "            train, train.target )):\n",
    "    \n",
    "    # TRAIN WITH SUBSAMPLE OF TRAIN FOLD DATA\n",
    "    if TRAIN_SUBSAMPLE<1.0:\n",
    "        np.random.seed(SEED)\n",
    "        train_idx = np.random.choice(train_idx, \n",
    "                       int(len(train_idx)*TRAIN_SUBSAMPLE), replace=False)\n",
    "        np.random.seed(None)\n",
    "    \n",
    "    print('#'*25)\n",
    "    print('### Fold',fold+1)\n",
    "    print('### Train size',len(train_idx),'Valid size',len(valid_idx))\n",
    "    print(f'### Training with {int(TRAIN_SUBSAMPLE*100)}% fold data...')\n",
    "    print('#'*25)\n",
    "    \n",
    "    # TRAIN, VALID, TEST FOR FOLD K\n",
    "    Xy_train = IterLoadForDMatrix(train.loc[train_idx], FEATURES, 'target')\n",
    "    X_valid = train.loc[valid_idx, FEATURES]\n",
    "    y_valid = train.loc[valid_idx, 'target']\n",
    "    \n",
    "    dtrain = xgb.DeviceQuantileDMatrix(Xy_train, max_bin=256)\n",
    "    dvalid = xgb.DMatrix(data=X_valid, label=y_valid)\n",
    "    \n",
    "    # TRAIN MODEL FOLD K\n",
    "    model = xgb.train(xgb_parms, \n",
    "                dtrain=dtrain,\n",
    "                evals=[(dtrain,'train'),(dvalid,'valid')],\n",
    "                num_boost_round=9999,\n",
    "                early_stopping_rounds=100,\n",
    "                verbose_eval=100) \n",
    "    model.save_model(f'XGB_v{VER}_fold{fold}.xgb')\n",
    "    \n",
    "    # GET FEATURE IMPORTANCE FOR FOLD K\n",
    "    dd = model.get_score(importance_type='weight')\n",
    "    df = pd.DataFrame({'feature':dd.keys(),f'importance_{fold}':dd.values()})\n",
    "    importances.append(df)\n",
    "            \n",
    "    # INFER OOF FOLD K\n",
    "    oof_preds = model.predict(dvalid)\n",
    "    acc = amex_metric_mod(y_valid.values, oof_preds)\n",
    "    print('Kaggle Metric =',acc,'\\n')\n",
    "    \n",
    "    # SAVE OOF\n",
    "    df = train.loc[valid_idx, ['customer_ID','target'] ].copy()\n",
    "    df['oof_pred'] = oof_preds\n",
    "    oof.append( df )\n",
    "    \n",
    "    del dtrain, Xy_train, dd, df\n",
    "    del X_valid, y_valid, dvalid, model\n",
    "    _ = gc.collect()\n",
    "    \n",
    "print('#'*25)\n",
    "oof = pd.concat(oof,axis=0,ignore_index=True).set_index('customer_ID')\n",
    "acc = amex_metric_mod(oof.target.values, oof.oof_pred.values)\n",
    "print('OVERALL CV Kaggle Metric =',acc)"
   ]
  },
  {
   "cell_type": "code",
   "execution_count": 11,
   "id": "6656093c",
   "metadata": {
    "execution": {
     "iopub.execute_input": "2022-08-01T16:09:00.789636Z",
     "iopub.status.busy": "2022-08-01T16:09:00.788928Z",
     "iopub.status.idle": "2022-08-01T16:09:00.931859Z",
     "shell.execute_reply": "2022-08-01T16:09:00.930947Z"
    },
    "papermill": {
     "duration": 0.161004,
     "end_time": "2022-08-01T16:09:00.933750",
     "exception": false,
     "start_time": "2022-08-01T16:09:00.772746",
     "status": "completed"
    },
    "tags": []
   },
   "outputs": [],
   "source": [
    "# CLEAN RAM\n",
    "del train\n",
    "_ = gc.collect()"
   ]
  },
  {
   "cell_type": "markdown",
   "id": "fa0657cf",
   "metadata": {
    "papermill": {
     "duration": 0.015426,
     "end_time": "2022-08-01T16:09:00.964682",
     "exception": false,
     "start_time": "2022-08-01T16:09:00.949256",
     "status": "completed"
    },
    "tags": []
   },
   "source": [
    "# Save OOF Preds"
   ]
  },
  {
   "cell_type": "code",
   "execution_count": 12,
   "id": "9c683e0a",
   "metadata": {
    "execution": {
     "iopub.execute_input": "2022-08-01T16:09:00.996315Z",
     "iopub.status.busy": "2022-08-01T16:09:00.995543Z",
     "iopub.status.idle": "2022-08-01T16:09:05.940554Z",
     "shell.execute_reply": "2022-08-01T16:09:05.939754Z"
    },
    "papermill": {
     "duration": 4.963136,
     "end_time": "2022-08-01T16:09:05.942632",
     "exception": false,
     "start_time": "2022-08-01T16:09:00.979496",
     "status": "completed"
    },
    "tags": []
   },
   "outputs": [
    {
     "data": {
      "text/html": [
       "<div>\n",
       "<style scoped>\n",
       "    .dataframe tbody tr th:only-of-type {\n",
       "        vertical-align: middle;\n",
       "    }\n",
       "\n",
       "    .dataframe tbody tr th {\n",
       "        vertical-align: top;\n",
       "    }\n",
       "\n",
       "    .dataframe thead th {\n",
       "        text-align: right;\n",
       "    }\n",
       "</style>\n",
       "<table border=\"1\" class=\"dataframe\">\n",
       "  <thead>\n",
       "    <tr style=\"text-align: right;\">\n",
       "      <th></th>\n",
       "      <th>customer_ID</th>\n",
       "      <th>target</th>\n",
       "      <th>oof_pred</th>\n",
       "    </tr>\n",
       "  </thead>\n",
       "  <tbody>\n",
       "    <tr>\n",
       "      <th>0</th>\n",
       "      <td>20eac26171c3d251c55fc78204e59fab1c15fc2bc96d0c...</td>\n",
       "      <td>1</td>\n",
       "      <td>0.670906</td>\n",
       "    </tr>\n",
       "    <tr>\n",
       "      <th>1</th>\n",
       "      <td>aea50fdf9b974ccec95fa177c3225a0f913483b457de6e...</td>\n",
       "      <td>0</td>\n",
       "      <td>0.000372</td>\n",
       "    </tr>\n",
       "    <tr>\n",
       "      <th>2</th>\n",
       "      <td>32cd2d41aef737b69089882754395925c96eaee1f4a859...</td>\n",
       "      <td>0</td>\n",
       "      <td>0.001636</td>\n",
       "    </tr>\n",
       "    <tr>\n",
       "      <th>3</th>\n",
       "      <td>8daa6d5dc2655a8a437531e6b8b96829113cdfe9bf6cae...</td>\n",
       "      <td>0</td>\n",
       "      <td>0.010724</td>\n",
       "    </tr>\n",
       "    <tr>\n",
       "      <th>4</th>\n",
       "      <td>0ceba351a3851202542feb49d7385bcef32f6037fc57c7...</td>\n",
       "      <td>1</td>\n",
       "      <td>0.876646</td>\n",
       "    </tr>\n",
       "  </tbody>\n",
       "</table>\n",
       "</div>"
      ],
      "text/plain": [
       "                                         customer_ID  target  oof_pred\n",
       "0  20eac26171c3d251c55fc78204e59fab1c15fc2bc96d0c...       1  0.670906\n",
       "1  aea50fdf9b974ccec95fa177c3225a0f913483b457de6e...       0  0.000372\n",
       "2  32cd2d41aef737b69089882754395925c96eaee1f4a859...       0  0.001636\n",
       "3  8daa6d5dc2655a8a437531e6b8b96829113cdfe9bf6cae...       0  0.010724\n",
       "4  0ceba351a3851202542feb49d7385bcef32f6037fc57c7...       1  0.876646"
      ]
     },
     "execution_count": 12,
     "metadata": {},
     "output_type": "execute_result"
    }
   ],
   "source": [
    "oof_xgb = pd.read_parquet(TRAIN_PATH, columns=['customer_ID']).drop_duplicates()\n",
    "oof_xgb['customer_ID_hash'] = oof_xgb['customer_ID'].apply(lambda x: int(x[-16:],16) ).astype('int64')\n",
    "oof_xgb = oof_xgb.set_index('customer_ID_hash')\n",
    "oof_xgb = oof_xgb.merge(oof, left_index=True, right_index=True)\n",
    "oof_xgb = oof_xgb.sort_index().reset_index(drop=True)\n",
    "oof_xgb.to_csv(f'oof_xgb_v{VER}.csv',index=False)\n",
    "oof_xgb.head()"
   ]
  },
  {
   "cell_type": "code",
   "execution_count": 13,
   "id": "feaefade",
   "metadata": {
    "execution": {
     "iopub.execute_input": "2022-08-01T16:09:05.974627Z",
     "iopub.status.busy": "2022-08-01T16:09:05.974324Z",
     "iopub.status.idle": "2022-08-01T16:09:06.341697Z",
     "shell.execute_reply": "2022-08-01T16:09:06.340918Z"
    },
    "papermill": {
     "duration": 0.385813,
     "end_time": "2022-08-01T16:09:06.343611",
     "exception": false,
     "start_time": "2022-08-01T16:09:05.957798",
     "status": "completed"
    },
    "tags": []
   },
   "outputs": [
    {
     "data": {
      "image/png": "[encoded data removed]",
      "text/plain": [
       "<Figure size 432x288 with 1 Axes>"
      ]
     },
     "metadata": {
      "needs_background": "light"
     },
     "output_type": "display_data"
    }
   ],
   "source": [
    "# PLOT OOF PREDICTIONS\n",
    "plt.hist(oof_xgb.oof_pred.values, bins=100)\n",
    "plt.title('OOF Predictions')\n",
    "plt.show()"
   ]
  },
  {
   "cell_type": "code",
   "execution_count": 14,
   "id": "81281c39",
   "metadata": {
    "execution": {
     "iopub.execute_input": "2022-08-01T16:09:06.376858Z",
     "iopub.status.busy": "2022-08-01T16:09:06.376077Z",
     "iopub.status.idle": "2022-08-01T16:09:06.519975Z",
     "shell.execute_reply": "2022-08-01T16:09:06.517169Z"
    },
    "papermill": {
     "duration": 0.162844,
     "end_time": "2022-08-01T16:09:06.522483",
     "exception": false,
     "start_time": "2022-08-01T16:09:06.359639",
     "status": "completed"
    },
    "tags": []
   },
   "outputs": [],
   "source": [
    "# CLEAR VRAM, RAM FOR INFERENCE BELOW\n",
    "del oof_xgb, oof\n",
    "_ = gc.collect()"
   ]
  },
  {
   "cell_type": "markdown",
   "id": "638a9b8f",
   "metadata": {
    "papermill": {
     "duration": 0.022761,
     "end_time": "2022-08-01T16:09:06.570948",
     "exception": false,
     "start_time": "2022-08-01T16:09:06.548187",
     "status": "completed"
    },
    "tags": []
   },
   "source": [
    "# Feature Importance"
   ]
  },
  {
   "cell_type": "code",
   "execution_count": 15,
   "id": "ac632af9",
   "metadata": {
    "execution": {
     "iopub.execute_input": "2022-08-01T16:09:06.628418Z",
     "iopub.status.busy": "2022-08-01T16:09:06.627963Z",
     "iopub.status.idle": "2022-08-01T16:09:06.667830Z",
     "shell.execute_reply": "2022-08-01T16:09:06.665970Z"
    },
    "papermill": {
     "duration": 0.074008,
     "end_time": "2022-08-01T16:09:06.671841",
     "exception": false,
     "start_time": "2022-08-01T16:09:06.597833",
     "status": "completed"
    },
    "tags": []
   },
   "outputs": [],
   "source": [
    "import matplotlib.pyplot as plt\n",
    "\n",
    "df = importances[0].copy()\n",
    "for k in range(1,FOLDS): df = df.merge(importances[k], on='feature', how='left')\n",
    "df['importance'] = df.iloc[:,1:].mean(axis=1)\n",
    "df = df.sort_values('importance',ascending=False)\n",
    "df.to_csv(f'xgb_feature_importance_v{VER}.csv',index=False)"
   ]
  },
  {
   "cell_type": "code",
   "execution_count": 16,
   "id": "e8db604f",
   "metadata": {
    "execution": {
     "iopub.execute_input": "2022-08-01T16:09:06.719688Z",
     "iopub.status.busy": "2022-08-01T16:09:06.719132Z",
     "iopub.status.idle": "2022-08-01T16:09:07.111846Z",
     "shell.execute_reply": "2022-08-01T16:09:07.110949Z"
    },
    "papermill": {
     "duration": 0.419911,
     "end_time": "2022-08-01T16:09:07.114399",
     "exception": false,
     "start_time": "2022-08-01T16:09:06.694488",
     "status": "completed"
    },
    "tags": []
   },
   "outputs": [
    {
     "data": {
      "image/png": "[encoded data removed]",
      "text/plain": [
       "<Figure size 720x720 with 1 Axes>"
      ]
     },
     "metadata": {
      "needs_background": "light"
     },
     "output_type": "display_data"
    }
   ],
   "source": [
    "NUM_FEATURES = 20\n",
    "plt.figure(figsize=(10,5*NUM_FEATURES//10))\n",
    "plt.barh(np.arange(NUM_FEATURES,0,-1), df.importance.values[:NUM_FEATURES])\n",
    "plt.yticks(np.arange(NUM_FEATURES,0,-1), df.feature.values[:NUM_FEATURES])\n",
    "plt.title(f'XGB Feature Importance - Top {NUM_FEATURES}')\n",
    "plt.show()"
   ]
  },
  {
   "cell_type": "markdown",
   "id": "12893b39",
   "metadata": {
    "papermill": {
     "duration": 0.020495,
     "end_time": "2022-08-01T16:09:07.157810",
     "exception": false,
     "start_time": "2022-08-01T16:09:07.137315",
     "status": "completed"
    },
    "tags": []
   },
   "source": [
    "# Process and Feature Engineer Test Data\n",
    "We will load @raddar Kaggle dataset from [here][1] with discussion [here][2]. Then we will engineer features suggested by @huseyincot in his notebooks [here][1] and [here][4]. We will use [RAPIDS][5] and the GPU to create new features quickly.\n",
    "\n",
    "[1]: https://www.kaggle.com/datasets/raddar/amex-data-integer-dtypes-parquet-format\n",
    "[2]: https://www.kaggle.com/competitions/amex-default-prediction/discussion/328514\n",
    "[3]: https://www.kaggle.com/code/huseyincot/amex-catboost-0-793\n",
    "[4]: https://www.kaggle.com/code/huseyincot/amex-agg-data-how-it-created\n",
    "[5]: https://rapids.ai/"
   ]
  },
  {
   "cell_type": "code",
   "execution_count": 17,
   "id": "ead60316",
   "metadata": {
    "execution": {
     "iopub.execute_input": "2022-08-01T16:09:07.196051Z",
     "iopub.status.busy": "2022-08-01T16:09:07.195678Z",
     "iopub.status.idle": "2022-08-01T16:09:09.658964Z",
     "shell.execute_reply": "2022-08-01T16:09:09.657809Z"
    },
    "papermill": {
     "duration": 2.482407,
     "end_time": "2022-08-01T16:09:09.661418",
     "exception": false,
     "start_time": "2022-08-01T16:09:07.179011",
     "status": "completed"
    },
    "tags": []
   },
   "outputs": [
    {
     "name": "stdout",
     "output_type": "stream",
     "text": [
      "Reading test data...\n",
      "shape of data: (11363762, 2)\n",
      "We will process test data as 4 separate parts.\n",
      "There will be 231155 customers in each part (except the last part).\n",
      "Below are number of rows in each part:\n",
      "[2841209, 2839857, 2842105, 2840591]\n"
     ]
    }
   ],
   "source": [
    "# CALCULATE SIZE OF EACH SEPARATE TEST PART\n",
    "def get_rows(customers, test, NUM_PARTS = 4, verbose = ''):\n",
    "    chunk = len(customers)//NUM_PARTS\n",
    "    if verbose != '':\n",
    "        print(f'We will process {verbose} data as {NUM_PARTS} separate parts.')\n",
    "        print(f'There will be {chunk} customers in each part (except the last part).')\n",
    "        print('Below are number of rows in each part:')\n",
    "    rows = []\n",
    "\n",
    "    for k in range(NUM_PARTS):\n",
    "        if k==NUM_PARTS-1: cc = customers[k*chunk:]\n",
    "        else: cc = customers[k*chunk:(k+1)*chunk]\n",
    "        s = test.loc[test.customer_ID.isin(cc)].shape[0]\n",
    "        rows.append(s)\n",
    "    if verbose != '': print( rows )\n",
    "    return rows,chunk\n",
    "\n",
    "# COMPUTE SIZE OF 4 PARTS FOR TEST DATA\n",
    "NUM_PARTS = 4\n",
    "TEST_PATH = '../input/amex-data-integer-dtypes-parquet-format/test.parquet'\n",
    "\n",
    "print(f'Reading test data...')\n",
    "test = read_file(path = TEST_PATH, usecols = ['customer_ID','S_2'])\n",
    "customers = test[['customer_ID']].drop_duplicates().sort_index().values.flatten()\n",
    "rows,num_cust = get_rows(customers, test[['customer_ID']], NUM_PARTS = NUM_PARTS, verbose = 'test')"
   ]
  },
  {
   "cell_type": "markdown",
   "id": "a0395e43",
   "metadata": {
    "papermill": {
     "duration": 0.01614,
     "end_time": "2022-08-01T16:09:09.694212",
     "exception": false,
     "start_time": "2022-08-01T16:09:09.678072",
     "status": "completed"
    },
    "tags": []
   },
   "source": [
    "# Infer Test"
   ]
  },
  {
   "cell_type": "code",
   "execution_count": 18,
   "id": "bda29dcb",
   "metadata": {
    "execution": {
     "iopub.execute_input": "2022-08-01T16:09:09.728250Z",
     "iopub.status.busy": "2022-08-01T16:09:09.727387Z",
     "iopub.status.idle": "2022-08-01T16:11:15.424940Z",
     "shell.execute_reply": "2022-08-01T16:11:15.424138Z"
    },
    "papermill": {
     "duration": 125.716813,
     "end_time": "2022-08-01T16:11:15.427194",
     "exception": false,
     "start_time": "2022-08-01T16:09:09.710381",
     "status": "completed"
    },
    "tags": []
   },
   "outputs": [
    {
     "name": "stdout",
     "output_type": "stream",
     "text": [
      "\n",
      "Reading test data...\n",
      "shape of data: (11363762, 190)\n",
      "=> Test part 1 has shape (2841209, 190)\n",
      "shape after engineering (231155, 507)\n",
      "\n",
      "Reading test data...\n",
      "shape of data: (11363762, 190)\n",
      "=> Test part 2 has shape (2839857, 190)\n",
      "shape after engineering (231155, 507)\n",
      "\n",
      "Reading test data...\n",
      "shape of data: (11363762, 190)\n",
      "=> Test part 3 has shape (2842105, 190)\n",
      "shape after engineering (231155, 507)\n",
      "\n",
      "Reading test data...\n",
      "shape of data: (11363762, 190)\n",
      "=> Test part 4 has shape (2840591, 190)\n",
      "shape after engineering (231156, 507)\n"
     ]
    }
   ],
   "source": [
    "# INFER TEST DATA IN PARTS\n",
    "skip_rows = 0\n",
    "skip_cust = 0\n",
    "test_preds = []\n",
    "\n",
    "for k in range(NUM_PARTS):\n",
    "    \n",
    "    # READ PART OF TEST DATA\n",
    "    print(f'\\nReading test data...')\n",
    "    test = read_file(path = TEST_PATH)\n",
    "    test = test.iloc[skip_rows:skip_rows+rows[k]]\n",
    "    skip_rows += rows[k]\n",
    "    print(f'=> Test part {k+1} has shape', test.shape )\n",
    "    \n",
    "    # PROCESS AND FEATURE ENGINEER PART OF TEST DATA\n",
    "    test = process_and_feature_engineer(test)\n",
    "    if k==NUM_PARTS-1: test = test.loc[customers[skip_cust:]]\n",
    "    else: test = test.loc[customers[skip_cust:skip_cust+num_cust]]\n",
    "    skip_cust += num_cust\n",
    "    \n",
    "    # TEST DATA FOR XGB\n",
    "    X_test = test[FEATURES]\n",
    "    dtest = xgb.DMatrix(data=X_test)\n",
    "    test = test[['P_2_mean']] # reduce memory\n",
    "    del X_test\n",
    "    gc.collect()\n",
    "\n",
    "    # INFER XGB MODELS ON TEST DATA\n",
    "    model = xgb.Booster()\n",
    "    model.load_model(f'XGB_v{VER}_fold0.xgb')\n",
    "    preds = model.predict(dtest)\n",
    "    for f in range(1,FOLDS):\n",
    "#         11) \n",
    "        model.load_model(f'XGB_v{VER}_fold{f}.xgb')\n",
    "        preds += model.predict(dtest)\n",
    "    preds /= FOLDS\n",
    "    test_preds.append(preds)\n",
    "\n",
    "    # CLEAN MEMORY\n",
    "    del dtest, model\n",
    "    _ = gc.collect()"
   ]
  },
  {
   "cell_type": "markdown",
   "id": "dcc8c75f",
   "metadata": {
    "papermill": {
     "duration": 0.016518,
     "end_time": "2022-08-01T16:11:15.461245",
     "exception": false,
     "start_time": "2022-08-01T16:11:15.444727",
     "status": "completed"
    },
    "tags": []
   },
   "source": [
    "# Create Submission CSV"
   ]
  },
  {
   "cell_type": "code",
   "execution_count": 19,
   "id": "2cedff2a",
   "metadata": {
    "execution": {
     "iopub.execute_input": "2022-08-01T16:11:15.496419Z",
     "iopub.status.busy": "2022-08-01T16:11:15.496057Z",
     "iopub.status.idle": "2022-08-01T16:11:16.497462Z",
     "shell.execute_reply": "2022-08-01T16:11:16.496362Z"
    },
    "papermill": {
     "duration": 1.022758,
     "end_time": "2022-08-01T16:11:16.500748",
     "exception": false,
     "start_time": "2022-08-01T16:11:15.477990",
     "status": "completed"
    },
    "tags": []
   },
   "outputs": [
    {
     "name": "stdout",
     "output_type": "stream",
     "text": [
      "Submission file shape is (924621, 2)\n"
     ]
    },
    {
     "data": {
      "text/html": [
       "<div>\n",
       "<style scoped>\n",
       "    .dataframe tbody tr th:only-of-type {\n",
       "        vertical-align: middle;\n",
       "    }\n",
       "\n",
       "    .dataframe tbody tr th {\n",
       "        vertical-align: top;\n",
       "    }\n",
       "\n",
       "    .dataframe thead th {\n",
       "        text-align: right;\n",
       "    }\n",
       "</style>\n",
       "<table border=\"1\" class=\"dataframe\">\n",
       "  <thead>\n",
       "    <tr style=\"text-align: right;\">\n",
       "      <th></th>\n",
       "      <th>customer_ID</th>\n",
       "      <th>prediction</th>\n",
       "    </tr>\n",
       "  </thead>\n",
       "  <tbody>\n",
       "    <tr>\n",
       "      <th>0</th>\n",
       "      <td>0359e97c244bbbbe2db7c21e891debe80e82291f2e470e...</td>\n",
       "      <td>0.002835</td>\n",
       "    </tr>\n",
       "    <tr>\n",
       "      <th>1</th>\n",
       "      <td>035b3479c9020483c00b7dac8f816759bb3aa6fdd8dfab...</td>\n",
       "      <td>0.000664</td>\n",
       "    </tr>\n",
       "    <tr>\n",
       "      <th>2</th>\n",
       "      <td>035a556cc13aae13de7bdcc71c81a1ab27f586f2ddf50e...</td>\n",
       "      <td>0.001274</td>\n",
       "    </tr>\n",
       "    <tr>\n",
       "      <th>3</th>\n",
       "      <td>035bca6744c2fe912b15a0bc6011f3ec679cbc7c60e049...</td>\n",
       "      <td>0.028673</td>\n",
       "    </tr>\n",
       "    <tr>\n",
       "      <th>4</th>\n",
       "      <td>0359f31145b54da7258ed5ff894cbe50dd4302d3d4a1e9...</td>\n",
       "      <td>0.043875</td>\n",
       "    </tr>\n",
       "  </tbody>\n",
       "</table>\n",
       "</div>"
      ],
      "text/plain": [
       "                                         customer_ID  prediction\n",
       "0  0359e97c244bbbbe2db7c21e891debe80e82291f2e470e...    0.002835\n",
       "1  035b3479c9020483c00b7dac8f816759bb3aa6fdd8dfab...    0.000664\n",
       "2  035a556cc13aae13de7bdcc71c81a1ab27f586f2ddf50e...    0.001274\n",
       "3  035bca6744c2fe912b15a0bc6011f3ec679cbc7c60e049...    0.028673\n",
       "4  0359f31145b54da7258ed5ff894cbe50dd4302d3d4a1e9...    0.043875"
      ]
     },
     "execution_count": 19,
     "metadata": {},
     "output_type": "execute_result"
    }
   ],
   "source": [
    "# WRITE SUBMISSION FILE\n",
    "test_preds = np.concatenate(test_preds)\n",
    "test = cudf.DataFrame(index=customers,data={'prediction':test_preds})\n",
    "sub = cudf.read_csv('../input/amex-default-prediction/sample_submission.csv')[['customer_ID']]\n",
    "sub['customer_ID_hash'] = sub['customer_ID'].str[-16:].str.hex_to_int().astype('int64')\n",
    "sub = sub.set_index('customer_ID_hash')\n",
    "sub = sub.merge(test[['prediction']], left_index=True, right_index=True, how='left')\n",
    "sub = sub.reset_index(drop=True)\n",
    "\n",
    "# DISPLAY PREDICTIONS\n",
    "sub.to_csv(f'submission_xgb_v{VER}.csv',index=False)\n",
    "print('Submission file shape is', sub.shape )\n",
    "sub.head()"
   ]
  },
  {
   "cell_type": "code",
   "execution_count": 20,
   "id": "3e7e57c4",
   "metadata": {
    "execution": {
     "iopub.execute_input": "2022-08-01T16:11:16.536821Z",
     "iopub.status.busy": "2022-08-01T16:11:16.536513Z",
     "iopub.status.idle": "2022-08-01T16:11:17.256782Z",
     "shell.execute_reply": "2022-08-01T16:11:17.255941Z"
    },
    "papermill": {
     "duration": 0.740092,
     "end_time": "2022-08-01T16:11:17.258846",
     "exception": false,
     "start_time": "2022-08-01T16:11:16.518754",
     "status": "completed"
    },
    "tags": []
   },
   "outputs": [
    {
     "data": {
      "image/png": "[encoded data removed]",
      "text/plain": [
       "<Figure size 432x288 with 1 Axes>"
      ]
     },
     "metadata": {
      "needs_background": "light"
     },
     "output_type": "display_data"
    }
   ],
   "source": [
    "# PLOT PREDICTIONS\n",
    "plt.hist(sub.to_pandas().prediction, bins=100)\n",
    "plt.title('Test Predictions')\n",
    "plt.show()"
   ]
  }
 ],
 "metadata": {
  "kernelspec": {
   "display_name": "Python 3",
   "language": "python",
   "name": "python3"
  },
  "language_info": {
   "codemirror_mode": {
    "name": "ipython",
    "version": 3
   },
   "file_extension": ".py",
   "mimetype": "text/x-python",
   "name": "python",
   "nbconvert_exporter": "python",
   "pygments_lexer": "ipython3",
   "version": "3.7.12"
  },
  "papermill": {
   "default_parameters": {},
   "duration": 472.594089,
   "end_time": "2022-08-01T16:11:19.660135",
   "environment_variables": {},
   "exception": null,
   "input_path": "__notebook__.ipynb",
   "output_path": "__notebook__.ipynb",
   "parameters": {},
   "start_time": "2022-08-01T16:03:27.066046",
   "version": "2.3.4"
  }
 },
 "nbformat": 4,
 "nbformat_minor": 5
}
