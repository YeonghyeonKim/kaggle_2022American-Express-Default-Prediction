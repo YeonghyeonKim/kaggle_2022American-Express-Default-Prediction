{
 "cells": [
  {
   "cell_type": "markdown",
   "id": "fc4f1680",
   "metadata": {
    "papermill": {
     "duration": 0.008683,
     "end_time": "2022-07-30T16:58:20.789596",
     "exception": false,
     "start_time": "2022-07-30T16:58:20.780913",
     "status": "completed"
    },
    "tags": []
   },
   "source": [
    "# XGBoost Starter - LB 0.793\n",
    "In this notebook we build and train an XGBoost model using @raddar Kaggle dataset from [here][1] with discussion [here][2]. Then we engineer features suggested by @huseyincot in his notebooks [here][3] and [here][4]. This XGB model achieves CV 0.792 LB 0.793! When training with XGB, we use a special XGB dataloader called `DeviceQuantileDMatrix` which uses a small GPU memory footprint. This allows us to engineer more additional columns and train with more rows of data. Our feature engineering is performed using [RAPIDS][5] on the GPU to create new features quickly.\n",
    "\n",
    "[1]: https://www.kaggle.com/datasets/raddar/amex-data-integer-dtypes-parquet-format\n",
    "[2]: https://www.kaggle.com/competitions/amex-default-prediction/discussion/328514\n",
    "[3]: https://www.kaggle.com/code/huseyincot/amex-catboost-0-793\n",
    "[4]: https://www.kaggle.com/code/huseyincot/amex-agg-data-how-it-created\n",
    "[5]: https://rapids.ai/"
   ]
  },
  {
   "cell_type": "markdown",
   "id": "28dc3a39",
   "metadata": {
    "papermill": {
     "duration": 0.007509,
     "end_time": "2022-07-30T16:58:20.804738",
     "exception": false,
     "start_time": "2022-07-30T16:58:20.797229",
     "status": "completed"
    },
    "tags": []
   },
   "source": [
    "Feature Engineering I done\n",
    "1. Drop B_29, https://www.kaggle.com/code/roberthatch/amex-feature-engg-gpu-or-cpu-process-in-chunks/notebook\n",
    "2. Add each customer count (how long they used) (not normalize)\n",
    "3. Don't fill NaN (with -127)\n",
    "4. remove num_features's min, std\n",
    "5. D_39에 대한 feature 추가 -> CV하락\n",
    "6. B_1과 B_2간의 연관 feature 추가; CV 0.7920\n",
    "7. B_8과 B_9간의 연관 feature 추가; CV 0.7919\n",
    "8. corr가 높은 feature중 제거; CV: 0.7914\n",
    "9. 6+ fillna(method='bfill'); CV: 0.7906 => NaN으로 냅두자\n",
    "10. 마지막 3개월만 이용; 6 + CV: 0.7892; 4 + CV: 0.7886\n",
    "11. 영향도 낮은 features  제거 R_28, D_94, R_2; 6 + 10 CV: 0.7890, 6 + CV:?\n",
    "<!-- 9. add nasdaq info simply -->"
   ]
  },
  {
   "cell_type": "markdown",
   "id": "a9f78513",
   "metadata": {
    "papermill": {
     "duration": 0.007538,
     "end_time": "2022-07-30T16:58:20.819778",
     "exception": false,
     "start_time": "2022-07-30T16:58:20.812240",
     "status": "completed"
    },
    "tags": []
   },
   "source": [
    "# Load Libraries"
   ]
  },
  {
   "cell_type": "code",
   "execution_count": 1,
   "id": "aa7c812f",
   "metadata": {
    "execution": {
     "iopub.execute_input": "2022-07-30T16:58:20.836969Z",
     "iopub.status.busy": "2022-07-30T16:58:20.836395Z",
     "iopub.status.idle": "2022-07-30T16:58:24.495223Z",
     "shell.execute_reply": "2022-07-30T16:58:24.492781Z"
    },
    "papermill": {
     "duration": 3.670243,
     "end_time": "2022-07-30T16:58:24.497811",
     "exception": false,
     "start_time": "2022-07-30T16:58:20.827568",
     "status": "completed"
    },
    "tags": []
   },
   "outputs": [
    {
     "name": "stdout",
     "output_type": "stream",
     "text": [
      "RAPIDS version 21.10.01\n"
     ]
    }
   ],
   "source": [
    "# LOAD LIBRARIES\n",
    "import pandas as pd, numpy as np # CPU libraries\n",
    "import cupy, cudf # GPU libraries\n",
    "import matplotlib.pyplot as plt, gc, os\n",
    "\n",
    "print('RAPIDS version',cudf.__version__)"
   ]
  },
  {
   "cell_type": "code",
   "execution_count": 2,
   "id": "70ee6242",
   "metadata": {
    "execution": {
     "iopub.execute_input": "2022-07-30T16:58:24.515035Z",
     "iopub.status.busy": "2022-07-30T16:58:24.514718Z",
     "iopub.status.idle": "2022-07-30T16:58:24.519197Z",
     "shell.execute_reply": "2022-07-30T16:58:24.518352Z"
    },
    "papermill": {
     "duration": 0.015197,
     "end_time": "2022-07-30T16:58:24.521194",
     "exception": false,
     "start_time": "2022-07-30T16:58:24.505997",
     "status": "completed"
    },
    "tags": []
   },
   "outputs": [],
   "source": [
    "# VERSION NAME FOR SAVED MODEL FILES\n",
    "VER = 1\n",
    "\n",
    "# TRAIN RANDOM SEED\n",
    "SEED = 42\n",
    "\n",
    "# FILL NAN VALUE\n",
    "NAN_VALUE = -127 # will fit in int8\n",
    "\n",
    "# FOLDS PER MODEL\n",
    "FOLDS = 5"
   ]
  },
  {
   "cell_type": "markdown",
   "id": "2e9ece29",
   "metadata": {
    "papermill": {
     "duration": 0.007486,
     "end_time": "2022-07-30T16:58:24.536441",
     "exception": false,
     "start_time": "2022-07-30T16:58:24.528955",
     "status": "completed"
    },
    "tags": []
   },
   "source": [
    "# Process and Feature Engineer Train Data\n",
    "We will load @raddar Kaggle dataset from [here][1] with discussion [here][2]. Then we will engineer features suggested by @huseyincot in his notebooks [here][3] and [here][4]. We will use [RAPIDS][5] and the GPU to create new features quickly.\n",
    "\n",
    "[1]: https://www.kaggle.com/datasets/raddar/amex-data-integer-dtypes-parquet-format\n",
    "[2]: https://www.kaggle.com/competitions/amex-default-prediction/discussion/328514\n",
    "[3]: https://www.kaggle.com/code/huseyincot/amex-catboost-0-793\n",
    "[4]: https://www.kaggle.com/code/huseyincot/amex-agg-data-how-it-created\n",
    "[5]: https://rapids.ai/"
   ]
  },
  {
   "cell_type": "code",
   "execution_count": 3,
   "id": "db53ca2a",
   "metadata": {
    "execution": {
     "iopub.execute_input": "2022-07-30T16:58:24.553578Z",
     "iopub.status.busy": "2022-07-30T16:58:24.553278Z",
     "iopub.status.idle": "2022-07-30T16:58:43.362912Z",
     "shell.execute_reply": "2022-07-30T16:58:43.360983Z"
    },
    "papermill": {
     "duration": 18.82038,
     "end_time": "2022-07-30T16:58:43.364961",
     "exception": false,
     "start_time": "2022-07-30T16:58:24.544581",
     "status": "completed"
    },
    "tags": []
   },
   "outputs": [
    {
     "name": "stdout",
     "output_type": "stream",
     "text": [
      "Reading train data...\n",
      "shape of data: (5531451, 190)\n"
     ]
    }
   ],
   "source": [
    "def read_file(path = '', usecols = None):\n",
    "    # LOAD DATAFRAME\n",
    "    if usecols is not None: df = cudf.read_parquet(path, columns=usecols)\n",
    "    else: df = cudf.read_parquet(path)\n",
    "    # REDUCE DTYPE FOR CUSTOMER AND DATE\n",
    "    df['customer_ID'] = df['customer_ID'].str[-16:].str.hex_to_int().astype('int64')\n",
    "    df.S_2 = cudf.to_datetime( df.S_2 )\n",
    "    # SORT BY CUSTOMER AND DATE (so agg('last') works correctly)\n",
    "    #df = df.sort_values(['customer_ID','S_2'])\n",
    "    #df = df.reset_index(drop=True)\n",
    "    # FILL NAN\n",
    "#     df = df.fillna(NAN_VALUE) \n",
    "    print('shape of data:', df.shape)\n",
    "    \n",
    "    return df\n",
    "\n",
    "print('Reading train data...')\n",
    "TRAIN_PATH = '../input/amex-data-integer-dtypes-parquet-format/train.parquet'\n",
    "train = read_file(path = TRAIN_PATH)"
   ]
  },
  {
   "cell_type": "code",
   "execution_count": 4,
   "id": "41be940f",
   "metadata": {
    "execution": {
     "iopub.execute_input": "2022-07-30T16:58:43.383510Z",
     "iopub.status.busy": "2022-07-30T16:58:43.383117Z",
     "iopub.status.idle": "2022-07-30T16:58:43.753795Z",
     "shell.execute_reply": "2022-07-30T16:58:43.752734Z"
    },
    "papermill": {
     "duration": 0.383362,
     "end_time": "2022-07-30T16:58:43.756843",
     "exception": false,
     "start_time": "2022-07-30T16:58:43.373481",
     "status": "completed"
    },
    "tags": []
   },
   "outputs": [
    {
     "data": {
      "text/html": [
       "<div>\n",
       "<style scoped>\n",
       "    .dataframe tbody tr th:only-of-type {\n",
       "        vertical-align: middle;\n",
       "    }\n",
       "\n",
       "    .dataframe tbody tr th {\n",
       "        vertical-align: top;\n",
       "    }\n",
       "\n",
       "    .dataframe thead th {\n",
       "        text-align: right;\n",
       "    }\n",
       "</style>\n",
       "<table border=\"1\" class=\"dataframe\">\n",
       "  <thead>\n",
       "    <tr style=\"text-align: right;\">\n",
       "      <th></th>\n",
       "      <th>customer_ID</th>\n",
       "      <th>S_2</th>\n",
       "      <th>P_2</th>\n",
       "      <th>D_39</th>\n",
       "      <th>B_1</th>\n",
       "      <th>B_2</th>\n",
       "      <th>R_1</th>\n",
       "      <th>S_3</th>\n",
       "      <th>D_41</th>\n",
       "      <th>B_3</th>\n",
       "      <th>...</th>\n",
       "      <th>D_136</th>\n",
       "      <th>D_137</th>\n",
       "      <th>D_138</th>\n",
       "      <th>D_139</th>\n",
       "      <th>D_140</th>\n",
       "      <th>D_141</th>\n",
       "      <th>D_142</th>\n",
       "      <th>D_143</th>\n",
       "      <th>D_144</th>\n",
       "      <th>D_145</th>\n",
       "    </tr>\n",
       "  </thead>\n",
       "  <tbody>\n",
       "    <tr>\n",
       "      <th>0</th>\n",
       "      <td>-4532153018459703766</td>\n",
       "      <td>2017-03-09</td>\n",
       "      <td>0.938469</td>\n",
       "      <td>0</td>\n",
       "      <td>0.008724</td>\n",
       "      <td>1.006838</td>\n",
       "      <td>0.009228</td>\n",
       "      <td>0.124035</td>\n",
       "      <td>0.0</td>\n",
       "      <td>0.004709</td>\n",
       "      <td>...</td>\n",
       "      <td>-1</td>\n",
       "      <td>-1</td>\n",
       "      <td>-1</td>\n",
       "      <td>0</td>\n",
       "      <td>0</td>\n",
       "      <td>0.0</td>\n",
       "      <td>&lt;NA&gt;</td>\n",
       "      <td>0</td>\n",
       "      <td>0.000610</td>\n",
       "      <td>0</td>\n",
       "    </tr>\n",
       "    <tr>\n",
       "      <th>1</th>\n",
       "      <td>-4532153018459703766</td>\n",
       "      <td>2017-04-07</td>\n",
       "      <td>0.936665</td>\n",
       "      <td>0</td>\n",
       "      <td>0.004923</td>\n",
       "      <td>1.000653</td>\n",
       "      <td>0.006151</td>\n",
       "      <td>0.126750</td>\n",
       "      <td>0.0</td>\n",
       "      <td>0.002714</td>\n",
       "      <td>...</td>\n",
       "      <td>-1</td>\n",
       "      <td>-1</td>\n",
       "      <td>-1</td>\n",
       "      <td>0</td>\n",
       "      <td>0</td>\n",
       "      <td>0.0</td>\n",
       "      <td>&lt;NA&gt;</td>\n",
       "      <td>0</td>\n",
       "      <td>0.005492</td>\n",
       "      <td>0</td>\n",
       "    </tr>\n",
       "    <tr>\n",
       "      <th>2</th>\n",
       "      <td>-4532153018459703766</td>\n",
       "      <td>2017-05-28</td>\n",
       "      <td>0.954180</td>\n",
       "      <td>3</td>\n",
       "      <td>0.021655</td>\n",
       "      <td>1.009672</td>\n",
       "      <td>0.006815</td>\n",
       "      <td>0.123977</td>\n",
       "      <td>0.0</td>\n",
       "      <td>0.009423</td>\n",
       "      <td>...</td>\n",
       "      <td>-1</td>\n",
       "      <td>-1</td>\n",
       "      <td>-1</td>\n",
       "      <td>0</td>\n",
       "      <td>0</td>\n",
       "      <td>0.0</td>\n",
       "      <td>&lt;NA&gt;</td>\n",
       "      <td>0</td>\n",
       "      <td>0.006986</td>\n",
       "      <td>0</td>\n",
       "    </tr>\n",
       "    <tr>\n",
       "      <th>3</th>\n",
       "      <td>-4532153018459703766</td>\n",
       "      <td>2017-06-13</td>\n",
       "      <td>0.960384</td>\n",
       "      <td>0</td>\n",
       "      <td>0.013683</td>\n",
       "      <td>1.002700</td>\n",
       "      <td>0.001373</td>\n",
       "      <td>0.117169</td>\n",
       "      <td>0.0</td>\n",
       "      <td>0.005531</td>\n",
       "      <td>...</td>\n",
       "      <td>-1</td>\n",
       "      <td>-1</td>\n",
       "      <td>-1</td>\n",
       "      <td>0</td>\n",
       "      <td>0</td>\n",
       "      <td>0.0</td>\n",
       "      <td>&lt;NA&gt;</td>\n",
       "      <td>0</td>\n",
       "      <td>0.006527</td>\n",
       "      <td>0</td>\n",
       "    </tr>\n",
       "    <tr>\n",
       "      <th>4</th>\n",
       "      <td>-4532153018459703766</td>\n",
       "      <td>2017-07-16</td>\n",
       "      <td>0.947248</td>\n",
       "      <td>0</td>\n",
       "      <td>0.015193</td>\n",
       "      <td>1.000727</td>\n",
       "      <td>0.007605</td>\n",
       "      <td>0.117325</td>\n",
       "      <td>0.0</td>\n",
       "      <td>0.009312</td>\n",
       "      <td>...</td>\n",
       "      <td>-1</td>\n",
       "      <td>-1</td>\n",
       "      <td>-1</td>\n",
       "      <td>0</td>\n",
       "      <td>0</td>\n",
       "      <td>0.0</td>\n",
       "      <td>&lt;NA&gt;</td>\n",
       "      <td>0</td>\n",
       "      <td>0.008126</td>\n",
       "      <td>0</td>\n",
       "    </tr>\n",
       "  </tbody>\n",
       "</table>\n",
       "<p>5 rows × 190 columns</p>\n",
       "</div>"
      ],
      "text/plain": [
       "           customer_ID        S_2       P_2  D_39       B_1       B_2  \\\n",
       "0 -4532153018459703766 2017-03-09  0.938469     0  0.008724  1.006838   \n",
       "1 -4532153018459703766 2017-04-07  0.936665     0  0.004923  1.000653   \n",
       "2 -4532153018459703766 2017-05-28  0.954180     3  0.021655  1.009672   \n",
       "3 -4532153018459703766 2017-06-13  0.960384     0  0.013683  1.002700   \n",
       "4 -4532153018459703766 2017-07-16  0.947248     0  0.015193  1.000727   \n",
       "\n",
       "        R_1       S_3  D_41       B_3  ... D_136  D_137  D_138  D_139  D_140  \\\n",
       "0  0.009228  0.124035   0.0  0.004709  ...    -1     -1     -1      0      0   \n",
       "1  0.006151  0.126750   0.0  0.002714  ...    -1     -1     -1      0      0   \n",
       "2  0.006815  0.123977   0.0  0.009423  ...    -1     -1     -1      0      0   \n",
       "3  0.001373  0.117169   0.0  0.005531  ...    -1     -1     -1      0      0   \n",
       "4  0.007605  0.117325   0.0  0.009312  ...    -1     -1     -1      0      0   \n",
       "\n",
       "   D_141  D_142 D_143     D_144  D_145  \n",
       "0    0.0   <NA>     0  0.000610      0  \n",
       "1    0.0   <NA>     0  0.005492      0  \n",
       "2    0.0   <NA>     0  0.006986      0  \n",
       "3    0.0   <NA>     0  0.006527      0  \n",
       "4    0.0   <NA>     0  0.008126      0  \n",
       "\n",
       "[5 rows x 190 columns]"
      ]
     },
     "execution_count": 4,
     "metadata": {},
     "output_type": "execute_result"
    }
   ],
   "source": [
    "train.head()"
   ]
  },
  {
   "cell_type": "code",
   "execution_count": 5,
   "id": "6b58fd81",
   "metadata": {
    "execution": {
     "iopub.execute_input": "2022-07-30T16:58:43.777553Z",
     "iopub.status.busy": "2022-07-30T16:58:43.777205Z",
     "iopub.status.idle": "2022-07-30T16:58:46.465428Z",
     "shell.execute_reply": "2022-07-30T16:58:46.464168Z"
    },
    "papermill": {
     "duration": 2.701535,
     "end_time": "2022-07-30T16:58:46.468338",
     "exception": false,
     "start_time": "2022-07-30T16:58:43.766803",
     "status": "completed"
    },
    "tags": []
   },
   "outputs": [
    {
     "name": "stdout",
     "output_type": "stream",
     "text": [
      "shape after engineering (458913, 553)\n"
     ]
    }
   ],
   "source": [
    "def process_and_feature_engineer(df):\n",
    "    # FEATURE ENGINEERING FROM \n",
    "    # https://www.kaggle.com/code/huseyincot/amex-agg-data-how-it-created\n",
    "#     9) nasdaq\n",
    "#     nasdaq_path = '../input/nasdaq/nasdaq.csv'\n",
    "#     nasdaq = cudf.read_csv(nasdaq_path, encoding='utf-8-sig')\n",
    "#     nasdaq.rename(columns={'\\ufeffS_2': 'S_2'}, inplace=True)\n",
    "#     nasdaq.drop(['tradingvolume'], inplace=True, axis=1)\n",
    "#     nasdaq.S_2 = cudf.to_datetime(nasdaq.S_2)\n",
    "#     nasdaq[['closing','open', 'high', 'low']] = nasdaq[['closing','open', 'high', 'low']].astype(float)    \n",
    "#     df = df.merge(nasdaq, on='S_2')\n",
    "    \n",
    "#     1) Drop 'B_29'\n",
    "    df.drop(['B_29'], inplace=True, axis=1)\n",
    "#     11) Drop R_28, D_94, R_2\n",
    "    df.drop(['R_28', 'D_94', 'R_2'], inplace=True, axis=1)\n",
    "    \n",
    "#     5) D_39에 대한 feature 추가\n",
    "#     df['D_39_div30'] = df['D_39']/30\n",
    "#     10) 마지막 3개월만 이용\n",
    "#     df = cudf.concat([df.groupby('customer_ID').nth(-3), df.groupby('customer_ID').nth(-2), df.groupby('customer_ID').nth(-1)]).reset_index()\n",
    "\n",
    "    \n",
    "    all_cols = [c for c in list(df.columns) if c not in ['customer_ID','S_2']]\n",
    "    cat_features = [\"B_30\",\"B_38\",\"D_114\",\"D_116\",\"D_117\",\"D_120\",\"D_126\",\"D_63\",\"D_64\",\"D_66\",\"D_68\"]\n",
    "    num_features = [col for col in all_cols if col not in cat_features]\n",
    "    \n",
    "#     2) Add customer count\n",
    "    test_count_agg = df.groupby(['customer_ID'])['S_2'].agg(['count'])\n",
    "\n",
    "\n",
    "    test_num_agg = df.groupby(\"customer_ID\")[num_features].agg(['mean', 'max', 'last'])\n",
    "    test_num_agg.columns = ['_'.join(x) for x in test_num_agg.columns]\n",
    "\n",
    "    test_cat_agg = df.groupby(\"customer_ID\")[cat_features].agg(['count', 'last', 'nunique'])\n",
    "    test_cat_agg.columns = ['_'.join(x) for x in test_cat_agg.columns]\n",
    "\n",
    "    df = cudf.concat([test_count_agg,test_num_agg, test_cat_agg], axis=1)\n",
    "    del test_num_agg, test_cat_agg\n",
    "    print('shape after engineering', df.shape )\n",
    "    \n",
    "    return df\n",
    "\n",
    "train = process_and_feature_engineer(train)"
   ]
  },
  {
   "cell_type": "code",
   "execution_count": 6,
   "id": "cdb9c2dd",
   "metadata": {
    "execution": {
     "iopub.execute_input": "2022-07-30T16:58:46.487850Z",
     "iopub.status.busy": "2022-07-30T16:58:46.487275Z",
     "iopub.status.idle": "2022-07-30T16:58:47.390377Z",
     "shell.execute_reply": "2022-07-30T16:58:47.389520Z"
    },
    "papermill": {
     "duration": 0.915052,
     "end_time": "2022-07-30T16:58:47.392700",
     "exception": false,
     "start_time": "2022-07-30T16:58:46.477648",
     "status": "completed"
    },
    "tags": []
   },
   "outputs": [
    {
     "name": "stdout",
     "output_type": "stream",
     "text": [
      "There are 553 features!\n"
     ]
    }
   ],
   "source": [
    "# ADD TARGETS\n",
    "targets = cudf.read_csv('../input/amex-default-prediction/train_labels.csv')\n",
    "targets['customer_ID'] = targets['customer_ID'].str[-16:].str.hex_to_int().astype('int64')\n",
    "targets = targets.set_index('customer_ID')\n",
    "train = train.merge(targets, left_index=True, right_index=True, how='left')\n",
    "train.target = train.target.astype('int8')\n",
    "del targets\n",
    "\n",
    "# NEEDED TO MAKE CV DETERMINISTIC (cudf merge above randomly shuffles rows)\n",
    "train = train.sort_index().reset_index()\n",
    "\n",
    "# FEATURES\n",
    "FEATURES = train.columns[1:-1]\n",
    "print(f'There are {len(FEATURES)} features!')"
   ]
  },
  {
   "cell_type": "markdown",
   "id": "cb8ec7ed",
   "metadata": {
    "papermill": {
     "duration": 0.008726,
     "end_time": "2022-07-30T16:58:47.410523",
     "exception": false,
     "start_time": "2022-07-30T16:58:47.401797",
     "status": "completed"
    },
    "tags": []
   },
   "source": [
    "# Train XGB\n",
    "We will train using `DeviceQuantileDMatrix`. This has a very small GPU memory footprint."
   ]
  },
  {
   "cell_type": "code",
   "execution_count": 7,
   "id": "7caf0785",
   "metadata": {
    "execution": {
     "iopub.execute_input": "2022-07-30T16:58:47.429519Z",
     "iopub.status.busy": "2022-07-30T16:58:47.428814Z",
     "iopub.status.idle": "2022-07-30T16:58:47.541266Z",
     "shell.execute_reply": "2022-07-30T16:58:47.540277Z"
    },
    "papermill": {
     "duration": 0.124864,
     "end_time": "2022-07-30T16:58:47.544000",
     "exception": false,
     "start_time": "2022-07-30T16:58:47.419136",
     "status": "completed"
    },
    "tags": []
   },
   "outputs": [
    {
     "name": "stdout",
     "output_type": "stream",
     "text": [
      "XGB Version 1.6.1\n"
     ]
    }
   ],
   "source": [
    "# LOAD XGB LIBRARY\n",
    "from sklearn.model_selection import KFold\n",
    "import xgboost as xgb\n",
    "print('XGB Version',xgb.__version__)\n",
    "\n",
    "# XGB MODEL PARAMETERS\n",
    "xgb_parms = { \n",
    "    'max_depth':4, \n",
    "    'learning_rate':0.05, \n",
    "    'subsample':0.8,\n",
    "    'colsample_bytree':0.6, \n",
    "    'eval_metric':'logloss',\n",
    "    'objective':'binary:logistic',\n",
    "    'tree_method':'gpu_hist',\n",
    "    'predictor':'gpu_predictor',\n",
    "    'random_state':SEED\n",
    "}"
   ]
  },
  {
   "cell_type": "code",
   "execution_count": 8,
   "id": "183f1471",
   "metadata": {
    "execution": {
     "iopub.execute_input": "2022-07-30T16:58:47.564505Z",
     "iopub.status.busy": "2022-07-30T16:58:47.564157Z",
     "iopub.status.idle": "2022-07-30T16:58:47.574344Z",
     "shell.execute_reply": "2022-07-30T16:58:47.573560Z"
    },
    "papermill": {
     "duration": 0.022616,
     "end_time": "2022-07-30T16:58:47.576244",
     "exception": false,
     "start_time": "2022-07-30T16:58:47.553628",
     "status": "completed"
    },
    "tags": []
   },
   "outputs": [],
   "source": [
    "# NEEDED WITH DeviceQuantileDMatrix BELOW\n",
    "class IterLoadForDMatrix(xgb.core.DataIter):\n",
    "    def __init__(self, df=None, features=None, target=None, batch_size=256*1024):\n",
    "        self.features = features\n",
    "        self.target = target\n",
    "        self.df = df\n",
    "        self.it = 0 # set iterator to 0\n",
    "        self.batch_size = batch_size\n",
    "        self.batches = int( np.ceil( len(df) / self.batch_size ) )\n",
    "        super().__init__()\n",
    "\n",
    "    def reset(self):\n",
    "        '''Reset the iterator'''\n",
    "        self.it = 0\n",
    "\n",
    "    def next(self, input_data):\n",
    "        '''Yield next batch of data.'''\n",
    "        if self.it == self.batches:\n",
    "            return 0 # Return 0 when there's no more batch.\n",
    "        \n",
    "        a = self.it * self.batch_size\n",
    "        b = min( (self.it + 1) * self.batch_size, len(self.df) )\n",
    "        dt = cudf.DataFrame(self.df.iloc[a:b])\n",
    "        input_data(data=dt[self.features], label=dt[self.target]) #, weight=dt['weight'])\n",
    "        self.it += 1\n",
    "        return 1"
   ]
  },
  {
   "cell_type": "code",
   "execution_count": 9,
   "id": "6a6222c9",
   "metadata": {
    "execution": {
     "iopub.execute_input": "2022-07-30T16:58:47.595104Z",
     "iopub.status.busy": "2022-07-30T16:58:47.594810Z",
     "iopub.status.idle": "2022-07-30T16:58:47.606343Z",
     "shell.execute_reply": "2022-07-30T16:58:47.605561Z"
    },
    "papermill": {
     "duration": 0.022842,
     "end_time": "2022-07-30T16:58:47.608198",
     "exception": false,
     "start_time": "2022-07-30T16:58:47.585356",
     "status": "completed"
    },
    "tags": []
   },
   "outputs": [],
   "source": [
    "# https://www.kaggle.com/kyakovlev\n",
    "# https://www.kaggle.com/competitions/amex-default-prediction/discussion/327534\n",
    "def amex_metric_mod(y_true, y_pred):\n",
    "\n",
    "    labels     = np.transpose(np.array([y_true, y_pred]))\n",
    "    labels     = labels[labels[:, 1].argsort()[::-1]]\n",
    "    weights    = np.where(labels[:,0]==0, 20, 1)\n",
    "    cut_vals   = labels[np.cumsum(weights) <= int(0.04 * np.sum(weights))]\n",
    "    top_four   = np.sum(cut_vals[:,0]) / np.sum(labels[:,0])\n",
    "\n",
    "    gini = [0,0]\n",
    "    for i in [1,0]:\n",
    "        labels         = np.transpose(np.array([y_true, y_pred]))\n",
    "        labels         = labels[labels[:, i].argsort()[::-1]]\n",
    "        weight         = np.where(labels[:,0]==0, 20, 1)\n",
    "        weight_random  = np.cumsum(weight / np.sum(weight))\n",
    "        total_pos      = np.sum(labels[:, 0] *  weight)\n",
    "        cum_pos_found  = np.cumsum(labels[:, 0] * weight)\n",
    "        lorentz        = cum_pos_found / total_pos\n",
    "        gini[i]        = np.sum((lorentz - weight_random) * weight)\n",
    "\n",
    "    return 0.5 * (gini[1]/gini[0] + top_four)"
   ]
  },
  {
   "cell_type": "code",
   "execution_count": 10,
   "id": "1e44a6f2",
   "metadata": {
    "execution": {
     "iopub.execute_input": "2022-07-30T16:58:47.627093Z",
     "iopub.status.busy": "2022-07-30T16:58:47.626730Z",
     "iopub.status.idle": "2022-07-30T17:05:11.807601Z",
     "shell.execute_reply": "2022-07-30T17:05:11.806713Z"
    },
    "papermill": {
     "duration": 384.193795,
     "end_time": "2022-07-30T17:05:11.810507",
     "exception": false,
     "start_time": "2022-07-30T16:58:47.616712",
     "status": "completed"
    },
    "scrolled": true,
    "tags": []
   },
   "outputs": [
    {
     "name": "stdout",
     "output_type": "stream",
     "text": [
      "#########################\n",
      "### Fold 1\n",
      "### Train size 367130 Valid size 91783\n",
      "### Training with 100% fold data...\n",
      "#########################\n",
      "[0]\ttrain-logloss:0.66202\tvalid-logloss:0.66204\n",
      "[100]\ttrain-logloss:0.23715\tvalid-logloss:0.23954\n",
      "[200]\ttrain-logloss:0.22265\tvalid-logloss:0.22748\n",
      "[300]\ttrain-logloss:0.21662\tvalid-logloss:0.22353\n",
      "[400]\ttrain-logloss:0.21272\tvalid-logloss:0.22149\n",
      "[500]\ttrain-logloss:0.20969\tvalid-logloss:0.22035\n",
      "[600]\ttrain-logloss:0.20704\tvalid-logloss:0.21954\n",
      "[700]\ttrain-logloss:0.20464\tvalid-logloss:0.21893\n",
      "[800]\ttrain-logloss:0.20255\tvalid-logloss:0.21851\n",
      "[900]\ttrain-logloss:0.20045\tvalid-logloss:0.21817\n",
      "[1000]\ttrain-logloss:0.19849\tvalid-logloss:0.21797\n",
      "[1100]\ttrain-logloss:0.19663\tvalid-logloss:0.21779\n",
      "[1200]\ttrain-logloss:0.19487\tvalid-logloss:0.21768\n",
      "[1300]\ttrain-logloss:0.19306\tvalid-logloss:0.21747\n",
      "[1400]\ttrain-logloss:0.19135\tvalid-logloss:0.21734\n",
      "[1500]\ttrain-logloss:0.18968\tvalid-logloss:0.21722\n",
      "[1600]\ttrain-logloss:0.18799\tvalid-logloss:0.21711\n",
      "[1700]\ttrain-logloss:0.18634\tvalid-logloss:0.21710\n",
      "[1800]\ttrain-logloss:0.18473\tvalid-logloss:0.21707\n",
      "[1833]\ttrain-logloss:0.18421\tvalid-logloss:0.21708\n",
      "Kaggle Metric = 0.7923717854310086 \n",
      "\n",
      "#########################\n",
      "### Fold 2\n",
      "### Train size 367130 Valid size 91783\n",
      "### Training with 100% fold data...\n",
      "#########################\n",
      "[0]\ttrain-logloss:0.66204\tvalid-logloss:0.66201\n",
      "[100]\ttrain-logloss:0.23759\tvalid-logloss:0.23856\n",
      "[200]\ttrain-logloss:0.22313\tvalid-logloss:0.22598\n",
      "[300]\ttrain-logloss:0.21710\tvalid-logloss:0.22205\n",
      "[400]\ttrain-logloss:0.21314\tvalid-logloss:0.22013\n",
      "[500]\ttrain-logloss:0.21002\tvalid-logloss:0.21899\n",
      "[600]\ttrain-logloss:0.20730\tvalid-logloss:0.21811\n",
      "[700]\ttrain-logloss:0.20498\tvalid-logloss:0.21763\n",
      "[800]\ttrain-logloss:0.20275\tvalid-logloss:0.21716\n",
      "[900]\ttrain-logloss:0.20067\tvalid-logloss:0.21686\n",
      "[1000]\ttrain-logloss:0.19869\tvalid-logloss:0.21669\n",
      "[1100]\ttrain-logloss:0.19676\tvalid-logloss:0.21648\n",
      "[1200]\ttrain-logloss:0.19495\tvalid-logloss:0.21636\n",
      "[1300]\ttrain-logloss:0.19323\tvalid-logloss:0.21624\n",
      "[1400]\ttrain-logloss:0.19147\tvalid-logloss:0.21611\n",
      "[1500]\ttrain-logloss:0.18974\tvalid-logloss:0.21599\n",
      "[1600]\ttrain-logloss:0.18811\tvalid-logloss:0.21599\n",
      "[1622]\ttrain-logloss:0.18772\tvalid-logloss:0.21596\n",
      "Kaggle Metric = 0.7920153767768285 \n",
      "\n",
      "#########################\n",
      "### Fold 3\n",
      "### Train size 367130 Valid size 91783\n",
      "### Training with 100% fold data...\n",
      "#########################\n",
      "[0]\ttrain-logloss:0.66196\tvalid-logloss:0.66208\n",
      "[100]\ttrain-logloss:0.23707\tvalid-logloss:0.24116\n",
      "[200]\ttrain-logloss:0.22256\tvalid-logloss:0.22901\n",
      "[300]\ttrain-logloss:0.21657\tvalid-logloss:0.22499\n",
      "[400]\ttrain-logloss:0.21255\tvalid-logloss:0.22296\n",
      "[500]\ttrain-logloss:0.20932\tvalid-logloss:0.22176\n",
      "[600]\ttrain-logloss:0.20661\tvalid-logloss:0.22104\n",
      "[700]\ttrain-logloss:0.20412\tvalid-logloss:0.22042\n",
      "[800]\ttrain-logloss:0.20192\tvalid-logloss:0.22012\n",
      "[900]\ttrain-logloss:0.19981\tvalid-logloss:0.21980\n",
      "[1000]\ttrain-logloss:0.19787\tvalid-logloss:0.21962\n",
      "[1100]\ttrain-logloss:0.19594\tvalid-logloss:0.21948\n",
      "[1200]\ttrain-logloss:0.19404\tvalid-logloss:0.21931\n",
      "[1300]\ttrain-logloss:0.19224\tvalid-logloss:0.21922\n",
      "[1400]\ttrain-logloss:0.19047\tvalid-logloss:0.21919\n",
      "[1500]\ttrain-logloss:0.18878\tvalid-logloss:0.21907\n",
      "[1600]\ttrain-logloss:0.18716\tvalid-logloss:0.21903\n",
      "[1700]\ttrain-logloss:0.18553\tvalid-logloss:0.21900\n",
      "[1800]\ttrain-logloss:0.18392\tvalid-logloss:0.21892\n",
      "[1900]\ttrain-logloss:0.18235\tvalid-logloss:0.21891\n",
      "[2000]\ttrain-logloss:0.18079\tvalid-logloss:0.21891\n",
      "[2036]\ttrain-logloss:0.18027\tvalid-logloss:0.21891\n",
      "Kaggle Metric = 0.7901517229687871 \n",
      "\n",
      "#########################\n",
      "### Fold 4\n",
      "### Train size 367131 Valid size 91782\n",
      "### Training with 100% fold data...\n",
      "#########################\n",
      "[0]\ttrain-logloss:0.66199\tvalid-logloss:0.66212\n",
      "[100]\ttrain-logloss:0.23698\tvalid-logloss:0.24154\n",
      "[200]\ttrain-logloss:0.22248\tvalid-logloss:0.22912\n",
      "[300]\ttrain-logloss:0.21637\tvalid-logloss:0.22523\n",
      "[400]\ttrain-logloss:0.21240\tvalid-logloss:0.22329\n",
      "[500]\ttrain-logloss:0.20927\tvalid-logloss:0.22215\n",
      "[600]\ttrain-logloss:0.20654\tvalid-logloss:0.22134\n",
      "[700]\ttrain-logloss:0.20414\tvalid-logloss:0.22090\n",
      "[800]\ttrain-logloss:0.20192\tvalid-logloss:0.22054\n",
      "[900]\ttrain-logloss:0.19984\tvalid-logloss:0.22033\n",
      "[1000]\ttrain-logloss:0.19780\tvalid-logloss:0.22015\n",
      "[1100]\ttrain-logloss:0.19587\tvalid-logloss:0.21999\n",
      "[1200]\ttrain-logloss:0.19401\tvalid-logloss:0.21983\n",
      "[1300]\ttrain-logloss:0.19221\tvalid-logloss:0.21975\n",
      "[1400]\ttrain-logloss:0.19043\tvalid-logloss:0.21968\n",
      "[1500]\ttrain-logloss:0.18875\tvalid-logloss:0.21960\n",
      "[1600]\ttrain-logloss:0.18712\tvalid-logloss:0.21951\n",
      "[1700]\ttrain-logloss:0.18541\tvalid-logloss:0.21950\n",
      "[1743]\ttrain-logloss:0.18473\tvalid-logloss:0.21951\n",
      "Kaggle Metric = 0.787701223525112 \n",
      "\n",
      "#########################\n",
      "### Fold 5\n",
      "### Train size 367131 Valid size 91782\n",
      "### Training with 100% fold data...\n",
      "#########################\n",
      "[0]\ttrain-logloss:0.66205\tvalid-logloss:0.66195\n",
      "[100]\ttrain-logloss:0.23771\tvalid-logloss:0.23821\n",
      "[200]\ttrain-logloss:0.22328\tvalid-logloss:0.22575\n",
      "[300]\ttrain-logloss:0.21724\tvalid-logloss:0.22162\n",
      "[400]\ttrain-logloss:0.21330\tvalid-logloss:0.21952\n",
      "[500]\ttrain-logloss:0.21024\tvalid-logloss:0.21843\n",
      "[600]\ttrain-logloss:0.20761\tvalid-logloss:0.21762\n",
      "[700]\ttrain-logloss:0.20519\tvalid-logloss:0.21704\n",
      "[800]\ttrain-logloss:0.20288\tvalid-logloss:0.21658\n",
      "[900]\ttrain-logloss:0.20085\tvalid-logloss:0.21635\n",
      "[1000]\ttrain-logloss:0.19885\tvalid-logloss:0.21619\n",
      "[1100]\ttrain-logloss:0.19695\tvalid-logloss:0.21607\n",
      "[1200]\ttrain-logloss:0.19507\tvalid-logloss:0.21599\n",
      "[1300]\ttrain-logloss:0.19321\tvalid-logloss:0.21583\n",
      "[1400]\ttrain-logloss:0.19143\tvalid-logloss:0.21581\n",
      "[1500]\ttrain-logloss:0.18977\tvalid-logloss:0.21574\n",
      "[1600]\ttrain-logloss:0.18807\tvalid-logloss:0.21568\n",
      "[1700]\ttrain-logloss:0.18650\tvalid-logloss:0.21563\n",
      "[1795]\ttrain-logloss:0.18496\tvalid-logloss:0.21564\n",
      "Kaggle Metric = 0.7953622737361434 \n",
      "\n",
      "#########################\n",
      "OVERALL CV Kaggle Metric = 0.791575770921339\n"
     ]
    }
   ],
   "source": [
    "importances = []\n",
    "oof = []\n",
    "train = train.to_pandas() # free GPU memory\n",
    "TRAIN_SUBSAMPLE = 1.0\n",
    "gc.collect()\n",
    "\n",
    "skf = KFold(n_splits=FOLDS, shuffle=True, random_state=SEED)\n",
    "for fold,(train_idx, valid_idx) in enumerate(skf.split(\n",
    "            train, train.target )):\n",
    "    \n",
    "    # TRAIN WITH SUBSAMPLE OF TRAIN FOLD DATA\n",
    "    if TRAIN_SUBSAMPLE<1.0:\n",
    "        np.random.seed(SEED)\n",
    "        train_idx = np.random.choice(train_idx, \n",
    "                       int(len(train_idx)*TRAIN_SUBSAMPLE), replace=False)\n",
    "        np.random.seed(None)\n",
    "    \n",
    "    print('#'*25)\n",
    "    print('### Fold',fold+1)\n",
    "    print('### Train size',len(train_idx),'Valid size',len(valid_idx))\n",
    "    print(f'### Training with {int(TRAIN_SUBSAMPLE*100)}% fold data...')\n",
    "    print('#'*25)\n",
    "    \n",
    "    # TRAIN, VALID, TEST FOR FOLD K\n",
    "    Xy_train = IterLoadForDMatrix(train.loc[train_idx], FEATURES, 'target')\n",
    "    X_valid = train.loc[valid_idx, FEATURES]\n",
    "    y_valid = train.loc[valid_idx, 'target']\n",
    "    \n",
    "    dtrain = xgb.DeviceQuantileDMatrix(Xy_train, max_bin=256)\n",
    "    dvalid = xgb.DMatrix(data=X_valid, label=y_valid)\n",
    "    \n",
    "    # TRAIN MODEL FOLD K\n",
    "    model = xgb.train(xgb_parms, \n",
    "                dtrain=dtrain,\n",
    "                evals=[(dtrain,'train'),(dvalid,'valid')],\n",
    "                num_boost_round=9999,\n",
    "                early_stopping_rounds=100,\n",
    "                verbose_eval=100) \n",
    "    model.save_model(f'XGB_v{VER}_fold{fold}.xgb')\n",
    "    \n",
    "    # GET FEATURE IMPORTANCE FOR FOLD K\n",
    "    dd = model.get_score(importance_type='weight')\n",
    "    df = pd.DataFrame({'feature':dd.keys(),f'importance_{fold}':dd.values()})\n",
    "    importances.append(df)\n",
    "            \n",
    "    # INFER OOF FOLD K\n",
    "    oof_preds = model.predict(dvalid)\n",
    "    acc = amex_metric_mod(y_valid.values, oof_preds)\n",
    "    print('Kaggle Metric =',acc,'\\n')\n",
    "    \n",
    "    # SAVE OOF\n",
    "    df = train.loc[valid_idx, ['customer_ID','target'] ].copy()\n",
    "    df['oof_pred'] = oof_preds\n",
    "    oof.append( df )\n",
    "    \n",
    "    del dtrain, Xy_train, dd, df\n",
    "    del X_valid, y_valid, dvalid, model\n",
    "    _ = gc.collect()\n",
    "    \n",
    "print('#'*25)\n",
    "oof = pd.concat(oof,axis=0,ignore_index=True).set_index('customer_ID')\n",
    "acc = amex_metric_mod(oof.target.values, oof.oof_pred.values)\n",
    "print('OVERALL CV Kaggle Metric =',acc)"
   ]
  },
  {
   "cell_type": "code",
   "execution_count": 11,
   "id": "febcd6c6",
   "metadata": {
    "execution": {
     "iopub.execute_input": "2022-07-30T17:05:11.845367Z",
     "iopub.status.busy": "2022-07-30T17:05:11.845022Z",
     "iopub.status.idle": "2022-07-30T17:05:12.017830Z",
     "shell.execute_reply": "2022-07-30T17:05:12.017046Z"
    },
    "papermill": {
     "duration": 0.192027,
     "end_time": "2022-07-30T17:05:12.019727",
     "exception": false,
     "start_time": "2022-07-30T17:05:11.827700",
     "status": "completed"
    },
    "tags": []
   },
   "outputs": [],
   "source": [
    "# CLEAN RAM\n",
    "del train\n",
    "_ = gc.collect()"
   ]
  },
  {
   "cell_type": "markdown",
   "id": "f570298e",
   "metadata": {
    "papermill": {
     "duration": 0.016201,
     "end_time": "2022-07-30T17:05:12.052771",
     "exception": false,
     "start_time": "2022-07-30T17:05:12.036570",
     "status": "completed"
    },
    "tags": []
   },
   "source": [
    "# Save OOF Preds"
   ]
  },
  {
   "cell_type": "code",
   "execution_count": 12,
   "id": "7e6b4847",
   "metadata": {
    "execution": {
     "iopub.execute_input": "2022-07-30T17:05:12.086851Z",
     "iopub.status.busy": "2022-07-30T17:05:12.086537Z",
     "iopub.status.idle": "2022-07-30T17:05:17.111905Z",
     "shell.execute_reply": "2022-07-30T17:05:17.111136Z"
    },
    "papermill": {
     "duration": 5.045333,
     "end_time": "2022-07-30T17:05:17.113951",
     "exception": false,
     "start_time": "2022-07-30T17:05:12.068618",
     "status": "completed"
    },
    "tags": []
   },
   "outputs": [
    {
     "data": {
      "text/html": [
       "<div>\n",
       "<style scoped>\n",
       "    .dataframe tbody tr th:only-of-type {\n",
       "        vertical-align: middle;\n",
       "    }\n",
       "\n",
       "    .dataframe tbody tr th {\n",
       "        vertical-align: top;\n",
       "    }\n",
       "\n",
       "    .dataframe thead th {\n",
       "        text-align: right;\n",
       "    }\n",
       "</style>\n",
       "<table border=\"1\" class=\"dataframe\">\n",
       "  <thead>\n",
       "    <tr style=\"text-align: right;\">\n",
       "      <th></th>\n",
       "      <th>customer_ID</th>\n",
       "      <th>target</th>\n",
       "      <th>oof_pred</th>\n",
       "    </tr>\n",
       "  </thead>\n",
       "  <tbody>\n",
       "    <tr>\n",
       "      <th>0</th>\n",
       "      <td>20eac26171c3d251c55fc78204e59fab1c15fc2bc96d0c...</td>\n",
       "      <td>1</td>\n",
       "      <td>0.718160</td>\n",
       "    </tr>\n",
       "    <tr>\n",
       "      <th>1</th>\n",
       "      <td>aea50fdf9b974ccec95fa177c3225a0f913483b457de6e...</td>\n",
       "      <td>0</td>\n",
       "      <td>0.000333</td>\n",
       "    </tr>\n",
       "    <tr>\n",
       "      <th>2</th>\n",
       "      <td>32cd2d41aef737b69089882754395925c96eaee1f4a859...</td>\n",
       "      <td>0</td>\n",
       "      <td>0.002575</td>\n",
       "    </tr>\n",
       "    <tr>\n",
       "      <th>3</th>\n",
       "      <td>8daa6d5dc2655a8a437531e6b8b96829113cdfe9bf6cae...</td>\n",
       "      <td>0</td>\n",
       "      <td>0.015235</td>\n",
       "    </tr>\n",
       "    <tr>\n",
       "      <th>4</th>\n",
       "      <td>0ceba351a3851202542feb49d7385bcef32f6037fc57c7...</td>\n",
       "      <td>1</td>\n",
       "      <td>0.871959</td>\n",
       "    </tr>\n",
       "  </tbody>\n",
       "</table>\n",
       "</div>"
      ],
      "text/plain": [
       "                                         customer_ID  target  oof_pred\n",
       "0  20eac26171c3d251c55fc78204e59fab1c15fc2bc96d0c...       1  0.718160\n",
       "1  aea50fdf9b974ccec95fa177c3225a0f913483b457de6e...       0  0.000333\n",
       "2  32cd2d41aef737b69089882754395925c96eaee1f4a859...       0  0.002575\n",
       "3  8daa6d5dc2655a8a437531e6b8b96829113cdfe9bf6cae...       0  0.015235\n",
       "4  0ceba351a3851202542feb49d7385bcef32f6037fc57c7...       1  0.871959"
      ]
     },
     "execution_count": 12,
     "metadata": {},
     "output_type": "execute_result"
    }
   ],
   "source": [
    "oof_xgb = pd.read_parquet(TRAIN_PATH, columns=['customer_ID']).drop_duplicates()\n",
    "oof_xgb['customer_ID_hash'] = oof_xgb['customer_ID'].apply(lambda x: int(x[-16:],16) ).astype('int64')\n",
    "oof_xgb = oof_xgb.set_index('customer_ID_hash')\n",
    "oof_xgb = oof_xgb.merge(oof, left_index=True, right_index=True)\n",
    "oof_xgb = oof_xgb.sort_index().reset_index(drop=True)\n",
    "oof_xgb.to_csv(f'oof_xgb_v{VER}.csv',index=False)\n",
    "oof_xgb.head()"
   ]
  },
  {
   "cell_type": "code",
   "execution_count": 13,
   "id": "3b0cf443",
   "metadata": {
    "execution": {
     "iopub.execute_input": "2022-07-30T17:05:17.149918Z",
     "iopub.status.busy": "2022-07-30T17:05:17.149110Z",
     "iopub.status.idle": "2022-07-30T17:05:17.523049Z",
     "shell.execute_reply": "2022-07-30T17:05:17.522182Z"
    },
    "papermill": {
     "duration": 0.394003,
     "end_time": "2022-07-30T17:05:17.525357",
     "exception": false,
     "start_time": "2022-07-30T17:05:17.131354",
     "status": "completed"
    },
    "tags": []
   },
   "outputs": [
    {
     "data": {
      "image/png": "[encoded data removed]",
      "text/plain": [
       "<Figure size 432x288 with 1 Axes>"
      ]
     },
     "metadata": {
      "needs_background": "light"
     },
     "output_type": "display_data"
    }
   ],
   "source": [
    "# PLOT OOF PREDICTIONS\n",
    "plt.hist(oof_xgb.oof_pred.values, bins=100)\n",
    "plt.title('OOF Predictions')\n",
    "plt.show()"
   ]
  },
  {
   "cell_type": "code",
   "execution_count": 14,
   "id": "ec9c472d",
   "metadata": {
    "execution": {
     "iopub.execute_input": "2022-07-30T17:05:17.560446Z",
     "iopub.status.busy": "2022-07-30T17:05:17.560113Z",
     "iopub.status.idle": "2022-07-30T17:05:17.700109Z",
     "shell.execute_reply": "2022-07-30T17:05:17.699266Z"
    },
    "papermill": {
     "duration": 0.159592,
     "end_time": "2022-07-30T17:05:17.702090",
     "exception": false,
     "start_time": "2022-07-30T17:05:17.542498",
     "status": "completed"
    },
    "tags": []
   },
   "outputs": [],
   "source": [
    "# CLEAR VRAM, RAM FOR INFERENCE BELOW\n",
    "del oof_xgb, oof\n",
    "_ = gc.collect()"
   ]
  },
  {
   "cell_type": "markdown",
   "id": "2753ecc2",
   "metadata": {
    "papermill": {
     "duration": 0.016517,
     "end_time": "2022-07-30T17:05:17.736491",
     "exception": false,
     "start_time": "2022-07-30T17:05:17.719974",
     "status": "completed"
    },
    "tags": []
   },
   "source": [
    "# Feature Importance"
   ]
  },
  {
   "cell_type": "code",
   "execution_count": 15,
   "id": "062bfae0",
   "metadata": {
    "execution": {
     "iopub.execute_input": "2022-07-30T17:05:17.771092Z",
     "iopub.status.busy": "2022-07-30T17:05:17.770740Z",
     "iopub.status.idle": "2022-07-30T17:05:17.797601Z",
     "shell.execute_reply": "2022-07-30T17:05:17.796886Z"
    },
    "papermill": {
     "duration": 0.046346,
     "end_time": "2022-07-30T17:05:17.799486",
     "exception": false,
     "start_time": "2022-07-30T17:05:17.753140",
     "status": "completed"
    },
    "tags": []
   },
   "outputs": [],
   "source": [
    "import matplotlib.pyplot as plt\n",
    "\n",
    "df = importances[0].copy()\n",
    "for k in range(1,FOLDS): df = df.merge(importances[k], on='feature', how='left')\n",
    "df['importance'] = df.iloc[:,1:].mean(axis=1)\n",
    "df = df.sort_values('importance',ascending=False)\n",
    "df.to_csv(f'xgb_feature_importance_v{VER}.csv',index=False)"
   ]
  },
  {
   "cell_type": "code",
   "execution_count": 16,
   "id": "ccf62a29",
   "metadata": {
    "execution": {
     "iopub.execute_input": "2022-07-30T17:05:17.834317Z",
     "iopub.status.busy": "2022-07-30T17:05:17.833747Z",
     "iopub.status.idle": "2022-07-30T17:05:18.104353Z",
     "shell.execute_reply": "2022-07-30T17:05:18.103554Z"
    },
    "papermill": {
     "duration": 0.290242,
     "end_time": "2022-07-30T17:05:18.106453",
     "exception": false,
     "start_time": "2022-07-30T17:05:17.816211",
     "status": "completed"
    },
    "tags": []
   },
   "outputs": [
    {
     "data": {
      "image/png": "[encoded data removed]",
      "text/plain": [
       "<Figure size 720x720 with 1 Axes>"
      ]
     },
     "metadata": {
      "needs_background": "light"
     },
     "output_type": "display_data"
    }
   ],
   "source": [
    "NUM_FEATURES = 20\n",
    "plt.figure(figsize=(10,5*NUM_FEATURES//10))\n",
    "plt.barh(np.arange(NUM_FEATURES,0,-1), df.importance.values[:NUM_FEATURES])\n",
    "plt.yticks(np.arange(NUM_FEATURES,0,-1), df.feature.values[:NUM_FEATURES])\n",
    "plt.title(f'XGB Feature Importance - Top {NUM_FEATURES}')\n",
    "plt.show()"
   ]
  },
  {
   "cell_type": "markdown",
   "id": "f91a4011",
   "metadata": {
    "papermill": {
     "duration": 0.016554,
     "end_time": "2022-07-30T17:05:18.140116",
     "exception": false,
     "start_time": "2022-07-30T17:05:18.123562",
     "status": "completed"
    },
    "tags": []
   },
   "source": [
    "# Process and Feature Engineer Test Data\n",
    "We will load @raddar Kaggle dataset from [here][1] with discussion [here][2]. Then we will engineer features suggested by @huseyincot in his notebooks [here][1] and [here][4]. We will use [RAPIDS][5] and the GPU to create new features quickly.\n",
    "\n",
    "[1]: https://www.kaggle.com/datasets/raddar/amex-data-integer-dtypes-parquet-format\n",
    "[2]: https://www.kaggle.com/competitions/amex-default-prediction/discussion/328514\n",
    "[3]: https://www.kaggle.com/code/huseyincot/amex-catboost-0-793\n",
    "[4]: https://www.kaggle.com/code/huseyincot/amex-agg-data-how-it-created\n",
    "[5]: https://rapids.ai/"
   ]
  },
  {
   "cell_type": "code",
   "execution_count": 17,
   "id": "47cad1dc",
   "metadata": {
    "execution": {
     "iopub.execute_input": "2022-07-30T17:05:18.174742Z",
     "iopub.status.busy": "2022-07-30T17:05:18.174427Z",
     "iopub.status.idle": "2022-07-30T17:05:20.435992Z",
     "shell.execute_reply": "2022-07-30T17:05:20.434998Z"
    },
    "papermill": {
     "duration": 2.281895,
     "end_time": "2022-07-30T17:05:20.438689",
     "exception": false,
     "start_time": "2022-07-30T17:05:18.156794",
     "status": "completed"
    },
    "tags": []
   },
   "outputs": [
    {
     "name": "stdout",
     "output_type": "stream",
     "text": [
      "Reading test data...\n",
      "shape of data: (11363762, 2)\n",
      "We will process test data as 4 separate parts.\n",
      "There will be 231155 customers in each part (except the last part).\n",
      "Below are number of rows in each part:\n",
      "[2841209, 2839857, 2842105, 2840591]\n"
     ]
    }
   ],
   "source": [
    "# CALCULATE SIZE OF EACH SEPARATE TEST PART\n",
    "def get_rows(customers, test, NUM_PARTS = 4, verbose = ''):\n",
    "    chunk = len(customers)//NUM_PARTS\n",
    "    if verbose != '':\n",
    "        print(f'We will process {verbose} data as {NUM_PARTS} separate parts.')\n",
    "        print(f'There will be {chunk} customers in each part (except the last part).')\n",
    "        print('Below are number of rows in each part:')\n",
    "    rows = []\n",
    "\n",
    "    for k in range(NUM_PARTS):\n",
    "        if k==NUM_PARTS-1: cc = customers[k*chunk:]\n",
    "        else: cc = customers[k*chunk:(k+1)*chunk]\n",
    "        s = test.loc[test.customer_ID.isin(cc)].shape[0]\n",
    "        rows.append(s)\n",
    "    if verbose != '': print( rows )\n",
    "    return rows,chunk\n",
    "\n",
    "# COMPUTE SIZE OF 4 PARTS FOR TEST DATA\n",
    "NUM_PARTS = 4\n",
    "TEST_PATH = '../input/amex-data-integer-dtypes-parquet-format/test.parquet'\n",
    "\n",
    "print(f'Reading test data...')\n",
    "test = read_file(path = TEST_PATH, usecols = ['customer_ID','S_2'])\n",
    "customers = test[['customer_ID']].drop_duplicates().sort_index().values.flatten()\n",
    "rows,num_cust = get_rows(customers, test[['customer_ID']], NUM_PARTS = NUM_PARTS, verbose = 'test')"
   ]
  },
  {
   "cell_type": "markdown",
   "id": "6f6cc00a",
   "metadata": {
    "papermill": {
     "duration": 0.017225,
     "end_time": "2022-07-30T17:05:20.474036",
     "exception": false,
     "start_time": "2022-07-30T17:05:20.456811",
     "status": "completed"
    },
    "tags": []
   },
   "source": [
    "# Infer Test"
   ]
  },
  {
   "cell_type": "code",
   "execution_count": 18,
   "id": "ba2ea283",
   "metadata": {
    "execution": {
     "iopub.execute_input": "2022-07-30T17:05:20.510128Z",
     "iopub.status.busy": "2022-07-30T17:05:20.509793Z",
     "iopub.status.idle": "2022-07-30T17:07:47.023680Z",
     "shell.execute_reply": "2022-07-30T17:07:47.022823Z"
    },
    "papermill": {
     "duration": 146.534454,
     "end_time": "2022-07-30T17:07:47.025980",
     "exception": false,
     "start_time": "2022-07-30T17:05:20.491526",
     "status": "completed"
    },
    "tags": []
   },
   "outputs": [
    {
     "name": "stdout",
     "output_type": "stream",
     "text": [
      "\n",
      "Reading test data...\n",
      "shape of data: (11363762, 190)\n",
      "=> Test part 1 has shape (2841209, 190)\n",
      "shape after engineering (231155, 553)\n",
      "\n",
      "Reading test data...\n",
      "shape of data: (11363762, 190)\n",
      "=> Test part 2 has shape (2839857, 190)\n",
      "shape after engineering (231155, 553)\n",
      "\n",
      "Reading test data...\n",
      "shape of data: (11363762, 190)\n",
      "=> Test part 3 has shape (2842105, 190)\n",
      "shape after engineering (231155, 553)\n",
      "\n",
      "Reading test data...\n",
      "shape of data: (11363762, 190)\n",
      "=> Test part 4 has shape (2840591, 190)\n",
      "shape after engineering (231156, 553)\n"
     ]
    }
   ],
   "source": [
    "# INFER TEST DATA IN PARTS\n",
    "skip_rows = 0\n",
    "skip_cust = 0\n",
    "test_preds = []\n",
    "\n",
    "for k in range(NUM_PARTS):\n",
    "    \n",
    "    # READ PART OF TEST DATA\n",
    "    print(f'\\nReading test data...')\n",
    "    test = read_file(path = TEST_PATH)\n",
    "    test = test.iloc[skip_rows:skip_rows+rows[k]]\n",
    "    skip_rows += rows[k]\n",
    "    print(f'=> Test part {k+1} has shape', test.shape )\n",
    "    \n",
    "    # PROCESS AND FEATURE ENGINEER PART OF TEST DATA\n",
    "    test = process_and_feature_engineer(test)\n",
    "    if k==NUM_PARTS-1: test = test.loc[customers[skip_cust:]]\n",
    "    else: test = test.loc[customers[skip_cust:skip_cust+num_cust]]\n",
    "    skip_cust += num_cust\n",
    "    \n",
    "    # TEST DATA FOR XGB\n",
    "    X_test = test[FEATURES]\n",
    "    dtest = xgb.DMatrix(data=X_test)\n",
    "    test = test[['P_2_mean']] # reduce memory\n",
    "    del X_test\n",
    "    gc.collect()\n",
    "\n",
    "    # INFER XGB MODELS ON TEST DATA\n",
    "    model = xgb.Booster()\n",
    "    model.load_model(f'XGB_v{VER}_fold0.xgb')\n",
    "    preds = model.predict(dtest)\n",
    "    for f in range(1,FOLDS):\n",
    "        model.load_model(f'XGB_v{VER}_fold{f}.xgb')\n",
    "        preds += model.predict(dtest)\n",
    "    preds /= FOLDS\n",
    "    test_preds.append(preds)\n",
    "\n",
    "    # CLEAN MEMORY\n",
    "    del dtest, model\n",
    "    _ = gc.collect()"
   ]
  },
  {
   "cell_type": "markdown",
   "id": "f2369605",
   "metadata": {
    "papermill": {
     "duration": 0.017961,
     "end_time": "2022-07-30T17:07:47.063722",
     "exception": false,
     "start_time": "2022-07-30T17:07:47.045761",
     "status": "completed"
    },
    "tags": []
   },
   "source": [
    "# Create Submission CSV"
   ]
  },
  {
   "cell_type": "code",
   "execution_count": 19,
   "id": "0c4ffe14",
   "metadata": {
    "execution": {
     "iopub.execute_input": "2022-07-30T17:07:47.101005Z",
     "iopub.status.busy": "2022-07-30T17:07:47.100652Z",
     "iopub.status.idle": "2022-07-30T17:07:48.087234Z",
     "shell.execute_reply": "2022-07-30T17:07:48.086275Z"
    },
    "papermill": {
     "duration": 1.008865,
     "end_time": "2022-07-30T17:07:48.090606",
     "exception": false,
     "start_time": "2022-07-30T17:07:47.081741",
     "status": "completed"
    },
    "tags": []
   },
   "outputs": [
    {
     "name": "stdout",
     "output_type": "stream",
     "text": [
      "Submission file shape is (924621, 2)\n"
     ]
    },
    {
     "data": {
      "text/html": [
       "<div>\n",
       "<style scoped>\n",
       "    .dataframe tbody tr th:only-of-type {\n",
       "        vertical-align: middle;\n",
       "    }\n",
       "\n",
       "    .dataframe tbody tr th {\n",
       "        vertical-align: top;\n",
       "    }\n",
       "\n",
       "    .dataframe thead th {\n",
       "        text-align: right;\n",
       "    }\n",
       "</style>\n",
       "<table border=\"1\" class=\"dataframe\">\n",
       "  <thead>\n",
       "    <tr style=\"text-align: right;\">\n",
       "      <th></th>\n",
       "      <th>customer_ID</th>\n",
       "      <th>prediction</th>\n",
       "    </tr>\n",
       "  </thead>\n",
       "  <tbody>\n",
       "    <tr>\n",
       "      <th>0</th>\n",
       "      <td>03999d5e3bd61a69504cc6e7025c260c1ed2e5b449dba5...</td>\n",
       "      <td>0.118091</td>\n",
       "    </tr>\n",
       "    <tr>\n",
       "      <th>1</th>\n",
       "      <td>039b4f21aa584fb0c3c7055beabc098af55013f9f25515...</td>\n",
       "      <td>0.003868</td>\n",
       "    </tr>\n",
       "    <tr>\n",
       "      <th>2</th>\n",
       "      <td>039a6aea85575ebd33eec75e5c45bc7973481b81a99b62...</td>\n",
       "      <td>0.081541</td>\n",
       "    </tr>\n",
       "    <tr>\n",
       "      <th>3</th>\n",
       "      <td>039bd96164c6567580b24ba13c2b85b60f4554eb43d55b...</td>\n",
       "      <td>0.393214</td>\n",
       "    </tr>\n",
       "    <tr>\n",
       "      <th>4</th>\n",
       "      <td>0399a5a95461ced4134cd9693712fb012351cca1bde04d...</td>\n",
       "      <td>0.000122</td>\n",
       "    </tr>\n",
       "  </tbody>\n",
       "</table>\n",
       "</div>"
      ],
      "text/plain": [
       "                                         customer_ID  prediction\n",
       "0  03999d5e3bd61a69504cc6e7025c260c1ed2e5b449dba5...    0.118091\n",
       "1  039b4f21aa584fb0c3c7055beabc098af55013f9f25515...    0.003868\n",
       "2  039a6aea85575ebd33eec75e5c45bc7973481b81a99b62...    0.081541\n",
       "3  039bd96164c6567580b24ba13c2b85b60f4554eb43d55b...    0.393214\n",
       "4  0399a5a95461ced4134cd9693712fb012351cca1bde04d...    0.000122"
      ]
     },
     "execution_count": 19,
     "metadata": {},
     "output_type": "execute_result"
    }
   ],
   "source": [
    "# WRITE SUBMISSION FILE\n",
    "test_preds = np.concatenate(test_preds)\n",
    "test = cudf.DataFrame(index=customers,data={'prediction':test_preds})\n",
    "sub = cudf.read_csv('../input/amex-default-prediction/sample_submission.csv')[['customer_ID']]\n",
    "sub['customer_ID_hash'] = sub['customer_ID'].str[-16:].str.hex_to_int().astype('int64')\n",
    "sub = sub.set_index('customer_ID_hash')\n",
    "sub = sub.merge(test[['prediction']], left_index=True, right_index=True, how='left')\n",
    "sub = sub.reset_index(drop=True)\n",
    "\n",
    "# DISPLAY PREDICTIONS\n",
    "sub.to_csv(f'submission_xgb_v{VER}.csv',index=False)\n",
    "print('Submission file shape is', sub.shape )\n",
    "sub.head()"
   ]
  },
  {
   "cell_type": "code",
   "execution_count": 20,
   "id": "36f1d619",
   "metadata": {
    "execution": {
     "iopub.execute_input": "2022-07-30T17:07:48.129047Z",
     "iopub.status.busy": "2022-07-30T17:07:48.128747Z",
     "iopub.status.idle": "2022-07-30T17:07:48.853974Z",
     "shell.execute_reply": "2022-07-30T17:07:48.853180Z"
    },
    "papermill": {
     "duration": 0.746185,
     "end_time": "2022-07-30T17:07:48.855961",
     "exception": false,
     "start_time": "2022-07-30T17:07:48.109776",
     "status": "completed"
    },
    "tags": []
   },
   "outputs": [
    {
     "data": {
      "image/png": "[encoded data removed]",
      "text/plain": [
       "<Figure size 432x288 with 1 Axes>"
      ]
     },
     "metadata": {
      "needs_background": "light"
     },
     "output_type": "display_data"
    }
   ],
   "source": [
    "# PLOT PREDICTIONS\n",
    "plt.hist(sub.to_pandas().prediction, bins=100)\n",
    "plt.title('Test Predictions')\n",
    "plt.show()"
   ]
  }
 ],
 "metadata": {
  "kernelspec": {
   "display_name": "Python 3",
   "language": "python",
   "name": "python3"
  },
  "language_info": {
   "codemirror_mode": {
    "name": "ipython",
    "version": 3
   },
   "file_extension": ".py",
   "mimetype": "text/x-python",
   "name": "python",
   "nbconvert_exporter": "python",
   "pygments_lexer": "ipython3",
   "version": "3.7.12"
  },
  "papermill": {
   "default_parameters": {},
   "duration": 578.322162,
   "end_time": "2022-07-30T17:07:50.198624",
   "environment_variables": {},
   "exception": null,
   "input_path": "__notebook__.ipynb",
   "output_path": "__notebook__.ipynb",
   "parameters": {},
   "start_time": "2022-07-30T16:58:11.876462",
   "version": "2.3.4"
  }
 },
 "nbformat": 4,
 "nbformat_minor": 5
}
