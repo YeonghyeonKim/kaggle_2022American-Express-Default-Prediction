{
 "cells": [
  {
   "cell_type": "markdown",
   "id": "98a5fd4a",
   "metadata": {
    "papermill": {
     "duration": 0.009481,
     "end_time": "2022-07-29T16:05:51.585812",
     "exception": false,
     "start_time": "2022-07-29T16:05:51.576331",
     "status": "completed"
    },
    "tags": []
   },
   "source": [
    "# XGBoost Starter - LB 0.793\n",
    "In this notebook we build and train an XGBoost model using @raddar Kaggle dataset from [here][1] with discussion [here][2]. Then we engineer features suggested by @huseyincot in his notebooks [here][3] and [here][4]. This XGB model achieves CV 0.792 LB 0.793! When training with XGB, we use a special XGB dataloader called `DeviceQuantileDMatrix` which uses a small GPU memory footprint. This allows us to engineer more additional columns and train with more rows of data. Our feature engineering is performed using [RAPIDS][5] on the GPU to create new features quickly.\n",
    "\n",
    "[1]: https://www.kaggle.com/datasets/raddar/amex-data-integer-dtypes-parquet-format\n",
    "[2]: https://www.kaggle.com/competitions/amex-default-prediction/discussion/328514\n",
    "[3]: https://www.kaggle.com/code/huseyincot/amex-catboost-0-793\n",
    "[4]: https://www.kaggle.com/code/huseyincot/amex-agg-data-how-it-created\n",
    "[5]: https://rapids.ai/"
   ]
  },
  {
   "cell_type": "markdown",
   "id": "d1500742",
   "metadata": {
    "papermill": {
     "duration": 0.006803,
     "end_time": "2022-07-29T16:05:51.599776",
     "exception": false,
     "start_time": "2022-07-29T16:05:51.592973",
     "status": "completed"
    },
    "tags": []
   },
   "source": [
    "Feature Engineering I done\n",
    "1. Drop B_29, https://www.kaggle.com/code/roberthatch/amex-feature-engg-gpu-or-cpu-process-in-chunks/notebook\n",
    "2. Add each customer count (how long they used) (not normalize)\n",
    "3. Don't fill NaN (with -127)\n",
    "4. remove num_features's min, std\n",
    "5. D_39에 대한 feature 추가 -> CV하락\n",
    "6. B_1과 B_2간의 연관 feature 추가; CV 0.7920\n",
    "7. B_8과 B_9간의 연관 feature 추가; CV 0.7919\n",
    "8. corr가 높은 feature중 제거; CV: 0.7914\n",
    "9. 6+ fillna(method='bfill')\n",
    "<!-- 9. add nasdaq info simply -->"
   ]
  },
  {
   "cell_type": "markdown",
   "id": "d3e65f89",
   "metadata": {
    "papermill": {
     "duration": 0.00658,
     "end_time": "2022-07-29T16:05:51.613395",
     "exception": false,
     "start_time": "2022-07-29T16:05:51.606815",
     "status": "completed"
    },
    "tags": []
   },
   "source": [
    "# Load Libraries"
   ]
  },
  {
   "cell_type": "code",
   "execution_count": 1,
   "id": "de8c3ac0",
   "metadata": {
    "execution": {
     "iopub.execute_input": "2022-07-29T16:05:51.629312Z",
     "iopub.status.busy": "2022-07-29T16:05:51.628530Z",
     "iopub.status.idle": "2022-07-29T16:05:55.851392Z",
     "shell.execute_reply": "2022-07-29T16:05:55.849841Z"
    },
    "papermill": {
     "duration": 4.233685,
     "end_time": "2022-07-29T16:05:55.853494",
     "exception": false,
     "start_time": "2022-07-29T16:05:51.619809",
     "status": "completed"
    },
    "tags": []
   },
   "outputs": [
    {
     "name": "stdout",
     "output_type": "stream",
     "text": [
      "RAPIDS version 21.10.01\n"
     ]
    }
   ],
   "source": [
    "# LOAD LIBRARIES\n",
    "import pandas as pd, numpy as np # CPU libraries\n",
    "import cupy, cudf # GPU libraries\n",
    "import matplotlib.pyplot as plt, gc, os\n",
    "\n",
    "print('RAPIDS version',cudf.__version__)"
   ]
  },
  {
   "cell_type": "code",
   "execution_count": 2,
   "id": "6e74eb33",
   "metadata": {
    "execution": {
     "iopub.execute_input": "2022-07-29T16:05:55.868280Z",
     "iopub.status.busy": "2022-07-29T16:05:55.867982Z",
     "iopub.status.idle": "2022-07-29T16:05:55.872082Z",
     "shell.execute_reply": "2022-07-29T16:05:55.871330Z"
    },
    "papermill": {
     "duration": 0.013418,
     "end_time": "2022-07-29T16:05:55.873710",
     "exception": false,
     "start_time": "2022-07-29T16:05:55.860292",
     "status": "completed"
    },
    "tags": []
   },
   "outputs": [],
   "source": [
    "# VERSION NAME FOR SAVED MODEL FILES\n",
    "VER = 1\n",
    "\n",
    "# TRAIN RANDOM SEED\n",
    "SEED = 42\n",
    "\n",
    "# FILL NAN VALUE\n",
    "NAN_VALUE = -127 # will fit in int8\n",
    "\n",
    "# FOLDS PER MODEL\n",
    "FOLDS = 5"
   ]
  },
  {
   "cell_type": "markdown",
   "id": "f10de390",
   "metadata": {
    "papermill": {
     "duration": 0.006939,
     "end_time": "2022-07-29T16:05:55.887042",
     "exception": false,
     "start_time": "2022-07-29T16:05:55.880103",
     "status": "completed"
    },
    "tags": []
   },
   "source": [
    "# Process and Feature Engineer Train Data\n",
    "We will load @raddar Kaggle dataset from [here][1] with discussion [here][2]. Then we will engineer features suggested by @huseyincot in his notebooks [here][3] and [here][4]. We will use [RAPIDS][5] and the GPU to create new features quickly.\n",
    "\n",
    "[1]: https://www.kaggle.com/datasets/raddar/amex-data-integer-dtypes-parquet-format\n",
    "[2]: https://www.kaggle.com/competitions/amex-default-prediction/discussion/328514\n",
    "[3]: https://www.kaggle.com/code/huseyincot/amex-catboost-0-793\n",
    "[4]: https://www.kaggle.com/code/huseyincot/amex-agg-data-how-it-created\n",
    "[5]: https://rapids.ai/"
   ]
  },
  {
   "cell_type": "code",
   "execution_count": 3,
   "id": "dc64ad0d",
   "metadata": {
    "execution": {
     "iopub.execute_input": "2022-07-29T16:05:55.901021Z",
     "iopub.status.busy": "2022-07-29T16:05:55.900448Z",
     "iopub.status.idle": "2022-07-29T16:06:18.362154Z",
     "shell.execute_reply": "2022-07-29T16:06:18.360984Z"
    },
    "papermill": {
     "duration": 22.470675,
     "end_time": "2022-07-29T16:06:18.364055",
     "exception": false,
     "start_time": "2022-07-29T16:05:55.893380",
     "status": "completed"
    },
    "tags": []
   },
   "outputs": [
    {
     "name": "stdout",
     "output_type": "stream",
     "text": [
      "Reading train data...\n",
      "shape of data: (5531451, 190)\n"
     ]
    }
   ],
   "source": [
    "def read_file(path = '', usecols = None):\n",
    "    # LOAD DATAFRAME\n",
    "    if usecols is not None: df = cudf.read_parquet(path, columns=usecols)\n",
    "    else: df = cudf.read_parquet(path)\n",
    "    # REDUCE DTYPE FOR CUSTOMER AND DATE\n",
    "    df['customer_ID'] = df['customer_ID'].str[-16:].str.hex_to_int().astype('int64')\n",
    "    df.S_2 = cudf.to_datetime( df.S_2 )\n",
    "    # SORT BY CUSTOMER AND DATE (so agg('last') works correctly)\n",
    "    #df = df.sort_values(['customer_ID','S_2'])\n",
    "    #df = df.reset_index(drop=True)\n",
    "    # FILL NAN\n",
    "    # 9) 6+ fillna(method='bfill')\n",
    "#     df = df.fillna(NAN_VALUE) \n",
    "    df = df.fillna(method='bfill')\n",
    "    print('shape of data:', df.shape)\n",
    "    \n",
    "    return df\n",
    "\n",
    "print('Reading train data...')\n",
    "TRAIN_PATH = '../input/amex-data-integer-dtypes-parquet-format/train.parquet'\n",
    "train = read_file(path = TRAIN_PATH)"
   ]
  },
  {
   "cell_type": "code",
   "execution_count": 4,
   "id": "8e7c92a1",
   "metadata": {
    "execution": {
     "iopub.execute_input": "2022-07-29T16:06:18.378677Z",
     "iopub.status.busy": "2022-07-29T16:06:18.378395Z",
     "iopub.status.idle": "2022-07-29T16:06:18.618862Z",
     "shell.execute_reply": "2022-07-29T16:06:18.618127Z"
    },
    "papermill": {
     "duration": 0.249955,
     "end_time": "2022-07-29T16:06:18.620839",
     "exception": false,
     "start_time": "2022-07-29T16:06:18.370884",
     "status": "completed"
    },
    "tags": []
   },
   "outputs": [
    {
     "data": {
      "text/html": [
       "<div>\n",
       "<style scoped>\n",
       "    .dataframe tbody tr th:only-of-type {\n",
       "        vertical-align: middle;\n",
       "    }\n",
       "\n",
       "    .dataframe tbody tr th {\n",
       "        vertical-align: top;\n",
       "    }\n",
       "\n",
       "    .dataframe thead th {\n",
       "        text-align: right;\n",
       "    }\n",
       "</style>\n",
       "<table border=\"1\" class=\"dataframe\">\n",
       "  <thead>\n",
       "    <tr style=\"text-align: right;\">\n",
       "      <th></th>\n",
       "      <th>customer_ID</th>\n",
       "      <th>S_2</th>\n",
       "      <th>P_2</th>\n",
       "      <th>D_39</th>\n",
       "      <th>B_1</th>\n",
       "      <th>B_2</th>\n",
       "      <th>R_1</th>\n",
       "      <th>S_3</th>\n",
       "      <th>D_41</th>\n",
       "      <th>B_3</th>\n",
       "      <th>...</th>\n",
       "      <th>D_136</th>\n",
       "      <th>D_137</th>\n",
       "      <th>D_138</th>\n",
       "      <th>D_139</th>\n",
       "      <th>D_140</th>\n",
       "      <th>D_141</th>\n",
       "      <th>D_142</th>\n",
       "      <th>D_143</th>\n",
       "      <th>D_144</th>\n",
       "      <th>D_145</th>\n",
       "    </tr>\n",
       "  </thead>\n",
       "  <tbody>\n",
       "    <tr>\n",
       "      <th>0</th>\n",
       "      <td>-4532153018459703766</td>\n",
       "      <td>2017-03-09</td>\n",
       "      <td>0.938469</td>\n",
       "      <td>0</td>\n",
       "      <td>0.008724</td>\n",
       "      <td>1.006838</td>\n",
       "      <td>0.009228</td>\n",
       "      <td>0.124035</td>\n",
       "      <td>0.0</td>\n",
       "      <td>0.004709</td>\n",
       "      <td>...</td>\n",
       "      <td>-1</td>\n",
       "      <td>-1</td>\n",
       "      <td>-1</td>\n",
       "      <td>0</td>\n",
       "      <td>0</td>\n",
       "      <td>0.0</td>\n",
       "      <td>0.141214</td>\n",
       "      <td>0</td>\n",
       "      <td>0.000610</td>\n",
       "      <td>0</td>\n",
       "    </tr>\n",
       "    <tr>\n",
       "      <th>1</th>\n",
       "      <td>-4532153018459703766</td>\n",
       "      <td>2017-04-07</td>\n",
       "      <td>0.936665</td>\n",
       "      <td>0</td>\n",
       "      <td>0.004923</td>\n",
       "      <td>1.000653</td>\n",
       "      <td>0.006151</td>\n",
       "      <td>0.126750</td>\n",
       "      <td>0.0</td>\n",
       "      <td>0.002714</td>\n",
       "      <td>...</td>\n",
       "      <td>-1</td>\n",
       "      <td>-1</td>\n",
       "      <td>-1</td>\n",
       "      <td>0</td>\n",
       "      <td>0</td>\n",
       "      <td>0.0</td>\n",
       "      <td>0.141214</td>\n",
       "      <td>0</td>\n",
       "      <td>0.005492</td>\n",
       "      <td>0</td>\n",
       "    </tr>\n",
       "    <tr>\n",
       "      <th>2</th>\n",
       "      <td>-4532153018459703766</td>\n",
       "      <td>2017-05-28</td>\n",
       "      <td>0.954180</td>\n",
       "      <td>3</td>\n",
       "      <td>0.021655</td>\n",
       "      <td>1.009672</td>\n",
       "      <td>0.006815</td>\n",
       "      <td>0.123977</td>\n",
       "      <td>0.0</td>\n",
       "      <td>0.009423</td>\n",
       "      <td>...</td>\n",
       "      <td>-1</td>\n",
       "      <td>-1</td>\n",
       "      <td>-1</td>\n",
       "      <td>0</td>\n",
       "      <td>0</td>\n",
       "      <td>0.0</td>\n",
       "      <td>0.141214</td>\n",
       "      <td>0</td>\n",
       "      <td>0.006986</td>\n",
       "      <td>0</td>\n",
       "    </tr>\n",
       "    <tr>\n",
       "      <th>3</th>\n",
       "      <td>-4532153018459703766</td>\n",
       "      <td>2017-06-13</td>\n",
       "      <td>0.960384</td>\n",
       "      <td>0</td>\n",
       "      <td>0.013683</td>\n",
       "      <td>1.002700</td>\n",
       "      <td>0.001373</td>\n",
       "      <td>0.117169</td>\n",
       "      <td>0.0</td>\n",
       "      <td>0.005531</td>\n",
       "      <td>...</td>\n",
       "      <td>-1</td>\n",
       "      <td>-1</td>\n",
       "      <td>-1</td>\n",
       "      <td>0</td>\n",
       "      <td>0</td>\n",
       "      <td>0.0</td>\n",
       "      <td>0.141214</td>\n",
       "      <td>0</td>\n",
       "      <td>0.006527</td>\n",
       "      <td>0</td>\n",
       "    </tr>\n",
       "    <tr>\n",
       "      <th>4</th>\n",
       "      <td>-4532153018459703766</td>\n",
       "      <td>2017-07-16</td>\n",
       "      <td>0.947248</td>\n",
       "      <td>0</td>\n",
       "      <td>0.015193</td>\n",
       "      <td>1.000727</td>\n",
       "      <td>0.007605</td>\n",
       "      <td>0.117325</td>\n",
       "      <td>0.0</td>\n",
       "      <td>0.009312</td>\n",
       "      <td>...</td>\n",
       "      <td>-1</td>\n",
       "      <td>-1</td>\n",
       "      <td>-1</td>\n",
       "      <td>0</td>\n",
       "      <td>0</td>\n",
       "      <td>0.0</td>\n",
       "      <td>0.141214</td>\n",
       "      <td>0</td>\n",
       "      <td>0.008126</td>\n",
       "      <td>0</td>\n",
       "    </tr>\n",
       "  </tbody>\n",
       "</table>\n",
       "<p>5 rows × 190 columns</p>\n",
       "</div>"
      ],
      "text/plain": [
       "           customer_ID        S_2       P_2  D_39       B_1       B_2  \\\n",
       "0 -4532153018459703766 2017-03-09  0.938469     0  0.008724  1.006838   \n",
       "1 -4532153018459703766 2017-04-07  0.936665     0  0.004923  1.000653   \n",
       "2 -4532153018459703766 2017-05-28  0.954180     3  0.021655  1.009672   \n",
       "3 -4532153018459703766 2017-06-13  0.960384     0  0.013683  1.002700   \n",
       "4 -4532153018459703766 2017-07-16  0.947248     0  0.015193  1.000727   \n",
       "\n",
       "        R_1       S_3  D_41       B_3  ...  D_136  D_137  D_138  D_139  D_140  \\\n",
       "0  0.009228  0.124035   0.0  0.004709  ...     -1     -1     -1      0      0   \n",
       "1  0.006151  0.126750   0.0  0.002714  ...     -1     -1     -1      0      0   \n",
       "2  0.006815  0.123977   0.0  0.009423  ...     -1     -1     -1      0      0   \n",
       "3  0.001373  0.117169   0.0  0.005531  ...     -1     -1     -1      0      0   \n",
       "4  0.007605  0.117325   0.0  0.009312  ...     -1     -1     -1      0      0   \n",
       "\n",
       "   D_141     D_142  D_143     D_144  D_145  \n",
       "0    0.0  0.141214      0  0.000610      0  \n",
       "1    0.0  0.141214      0  0.005492      0  \n",
       "2    0.0  0.141214      0  0.006986      0  \n",
       "3    0.0  0.141214      0  0.006527      0  \n",
       "4    0.0  0.141214      0  0.008126      0  \n",
       "\n",
       "[5 rows x 190 columns]"
      ]
     },
     "execution_count": 4,
     "metadata": {},
     "output_type": "execute_result"
    }
   ],
   "source": [
    "train.head()"
   ]
  },
  {
   "cell_type": "code",
   "execution_count": 5,
   "id": "118b74e3",
   "metadata": {
    "execution": {
     "iopub.execute_input": "2022-07-29T16:06:18.636286Z",
     "iopub.status.busy": "2022-07-29T16:06:18.635997Z",
     "iopub.status.idle": "2022-07-29T16:06:21.027514Z",
     "shell.execute_reply": "2022-07-29T16:06:21.026009Z"
    },
    "papermill": {
     "duration": 2.401052,
     "end_time": "2022-07-29T16:06:21.029239",
     "exception": false,
     "start_time": "2022-07-29T16:06:18.628187",
     "status": "completed"
    },
    "tags": []
   },
   "outputs": [
    {
     "name": "stdout",
     "output_type": "stream",
     "text": [
      "shape after engineering (458913, 565)\n"
     ]
    }
   ],
   "source": [
    "def process_and_feature_engineer(df):\n",
    "    # FEATURE ENGINEERING FROM \n",
    "    # https://www.kaggle.com/code/huseyincot/amex-agg-data-how-it-created\n",
    "#     9) nasdaq\n",
    "#     nasdaq_path = '../input/nasdaq/nasdaq.csv'\n",
    "#     nasdaq = cudf.read_csv(nasdaq_path, encoding='utf-8-sig')\n",
    "#     nasdaq.rename(columns={'\\ufeffS_2': 'S_2'}, inplace=True)\n",
    "#     nasdaq.drop(['tradingvolume'], inplace=True, axis=1)\n",
    "#     nasdaq.S_2 = cudf.to_datetime(nasdaq.S_2)\n",
    "#     nasdaq[['closing','open', 'high', 'low']] = nasdaq[['closing','open', 'high', 'low']].astype(float)    \n",
    "#     df = df.merge(nasdaq, on='S_2')\n",
    "    \n",
    "#     1) Drop 'B_29'\n",
    "    df.drop(['B_29'], inplace=True, axis=1)\n",
    "    \n",
    "#     5) D_39에 대한 feature 추가\n",
    "#     df['D_39_div30'] = df['D_39']/30\n",
    "    \n",
    "#     6) B1, B2에 연관 feature추가\n",
    "    df['B_1_2'] = df['B_1']/(df['B_2']+0.0000001)\n",
    "#     df['B_1_3'] = (df['B_1']+0.0000001) * (df['B_2']+0.0000001) # 성능하락\n",
    "\n",
    "    \n",
    "    all_cols = [c for c in list(df.columns) if c not in ['customer_ID','S_2']]\n",
    "    cat_features = [\"B_30\",\"B_38\",\"D_114\",\"D_116\",\"D_117\",\"D_120\",\"D_126\",\"D_63\",\"D_64\",\"D_66\",\"D_68\"]\n",
    "    num_features = [col for col in all_cols if col not in cat_features]\n",
    "    \n",
    "#     2) Add customer count\n",
    "    test_count_agg = df.groupby(['customer_ID'])['S_2'].agg(['count'])\n",
    "\n",
    "\n",
    "    test_num_agg = df.groupby(\"customer_ID\")[num_features].agg(['mean', 'max', 'last'])\n",
    "    test_num_agg.columns = ['_'.join(x) for x in test_num_agg.columns]\n",
    "\n",
    "    test_cat_agg = df.groupby(\"customer_ID\")[cat_features].agg(['count', 'last', 'nunique'])\n",
    "    test_cat_agg.columns = ['_'.join(x) for x in test_cat_agg.columns]\n",
    "\n",
    "    df = cudf.concat([test_count_agg,test_num_agg, test_cat_agg], axis=1)\n",
    "    del test_num_agg, test_cat_agg\n",
    "    print('shape after engineering', df.shape )\n",
    "    \n",
    "    return df\n",
    "\n",
    "train = process_and_feature_engineer(train)"
   ]
  },
  {
   "cell_type": "code",
   "execution_count": 6,
   "id": "7aac231b",
   "metadata": {
    "execution": {
     "iopub.execute_input": "2022-07-29T16:06:21.044859Z",
     "iopub.status.busy": "2022-07-29T16:06:21.044561Z",
     "iopub.status.idle": "2022-07-29T16:06:22.068784Z",
     "shell.execute_reply": "2022-07-29T16:06:22.067180Z"
    },
    "papermill": {
     "duration": 1.033905,
     "end_time": "2022-07-29T16:06:22.070591",
     "exception": false,
     "start_time": "2022-07-29T16:06:21.036686",
     "status": "completed"
    },
    "tags": []
   },
   "outputs": [
    {
     "name": "stdout",
     "output_type": "stream",
     "text": [
      "There are 565 features!\n"
     ]
    }
   ],
   "source": [
    "# ADD TARGETS\n",
    "targets = cudf.read_csv('../input/amex-default-prediction/train_labels.csv')\n",
    "targets['customer_ID'] = targets['customer_ID'].str[-16:].str.hex_to_int().astype('int64')\n",
    "targets = targets.set_index('customer_ID')\n",
    "train = train.merge(targets, left_index=True, right_index=True, how='left')\n",
    "train.target = train.target.astype('int8')\n",
    "del targets\n",
    "\n",
    "# NEEDED TO MAKE CV DETERMINISTIC (cudf merge above randomly shuffles rows)\n",
    "train = train.sort_index().reset_index()\n",
    "\n",
    "# FEATURES\n",
    "FEATURES = train.columns[1:-1]\n",
    "print(f'There are {len(FEATURES)} features!')"
   ]
  },
  {
   "cell_type": "markdown",
   "id": "e36e7720",
   "metadata": {
    "papermill": {
     "duration": 0.006968,
     "end_time": "2022-07-29T16:06:22.085308",
     "exception": false,
     "start_time": "2022-07-29T16:06:22.078340",
     "status": "completed"
    },
    "tags": []
   },
   "source": [
    "# Train XGB\n",
    "We will train using `DeviceQuantileDMatrix`. This has a very small GPU memory footprint."
   ]
  },
  {
   "cell_type": "code",
   "execution_count": 7,
   "id": "a5806acb",
   "metadata": {
    "execution": {
     "iopub.execute_input": "2022-07-29T16:06:22.100555Z",
     "iopub.status.busy": "2022-07-29T16:06:22.100260Z",
     "iopub.status.idle": "2022-07-29T16:06:22.222419Z",
     "shell.execute_reply": "2022-07-29T16:06:22.221520Z"
    },
    "papermill": {
     "duration": 0.131928,
     "end_time": "2022-07-29T16:06:22.224193",
     "exception": false,
     "start_time": "2022-07-29T16:06:22.092265",
     "status": "completed"
    },
    "tags": []
   },
   "outputs": [
    {
     "name": "stdout",
     "output_type": "stream",
     "text": [
      "XGB Version 1.6.1\n"
     ]
    }
   ],
   "source": [
    "# LOAD XGB LIBRARY\n",
    "from sklearn.model_selection import KFold\n",
    "import xgboost as xgb\n",
    "print('XGB Version',xgb.__version__)\n",
    "\n",
    "# XGB MODEL PARAMETERS\n",
    "xgb_parms = { \n",
    "    'max_depth':4, \n",
    "    'learning_rate':0.05, \n",
    "    'subsample':0.8,\n",
    "    'colsample_bytree':0.6, \n",
    "    'eval_metric':'logloss',\n",
    "    'objective':'binary:logistic',\n",
    "    'tree_method':'gpu_hist',\n",
    "    'predictor':'gpu_predictor',\n",
    "    'random_state':SEED\n",
    "}"
   ]
  },
  {
   "cell_type": "code",
   "execution_count": 8,
   "id": "b6b0be9b",
   "metadata": {
    "execution": {
     "iopub.execute_input": "2022-07-29T16:06:22.241018Z",
     "iopub.status.busy": "2022-07-29T16:06:22.240271Z",
     "iopub.status.idle": "2022-07-29T16:06:22.249891Z",
     "shell.execute_reply": "2022-07-29T16:06:22.249177Z"
    },
    "papermill": {
     "duration": 0.01993,
     "end_time": "2022-07-29T16:06:22.251947",
     "exception": false,
     "start_time": "2022-07-29T16:06:22.232017",
     "status": "completed"
    },
    "tags": []
   },
   "outputs": [],
   "source": [
    "# NEEDED WITH DeviceQuantileDMatrix BELOW\n",
    "class IterLoadForDMatrix(xgb.core.DataIter):\n",
    "    def __init__(self, df=None, features=None, target=None, batch_size=256*1024):\n",
    "        self.features = features\n",
    "        self.target = target\n",
    "        self.df = df\n",
    "        self.it = 0 # set iterator to 0\n",
    "        self.batch_size = batch_size\n",
    "        self.batches = int( np.ceil( len(df) / self.batch_size ) )\n",
    "        super().__init__()\n",
    "\n",
    "    def reset(self):\n",
    "        '''Reset the iterator'''\n",
    "        self.it = 0\n",
    "\n",
    "    def next(self, input_data):\n",
    "        '''Yield next batch of data.'''\n",
    "        if self.it == self.batches:\n",
    "            return 0 # Return 0 when there's no more batch.\n",
    "        \n",
    "        a = self.it * self.batch_size\n",
    "        b = min( (self.it + 1) * self.batch_size, len(self.df) )\n",
    "        dt = cudf.DataFrame(self.df.iloc[a:b])\n",
    "        input_data(data=dt[self.features], label=dt[self.target]) #, weight=dt['weight'])\n",
    "        self.it += 1\n",
    "        return 1"
   ]
  },
  {
   "cell_type": "code",
   "execution_count": 9,
   "id": "bfd787e3",
   "metadata": {
    "execution": {
     "iopub.execute_input": "2022-07-29T16:06:22.267767Z",
     "iopub.status.busy": "2022-07-29T16:06:22.267304Z",
     "iopub.status.idle": "2022-07-29T16:06:22.277334Z",
     "shell.execute_reply": "2022-07-29T16:06:22.276625Z"
    },
    "papermill": {
     "duration": 0.019934,
     "end_time": "2022-07-29T16:06:22.278912",
     "exception": false,
     "start_time": "2022-07-29T16:06:22.258978",
     "status": "completed"
    },
    "tags": []
   },
   "outputs": [],
   "source": [
    "# https://www.kaggle.com/kyakovlev\n",
    "# https://www.kaggle.com/competitions/amex-default-prediction/discussion/327534\n",
    "def amex_metric_mod(y_true, y_pred):\n",
    "\n",
    "    labels     = np.transpose(np.array([y_true, y_pred]))\n",
    "    labels     = labels[labels[:, 1].argsort()[::-1]]\n",
    "    weights    = np.where(labels[:,0]==0, 20, 1)\n",
    "    cut_vals   = labels[np.cumsum(weights) <= int(0.04 * np.sum(weights))]\n",
    "    top_four   = np.sum(cut_vals[:,0]) / np.sum(labels[:,0])\n",
    "\n",
    "    gini = [0,0]\n",
    "    for i in [1,0]:\n",
    "        labels         = np.transpose(np.array([y_true, y_pred]))\n",
    "        labels         = labels[labels[:, i].argsort()[::-1]]\n",
    "        weight         = np.where(labels[:,0]==0, 20, 1)\n",
    "        weight_random  = np.cumsum(weight / np.sum(weight))\n",
    "        total_pos      = np.sum(labels[:, 0] *  weight)\n",
    "        cum_pos_found  = np.cumsum(labels[:, 0] * weight)\n",
    "        lorentz        = cum_pos_found / total_pos\n",
    "        gini[i]        = np.sum((lorentz - weight_random) * weight)\n",
    "\n",
    "    return 0.5 * (gini[1]/gini[0] + top_four)"
   ]
  },
  {
   "cell_type": "code",
   "execution_count": 10,
   "id": "bc0c3f3d",
   "metadata": {
    "execution": {
     "iopub.execute_input": "2022-07-29T16:06:22.293986Z",
     "iopub.status.busy": "2022-07-29T16:06:22.293695Z",
     "iopub.status.idle": "2022-07-29T16:12:59.734139Z",
     "shell.execute_reply": "2022-07-29T16:12:59.733189Z"
    },
    "papermill": {
     "duration": 397.450404,
     "end_time": "2022-07-29T16:12:59.736272",
     "exception": false,
     "start_time": "2022-07-29T16:06:22.285868",
     "status": "completed"
    },
    "scrolled": true,
    "tags": []
   },
   "outputs": [
    {
     "name": "stdout",
     "output_type": "stream",
     "text": [
      "#########################\n",
      "### Fold 1\n",
      "### Train size 367130 Valid size 91783\n",
      "### Training with 100% fold data...\n",
      "#########################\n",
      "[0]\ttrain-logloss:0.66207\tvalid-logloss:0.66210\n",
      "[100]\ttrain-logloss:0.23912\tvalid-logloss:0.24197\n",
      "[200]\ttrain-logloss:0.22434\tvalid-logloss:0.22948\n",
      "[300]\ttrain-logloss:0.21823\tvalid-logloss:0.22528\n",
      "[400]\ttrain-logloss:0.21414\tvalid-logloss:0.22310\n",
      "[500]\ttrain-logloss:0.21086\tvalid-logloss:0.22166\n",
      "[600]\ttrain-logloss:0.20818\tvalid-logloss:0.22075\n",
      "[700]\ttrain-logloss:0.20571\tvalid-logloss:0.22012\n",
      "[800]\ttrain-logloss:0.20355\tvalid-logloss:0.21974\n",
      "[900]\ttrain-logloss:0.20138\tvalid-logloss:0.21940\n",
      "[1000]\ttrain-logloss:0.19940\tvalid-logloss:0.21915\n",
      "[1100]\ttrain-logloss:0.19745\tvalid-logloss:0.21901\n",
      "[1200]\ttrain-logloss:0.19560\tvalid-logloss:0.21887\n",
      "[1300]\ttrain-logloss:0.19371\tvalid-logloss:0.21872\n",
      "[1400]\ttrain-logloss:0.19187\tvalid-logloss:0.21858\n",
      "[1500]\ttrain-logloss:0.19013\tvalid-logloss:0.21848\n",
      "[1600]\ttrain-logloss:0.18839\tvalid-logloss:0.21835\n",
      "[1700]\ttrain-logloss:0.18669\tvalid-logloss:0.21828\n",
      "[1800]\ttrain-logloss:0.18502\tvalid-logloss:0.21826\n",
      "[1900]\ttrain-logloss:0.18339\tvalid-logloss:0.21824\n",
      "[2000]\ttrain-logloss:0.18179\tvalid-logloss:0.21820\n",
      "[2100]\ttrain-logloss:0.18026\tvalid-logloss:0.21813\n",
      "[2184]\ttrain-logloss:0.17896\tvalid-logloss:0.21813\n",
      "Kaggle Metric = 0.7898613153833935 \n",
      "\n",
      "#########################\n",
      "### Fold 2\n",
      "### Train size 367130 Valid size 91783\n",
      "### Training with 100% fold data...\n",
      "#########################\n",
      "[0]\ttrain-logloss:0.66207\tvalid-logloss:0.66205\n",
      "[100]\ttrain-logloss:0.23977\tvalid-logloss:0.24003\n",
      "[200]\ttrain-logloss:0.22510\tvalid-logloss:0.22731\n",
      "[300]\ttrain-logloss:0.21869\tvalid-logloss:0.22286\n",
      "[400]\ttrain-logloss:0.21457\tvalid-logloss:0.22081\n",
      "[500]\ttrain-logloss:0.21140\tvalid-logloss:0.21962\n",
      "[600]\ttrain-logloss:0.20854\tvalid-logloss:0.21870\n",
      "[700]\ttrain-logloss:0.20606\tvalid-logloss:0.21817\n",
      "[800]\ttrain-logloss:0.20377\tvalid-logloss:0.21783\n",
      "[900]\ttrain-logloss:0.20164\tvalid-logloss:0.21757\n",
      "[1000]\ttrain-logloss:0.19967\tvalid-logloss:0.21736\n",
      "[1100]\ttrain-logloss:0.19768\tvalid-logloss:0.21716\n",
      "[1200]\ttrain-logloss:0.19580\tvalid-logloss:0.21705\n",
      "[1300]\ttrain-logloss:0.19392\tvalid-logloss:0.21689\n",
      "[1400]\ttrain-logloss:0.19214\tvalid-logloss:0.21687\n",
      "[1500]\ttrain-logloss:0.19035\tvalid-logloss:0.21679\n",
      "[1600]\ttrain-logloss:0.18865\tvalid-logloss:0.21676\n",
      "[1700]\ttrain-logloss:0.18695\tvalid-logloss:0.21674\n",
      "[1740]\ttrain-logloss:0.18630\tvalid-logloss:0.21674\n",
      "Kaggle Metric = 0.7927822359673709 \n",
      "\n",
      "#########################\n",
      "### Fold 3\n",
      "### Train size 367130 Valid size 91783\n",
      "### Training with 100% fold data...\n",
      "#########################\n",
      "[0]\ttrain-logloss:0.66203\tvalid-logloss:0.66213\n",
      "[100]\ttrain-logloss:0.23885\tvalid-logloss:0.24304\n",
      "[200]\ttrain-logloss:0.22416\tvalid-logloss:0.23058\n",
      "[300]\ttrain-logloss:0.21782\tvalid-logloss:0.22622\n",
      "[400]\ttrain-logloss:0.21371\tvalid-logloss:0.22412\n",
      "[500]\ttrain-logloss:0.21049\tvalid-logloss:0.22294\n",
      "[600]\ttrain-logloss:0.20773\tvalid-logloss:0.22223\n",
      "[700]\ttrain-logloss:0.20530\tvalid-logloss:0.22168\n",
      "[800]\ttrain-logloss:0.20298\tvalid-logloss:0.22131\n",
      "[900]\ttrain-logloss:0.20090\tvalid-logloss:0.22102\n",
      "[1000]\ttrain-logloss:0.19886\tvalid-logloss:0.22085\n",
      "[1100]\ttrain-logloss:0.19689\tvalid-logloss:0.22068\n",
      "[1200]\ttrain-logloss:0.19498\tvalid-logloss:0.22050\n",
      "[1300]\ttrain-logloss:0.19313\tvalid-logloss:0.22039\n",
      "[1400]\ttrain-logloss:0.19141\tvalid-logloss:0.22026\n",
      "[1500]\ttrain-logloss:0.18965\tvalid-logloss:0.22018\n",
      "[1600]\ttrain-logloss:0.18791\tvalid-logloss:0.22012\n",
      "[1700]\ttrain-logloss:0.18621\tvalid-logloss:0.22007\n",
      "[1800]\ttrain-logloss:0.18459\tvalid-logloss:0.22009\n",
      "[1849]\ttrain-logloss:0.18382\tvalid-logloss:0.22011\n",
      "Kaggle Metric = 0.7900402397813133 \n",
      "\n",
      "#########################\n",
      "### Fold 4\n",
      "### Train size 367131 Valid size 91782\n",
      "### Training with 100% fold data...\n",
      "#########################\n",
      "[0]\ttrain-logloss:0.66206\tvalid-logloss:0.66219\n",
      "[100]\ttrain-logloss:0.23896\tvalid-logloss:0.24349\n",
      "[200]\ttrain-logloss:0.22409\tvalid-logloss:0.23079\n",
      "[300]\ttrain-logloss:0.21771\tvalid-logloss:0.22663\n",
      "[400]\ttrain-logloss:0.21363\tvalid-logloss:0.22463\n",
      "[500]\ttrain-logloss:0.21039\tvalid-logloss:0.22344\n",
      "[600]\ttrain-logloss:0.20764\tvalid-logloss:0.22259\n",
      "[700]\ttrain-logloss:0.20518\tvalid-logloss:0.22206\n",
      "[800]\ttrain-logloss:0.20289\tvalid-logloss:0.22175\n",
      "[900]\ttrain-logloss:0.20081\tvalid-logloss:0.22151\n",
      "[1000]\ttrain-logloss:0.19873\tvalid-logloss:0.22134\n",
      "[1100]\ttrain-logloss:0.19672\tvalid-logloss:0.22117\n",
      "[1200]\ttrain-logloss:0.19485\tvalid-logloss:0.22107\n",
      "[1300]\ttrain-logloss:0.19298\tvalid-logloss:0.22097\n",
      "[1400]\ttrain-logloss:0.19118\tvalid-logloss:0.22086\n",
      "[1500]\ttrain-logloss:0.18940\tvalid-logloss:0.22082\n",
      "[1600]\ttrain-logloss:0.18768\tvalid-logloss:0.22078\n",
      "[1700]\ttrain-logloss:0.18605\tvalid-logloss:0.22077\n",
      "[1800]\ttrain-logloss:0.18435\tvalid-logloss:0.22077\n",
      "[1813]\ttrain-logloss:0.18414\tvalid-logloss:0.22076\n",
      "Kaggle Metric = 0.78655031350935 \n",
      "\n",
      "#########################\n",
      "### Fold 5\n",
      "### Train size 367131 Valid size 91782\n",
      "### Training with 100% fold data...\n",
      "#########################\n",
      "[0]\ttrain-logloss:0.66209\tvalid-logloss:0.66197\n",
      "[100]\ttrain-logloss:0.23984\tvalid-logloss:0.24005\n",
      "[200]\ttrain-logloss:0.22505\tvalid-logloss:0.22748\n",
      "[300]\ttrain-logloss:0.21876\tvalid-logloss:0.22321\n",
      "[400]\ttrain-logloss:0.21466\tvalid-logloss:0.22106\n",
      "[500]\ttrain-logloss:0.21148\tvalid-logloss:0.21982\n",
      "[600]\ttrain-logloss:0.20867\tvalid-logloss:0.21899\n",
      "[700]\ttrain-logloss:0.20626\tvalid-logloss:0.21845\n",
      "[800]\ttrain-logloss:0.20398\tvalid-logloss:0.21804\n",
      "[900]\ttrain-logloss:0.20183\tvalid-logloss:0.21772\n",
      "[1000]\ttrain-logloss:0.19982\tvalid-logloss:0.21746\n",
      "[1100]\ttrain-logloss:0.19783\tvalid-logloss:0.21727\n",
      "[1200]\ttrain-logloss:0.19596\tvalid-logloss:0.21713\n",
      "[1300]\ttrain-logloss:0.19409\tvalid-logloss:0.21700\n",
      "[1400]\ttrain-logloss:0.19230\tvalid-logloss:0.21692\n",
      "[1500]\ttrain-logloss:0.19055\tvalid-logloss:0.21679\n",
      "[1600]\ttrain-logloss:0.18875\tvalid-logloss:0.21669\n",
      "[1700]\ttrain-logloss:0.18707\tvalid-logloss:0.21667\n",
      "[1800]\ttrain-logloss:0.18541\tvalid-logloss:0.21664\n",
      "[1900]\ttrain-logloss:0.18376\tvalid-logloss:0.21660\n",
      "[2000]\ttrain-logloss:0.18213\tvalid-logloss:0.21654\n",
      "[2083]\ttrain-logloss:0.18082\tvalid-logloss:0.21655\n",
      "Kaggle Metric = 0.7943266354140837 \n",
      "\n",
      "#########################\n",
      "OVERALL CV Kaggle Metric = 0.7906833303934766\n"
     ]
    }
   ],
   "source": [
    "importances = []\n",
    "oof = []\n",
    "train = train.to_pandas() # free GPU memory\n",
    "TRAIN_SUBSAMPLE = 1.0\n",
    "gc.collect()\n",
    "\n",
    "skf = KFold(n_splits=FOLDS, shuffle=True, random_state=SEED)\n",
    "for fold,(train_idx, valid_idx) in enumerate(skf.split(\n",
    "            train, train.target )):\n",
    "    \n",
    "    # TRAIN WITH SUBSAMPLE OF TRAIN FOLD DATA\n",
    "    if TRAIN_SUBSAMPLE<1.0:\n",
    "        np.random.seed(SEED)\n",
    "        train_idx = np.random.choice(train_idx, \n",
    "                       int(len(train_idx)*TRAIN_SUBSAMPLE), replace=False)\n",
    "        np.random.seed(None)\n",
    "    \n",
    "    print('#'*25)\n",
    "    print('### Fold',fold+1)\n",
    "    print('### Train size',len(train_idx),'Valid size',len(valid_idx))\n",
    "    print(f'### Training with {int(TRAIN_SUBSAMPLE*100)}% fold data...')\n",
    "    print('#'*25)\n",
    "    \n",
    "    # TRAIN, VALID, TEST FOR FOLD K\n",
    "    Xy_train = IterLoadForDMatrix(train.loc[train_idx], FEATURES, 'target')\n",
    "    X_valid = train.loc[valid_idx, FEATURES]\n",
    "    y_valid = train.loc[valid_idx, 'target']\n",
    "    \n",
    "    dtrain = xgb.DeviceQuantileDMatrix(Xy_train, max_bin=256)\n",
    "    dvalid = xgb.DMatrix(data=X_valid, label=y_valid)\n",
    "    \n",
    "    # TRAIN MODEL FOLD K\n",
    "    model = xgb.train(xgb_parms, \n",
    "                dtrain=dtrain,\n",
    "                evals=[(dtrain,'train'),(dvalid,'valid')],\n",
    "                num_boost_round=9999,\n",
    "                early_stopping_rounds=100,\n",
    "                verbose_eval=100) \n",
    "    model.save_model(f'XGB_v{VER}_fold{fold}.xgb')\n",
    "    \n",
    "    # GET FEATURE IMPORTANCE FOR FOLD K\n",
    "    dd = model.get_score(importance_type='weight')\n",
    "    df = pd.DataFrame({'feature':dd.keys(),f'importance_{fold}':dd.values()})\n",
    "    importances.append(df)\n",
    "            \n",
    "    # INFER OOF FOLD K\n",
    "    oof_preds = model.predict(dvalid)\n",
    "    acc = amex_metric_mod(y_valid.values, oof_preds)\n",
    "    print('Kaggle Metric =',acc,'\\n')\n",
    "    \n",
    "    # SAVE OOF\n",
    "    df = train.loc[valid_idx, ['customer_ID','target'] ].copy()\n",
    "    df['oof_pred'] = oof_preds\n",
    "    oof.append( df )\n",
    "    \n",
    "    del dtrain, Xy_train, dd, df\n",
    "    del X_valid, y_valid, dvalid, model\n",
    "    _ = gc.collect()\n",
    "    \n",
    "print('#'*25)\n",
    "oof = pd.concat(oof,axis=0,ignore_index=True).set_index('customer_ID')\n",
    "acc = amex_metric_mod(oof.target.values, oof.oof_pred.values)\n",
    "print('OVERALL CV Kaggle Metric =',acc)"
   ]
  },
  {
   "cell_type": "code",
   "execution_count": 11,
   "id": "4ea8769d",
   "metadata": {
    "execution": {
     "iopub.execute_input": "2022-07-29T16:12:59.764853Z",
     "iopub.status.busy": "2022-07-29T16:12:59.764290Z",
     "iopub.status.idle": "2022-07-29T16:12:59.896409Z",
     "shell.execute_reply": "2022-07-29T16:12:59.895554Z"
    },
    "papermill": {
     "duration": 0.148355,
     "end_time": "2022-07-29T16:12:59.898142",
     "exception": false,
     "start_time": "2022-07-29T16:12:59.749787",
     "status": "completed"
    },
    "tags": []
   },
   "outputs": [],
   "source": [
    "# CLEAN RAM\n",
    "del train\n",
    "_ = gc.collect()"
   ]
  },
  {
   "cell_type": "markdown",
   "id": "2b007a80",
   "metadata": {
    "papermill": {
     "duration": 0.013312,
     "end_time": "2022-07-29T16:12:59.925104",
     "exception": false,
     "start_time": "2022-07-29T16:12:59.911792",
     "status": "completed"
    },
    "tags": []
   },
   "source": [
    "# Save OOF Preds"
   ]
  },
  {
   "cell_type": "code",
   "execution_count": 12,
   "id": "c78be573",
   "metadata": {
    "execution": {
     "iopub.execute_input": "2022-07-29T16:12:59.953228Z",
     "iopub.status.busy": "2022-07-29T16:12:59.952568Z",
     "iopub.status.idle": "2022-07-29T16:13:04.732383Z",
     "shell.execute_reply": "2022-07-29T16:13:04.731612Z"
    },
    "papermill": {
     "duration": 4.795846,
     "end_time": "2022-07-29T16:13:04.734195",
     "exception": false,
     "start_time": "2022-07-29T16:12:59.938349",
     "status": "completed"
    },
    "tags": []
   },
   "outputs": [
    {
     "data": {
      "text/html": [
       "<div>\n",
       "<style scoped>\n",
       "    .dataframe tbody tr th:only-of-type {\n",
       "        vertical-align: middle;\n",
       "    }\n",
       "\n",
       "    .dataframe tbody tr th {\n",
       "        vertical-align: top;\n",
       "    }\n",
       "\n",
       "    .dataframe thead th {\n",
       "        text-align: right;\n",
       "    }\n",
       "</style>\n",
       "<table border=\"1\" class=\"dataframe\">\n",
       "  <thead>\n",
       "    <tr style=\"text-align: right;\">\n",
       "      <th></th>\n",
       "      <th>customer_ID</th>\n",
       "      <th>target</th>\n",
       "      <th>oof_pred</th>\n",
       "    </tr>\n",
       "  </thead>\n",
       "  <tbody>\n",
       "    <tr>\n",
       "      <th>0</th>\n",
       "      <td>20eac26171c3d251c55fc78204e59fab1c15fc2bc96d0c...</td>\n",
       "      <td>1</td>\n",
       "      <td>0.734308</td>\n",
       "    </tr>\n",
       "    <tr>\n",
       "      <th>1</th>\n",
       "      <td>aea50fdf9b974ccec95fa177c3225a0f913483b457de6e...</td>\n",
       "      <td>0</td>\n",
       "      <td>0.000535</td>\n",
       "    </tr>\n",
       "    <tr>\n",
       "      <th>2</th>\n",
       "      <td>32cd2d41aef737b69089882754395925c96eaee1f4a859...</td>\n",
       "      <td>0</td>\n",
       "      <td>0.002581</td>\n",
       "    </tr>\n",
       "    <tr>\n",
       "      <th>3</th>\n",
       "      <td>8daa6d5dc2655a8a437531e6b8b96829113cdfe9bf6cae...</td>\n",
       "      <td>0</td>\n",
       "      <td>0.008218</td>\n",
       "    </tr>\n",
       "    <tr>\n",
       "      <th>4</th>\n",
       "      <td>0ceba351a3851202542feb49d7385bcef32f6037fc57c7...</td>\n",
       "      <td>1</td>\n",
       "      <td>0.853143</td>\n",
       "    </tr>\n",
       "  </tbody>\n",
       "</table>\n",
       "</div>"
      ],
      "text/plain": [
       "                                         customer_ID  target  oof_pred\n",
       "0  20eac26171c3d251c55fc78204e59fab1c15fc2bc96d0c...       1  0.734308\n",
       "1  aea50fdf9b974ccec95fa177c3225a0f913483b457de6e...       0  0.000535\n",
       "2  32cd2d41aef737b69089882754395925c96eaee1f4a859...       0  0.002581\n",
       "3  8daa6d5dc2655a8a437531e6b8b96829113cdfe9bf6cae...       0  0.008218\n",
       "4  0ceba351a3851202542feb49d7385bcef32f6037fc57c7...       1  0.853143"
      ]
     },
     "execution_count": 12,
     "metadata": {},
     "output_type": "execute_result"
    }
   ],
   "source": [
    "oof_xgb = pd.read_parquet(TRAIN_PATH, columns=['customer_ID']).drop_duplicates()\n",
    "oof_xgb['customer_ID_hash'] = oof_xgb['customer_ID'].apply(lambda x: int(x[-16:],16) ).astype('int64')\n",
    "oof_xgb = oof_xgb.set_index('customer_ID_hash')\n",
    "oof_xgb = oof_xgb.merge(oof, left_index=True, right_index=True)\n",
    "oof_xgb = oof_xgb.sort_index().reset_index(drop=True)\n",
    "oof_xgb.to_csv(f'oof_xgb_v{VER}.csv',index=False)\n",
    "oof_xgb.head()"
   ]
  },
  {
   "cell_type": "code",
   "execution_count": 13,
   "id": "a48bd9f9",
   "metadata": {
    "execution": {
     "iopub.execute_input": "2022-07-29T16:13:04.763545Z",
     "iopub.status.busy": "2022-07-29T16:13:04.762953Z",
     "iopub.status.idle": "2022-07-29T16:13:05.109588Z",
     "shell.execute_reply": "2022-07-29T16:13:05.108796Z"
    },
    "papermill": {
     "duration": 0.362709,
     "end_time": "2022-07-29T16:13:05.111432",
     "exception": false,
     "start_time": "2022-07-29T16:13:04.748723",
     "status": "completed"
    },
    "tags": []
   },
   "outputs": [
    {
     "data": {
      "image/png": "[encoded data removed]",
      "text/plain": [
       "<Figure size 432x288 with 1 Axes>"
      ]
     },
     "metadata": {
      "needs_background": "light"
     },
     "output_type": "display_data"
    }
   ],
   "source": [
    "# PLOT OOF PREDICTIONS\n",
    "plt.hist(oof_xgb.oof_pred.values, bins=100)\n",
    "plt.title('OOF Predictions')\n",
    "plt.show()"
   ]
  },
  {
   "cell_type": "code",
   "execution_count": 14,
   "id": "893fd441",
   "metadata": {
    "execution": {
     "iopub.execute_input": "2022-07-29T16:13:05.140313Z",
     "iopub.status.busy": "2022-07-29T16:13:05.140022Z",
     "iopub.status.idle": "2022-07-29T16:13:05.272691Z",
     "shell.execute_reply": "2022-07-29T16:13:05.271779Z"
    },
    "papermill": {
     "duration": 0.149555,
     "end_time": "2022-07-29T16:13:05.275070",
     "exception": false,
     "start_time": "2022-07-29T16:13:05.125515",
     "status": "completed"
    },
    "tags": []
   },
   "outputs": [],
   "source": [
    "# CLEAR VRAM, RAM FOR INFERENCE BELOW\n",
    "del oof_xgb, oof\n",
    "_ = gc.collect()"
   ]
  },
  {
   "cell_type": "markdown",
   "id": "546738c1",
   "metadata": {
    "papermill": {
     "duration": 0.014167,
     "end_time": "2022-07-29T16:13:05.303393",
     "exception": false,
     "start_time": "2022-07-29T16:13:05.289226",
     "status": "completed"
    },
    "tags": []
   },
   "source": [
    "# Feature Importance"
   ]
  },
  {
   "cell_type": "code",
   "execution_count": 15,
   "id": "eeb26f0c",
   "metadata": {
    "execution": {
     "iopub.execute_input": "2022-07-29T16:13:05.331737Z",
     "iopub.status.busy": "2022-07-29T16:13:05.331430Z",
     "iopub.status.idle": "2022-07-29T16:13:05.357655Z",
     "shell.execute_reply": "2022-07-29T16:13:05.356973Z"
    },
    "papermill": {
     "duration": 0.042338,
     "end_time": "2022-07-29T16:13:05.359333",
     "exception": false,
     "start_time": "2022-07-29T16:13:05.316995",
     "status": "completed"
    },
    "tags": []
   },
   "outputs": [],
   "source": [
    "import matplotlib.pyplot as plt\n",
    "\n",
    "df = importances[0].copy()\n",
    "for k in range(1,FOLDS): df = df.merge(importances[k], on='feature', how='left')\n",
    "df['importance'] = df.iloc[:,1:].mean(axis=1)\n",
    "df = df.sort_values('importance',ascending=False)\n",
    "df.to_csv(f'xgb_feature_importance_v{VER}.csv',index=False)"
   ]
  },
  {
   "cell_type": "code",
   "execution_count": 16,
   "id": "1cad98ca",
   "metadata": {
    "execution": {
     "iopub.execute_input": "2022-07-29T16:13:05.388782Z",
     "iopub.status.busy": "2022-07-29T16:13:05.388139Z",
     "iopub.status.idle": "2022-07-29T16:13:05.639488Z",
     "shell.execute_reply": "2022-07-29T16:13:05.638764Z"
    },
    "papermill": {
     "duration": 0.268063,
     "end_time": "2022-07-29T16:13:05.641253",
     "exception": false,
     "start_time": "2022-07-29T16:13:05.373190",
     "status": "completed"
    },
    "tags": []
   },
   "outputs": [
    {
     "data": {
      "image/png": "[encoded data removed]",
      "text/plain": [
       "<Figure size 720x720 with 1 Axes>"
      ]
     },
     "metadata": {
      "needs_background": "light"
     },
     "output_type": "display_data"
    }
   ],
   "source": [
    "NUM_FEATURES = 20\n",
    "plt.figure(figsize=(10,5*NUM_FEATURES//10))\n",
    "plt.barh(np.arange(NUM_FEATURES,0,-1), df.importance.values[:NUM_FEATURES])\n",
    "plt.yticks(np.arange(NUM_FEATURES,0,-1), df.feature.values[:NUM_FEATURES])\n",
    "plt.title(f'XGB Feature Importance - Top {NUM_FEATURES}')\n",
    "plt.show()"
   ]
  },
  {
   "cell_type": "markdown",
   "id": "63fd1b8e",
   "metadata": {
    "papermill": {
     "duration": 0.014372,
     "end_time": "2022-07-29T16:13:05.669878",
     "exception": false,
     "start_time": "2022-07-29T16:13:05.655506",
     "status": "completed"
    },
    "tags": []
   },
   "source": [
    "# Process and Feature Engineer Test Data\n",
    "We will load @raddar Kaggle dataset from [here][1] with discussion [here][2]. Then we will engineer features suggested by @huseyincot in his notebooks [here][1] and [here][4]. We will use [RAPIDS][5] and the GPU to create new features quickly.\n",
    "\n",
    "[1]: https://www.kaggle.com/datasets/raddar/amex-data-integer-dtypes-parquet-format\n",
    "[2]: https://www.kaggle.com/competitions/amex-default-prediction/discussion/328514\n",
    "[3]: https://www.kaggle.com/code/huseyincot/amex-catboost-0-793\n",
    "[4]: https://www.kaggle.com/code/huseyincot/amex-agg-data-how-it-created\n",
    "[5]: https://rapids.ai/"
   ]
  },
  {
   "cell_type": "code",
   "execution_count": 17,
   "id": "40c8f32f",
   "metadata": {
    "execution": {
     "iopub.execute_input": "2022-07-29T16:13:05.699727Z",
     "iopub.status.busy": "2022-07-29T16:13:05.699136Z",
     "iopub.status.idle": "2022-07-29T16:13:08.149867Z",
     "shell.execute_reply": "2022-07-29T16:13:08.148983Z"
    },
    "papermill": {
     "duration": 2.467874,
     "end_time": "2022-07-29T16:13:08.151862",
     "exception": false,
     "start_time": "2022-07-29T16:13:05.683988",
     "status": "completed"
    },
    "tags": []
   },
   "outputs": [
    {
     "name": "stdout",
     "output_type": "stream",
     "text": [
      "Reading test data...\n",
      "shape of data: (11363762, 2)\n",
      "We will process test data as 4 separate parts.\n",
      "There will be 231155 customers in each part (except the last part).\n",
      "Below are number of rows in each part:\n",
      "[2841209, 2839857, 2842105, 2840591]\n"
     ]
    }
   ],
   "source": [
    "# CALCULATE SIZE OF EACH SEPARATE TEST PART\n",
    "def get_rows(customers, test, NUM_PARTS = 4, verbose = ''):\n",
    "    chunk = len(customers)//NUM_PARTS\n",
    "    if verbose != '':\n",
    "        print(f'We will process {verbose} data as {NUM_PARTS} separate parts.')\n",
    "        print(f'There will be {chunk} customers in each part (except the last part).')\n",
    "        print('Below are number of rows in each part:')\n",
    "    rows = []\n",
    "\n",
    "    for k in range(NUM_PARTS):\n",
    "        if k==NUM_PARTS-1: cc = customers[k*chunk:]\n",
    "        else: cc = customers[k*chunk:(k+1)*chunk]\n",
    "        s = test.loc[test.customer_ID.isin(cc)].shape[0]\n",
    "        rows.append(s)\n",
    "    if verbose != '': print( rows )\n",
    "    return rows,chunk\n",
    "\n",
    "# COMPUTE SIZE OF 4 PARTS FOR TEST DATA\n",
    "NUM_PARTS = 4\n",
    "TEST_PATH = '../input/amex-data-integer-dtypes-parquet-format/test.parquet'\n",
    "\n",
    "print(f'Reading test data...')\n",
    "test = read_file(path = TEST_PATH, usecols = ['customer_ID','S_2'])\n",
    "customers = test[['customer_ID']].drop_duplicates().sort_index().values.flatten()\n",
    "rows,num_cust = get_rows(customers, test[['customer_ID']], NUM_PARTS = NUM_PARTS, verbose = 'test')"
   ]
  },
  {
   "cell_type": "markdown",
   "id": "715a8468",
   "metadata": {
    "papermill": {
     "duration": 0.014129,
     "end_time": "2022-07-29T16:13:08.180684",
     "exception": false,
     "start_time": "2022-07-29T16:13:08.166555",
     "status": "completed"
    },
    "tags": []
   },
   "source": [
    "# Infer Test"
   ]
  },
  {
   "cell_type": "code",
   "execution_count": 18,
   "id": "28d51022",
   "metadata": {
    "execution": {
     "iopub.execute_input": "2022-07-29T16:13:08.210489Z",
     "iopub.status.busy": "2022-07-29T16:13:08.210210Z",
     "iopub.status.idle": "2022-07-29T16:15:29.226425Z",
     "shell.execute_reply": "2022-07-29T16:15:29.225592Z"
    },
    "papermill": {
     "duration": 141.033265,
     "end_time": "2022-07-29T16:15:29.228637",
     "exception": false,
     "start_time": "2022-07-29T16:13:08.195372",
     "status": "completed"
    },
    "tags": []
   },
   "outputs": [
    {
     "name": "stdout",
     "output_type": "stream",
     "text": [
      "\n",
      "Reading test data...\n",
      "shape of data: (11363762, 190)\n",
      "=> Test part 1 has shape (2841209, 190)\n",
      "shape after engineering (231155, 565)\n",
      "\n",
      "Reading test data...\n",
      "shape of data: (11363762, 190)\n",
      "=> Test part 2 has shape (2839857, 190)\n",
      "shape after engineering (231155, 565)\n",
      "\n",
      "Reading test data...\n",
      "shape of data: (11363762, 190)\n",
      "=> Test part 3 has shape (2842105, 190)\n",
      "shape after engineering (231155, 565)\n",
      "\n",
      "Reading test data...\n",
      "shape of data: (11363762, 190)\n",
      "=> Test part 4 has shape (2840591, 190)\n",
      "shape after engineering (231156, 565)\n"
     ]
    }
   ],
   "source": [
    "# INFER TEST DATA IN PARTS\n",
    "skip_rows = 0\n",
    "skip_cust = 0\n",
    "test_preds = []\n",
    "\n",
    "for k in range(NUM_PARTS):\n",
    "    \n",
    "    # READ PART OF TEST DATA\n",
    "    print(f'\\nReading test data...')\n",
    "    test = read_file(path = TEST_PATH)\n",
    "    test = test.iloc[skip_rows:skip_rows+rows[k]]\n",
    "    skip_rows += rows[k]\n",
    "    print(f'=> Test part {k+1} has shape', test.shape )\n",
    "    \n",
    "    # PROCESS AND FEATURE ENGINEER PART OF TEST DATA\n",
    "    test = process_and_feature_engineer(test)\n",
    "    if k==NUM_PARTS-1: test = test.loc[customers[skip_cust:]]\n",
    "    else: test = test.loc[customers[skip_cust:skip_cust+num_cust]]\n",
    "    skip_cust += num_cust\n",
    "    \n",
    "    # TEST DATA FOR XGB\n",
    "    X_test = test[FEATURES]\n",
    "    dtest = xgb.DMatrix(data=X_test)\n",
    "    test = test[['P_2_mean']] # reduce memory\n",
    "    del X_test\n",
    "    gc.collect()\n",
    "\n",
    "    # INFER XGB MODELS ON TEST DATA\n",
    "    model = xgb.Booster()\n",
    "    model.load_model(f'XGB_v{VER}_fold0.xgb')\n",
    "    preds = model.predict(dtest)\n",
    "    for f in range(1,FOLDS):\n",
    "        model.load_model(f'XGB_v{VER}_fold{f}.xgb')\n",
    "        preds += model.predict(dtest)\n",
    "    preds /= FOLDS\n",
    "    test_preds.append(preds)\n",
    "\n",
    "    # CLEAN MEMORY\n",
    "    del dtest, model\n",
    "    _ = gc.collect()"
   ]
  },
  {
   "cell_type": "markdown",
   "id": "3ffec0cc",
   "metadata": {
    "papermill": {
     "duration": 0.014908,
     "end_time": "2022-07-29T16:15:29.258954",
     "exception": false,
     "start_time": "2022-07-29T16:15:29.244046",
     "status": "completed"
    },
    "tags": []
   },
   "source": [
    "# Create Submission CSV"
   ]
  },
  {
   "cell_type": "code",
   "execution_count": 19,
   "id": "14b5220d",
   "metadata": {
    "execution": {
     "iopub.execute_input": "2022-07-29T16:15:29.290398Z",
     "iopub.status.busy": "2022-07-29T16:15:29.290094Z",
     "iopub.status.idle": "2022-07-29T16:15:30.453644Z",
     "shell.execute_reply": "2022-07-29T16:15:30.452774Z"
    },
    "papermill": {
     "duration": 1.181702,
     "end_time": "2022-07-29T16:15:30.455426",
     "exception": false,
     "start_time": "2022-07-29T16:15:29.273724",
     "status": "completed"
    },
    "tags": []
   },
   "outputs": [
    {
     "name": "stdout",
     "output_type": "stream",
     "text": [
      "Submission file shape is (924621, 2)\n"
     ]
    },
    {
     "data": {
      "text/html": [
       "<div>\n",
       "<style scoped>\n",
       "    .dataframe tbody tr th:only-of-type {\n",
       "        vertical-align: middle;\n",
       "    }\n",
       "\n",
       "    .dataframe tbody tr th {\n",
       "        vertical-align: top;\n",
       "    }\n",
       "\n",
       "    .dataframe thead th {\n",
       "        text-align: right;\n",
       "    }\n",
       "</style>\n",
       "<table border=\"1\" class=\"dataframe\">\n",
       "  <thead>\n",
       "    <tr style=\"text-align: right;\">\n",
       "      <th></th>\n",
       "      <th>customer_ID</th>\n",
       "      <th>prediction</th>\n",
       "    </tr>\n",
       "  </thead>\n",
       "  <tbody>\n",
       "    <tr>\n",
       "      <th>0</th>\n",
       "      <td>0f7f94e1247f12d2a38fb2b014d6be7175f51b3b4efe9b...</td>\n",
       "      <td>0.033645</td>\n",
       "    </tr>\n",
       "    <tr>\n",
       "      <th>1</th>\n",
       "      <td>0f8086f7297593825bba8c654ea9d35f661089ce25ed79...</td>\n",
       "      <td>0.102433</td>\n",
       "    </tr>\n",
       "    <tr>\n",
       "      <th>2</th>\n",
       "      <td>0f7fe57b8ce23fdd299b99cbcf7fac47e0cdf6459bb616...</td>\n",
       "      <td>0.072319</td>\n",
       "    </tr>\n",
       "    <tr>\n",
       "      <th>3</th>\n",
       "      <td>0f81168c4911b484975ff222f75321396c546b700fa329...</td>\n",
       "      <td>0.052917</td>\n",
       "    </tr>\n",
       "    <tr>\n",
       "      <th>4</th>\n",
       "      <td>0f7f94e3f0e63573b61dccc9fb3c4091ccc8d283d7b58a...</td>\n",
       "      <td>0.008899</td>\n",
       "    </tr>\n",
       "  </tbody>\n",
       "</table>\n",
       "</div>"
      ],
      "text/plain": [
       "                                         customer_ID  prediction\n",
       "0  0f7f94e1247f12d2a38fb2b014d6be7175f51b3b4efe9b...    0.033645\n",
       "1  0f8086f7297593825bba8c654ea9d35f661089ce25ed79...    0.102433\n",
       "2  0f7fe57b8ce23fdd299b99cbcf7fac47e0cdf6459bb616...    0.072319\n",
       "3  0f81168c4911b484975ff222f75321396c546b700fa329...    0.052917\n",
       "4  0f7f94e3f0e63573b61dccc9fb3c4091ccc8d283d7b58a...    0.008899"
      ]
     },
     "execution_count": 19,
     "metadata": {},
     "output_type": "execute_result"
    }
   ],
   "source": [
    "# WRITE SUBMISSION FILE\n",
    "test_preds = np.concatenate(test_preds)\n",
    "test = cudf.DataFrame(index=customers,data={'prediction':test_preds})\n",
    "sub = cudf.read_csv('../input/amex-default-prediction/sample_submission.csv')[['customer_ID']]\n",
    "sub['customer_ID_hash'] = sub['customer_ID'].str[-16:].str.hex_to_int().astype('int64')\n",
    "sub = sub.set_index('customer_ID_hash')\n",
    "sub = sub.merge(test[['prediction']], left_index=True, right_index=True, how='left')\n",
    "sub = sub.reset_index(drop=True)\n",
    "\n",
    "# DISPLAY PREDICTIONS\n",
    "sub.to_csv(f'submission_xgb_v{VER}.csv',index=False)\n",
    "print('Submission file shape is', sub.shape )\n",
    "sub.head()"
   ]
  },
  {
   "cell_type": "code",
   "execution_count": 20,
   "id": "6d17cba8",
   "metadata": {
    "execution": {
     "iopub.execute_input": "2022-07-29T16:15:30.488229Z",
     "iopub.status.busy": "2022-07-29T16:15:30.487629Z",
     "iopub.status.idle": "2022-07-29T16:15:31.178219Z",
     "shell.execute_reply": "2022-07-29T16:15:31.177447Z"
    },
    "papermill": {
     "duration": 0.708462,
     "end_time": "2022-07-29T16:15:31.180023",
     "exception": false,
     "start_time": "2022-07-29T16:15:30.471561",
     "status": "completed"
    },
    "tags": []
   },
   "outputs": [
    {
     "data": {
      "image/png": "[encoded data removed]",
      "text/plain": [
       "<Figure size 432x288 with 1 Axes>"
      ]
     },
     "metadata": {
      "needs_background": "light"
     },
     "output_type": "display_data"
    }
   ],
   "source": [
    "# PLOT PREDICTIONS\n",
    "plt.hist(sub.to_pandas().prediction, bins=100)\n",
    "plt.title('Test Predictions')\n",
    "plt.show()"
   ]
  }
 ],
 "metadata": {
  "kernelspec": {
   "display_name": "Python 3",
   "language": "python",
   "name": "python3"
  },
  "language_info": {
   "codemirror_mode": {
    "name": "ipython",
    "version": 3
   },
   "file_extension": ".py",
   "mimetype": "text/x-python",
   "name": "python",
   "nbconvert_exporter": "python",
   "pygments_lexer": "ipython3",
   "version": "3.7.12"
  },
  "papermill": {
   "default_parameters": {},
   "duration": 589.744103,
   "end_time": "2022-07-29T16:15:32.518548",
   "environment_variables": {},
   "exception": null,
   "input_path": "__notebook__.ipynb",
   "output_path": "__notebook__.ipynb",
   "parameters": {},
   "start_time": "2022-07-29T16:05:42.774445",
   "version": "2.3.4"
  }
 },
 "nbformat": 4,
 "nbformat_minor": 5
}
