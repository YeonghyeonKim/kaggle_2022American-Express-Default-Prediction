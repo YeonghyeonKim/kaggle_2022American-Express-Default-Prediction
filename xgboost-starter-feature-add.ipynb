{
 "cells": [
  {
   "cell_type": "markdown",
   "id": "b91163e8",
   "metadata": {
    "papermill": {
     "duration": 0.007662,
     "end_time": "2022-07-17T14:14:20.795622",
     "exception": false,
     "start_time": "2022-07-17T14:14:20.787960",
     "status": "completed"
    },
    "tags": []
   },
   "source": [
    "# XGBoost Starter - LB 0.793\n",
    "In this notebook we build and train an XGBoost model using @raddar Kaggle dataset from [here][1] with discussion [here][2]. Then we engineer features suggested by @huseyincot in his notebooks [here][3] and [here][4]. This XGB model achieves CV 0.792 LB 0.793! When training with XGB, we use a special XGB dataloader called `DeviceQuantileDMatrix` which uses a small GPU memory footprint. This allows us to engineer more additional columns and train with more rows of data. Our feature engineering is performed using [RAPIDS][5] on the GPU to create new features quickly.\n",
    "\n",
    "[1]: https://www.kaggle.com/datasets/raddar/amex-data-integer-dtypes-parquet-format\n",
    "[2]: https://www.kaggle.com/competitions/amex-default-prediction/discussion/328514\n",
    "[3]: https://www.kaggle.com/code/huseyincot/amex-catboost-0-793\n",
    "[4]: https://www.kaggle.com/code/huseyincot/amex-agg-data-how-it-created\n",
    "[5]: https://rapids.ai/"
   ]
  },
  {
   "cell_type": "markdown",
   "id": "7ed3b847",
   "metadata": {
    "papermill": {
     "duration": 0.006278,
     "end_time": "2022-07-17T14:14:20.808573",
     "exception": false,
     "start_time": "2022-07-17T14:14:20.802295",
     "status": "completed"
    },
    "tags": []
   },
   "source": [
    "Feature Engineering I done\n",
    "1. Drop B_29, https://www.kaggle.com/code/roberthatch/amex-feature-engg-gpu-or-cpu-process-in-chunks/notebook\n",
    "2. Add each customer count (how long they used) (not normalize)\n",
    "3. Don't fill NaN (with -127)\n",
    "4. remove num_features's min, std\n",
    "5. D_39에 대한 feature 추가 -> CV하락\n",
    "6. B_1과 B_2간의 연관 feature 추가; CV 0.7920\n",
    "7. B_8과 B_9간의 연관 feature 추가; CV 0.7919\n",
    "8. corr가 높은 feature중 제거\n"
   ]
  },
  {
   "cell_type": "markdown",
   "id": "d3c3aca2",
   "metadata": {
    "papermill": {
     "duration": 0.006573,
     "end_time": "2022-07-17T14:14:20.821566",
     "exception": false,
     "start_time": "2022-07-17T14:14:20.814993",
     "status": "completed"
    },
    "tags": []
   },
   "source": [
    "# Load Libraries"
   ]
  },
  {
   "cell_type": "code",
   "execution_count": 1,
   "id": "f936f796",
   "metadata": {
    "execution": {
     "iopub.execute_input": "2022-07-17T14:14:20.836414Z",
     "iopub.status.busy": "2022-07-17T14:14:20.835910Z",
     "iopub.status.idle": "2022-07-17T14:14:24.796016Z",
     "shell.execute_reply": "2022-07-17T14:14:24.793868Z"
    },
    "papermill": {
     "duration": 3.969758,
     "end_time": "2022-07-17T14:14:24.797902",
     "exception": false,
     "start_time": "2022-07-17T14:14:20.828144",
     "status": "completed"
    },
    "tags": []
   },
   "outputs": [
    {
     "name": "stdout",
     "output_type": "stream",
     "text": [
      "RAPIDS version 21.10.01\n"
     ]
    }
   ],
   "source": [
    "# LOAD LIBRARIES\n",
    "import pandas as pd, numpy as np # CPU libraries\n",
    "import cupy, cudf # GPU libraries\n",
    "import matplotlib.pyplot as plt, gc, os\n",
    "\n",
    "print('RAPIDS version',cudf.__version__)"
   ]
  },
  {
   "cell_type": "code",
   "execution_count": 2,
   "id": "82295cb0",
   "metadata": {
    "execution": {
     "iopub.execute_input": "2022-07-17T14:14:24.812722Z",
     "iopub.status.busy": "2022-07-17T14:14:24.812453Z",
     "iopub.status.idle": "2022-07-17T14:14:24.817615Z",
     "shell.execute_reply": "2022-07-17T14:14:24.816865Z"
    },
    "papermill": {
     "duration": 0.014241,
     "end_time": "2022-07-17T14:14:24.819207",
     "exception": false,
     "start_time": "2022-07-17T14:14:24.804966",
     "status": "completed"
    },
    "tags": []
   },
   "outputs": [],
   "source": [
    "# VERSION NAME FOR SAVED MODEL FILES\n",
    "VER = 1\n",
    "\n",
    "# TRAIN RANDOM SEED\n",
    "SEED = 42\n",
    "\n",
    "# FILL NAN VALUE\n",
    "NAN_VALUE = -127 # will fit in int8\n",
    "\n",
    "# FOLDS PER MODEL\n",
    "FOLDS = 5"
   ]
  },
  {
   "cell_type": "markdown",
   "id": "9d77a812",
   "metadata": {
    "papermill": {
     "duration": 0.006312,
     "end_time": "2022-07-17T14:14:24.832188",
     "exception": false,
     "start_time": "2022-07-17T14:14:24.825876",
     "status": "completed"
    },
    "tags": []
   },
   "source": [
    "# Process and Feature Engineer Train Data\n",
    "We will load @raddar Kaggle dataset from [here][1] with discussion [here][2]. Then we will engineer features suggested by @huseyincot in his notebooks [here][3] and [here][4]. We will use [RAPIDS][5] and the GPU to create new features quickly.\n",
    "\n",
    "[1]: https://www.kaggle.com/datasets/raddar/amex-data-integer-dtypes-parquet-format\n",
    "[2]: https://www.kaggle.com/competitions/amex-default-prediction/discussion/328514\n",
    "[3]: https://www.kaggle.com/code/huseyincot/amex-catboost-0-793\n",
    "[4]: https://www.kaggle.com/code/huseyincot/amex-agg-data-how-it-created\n",
    "[5]: https://rapids.ai/"
   ]
  },
  {
   "cell_type": "code",
   "execution_count": 3,
   "id": "ed0e141e",
   "metadata": {
    "execution": {
     "iopub.execute_input": "2022-07-17T14:14:24.845992Z",
     "iopub.status.busy": "2022-07-17T14:14:24.845743Z",
     "iopub.status.idle": "2022-07-17T14:14:47.076665Z",
     "shell.execute_reply": "2022-07-17T14:14:47.075433Z"
    },
    "papermill": {
     "duration": 22.24001,
     "end_time": "2022-07-17T14:14:47.078613",
     "exception": false,
     "start_time": "2022-07-17T14:14:24.838603",
     "status": "completed"
    },
    "tags": []
   },
   "outputs": [
    {
     "name": "stdout",
     "output_type": "stream",
     "text": [
      "Reading train data...\n",
      "shape of data: (5531451, 190)\n"
     ]
    }
   ],
   "source": [
    "def read_file(path = '', usecols = None):\n",
    "    # LOAD DATAFRAME\n",
    "    if usecols is not None: df = cudf.read_parquet(path, columns=usecols)\n",
    "    else: df = cudf.read_parquet(path)\n",
    "    # REDUCE DTYPE FOR CUSTOMER AND DATE\n",
    "    df['customer_ID'] = df['customer_ID'].str[-16:].str.hex_to_int().astype('int64')\n",
    "    df.S_2 = cudf.to_datetime( df.S_2 )\n",
    "    # SORT BY CUSTOMER AND DATE (so agg('last') works correctly)\n",
    "    #df = df.sort_values(['customer_ID','S_2'])\n",
    "    #df = df.reset_index(drop=True)\n",
    "    # FILL NAN\n",
    "#     df = df.fillna(NAN_VALUE) \n",
    "    print('shape of data:', df.shape)\n",
    "    \n",
    "    return df\n",
    "\n",
    "print('Reading train data...')\n",
    "TRAIN_PATH = '../input/amex-data-integer-dtypes-parquet-format/train.parquet'\n",
    "train = read_file(path = TRAIN_PATH)"
   ]
  },
  {
   "cell_type": "code",
   "execution_count": 4,
   "id": "73376954",
   "metadata": {
    "execution": {
     "iopub.execute_input": "2022-07-17T14:14:47.093698Z",
     "iopub.status.busy": "2022-07-17T14:14:47.093424Z",
     "iopub.status.idle": "2022-07-17T14:14:47.386082Z",
     "shell.execute_reply": "2022-07-17T14:14:47.385090Z"
    },
    "papermill": {
     "duration": 0.302239,
     "end_time": "2022-07-17T14:14:47.388068",
     "exception": false,
     "start_time": "2022-07-17T14:14:47.085829",
     "status": "completed"
    },
    "tags": []
   },
   "outputs": [
    {
     "data": {
      "text/html": [
       "<div>\n",
       "<style scoped>\n",
       "    .dataframe tbody tr th:only-of-type {\n",
       "        vertical-align: middle;\n",
       "    }\n",
       "\n",
       "    .dataframe tbody tr th {\n",
       "        vertical-align: top;\n",
       "    }\n",
       "\n",
       "    .dataframe thead th {\n",
       "        text-align: right;\n",
       "    }\n",
       "</style>\n",
       "<table border=\"1\" class=\"dataframe\">\n",
       "  <thead>\n",
       "    <tr style=\"text-align: right;\">\n",
       "      <th></th>\n",
       "      <th>customer_ID</th>\n",
       "      <th>S_2</th>\n",
       "      <th>P_2</th>\n",
       "      <th>D_39</th>\n",
       "      <th>B_1</th>\n",
       "      <th>B_2</th>\n",
       "      <th>R_1</th>\n",
       "      <th>S_3</th>\n",
       "      <th>D_41</th>\n",
       "      <th>B_3</th>\n",
       "      <th>...</th>\n",
       "      <th>D_136</th>\n",
       "      <th>D_137</th>\n",
       "      <th>D_138</th>\n",
       "      <th>D_139</th>\n",
       "      <th>D_140</th>\n",
       "      <th>D_141</th>\n",
       "      <th>D_142</th>\n",
       "      <th>D_143</th>\n",
       "      <th>D_144</th>\n",
       "      <th>D_145</th>\n",
       "    </tr>\n",
       "  </thead>\n",
       "  <tbody>\n",
       "    <tr>\n",
       "      <th>0</th>\n",
       "      <td>-4532153018459703766</td>\n",
       "      <td>2017-03-09</td>\n",
       "      <td>0.938469</td>\n",
       "      <td>0</td>\n",
       "      <td>0.008724</td>\n",
       "      <td>1.006838</td>\n",
       "      <td>0.009228</td>\n",
       "      <td>0.124035</td>\n",
       "      <td>0.0</td>\n",
       "      <td>0.004709</td>\n",
       "      <td>...</td>\n",
       "      <td>-1</td>\n",
       "      <td>-1</td>\n",
       "      <td>-1</td>\n",
       "      <td>0</td>\n",
       "      <td>0</td>\n",
       "      <td>0.0</td>\n",
       "      <td>&lt;NA&gt;</td>\n",
       "      <td>0</td>\n",
       "      <td>0.000610</td>\n",
       "      <td>0</td>\n",
       "    </tr>\n",
       "    <tr>\n",
       "      <th>1</th>\n",
       "      <td>-4532153018459703766</td>\n",
       "      <td>2017-04-07</td>\n",
       "      <td>0.936665</td>\n",
       "      <td>0</td>\n",
       "      <td>0.004923</td>\n",
       "      <td>1.000653</td>\n",
       "      <td>0.006151</td>\n",
       "      <td>0.126750</td>\n",
       "      <td>0.0</td>\n",
       "      <td>0.002714</td>\n",
       "      <td>...</td>\n",
       "      <td>-1</td>\n",
       "      <td>-1</td>\n",
       "      <td>-1</td>\n",
       "      <td>0</td>\n",
       "      <td>0</td>\n",
       "      <td>0.0</td>\n",
       "      <td>&lt;NA&gt;</td>\n",
       "      <td>0</td>\n",
       "      <td>0.005492</td>\n",
       "      <td>0</td>\n",
       "    </tr>\n",
       "    <tr>\n",
       "      <th>2</th>\n",
       "      <td>-4532153018459703766</td>\n",
       "      <td>2017-05-28</td>\n",
       "      <td>0.954180</td>\n",
       "      <td>3</td>\n",
       "      <td>0.021655</td>\n",
       "      <td>1.009672</td>\n",
       "      <td>0.006815</td>\n",
       "      <td>0.123977</td>\n",
       "      <td>0.0</td>\n",
       "      <td>0.009423</td>\n",
       "      <td>...</td>\n",
       "      <td>-1</td>\n",
       "      <td>-1</td>\n",
       "      <td>-1</td>\n",
       "      <td>0</td>\n",
       "      <td>0</td>\n",
       "      <td>0.0</td>\n",
       "      <td>&lt;NA&gt;</td>\n",
       "      <td>0</td>\n",
       "      <td>0.006986</td>\n",
       "      <td>0</td>\n",
       "    </tr>\n",
       "    <tr>\n",
       "      <th>3</th>\n",
       "      <td>-4532153018459703766</td>\n",
       "      <td>2017-06-13</td>\n",
       "      <td>0.960384</td>\n",
       "      <td>0</td>\n",
       "      <td>0.013683</td>\n",
       "      <td>1.002700</td>\n",
       "      <td>0.001373</td>\n",
       "      <td>0.117169</td>\n",
       "      <td>0.0</td>\n",
       "      <td>0.005531</td>\n",
       "      <td>...</td>\n",
       "      <td>-1</td>\n",
       "      <td>-1</td>\n",
       "      <td>-1</td>\n",
       "      <td>0</td>\n",
       "      <td>0</td>\n",
       "      <td>0.0</td>\n",
       "      <td>&lt;NA&gt;</td>\n",
       "      <td>0</td>\n",
       "      <td>0.006527</td>\n",
       "      <td>0</td>\n",
       "    </tr>\n",
       "    <tr>\n",
       "      <th>4</th>\n",
       "      <td>-4532153018459703766</td>\n",
       "      <td>2017-07-16</td>\n",
       "      <td>0.947248</td>\n",
       "      <td>0</td>\n",
       "      <td>0.015193</td>\n",
       "      <td>1.000727</td>\n",
       "      <td>0.007605</td>\n",
       "      <td>0.117325</td>\n",
       "      <td>0.0</td>\n",
       "      <td>0.009312</td>\n",
       "      <td>...</td>\n",
       "      <td>-1</td>\n",
       "      <td>-1</td>\n",
       "      <td>-1</td>\n",
       "      <td>0</td>\n",
       "      <td>0</td>\n",
       "      <td>0.0</td>\n",
       "      <td>&lt;NA&gt;</td>\n",
       "      <td>0</td>\n",
       "      <td>0.008126</td>\n",
       "      <td>0</td>\n",
       "    </tr>\n",
       "  </tbody>\n",
       "</table>\n",
       "<p>5 rows × 190 columns</p>\n",
       "</div>"
      ],
      "text/plain": [
       "           customer_ID        S_2       P_2  D_39       B_1       B_2  \\\n",
       "0 -4532153018459703766 2017-03-09  0.938469     0  0.008724  1.006838   \n",
       "1 -4532153018459703766 2017-04-07  0.936665     0  0.004923  1.000653   \n",
       "2 -4532153018459703766 2017-05-28  0.954180     3  0.021655  1.009672   \n",
       "3 -4532153018459703766 2017-06-13  0.960384     0  0.013683  1.002700   \n",
       "4 -4532153018459703766 2017-07-16  0.947248     0  0.015193  1.000727   \n",
       "\n",
       "        R_1       S_3  D_41       B_3  ... D_136  D_137  D_138  D_139  D_140  \\\n",
       "0  0.009228  0.124035   0.0  0.004709  ...    -1     -1     -1      0      0   \n",
       "1  0.006151  0.126750   0.0  0.002714  ...    -1     -1     -1      0      0   \n",
       "2  0.006815  0.123977   0.0  0.009423  ...    -1     -1     -1      0      0   \n",
       "3  0.001373  0.117169   0.0  0.005531  ...    -1     -1     -1      0      0   \n",
       "4  0.007605  0.117325   0.0  0.009312  ...    -1     -1     -1      0      0   \n",
       "\n",
       "   D_141  D_142 D_143     D_144  D_145  \n",
       "0    0.0   <NA>     0  0.000610      0  \n",
       "1    0.0   <NA>     0  0.005492      0  \n",
       "2    0.0   <NA>     0  0.006986      0  \n",
       "3    0.0   <NA>     0  0.006527      0  \n",
       "4    0.0   <NA>     0  0.008126      0  \n",
       "\n",
       "[5 rows x 190 columns]"
      ]
     },
     "execution_count": 4,
     "metadata": {},
     "output_type": "execute_result"
    }
   ],
   "source": [
    "train.head()"
   ]
  },
  {
   "cell_type": "code",
   "execution_count": 5,
   "id": "5fed3de1",
   "metadata": {
    "execution": {
     "iopub.execute_input": "2022-07-17T14:14:47.403514Z",
     "iopub.status.busy": "2022-07-17T14:14:47.403236Z",
     "iopub.status.idle": "2022-07-17T14:14:49.903882Z",
     "shell.execute_reply": "2022-07-17T14:14:49.903072Z"
    },
    "papermill": {
     "duration": 2.510705,
     "end_time": "2022-07-17T14:14:49.906065",
     "exception": false,
     "start_time": "2022-07-17T14:14:47.395360",
     "status": "completed"
    },
    "tags": []
   },
   "outputs": [
    {
     "name": "stdout",
     "output_type": "stream",
     "text": [
      "shape after engineering (458913, 556)\n"
     ]
    }
   ],
   "source": [
    "def process_and_feature_engineer(df):\n",
    "    # FEATURE ENGINEERING FROM \n",
    "    # https://www.kaggle.com/code/huseyincot/amex-agg-data-how-it-created\n",
    "    \n",
    "#     1) Drop 'B_29'\n",
    "    df.drop(['B_29'], inplace=True, axis=1)\n",
    "#     5) D_39에 대한 feature 추가\n",
    "#     df['D_39_div30'] = df['D_39']/30\n",
    "    \n",
    "#     6) B1, B2에 연관 feature추가\n",
    "    df['B_1_2'] = df['B_1']/(df['B_2']+0.0000001)\n",
    "#     df['B_1_3'] = (df['B_1']+0.0000001) * (df['B_2']+0.0000001) # 성능하락\n",
    "    \n",
    "#     7) B8, B9에 연관 feature추가\n",
    "    #df['B_8_9'] = (df['B_8']+0.0000001)*(df['B_9']+0.0000001) # 성능하락\n",
    "#     df['B_8_9'] = (df['B_8']+0.0000001)/(df['B_9']+0.0000001) # 미소한 성능하락\n",
    "#     8) Corr 높은 특징 제거\n",
    "    df.drop(['D_115', 'D_118', 'D_119'], inplace=True, axis=1)\n",
    "    all_cols = [c for c in list(df.columns) if c not in ['customer_ID','S_2']]\n",
    "    cat_features = [\"B_30\",\"B_38\",\"D_114\",\"D_116\",\"D_117\",\"D_120\",\"D_126\",\"D_63\",\"D_64\",\"D_66\",\"D_68\"]\n",
    "    num_features = [col for col in all_cols if col not in cat_features]\n",
    "    \n",
    "#     2) Add customer count\n",
    "    test_count_agg = df.groupby(['customer_ID'])['S_2'].agg(['count'])\n",
    "\n",
    "\n",
    "    test_num_agg = df.groupby(\"customer_ID\")[num_features].agg(['mean', 'max', 'last'])\n",
    "    test_num_agg.columns = ['_'.join(x) for x in test_num_agg.columns]\n",
    "\n",
    "    test_cat_agg = df.groupby(\"customer_ID\")[cat_features].agg(['count', 'last', 'nunique'])\n",
    "    test_cat_agg.columns = ['_'.join(x) for x in test_cat_agg.columns]\n",
    "\n",
    "    df = cudf.concat([test_count_agg,test_num_agg, test_cat_agg], axis=1)\n",
    "    del test_num_agg, test_cat_agg\n",
    "    print('shape after engineering', df.shape )\n",
    "    \n",
    "    return df\n",
    "\n",
    "train = process_and_feature_engineer(train)"
   ]
  },
  {
   "cell_type": "code",
   "execution_count": 6,
   "id": "32053d32",
   "metadata": {
    "execution": {
     "iopub.execute_input": "2022-07-17T14:14:49.922160Z",
     "iopub.status.busy": "2022-07-17T14:14:49.921452Z",
     "iopub.status.idle": "2022-07-17T14:14:50.824142Z",
     "shell.execute_reply": "2022-07-17T14:14:50.823373Z"
    },
    "papermill": {
     "duration": 0.912919,
     "end_time": "2022-07-17T14:14:50.826324",
     "exception": false,
     "start_time": "2022-07-17T14:14:49.913405",
     "status": "completed"
    },
    "tags": []
   },
   "outputs": [
    {
     "name": "stdout",
     "output_type": "stream",
     "text": [
      "There are 556 features!\n"
     ]
    }
   ],
   "source": [
    "# ADD TARGETS\n",
    "targets = cudf.read_csv('../input/amex-default-prediction/train_labels.csv')\n",
    "targets['customer_ID'] = targets['customer_ID'].str[-16:].str.hex_to_int().astype('int64')\n",
    "targets = targets.set_index('customer_ID')\n",
    "train = train.merge(targets, left_index=True, right_index=True, how='left')\n",
    "train.target = train.target.astype('int8')\n",
    "del targets\n",
    "\n",
    "# NEEDED TO MAKE CV DETERMINISTIC (cudf merge above randomly shuffles rows)\n",
    "train = train.sort_index().reset_index()\n",
    "\n",
    "# FEATURES\n",
    "FEATURES = train.columns[1:-1]\n",
    "print(f'There are {len(FEATURES)} features!')"
   ]
  },
  {
   "cell_type": "markdown",
   "id": "7b05a91c",
   "metadata": {
    "papermill": {
     "duration": 0.007965,
     "end_time": "2022-07-17T14:14:50.841642",
     "exception": false,
     "start_time": "2022-07-17T14:14:50.833677",
     "status": "completed"
    },
    "tags": []
   },
   "source": [
    "# Train XGB\n",
    "We will train using `DeviceQuantileDMatrix`. This has a very small GPU memory footprint."
   ]
  },
  {
   "cell_type": "code",
   "execution_count": 7,
   "id": "fcf5404e",
   "metadata": {
    "execution": {
     "iopub.execute_input": "2022-07-17T14:14:50.858409Z",
     "iopub.status.busy": "2022-07-17T14:14:50.857617Z",
     "iopub.status.idle": "2022-07-17T14:14:50.946109Z",
     "shell.execute_reply": "2022-07-17T14:14:50.945091Z"
    },
    "papermill": {
     "duration": 0.098578,
     "end_time": "2022-07-17T14:14:50.947966",
     "exception": false,
     "start_time": "2022-07-17T14:14:50.849388",
     "status": "completed"
    },
    "tags": []
   },
   "outputs": [
    {
     "name": "stdout",
     "output_type": "stream",
     "text": [
      "XGB Version 1.6.1\n"
     ]
    }
   ],
   "source": [
    "# LOAD XGB LIBRARY\n",
    "from sklearn.model_selection import KFold\n",
    "import xgboost as xgb\n",
    "print('XGB Version',xgb.__version__)\n",
    "\n",
    "# XGB MODEL PARAMETERS\n",
    "xgb_parms = { \n",
    "    'max_depth':4, \n",
    "    'learning_rate':0.05, \n",
    "    'subsample':0.8,\n",
    "    'colsample_bytree':0.6, \n",
    "    'eval_metric':'logloss',\n",
    "    'objective':'binary:logistic',\n",
    "    'tree_method':'gpu_hist',\n",
    "    'predictor':'gpu_predictor',\n",
    "    'random_state':SEED\n",
    "}"
   ]
  },
  {
   "cell_type": "code",
   "execution_count": 8,
   "id": "30774f96",
   "metadata": {
    "execution": {
     "iopub.execute_input": "2022-07-17T14:14:50.964065Z",
     "iopub.status.busy": "2022-07-17T14:14:50.963792Z",
     "iopub.status.idle": "2022-07-17T14:14:50.972696Z",
     "shell.execute_reply": "2022-07-17T14:14:50.971950Z"
    },
    "papermill": {
     "duration": 0.018949,
     "end_time": "2022-07-17T14:14:50.974307",
     "exception": false,
     "start_time": "2022-07-17T14:14:50.955358",
     "status": "completed"
    },
    "tags": []
   },
   "outputs": [],
   "source": [
    "# NEEDED WITH DeviceQuantileDMatrix BELOW\n",
    "class IterLoadForDMatrix(xgb.core.DataIter):\n",
    "    def __init__(self, df=None, features=None, target=None, batch_size=256*1024):\n",
    "        self.features = features\n",
    "        self.target = target\n",
    "        self.df = df\n",
    "        self.it = 0 # set iterator to 0\n",
    "        self.batch_size = batch_size\n",
    "        self.batches = int( np.ceil( len(df) / self.batch_size ) )\n",
    "        super().__init__()\n",
    "\n",
    "    def reset(self):\n",
    "        '''Reset the iterator'''\n",
    "        self.it = 0\n",
    "\n",
    "    def next(self, input_data):\n",
    "        '''Yield next batch of data.'''\n",
    "        if self.it == self.batches:\n",
    "            return 0 # Return 0 when there's no more batch.\n",
    "        \n",
    "        a = self.it * self.batch_size\n",
    "        b = min( (self.it + 1) * self.batch_size, len(self.df) )\n",
    "        dt = cudf.DataFrame(self.df.iloc[a:b])\n",
    "        input_data(data=dt[self.features], label=dt[self.target]) #, weight=dt['weight'])\n",
    "        self.it += 1\n",
    "        return 1"
   ]
  },
  {
   "cell_type": "code",
   "execution_count": 9,
   "id": "0b664b02",
   "metadata": {
    "execution": {
     "iopub.execute_input": "2022-07-17T14:14:50.990530Z",
     "iopub.status.busy": "2022-07-17T14:14:50.990095Z",
     "iopub.status.idle": "2022-07-17T14:14:51.000197Z",
     "shell.execute_reply": "2022-07-17T14:14:50.999510Z"
    },
    "papermill": {
     "duration": 0.020472,
     "end_time": "2022-07-17T14:14:51.001813",
     "exception": false,
     "start_time": "2022-07-17T14:14:50.981341",
     "status": "completed"
    },
    "tags": []
   },
   "outputs": [],
   "source": [
    "# https://www.kaggle.com/kyakovlev\n",
    "# https://www.kaggle.com/competitions/amex-default-prediction/discussion/327534\n",
    "def amex_metric_mod(y_true, y_pred):\n",
    "\n",
    "    labels     = np.transpose(np.array([y_true, y_pred]))\n",
    "    labels     = labels[labels[:, 1].argsort()[::-1]]\n",
    "    weights    = np.where(labels[:,0]==0, 20, 1)\n",
    "    cut_vals   = labels[np.cumsum(weights) <= int(0.04 * np.sum(weights))]\n",
    "    top_four   = np.sum(cut_vals[:,0]) / np.sum(labels[:,0])\n",
    "\n",
    "    gini = [0,0]\n",
    "    for i in [1,0]:\n",
    "        labels         = np.transpose(np.array([y_true, y_pred]))\n",
    "        labels         = labels[labels[:, i].argsort()[::-1]]\n",
    "        weight         = np.where(labels[:,0]==0, 20, 1)\n",
    "        weight_random  = np.cumsum(weight / np.sum(weight))\n",
    "        total_pos      = np.sum(labels[:, 0] *  weight)\n",
    "        cum_pos_found  = np.cumsum(labels[:, 0] * weight)\n",
    "        lorentz        = cum_pos_found / total_pos\n",
    "        gini[i]        = np.sum((lorentz - weight_random) * weight)\n",
    "\n",
    "    return 0.5 * (gini[1]/gini[0] + top_four)"
   ]
  },
  {
   "cell_type": "code",
   "execution_count": 10,
   "id": "6d8c11b9",
   "metadata": {
    "execution": {
     "iopub.execute_input": "2022-07-17T14:14:51.018104Z",
     "iopub.status.busy": "2022-07-17T14:14:51.017835Z",
     "iopub.status.idle": "2022-07-17T14:21:05.802586Z",
     "shell.execute_reply": "2022-07-17T14:21:05.801002Z"
    },
    "papermill": {
     "duration": 374.795417,
     "end_time": "2022-07-17T14:21:05.804704",
     "exception": false,
     "start_time": "2022-07-17T14:14:51.009287",
     "status": "completed"
    },
    "scrolled": true,
    "tags": []
   },
   "outputs": [
    {
     "name": "stdout",
     "output_type": "stream",
     "text": [
      "#########################\n",
      "### Fold 1\n",
      "### Train size 367130 Valid size 91783\n",
      "### Training with 100% fold data...\n",
      "#########################\n",
      "[0]\ttrain-logloss:0.66337\tvalid-logloss:0.66337\n",
      "[100]\ttrain-logloss:0.23691\tvalid-logloss:0.23942\n",
      "[200]\ttrain-logloss:0.22276\tvalid-logloss:0.22769\n",
      "[300]\ttrain-logloss:0.21677\tvalid-logloss:0.22368\n",
      "[400]\ttrain-logloss:0.21268\tvalid-logloss:0.22150\n",
      "[500]\ttrain-logloss:0.20966\tvalid-logloss:0.22031\n",
      "[600]\ttrain-logloss:0.20708\tvalid-logloss:0.21950\n",
      "[700]\ttrain-logloss:0.20472\tvalid-logloss:0.21887\n",
      "[800]\ttrain-logloss:0.20253\tvalid-logloss:0.21836\n",
      "[900]\ttrain-logloss:0.20049\tvalid-logloss:0.21803\n",
      "[1000]\ttrain-logloss:0.19853\tvalid-logloss:0.21779\n",
      "[1100]\ttrain-logloss:0.19662\tvalid-logloss:0.21762\n",
      "[1200]\ttrain-logloss:0.19478\tvalid-logloss:0.21744\n",
      "[1300]\ttrain-logloss:0.19306\tvalid-logloss:0.21728\n",
      "[1400]\ttrain-logloss:0.19133\tvalid-logloss:0.21716\n",
      "[1500]\ttrain-logloss:0.18965\tvalid-logloss:0.21710\n",
      "[1600]\ttrain-logloss:0.18800\tvalid-logloss:0.21705\n",
      "[1700]\ttrain-logloss:0.18639\tvalid-logloss:0.21698\n",
      "[1800]\ttrain-logloss:0.18477\tvalid-logloss:0.21704\n",
      "[1826]\ttrain-logloss:0.18433\tvalid-logloss:0.21702\n",
      "Kaggle Metric = 0.7932695898967093 \n",
      "\n",
      "#########################\n",
      "### Fold 2\n",
      "### Train size 367130 Valid size 91783\n",
      "### Training with 100% fold data...\n",
      "#########################\n",
      "[0]\ttrain-logloss:0.66351\tvalid-logloss:0.66339\n",
      "[100]\ttrain-logloss:0.23735\tvalid-logloss:0.23804\n",
      "[200]\ttrain-logloss:0.22325\tvalid-logloss:0.22591\n",
      "[300]\ttrain-logloss:0.21717\tvalid-logloss:0.22196\n",
      "[400]\ttrain-logloss:0.21315\tvalid-logloss:0.21999\n",
      "[500]\ttrain-logloss:0.21009\tvalid-logloss:0.21892\n",
      "[600]\ttrain-logloss:0.20737\tvalid-logloss:0.21811\n",
      "[700]\ttrain-logloss:0.20496\tvalid-logloss:0.21759\n",
      "[800]\ttrain-logloss:0.20280\tvalid-logloss:0.21727\n",
      "[900]\ttrain-logloss:0.20071\tvalid-logloss:0.21697\n",
      "[1000]\ttrain-logloss:0.19875\tvalid-logloss:0.21675\n",
      "[1100]\ttrain-logloss:0.19684\tvalid-logloss:0.21658\n",
      "[1200]\ttrain-logloss:0.19503\tvalid-logloss:0.21643\n",
      "[1300]\ttrain-logloss:0.19323\tvalid-logloss:0.21632\n",
      "[1400]\ttrain-logloss:0.19156\tvalid-logloss:0.21620\n",
      "[1500]\ttrain-logloss:0.18987\tvalid-logloss:0.21607\n",
      "[1600]\ttrain-logloss:0.18820\tvalid-logloss:0.21603\n",
      "[1700]\ttrain-logloss:0.18656\tvalid-logloss:0.21608\n",
      "[1740]\ttrain-logloss:0.18592\tvalid-logloss:0.21610\n",
      "Kaggle Metric = 0.7941047457896793 \n",
      "\n",
      "#########################\n",
      "### Fold 3\n",
      "### Train size 367130 Valid size 91783\n",
      "### Training with 100% fold data...\n",
      "#########################\n",
      "[0]\ttrain-logloss:0.66331\tvalid-logloss:0.66343\n",
      "[100]\ttrain-logloss:0.23664\tvalid-logloss:0.24070\n",
      "[200]\ttrain-logloss:0.22248\tvalid-logloss:0.22899\n",
      "[300]\ttrain-logloss:0.21653\tvalid-logloss:0.22501\n",
      "[400]\ttrain-logloss:0.21261\tvalid-logloss:0.22302\n",
      "[500]\ttrain-logloss:0.20941\tvalid-logloss:0.22181\n",
      "[600]\ttrain-logloss:0.20682\tvalid-logloss:0.22109\n",
      "[700]\ttrain-logloss:0.20441\tvalid-logloss:0.22052\n",
      "[800]\ttrain-logloss:0.20226\tvalid-logloss:0.22016\n",
      "[900]\ttrain-logloss:0.20017\tvalid-logloss:0.21980\n",
      "[1000]\ttrain-logloss:0.19823\tvalid-logloss:0.21959\n",
      "[1100]\ttrain-logloss:0.19631\tvalid-logloss:0.21948\n",
      "[1200]\ttrain-logloss:0.19449\tvalid-logloss:0.21943\n",
      "[1300]\ttrain-logloss:0.19267\tvalid-logloss:0.21933\n",
      "[1400]\ttrain-logloss:0.19089\tvalid-logloss:0.21934\n",
      "[1500]\ttrain-logloss:0.18919\tvalid-logloss:0.21926\n",
      "[1600]\ttrain-logloss:0.18752\tvalid-logloss:0.21920\n",
      "[1700]\ttrain-logloss:0.18590\tvalid-logloss:0.21920\n",
      "[1707]\ttrain-logloss:0.18579\tvalid-logloss:0.21920\n",
      "Kaggle Metric = 0.7902621454288099 \n",
      "\n",
      "#########################\n",
      "### Fold 4\n",
      "### Train size 367131 Valid size 91782\n",
      "### Training with 100% fold data...\n",
      "#########################\n",
      "[0]\ttrain-logloss:0.66333\tvalid-logloss:0.66346\n",
      "[100]\ttrain-logloss:0.23650\tvalid-logloss:0.24109\n",
      "[200]\ttrain-logloss:0.22240\tvalid-logloss:0.22934\n",
      "[300]\ttrain-logloss:0.21634\tvalid-logloss:0.22550\n",
      "[400]\ttrain-logloss:0.21229\tvalid-logloss:0.22367\n",
      "[500]\ttrain-logloss:0.20920\tvalid-logloss:0.22260\n",
      "[600]\ttrain-logloss:0.20639\tvalid-logloss:0.22177\n",
      "[700]\ttrain-logloss:0.20404\tvalid-logloss:0.22122\n",
      "[800]\ttrain-logloss:0.20181\tvalid-logloss:0.22088\n",
      "[900]\ttrain-logloss:0.19971\tvalid-logloss:0.22060\n",
      "[1000]\ttrain-logloss:0.19769\tvalid-logloss:0.22041\n",
      "[1100]\ttrain-logloss:0.19576\tvalid-logloss:0.22030\n",
      "[1200]\ttrain-logloss:0.19394\tvalid-logloss:0.22019\n",
      "[1300]\ttrain-logloss:0.19214\tvalid-logloss:0.22007\n",
      "[1400]\ttrain-logloss:0.19037\tvalid-logloss:0.21995\n",
      "[1500]\ttrain-logloss:0.18867\tvalid-logloss:0.21991\n",
      "[1600]\ttrain-logloss:0.18701\tvalid-logloss:0.21983\n",
      "[1700]\ttrain-logloss:0.18536\tvalid-logloss:0.21982\n",
      "[1800]\ttrain-logloss:0.18373\tvalid-logloss:0.21979\n",
      "[1885]\ttrain-logloss:0.18244\tvalid-logloss:0.21981\n",
      "Kaggle Metric = 0.7877663259526255 \n",
      "\n",
      "#########################\n",
      "### Fold 5\n",
      "### Train size 367131 Valid size 91782\n",
      "### Training with 100% fold data...\n",
      "#########################\n",
      "[0]\ttrain-logloss:0.66339\tvalid-logloss:0.66339\n",
      "[100]\ttrain-logloss:0.23741\tvalid-logloss:0.23800\n",
      "[200]\ttrain-logloss:0.22337\tvalid-logloss:0.22605\n",
      "[300]\ttrain-logloss:0.21747\tvalid-logloss:0.22209\n",
      "[400]\ttrain-logloss:0.21348\tvalid-logloss:0.21997\n",
      "[500]\ttrain-logloss:0.21035\tvalid-logloss:0.21873\n",
      "[600]\ttrain-logloss:0.20767\tvalid-logloss:0.21792\n",
      "[700]\ttrain-logloss:0.20525\tvalid-logloss:0.21737\n",
      "[800]\ttrain-logloss:0.20300\tvalid-logloss:0.21697\n",
      "[900]\ttrain-logloss:0.20086\tvalid-logloss:0.21662\n",
      "[1000]\ttrain-logloss:0.19885\tvalid-logloss:0.21641\n",
      "[1100]\ttrain-logloss:0.19694\tvalid-logloss:0.21622\n",
      "[1200]\ttrain-logloss:0.19508\tvalid-logloss:0.21608\n",
      "[1300]\ttrain-logloss:0.19332\tvalid-logloss:0.21596\n",
      "[1400]\ttrain-logloss:0.19158\tvalid-logloss:0.21590\n",
      "[1500]\ttrain-logloss:0.18983\tvalid-logloss:0.21583\n",
      "[1600]\ttrain-logloss:0.18815\tvalid-logloss:0.21577\n",
      "[1700]\ttrain-logloss:0.18656\tvalid-logloss:0.21568\n",
      "[1800]\ttrain-logloss:0.18499\tvalid-logloss:0.21572\n",
      "[1804]\ttrain-logloss:0.18493\tvalid-logloss:0.21572\n",
      "Kaggle Metric = 0.7945101969361066 \n",
      "\n",
      "#########################\n",
      "OVERALL CV Kaggle Metric = 0.792001168689044\n"
     ]
    }
   ],
   "source": [
    "importances = []\n",
    "oof = []\n",
    "train = train.to_pandas() # free GPU memory\n",
    "TRAIN_SUBSAMPLE = 1.0\n",
    "gc.collect()\n",
    "\n",
    "skf = KFold(n_splits=FOLDS, shuffle=True, random_state=SEED)\n",
    "for fold,(train_idx, valid_idx) in enumerate(skf.split(\n",
    "            train, train.target )):\n",
    "    \n",
    "    # TRAIN WITH SUBSAMPLE OF TRAIN FOLD DATA\n",
    "    if TRAIN_SUBSAMPLE<1.0:\n",
    "        np.random.seed(SEED)\n",
    "        train_idx = np.random.choice(train_idx, \n",
    "                       int(len(train_idx)*TRAIN_SUBSAMPLE), replace=False)\n",
    "        np.random.seed(None)\n",
    "    \n",
    "    print('#'*25)\n",
    "    print('### Fold',fold+1)\n",
    "    print('### Train size',len(train_idx),'Valid size',len(valid_idx))\n",
    "    print(f'### Training with {int(TRAIN_SUBSAMPLE*100)}% fold data...')\n",
    "    print('#'*25)\n",
    "    \n",
    "    # TRAIN, VALID, TEST FOR FOLD K\n",
    "    Xy_train = IterLoadForDMatrix(train.loc[train_idx], FEATURES, 'target')\n",
    "    X_valid = train.loc[valid_idx, FEATURES]\n",
    "    y_valid = train.loc[valid_idx, 'target']\n",
    "    \n",
    "    dtrain = xgb.DeviceQuantileDMatrix(Xy_train, max_bin=256)\n",
    "    dvalid = xgb.DMatrix(data=X_valid, label=y_valid)\n",
    "    \n",
    "    # TRAIN MODEL FOLD K\n",
    "    model = xgb.train(xgb_parms, \n",
    "                dtrain=dtrain,\n",
    "                evals=[(dtrain,'train'),(dvalid,'valid')],\n",
    "                num_boost_round=9999,\n",
    "                early_stopping_rounds=100,\n",
    "                verbose_eval=100) \n",
    "    model.save_model(f'XGB_v{VER}_fold{fold}.xgb')\n",
    "    \n",
    "    # GET FEATURE IMPORTANCE FOR FOLD K\n",
    "    dd = model.get_score(importance_type='weight')\n",
    "    df = pd.DataFrame({'feature':dd.keys(),f'importance_{fold}':dd.values()})\n",
    "    importances.append(df)\n",
    "            \n",
    "    # INFER OOF FOLD K\n",
    "    oof_preds = model.predict(dvalid)\n",
    "    acc = amex_metric_mod(y_valid.values, oof_preds)\n",
    "    print('Kaggle Metric =',acc,'\\n')\n",
    "    \n",
    "    # SAVE OOF\n",
    "    df = train.loc[valid_idx, ['customer_ID','target'] ].copy()\n",
    "    df['oof_pred'] = oof_preds\n",
    "    oof.append( df )\n",
    "    \n",
    "    del dtrain, Xy_train, dd, df\n",
    "    del X_valid, y_valid, dvalid, model\n",
    "    _ = gc.collect()\n",
    "    \n",
    "print('#'*25)\n",
    "oof = pd.concat(oof,axis=0,ignore_index=True).set_index('customer_ID')\n",
    "acc = amex_metric_mod(oof.target.values, oof.oof_pred.values)\n",
    "print('OVERALL CV Kaggle Metric =',acc)"
   ]
  },
  {
   "cell_type": "code",
   "execution_count": 11,
   "id": "a7f42954",
   "metadata": {
    "execution": {
     "iopub.execute_input": "2022-07-17T14:21:05.832557Z",
     "iopub.status.busy": "2022-07-17T14:21:05.832249Z",
     "iopub.status.idle": "2022-07-17T14:21:05.966782Z",
     "shell.execute_reply": "2022-07-17T14:21:05.966001Z"
    },
    "papermill": {
     "duration": 0.150412,
     "end_time": "2022-07-17T14:21:05.968625",
     "exception": false,
     "start_time": "2022-07-17T14:21:05.818213",
     "status": "completed"
    },
    "tags": []
   },
   "outputs": [],
   "source": [
    "# CLEAN RAM\n",
    "del train\n",
    "_ = gc.collect()"
   ]
  },
  {
   "cell_type": "markdown",
   "id": "c1f51145",
   "metadata": {
    "papermill": {
     "duration": 0.0132,
     "end_time": "2022-07-17T14:21:05.995576",
     "exception": false,
     "start_time": "2022-07-17T14:21:05.982376",
     "status": "completed"
    },
    "tags": []
   },
   "source": [
    "# Save OOF Preds"
   ]
  },
  {
   "cell_type": "code",
   "execution_count": 12,
   "id": "b35bad17",
   "metadata": {
    "execution": {
     "iopub.execute_input": "2022-07-17T14:21:06.023905Z",
     "iopub.status.busy": "2022-07-17T14:21:06.023300Z",
     "iopub.status.idle": "2022-07-17T14:21:10.699087Z",
     "shell.execute_reply": "2022-07-17T14:21:10.698028Z"
    },
    "papermill": {
     "duration": 4.692859,
     "end_time": "2022-07-17T14:21:10.701846",
     "exception": false,
     "start_time": "2022-07-17T14:21:06.008987",
     "status": "completed"
    },
    "tags": []
   },
   "outputs": [
    {
     "data": {
      "text/html": [
       "<div>\n",
       "<style scoped>\n",
       "    .dataframe tbody tr th:only-of-type {\n",
       "        vertical-align: middle;\n",
       "    }\n",
       "\n",
       "    .dataframe tbody tr th {\n",
       "        vertical-align: top;\n",
       "    }\n",
       "\n",
       "    .dataframe thead th {\n",
       "        text-align: right;\n",
       "    }\n",
       "</style>\n",
       "<table border=\"1\" class=\"dataframe\">\n",
       "  <thead>\n",
       "    <tr style=\"text-align: right;\">\n",
       "      <th></th>\n",
       "      <th>customer_ID</th>\n",
       "      <th>target</th>\n",
       "      <th>oof_pred</th>\n",
       "    </tr>\n",
       "  </thead>\n",
       "  <tbody>\n",
       "    <tr>\n",
       "      <th>0</th>\n",
       "      <td>20eac26171c3d251c55fc78204e59fab1c15fc2bc96d0c...</td>\n",
       "      <td>1</td>\n",
       "      <td>0.699541</td>\n",
       "    </tr>\n",
       "    <tr>\n",
       "      <th>1</th>\n",
       "      <td>aea50fdf9b974ccec95fa177c3225a0f913483b457de6e...</td>\n",
       "      <td>0</td>\n",
       "      <td>0.000325</td>\n",
       "    </tr>\n",
       "    <tr>\n",
       "      <th>2</th>\n",
       "      <td>32cd2d41aef737b69089882754395925c96eaee1f4a859...</td>\n",
       "      <td>0</td>\n",
       "      <td>0.001320</td>\n",
       "    </tr>\n",
       "    <tr>\n",
       "      <th>3</th>\n",
       "      <td>8daa6d5dc2655a8a437531e6b8b96829113cdfe9bf6cae...</td>\n",
       "      <td>0</td>\n",
       "      <td>0.013611</td>\n",
       "    </tr>\n",
       "    <tr>\n",
       "      <th>4</th>\n",
       "      <td>0ceba351a3851202542feb49d7385bcef32f6037fc57c7...</td>\n",
       "      <td>1</td>\n",
       "      <td>0.856611</td>\n",
       "    </tr>\n",
       "  </tbody>\n",
       "</table>\n",
       "</div>"
      ],
      "text/plain": [
       "                                         customer_ID  target  oof_pred\n",
       "0  20eac26171c3d251c55fc78204e59fab1c15fc2bc96d0c...       1  0.699541\n",
       "1  aea50fdf9b974ccec95fa177c3225a0f913483b457de6e...       0  0.000325\n",
       "2  32cd2d41aef737b69089882754395925c96eaee1f4a859...       0  0.001320\n",
       "3  8daa6d5dc2655a8a437531e6b8b96829113cdfe9bf6cae...       0  0.013611\n",
       "4  0ceba351a3851202542feb49d7385bcef32f6037fc57c7...       1  0.856611"
      ]
     },
     "execution_count": 12,
     "metadata": {},
     "output_type": "execute_result"
    }
   ],
   "source": [
    "oof_xgb = pd.read_parquet(TRAIN_PATH, columns=['customer_ID']).drop_duplicates()\n",
    "oof_xgb['customer_ID_hash'] = oof_xgb['customer_ID'].apply(lambda x: int(x[-16:],16) ).astype('int64')\n",
    "oof_xgb = oof_xgb.set_index('customer_ID_hash')\n",
    "oof_xgb = oof_xgb.merge(oof, left_index=True, right_index=True)\n",
    "oof_xgb = oof_xgb.sort_index().reset_index(drop=True)\n",
    "oof_xgb.to_csv(f'oof_xgb_v{VER}.csv',index=False)\n",
    "oof_xgb.head()"
   ]
  },
  {
   "cell_type": "code",
   "execution_count": 13,
   "id": "7cceca40",
   "metadata": {
    "execution": {
     "iopub.execute_input": "2022-07-17T14:21:10.744769Z",
     "iopub.status.busy": "2022-07-17T14:21:10.744305Z",
     "iopub.status.idle": "2022-07-17T14:21:11.234308Z",
     "shell.execute_reply": "2022-07-17T14:21:11.233559Z"
    },
    "papermill": {
     "duration": 0.513926,
     "end_time": "2022-07-17T14:21:11.236050",
     "exception": false,
     "start_time": "2022-07-17T14:21:10.722124",
     "status": "completed"
    },
    "tags": []
   },
   "outputs": [
    {
     "data": {
      "image/png": "[encoded data removed]",
      "text/plain": [
       "<Figure size 432x288 with 1 Axes>"
      ]
     },
     "metadata": {
      "needs_background": "light"
     },
     "output_type": "display_data"
    }
   ],
   "source": [
    "# PLOT OOF PREDICTIONS\n",
    "plt.hist(oof_xgb.oof_pred.values, bins=100)\n",
    "plt.title('OOF Predictions')\n",
    "plt.show()"
   ]
  },
  {
   "cell_type": "code",
   "execution_count": 14,
   "id": "1f33bd1a",
   "metadata": {
    "execution": {
     "iopub.execute_input": "2022-07-17T14:21:11.264244Z",
     "iopub.status.busy": "2022-07-17T14:21:11.263950Z",
     "iopub.status.idle": "2022-07-17T14:21:11.397903Z",
     "shell.execute_reply": "2022-07-17T14:21:11.397141Z"
    },
    "papermill": {
     "duration": 0.149953,
     "end_time": "2022-07-17T14:21:11.399737",
     "exception": false,
     "start_time": "2022-07-17T14:21:11.249784",
     "status": "completed"
    },
    "tags": []
   },
   "outputs": [],
   "source": [
    "# CLEAR VRAM, RAM FOR INFERENCE BELOW\n",
    "del oof_xgb, oof\n",
    "_ = gc.collect()"
   ]
  },
  {
   "cell_type": "markdown",
   "id": "eabb27c0",
   "metadata": {
    "papermill": {
     "duration": 0.013506,
     "end_time": "2022-07-17T14:21:11.427048",
     "exception": false,
     "start_time": "2022-07-17T14:21:11.413542",
     "status": "completed"
    },
    "tags": []
   },
   "source": [
    "# Feature Importance"
   ]
  },
  {
   "cell_type": "code",
   "execution_count": 15,
   "id": "0f75471a",
   "metadata": {
    "execution": {
     "iopub.execute_input": "2022-07-17T14:21:11.455763Z",
     "iopub.status.busy": "2022-07-17T14:21:11.455480Z",
     "iopub.status.idle": "2022-07-17T14:21:11.480671Z",
     "shell.execute_reply": "2022-07-17T14:21:11.479967Z"
    },
    "papermill": {
     "duration": 0.0413,
     "end_time": "2022-07-17T14:21:11.482381",
     "exception": false,
     "start_time": "2022-07-17T14:21:11.441081",
     "status": "completed"
    },
    "tags": []
   },
   "outputs": [],
   "source": [
    "import matplotlib.pyplot as plt\n",
    "\n",
    "df = importances[0].copy()\n",
    "for k in range(1,FOLDS): df = df.merge(importances[k], on='feature', how='left')\n",
    "df['importance'] = df.iloc[:,1:].mean(axis=1)\n",
    "df = df.sort_values('importance',ascending=False)\n",
    "df.to_csv(f'xgb_feature_importance_v{VER}.csv',index=False)"
   ]
  },
  {
   "cell_type": "code",
   "execution_count": 16,
   "id": "886c9e68",
   "metadata": {
    "execution": {
     "iopub.execute_input": "2022-07-17T14:21:11.511101Z",
     "iopub.status.busy": "2022-07-17T14:21:11.510853Z",
     "iopub.status.idle": "2022-07-17T14:21:11.784418Z",
     "shell.execute_reply": "2022-07-17T14:21:11.783666Z"
    },
    "papermill": {
     "duration": 0.289722,
     "end_time": "2022-07-17T14:21:11.786280",
     "exception": false,
     "start_time": "2022-07-17T14:21:11.496558",
     "status": "completed"
    },
    "tags": []
   },
   "outputs": [
    {
     "data": {
      "image/png": "[encoded data removed]",
      "text/plain": [
       "<Figure size 720x720 with 1 Axes>"
      ]
     },
     "metadata": {
      "needs_background": "light"
     },
     "output_type": "display_data"
    }
   ],
   "source": [
    "NUM_FEATURES = 20\n",
    "plt.figure(figsize=(10,5*NUM_FEATURES//10))\n",
    "plt.barh(np.arange(NUM_FEATURES,0,-1), df.importance.values[:NUM_FEATURES])\n",
    "plt.yticks(np.arange(NUM_FEATURES,0,-1), df.feature.values[:NUM_FEATURES])\n",
    "plt.title(f'XGB Feature Importance - Top {NUM_FEATURES}')\n",
    "plt.show()"
   ]
  },
  {
   "cell_type": "markdown",
   "id": "4c16fea1",
   "metadata": {
    "papermill": {
     "duration": 0.013681,
     "end_time": "2022-07-17T14:21:11.813988",
     "exception": false,
     "start_time": "2022-07-17T14:21:11.800307",
     "status": "completed"
    },
    "tags": []
   },
   "source": [
    "# Process and Feature Engineer Test Data\n",
    "We will load @raddar Kaggle dataset from [here][1] with discussion [here][2]. Then we will engineer features suggested by @huseyincot in his notebooks [here][1] and [here][4]. We will use [RAPIDS][5] and the GPU to create new features quickly.\n",
    "\n",
    "[1]: https://www.kaggle.com/datasets/raddar/amex-data-integer-dtypes-parquet-format\n",
    "[2]: https://www.kaggle.com/competitions/amex-default-prediction/discussion/328514\n",
    "[3]: https://www.kaggle.com/code/huseyincot/amex-catboost-0-793\n",
    "[4]: https://www.kaggle.com/code/huseyincot/amex-agg-data-how-it-created\n",
    "[5]: https://rapids.ai/"
   ]
  },
  {
   "cell_type": "code",
   "execution_count": 17,
   "id": "b6b304ce",
   "metadata": {
    "execution": {
     "iopub.execute_input": "2022-07-17T14:21:11.843000Z",
     "iopub.status.busy": "2022-07-17T14:21:11.842272Z",
     "iopub.status.idle": "2022-07-17T14:21:14.269153Z",
     "shell.execute_reply": "2022-07-17T14:21:14.267731Z"
    },
    "papermill": {
     "duration": 2.443921,
     "end_time": "2022-07-17T14:21:14.271568",
     "exception": false,
     "start_time": "2022-07-17T14:21:11.827647",
     "status": "completed"
    },
    "tags": []
   },
   "outputs": [
    {
     "name": "stdout",
     "output_type": "stream",
     "text": [
      "Reading test data...\n",
      "shape of data: (11363762, 2)\n",
      "We will process test data as 4 separate parts.\n",
      "There will be 231155 customers in each part (except the last part).\n",
      "Below are number of rows in each part:\n",
      "[2841209, 2839857, 2842105, 2840591]\n"
     ]
    }
   ],
   "source": [
    "# CALCULATE SIZE OF EACH SEPARATE TEST PART\n",
    "def get_rows(customers, test, NUM_PARTS = 4, verbose = ''):\n",
    "    chunk = len(customers)//NUM_PARTS\n",
    "    if verbose != '':\n",
    "        print(f'We will process {verbose} data as {NUM_PARTS} separate parts.')\n",
    "        print(f'There will be {chunk} customers in each part (except the last part).')\n",
    "        print('Below are number of rows in each part:')\n",
    "    rows = []\n",
    "\n",
    "    for k in range(NUM_PARTS):\n",
    "        if k==NUM_PARTS-1: cc = customers[k*chunk:]\n",
    "        else: cc = customers[k*chunk:(k+1)*chunk]\n",
    "        s = test.loc[test.customer_ID.isin(cc)].shape[0]\n",
    "        rows.append(s)\n",
    "    if verbose != '': print( rows )\n",
    "    return rows,chunk\n",
    "\n",
    "# COMPUTE SIZE OF 4 PARTS FOR TEST DATA\n",
    "NUM_PARTS = 4\n",
    "TEST_PATH = '../input/amex-data-integer-dtypes-parquet-format/test.parquet'\n",
    "\n",
    "print(f'Reading test data...')\n",
    "test = read_file(path = TEST_PATH, usecols = ['customer_ID','S_2'])\n",
    "customers = test[['customer_ID']].drop_duplicates().sort_index().values.flatten()\n",
    "rows,num_cust = get_rows(customers, test[['customer_ID']], NUM_PARTS = NUM_PARTS, verbose = 'test')"
   ]
  },
  {
   "cell_type": "markdown",
   "id": "73e4738e",
   "metadata": {
    "papermill": {
     "duration": 0.014291,
     "end_time": "2022-07-17T14:21:14.300992",
     "exception": false,
     "start_time": "2022-07-17T14:21:14.286701",
     "status": "completed"
    },
    "tags": []
   },
   "source": [
    "# Infer Test"
   ]
  },
  {
   "cell_type": "code",
   "execution_count": 18,
   "id": "a9dd8eb7",
   "metadata": {
    "execution": {
     "iopub.execute_input": "2022-07-17T14:21:14.329950Z",
     "iopub.status.busy": "2022-07-17T14:21:14.329668Z",
     "iopub.status.idle": "2022-07-17T14:24:06.219017Z",
     "shell.execute_reply": "2022-07-17T14:24:06.218215Z"
    },
    "papermill": {
     "duration": 171.906344,
     "end_time": "2022-07-17T14:24:06.221267",
     "exception": false,
     "start_time": "2022-07-17T14:21:14.314923",
     "status": "completed"
    },
    "tags": []
   },
   "outputs": [
    {
     "name": "stdout",
     "output_type": "stream",
     "text": [
      "\n",
      "Reading test data...\n",
      "shape of data: (11363762, 190)\n",
      "=> Test part 1 has shape (2841209, 190)\n",
      "shape after engineering (231155, 556)\n",
      "\n",
      "Reading test data...\n",
      "shape of data: (11363762, 190)\n",
      "=> Test part 2 has shape (2839857, 190)\n",
      "shape after engineering (231155, 556)\n",
      "\n",
      "Reading test data...\n",
      "shape of data: (11363762, 190)\n",
      "=> Test part 3 has shape (2842105, 190)\n",
      "shape after engineering (231155, 556)\n",
      "\n",
      "Reading test data...\n",
      "shape of data: (11363762, 190)\n",
      "=> Test part 4 has shape (2840591, 190)\n",
      "shape after engineering (231156, 556)\n"
     ]
    }
   ],
   "source": [
    "# INFER TEST DATA IN PARTS\n",
    "skip_rows = 0\n",
    "skip_cust = 0\n",
    "test_preds = []\n",
    "\n",
    "for k in range(NUM_PARTS):\n",
    "    \n",
    "    # READ PART OF TEST DATA\n",
    "    print(f'\\nReading test data...')\n",
    "    test = read_file(path = TEST_PATH)\n",
    "    test = test.iloc[skip_rows:skip_rows+rows[k]]\n",
    "    skip_rows += rows[k]\n",
    "    print(f'=> Test part {k+1} has shape', test.shape )\n",
    "    \n",
    "    # PROCESS AND FEATURE ENGINEER PART OF TEST DATA\n",
    "    test = process_and_feature_engineer(test)\n",
    "    if k==NUM_PARTS-1: test = test.loc[customers[skip_cust:]]\n",
    "    else: test = test.loc[customers[skip_cust:skip_cust+num_cust]]\n",
    "    skip_cust += num_cust\n",
    "    \n",
    "    # TEST DATA FOR XGB\n",
    "    X_test = test[FEATURES]\n",
    "    dtest = xgb.DMatrix(data=X_test)\n",
    "    test = test[['P_2_mean']] # reduce memory\n",
    "    del X_test\n",
    "    gc.collect()\n",
    "\n",
    "    # INFER XGB MODELS ON TEST DATA\n",
    "    model = xgb.Booster()\n",
    "    model.load_model(f'XGB_v{VER}_fold0.xgb')\n",
    "    preds = model.predict(dtest)\n",
    "    for f in range(1,FOLDS):\n",
    "        model.load_model(f'XGB_v{VER}_fold{f}.xgb')\n",
    "        preds += model.predict(dtest)\n",
    "    preds /= FOLDS\n",
    "    test_preds.append(preds)\n",
    "\n",
    "    # CLEAN MEMORY\n",
    "    del dtest, model\n",
    "    _ = gc.collect()"
   ]
  },
  {
   "cell_type": "markdown",
   "id": "82b98696",
   "metadata": {
    "papermill": {
     "duration": 0.015949,
     "end_time": "2022-07-17T14:24:06.253239",
     "exception": false,
     "start_time": "2022-07-17T14:24:06.237290",
     "status": "completed"
    },
    "tags": []
   },
   "source": [
    "# Create Submission CSV"
   ]
  },
  {
   "cell_type": "code",
   "execution_count": 19,
   "id": "8915abb9",
   "metadata": {
    "execution": {
     "iopub.execute_input": "2022-07-17T14:24:06.283777Z",
     "iopub.status.busy": "2022-07-17T14:24:06.283455Z",
     "iopub.status.idle": "2022-07-17T14:24:07.392937Z",
     "shell.execute_reply": "2022-07-17T14:24:07.392125Z"
    },
    "papermill": {
     "duration": 1.126811,
     "end_time": "2022-07-17T14:24:07.394660",
     "exception": false,
     "start_time": "2022-07-17T14:24:06.267849",
     "status": "completed"
    },
    "tags": []
   },
   "outputs": [
    {
     "name": "stdout",
     "output_type": "stream",
     "text": [
      "Submission file shape is (924621, 2)\n"
     ]
    },
    {
     "data": {
      "text/html": [
       "<div>\n",
       "<style scoped>\n",
       "    .dataframe tbody tr th:only-of-type {\n",
       "        vertical-align: middle;\n",
       "    }\n",
       "\n",
       "    .dataframe tbody tr th {\n",
       "        vertical-align: top;\n",
       "    }\n",
       "\n",
       "    .dataframe thead th {\n",
       "        text-align: right;\n",
       "    }\n",
       "</style>\n",
       "<table border=\"1\" class=\"dataframe\">\n",
       "  <thead>\n",
       "    <tr style=\"text-align: right;\">\n",
       "      <th></th>\n",
       "      <th>customer_ID</th>\n",
       "      <th>prediction</th>\n",
       "    </tr>\n",
       "  </thead>\n",
       "  <tbody>\n",
       "    <tr>\n",
       "      <th>0</th>\n",
       "      <td>03999d5e3bd61a69504cc6e7025c260c1ed2e5b449dba5...</td>\n",
       "      <td>0.098363</td>\n",
       "    </tr>\n",
       "    <tr>\n",
       "      <th>1</th>\n",
       "      <td>039b4f21aa584fb0c3c7055beabc098af55013f9f25515...</td>\n",
       "      <td>0.004973</td>\n",
       "    </tr>\n",
       "    <tr>\n",
       "      <th>2</th>\n",
       "      <td>039a6aea85575ebd33eec75e5c45bc7973481b81a99b62...</td>\n",
       "      <td>0.064305</td>\n",
       "    </tr>\n",
       "    <tr>\n",
       "      <th>3</th>\n",
       "      <td>039bd96164c6567580b24ba13c2b85b60f4554eb43d55b...</td>\n",
       "      <td>0.395519</td>\n",
       "    </tr>\n",
       "    <tr>\n",
       "      <th>4</th>\n",
       "      <td>0399a5a95461ced4134cd9693712fb012351cca1bde04d...</td>\n",
       "      <td>0.000145</td>\n",
       "    </tr>\n",
       "  </tbody>\n",
       "</table>\n",
       "</div>"
      ],
      "text/plain": [
       "                                         customer_ID  prediction\n",
       "0  03999d5e3bd61a69504cc6e7025c260c1ed2e5b449dba5...    0.098363\n",
       "1  039b4f21aa584fb0c3c7055beabc098af55013f9f25515...    0.004973\n",
       "2  039a6aea85575ebd33eec75e5c45bc7973481b81a99b62...    0.064305\n",
       "3  039bd96164c6567580b24ba13c2b85b60f4554eb43d55b...    0.395519\n",
       "4  0399a5a95461ced4134cd9693712fb012351cca1bde04d...    0.000145"
      ]
     },
     "execution_count": 19,
     "metadata": {},
     "output_type": "execute_result"
    }
   ],
   "source": [
    "# WRITE SUBMISSION FILE\n",
    "test_preds = np.concatenate(test_preds)\n",
    "test = cudf.DataFrame(index=customers,data={'prediction':test_preds})\n",
    "sub = cudf.read_csv('../input/amex-default-prediction/sample_submission.csv')[['customer_ID']]\n",
    "sub['customer_ID_hash'] = sub['customer_ID'].str[-16:].str.hex_to_int().astype('int64')\n",
    "sub = sub.set_index('customer_ID_hash')\n",
    "sub = sub.merge(test[['prediction']], left_index=True, right_index=True, how='left')\n",
    "sub = sub.reset_index(drop=True)\n",
    "\n",
    "# DISPLAY PREDICTIONS\n",
    "sub.to_csv(f'submission_xgb_v{VER}.csv',index=False)\n",
    "print('Submission file shape is', sub.shape )\n",
    "sub.head()"
   ]
  },
  {
   "cell_type": "code",
   "execution_count": 20,
   "id": "d6f55027",
   "metadata": {
    "execution": {
     "iopub.execute_input": "2022-07-17T14:24:07.426824Z",
     "iopub.status.busy": "2022-07-17T14:24:07.426149Z",
     "iopub.status.idle": "2022-07-17T14:24:08.130332Z",
     "shell.execute_reply": "2022-07-17T14:24:08.129488Z"
    },
    "papermill": {
     "duration": 0.722477,
     "end_time": "2022-07-17T14:24:08.132321",
     "exception": false,
     "start_time": "2022-07-17T14:24:07.409844",
     "status": "completed"
    },
    "tags": []
   },
   "outputs": [
    {
     "data": {
      "image/png": "[encoded data removed]",
      "text/plain": [
       "<Figure size 432x288 with 1 Axes>"
      ]
     },
     "metadata": {
      "needs_background": "light"
     },
     "output_type": "display_data"
    }
   ],
   "source": [
    "# PLOT PREDICTIONS\n",
    "plt.hist(sub.to_pandas().prediction, bins=100)\n",
    "plt.title('Test Predictions')\n",
    "plt.show()"
   ]
  }
 ],
 "metadata": {
  "kernelspec": {
   "display_name": "Python 3",
   "language": "python",
   "name": "python3"
  },
  "language_info": {
   "codemirror_mode": {
    "name": "ipython",
    "version": 3
   },
   "file_extension": ".py",
   "mimetype": "text/x-python",
   "name": "python",
   "nbconvert_exporter": "python",
   "pygments_lexer": "ipython3",
   "version": "3.7.12"
  },
  "papermill": {
   "default_parameters": {},
   "duration": 597.20271,
   "end_time": "2022-07-17T14:24:09.570702",
   "environment_variables": {},
   "exception": null,
   "input_path": "__notebook__.ipynb",
   "output_path": "__notebook__.ipynb",
   "parameters": {},
   "start_time": "2022-07-17T14:14:12.367992",
   "version": "2.3.4"
  }
 },
 "nbformat": 4,
 "nbformat_minor": 5
}
