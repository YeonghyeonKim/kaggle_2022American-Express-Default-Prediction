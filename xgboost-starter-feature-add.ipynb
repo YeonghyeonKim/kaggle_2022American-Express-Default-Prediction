{
 "cells": [
  {
   "cell_type": "markdown",
   "id": "4b16b581",
   "metadata": {
    "papermill": {
     "duration": 0.012073,
     "end_time": "2022-07-16T14:48:25.382002",
     "exception": false,
     "start_time": "2022-07-16T14:48:25.369929",
     "status": "completed"
    },
    "tags": []
   },
   "source": [
    "# XGBoost Starter - LB 0.793\n",
    "In this notebook we build and train an XGBoost model using @raddar Kaggle dataset from [here][1] with discussion [here][2]. Then we engineer features suggested by @huseyincot in his notebooks [here][3] and [here][4]. This XGB model achieves CV 0.792 LB 0.793! When training with XGB, we use a special XGB dataloader called `DeviceQuantileDMatrix` which uses a small GPU memory footprint. This allows us to engineer more additional columns and train with more rows of data. Our feature engineering is performed using [RAPIDS][5] on the GPU to create new features quickly.\n",
    "\n",
    "[1]: https://www.kaggle.com/datasets/raddar/amex-data-integer-dtypes-parquet-format\n",
    "[2]: https://www.kaggle.com/competitions/amex-default-prediction/discussion/328514\n",
    "[3]: https://www.kaggle.com/code/huseyincot/amex-catboost-0-793\n",
    "[4]: https://www.kaggle.com/code/huseyincot/amex-agg-data-how-it-created\n",
    "[5]: https://rapids.ai/"
   ]
  },
  {
   "cell_type": "markdown",
   "id": "67427cee",
   "metadata": {
    "papermill": {
     "duration": 0.009123,
     "end_time": "2022-07-16T14:48:25.402057",
     "exception": false,
     "start_time": "2022-07-16T14:48:25.392934",
     "status": "completed"
    },
    "tags": []
   },
   "source": [
    "Feature Engineering I done\n",
    "1. Drop B_29, https://www.kaggle.com/code/roberthatch/amex-feature-engg-gpu-or-cpu-process-in-chunks/notebook\n",
    "2. Add each customer count (how long they used) (not normalize)\n",
    "3. Don't fill NaN (with -127)\n",
    "4. remove num_features's min, std\n",
    "5. D_39에 대한 feature 추가 -> CV하락 인줄 알았는데 nan을 채워서 그렇네.. 에러나가지고\n",
    "6. B_1과 B_2간의 연관 feature 추가"
   ]
  },
  {
   "cell_type": "markdown",
   "id": "b1f71a0c",
   "metadata": {
    "papermill": {
     "duration": 0.006359,
     "end_time": "2022-07-16T14:48:25.415472",
     "exception": false,
     "start_time": "2022-07-16T14:48:25.409113",
     "status": "completed"
    },
    "tags": []
   },
   "source": [
    "# Load Libraries"
   ]
  },
  {
   "cell_type": "code",
   "execution_count": 1,
   "id": "92d304a8",
   "metadata": {
    "execution": {
     "iopub.execute_input": "2022-07-16T14:48:25.430289Z",
     "iopub.status.busy": "2022-07-16T14:48:25.429711Z",
     "iopub.status.idle": "2022-07-16T14:48:29.865462Z",
     "shell.execute_reply": "2022-07-16T14:48:29.863237Z"
    },
    "papermill": {
     "duration": 4.445377,
     "end_time": "2022-07-16T14:48:29.867395",
     "exception": false,
     "start_time": "2022-07-16T14:48:25.422018",
     "status": "completed"
    },
    "tags": []
   },
   "outputs": [
    {
     "name": "stdout",
     "output_type": "stream",
     "text": [
      "RAPIDS version 21.10.01\n"
     ]
    }
   ],
   "source": [
    "# LOAD LIBRARIES\n",
    "import pandas as pd, numpy as np # CPU libraries\n",
    "import cupy, cudf # GPU libraries\n",
    "import matplotlib.pyplot as plt, gc, os\n",
    "\n",
    "print('RAPIDS version',cudf.__version__)"
   ]
  },
  {
   "cell_type": "code",
   "execution_count": 2,
   "id": "839b0533",
   "metadata": {
    "execution": {
     "iopub.execute_input": "2022-07-16T14:48:29.882170Z",
     "iopub.status.busy": "2022-07-16T14:48:29.881885Z",
     "iopub.status.idle": "2022-07-16T14:48:29.886580Z",
     "shell.execute_reply": "2022-07-16T14:48:29.885720Z"
    },
    "papermill": {
     "duration": 0.014011,
     "end_time": "2022-07-16T14:48:29.888315",
     "exception": false,
     "start_time": "2022-07-16T14:48:29.874304",
     "status": "completed"
    },
    "tags": []
   },
   "outputs": [],
   "source": [
    "# VERSION NAME FOR SAVED MODEL FILES\n",
    "VER = 1\n",
    "\n",
    "# TRAIN RANDOM SEED\n",
    "SEED = 42\n",
    "\n",
    "# FILL NAN VALUE\n",
    "NAN_VALUE = -127 # will fit in int8\n",
    "\n",
    "# FOLDS PER MODEL\n",
    "FOLDS = 5"
   ]
  },
  {
   "cell_type": "markdown",
   "id": "f0cd17e7",
   "metadata": {
    "papermill": {
     "duration": 0.006832,
     "end_time": "2022-07-16T14:48:29.902091",
     "exception": false,
     "start_time": "2022-07-16T14:48:29.895259",
     "status": "completed"
    },
    "tags": []
   },
   "source": [
    "# Process and Feature Engineer Train Data\n",
    "We will load @raddar Kaggle dataset from [here][1] with discussion [here][2]. Then we will engineer features suggested by @huseyincot in his notebooks [here][3] and [here][4]. We will use [RAPIDS][5] and the GPU to create new features quickly.\n",
    "\n",
    "[1]: https://www.kaggle.com/datasets/raddar/amex-data-integer-dtypes-parquet-format\n",
    "[2]: https://www.kaggle.com/competitions/amex-default-prediction/discussion/328514\n",
    "[3]: https://www.kaggle.com/code/huseyincot/amex-catboost-0-793\n",
    "[4]: https://www.kaggle.com/code/huseyincot/amex-agg-data-how-it-created\n",
    "[5]: https://rapids.ai/"
   ]
  },
  {
   "cell_type": "code",
   "execution_count": 3,
   "id": "fa5de177",
   "metadata": {
    "execution": {
     "iopub.execute_input": "2022-07-16T14:48:29.916532Z",
     "iopub.status.busy": "2022-07-16T14:48:29.916245Z",
     "iopub.status.idle": "2022-07-16T14:48:51.285891Z",
     "shell.execute_reply": "2022-07-16T14:48:51.284839Z"
    },
    "papermill": {
     "duration": 21.380186,
     "end_time": "2022-07-16T14:48:51.288852",
     "exception": false,
     "start_time": "2022-07-16T14:48:29.908666",
     "status": "completed"
    },
    "tags": []
   },
   "outputs": [
    {
     "name": "stdout",
     "output_type": "stream",
     "text": [
      "Reading train data...\n",
      "shape of data: (5531451, 190)\n"
     ]
    }
   ],
   "source": [
    "def read_file(path = '', usecols = None):\n",
    "    # LOAD DATAFRAME\n",
    "    if usecols is not None: df = cudf.read_parquet(path, columns=usecols)\n",
    "    else: df = cudf.read_parquet(path)\n",
    "    # REDUCE DTYPE FOR CUSTOMER AND DATE\n",
    "    df['customer_ID'] = df['customer_ID'].str[-16:].str.hex_to_int().astype('int64')\n",
    "    df.S_2 = cudf.to_datetime( df.S_2 )\n",
    "    # SORT BY CUSTOMER AND DATE (so agg('last') works correctly)\n",
    "    #df = df.sort_values(['customer_ID','S_2'])\n",
    "    #df = df.reset_index(drop=True)\n",
    "    # FILL NAN\n",
    "#     df = df.fillna(NAN_VALUE) \n",
    "    print('shape of data:', df.shape)\n",
    "    \n",
    "    return df\n",
    "\n",
    "print('Reading train data...')\n",
    "TRAIN_PATH = '../input/amex-data-integer-dtypes-parquet-format/train.parquet'\n",
    "train = read_file(path = TRAIN_PATH)"
   ]
  },
  {
   "cell_type": "code",
   "execution_count": 4,
   "id": "8b94c94c",
   "metadata": {
    "execution": {
     "iopub.execute_input": "2022-07-16T14:48:51.304181Z",
     "iopub.status.busy": "2022-07-16T14:48:51.303894Z",
     "iopub.status.idle": "2022-07-16T14:48:51.601522Z",
     "shell.execute_reply": "2022-07-16T14:48:51.600633Z"
    },
    "papermill": {
     "duration": 0.307285,
     "end_time": "2022-07-16T14:48:51.603610",
     "exception": false,
     "start_time": "2022-07-16T14:48:51.296325",
     "status": "completed"
    },
    "tags": []
   },
   "outputs": [
    {
     "data": {
      "text/html": [
       "<div>\n",
       "<style scoped>\n",
       "    .dataframe tbody tr th:only-of-type {\n",
       "        vertical-align: middle;\n",
       "    }\n",
       "\n",
       "    .dataframe tbody tr th {\n",
       "        vertical-align: top;\n",
       "    }\n",
       "\n",
       "    .dataframe thead th {\n",
       "        text-align: right;\n",
       "    }\n",
       "</style>\n",
       "<table border=\"1\" class=\"dataframe\">\n",
       "  <thead>\n",
       "    <tr style=\"text-align: right;\">\n",
       "      <th></th>\n",
       "      <th>customer_ID</th>\n",
       "      <th>S_2</th>\n",
       "      <th>P_2</th>\n",
       "      <th>D_39</th>\n",
       "      <th>B_1</th>\n",
       "      <th>B_2</th>\n",
       "      <th>R_1</th>\n",
       "      <th>S_3</th>\n",
       "      <th>D_41</th>\n",
       "      <th>B_3</th>\n",
       "      <th>...</th>\n",
       "      <th>D_136</th>\n",
       "      <th>D_137</th>\n",
       "      <th>D_138</th>\n",
       "      <th>D_139</th>\n",
       "      <th>D_140</th>\n",
       "      <th>D_141</th>\n",
       "      <th>D_142</th>\n",
       "      <th>D_143</th>\n",
       "      <th>D_144</th>\n",
       "      <th>D_145</th>\n",
       "    </tr>\n",
       "  </thead>\n",
       "  <tbody>\n",
       "    <tr>\n",
       "      <th>0</th>\n",
       "      <td>-4532153018459703766</td>\n",
       "      <td>2017-03-09</td>\n",
       "      <td>0.938469</td>\n",
       "      <td>0</td>\n",
       "      <td>0.008724</td>\n",
       "      <td>1.006838</td>\n",
       "      <td>0.009228</td>\n",
       "      <td>0.124035</td>\n",
       "      <td>0.0</td>\n",
       "      <td>0.004709</td>\n",
       "      <td>...</td>\n",
       "      <td>-1</td>\n",
       "      <td>-1</td>\n",
       "      <td>-1</td>\n",
       "      <td>0</td>\n",
       "      <td>0</td>\n",
       "      <td>0.0</td>\n",
       "      <td>&lt;NA&gt;</td>\n",
       "      <td>0</td>\n",
       "      <td>0.000610</td>\n",
       "      <td>0</td>\n",
       "    </tr>\n",
       "    <tr>\n",
       "      <th>1</th>\n",
       "      <td>-4532153018459703766</td>\n",
       "      <td>2017-04-07</td>\n",
       "      <td>0.936665</td>\n",
       "      <td>0</td>\n",
       "      <td>0.004923</td>\n",
       "      <td>1.000653</td>\n",
       "      <td>0.006151</td>\n",
       "      <td>0.126750</td>\n",
       "      <td>0.0</td>\n",
       "      <td>0.002714</td>\n",
       "      <td>...</td>\n",
       "      <td>-1</td>\n",
       "      <td>-1</td>\n",
       "      <td>-1</td>\n",
       "      <td>0</td>\n",
       "      <td>0</td>\n",
       "      <td>0.0</td>\n",
       "      <td>&lt;NA&gt;</td>\n",
       "      <td>0</td>\n",
       "      <td>0.005492</td>\n",
       "      <td>0</td>\n",
       "    </tr>\n",
       "    <tr>\n",
       "      <th>2</th>\n",
       "      <td>-4532153018459703766</td>\n",
       "      <td>2017-05-28</td>\n",
       "      <td>0.954180</td>\n",
       "      <td>3</td>\n",
       "      <td>0.021655</td>\n",
       "      <td>1.009672</td>\n",
       "      <td>0.006815</td>\n",
       "      <td>0.123977</td>\n",
       "      <td>0.0</td>\n",
       "      <td>0.009423</td>\n",
       "      <td>...</td>\n",
       "      <td>-1</td>\n",
       "      <td>-1</td>\n",
       "      <td>-1</td>\n",
       "      <td>0</td>\n",
       "      <td>0</td>\n",
       "      <td>0.0</td>\n",
       "      <td>&lt;NA&gt;</td>\n",
       "      <td>0</td>\n",
       "      <td>0.006986</td>\n",
       "      <td>0</td>\n",
       "    </tr>\n",
       "    <tr>\n",
       "      <th>3</th>\n",
       "      <td>-4532153018459703766</td>\n",
       "      <td>2017-06-13</td>\n",
       "      <td>0.960384</td>\n",
       "      <td>0</td>\n",
       "      <td>0.013683</td>\n",
       "      <td>1.002700</td>\n",
       "      <td>0.001373</td>\n",
       "      <td>0.117169</td>\n",
       "      <td>0.0</td>\n",
       "      <td>0.005531</td>\n",
       "      <td>...</td>\n",
       "      <td>-1</td>\n",
       "      <td>-1</td>\n",
       "      <td>-1</td>\n",
       "      <td>0</td>\n",
       "      <td>0</td>\n",
       "      <td>0.0</td>\n",
       "      <td>&lt;NA&gt;</td>\n",
       "      <td>0</td>\n",
       "      <td>0.006527</td>\n",
       "      <td>0</td>\n",
       "    </tr>\n",
       "    <tr>\n",
       "      <th>4</th>\n",
       "      <td>-4532153018459703766</td>\n",
       "      <td>2017-07-16</td>\n",
       "      <td>0.947248</td>\n",
       "      <td>0</td>\n",
       "      <td>0.015193</td>\n",
       "      <td>1.000727</td>\n",
       "      <td>0.007605</td>\n",
       "      <td>0.117325</td>\n",
       "      <td>0.0</td>\n",
       "      <td>0.009312</td>\n",
       "      <td>...</td>\n",
       "      <td>-1</td>\n",
       "      <td>-1</td>\n",
       "      <td>-1</td>\n",
       "      <td>0</td>\n",
       "      <td>0</td>\n",
       "      <td>0.0</td>\n",
       "      <td>&lt;NA&gt;</td>\n",
       "      <td>0</td>\n",
       "      <td>0.008126</td>\n",
       "      <td>0</td>\n",
       "    </tr>\n",
       "  </tbody>\n",
       "</table>\n",
       "<p>5 rows × 190 columns</p>\n",
       "</div>"
      ],
      "text/plain": [
       "           customer_ID        S_2       P_2  D_39       B_1       B_2  \\\n",
       "0 -4532153018459703766 2017-03-09  0.938469     0  0.008724  1.006838   \n",
       "1 -4532153018459703766 2017-04-07  0.936665     0  0.004923  1.000653   \n",
       "2 -4532153018459703766 2017-05-28  0.954180     3  0.021655  1.009672   \n",
       "3 -4532153018459703766 2017-06-13  0.960384     0  0.013683  1.002700   \n",
       "4 -4532153018459703766 2017-07-16  0.947248     0  0.015193  1.000727   \n",
       "\n",
       "        R_1       S_3  D_41       B_3  ... D_136  D_137  D_138  D_139  D_140  \\\n",
       "0  0.009228  0.124035   0.0  0.004709  ...    -1     -1     -1      0      0   \n",
       "1  0.006151  0.126750   0.0  0.002714  ...    -1     -1     -1      0      0   \n",
       "2  0.006815  0.123977   0.0  0.009423  ...    -1     -1     -1      0      0   \n",
       "3  0.001373  0.117169   0.0  0.005531  ...    -1     -1     -1      0      0   \n",
       "4  0.007605  0.117325   0.0  0.009312  ...    -1     -1     -1      0      0   \n",
       "\n",
       "   D_141  D_142 D_143     D_144  D_145  \n",
       "0    0.0   <NA>     0  0.000610      0  \n",
       "1    0.0   <NA>     0  0.005492      0  \n",
       "2    0.0   <NA>     0  0.006986      0  \n",
       "3    0.0   <NA>     0  0.006527      0  \n",
       "4    0.0   <NA>     0  0.008126      0  \n",
       "\n",
       "[5 rows x 190 columns]"
      ]
     },
     "execution_count": 4,
     "metadata": {},
     "output_type": "execute_result"
    }
   ],
   "source": [
    "train.head()"
   ]
  },
  {
   "cell_type": "code",
   "execution_count": 5,
   "id": "4d1fd525",
   "metadata": {
    "execution": {
     "iopub.execute_input": "2022-07-16T14:48:51.620372Z",
     "iopub.status.busy": "2022-07-16T14:48:51.620051Z",
     "iopub.status.idle": "2022-07-16T14:48:54.255501Z",
     "shell.execute_reply": "2022-07-16T14:48:54.253797Z"
    },
    "papermill": {
     "duration": 2.646028,
     "end_time": "2022-07-16T14:48:54.257614",
     "exception": false,
     "start_time": "2022-07-16T14:48:51.611586",
     "status": "completed"
    },
    "tags": []
   },
   "outputs": [
    {
     "name": "stdout",
     "output_type": "stream",
     "text": [
      "shape after engineering (458913, 568)\n"
     ]
    }
   ],
   "source": [
    "def process_and_feature_engineer(df):\n",
    "    # FEATURE ENGINEERING FROM \n",
    "    # https://www.kaggle.com/code/huseyincot/amex-agg-data-how-it-created\n",
    "    \n",
    "#     1) Drop 'B_29'\n",
    "    df.drop(['B_29'], inplace=True, axis=1)\n",
    "#     5) D_39에 대한 feature 추가\n",
    "    df['D_39_div30'] = df['D_39']/30\n",
    "    \n",
    "#     6) B1, B2에 연관 feature추가\n",
    "    df['B_1_2'] = df['B_1']/(df['B_2']+0.0000001)\n",
    "    \n",
    "    all_cols = [c for c in list(df.columns) if c not in ['customer_ID','S_2']]\n",
    "    cat_features = [\"B_30\",\"B_38\",\"D_114\",\"D_116\",\"D_117\",\"D_120\",\"D_126\",\"D_63\",\"D_64\",\"D_66\",\"D_68\"]\n",
    "    num_features = [col for col in all_cols if col not in cat_features]\n",
    "    \n",
    "#     2) Add customer count\n",
    "    test_count_agg = df.groupby(['customer_ID'])['S_2'].agg(['count'])\n",
    "\n",
    "\n",
    "    test_num_agg = df.groupby(\"customer_ID\")[num_features].agg(['mean', 'max', 'last'])\n",
    "    test_num_agg.columns = ['_'.join(x) for x in test_num_agg.columns]\n",
    "\n",
    "    test_cat_agg = df.groupby(\"customer_ID\")[cat_features].agg(['count', 'last', 'nunique'])\n",
    "    test_cat_agg.columns = ['_'.join(x) for x in test_cat_agg.columns]\n",
    "\n",
    "    df = cudf.concat([test_count_agg,test_num_agg, test_cat_agg], axis=1)\n",
    "    del test_num_agg, test_cat_agg\n",
    "    print('shape after engineering', df.shape )\n",
    "    \n",
    "    return df\n",
    "\n",
    "train = process_and_feature_engineer(train)"
   ]
  },
  {
   "cell_type": "code",
   "execution_count": 6,
   "id": "d640dc2c",
   "metadata": {
    "execution": {
     "iopub.execute_input": "2022-07-16T14:48:54.273351Z",
     "iopub.status.busy": "2022-07-16T14:48:54.273039Z",
     "iopub.status.idle": "2022-07-16T14:48:55.223545Z",
     "shell.execute_reply": "2022-07-16T14:48:55.222630Z"
    },
    "papermill": {
     "duration": 0.960931,
     "end_time": "2022-07-16T14:48:55.225863",
     "exception": false,
     "start_time": "2022-07-16T14:48:54.264932",
     "status": "completed"
    },
    "tags": []
   },
   "outputs": [
    {
     "name": "stdout",
     "output_type": "stream",
     "text": [
      "There are 568 features!\n"
     ]
    }
   ],
   "source": [
    "# ADD TARGETS\n",
    "targets = cudf.read_csv('../input/amex-default-prediction/train_labels.csv')\n",
    "targets['customer_ID'] = targets['customer_ID'].str[-16:].str.hex_to_int().astype('int64')\n",
    "targets = targets.set_index('customer_ID')\n",
    "train = train.merge(targets, left_index=True, right_index=True, how='left')\n",
    "train.target = train.target.astype('int8')\n",
    "del targets\n",
    "\n",
    "# NEEDED TO MAKE CV DETERMINISTIC (cudf merge above randomly shuffles rows)\n",
    "train = train.sort_index().reset_index()\n",
    "\n",
    "# FEATURES\n",
    "FEATURES = train.columns[1:-1]\n",
    "print(f'There are {len(FEATURES)} features!')"
   ]
  },
  {
   "cell_type": "markdown",
   "id": "5b74ee3b",
   "metadata": {
    "papermill": {
     "duration": 0.006938,
     "end_time": "2022-07-16T14:48:55.240561",
     "exception": false,
     "start_time": "2022-07-16T14:48:55.233623",
     "status": "completed"
    },
    "tags": []
   },
   "source": [
    "# Train XGB\n",
    "We will train using `DeviceQuantileDMatrix`. This has a very small GPU memory footprint."
   ]
  },
  {
   "cell_type": "code",
   "execution_count": 7,
   "id": "267980f3",
   "metadata": {
    "execution": {
     "iopub.execute_input": "2022-07-16T14:48:55.256068Z",
     "iopub.status.busy": "2022-07-16T14:48:55.255780Z",
     "iopub.status.idle": "2022-07-16T14:48:55.362588Z",
     "shell.execute_reply": "2022-07-16T14:48:55.361540Z"
    },
    "papermill": {
     "duration": 0.117208,
     "end_time": "2022-07-16T14:48:55.364949",
     "exception": false,
     "start_time": "2022-07-16T14:48:55.247741",
     "status": "completed"
    },
    "tags": []
   },
   "outputs": [
    {
     "name": "stdout",
     "output_type": "stream",
     "text": [
      "XGB Version 1.6.1\n"
     ]
    }
   ],
   "source": [
    "# LOAD XGB LIBRARY\n",
    "from sklearn.model_selection import KFold\n",
    "import xgboost as xgb\n",
    "print('XGB Version',xgb.__version__)\n",
    "\n",
    "# XGB MODEL PARAMETERS\n",
    "xgb_parms = { \n",
    "    'max_depth':4, \n",
    "    'learning_rate':0.05, \n",
    "    'subsample':0.8,\n",
    "    'colsample_bytree':0.6, \n",
    "    'eval_metric':'logloss',\n",
    "    'objective':'binary:logistic',\n",
    "    'tree_method':'gpu_hist',\n",
    "    'predictor':'gpu_predictor',\n",
    "    'random_state':SEED\n",
    "}"
   ]
  },
  {
   "cell_type": "code",
   "execution_count": 8,
   "id": "5120b6c8",
   "metadata": {
    "execution": {
     "iopub.execute_input": "2022-07-16T14:48:55.380320Z",
     "iopub.status.busy": "2022-07-16T14:48:55.380044Z",
     "iopub.status.idle": "2022-07-16T14:48:55.388735Z",
     "shell.execute_reply": "2022-07-16T14:48:55.387959Z"
    },
    "papermill": {
     "duration": 0.018396,
     "end_time": "2022-07-16T14:48:55.390470",
     "exception": false,
     "start_time": "2022-07-16T14:48:55.372074",
     "status": "completed"
    },
    "tags": []
   },
   "outputs": [],
   "source": [
    "# NEEDED WITH DeviceQuantileDMatrix BELOW\n",
    "class IterLoadForDMatrix(xgb.core.DataIter):\n",
    "    def __init__(self, df=None, features=None, target=None, batch_size=256*1024):\n",
    "        self.features = features\n",
    "        self.target = target\n",
    "        self.df = df\n",
    "        self.it = 0 # set iterator to 0\n",
    "        self.batch_size = batch_size\n",
    "        self.batches = int( np.ceil( len(df) / self.batch_size ) )\n",
    "        super().__init__()\n",
    "\n",
    "    def reset(self):\n",
    "        '''Reset the iterator'''\n",
    "        self.it = 0\n",
    "\n",
    "    def next(self, input_data):\n",
    "        '''Yield next batch of data.'''\n",
    "        if self.it == self.batches:\n",
    "            return 0 # Return 0 when there's no more batch.\n",
    "        \n",
    "        a = self.it * self.batch_size\n",
    "        b = min( (self.it + 1) * self.batch_size, len(self.df) )\n",
    "        dt = cudf.DataFrame(self.df.iloc[a:b])\n",
    "        input_data(data=dt[self.features], label=dt[self.target]) #, weight=dt['weight'])\n",
    "        self.it += 1\n",
    "        return 1"
   ]
  },
  {
   "cell_type": "code",
   "execution_count": 9,
   "id": "99e86218",
   "metadata": {
    "execution": {
     "iopub.execute_input": "2022-07-16T14:48:55.406764Z",
     "iopub.status.busy": "2022-07-16T14:48:55.406515Z",
     "iopub.status.idle": "2022-07-16T14:48:55.415743Z",
     "shell.execute_reply": "2022-07-16T14:48:55.414950Z"
    },
    "papermill": {
     "duration": 0.019747,
     "end_time": "2022-07-16T14:48:55.417425",
     "exception": false,
     "start_time": "2022-07-16T14:48:55.397678",
     "status": "completed"
    },
    "tags": []
   },
   "outputs": [],
   "source": [
    "# https://www.kaggle.com/kyakovlev\n",
    "# https://www.kaggle.com/competitions/amex-default-prediction/discussion/327534\n",
    "def amex_metric_mod(y_true, y_pred):\n",
    "\n",
    "    labels     = np.transpose(np.array([y_true, y_pred]))\n",
    "    labels     = labels[labels[:, 1].argsort()[::-1]]\n",
    "    weights    = np.where(labels[:,0]==0, 20, 1)\n",
    "    cut_vals   = labels[np.cumsum(weights) <= int(0.04 * np.sum(weights))]\n",
    "    top_four   = np.sum(cut_vals[:,0]) / np.sum(labels[:,0])\n",
    "\n",
    "    gini = [0,0]\n",
    "    for i in [1,0]:\n",
    "        labels         = np.transpose(np.array([y_true, y_pred]))\n",
    "        labels         = labels[labels[:, i].argsort()[::-1]]\n",
    "        weight         = np.where(labels[:,0]==0, 20, 1)\n",
    "        weight_random  = np.cumsum(weight / np.sum(weight))\n",
    "        total_pos      = np.sum(labels[:, 0] *  weight)\n",
    "        cum_pos_found  = np.cumsum(labels[:, 0] * weight)\n",
    "        lorentz        = cum_pos_found / total_pos\n",
    "        gini[i]        = np.sum((lorentz - weight_random) * weight)\n",
    "\n",
    "    return 0.5 * (gini[1]/gini[0] + top_four)"
   ]
  },
  {
   "cell_type": "code",
   "execution_count": 10,
   "id": "f092b118",
   "metadata": {
    "execution": {
     "iopub.execute_input": "2022-07-16T14:48:55.432682Z",
     "iopub.status.busy": "2022-07-16T14:48:55.432435Z",
     "iopub.status.idle": "2022-07-16T14:55:09.539115Z",
     "shell.execute_reply": "2022-07-16T14:55:09.537833Z"
    },
    "papermill": {
     "duration": 374.11658,
     "end_time": "2022-07-16T14:55:09.541000",
     "exception": false,
     "start_time": "2022-07-16T14:48:55.424420",
     "status": "completed"
    },
    "scrolled": true,
    "tags": []
   },
   "outputs": [
    {
     "name": "stdout",
     "output_type": "stream",
     "text": [
      "#########################\n",
      "### Fold 1\n",
      "### Train size 367130 Valid size 91783\n",
      "### Training with 100% fold data...\n",
      "#########################\n",
      "[0]\ttrain-logloss:0.66324\tvalid-logloss:0.66325\n",
      "[100]\ttrain-logloss:0.23691\tvalid-logloss:0.23934\n",
      "[200]\ttrain-logloss:0.22273\tvalid-logloss:0.22752\n",
      "[300]\ttrain-logloss:0.21664\tvalid-logloss:0.22346\n",
      "[400]\ttrain-logloss:0.21265\tvalid-logloss:0.22129\n",
      "[500]\ttrain-logloss:0.20956\tvalid-logloss:0.21994\n",
      "[600]\ttrain-logloss:0.20695\tvalid-logloss:0.21915\n",
      "[700]\ttrain-logloss:0.20455\tvalid-logloss:0.21851\n",
      "[800]\ttrain-logloss:0.20237\tvalid-logloss:0.21808\n",
      "[900]\ttrain-logloss:0.20029\tvalid-logloss:0.21781\n",
      "[1000]\ttrain-logloss:0.19830\tvalid-logloss:0.21761\n",
      "[1100]\ttrain-logloss:0.19640\tvalid-logloss:0.21746\n",
      "[1200]\ttrain-logloss:0.19457\tvalid-logloss:0.21730\n",
      "[1300]\ttrain-logloss:0.19279\tvalid-logloss:0.21713\n",
      "[1400]\ttrain-logloss:0.19107\tvalid-logloss:0.21702\n",
      "[1500]\ttrain-logloss:0.18934\tvalid-logloss:0.21691\n",
      "[1600]\ttrain-logloss:0.18769\tvalid-logloss:0.21684\n",
      "[1700]\ttrain-logloss:0.18605\tvalid-logloss:0.21676\n",
      "[1800]\ttrain-logloss:0.18446\tvalid-logloss:0.21674\n",
      "[1900]\ttrain-logloss:0.18289\tvalid-logloss:0.21670\n",
      "[1980]\ttrain-logloss:0.18169\tvalid-logloss:0.21676\n",
      "Kaggle Metric = 0.7932873944752998 \n",
      "\n",
      "#########################\n",
      "### Fold 2\n",
      "### Train size 367130 Valid size 91783\n",
      "### Training with 100% fold data...\n",
      "#########################\n",
      "[0]\ttrain-logloss:0.66330\tvalid-logloss:0.66317\n",
      "[100]\ttrain-logloss:0.23730\tvalid-logloss:0.23802\n",
      "[200]\ttrain-logloss:0.22310\tvalid-logloss:0.22590\n",
      "[300]\ttrain-logloss:0.21711\tvalid-logloss:0.22205\n",
      "[400]\ttrain-logloss:0.21309\tvalid-logloss:0.22011\n",
      "[500]\ttrain-logloss:0.21002\tvalid-logloss:0.21902\n",
      "[600]\ttrain-logloss:0.20728\tvalid-logloss:0.21816\n",
      "[700]\ttrain-logloss:0.20488\tvalid-logloss:0.21763\n",
      "[800]\ttrain-logloss:0.20264\tvalid-logloss:0.21724\n",
      "[900]\ttrain-logloss:0.20054\tvalid-logloss:0.21691\n",
      "[1000]\ttrain-logloss:0.19852\tvalid-logloss:0.21667\n",
      "[1100]\ttrain-logloss:0.19657\tvalid-logloss:0.21644\n",
      "[1200]\ttrain-logloss:0.19478\tvalid-logloss:0.21630\n",
      "[1300]\ttrain-logloss:0.19297\tvalid-logloss:0.21615\n",
      "[1400]\ttrain-logloss:0.19122\tvalid-logloss:0.21602\n",
      "[1500]\ttrain-logloss:0.18951\tvalid-logloss:0.21588\n",
      "[1600]\ttrain-logloss:0.18782\tvalid-logloss:0.21580\n",
      "[1700]\ttrain-logloss:0.18621\tvalid-logloss:0.21576\n",
      "[1800]\ttrain-logloss:0.18460\tvalid-logloss:0.21576\n",
      "[1857]\ttrain-logloss:0.18373\tvalid-logloss:0.21580\n",
      "Kaggle Metric = 0.7927799877858547 \n",
      "\n",
      "#########################\n",
      "### Fold 3\n",
      "### Train size 367130 Valid size 91783\n",
      "### Training with 100% fold data...\n",
      "#########################\n",
      "[0]\ttrain-logloss:0.66319\tvalid-logloss:0.66332\n",
      "[100]\ttrain-logloss:0.23653\tvalid-logloss:0.24074\n",
      "[200]\ttrain-logloss:0.22236\tvalid-logloss:0.22902\n",
      "[300]\ttrain-logloss:0.21641\tvalid-logloss:0.22508\n",
      "[400]\ttrain-logloss:0.21244\tvalid-logloss:0.22308\n",
      "[500]\ttrain-logloss:0.20925\tvalid-logloss:0.22190\n",
      "[600]\ttrain-logloss:0.20653\tvalid-logloss:0.22112\n",
      "[700]\ttrain-logloss:0.20410\tvalid-logloss:0.22054\n",
      "[800]\ttrain-logloss:0.20194\tvalid-logloss:0.22020\n",
      "[900]\ttrain-logloss:0.19991\tvalid-logloss:0.21982\n",
      "[1000]\ttrain-logloss:0.19788\tvalid-logloss:0.21956\n",
      "[1100]\ttrain-logloss:0.19592\tvalid-logloss:0.21930\n",
      "[1200]\ttrain-logloss:0.19406\tvalid-logloss:0.21918\n",
      "[1300]\ttrain-logloss:0.19227\tvalid-logloss:0.21914\n",
      "[1400]\ttrain-logloss:0.19050\tvalid-logloss:0.21908\n",
      "[1500]\ttrain-logloss:0.18878\tvalid-logloss:0.21895\n",
      "[1600]\ttrain-logloss:0.18710\tvalid-logloss:0.21892\n",
      "[1700]\ttrain-logloss:0.18550\tvalid-logloss:0.21890\n",
      "[1800]\ttrain-logloss:0.18385\tvalid-logloss:0.21886\n",
      "[1900]\ttrain-logloss:0.18228\tvalid-logloss:0.21885\n",
      "[1958]\ttrain-logloss:0.18137\tvalid-logloss:0.21887\n",
      "Kaggle Metric = 0.7899414624861996 \n",
      "\n",
      "#########################\n",
      "### Fold 4\n",
      "### Train size 367131 Valid size 91782\n",
      "### Training with 100% fold data...\n",
      "#########################\n",
      "[0]\ttrain-logloss:0.66315\tvalid-logloss:0.66334\n",
      "[100]\ttrain-logloss:0.23677\tvalid-logloss:0.24125\n",
      "[200]\ttrain-logloss:0.22235\tvalid-logloss:0.22915\n",
      "[300]\ttrain-logloss:0.21627\tvalid-logloss:0.22536\n",
      "[400]\ttrain-logloss:0.21223\tvalid-logloss:0.22334\n",
      "[500]\ttrain-logloss:0.20914\tvalid-logloss:0.22222\n",
      "[600]\ttrain-logloss:0.20648\tvalid-logloss:0.22148\n",
      "[700]\ttrain-logloss:0.20399\tvalid-logloss:0.22095\n",
      "[800]\ttrain-logloss:0.20180\tvalid-logloss:0.22066\n",
      "[900]\ttrain-logloss:0.19973\tvalid-logloss:0.22036\n",
      "[1000]\ttrain-logloss:0.19771\tvalid-logloss:0.22021\n",
      "[1100]\ttrain-logloss:0.19586\tvalid-logloss:0.22008\n",
      "[1200]\ttrain-logloss:0.19400\tvalid-logloss:0.22001\n",
      "[1300]\ttrain-logloss:0.19214\tvalid-logloss:0.21992\n",
      "[1400]\ttrain-logloss:0.19044\tvalid-logloss:0.21986\n",
      "[1500]\ttrain-logloss:0.18870\tvalid-logloss:0.21981\n",
      "[1600]\ttrain-logloss:0.18707\tvalid-logloss:0.21978\n",
      "[1611]\ttrain-logloss:0.18690\tvalid-logloss:0.21978\n",
      "Kaggle Metric = 0.7870811382612336 \n",
      "\n",
      "#########################\n",
      "### Fold 5\n",
      "### Train size 367131 Valid size 91782\n",
      "### Training with 100% fold data...\n",
      "#########################\n",
      "[0]\ttrain-logloss:0.66321\tvalid-logloss:0.66318\n",
      "[100]\ttrain-logloss:0.23730\tvalid-logloss:0.23777\n",
      "[200]\ttrain-logloss:0.22328\tvalid-logloss:0.22577\n",
      "[300]\ttrain-logloss:0.21731\tvalid-logloss:0.22171\n",
      "[400]\ttrain-logloss:0.21335\tvalid-logloss:0.21953\n",
      "[500]\ttrain-logloss:0.21016\tvalid-logloss:0.21835\n",
      "[600]\ttrain-logloss:0.20743\tvalid-logloss:0.21755\n",
      "[700]\ttrain-logloss:0.20499\tvalid-logloss:0.21696\n",
      "[800]\ttrain-logloss:0.20272\tvalid-logloss:0.21649\n",
      "[900]\ttrain-logloss:0.20071\tvalid-logloss:0.21621\n",
      "[1000]\ttrain-logloss:0.19872\tvalid-logloss:0.21598\n",
      "[1100]\ttrain-logloss:0.19682\tvalid-logloss:0.21571\n",
      "[1200]\ttrain-logloss:0.19494\tvalid-logloss:0.21557\n",
      "[1300]\ttrain-logloss:0.19313\tvalid-logloss:0.21549\n",
      "[1400]\ttrain-logloss:0.19139\tvalid-logloss:0.21536\n",
      "[1500]\ttrain-logloss:0.18963\tvalid-logloss:0.21530\n",
      "[1600]\ttrain-logloss:0.18797\tvalid-logloss:0.21522\n",
      "[1700]\ttrain-logloss:0.18638\tvalid-logloss:0.21514\n",
      "[1800]\ttrain-logloss:0.18475\tvalid-logloss:0.21516\n",
      "[1820]\ttrain-logloss:0.18443\tvalid-logloss:0.21516\n",
      "Kaggle Metric = 0.7951756964942278 \n",
      "\n",
      "#########################\n",
      "OVERALL CV Kaggle Metric = 0.791613680923003\n"
     ]
    }
   ],
   "source": [
    "importances = []\n",
    "oof = []\n",
    "train = train.to_pandas() # free GPU memory\n",
    "TRAIN_SUBSAMPLE = 1.0\n",
    "gc.collect()\n",
    "\n",
    "skf = KFold(n_splits=FOLDS, shuffle=True, random_state=SEED)\n",
    "for fold,(train_idx, valid_idx) in enumerate(skf.split(\n",
    "            train, train.target )):\n",
    "    \n",
    "    # TRAIN WITH SUBSAMPLE OF TRAIN FOLD DATA\n",
    "    if TRAIN_SUBSAMPLE<1.0:\n",
    "        np.random.seed(SEED)\n",
    "        train_idx = np.random.choice(train_idx, \n",
    "                       int(len(train_idx)*TRAIN_SUBSAMPLE), replace=False)\n",
    "        np.random.seed(None)\n",
    "    \n",
    "    print('#'*25)\n",
    "    print('### Fold',fold+1)\n",
    "    print('### Train size',len(train_idx),'Valid size',len(valid_idx))\n",
    "    print(f'### Training with {int(TRAIN_SUBSAMPLE*100)}% fold data...')\n",
    "    print('#'*25)\n",
    "    \n",
    "    # TRAIN, VALID, TEST FOR FOLD K\n",
    "    Xy_train = IterLoadForDMatrix(train.loc[train_idx], FEATURES, 'target')\n",
    "    X_valid = train.loc[valid_idx, FEATURES]\n",
    "    y_valid = train.loc[valid_idx, 'target']\n",
    "    \n",
    "    dtrain = xgb.DeviceQuantileDMatrix(Xy_train, max_bin=256)\n",
    "    dvalid = xgb.DMatrix(data=X_valid, label=y_valid)\n",
    "    \n",
    "    # TRAIN MODEL FOLD K\n",
    "    model = xgb.train(xgb_parms, \n",
    "                dtrain=dtrain,\n",
    "                evals=[(dtrain,'train'),(dvalid,'valid')],\n",
    "                num_boost_round=9999,\n",
    "                early_stopping_rounds=100,\n",
    "                verbose_eval=100) \n",
    "    model.save_model(f'XGB_v{VER}_fold{fold}.xgb')\n",
    "    \n",
    "    # GET FEATURE IMPORTANCE FOR FOLD K\n",
    "    dd = model.get_score(importance_type='weight')\n",
    "    df = pd.DataFrame({'feature':dd.keys(),f'importance_{fold}':dd.values()})\n",
    "    importances.append(df)\n",
    "            \n",
    "    # INFER OOF FOLD K\n",
    "    oof_preds = model.predict(dvalid)\n",
    "    acc = amex_metric_mod(y_valid.values, oof_preds)\n",
    "    print('Kaggle Metric =',acc,'\\n')\n",
    "    \n",
    "    # SAVE OOF\n",
    "    df = train.loc[valid_idx, ['customer_ID','target'] ].copy()\n",
    "    df['oof_pred'] = oof_preds\n",
    "    oof.append( df )\n",
    "    \n",
    "    del dtrain, Xy_train, dd, df\n",
    "    del X_valid, y_valid, dvalid, model\n",
    "    _ = gc.collect()\n",
    "    \n",
    "print('#'*25)\n",
    "oof = pd.concat(oof,axis=0,ignore_index=True).set_index('customer_ID')\n",
    "acc = amex_metric_mod(oof.target.values, oof.oof_pred.values)\n",
    "print('OVERALL CV Kaggle Metric =',acc)"
   ]
  },
  {
   "cell_type": "code",
   "execution_count": 11,
   "id": "ddb5c843",
   "metadata": {
    "execution": {
     "iopub.execute_input": "2022-07-16T14:55:09.570512Z",
     "iopub.status.busy": "2022-07-16T14:55:09.569663Z",
     "iopub.status.idle": "2022-07-16T14:55:09.700682Z",
     "shell.execute_reply": "2022-07-16T14:55:09.699918Z"
    },
    "papermill": {
     "duration": 0.14771,
     "end_time": "2022-07-16T14:55:09.702747",
     "exception": false,
     "start_time": "2022-07-16T14:55:09.555037",
     "status": "completed"
    },
    "tags": []
   },
   "outputs": [],
   "source": [
    "# CLEAN RAM\n",
    "del train\n",
    "_ = gc.collect()"
   ]
  },
  {
   "cell_type": "markdown",
   "id": "d11ac7ea",
   "metadata": {
    "papermill": {
     "duration": 0.013549,
     "end_time": "2022-07-16T14:55:09.729998",
     "exception": false,
     "start_time": "2022-07-16T14:55:09.716449",
     "status": "completed"
    },
    "tags": []
   },
   "source": [
    "# Save OOF Preds"
   ]
  },
  {
   "cell_type": "code",
   "execution_count": 12,
   "id": "b4309adf",
   "metadata": {
    "execution": {
     "iopub.execute_input": "2022-07-16T14:55:09.757465Z",
     "iopub.status.busy": "2022-07-16T14:55:09.757171Z",
     "iopub.status.idle": "2022-07-16T14:55:14.810529Z",
     "shell.execute_reply": "2022-07-16T14:55:14.809659Z"
    },
    "papermill": {
     "duration": 5.069187,
     "end_time": "2022-07-16T14:55:14.812408",
     "exception": false,
     "start_time": "2022-07-16T14:55:09.743221",
     "status": "completed"
    },
    "tags": []
   },
   "outputs": [
    {
     "data": {
      "text/html": [
       "<div>\n",
       "<style scoped>\n",
       "    .dataframe tbody tr th:only-of-type {\n",
       "        vertical-align: middle;\n",
       "    }\n",
       "\n",
       "    .dataframe tbody tr th {\n",
       "        vertical-align: top;\n",
       "    }\n",
       "\n",
       "    .dataframe thead th {\n",
       "        text-align: right;\n",
       "    }\n",
       "</style>\n",
       "<table border=\"1\" class=\"dataframe\">\n",
       "  <thead>\n",
       "    <tr style=\"text-align: right;\">\n",
       "      <th></th>\n",
       "      <th>customer_ID</th>\n",
       "      <th>target</th>\n",
       "      <th>oof_pred</th>\n",
       "    </tr>\n",
       "  </thead>\n",
       "  <tbody>\n",
       "    <tr>\n",
       "      <th>0</th>\n",
       "      <td>20eac26171c3d251c55fc78204e59fab1c15fc2bc96d0c...</td>\n",
       "      <td>1</td>\n",
       "      <td>0.819718</td>\n",
       "    </tr>\n",
       "    <tr>\n",
       "      <th>1</th>\n",
       "      <td>aea50fdf9b974ccec95fa177c3225a0f913483b457de6e...</td>\n",
       "      <td>0</td>\n",
       "      <td>0.000283</td>\n",
       "    </tr>\n",
       "    <tr>\n",
       "      <th>2</th>\n",
       "      <td>32cd2d41aef737b69089882754395925c96eaee1f4a859...</td>\n",
       "      <td>0</td>\n",
       "      <td>0.001740</td>\n",
       "    </tr>\n",
       "    <tr>\n",
       "      <th>3</th>\n",
       "      <td>8daa6d5dc2655a8a437531e6b8b96829113cdfe9bf6cae...</td>\n",
       "      <td>0</td>\n",
       "      <td>0.013555</td>\n",
       "    </tr>\n",
       "    <tr>\n",
       "      <th>4</th>\n",
       "      <td>0ceba351a3851202542feb49d7385bcef32f6037fc57c7...</td>\n",
       "      <td>1</td>\n",
       "      <td>0.900300</td>\n",
       "    </tr>\n",
       "  </tbody>\n",
       "</table>\n",
       "</div>"
      ],
      "text/plain": [
       "                                         customer_ID  target  oof_pred\n",
       "0  20eac26171c3d251c55fc78204e59fab1c15fc2bc96d0c...       1  0.819718\n",
       "1  aea50fdf9b974ccec95fa177c3225a0f913483b457de6e...       0  0.000283\n",
       "2  32cd2d41aef737b69089882754395925c96eaee1f4a859...       0  0.001740\n",
       "3  8daa6d5dc2655a8a437531e6b8b96829113cdfe9bf6cae...       0  0.013555\n",
       "4  0ceba351a3851202542feb49d7385bcef32f6037fc57c7...       1  0.900300"
      ]
     },
     "execution_count": 12,
     "metadata": {},
     "output_type": "execute_result"
    }
   ],
   "source": [
    "oof_xgb = pd.read_parquet(TRAIN_PATH, columns=['customer_ID']).drop_duplicates()\n",
    "oof_xgb['customer_ID_hash'] = oof_xgb['customer_ID'].apply(lambda x: int(x[-16:],16) ).astype('int64')\n",
    "oof_xgb = oof_xgb.set_index('customer_ID_hash')\n",
    "oof_xgb = oof_xgb.merge(oof, left_index=True, right_index=True)\n",
    "oof_xgb = oof_xgb.sort_index().reset_index(drop=True)\n",
    "oof_xgb.to_csv(f'oof_xgb_v{VER}.csv',index=False)\n",
    "oof_xgb.head()"
   ]
  },
  {
   "cell_type": "code",
   "execution_count": 13,
   "id": "8635e193",
   "metadata": {
    "execution": {
     "iopub.execute_input": "2022-07-16T14:55:14.841604Z",
     "iopub.status.busy": "2022-07-16T14:55:14.841327Z",
     "iopub.status.idle": "2022-07-16T14:55:15.199442Z",
     "shell.execute_reply": "2022-07-16T14:55:15.198627Z"
    },
    "papermill": {
     "duration": 0.374324,
     "end_time": "2022-07-16T14:55:15.201229",
     "exception": false,
     "start_time": "2022-07-16T14:55:14.826905",
     "status": "completed"
    },
    "tags": []
   },
   "outputs": [
    {
     "data": {
      "image/png": "[encoded data removed]",
      "text/plain": [
       "<Figure size 432x288 with 1 Axes>"
      ]
     },
     "metadata": {
      "needs_background": "light"
     },
     "output_type": "display_data"
    }
   ],
   "source": [
    "# PLOT OOF PREDICTIONS\n",
    "plt.hist(oof_xgb.oof_pred.values, bins=100)\n",
    "plt.title('OOF Predictions')\n",
    "plt.show()"
   ]
  },
  {
   "cell_type": "code",
   "execution_count": 14,
   "id": "76c98a15",
   "metadata": {
    "execution": {
     "iopub.execute_input": "2022-07-16T14:55:15.231026Z",
     "iopub.status.busy": "2022-07-16T14:55:15.230707Z",
     "iopub.status.idle": "2022-07-16T14:55:15.369566Z",
     "shell.execute_reply": "2022-07-16T14:55:15.368720Z"
    },
    "papermill": {
     "duration": 0.155858,
     "end_time": "2022-07-16T14:55:15.371990",
     "exception": false,
     "start_time": "2022-07-16T14:55:15.216132",
     "status": "completed"
    },
    "tags": []
   },
   "outputs": [],
   "source": [
    "# CLEAR VRAM, RAM FOR INFERENCE BELOW\n",
    "del oof_xgb, oof\n",
    "_ = gc.collect()"
   ]
  },
  {
   "cell_type": "markdown",
   "id": "0a2b669c",
   "metadata": {
    "papermill": {
     "duration": 0.013602,
     "end_time": "2022-07-16T14:55:15.399664",
     "exception": false,
     "start_time": "2022-07-16T14:55:15.386062",
     "status": "completed"
    },
    "tags": []
   },
   "source": [
    "# Feature Importance"
   ]
  },
  {
   "cell_type": "code",
   "execution_count": 15,
   "id": "5572601f",
   "metadata": {
    "execution": {
     "iopub.execute_input": "2022-07-16T14:55:15.428450Z",
     "iopub.status.busy": "2022-07-16T14:55:15.428148Z",
     "iopub.status.idle": "2022-07-16T14:55:15.455796Z",
     "shell.execute_reply": "2022-07-16T14:55:15.455096Z"
    },
    "papermill": {
     "duration": 0.043926,
     "end_time": "2022-07-16T14:55:15.457494",
     "exception": false,
     "start_time": "2022-07-16T14:55:15.413568",
     "status": "completed"
    },
    "tags": []
   },
   "outputs": [],
   "source": [
    "import matplotlib.pyplot as plt\n",
    "\n",
    "df = importances[0].copy()\n",
    "for k in range(1,FOLDS): df = df.merge(importances[k], on='feature', how='left')\n",
    "df['importance'] = df.iloc[:,1:].mean(axis=1)\n",
    "df = df.sort_values('importance',ascending=False)\n",
    "df.to_csv(f'xgb_feature_importance_v{VER}.csv',index=False)"
   ]
  },
  {
   "cell_type": "code",
   "execution_count": 16,
   "id": "0083279f",
   "metadata": {
    "execution": {
     "iopub.execute_input": "2022-07-16T14:55:15.486381Z",
     "iopub.status.busy": "2022-07-16T14:55:15.486085Z",
     "iopub.status.idle": "2022-07-16T14:55:15.747159Z",
     "shell.execute_reply": "2022-07-16T14:55:15.746380Z"
    },
    "papermill": {
     "duration": 0.277417,
     "end_time": "2022-07-16T14:55:15.748983",
     "exception": false,
     "start_time": "2022-07-16T14:55:15.471566",
     "status": "completed"
    },
    "tags": []
   },
   "outputs": [
    {
     "data": {
      "image/png": "[encoded data removed]",
      "text/plain": [
       "<Figure size 720x720 with 1 Axes>"
      ]
     },
     "metadata": {
      "needs_background": "light"
     },
     "output_type": "display_data"
    }
   ],
   "source": [
    "NUM_FEATURES = 20\n",
    "plt.figure(figsize=(10,5*NUM_FEATURES//10))\n",
    "plt.barh(np.arange(NUM_FEATURES,0,-1), df.importance.values[:NUM_FEATURES])\n",
    "plt.yticks(np.arange(NUM_FEATURES,0,-1), df.feature.values[:NUM_FEATURES])\n",
    "plt.title(f'XGB Feature Importance - Top {NUM_FEATURES}')\n",
    "plt.show()"
   ]
  },
  {
   "cell_type": "markdown",
   "id": "c85cc1ab",
   "metadata": {
    "papermill": {
     "duration": 0.0139,
     "end_time": "2022-07-16T14:55:15.777386",
     "exception": false,
     "start_time": "2022-07-16T14:55:15.763486",
     "status": "completed"
    },
    "tags": []
   },
   "source": [
    "# Process and Feature Engineer Test Data\n",
    "We will load @raddar Kaggle dataset from [here][1] with discussion [here][2]. Then we will engineer features suggested by @huseyincot in his notebooks [here][1] and [here][4]. We will use [RAPIDS][5] and the GPU to create new features quickly.\n",
    "\n",
    "[1]: https://www.kaggle.com/datasets/raddar/amex-data-integer-dtypes-parquet-format\n",
    "[2]: https://www.kaggle.com/competitions/amex-default-prediction/discussion/328514\n",
    "[3]: https://www.kaggle.com/code/huseyincot/amex-catboost-0-793\n",
    "[4]: https://www.kaggle.com/code/huseyincot/amex-agg-data-how-it-created\n",
    "[5]: https://rapids.ai/"
   ]
  },
  {
   "cell_type": "code",
   "execution_count": 17,
   "id": "0c82bf30",
   "metadata": {
    "execution": {
     "iopub.execute_input": "2022-07-16T14:55:15.807238Z",
     "iopub.status.busy": "2022-07-16T14:55:15.806935Z",
     "iopub.status.idle": "2022-07-16T14:55:18.230572Z",
     "shell.execute_reply": "2022-07-16T14:55:18.229459Z"
    },
    "papermill": {
     "duration": 2.441619,
     "end_time": "2022-07-16T14:55:18.232957",
     "exception": false,
     "start_time": "2022-07-16T14:55:15.791338",
     "status": "completed"
    },
    "tags": []
   },
   "outputs": [
    {
     "name": "stdout",
     "output_type": "stream",
     "text": [
      "Reading test data...\n",
      "shape of data: (11363762, 2)\n",
      "We will process test data as 4 separate parts.\n",
      "There will be 231155 customers in each part (except the last part).\n",
      "Below are number of rows in each part:\n",
      "[2841209, 2839857, 2842105, 2840591]\n"
     ]
    }
   ],
   "source": [
    "# CALCULATE SIZE OF EACH SEPARATE TEST PART\n",
    "def get_rows(customers, test, NUM_PARTS = 4, verbose = ''):\n",
    "    chunk = len(customers)//NUM_PARTS\n",
    "    if verbose != '':\n",
    "        print(f'We will process {verbose} data as {NUM_PARTS} separate parts.')\n",
    "        print(f'There will be {chunk} customers in each part (except the last part).')\n",
    "        print('Below are number of rows in each part:')\n",
    "    rows = []\n",
    "\n",
    "    for k in range(NUM_PARTS):\n",
    "        if k==NUM_PARTS-1: cc = customers[k*chunk:]\n",
    "        else: cc = customers[k*chunk:(k+1)*chunk]\n",
    "        s = test.loc[test.customer_ID.isin(cc)].shape[0]\n",
    "        rows.append(s)\n",
    "    if verbose != '': print( rows )\n",
    "    return rows,chunk\n",
    "\n",
    "# COMPUTE SIZE OF 4 PARTS FOR TEST DATA\n",
    "NUM_PARTS = 4\n",
    "TEST_PATH = '../input/amex-data-integer-dtypes-parquet-format/test.parquet'\n",
    "\n",
    "print(f'Reading test data...')\n",
    "test = read_file(path = TEST_PATH, usecols = ['customer_ID','S_2'])\n",
    "customers = test[['customer_ID']].drop_duplicates().sort_index().values.flatten()\n",
    "rows,num_cust = get_rows(customers, test[['customer_ID']], NUM_PARTS = NUM_PARTS, verbose = 'test')"
   ]
  },
  {
   "cell_type": "markdown",
   "id": "ce1866bf",
   "metadata": {
    "papermill": {
     "duration": 0.01486,
     "end_time": "2022-07-16T14:55:18.263479",
     "exception": false,
     "start_time": "2022-07-16T14:55:18.248619",
     "status": "completed"
    },
    "tags": []
   },
   "source": [
    "# Infer Test"
   ]
  },
  {
   "cell_type": "code",
   "execution_count": 18,
   "id": "4743869a",
   "metadata": {
    "execution": {
     "iopub.execute_input": "2022-07-16T14:55:18.294106Z",
     "iopub.status.busy": "2022-07-16T14:55:18.293783Z",
     "iopub.status.idle": "2022-07-16T14:57:48.379099Z",
     "shell.execute_reply": "2022-07-16T14:57:48.378269Z"
    },
    "papermill": {
     "duration": 150.103489,
     "end_time": "2022-07-16T14:57:48.381750",
     "exception": false,
     "start_time": "2022-07-16T14:55:18.278261",
     "status": "completed"
    },
    "tags": []
   },
   "outputs": [
    {
     "name": "stdout",
     "output_type": "stream",
     "text": [
      "\n",
      "Reading test data...\n",
      "shape of data: (11363762, 190)\n",
      "=> Test part 1 has shape (2841209, 190)\n",
      "shape after engineering (231155, 568)\n",
      "\n",
      "Reading test data...\n",
      "shape of data: (11363762, 190)\n",
      "=> Test part 2 has shape (2839857, 190)\n",
      "shape after engineering (231155, 568)\n",
      "\n",
      "Reading test data...\n",
      "shape of data: (11363762, 190)\n",
      "=> Test part 3 has shape (2842105, 190)\n",
      "shape after engineering (231155, 568)\n",
      "\n",
      "Reading test data...\n",
      "shape of data: (11363762, 190)\n",
      "=> Test part 4 has shape (2840591, 190)\n",
      "shape after engineering (231156, 568)\n"
     ]
    }
   ],
   "source": [
    "# INFER TEST DATA IN PARTS\n",
    "skip_rows = 0\n",
    "skip_cust = 0\n",
    "test_preds = []\n",
    "\n",
    "for k in range(NUM_PARTS):\n",
    "    \n",
    "    # READ PART OF TEST DATA\n",
    "    print(f'\\nReading test data...')\n",
    "    test = read_file(path = TEST_PATH)\n",
    "    test = test.iloc[skip_rows:skip_rows+rows[k]]\n",
    "    skip_rows += rows[k]\n",
    "    print(f'=> Test part {k+1} has shape', test.shape )\n",
    "    \n",
    "    # PROCESS AND FEATURE ENGINEER PART OF TEST DATA\n",
    "    test = process_and_feature_engineer(test)\n",
    "    if k==NUM_PARTS-1: test = test.loc[customers[skip_cust:]]\n",
    "    else: test = test.loc[customers[skip_cust:skip_cust+num_cust]]\n",
    "    skip_cust += num_cust\n",
    "    \n",
    "    # TEST DATA FOR XGB\n",
    "    X_test = test[FEATURES]\n",
    "    dtest = xgb.DMatrix(data=X_test)\n",
    "    test = test[['P_2_mean']] # reduce memory\n",
    "    del X_test\n",
    "    gc.collect()\n",
    "\n",
    "    # INFER XGB MODELS ON TEST DATA\n",
    "    model = xgb.Booster()\n",
    "    model.load_model(f'XGB_v{VER}_fold0.xgb')\n",
    "    preds = model.predict(dtest)\n",
    "    for f in range(1,FOLDS):\n",
    "        model.load_model(f'XGB_v{VER}_fold{f}.xgb')\n",
    "        preds += model.predict(dtest)\n",
    "    preds /= FOLDS\n",
    "    test_preds.append(preds)\n",
    "\n",
    "    # CLEAN MEMORY\n",
    "    del dtest, model\n",
    "    _ = gc.collect()"
   ]
  },
  {
   "cell_type": "markdown",
   "id": "d683228a",
   "metadata": {
    "papermill": {
     "duration": 0.014815,
     "end_time": "2022-07-16T14:57:48.412521",
     "exception": false,
     "start_time": "2022-07-16T14:57:48.397706",
     "status": "completed"
    },
    "tags": []
   },
   "source": [
    "# Create Submission CSV"
   ]
  },
  {
   "cell_type": "code",
   "execution_count": 19,
   "id": "f3a7263a",
   "metadata": {
    "execution": {
     "iopub.execute_input": "2022-07-16T14:57:48.444695Z",
     "iopub.status.busy": "2022-07-16T14:57:48.444380Z",
     "iopub.status.idle": "2022-07-16T14:57:49.433899Z",
     "shell.execute_reply": "2022-07-16T14:57:49.433102Z"
    },
    "papermill": {
     "duration": 1.00797,
     "end_time": "2022-07-16T14:57:49.435598",
     "exception": false,
     "start_time": "2022-07-16T14:57:48.427628",
     "status": "completed"
    },
    "tags": []
   },
   "outputs": [
    {
     "name": "stdout",
     "output_type": "stream",
     "text": [
      "Submission file shape is (924621, 2)\n"
     ]
    },
    {
     "data": {
      "text/html": [
       "<div>\n",
       "<style scoped>\n",
       "    .dataframe tbody tr th:only-of-type {\n",
       "        vertical-align: middle;\n",
       "    }\n",
       "\n",
       "    .dataframe tbody tr th {\n",
       "        vertical-align: top;\n",
       "    }\n",
       "\n",
       "    .dataframe thead th {\n",
       "        text-align: right;\n",
       "    }\n",
       "</style>\n",
       "<table border=\"1\" class=\"dataframe\">\n",
       "  <thead>\n",
       "    <tr style=\"text-align: right;\">\n",
       "      <th></th>\n",
       "      <th>customer_ID</th>\n",
       "      <th>prediction</th>\n",
       "    </tr>\n",
       "  </thead>\n",
       "  <tbody>\n",
       "    <tr>\n",
       "      <th>0</th>\n",
       "      <td>03999d5e3bd61a69504cc6e7025c260c1ed2e5b449dba5...</td>\n",
       "      <td>0.116660</td>\n",
       "    </tr>\n",
       "    <tr>\n",
       "      <th>1</th>\n",
       "      <td>039b4f21aa584fb0c3c7055beabc098af55013f9f25515...</td>\n",
       "      <td>0.004425</td>\n",
       "    </tr>\n",
       "    <tr>\n",
       "      <th>2</th>\n",
       "      <td>039a6aea85575ebd33eec75e5c45bc7973481b81a99b62...</td>\n",
       "      <td>0.066687</td>\n",
       "    </tr>\n",
       "    <tr>\n",
       "      <th>3</th>\n",
       "      <td>039bd96164c6567580b24ba13c2b85b60f4554eb43d55b...</td>\n",
       "      <td>0.394037</td>\n",
       "    </tr>\n",
       "    <tr>\n",
       "      <th>4</th>\n",
       "      <td>0399a5a95461ced4134cd9693712fb012351cca1bde04d...</td>\n",
       "      <td>0.000154</td>\n",
       "    </tr>\n",
       "  </tbody>\n",
       "</table>\n",
       "</div>"
      ],
      "text/plain": [
       "                                         customer_ID  prediction\n",
       "0  03999d5e3bd61a69504cc6e7025c260c1ed2e5b449dba5...    0.116660\n",
       "1  039b4f21aa584fb0c3c7055beabc098af55013f9f25515...    0.004425\n",
       "2  039a6aea85575ebd33eec75e5c45bc7973481b81a99b62...    0.066687\n",
       "3  039bd96164c6567580b24ba13c2b85b60f4554eb43d55b...    0.394037\n",
       "4  0399a5a95461ced4134cd9693712fb012351cca1bde04d...    0.000154"
      ]
     },
     "execution_count": 19,
     "metadata": {},
     "output_type": "execute_result"
    }
   ],
   "source": [
    "# WRITE SUBMISSION FILE\n",
    "test_preds = np.concatenate(test_preds)\n",
    "test = cudf.DataFrame(index=customers,data={'prediction':test_preds})\n",
    "sub = cudf.read_csv('../input/amex-default-prediction/sample_submission.csv')[['customer_ID']]\n",
    "sub['customer_ID_hash'] = sub['customer_ID'].str[-16:].str.hex_to_int().astype('int64')\n",
    "sub = sub.set_index('customer_ID_hash')\n",
    "sub = sub.merge(test[['prediction']], left_index=True, right_index=True, how='left')\n",
    "sub = sub.reset_index(drop=True)\n",
    "\n",
    "# DISPLAY PREDICTIONS\n",
    "sub.to_csv(f'submission_xgb_v{VER}.csv',index=False)\n",
    "print('Submission file shape is', sub.shape )\n",
    "sub.head()"
   ]
  },
  {
   "cell_type": "code",
   "execution_count": 20,
   "id": "5bcee032",
   "metadata": {
    "execution": {
     "iopub.execute_input": "2022-07-16T14:57:49.467738Z",
     "iopub.status.busy": "2022-07-16T14:57:49.467358Z",
     "iopub.status.idle": "2022-07-16T14:57:50.179901Z",
     "shell.execute_reply": "2022-07-16T14:57:50.179178Z"
    },
    "papermill": {
     "duration": 0.730255,
     "end_time": "2022-07-16T14:57:50.181751",
     "exception": false,
     "start_time": "2022-07-16T14:57:49.451496",
     "status": "completed"
    },
    "tags": []
   },
   "outputs": [
    {
     "data": {
      "image/png": "[encoded data removed]",
      "text/plain": [
       "<Figure size 432x288 with 1 Axes>"
      ]
     },
     "metadata": {
      "needs_background": "light"
     },
     "output_type": "display_data"
    }
   ],
   "source": [
    "# PLOT PREDICTIONS\n",
    "plt.hist(sub.to_pandas().prediction, bins=100)\n",
    "plt.title('Test Predictions')\n",
    "plt.show()"
   ]
  }
 ],
 "metadata": {
  "kernelspec": {
   "display_name": "Python 3",
   "language": "python",
   "name": "python3"
  },
  "language_info": {
   "codemirror_mode": {
    "name": "ipython",
    "version": 3
   },
   "file_extension": ".py",
   "mimetype": "text/x-python",
   "name": "python",
   "nbconvert_exporter": "python",
   "pygments_lexer": "ipython3",
   "version": "3.7.12"
  },
  "papermill": {
   "default_parameters": {},
   "duration": 575.290395,
   "end_time": "2022-07-16T14:57:51.621324",
   "environment_variables": {},
   "exception": null,
   "input_path": "__notebook__.ipynb",
   "output_path": "__notebook__.ipynb",
   "parameters": {},
   "start_time": "2022-07-16T14:48:16.330929",
   "version": "2.3.4"
  }
 },
 "nbformat": 4,
 "nbformat_minor": 5
}
