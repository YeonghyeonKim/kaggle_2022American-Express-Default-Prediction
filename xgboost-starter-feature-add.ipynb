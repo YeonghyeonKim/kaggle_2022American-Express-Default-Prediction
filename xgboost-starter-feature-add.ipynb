{
 "cells": [
  {
   "cell_type": "markdown",
   "id": "4842ccf4",
   "metadata": {
    "papermill": {
     "duration": 0.016462,
     "end_time": "2022-07-30T17:57:46.323161",
     "exception": false,
     "start_time": "2022-07-30T17:57:46.306699",
     "status": "completed"
    },
    "tags": []
   },
   "source": [
    "# XGBoost Starter - LB 0.793\n",
    "In this notebook we build and train an XGBoost model using @raddar Kaggle dataset from [here][1] with discussion [here][2]. Then we engineer features suggested by @huseyincot in his notebooks [here][3] and [here][4]. This XGB model achieves CV 0.792 LB 0.793! When training with XGB, we use a special XGB dataloader called `DeviceQuantileDMatrix` which uses a small GPU memory footprint. This allows us to engineer more additional columns and train with more rows of data. Our feature engineering is performed using [RAPIDS][5] on the GPU to create new features quickly.\n",
    "\n",
    "[1]: https://www.kaggle.com/datasets/raddar/amex-data-integer-dtypes-parquet-format\n",
    "[2]: https://www.kaggle.com/competitions/amex-default-prediction/discussion/328514\n",
    "[3]: https://www.kaggle.com/code/huseyincot/amex-catboost-0-793\n",
    "[4]: https://www.kaggle.com/code/huseyincot/amex-agg-data-how-it-created\n",
    "[5]: https://rapids.ai/"
   ]
  },
  {
   "cell_type": "markdown",
   "id": "f5dfb506",
   "metadata": {
    "papermill": {
     "duration": 0.007203,
     "end_time": "2022-07-30T17:57:46.337848",
     "exception": false,
     "start_time": "2022-07-30T17:57:46.330645",
     "status": "completed"
    },
    "tags": []
   },
   "source": [
    "Feature Engineering I done\n",
    "1. Drop B_29, https://www.kaggle.com/code/roberthatch/amex-feature-engg-gpu-or-cpu-process-in-chunks/notebook\n",
    "2. Add each customer count (how long they used) (not normalize)\n",
    "3. Don't fill NaN (with -127)\n",
    "4. remove num_features's min, std\n",
    "5. D_39에 대한 feature 추가 -> CV하락\n",
    "6. B_1과 B_2간의 연관 feature 추가; CV 0.7920\n",
    "7. B_8과 B_9간의 연관 feature 추가; CV 0.7919\n",
    "8. corr가 높은 feature중 제거; CV: 0.7914\n",
    "9. 6+ fillna(method='bfill'); CV: 0.7906 => NaN으로 냅두자\n",
    "10. 마지막 3개월만 이용; 6 + CV: 0.7892; 4 + CV: 0.7886\n",
    "11. 영향도 낮은 features  제거 R_28, D_94, R_2; 10 + CV: 0.7890,4 + CV: 0.7916, 6 + CV: 0.7921\n",
    "12. Test시 Fold4 제외; LB에서 체크 예정\n",
    "13. 영향도가 0인 features 제거\n",
    "<!-- 9. add nasdaq info simply -->"
   ]
  },
  {
   "cell_type": "markdown",
   "id": "7ac78c71",
   "metadata": {
    "papermill": {
     "duration": 0.007045,
     "end_time": "2022-07-30T17:57:46.351992",
     "exception": false,
     "start_time": "2022-07-30T17:57:46.344947",
     "status": "completed"
    },
    "tags": []
   },
   "source": [
    "# Load Libraries"
   ]
  },
  {
   "cell_type": "code",
   "execution_count": 1,
   "id": "2f4069ca",
   "metadata": {
    "execution": {
     "iopub.execute_input": "2022-07-30T17:57:46.368210Z",
     "iopub.status.busy": "2022-07-30T17:57:46.367705Z",
     "iopub.status.idle": "2022-07-30T17:57:50.777584Z",
     "shell.execute_reply": "2022-07-30T17:57:50.774931Z"
    },
    "papermill": {
     "duration": 4.421513,
     "end_time": "2022-07-30T17:57:50.780662",
     "exception": false,
     "start_time": "2022-07-30T17:57:46.359149",
     "status": "completed"
    },
    "tags": []
   },
   "outputs": [
    {
     "name": "stdout",
     "output_type": "stream",
     "text": [
      "RAPIDS version 21.10.01\n"
     ]
    }
   ],
   "source": [
    "# LOAD LIBRARIES\n",
    "import pandas as pd, numpy as np # CPU libraries\n",
    "import cupy, cudf # GPU libraries\n",
    "import matplotlib.pyplot as plt, gc, os\n",
    "\n",
    "print('RAPIDS version',cudf.__version__)"
   ]
  },
  {
   "cell_type": "code",
   "execution_count": 2,
   "id": "67574574",
   "metadata": {
    "execution": {
     "iopub.execute_input": "2022-07-30T17:57:50.800003Z",
     "iopub.status.busy": "2022-07-30T17:57:50.799553Z",
     "iopub.status.idle": "2022-07-30T17:57:50.804764Z",
     "shell.execute_reply": "2022-07-30T17:57:50.803766Z"
    },
    "papermill": {
     "duration": 0.017403,
     "end_time": "2022-07-30T17:57:50.806850",
     "exception": false,
     "start_time": "2022-07-30T17:57:50.789447",
     "status": "completed"
    },
    "tags": []
   },
   "outputs": [],
   "source": [
    "# VERSION NAME FOR SAVED MODEL FILES\n",
    "VER = 1\n",
    "\n",
    "# TRAIN RANDOM SEED\n",
    "SEED = 42\n",
    "\n",
    "# FILL NAN VALUE\n",
    "NAN_VALUE = -127 # will fit in int8\n",
    "\n",
    "# FOLDS PER MODEL\n",
    "FOLDS = 5"
   ]
  },
  {
   "cell_type": "markdown",
   "id": "cf8efa9e",
   "metadata": {
    "papermill": {
     "duration": 0.00785,
     "end_time": "2022-07-30T17:57:50.822834",
     "exception": false,
     "start_time": "2022-07-30T17:57:50.814984",
     "status": "completed"
    },
    "tags": []
   },
   "source": [
    "# Process and Feature Engineer Train Data\n",
    "We will load @raddar Kaggle dataset from [here][1] with discussion [here][2]. Then we will engineer features suggested by @huseyincot in his notebooks [here][3] and [here][4]. We will use [RAPIDS][5] and the GPU to create new features quickly.\n",
    "\n",
    "[1]: https://www.kaggle.com/datasets/raddar/amex-data-integer-dtypes-parquet-format\n",
    "[2]: https://www.kaggle.com/competitions/amex-default-prediction/discussion/328514\n",
    "[3]: https://www.kaggle.com/code/huseyincot/amex-catboost-0-793\n",
    "[4]: https://www.kaggle.com/code/huseyincot/amex-agg-data-how-it-created\n",
    "[5]: https://rapids.ai/"
   ]
  },
  {
   "cell_type": "code",
   "execution_count": 3,
   "id": "a446b963",
   "metadata": {
    "execution": {
     "iopub.execute_input": "2022-07-30T17:57:50.840794Z",
     "iopub.status.busy": "2022-07-30T17:57:50.840058Z",
     "iopub.status.idle": "2022-07-30T17:58:12.355747Z",
     "shell.execute_reply": "2022-07-30T17:58:12.354930Z"
    },
    "papermill": {
     "duration": 21.526991,
     "end_time": "2022-07-30T17:58:12.358030",
     "exception": false,
     "start_time": "2022-07-30T17:57:50.831039",
     "status": "completed"
    },
    "tags": []
   },
   "outputs": [
    {
     "name": "stdout",
     "output_type": "stream",
     "text": [
      "Reading train data...\n",
      "shape of data: (5531451, 190)\n"
     ]
    }
   ],
   "source": [
    "def read_file(path = '', usecols = None):\n",
    "    # LOAD DATAFRAME\n",
    "    if usecols is not None: df = cudf.read_parquet(path, columns=usecols)\n",
    "    else: df = cudf.read_parquet(path)\n",
    "    # REDUCE DTYPE FOR CUSTOMER AND DATE\n",
    "    df['customer_ID'] = df['customer_ID'].str[-16:].str.hex_to_int().astype('int64')\n",
    "    df.S_2 = cudf.to_datetime( df.S_2 )\n",
    "    # SORT BY CUSTOMER AND DATE (so agg('last') works correctly)\n",
    "    #df = df.sort_values(['customer_ID','S_2'])\n",
    "    #df = df.reset_index(drop=True)\n",
    "    # FILL NAN\n",
    "#     df = df.fillna(NAN_VALUE) \n",
    "    print('shape of data:', df.shape)\n",
    "    \n",
    "    return df\n",
    "\n",
    "print('Reading train data...')\n",
    "TRAIN_PATH = '../input/amex-data-integer-dtypes-parquet-format/train.parquet'\n",
    "train = read_file(path = TRAIN_PATH)"
   ]
  },
  {
   "cell_type": "code",
   "execution_count": 4,
   "id": "22de2ab9",
   "metadata": {
    "execution": {
     "iopub.execute_input": "2022-07-30T17:58:12.374055Z",
     "iopub.status.busy": "2022-07-30T17:58:12.373384Z",
     "iopub.status.idle": "2022-07-30T17:58:12.702752Z",
     "shell.execute_reply": "2022-07-30T17:58:12.701807Z"
    },
    "papermill": {
     "duration": 0.339973,
     "end_time": "2022-07-30T17:58:12.705470",
     "exception": false,
     "start_time": "2022-07-30T17:58:12.365497",
     "status": "completed"
    },
    "tags": []
   },
   "outputs": [
    {
     "data": {
      "text/html": [
       "<div>\n",
       "<style scoped>\n",
       "    .dataframe tbody tr th:only-of-type {\n",
       "        vertical-align: middle;\n",
       "    }\n",
       "\n",
       "    .dataframe tbody tr th {\n",
       "        vertical-align: top;\n",
       "    }\n",
       "\n",
       "    .dataframe thead th {\n",
       "        text-align: right;\n",
       "    }\n",
       "</style>\n",
       "<table border=\"1\" class=\"dataframe\">\n",
       "  <thead>\n",
       "    <tr style=\"text-align: right;\">\n",
       "      <th></th>\n",
       "      <th>customer_ID</th>\n",
       "      <th>S_2</th>\n",
       "      <th>P_2</th>\n",
       "      <th>D_39</th>\n",
       "      <th>B_1</th>\n",
       "      <th>B_2</th>\n",
       "      <th>R_1</th>\n",
       "      <th>S_3</th>\n",
       "      <th>D_41</th>\n",
       "      <th>B_3</th>\n",
       "      <th>...</th>\n",
       "      <th>D_136</th>\n",
       "      <th>D_137</th>\n",
       "      <th>D_138</th>\n",
       "      <th>D_139</th>\n",
       "      <th>D_140</th>\n",
       "      <th>D_141</th>\n",
       "      <th>D_142</th>\n",
       "      <th>D_143</th>\n",
       "      <th>D_144</th>\n",
       "      <th>D_145</th>\n",
       "    </tr>\n",
       "  </thead>\n",
       "  <tbody>\n",
       "    <tr>\n",
       "      <th>0</th>\n",
       "      <td>-4532153018459703766</td>\n",
       "      <td>2017-03-09</td>\n",
       "      <td>0.938469</td>\n",
       "      <td>0</td>\n",
       "      <td>0.008724</td>\n",
       "      <td>1.006838</td>\n",
       "      <td>0.009228</td>\n",
       "      <td>0.124035</td>\n",
       "      <td>0.0</td>\n",
       "      <td>0.004709</td>\n",
       "      <td>...</td>\n",
       "      <td>-1</td>\n",
       "      <td>-1</td>\n",
       "      <td>-1</td>\n",
       "      <td>0</td>\n",
       "      <td>0</td>\n",
       "      <td>0.0</td>\n",
       "      <td>&lt;NA&gt;</td>\n",
       "      <td>0</td>\n",
       "      <td>0.000610</td>\n",
       "      <td>0</td>\n",
       "    </tr>\n",
       "    <tr>\n",
       "      <th>1</th>\n",
       "      <td>-4532153018459703766</td>\n",
       "      <td>2017-04-07</td>\n",
       "      <td>0.936665</td>\n",
       "      <td>0</td>\n",
       "      <td>0.004923</td>\n",
       "      <td>1.000653</td>\n",
       "      <td>0.006151</td>\n",
       "      <td>0.126750</td>\n",
       "      <td>0.0</td>\n",
       "      <td>0.002714</td>\n",
       "      <td>...</td>\n",
       "      <td>-1</td>\n",
       "      <td>-1</td>\n",
       "      <td>-1</td>\n",
       "      <td>0</td>\n",
       "      <td>0</td>\n",
       "      <td>0.0</td>\n",
       "      <td>&lt;NA&gt;</td>\n",
       "      <td>0</td>\n",
       "      <td>0.005492</td>\n",
       "      <td>0</td>\n",
       "    </tr>\n",
       "    <tr>\n",
       "      <th>2</th>\n",
       "      <td>-4532153018459703766</td>\n",
       "      <td>2017-05-28</td>\n",
       "      <td>0.954180</td>\n",
       "      <td>3</td>\n",
       "      <td>0.021655</td>\n",
       "      <td>1.009672</td>\n",
       "      <td>0.006815</td>\n",
       "      <td>0.123977</td>\n",
       "      <td>0.0</td>\n",
       "      <td>0.009423</td>\n",
       "      <td>...</td>\n",
       "      <td>-1</td>\n",
       "      <td>-1</td>\n",
       "      <td>-1</td>\n",
       "      <td>0</td>\n",
       "      <td>0</td>\n",
       "      <td>0.0</td>\n",
       "      <td>&lt;NA&gt;</td>\n",
       "      <td>0</td>\n",
       "      <td>0.006986</td>\n",
       "      <td>0</td>\n",
       "    </tr>\n",
       "    <tr>\n",
       "      <th>3</th>\n",
       "      <td>-4532153018459703766</td>\n",
       "      <td>2017-06-13</td>\n",
       "      <td>0.960384</td>\n",
       "      <td>0</td>\n",
       "      <td>0.013683</td>\n",
       "      <td>1.002700</td>\n",
       "      <td>0.001373</td>\n",
       "      <td>0.117169</td>\n",
       "      <td>0.0</td>\n",
       "      <td>0.005531</td>\n",
       "      <td>...</td>\n",
       "      <td>-1</td>\n",
       "      <td>-1</td>\n",
       "      <td>-1</td>\n",
       "      <td>0</td>\n",
       "      <td>0</td>\n",
       "      <td>0.0</td>\n",
       "      <td>&lt;NA&gt;</td>\n",
       "      <td>0</td>\n",
       "      <td>0.006527</td>\n",
       "      <td>0</td>\n",
       "    </tr>\n",
       "    <tr>\n",
       "      <th>4</th>\n",
       "      <td>-4532153018459703766</td>\n",
       "      <td>2017-07-16</td>\n",
       "      <td>0.947248</td>\n",
       "      <td>0</td>\n",
       "      <td>0.015193</td>\n",
       "      <td>1.000727</td>\n",
       "      <td>0.007605</td>\n",
       "      <td>0.117325</td>\n",
       "      <td>0.0</td>\n",
       "      <td>0.009312</td>\n",
       "      <td>...</td>\n",
       "      <td>-1</td>\n",
       "      <td>-1</td>\n",
       "      <td>-1</td>\n",
       "      <td>0</td>\n",
       "      <td>0</td>\n",
       "      <td>0.0</td>\n",
       "      <td>&lt;NA&gt;</td>\n",
       "      <td>0</td>\n",
       "      <td>0.008126</td>\n",
       "      <td>0</td>\n",
       "    </tr>\n",
       "  </tbody>\n",
       "</table>\n",
       "<p>5 rows × 190 columns</p>\n",
       "</div>"
      ],
      "text/plain": [
       "           customer_ID        S_2       P_2  D_39       B_1       B_2  \\\n",
       "0 -4532153018459703766 2017-03-09  0.938469     0  0.008724  1.006838   \n",
       "1 -4532153018459703766 2017-04-07  0.936665     0  0.004923  1.000653   \n",
       "2 -4532153018459703766 2017-05-28  0.954180     3  0.021655  1.009672   \n",
       "3 -4532153018459703766 2017-06-13  0.960384     0  0.013683  1.002700   \n",
       "4 -4532153018459703766 2017-07-16  0.947248     0  0.015193  1.000727   \n",
       "\n",
       "        R_1       S_3  D_41       B_3  ... D_136  D_137  D_138  D_139  D_140  \\\n",
       "0  0.009228  0.124035   0.0  0.004709  ...    -1     -1     -1      0      0   \n",
       "1  0.006151  0.126750   0.0  0.002714  ...    -1     -1     -1      0      0   \n",
       "2  0.006815  0.123977   0.0  0.009423  ...    -1     -1     -1      0      0   \n",
       "3  0.001373  0.117169   0.0  0.005531  ...    -1     -1     -1      0      0   \n",
       "4  0.007605  0.117325   0.0  0.009312  ...    -1     -1     -1      0      0   \n",
       "\n",
       "   D_141  D_142 D_143     D_144  D_145  \n",
       "0    0.0   <NA>     0  0.000610      0  \n",
       "1    0.0   <NA>     0  0.005492      0  \n",
       "2    0.0   <NA>     0  0.006986      0  \n",
       "3    0.0   <NA>     0  0.006527      0  \n",
       "4    0.0   <NA>     0  0.008126      0  \n",
       "\n",
       "[5 rows x 190 columns]"
      ]
     },
     "execution_count": 4,
     "metadata": {},
     "output_type": "execute_result"
    }
   ],
   "source": [
    "train.head()"
   ]
  },
  {
   "cell_type": "code",
   "execution_count": 5,
   "id": "8ca36c06",
   "metadata": {
    "execution": {
     "iopub.execute_input": "2022-07-30T17:58:12.724246Z",
     "iopub.status.busy": "2022-07-30T17:58:12.723874Z",
     "iopub.status.idle": "2022-07-30T17:58:15.440902Z",
     "shell.execute_reply": "2022-07-30T17:58:15.440044Z"
    },
    "papermill": {
     "duration": 2.729092,
     "end_time": "2022-07-30T17:58:15.443626",
     "exception": false,
     "start_time": "2022-07-30T17:58:12.714534",
     "status": "completed"
    },
    "tags": []
   },
   "outputs": [
    {
     "name": "stdout",
     "output_type": "stream",
     "text": [
      "shape after engineering (458913, 507)\n"
     ]
    }
   ],
   "source": [
    "def process_and_feature_engineer(df):\n",
    "    # FEATURE ENGINEERING FROM \n",
    "    # https://www.kaggle.com/code/huseyincot/amex-agg-data-how-it-created\n",
    "#     9) nasdaq\n",
    "#     nasdaq_path = '../input/nasdaq/nasdaq.csv'\n",
    "#     nasdaq = cudf.read_csv(nasdaq_path, encoding='utf-8-sig')\n",
    "#     nasdaq.rename(columns={'\\ufeffS_2': 'S_2'}, inplace=True)\n",
    "#     nasdaq.drop(['tradingvolume'], inplace=True, axis=1)\n",
    "#     nasdaq.S_2 = cudf.to_datetime(nasdaq.S_2)\n",
    "#     nasdaq[['closing','open', 'high', 'low']] = nasdaq[['closing','open', 'high', 'low']].astype(float)    \n",
    "#     df = df.merge(nasdaq, on='S_2')\n",
    "    \n",
    "#     1) Drop 'B_29'\n",
    "    df.drop(['B_29'], inplace=True, axis=1)\n",
    "#     11) Drop R_28, D_94, R_2\n",
    "    df.drop(['R_28', 'D_94', 'R_2'], inplace=True, axis=1)\n",
    "    \n",
    "#     6) B1, B2에 연관 feature추가\n",
    "    df['B_1_2'] = df['B_1']/(df['B_2']+0.0000001)\n",
    "\n",
    "#     5) D_39에 대한 feature 추가\n",
    "#     df['D_39_div30'] = df['D_39']/30\n",
    "#     10) 마지막 3개월만 이용\n",
    "#     df = cudf.concat([df.groupby('customer_ID').nth(-3), df.groupby('customer_ID').nth(-2), df.groupby('customer_ID').nth(-1)]).reset_index()\n",
    "\n",
    "    \n",
    "    all_cols = [c for c in list(df.columns) if c not in ['customer_ID','S_2']]\n",
    "    cat_features = [\"B_30\",\"B_38\",\"D_114\",\"D_116\",\"D_117\",\"D_120\",\"D_126\",\"D_63\",\"D_64\",\"D_66\",\"D_68\"]\n",
    "    num_features = [col for col in all_cols if col not in cat_features]\n",
    "    \n",
    "#     2) Add customer count\n",
    "    test_count_agg = df.groupby(['customer_ID'])['S_2'].agg(['count'])\n",
    "\n",
    "\n",
    "    test_num_agg = df.groupby(\"customer_ID\")[num_features].agg(['mean', 'max', 'last'])\n",
    "    test_num_agg.columns = ['_'.join(x) for x in test_num_agg.columns]\n",
    "\n",
    "    test_cat_agg = df.groupby(\"customer_ID\")[cat_features].agg(['count', 'last', 'nunique'])\n",
    "    test_cat_agg.columns = ['_'.join(x) for x in test_cat_agg.columns]\n",
    "\n",
    "    df = cudf.concat([test_count_agg,test_num_agg, test_cat_agg], axis=1)\n",
    "#     13) \n",
    "    df.drop(['R_4_max',\n",
    " 'D_137_max',\n",
    " 'D_126_count',\n",
    " 'D_63_count',\n",
    " 'D_137_last',\n",
    " 'D_64_count',\n",
    " 'D_66_count',\n",
    " 'D_68_count',\n",
    " 'S_6_max',\n",
    " 'D_117_count',\n",
    " 'D_139_max',\n",
    " 'D_120_count',\n",
    " 'D_143_max',\n",
    " 'D_81_last',\n",
    " 'B_38_count',\n",
    " 'D_116_count',\n",
    " 'D_140_max',\n",
    " 'D_143_last',\n",
    " 'D_109_last',\n",
    " 'D_93_max',\n",
    " 'D_93_mean',\n",
    " 'D_92_max',\n",
    " 'R_23_last',\n",
    " 'R_23_max',\n",
    " 'R_22_max',\n",
    " 'B_33_max',\n",
    " 'R_24_max',\n",
    " 'D_109_max',\n",
    " 'D_111_last',\n",
    " 'D_108_last',\n",
    " 'D_103_last',\n",
    " 'D_103_max',\n",
    " 'D_96_max',\n",
    " 'R_25_max',\n",
    " 'R_21_last',\n",
    " 'R_21_max',\n",
    " 'R_17_max',\n",
    " 'D_87_last',\n",
    " 'D_87_max',\n",
    " 'D_87_mean',\n",
    " 'S_18_max',\n",
    " 'R_17_last',\n",
    " 'B_42_mean',\n",
    " 'D_123_last',\n",
    " 'B_32_max',\n",
    " 'R_19_last',\n",
    " 'R_19_max',\n",
    " 'B_31_max',\n",
    " 'D_129_max'], inplace=True, axis=1)\n",
    "    del test_num_agg, test_cat_agg\n",
    "    print('shape after engineering', df.shape )\n",
    "    \n",
    "    return df\n",
    "\n",
    "train = process_and_feature_engineer(train)"
   ]
  },
  {
   "cell_type": "code",
   "execution_count": 6,
   "id": "b4d0eee0",
   "metadata": {
    "execution": {
     "iopub.execute_input": "2022-07-30T17:58:15.460057Z",
     "iopub.status.busy": "2022-07-30T17:58:15.459726Z",
     "iopub.status.idle": "2022-07-30T17:58:16.317413Z",
     "shell.execute_reply": "2022-07-30T17:58:16.315740Z"
    },
    "papermill": {
     "duration": 0.868256,
     "end_time": "2022-07-30T17:58:16.319483",
     "exception": false,
     "start_time": "2022-07-30T17:58:15.451227",
     "status": "completed"
    },
    "tags": []
   },
   "outputs": [
    {
     "name": "stdout",
     "output_type": "stream",
     "text": [
      "There are 507 features!\n"
     ]
    }
   ],
   "source": [
    "# ADD TARGETS\n",
    "targets = cudf.read_csv('../input/amex-default-prediction/train_labels.csv')\n",
    "targets['customer_ID'] = targets['customer_ID'].str[-16:].str.hex_to_int().astype('int64')\n",
    "targets = targets.set_index('customer_ID')\n",
    "train = train.merge(targets, left_index=True, right_index=True, how='left')\n",
    "train.target = train.target.astype('int8')\n",
    "del targets\n",
    "\n",
    "# NEEDED TO MAKE CV DETERMINISTIC (cudf merge above randomly shuffles rows)\n",
    "train = train.sort_index().reset_index()\n",
    "\n",
    "# FEATURES\n",
    "FEATURES = train.columns[1:-1]\n",
    "print(f'There are {len(FEATURES)} features!')"
   ]
  },
  {
   "cell_type": "markdown",
   "id": "18b44f53",
   "metadata": {
    "papermill": {
     "duration": 0.007677,
     "end_time": "2022-07-30T17:58:16.335462",
     "exception": false,
     "start_time": "2022-07-30T17:58:16.327785",
     "status": "completed"
    },
    "tags": []
   },
   "source": [
    "# Train XGB\n",
    "We will train using `DeviceQuantileDMatrix`. This has a very small GPU memory footprint."
   ]
  },
  {
   "cell_type": "code",
   "execution_count": 7,
   "id": "4b04517f",
   "metadata": {
    "execution": {
     "iopub.execute_input": "2022-07-30T17:58:16.351917Z",
     "iopub.status.busy": "2022-07-30T17:58:16.351578Z",
     "iopub.status.idle": "2022-07-30T17:58:16.461146Z",
     "shell.execute_reply": "2022-07-30T17:58:16.460295Z"
    },
    "papermill": {
     "duration": 0.120822,
     "end_time": "2022-07-30T17:58:16.463899",
     "exception": false,
     "start_time": "2022-07-30T17:58:16.343077",
     "status": "completed"
    },
    "tags": []
   },
   "outputs": [
    {
     "name": "stdout",
     "output_type": "stream",
     "text": [
      "XGB Version 1.6.1\n"
     ]
    }
   ],
   "source": [
    "# LOAD XGB LIBRARY\n",
    "from sklearn.model_selection import KFold\n",
    "import xgboost as xgb\n",
    "print('XGB Version',xgb.__version__)\n",
    "\n",
    "# XGB MODEL PARAMETERS\n",
    "xgb_parms = { \n",
    "    'max_depth':4, \n",
    "    'learning_rate':0.05, \n",
    "    'subsample':0.8,\n",
    "    'colsample_bytree':0.6, \n",
    "    'eval_metric':'logloss',\n",
    "    'objective':'binary:logistic',\n",
    "    'tree_method':'gpu_hist',\n",
    "    'predictor':'gpu_predictor',\n",
    "    'random_state':SEED\n",
    "}"
   ]
  },
  {
   "cell_type": "code",
   "execution_count": 8,
   "id": "5bacc6ff",
   "metadata": {
    "execution": {
     "iopub.execute_input": "2022-07-30T17:58:16.480975Z",
     "iopub.status.busy": "2022-07-30T17:58:16.480660Z",
     "iopub.status.idle": "2022-07-30T17:58:16.490777Z",
     "shell.execute_reply": "2022-07-30T17:58:16.489719Z"
    },
    "papermill": {
     "duration": 0.021093,
     "end_time": "2022-07-30T17:58:16.493170",
     "exception": false,
     "start_time": "2022-07-30T17:58:16.472077",
     "status": "completed"
    },
    "tags": []
   },
   "outputs": [],
   "source": [
    "# NEEDED WITH DeviceQuantileDMatrix BELOW\n",
    "class IterLoadForDMatrix(xgb.core.DataIter):\n",
    "    def __init__(self, df=None, features=None, target=None, batch_size=256*1024):\n",
    "        self.features = features\n",
    "        self.target = target\n",
    "        self.df = df\n",
    "        self.it = 0 # set iterator to 0\n",
    "        self.batch_size = batch_size\n",
    "        self.batches = int( np.ceil( len(df) / self.batch_size ) )\n",
    "        super().__init__()\n",
    "\n",
    "    def reset(self):\n",
    "        '''Reset the iterator'''\n",
    "        self.it = 0\n",
    "\n",
    "    def next(self, input_data):\n",
    "        '''Yield next batch of data.'''\n",
    "        if self.it == self.batches:\n",
    "            return 0 # Return 0 when there's no more batch.\n",
    "        \n",
    "        a = self.it * self.batch_size\n",
    "        b = min( (self.it + 1) * self.batch_size, len(self.df) )\n",
    "        dt = cudf.DataFrame(self.df.iloc[a:b])\n",
    "        input_data(data=dt[self.features], label=dt[self.target]) #, weight=dt['weight'])\n",
    "        self.it += 1\n",
    "        return 1"
   ]
  },
  {
   "cell_type": "code",
   "execution_count": 9,
   "id": "7521eada",
   "metadata": {
    "execution": {
     "iopub.execute_input": "2022-07-30T17:58:16.514024Z",
     "iopub.status.busy": "2022-07-30T17:58:16.513598Z",
     "iopub.status.idle": "2022-07-30T17:58:16.524782Z",
     "shell.execute_reply": "2022-07-30T17:58:16.523752Z"
    },
    "papermill": {
     "duration": 0.023947,
     "end_time": "2022-07-30T17:58:16.526960",
     "exception": false,
     "start_time": "2022-07-30T17:58:16.503013",
     "status": "completed"
    },
    "tags": []
   },
   "outputs": [],
   "source": [
    "# https://www.kaggle.com/kyakovlev\n",
    "# https://www.kaggle.com/competitions/amex-default-prediction/discussion/327534\n",
    "def amex_metric_mod(y_true, y_pred):\n",
    "\n",
    "    labels     = np.transpose(np.array([y_true, y_pred]))\n",
    "    labels     = labels[labels[:, 1].argsort()[::-1]]\n",
    "    weights    = np.where(labels[:,0]==0, 20, 1)\n",
    "    cut_vals   = labels[np.cumsum(weights) <= int(0.04 * np.sum(weights))]\n",
    "    top_four   = np.sum(cut_vals[:,0]) / np.sum(labels[:,0])\n",
    "\n",
    "    gini = [0,0]\n",
    "    for i in [1,0]:\n",
    "        labels         = np.transpose(np.array([y_true, y_pred]))\n",
    "        labels         = labels[labels[:, i].argsort()[::-1]]\n",
    "        weight         = np.where(labels[:,0]==0, 20, 1)\n",
    "        weight_random  = np.cumsum(weight / np.sum(weight))\n",
    "        total_pos      = np.sum(labels[:, 0] *  weight)\n",
    "        cum_pos_found  = np.cumsum(labels[:, 0] * weight)\n",
    "        lorentz        = cum_pos_found / total_pos\n",
    "        gini[i]        = np.sum((lorentz - weight_random) * weight)\n",
    "\n",
    "    return 0.5 * (gini[1]/gini[0] + top_four)"
   ]
  },
  {
   "cell_type": "code",
   "execution_count": 10,
   "id": "02a83379",
   "metadata": {
    "execution": {
     "iopub.execute_input": "2022-07-30T17:58:16.543543Z",
     "iopub.status.busy": "2022-07-30T17:58:16.543231Z",
     "iopub.status.idle": "2022-07-30T18:05:22.349538Z",
     "shell.execute_reply": "2022-07-30T18:05:22.348723Z"
    },
    "papermill": {
     "duration": 425.817114,
     "end_time": "2022-07-30T18:05:22.351794",
     "exception": false,
     "start_time": "2022-07-30T17:58:16.534680",
     "status": "completed"
    },
    "scrolled": true,
    "tags": []
   },
   "outputs": [
    {
     "name": "stdout",
     "output_type": "stream",
     "text": [
      "#########################\n",
      "### Fold 1\n",
      "### Train size 367130 Valid size 91783\n",
      "### Training with 100% fold data...\n",
      "#########################\n",
      "[0]\ttrain-logloss:0.66202\tvalid-logloss:0.66204\n",
      "[100]\ttrain-logloss:0.23707\tvalid-logloss:0.23941\n",
      "[200]\ttrain-logloss:0.22276\tvalid-logloss:0.22754\n",
      "[300]\ttrain-logloss:0.21672\tvalid-logloss:0.22357\n",
      "[400]\ttrain-logloss:0.21270\tvalid-logloss:0.22147\n",
      "[500]\ttrain-logloss:0.20957\tvalid-logloss:0.22027\n",
      "[600]\ttrain-logloss:0.20701\tvalid-logloss:0.21954\n",
      "[700]\ttrain-logloss:0.20460\tvalid-logloss:0.21899\n",
      "[800]\ttrain-logloss:0.20250\tvalid-logloss:0.21856\n",
      "[900]\ttrain-logloss:0.20045\tvalid-logloss:0.21825\n",
      "[1000]\ttrain-logloss:0.19843\tvalid-logloss:0.21801\n",
      "[1100]\ttrain-logloss:0.19651\tvalid-logloss:0.21777\n",
      "[1200]\ttrain-logloss:0.19464\tvalid-logloss:0.21753\n",
      "[1300]\ttrain-logloss:0.19284\tvalid-logloss:0.21742\n",
      "[1400]\ttrain-logloss:0.19113\tvalid-logloss:0.21729\n",
      "[1500]\ttrain-logloss:0.18942\tvalid-logloss:0.21720\n",
      "[1600]\ttrain-logloss:0.18769\tvalid-logloss:0.21710\n",
      "[1700]\ttrain-logloss:0.18609\tvalid-logloss:0.21697\n",
      "[1800]\ttrain-logloss:0.18449\tvalid-logloss:0.21694\n",
      "[1900]\ttrain-logloss:0.18286\tvalid-logloss:0.21688\n",
      "[1988]\ttrain-logloss:0.18150\tvalid-logloss:0.21699\n",
      "Kaggle Metric = 0.7949665218232496 \n",
      "\n",
      "#########################\n",
      "### Fold 2\n",
      "### Train size 367130 Valid size 91783\n",
      "### Training with 100% fold data...\n",
      "#########################\n",
      "[0]\ttrain-logloss:0.66201\tvalid-logloss:0.66199\n",
      "[100]\ttrain-logloss:0.23745\tvalid-logloss:0.23826\n",
      "[200]\ttrain-logloss:0.22315\tvalid-logloss:0.22587\n",
      "[300]\ttrain-logloss:0.21713\tvalid-logloss:0.22197\n",
      "[400]\ttrain-logloss:0.21307\tvalid-logloss:0.21989\n",
      "[500]\ttrain-logloss:0.20997\tvalid-logloss:0.21877\n",
      "[600]\ttrain-logloss:0.20737\tvalid-logloss:0.21805\n",
      "[700]\ttrain-logloss:0.20488\tvalid-logloss:0.21755\n",
      "[800]\ttrain-logloss:0.20268\tvalid-logloss:0.21713\n",
      "[900]\ttrain-logloss:0.20056\tvalid-logloss:0.21685\n",
      "[1000]\ttrain-logloss:0.19858\tvalid-logloss:0.21664\n",
      "[1100]\ttrain-logloss:0.19669\tvalid-logloss:0.21641\n",
      "[1200]\ttrain-logloss:0.19487\tvalid-logloss:0.21630\n",
      "[1300]\ttrain-logloss:0.19306\tvalid-logloss:0.21615\n",
      "[1400]\ttrain-logloss:0.19127\tvalid-logloss:0.21603\n",
      "[1500]\ttrain-logloss:0.18956\tvalid-logloss:0.21596\n",
      "[1600]\ttrain-logloss:0.18793\tvalid-logloss:0.21586\n",
      "[1700]\ttrain-logloss:0.18631\tvalid-logloss:0.21588\n",
      "[1800]\ttrain-logloss:0.18469\tvalid-logloss:0.21581\n",
      "[1900]\ttrain-logloss:0.18312\tvalid-logloss:0.21579\n",
      "[2000]\ttrain-logloss:0.18157\tvalid-logloss:0.21581\n",
      "[2045]\ttrain-logloss:0.18089\tvalid-logloss:0.21580\n",
      "Kaggle Metric = 0.7942217401022403 \n",
      "\n",
      "#########################\n",
      "### Fold 3\n",
      "### Train size 367130 Valid size 91783\n",
      "### Training with 100% fold data...\n",
      "#########################\n",
      "[0]\ttrain-logloss:0.66195\tvalid-logloss:0.66203\n",
      "[100]\ttrain-logloss:0.23680\tvalid-logloss:0.24094\n",
      "[200]\ttrain-logloss:0.22256\tvalid-logloss:0.22911\n",
      "[300]\ttrain-logloss:0.21648\tvalid-logloss:0.22504\n",
      "[400]\ttrain-logloss:0.21250\tvalid-logloss:0.22302\n",
      "[500]\ttrain-logloss:0.20925\tvalid-logloss:0.22183\n",
      "[600]\ttrain-logloss:0.20663\tvalid-logloss:0.22113\n",
      "[700]\ttrain-logloss:0.20423\tvalid-logloss:0.22057\n",
      "[800]\ttrain-logloss:0.20204\tvalid-logloss:0.22027\n",
      "[900]\ttrain-logloss:0.19996\tvalid-logloss:0.21997\n",
      "[1000]\ttrain-logloss:0.19791\tvalid-logloss:0.21972\n",
      "[1100]\ttrain-logloss:0.19596\tvalid-logloss:0.21954\n",
      "[1200]\ttrain-logloss:0.19411\tvalid-logloss:0.21939\n",
      "[1300]\ttrain-logloss:0.19235\tvalid-logloss:0.21934\n",
      "[1400]\ttrain-logloss:0.19063\tvalid-logloss:0.21932\n",
      "[1500]\ttrain-logloss:0.18894\tvalid-logloss:0.21924\n",
      "[1600]\ttrain-logloss:0.18721\tvalid-logloss:0.21917\n",
      "[1700]\ttrain-logloss:0.18561\tvalid-logloss:0.21912\n",
      "[1800]\ttrain-logloss:0.18404\tvalid-logloss:0.21908\n",
      "[1900]\ttrain-logloss:0.18248\tvalid-logloss:0.21900\n",
      "[2000]\ttrain-logloss:0.18096\tvalid-logloss:0.21901\n",
      "[2020]\ttrain-logloss:0.18063\tvalid-logloss:0.21900\n",
      "Kaggle Metric = 0.7899582576270519 \n",
      "\n",
      "#########################\n",
      "### Fold 4\n",
      "### Train size 367131 Valid size 91782\n",
      "### Training with 100% fold data...\n",
      "#########################\n",
      "[0]\ttrain-logloss:0.66196\tvalid-logloss:0.66209\n",
      "[100]\ttrain-logloss:0.23672\tvalid-logloss:0.24146\n",
      "[200]\ttrain-logloss:0.22235\tvalid-logloss:0.22935\n",
      "[300]\ttrain-logloss:0.21628\tvalid-logloss:0.22556\n",
      "[400]\ttrain-logloss:0.21218\tvalid-logloss:0.22350\n",
      "[500]\ttrain-logloss:0.20907\tvalid-logloss:0.22241\n",
      "[600]\ttrain-logloss:0.20635\tvalid-logloss:0.22166\n",
      "[700]\ttrain-logloss:0.20396\tvalid-logloss:0.22114\n",
      "[800]\ttrain-logloss:0.20169\tvalid-logloss:0.22076\n",
      "[900]\ttrain-logloss:0.19964\tvalid-logloss:0.22051\n",
      "[1000]\ttrain-logloss:0.19759\tvalid-logloss:0.22025\n",
      "[1100]\ttrain-logloss:0.19562\tvalid-logloss:0.22010\n",
      "[1200]\ttrain-logloss:0.19383\tvalid-logloss:0.21997\n",
      "[1300]\ttrain-logloss:0.19198\tvalid-logloss:0.21987\n",
      "[1400]\ttrain-logloss:0.19021\tvalid-logloss:0.21981\n",
      "[1500]\ttrain-logloss:0.18846\tvalid-logloss:0.21973\n",
      "[1600]\ttrain-logloss:0.18683\tvalid-logloss:0.21958\n",
      "[1700]\ttrain-logloss:0.18516\tvalid-logloss:0.21955\n",
      "[1800]\ttrain-logloss:0.18351\tvalid-logloss:0.21948\n",
      "[1900]\ttrain-logloss:0.18197\tvalid-logloss:0.21947\n",
      "[2000]\ttrain-logloss:0.18041\tvalid-logloss:0.21941\n",
      "[2100]\ttrain-logloss:0.17886\tvalid-logloss:0.21935\n",
      "[2200]\ttrain-logloss:0.17736\tvalid-logloss:0.21930\n",
      "[2300]\ttrain-logloss:0.17588\tvalid-logloss:0.21937\n",
      "[2314]\ttrain-logloss:0.17568\tvalid-logloss:0.21937\n",
      "Kaggle Metric = 0.7872379705680332 \n",
      "\n",
      "#########################\n",
      "### Fold 5\n",
      "### Train size 367131 Valid size 91782\n",
      "### Training with 100% fold data...\n",
      "#########################\n",
      "[0]\ttrain-logloss:0.66202\tvalid-logloss:0.66195\n",
      "[100]\ttrain-logloss:0.23757\tvalid-logloss:0.23813\n",
      "[200]\ttrain-logloss:0.22336\tvalid-logloss:0.22601\n",
      "[300]\ttrain-logloss:0.21740\tvalid-logloss:0.22193\n",
      "[400]\ttrain-logloss:0.21334\tvalid-logloss:0.21974\n",
      "[500]\ttrain-logloss:0.21018\tvalid-logloss:0.21859\n",
      "[600]\ttrain-logloss:0.20750\tvalid-logloss:0.21775\n",
      "[700]\ttrain-logloss:0.20502\tvalid-logloss:0.21717\n",
      "[800]\ttrain-logloss:0.20273\tvalid-logloss:0.21675\n",
      "[900]\ttrain-logloss:0.20064\tvalid-logloss:0.21649\n",
      "[1000]\ttrain-logloss:0.19862\tvalid-logloss:0.21627\n",
      "[1100]\ttrain-logloss:0.19671\tvalid-logloss:0.21610\n",
      "[1200]\ttrain-logloss:0.19490\tvalid-logloss:0.21600\n",
      "[1300]\ttrain-logloss:0.19308\tvalid-logloss:0.21588\n",
      "[1400]\ttrain-logloss:0.19133\tvalid-logloss:0.21578\n",
      "[1500]\ttrain-logloss:0.18956\tvalid-logloss:0.21571\n",
      "[1600]\ttrain-logloss:0.18787\tvalid-logloss:0.21564\n",
      "[1700]\ttrain-logloss:0.18628\tvalid-logloss:0.21558\n",
      "[1800]\ttrain-logloss:0.18466\tvalid-logloss:0.21553\n",
      "[1900]\ttrain-logloss:0.18310\tvalid-logloss:0.21546\n",
      "[2000]\ttrain-logloss:0.18153\tvalid-logloss:0.21547\n",
      "[2042]\ttrain-logloss:0.18088\tvalid-logloss:0.21545\n",
      "Kaggle Metric = 0.79514763564604 \n",
      "\n",
      "#########################\n",
      "OVERALL CV Kaggle Metric = 0.7921696041544128\n"
     ]
    }
   ],
   "source": [
    "importances = []\n",
    "oof = []\n",
    "train = train.to_pandas() # free GPU memory\n",
    "TRAIN_SUBSAMPLE = 1.0\n",
    "gc.collect()\n",
    "\n",
    "skf = KFold(n_splits=FOLDS, shuffle=True, random_state=SEED)\n",
    "for fold,(train_idx, valid_idx) in enumerate(skf.split(\n",
    "            train, train.target )):\n",
    "    \n",
    "    # TRAIN WITH SUBSAMPLE OF TRAIN FOLD DATA\n",
    "    if TRAIN_SUBSAMPLE<1.0:\n",
    "        np.random.seed(SEED)\n",
    "        train_idx = np.random.choice(train_idx, \n",
    "                       int(len(train_idx)*TRAIN_SUBSAMPLE), replace=False)\n",
    "        np.random.seed(None)\n",
    "    \n",
    "    print('#'*25)\n",
    "    print('### Fold',fold+1)\n",
    "    print('### Train size',len(train_idx),'Valid size',len(valid_idx))\n",
    "    print(f'### Training with {int(TRAIN_SUBSAMPLE*100)}% fold data...')\n",
    "    print('#'*25)\n",
    "    \n",
    "    # TRAIN, VALID, TEST FOR FOLD K\n",
    "    Xy_train = IterLoadForDMatrix(train.loc[train_idx], FEATURES, 'target')\n",
    "    X_valid = train.loc[valid_idx, FEATURES]\n",
    "    y_valid = train.loc[valid_idx, 'target']\n",
    "    \n",
    "    dtrain = xgb.DeviceQuantileDMatrix(Xy_train, max_bin=256)\n",
    "    dvalid = xgb.DMatrix(data=X_valid, label=y_valid)\n",
    "    \n",
    "    # TRAIN MODEL FOLD K\n",
    "    model = xgb.train(xgb_parms, \n",
    "                dtrain=dtrain,\n",
    "                evals=[(dtrain,'train'),(dvalid,'valid')],\n",
    "                num_boost_round=9999,\n",
    "                early_stopping_rounds=100,\n",
    "                verbose_eval=100) \n",
    "    model.save_model(f'XGB_v{VER}_fold{fold}.xgb')\n",
    "    \n",
    "    # GET FEATURE IMPORTANCE FOR FOLD K\n",
    "    dd = model.get_score(importance_type='weight')\n",
    "    df = pd.DataFrame({'feature':dd.keys(),f'importance_{fold}':dd.values()})\n",
    "    importances.append(df)\n",
    "            \n",
    "    # INFER OOF FOLD K\n",
    "    oof_preds = model.predict(dvalid)\n",
    "    acc = amex_metric_mod(y_valid.values, oof_preds)\n",
    "    print('Kaggle Metric =',acc,'\\n')\n",
    "    \n",
    "    # SAVE OOF\n",
    "    df = train.loc[valid_idx, ['customer_ID','target'] ].copy()\n",
    "    df['oof_pred'] = oof_preds\n",
    "    oof.append( df )\n",
    "    \n",
    "    del dtrain, Xy_train, dd, df\n",
    "    del X_valid, y_valid, dvalid, model\n",
    "    _ = gc.collect()\n",
    "    \n",
    "print('#'*25)\n",
    "oof = pd.concat(oof,axis=0,ignore_index=True).set_index('customer_ID')\n",
    "acc = amex_metric_mod(oof.target.values, oof.oof_pred.values)\n",
    "print('OVERALL CV Kaggle Metric =',acc)"
   ]
  },
  {
   "cell_type": "code",
   "execution_count": 11,
   "id": "c2b4d74c",
   "metadata": {
    "execution": {
     "iopub.execute_input": "2022-07-30T18:05:22.380733Z",
     "iopub.status.busy": "2022-07-30T18:05:22.380432Z",
     "iopub.status.idle": "2022-07-30T18:05:22.518891Z",
     "shell.execute_reply": "2022-07-30T18:05:22.517926Z"
    },
    "papermill": {
     "duration": 0.155199,
     "end_time": "2022-07-30T18:05:22.521028",
     "exception": false,
     "start_time": "2022-07-30T18:05:22.365829",
     "status": "completed"
    },
    "tags": []
   },
   "outputs": [],
   "source": [
    "# CLEAN RAM\n",
    "del train\n",
    "_ = gc.collect()"
   ]
  },
  {
   "cell_type": "markdown",
   "id": "c7ed7a77",
   "metadata": {
    "papermill": {
     "duration": 0.013632,
     "end_time": "2022-07-30T18:05:22.548795",
     "exception": false,
     "start_time": "2022-07-30T18:05:22.535163",
     "status": "completed"
    },
    "tags": []
   },
   "source": [
    "# Save OOF Preds"
   ]
  },
  {
   "cell_type": "code",
   "execution_count": 12,
   "id": "0c372cae",
   "metadata": {
    "execution": {
     "iopub.execute_input": "2022-07-30T18:05:22.577716Z",
     "iopub.status.busy": "2022-07-30T18:05:22.577403Z",
     "iopub.status.idle": "2022-07-30T18:05:27.249134Z",
     "shell.execute_reply": "2022-07-30T18:05:27.248379Z"
    },
    "papermill": {
     "duration": 4.688115,
     "end_time": "2022-07-30T18:05:27.250939",
     "exception": false,
     "start_time": "2022-07-30T18:05:22.562824",
     "status": "completed"
    },
    "tags": []
   },
   "outputs": [
    {
     "data": {
      "text/html": [
       "<div>\n",
       "<style scoped>\n",
       "    .dataframe tbody tr th:only-of-type {\n",
       "        vertical-align: middle;\n",
       "    }\n",
       "\n",
       "    .dataframe tbody tr th {\n",
       "        vertical-align: top;\n",
       "    }\n",
       "\n",
       "    .dataframe thead th {\n",
       "        text-align: right;\n",
       "    }\n",
       "</style>\n",
       "<table border=\"1\" class=\"dataframe\">\n",
       "  <thead>\n",
       "    <tr style=\"text-align: right;\">\n",
       "      <th></th>\n",
       "      <th>customer_ID</th>\n",
       "      <th>target</th>\n",
       "      <th>oof_pred</th>\n",
       "    </tr>\n",
       "  </thead>\n",
       "  <tbody>\n",
       "    <tr>\n",
       "      <th>0</th>\n",
       "      <td>20eac26171c3d251c55fc78204e59fab1c15fc2bc96d0c...</td>\n",
       "      <td>1</td>\n",
       "      <td>0.738341</td>\n",
       "    </tr>\n",
       "    <tr>\n",
       "      <th>1</th>\n",
       "      <td>aea50fdf9b974ccec95fa177c3225a0f913483b457de6e...</td>\n",
       "      <td>0</td>\n",
       "      <td>0.000250</td>\n",
       "    </tr>\n",
       "    <tr>\n",
       "      <th>2</th>\n",
       "      <td>32cd2d41aef737b69089882754395925c96eaee1f4a859...</td>\n",
       "      <td>0</td>\n",
       "      <td>0.001627</td>\n",
       "    </tr>\n",
       "    <tr>\n",
       "      <th>3</th>\n",
       "      <td>8daa6d5dc2655a8a437531e6b8b96829113cdfe9bf6cae...</td>\n",
       "      <td>0</td>\n",
       "      <td>0.008757</td>\n",
       "    </tr>\n",
       "    <tr>\n",
       "      <th>4</th>\n",
       "      <td>0ceba351a3851202542feb49d7385bcef32f6037fc57c7...</td>\n",
       "      <td>1</td>\n",
       "      <td>0.890289</td>\n",
       "    </tr>\n",
       "  </tbody>\n",
       "</table>\n",
       "</div>"
      ],
      "text/plain": [
       "                                         customer_ID  target  oof_pred\n",
       "0  20eac26171c3d251c55fc78204e59fab1c15fc2bc96d0c...       1  0.738341\n",
       "1  aea50fdf9b974ccec95fa177c3225a0f913483b457de6e...       0  0.000250\n",
       "2  32cd2d41aef737b69089882754395925c96eaee1f4a859...       0  0.001627\n",
       "3  8daa6d5dc2655a8a437531e6b8b96829113cdfe9bf6cae...       0  0.008757\n",
       "4  0ceba351a3851202542feb49d7385bcef32f6037fc57c7...       1  0.890289"
      ]
     },
     "execution_count": 12,
     "metadata": {},
     "output_type": "execute_result"
    }
   ],
   "source": [
    "oof_xgb = pd.read_parquet(TRAIN_PATH, columns=['customer_ID']).drop_duplicates()\n",
    "oof_xgb['customer_ID_hash'] = oof_xgb['customer_ID'].apply(lambda x: int(x[-16:],16) ).astype('int64')\n",
    "oof_xgb = oof_xgb.set_index('customer_ID_hash')\n",
    "oof_xgb = oof_xgb.merge(oof, left_index=True, right_index=True)\n",
    "oof_xgb = oof_xgb.sort_index().reset_index(drop=True)\n",
    "oof_xgb.to_csv(f'oof_xgb_v{VER}.csv',index=False)\n",
    "oof_xgb.head()"
   ]
  },
  {
   "cell_type": "code",
   "execution_count": 13,
   "id": "ac5aeaf1",
   "metadata": {
    "execution": {
     "iopub.execute_input": "2022-07-30T18:05:27.280199Z",
     "iopub.status.busy": "2022-07-30T18:05:27.279916Z",
     "iopub.status.idle": "2022-07-30T18:05:27.635588Z",
     "shell.execute_reply": "2022-07-30T18:05:27.634797Z"
    },
    "papermill": {
     "duration": 0.372231,
     "end_time": "2022-07-30T18:05:27.637470",
     "exception": false,
     "start_time": "2022-07-30T18:05:27.265239",
     "status": "completed"
    },
    "tags": []
   },
   "outputs": [
    {
     "data": {
      "image/png": "[encoded data removed]",
      "text/plain": [
       "<Figure size 432x288 with 1 Axes>"
      ]
     },
     "metadata": {
      "needs_background": "light"
     },
     "output_type": "display_data"
    }
   ],
   "source": [
    "# PLOT OOF PREDICTIONS\n",
    "plt.hist(oof_xgb.oof_pred.values, bins=100)\n",
    "plt.title('OOF Predictions')\n",
    "plt.show()"
   ]
  },
  {
   "cell_type": "code",
   "execution_count": 14,
   "id": "fc47c378",
   "metadata": {
    "execution": {
     "iopub.execute_input": "2022-07-30T18:05:27.667765Z",
     "iopub.status.busy": "2022-07-30T18:05:27.667137Z",
     "iopub.status.idle": "2022-07-30T18:05:27.799187Z",
     "shell.execute_reply": "2022-07-30T18:05:27.798260Z"
    },
    "papermill": {
     "duration": 0.149447,
     "end_time": "2022-07-30T18:05:27.801399",
     "exception": false,
     "start_time": "2022-07-30T18:05:27.651952",
     "status": "completed"
    },
    "tags": []
   },
   "outputs": [],
   "source": [
    "# CLEAR VRAM, RAM FOR INFERENCE BELOW\n",
    "del oof_xgb, oof\n",
    "_ = gc.collect()"
   ]
  },
  {
   "cell_type": "markdown",
   "id": "52316718",
   "metadata": {
    "papermill": {
     "duration": 0.014305,
     "end_time": "2022-07-30T18:05:27.831326",
     "exception": false,
     "start_time": "2022-07-30T18:05:27.817021",
     "status": "completed"
    },
    "tags": []
   },
   "source": [
    "# Feature Importance"
   ]
  },
  {
   "cell_type": "code",
   "execution_count": 15,
   "id": "e16e3341",
   "metadata": {
    "execution": {
     "iopub.execute_input": "2022-07-30T18:05:27.860905Z",
     "iopub.status.busy": "2022-07-30T18:05:27.860593Z",
     "iopub.status.idle": "2022-07-30T18:05:27.884692Z",
     "shell.execute_reply": "2022-07-30T18:05:27.883849Z"
    },
    "papermill": {
     "duration": 0.040962,
     "end_time": "2022-07-30T18:05:27.886483",
     "exception": false,
     "start_time": "2022-07-30T18:05:27.845521",
     "status": "completed"
    },
    "tags": []
   },
   "outputs": [],
   "source": [
    "import matplotlib.pyplot as plt\n",
    "\n",
    "df = importances[0].copy()\n",
    "for k in range(1,FOLDS): df = df.merge(importances[k], on='feature', how='left')\n",
    "df['importance'] = df.iloc[:,1:].mean(axis=1)\n",
    "df = df.sort_values('importance',ascending=False)\n",
    "df.to_csv(f'xgb_feature_importance_v{VER}.csv',index=False)"
   ]
  },
  {
   "cell_type": "code",
   "execution_count": 16,
   "id": "336162f5",
   "metadata": {
    "execution": {
     "iopub.execute_input": "2022-07-30T18:05:27.916519Z",
     "iopub.status.busy": "2022-07-30T18:05:27.915930Z",
     "iopub.status.idle": "2022-07-30T18:05:28.171095Z",
     "shell.execute_reply": "2022-07-30T18:05:28.170294Z"
    },
    "papermill": {
     "duration": 0.272072,
     "end_time": "2022-07-30T18:05:28.173008",
     "exception": false,
     "start_time": "2022-07-30T18:05:27.900936",
     "status": "completed"
    },
    "tags": []
   },
   "outputs": [
    {
     "data": {
      "image/png": "[encoded data removed]",
      "text/plain": [
       "<Figure size 720x720 with 1 Axes>"
      ]
     },
     "metadata": {
      "needs_background": "light"
     },
     "output_type": "display_data"
    }
   ],
   "source": [
    "NUM_FEATURES = 20\n",
    "plt.figure(figsize=(10,5*NUM_FEATURES//10))\n",
    "plt.barh(np.arange(NUM_FEATURES,0,-1), df.importance.values[:NUM_FEATURES])\n",
    "plt.yticks(np.arange(NUM_FEATURES,0,-1), df.feature.values[:NUM_FEATURES])\n",
    "plt.title(f'XGB Feature Importance - Top {NUM_FEATURES}')\n",
    "plt.show()"
   ]
  },
  {
   "cell_type": "markdown",
   "id": "5b19eb63",
   "metadata": {
    "papermill": {
     "duration": 0.014416,
     "end_time": "2022-07-30T18:05:28.202988",
     "exception": false,
     "start_time": "2022-07-30T18:05:28.188572",
     "status": "completed"
    },
    "tags": []
   },
   "source": [
    "# Process and Feature Engineer Test Data\n",
    "We will load @raddar Kaggle dataset from [here][1] with discussion [here][2]. Then we will engineer features suggested by @huseyincot in his notebooks [here][1] and [here][4]. We will use [RAPIDS][5] and the GPU to create new features quickly.\n",
    "\n",
    "[1]: https://www.kaggle.com/datasets/raddar/amex-data-integer-dtypes-parquet-format\n",
    "[2]: https://www.kaggle.com/competitions/amex-default-prediction/discussion/328514\n",
    "[3]: https://www.kaggle.com/code/huseyincot/amex-catboost-0-793\n",
    "[4]: https://www.kaggle.com/code/huseyincot/amex-agg-data-how-it-created\n",
    "[5]: https://rapids.ai/"
   ]
  },
  {
   "cell_type": "code",
   "execution_count": 17,
   "id": "b0b02fdf",
   "metadata": {
    "execution": {
     "iopub.execute_input": "2022-07-30T18:05:28.234500Z",
     "iopub.status.busy": "2022-07-30T18:05:28.233883Z",
     "iopub.status.idle": "2022-07-30T18:05:30.691969Z",
     "shell.execute_reply": "2022-07-30T18:05:30.690062Z"
    },
    "papermill": {
     "duration": 2.4767,
     "end_time": "2022-07-30T18:05:30.694469",
     "exception": false,
     "start_time": "2022-07-30T18:05:28.217769",
     "status": "completed"
    },
    "tags": []
   },
   "outputs": [
    {
     "name": "stdout",
     "output_type": "stream",
     "text": [
      "Reading test data...\n",
      "shape of data: (11363762, 2)\n",
      "We will process test data as 4 separate parts.\n",
      "There will be 231155 customers in each part (except the last part).\n",
      "Below are number of rows in each part:\n",
      "[2841209, 2839857, 2842105, 2840591]\n"
     ]
    }
   ],
   "source": [
    "# CALCULATE SIZE OF EACH SEPARATE TEST PART\n",
    "def get_rows(customers, test, NUM_PARTS = 4, verbose = ''):\n",
    "    chunk = len(customers)//NUM_PARTS\n",
    "    if verbose != '':\n",
    "        print(f'We will process {verbose} data as {NUM_PARTS} separate parts.')\n",
    "        print(f'There will be {chunk} customers in each part (except the last part).')\n",
    "        print('Below are number of rows in each part:')\n",
    "    rows = []\n",
    "\n",
    "    for k in range(NUM_PARTS):\n",
    "        if k==NUM_PARTS-1: cc = customers[k*chunk:]\n",
    "        else: cc = customers[k*chunk:(k+1)*chunk]\n",
    "        s = test.loc[test.customer_ID.isin(cc)].shape[0]\n",
    "        rows.append(s)\n",
    "    if verbose != '': print( rows )\n",
    "    return rows,chunk\n",
    "\n",
    "# COMPUTE SIZE OF 4 PARTS FOR TEST DATA\n",
    "NUM_PARTS = 4\n",
    "TEST_PATH = '../input/amex-data-integer-dtypes-parquet-format/test.parquet'\n",
    "\n",
    "print(f'Reading test data...')\n",
    "test = read_file(path = TEST_PATH, usecols = ['customer_ID','S_2'])\n",
    "customers = test[['customer_ID']].drop_duplicates().sort_index().values.flatten()\n",
    "rows,num_cust = get_rows(customers, test[['customer_ID']], NUM_PARTS = NUM_PARTS, verbose = 'test')"
   ]
  },
  {
   "cell_type": "markdown",
   "id": "d5191165",
   "metadata": {
    "papermill": {
     "duration": 0.017902,
     "end_time": "2022-07-30T18:05:30.729432",
     "exception": false,
     "start_time": "2022-07-30T18:05:30.711530",
     "status": "completed"
    },
    "tags": []
   },
   "source": [
    "# Infer Test"
   ]
  },
  {
   "cell_type": "code",
   "execution_count": 18,
   "id": "8fbce44a",
   "metadata": {
    "execution": {
     "iopub.execute_input": "2022-07-30T18:05:30.764570Z",
     "iopub.status.busy": "2022-07-30T18:05:30.764257Z",
     "iopub.status.idle": "2022-07-30T18:07:34.321292Z",
     "shell.execute_reply": "2022-07-30T18:07:34.320340Z"
    },
    "papermill": {
     "duration": 123.57723,
     "end_time": "2022-07-30T18:07:34.323653",
     "exception": false,
     "start_time": "2022-07-30T18:05:30.746423",
     "status": "completed"
    },
    "tags": []
   },
   "outputs": [
    {
     "name": "stdout",
     "output_type": "stream",
     "text": [
      "\n",
      "Reading test data...\n",
      "shape of data: (11363762, 190)\n",
      "=> Test part 1 has shape (2841209, 190)\n",
      "shape after engineering (231155, 507)\n",
      "\n",
      "Reading test data...\n",
      "shape of data: (11363762, 190)\n",
      "=> Test part 2 has shape (2839857, 190)\n",
      "shape after engineering (231155, 507)\n",
      "\n",
      "Reading test data...\n",
      "shape of data: (11363762, 190)\n",
      "=> Test part 3 has shape (2842105, 190)\n",
      "shape after engineering (231155, 507)\n",
      "\n",
      "Reading test data...\n",
      "shape of data: (11363762, 190)\n",
      "=> Test part 4 has shape (2840591, 190)\n",
      "shape after engineering (231156, 507)\n"
     ]
    }
   ],
   "source": [
    "# INFER TEST DATA IN PARTS\n",
    "skip_rows = 0\n",
    "skip_cust = 0\n",
    "test_preds = []\n",
    "\n",
    "for k in range(NUM_PARTS):\n",
    "    \n",
    "    # READ PART OF TEST DATA\n",
    "    print(f'\\nReading test data...')\n",
    "    test = read_file(path = TEST_PATH)\n",
    "    test = test.iloc[skip_rows:skip_rows+rows[k]]\n",
    "    skip_rows += rows[k]\n",
    "    print(f'=> Test part {k+1} has shape', test.shape )\n",
    "    \n",
    "    # PROCESS AND FEATURE ENGINEER PART OF TEST DATA\n",
    "    test = process_and_feature_engineer(test)\n",
    "    if k==NUM_PARTS-1: test = test.loc[customers[skip_cust:]]\n",
    "    else: test = test.loc[customers[skip_cust:skip_cust+num_cust]]\n",
    "    skip_cust += num_cust\n",
    "    \n",
    "    # TEST DATA FOR XGB\n",
    "    X_test = test[FEATURES]\n",
    "    dtest = xgb.DMatrix(data=X_test)\n",
    "    test = test[['P_2_mean']] # reduce memory\n",
    "    del X_test\n",
    "    gc.collect()\n",
    "\n",
    "    # INFER XGB MODELS ON TEST DATA\n",
    "    model = xgb.Booster()\n",
    "    model.load_model(f'XGB_v{VER}_fold0.xgb')\n",
    "    preds = model.predict(dtest)\n",
    "    for f in range(1,FOLDS):\n",
    "#         11) \n",
    "        if f==3:\n",
    "            continue\n",
    "        model.load_model(f'XGB_v{VER}_fold{f}.xgb')\n",
    "        preds += model.predict(dtest)\n",
    "    preds /= (FOLDS-1)\n",
    "    test_preds.append(preds)\n",
    "\n",
    "    # CLEAN MEMORY\n",
    "    del dtest, model\n",
    "    _ = gc.collect()"
   ]
  },
  {
   "cell_type": "markdown",
   "id": "a2dce6c3",
   "metadata": {
    "papermill": {
     "duration": 0.015601,
     "end_time": "2022-07-30T18:07:34.355895",
     "exception": false,
     "start_time": "2022-07-30T18:07:34.340294",
     "status": "completed"
    },
    "tags": []
   },
   "source": [
    "# Create Submission CSV"
   ]
  },
  {
   "cell_type": "code",
   "execution_count": 19,
   "id": "d5a34b2d",
   "metadata": {
    "execution": {
     "iopub.execute_input": "2022-07-30T18:07:34.388292Z",
     "iopub.status.busy": "2022-07-30T18:07:34.387991Z",
     "iopub.status.idle": "2022-07-30T18:07:35.343343Z",
     "shell.execute_reply": "2022-07-30T18:07:35.342061Z"
    },
    "papermill": {
     "duration": 0.973949,
     "end_time": "2022-07-30T18:07:35.345621",
     "exception": false,
     "start_time": "2022-07-30T18:07:34.371672",
     "status": "completed"
    },
    "tags": []
   },
   "outputs": [
    {
     "name": "stdout",
     "output_type": "stream",
     "text": [
      "Submission file shape is (924621, 2)\n"
     ]
    },
    {
     "data": {
      "text/html": [
       "<div>\n",
       "<style scoped>\n",
       "    .dataframe tbody tr th:only-of-type {\n",
       "        vertical-align: middle;\n",
       "    }\n",
       "\n",
       "    .dataframe tbody tr th {\n",
       "        vertical-align: top;\n",
       "    }\n",
       "\n",
       "    .dataframe thead th {\n",
       "        text-align: right;\n",
       "    }\n",
       "</style>\n",
       "<table border=\"1\" class=\"dataframe\">\n",
       "  <thead>\n",
       "    <tr style=\"text-align: right;\">\n",
       "      <th></th>\n",
       "      <th>customer_ID</th>\n",
       "      <th>prediction</th>\n",
       "    </tr>\n",
       "  </thead>\n",
       "  <tbody>\n",
       "    <tr>\n",
       "      <th>0</th>\n",
       "      <td>0359e97c244bbbbe2db7c21e891debe80e82291f2e470e...</td>\n",
       "      <td>0.002871</td>\n",
       "    </tr>\n",
       "    <tr>\n",
       "      <th>1</th>\n",
       "      <td>035b3479c9020483c00b7dac8f816759bb3aa6fdd8dfab...</td>\n",
       "      <td>0.000538</td>\n",
       "    </tr>\n",
       "    <tr>\n",
       "      <th>2</th>\n",
       "      <td>035a556cc13aae13de7bdcc71c81a1ab27f586f2ddf50e...</td>\n",
       "      <td>0.001580</td>\n",
       "    </tr>\n",
       "    <tr>\n",
       "      <th>3</th>\n",
       "      <td>035bca6744c2fe912b15a0bc6011f3ec679cbc7c60e049...</td>\n",
       "      <td>0.031862</td>\n",
       "    </tr>\n",
       "    <tr>\n",
       "      <th>4</th>\n",
       "      <td>0359f31145b54da7258ed5ff894cbe50dd4302d3d4a1e9...</td>\n",
       "      <td>0.056591</td>\n",
       "    </tr>\n",
       "  </tbody>\n",
       "</table>\n",
       "</div>"
      ],
      "text/plain": [
       "                                         customer_ID  prediction\n",
       "0  0359e97c244bbbbe2db7c21e891debe80e82291f2e470e...    0.002871\n",
       "1  035b3479c9020483c00b7dac8f816759bb3aa6fdd8dfab...    0.000538\n",
       "2  035a556cc13aae13de7bdcc71c81a1ab27f586f2ddf50e...    0.001580\n",
       "3  035bca6744c2fe912b15a0bc6011f3ec679cbc7c60e049...    0.031862\n",
       "4  0359f31145b54da7258ed5ff894cbe50dd4302d3d4a1e9...    0.056591"
      ]
     },
     "execution_count": 19,
     "metadata": {},
     "output_type": "execute_result"
    }
   ],
   "source": [
    "# WRITE SUBMISSION FILE\n",
    "test_preds = np.concatenate(test_preds)\n",
    "test = cudf.DataFrame(index=customers,data={'prediction':test_preds})\n",
    "sub = cudf.read_csv('../input/amex-default-prediction/sample_submission.csv')[['customer_ID']]\n",
    "sub['customer_ID_hash'] = sub['customer_ID'].str[-16:].str.hex_to_int().astype('int64')\n",
    "sub = sub.set_index('customer_ID_hash')\n",
    "sub = sub.merge(test[['prediction']], left_index=True, right_index=True, how='left')\n",
    "sub = sub.reset_index(drop=True)\n",
    "\n",
    "# DISPLAY PREDICTIONS\n",
    "sub.to_csv(f'submission_xgb_v{VER}.csv',index=False)\n",
    "print('Submission file shape is', sub.shape )\n",
    "sub.head()"
   ]
  },
  {
   "cell_type": "code",
   "execution_count": 20,
   "id": "eb9aec43",
   "metadata": {
    "execution": {
     "iopub.execute_input": "2022-07-30T18:07:35.379517Z",
     "iopub.status.busy": "2022-07-30T18:07:35.379208Z",
     "iopub.status.idle": "2022-07-30T18:07:36.098991Z",
     "shell.execute_reply": "2022-07-30T18:07:36.098221Z"
    },
    "papermill": {
     "duration": 0.738349,
     "end_time": "2022-07-30T18:07:36.100741",
     "exception": false,
     "start_time": "2022-07-30T18:07:35.362392",
     "status": "completed"
    },
    "tags": []
   },
   "outputs": [
    {
     "data": {
      "image/png": "[encoded data removed]",
      "text/plain": [
       "<Figure size 432x288 with 1 Axes>"
      ]
     },
     "metadata": {
      "needs_background": "light"
     },
     "output_type": "display_data"
    }
   ],
   "source": [
    "# PLOT PREDICTIONS\n",
    "plt.hist(sub.to_pandas().prediction, bins=100)\n",
    "plt.title('Test Predictions')\n",
    "plt.show()"
   ]
  }
 ],
 "metadata": {
  "kernelspec": {
   "display_name": "Python 3",
   "language": "python",
   "name": "python3"
  },
  "language_info": {
   "codemirror_mode": {
    "name": "ipython",
    "version": 3
   },
   "file_extension": ".py",
   "mimetype": "text/x-python",
   "name": "python",
   "nbconvert_exporter": "python",
   "pygments_lexer": "ipython3",
   "version": "3.7.12"
  },
  "papermill": {
   "default_parameters": {},
   "duration": 600.249832,
   "end_time": "2022-07-30T18:07:37.439638",
   "environment_variables": {},
   "exception": null,
   "input_path": "__notebook__.ipynb",
   "output_path": "__notebook__.ipynb",
   "parameters": {},
   "start_time": "2022-07-30T17:57:37.189806",
   "version": "2.3.4"
  }
 },
 "nbformat": 4,
 "nbformat_minor": 5
}
