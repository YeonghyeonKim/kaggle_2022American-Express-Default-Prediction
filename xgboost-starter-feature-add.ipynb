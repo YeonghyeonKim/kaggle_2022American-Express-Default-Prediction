{
 "cells": [
  {
   "cell_type": "markdown",
   "id": "27856489",
   "metadata": {
    "papermill": {
     "duration": 0.009371,
     "end_time": "2022-07-31T11:59:45.572103",
     "exception": false,
     "start_time": "2022-07-31T11:59:45.562732",
     "status": "completed"
    },
    "tags": []
   },
   "source": [
    "# XGBoost Starter - LB 0.793\n",
    "In this notebook we build and train an XGBoost model using @raddar Kaggle dataset from [here][1] with discussion [here][2]. Then we engineer features suggested by @huseyincot in his notebooks [here][3] and [here][4]. This XGB model achieves CV 0.792 LB 0.793! When training with XGB, we use a special XGB dataloader called `DeviceQuantileDMatrix` which uses a small GPU memory footprint. This allows us to engineer more additional columns and train with more rows of data. Our feature engineering is performed using [RAPIDS][5] on the GPU to create new features quickly.\n",
    "\n",
    "[1]: https://www.kaggle.com/datasets/raddar/amex-data-integer-dtypes-parquet-format\n",
    "[2]: https://www.kaggle.com/competitions/amex-default-prediction/discussion/328514\n",
    "[3]: https://www.kaggle.com/code/huseyincot/amex-catboost-0-793\n",
    "[4]: https://www.kaggle.com/code/huseyincot/amex-agg-data-how-it-created\n",
    "[5]: https://rapids.ai/"
   ]
  },
  {
   "cell_type": "markdown",
   "id": "66c8282d",
   "metadata": {
    "papermill": {
     "duration": 0.007871,
     "end_time": "2022-07-31T11:59:45.588218",
     "exception": false,
     "start_time": "2022-07-31T11:59:45.580347",
     "status": "completed"
    },
    "tags": []
   },
   "source": [
    "Feature Engineering I done\n",
    "1. Drop B_29, https://www.kaggle.com/code/roberthatch/amex-feature-engg-gpu-or-cpu-process-in-chunks/notebook\n",
    "2. Add each customer count (how long they used) (not normalize)\n",
    "3. Don't fill NaN (with -127)\n",
    "4. remove num_features's min, std\n",
    "5. D_39에 대한 feature 추가 -> CV하락\n",
    "6. B_1과 B_2간의 연관 feature 추가; CV 0.7920\n",
    "7. B_8과 B_9간의 연관 feature 추가; CV 0.7919\n",
    "8. corr가 높은 feature중 제거; CV: 0.7914\n",
    "9. 6+ fillna(method='bfill'); CV: 0.7906 => NaN으로 냅두자\n",
    "10. 마지막 3개월만 이용; 6 + CV: 0.7892; 4 + CV: 0.7886\n",
    "11. 영향도 낮은 features  제거 R_28, D_94, R_2; 10 + CV: 0.7890,4 + CV: 0.7916, 6 + CV: 0.7921\n",
    "<!-- 12. Test시 Fold4 제외; LB에서 체크 예정 -->\n",
    "13. 영향도가 0인 features 제거; 12 + CV: 0.7921 (LB 등록시 12번을 적용할지 말지 선택해야함)  \n",
    "13-2. 영향도 범위를 조금 늘림ㅣ 12 + CV: 0.7923, LB: 0.790\n",
    "<!-- 9. add nasdaq info simply -->"
   ]
  },
  {
   "cell_type": "markdown",
   "id": "e255fd19",
   "metadata": {
    "papermill": {
     "duration": 0.007819,
     "end_time": "2022-07-31T11:59:45.604134",
     "exception": false,
     "start_time": "2022-07-31T11:59:45.596315",
     "status": "completed"
    },
    "tags": []
   },
   "source": [
    "# Load Libraries"
   ]
  },
  {
   "cell_type": "code",
   "execution_count": 1,
   "id": "289531de",
   "metadata": {
    "execution": {
     "iopub.execute_input": "2022-07-31T11:59:45.622125Z",
     "iopub.status.busy": "2022-07-31T11:59:45.621603Z",
     "iopub.status.idle": "2022-07-31T11:59:49.685248Z",
     "shell.execute_reply": "2022-07-31T11:59:49.682837Z"
    },
    "papermill": {
     "duration": 4.075107,
     "end_time": "2022-07-31T11:59:49.687287",
     "exception": false,
     "start_time": "2022-07-31T11:59:45.612180",
     "status": "completed"
    },
    "tags": []
   },
   "outputs": [
    {
     "name": "stdout",
     "output_type": "stream",
     "text": [
      "RAPIDS version 21.10.01\n"
     ]
    }
   ],
   "source": [
    "# LOAD LIBRARIES\n",
    "import pandas as pd, numpy as np # CPU libraries\n",
    "import cupy, cudf # GPU libraries\n",
    "import matplotlib.pyplot as plt, gc, os\n",
    "\n",
    "print('RAPIDS version',cudf.__version__)"
   ]
  },
  {
   "cell_type": "code",
   "execution_count": 2,
   "id": "8a497ecc",
   "metadata": {
    "execution": {
     "iopub.execute_input": "2022-07-31T11:59:49.705703Z",
     "iopub.status.busy": "2022-07-31T11:59:49.705406Z",
     "iopub.status.idle": "2022-07-31T11:59:49.709548Z",
     "shell.execute_reply": "2022-07-31T11:59:49.708790Z"
    },
    "papermill": {
     "duration": 0.015504,
     "end_time": "2022-07-31T11:59:49.711410",
     "exception": false,
     "start_time": "2022-07-31T11:59:49.695906",
     "status": "completed"
    },
    "tags": []
   },
   "outputs": [],
   "source": [
    "# VERSION NAME FOR SAVED MODEL FILES\n",
    "VER = 1\n",
    "\n",
    "# TRAIN RANDOM SEED\n",
    "SEED = 42\n",
    "\n",
    "# FILL NAN VALUE\n",
    "NAN_VALUE = -127 # will fit in int8\n",
    "\n",
    "# FOLDS PER MODEL\n",
    "FOLDS = 5"
   ]
  },
  {
   "cell_type": "markdown",
   "id": "1bd638c4",
   "metadata": {
    "papermill": {
     "duration": 0.007903,
     "end_time": "2022-07-31T11:59:49.727327",
     "exception": false,
     "start_time": "2022-07-31T11:59:49.719424",
     "status": "completed"
    },
    "tags": []
   },
   "source": [
    "# Process and Feature Engineer Train Data\n",
    "We will load @raddar Kaggle dataset from [here][1] with discussion [here][2]. Then we will engineer features suggested by @huseyincot in his notebooks [here][3] and [here][4]. We will use [RAPIDS][5] and the GPU to create new features quickly.\n",
    "\n",
    "[1]: https://www.kaggle.com/datasets/raddar/amex-data-integer-dtypes-parquet-format\n",
    "[2]: https://www.kaggle.com/competitions/amex-default-prediction/discussion/328514\n",
    "[3]: https://www.kaggle.com/code/huseyincot/amex-catboost-0-793\n",
    "[4]: https://www.kaggle.com/code/huseyincot/amex-agg-data-how-it-created\n",
    "[5]: https://rapids.ai/"
   ]
  },
  {
   "cell_type": "code",
   "execution_count": 3,
   "id": "a982af9f",
   "metadata": {
    "execution": {
     "iopub.execute_input": "2022-07-31T11:59:49.744376Z",
     "iopub.status.busy": "2022-07-31T11:59:49.744094Z",
     "iopub.status.idle": "2022-07-31T12:00:10.799406Z",
     "shell.execute_reply": "2022-07-31T12:00:10.797362Z"
    },
    "papermill": {
     "duration": 21.066199,
     "end_time": "2022-07-31T12:00:10.801543",
     "exception": false,
     "start_time": "2022-07-31T11:59:49.735344",
     "status": "completed"
    },
    "tags": []
   },
   "outputs": [
    {
     "name": "stdout",
     "output_type": "stream",
     "text": [
      "Reading train data...\n",
      "shape of data: (5531451, 190)\n"
     ]
    }
   ],
   "source": [
    "def read_file(path = '', usecols = None):\n",
    "    # LOAD DATAFRAME\n",
    "    if usecols is not None: df = cudf.read_parquet(path, columns=usecols)\n",
    "    else: df = cudf.read_parquet(path)\n",
    "    # REDUCE DTYPE FOR CUSTOMER AND DATE\n",
    "    df['customer_ID'] = df['customer_ID'].str[-16:].str.hex_to_int().astype('int64')\n",
    "    df.S_2 = cudf.to_datetime( df.S_2 )\n",
    "    # SORT BY CUSTOMER AND DATE (so agg('last') works correctly)\n",
    "    #df = df.sort_values(['customer_ID','S_2'])\n",
    "    #df = df.reset_index(drop=True)\n",
    "    # FILL NAN\n",
    "#     df = df.fillna(NAN_VALUE) \n",
    "    print('shape of data:', df.shape)\n",
    "    \n",
    "    return df\n",
    "\n",
    "print('Reading train data...')\n",
    "TRAIN_PATH = '../input/amex-data-integer-dtypes-parquet-format/train.parquet'\n",
    "train = read_file(path = TRAIN_PATH)"
   ]
  },
  {
   "cell_type": "code",
   "execution_count": 4,
   "id": "d14b68db",
   "metadata": {
    "execution": {
     "iopub.execute_input": "2022-07-31T12:00:10.821339Z",
     "iopub.status.busy": "2022-07-31T12:00:10.819917Z",
     "iopub.status.idle": "2022-07-31T12:00:11.147690Z",
     "shell.execute_reply": "2022-07-31T12:00:11.146967Z"
    },
    "papermill": {
     "duration": 0.339082,
     "end_time": "2022-07-31T12:00:11.149589",
     "exception": false,
     "start_time": "2022-07-31T12:00:10.810507",
     "status": "completed"
    },
    "tags": []
   },
   "outputs": [
    {
     "data": {
      "text/html": [
       "<div>\n",
       "<style scoped>\n",
       "    .dataframe tbody tr th:only-of-type {\n",
       "        vertical-align: middle;\n",
       "    }\n",
       "\n",
       "    .dataframe tbody tr th {\n",
       "        vertical-align: top;\n",
       "    }\n",
       "\n",
       "    .dataframe thead th {\n",
       "        text-align: right;\n",
       "    }\n",
       "</style>\n",
       "<table border=\"1\" class=\"dataframe\">\n",
       "  <thead>\n",
       "    <tr style=\"text-align: right;\">\n",
       "      <th></th>\n",
       "      <th>customer_ID</th>\n",
       "      <th>S_2</th>\n",
       "      <th>P_2</th>\n",
       "      <th>D_39</th>\n",
       "      <th>B_1</th>\n",
       "      <th>B_2</th>\n",
       "      <th>R_1</th>\n",
       "      <th>S_3</th>\n",
       "      <th>D_41</th>\n",
       "      <th>B_3</th>\n",
       "      <th>...</th>\n",
       "      <th>D_136</th>\n",
       "      <th>D_137</th>\n",
       "      <th>D_138</th>\n",
       "      <th>D_139</th>\n",
       "      <th>D_140</th>\n",
       "      <th>D_141</th>\n",
       "      <th>D_142</th>\n",
       "      <th>D_143</th>\n",
       "      <th>D_144</th>\n",
       "      <th>D_145</th>\n",
       "    </tr>\n",
       "  </thead>\n",
       "  <tbody>\n",
       "    <tr>\n",
       "      <th>0</th>\n",
       "      <td>-4532153018459703766</td>\n",
       "      <td>2017-03-09</td>\n",
       "      <td>0.938469</td>\n",
       "      <td>0</td>\n",
       "      <td>0.008724</td>\n",
       "      <td>1.006838</td>\n",
       "      <td>0.009228</td>\n",
       "      <td>0.124035</td>\n",
       "      <td>0.0</td>\n",
       "      <td>0.004709</td>\n",
       "      <td>...</td>\n",
       "      <td>-1</td>\n",
       "      <td>-1</td>\n",
       "      <td>-1</td>\n",
       "      <td>0</td>\n",
       "      <td>0</td>\n",
       "      <td>0.0</td>\n",
       "      <td>&lt;NA&gt;</td>\n",
       "      <td>0</td>\n",
       "      <td>0.000610</td>\n",
       "      <td>0</td>\n",
       "    </tr>\n",
       "    <tr>\n",
       "      <th>1</th>\n",
       "      <td>-4532153018459703766</td>\n",
       "      <td>2017-04-07</td>\n",
       "      <td>0.936665</td>\n",
       "      <td>0</td>\n",
       "      <td>0.004923</td>\n",
       "      <td>1.000653</td>\n",
       "      <td>0.006151</td>\n",
       "      <td>0.126750</td>\n",
       "      <td>0.0</td>\n",
       "      <td>0.002714</td>\n",
       "      <td>...</td>\n",
       "      <td>-1</td>\n",
       "      <td>-1</td>\n",
       "      <td>-1</td>\n",
       "      <td>0</td>\n",
       "      <td>0</td>\n",
       "      <td>0.0</td>\n",
       "      <td>&lt;NA&gt;</td>\n",
       "      <td>0</td>\n",
       "      <td>0.005492</td>\n",
       "      <td>0</td>\n",
       "    </tr>\n",
       "    <tr>\n",
       "      <th>2</th>\n",
       "      <td>-4532153018459703766</td>\n",
       "      <td>2017-05-28</td>\n",
       "      <td>0.954180</td>\n",
       "      <td>3</td>\n",
       "      <td>0.021655</td>\n",
       "      <td>1.009672</td>\n",
       "      <td>0.006815</td>\n",
       "      <td>0.123977</td>\n",
       "      <td>0.0</td>\n",
       "      <td>0.009423</td>\n",
       "      <td>...</td>\n",
       "      <td>-1</td>\n",
       "      <td>-1</td>\n",
       "      <td>-1</td>\n",
       "      <td>0</td>\n",
       "      <td>0</td>\n",
       "      <td>0.0</td>\n",
       "      <td>&lt;NA&gt;</td>\n",
       "      <td>0</td>\n",
       "      <td>0.006986</td>\n",
       "      <td>0</td>\n",
       "    </tr>\n",
       "    <tr>\n",
       "      <th>3</th>\n",
       "      <td>-4532153018459703766</td>\n",
       "      <td>2017-06-13</td>\n",
       "      <td>0.960384</td>\n",
       "      <td>0</td>\n",
       "      <td>0.013683</td>\n",
       "      <td>1.002700</td>\n",
       "      <td>0.001373</td>\n",
       "      <td>0.117169</td>\n",
       "      <td>0.0</td>\n",
       "      <td>0.005531</td>\n",
       "      <td>...</td>\n",
       "      <td>-1</td>\n",
       "      <td>-1</td>\n",
       "      <td>-1</td>\n",
       "      <td>0</td>\n",
       "      <td>0</td>\n",
       "      <td>0.0</td>\n",
       "      <td>&lt;NA&gt;</td>\n",
       "      <td>0</td>\n",
       "      <td>0.006527</td>\n",
       "      <td>0</td>\n",
       "    </tr>\n",
       "    <tr>\n",
       "      <th>4</th>\n",
       "      <td>-4532153018459703766</td>\n",
       "      <td>2017-07-16</td>\n",
       "      <td>0.947248</td>\n",
       "      <td>0</td>\n",
       "      <td>0.015193</td>\n",
       "      <td>1.000727</td>\n",
       "      <td>0.007605</td>\n",
       "      <td>0.117325</td>\n",
       "      <td>0.0</td>\n",
       "      <td>0.009312</td>\n",
       "      <td>...</td>\n",
       "      <td>-1</td>\n",
       "      <td>-1</td>\n",
       "      <td>-1</td>\n",
       "      <td>0</td>\n",
       "      <td>0</td>\n",
       "      <td>0.0</td>\n",
       "      <td>&lt;NA&gt;</td>\n",
       "      <td>0</td>\n",
       "      <td>0.008126</td>\n",
       "      <td>0</td>\n",
       "    </tr>\n",
       "  </tbody>\n",
       "</table>\n",
       "<p>5 rows × 190 columns</p>\n",
       "</div>"
      ],
      "text/plain": [
       "           customer_ID        S_2       P_2  D_39       B_1       B_2  \\\n",
       "0 -4532153018459703766 2017-03-09  0.938469     0  0.008724  1.006838   \n",
       "1 -4532153018459703766 2017-04-07  0.936665     0  0.004923  1.000653   \n",
       "2 -4532153018459703766 2017-05-28  0.954180     3  0.021655  1.009672   \n",
       "3 -4532153018459703766 2017-06-13  0.960384     0  0.013683  1.002700   \n",
       "4 -4532153018459703766 2017-07-16  0.947248     0  0.015193  1.000727   \n",
       "\n",
       "        R_1       S_3  D_41       B_3  ... D_136  D_137  D_138  D_139  D_140  \\\n",
       "0  0.009228  0.124035   0.0  0.004709  ...    -1     -1     -1      0      0   \n",
       "1  0.006151  0.126750   0.0  0.002714  ...    -1     -1     -1      0      0   \n",
       "2  0.006815  0.123977   0.0  0.009423  ...    -1     -1     -1      0      0   \n",
       "3  0.001373  0.117169   0.0  0.005531  ...    -1     -1     -1      0      0   \n",
       "4  0.007605  0.117325   0.0  0.009312  ...    -1     -1     -1      0      0   \n",
       "\n",
       "   D_141  D_142 D_143     D_144  D_145  \n",
       "0    0.0   <NA>     0  0.000610      0  \n",
       "1    0.0   <NA>     0  0.005492      0  \n",
       "2    0.0   <NA>     0  0.006986      0  \n",
       "3    0.0   <NA>     0  0.006527      0  \n",
       "4    0.0   <NA>     0  0.008126      0  \n",
       "\n",
       "[5 rows x 190 columns]"
      ]
     },
     "execution_count": 4,
     "metadata": {},
     "output_type": "execute_result"
    }
   ],
   "source": [
    "train.head()"
   ]
  },
  {
   "cell_type": "code",
   "execution_count": 5,
   "id": "bf3d80a1",
   "metadata": {
    "execution": {
     "iopub.execute_input": "2022-07-31T12:00:11.169234Z",
     "iopub.status.busy": "2022-07-31T12:00:11.168922Z",
     "iopub.status.idle": "2022-07-31T12:00:13.752533Z",
     "shell.execute_reply": "2022-07-31T12:00:13.750907Z"
    },
    "papermill": {
     "duration": 2.595681,
     "end_time": "2022-07-31T12:00:13.754496",
     "exception": false,
     "start_time": "2022-07-31T12:00:11.158815",
     "status": "completed"
    },
    "tags": []
   },
   "outputs": [
    {
     "name": "stdout",
     "output_type": "stream",
     "text": [
      "shape after engineering (458913, 250)\n"
     ]
    }
   ],
   "source": [
    "def process_and_feature_engineer(df):\n",
    "    # FEATURE ENGINEERING FROM \n",
    "    # https://www.kaggle.com/code/huseyincot/amex-agg-data-how-it-created\n",
    "#     9) nasdaq\n",
    "#     nasdaq_path = '../input/nasdaq/nasdaq.csv'\n",
    "#     nasdaq = cudf.read_csv(nasdaq_path, encoding='utf-8-sig')\n",
    "#     nasdaq.rename(columns={'\\ufeffS_2': 'S_2'}, inplace=True)\n",
    "#     nasdaq.drop(['tradingvolume'], inplace=True, axis=1)\n",
    "#     nasdaq.S_2 = cudf.to_datetime(nasdaq.S_2)\n",
    "#     nasdaq[['closing','open', 'high', 'low']] = nasdaq[['closing','open', 'high', 'low']].astype(float)    \n",
    "#     df = df.merge(nasdaq, on='S_2')\n",
    "    \n",
    "#     1) Drop 'B_29'\n",
    "    df.drop(['B_29'], inplace=True, axis=1)\n",
    "#     11) Drop R_28, D_94, R_2\n",
    "    df.drop(['R_28', 'D_94', 'R_2'], inplace=True, axis=1)\n",
    "    \n",
    "#     6) B1, B2에 연관 feature추가\n",
    "    df['B_1_2'] = df['B_1']/(df['B_2']+0.0000001)\n",
    "\n",
    "#     5) D_39에 대한 feature 추가\n",
    "#     df['D_39_div30'] = df['D_39']/30\n",
    "#     10) 마지막 3개월만 이용\n",
    "#     df = cudf.concat([df.groupby('customer_ID').nth(-3), df.groupby('customer_ID').nth(-2), df.groupby('customer_ID').nth(-1)]).reset_index()\n",
    "\n",
    "    \n",
    "    all_cols = [c for c in list(df.columns) if c not in ['customer_ID','S_2']]\n",
    "    cat_features = [\"B_30\",\"B_38\",\"D_114\",\"D_116\",\"D_117\",\"D_120\",\"D_126\",\"D_63\",\"D_64\",\"D_66\",\"D_68\"]\n",
    "    num_features = [col for col in all_cols if col not in cat_features]\n",
    "    \n",
    "#     2) Add customer count\n",
    "    test_count_agg = df.groupby(['customer_ID'])['S_2'].agg(['count'])\n",
    "\n",
    "\n",
    "    test_num_agg = df.groupby(\"customer_ID\")[num_features].agg(['mean', 'max', 'last'])\n",
    "    test_num_agg.columns = ['_'.join(x) for x in test_num_agg.columns]\n",
    "\n",
    "    test_cat_agg = df.groupby(\"customer_ID\")[cat_features].agg(['count', 'last', 'nunique'])\n",
    "    test_cat_agg.columns = ['_'.join(x) for x in test_cat_agg.columns]\n",
    "\n",
    "    df = cudf.concat([test_count_agg,test_num_agg, test_cat_agg], axis=1)\n",
    "#     13) \n",
    "    df.drop(['D_119_last',\n",
    " 'D_79_last',\n",
    " 'B_39_mean',\n",
    " 'B_15_max',\n",
    " 'B_32_mean',\n",
    " 'D_41_mean',\n",
    " 'D_141_max',\n",
    " 'R_27_mean',\n",
    " 'S_9_mean',\n",
    " 'D_70_last',\n",
    " 'B_19_mean',\n",
    " 'D_131_max',\n",
    " 'D_138_last',\n",
    " 'D_111_mean',\n",
    " 'D_134_last',\n",
    " 'D_74_max',\n",
    " 'R_15_mean',\n",
    " 'D_39_mean',\n",
    " 'S_11_max',\n",
    " 'R_7_mean',\n",
    " 'R_9_max',\n",
    " 'R_26_last',\n",
    " 'B_17_mean',\n",
    " 'D_131_last',\n",
    " 'B_30_last',\n",
    " 'B_26_last',\n",
    " 'B_33_last',\n",
    " 'D_61_mean',\n",
    " 'D_125_mean',\n",
    " 'B_38_nunique',\n",
    " 'S_27_last',\n",
    " 'B_36_mean',\n",
    " 'D_144_last',\n",
    " 'D_84_last',\n",
    " 'B_26_mean',\n",
    " 'S_25_mean',\n",
    " 'B_4_mean',\n",
    " 'R_6_mean',\n",
    " 'B_42_max',\n",
    " 'S_6_last',\n",
    " 'D_105_mean',\n",
    " 'D_133_mean',\n",
    " 'R_14_max',\n",
    " 'B_18_max',\n",
    " 'P_3_mean',\n",
    " 'D_126_nunique',\n",
    " 'B_19_last',\n",
    " 'D_96_last',\n",
    " 'S_13_mean',\n",
    " 'S_19_mean',\n",
    " 'R_4_last',\n",
    " 'D_143_mean',\n",
    " 'S_15_last',\n",
    " 'D_145_mean',\n",
    " 'D_86_last',\n",
    " 'D_63_last',\n",
    " 'D_54_last',\n",
    " 'D_106_max',\n",
    " 'D_104_last',\n",
    " 'B_39_last',\n",
    " 'D_69_last',\n",
    " 'P_3_last',\n",
    " 'D_83_max',\n",
    " 'R_7_max',\n",
    " 'B_21_last',\n",
    " 'B_19_max',\n",
    " 'B_41_mean',\n",
    " 'R_26_max',\n",
    " 'S_7_max',\n",
    " 'D_102_mean',\n",
    " 'S_25_last',\n",
    " 'D_78_mean',\n",
    " 'R_16_last',\n",
    " 'B_24_max',\n",
    " 'D_104_max',\n",
    " 'R_12_last',\n",
    " 'D_69_max',\n",
    " 'D_141_last',\n",
    " 'S_18_mean',\n",
    " 'D_142_last',\n",
    " 'R_6_last',\n",
    " 'B_13_mean',\n",
    " 'B_13_last',\n",
    " 'S_19_max',\n",
    " 'D_142_max',\n",
    " 'B_8_mean',\n",
    " 'D_144_mean',\n",
    " 'S_12_max',\n",
    " 'B_27_last',\n",
    " 'D_129_last',\n",
    " 'D_106_mean',\n",
    " 'D_86_mean',\n",
    " 'D_48_mean',\n",
    " 'B_24_last',\n",
    " 'B_27_max',\n",
    " 'D_93_last',\n",
    " 'S_24_mean',\n",
    " 'B_36_last',\n",
    " 'D_58_mean',\n",
    " 'D_141_mean',\n",
    " 'R_27_max',\n",
    " 'S_17_max',\n",
    " 'D_144_max',\n",
    " 'D_124_max',\n",
    " 'R_20_last',\n",
    " 'S_26_last',\n",
    " 'D_72_max',\n",
    " 'D_130_last',\n",
    " 'D_125_max',\n",
    " 'D_114_nunique',\n",
    " 'R_11_max',\n",
    " 'D_44_mean',\n",
    " 'S_17_mean',\n",
    " 'D_65_last',\n",
    " 'D_92_last',\n",
    " 'R_8_mean',\n",
    " 'D_136_mean',\n",
    " 'D_124_mean',\n",
    " 'D_132_last',\n",
    " 'D_79_max',\n",
    " 'D_78_max',\n",
    " 'B_30_count',\n",
    " 'D_66_nunique',\n",
    " 'D_74_last',\n",
    " 'D_91_max',\n",
    " 'S_16_last',\n",
    " 'D_86_max',\n",
    " 'D_110_mean',\n",
    " 'B_32_last',\n",
    " 'D_82_last',\n",
    " 'B_39_max',\n",
    " 'R_22_mean',\n",
    " 'D_142_mean',\n",
    " 'D_124_last',\n",
    " 'D_128_mean',\n",
    " 'D_131_mean',\n",
    " 'D_78_last',\n",
    " 'P_4_last',\n",
    " 'D_73_max',\n",
    " 'D_110_last',\n",
    " 'S_16_max',\n",
    " 'R_15_last',\n",
    " 'D_84_mean',\n",
    " 'D_145_max',\n",
    " 'B_24_mean',\n",
    " 'R_15_max',\n",
    " 'S_19_last',\n",
    " 'D_82_max',\n",
    " 'D_135_mean',\n",
    " 'D_50_mean',\n",
    " 'S_13_max',\n",
    " 'R_16_max',\n",
    " 'R_21_mean',\n",
    " 'D_72_last',\n",
    " 'B_6_mean',\n",
    " 'D_111_max',\n",
    " 'D_137_mean',\n",
    " 'S_13_last',\n",
    " 'D_107_max',\n",
    " 'D_132_mean',\n",
    " 'D_138_max',\n",
    " 'D_130_max',\n",
    " 'D_107_last',\n",
    " 'D_54_max',\n",
    " 'S_6_mean',\n",
    " 'R_14_mean',\n",
    " 'D_88_last',\n",
    " 'D_109_mean',\n",
    " 'R_20_mean',\n",
    " 'D_53_mean',\n",
    " 'D_89_mean',\n",
    " 'D_130_mean',\n",
    " 'S_20_mean',\n",
    " 'D_107_mean',\n",
    " 'R_24_last',\n",
    " 'D_139_mean',\n",
    " 'D_105_last',\n",
    " 'R_5_mean',\n",
    " 'D_138_mean',\n",
    " 'D_117_nunique',\n",
    " 'B_27_mean',\n",
    " 'D_73_mean',\n",
    " 'D_104_mean',\n",
    " 'D_115_max',\n",
    " 'D_136_max',\n",
    " 'B_36_max',\n",
    " 'B_10_max',\n",
    " 'D_126_last',\n",
    " 'D_96_mean',\n",
    " 'R_12_max',\n",
    " 'D_82_mean',\n",
    " 'R_24_mean',\n",
    " 'R_4_mean',\n",
    " 'R_25_mean',\n",
    " 'D_145_last',\n",
    " 'D_116_nunique',\n",
    " 'S_17_last',\n",
    " 'D_63_nunique',\n",
    " 'D_68_nunique',\n",
    " 'R_16_mean',\n",
    " 'D_108_max',\n",
    " 'B_26_max',\n",
    " 'D_73_last',\n",
    " 'B_38_last',\n",
    " 'R_9_last',\n",
    " 'D_108_mean',\n",
    " 'D_135_last',\n",
    " 'D_89_last',\n",
    " 'D_125_last',\n",
    " 'R_10_last',\n",
    " 'D_59_last',\n",
    " 'D_80_mean',\n",
    " 'S_12_last',\n",
    " 'R_14_last',\n",
    " 'D_79_mean',\n",
    " 'D_64_nunique',\n",
    " 'R_23_mean',\n",
    " 'D_81_mean',\n",
    " 'D_118_mean',\n",
    " 'D_84_max',\n",
    " 'D_68_last',\n",
    " 'D_136_last',\n",
    " 'D_116_last',\n",
    " 'R_10_max',\n",
    " 'B_31_last',\n",
    " 'D_75_last',\n",
    " 'R_5_max',\n",
    " 'D_80_max',\n",
    " 'D_134_mean',\n",
    " 'R_25_last',\n",
    " 'B_41_max',\n",
    " 'D_103_mean',\n",
    " 'R_13_mean',\n",
    " 'D_52_mean',\n",
    " 'R_20_max',\n",
    " 'R_13_max',\n",
    " 'B_41_last',\n",
    " 'D_81_max',\n",
    " 'S_20_last',\n",
    " 'R_12_mean',\n",
    " 'D_127_max',\n",
    " 'B_6_max',\n",
    " 'D_54_mean',\n",
    " 'B_31_mean',\n",
    " 'D_135_max',\n",
    " 'R_17_mean',\n",
    " 'S_18_last',\n",
    " 'R_22_last',\n",
    " 'D_114_count',\n",
    " 'B_22_max',\n",
    " 'D_139_last',\n",
    " 'D_89_max',\n",
    " 'R_8_max',\n",
    " 'D_88_mean',\n",
    " 'S_20_max',\n",
    " 'R_19_mean',\n",
    " 'D_88_max',\n",
    " 'R_4_max',\n",
    " 'D_137_max',\n",
    " 'D_126_count',\n",
    " 'D_63_count',\n",
    " 'D_137_last',\n",
    " 'D_64_count',\n",
    " 'D_66_count',\n",
    " 'D_68_count',\n",
    " 'S_6_max',\n",
    " 'D_117_count',\n",
    " 'D_139_max',\n",
    " 'D_120_count',\n",
    " 'D_143_max',\n",
    " 'D_81_last',\n",
    " 'B_38_count',\n",
    " 'D_116_count',\n",
    " 'D_140_max',\n",
    " 'D_143_last',\n",
    " 'D_109_last',\n",
    " 'D_93_max',\n",
    " 'D_93_mean',\n",
    " 'D_92_max',\n",
    " 'R_23_last',\n",
    " 'R_23_max',\n",
    " 'R_22_max',\n",
    " 'B_33_max',\n",
    " 'R_24_max',\n",
    " 'D_109_max',\n",
    " 'D_111_last',\n",
    " 'D_108_last',\n",
    " 'D_103_last',\n",
    " 'D_103_max',\n",
    " 'D_96_max',\n",
    " 'R_25_max',\n",
    " 'R_21_last',\n",
    " 'R_21_max',\n",
    " 'R_17_max',\n",
    " 'D_87_last',\n",
    " 'D_87_max',\n",
    " 'D_87_mean',\n",
    " 'S_18_max',\n",
    " 'R_17_last',\n",
    " 'B_42_mean',\n",
    " 'D_123_last',\n",
    " 'B_32_max',\n",
    " 'R_19_last',\n",
    " 'R_19_max',\n",
    " 'B_31_max',\n",
    " 'D_129_max'], inplace=True, axis=1)\n",
    "    del test_num_agg, test_cat_agg\n",
    "    print('shape after engineering', df.shape )\n",
    "    \n",
    "    return df\n",
    "\n",
    "train = process_and_feature_engineer(train)"
   ]
  },
  {
   "cell_type": "code",
   "execution_count": 6,
   "id": "ae333831",
   "metadata": {
    "execution": {
     "iopub.execute_input": "2022-07-31T12:00:13.773373Z",
     "iopub.status.busy": "2022-07-31T12:00:13.773047Z",
     "iopub.status.idle": "2022-07-31T12:00:14.382966Z",
     "shell.execute_reply": "2022-07-31T12:00:14.382093Z"
    },
    "papermill": {
     "duration": 0.621802,
     "end_time": "2022-07-31T12:00:14.385228",
     "exception": false,
     "start_time": "2022-07-31T12:00:13.763426",
     "status": "completed"
    },
    "tags": []
   },
   "outputs": [
    {
     "name": "stdout",
     "output_type": "stream",
     "text": [
      "There are 250 features!\n"
     ]
    }
   ],
   "source": [
    "# ADD TARGETS\n",
    "targets = cudf.read_csv('../input/amex-default-prediction/train_labels.csv')\n",
    "targets['customer_ID'] = targets['customer_ID'].str[-16:].str.hex_to_int().astype('int64')\n",
    "targets = targets.set_index('customer_ID')\n",
    "train = train.merge(targets, left_index=True, right_index=True, how='left')\n",
    "train.target = train.target.astype('int8')\n",
    "del targets\n",
    "\n",
    "# NEEDED TO MAKE CV DETERMINISTIC (cudf merge above randomly shuffles rows)\n",
    "train = train.sort_index().reset_index()\n",
    "\n",
    "# FEATURES\n",
    "FEATURES = train.columns[1:-1]\n",
    "print(f'There are {len(FEATURES)} features!')"
   ]
  },
  {
   "cell_type": "markdown",
   "id": "b5f2d065",
   "metadata": {
    "papermill": {
     "duration": 0.009145,
     "end_time": "2022-07-31T12:00:14.403641",
     "exception": false,
     "start_time": "2022-07-31T12:00:14.394496",
     "status": "completed"
    },
    "tags": []
   },
   "source": [
    "# Train XGB\n",
    "We will train using `DeviceQuantileDMatrix`. This has a very small GPU memory footprint."
   ]
  },
  {
   "cell_type": "code",
   "execution_count": 7,
   "id": "a08a3e0e",
   "metadata": {
    "execution": {
     "iopub.execute_input": "2022-07-31T12:00:14.423241Z",
     "iopub.status.busy": "2022-07-31T12:00:14.422560Z",
     "iopub.status.idle": "2022-07-31T12:00:14.532543Z",
     "shell.execute_reply": "2022-07-31T12:00:14.531731Z"
    },
    "papermill": {
     "duration": 0.122015,
     "end_time": "2022-07-31T12:00:14.534412",
     "exception": false,
     "start_time": "2022-07-31T12:00:14.412397",
     "status": "completed"
    },
    "tags": []
   },
   "outputs": [
    {
     "name": "stdout",
     "output_type": "stream",
     "text": [
      "XGB Version 1.6.1\n"
     ]
    }
   ],
   "source": [
    "# LOAD XGB LIBRARY\n",
    "from sklearn.model_selection import KFold\n",
    "import xgboost as xgb\n",
    "print('XGB Version',xgb.__version__)\n",
    "\n",
    "# XGB MODEL PARAMETERS\n",
    "xgb_parms = { \n",
    "    'max_depth':4, \n",
    "    'learning_rate':0.05, \n",
    "    'subsample':0.8,\n",
    "    'colsample_bytree':0.6, \n",
    "    'eval_metric':'logloss',\n",
    "    'objective':'binary:logistic',\n",
    "    'tree_method':'gpu_hist',\n",
    "    'predictor':'gpu_predictor',\n",
    "    'random_state':SEED\n",
    "}"
   ]
  },
  {
   "cell_type": "code",
   "execution_count": 8,
   "id": "8a6a52f9",
   "metadata": {
    "execution": {
     "iopub.execute_input": "2022-07-31T12:00:14.553559Z",
     "iopub.status.busy": "2022-07-31T12:00:14.552890Z",
     "iopub.status.idle": "2022-07-31T12:00:14.562232Z",
     "shell.execute_reply": "2022-07-31T12:00:14.561493Z"
    },
    "papermill": {
     "duration": 0.020733,
     "end_time": "2022-07-31T12:00:14.563996",
     "exception": false,
     "start_time": "2022-07-31T12:00:14.543263",
     "status": "completed"
    },
    "tags": []
   },
   "outputs": [],
   "source": [
    "# NEEDED WITH DeviceQuantileDMatrix BELOW\n",
    "class IterLoadForDMatrix(xgb.core.DataIter):\n",
    "    def __init__(self, df=None, features=None, target=None, batch_size=256*1024):\n",
    "        self.features = features\n",
    "        self.target = target\n",
    "        self.df = df\n",
    "        self.it = 0 # set iterator to 0\n",
    "        self.batch_size = batch_size\n",
    "        self.batches = int( np.ceil( len(df) / self.batch_size ) )\n",
    "        super().__init__()\n",
    "\n",
    "    def reset(self):\n",
    "        '''Reset the iterator'''\n",
    "        self.it = 0\n",
    "\n",
    "    def next(self, input_data):\n",
    "        '''Yield next batch of data.'''\n",
    "        if self.it == self.batches:\n",
    "            return 0 # Return 0 when there's no more batch.\n",
    "        \n",
    "        a = self.it * self.batch_size\n",
    "        b = min( (self.it + 1) * self.batch_size, len(self.df) )\n",
    "        dt = cudf.DataFrame(self.df.iloc[a:b])\n",
    "        input_data(data=dt[self.features], label=dt[self.target]) #, weight=dt['weight'])\n",
    "        self.it += 1\n",
    "        return 1"
   ]
  },
  {
   "cell_type": "code",
   "execution_count": 9,
   "id": "580f5802",
   "metadata": {
    "execution": {
     "iopub.execute_input": "2022-07-31T12:00:14.583599Z",
     "iopub.status.busy": "2022-07-31T12:00:14.582996Z",
     "iopub.status.idle": "2022-07-31T12:00:14.593167Z",
     "shell.execute_reply": "2022-07-31T12:00:14.592445Z"
    },
    "papermill": {
     "duration": 0.022101,
     "end_time": "2022-07-31T12:00:14.594894",
     "exception": false,
     "start_time": "2022-07-31T12:00:14.572793",
     "status": "completed"
    },
    "tags": []
   },
   "outputs": [],
   "source": [
    "# https://www.kaggle.com/kyakovlev\n",
    "# https://www.kaggle.com/competitions/amex-default-prediction/discussion/327534\n",
    "def amex_metric_mod(y_true, y_pred):\n",
    "\n",
    "    labels     = np.transpose(np.array([y_true, y_pred]))\n",
    "    labels     = labels[labels[:, 1].argsort()[::-1]]\n",
    "    weights    = np.where(labels[:,0]==0, 20, 1)\n",
    "    cut_vals   = labels[np.cumsum(weights) <= int(0.04 * np.sum(weights))]\n",
    "    top_four   = np.sum(cut_vals[:,0]) / np.sum(labels[:,0])\n",
    "\n",
    "    gini = [0,0]\n",
    "    for i in [1,0]:\n",
    "        labels         = np.transpose(np.array([y_true, y_pred]))\n",
    "        labels         = labels[labels[:, i].argsort()[::-1]]\n",
    "        weight         = np.where(labels[:,0]==0, 20, 1)\n",
    "        weight_random  = np.cumsum(weight / np.sum(weight))\n",
    "        total_pos      = np.sum(labels[:, 0] *  weight)\n",
    "        cum_pos_found  = np.cumsum(labels[:, 0] * weight)\n",
    "        lorentz        = cum_pos_found / total_pos\n",
    "        gini[i]        = np.sum((lorentz - weight_random) * weight)\n",
    "\n",
    "    return 0.5 * (gini[1]/gini[0] + top_four)"
   ]
  },
  {
   "cell_type": "code",
   "execution_count": 10,
   "id": "79b93ee1",
   "metadata": {
    "execution": {
     "iopub.execute_input": "2022-07-31T12:00:14.613810Z",
     "iopub.status.busy": "2022-07-31T12:00:14.613551Z",
     "iopub.status.idle": "2022-07-31T12:03:42.678265Z",
     "shell.execute_reply": "2022-07-31T12:03:42.677408Z"
    },
    "papermill": {
     "duration": 208.077062,
     "end_time": "2022-07-31T12:03:42.680788",
     "exception": false,
     "start_time": "2022-07-31T12:00:14.603726",
     "status": "completed"
    },
    "scrolled": true,
    "tags": []
   },
   "outputs": [
    {
     "name": "stdout",
     "output_type": "stream",
     "text": [
      "#########################\n",
      "### Fold 1\n",
      "### Train size 367130 Valid size 91783\n",
      "### Training with 100% fold data...\n",
      "#########################\n",
      "[0]\ttrain-logloss:0.66281\tvalid-logloss:0.66281\n",
      "[100]\ttrain-logloss:0.23737\tvalid-logloss:0.23993\n",
      "[200]\ttrain-logloss:0.22303\tvalid-logloss:0.22779\n",
      "[300]\ttrain-logloss:0.21705\tvalid-logloss:0.22379\n",
      "[400]\ttrain-logloss:0.21317\tvalid-logloss:0.22171\n",
      "[500]\ttrain-logloss:0.21022\tvalid-logloss:0.22058\n",
      "[600]\ttrain-logloss:0.20768\tvalid-logloss:0.21979\n",
      "[700]\ttrain-logloss:0.20538\tvalid-logloss:0.21925\n",
      "[800]\ttrain-logloss:0.20331\tvalid-logloss:0.21875\n",
      "[900]\ttrain-logloss:0.20138\tvalid-logloss:0.21846\n",
      "[1000]\ttrain-logloss:0.19952\tvalid-logloss:0.21825\n",
      "[1100]\ttrain-logloss:0.19769\tvalid-logloss:0.21802\n",
      "[1200]\ttrain-logloss:0.19600\tvalid-logloss:0.21788\n",
      "[1300]\ttrain-logloss:0.19434\tvalid-logloss:0.21774\n",
      "[1400]\ttrain-logloss:0.19273\tvalid-logloss:0.21761\n",
      "[1500]\ttrain-logloss:0.19112\tvalid-logloss:0.21750\n",
      "[1600]\ttrain-logloss:0.18958\tvalid-logloss:0.21747\n",
      "[1700]\ttrain-logloss:0.18806\tvalid-logloss:0.21749\n",
      "[1717]\ttrain-logloss:0.18779\tvalid-logloss:0.21746\n",
      "Kaggle Metric = 0.7932992836735668 \n",
      "\n",
      "#########################\n",
      "### Fold 2\n",
      "### Train size 367130 Valid size 91783\n",
      "### Training with 100% fold data...\n",
      "#########################\n",
      "[0]\ttrain-logloss:0.66289\tvalid-logloss:0.66278\n",
      "[100]\ttrain-logloss:0.23774\tvalid-logloss:0.23847\n",
      "[200]\ttrain-logloss:0.22342\tvalid-logloss:0.22604\n",
      "[300]\ttrain-logloss:0.21745\tvalid-logloss:0.22214\n",
      "[400]\ttrain-logloss:0.21359\tvalid-logloss:0.22022\n",
      "[500]\ttrain-logloss:0.21071\tvalid-logloss:0.21910\n",
      "[600]\ttrain-logloss:0.20807\tvalid-logloss:0.21822\n",
      "[700]\ttrain-logloss:0.20586\tvalid-logloss:0.21774\n",
      "[800]\ttrain-logloss:0.20379\tvalid-logloss:0.21735\n",
      "[900]\ttrain-logloss:0.20186\tvalid-logloss:0.21706\n",
      "[1000]\ttrain-logloss:0.20001\tvalid-logloss:0.21679\n",
      "[1100]\ttrain-logloss:0.19821\tvalid-logloss:0.21658\n",
      "[1200]\ttrain-logloss:0.19652\tvalid-logloss:0.21646\n",
      "[1300]\ttrain-logloss:0.19486\tvalid-logloss:0.21629\n",
      "[1400]\ttrain-logloss:0.19325\tvalid-logloss:0.21623\n",
      "[1500]\ttrain-logloss:0.19166\tvalid-logloss:0.21612\n",
      "[1600]\ttrain-logloss:0.19016\tvalid-logloss:0.21606\n",
      "[1700]\ttrain-logloss:0.18862\tvalid-logloss:0.21604\n",
      "[1800]\ttrain-logloss:0.18714\tvalid-logloss:0.21598\n",
      "[1894]\ttrain-logloss:0.18570\tvalid-logloss:0.21601\n",
      "Kaggle Metric = 0.7947176391342214 \n",
      "\n",
      "#########################\n",
      "### Fold 3\n",
      "### Train size 367130 Valid size 91783\n",
      "### Training with 100% fold data...\n",
      "#########################\n",
      "[0]\ttrain-logloss:0.66279\tvalid-logloss:0.66292\n",
      "[100]\ttrain-logloss:0.23714\tvalid-logloss:0.24110\n",
      "[200]\ttrain-logloss:0.22284\tvalid-logloss:0.22916\n",
      "[300]\ttrain-logloss:0.21676\tvalid-logloss:0.22497\n",
      "[400]\ttrain-logloss:0.21294\tvalid-logloss:0.22298\n",
      "[500]\ttrain-logloss:0.20990\tvalid-logloss:0.22174\n",
      "[600]\ttrain-logloss:0.20738\tvalid-logloss:0.22108\n",
      "[700]\ttrain-logloss:0.20510\tvalid-logloss:0.22046\n",
      "[800]\ttrain-logloss:0.20301\tvalid-logloss:0.22010\n",
      "[900]\ttrain-logloss:0.20106\tvalid-logloss:0.21982\n",
      "[1000]\ttrain-logloss:0.19916\tvalid-logloss:0.21960\n",
      "[1100]\ttrain-logloss:0.19734\tvalid-logloss:0.21941\n",
      "[1200]\ttrain-logloss:0.19561\tvalid-logloss:0.21926\n",
      "[1300]\ttrain-logloss:0.19399\tvalid-logloss:0.21909\n",
      "[1400]\ttrain-logloss:0.19236\tvalid-logloss:0.21903\n",
      "[1500]\ttrain-logloss:0.19079\tvalid-logloss:0.21899\n",
      "[1600]\ttrain-logloss:0.18919\tvalid-logloss:0.21891\n",
      "[1700]\ttrain-logloss:0.18770\tvalid-logloss:0.21886\n",
      "[1800]\ttrain-logloss:0.18620\tvalid-logloss:0.21882\n",
      "[1898]\ttrain-logloss:0.18480\tvalid-logloss:0.21886\n",
      "Kaggle Metric = 0.7909766325126324 \n",
      "\n",
      "#########################\n",
      "### Fold 4\n",
      "### Train size 367131 Valid size 91782\n",
      "### Training with 100% fold data...\n",
      "#########################\n",
      "[0]\ttrain-logloss:0.66279\tvalid-logloss:0.66297\n",
      "[100]\ttrain-logloss:0.23697\tvalid-logloss:0.24136\n",
      "[200]\ttrain-logloss:0.22271\tvalid-logloss:0.22929\n",
      "[300]\ttrain-logloss:0.21670\tvalid-logloss:0.22541\n",
      "[400]\ttrain-logloss:0.21286\tvalid-logloss:0.22353\n",
      "[500]\ttrain-logloss:0.20987\tvalid-logloss:0.22241\n",
      "[600]\ttrain-logloss:0.20730\tvalid-logloss:0.22162\n",
      "[700]\ttrain-logloss:0.20506\tvalid-logloss:0.22110\n",
      "[800]\ttrain-logloss:0.20297\tvalid-logloss:0.22073\n",
      "[900]\ttrain-logloss:0.20102\tvalid-logloss:0.22046\n",
      "[1000]\ttrain-logloss:0.19913\tvalid-logloss:0.22024\n",
      "[1100]\ttrain-logloss:0.19733\tvalid-logloss:0.22009\n",
      "[1200]\ttrain-logloss:0.19558\tvalid-logloss:0.22004\n",
      "[1300]\ttrain-logloss:0.19386\tvalid-logloss:0.21994\n",
      "[1400]\ttrain-logloss:0.19222\tvalid-logloss:0.21986\n",
      "[1500]\ttrain-logloss:0.19062\tvalid-logloss:0.21978\n",
      "[1600]\ttrain-logloss:0.18909\tvalid-logloss:0.21977\n",
      "[1700]\ttrain-logloss:0.18752\tvalid-logloss:0.21971\n",
      "[1800]\ttrain-logloss:0.18604\tvalid-logloss:0.21967\n",
      "[1893]\ttrain-logloss:0.18473\tvalid-logloss:0.21976\n",
      "Kaggle Metric = 0.787507950412243 \n",
      "\n",
      "#########################\n",
      "### Fold 5\n",
      "### Train size 367131 Valid size 91782\n",
      "### Training with 100% fold data...\n",
      "#########################\n",
      "[0]\ttrain-logloss:0.66284\tvalid-logloss:0.66279\n",
      "[100]\ttrain-logloss:0.23807\tvalid-logloss:0.23846\n",
      "[200]\ttrain-logloss:0.22371\tvalid-logloss:0.22605\n",
      "[300]\ttrain-logloss:0.21776\tvalid-logloss:0.22188\n",
      "[400]\ttrain-logloss:0.21393\tvalid-logloss:0.21987\n",
      "[500]\ttrain-logloss:0.21096\tvalid-logloss:0.21869\n",
      "[600]\ttrain-logloss:0.20842\tvalid-logloss:0.21790\n",
      "[700]\ttrain-logloss:0.20617\tvalid-logloss:0.21729\n",
      "[800]\ttrain-logloss:0.20397\tvalid-logloss:0.21684\n",
      "[900]\ttrain-logloss:0.20204\tvalid-logloss:0.21651\n",
      "[1000]\ttrain-logloss:0.20017\tvalid-logloss:0.21631\n",
      "[1100]\ttrain-logloss:0.19840\tvalid-logloss:0.21611\n",
      "[1200]\ttrain-logloss:0.19662\tvalid-logloss:0.21599\n",
      "[1300]\ttrain-logloss:0.19493\tvalid-logloss:0.21590\n",
      "[1400]\ttrain-logloss:0.19330\tvalid-logloss:0.21584\n",
      "[1500]\ttrain-logloss:0.19172\tvalid-logloss:0.21576\n",
      "[1600]\ttrain-logloss:0.19014\tvalid-logloss:0.21565\n",
      "[1700]\ttrain-logloss:0.18865\tvalid-logloss:0.21567\n",
      "[1734]\ttrain-logloss:0.18813\tvalid-logloss:0.21567\n",
      "Kaggle Metric = 0.7952793432041321 \n",
      "\n",
      "#########################\n",
      "OVERALL CV Kaggle Metric = 0.7922902962108194\n"
     ]
    }
   ],
   "source": [
    "importances = []\n",
    "oof = []\n",
    "train = train.to_pandas() # free GPU memory\n",
    "TRAIN_SUBSAMPLE = 1.0\n",
    "gc.collect()\n",
    "\n",
    "skf = KFold(n_splits=FOLDS, shuffle=True, random_state=SEED)\n",
    "for fold,(train_idx, valid_idx) in enumerate(skf.split(\n",
    "            train, train.target )):\n",
    "    \n",
    "    # TRAIN WITH SUBSAMPLE OF TRAIN FOLD DATA\n",
    "    if TRAIN_SUBSAMPLE<1.0:\n",
    "        np.random.seed(SEED)\n",
    "        train_idx = np.random.choice(train_idx, \n",
    "                       int(len(train_idx)*TRAIN_SUBSAMPLE), replace=False)\n",
    "        np.random.seed(None)\n",
    "    \n",
    "    print('#'*25)\n",
    "    print('### Fold',fold+1)\n",
    "    print('### Train size',len(train_idx),'Valid size',len(valid_idx))\n",
    "    print(f'### Training with {int(TRAIN_SUBSAMPLE*100)}% fold data...')\n",
    "    print('#'*25)\n",
    "    \n",
    "    # TRAIN, VALID, TEST FOR FOLD K\n",
    "    Xy_train = IterLoadForDMatrix(train.loc[train_idx], FEATURES, 'target')\n",
    "    X_valid = train.loc[valid_idx, FEATURES]\n",
    "    y_valid = train.loc[valid_idx, 'target']\n",
    "    \n",
    "    dtrain = xgb.DeviceQuantileDMatrix(Xy_train, max_bin=256)\n",
    "    dvalid = xgb.DMatrix(data=X_valid, label=y_valid)\n",
    "    \n",
    "    # TRAIN MODEL FOLD K\n",
    "    model = xgb.train(xgb_parms, \n",
    "                dtrain=dtrain,\n",
    "                evals=[(dtrain,'train'),(dvalid,'valid')],\n",
    "                num_boost_round=9999,\n",
    "                early_stopping_rounds=100,\n",
    "                verbose_eval=100) \n",
    "    model.save_model(f'XGB_v{VER}_fold{fold}.xgb')\n",
    "    \n",
    "    # GET FEATURE IMPORTANCE FOR FOLD K\n",
    "    dd = model.get_score(importance_type='weight')\n",
    "    df = pd.DataFrame({'feature':dd.keys(),f'importance_{fold}':dd.values()})\n",
    "    importances.append(df)\n",
    "            \n",
    "    # INFER OOF FOLD K\n",
    "    oof_preds = model.predict(dvalid)\n",
    "    acc = amex_metric_mod(y_valid.values, oof_preds)\n",
    "    print('Kaggle Metric =',acc,'\\n')\n",
    "    \n",
    "    # SAVE OOF\n",
    "    df = train.loc[valid_idx, ['customer_ID','target'] ].copy()\n",
    "    df['oof_pred'] = oof_preds\n",
    "    oof.append( df )\n",
    "    \n",
    "    del dtrain, Xy_train, dd, df\n",
    "    del X_valid, y_valid, dvalid, model\n",
    "    _ = gc.collect()\n",
    "    \n",
    "print('#'*25)\n",
    "oof = pd.concat(oof,axis=0,ignore_index=True).set_index('customer_ID')\n",
    "acc = amex_metric_mod(oof.target.values, oof.oof_pred.values)\n",
    "print('OVERALL CV Kaggle Metric =',acc)"
   ]
  },
  {
   "cell_type": "code",
   "execution_count": 11,
   "id": "55b736fd",
   "metadata": {
    "execution": {
     "iopub.execute_input": "2022-07-31T12:03:42.716368Z",
     "iopub.status.busy": "2022-07-31T12:03:42.715628Z",
     "iopub.status.idle": "2022-07-31T12:03:42.849000Z",
     "shell.execute_reply": "2022-07-31T12:03:42.848220Z"
    },
    "papermill": {
     "duration": 0.15281,
     "end_time": "2022-07-31T12:03:42.851116",
     "exception": false,
     "start_time": "2022-07-31T12:03:42.698306",
     "status": "completed"
    },
    "tags": []
   },
   "outputs": [],
   "source": [
    "# CLEAN RAM\n",
    "del train\n",
    "_ = gc.collect()"
   ]
  },
  {
   "cell_type": "markdown",
   "id": "d84b7075",
   "metadata": {
    "papermill": {
     "duration": 0.016164,
     "end_time": "2022-07-31T12:03:42.883977",
     "exception": false,
     "start_time": "2022-07-31T12:03:42.867813",
     "status": "completed"
    },
    "tags": []
   },
   "source": [
    "# Save OOF Preds"
   ]
  },
  {
   "cell_type": "code",
   "execution_count": 12,
   "id": "031efff5",
   "metadata": {
    "execution": {
     "iopub.execute_input": "2022-07-31T12:03:42.918222Z",
     "iopub.status.busy": "2022-07-31T12:03:42.917492Z",
     "iopub.status.idle": "2022-07-31T12:03:48.522367Z",
     "shell.execute_reply": "2022-07-31T12:03:48.519881Z"
    },
    "papermill": {
     "duration": 5.62518,
     "end_time": "2022-07-31T12:03:48.525436",
     "exception": false,
     "start_time": "2022-07-31T12:03:42.900256",
     "status": "completed"
    },
    "tags": []
   },
   "outputs": [
    {
     "data": {
      "text/html": [
       "<div>\n",
       "<style scoped>\n",
       "    .dataframe tbody tr th:only-of-type {\n",
       "        vertical-align: middle;\n",
       "    }\n",
       "\n",
       "    .dataframe tbody tr th {\n",
       "        vertical-align: top;\n",
       "    }\n",
       "\n",
       "    .dataframe thead th {\n",
       "        text-align: right;\n",
       "    }\n",
       "</style>\n",
       "<table border=\"1\" class=\"dataframe\">\n",
       "  <thead>\n",
       "    <tr style=\"text-align: right;\">\n",
       "      <th></th>\n",
       "      <th>customer_ID</th>\n",
       "      <th>target</th>\n",
       "      <th>oof_pred</th>\n",
       "    </tr>\n",
       "  </thead>\n",
       "  <tbody>\n",
       "    <tr>\n",
       "      <th>0</th>\n",
       "      <td>20eac26171c3d251c55fc78204e59fab1c15fc2bc96d0c...</td>\n",
       "      <td>1</td>\n",
       "      <td>0.680890</td>\n",
       "    </tr>\n",
       "    <tr>\n",
       "      <th>1</th>\n",
       "      <td>aea50fdf9b974ccec95fa177c3225a0f913483b457de6e...</td>\n",
       "      <td>0</td>\n",
       "      <td>0.000201</td>\n",
       "    </tr>\n",
       "    <tr>\n",
       "      <th>2</th>\n",
       "      <td>32cd2d41aef737b69089882754395925c96eaee1f4a859...</td>\n",
       "      <td>0</td>\n",
       "      <td>0.002101</td>\n",
       "    </tr>\n",
       "    <tr>\n",
       "      <th>3</th>\n",
       "      <td>8daa6d5dc2655a8a437531e6b8b96829113cdfe9bf6cae...</td>\n",
       "      <td>0</td>\n",
       "      <td>0.017406</td>\n",
       "    </tr>\n",
       "    <tr>\n",
       "      <th>4</th>\n",
       "      <td>0ceba351a3851202542feb49d7385bcef32f6037fc57c7...</td>\n",
       "      <td>1</td>\n",
       "      <td>0.867624</td>\n",
       "    </tr>\n",
       "  </tbody>\n",
       "</table>\n",
       "</div>"
      ],
      "text/plain": [
       "                                         customer_ID  target  oof_pred\n",
       "0  20eac26171c3d251c55fc78204e59fab1c15fc2bc96d0c...       1  0.680890\n",
       "1  aea50fdf9b974ccec95fa177c3225a0f913483b457de6e...       0  0.000201\n",
       "2  32cd2d41aef737b69089882754395925c96eaee1f4a859...       0  0.002101\n",
       "3  8daa6d5dc2655a8a437531e6b8b96829113cdfe9bf6cae...       0  0.017406\n",
       "4  0ceba351a3851202542feb49d7385bcef32f6037fc57c7...       1  0.867624"
      ]
     },
     "execution_count": 12,
     "metadata": {},
     "output_type": "execute_result"
    }
   ],
   "source": [
    "oof_xgb = pd.read_parquet(TRAIN_PATH, columns=['customer_ID']).drop_duplicates()\n",
    "oof_xgb['customer_ID_hash'] = oof_xgb['customer_ID'].apply(lambda x: int(x[-16:],16) ).astype('int64')\n",
    "oof_xgb = oof_xgb.set_index('customer_ID_hash')\n",
    "oof_xgb = oof_xgb.merge(oof, left_index=True, right_index=True)\n",
    "oof_xgb = oof_xgb.sort_index().reset_index(drop=True)\n",
    "oof_xgb.to_csv(f'oof_xgb_v{VER}.csv',index=False)\n",
    "oof_xgb.head()"
   ]
  },
  {
   "cell_type": "code",
   "execution_count": 13,
   "id": "9772fd4b",
   "metadata": {
    "execution": {
     "iopub.execute_input": "2022-07-31T12:03:48.576784Z",
     "iopub.status.busy": "2022-07-31T12:03:48.576320Z",
     "iopub.status.idle": "2022-07-31T12:03:49.012650Z",
     "shell.execute_reply": "2022-07-31T12:03:49.011891Z"
    },
    "papermill": {
     "duration": 0.463872,
     "end_time": "2022-07-31T12:03:49.014856",
     "exception": false,
     "start_time": "2022-07-31T12:03:48.550984",
     "status": "completed"
    },
    "tags": []
   },
   "outputs": [
    {
     "data": {
      "image/png": "[encoded data removed]",
      "text/plain": [
       "<Figure size 432x288 with 1 Axes>"
      ]
     },
     "metadata": {
      "needs_background": "light"
     },
     "output_type": "display_data"
    }
   ],
   "source": [
    "# PLOT OOF PREDICTIONS\n",
    "plt.hist(oof_xgb.oof_pred.values, bins=100)\n",
    "plt.title('OOF Predictions')\n",
    "plt.show()"
   ]
  },
  {
   "cell_type": "code",
   "execution_count": 14,
   "id": "8a0a4f04",
   "metadata": {
    "execution": {
     "iopub.execute_input": "2022-07-31T12:03:49.050779Z",
     "iopub.status.busy": "2022-07-31T12:03:49.050479Z",
     "iopub.status.idle": "2022-07-31T12:03:49.187751Z",
     "shell.execute_reply": "2022-07-31T12:03:49.186904Z"
    },
    "papermill": {
     "duration": 0.157334,
     "end_time": "2022-07-31T12:03:49.189820",
     "exception": false,
     "start_time": "2022-07-31T12:03:49.032486",
     "status": "completed"
    },
    "tags": []
   },
   "outputs": [],
   "source": [
    "# CLEAR VRAM, RAM FOR INFERENCE BELOW\n",
    "del oof_xgb, oof\n",
    "_ = gc.collect()"
   ]
  },
  {
   "cell_type": "markdown",
   "id": "7629507d",
   "metadata": {
    "papermill": {
     "duration": 0.017261,
     "end_time": "2022-07-31T12:03:49.224532",
     "exception": false,
     "start_time": "2022-07-31T12:03:49.207271",
     "status": "completed"
    },
    "tags": []
   },
   "source": [
    "# Feature Importance"
   ]
  },
  {
   "cell_type": "code",
   "execution_count": 15,
   "id": "336732fd",
   "metadata": {
    "execution": {
     "iopub.execute_input": "2022-07-31T12:03:49.258836Z",
     "iopub.status.busy": "2022-07-31T12:03:49.258541Z",
     "iopub.status.idle": "2022-07-31T12:03:49.282268Z",
     "shell.execute_reply": "2022-07-31T12:03:49.281585Z"
    },
    "papermill": {
     "duration": 0.043185,
     "end_time": "2022-07-31T12:03:49.284342",
     "exception": false,
     "start_time": "2022-07-31T12:03:49.241157",
     "status": "completed"
    },
    "tags": []
   },
   "outputs": [],
   "source": [
    "import matplotlib.pyplot as plt\n",
    "\n",
    "df = importances[0].copy()\n",
    "for k in range(1,FOLDS): df = df.merge(importances[k], on='feature', how='left')\n",
    "df['importance'] = df.iloc[:,1:].mean(axis=1)\n",
    "df = df.sort_values('importance',ascending=False)\n",
    "df.to_csv(f'xgb_feature_importance_v{VER}.csv',index=False)"
   ]
  },
  {
   "cell_type": "code",
   "execution_count": 16,
   "id": "4e0f8129",
   "metadata": {
    "execution": {
     "iopub.execute_input": "2022-07-31T12:03:49.319558Z",
     "iopub.status.busy": "2022-07-31T12:03:49.318971Z",
     "iopub.status.idle": "2022-07-31T12:03:49.596452Z",
     "shell.execute_reply": "2022-07-31T12:03:49.595627Z"
    },
    "papermill": {
     "duration": 0.297083,
     "end_time": "2022-07-31T12:03:49.598504",
     "exception": false,
     "start_time": "2022-07-31T12:03:49.301421",
     "status": "completed"
    },
    "tags": []
   },
   "outputs": [
    {
     "data": {
      "image/png": "[encoded data removed]",
      "text/plain": [
       "<Figure size 720x720 with 1 Axes>"
      ]
     },
     "metadata": {
      "needs_background": "light"
     },
     "output_type": "display_data"
    }
   ],
   "source": [
    "NUM_FEATURES = 20\n",
    "plt.figure(figsize=(10,5*NUM_FEATURES//10))\n",
    "plt.barh(np.arange(NUM_FEATURES,0,-1), df.importance.values[:NUM_FEATURES])\n",
    "plt.yticks(np.arange(NUM_FEATURES,0,-1), df.feature.values[:NUM_FEATURES])\n",
    "plt.title(f'XGB Feature Importance - Top {NUM_FEATURES}')\n",
    "plt.show()"
   ]
  },
  {
   "cell_type": "markdown",
   "id": "dd70a172",
   "metadata": {
    "papermill": {
     "duration": 0.017253,
     "end_time": "2022-07-31T12:03:49.633365",
     "exception": false,
     "start_time": "2022-07-31T12:03:49.616112",
     "status": "completed"
    },
    "tags": []
   },
   "source": [
    "# Process and Feature Engineer Test Data\n",
    "We will load @raddar Kaggle dataset from [here][1] with discussion [here][2]. Then we will engineer features suggested by @huseyincot in his notebooks [here][1] and [here][4]. We will use [RAPIDS][5] and the GPU to create new features quickly.\n",
    "\n",
    "[1]: https://www.kaggle.com/datasets/raddar/amex-data-integer-dtypes-parquet-format\n",
    "[2]: https://www.kaggle.com/competitions/amex-default-prediction/discussion/328514\n",
    "[3]: https://www.kaggle.com/code/huseyincot/amex-catboost-0-793\n",
    "[4]: https://www.kaggle.com/code/huseyincot/amex-agg-data-how-it-created\n",
    "[5]: https://rapids.ai/"
   ]
  },
  {
   "cell_type": "code",
   "execution_count": 17,
   "id": "ac6e22de",
   "metadata": {
    "execution": {
     "iopub.execute_input": "2022-07-31T12:03:49.669763Z",
     "iopub.status.busy": "2022-07-31T12:03:49.668901Z",
     "iopub.status.idle": "2022-07-31T12:03:51.983900Z",
     "shell.execute_reply": "2022-07-31T12:03:51.982986Z"
    },
    "papermill": {
     "duration": 2.335877,
     "end_time": "2022-07-31T12:03:51.986489",
     "exception": false,
     "start_time": "2022-07-31T12:03:49.650612",
     "status": "completed"
    },
    "tags": []
   },
   "outputs": [
    {
     "name": "stdout",
     "output_type": "stream",
     "text": [
      "Reading test data...\n",
      "shape of data: (11363762, 2)\n",
      "We will process test data as 4 separate parts.\n",
      "There will be 231155 customers in each part (except the last part).\n",
      "Below are number of rows in each part:\n",
      "[2841209, 2839857, 2842105, 2840591]\n"
     ]
    }
   ],
   "source": [
    "# CALCULATE SIZE OF EACH SEPARATE TEST PART\n",
    "def get_rows(customers, test, NUM_PARTS = 4, verbose = ''):\n",
    "    chunk = len(customers)//NUM_PARTS\n",
    "    if verbose != '':\n",
    "        print(f'We will process {verbose} data as {NUM_PARTS} separate parts.')\n",
    "        print(f'There will be {chunk} customers in each part (except the last part).')\n",
    "        print('Below are number of rows in each part:')\n",
    "    rows = []\n",
    "\n",
    "    for k in range(NUM_PARTS):\n",
    "        if k==NUM_PARTS-1: cc = customers[k*chunk:]\n",
    "        else: cc = customers[k*chunk:(k+1)*chunk]\n",
    "        s = test.loc[test.customer_ID.isin(cc)].shape[0]\n",
    "        rows.append(s)\n",
    "    if verbose != '': print( rows )\n",
    "    return rows,chunk\n",
    "\n",
    "# COMPUTE SIZE OF 4 PARTS FOR TEST DATA\n",
    "NUM_PARTS = 4\n",
    "TEST_PATH = '../input/amex-data-integer-dtypes-parquet-format/test.parquet'\n",
    "\n",
    "print(f'Reading test data...')\n",
    "test = read_file(path = TEST_PATH, usecols = ['customer_ID','S_2'])\n",
    "customers = test[['customer_ID']].drop_duplicates().sort_index().values.flatten()\n",
    "rows,num_cust = get_rows(customers, test[['customer_ID']], NUM_PARTS = NUM_PARTS, verbose = 'test')"
   ]
  },
  {
   "cell_type": "markdown",
   "id": "d2b61132",
   "metadata": {
    "papermill": {
     "duration": 0.017276,
     "end_time": "2022-07-31T12:03:52.022973",
     "exception": false,
     "start_time": "2022-07-31T12:03:52.005697",
     "status": "completed"
    },
    "tags": []
   },
   "source": [
    "# Infer Test"
   ]
  },
  {
   "cell_type": "code",
   "execution_count": 18,
   "id": "7d958a2f",
   "metadata": {
    "execution": {
     "iopub.execute_input": "2022-07-31T12:03:52.060075Z",
     "iopub.status.busy": "2022-07-31T12:03:52.059415Z",
     "iopub.status.idle": "2022-07-31T12:06:10.669681Z",
     "shell.execute_reply": "2022-07-31T12:06:10.668813Z"
    },
    "papermill": {
     "duration": 138.631261,
     "end_time": "2022-07-31T12:06:10.672205",
     "exception": false,
     "start_time": "2022-07-31T12:03:52.040944",
     "status": "completed"
    },
    "tags": []
   },
   "outputs": [
    {
     "name": "stdout",
     "output_type": "stream",
     "text": [
      "\n",
      "Reading test data...\n",
      "shape of data: (11363762, 190)\n",
      "=> Test part 1 has shape (2841209, 190)\n",
      "shape after engineering (231155, 250)\n",
      "\n",
      "Reading test data...\n",
      "shape of data: (11363762, 190)\n",
      "=> Test part 2 has shape (2839857, 190)\n",
      "shape after engineering (231155, 250)\n",
      "\n",
      "Reading test data...\n",
      "shape of data: (11363762, 190)\n",
      "=> Test part 3 has shape (2842105, 190)\n",
      "shape after engineering (231155, 250)\n",
      "\n",
      "Reading test data...\n",
      "shape of data: (11363762, 190)\n",
      "=> Test part 4 has shape (2840591, 190)\n",
      "shape after engineering (231156, 250)\n"
     ]
    }
   ],
   "source": [
    "# INFER TEST DATA IN PARTS\n",
    "skip_rows = 0\n",
    "skip_cust = 0\n",
    "test_preds = []\n",
    "\n",
    "for k in range(NUM_PARTS):\n",
    "    \n",
    "    # READ PART OF TEST DATA\n",
    "    print(f'\\nReading test data...')\n",
    "    test = read_file(path = TEST_PATH)\n",
    "    test = test.iloc[skip_rows:skip_rows+rows[k]]\n",
    "    skip_rows += rows[k]\n",
    "    print(f'=> Test part {k+1} has shape', test.shape )\n",
    "    \n",
    "    # PROCESS AND FEATURE ENGINEER PART OF TEST DATA\n",
    "    test = process_and_feature_engineer(test)\n",
    "    if k==NUM_PARTS-1: test = test.loc[customers[skip_cust:]]\n",
    "    else: test = test.loc[customers[skip_cust:skip_cust+num_cust]]\n",
    "    skip_cust += num_cust\n",
    "    \n",
    "    # TEST DATA FOR XGB\n",
    "    X_test = test[FEATURES]\n",
    "    dtest = xgb.DMatrix(data=X_test)\n",
    "    test = test[['P_2_mean']] # reduce memory\n",
    "    del X_test\n",
    "    gc.collect()\n",
    "\n",
    "    # INFER XGB MODELS ON TEST DATA\n",
    "    model = xgb.Booster()\n",
    "    model.load_model(f'XGB_v{VER}_fold0.xgb')\n",
    "    preds = model.predict(dtest)\n",
    "    for f in range(1,FOLDS):\n",
    "#         11) \n",
    "        model.load_model(f'XGB_v{VER}_fold{f}.xgb')\n",
    "        preds += model.predict(dtest)\n",
    "    preds /= FOLDS\n",
    "    test_preds.append(preds)\n",
    "\n",
    "    # CLEAN MEMORY\n",
    "    del dtest, model\n",
    "    _ = gc.collect()"
   ]
  },
  {
   "cell_type": "markdown",
   "id": "bc307ff2",
   "metadata": {
    "papermill": {
     "duration": 0.018805,
     "end_time": "2022-07-31T12:06:10.710125",
     "exception": false,
     "start_time": "2022-07-31T12:06:10.691320",
     "status": "completed"
    },
    "tags": []
   },
   "source": [
    "# Create Submission CSV"
   ]
  },
  {
   "cell_type": "code",
   "execution_count": 19,
   "id": "243cf003",
   "metadata": {
    "execution": {
     "iopub.execute_input": "2022-07-31T12:06:10.748940Z",
     "iopub.status.busy": "2022-07-31T12:06:10.748583Z",
     "iopub.status.idle": "2022-07-31T12:06:11.721265Z",
     "shell.execute_reply": "2022-07-31T12:06:11.720334Z"
    },
    "papermill": {
     "duration": 0.994523,
     "end_time": "2022-07-31T12:06:11.723729",
     "exception": false,
     "start_time": "2022-07-31T12:06:10.729206",
     "status": "completed"
    },
    "tags": []
   },
   "outputs": [
    {
     "name": "stdout",
     "output_type": "stream",
     "text": [
      "Submission file shape is (924621, 2)\n"
     ]
    },
    {
     "data": {
      "text/html": [
       "<div>\n",
       "<style scoped>\n",
       "    .dataframe tbody tr th:only-of-type {\n",
       "        vertical-align: middle;\n",
       "    }\n",
       "\n",
       "    .dataframe tbody tr th {\n",
       "        vertical-align: top;\n",
       "    }\n",
       "\n",
       "    .dataframe thead th {\n",
       "        text-align: right;\n",
       "    }\n",
       "</style>\n",
       "<table border=\"1\" class=\"dataframe\">\n",
       "  <thead>\n",
       "    <tr style=\"text-align: right;\">\n",
       "      <th></th>\n",
       "      <th>customer_ID</th>\n",
       "      <th>prediction</th>\n",
       "    </tr>\n",
       "  </thead>\n",
       "  <tbody>\n",
       "    <tr>\n",
       "      <th>0</th>\n",
       "      <td>03999d5e3bd61a69504cc6e7025c260c1ed2e5b449dba5...</td>\n",
       "      <td>0.133175</td>\n",
       "    </tr>\n",
       "    <tr>\n",
       "      <th>1</th>\n",
       "      <td>039b4f21aa584fb0c3c7055beabc098af55013f9f25515...</td>\n",
       "      <td>0.004638</td>\n",
       "    </tr>\n",
       "    <tr>\n",
       "      <th>2</th>\n",
       "      <td>039a6aea85575ebd33eec75e5c45bc7973481b81a99b62...</td>\n",
       "      <td>0.087951</td>\n",
       "    </tr>\n",
       "    <tr>\n",
       "      <th>3</th>\n",
       "      <td>039bd96164c6567580b24ba13c2b85b60f4554eb43d55b...</td>\n",
       "      <td>0.435689</td>\n",
       "    </tr>\n",
       "    <tr>\n",
       "      <th>4</th>\n",
       "      <td>0399a5a95461ced4134cd9693712fb012351cca1bde04d...</td>\n",
       "      <td>0.000105</td>\n",
       "    </tr>\n",
       "  </tbody>\n",
       "</table>\n",
       "</div>"
      ],
      "text/plain": [
       "                                         customer_ID  prediction\n",
       "0  03999d5e3bd61a69504cc6e7025c260c1ed2e5b449dba5...    0.133175\n",
       "1  039b4f21aa584fb0c3c7055beabc098af55013f9f25515...    0.004638\n",
       "2  039a6aea85575ebd33eec75e5c45bc7973481b81a99b62...    0.087951\n",
       "3  039bd96164c6567580b24ba13c2b85b60f4554eb43d55b...    0.435689\n",
       "4  0399a5a95461ced4134cd9693712fb012351cca1bde04d...    0.000105"
      ]
     },
     "execution_count": 19,
     "metadata": {},
     "output_type": "execute_result"
    }
   ],
   "source": [
    "# WRITE SUBMISSION FILE\n",
    "test_preds = np.concatenate(test_preds)\n",
    "test = cudf.DataFrame(index=customers,data={'prediction':test_preds})\n",
    "sub = cudf.read_csv('../input/amex-default-prediction/sample_submission.csv')[['customer_ID']]\n",
    "sub['customer_ID_hash'] = sub['customer_ID'].str[-16:].str.hex_to_int().astype('int64')\n",
    "sub = sub.set_index('customer_ID_hash')\n",
    "sub = sub.merge(test[['prediction']], left_index=True, right_index=True, how='left')\n",
    "sub = sub.reset_index(drop=True)\n",
    "\n",
    "# DISPLAY PREDICTIONS\n",
    "sub.to_csv(f'submission_xgb_v{VER}.csv',index=False)\n",
    "print('Submission file shape is', sub.shape )\n",
    "sub.head()"
   ]
  },
  {
   "cell_type": "code",
   "execution_count": 20,
   "id": "1d9e0f36",
   "metadata": {
    "execution": {
     "iopub.execute_input": "2022-07-31T12:06:11.763573Z",
     "iopub.status.busy": "2022-07-31T12:06:11.762865Z",
     "iopub.status.idle": "2022-07-31T12:06:12.500339Z",
     "shell.execute_reply": "2022-07-31T12:06:12.499366Z"
    },
    "papermill": {
     "duration": 0.759295,
     "end_time": "2022-07-31T12:06:12.502485",
     "exception": false,
     "start_time": "2022-07-31T12:06:11.743190",
     "status": "completed"
    },
    "tags": []
   },
   "outputs": [
    {
     "data": {
      "image/png": "[encoded data removed]",
      "text/plain": [
       "<Figure size 432x288 with 1 Axes>"
      ]
     },
     "metadata": {
      "needs_background": "light"
     },
     "output_type": "display_data"
    }
   ],
   "source": [
    "# PLOT PREDICTIONS\n",
    "plt.hist(sub.to_pandas().prediction, bins=100)\n",
    "plt.title('Test Predictions')\n",
    "plt.show()"
   ]
  }
 ],
 "metadata": {
  "kernelspec": {
   "display_name": "Python 3",
   "language": "python",
   "name": "python3"
  },
  "language_info": {
   "codemirror_mode": {
    "name": "ipython",
    "version": 3
   },
   "file_extension": ".py",
   "mimetype": "text/x-python",
   "name": "python",
   "nbconvert_exporter": "python",
   "pygments_lexer": "ipython3",
   "version": "3.7.12"
  },
  "papermill": {
   "default_parameters": {},
   "duration": 397.263289,
   "end_time": "2022-07-31T12:06:13.844113",
   "environment_variables": {},
   "exception": null,
   "input_path": "__notebook__.ipynb",
   "output_path": "__notebook__.ipynb",
   "parameters": {},
   "start_time": "2022-07-31T11:59:36.580824",
   "version": "2.3.4"
  }
 },
 "nbformat": 4,
 "nbformat_minor": 5
}
