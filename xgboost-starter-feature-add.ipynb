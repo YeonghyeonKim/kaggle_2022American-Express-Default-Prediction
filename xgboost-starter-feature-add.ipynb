{
 "cells": [
  {
   "cell_type": "markdown",
   "id": "f83721de",
   "metadata": {
    "papermill": {
     "duration": 0.007721,
     "end_time": "2022-07-17T14:26:32.907745",
     "exception": false,
     "start_time": "2022-07-17T14:26:32.900024",
     "status": "completed"
    },
    "tags": []
   },
   "source": [
    "# XGBoost Starter - LB 0.793\n",
    "In this notebook we build and train an XGBoost model using @raddar Kaggle dataset from [here][1] with discussion [here][2]. Then we engineer features suggested by @huseyincot in his notebooks [here][3] and [here][4]. This XGB model achieves CV 0.792 LB 0.793! When training with XGB, we use a special XGB dataloader called `DeviceQuantileDMatrix` which uses a small GPU memory footprint. This allows us to engineer more additional columns and train with more rows of data. Our feature engineering is performed using [RAPIDS][5] on the GPU to create new features quickly.\n",
    "\n",
    "[1]: https://www.kaggle.com/datasets/raddar/amex-data-integer-dtypes-parquet-format\n",
    "[2]: https://www.kaggle.com/competitions/amex-default-prediction/discussion/328514\n",
    "[3]: https://www.kaggle.com/code/huseyincot/amex-catboost-0-793\n",
    "[4]: https://www.kaggle.com/code/huseyincot/amex-agg-data-how-it-created\n",
    "[5]: https://rapids.ai/"
   ]
  },
  {
   "cell_type": "markdown",
   "id": "06b5cb51",
   "metadata": {
    "papermill": {
     "duration": 0.006536,
     "end_time": "2022-07-17T14:26:32.921019",
     "exception": false,
     "start_time": "2022-07-17T14:26:32.914483",
     "status": "completed"
    },
    "tags": []
   },
   "source": [
    "Feature Engineering I done\n",
    "1. Drop B_29, https://www.kaggle.com/code/roberthatch/amex-feature-engg-gpu-or-cpu-process-in-chunks/notebook\n",
    "2. Add each customer count (how long they used) (not normalize)\n",
    "3. Don't fill NaN (with -127)\n",
    "4. remove num_features's min, std\n",
    "5. D_39에 대한 feature 추가 -> CV하락\n",
    "6. B_1과 B_2간의 연관 feature 추가; CV 0.7920\n",
    "7. B_8과 B_9간의 연관 feature 추가; CV 0.7919\n",
    "8. corr가 높은 feature중 제거\n"
   ]
  },
  {
   "cell_type": "markdown",
   "id": "a92992b1",
   "metadata": {
    "papermill": {
     "duration": 0.006271,
     "end_time": "2022-07-17T14:26:32.933780",
     "exception": false,
     "start_time": "2022-07-17T14:26:32.927509",
     "status": "completed"
    },
    "tags": []
   },
   "source": [
    "# Load Libraries"
   ]
  },
  {
   "cell_type": "code",
   "execution_count": 1,
   "id": "f7c04ec4",
   "metadata": {
    "execution": {
     "iopub.execute_input": "2022-07-17T14:26:32.949355Z",
     "iopub.status.busy": "2022-07-17T14:26:32.948570Z",
     "iopub.status.idle": "2022-07-17T14:26:37.196717Z",
     "shell.execute_reply": "2022-07-17T14:26:37.194521Z"
    },
    "papermill": {
     "duration": 4.259377,
     "end_time": "2022-07-17T14:26:37.199686",
     "exception": false,
     "start_time": "2022-07-17T14:26:32.940309",
     "status": "completed"
    },
    "tags": []
   },
   "outputs": [
    {
     "name": "stdout",
     "output_type": "stream",
     "text": [
      "RAPIDS version 21.10.01\n"
     ]
    }
   ],
   "source": [
    "# LOAD LIBRARIES\n",
    "import pandas as pd, numpy as np # CPU libraries\n",
    "import cupy, cudf # GPU libraries\n",
    "import matplotlib.pyplot as plt, gc, os\n",
    "\n",
    "print('RAPIDS version',cudf.__version__)"
   ]
  },
  {
   "cell_type": "code",
   "execution_count": 2,
   "id": "4c2625fc",
   "metadata": {
    "execution": {
     "iopub.execute_input": "2022-07-17T14:26:37.215562Z",
     "iopub.status.busy": "2022-07-17T14:26:37.215240Z",
     "iopub.status.idle": "2022-07-17T14:26:37.219239Z",
     "shell.execute_reply": "2022-07-17T14:26:37.218501Z"
    },
    "papermill": {
     "duration": 0.013774,
     "end_time": "2022-07-17T14:26:37.221200",
     "exception": false,
     "start_time": "2022-07-17T14:26:37.207426",
     "status": "completed"
    },
    "tags": []
   },
   "outputs": [],
   "source": [
    "# VERSION NAME FOR SAVED MODEL FILES\n",
    "VER = 1\n",
    "\n",
    "# TRAIN RANDOM SEED\n",
    "SEED = 42\n",
    "\n",
    "# FILL NAN VALUE\n",
    "NAN_VALUE = -127 # will fit in int8\n",
    "\n",
    "# FOLDS PER MODEL\n",
    "FOLDS = 5"
   ]
  },
  {
   "cell_type": "markdown",
   "id": "cfbe1e35",
   "metadata": {
    "papermill": {
     "duration": 0.006847,
     "end_time": "2022-07-17T14:26:37.234398",
     "exception": false,
     "start_time": "2022-07-17T14:26:37.227551",
     "status": "completed"
    },
    "tags": []
   },
   "source": [
    "# Process and Feature Engineer Train Data\n",
    "We will load @raddar Kaggle dataset from [here][1] with discussion [here][2]. Then we will engineer features suggested by @huseyincot in his notebooks [here][3] and [here][4]. We will use [RAPIDS][5] and the GPU to create new features quickly.\n",
    "\n",
    "[1]: https://www.kaggle.com/datasets/raddar/amex-data-integer-dtypes-parquet-format\n",
    "[2]: https://www.kaggle.com/competitions/amex-default-prediction/discussion/328514\n",
    "[3]: https://www.kaggle.com/code/huseyincot/amex-catboost-0-793\n",
    "[4]: https://www.kaggle.com/code/huseyincot/amex-agg-data-how-it-created\n",
    "[5]: https://rapids.ai/"
   ]
  },
  {
   "cell_type": "code",
   "execution_count": 3,
   "id": "dc86c872",
   "metadata": {
    "execution": {
     "iopub.execute_input": "2022-07-17T14:26:37.248930Z",
     "iopub.status.busy": "2022-07-17T14:26:37.248232Z",
     "iopub.status.idle": "2022-07-17T14:26:58.929607Z",
     "shell.execute_reply": "2022-07-17T14:26:58.928791Z"
    },
    "papermill": {
     "duration": 21.690546,
     "end_time": "2022-07-17T14:26:58.931551",
     "exception": false,
     "start_time": "2022-07-17T14:26:37.241005",
     "status": "completed"
    },
    "tags": []
   },
   "outputs": [
    {
     "name": "stdout",
     "output_type": "stream",
     "text": [
      "Reading train data...\n",
      "shape of data: (5531451, 190)\n"
     ]
    }
   ],
   "source": [
    "def read_file(path = '', usecols = None):\n",
    "    # LOAD DATAFRAME\n",
    "    if usecols is not None: df = cudf.read_parquet(path, columns=usecols)\n",
    "    else: df = cudf.read_parquet(path)\n",
    "    # REDUCE DTYPE FOR CUSTOMER AND DATE\n",
    "    df['customer_ID'] = df['customer_ID'].str[-16:].str.hex_to_int().astype('int64')\n",
    "    df.S_2 = cudf.to_datetime( df.S_2 )\n",
    "    # SORT BY CUSTOMER AND DATE (so agg('last') works correctly)\n",
    "    #df = df.sort_values(['customer_ID','S_2'])\n",
    "    #df = df.reset_index(drop=True)\n",
    "    # FILL NAN\n",
    "#     df = df.fillna(NAN_VALUE) \n",
    "    print('shape of data:', df.shape)\n",
    "    \n",
    "    return df\n",
    "\n",
    "print('Reading train data...')\n",
    "TRAIN_PATH = '../input/amex-data-integer-dtypes-parquet-format/train.parquet'\n",
    "train = read_file(path = TRAIN_PATH)"
   ]
  },
  {
   "cell_type": "code",
   "execution_count": 4,
   "id": "fd043672",
   "metadata": {
    "execution": {
     "iopub.execute_input": "2022-07-17T14:26:58.947156Z",
     "iopub.status.busy": "2022-07-17T14:26:58.946457Z",
     "iopub.status.idle": "2022-07-17T14:26:59.239761Z",
     "shell.execute_reply": "2022-07-17T14:26:59.238958Z"
    },
    "papermill": {
     "duration": 0.302888,
     "end_time": "2022-07-17T14:26:59.241818",
     "exception": false,
     "start_time": "2022-07-17T14:26:58.938930",
     "status": "completed"
    },
    "tags": []
   },
   "outputs": [
    {
     "data": {
      "text/html": [
       "<div>\n",
       "<style scoped>\n",
       "    .dataframe tbody tr th:only-of-type {\n",
       "        vertical-align: middle;\n",
       "    }\n",
       "\n",
       "    .dataframe tbody tr th {\n",
       "        vertical-align: top;\n",
       "    }\n",
       "\n",
       "    .dataframe thead th {\n",
       "        text-align: right;\n",
       "    }\n",
       "</style>\n",
       "<table border=\"1\" class=\"dataframe\">\n",
       "  <thead>\n",
       "    <tr style=\"text-align: right;\">\n",
       "      <th></th>\n",
       "      <th>customer_ID</th>\n",
       "      <th>S_2</th>\n",
       "      <th>P_2</th>\n",
       "      <th>D_39</th>\n",
       "      <th>B_1</th>\n",
       "      <th>B_2</th>\n",
       "      <th>R_1</th>\n",
       "      <th>S_3</th>\n",
       "      <th>D_41</th>\n",
       "      <th>B_3</th>\n",
       "      <th>...</th>\n",
       "      <th>D_136</th>\n",
       "      <th>D_137</th>\n",
       "      <th>D_138</th>\n",
       "      <th>D_139</th>\n",
       "      <th>D_140</th>\n",
       "      <th>D_141</th>\n",
       "      <th>D_142</th>\n",
       "      <th>D_143</th>\n",
       "      <th>D_144</th>\n",
       "      <th>D_145</th>\n",
       "    </tr>\n",
       "  </thead>\n",
       "  <tbody>\n",
       "    <tr>\n",
       "      <th>0</th>\n",
       "      <td>-4532153018459703766</td>\n",
       "      <td>2017-03-09</td>\n",
       "      <td>0.938469</td>\n",
       "      <td>0</td>\n",
       "      <td>0.008724</td>\n",
       "      <td>1.006838</td>\n",
       "      <td>0.009228</td>\n",
       "      <td>0.124035</td>\n",
       "      <td>0.0</td>\n",
       "      <td>0.004709</td>\n",
       "      <td>...</td>\n",
       "      <td>-1</td>\n",
       "      <td>-1</td>\n",
       "      <td>-1</td>\n",
       "      <td>0</td>\n",
       "      <td>0</td>\n",
       "      <td>0.0</td>\n",
       "      <td>&lt;NA&gt;</td>\n",
       "      <td>0</td>\n",
       "      <td>0.000610</td>\n",
       "      <td>0</td>\n",
       "    </tr>\n",
       "    <tr>\n",
       "      <th>1</th>\n",
       "      <td>-4532153018459703766</td>\n",
       "      <td>2017-04-07</td>\n",
       "      <td>0.936665</td>\n",
       "      <td>0</td>\n",
       "      <td>0.004923</td>\n",
       "      <td>1.000653</td>\n",
       "      <td>0.006151</td>\n",
       "      <td>0.126750</td>\n",
       "      <td>0.0</td>\n",
       "      <td>0.002714</td>\n",
       "      <td>...</td>\n",
       "      <td>-1</td>\n",
       "      <td>-1</td>\n",
       "      <td>-1</td>\n",
       "      <td>0</td>\n",
       "      <td>0</td>\n",
       "      <td>0.0</td>\n",
       "      <td>&lt;NA&gt;</td>\n",
       "      <td>0</td>\n",
       "      <td>0.005492</td>\n",
       "      <td>0</td>\n",
       "    </tr>\n",
       "    <tr>\n",
       "      <th>2</th>\n",
       "      <td>-4532153018459703766</td>\n",
       "      <td>2017-05-28</td>\n",
       "      <td>0.954180</td>\n",
       "      <td>3</td>\n",
       "      <td>0.021655</td>\n",
       "      <td>1.009672</td>\n",
       "      <td>0.006815</td>\n",
       "      <td>0.123977</td>\n",
       "      <td>0.0</td>\n",
       "      <td>0.009423</td>\n",
       "      <td>...</td>\n",
       "      <td>-1</td>\n",
       "      <td>-1</td>\n",
       "      <td>-1</td>\n",
       "      <td>0</td>\n",
       "      <td>0</td>\n",
       "      <td>0.0</td>\n",
       "      <td>&lt;NA&gt;</td>\n",
       "      <td>0</td>\n",
       "      <td>0.006986</td>\n",
       "      <td>0</td>\n",
       "    </tr>\n",
       "    <tr>\n",
       "      <th>3</th>\n",
       "      <td>-4532153018459703766</td>\n",
       "      <td>2017-06-13</td>\n",
       "      <td>0.960384</td>\n",
       "      <td>0</td>\n",
       "      <td>0.013683</td>\n",
       "      <td>1.002700</td>\n",
       "      <td>0.001373</td>\n",
       "      <td>0.117169</td>\n",
       "      <td>0.0</td>\n",
       "      <td>0.005531</td>\n",
       "      <td>...</td>\n",
       "      <td>-1</td>\n",
       "      <td>-1</td>\n",
       "      <td>-1</td>\n",
       "      <td>0</td>\n",
       "      <td>0</td>\n",
       "      <td>0.0</td>\n",
       "      <td>&lt;NA&gt;</td>\n",
       "      <td>0</td>\n",
       "      <td>0.006527</td>\n",
       "      <td>0</td>\n",
       "    </tr>\n",
       "    <tr>\n",
       "      <th>4</th>\n",
       "      <td>-4532153018459703766</td>\n",
       "      <td>2017-07-16</td>\n",
       "      <td>0.947248</td>\n",
       "      <td>0</td>\n",
       "      <td>0.015193</td>\n",
       "      <td>1.000727</td>\n",
       "      <td>0.007605</td>\n",
       "      <td>0.117325</td>\n",
       "      <td>0.0</td>\n",
       "      <td>0.009312</td>\n",
       "      <td>...</td>\n",
       "      <td>-1</td>\n",
       "      <td>-1</td>\n",
       "      <td>-1</td>\n",
       "      <td>0</td>\n",
       "      <td>0</td>\n",
       "      <td>0.0</td>\n",
       "      <td>&lt;NA&gt;</td>\n",
       "      <td>0</td>\n",
       "      <td>0.008126</td>\n",
       "      <td>0</td>\n",
       "    </tr>\n",
       "  </tbody>\n",
       "</table>\n",
       "<p>5 rows × 190 columns</p>\n",
       "</div>"
      ],
      "text/plain": [
       "           customer_ID        S_2       P_2  D_39       B_1       B_2  \\\n",
       "0 -4532153018459703766 2017-03-09  0.938469     0  0.008724  1.006838   \n",
       "1 -4532153018459703766 2017-04-07  0.936665     0  0.004923  1.000653   \n",
       "2 -4532153018459703766 2017-05-28  0.954180     3  0.021655  1.009672   \n",
       "3 -4532153018459703766 2017-06-13  0.960384     0  0.013683  1.002700   \n",
       "4 -4532153018459703766 2017-07-16  0.947248     0  0.015193  1.000727   \n",
       "\n",
       "        R_1       S_3  D_41       B_3  ... D_136  D_137  D_138  D_139  D_140  \\\n",
       "0  0.009228  0.124035   0.0  0.004709  ...    -1     -1     -1      0      0   \n",
       "1  0.006151  0.126750   0.0  0.002714  ...    -1     -1     -1      0      0   \n",
       "2  0.006815  0.123977   0.0  0.009423  ...    -1     -1     -1      0      0   \n",
       "3  0.001373  0.117169   0.0  0.005531  ...    -1     -1     -1      0      0   \n",
       "4  0.007605  0.117325   0.0  0.009312  ...    -1     -1     -1      0      0   \n",
       "\n",
       "   D_141  D_142 D_143     D_144  D_145  \n",
       "0    0.0   <NA>     0  0.000610      0  \n",
       "1    0.0   <NA>     0  0.005492      0  \n",
       "2    0.0   <NA>     0  0.006986      0  \n",
       "3    0.0   <NA>     0  0.006527      0  \n",
       "4    0.0   <NA>     0  0.008126      0  \n",
       "\n",
       "[5 rows x 190 columns]"
      ]
     },
     "execution_count": 4,
     "metadata": {},
     "output_type": "execute_result"
    }
   ],
   "source": [
    "train.head()"
   ]
  },
  {
   "cell_type": "code",
   "execution_count": 5,
   "id": "e4ff7ae9",
   "metadata": {
    "execution": {
     "iopub.execute_input": "2022-07-17T14:26:59.257565Z",
     "iopub.status.busy": "2022-07-17T14:26:59.257276Z",
     "iopub.status.idle": "2022-07-17T14:27:01.896259Z",
     "shell.execute_reply": "2022-07-17T14:27:01.894860Z"
    },
    "papermill": {
     "duration": 2.64942,
     "end_time": "2022-07-17T14:27:01.898725",
     "exception": false,
     "start_time": "2022-07-17T14:26:59.249305",
     "status": "completed"
    },
    "tags": []
   },
   "outputs": [
    {
     "name": "stdout",
     "output_type": "stream",
     "text": [
      "shape after engineering (458913, 538)\n"
     ]
    }
   ],
   "source": [
    "def process_and_feature_engineer(df):\n",
    "    # FEATURE ENGINEERING FROM \n",
    "    # https://www.kaggle.com/code/huseyincot/amex-agg-data-how-it-created\n",
    "    \n",
    "#     1) Drop 'B_29'\n",
    "    df.drop(['B_29'], inplace=True, axis=1)\n",
    "#     5) D_39에 대한 feature 추가\n",
    "#     df['D_39_div30'] = df['D_39']/30\n",
    "    \n",
    "#     6) B1, B2에 연관 feature추가\n",
    "    df['B_1_2'] = df['B_1']/(df['B_2']+0.0000001)\n",
    "#     df['B_1_3'] = (df['B_1']+0.0000001) * (df['B_2']+0.0000001) # 성능하락\n",
    "    \n",
    "#     7) B8, B9에 연관 feature추가\n",
    "    #df['B_8_9'] = (df['B_8']+0.0000001)*(df['B_9']+0.0000001) # 성능하락\n",
    "#     df['B_8_9'] = (df['B_8']+0.0000001)/(df['B_9']+0.0000001) # 미소한 성능하락\n",
    "#     8) Corr 높은 특징 제거\n",
    "    df.drop(['D_115', 'D_118', 'D_119'], inplace=True, axis=1)\n",
    "    df.drop(['D_134', 'D_135', 'D_136', 'D_137', 'D_138', 'D_139'], inplace=True, axis=1)\n",
    "    \n",
    "    all_cols = [c for c in list(df.columns) if c not in ['customer_ID','S_2']]\n",
    "    cat_features = [\"B_30\",\"B_38\",\"D_114\",\"D_116\",\"D_117\",\"D_120\",\"D_126\",\"D_63\",\"D_64\",\"D_66\",\"D_68\"]\n",
    "    num_features = [col for col in all_cols if col not in cat_features]\n",
    "    \n",
    "#     2) Add customer count\n",
    "    test_count_agg = df.groupby(['customer_ID'])['S_2'].agg(['count'])\n",
    "\n",
    "\n",
    "    test_num_agg = df.groupby(\"customer_ID\")[num_features].agg(['mean', 'max', 'last'])\n",
    "    test_num_agg.columns = ['_'.join(x) for x in test_num_agg.columns]\n",
    "\n",
    "    test_cat_agg = df.groupby(\"customer_ID\")[cat_features].agg(['count', 'last', 'nunique'])\n",
    "    test_cat_agg.columns = ['_'.join(x) for x in test_cat_agg.columns]\n",
    "\n",
    "    df = cudf.concat([test_count_agg,test_num_agg, test_cat_agg], axis=1)\n",
    "    del test_num_agg, test_cat_agg\n",
    "    print('shape after engineering', df.shape )\n",
    "    \n",
    "    return df\n",
    "\n",
    "train = process_and_feature_engineer(train)"
   ]
  },
  {
   "cell_type": "code",
   "execution_count": 6,
   "id": "c697961d",
   "metadata": {
    "execution": {
     "iopub.execute_input": "2022-07-17T14:27:01.914703Z",
     "iopub.status.busy": "2022-07-17T14:27:01.914426Z",
     "iopub.status.idle": "2022-07-17T14:27:02.881973Z",
     "shell.execute_reply": "2022-07-17T14:27:02.881183Z"
    },
    "papermill": {
     "duration": 0.977801,
     "end_time": "2022-07-17T14:27:02.884240",
     "exception": false,
     "start_time": "2022-07-17T14:27:01.906439",
     "status": "completed"
    },
    "tags": []
   },
   "outputs": [
    {
     "name": "stdout",
     "output_type": "stream",
     "text": [
      "There are 538 features!\n"
     ]
    }
   ],
   "source": [
    "# ADD TARGETS\n",
    "targets = cudf.read_csv('../input/amex-default-prediction/train_labels.csv')\n",
    "targets['customer_ID'] = targets['customer_ID'].str[-16:].str.hex_to_int().astype('int64')\n",
    "targets = targets.set_index('customer_ID')\n",
    "train = train.merge(targets, left_index=True, right_index=True, how='left')\n",
    "train.target = train.target.astype('int8')\n",
    "del targets\n",
    "\n",
    "# NEEDED TO MAKE CV DETERMINISTIC (cudf merge above randomly shuffles rows)\n",
    "train = train.sort_index().reset_index()\n",
    "\n",
    "# FEATURES\n",
    "FEATURES = train.columns[1:-1]\n",
    "print(f'There are {len(FEATURES)} features!')"
   ]
  },
  {
   "cell_type": "markdown",
   "id": "14cba9d8",
   "metadata": {
    "papermill": {
     "duration": 0.007001,
     "end_time": "2022-07-17T14:27:02.899271",
     "exception": false,
     "start_time": "2022-07-17T14:27:02.892270",
     "status": "completed"
    },
    "tags": []
   },
   "source": [
    "# Train XGB\n",
    "We will train using `DeviceQuantileDMatrix`. This has a very small GPU memory footprint."
   ]
  },
  {
   "cell_type": "code",
   "execution_count": 7,
   "id": "0ce4bc2f",
   "metadata": {
    "execution": {
     "iopub.execute_input": "2022-07-17T14:27:02.915292Z",
     "iopub.status.busy": "2022-07-17T14:27:02.914629Z",
     "iopub.status.idle": "2022-07-17T14:27:03.018242Z",
     "shell.execute_reply": "2022-07-17T14:27:03.017329Z"
    },
    "papermill": {
     "duration": 0.114337,
     "end_time": "2022-07-17T14:27:03.020766",
     "exception": false,
     "start_time": "2022-07-17T14:27:02.906429",
     "status": "completed"
    },
    "tags": []
   },
   "outputs": [
    {
     "name": "stdout",
     "output_type": "stream",
     "text": [
      "XGB Version 1.6.1\n"
     ]
    }
   ],
   "source": [
    "# LOAD XGB LIBRARY\n",
    "from sklearn.model_selection import KFold\n",
    "import xgboost as xgb\n",
    "print('XGB Version',xgb.__version__)\n",
    "\n",
    "# XGB MODEL PARAMETERS\n",
    "xgb_parms = { \n",
    "    'max_depth':4, \n",
    "    'learning_rate':0.05, \n",
    "    'subsample':0.8,\n",
    "    'colsample_bytree':0.6, \n",
    "    'eval_metric':'logloss',\n",
    "    'objective':'binary:logistic',\n",
    "    'tree_method':'gpu_hist',\n",
    "    'predictor':'gpu_predictor',\n",
    "    'random_state':SEED\n",
    "}"
   ]
  },
  {
   "cell_type": "code",
   "execution_count": 8,
   "id": "5e545aeb",
   "metadata": {
    "execution": {
     "iopub.execute_input": "2022-07-17T14:27:03.037865Z",
     "iopub.status.busy": "2022-07-17T14:27:03.037581Z",
     "iopub.status.idle": "2022-07-17T14:27:03.046229Z",
     "shell.execute_reply": "2022-07-17T14:27:03.045401Z"
    },
    "papermill": {
     "duration": 0.0189,
     "end_time": "2022-07-17T14:27:03.047867",
     "exception": false,
     "start_time": "2022-07-17T14:27:03.028967",
     "status": "completed"
    },
    "tags": []
   },
   "outputs": [],
   "source": [
    "# NEEDED WITH DeviceQuantileDMatrix BELOW\n",
    "class IterLoadForDMatrix(xgb.core.DataIter):\n",
    "    def __init__(self, df=None, features=None, target=None, batch_size=256*1024):\n",
    "        self.features = features\n",
    "        self.target = target\n",
    "        self.df = df\n",
    "        self.it = 0 # set iterator to 0\n",
    "        self.batch_size = batch_size\n",
    "        self.batches = int( np.ceil( len(df) / self.batch_size ) )\n",
    "        super().__init__()\n",
    "\n",
    "    def reset(self):\n",
    "        '''Reset the iterator'''\n",
    "        self.it = 0\n",
    "\n",
    "    def next(self, input_data):\n",
    "        '''Yield next batch of data.'''\n",
    "        if self.it == self.batches:\n",
    "            return 0 # Return 0 when there's no more batch.\n",
    "        \n",
    "        a = self.it * self.batch_size\n",
    "        b = min( (self.it + 1) * self.batch_size, len(self.df) )\n",
    "        dt = cudf.DataFrame(self.df.iloc[a:b])\n",
    "        input_data(data=dt[self.features], label=dt[self.target]) #, weight=dt['weight'])\n",
    "        self.it += 1\n",
    "        return 1"
   ]
  },
  {
   "cell_type": "code",
   "execution_count": 9,
   "id": "d8275f1f",
   "metadata": {
    "execution": {
     "iopub.execute_input": "2022-07-17T14:27:03.063770Z",
     "iopub.status.busy": "2022-07-17T14:27:03.063506Z",
     "iopub.status.idle": "2022-07-17T14:27:03.072543Z",
     "shell.execute_reply": "2022-07-17T14:27:03.071789Z"
    },
    "papermill": {
     "duration": 0.019449,
     "end_time": "2022-07-17T14:27:03.074446",
     "exception": false,
     "start_time": "2022-07-17T14:27:03.054997",
     "status": "completed"
    },
    "tags": []
   },
   "outputs": [],
   "source": [
    "# https://www.kaggle.com/kyakovlev\n",
    "# https://www.kaggle.com/competitions/amex-default-prediction/discussion/327534\n",
    "def amex_metric_mod(y_true, y_pred):\n",
    "\n",
    "    labels     = np.transpose(np.array([y_true, y_pred]))\n",
    "    labels     = labels[labels[:, 1].argsort()[::-1]]\n",
    "    weights    = np.where(labels[:,0]==0, 20, 1)\n",
    "    cut_vals   = labels[np.cumsum(weights) <= int(0.04 * np.sum(weights))]\n",
    "    top_four   = np.sum(cut_vals[:,0]) / np.sum(labels[:,0])\n",
    "\n",
    "    gini = [0,0]\n",
    "    for i in [1,0]:\n",
    "        labels         = np.transpose(np.array([y_true, y_pred]))\n",
    "        labels         = labels[labels[:, i].argsort()[::-1]]\n",
    "        weight         = np.where(labels[:,0]==0, 20, 1)\n",
    "        weight_random  = np.cumsum(weight / np.sum(weight))\n",
    "        total_pos      = np.sum(labels[:, 0] *  weight)\n",
    "        cum_pos_found  = np.cumsum(labels[:, 0] * weight)\n",
    "        lorentz        = cum_pos_found / total_pos\n",
    "        gini[i]        = np.sum((lorentz - weight_random) * weight)\n",
    "\n",
    "    return 0.5 * (gini[1]/gini[0] + top_four)"
   ]
  },
  {
   "cell_type": "code",
   "execution_count": 10,
   "id": "090b8c00",
   "metadata": {
    "execution": {
     "iopub.execute_input": "2022-07-17T14:27:03.090153Z",
     "iopub.status.busy": "2022-07-17T14:27:03.089855Z",
     "iopub.status.idle": "2022-07-17T14:33:12.847619Z",
     "shell.execute_reply": "2022-07-17T14:33:12.846774Z"
    },
    "papermill": {
     "duration": 369.767915,
     "end_time": "2022-07-17T14:33:12.849859",
     "exception": false,
     "start_time": "2022-07-17T14:27:03.081944",
     "status": "completed"
    },
    "scrolled": true,
    "tags": []
   },
   "outputs": [
    {
     "name": "stdout",
     "output_type": "stream",
     "text": [
      "#########################\n",
      "### Fold 1\n",
      "### Train size 367130 Valid size 91783\n",
      "### Training with 100% fold data...\n",
      "#########################\n",
      "[0]\ttrain-logloss:0.66331\tvalid-logloss:0.66331\n",
      "[100]\ttrain-logloss:0.23721\tvalid-logloss:0.23960\n",
      "[200]\ttrain-logloss:0.22281\tvalid-logloss:0.22753\n",
      "[300]\ttrain-logloss:0.21674\tvalid-logloss:0.22340\n",
      "[400]\ttrain-logloss:0.21272\tvalid-logloss:0.22126\n",
      "[500]\ttrain-logloss:0.20971\tvalid-logloss:0.22011\n",
      "[600]\ttrain-logloss:0.20715\tvalid-logloss:0.21937\n",
      "[700]\ttrain-logloss:0.20477\tvalid-logloss:0.21879\n",
      "[800]\ttrain-logloss:0.20258\tvalid-logloss:0.21835\n",
      "[900]\ttrain-logloss:0.20057\tvalid-logloss:0.21804\n",
      "[1000]\ttrain-logloss:0.19866\tvalid-logloss:0.21779\n",
      "[1100]\ttrain-logloss:0.19675\tvalid-logloss:0.21759\n",
      "[1200]\ttrain-logloss:0.19499\tvalid-logloss:0.21746\n",
      "[1300]\ttrain-logloss:0.19323\tvalid-logloss:0.21736\n",
      "[1400]\ttrain-logloss:0.19151\tvalid-logloss:0.21726\n",
      "[1500]\ttrain-logloss:0.18982\tvalid-logloss:0.21717\n",
      "[1600]\ttrain-logloss:0.18818\tvalid-logloss:0.21713\n",
      "[1700]\ttrain-logloss:0.18654\tvalid-logloss:0.21706\n",
      "[1800]\ttrain-logloss:0.18489\tvalid-logloss:0.21703\n",
      "[1900]\ttrain-logloss:0.18331\tvalid-logloss:0.21698\n",
      "[1998]\ttrain-logloss:0.18181\tvalid-logloss:0.21701\n",
      "Kaggle Metric = 0.7927439276484691 \n",
      "\n",
      "#########################\n",
      "### Fold 2\n",
      "### Train size 367130 Valid size 91783\n",
      "### Training with 100% fold data...\n",
      "#########################\n",
      "[0]\ttrain-logloss:0.66345\tvalid-logloss:0.66336\n",
      "[100]\ttrain-logloss:0.23737\tvalid-logloss:0.23802\n",
      "[200]\ttrain-logloss:0.22324\tvalid-logloss:0.22590\n",
      "[300]\ttrain-logloss:0.21719\tvalid-logloss:0.22187\n",
      "[400]\ttrain-logloss:0.21324\tvalid-logloss:0.21992\n",
      "[500]\ttrain-logloss:0.21014\tvalid-logloss:0.21879\n",
      "[600]\ttrain-logloss:0.20746\tvalid-logloss:0.21803\n",
      "[700]\ttrain-logloss:0.20512\tvalid-logloss:0.21757\n",
      "[800]\ttrain-logloss:0.20287\tvalid-logloss:0.21710\n",
      "[900]\ttrain-logloss:0.20084\tvalid-logloss:0.21681\n",
      "[1000]\ttrain-logloss:0.19891\tvalid-logloss:0.21653\n",
      "[1100]\ttrain-logloss:0.19695\tvalid-logloss:0.21632\n",
      "[1200]\ttrain-logloss:0.19519\tvalid-logloss:0.21620\n",
      "[1300]\ttrain-logloss:0.19335\tvalid-logloss:0.21611\n",
      "[1400]\ttrain-logloss:0.19161\tvalid-logloss:0.21605\n",
      "[1500]\ttrain-logloss:0.18987\tvalid-logloss:0.21600\n",
      "[1600]\ttrain-logloss:0.18817\tvalid-logloss:0.21592\n",
      "[1700]\ttrain-logloss:0.18653\tvalid-logloss:0.21593\n",
      "[1740]\ttrain-logloss:0.18589\tvalid-logloss:0.21596\n",
      "Kaggle Metric = 0.7934776066974782 \n",
      "\n",
      "#########################\n",
      "### Fold 3\n",
      "### Train size 367130 Valid size 91783\n",
      "### Training with 100% fold data...\n",
      "#########################\n",
      "[0]\ttrain-logloss:0.66333\tvalid-logloss:0.66346\n",
      "[100]\ttrain-logloss:0.23669\tvalid-logloss:0.24091\n",
      "[200]\ttrain-logloss:0.22248\tvalid-logloss:0.22914\n",
      "[300]\ttrain-logloss:0.21646\tvalid-logloss:0.22509\n",
      "[400]\ttrain-logloss:0.21250\tvalid-logloss:0.22309\n",
      "[500]\ttrain-logloss:0.20943\tvalid-logloss:0.22192\n",
      "[600]\ttrain-logloss:0.20672\tvalid-logloss:0.22114\n",
      "[700]\ttrain-logloss:0.20433\tvalid-logloss:0.22053\n",
      "[800]\ttrain-logloss:0.20218\tvalid-logloss:0.22021\n",
      "[900]\ttrain-logloss:0.20010\tvalid-logloss:0.21990\n",
      "[1000]\ttrain-logloss:0.19811\tvalid-logloss:0.21971\n",
      "[1100]\ttrain-logloss:0.19622\tvalid-logloss:0.21957\n",
      "[1200]\ttrain-logloss:0.19444\tvalid-logloss:0.21950\n",
      "[1300]\ttrain-logloss:0.19263\tvalid-logloss:0.21937\n",
      "[1400]\ttrain-logloss:0.19091\tvalid-logloss:0.21928\n",
      "[1500]\ttrain-logloss:0.18925\tvalid-logloss:0.21918\n",
      "[1600]\ttrain-logloss:0.18760\tvalid-logloss:0.21909\n",
      "[1700]\ttrain-logloss:0.18601\tvalid-logloss:0.21904\n",
      "[1800]\ttrain-logloss:0.18442\tvalid-logloss:0.21903\n",
      "[1866]\ttrain-logloss:0.18339\tvalid-logloss:0.21905\n",
      "Kaggle Metric = 0.7897976989589652 \n",
      "\n",
      "#########################\n",
      "### Fold 4\n",
      "### Train size 367131 Valid size 91782\n",
      "### Training with 100% fold data...\n",
      "#########################\n",
      "[0]\ttrain-logloss:0.66330\tvalid-logloss:0.66343\n",
      "[100]\ttrain-logloss:0.23686\tvalid-logloss:0.24142\n",
      "[200]\ttrain-logloss:0.22248\tvalid-logloss:0.22919\n",
      "[300]\ttrain-logloss:0.21646\tvalid-logloss:0.22543\n",
      "[400]\ttrain-logloss:0.21245\tvalid-logloss:0.22342\n",
      "[500]\ttrain-logloss:0.20934\tvalid-logloss:0.22234\n",
      "[600]\ttrain-logloss:0.20661\tvalid-logloss:0.22160\n",
      "[700]\ttrain-logloss:0.20420\tvalid-logloss:0.22112\n",
      "[800]\ttrain-logloss:0.20195\tvalid-logloss:0.22075\n",
      "[900]\ttrain-logloss:0.19992\tvalid-logloss:0.22047\n",
      "[1000]\ttrain-logloss:0.19791\tvalid-logloss:0.22037\n",
      "[1100]\ttrain-logloss:0.19599\tvalid-logloss:0.22018\n",
      "[1200]\ttrain-logloss:0.19417\tvalid-logloss:0.21999\n",
      "[1300]\ttrain-logloss:0.19231\tvalid-logloss:0.21990\n",
      "[1400]\ttrain-logloss:0.19058\tvalid-logloss:0.21982\n",
      "[1500]\ttrain-logloss:0.18888\tvalid-logloss:0.21976\n",
      "[1600]\ttrain-logloss:0.18729\tvalid-logloss:0.21973\n",
      "[1700]\ttrain-logloss:0.18562\tvalid-logloss:0.21965\n",
      "[1800]\ttrain-logloss:0.18402\tvalid-logloss:0.21958\n",
      "[1900]\ttrain-logloss:0.18247\tvalid-logloss:0.21960\n",
      "[1934]\ttrain-logloss:0.18195\tvalid-logloss:0.21960\n",
      "Kaggle Metric = 0.7878549748458172 \n",
      "\n",
      "#########################\n",
      "### Fold 5\n",
      "### Train size 367131 Valid size 91782\n",
      "### Training with 100% fold data...\n",
      "#########################\n",
      "[0]\ttrain-logloss:0.66333\tvalid-logloss:0.66328\n",
      "[100]\ttrain-logloss:0.23765\tvalid-logloss:0.23815\n",
      "[200]\ttrain-logloss:0.22331\tvalid-logloss:0.22587\n",
      "[300]\ttrain-logloss:0.21729\tvalid-logloss:0.22176\n",
      "[400]\ttrain-logloss:0.21334\tvalid-logloss:0.21977\n",
      "[500]\ttrain-logloss:0.21024\tvalid-logloss:0.21857\n",
      "[600]\ttrain-logloss:0.20765\tvalid-logloss:0.21782\n",
      "[700]\ttrain-logloss:0.20524\tvalid-logloss:0.21726\n",
      "[800]\ttrain-logloss:0.20295\tvalid-logloss:0.21685\n",
      "[900]\ttrain-logloss:0.20085\tvalid-logloss:0.21659\n",
      "[1000]\ttrain-logloss:0.19887\tvalid-logloss:0.21638\n",
      "[1100]\ttrain-logloss:0.19695\tvalid-logloss:0.21617\n",
      "[1200]\ttrain-logloss:0.19510\tvalid-logloss:0.21602\n",
      "[1300]\ttrain-logloss:0.19328\tvalid-logloss:0.21589\n",
      "[1400]\ttrain-logloss:0.19155\tvalid-logloss:0.21580\n",
      "[1500]\ttrain-logloss:0.18982\tvalid-logloss:0.21564\n",
      "[1600]\ttrain-logloss:0.18814\tvalid-logloss:0.21557\n",
      "[1700]\ttrain-logloss:0.18657\tvalid-logloss:0.21549\n",
      "[1800]\ttrain-logloss:0.18495\tvalid-logloss:0.21548\n",
      "[1900]\ttrain-logloss:0.18341\tvalid-logloss:0.21539\n",
      "[1992]\ttrain-logloss:0.18199\tvalid-logloss:0.21541\n",
      "Kaggle Metric = 0.7947550282092307 \n",
      "\n",
      "#########################\n",
      "OVERALL CV Kaggle Metric = 0.7916983533319991\n"
     ]
    }
   ],
   "source": [
    "importances = []\n",
    "oof = []\n",
    "train = train.to_pandas() # free GPU memory\n",
    "TRAIN_SUBSAMPLE = 1.0\n",
    "gc.collect()\n",
    "\n",
    "skf = KFold(n_splits=FOLDS, shuffle=True, random_state=SEED)\n",
    "for fold,(train_idx, valid_idx) in enumerate(skf.split(\n",
    "            train, train.target )):\n",
    "    \n",
    "    # TRAIN WITH SUBSAMPLE OF TRAIN FOLD DATA\n",
    "    if TRAIN_SUBSAMPLE<1.0:\n",
    "        np.random.seed(SEED)\n",
    "        train_idx = np.random.choice(train_idx, \n",
    "                       int(len(train_idx)*TRAIN_SUBSAMPLE), replace=False)\n",
    "        np.random.seed(None)\n",
    "    \n",
    "    print('#'*25)\n",
    "    print('### Fold',fold+1)\n",
    "    print('### Train size',len(train_idx),'Valid size',len(valid_idx))\n",
    "    print(f'### Training with {int(TRAIN_SUBSAMPLE*100)}% fold data...')\n",
    "    print('#'*25)\n",
    "    \n",
    "    # TRAIN, VALID, TEST FOR FOLD K\n",
    "    Xy_train = IterLoadForDMatrix(train.loc[train_idx], FEATURES, 'target')\n",
    "    X_valid = train.loc[valid_idx, FEATURES]\n",
    "    y_valid = train.loc[valid_idx, 'target']\n",
    "    \n",
    "    dtrain = xgb.DeviceQuantileDMatrix(Xy_train, max_bin=256)\n",
    "    dvalid = xgb.DMatrix(data=X_valid, label=y_valid)\n",
    "    \n",
    "    # TRAIN MODEL FOLD K\n",
    "    model = xgb.train(xgb_parms, \n",
    "                dtrain=dtrain,\n",
    "                evals=[(dtrain,'train'),(dvalid,'valid')],\n",
    "                num_boost_round=9999,\n",
    "                early_stopping_rounds=100,\n",
    "                verbose_eval=100) \n",
    "    model.save_model(f'XGB_v{VER}_fold{fold}.xgb')\n",
    "    \n",
    "    # GET FEATURE IMPORTANCE FOR FOLD K\n",
    "    dd = model.get_score(importance_type='weight')\n",
    "    df = pd.DataFrame({'feature':dd.keys(),f'importance_{fold}':dd.values()})\n",
    "    importances.append(df)\n",
    "            \n",
    "    # INFER OOF FOLD K\n",
    "    oof_preds = model.predict(dvalid)\n",
    "    acc = amex_metric_mod(y_valid.values, oof_preds)\n",
    "    print('Kaggle Metric =',acc,'\\n')\n",
    "    \n",
    "    # SAVE OOF\n",
    "    df = train.loc[valid_idx, ['customer_ID','target'] ].copy()\n",
    "    df['oof_pred'] = oof_preds\n",
    "    oof.append( df )\n",
    "    \n",
    "    del dtrain, Xy_train, dd, df\n",
    "    del X_valid, y_valid, dvalid, model\n",
    "    _ = gc.collect()\n",
    "    \n",
    "print('#'*25)\n",
    "oof = pd.concat(oof,axis=0,ignore_index=True).set_index('customer_ID')\n",
    "acc = amex_metric_mod(oof.target.values, oof.oof_pred.values)\n",
    "print('OVERALL CV Kaggle Metric =',acc)"
   ]
  },
  {
   "cell_type": "code",
   "execution_count": 11,
   "id": "0cc06fa5",
   "metadata": {
    "execution": {
     "iopub.execute_input": "2022-07-17T14:33:12.879727Z",
     "iopub.status.busy": "2022-07-17T14:33:12.879270Z",
     "iopub.status.idle": "2022-07-17T14:33:13.022510Z",
     "shell.execute_reply": "2022-07-17T14:33:13.021493Z"
    },
    "papermill": {
     "duration": 0.159439,
     "end_time": "2022-07-17T14:33:13.024246",
     "exception": false,
     "start_time": "2022-07-17T14:33:12.864807",
     "status": "completed"
    },
    "tags": []
   },
   "outputs": [],
   "source": [
    "# CLEAN RAM\n",
    "del train\n",
    "_ = gc.collect()"
   ]
  },
  {
   "cell_type": "markdown",
   "id": "38e32135",
   "metadata": {
    "papermill": {
     "duration": 0.015731,
     "end_time": "2022-07-17T14:33:13.057910",
     "exception": false,
     "start_time": "2022-07-17T14:33:13.042179",
     "status": "completed"
    },
    "tags": []
   },
   "source": [
    "# Save OOF Preds"
   ]
  },
  {
   "cell_type": "code",
   "execution_count": 12,
   "id": "34350c92",
   "metadata": {
    "execution": {
     "iopub.execute_input": "2022-07-17T14:33:13.091966Z",
     "iopub.status.busy": "2022-07-17T14:33:13.091150Z",
     "iopub.status.idle": "2022-07-17T14:33:18.270764Z",
     "shell.execute_reply": "2022-07-17T14:33:18.269968Z"
    },
    "papermill": {
     "duration": 5.198485,
     "end_time": "2022-07-17T14:33:18.272747",
     "exception": false,
     "start_time": "2022-07-17T14:33:13.074262",
     "status": "completed"
    },
    "tags": []
   },
   "outputs": [
    {
     "data": {
      "text/html": [
       "<div>\n",
       "<style scoped>\n",
       "    .dataframe tbody tr th:only-of-type {\n",
       "        vertical-align: middle;\n",
       "    }\n",
       "\n",
       "    .dataframe tbody tr th {\n",
       "        vertical-align: top;\n",
       "    }\n",
       "\n",
       "    .dataframe thead th {\n",
       "        text-align: right;\n",
       "    }\n",
       "</style>\n",
       "<table border=\"1\" class=\"dataframe\">\n",
       "  <thead>\n",
       "    <tr style=\"text-align: right;\">\n",
       "      <th></th>\n",
       "      <th>customer_ID</th>\n",
       "      <th>target</th>\n",
       "      <th>oof_pred</th>\n",
       "    </tr>\n",
       "  </thead>\n",
       "  <tbody>\n",
       "    <tr>\n",
       "      <th>0</th>\n",
       "      <td>20eac26171c3d251c55fc78204e59fab1c15fc2bc96d0c...</td>\n",
       "      <td>1</td>\n",
       "      <td>0.712219</td>\n",
       "    </tr>\n",
       "    <tr>\n",
       "      <th>1</th>\n",
       "      <td>aea50fdf9b974ccec95fa177c3225a0f913483b457de6e...</td>\n",
       "      <td>0</td>\n",
       "      <td>0.000326</td>\n",
       "    </tr>\n",
       "    <tr>\n",
       "      <th>2</th>\n",
       "      <td>32cd2d41aef737b69089882754395925c96eaee1f4a859...</td>\n",
       "      <td>0</td>\n",
       "      <td>0.002710</td>\n",
       "    </tr>\n",
       "    <tr>\n",
       "      <th>3</th>\n",
       "      <td>8daa6d5dc2655a8a437531e6b8b96829113cdfe9bf6cae...</td>\n",
       "      <td>0</td>\n",
       "      <td>0.009662</td>\n",
       "    </tr>\n",
       "    <tr>\n",
       "      <th>4</th>\n",
       "      <td>0ceba351a3851202542feb49d7385bcef32f6037fc57c7...</td>\n",
       "      <td>1</td>\n",
       "      <td>0.890293</td>\n",
       "    </tr>\n",
       "  </tbody>\n",
       "</table>\n",
       "</div>"
      ],
      "text/plain": [
       "                                         customer_ID  target  oof_pred\n",
       "0  20eac26171c3d251c55fc78204e59fab1c15fc2bc96d0c...       1  0.712219\n",
       "1  aea50fdf9b974ccec95fa177c3225a0f913483b457de6e...       0  0.000326\n",
       "2  32cd2d41aef737b69089882754395925c96eaee1f4a859...       0  0.002710\n",
       "3  8daa6d5dc2655a8a437531e6b8b96829113cdfe9bf6cae...       0  0.009662\n",
       "4  0ceba351a3851202542feb49d7385bcef32f6037fc57c7...       1  0.890293"
      ]
     },
     "execution_count": 12,
     "metadata": {},
     "output_type": "execute_result"
    }
   ],
   "source": [
    "oof_xgb = pd.read_parquet(TRAIN_PATH, columns=['customer_ID']).drop_duplicates()\n",
    "oof_xgb['customer_ID_hash'] = oof_xgb['customer_ID'].apply(lambda x: int(x[-16:],16) ).astype('int64')\n",
    "oof_xgb = oof_xgb.set_index('customer_ID_hash')\n",
    "oof_xgb = oof_xgb.merge(oof, left_index=True, right_index=True)\n",
    "oof_xgb = oof_xgb.sort_index().reset_index(drop=True)\n",
    "oof_xgb.to_csv(f'oof_xgb_v{VER}.csv',index=False)\n",
    "oof_xgb.head()"
   ]
  },
  {
   "cell_type": "code",
   "execution_count": 13,
   "id": "a93bd743",
   "metadata": {
    "execution": {
     "iopub.execute_input": "2022-07-17T14:33:18.301183Z",
     "iopub.status.busy": "2022-07-17T14:33:18.300862Z",
     "iopub.status.idle": "2022-07-17T14:33:18.641691Z",
     "shell.execute_reply": "2022-07-17T14:33:18.640960Z"
    },
    "papermill": {
     "duration": 0.356746,
     "end_time": "2022-07-17T14:33:18.643392",
     "exception": false,
     "start_time": "2022-07-17T14:33:18.286646",
     "status": "completed"
    },
    "tags": []
   },
   "outputs": [
    {
     "data": {
      "image/png": "[encoded data removed]",
      "text/plain": [
       "<Figure size 432x288 with 1 Axes>"
      ]
     },
     "metadata": {
      "needs_background": "light"
     },
     "output_type": "display_data"
    }
   ],
   "source": [
    "# PLOT OOF PREDICTIONS\n",
    "plt.hist(oof_xgb.oof_pred.values, bins=100)\n",
    "plt.title('OOF Predictions')\n",
    "plt.show()"
   ]
  },
  {
   "cell_type": "code",
   "execution_count": 14,
   "id": "e7d15560",
   "metadata": {
    "execution": {
     "iopub.execute_input": "2022-07-17T14:33:18.673022Z",
     "iopub.status.busy": "2022-07-17T14:33:18.672732Z",
     "iopub.status.idle": "2022-07-17T14:33:18.811844Z",
     "shell.execute_reply": "2022-07-17T14:33:18.811053Z"
    },
    "papermill": {
     "duration": 0.156228,
     "end_time": "2022-07-17T14:33:18.813654",
     "exception": false,
     "start_time": "2022-07-17T14:33:18.657426",
     "status": "completed"
    },
    "tags": []
   },
   "outputs": [],
   "source": [
    "# CLEAR VRAM, RAM FOR INFERENCE BELOW\n",
    "del oof_xgb, oof\n",
    "_ = gc.collect()"
   ]
  },
  {
   "cell_type": "markdown",
   "id": "4de718b4",
   "metadata": {
    "papermill": {
     "duration": 0.013512,
     "end_time": "2022-07-17T14:33:18.841609",
     "exception": false,
     "start_time": "2022-07-17T14:33:18.828097",
     "status": "completed"
    },
    "tags": []
   },
   "source": [
    "# Feature Importance"
   ]
  },
  {
   "cell_type": "code",
   "execution_count": 15,
   "id": "8f3b72e8",
   "metadata": {
    "execution": {
     "iopub.execute_input": "2022-07-17T14:33:18.871273Z",
     "iopub.status.busy": "2022-07-17T14:33:18.870948Z",
     "iopub.status.idle": "2022-07-17T14:33:18.897051Z",
     "shell.execute_reply": "2022-07-17T14:33:18.896334Z"
    },
    "papermill": {
     "duration": 0.043481,
     "end_time": "2022-07-17T14:33:18.898955",
     "exception": false,
     "start_time": "2022-07-17T14:33:18.855474",
     "status": "completed"
    },
    "tags": []
   },
   "outputs": [],
   "source": [
    "import matplotlib.pyplot as plt\n",
    "\n",
    "df = importances[0].copy()\n",
    "for k in range(1,FOLDS): df = df.merge(importances[k], on='feature', how='left')\n",
    "df['importance'] = df.iloc[:,1:].mean(axis=1)\n",
    "df = df.sort_values('importance',ascending=False)\n",
    "df.to_csv(f'xgb_feature_importance_v{VER}.csv',index=False)"
   ]
  },
  {
   "cell_type": "code",
   "execution_count": 16,
   "id": "0da48c05",
   "metadata": {
    "execution": {
     "iopub.execute_input": "2022-07-17T14:33:18.927910Z",
     "iopub.status.busy": "2022-07-17T14:33:18.927573Z",
     "iopub.status.idle": "2022-07-17T14:33:19.176955Z",
     "shell.execute_reply": "2022-07-17T14:33:19.176009Z"
    },
    "papermill": {
     "duration": 0.266348,
     "end_time": "2022-07-17T14:33:19.179176",
     "exception": false,
     "start_time": "2022-07-17T14:33:18.912828",
     "status": "completed"
    },
    "tags": []
   },
   "outputs": [
    {
     "data": {
      "image/png": "[encoded data removed]",
      "text/plain": [
       "<Figure size 720x720 with 1 Axes>"
      ]
     },
     "metadata": {
      "needs_background": "light"
     },
     "output_type": "display_data"
    }
   ],
   "source": [
    "NUM_FEATURES = 20\n",
    "plt.figure(figsize=(10,5*NUM_FEATURES//10))\n",
    "plt.barh(np.arange(NUM_FEATURES,0,-1), df.importance.values[:NUM_FEATURES])\n",
    "plt.yticks(np.arange(NUM_FEATURES,0,-1), df.feature.values[:NUM_FEATURES])\n",
    "plt.title(f'XGB Feature Importance - Top {NUM_FEATURES}')\n",
    "plt.show()"
   ]
  },
  {
   "cell_type": "markdown",
   "id": "1ecb3f87",
   "metadata": {
    "papermill": {
     "duration": 0.013913,
     "end_time": "2022-07-17T14:33:19.207429",
     "exception": false,
     "start_time": "2022-07-17T14:33:19.193516",
     "status": "completed"
    },
    "tags": []
   },
   "source": [
    "# Process and Feature Engineer Test Data\n",
    "We will load @raddar Kaggle dataset from [here][1] with discussion [here][2]. Then we will engineer features suggested by @huseyincot in his notebooks [here][1] and [here][4]. We will use [RAPIDS][5] and the GPU to create new features quickly.\n",
    "\n",
    "[1]: https://www.kaggle.com/datasets/raddar/amex-data-integer-dtypes-parquet-format\n",
    "[2]: https://www.kaggle.com/competitions/amex-default-prediction/discussion/328514\n",
    "[3]: https://www.kaggle.com/code/huseyincot/amex-catboost-0-793\n",
    "[4]: https://www.kaggle.com/code/huseyincot/amex-agg-data-how-it-created\n",
    "[5]: https://rapids.ai/"
   ]
  },
  {
   "cell_type": "code",
   "execution_count": 17,
   "id": "8d65066e",
   "metadata": {
    "execution": {
     "iopub.execute_input": "2022-07-17T14:33:19.236585Z",
     "iopub.status.busy": "2022-07-17T14:33:19.236285Z",
     "iopub.status.idle": "2022-07-17T14:33:21.709170Z",
     "shell.execute_reply": "2022-07-17T14:33:21.707765Z"
    },
    "papermill": {
     "duration": 2.490239,
     "end_time": "2022-07-17T14:33:21.711623",
     "exception": false,
     "start_time": "2022-07-17T14:33:19.221384",
     "status": "completed"
    },
    "tags": []
   },
   "outputs": [
    {
     "name": "stdout",
     "output_type": "stream",
     "text": [
      "Reading test data...\n",
      "shape of data: (11363762, 2)\n",
      "We will process test data as 4 separate parts.\n",
      "There will be 231155 customers in each part (except the last part).\n",
      "Below are number of rows in each part:\n",
      "[2841209, 2839857, 2842105, 2840591]\n"
     ]
    }
   ],
   "source": [
    "# CALCULATE SIZE OF EACH SEPARATE TEST PART\n",
    "def get_rows(customers, test, NUM_PARTS = 4, verbose = ''):\n",
    "    chunk = len(customers)//NUM_PARTS\n",
    "    if verbose != '':\n",
    "        print(f'We will process {verbose} data as {NUM_PARTS} separate parts.')\n",
    "        print(f'There will be {chunk} customers in each part (except the last part).')\n",
    "        print('Below are number of rows in each part:')\n",
    "    rows = []\n",
    "\n",
    "    for k in range(NUM_PARTS):\n",
    "        if k==NUM_PARTS-1: cc = customers[k*chunk:]\n",
    "        else: cc = customers[k*chunk:(k+1)*chunk]\n",
    "        s = test.loc[test.customer_ID.isin(cc)].shape[0]\n",
    "        rows.append(s)\n",
    "    if verbose != '': print( rows )\n",
    "    return rows,chunk\n",
    "\n",
    "# COMPUTE SIZE OF 4 PARTS FOR TEST DATA\n",
    "NUM_PARTS = 4\n",
    "TEST_PATH = '../input/amex-data-integer-dtypes-parquet-format/test.parquet'\n",
    "\n",
    "print(f'Reading test data...')\n",
    "test = read_file(path = TEST_PATH, usecols = ['customer_ID','S_2'])\n",
    "customers = test[['customer_ID']].drop_duplicates().sort_index().values.flatten()\n",
    "rows,num_cust = get_rows(customers, test[['customer_ID']], NUM_PARTS = NUM_PARTS, verbose = 'test')"
   ]
  },
  {
   "cell_type": "markdown",
   "id": "ae7efb74",
   "metadata": {
    "papermill": {
     "duration": 0.016587,
     "end_time": "2022-07-17T14:33:21.744152",
     "exception": false,
     "start_time": "2022-07-17T14:33:21.727565",
     "status": "completed"
    },
    "tags": []
   },
   "source": [
    "# Infer Test"
   ]
  },
  {
   "cell_type": "code",
   "execution_count": 18,
   "id": "ac24d05e",
   "metadata": {
    "execution": {
     "iopub.execute_input": "2022-07-17T14:33:21.774168Z",
     "iopub.status.busy": "2022-07-17T14:33:21.773839Z",
     "iopub.status.idle": "2022-07-17T14:35:20.519828Z",
     "shell.execute_reply": "2022-07-17T14:35:20.519052Z"
    },
    "papermill": {
     "duration": 118.763443,
     "end_time": "2022-07-17T14:35:20.521919",
     "exception": false,
     "start_time": "2022-07-17T14:33:21.758476",
     "status": "completed"
    },
    "tags": []
   },
   "outputs": [
    {
     "name": "stdout",
     "output_type": "stream",
     "text": [
      "\n",
      "Reading test data...\n",
      "shape of data: (11363762, 190)\n",
      "=> Test part 1 has shape (2841209, 190)\n",
      "shape after engineering (231155, 538)\n",
      "\n",
      "Reading test data...\n",
      "shape of data: (11363762, 190)\n",
      "=> Test part 2 has shape (2839857, 190)\n",
      "shape after engineering (231155, 538)\n",
      "\n",
      "Reading test data...\n",
      "shape of data: (11363762, 190)\n",
      "=> Test part 3 has shape (2842105, 190)\n",
      "shape after engineering (231155, 538)\n",
      "\n",
      "Reading test data...\n",
      "shape of data: (11363762, 190)\n",
      "=> Test part 4 has shape (2840591, 190)\n",
      "shape after engineering (231156, 538)\n"
     ]
    }
   ],
   "source": [
    "# INFER TEST DATA IN PARTS\n",
    "skip_rows = 0\n",
    "skip_cust = 0\n",
    "test_preds = []\n",
    "\n",
    "for k in range(NUM_PARTS):\n",
    "    \n",
    "    # READ PART OF TEST DATA\n",
    "    print(f'\\nReading test data...')\n",
    "    test = read_file(path = TEST_PATH)\n",
    "    test = test.iloc[skip_rows:skip_rows+rows[k]]\n",
    "    skip_rows += rows[k]\n",
    "    print(f'=> Test part {k+1} has shape', test.shape )\n",
    "    \n",
    "    # PROCESS AND FEATURE ENGINEER PART OF TEST DATA\n",
    "    test = process_and_feature_engineer(test)\n",
    "    if k==NUM_PARTS-1: test = test.loc[customers[skip_cust:]]\n",
    "    else: test = test.loc[customers[skip_cust:skip_cust+num_cust]]\n",
    "    skip_cust += num_cust\n",
    "    \n",
    "    # TEST DATA FOR XGB\n",
    "    X_test = test[FEATURES]\n",
    "    dtest = xgb.DMatrix(data=X_test)\n",
    "    test = test[['P_2_mean']] # reduce memory\n",
    "    del X_test\n",
    "    gc.collect()\n",
    "\n",
    "    # INFER XGB MODELS ON TEST DATA\n",
    "    model = xgb.Booster()\n",
    "    model.load_model(f'XGB_v{VER}_fold0.xgb')\n",
    "    preds = model.predict(dtest)\n",
    "    for f in range(1,FOLDS):\n",
    "        model.load_model(f'XGB_v{VER}_fold{f}.xgb')\n",
    "        preds += model.predict(dtest)\n",
    "    preds /= FOLDS\n",
    "    test_preds.append(preds)\n",
    "\n",
    "    # CLEAN MEMORY\n",
    "    del dtest, model\n",
    "    _ = gc.collect()"
   ]
  },
  {
   "cell_type": "markdown",
   "id": "37633c6e",
   "metadata": {
    "papermill": {
     "duration": 0.015057,
     "end_time": "2022-07-17T14:35:20.552606",
     "exception": false,
     "start_time": "2022-07-17T14:35:20.537549",
     "status": "completed"
    },
    "tags": []
   },
   "source": [
    "# Create Submission CSV"
   ]
  },
  {
   "cell_type": "code",
   "execution_count": 19,
   "id": "eb4d2ae7",
   "metadata": {
    "execution": {
     "iopub.execute_input": "2022-07-17T14:35:20.586447Z",
     "iopub.status.busy": "2022-07-17T14:35:20.586106Z",
     "iopub.status.idle": "2022-07-17T14:35:21.607089Z",
     "shell.execute_reply": "2022-07-17T14:35:21.606138Z"
    },
    "papermill": {
     "duration": 1.041861,
     "end_time": "2022-07-17T14:35:21.612046",
     "exception": false,
     "start_time": "2022-07-17T14:35:20.570185",
     "status": "completed"
    },
    "tags": []
   },
   "outputs": [
    {
     "name": "stdout",
     "output_type": "stream",
     "text": [
      "Submission file shape is (924621, 2)\n"
     ]
    },
    {
     "data": {
      "text/html": [
       "<div>\n",
       "<style scoped>\n",
       "    .dataframe tbody tr th:only-of-type {\n",
       "        vertical-align: middle;\n",
       "    }\n",
       "\n",
       "    .dataframe tbody tr th {\n",
       "        vertical-align: top;\n",
       "    }\n",
       "\n",
       "    .dataframe thead th {\n",
       "        text-align: right;\n",
       "    }\n",
       "</style>\n",
       "<table border=\"1\" class=\"dataframe\">\n",
       "  <thead>\n",
       "    <tr style=\"text-align: right;\">\n",
       "      <th></th>\n",
       "      <th>customer_ID</th>\n",
       "      <th>prediction</th>\n",
       "    </tr>\n",
       "  </thead>\n",
       "  <tbody>\n",
       "    <tr>\n",
       "      <th>0</th>\n",
       "      <td>03999d5e3bd61a69504cc6e7025c260c1ed2e5b449dba5...</td>\n",
       "      <td>0.086309</td>\n",
       "    </tr>\n",
       "    <tr>\n",
       "      <th>1</th>\n",
       "      <td>039b4f21aa584fb0c3c7055beabc098af55013f9f25515...</td>\n",
       "      <td>0.004171</td>\n",
       "    </tr>\n",
       "    <tr>\n",
       "      <th>2</th>\n",
       "      <td>039a6aea85575ebd33eec75e5c45bc7973481b81a99b62...</td>\n",
       "      <td>0.074179</td>\n",
       "    </tr>\n",
       "    <tr>\n",
       "      <th>3</th>\n",
       "      <td>039bd96164c6567580b24ba13c2b85b60f4554eb43d55b...</td>\n",
       "      <td>0.414867</td>\n",
       "    </tr>\n",
       "    <tr>\n",
       "      <th>4</th>\n",
       "      <td>0399a5a95461ced4134cd9693712fb012351cca1bde04d...</td>\n",
       "      <td>0.000106</td>\n",
       "    </tr>\n",
       "  </tbody>\n",
       "</table>\n",
       "</div>"
      ],
      "text/plain": [
       "                                         customer_ID  prediction\n",
       "0  03999d5e3bd61a69504cc6e7025c260c1ed2e5b449dba5...    0.086309\n",
       "1  039b4f21aa584fb0c3c7055beabc098af55013f9f25515...    0.004171\n",
       "2  039a6aea85575ebd33eec75e5c45bc7973481b81a99b62...    0.074179\n",
       "3  039bd96164c6567580b24ba13c2b85b60f4554eb43d55b...    0.414867\n",
       "4  0399a5a95461ced4134cd9693712fb012351cca1bde04d...    0.000106"
      ]
     },
     "execution_count": 19,
     "metadata": {},
     "output_type": "execute_result"
    }
   ],
   "source": [
    "# WRITE SUBMISSION FILE\n",
    "test_preds = np.concatenate(test_preds)\n",
    "test = cudf.DataFrame(index=customers,data={'prediction':test_preds})\n",
    "sub = cudf.read_csv('../input/amex-default-prediction/sample_submission.csv')[['customer_ID']]\n",
    "sub['customer_ID_hash'] = sub['customer_ID'].str[-16:].str.hex_to_int().astype('int64')\n",
    "sub = sub.set_index('customer_ID_hash')\n",
    "sub = sub.merge(test[['prediction']], left_index=True, right_index=True, how='left')\n",
    "sub = sub.reset_index(drop=True)\n",
    "\n",
    "# DISPLAY PREDICTIONS\n",
    "sub.to_csv(f'submission_xgb_v{VER}.csv',index=False)\n",
    "print('Submission file shape is', sub.shape )\n",
    "sub.head()"
   ]
  },
  {
   "cell_type": "code",
   "execution_count": 20,
   "id": "9ef72181",
   "metadata": {
    "execution": {
     "iopub.execute_input": "2022-07-17T14:35:21.668349Z",
     "iopub.status.busy": "2022-07-17T14:35:21.667828Z",
     "iopub.status.idle": "2022-07-17T14:35:22.514976Z",
     "shell.execute_reply": "2022-07-17T14:35:22.514266Z"
    },
    "papermill": {
     "duration": 0.878142,
     "end_time": "2022-07-17T14:35:22.516841",
     "exception": false,
     "start_time": "2022-07-17T14:35:21.638699",
     "status": "completed"
    },
    "tags": []
   },
   "outputs": [
    {
     "data": {
      "image/png": "[encoded data removed]",
      "text/plain": [
       "<Figure size 432x288 with 1 Axes>"
      ]
     },
     "metadata": {
      "needs_background": "light"
     },
     "output_type": "display_data"
    }
   ],
   "source": [
    "# PLOT PREDICTIONS\n",
    "plt.hist(sub.to_pandas().prediction, bins=100)\n",
    "plt.title('Test Predictions')\n",
    "plt.show()"
   ]
  }
 ],
 "metadata": {
  "kernelspec": {
   "display_name": "Python 3",
   "language": "python",
   "name": "python3"
  },
  "language_info": {
   "codemirror_mode": {
    "name": "ipython",
    "version": 3
   },
   "file_extension": ".py",
   "mimetype": "text/x-python",
   "name": "python",
   "nbconvert_exporter": "python",
   "pygments_lexer": "ipython3",
   "version": "3.7.12"
  },
  "papermill": {
   "default_parameters": {},
   "duration": 540.59098,
   "end_time": "2022-07-17T14:35:25.052026",
   "environment_variables": {},
   "exception": null,
   "input_path": "__notebook__.ipynb",
   "output_path": "__notebook__.ipynb",
   "parameters": {},
   "start_time": "2022-07-17T14:26:24.461046",
   "version": "2.3.4"
  }
 },
 "nbformat": 4,
 "nbformat_minor": 5
}
