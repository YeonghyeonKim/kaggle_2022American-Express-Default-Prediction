{
 "cells": [
  {
   "cell_type": "markdown",
   "id": "05b07db6",
   "metadata": {
    "papermill": {
     "duration": 0.007812,
     "end_time": "2022-07-30T16:49:01.108377",
     "exception": false,
     "start_time": "2022-07-30T16:49:01.100565",
     "status": "completed"
    },
    "tags": []
   },
   "source": [
    "# XGBoost Starter - LB 0.793\n",
    "In this notebook we build and train an XGBoost model using @raddar Kaggle dataset from [here][1] with discussion [here][2]. Then we engineer features suggested by @huseyincot in his notebooks [here][3] and [here][4]. This XGB model achieves CV 0.792 LB 0.793! When training with XGB, we use a special XGB dataloader called `DeviceQuantileDMatrix` which uses a small GPU memory footprint. This allows us to engineer more additional columns and train with more rows of data. Our feature engineering is performed using [RAPIDS][5] on the GPU to create new features quickly.\n",
    "\n",
    "[1]: https://www.kaggle.com/datasets/raddar/amex-data-integer-dtypes-parquet-format\n",
    "[2]: https://www.kaggle.com/competitions/amex-default-prediction/discussion/328514\n",
    "[3]: https://www.kaggle.com/code/huseyincot/amex-catboost-0-793\n",
    "[4]: https://www.kaggle.com/code/huseyincot/amex-agg-data-how-it-created\n",
    "[5]: https://rapids.ai/"
   ]
  },
  {
   "cell_type": "markdown",
   "id": "e4ef2174",
   "metadata": {
    "papermill": {
     "duration": 0.006468,
     "end_time": "2022-07-30T16:49:01.121772",
     "exception": false,
     "start_time": "2022-07-30T16:49:01.115304",
     "status": "completed"
    },
    "tags": []
   },
   "source": [
    "Feature Engineering I done\n",
    "1. Drop B_29, https://www.kaggle.com/code/roberthatch/amex-feature-engg-gpu-or-cpu-process-in-chunks/notebook\n",
    "2. Add each customer count (how long they used) (not normalize)\n",
    "3. Don't fill NaN (with -127)\n",
    "4. remove num_features's min, std\n",
    "5. D_39에 대한 feature 추가 -> CV하락\n",
    "6. B_1과 B_2간의 연관 feature 추가; CV 0.7920\n",
    "7. B_8과 B_9간의 연관 feature 추가; CV 0.7919\n",
    "8. corr가 높은 feature중 제거; CV: 0.7914\n",
    "9. 6+ fillna(method='bfill'); CV: 0.7906 => NaN으로 냅두자\n",
    "10. 마지막 3개월만 이용; 6 + CV: 0.7892; 4 + CV: 0.7886\n",
    "11. 영향도 낮은 features  제거 R_28, D_94, R_2\n",
    "<!-- 9. add nasdaq info simply -->"
   ]
  },
  {
   "cell_type": "markdown",
   "id": "0f066964",
   "metadata": {
    "papermill": {
     "duration": 0.006559,
     "end_time": "2022-07-30T16:49:01.134990",
     "exception": false,
     "start_time": "2022-07-30T16:49:01.128431",
     "status": "completed"
    },
    "tags": []
   },
   "source": [
    "# Load Libraries"
   ]
  },
  {
   "cell_type": "code",
   "execution_count": 1,
   "id": "70e9b533",
   "metadata": {
    "execution": {
     "iopub.execute_input": "2022-07-30T16:49:01.150314Z",
     "iopub.status.busy": "2022-07-30T16:49:01.149751Z",
     "iopub.status.idle": "2022-07-30T16:49:05.148083Z",
     "shell.execute_reply": "2022-07-30T16:49:05.146791Z"
    },
    "papermill": {
     "duration": 4.009332,
     "end_time": "2022-07-30T16:49:05.150949",
     "exception": false,
     "start_time": "2022-07-30T16:49:01.141617",
     "status": "completed"
    },
    "tags": []
   },
   "outputs": [
    {
     "name": "stdout",
     "output_type": "stream",
     "text": [
      "RAPIDS version 21.10.01\n"
     ]
    }
   ],
   "source": [
    "# LOAD LIBRARIES\n",
    "import pandas as pd, numpy as np # CPU libraries\n",
    "import cupy, cudf # GPU libraries\n",
    "import matplotlib.pyplot as plt, gc, os\n",
    "\n",
    "print('RAPIDS version',cudf.__version__)"
   ]
  },
  {
   "cell_type": "code",
   "execution_count": 2,
   "id": "84253c4c",
   "metadata": {
    "execution": {
     "iopub.execute_input": "2022-07-30T16:49:05.166422Z",
     "iopub.status.busy": "2022-07-30T16:49:05.166157Z",
     "iopub.status.idle": "2022-07-30T16:49:05.170374Z",
     "shell.execute_reply": "2022-07-30T16:49:05.169466Z"
    },
    "papermill": {
     "duration": 0.014119,
     "end_time": "2022-07-30T16:49:05.172371",
     "exception": false,
     "start_time": "2022-07-30T16:49:05.158252",
     "status": "completed"
    },
    "tags": []
   },
   "outputs": [],
   "source": [
    "# VERSION NAME FOR SAVED MODEL FILES\n",
    "VER = 1\n",
    "\n",
    "# TRAIN RANDOM SEED\n",
    "SEED = 42\n",
    "\n",
    "# FILL NAN VALUE\n",
    "NAN_VALUE = -127 # will fit in int8\n",
    "\n",
    "# FOLDS PER MODEL\n",
    "FOLDS = 5"
   ]
  },
  {
   "cell_type": "markdown",
   "id": "d49d2c59",
   "metadata": {
    "papermill": {
     "duration": 0.006672,
     "end_time": "2022-07-30T16:49:05.185723",
     "exception": false,
     "start_time": "2022-07-30T16:49:05.179051",
     "status": "completed"
    },
    "tags": []
   },
   "source": [
    "# Process and Feature Engineer Train Data\n",
    "We will load @raddar Kaggle dataset from [here][1] with discussion [here][2]. Then we will engineer features suggested by @huseyincot in his notebooks [here][3] and [here][4]. We will use [RAPIDS][5] and the GPU to create new features quickly.\n",
    "\n",
    "[1]: https://www.kaggle.com/datasets/raddar/amex-data-integer-dtypes-parquet-format\n",
    "[2]: https://www.kaggle.com/competitions/amex-default-prediction/discussion/328514\n",
    "[3]: https://www.kaggle.com/code/huseyincot/amex-catboost-0-793\n",
    "[4]: https://www.kaggle.com/code/huseyincot/amex-agg-data-how-it-created\n",
    "[5]: https://rapids.ai/"
   ]
  },
  {
   "cell_type": "code",
   "execution_count": 3,
   "id": "3b98c331",
   "metadata": {
    "execution": {
     "iopub.execute_input": "2022-07-30T16:49:05.200608Z",
     "iopub.status.busy": "2022-07-30T16:49:05.200352Z",
     "iopub.status.idle": "2022-07-30T16:49:29.308732Z",
     "shell.execute_reply": "2022-07-30T16:49:29.307853Z"
    },
    "papermill": {
     "duration": 24.118348,
     "end_time": "2022-07-30T16:49:29.310787",
     "exception": false,
     "start_time": "2022-07-30T16:49:05.192439",
     "status": "completed"
    },
    "tags": []
   },
   "outputs": [
    {
     "name": "stdout",
     "output_type": "stream",
     "text": [
      "Reading train data...\n",
      "shape of data: (5531451, 190)\n"
     ]
    }
   ],
   "source": [
    "def read_file(path = '', usecols = None):\n",
    "    # LOAD DATAFRAME\n",
    "    if usecols is not None: df = cudf.read_parquet(path, columns=usecols)\n",
    "    else: df = cudf.read_parquet(path)\n",
    "    # REDUCE DTYPE FOR CUSTOMER AND DATE\n",
    "    df['customer_ID'] = df['customer_ID'].str[-16:].str.hex_to_int().astype('int64')\n",
    "    df.S_2 = cudf.to_datetime( df.S_2 )\n",
    "    # SORT BY CUSTOMER AND DATE (so agg('last') works correctly)\n",
    "    #df = df.sort_values(['customer_ID','S_2'])\n",
    "    #df = df.reset_index(drop=True)\n",
    "    # FILL NAN\n",
    "#     df = df.fillna(NAN_VALUE) \n",
    "    print('shape of data:', df.shape)\n",
    "    \n",
    "    return df\n",
    "\n",
    "print('Reading train data...')\n",
    "TRAIN_PATH = '../input/amex-data-integer-dtypes-parquet-format/train.parquet'\n",
    "train = read_file(path = TRAIN_PATH)"
   ]
  },
  {
   "cell_type": "code",
   "execution_count": 4,
   "id": "f5170a11",
   "metadata": {
    "execution": {
     "iopub.execute_input": "2022-07-30T16:49:29.327327Z",
     "iopub.status.busy": "2022-07-30T16:49:29.326177Z",
     "iopub.status.idle": "2022-07-30T16:49:29.642815Z",
     "shell.execute_reply": "2022-07-30T16:49:29.641915Z"
    },
    "papermill": {
     "duration": 0.326355,
     "end_time": "2022-07-30T16:49:29.644737",
     "exception": false,
     "start_time": "2022-07-30T16:49:29.318382",
     "status": "completed"
    },
    "tags": []
   },
   "outputs": [
    {
     "data": {
      "text/html": [
       "<div>\n",
       "<style scoped>\n",
       "    .dataframe tbody tr th:only-of-type {\n",
       "        vertical-align: middle;\n",
       "    }\n",
       "\n",
       "    .dataframe tbody tr th {\n",
       "        vertical-align: top;\n",
       "    }\n",
       "\n",
       "    .dataframe thead th {\n",
       "        text-align: right;\n",
       "    }\n",
       "</style>\n",
       "<table border=\"1\" class=\"dataframe\">\n",
       "  <thead>\n",
       "    <tr style=\"text-align: right;\">\n",
       "      <th></th>\n",
       "      <th>customer_ID</th>\n",
       "      <th>S_2</th>\n",
       "      <th>P_2</th>\n",
       "      <th>D_39</th>\n",
       "      <th>B_1</th>\n",
       "      <th>B_2</th>\n",
       "      <th>R_1</th>\n",
       "      <th>S_3</th>\n",
       "      <th>D_41</th>\n",
       "      <th>B_3</th>\n",
       "      <th>...</th>\n",
       "      <th>D_136</th>\n",
       "      <th>D_137</th>\n",
       "      <th>D_138</th>\n",
       "      <th>D_139</th>\n",
       "      <th>D_140</th>\n",
       "      <th>D_141</th>\n",
       "      <th>D_142</th>\n",
       "      <th>D_143</th>\n",
       "      <th>D_144</th>\n",
       "      <th>D_145</th>\n",
       "    </tr>\n",
       "  </thead>\n",
       "  <tbody>\n",
       "    <tr>\n",
       "      <th>0</th>\n",
       "      <td>-4532153018459703766</td>\n",
       "      <td>2017-03-09</td>\n",
       "      <td>0.938469</td>\n",
       "      <td>0</td>\n",
       "      <td>0.008724</td>\n",
       "      <td>1.006838</td>\n",
       "      <td>0.009228</td>\n",
       "      <td>0.124035</td>\n",
       "      <td>0.0</td>\n",
       "      <td>0.004709</td>\n",
       "      <td>...</td>\n",
       "      <td>-1</td>\n",
       "      <td>-1</td>\n",
       "      <td>-1</td>\n",
       "      <td>0</td>\n",
       "      <td>0</td>\n",
       "      <td>0.0</td>\n",
       "      <td>&lt;NA&gt;</td>\n",
       "      <td>0</td>\n",
       "      <td>0.000610</td>\n",
       "      <td>0</td>\n",
       "    </tr>\n",
       "    <tr>\n",
       "      <th>1</th>\n",
       "      <td>-4532153018459703766</td>\n",
       "      <td>2017-04-07</td>\n",
       "      <td>0.936665</td>\n",
       "      <td>0</td>\n",
       "      <td>0.004923</td>\n",
       "      <td>1.000653</td>\n",
       "      <td>0.006151</td>\n",
       "      <td>0.126750</td>\n",
       "      <td>0.0</td>\n",
       "      <td>0.002714</td>\n",
       "      <td>...</td>\n",
       "      <td>-1</td>\n",
       "      <td>-1</td>\n",
       "      <td>-1</td>\n",
       "      <td>0</td>\n",
       "      <td>0</td>\n",
       "      <td>0.0</td>\n",
       "      <td>&lt;NA&gt;</td>\n",
       "      <td>0</td>\n",
       "      <td>0.005492</td>\n",
       "      <td>0</td>\n",
       "    </tr>\n",
       "    <tr>\n",
       "      <th>2</th>\n",
       "      <td>-4532153018459703766</td>\n",
       "      <td>2017-05-28</td>\n",
       "      <td>0.954180</td>\n",
       "      <td>3</td>\n",
       "      <td>0.021655</td>\n",
       "      <td>1.009672</td>\n",
       "      <td>0.006815</td>\n",
       "      <td>0.123977</td>\n",
       "      <td>0.0</td>\n",
       "      <td>0.009423</td>\n",
       "      <td>...</td>\n",
       "      <td>-1</td>\n",
       "      <td>-1</td>\n",
       "      <td>-1</td>\n",
       "      <td>0</td>\n",
       "      <td>0</td>\n",
       "      <td>0.0</td>\n",
       "      <td>&lt;NA&gt;</td>\n",
       "      <td>0</td>\n",
       "      <td>0.006986</td>\n",
       "      <td>0</td>\n",
       "    </tr>\n",
       "    <tr>\n",
       "      <th>3</th>\n",
       "      <td>-4532153018459703766</td>\n",
       "      <td>2017-06-13</td>\n",
       "      <td>0.960384</td>\n",
       "      <td>0</td>\n",
       "      <td>0.013683</td>\n",
       "      <td>1.002700</td>\n",
       "      <td>0.001373</td>\n",
       "      <td>0.117169</td>\n",
       "      <td>0.0</td>\n",
       "      <td>0.005531</td>\n",
       "      <td>...</td>\n",
       "      <td>-1</td>\n",
       "      <td>-1</td>\n",
       "      <td>-1</td>\n",
       "      <td>0</td>\n",
       "      <td>0</td>\n",
       "      <td>0.0</td>\n",
       "      <td>&lt;NA&gt;</td>\n",
       "      <td>0</td>\n",
       "      <td>0.006527</td>\n",
       "      <td>0</td>\n",
       "    </tr>\n",
       "    <tr>\n",
       "      <th>4</th>\n",
       "      <td>-4532153018459703766</td>\n",
       "      <td>2017-07-16</td>\n",
       "      <td>0.947248</td>\n",
       "      <td>0</td>\n",
       "      <td>0.015193</td>\n",
       "      <td>1.000727</td>\n",
       "      <td>0.007605</td>\n",
       "      <td>0.117325</td>\n",
       "      <td>0.0</td>\n",
       "      <td>0.009312</td>\n",
       "      <td>...</td>\n",
       "      <td>-1</td>\n",
       "      <td>-1</td>\n",
       "      <td>-1</td>\n",
       "      <td>0</td>\n",
       "      <td>0</td>\n",
       "      <td>0.0</td>\n",
       "      <td>&lt;NA&gt;</td>\n",
       "      <td>0</td>\n",
       "      <td>0.008126</td>\n",
       "      <td>0</td>\n",
       "    </tr>\n",
       "  </tbody>\n",
       "</table>\n",
       "<p>5 rows × 190 columns</p>\n",
       "</div>"
      ],
      "text/plain": [
       "           customer_ID        S_2       P_2  D_39       B_1       B_2  \\\n",
       "0 -4532153018459703766 2017-03-09  0.938469     0  0.008724  1.006838   \n",
       "1 -4532153018459703766 2017-04-07  0.936665     0  0.004923  1.000653   \n",
       "2 -4532153018459703766 2017-05-28  0.954180     3  0.021655  1.009672   \n",
       "3 -4532153018459703766 2017-06-13  0.960384     0  0.013683  1.002700   \n",
       "4 -4532153018459703766 2017-07-16  0.947248     0  0.015193  1.000727   \n",
       "\n",
       "        R_1       S_3  D_41       B_3  ... D_136  D_137  D_138  D_139  D_140  \\\n",
       "0  0.009228  0.124035   0.0  0.004709  ...    -1     -1     -1      0      0   \n",
       "1  0.006151  0.126750   0.0  0.002714  ...    -1     -1     -1      0      0   \n",
       "2  0.006815  0.123977   0.0  0.009423  ...    -1     -1     -1      0      0   \n",
       "3  0.001373  0.117169   0.0  0.005531  ...    -1     -1     -1      0      0   \n",
       "4  0.007605  0.117325   0.0  0.009312  ...    -1     -1     -1      0      0   \n",
       "\n",
       "   D_141  D_142 D_143     D_144  D_145  \n",
       "0    0.0   <NA>     0  0.000610      0  \n",
       "1    0.0   <NA>     0  0.005492      0  \n",
       "2    0.0   <NA>     0  0.006986      0  \n",
       "3    0.0   <NA>     0  0.006527      0  \n",
       "4    0.0   <NA>     0  0.008126      0  \n",
       "\n",
       "[5 rows x 190 columns]"
      ]
     },
     "execution_count": 4,
     "metadata": {},
     "output_type": "execute_result"
    }
   ],
   "source": [
    "train.head()"
   ]
  },
  {
   "cell_type": "code",
   "execution_count": 5,
   "id": "e40c1b77",
   "metadata": {
    "execution": {
     "iopub.execute_input": "2022-07-30T16:49:29.662943Z",
     "iopub.status.busy": "2022-07-30T16:49:29.661993Z",
     "iopub.status.idle": "2022-07-30T16:49:33.527180Z",
     "shell.execute_reply": "2022-07-30T16:49:33.526213Z"
    },
    "papermill": {
     "duration": 3.876192,
     "end_time": "2022-07-30T16:49:33.529733",
     "exception": false,
     "start_time": "2022-07-30T16:49:29.653541",
     "status": "completed"
    },
    "tags": []
   },
   "outputs": [
    {
     "name": "stdout",
     "output_type": "stream",
     "text": [
      "shape after engineering (458913, 553)\n"
     ]
    }
   ],
   "source": [
    "def process_and_feature_engineer(df):\n",
    "    # FEATURE ENGINEERING FROM \n",
    "    # https://www.kaggle.com/code/huseyincot/amex-agg-data-how-it-created\n",
    "#     9) nasdaq\n",
    "#     nasdaq_path = '../input/nasdaq/nasdaq.csv'\n",
    "#     nasdaq = cudf.read_csv(nasdaq_path, encoding='utf-8-sig')\n",
    "#     nasdaq.rename(columns={'\\ufeffS_2': 'S_2'}, inplace=True)\n",
    "#     nasdaq.drop(['tradingvolume'], inplace=True, axis=1)\n",
    "#     nasdaq.S_2 = cudf.to_datetime(nasdaq.S_2)\n",
    "#     nasdaq[['closing','open', 'high', 'low']] = nasdaq[['closing','open', 'high', 'low']].astype(float)    \n",
    "#     df = df.merge(nasdaq, on='S_2')\n",
    "    \n",
    "#     1) Drop 'B_29'\n",
    "    df.drop(['B_29'], inplace=True, axis=1)\n",
    "#     11) Drop R_28, D_94, R_2\n",
    "    df.drop(['R_28', 'D_94', 'R_2'], inplace=True, axis=1)\n",
    "    \n",
    "#     5) D_39에 대한 feature 추가\n",
    "#     df['D_39_div30'] = df['D_39']/30\n",
    "#     10) 마지막 3개월만 이용\n",
    "    df = cudf.concat([df.groupby('customer_ID').nth(-3), df.groupby('customer_ID').nth(-2), df.groupby('customer_ID').nth(-1)]).reset_index()\n",
    "\n",
    "    \n",
    "    all_cols = [c for c in list(df.columns) if c not in ['customer_ID','S_2']]\n",
    "    cat_features = [\"B_30\",\"B_38\",\"D_114\",\"D_116\",\"D_117\",\"D_120\",\"D_126\",\"D_63\",\"D_64\",\"D_66\",\"D_68\"]\n",
    "    num_features = [col for col in all_cols if col not in cat_features]\n",
    "    \n",
    "#     2) Add customer count\n",
    "    test_count_agg = df.groupby(['customer_ID'])['S_2'].agg(['count'])\n",
    "\n",
    "\n",
    "    test_num_agg = df.groupby(\"customer_ID\")[num_features].agg(['mean', 'max', 'last'])\n",
    "    test_num_agg.columns = ['_'.join(x) for x in test_num_agg.columns]\n",
    "\n",
    "    test_cat_agg = df.groupby(\"customer_ID\")[cat_features].agg(['count', 'last', 'nunique'])\n",
    "    test_cat_agg.columns = ['_'.join(x) for x in test_cat_agg.columns]\n",
    "\n",
    "    df = cudf.concat([test_count_agg,test_num_agg, test_cat_agg], axis=1)\n",
    "    del test_num_agg, test_cat_agg\n",
    "    print('shape after engineering', df.shape )\n",
    "    \n",
    "    return df\n",
    "\n",
    "train = process_and_feature_engineer(train)"
   ]
  },
  {
   "cell_type": "code",
   "execution_count": 6,
   "id": "839a31c2",
   "metadata": {
    "execution": {
     "iopub.execute_input": "2022-07-30T16:49:33.546996Z",
     "iopub.status.busy": "2022-07-30T16:49:33.546217Z",
     "iopub.status.idle": "2022-07-30T16:49:34.598709Z",
     "shell.execute_reply": "2022-07-30T16:49:34.597846Z"
    },
    "papermill": {
     "duration": 1.063658,
     "end_time": "2022-07-30T16:49:34.601120",
     "exception": false,
     "start_time": "2022-07-30T16:49:33.537462",
     "status": "completed"
    },
    "tags": []
   },
   "outputs": [
    {
     "name": "stdout",
     "output_type": "stream",
     "text": [
      "There are 553 features!\n"
     ]
    }
   ],
   "source": [
    "# ADD TARGETS\n",
    "targets = cudf.read_csv('../input/amex-default-prediction/train_labels.csv')\n",
    "targets['customer_ID'] = targets['customer_ID'].str[-16:].str.hex_to_int().astype('int64')\n",
    "targets = targets.set_index('customer_ID')\n",
    "train = train.merge(targets, left_index=True, right_index=True, how='left')\n",
    "train.target = train.target.astype('int8')\n",
    "del targets\n",
    "\n",
    "# NEEDED TO MAKE CV DETERMINISTIC (cudf merge above randomly shuffles rows)\n",
    "train = train.sort_index().reset_index()\n",
    "\n",
    "# FEATURES\n",
    "FEATURES = train.columns[1:-1]\n",
    "print(f'There are {len(FEATURES)} features!')"
   ]
  },
  {
   "cell_type": "markdown",
   "id": "6b981d7e",
   "metadata": {
    "papermill": {
     "duration": 0.00796,
     "end_time": "2022-07-30T16:49:34.618088",
     "exception": false,
     "start_time": "2022-07-30T16:49:34.610128",
     "status": "completed"
    },
    "tags": []
   },
   "source": [
    "# Train XGB\n",
    "We will train using `DeviceQuantileDMatrix`. This has a very small GPU memory footprint."
   ]
  },
  {
   "cell_type": "code",
   "execution_count": 7,
   "id": "95a78b69",
   "metadata": {
    "execution": {
     "iopub.execute_input": "2022-07-30T16:49:34.634198Z",
     "iopub.status.busy": "2022-07-30T16:49:34.633876Z",
     "iopub.status.idle": "2022-07-30T16:49:34.721090Z",
     "shell.execute_reply": "2022-07-30T16:49:34.719898Z"
    },
    "papermill": {
     "duration": 0.097614,
     "end_time": "2022-07-30T16:49:34.723195",
     "exception": false,
     "start_time": "2022-07-30T16:49:34.625581",
     "status": "completed"
    },
    "tags": []
   },
   "outputs": [
    {
     "name": "stdout",
     "output_type": "stream",
     "text": [
      "XGB Version 1.6.1\n"
     ]
    }
   ],
   "source": [
    "# LOAD XGB LIBRARY\n",
    "from sklearn.model_selection import KFold\n",
    "import xgboost as xgb\n",
    "print('XGB Version',xgb.__version__)\n",
    "\n",
    "# XGB MODEL PARAMETERS\n",
    "xgb_parms = { \n",
    "    'max_depth':4, \n",
    "    'learning_rate':0.05, \n",
    "    'subsample':0.8,\n",
    "    'colsample_bytree':0.6, \n",
    "    'eval_metric':'logloss',\n",
    "    'objective':'binary:logistic',\n",
    "    'tree_method':'gpu_hist',\n",
    "    'predictor':'gpu_predictor',\n",
    "    'random_state':SEED\n",
    "}"
   ]
  },
  {
   "cell_type": "code",
   "execution_count": 8,
   "id": "d9de2a40",
   "metadata": {
    "execution": {
     "iopub.execute_input": "2022-07-30T16:49:34.740028Z",
     "iopub.status.busy": "2022-07-30T16:49:34.739739Z",
     "iopub.status.idle": "2022-07-30T16:49:34.750046Z",
     "shell.execute_reply": "2022-07-30T16:49:34.749379Z"
    },
    "papermill": {
     "duration": 0.020652,
     "end_time": "2022-07-30T16:49:34.751755",
     "exception": false,
     "start_time": "2022-07-30T16:49:34.731103",
     "status": "completed"
    },
    "tags": []
   },
   "outputs": [],
   "source": [
    "# NEEDED WITH DeviceQuantileDMatrix BELOW\n",
    "class IterLoadForDMatrix(xgb.core.DataIter):\n",
    "    def __init__(self, df=None, features=None, target=None, batch_size=256*1024):\n",
    "        self.features = features\n",
    "        self.target = target\n",
    "        self.df = df\n",
    "        self.it = 0 # set iterator to 0\n",
    "        self.batch_size = batch_size\n",
    "        self.batches = int( np.ceil( len(df) / self.batch_size ) )\n",
    "        super().__init__()\n",
    "\n",
    "    def reset(self):\n",
    "        '''Reset the iterator'''\n",
    "        self.it = 0\n",
    "\n",
    "    def next(self, input_data):\n",
    "        '''Yield next batch of data.'''\n",
    "        if self.it == self.batches:\n",
    "            return 0 # Return 0 when there's no more batch.\n",
    "        \n",
    "        a = self.it * self.batch_size\n",
    "        b = min( (self.it + 1) * self.batch_size, len(self.df) )\n",
    "        dt = cudf.DataFrame(self.df.iloc[a:b])\n",
    "        input_data(data=dt[self.features], label=dt[self.target]) #, weight=dt['weight'])\n",
    "        self.it += 1\n",
    "        return 1"
   ]
  },
  {
   "cell_type": "code",
   "execution_count": 9,
   "id": "8ce465d9",
   "metadata": {
    "execution": {
     "iopub.execute_input": "2022-07-30T16:49:34.767655Z",
     "iopub.status.busy": "2022-07-30T16:49:34.767364Z",
     "iopub.status.idle": "2022-07-30T16:49:34.776627Z",
     "shell.execute_reply": "2022-07-30T16:49:34.775821Z"
    },
    "papermill": {
     "duration": 0.019213,
     "end_time": "2022-07-30T16:49:34.778479",
     "exception": false,
     "start_time": "2022-07-30T16:49:34.759266",
     "status": "completed"
    },
    "tags": []
   },
   "outputs": [],
   "source": [
    "# https://www.kaggle.com/kyakovlev\n",
    "# https://www.kaggle.com/competitions/amex-default-prediction/discussion/327534\n",
    "def amex_metric_mod(y_true, y_pred):\n",
    "\n",
    "    labels     = np.transpose(np.array([y_true, y_pred]))\n",
    "    labels     = labels[labels[:, 1].argsort()[::-1]]\n",
    "    weights    = np.where(labels[:,0]==0, 20, 1)\n",
    "    cut_vals   = labels[np.cumsum(weights) <= int(0.04 * np.sum(weights))]\n",
    "    top_four   = np.sum(cut_vals[:,0]) / np.sum(labels[:,0])\n",
    "\n",
    "    gini = [0,0]\n",
    "    for i in [1,0]:\n",
    "        labels         = np.transpose(np.array([y_true, y_pred]))\n",
    "        labels         = labels[labels[:, i].argsort()[::-1]]\n",
    "        weight         = np.where(labels[:,0]==0, 20, 1)\n",
    "        weight_random  = np.cumsum(weight / np.sum(weight))\n",
    "        total_pos      = np.sum(labels[:, 0] *  weight)\n",
    "        cum_pos_found  = np.cumsum(labels[:, 0] * weight)\n",
    "        lorentz        = cum_pos_found / total_pos\n",
    "        gini[i]        = np.sum((lorentz - weight_random) * weight)\n",
    "\n",
    "    return 0.5 * (gini[1]/gini[0] + top_four)"
   ]
  },
  {
   "cell_type": "code",
   "execution_count": 10,
   "id": "6c73ec66",
   "metadata": {
    "execution": {
     "iopub.execute_input": "2022-07-30T16:49:34.796330Z",
     "iopub.status.busy": "2022-07-30T16:49:34.795667Z",
     "iopub.status.idle": "2022-07-30T16:56:45.576925Z",
     "shell.execute_reply": "2022-07-30T16:56:45.576004Z"
    },
    "papermill": {
     "duration": 430.793168,
     "end_time": "2022-07-30T16:56:45.579380",
     "exception": false,
     "start_time": "2022-07-30T16:49:34.786212",
     "status": "completed"
    },
    "scrolled": true,
    "tags": []
   },
   "outputs": [
    {
     "name": "stdout",
     "output_type": "stream",
     "text": [
      "#########################\n",
      "### Fold 1\n",
      "### Train size 367130 Valid size 91783\n",
      "### Training with 100% fold data...\n",
      "#########################\n",
      "[0]\ttrain-logloss:0.66202\tvalid-logloss:0.66205\n",
      "[100]\ttrain-logloss:0.23880\tvalid-logloss:0.24109\n",
      "[200]\ttrain-logloss:0.22454\tvalid-logloss:0.22898\n",
      "[300]\ttrain-logloss:0.21864\tvalid-logloss:0.22506\n",
      "[400]\ttrain-logloss:0.21482\tvalid-logloss:0.22305\n",
      "[500]\ttrain-logloss:0.21190\tvalid-logloss:0.22192\n",
      "[600]\ttrain-logloss:0.20935\tvalid-logloss:0.22116\n",
      "[700]\ttrain-logloss:0.20708\tvalid-logloss:0.22066\n",
      "[800]\ttrain-logloss:0.20497\tvalid-logloss:0.22029\n",
      "[900]\ttrain-logloss:0.20304\tvalid-logloss:0.21997\n",
      "[1000]\ttrain-logloss:0.20118\tvalid-logloss:0.21983\n",
      "[1100]\ttrain-logloss:0.19937\tvalid-logloss:0.21974\n",
      "[1200]\ttrain-logloss:0.19756\tvalid-logloss:0.21958\n",
      "[1300]\ttrain-logloss:0.19587\tvalid-logloss:0.21952\n",
      "[1400]\ttrain-logloss:0.19422\tvalid-logloss:0.21948\n",
      "[1500]\ttrain-logloss:0.19258\tvalid-logloss:0.21943\n",
      "[1600]\ttrain-logloss:0.19089\tvalid-logloss:0.21936\n",
      "[1700]\ttrain-logloss:0.18929\tvalid-logloss:0.21933\n",
      "[1731]\ttrain-logloss:0.18881\tvalid-logloss:0.21934\n",
      "Kaggle Metric = 0.7894857844729534 \n",
      "\n",
      "#########################\n",
      "### Fold 2\n",
      "### Train size 367130 Valid size 91783\n",
      "### Training with 100% fold data...\n",
      "#########################\n",
      "[0]\ttrain-logloss:0.66204\tvalid-logloss:0.66199\n",
      "[100]\ttrain-logloss:0.23897\tvalid-logloss:0.24004\n",
      "[200]\ttrain-logloss:0.22470\tvalid-logloss:0.22769\n",
      "[300]\ttrain-logloss:0.21888\tvalid-logloss:0.22379\n",
      "[400]\ttrain-logloss:0.21507\tvalid-logloss:0.22187\n",
      "[500]\ttrain-logloss:0.21209\tvalid-logloss:0.22078\n",
      "[600]\ttrain-logloss:0.20956\tvalid-logloss:0.22008\n",
      "[700]\ttrain-logloss:0.20731\tvalid-logloss:0.21955\n",
      "[800]\ttrain-logloss:0.20513\tvalid-logloss:0.21917\n",
      "[900]\ttrain-logloss:0.20321\tvalid-logloss:0.21903\n",
      "[1000]\ttrain-logloss:0.20136\tvalid-logloss:0.21884\n",
      "[1100]\ttrain-logloss:0.19948\tvalid-logloss:0.21871\n",
      "[1200]\ttrain-logloss:0.19770\tvalid-logloss:0.21863\n",
      "[1300]\ttrain-logloss:0.19602\tvalid-logloss:0.21854\n",
      "[1400]\ttrain-logloss:0.19433\tvalid-logloss:0.21849\n",
      "[1500]\ttrain-logloss:0.19266\tvalid-logloss:0.21841\n",
      "[1600]\ttrain-logloss:0.19106\tvalid-logloss:0.21833\n",
      "[1700]\ttrain-logloss:0.18949\tvalid-logloss:0.21835\n",
      "[1724]\ttrain-logloss:0.18912\tvalid-logloss:0.21838\n",
      "Kaggle Metric = 0.7894728789980425 \n",
      "\n",
      "#########################\n",
      "### Fold 3\n",
      "### Train size 367130 Valid size 91783\n",
      "### Training with 100% fold data...\n",
      "#########################\n",
      "[0]\ttrain-logloss:0.66197\tvalid-logloss:0.66207\n",
      "[100]\ttrain-logloss:0.23826\tvalid-logloss:0.24255\n",
      "[200]\ttrain-logloss:0.22407\tvalid-logloss:0.23060\n",
      "[300]\ttrain-logloss:0.21821\tvalid-logloss:0.22683\n",
      "[400]\ttrain-logloss:0.21440\tvalid-logloss:0.22493\n",
      "[500]\ttrain-logloss:0.21149\tvalid-logloss:0.22397\n",
      "[600]\ttrain-logloss:0.20892\tvalid-logloss:0.22332\n",
      "[700]\ttrain-logloss:0.20664\tvalid-logloss:0.22286\n",
      "[800]\ttrain-logloss:0.20456\tvalid-logloss:0.22256\n",
      "[900]\ttrain-logloss:0.20255\tvalid-logloss:0.22227\n",
      "[1000]\ttrain-logloss:0.20064\tvalid-logloss:0.22210\n",
      "[1100]\ttrain-logloss:0.19879\tvalid-logloss:0.22195\n",
      "[1200]\ttrain-logloss:0.19702\tvalid-logloss:0.22183\n",
      "[1300]\ttrain-logloss:0.19524\tvalid-logloss:0.22178\n",
      "[1400]\ttrain-logloss:0.19353\tvalid-logloss:0.22175\n",
      "[1500]\ttrain-logloss:0.19186\tvalid-logloss:0.22165\n",
      "[1580]\ttrain-logloss:0.19053\tvalid-logloss:0.22166\n",
      "Kaggle Metric = 0.7883240135981826 \n",
      "\n",
      "#########################\n",
      "### Fold 4\n",
      "### Train size 367131 Valid size 91782\n",
      "### Training with 100% fold data...\n",
      "#########################\n",
      "[0]\ttrain-logloss:0.66198\tvalid-logloss:0.66213\n",
      "[100]\ttrain-logloss:0.23831\tvalid-logloss:0.24277\n",
      "[200]\ttrain-logloss:0.22405\tvalid-logloss:0.23082\n",
      "[300]\ttrain-logloss:0.21815\tvalid-logloss:0.22704\n",
      "[400]\ttrain-logloss:0.21435\tvalid-logloss:0.22513\n",
      "[500]\ttrain-logloss:0.21144\tvalid-logloss:0.22405\n",
      "[600]\ttrain-logloss:0.20890\tvalid-logloss:0.22325\n",
      "[700]\ttrain-logloss:0.20662\tvalid-logloss:0.22272\n",
      "[800]\ttrain-logloss:0.20454\tvalid-logloss:0.22244\n",
      "[900]\ttrain-logloss:0.20265\tvalid-logloss:0.22229\n",
      "[1000]\ttrain-logloss:0.20073\tvalid-logloss:0.22208\n",
      "[1100]\ttrain-logloss:0.19887\tvalid-logloss:0.22194\n",
      "[1200]\ttrain-logloss:0.19710\tvalid-logloss:0.22190\n",
      "[1300]\ttrain-logloss:0.19539\tvalid-logloss:0.22186\n",
      "[1400]\ttrain-logloss:0.19365\tvalid-logloss:0.22180\n",
      "[1500]\ttrain-logloss:0.19197\tvalid-logloss:0.22174\n",
      "[1577]\ttrain-logloss:0.19071\tvalid-logloss:0.22176\n",
      "Kaggle Metric = 0.7854319178238037 \n",
      "\n",
      "#########################\n",
      "### Fold 5\n",
      "### Train size 367131 Valid size 91782\n",
      "### Training with 100% fold data...\n",
      "#########################\n",
      "[0]\ttrain-logloss:0.66205\tvalid-logloss:0.66198\n",
      "[100]\ttrain-logloss:0.23912\tvalid-logloss:0.23963\n",
      "[200]\ttrain-logloss:0.22495\tvalid-logloss:0.22749\n",
      "[300]\ttrain-logloss:0.21911\tvalid-logloss:0.22348\n",
      "[400]\ttrain-logloss:0.21533\tvalid-logloss:0.22142\n",
      "[500]\ttrain-logloss:0.21235\tvalid-logloss:0.22027\n",
      "[600]\ttrain-logloss:0.20986\tvalid-logloss:0.21953\n",
      "[700]\ttrain-logloss:0.20757\tvalid-logloss:0.21901\n",
      "[800]\ttrain-logloss:0.20540\tvalid-logloss:0.21867\n",
      "[900]\ttrain-logloss:0.20343\tvalid-logloss:0.21845\n",
      "[1000]\ttrain-logloss:0.20153\tvalid-logloss:0.21824\n",
      "[1100]\ttrain-logloss:0.19965\tvalid-logloss:0.21809\n",
      "[1200]\ttrain-logloss:0.19785\tvalid-logloss:0.21796\n",
      "[1300]\ttrain-logloss:0.19610\tvalid-logloss:0.21792\n",
      "[1400]\ttrain-logloss:0.19443\tvalid-logloss:0.21784\n",
      "[1500]\ttrain-logloss:0.19278\tvalid-logloss:0.21774\n",
      "[1600]\ttrain-logloss:0.19114\tvalid-logloss:0.21761\n",
      "[1700]\ttrain-logloss:0.18958\tvalid-logloss:0.21759\n",
      "[1800]\ttrain-logloss:0.18803\tvalid-logloss:0.21762\n",
      "[1900]\ttrain-logloss:0.18648\tvalid-logloss:0.21759\n",
      "[1988]\ttrain-logloss:0.18518\tvalid-logloss:0.21763\n",
      "Kaggle Metric = 0.7922664816051356 \n",
      "\n",
      "#########################\n",
      "OVERALL CV Kaggle Metric = 0.7889752927863511\n"
     ]
    }
   ],
   "source": [
    "importances = []\n",
    "oof = []\n",
    "train = train.to_pandas() # free GPU memory\n",
    "TRAIN_SUBSAMPLE = 1.0\n",
    "gc.collect()\n",
    "\n",
    "skf = KFold(n_splits=FOLDS, shuffle=True, random_state=SEED)\n",
    "for fold,(train_idx, valid_idx) in enumerate(skf.split(\n",
    "            train, train.target )):\n",
    "    \n",
    "    # TRAIN WITH SUBSAMPLE OF TRAIN FOLD DATA\n",
    "    if TRAIN_SUBSAMPLE<1.0:\n",
    "        np.random.seed(SEED)\n",
    "        train_idx = np.random.choice(train_idx, \n",
    "                       int(len(train_idx)*TRAIN_SUBSAMPLE), replace=False)\n",
    "        np.random.seed(None)\n",
    "    \n",
    "    print('#'*25)\n",
    "    print('### Fold',fold+1)\n",
    "    print('### Train size',len(train_idx),'Valid size',len(valid_idx))\n",
    "    print(f'### Training with {int(TRAIN_SUBSAMPLE*100)}% fold data...')\n",
    "    print('#'*25)\n",
    "    \n",
    "    # TRAIN, VALID, TEST FOR FOLD K\n",
    "    Xy_train = IterLoadForDMatrix(train.loc[train_idx], FEATURES, 'target')\n",
    "    X_valid = train.loc[valid_idx, FEATURES]\n",
    "    y_valid = train.loc[valid_idx, 'target']\n",
    "    \n",
    "    dtrain = xgb.DeviceQuantileDMatrix(Xy_train, max_bin=256)\n",
    "    dvalid = xgb.DMatrix(data=X_valid, label=y_valid)\n",
    "    \n",
    "    # TRAIN MODEL FOLD K\n",
    "    model = xgb.train(xgb_parms, \n",
    "                dtrain=dtrain,\n",
    "                evals=[(dtrain,'train'),(dvalid,'valid')],\n",
    "                num_boost_round=9999,\n",
    "                early_stopping_rounds=100,\n",
    "                verbose_eval=100) \n",
    "    model.save_model(f'XGB_v{VER}_fold{fold}.xgb')\n",
    "    \n",
    "    # GET FEATURE IMPORTANCE FOR FOLD K\n",
    "    dd = model.get_score(importance_type='weight')\n",
    "    df = pd.DataFrame({'feature':dd.keys(),f'importance_{fold}':dd.values()})\n",
    "    importances.append(df)\n",
    "            \n",
    "    # INFER OOF FOLD K\n",
    "    oof_preds = model.predict(dvalid)\n",
    "    acc = amex_metric_mod(y_valid.values, oof_preds)\n",
    "    print('Kaggle Metric =',acc,'\\n')\n",
    "    \n",
    "    # SAVE OOF\n",
    "    df = train.loc[valid_idx, ['customer_ID','target'] ].copy()\n",
    "    df['oof_pred'] = oof_preds\n",
    "    oof.append( df )\n",
    "    \n",
    "    del dtrain, Xy_train, dd, df\n",
    "    del X_valid, y_valid, dvalid, model\n",
    "    _ = gc.collect()\n",
    "    \n",
    "print('#'*25)\n",
    "oof = pd.concat(oof,axis=0,ignore_index=True).set_index('customer_ID')\n",
    "acc = amex_metric_mod(oof.target.values, oof.oof_pred.values)\n",
    "print('OVERALL CV Kaggle Metric =',acc)"
   ]
  },
  {
   "cell_type": "code",
   "execution_count": 11,
   "id": "0efc8640",
   "metadata": {
    "execution": {
     "iopub.execute_input": "2022-07-30T16:56:45.609255Z",
     "iopub.status.busy": "2022-07-30T16:56:45.608929Z",
     "iopub.status.idle": "2022-07-30T16:56:45.747221Z",
     "shell.execute_reply": "2022-07-30T16:56:45.746291Z"
    },
    "papermill": {
     "duration": 0.155444,
     "end_time": "2022-07-30T16:56:45.749133",
     "exception": false,
     "start_time": "2022-07-30T16:56:45.593689",
     "status": "completed"
    },
    "tags": []
   },
   "outputs": [],
   "source": [
    "# CLEAN RAM\n",
    "del train\n",
    "_ = gc.collect()"
   ]
  },
  {
   "cell_type": "markdown",
   "id": "c83f4362",
   "metadata": {
    "papermill": {
     "duration": 0.013213,
     "end_time": "2022-07-30T16:56:45.776802",
     "exception": false,
     "start_time": "2022-07-30T16:56:45.763589",
     "status": "completed"
    },
    "tags": []
   },
   "source": [
    "# Save OOF Preds"
   ]
  },
  {
   "cell_type": "code",
   "execution_count": 12,
   "id": "336590a3",
   "metadata": {
    "execution": {
     "iopub.execute_input": "2022-07-30T16:56:45.805436Z",
     "iopub.status.busy": "2022-07-30T16:56:45.805134Z",
     "iopub.status.idle": "2022-07-30T16:56:50.971011Z",
     "shell.execute_reply": "2022-07-30T16:56:50.969976Z"
    },
    "papermill": {
     "duration": 5.182815,
     "end_time": "2022-07-30T16:56:50.973266",
     "exception": false,
     "start_time": "2022-07-30T16:56:45.790451",
     "status": "completed"
    },
    "tags": []
   },
   "outputs": [
    {
     "data": {
      "text/html": [
       "<div>\n",
       "<style scoped>\n",
       "    .dataframe tbody tr th:only-of-type {\n",
       "        vertical-align: middle;\n",
       "    }\n",
       "\n",
       "    .dataframe tbody tr th {\n",
       "        vertical-align: top;\n",
       "    }\n",
       "\n",
       "    .dataframe thead th {\n",
       "        text-align: right;\n",
       "    }\n",
       "</style>\n",
       "<table border=\"1\" class=\"dataframe\">\n",
       "  <thead>\n",
       "    <tr style=\"text-align: right;\">\n",
       "      <th></th>\n",
       "      <th>customer_ID</th>\n",
       "      <th>target</th>\n",
       "      <th>oof_pred</th>\n",
       "    </tr>\n",
       "  </thead>\n",
       "  <tbody>\n",
       "    <tr>\n",
       "      <th>0</th>\n",
       "      <td>20eac26171c3d251c55fc78204e59fab1c15fc2bc96d0c...</td>\n",
       "      <td>1</td>\n",
       "      <td>0.616921</td>\n",
       "    </tr>\n",
       "    <tr>\n",
       "      <th>1</th>\n",
       "      <td>aea50fdf9b974ccec95fa177c3225a0f913483b457de6e...</td>\n",
       "      <td>0</td>\n",
       "      <td>0.000578</td>\n",
       "    </tr>\n",
       "    <tr>\n",
       "      <th>2</th>\n",
       "      <td>32cd2d41aef737b69089882754395925c96eaee1f4a859...</td>\n",
       "      <td>0</td>\n",
       "      <td>0.001742</td>\n",
       "    </tr>\n",
       "    <tr>\n",
       "      <th>3</th>\n",
       "      <td>8daa6d5dc2655a8a437531e6b8b96829113cdfe9bf6cae...</td>\n",
       "      <td>0</td>\n",
       "      <td>0.014661</td>\n",
       "    </tr>\n",
       "    <tr>\n",
       "      <th>4</th>\n",
       "      <td>0ceba351a3851202542feb49d7385bcef32f6037fc57c7...</td>\n",
       "      <td>1</td>\n",
       "      <td>0.838041</td>\n",
       "    </tr>\n",
       "  </tbody>\n",
       "</table>\n",
       "</div>"
      ],
      "text/plain": [
       "                                         customer_ID  target  oof_pred\n",
       "0  20eac26171c3d251c55fc78204e59fab1c15fc2bc96d0c...       1  0.616921\n",
       "1  aea50fdf9b974ccec95fa177c3225a0f913483b457de6e...       0  0.000578\n",
       "2  32cd2d41aef737b69089882754395925c96eaee1f4a859...       0  0.001742\n",
       "3  8daa6d5dc2655a8a437531e6b8b96829113cdfe9bf6cae...       0  0.014661\n",
       "4  0ceba351a3851202542feb49d7385bcef32f6037fc57c7...       1  0.838041"
      ]
     },
     "execution_count": 12,
     "metadata": {},
     "output_type": "execute_result"
    }
   ],
   "source": [
    "oof_xgb = pd.read_parquet(TRAIN_PATH, columns=['customer_ID']).drop_duplicates()\n",
    "oof_xgb['customer_ID_hash'] = oof_xgb['customer_ID'].apply(lambda x: int(x[-16:],16) ).astype('int64')\n",
    "oof_xgb = oof_xgb.set_index('customer_ID_hash')\n",
    "oof_xgb = oof_xgb.merge(oof, left_index=True, right_index=True)\n",
    "oof_xgb = oof_xgb.sort_index().reset_index(drop=True)\n",
    "oof_xgb.to_csv(f'oof_xgb_v{VER}.csv',index=False)\n",
    "oof_xgb.head()"
   ]
  },
  {
   "cell_type": "code",
   "execution_count": 13,
   "id": "bcdc4989",
   "metadata": {
    "execution": {
     "iopub.execute_input": "2022-07-30T16:56:51.003754Z",
     "iopub.status.busy": "2022-07-30T16:56:51.003460Z",
     "iopub.status.idle": "2022-07-30T16:56:51.399905Z",
     "shell.execute_reply": "2022-07-30T16:56:51.399096Z"
    },
    "papermill": {
     "duration": 0.417241,
     "end_time": "2022-07-30T16:56:51.405958",
     "exception": false,
     "start_time": "2022-07-30T16:56:50.988717",
     "status": "completed"
    },
    "tags": []
   },
   "outputs": [
    {
     "data": {
      "image/png": "[encoded data removed]",
      "text/plain": [
       "<Figure size 432x288 with 1 Axes>"
      ]
     },
     "metadata": {
      "needs_background": "light"
     },
     "output_type": "display_data"
    }
   ],
   "source": [
    "# PLOT OOF PREDICTIONS\n",
    "plt.hist(oof_xgb.oof_pred.values, bins=100)\n",
    "plt.title('OOF Predictions')\n",
    "plt.show()"
   ]
  },
  {
   "cell_type": "code",
   "execution_count": 14,
   "id": "2ded6dd7",
   "metadata": {
    "execution": {
     "iopub.execute_input": "2022-07-30T16:56:51.454559Z",
     "iopub.status.busy": "2022-07-30T16:56:51.454061Z",
     "iopub.status.idle": "2022-07-30T16:56:51.643717Z",
     "shell.execute_reply": "2022-07-30T16:56:51.642897Z"
    },
    "papermill": {
     "duration": 0.218772,
     "end_time": "2022-07-30T16:56:51.646316",
     "exception": false,
     "start_time": "2022-07-30T16:56:51.427544",
     "status": "completed"
    },
    "tags": []
   },
   "outputs": [],
   "source": [
    "# CLEAR VRAM, RAM FOR INFERENCE BELOW\n",
    "del oof_xgb, oof\n",
    "_ = gc.collect()"
   ]
  },
  {
   "cell_type": "markdown",
   "id": "e0c94374",
   "metadata": {
    "papermill": {
     "duration": 0.024652,
     "end_time": "2022-07-30T16:56:51.696080",
     "exception": false,
     "start_time": "2022-07-30T16:56:51.671428",
     "status": "completed"
    },
    "tags": []
   },
   "source": [
    "# Feature Importance"
   ]
  },
  {
   "cell_type": "code",
   "execution_count": 15,
   "id": "26890bbd",
   "metadata": {
    "execution": {
     "iopub.execute_input": "2022-07-30T16:56:51.746140Z",
     "iopub.status.busy": "2022-07-30T16:56:51.745645Z",
     "iopub.status.idle": "2022-07-30T16:56:51.785507Z",
     "shell.execute_reply": "2022-07-30T16:56:51.784605Z"
    },
    "papermill": {
     "duration": 0.067771,
     "end_time": "2022-07-30T16:56:51.788259",
     "exception": false,
     "start_time": "2022-07-30T16:56:51.720488",
     "status": "completed"
    },
    "tags": []
   },
   "outputs": [],
   "source": [
    "import matplotlib.pyplot as plt\n",
    "\n",
    "df = importances[0].copy()\n",
    "for k in range(1,FOLDS): df = df.merge(importances[k], on='feature', how='left')\n",
    "df['importance'] = df.iloc[:,1:].mean(axis=1)\n",
    "df = df.sort_values('importance',ascending=False)\n",
    "df.to_csv(f'xgb_feature_importance_v{VER}.csv',index=False)"
   ]
  },
  {
   "cell_type": "code",
   "execution_count": 16,
   "id": "483dad87",
   "metadata": {
    "execution": {
     "iopub.execute_input": "2022-07-30T16:56:51.835862Z",
     "iopub.status.busy": "2022-07-30T16:56:51.835487Z",
     "iopub.status.idle": "2022-07-30T16:56:52.215876Z",
     "shell.execute_reply": "2022-07-30T16:56:52.215084Z"
    },
    "papermill": {
     "duration": 0.406409,
     "end_time": "2022-07-30T16:56:52.218764",
     "exception": false,
     "start_time": "2022-07-30T16:56:51.812355",
     "status": "completed"
    },
    "tags": []
   },
   "outputs": [
    {
     "data": {
      "image/png": "[encoded data removed]",
      "text/plain": [
       "<Figure size 720x720 with 1 Axes>"
      ]
     },
     "metadata": {
      "needs_background": "light"
     },
     "output_type": "display_data"
    }
   ],
   "source": [
    "NUM_FEATURES = 20\n",
    "plt.figure(figsize=(10,5*NUM_FEATURES//10))\n",
    "plt.barh(np.arange(NUM_FEATURES,0,-1), df.importance.values[:NUM_FEATURES])\n",
    "plt.yticks(np.arange(NUM_FEATURES,0,-1), df.feature.values[:NUM_FEATURES])\n",
    "plt.title(f'XGB Feature Importance - Top {NUM_FEATURES}')\n",
    "plt.show()"
   ]
  },
  {
   "cell_type": "markdown",
   "id": "57f2a4a8",
   "metadata": {
    "papermill": {
     "duration": 0.026935,
     "end_time": "2022-07-30T16:56:52.274064",
     "exception": false,
     "start_time": "2022-07-30T16:56:52.247129",
     "status": "completed"
    },
    "tags": []
   },
   "source": [
    "# Process and Feature Engineer Test Data\n",
    "We will load @raddar Kaggle dataset from [here][1] with discussion [here][2]. Then we will engineer features suggested by @huseyincot in his notebooks [here][1] and [here][4]. We will use [RAPIDS][5] and the GPU to create new features quickly.\n",
    "\n",
    "[1]: https://www.kaggle.com/datasets/raddar/amex-data-integer-dtypes-parquet-format\n",
    "[2]: https://www.kaggle.com/competitions/amex-default-prediction/discussion/328514\n",
    "[3]: https://www.kaggle.com/code/huseyincot/amex-catboost-0-793\n",
    "[4]: https://www.kaggle.com/code/huseyincot/amex-agg-data-how-it-created\n",
    "[5]: https://rapids.ai/"
   ]
  },
  {
   "cell_type": "code",
   "execution_count": 17,
   "id": "76806b3f",
   "metadata": {
    "execution": {
     "iopub.execute_input": "2022-07-30T16:56:52.329233Z",
     "iopub.status.busy": "2022-07-30T16:56:52.328833Z",
     "iopub.status.idle": "2022-07-30T16:56:54.798156Z",
     "shell.execute_reply": "2022-07-30T16:56:54.796686Z"
    },
    "papermill": {
     "duration": 2.499411,
     "end_time": "2022-07-30T16:56:54.800123",
     "exception": false,
     "start_time": "2022-07-30T16:56:52.300712",
     "status": "completed"
    },
    "tags": []
   },
   "outputs": [
    {
     "name": "stdout",
     "output_type": "stream",
     "text": [
      "Reading test data...\n",
      "shape of data: (11363762, 2)\n",
      "We will process test data as 4 separate parts.\n",
      "There will be 231155 customers in each part (except the last part).\n",
      "Below are number of rows in each part:\n",
      "[2841209, 2839857, 2842105, 2840591]\n"
     ]
    }
   ],
   "source": [
    "# CALCULATE SIZE OF EACH SEPARATE TEST PART\n",
    "def get_rows(customers, test, NUM_PARTS = 4, verbose = ''):\n",
    "    chunk = len(customers)//NUM_PARTS\n",
    "    if verbose != '':\n",
    "        print(f'We will process {verbose} data as {NUM_PARTS} separate parts.')\n",
    "        print(f'There will be {chunk} customers in each part (except the last part).')\n",
    "        print('Below are number of rows in each part:')\n",
    "    rows = []\n",
    "\n",
    "    for k in range(NUM_PARTS):\n",
    "        if k==NUM_PARTS-1: cc = customers[k*chunk:]\n",
    "        else: cc = customers[k*chunk:(k+1)*chunk]\n",
    "        s = test.loc[test.customer_ID.isin(cc)].shape[0]\n",
    "        rows.append(s)\n",
    "    if verbose != '': print( rows )\n",
    "    return rows,chunk\n",
    "\n",
    "# COMPUTE SIZE OF 4 PARTS FOR TEST DATA\n",
    "NUM_PARTS = 4\n",
    "TEST_PATH = '../input/amex-data-integer-dtypes-parquet-format/test.parquet'\n",
    "\n",
    "print(f'Reading test data...')\n",
    "test = read_file(path = TEST_PATH, usecols = ['customer_ID','S_2'])\n",
    "customers = test[['customer_ID']].drop_duplicates().sort_index().values.flatten()\n",
    "rows,num_cust = get_rows(customers, test[['customer_ID']], NUM_PARTS = NUM_PARTS, verbose = 'test')"
   ]
  },
  {
   "cell_type": "markdown",
   "id": "69e71a2e",
   "metadata": {
    "papermill": {
     "duration": 0.014495,
     "end_time": "2022-07-30T16:56:54.829737",
     "exception": false,
     "start_time": "2022-07-30T16:56:54.815242",
     "status": "completed"
    },
    "tags": []
   },
   "source": [
    "# Infer Test"
   ]
  },
  {
   "cell_type": "code",
   "execution_count": 18,
   "id": "f1b1ec9a",
   "metadata": {
    "execution": {
     "iopub.execute_input": "2022-07-30T16:56:54.859739Z",
     "iopub.status.busy": "2022-07-30T16:56:54.859454Z",
     "iopub.status.idle": "2022-07-30T16:59:58.610319Z",
     "shell.execute_reply": "2022-07-30T16:59:58.609428Z"
    },
    "papermill": {
     "duration": 183.7685,
     "end_time": "2022-07-30T16:59:58.612961",
     "exception": false,
     "start_time": "2022-07-30T16:56:54.844461",
     "status": "completed"
    },
    "tags": []
   },
   "outputs": [
    {
     "name": "stdout",
     "output_type": "stream",
     "text": [
      "\n",
      "Reading test data...\n",
      "shape of data: (11363762, 190)\n",
      "=> Test part 1 has shape (2841209, 190)\n",
      "shape after engineering (231155, 553)\n",
      "\n",
      "Reading test data...\n",
      "shape of data: (11363762, 190)\n",
      "=> Test part 2 has shape (2839857, 190)\n",
      "shape after engineering (231155, 553)\n",
      "\n",
      "Reading test data...\n",
      "shape of data: (11363762, 190)\n",
      "=> Test part 3 has shape (2842105, 190)\n",
      "shape after engineering (231155, 553)\n",
      "\n",
      "Reading test data...\n",
      "shape of data: (11363762, 190)\n",
      "=> Test part 4 has shape (2840591, 190)\n",
      "shape after engineering (231156, 553)\n"
     ]
    }
   ],
   "source": [
    "# INFER TEST DATA IN PARTS\n",
    "skip_rows = 0\n",
    "skip_cust = 0\n",
    "test_preds = []\n",
    "\n",
    "for k in range(NUM_PARTS):\n",
    "    \n",
    "    # READ PART OF TEST DATA\n",
    "    print(f'\\nReading test data...')\n",
    "    test = read_file(path = TEST_PATH)\n",
    "    test = test.iloc[skip_rows:skip_rows+rows[k]]\n",
    "    skip_rows += rows[k]\n",
    "    print(f'=> Test part {k+1} has shape', test.shape )\n",
    "    \n",
    "    # PROCESS AND FEATURE ENGINEER PART OF TEST DATA\n",
    "    test = process_and_feature_engineer(test)\n",
    "    if k==NUM_PARTS-1: test = test.loc[customers[skip_cust:]]\n",
    "    else: test = test.loc[customers[skip_cust:skip_cust+num_cust]]\n",
    "    skip_cust += num_cust\n",
    "    \n",
    "    # TEST DATA FOR XGB\n",
    "    X_test = test[FEATURES]\n",
    "    dtest = xgb.DMatrix(data=X_test)\n",
    "    test = test[['P_2_mean']] # reduce memory\n",
    "    del X_test\n",
    "    gc.collect()\n",
    "\n",
    "    # INFER XGB MODELS ON TEST DATA\n",
    "    model = xgb.Booster()\n",
    "    model.load_model(f'XGB_v{VER}_fold0.xgb')\n",
    "    preds = model.predict(dtest)\n",
    "    for f in range(1,FOLDS):\n",
    "        model.load_model(f'XGB_v{VER}_fold{f}.xgb')\n",
    "        preds += model.predict(dtest)\n",
    "    preds /= FOLDS\n",
    "    test_preds.append(preds)\n",
    "\n",
    "    # CLEAN MEMORY\n",
    "    del dtest, model\n",
    "    _ = gc.collect()"
   ]
  },
  {
   "cell_type": "markdown",
   "id": "2dc9d509",
   "metadata": {
    "papermill": {
     "duration": 0.015524,
     "end_time": "2022-07-30T16:59:58.644650",
     "exception": false,
     "start_time": "2022-07-30T16:59:58.629126",
     "status": "completed"
    },
    "tags": []
   },
   "source": [
    "# Create Submission CSV"
   ]
  },
  {
   "cell_type": "code",
   "execution_count": 19,
   "id": "5e2f715d",
   "metadata": {
    "execution": {
     "iopub.execute_input": "2022-07-30T16:59:58.677203Z",
     "iopub.status.busy": "2022-07-30T16:59:58.676881Z",
     "iopub.status.idle": "2022-07-30T16:59:59.964364Z",
     "shell.execute_reply": "2022-07-30T16:59:59.963303Z"
    },
    "papermill": {
     "duration": 1.306638,
     "end_time": "2022-07-30T16:59:59.966820",
     "exception": false,
     "start_time": "2022-07-30T16:59:58.660182",
     "status": "completed"
    },
    "tags": []
   },
   "outputs": [
    {
     "name": "stdout",
     "output_type": "stream",
     "text": [
      "Submission file shape is (924621, 2)\n"
     ]
    },
    {
     "data": {
      "text/html": [
       "<div>\n",
       "<style scoped>\n",
       "    .dataframe tbody tr th:only-of-type {\n",
       "        vertical-align: middle;\n",
       "    }\n",
       "\n",
       "    .dataframe tbody tr th {\n",
       "        vertical-align: top;\n",
       "    }\n",
       "\n",
       "    .dataframe thead th {\n",
       "        text-align: right;\n",
       "    }\n",
       "</style>\n",
       "<table border=\"1\" class=\"dataframe\">\n",
       "  <thead>\n",
       "    <tr style=\"text-align: right;\">\n",
       "      <th></th>\n",
       "      <th>customer_ID</th>\n",
       "      <th>prediction</th>\n",
       "    </tr>\n",
       "  </thead>\n",
       "  <tbody>\n",
       "    <tr>\n",
       "      <th>0</th>\n",
       "      <td>0359e97c244bbbbe2db7c21e891debe80e82291f2e470e...</td>\n",
       "      <td>0.002580</td>\n",
       "    </tr>\n",
       "    <tr>\n",
       "      <th>1</th>\n",
       "      <td>035b3479c9020483c00b7dac8f816759bb3aa6fdd8dfab...</td>\n",
       "      <td>0.000454</td>\n",
       "    </tr>\n",
       "    <tr>\n",
       "      <th>2</th>\n",
       "      <td>035a556cc13aae13de7bdcc71c81a1ab27f586f2ddf50e...</td>\n",
       "      <td>0.001597</td>\n",
       "    </tr>\n",
       "    <tr>\n",
       "      <th>3</th>\n",
       "      <td>035bca6744c2fe912b15a0bc6011f3ec679cbc7c60e049...</td>\n",
       "      <td>0.048544</td>\n",
       "    </tr>\n",
       "    <tr>\n",
       "      <th>4</th>\n",
       "      <td>0359f31145b54da7258ed5ff894cbe50dd4302d3d4a1e9...</td>\n",
       "      <td>0.075944</td>\n",
       "    </tr>\n",
       "  </tbody>\n",
       "</table>\n",
       "</div>"
      ],
      "text/plain": [
       "                                         customer_ID  prediction\n",
       "0  0359e97c244bbbbe2db7c21e891debe80e82291f2e470e...    0.002580\n",
       "1  035b3479c9020483c00b7dac8f816759bb3aa6fdd8dfab...    0.000454\n",
       "2  035a556cc13aae13de7bdcc71c81a1ab27f586f2ddf50e...    0.001597\n",
       "3  035bca6744c2fe912b15a0bc6011f3ec679cbc7c60e049...    0.048544\n",
       "4  0359f31145b54da7258ed5ff894cbe50dd4302d3d4a1e9...    0.075944"
      ]
     },
     "execution_count": 19,
     "metadata": {},
     "output_type": "execute_result"
    }
   ],
   "source": [
    "# WRITE SUBMISSION FILE\n",
    "test_preds = np.concatenate(test_preds)\n",
    "test = cudf.DataFrame(index=customers,data={'prediction':test_preds})\n",
    "sub = cudf.read_csv('../input/amex-default-prediction/sample_submission.csv')[['customer_ID']]\n",
    "sub['customer_ID_hash'] = sub['customer_ID'].str[-16:].str.hex_to_int().astype('int64')\n",
    "sub = sub.set_index('customer_ID_hash')\n",
    "sub = sub.merge(test[['prediction']], left_index=True, right_index=True, how='left')\n",
    "sub = sub.reset_index(drop=True)\n",
    "\n",
    "# DISPLAY PREDICTIONS\n",
    "sub.to_csv(f'submission_xgb_v{VER}.csv',index=False)\n",
    "print('Submission file shape is', sub.shape )\n",
    "sub.head()"
   ]
  },
  {
   "cell_type": "code",
   "execution_count": 20,
   "id": "f75c524d",
   "metadata": {
    "execution": {
     "iopub.execute_input": "2022-07-30T17:00:00.001011Z",
     "iopub.status.busy": "2022-07-30T17:00:00.000297Z",
     "iopub.status.idle": "2022-07-30T17:00:00.760231Z",
     "shell.execute_reply": "2022-07-30T17:00:00.759399Z"
    },
    "papermill": {
     "duration": 0.778505,
     "end_time": "2022-07-30T17:00:00.762016",
     "exception": false,
     "start_time": "2022-07-30T16:59:59.983511",
     "status": "completed"
    },
    "tags": []
   },
   "outputs": [
    {
     "data": {
      "image/png": "[encoded data removed]",
      "text/plain": [
       "<Figure size 432x288 with 1 Axes>"
      ]
     },
     "metadata": {
      "needs_background": "light"
     },
     "output_type": "display_data"
    }
   ],
   "source": [
    "# PLOT PREDICTIONS\n",
    "plt.hist(sub.to_pandas().prediction, bins=100)\n",
    "plt.title('Test Predictions')\n",
    "plt.show()"
   ]
  }
 ],
 "metadata": {
  "kernelspec": {
   "display_name": "Python 3",
   "language": "python",
   "name": "python3"
  },
  "language_info": {
   "codemirror_mode": {
    "name": "ipython",
    "version": 3
   },
   "file_extension": ".py",
   "mimetype": "text/x-python",
   "name": "python",
   "nbconvert_exporter": "python",
   "pygments_lexer": "ipython3",
   "version": "3.7.12"
  },
  "papermill": {
   "default_parameters": {},
   "duration": 669.836954,
   "end_time": "2022-07-30T17:00:02.101251",
   "environment_variables": {},
   "exception": null,
   "input_path": "__notebook__.ipynb",
   "output_path": "__notebook__.ipynb",
   "parameters": {},
   "start_time": "2022-07-30T16:48:52.264297",
   "version": "2.3.4"
  }
 },
 "nbformat": 4,
 "nbformat_minor": 5
}
