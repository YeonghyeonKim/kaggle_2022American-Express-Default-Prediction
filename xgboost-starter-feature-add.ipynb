{
 "cells": [
  {
   "cell_type": "markdown",
   "id": "d45fb1ed",
   "metadata": {
    "papermill": {
     "duration": 0.007957,
     "end_time": "2022-07-14T16:01:24.801474",
     "exception": false,
     "start_time": "2022-07-14T16:01:24.793517",
     "status": "completed"
    },
    "tags": []
   },
   "source": [
    "# XGBoost Starter - LB 0.793\n",
    "In this notebook we build and train an XGBoost model using @raddar Kaggle dataset from [here][1] with discussion [here][2]. Then we engineer features suggested by @huseyincot in his notebooks [here][3] and [here][4]. This XGB model achieves CV 0.792 LB 0.793! When training with XGB, we use a special XGB dataloader called `DeviceQuantileDMatrix` which uses a small GPU memory footprint. This allows us to engineer more additional columns and train with more rows of data. Our feature engineering is performed using [RAPIDS][5] on the GPU to create new features quickly.\n",
    "\n",
    "[1]: https://www.kaggle.com/datasets/raddar/amex-data-integer-dtypes-parquet-format\n",
    "[2]: https://www.kaggle.com/competitions/amex-default-prediction/discussion/328514\n",
    "[3]: https://www.kaggle.com/code/huseyincot/amex-catboost-0-793\n",
    "[4]: https://www.kaggle.com/code/huseyincot/amex-agg-data-how-it-created\n",
    "[5]: https://rapids.ai/"
   ]
  },
  {
   "cell_type": "markdown",
   "id": "a742050b",
   "metadata": {
    "papermill": {
     "duration": 0.006239,
     "end_time": "2022-07-14T16:01:24.814553",
     "exception": false,
     "start_time": "2022-07-14T16:01:24.808314",
     "status": "completed"
    },
    "tags": []
   },
   "source": [
    "Feature Engineering I done\n",
    "1. Drop B_29, https://www.kaggle.com/code/roberthatch/amex-feature-engg-gpu-or-cpu-process-in-chunks/notebook\n",
    "2. Add each customer count (how long they used) (not normalize)\n",
    "3. Don't fill NaN (with -127)\n",
    "4. remove num_features's min, std\n",
    "5. D_39에 대한 feature 추가"
   ]
  },
  {
   "cell_type": "markdown",
   "id": "c09ac7f0",
   "metadata": {
    "papermill": {
     "duration": 0.006413,
     "end_time": "2022-07-14T16:01:24.827266",
     "exception": false,
     "start_time": "2022-07-14T16:01:24.820853",
     "status": "completed"
    },
    "tags": []
   },
   "source": [
    "# Load Libraries"
   ]
  },
  {
   "cell_type": "code",
   "execution_count": 1,
   "id": "697ed4fe",
   "metadata": {
    "execution": {
     "iopub.execute_input": "2022-07-14T16:01:24.842517Z",
     "iopub.status.busy": "2022-07-14T16:01:24.841576Z",
     "iopub.status.idle": "2022-07-14T16:01:29.321872Z",
     "shell.execute_reply": "2022-07-14T16:01:29.319643Z"
    },
    "papermill": {
     "duration": 4.490073,
     "end_time": "2022-07-14T16:01:29.323702",
     "exception": false,
     "start_time": "2022-07-14T16:01:24.833629",
     "status": "completed"
    },
    "tags": []
   },
   "outputs": [
    {
     "name": "stdout",
     "output_type": "stream",
     "text": [
      "RAPIDS version 21.10.01\n"
     ]
    }
   ],
   "source": [
    "# LOAD LIBRARIES\n",
    "import pandas as pd, numpy as np # CPU libraries\n",
    "import cupy, cudf # GPU libraries\n",
    "import matplotlib.pyplot as plt, gc, os\n",
    "\n",
    "print('RAPIDS version',cudf.__version__)"
   ]
  },
  {
   "cell_type": "code",
   "execution_count": 2,
   "id": "a52c3299",
   "metadata": {
    "execution": {
     "iopub.execute_input": "2022-07-14T16:01:29.338193Z",
     "iopub.status.busy": "2022-07-14T16:01:29.337930Z",
     "iopub.status.idle": "2022-07-14T16:01:29.341834Z",
     "shell.execute_reply": "2022-07-14T16:01:29.341100Z"
    },
    "papermill": {
     "duration": 0.012939,
     "end_time": "2022-07-14T16:01:29.343442",
     "exception": false,
     "start_time": "2022-07-14T16:01:29.330503",
     "status": "completed"
    },
    "tags": []
   },
   "outputs": [],
   "source": [
    "# VERSION NAME FOR SAVED MODEL FILES\n",
    "VER = 1\n",
    "\n",
    "# TRAIN RANDOM SEED\n",
    "SEED = 42\n",
    "\n",
    "# FILL NAN VALUE\n",
    "NAN_VALUE = -127 # will fit in int8\n",
    "\n",
    "# FOLDS PER MODEL\n",
    "FOLDS = 5"
   ]
  },
  {
   "cell_type": "markdown",
   "id": "3f69663d",
   "metadata": {
    "papermill": {
     "duration": 0.006179,
     "end_time": "2022-07-14T16:01:29.355902",
     "exception": false,
     "start_time": "2022-07-14T16:01:29.349723",
     "status": "completed"
    },
    "tags": []
   },
   "source": [
    "# Process and Feature Engineer Train Data\n",
    "We will load @raddar Kaggle dataset from [here][1] with discussion [here][2]. Then we will engineer features suggested by @huseyincot in his notebooks [here][3] and [here][4]. We will use [RAPIDS][5] and the GPU to create new features quickly.\n",
    "\n",
    "[1]: https://www.kaggle.com/datasets/raddar/amex-data-integer-dtypes-parquet-format\n",
    "[2]: https://www.kaggle.com/competitions/amex-default-prediction/discussion/328514\n",
    "[3]: https://www.kaggle.com/code/huseyincot/amex-catboost-0-793\n",
    "[4]: https://www.kaggle.com/code/huseyincot/amex-agg-data-how-it-created\n",
    "[5]: https://rapids.ai/"
   ]
  },
  {
   "cell_type": "code",
   "execution_count": 3,
   "id": "41569c93",
   "metadata": {
    "execution": {
     "iopub.execute_input": "2022-07-14T16:01:29.369451Z",
     "iopub.status.busy": "2022-07-14T16:01:29.369181Z",
     "iopub.status.idle": "2022-07-14T16:01:53.822402Z",
     "shell.execute_reply": "2022-07-14T16:01:53.821562Z"
    },
    "papermill": {
     "duration": 24.462405,
     "end_time": "2022-07-14T16:01:53.824603",
     "exception": false,
     "start_time": "2022-07-14T16:01:29.362198",
     "status": "completed"
    },
    "tags": []
   },
   "outputs": [
    {
     "name": "stdout",
     "output_type": "stream",
     "text": [
      "Reading train data...\n",
      "shape of data: (5531451, 190)\n"
     ]
    }
   ],
   "source": [
    "def read_file(path = '', usecols = None):\n",
    "    # LOAD DATAFRAME\n",
    "    if usecols is not None: df = cudf.read_parquet(path, columns=usecols)\n",
    "    else: df = cudf.read_parquet(path)\n",
    "    # REDUCE DTYPE FOR CUSTOMER AND DATE\n",
    "    df['customer_ID'] = df['customer_ID'].str[-16:].str.hex_to_int().astype('int64')\n",
    "    df.S_2 = cudf.to_datetime( df.S_2 )\n",
    "    # SORT BY CUSTOMER AND DATE (so agg('last') works correctly)\n",
    "    #df = df.sort_values(['customer_ID','S_2'])\n",
    "    #df = df.reset_index(drop=True)\n",
    "    # FILL NAN\n",
    "#     df = df.fillna(NAN_VALUE) \n",
    "    print('shape of data:', df.shape)\n",
    "    \n",
    "    return df\n",
    "\n",
    "print('Reading train data...')\n",
    "TRAIN_PATH = '../input/amex-data-integer-dtypes-parquet-format/train.parquet'\n",
    "train = read_file(path = TRAIN_PATH)"
   ]
  },
  {
   "cell_type": "code",
   "execution_count": 4,
   "id": "4683bd12",
   "metadata": {
    "execution": {
     "iopub.execute_input": "2022-07-14T16:01:53.839425Z",
     "iopub.status.busy": "2022-07-14T16:01:53.839112Z",
     "iopub.status.idle": "2022-07-14T16:01:54.130883Z",
     "shell.execute_reply": "2022-07-14T16:01:54.130141Z"
    },
    "papermill": {
     "duration": 0.300922,
     "end_time": "2022-07-14T16:01:54.132757",
     "exception": false,
     "start_time": "2022-07-14T16:01:53.831835",
     "status": "completed"
    },
    "tags": []
   },
   "outputs": [
    {
     "data": {
      "text/html": [
       "<div>\n",
       "<style scoped>\n",
       "    .dataframe tbody tr th:only-of-type {\n",
       "        vertical-align: middle;\n",
       "    }\n",
       "\n",
       "    .dataframe tbody tr th {\n",
       "        vertical-align: top;\n",
       "    }\n",
       "\n",
       "    .dataframe thead th {\n",
       "        text-align: right;\n",
       "    }\n",
       "</style>\n",
       "<table border=\"1\" class=\"dataframe\">\n",
       "  <thead>\n",
       "    <tr style=\"text-align: right;\">\n",
       "      <th></th>\n",
       "      <th>customer_ID</th>\n",
       "      <th>S_2</th>\n",
       "      <th>P_2</th>\n",
       "      <th>D_39</th>\n",
       "      <th>B_1</th>\n",
       "      <th>B_2</th>\n",
       "      <th>R_1</th>\n",
       "      <th>S_3</th>\n",
       "      <th>D_41</th>\n",
       "      <th>B_3</th>\n",
       "      <th>...</th>\n",
       "      <th>D_136</th>\n",
       "      <th>D_137</th>\n",
       "      <th>D_138</th>\n",
       "      <th>D_139</th>\n",
       "      <th>D_140</th>\n",
       "      <th>D_141</th>\n",
       "      <th>D_142</th>\n",
       "      <th>D_143</th>\n",
       "      <th>D_144</th>\n",
       "      <th>D_145</th>\n",
       "    </tr>\n",
       "  </thead>\n",
       "  <tbody>\n",
       "    <tr>\n",
       "      <th>0</th>\n",
       "      <td>-4532153018459703766</td>\n",
       "      <td>2017-03-09</td>\n",
       "      <td>0.938469</td>\n",
       "      <td>0</td>\n",
       "      <td>0.008724</td>\n",
       "      <td>1.006838</td>\n",
       "      <td>0.009228</td>\n",
       "      <td>0.124035</td>\n",
       "      <td>0.0</td>\n",
       "      <td>0.004709</td>\n",
       "      <td>...</td>\n",
       "      <td>-1</td>\n",
       "      <td>-1</td>\n",
       "      <td>-1</td>\n",
       "      <td>0</td>\n",
       "      <td>0</td>\n",
       "      <td>0.0</td>\n",
       "      <td>&lt;NA&gt;</td>\n",
       "      <td>0</td>\n",
       "      <td>0.000610</td>\n",
       "      <td>0</td>\n",
       "    </tr>\n",
       "    <tr>\n",
       "      <th>1</th>\n",
       "      <td>-4532153018459703766</td>\n",
       "      <td>2017-04-07</td>\n",
       "      <td>0.936665</td>\n",
       "      <td>0</td>\n",
       "      <td>0.004923</td>\n",
       "      <td>1.000653</td>\n",
       "      <td>0.006151</td>\n",
       "      <td>0.126750</td>\n",
       "      <td>0.0</td>\n",
       "      <td>0.002714</td>\n",
       "      <td>...</td>\n",
       "      <td>-1</td>\n",
       "      <td>-1</td>\n",
       "      <td>-1</td>\n",
       "      <td>0</td>\n",
       "      <td>0</td>\n",
       "      <td>0.0</td>\n",
       "      <td>&lt;NA&gt;</td>\n",
       "      <td>0</td>\n",
       "      <td>0.005492</td>\n",
       "      <td>0</td>\n",
       "    </tr>\n",
       "    <tr>\n",
       "      <th>2</th>\n",
       "      <td>-4532153018459703766</td>\n",
       "      <td>2017-05-28</td>\n",
       "      <td>0.954180</td>\n",
       "      <td>3</td>\n",
       "      <td>0.021655</td>\n",
       "      <td>1.009672</td>\n",
       "      <td>0.006815</td>\n",
       "      <td>0.123977</td>\n",
       "      <td>0.0</td>\n",
       "      <td>0.009423</td>\n",
       "      <td>...</td>\n",
       "      <td>-1</td>\n",
       "      <td>-1</td>\n",
       "      <td>-1</td>\n",
       "      <td>0</td>\n",
       "      <td>0</td>\n",
       "      <td>0.0</td>\n",
       "      <td>&lt;NA&gt;</td>\n",
       "      <td>0</td>\n",
       "      <td>0.006986</td>\n",
       "      <td>0</td>\n",
       "    </tr>\n",
       "    <tr>\n",
       "      <th>3</th>\n",
       "      <td>-4532153018459703766</td>\n",
       "      <td>2017-06-13</td>\n",
       "      <td>0.960384</td>\n",
       "      <td>0</td>\n",
       "      <td>0.013683</td>\n",
       "      <td>1.002700</td>\n",
       "      <td>0.001373</td>\n",
       "      <td>0.117169</td>\n",
       "      <td>0.0</td>\n",
       "      <td>0.005531</td>\n",
       "      <td>...</td>\n",
       "      <td>-1</td>\n",
       "      <td>-1</td>\n",
       "      <td>-1</td>\n",
       "      <td>0</td>\n",
       "      <td>0</td>\n",
       "      <td>0.0</td>\n",
       "      <td>&lt;NA&gt;</td>\n",
       "      <td>0</td>\n",
       "      <td>0.006527</td>\n",
       "      <td>0</td>\n",
       "    </tr>\n",
       "    <tr>\n",
       "      <th>4</th>\n",
       "      <td>-4532153018459703766</td>\n",
       "      <td>2017-07-16</td>\n",
       "      <td>0.947248</td>\n",
       "      <td>0</td>\n",
       "      <td>0.015193</td>\n",
       "      <td>1.000727</td>\n",
       "      <td>0.007605</td>\n",
       "      <td>0.117325</td>\n",
       "      <td>0.0</td>\n",
       "      <td>0.009312</td>\n",
       "      <td>...</td>\n",
       "      <td>-1</td>\n",
       "      <td>-1</td>\n",
       "      <td>-1</td>\n",
       "      <td>0</td>\n",
       "      <td>0</td>\n",
       "      <td>0.0</td>\n",
       "      <td>&lt;NA&gt;</td>\n",
       "      <td>0</td>\n",
       "      <td>0.008126</td>\n",
       "      <td>0</td>\n",
       "    </tr>\n",
       "  </tbody>\n",
       "</table>\n",
       "<p>5 rows × 190 columns</p>\n",
       "</div>"
      ],
      "text/plain": [
       "           customer_ID        S_2       P_2  D_39       B_1       B_2  \\\n",
       "0 -4532153018459703766 2017-03-09  0.938469     0  0.008724  1.006838   \n",
       "1 -4532153018459703766 2017-04-07  0.936665     0  0.004923  1.000653   \n",
       "2 -4532153018459703766 2017-05-28  0.954180     3  0.021655  1.009672   \n",
       "3 -4532153018459703766 2017-06-13  0.960384     0  0.013683  1.002700   \n",
       "4 -4532153018459703766 2017-07-16  0.947248     0  0.015193  1.000727   \n",
       "\n",
       "        R_1       S_3  D_41       B_3  ... D_136  D_137  D_138  D_139  D_140  \\\n",
       "0  0.009228  0.124035   0.0  0.004709  ...    -1     -1     -1      0      0   \n",
       "1  0.006151  0.126750   0.0  0.002714  ...    -1     -1     -1      0      0   \n",
       "2  0.006815  0.123977   0.0  0.009423  ...    -1     -1     -1      0      0   \n",
       "3  0.001373  0.117169   0.0  0.005531  ...    -1     -1     -1      0      0   \n",
       "4  0.007605  0.117325   0.0  0.009312  ...    -1     -1     -1      0      0   \n",
       "\n",
       "   D_141  D_142 D_143     D_144  D_145  \n",
       "0    0.0   <NA>     0  0.000610      0  \n",
       "1    0.0   <NA>     0  0.005492      0  \n",
       "2    0.0   <NA>     0  0.006986      0  \n",
       "3    0.0   <NA>     0  0.006527      0  \n",
       "4    0.0   <NA>     0  0.008126      0  \n",
       "\n",
       "[5 rows x 190 columns]"
      ]
     },
     "execution_count": 4,
     "metadata": {},
     "output_type": "execute_result"
    }
   ],
   "source": [
    "train.head()"
   ]
  },
  {
   "cell_type": "code",
   "execution_count": 5,
   "id": "2f3540d4",
   "metadata": {
    "execution": {
     "iopub.execute_input": "2022-07-14T16:01:54.148424Z",
     "iopub.status.busy": "2022-07-14T16:01:54.147672Z",
     "iopub.status.idle": "2022-07-14T16:01:56.728028Z",
     "shell.execute_reply": "2022-07-14T16:01:56.727221Z"
    },
    "papermill": {
     "duration": 2.590343,
     "end_time": "2022-07-14T16:01:56.730084",
     "exception": false,
     "start_time": "2022-07-14T16:01:54.139741",
     "status": "completed"
    },
    "tags": []
   },
   "outputs": [
    {
     "name": "stdout",
     "output_type": "stream",
     "text": [
      "shape after engineering (458913, 565)\n"
     ]
    }
   ],
   "source": [
    "def process_and_feature_engineer(df):\n",
    "    # FEATURE ENGINEERING FROM \n",
    "    # https://www.kaggle.com/code/huseyincot/amex-agg-data-how-it-created\n",
    "    \n",
    "#     1) Drop 'B_29'\n",
    "    df.drop(['B_29'], inplace=True, axis=1)\n",
    "#     5) D_39에 대한 feature 추가\n",
    "    df['D_39_div30'] = df['D_39']/30\n",
    "\n",
    "    all_cols = [c for c in list(df.columns) if c not in ['customer_ID','S_2']]\n",
    "    cat_features = [\"B_30\",\"B_38\",\"D_114\",\"D_116\",\"D_117\",\"D_120\",\"D_126\",\"D_63\",\"D_64\",\"D_66\",\"D_68\"]\n",
    "    num_features = [col for col in all_cols if col not in cat_features]\n",
    "    \n",
    "#     2) Add customer count\n",
    "    test_count_agg = df.groupby(['customer_ID'])['S_2'].agg(['count'])\n",
    "\n",
    "\n",
    "    test_num_agg = df.groupby(\"customer_ID\")[num_features].agg(['mean', 'max', 'last'])\n",
    "    test_num_agg.columns = ['_'.join(x) for x in test_num_agg.columns]\n",
    "\n",
    "    test_cat_agg = df.groupby(\"customer_ID\")[cat_features].agg(['count', 'last', 'nunique'])\n",
    "    test_cat_agg.columns = ['_'.join(x) for x in test_cat_agg.columns]\n",
    "\n",
    "    df = cudf.concat([test_count_agg,test_num_agg, test_cat_agg], axis=1)\n",
    "    del test_num_agg, test_cat_agg\n",
    "    print('shape after engineering', df.shape )\n",
    "    \n",
    "    return df\n",
    "\n",
    "train = process_and_feature_engineer(train)"
   ]
  },
  {
   "cell_type": "code",
   "execution_count": 6,
   "id": "d7bd7e9b",
   "metadata": {
    "execution": {
     "iopub.execute_input": "2022-07-14T16:01:56.745491Z",
     "iopub.status.busy": "2022-07-14T16:01:56.745175Z",
     "iopub.status.idle": "2022-07-14T16:01:57.802153Z",
     "shell.execute_reply": "2022-07-14T16:01:57.801175Z"
    },
    "papermill": {
     "duration": 1.066853,
     "end_time": "2022-07-14T16:01:57.804046",
     "exception": false,
     "start_time": "2022-07-14T16:01:56.737193",
     "status": "completed"
    },
    "tags": []
   },
   "outputs": [
    {
     "name": "stdout",
     "output_type": "stream",
     "text": [
      "There are 565 features!\n"
     ]
    }
   ],
   "source": [
    "# ADD TARGETS\n",
    "targets = cudf.read_csv('../input/amex-default-prediction/train_labels.csv')\n",
    "targets['customer_ID'] = targets['customer_ID'].str[-16:].str.hex_to_int().astype('int64')\n",
    "targets = targets.set_index('customer_ID')\n",
    "train = train.merge(targets, left_index=True, right_index=True, how='left')\n",
    "train.target = train.target.astype('int8')\n",
    "del targets\n",
    "\n",
    "# NEEDED TO MAKE CV DETERMINISTIC (cudf merge above randomly shuffles rows)\n",
    "train = train.sort_index().reset_index()\n",
    "\n",
    "# FEATURES\n",
    "FEATURES = train.columns[1:-1]\n",
    "print(f'There are {len(FEATURES)} features!')"
   ]
  },
  {
   "cell_type": "markdown",
   "id": "3ff724c3",
   "metadata": {
    "papermill": {
     "duration": 0.006964,
     "end_time": "2022-07-14T16:01:57.818107",
     "exception": false,
     "start_time": "2022-07-14T16:01:57.811143",
     "status": "completed"
    },
    "tags": []
   },
   "source": [
    "# Train XGB\n",
    "We will train using `DeviceQuantileDMatrix`. This has a very small GPU memory footprint."
   ]
  },
  {
   "cell_type": "code",
   "execution_count": 7,
   "id": "a6efede5",
   "metadata": {
    "execution": {
     "iopub.execute_input": "2022-07-14T16:01:57.833570Z",
     "iopub.status.busy": "2022-07-14T16:01:57.832900Z",
     "iopub.status.idle": "2022-07-14T16:01:57.935672Z",
     "shell.execute_reply": "2022-07-14T16:01:57.934796Z"
    },
    "papermill": {
     "duration": 0.112456,
     "end_time": "2022-07-14T16:01:57.937465",
     "exception": false,
     "start_time": "2022-07-14T16:01:57.825009",
     "status": "completed"
    },
    "tags": []
   },
   "outputs": [
    {
     "name": "stdout",
     "output_type": "stream",
     "text": [
      "XGB Version 1.6.1\n"
     ]
    }
   ],
   "source": [
    "# LOAD XGB LIBRARY\n",
    "from sklearn.model_selection import KFold\n",
    "import xgboost as xgb\n",
    "print('XGB Version',xgb.__version__)\n",
    "\n",
    "# XGB MODEL PARAMETERS\n",
    "xgb_parms = { \n",
    "    'max_depth':4, \n",
    "    'learning_rate':0.05, \n",
    "    'subsample':0.8,\n",
    "    'colsample_bytree':0.6, \n",
    "    'eval_metric':'logloss',\n",
    "    'objective':'binary:logistic',\n",
    "    'tree_method':'gpu_hist',\n",
    "    'predictor':'gpu_predictor',\n",
    "    'random_state':SEED\n",
    "}"
   ]
  },
  {
   "cell_type": "code",
   "execution_count": 8,
   "id": "114b6a43",
   "metadata": {
    "execution": {
     "iopub.execute_input": "2022-07-14T16:01:57.954169Z",
     "iopub.status.busy": "2022-07-14T16:01:57.952850Z",
     "iopub.status.idle": "2022-07-14T16:01:57.962827Z",
     "shell.execute_reply": "2022-07-14T16:01:57.962109Z"
    },
    "papermill": {
     "duration": 0.019434,
     "end_time": "2022-07-14T16:01:57.964443",
     "exception": false,
     "start_time": "2022-07-14T16:01:57.945009",
     "status": "completed"
    },
    "tags": []
   },
   "outputs": [],
   "source": [
    "# NEEDED WITH DeviceQuantileDMatrix BELOW\n",
    "class IterLoadForDMatrix(xgb.core.DataIter):\n",
    "    def __init__(self, df=None, features=None, target=None, batch_size=256*1024):\n",
    "        self.features = features\n",
    "        self.target = target\n",
    "        self.df = df\n",
    "        self.it = 0 # set iterator to 0\n",
    "        self.batch_size = batch_size\n",
    "        self.batches = int( np.ceil( len(df) / self.batch_size ) )\n",
    "        super().__init__()\n",
    "\n",
    "    def reset(self):\n",
    "        '''Reset the iterator'''\n",
    "        self.it = 0\n",
    "\n",
    "    def next(self, input_data):\n",
    "        '''Yield next batch of data.'''\n",
    "        if self.it == self.batches:\n",
    "            return 0 # Return 0 when there's no more batch.\n",
    "        \n",
    "        a = self.it * self.batch_size\n",
    "        b = min( (self.it + 1) * self.batch_size, len(self.df) )\n",
    "        dt = cudf.DataFrame(self.df.iloc[a:b])\n",
    "        input_data(data=dt[self.features], label=dt[self.target]) #, weight=dt['weight'])\n",
    "        self.it += 1\n",
    "        return 1"
   ]
  },
  {
   "cell_type": "code",
   "execution_count": 9,
   "id": "40468201",
   "metadata": {
    "execution": {
     "iopub.execute_input": "2022-07-14T16:01:57.979759Z",
     "iopub.status.busy": "2022-07-14T16:01:57.979508Z",
     "iopub.status.idle": "2022-07-14T16:01:57.990325Z",
     "shell.execute_reply": "2022-07-14T16:01:57.989626Z"
    },
    "papermill": {
     "duration": 0.020611,
     "end_time": "2022-07-14T16:01:57.991939",
     "exception": false,
     "start_time": "2022-07-14T16:01:57.971328",
     "status": "completed"
    },
    "tags": []
   },
   "outputs": [],
   "source": [
    "# https://www.kaggle.com/kyakovlev\n",
    "# https://www.kaggle.com/competitions/amex-default-prediction/discussion/327534\n",
    "def amex_metric_mod(y_true, y_pred):\n",
    "\n",
    "    labels     = np.transpose(np.array([y_true, y_pred]))\n",
    "    labels     = labels[labels[:, 1].argsort()[::-1]]\n",
    "    weights    = np.where(labels[:,0]==0, 20, 1)\n",
    "    cut_vals   = labels[np.cumsum(weights) <= int(0.04 * np.sum(weights))]\n",
    "    top_four   = np.sum(cut_vals[:,0]) / np.sum(labels[:,0])\n",
    "\n",
    "    gini = [0,0]\n",
    "    for i in [1,0]:\n",
    "        labels         = np.transpose(np.array([y_true, y_pred]))\n",
    "        labels         = labels[labels[:, i].argsort()[::-1]]\n",
    "        weight         = np.where(labels[:,0]==0, 20, 1)\n",
    "        weight_random  = np.cumsum(weight / np.sum(weight))\n",
    "        total_pos      = np.sum(labels[:, 0] *  weight)\n",
    "        cum_pos_found  = np.cumsum(labels[:, 0] * weight)\n",
    "        lorentz        = cum_pos_found / total_pos\n",
    "        gini[i]        = np.sum((lorentz - weight_random) * weight)\n",
    "\n",
    "    return 0.5 * (gini[1]/gini[0] + top_four)"
   ]
  },
  {
   "cell_type": "code",
   "execution_count": 10,
   "id": "bc7d4d9e",
   "metadata": {
    "execution": {
     "iopub.execute_input": "2022-07-14T16:01:58.007380Z",
     "iopub.status.busy": "2022-07-14T16:01:58.006960Z",
     "iopub.status.idle": "2022-07-14T16:08:34.492648Z",
     "shell.execute_reply": "2022-07-14T16:08:34.491422Z"
    },
    "papermill": {
     "duration": 396.495935,
     "end_time": "2022-07-14T16:08:34.494895",
     "exception": false,
     "start_time": "2022-07-14T16:01:57.998960",
     "status": "completed"
    },
    "scrolled": true,
    "tags": []
   },
   "outputs": [
    {
     "name": "stdout",
     "output_type": "stream",
     "text": [
      "#########################\n",
      "### Fold 1\n",
      "### Train size 367130 Valid size 91783\n",
      "### Training with 100% fold data...\n",
      "#########################\n",
      "[0]\ttrain-logloss:0.66200\tvalid-logloss:0.66202\n",
      "[100]\ttrain-logloss:0.23702\tvalid-logloss:0.23939\n",
      "[200]\ttrain-logloss:0.22265\tvalid-logloss:0.22756\n",
      "[300]\ttrain-logloss:0.21671\tvalid-logloss:0.22362\n",
      "[400]\ttrain-logloss:0.21271\tvalid-logloss:0.22148\n",
      "[500]\ttrain-logloss:0.20959\tvalid-logloss:0.22022\n",
      "[600]\ttrain-logloss:0.20694\tvalid-logloss:0.21938\n",
      "[700]\ttrain-logloss:0.20461\tvalid-logloss:0.21884\n",
      "[800]\ttrain-logloss:0.20247\tvalid-logloss:0.21850\n",
      "[900]\ttrain-logloss:0.20037\tvalid-logloss:0.21818\n",
      "[1000]\ttrain-logloss:0.19844\tvalid-logloss:0.21799\n",
      "[1100]\ttrain-logloss:0.19646\tvalid-logloss:0.21785\n",
      "[1200]\ttrain-logloss:0.19465\tvalid-logloss:0.21771\n",
      "[1300]\ttrain-logloss:0.19287\tvalid-logloss:0.21754\n",
      "[1400]\ttrain-logloss:0.19116\tvalid-logloss:0.21742\n",
      "[1500]\ttrain-logloss:0.18952\tvalid-logloss:0.21736\n",
      "[1600]\ttrain-logloss:0.18786\tvalid-logloss:0.21723\n",
      "[1700]\ttrain-logloss:0.18624\tvalid-logloss:0.21716\n",
      "[1800]\ttrain-logloss:0.18460\tvalid-logloss:0.21718\n",
      "[1834]\ttrain-logloss:0.18405\tvalid-logloss:0.21717\n",
      "Kaggle Metric = 0.7925305548152503 \n",
      "\n",
      "#########################\n",
      "### Fold 2\n",
      "### Train size 367130 Valid size 91783\n",
      "### Training with 100% fold data...\n",
      "#########################\n",
      "[0]\ttrain-logloss:0.66201\tvalid-logloss:0.66200\n",
      "[100]\ttrain-logloss:0.23733\tvalid-logloss:0.23830\n",
      "[200]\ttrain-logloss:0.22309\tvalid-logloss:0.22602\n",
      "[300]\ttrain-logloss:0.21700\tvalid-logloss:0.22201\n",
      "[400]\ttrain-logloss:0.21298\tvalid-logloss:0.22005\n",
      "[500]\ttrain-logloss:0.20994\tvalid-logloss:0.21905\n",
      "[600]\ttrain-logloss:0.20717\tvalid-logloss:0.21820\n",
      "[700]\ttrain-logloss:0.20480\tvalid-logloss:0.21770\n",
      "[800]\ttrain-logloss:0.20253\tvalid-logloss:0.21726\n",
      "[900]\ttrain-logloss:0.20043\tvalid-logloss:0.21697\n",
      "[1000]\ttrain-logloss:0.19845\tvalid-logloss:0.21671\n",
      "[1100]\ttrain-logloss:0.19653\tvalid-logloss:0.21656\n",
      "[1200]\ttrain-logloss:0.19474\tvalid-logloss:0.21643\n",
      "[1300]\ttrain-logloss:0.19299\tvalid-logloss:0.21633\n",
      "[1400]\ttrain-logloss:0.19126\tvalid-logloss:0.21625\n",
      "[1500]\ttrain-logloss:0.18956\tvalid-logloss:0.21620\n",
      "[1600]\ttrain-logloss:0.18789\tvalid-logloss:0.21616\n",
      "[1700]\ttrain-logloss:0.18624\tvalid-logloss:0.21611\n",
      "[1800]\ttrain-logloss:0.18463\tvalid-logloss:0.21608\n",
      "[1900]\ttrain-logloss:0.18304\tvalid-logloss:0.21607\n",
      "[2000]\ttrain-logloss:0.18145\tvalid-logloss:0.21601\n",
      "[2100]\ttrain-logloss:0.17998\tvalid-logloss:0.21602\n",
      "[2141]\ttrain-logloss:0.17938\tvalid-logloss:0.21601\n",
      "Kaggle Metric = 0.7938007106582883 \n",
      "\n",
      "#########################\n",
      "### Fold 3\n",
      "### Train size 367130 Valid size 91783\n",
      "### Training with 100% fold data...\n",
      "#########################\n",
      "[0]\ttrain-logloss:0.66194\tvalid-logloss:0.66205\n",
      "[100]\ttrain-logloss:0.23660\tvalid-logloss:0.24086\n",
      "[200]\ttrain-logloss:0.22233\tvalid-logloss:0.22916\n",
      "[300]\ttrain-logloss:0.21635\tvalid-logloss:0.22512\n",
      "[400]\ttrain-logloss:0.21239\tvalid-logloss:0.22308\n",
      "[500]\ttrain-logloss:0.20919\tvalid-logloss:0.22183\n",
      "[600]\ttrain-logloss:0.20651\tvalid-logloss:0.22112\n",
      "[700]\ttrain-logloss:0.20412\tvalid-logloss:0.22057\n",
      "[800]\ttrain-logloss:0.20183\tvalid-logloss:0.22015\n",
      "[900]\ttrain-logloss:0.19972\tvalid-logloss:0.21982\n",
      "[1000]\ttrain-logloss:0.19772\tvalid-logloss:0.21963\n",
      "[1100]\ttrain-logloss:0.19582\tvalid-logloss:0.21945\n",
      "[1200]\ttrain-logloss:0.19394\tvalid-logloss:0.21931\n",
      "[1300]\ttrain-logloss:0.19218\tvalid-logloss:0.21923\n",
      "[1400]\ttrain-logloss:0.19045\tvalid-logloss:0.21907\n",
      "[1500]\ttrain-logloss:0.18869\tvalid-logloss:0.21901\n",
      "[1600]\ttrain-logloss:0.18697\tvalid-logloss:0.21899\n",
      "[1700]\ttrain-logloss:0.18541\tvalid-logloss:0.21896\n",
      "[1800]\ttrain-logloss:0.18383\tvalid-logloss:0.21898\n",
      "[1900]\ttrain-logloss:0.18225\tvalid-logloss:0.21897\n",
      "[2000]\ttrain-logloss:0.18074\tvalid-logloss:0.21897\n",
      "[2046]\ttrain-logloss:0.18003\tvalid-logloss:0.21898\n",
      "Kaggle Metric = 0.7902093683423888 \n",
      "\n",
      "#########################\n",
      "### Fold 4\n",
      "### Train size 367131 Valid size 91782\n",
      "### Training with 100% fold data...\n",
      "#########################\n",
      "[0]\ttrain-logloss:0.66197\tvalid-logloss:0.66212\n",
      "[100]\ttrain-logloss:0.23674\tvalid-logloss:0.24122\n",
      "[200]\ttrain-logloss:0.22239\tvalid-logloss:0.22916\n",
      "[300]\ttrain-logloss:0.21628\tvalid-logloss:0.22530\n",
      "[400]\ttrain-logloss:0.21231\tvalid-logloss:0.22337\n",
      "[500]\ttrain-logloss:0.20913\tvalid-logloss:0.22231\n",
      "[600]\ttrain-logloss:0.20636\tvalid-logloss:0.22153\n",
      "[700]\ttrain-logloss:0.20399\tvalid-logloss:0.22100\n",
      "[800]\ttrain-logloss:0.20182\tvalid-logloss:0.22068\n",
      "[900]\ttrain-logloss:0.19972\tvalid-logloss:0.22045\n",
      "[1000]\ttrain-logloss:0.19772\tvalid-logloss:0.22026\n",
      "[1100]\ttrain-logloss:0.19579\tvalid-logloss:0.22011\n",
      "[1200]\ttrain-logloss:0.19393\tvalid-logloss:0.22000\n",
      "[1300]\ttrain-logloss:0.19212\tvalid-logloss:0.21989\n",
      "[1400]\ttrain-logloss:0.19036\tvalid-logloss:0.21980\n",
      "[1500]\ttrain-logloss:0.18868\tvalid-logloss:0.21979\n",
      "[1524]\ttrain-logloss:0.18828\tvalid-logloss:0.21978\n",
      "Kaggle Metric = 0.7869698777257411 \n",
      "\n",
      "#########################\n",
      "### Fold 5\n",
      "### Train size 367131 Valid size 91782\n",
      "### Training with 100% fold data...\n",
      "#########################\n",
      "[0]\ttrain-logloss:0.66203\tvalid-logloss:0.66193\n",
      "[100]\ttrain-logloss:0.23769\tvalid-logloss:0.23820\n",
      "[200]\ttrain-logloss:0.22338\tvalid-logloss:0.22594\n",
      "[300]\ttrain-logloss:0.21733\tvalid-logloss:0.22189\n",
      "[400]\ttrain-logloss:0.21342\tvalid-logloss:0.21984\n",
      "[500]\ttrain-logloss:0.21029\tvalid-logloss:0.21863\n",
      "[600]\ttrain-logloss:0.20759\tvalid-logloss:0.21784\n",
      "[700]\ttrain-logloss:0.20517\tvalid-logloss:0.21734\n",
      "[800]\ttrain-logloss:0.20297\tvalid-logloss:0.21700\n",
      "[900]\ttrain-logloss:0.20088\tvalid-logloss:0.21673\n",
      "[1000]\ttrain-logloss:0.19884\tvalid-logloss:0.21648\n",
      "[1100]\ttrain-logloss:0.19690\tvalid-logloss:0.21637\n",
      "[1200]\ttrain-logloss:0.19506\tvalid-logloss:0.21628\n",
      "[1300]\ttrain-logloss:0.19328\tvalid-logloss:0.21616\n",
      "[1400]\ttrain-logloss:0.19154\tvalid-logloss:0.21609\n",
      "[1500]\ttrain-logloss:0.18981\tvalid-logloss:0.21605\n",
      "[1600]\ttrain-logloss:0.18811\tvalid-logloss:0.21603\n",
      "[1700]\ttrain-logloss:0.18651\tvalid-logloss:0.21603\n",
      "[1729]\ttrain-logloss:0.18605\tvalid-logloss:0.21602\n",
      "Kaggle Metric = 0.7939283471212532 \n",
      "\n",
      "#########################\n",
      "OVERALL CV Kaggle Metric = 0.7913542771714698\n"
     ]
    }
   ],
   "source": [
    "importances = []\n",
    "oof = []\n",
    "train = train.to_pandas() # free GPU memory\n",
    "TRAIN_SUBSAMPLE = 1.0\n",
    "gc.collect()\n",
    "\n",
    "skf = KFold(n_splits=FOLDS, shuffle=True, random_state=SEED)\n",
    "for fold,(train_idx, valid_idx) in enumerate(skf.split(\n",
    "            train, train.target )):\n",
    "    \n",
    "    # TRAIN WITH SUBSAMPLE OF TRAIN FOLD DATA\n",
    "    if TRAIN_SUBSAMPLE<1.0:\n",
    "        np.random.seed(SEED)\n",
    "        train_idx = np.random.choice(train_idx, \n",
    "                       int(len(train_idx)*TRAIN_SUBSAMPLE), replace=False)\n",
    "        np.random.seed(None)\n",
    "    \n",
    "    print('#'*25)\n",
    "    print('### Fold',fold+1)\n",
    "    print('### Train size',len(train_idx),'Valid size',len(valid_idx))\n",
    "    print(f'### Training with {int(TRAIN_SUBSAMPLE*100)}% fold data...')\n",
    "    print('#'*25)\n",
    "    \n",
    "    # TRAIN, VALID, TEST FOR FOLD K\n",
    "    Xy_train = IterLoadForDMatrix(train.loc[train_idx], FEATURES, 'target')\n",
    "    X_valid = train.loc[valid_idx, FEATURES]\n",
    "    y_valid = train.loc[valid_idx, 'target']\n",
    "    \n",
    "    dtrain = xgb.DeviceQuantileDMatrix(Xy_train, max_bin=256)\n",
    "    dvalid = xgb.DMatrix(data=X_valid, label=y_valid)\n",
    "    \n",
    "    # TRAIN MODEL FOLD K\n",
    "    model = xgb.train(xgb_parms, \n",
    "                dtrain=dtrain,\n",
    "                evals=[(dtrain,'train'),(dvalid,'valid')],\n",
    "                num_boost_round=9999,\n",
    "                early_stopping_rounds=100,\n",
    "                verbose_eval=100) \n",
    "    model.save_model(f'XGB_v{VER}_fold{fold}.xgb')\n",
    "    \n",
    "    # GET FEATURE IMPORTANCE FOR FOLD K\n",
    "    dd = model.get_score(importance_type='weight')\n",
    "    df = pd.DataFrame({'feature':dd.keys(),f'importance_{fold}':dd.values()})\n",
    "    importances.append(df)\n",
    "            \n",
    "    # INFER OOF FOLD K\n",
    "    oof_preds = model.predict(dvalid)\n",
    "    acc = amex_metric_mod(y_valid.values, oof_preds)\n",
    "    print('Kaggle Metric =',acc,'\\n')\n",
    "    \n",
    "    # SAVE OOF\n",
    "    df = train.loc[valid_idx, ['customer_ID','target'] ].copy()\n",
    "    df['oof_pred'] = oof_preds\n",
    "    oof.append( df )\n",
    "    \n",
    "    del dtrain, Xy_train, dd, df\n",
    "    del X_valid, y_valid, dvalid, model\n",
    "    _ = gc.collect()\n",
    "    \n",
    "print('#'*25)\n",
    "oof = pd.concat(oof,axis=0,ignore_index=True).set_index('customer_ID')\n",
    "acc = amex_metric_mod(oof.target.values, oof.oof_pred.values)\n",
    "print('OVERALL CV Kaggle Metric =',acc)"
   ]
  },
  {
   "cell_type": "code",
   "execution_count": 11,
   "id": "507cab1d",
   "metadata": {
    "execution": {
     "iopub.execute_input": "2022-07-14T16:08:34.541025Z",
     "iopub.status.busy": "2022-07-14T16:08:34.540590Z",
     "iopub.status.idle": "2022-07-14T16:08:34.707666Z",
     "shell.execute_reply": "2022-07-14T16:08:34.706455Z"
    },
    "papermill": {
     "duration": 0.192233,
     "end_time": "2022-07-14T16:08:34.709779",
     "exception": false,
     "start_time": "2022-07-14T16:08:34.517546",
     "status": "completed"
    },
    "tags": []
   },
   "outputs": [],
   "source": [
    "# CLEAN RAM\n",
    "del train\n",
    "_ = gc.collect()"
   ]
  },
  {
   "cell_type": "markdown",
   "id": "a6bdc69d",
   "metadata": {
    "papermill": {
     "duration": 0.022842,
     "end_time": "2022-07-14T16:08:34.756967",
     "exception": false,
     "start_time": "2022-07-14T16:08:34.734125",
     "status": "completed"
    },
    "tags": []
   },
   "source": [
    "# Save OOF Preds"
   ]
  },
  {
   "cell_type": "code",
   "execution_count": 12,
   "id": "550e8101",
   "metadata": {
    "execution": {
     "iopub.execute_input": "2022-07-14T16:08:34.803468Z",
     "iopub.status.busy": "2022-07-14T16:08:34.803099Z",
     "iopub.status.idle": "2022-07-14T16:08:39.468253Z",
     "shell.execute_reply": "2022-07-14T16:08:39.467517Z"
    },
    "papermill": {
     "duration": 4.692544,
     "end_time": "2022-07-14T16:08:39.472094",
     "exception": false,
     "start_time": "2022-07-14T16:08:34.779550",
     "status": "completed"
    },
    "tags": []
   },
   "outputs": [
    {
     "data": {
      "text/html": [
       "<div>\n",
       "<style scoped>\n",
       "    .dataframe tbody tr th:only-of-type {\n",
       "        vertical-align: middle;\n",
       "    }\n",
       "\n",
       "    .dataframe tbody tr th {\n",
       "        vertical-align: top;\n",
       "    }\n",
       "\n",
       "    .dataframe thead th {\n",
       "        text-align: right;\n",
       "    }\n",
       "</style>\n",
       "<table border=\"1\" class=\"dataframe\">\n",
       "  <thead>\n",
       "    <tr style=\"text-align: right;\">\n",
       "      <th></th>\n",
       "      <th>customer_ID</th>\n",
       "      <th>target</th>\n",
       "      <th>oof_pred</th>\n",
       "    </tr>\n",
       "  </thead>\n",
       "  <tbody>\n",
       "    <tr>\n",
       "      <th>0</th>\n",
       "      <td>20eac26171c3d251c55fc78204e59fab1c15fc2bc96d0c...</td>\n",
       "      <td>1</td>\n",
       "      <td>0.706572</td>\n",
       "    </tr>\n",
       "    <tr>\n",
       "      <th>1</th>\n",
       "      <td>aea50fdf9b974ccec95fa177c3225a0f913483b457de6e...</td>\n",
       "      <td>0</td>\n",
       "      <td>0.000410</td>\n",
       "    </tr>\n",
       "    <tr>\n",
       "      <th>2</th>\n",
       "      <td>32cd2d41aef737b69089882754395925c96eaee1f4a859...</td>\n",
       "      <td>0</td>\n",
       "      <td>0.001742</td>\n",
       "    </tr>\n",
       "    <tr>\n",
       "      <th>3</th>\n",
       "      <td>8daa6d5dc2655a8a437531e6b8b96829113cdfe9bf6cae...</td>\n",
       "      <td>0</td>\n",
       "      <td>0.012246</td>\n",
       "    </tr>\n",
       "    <tr>\n",
       "      <th>4</th>\n",
       "      <td>0ceba351a3851202542feb49d7385bcef32f6037fc57c7...</td>\n",
       "      <td>1</td>\n",
       "      <td>0.891806</td>\n",
       "    </tr>\n",
       "  </tbody>\n",
       "</table>\n",
       "</div>"
      ],
      "text/plain": [
       "                                         customer_ID  target  oof_pred\n",
       "0  20eac26171c3d251c55fc78204e59fab1c15fc2bc96d0c...       1  0.706572\n",
       "1  aea50fdf9b974ccec95fa177c3225a0f913483b457de6e...       0  0.000410\n",
       "2  32cd2d41aef737b69089882754395925c96eaee1f4a859...       0  0.001742\n",
       "3  8daa6d5dc2655a8a437531e6b8b96829113cdfe9bf6cae...       0  0.012246\n",
       "4  0ceba351a3851202542feb49d7385bcef32f6037fc57c7...       1  0.891806"
      ]
     },
     "execution_count": 12,
     "metadata": {},
     "output_type": "execute_result"
    }
   ],
   "source": [
    "oof_xgb = pd.read_parquet(TRAIN_PATH, columns=['customer_ID']).drop_duplicates()\n",
    "oof_xgb['customer_ID_hash'] = oof_xgb['customer_ID'].apply(lambda x: int(x[-16:],16) ).astype('int64')\n",
    "oof_xgb = oof_xgb.set_index('customer_ID_hash')\n",
    "oof_xgb = oof_xgb.merge(oof, left_index=True, right_index=True)\n",
    "oof_xgb = oof_xgb.sort_index().reset_index(drop=True)\n",
    "oof_xgb.to_csv(f'oof_xgb_v{VER}.csv',index=False)\n",
    "oof_xgb.head()"
   ]
  },
  {
   "cell_type": "code",
   "execution_count": 13,
   "id": "1896eb20",
   "metadata": {
    "execution": {
     "iopub.execute_input": "2022-07-14T16:08:39.501291Z",
     "iopub.status.busy": "2022-07-14T16:08:39.500901Z",
     "iopub.status.idle": "2022-07-14T16:08:39.840093Z",
     "shell.execute_reply": "2022-07-14T16:08:39.839251Z"
    },
    "papermill": {
     "duration": 0.355196,
     "end_time": "2022-07-14T16:08:39.842016",
     "exception": false,
     "start_time": "2022-07-14T16:08:39.486820",
     "status": "completed"
    },
    "tags": []
   },
   "outputs": [
    {
     "data": {
      "image/png": "[encoded data removed]",
      "text/plain": [
       "<Figure size 432x288 with 1 Axes>"
      ]
     },
     "metadata": {
      "needs_background": "light"
     },
     "output_type": "display_data"
    }
   ],
   "source": [
    "# PLOT OOF PREDICTIONS\n",
    "plt.hist(oof_xgb.oof_pred.values, bins=100)\n",
    "plt.title('OOF Predictions')\n",
    "plt.show()"
   ]
  },
  {
   "cell_type": "code",
   "execution_count": 14,
   "id": "d8dd8ad4",
   "metadata": {
    "execution": {
     "iopub.execute_input": "2022-07-14T16:08:39.870872Z",
     "iopub.status.busy": "2022-07-14T16:08:39.870601Z",
     "iopub.status.idle": "2022-07-14T16:08:40.004367Z",
     "shell.execute_reply": "2022-07-14T16:08:40.003617Z"
    },
    "papermill": {
     "duration": 0.149773,
     "end_time": "2022-07-14T16:08:40.006075",
     "exception": false,
     "start_time": "2022-07-14T16:08:39.856302",
     "status": "completed"
    },
    "tags": []
   },
   "outputs": [],
   "source": [
    "# CLEAR VRAM, RAM FOR INFERENCE BELOW\n",
    "del oof_xgb, oof\n",
    "_ = gc.collect()"
   ]
  },
  {
   "cell_type": "markdown",
   "id": "62759b07",
   "metadata": {
    "papermill": {
     "duration": 0.013765,
     "end_time": "2022-07-14T16:08:40.033917",
     "exception": false,
     "start_time": "2022-07-14T16:08:40.020152",
     "status": "completed"
    },
    "tags": []
   },
   "source": [
    "# Feature Importance"
   ]
  },
  {
   "cell_type": "code",
   "execution_count": 15,
   "id": "9002d914",
   "metadata": {
    "execution": {
     "iopub.execute_input": "2022-07-14T16:08:40.062830Z",
     "iopub.status.busy": "2022-07-14T16:08:40.062176Z",
     "iopub.status.idle": "2022-07-14T16:08:40.088700Z",
     "shell.execute_reply": "2022-07-14T16:08:40.088020Z"
    },
    "papermill": {
     "duration": 0.042546,
     "end_time": "2022-07-14T16:08:40.090569",
     "exception": false,
     "start_time": "2022-07-14T16:08:40.048023",
     "status": "completed"
    },
    "tags": []
   },
   "outputs": [],
   "source": [
    "import matplotlib.pyplot as plt\n",
    "\n",
    "df = importances[0].copy()\n",
    "for k in range(1,FOLDS): df = df.merge(importances[k], on='feature', how='left')\n",
    "df['importance'] = df.iloc[:,1:].mean(axis=1)\n",
    "df = df.sort_values('importance',ascending=False)\n",
    "df.to_csv(f'xgb_feature_importance_v{VER}.csv',index=False)"
   ]
  },
  {
   "cell_type": "code",
   "execution_count": 16,
   "id": "ecfa911b",
   "metadata": {
    "execution": {
     "iopub.execute_input": "2022-07-14T16:08:40.118635Z",
     "iopub.status.busy": "2022-07-14T16:08:40.118119Z",
     "iopub.status.idle": "2022-07-14T16:08:40.367959Z",
     "shell.execute_reply": "2022-07-14T16:08:40.367196Z"
    },
    "papermill": {
     "duration": 0.265781,
     "end_time": "2022-07-14T16:08:40.369781",
     "exception": false,
     "start_time": "2022-07-14T16:08:40.104000",
     "status": "completed"
    },
    "tags": []
   },
   "outputs": [
    {
     "data": {
      "image/png": "[encoded data removed]",
      "text/plain": [
       "<Figure size 720x720 with 1 Axes>"
      ]
     },
     "metadata": {
      "needs_background": "light"
     },
     "output_type": "display_data"
    }
   ],
   "source": [
    "NUM_FEATURES = 20\n",
    "plt.figure(figsize=(10,5*NUM_FEATURES//10))\n",
    "plt.barh(np.arange(NUM_FEATURES,0,-1), df.importance.values[:NUM_FEATURES])\n",
    "plt.yticks(np.arange(NUM_FEATURES,0,-1), df.feature.values[:NUM_FEATURES])\n",
    "plt.title(f'XGB Feature Importance - Top {NUM_FEATURES}')\n",
    "plt.show()"
   ]
  },
  {
   "cell_type": "markdown",
   "id": "7c85daa8",
   "metadata": {
    "papermill": {
     "duration": 0.013665,
     "end_time": "2022-07-14T16:08:40.397536",
     "exception": false,
     "start_time": "2022-07-14T16:08:40.383871",
     "status": "completed"
    },
    "tags": []
   },
   "source": [
    "# Process and Feature Engineer Test Data\n",
    "We will load @raddar Kaggle dataset from [here][1] with discussion [here][2]. Then we will engineer features suggested by @huseyincot in his notebooks [here][1] and [here][4]. We will use [RAPIDS][5] and the GPU to create new features quickly.\n",
    "\n",
    "[1]: https://www.kaggle.com/datasets/raddar/amex-data-integer-dtypes-parquet-format\n",
    "[2]: https://www.kaggle.com/competitions/amex-default-prediction/discussion/328514\n",
    "[3]: https://www.kaggle.com/code/huseyincot/amex-catboost-0-793\n",
    "[4]: https://www.kaggle.com/code/huseyincot/amex-agg-data-how-it-created\n",
    "[5]: https://rapids.ai/"
   ]
  },
  {
   "cell_type": "code",
   "execution_count": 17,
   "id": "16589614",
   "metadata": {
    "execution": {
     "iopub.execute_input": "2022-07-14T16:08:40.426869Z",
     "iopub.status.busy": "2022-07-14T16:08:40.426590Z",
     "iopub.status.idle": "2022-07-14T16:08:43.022457Z",
     "shell.execute_reply": "2022-07-14T16:08:43.021427Z"
    },
    "papermill": {
     "duration": 2.612187,
     "end_time": "2022-07-14T16:08:43.024254",
     "exception": false,
     "start_time": "2022-07-14T16:08:40.412067",
     "status": "completed"
    },
    "tags": []
   },
   "outputs": [
    {
     "name": "stdout",
     "output_type": "stream",
     "text": [
      "Reading test data...\n",
      "shape of data: (11363762, 2)\n",
      "We will process test data as 4 separate parts.\n",
      "There will be 231155 customers in each part (except the last part).\n",
      "Below are number of rows in each part:\n",
      "[2841209, 2839857, 2842105, 2840591]\n"
     ]
    }
   ],
   "source": [
    "# CALCULATE SIZE OF EACH SEPARATE TEST PART\n",
    "def get_rows(customers, test, NUM_PARTS = 4, verbose = ''):\n",
    "    chunk = len(customers)//NUM_PARTS\n",
    "    if verbose != '':\n",
    "        print(f'We will process {verbose} data as {NUM_PARTS} separate parts.')\n",
    "        print(f'There will be {chunk} customers in each part (except the last part).')\n",
    "        print('Below are number of rows in each part:')\n",
    "    rows = []\n",
    "\n",
    "    for k in range(NUM_PARTS):\n",
    "        if k==NUM_PARTS-1: cc = customers[k*chunk:]\n",
    "        else: cc = customers[k*chunk:(k+1)*chunk]\n",
    "        s = test.loc[test.customer_ID.isin(cc)].shape[0]\n",
    "        rows.append(s)\n",
    "    if verbose != '': print( rows )\n",
    "    return rows,chunk\n",
    "\n",
    "# COMPUTE SIZE OF 4 PARTS FOR TEST DATA\n",
    "NUM_PARTS = 4\n",
    "TEST_PATH = '../input/amex-data-integer-dtypes-parquet-format/test.parquet'\n",
    "\n",
    "print(f'Reading test data...')\n",
    "test = read_file(path = TEST_PATH, usecols = ['customer_ID','S_2'])\n",
    "customers = test[['customer_ID']].drop_duplicates().sort_index().values.flatten()\n",
    "rows,num_cust = get_rows(customers, test[['customer_ID']], NUM_PARTS = NUM_PARTS, verbose = 'test')"
   ]
  },
  {
   "cell_type": "markdown",
   "id": "a9ce3dc7",
   "metadata": {
    "papermill": {
     "duration": 0.014485,
     "end_time": "2022-07-14T16:08:43.053175",
     "exception": false,
     "start_time": "2022-07-14T16:08:43.038690",
     "status": "completed"
    },
    "tags": []
   },
   "source": [
    "# Infer Test"
   ]
  },
  {
   "cell_type": "code",
   "execution_count": 18,
   "id": "b37dca6a",
   "metadata": {
    "execution": {
     "iopub.execute_input": "2022-07-14T16:08:43.083079Z",
     "iopub.status.busy": "2022-07-14T16:08:43.082795Z",
     "iopub.status.idle": "2022-07-14T16:11:20.774617Z",
     "shell.execute_reply": "2022-07-14T16:11:20.773788Z"
    },
    "papermill": {
     "duration": 157.709046,
     "end_time": "2022-07-14T16:11:20.777065",
     "exception": false,
     "start_time": "2022-07-14T16:08:43.068019",
     "status": "completed"
    },
    "tags": []
   },
   "outputs": [
    {
     "name": "stdout",
     "output_type": "stream",
     "text": [
      "\n",
      "Reading test data...\n",
      "shape of data: (11363762, 190)\n",
      "=> Test part 1 has shape (2841209, 190)\n",
      "shape after engineering (231155, 565)\n",
      "\n",
      "Reading test data...\n",
      "shape of data: (11363762, 190)\n",
      "=> Test part 2 has shape (2839857, 190)\n",
      "shape after engineering (231155, 565)\n",
      "\n",
      "Reading test data...\n",
      "shape of data: (11363762, 190)\n",
      "=> Test part 3 has shape (2842105, 190)\n",
      "shape after engineering (231155, 565)\n",
      "\n",
      "Reading test data...\n",
      "shape of data: (11363762, 190)\n",
      "=> Test part 4 has shape (2840591, 190)\n",
      "shape after engineering (231156, 565)\n"
     ]
    }
   ],
   "source": [
    "# INFER TEST DATA IN PARTS\n",
    "skip_rows = 0\n",
    "skip_cust = 0\n",
    "test_preds = []\n",
    "\n",
    "for k in range(NUM_PARTS):\n",
    "    \n",
    "    # READ PART OF TEST DATA\n",
    "    print(f'\\nReading test data...')\n",
    "    test = read_file(path = TEST_PATH)\n",
    "    test = test.iloc[skip_rows:skip_rows+rows[k]]\n",
    "    skip_rows += rows[k]\n",
    "    print(f'=> Test part {k+1} has shape', test.shape )\n",
    "    \n",
    "    # PROCESS AND FEATURE ENGINEER PART OF TEST DATA\n",
    "    test = process_and_feature_engineer(test)\n",
    "    if k==NUM_PARTS-1: test = test.loc[customers[skip_cust:]]\n",
    "    else: test = test.loc[customers[skip_cust:skip_cust+num_cust]]\n",
    "    skip_cust += num_cust\n",
    "    \n",
    "    # TEST DATA FOR XGB\n",
    "    X_test = test[FEATURES]\n",
    "    dtest = xgb.DMatrix(data=X_test)\n",
    "    test = test[['P_2_mean']] # reduce memory\n",
    "    del X_test\n",
    "    gc.collect()\n",
    "\n",
    "    # INFER XGB MODELS ON TEST DATA\n",
    "    model = xgb.Booster()\n",
    "    model.load_model(f'XGB_v{VER}_fold0.xgb')\n",
    "    preds = model.predict(dtest)\n",
    "    for f in range(1,FOLDS):\n",
    "        model.load_model(f'XGB_v{VER}_fold{f}.xgb')\n",
    "        preds += model.predict(dtest)\n",
    "    preds /= FOLDS\n",
    "    test_preds.append(preds)\n",
    "\n",
    "    # CLEAN MEMORY\n",
    "    del dtest, model\n",
    "    _ = gc.collect()"
   ]
  },
  {
   "cell_type": "markdown",
   "id": "b9f3077f",
   "metadata": {
    "papermill": {
     "duration": 0.014925,
     "end_time": "2022-07-14T16:11:20.807930",
     "exception": false,
     "start_time": "2022-07-14T16:11:20.793005",
     "status": "completed"
    },
    "tags": []
   },
   "source": [
    "# Create Submission CSV"
   ]
  },
  {
   "cell_type": "code",
   "execution_count": 19,
   "id": "2711fcd6",
   "metadata": {
    "execution": {
     "iopub.execute_input": "2022-07-14T16:11:20.838889Z",
     "iopub.status.busy": "2022-07-14T16:11:20.838581Z",
     "iopub.status.idle": "2022-07-14T16:11:22.124916Z",
     "shell.execute_reply": "2022-07-14T16:11:22.124164Z"
    },
    "papermill": {
     "duration": 1.303788,
     "end_time": "2022-07-14T16:11:22.126692",
     "exception": false,
     "start_time": "2022-07-14T16:11:20.822904",
     "status": "completed"
    },
    "tags": []
   },
   "outputs": [
    {
     "name": "stdout",
     "output_type": "stream",
     "text": [
      "Submission file shape is (924621, 2)\n"
     ]
    },
    {
     "data": {
      "text/html": [
       "<div>\n",
       "<style scoped>\n",
       "    .dataframe tbody tr th:only-of-type {\n",
       "        vertical-align: middle;\n",
       "    }\n",
       "\n",
       "    .dataframe tbody tr th {\n",
       "        vertical-align: top;\n",
       "    }\n",
       "\n",
       "    .dataframe thead th {\n",
       "        text-align: right;\n",
       "    }\n",
       "</style>\n",
       "<table border=\"1\" class=\"dataframe\">\n",
       "  <thead>\n",
       "    <tr style=\"text-align: right;\">\n",
       "      <th></th>\n",
       "      <th>customer_ID</th>\n",
       "      <th>prediction</th>\n",
       "    </tr>\n",
       "  </thead>\n",
       "  <tbody>\n",
       "    <tr>\n",
       "      <th>0</th>\n",
       "      <td>03999d5e3bd61a69504cc6e7025c260c1ed2e5b449dba5...</td>\n",
       "      <td>0.085331</td>\n",
       "    </tr>\n",
       "    <tr>\n",
       "      <th>1</th>\n",
       "      <td>039b4f21aa584fb0c3c7055beabc098af55013f9f25515...</td>\n",
       "      <td>0.004206</td>\n",
       "    </tr>\n",
       "    <tr>\n",
       "      <th>2</th>\n",
       "      <td>039a6aea85575ebd33eec75e5c45bc7973481b81a99b62...</td>\n",
       "      <td>0.085630</td>\n",
       "    </tr>\n",
       "    <tr>\n",
       "      <th>3</th>\n",
       "      <td>039bd96164c6567580b24ba13c2b85b60f4554eb43d55b...</td>\n",
       "      <td>0.391655</td>\n",
       "    </tr>\n",
       "    <tr>\n",
       "      <th>4</th>\n",
       "      <td>0399a5a95461ced4134cd9693712fb012351cca1bde04d...</td>\n",
       "      <td>0.000150</td>\n",
       "    </tr>\n",
       "  </tbody>\n",
       "</table>\n",
       "</div>"
      ],
      "text/plain": [
       "                                         customer_ID  prediction\n",
       "0  03999d5e3bd61a69504cc6e7025c260c1ed2e5b449dba5...    0.085331\n",
       "1  039b4f21aa584fb0c3c7055beabc098af55013f9f25515...    0.004206\n",
       "2  039a6aea85575ebd33eec75e5c45bc7973481b81a99b62...    0.085630\n",
       "3  039bd96164c6567580b24ba13c2b85b60f4554eb43d55b...    0.391655\n",
       "4  0399a5a95461ced4134cd9693712fb012351cca1bde04d...    0.000150"
      ]
     },
     "execution_count": 19,
     "metadata": {},
     "output_type": "execute_result"
    }
   ],
   "source": [
    "# WRITE SUBMISSION FILE\n",
    "test_preds = np.concatenate(test_preds)\n",
    "test = cudf.DataFrame(index=customers,data={'prediction':test_preds})\n",
    "sub = cudf.read_csv('../input/amex-default-prediction/sample_submission.csv')[['customer_ID']]\n",
    "sub['customer_ID_hash'] = sub['customer_ID'].str[-16:].str.hex_to_int().astype('int64')\n",
    "sub = sub.set_index('customer_ID_hash')\n",
    "sub = sub.merge(test[['prediction']], left_index=True, right_index=True, how='left')\n",
    "sub = sub.reset_index(drop=True)\n",
    "\n",
    "# DISPLAY PREDICTIONS\n",
    "sub.to_csv(f'submission_xgb_v{VER}.csv',index=False)\n",
    "print('Submission file shape is', sub.shape )\n",
    "sub.head()"
   ]
  },
  {
   "cell_type": "code",
   "execution_count": 20,
   "id": "96a06900",
   "metadata": {
    "execution": {
     "iopub.execute_input": "2022-07-14T16:11:22.161808Z",
     "iopub.status.busy": "2022-07-14T16:11:22.161525Z",
     "iopub.status.idle": "2022-07-14T16:11:22.847990Z",
     "shell.execute_reply": "2022-07-14T16:11:22.847197Z"
    },
    "papermill": {
     "duration": 0.704195,
     "end_time": "2022-07-14T16:11:22.849648",
     "exception": false,
     "start_time": "2022-07-14T16:11:22.145453",
     "status": "completed"
    },
    "tags": []
   },
   "outputs": [
    {
     "data": {
      "image/png": "[encoded data removed]",
      "text/plain": [
       "<Figure size 432x288 with 1 Axes>"
      ]
     },
     "metadata": {
      "needs_background": "light"
     },
     "output_type": "display_data"
    }
   ],
   "source": [
    "# PLOT PREDICTIONS\n",
    "plt.hist(sub.to_pandas().prediction, bins=100)\n",
    "plt.title('Test Predictions')\n",
    "plt.show()"
   ]
  }
 ],
 "metadata": {
  "kernelspec": {
   "display_name": "Python 3",
   "language": "python",
   "name": "python3"
  },
  "language_info": {
   "codemirror_mode": {
    "name": "ipython",
    "version": 3
   },
   "file_extension": ".py",
   "mimetype": "text/x-python",
   "name": "python",
   "nbconvert_exporter": "python",
   "pygments_lexer": "ipython3",
   "version": "3.7.12"
  },
  "papermill": {
   "default_parameters": {},
   "duration": 608.161422,
   "end_time": "2022-07-14T16:11:24.291308",
   "environment_variables": {},
   "exception": null,
   "input_path": "__notebook__.ipynb",
   "output_path": "__notebook__.ipynb",
   "parameters": {},
   "start_time": "2022-07-14T16:01:16.129886",
   "version": "2.3.4"
  }
 },
 "nbformat": 4,
 "nbformat_minor": 5
}
