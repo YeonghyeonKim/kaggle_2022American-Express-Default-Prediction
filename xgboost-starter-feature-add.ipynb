{
 "cells": [
  {
   "cell_type": "markdown",
   "id": "00b229b6",
   "metadata": {
    "papermill": {
     "duration": 0.010865,
     "end_time": "2022-07-16T17:09:15.521961",
     "exception": false,
     "start_time": "2022-07-16T17:09:15.511096",
     "status": "completed"
    },
    "tags": []
   },
   "source": [
    "# XGBoost Starter - LB 0.793\n",
    "In this notebook we build and train an XGBoost model using @raddar Kaggle dataset from [here][1] with discussion [here][2]. Then we engineer features suggested by @huseyincot in his notebooks [here][3] and [here][4]. This XGB model achieves CV 0.792 LB 0.793! When training with XGB, we use a special XGB dataloader called `DeviceQuantileDMatrix` which uses a small GPU memory footprint. This allows us to engineer more additional columns and train with more rows of data. Our feature engineering is performed using [RAPIDS][5] on the GPU to create new features quickly.\n",
    "\n",
    "[1]: https://www.kaggle.com/datasets/raddar/amex-data-integer-dtypes-parquet-format\n",
    "[2]: https://www.kaggle.com/competitions/amex-default-prediction/discussion/328514\n",
    "[3]: https://www.kaggle.com/code/huseyincot/amex-catboost-0-793\n",
    "[4]: https://www.kaggle.com/code/huseyincot/amex-agg-data-how-it-created\n",
    "[5]: https://rapids.ai/"
   ]
  },
  {
   "cell_type": "markdown",
   "id": "12b9f06c",
   "metadata": {
    "papermill": {
     "duration": 0.00978,
     "end_time": "2022-07-16T17:09:15.542134",
     "exception": false,
     "start_time": "2022-07-16T17:09:15.532354",
     "status": "completed"
    },
    "tags": []
   },
   "source": [
    "Feature Engineering I done\n",
    "1. Drop B_29, https://www.kaggle.com/code/roberthatch/amex-feature-engg-gpu-or-cpu-process-in-chunks/notebook\n",
    "2. Add each customer count (how long they used) (not normalize)\n",
    "3. Don't fill NaN (with -127)\n",
    "4. remove num_features's min, std\n",
    "5. D_39에 대한 feature 추가 -> CV하락\n",
    "6. B_1과 B_2간의 연관 feature 추가\n",
    "7. B_8과 B_9간의 연관 feature 추가\n",
    "\n",
    "2번을 빼니 0.792에서 0.7917 로 줄어듦.\n"
   ]
  },
  {
   "cell_type": "markdown",
   "id": "333da70c",
   "metadata": {
    "papermill": {
     "duration": 0.010982,
     "end_time": "2022-07-16T17:09:15.562649",
     "exception": false,
     "start_time": "2022-07-16T17:09:15.551667",
     "status": "completed"
    },
    "tags": []
   },
   "source": [
    "# Load Libraries"
   ]
  },
  {
   "cell_type": "code",
   "execution_count": 1,
   "id": "0e7728fd",
   "metadata": {
    "execution": {
     "iopub.execute_input": "2022-07-16T17:09:15.579833Z",
     "iopub.status.busy": "2022-07-16T17:09:15.578862Z",
     "iopub.status.idle": "2022-07-16T17:09:19.660734Z",
     "shell.execute_reply": "2022-07-16T17:09:19.658387Z"
    },
    "papermill": {
     "duration": 4.092096,
     "end_time": "2022-07-16T17:09:19.662660",
     "exception": false,
     "start_time": "2022-07-16T17:09:15.570564",
     "status": "completed"
    },
    "tags": []
   },
   "outputs": [
    {
     "name": "stdout",
     "output_type": "stream",
     "text": [
      "RAPIDS version 21.10.01\n"
     ]
    }
   ],
   "source": [
    "# LOAD LIBRARIES\n",
    "import pandas as pd, numpy as np # CPU libraries\n",
    "import cupy, cudf # GPU libraries\n",
    "import matplotlib.pyplot as plt, gc, os\n",
    "\n",
    "print('RAPIDS version',cudf.__version__)"
   ]
  },
  {
   "cell_type": "code",
   "execution_count": 2,
   "id": "fa03723c",
   "metadata": {
    "execution": {
     "iopub.execute_input": "2022-07-16T17:09:19.677365Z",
     "iopub.status.busy": "2022-07-16T17:09:19.677063Z",
     "iopub.status.idle": "2022-07-16T17:09:19.681300Z",
     "shell.execute_reply": "2022-07-16T17:09:19.680484Z"
    },
    "papermill": {
     "duration": 0.013333,
     "end_time": "2022-07-16T17:09:19.682887",
     "exception": false,
     "start_time": "2022-07-16T17:09:19.669554",
     "status": "completed"
    },
    "tags": []
   },
   "outputs": [],
   "source": [
    "# VERSION NAME FOR SAVED MODEL FILES\n",
    "VER = 1\n",
    "\n",
    "# TRAIN RANDOM SEED\n",
    "SEED = 42\n",
    "\n",
    "# FILL NAN VALUE\n",
    "NAN_VALUE = -127 # will fit in int8\n",
    "\n",
    "# FOLDS PER MODEL\n",
    "FOLDS = 5"
   ]
  },
  {
   "cell_type": "markdown",
   "id": "a98bec4c",
   "metadata": {
    "papermill": {
     "duration": 0.006427,
     "end_time": "2022-07-16T17:09:19.696086",
     "exception": false,
     "start_time": "2022-07-16T17:09:19.689659",
     "status": "completed"
    },
    "tags": []
   },
   "source": [
    "# Process and Feature Engineer Train Data\n",
    "We will load @raddar Kaggle dataset from [here][1] with discussion [here][2]. Then we will engineer features suggested by @huseyincot in his notebooks [here][3] and [here][4]. We will use [RAPIDS][5] and the GPU to create new features quickly.\n",
    "\n",
    "[1]: https://www.kaggle.com/datasets/raddar/amex-data-integer-dtypes-parquet-format\n",
    "[2]: https://www.kaggle.com/competitions/amex-default-prediction/discussion/328514\n",
    "[3]: https://www.kaggle.com/code/huseyincot/amex-catboost-0-793\n",
    "[4]: https://www.kaggle.com/code/huseyincot/amex-agg-data-how-it-created\n",
    "[5]: https://rapids.ai/"
   ]
  },
  {
   "cell_type": "code",
   "execution_count": 3,
   "id": "daa9dffb",
   "metadata": {
    "execution": {
     "iopub.execute_input": "2022-07-16T17:09:19.709993Z",
     "iopub.status.busy": "2022-07-16T17:09:19.709720Z",
     "iopub.status.idle": "2022-07-16T17:09:41.859225Z",
     "shell.execute_reply": "2022-07-16T17:09:41.858029Z"
    },
    "papermill": {
     "duration": 22.159791,
     "end_time": "2022-07-16T17:09:41.862323",
     "exception": false,
     "start_time": "2022-07-16T17:09:19.702532",
     "status": "completed"
    },
    "tags": []
   },
   "outputs": [
    {
     "name": "stdout",
     "output_type": "stream",
     "text": [
      "Reading train data...\n",
      "shape of data: (5531451, 190)\n"
     ]
    }
   ],
   "source": [
    "def read_file(path = '', usecols = None):\n",
    "    # LOAD DATAFRAME\n",
    "    if usecols is not None: df = cudf.read_parquet(path, columns=usecols)\n",
    "    else: df = cudf.read_parquet(path)\n",
    "    # REDUCE DTYPE FOR CUSTOMER AND DATE\n",
    "    df['customer_ID'] = df['customer_ID'].str[-16:].str.hex_to_int().astype('int64')\n",
    "    df.S_2 = cudf.to_datetime( df.S_2 )\n",
    "    # SORT BY CUSTOMER AND DATE (so agg('last') works correctly)\n",
    "    #df = df.sort_values(['customer_ID','S_2'])\n",
    "    #df = df.reset_index(drop=True)\n",
    "    # FILL NAN\n",
    "#     df = df.fillna(NAN_VALUE) \n",
    "    print('shape of data:', df.shape)\n",
    "    \n",
    "    return df\n",
    "\n",
    "print('Reading train data...')\n",
    "TRAIN_PATH = '../input/amex-data-integer-dtypes-parquet-format/train.parquet'\n",
    "train = read_file(path = TRAIN_PATH)"
   ]
  },
  {
   "cell_type": "code",
   "execution_count": 4,
   "id": "24f81c34",
   "metadata": {
    "execution": {
     "iopub.execute_input": "2022-07-16T17:09:41.887812Z",
     "iopub.status.busy": "2022-07-16T17:09:41.887446Z",
     "iopub.status.idle": "2022-07-16T17:09:42.333062Z",
     "shell.execute_reply": "2022-07-16T17:09:42.332276Z"
    },
    "papermill": {
     "duration": 0.461911,
     "end_time": "2022-07-16T17:09:42.335532",
     "exception": false,
     "start_time": "2022-07-16T17:09:41.873621",
     "status": "completed"
    },
    "tags": []
   },
   "outputs": [
    {
     "data": {
      "text/html": [
       "<div>\n",
       "<style scoped>\n",
       "    .dataframe tbody tr th:only-of-type {\n",
       "        vertical-align: middle;\n",
       "    }\n",
       "\n",
       "    .dataframe tbody tr th {\n",
       "        vertical-align: top;\n",
       "    }\n",
       "\n",
       "    .dataframe thead th {\n",
       "        text-align: right;\n",
       "    }\n",
       "</style>\n",
       "<table border=\"1\" class=\"dataframe\">\n",
       "  <thead>\n",
       "    <tr style=\"text-align: right;\">\n",
       "      <th></th>\n",
       "      <th>customer_ID</th>\n",
       "      <th>S_2</th>\n",
       "      <th>P_2</th>\n",
       "      <th>D_39</th>\n",
       "      <th>B_1</th>\n",
       "      <th>B_2</th>\n",
       "      <th>R_1</th>\n",
       "      <th>S_3</th>\n",
       "      <th>D_41</th>\n",
       "      <th>B_3</th>\n",
       "      <th>...</th>\n",
       "      <th>D_136</th>\n",
       "      <th>D_137</th>\n",
       "      <th>D_138</th>\n",
       "      <th>D_139</th>\n",
       "      <th>D_140</th>\n",
       "      <th>D_141</th>\n",
       "      <th>D_142</th>\n",
       "      <th>D_143</th>\n",
       "      <th>D_144</th>\n",
       "      <th>D_145</th>\n",
       "    </tr>\n",
       "  </thead>\n",
       "  <tbody>\n",
       "    <tr>\n",
       "      <th>0</th>\n",
       "      <td>-4532153018459703766</td>\n",
       "      <td>2017-03-09</td>\n",
       "      <td>0.938469</td>\n",
       "      <td>0</td>\n",
       "      <td>0.008724</td>\n",
       "      <td>1.006838</td>\n",
       "      <td>0.009228</td>\n",
       "      <td>0.124035</td>\n",
       "      <td>0.0</td>\n",
       "      <td>0.004709</td>\n",
       "      <td>...</td>\n",
       "      <td>-1</td>\n",
       "      <td>-1</td>\n",
       "      <td>-1</td>\n",
       "      <td>0</td>\n",
       "      <td>0</td>\n",
       "      <td>0.0</td>\n",
       "      <td>&lt;NA&gt;</td>\n",
       "      <td>0</td>\n",
       "      <td>0.000610</td>\n",
       "      <td>0</td>\n",
       "    </tr>\n",
       "    <tr>\n",
       "      <th>1</th>\n",
       "      <td>-4532153018459703766</td>\n",
       "      <td>2017-04-07</td>\n",
       "      <td>0.936665</td>\n",
       "      <td>0</td>\n",
       "      <td>0.004923</td>\n",
       "      <td>1.000653</td>\n",
       "      <td>0.006151</td>\n",
       "      <td>0.126750</td>\n",
       "      <td>0.0</td>\n",
       "      <td>0.002714</td>\n",
       "      <td>...</td>\n",
       "      <td>-1</td>\n",
       "      <td>-1</td>\n",
       "      <td>-1</td>\n",
       "      <td>0</td>\n",
       "      <td>0</td>\n",
       "      <td>0.0</td>\n",
       "      <td>&lt;NA&gt;</td>\n",
       "      <td>0</td>\n",
       "      <td>0.005492</td>\n",
       "      <td>0</td>\n",
       "    </tr>\n",
       "    <tr>\n",
       "      <th>2</th>\n",
       "      <td>-4532153018459703766</td>\n",
       "      <td>2017-05-28</td>\n",
       "      <td>0.954180</td>\n",
       "      <td>3</td>\n",
       "      <td>0.021655</td>\n",
       "      <td>1.009672</td>\n",
       "      <td>0.006815</td>\n",
       "      <td>0.123977</td>\n",
       "      <td>0.0</td>\n",
       "      <td>0.009423</td>\n",
       "      <td>...</td>\n",
       "      <td>-1</td>\n",
       "      <td>-1</td>\n",
       "      <td>-1</td>\n",
       "      <td>0</td>\n",
       "      <td>0</td>\n",
       "      <td>0.0</td>\n",
       "      <td>&lt;NA&gt;</td>\n",
       "      <td>0</td>\n",
       "      <td>0.006986</td>\n",
       "      <td>0</td>\n",
       "    </tr>\n",
       "    <tr>\n",
       "      <th>3</th>\n",
       "      <td>-4532153018459703766</td>\n",
       "      <td>2017-06-13</td>\n",
       "      <td>0.960384</td>\n",
       "      <td>0</td>\n",
       "      <td>0.013683</td>\n",
       "      <td>1.002700</td>\n",
       "      <td>0.001373</td>\n",
       "      <td>0.117169</td>\n",
       "      <td>0.0</td>\n",
       "      <td>0.005531</td>\n",
       "      <td>...</td>\n",
       "      <td>-1</td>\n",
       "      <td>-1</td>\n",
       "      <td>-1</td>\n",
       "      <td>0</td>\n",
       "      <td>0</td>\n",
       "      <td>0.0</td>\n",
       "      <td>&lt;NA&gt;</td>\n",
       "      <td>0</td>\n",
       "      <td>0.006527</td>\n",
       "      <td>0</td>\n",
       "    </tr>\n",
       "    <tr>\n",
       "      <th>4</th>\n",
       "      <td>-4532153018459703766</td>\n",
       "      <td>2017-07-16</td>\n",
       "      <td>0.947248</td>\n",
       "      <td>0</td>\n",
       "      <td>0.015193</td>\n",
       "      <td>1.000727</td>\n",
       "      <td>0.007605</td>\n",
       "      <td>0.117325</td>\n",
       "      <td>0.0</td>\n",
       "      <td>0.009312</td>\n",
       "      <td>...</td>\n",
       "      <td>-1</td>\n",
       "      <td>-1</td>\n",
       "      <td>-1</td>\n",
       "      <td>0</td>\n",
       "      <td>0</td>\n",
       "      <td>0.0</td>\n",
       "      <td>&lt;NA&gt;</td>\n",
       "      <td>0</td>\n",
       "      <td>0.008126</td>\n",
       "      <td>0</td>\n",
       "    </tr>\n",
       "  </tbody>\n",
       "</table>\n",
       "<p>5 rows × 190 columns</p>\n",
       "</div>"
      ],
      "text/plain": [
       "           customer_ID        S_2       P_2  D_39       B_1       B_2  \\\n",
       "0 -4532153018459703766 2017-03-09  0.938469     0  0.008724  1.006838   \n",
       "1 -4532153018459703766 2017-04-07  0.936665     0  0.004923  1.000653   \n",
       "2 -4532153018459703766 2017-05-28  0.954180     3  0.021655  1.009672   \n",
       "3 -4532153018459703766 2017-06-13  0.960384     0  0.013683  1.002700   \n",
       "4 -4532153018459703766 2017-07-16  0.947248     0  0.015193  1.000727   \n",
       "\n",
       "        R_1       S_3  D_41       B_3  ... D_136  D_137  D_138  D_139  D_140  \\\n",
       "0  0.009228  0.124035   0.0  0.004709  ...    -1     -1     -1      0      0   \n",
       "1  0.006151  0.126750   0.0  0.002714  ...    -1     -1     -1      0      0   \n",
       "2  0.006815  0.123977   0.0  0.009423  ...    -1     -1     -1      0      0   \n",
       "3  0.001373  0.117169   0.0  0.005531  ...    -1     -1     -1      0      0   \n",
       "4  0.007605  0.117325   0.0  0.009312  ...    -1     -1     -1      0      0   \n",
       "\n",
       "   D_141  D_142 D_143     D_144  D_145  \n",
       "0    0.0   <NA>     0  0.000610      0  \n",
       "1    0.0   <NA>     0  0.005492      0  \n",
       "2    0.0   <NA>     0  0.006986      0  \n",
       "3    0.0   <NA>     0  0.006527      0  \n",
       "4    0.0   <NA>     0  0.008126      0  \n",
       "\n",
       "[5 rows x 190 columns]"
      ]
     },
     "execution_count": 4,
     "metadata": {},
     "output_type": "execute_result"
    }
   ],
   "source": [
    "train.head()"
   ]
  },
  {
   "cell_type": "code",
   "execution_count": 5,
   "id": "346f99f6",
   "metadata": {
    "execution": {
     "iopub.execute_input": "2022-07-16T17:09:42.360937Z",
     "iopub.status.busy": "2022-07-16T17:09:42.360600Z",
     "iopub.status.idle": "2022-07-16T17:09:44.959079Z",
     "shell.execute_reply": "2022-07-16T17:09:44.958238Z"
    },
    "papermill": {
     "duration": 2.613532,
     "end_time": "2022-07-16T17:09:44.961393",
     "exception": false,
     "start_time": "2022-07-16T17:09:42.347861",
     "status": "completed"
    },
    "tags": []
   },
   "outputs": [
    {
     "name": "stdout",
     "output_type": "stream",
     "text": [
      "shape after engineering (458913, 568)\n"
     ]
    }
   ],
   "source": [
    "def process_and_feature_engineer(df):\n",
    "    # FEATURE ENGINEERING FROM \n",
    "    # https://www.kaggle.com/code/huseyincot/amex-agg-data-how-it-created\n",
    "    \n",
    "#     1) Drop 'B_29'\n",
    "    df.drop(['B_29'], inplace=True, axis=1)\n",
    "#     5) D_39에 대한 feature 추가\n",
    "#     df['D_39_div30'] = df['D_39']/30\n",
    "    \n",
    "#     6) B1, B2에 연관 feature추가\n",
    "    df['B_1_2'] = df['B_1']/(df['B_2']+0.0000001)\n",
    "#     df['B_1_3'] = (df['B_1']+0.0000001) * (df['B_2']+0.0000001) # 성능하락\n",
    "    \n",
    "#     7) B8, B9에 연관 feature추가\n",
    "    df['B_8_9'] = (df['B_8']+0.0000001)*(df['B_9']+0.0000001)\n",
    "    all_cols = [c for c in list(df.columns) if c not in ['customer_ID','S_2']]\n",
    "    cat_features = [\"B_30\",\"B_38\",\"D_114\",\"D_116\",\"D_117\",\"D_120\",\"D_126\",\"D_63\",\"D_64\",\"D_66\",\"D_68\"]\n",
    "    num_features = [col for col in all_cols if col not in cat_features]\n",
    "    \n",
    "#     2) Add customer count\n",
    "    test_count_agg = df.groupby(['customer_ID'])['S_2'].agg(['count'])\n",
    "\n",
    "\n",
    "    test_num_agg = df.groupby(\"customer_ID\")[num_features].agg(['mean', 'max', 'last'])\n",
    "    test_num_agg.columns = ['_'.join(x) for x in test_num_agg.columns]\n",
    "\n",
    "    test_cat_agg = df.groupby(\"customer_ID\")[cat_features].agg(['count', 'last', 'nunique'])\n",
    "    test_cat_agg.columns = ['_'.join(x) for x in test_cat_agg.columns]\n",
    "\n",
    "    df = cudf.concat([test_count_agg,test_num_agg, test_cat_agg], axis=1)\n",
    "    del test_num_agg, test_cat_agg\n",
    "    print('shape after engineering', df.shape )\n",
    "    \n",
    "    return df\n",
    "\n",
    "train = process_and_feature_engineer(train)"
   ]
  },
  {
   "cell_type": "code",
   "execution_count": 6,
   "id": "fefeb5e4",
   "metadata": {
    "execution": {
     "iopub.execute_input": "2022-07-16T17:09:44.977755Z",
     "iopub.status.busy": "2022-07-16T17:09:44.976921Z",
     "iopub.status.idle": "2022-07-16T17:09:45.903854Z",
     "shell.execute_reply": "2022-07-16T17:09:45.902761Z"
    },
    "papermill": {
     "duration": 0.937334,
     "end_time": "2022-07-16T17:09:45.906012",
     "exception": false,
     "start_time": "2022-07-16T17:09:44.968678",
     "status": "completed"
    },
    "tags": []
   },
   "outputs": [
    {
     "name": "stdout",
     "output_type": "stream",
     "text": [
      "There are 568 features!\n"
     ]
    }
   ],
   "source": [
    "# ADD TARGETS\n",
    "targets = cudf.read_csv('../input/amex-default-prediction/train_labels.csv')\n",
    "targets['customer_ID'] = targets['customer_ID'].str[-16:].str.hex_to_int().astype('int64')\n",
    "targets = targets.set_index('customer_ID')\n",
    "train = train.merge(targets, left_index=True, right_index=True, how='left')\n",
    "train.target = train.target.astype('int8')\n",
    "del targets\n",
    "\n",
    "# NEEDED TO MAKE CV DETERMINISTIC (cudf merge above randomly shuffles rows)\n",
    "train = train.sort_index().reset_index()\n",
    "\n",
    "# FEATURES\n",
    "FEATURES = train.columns[1:-1]\n",
    "print(f'There are {len(FEATURES)} features!')"
   ]
  },
  {
   "cell_type": "markdown",
   "id": "2a664d18",
   "metadata": {
    "papermill": {
     "duration": 0.007038,
     "end_time": "2022-07-16T17:09:45.920466",
     "exception": false,
     "start_time": "2022-07-16T17:09:45.913428",
     "status": "completed"
    },
    "tags": []
   },
   "source": [
    "# Train XGB\n",
    "We will train using `DeviceQuantileDMatrix`. This has a very small GPU memory footprint."
   ]
  },
  {
   "cell_type": "code",
   "execution_count": 7,
   "id": "e6c977e9",
   "metadata": {
    "execution": {
     "iopub.execute_input": "2022-07-16T17:09:45.936086Z",
     "iopub.status.busy": "2022-07-16T17:09:45.935793Z",
     "iopub.status.idle": "2022-07-16T17:09:46.027653Z",
     "shell.execute_reply": "2022-07-16T17:09:46.026643Z"
    },
    "papermill": {
     "duration": 0.102054,
     "end_time": "2022-07-16T17:09:46.029858",
     "exception": false,
     "start_time": "2022-07-16T17:09:45.927804",
     "status": "completed"
    },
    "tags": []
   },
   "outputs": [
    {
     "name": "stdout",
     "output_type": "stream",
     "text": [
      "XGB Version 1.6.1\n"
     ]
    }
   ],
   "source": [
    "# LOAD XGB LIBRARY\n",
    "from sklearn.model_selection import KFold\n",
    "import xgboost as xgb\n",
    "print('XGB Version',xgb.__version__)\n",
    "\n",
    "# XGB MODEL PARAMETERS\n",
    "xgb_parms = { \n",
    "    'max_depth':4, \n",
    "    'learning_rate':0.05, \n",
    "    'subsample':0.8,\n",
    "    'colsample_bytree':0.6, \n",
    "    'eval_metric':'logloss',\n",
    "    'objective':'binary:logistic',\n",
    "    'tree_method':'gpu_hist',\n",
    "    'predictor':'gpu_predictor',\n",
    "    'random_state':SEED\n",
    "}"
   ]
  },
  {
   "cell_type": "code",
   "execution_count": 8,
   "id": "36505db9",
   "metadata": {
    "execution": {
     "iopub.execute_input": "2022-07-16T17:09:46.046859Z",
     "iopub.status.busy": "2022-07-16T17:09:46.046559Z",
     "iopub.status.idle": "2022-07-16T17:09:46.056729Z",
     "shell.execute_reply": "2022-07-16T17:09:46.055966Z"
    },
    "papermill": {
     "duration": 0.020315,
     "end_time": "2022-07-16T17:09:46.058411",
     "exception": false,
     "start_time": "2022-07-16T17:09:46.038096",
     "status": "completed"
    },
    "tags": []
   },
   "outputs": [],
   "source": [
    "# NEEDED WITH DeviceQuantileDMatrix BELOW\n",
    "class IterLoadForDMatrix(xgb.core.DataIter):\n",
    "    def __init__(self, df=None, features=None, target=None, batch_size=256*1024):\n",
    "        self.features = features\n",
    "        self.target = target\n",
    "        self.df = df\n",
    "        self.it = 0 # set iterator to 0\n",
    "        self.batch_size = batch_size\n",
    "        self.batches = int( np.ceil( len(df) / self.batch_size ) )\n",
    "        super().__init__()\n",
    "\n",
    "    def reset(self):\n",
    "        '''Reset the iterator'''\n",
    "        self.it = 0\n",
    "\n",
    "    def next(self, input_data):\n",
    "        '''Yield next batch of data.'''\n",
    "        if self.it == self.batches:\n",
    "            return 0 # Return 0 when there's no more batch.\n",
    "        \n",
    "        a = self.it * self.batch_size\n",
    "        b = min( (self.it + 1) * self.batch_size, len(self.df) )\n",
    "        dt = cudf.DataFrame(self.df.iloc[a:b])\n",
    "        input_data(data=dt[self.features], label=dt[self.target]) #, weight=dt['weight'])\n",
    "        self.it += 1\n",
    "        return 1"
   ]
  },
  {
   "cell_type": "code",
   "execution_count": 9,
   "id": "d53a132e",
   "metadata": {
    "execution": {
     "iopub.execute_input": "2022-07-16T17:09:46.074537Z",
     "iopub.status.busy": "2022-07-16T17:09:46.073840Z",
     "iopub.status.idle": "2022-07-16T17:09:46.083585Z",
     "shell.execute_reply": "2022-07-16T17:09:46.082705Z"
    },
    "papermill": {
     "duration": 0.019673,
     "end_time": "2022-07-16T17:09:46.085215",
     "exception": false,
     "start_time": "2022-07-16T17:09:46.065542",
     "status": "completed"
    },
    "tags": []
   },
   "outputs": [],
   "source": [
    "# https://www.kaggle.com/kyakovlev\n",
    "# https://www.kaggle.com/competitions/amex-default-prediction/discussion/327534\n",
    "def amex_metric_mod(y_true, y_pred):\n",
    "\n",
    "    labels     = np.transpose(np.array([y_true, y_pred]))\n",
    "    labels     = labels[labels[:, 1].argsort()[::-1]]\n",
    "    weights    = np.where(labels[:,0]==0, 20, 1)\n",
    "    cut_vals   = labels[np.cumsum(weights) <= int(0.04 * np.sum(weights))]\n",
    "    top_four   = np.sum(cut_vals[:,0]) / np.sum(labels[:,0])\n",
    "\n",
    "    gini = [0,0]\n",
    "    for i in [1,0]:\n",
    "        labels         = np.transpose(np.array([y_true, y_pred]))\n",
    "        labels         = labels[labels[:, i].argsort()[::-1]]\n",
    "        weight         = np.where(labels[:,0]==0, 20, 1)\n",
    "        weight_random  = np.cumsum(weight / np.sum(weight))\n",
    "        total_pos      = np.sum(labels[:, 0] *  weight)\n",
    "        cum_pos_found  = np.cumsum(labels[:, 0] * weight)\n",
    "        lorentz        = cum_pos_found / total_pos\n",
    "        gini[i]        = np.sum((lorentz - weight_random) * weight)\n",
    "\n",
    "    return 0.5 * (gini[1]/gini[0] + top_four)"
   ]
  },
  {
   "cell_type": "code",
   "execution_count": 10,
   "id": "6c6cd808",
   "metadata": {
    "execution": {
     "iopub.execute_input": "2022-07-16T17:09:46.101147Z",
     "iopub.status.busy": "2022-07-16T17:09:46.100898Z",
     "iopub.status.idle": "2022-07-16T17:16:29.673898Z",
     "shell.execute_reply": "2022-07-16T17:16:29.673013Z"
    },
    "papermill": {
     "duration": 403.583768,
     "end_time": "2022-07-16T17:16:29.676460",
     "exception": false,
     "start_time": "2022-07-16T17:09:46.092692",
     "status": "completed"
    },
    "scrolled": true,
    "tags": []
   },
   "outputs": [
    {
     "name": "stdout",
     "output_type": "stream",
     "text": [
      "#########################\n",
      "### Fold 1\n",
      "### Train size 367130 Valid size 91783\n",
      "### Training with 100% fold data...\n",
      "#########################\n",
      "[0]\ttrain-logloss:0.66317\tvalid-logloss:0.66320\n",
      "[100]\ttrain-logloss:0.23714\tvalid-logloss:0.23976\n",
      "[200]\ttrain-logloss:0.22277\tvalid-logloss:0.22778\n",
      "[300]\ttrain-logloss:0.21665\tvalid-logloss:0.22369\n",
      "[400]\ttrain-logloss:0.21267\tvalid-logloss:0.22157\n",
      "[500]\ttrain-logloss:0.20960\tvalid-logloss:0.22021\n",
      "[600]\ttrain-logloss:0.20703\tvalid-logloss:0.21939\n",
      "[700]\ttrain-logloss:0.20466\tvalid-logloss:0.21881\n",
      "[800]\ttrain-logloss:0.20252\tvalid-logloss:0.21847\n",
      "[900]\ttrain-logloss:0.20044\tvalid-logloss:0.21814\n",
      "[1000]\ttrain-logloss:0.19850\tvalid-logloss:0.21792\n",
      "[1100]\ttrain-logloss:0.19658\tvalid-logloss:0.21774\n",
      "[1200]\ttrain-logloss:0.19469\tvalid-logloss:0.21760\n",
      "[1300]\ttrain-logloss:0.19294\tvalid-logloss:0.21744\n",
      "[1400]\ttrain-logloss:0.19120\tvalid-logloss:0.21732\n",
      "[1500]\ttrain-logloss:0.18950\tvalid-logloss:0.21724\n",
      "[1600]\ttrain-logloss:0.18782\tvalid-logloss:0.21709\n",
      "[1700]\ttrain-logloss:0.18621\tvalid-logloss:0.21701\n",
      "[1768]\ttrain-logloss:0.18514\tvalid-logloss:0.21703\n",
      "Kaggle Metric = 0.7932281243372409 \n",
      "\n",
      "#########################\n",
      "### Fold 2\n",
      "### Train size 367130 Valid size 91783\n",
      "### Training with 100% fold data...\n",
      "#########################\n",
      "[0]\ttrain-logloss:0.66325\tvalid-logloss:0.66312\n",
      "[100]\ttrain-logloss:0.23731\tvalid-logloss:0.23788\n",
      "[200]\ttrain-logloss:0.22324\tvalid-logloss:0.22579\n",
      "[300]\ttrain-logloss:0.21712\tvalid-logloss:0.22183\n",
      "[400]\ttrain-logloss:0.21312\tvalid-logloss:0.21990\n",
      "[500]\ttrain-logloss:0.21001\tvalid-logloss:0.21876\n",
      "[600]\ttrain-logloss:0.20729\tvalid-logloss:0.21796\n",
      "[700]\ttrain-logloss:0.20488\tvalid-logloss:0.21747\n",
      "[800]\ttrain-logloss:0.20261\tvalid-logloss:0.21697\n",
      "[900]\ttrain-logloss:0.20051\tvalid-logloss:0.21666\n",
      "[1000]\ttrain-logloss:0.19850\tvalid-logloss:0.21650\n",
      "[1100]\ttrain-logloss:0.19661\tvalid-logloss:0.21636\n",
      "[1200]\ttrain-logloss:0.19478\tvalid-logloss:0.21628\n",
      "[1300]\ttrain-logloss:0.19302\tvalid-logloss:0.21614\n",
      "[1400]\ttrain-logloss:0.19133\tvalid-logloss:0.21605\n",
      "[1500]\ttrain-logloss:0.18964\tvalid-logloss:0.21594\n",
      "[1600]\ttrain-logloss:0.18795\tvalid-logloss:0.21588\n",
      "[1700]\ttrain-logloss:0.18631\tvalid-logloss:0.21584\n",
      "[1800]\ttrain-logloss:0.18469\tvalid-logloss:0.21585\n",
      "[1836]\ttrain-logloss:0.18412\tvalid-logloss:0.21584\n",
      "Kaggle Metric = 0.793870988665861 \n",
      "\n",
      "#########################\n",
      "### Fold 3\n",
      "### Train size 367130 Valid size 91783\n",
      "### Training with 100% fold data...\n",
      "#########################\n",
      "[0]\ttrain-logloss:0.66315\tvalid-logloss:0.66328\n",
      "[100]\ttrain-logloss:0.23668\tvalid-logloss:0.24070\n",
      "[200]\ttrain-logloss:0.22248\tvalid-logloss:0.22897\n",
      "[300]\ttrain-logloss:0.21639\tvalid-logloss:0.22488\n",
      "[400]\ttrain-logloss:0.21249\tvalid-logloss:0.22288\n",
      "[500]\ttrain-logloss:0.20931\tvalid-logloss:0.22170\n",
      "[600]\ttrain-logloss:0.20657\tvalid-logloss:0.22092\n",
      "[700]\ttrain-logloss:0.20415\tvalid-logloss:0.22034\n",
      "[800]\ttrain-logloss:0.20197\tvalid-logloss:0.22000\n",
      "[900]\ttrain-logloss:0.19991\tvalid-logloss:0.21973\n",
      "[1000]\ttrain-logloss:0.19791\tvalid-logloss:0.21955\n",
      "[1100]\ttrain-logloss:0.19601\tvalid-logloss:0.21931\n",
      "[1200]\ttrain-logloss:0.19415\tvalid-logloss:0.21923\n",
      "[1300]\ttrain-logloss:0.19241\tvalid-logloss:0.21910\n",
      "[1400]\ttrain-logloss:0.19068\tvalid-logloss:0.21900\n",
      "[1500]\ttrain-logloss:0.18901\tvalid-logloss:0.21892\n",
      "[1600]\ttrain-logloss:0.18732\tvalid-logloss:0.21892\n",
      "[1633]\ttrain-logloss:0.18678\tvalid-logloss:0.21891\n",
      "Kaggle Metric = 0.7896201993764029 \n",
      "\n",
      "#########################\n",
      "### Fold 4\n",
      "### Train size 367131 Valid size 91782\n",
      "### Training with 100% fold data...\n",
      "#########################\n",
      "[0]\ttrain-logloss:0.66312\tvalid-logloss:0.66330\n",
      "[100]\ttrain-logloss:0.23661\tvalid-logloss:0.24102\n",
      "[200]\ttrain-logloss:0.22224\tvalid-logloss:0.22899\n",
      "[300]\ttrain-logloss:0.21625\tvalid-logloss:0.22519\n",
      "[400]\ttrain-logloss:0.21224\tvalid-logloss:0.22322\n",
      "[500]\ttrain-logloss:0.20912\tvalid-logloss:0.22217\n",
      "[600]\ttrain-logloss:0.20645\tvalid-logloss:0.22138\n",
      "[700]\ttrain-logloss:0.20401\tvalid-logloss:0.22079\n",
      "[800]\ttrain-logloss:0.20175\tvalid-logloss:0.22047\n",
      "[900]\ttrain-logloss:0.19969\tvalid-logloss:0.22019\n",
      "[1000]\ttrain-logloss:0.19767\tvalid-logloss:0.21998\n",
      "[1100]\ttrain-logloss:0.19577\tvalid-logloss:0.21983\n",
      "[1200]\ttrain-logloss:0.19390\tvalid-logloss:0.21968\n",
      "[1300]\ttrain-logloss:0.19209\tvalid-logloss:0.21964\n",
      "[1400]\ttrain-logloss:0.19037\tvalid-logloss:0.21952\n",
      "[1500]\ttrain-logloss:0.18863\tvalid-logloss:0.21948\n",
      "[1600]\ttrain-logloss:0.18698\tvalid-logloss:0.21942\n",
      "[1700]\ttrain-logloss:0.18533\tvalid-logloss:0.21940\n",
      "[1800]\ttrain-logloss:0.18373\tvalid-logloss:0.21933\n",
      "[1896]\ttrain-logloss:0.18223\tvalid-logloss:0.21935\n",
      "Kaggle Metric = 0.787676222655331 \n",
      "\n",
      "#########################\n",
      "### Fold 5\n",
      "### Train size 367131 Valid size 91782\n",
      "### Training with 100% fold data...\n",
      "#########################\n",
      "[0]\ttrain-logloss:0.66317\tvalid-logloss:0.66311\n",
      "[100]\ttrain-logloss:0.23747\tvalid-logloss:0.23793\n",
      "[200]\ttrain-logloss:0.22329\tvalid-logloss:0.22597\n",
      "[300]\ttrain-logloss:0.21737\tvalid-logloss:0.22193\n",
      "[400]\ttrain-logloss:0.21330\tvalid-logloss:0.21973\n",
      "[500]\ttrain-logloss:0.21010\tvalid-logloss:0.21843\n",
      "[600]\ttrain-logloss:0.20745\tvalid-logloss:0.21770\n",
      "[700]\ttrain-logloss:0.20502\tvalid-logloss:0.21711\n",
      "[800]\ttrain-logloss:0.20275\tvalid-logloss:0.21669\n",
      "[900]\ttrain-logloss:0.20067\tvalid-logloss:0.21638\n",
      "[1000]\ttrain-logloss:0.19868\tvalid-logloss:0.21612\n",
      "[1100]\ttrain-logloss:0.19673\tvalid-logloss:0.21598\n",
      "[1200]\ttrain-logloss:0.19490\tvalid-logloss:0.21587\n",
      "[1300]\ttrain-logloss:0.19308\tvalid-logloss:0.21570\n",
      "[1400]\ttrain-logloss:0.19130\tvalid-logloss:0.21561\n",
      "[1500]\ttrain-logloss:0.18959\tvalid-logloss:0.21552\n",
      "[1600]\ttrain-logloss:0.18790\tvalid-logloss:0.21539\n",
      "[1700]\ttrain-logloss:0.18629\tvalid-logloss:0.21529\n",
      "[1800]\ttrain-logloss:0.18469\tvalid-logloss:0.21527\n",
      "[1900]\ttrain-logloss:0.18309\tvalid-logloss:0.21523\n",
      "[2000]\ttrain-logloss:0.18152\tvalid-logloss:0.21517\n",
      "[2100]\ttrain-logloss:0.17999\tvalid-logloss:0.21513\n",
      "[2200]\ttrain-logloss:0.17847\tvalid-logloss:0.21509\n",
      "[2285]\ttrain-logloss:0.17720\tvalid-logloss:0.21512\n",
      "Kaggle Metric = 0.7948199049510494 \n",
      "\n",
      "#########################\n",
      "OVERALL CV Kaggle Metric = 0.7917891180398445\n"
     ]
    }
   ],
   "source": [
    "importances = []\n",
    "oof = []\n",
    "train = train.to_pandas() # free GPU memory\n",
    "TRAIN_SUBSAMPLE = 1.0\n",
    "gc.collect()\n",
    "\n",
    "skf = KFold(n_splits=FOLDS, shuffle=True, random_state=SEED)\n",
    "for fold,(train_idx, valid_idx) in enumerate(skf.split(\n",
    "            train, train.target )):\n",
    "    \n",
    "    # TRAIN WITH SUBSAMPLE OF TRAIN FOLD DATA\n",
    "    if TRAIN_SUBSAMPLE<1.0:\n",
    "        np.random.seed(SEED)\n",
    "        train_idx = np.random.choice(train_idx, \n",
    "                       int(len(train_idx)*TRAIN_SUBSAMPLE), replace=False)\n",
    "        np.random.seed(None)\n",
    "    \n",
    "    print('#'*25)\n",
    "    print('### Fold',fold+1)\n",
    "    print('### Train size',len(train_idx),'Valid size',len(valid_idx))\n",
    "    print(f'### Training with {int(TRAIN_SUBSAMPLE*100)}% fold data...')\n",
    "    print('#'*25)\n",
    "    \n",
    "    # TRAIN, VALID, TEST FOR FOLD K\n",
    "    Xy_train = IterLoadForDMatrix(train.loc[train_idx], FEATURES, 'target')\n",
    "    X_valid = train.loc[valid_idx, FEATURES]\n",
    "    y_valid = train.loc[valid_idx, 'target']\n",
    "    \n",
    "    dtrain = xgb.DeviceQuantileDMatrix(Xy_train, max_bin=256)\n",
    "    dvalid = xgb.DMatrix(data=X_valid, label=y_valid)\n",
    "    \n",
    "    # TRAIN MODEL FOLD K\n",
    "    model = xgb.train(xgb_parms, \n",
    "                dtrain=dtrain,\n",
    "                evals=[(dtrain,'train'),(dvalid,'valid')],\n",
    "                num_boost_round=9999,\n",
    "                early_stopping_rounds=100,\n",
    "                verbose_eval=100) \n",
    "    model.save_model(f'XGB_v{VER}_fold{fold}.xgb')\n",
    "    \n",
    "    # GET FEATURE IMPORTANCE FOR FOLD K\n",
    "    dd = model.get_score(importance_type='weight')\n",
    "    df = pd.DataFrame({'feature':dd.keys(),f'importance_{fold}':dd.values()})\n",
    "    importances.append(df)\n",
    "            \n",
    "    # INFER OOF FOLD K\n",
    "    oof_preds = model.predict(dvalid)\n",
    "    acc = amex_metric_mod(y_valid.values, oof_preds)\n",
    "    print('Kaggle Metric =',acc,'\\n')\n",
    "    \n",
    "    # SAVE OOF\n",
    "    df = train.loc[valid_idx, ['customer_ID','target'] ].copy()\n",
    "    df['oof_pred'] = oof_preds\n",
    "    oof.append( df )\n",
    "    \n",
    "    del dtrain, Xy_train, dd, df\n",
    "    del X_valid, y_valid, dvalid, model\n",
    "    _ = gc.collect()\n",
    "    \n",
    "print('#'*25)\n",
    "oof = pd.concat(oof,axis=0,ignore_index=True).set_index('customer_ID')\n",
    "acc = amex_metric_mod(oof.target.values, oof.oof_pred.values)\n",
    "print('OVERALL CV Kaggle Metric =',acc)"
   ]
  },
  {
   "cell_type": "code",
   "execution_count": 11,
   "id": "4ed2a6e1",
   "metadata": {
    "execution": {
     "iopub.execute_input": "2022-07-16T17:16:29.706544Z",
     "iopub.status.busy": "2022-07-16T17:16:29.706240Z",
     "iopub.status.idle": "2022-07-16T17:16:29.838212Z",
     "shell.execute_reply": "2022-07-16T17:16:29.837273Z"
    },
    "papermill": {
     "duration": 0.148979,
     "end_time": "2022-07-16T17:16:29.840384",
     "exception": false,
     "start_time": "2022-07-16T17:16:29.691405",
     "status": "completed"
    },
    "tags": []
   },
   "outputs": [],
   "source": [
    "# CLEAN RAM\n",
    "del train\n",
    "_ = gc.collect()"
   ]
  },
  {
   "cell_type": "markdown",
   "id": "56219bb9",
   "metadata": {
    "papermill": {
     "duration": 0.013478,
     "end_time": "2022-07-16T17:16:29.868141",
     "exception": false,
     "start_time": "2022-07-16T17:16:29.854663",
     "status": "completed"
    },
    "tags": []
   },
   "source": [
    "# Save OOF Preds"
   ]
  },
  {
   "cell_type": "code",
   "execution_count": 12,
   "id": "5a076243",
   "metadata": {
    "execution": {
     "iopub.execute_input": "2022-07-16T17:16:29.896830Z",
     "iopub.status.busy": "2022-07-16T17:16:29.896541Z",
     "iopub.status.idle": "2022-07-16T17:16:34.592842Z",
     "shell.execute_reply": "2022-07-16T17:16:34.592067Z"
    },
    "papermill": {
     "duration": 4.713329,
     "end_time": "2022-07-16T17:16:34.595132",
     "exception": false,
     "start_time": "2022-07-16T17:16:29.881803",
     "status": "completed"
    },
    "tags": []
   },
   "outputs": [
    {
     "data": {
      "text/html": [
       "<div>\n",
       "<style scoped>\n",
       "    .dataframe tbody tr th:only-of-type {\n",
       "        vertical-align: middle;\n",
       "    }\n",
       "\n",
       "    .dataframe tbody tr th {\n",
       "        vertical-align: top;\n",
       "    }\n",
       "\n",
       "    .dataframe thead th {\n",
       "        text-align: right;\n",
       "    }\n",
       "</style>\n",
       "<table border=\"1\" class=\"dataframe\">\n",
       "  <thead>\n",
       "    <tr style=\"text-align: right;\">\n",
       "      <th></th>\n",
       "      <th>customer_ID</th>\n",
       "      <th>target</th>\n",
       "      <th>oof_pred</th>\n",
       "    </tr>\n",
       "  </thead>\n",
       "  <tbody>\n",
       "    <tr>\n",
       "      <th>0</th>\n",
       "      <td>20eac26171c3d251c55fc78204e59fab1c15fc2bc96d0c...</td>\n",
       "      <td>1</td>\n",
       "      <td>0.737881</td>\n",
       "    </tr>\n",
       "    <tr>\n",
       "      <th>1</th>\n",
       "      <td>aea50fdf9b974ccec95fa177c3225a0f913483b457de6e...</td>\n",
       "      <td>0</td>\n",
       "      <td>0.000283</td>\n",
       "    </tr>\n",
       "    <tr>\n",
       "      <th>2</th>\n",
       "      <td>32cd2d41aef737b69089882754395925c96eaee1f4a859...</td>\n",
       "      <td>0</td>\n",
       "      <td>0.001836</td>\n",
       "    </tr>\n",
       "    <tr>\n",
       "      <th>3</th>\n",
       "      <td>8daa6d5dc2655a8a437531e6b8b96829113cdfe9bf6cae...</td>\n",
       "      <td>0</td>\n",
       "      <td>0.016616</td>\n",
       "    </tr>\n",
       "    <tr>\n",
       "      <th>4</th>\n",
       "      <td>0ceba351a3851202542feb49d7385bcef32f6037fc57c7...</td>\n",
       "      <td>1</td>\n",
       "      <td>0.886370</td>\n",
       "    </tr>\n",
       "  </tbody>\n",
       "</table>\n",
       "</div>"
      ],
      "text/plain": [
       "                                         customer_ID  target  oof_pred\n",
       "0  20eac26171c3d251c55fc78204e59fab1c15fc2bc96d0c...       1  0.737881\n",
       "1  aea50fdf9b974ccec95fa177c3225a0f913483b457de6e...       0  0.000283\n",
       "2  32cd2d41aef737b69089882754395925c96eaee1f4a859...       0  0.001836\n",
       "3  8daa6d5dc2655a8a437531e6b8b96829113cdfe9bf6cae...       0  0.016616\n",
       "4  0ceba351a3851202542feb49d7385bcef32f6037fc57c7...       1  0.886370"
      ]
     },
     "execution_count": 12,
     "metadata": {},
     "output_type": "execute_result"
    }
   ],
   "source": [
    "oof_xgb = pd.read_parquet(TRAIN_PATH, columns=['customer_ID']).drop_duplicates()\n",
    "oof_xgb['customer_ID_hash'] = oof_xgb['customer_ID'].apply(lambda x: int(x[-16:],16) ).astype('int64')\n",
    "oof_xgb = oof_xgb.set_index('customer_ID_hash')\n",
    "oof_xgb = oof_xgb.merge(oof, left_index=True, right_index=True)\n",
    "oof_xgb = oof_xgb.sort_index().reset_index(drop=True)\n",
    "oof_xgb.to_csv(f'oof_xgb_v{VER}.csv',index=False)\n",
    "oof_xgb.head()"
   ]
  },
  {
   "cell_type": "code",
   "execution_count": 13,
   "id": "48c049ca",
   "metadata": {
    "execution": {
     "iopub.execute_input": "2022-07-16T17:16:34.623991Z",
     "iopub.status.busy": "2022-07-16T17:16:34.623709Z",
     "iopub.status.idle": "2022-07-16T17:16:34.966924Z",
     "shell.execute_reply": "2022-07-16T17:16:34.966127Z"
    },
    "papermill": {
     "duration": 0.359727,
     "end_time": "2022-07-16T17:16:34.968913",
     "exception": false,
     "start_time": "2022-07-16T17:16:34.609186",
     "status": "completed"
    },
    "tags": []
   },
   "outputs": [
    {
     "data": {
      "image/png": "[encoded data removed]",
      "text/plain": [
       "<Figure size 432x288 with 1 Axes>"
      ]
     },
     "metadata": {
      "needs_background": "light"
     },
     "output_type": "display_data"
    }
   ],
   "source": [
    "# PLOT OOF PREDICTIONS\n",
    "plt.hist(oof_xgb.oof_pred.values, bins=100)\n",
    "plt.title('OOF Predictions')\n",
    "plt.show()"
   ]
  },
  {
   "cell_type": "code",
   "execution_count": 14,
   "id": "0001d1cd",
   "metadata": {
    "execution": {
     "iopub.execute_input": "2022-07-16T17:16:34.999005Z",
     "iopub.status.busy": "2022-07-16T17:16:34.998384Z",
     "iopub.status.idle": "2022-07-16T17:16:35.142582Z",
     "shell.execute_reply": "2022-07-16T17:16:35.141776Z"
    },
    "papermill": {
     "duration": 0.161583,
     "end_time": "2022-07-16T17:16:35.144653",
     "exception": false,
     "start_time": "2022-07-16T17:16:34.983070",
     "status": "completed"
    },
    "tags": []
   },
   "outputs": [],
   "source": [
    "# CLEAR VRAM, RAM FOR INFERENCE BELOW\n",
    "del oof_xgb, oof\n",
    "_ = gc.collect()"
   ]
  },
  {
   "cell_type": "markdown",
   "id": "3438e98a",
   "metadata": {
    "papermill": {
     "duration": 0.01357,
     "end_time": "2022-07-16T17:16:35.172622",
     "exception": false,
     "start_time": "2022-07-16T17:16:35.159052",
     "status": "completed"
    },
    "tags": []
   },
   "source": [
    "# Feature Importance"
   ]
  },
  {
   "cell_type": "code",
   "execution_count": 15,
   "id": "d2c23625",
   "metadata": {
    "execution": {
     "iopub.execute_input": "2022-07-16T17:16:35.201864Z",
     "iopub.status.busy": "2022-07-16T17:16:35.201591Z",
     "iopub.status.idle": "2022-07-16T17:16:35.227407Z",
     "shell.execute_reply": "2022-07-16T17:16:35.226710Z"
    },
    "papermill": {
     "duration": 0.042516,
     "end_time": "2022-07-16T17:16:35.229074",
     "exception": false,
     "start_time": "2022-07-16T17:16:35.186558",
     "status": "completed"
    },
    "tags": []
   },
   "outputs": [],
   "source": [
    "import matplotlib.pyplot as plt\n",
    "\n",
    "df = importances[0].copy()\n",
    "for k in range(1,FOLDS): df = df.merge(importances[k], on='feature', how='left')\n",
    "df['importance'] = df.iloc[:,1:].mean(axis=1)\n",
    "df = df.sort_values('importance',ascending=False)\n",
    "df.to_csv(f'xgb_feature_importance_v{VER}.csv',index=False)"
   ]
  },
  {
   "cell_type": "code",
   "execution_count": 16,
   "id": "8a0de505",
   "metadata": {
    "execution": {
     "iopub.execute_input": "2022-07-16T17:16:35.258516Z",
     "iopub.status.busy": "2022-07-16T17:16:35.258230Z",
     "iopub.status.idle": "2022-07-16T17:16:35.508794Z",
     "shell.execute_reply": "2022-07-16T17:16:35.508086Z"
    },
    "papermill": {
     "duration": 0.267184,
     "end_time": "2022-07-16T17:16:35.510700",
     "exception": false,
     "start_time": "2022-07-16T17:16:35.243516",
     "status": "completed"
    },
    "tags": []
   },
   "outputs": [
    {
     "data": {
      "image/png": "[encoded data removed]",
      "text/plain": [
       "<Figure size 720x720 with 1 Axes>"
      ]
     },
     "metadata": {
      "needs_background": "light"
     },
     "output_type": "display_data"
    }
   ],
   "source": [
    "NUM_FEATURES = 20\n",
    "plt.figure(figsize=(10,5*NUM_FEATURES//10))\n",
    "plt.barh(np.arange(NUM_FEATURES,0,-1), df.importance.values[:NUM_FEATURES])\n",
    "plt.yticks(np.arange(NUM_FEATURES,0,-1), df.feature.values[:NUM_FEATURES])\n",
    "plt.title(f'XGB Feature Importance - Top {NUM_FEATURES}')\n",
    "plt.show()"
   ]
  },
  {
   "cell_type": "markdown",
   "id": "9dbabac9",
   "metadata": {
    "papermill": {
     "duration": 0.013925,
     "end_time": "2022-07-16T17:16:35.540060",
     "exception": false,
     "start_time": "2022-07-16T17:16:35.526135",
     "status": "completed"
    },
    "tags": []
   },
   "source": [
    "# Process and Feature Engineer Test Data\n",
    "We will load @raddar Kaggle dataset from [here][1] with discussion [here][2]. Then we will engineer features suggested by @huseyincot in his notebooks [here][1] and [here][4]. We will use [RAPIDS][5] and the GPU to create new features quickly.\n",
    "\n",
    "[1]: https://www.kaggle.com/datasets/raddar/amex-data-integer-dtypes-parquet-format\n",
    "[2]: https://www.kaggle.com/competitions/amex-default-prediction/discussion/328514\n",
    "[3]: https://www.kaggle.com/code/huseyincot/amex-catboost-0-793\n",
    "[4]: https://www.kaggle.com/code/huseyincot/amex-agg-data-how-it-created\n",
    "[5]: https://rapids.ai/"
   ]
  },
  {
   "cell_type": "code",
   "execution_count": 17,
   "id": "2f8d42e5",
   "metadata": {
    "execution": {
     "iopub.execute_input": "2022-07-16T17:16:35.569640Z",
     "iopub.status.busy": "2022-07-16T17:16:35.569368Z",
     "iopub.status.idle": "2022-07-16T17:16:38.054658Z",
     "shell.execute_reply": "2022-07-16T17:16:38.053732Z"
    },
    "papermill": {
     "duration": 2.50293,
     "end_time": "2022-07-16T17:16:38.057242",
     "exception": false,
     "start_time": "2022-07-16T17:16:35.554312",
     "status": "completed"
    },
    "tags": []
   },
   "outputs": [
    {
     "name": "stdout",
     "output_type": "stream",
     "text": [
      "Reading test data...\n",
      "shape of data: (11363762, 2)\n",
      "We will process test data as 4 separate parts.\n",
      "There will be 231155 customers in each part (except the last part).\n",
      "Below are number of rows in each part:\n",
      "[2841209, 2839857, 2842105, 2840591]\n"
     ]
    }
   ],
   "source": [
    "# CALCULATE SIZE OF EACH SEPARATE TEST PART\n",
    "def get_rows(customers, test, NUM_PARTS = 4, verbose = ''):\n",
    "    chunk = len(customers)//NUM_PARTS\n",
    "    if verbose != '':\n",
    "        print(f'We will process {verbose} data as {NUM_PARTS} separate parts.')\n",
    "        print(f'There will be {chunk} customers in each part (except the last part).')\n",
    "        print('Below are number of rows in each part:')\n",
    "    rows = []\n",
    "\n",
    "    for k in range(NUM_PARTS):\n",
    "        if k==NUM_PARTS-1: cc = customers[k*chunk:]\n",
    "        else: cc = customers[k*chunk:(k+1)*chunk]\n",
    "        s = test.loc[test.customer_ID.isin(cc)].shape[0]\n",
    "        rows.append(s)\n",
    "    if verbose != '': print( rows )\n",
    "    return rows,chunk\n",
    "\n",
    "# COMPUTE SIZE OF 4 PARTS FOR TEST DATA\n",
    "NUM_PARTS = 4\n",
    "TEST_PATH = '../input/amex-data-integer-dtypes-parquet-format/test.parquet'\n",
    "\n",
    "print(f'Reading test data...')\n",
    "test = read_file(path = TEST_PATH, usecols = ['customer_ID','S_2'])\n",
    "customers = test[['customer_ID']].drop_duplicates().sort_index().values.flatten()\n",
    "rows,num_cust = get_rows(customers, test[['customer_ID']], NUM_PARTS = NUM_PARTS, verbose = 'test')"
   ]
  },
  {
   "cell_type": "markdown",
   "id": "85594e71",
   "metadata": {
    "papermill": {
     "duration": 0.015207,
     "end_time": "2022-07-16T17:16:38.088370",
     "exception": false,
     "start_time": "2022-07-16T17:16:38.073163",
     "status": "completed"
    },
    "tags": []
   },
   "source": [
    "# Infer Test"
   ]
  },
  {
   "cell_type": "code",
   "execution_count": 18,
   "id": "6495a4ad",
   "metadata": {
    "execution": {
     "iopub.execute_input": "2022-07-16T17:16:38.118918Z",
     "iopub.status.busy": "2022-07-16T17:16:38.118640Z",
     "iopub.status.idle": "2022-07-16T17:18:43.980682Z",
     "shell.execute_reply": "2022-07-16T17:18:43.979894Z"
    },
    "papermill": {
     "duration": 125.880075,
     "end_time": "2022-07-16T17:18:43.982891",
     "exception": false,
     "start_time": "2022-07-16T17:16:38.102816",
     "status": "completed"
    },
    "tags": []
   },
   "outputs": [
    {
     "name": "stdout",
     "output_type": "stream",
     "text": [
      "\n",
      "Reading test data...\n",
      "shape of data: (11363762, 190)\n",
      "=> Test part 1 has shape (2841209, 190)\n",
      "shape after engineering (231155, 568)\n",
      "\n",
      "Reading test data...\n",
      "shape of data: (11363762, 190)\n",
      "=> Test part 2 has shape (2839857, 190)\n",
      "shape after engineering (231155, 568)\n",
      "\n",
      "Reading test data...\n",
      "shape of data: (11363762, 190)\n",
      "=> Test part 3 has shape (2842105, 190)\n",
      "shape after engineering (231155, 568)\n",
      "\n",
      "Reading test data...\n",
      "shape of data: (11363762, 190)\n",
      "=> Test part 4 has shape (2840591, 190)\n",
      "shape after engineering (231156, 568)\n"
     ]
    }
   ],
   "source": [
    "# INFER TEST DATA IN PARTS\n",
    "skip_rows = 0\n",
    "skip_cust = 0\n",
    "test_preds = []\n",
    "\n",
    "for k in range(NUM_PARTS):\n",
    "    \n",
    "    # READ PART OF TEST DATA\n",
    "    print(f'\\nReading test data...')\n",
    "    test = read_file(path = TEST_PATH)\n",
    "    test = test.iloc[skip_rows:skip_rows+rows[k]]\n",
    "    skip_rows += rows[k]\n",
    "    print(f'=> Test part {k+1} has shape', test.shape )\n",
    "    \n",
    "    # PROCESS AND FEATURE ENGINEER PART OF TEST DATA\n",
    "    test = process_and_feature_engineer(test)\n",
    "    if k==NUM_PARTS-1: test = test.loc[customers[skip_cust:]]\n",
    "    else: test = test.loc[customers[skip_cust:skip_cust+num_cust]]\n",
    "    skip_cust += num_cust\n",
    "    \n",
    "    # TEST DATA FOR XGB\n",
    "    X_test = test[FEATURES]\n",
    "    dtest = xgb.DMatrix(data=X_test)\n",
    "    test = test[['P_2_mean']] # reduce memory\n",
    "    del X_test\n",
    "    gc.collect()\n",
    "\n",
    "    # INFER XGB MODELS ON TEST DATA\n",
    "    model = xgb.Booster()\n",
    "    model.load_model(f'XGB_v{VER}_fold0.xgb')\n",
    "    preds = model.predict(dtest)\n",
    "    for f in range(1,FOLDS):\n",
    "        model.load_model(f'XGB_v{VER}_fold{f}.xgb')\n",
    "        preds += model.predict(dtest)\n",
    "    preds /= FOLDS\n",
    "    test_preds.append(preds)\n",
    "\n",
    "    # CLEAN MEMORY\n",
    "    del dtest, model\n",
    "    _ = gc.collect()"
   ]
  },
  {
   "cell_type": "markdown",
   "id": "c86680fb",
   "metadata": {
    "papermill": {
     "duration": 0.015301,
     "end_time": "2022-07-16T17:18:44.013623",
     "exception": false,
     "start_time": "2022-07-16T17:18:43.998322",
     "status": "completed"
    },
    "tags": []
   },
   "source": [
    "# Create Submission CSV"
   ]
  },
  {
   "cell_type": "code",
   "execution_count": 19,
   "id": "1271782e",
   "metadata": {
    "execution": {
     "iopub.execute_input": "2022-07-16T17:18:44.044206Z",
     "iopub.status.busy": "2022-07-16T17:18:44.043926Z",
     "iopub.status.idle": "2022-07-16T17:18:45.060964Z",
     "shell.execute_reply": "2022-07-16T17:18:45.060197Z"
    },
    "papermill": {
     "duration": 1.034439,
     "end_time": "2022-07-16T17:18:45.062780",
     "exception": false,
     "start_time": "2022-07-16T17:18:44.028341",
     "status": "completed"
    },
    "tags": []
   },
   "outputs": [
    {
     "name": "stdout",
     "output_type": "stream",
     "text": [
      "Submission file shape is (924621, 2)\n"
     ]
    },
    {
     "data": {
      "text/html": [
       "<div>\n",
       "<style scoped>\n",
       "    .dataframe tbody tr th:only-of-type {\n",
       "        vertical-align: middle;\n",
       "    }\n",
       "\n",
       "    .dataframe tbody tr th {\n",
       "        vertical-align: top;\n",
       "    }\n",
       "\n",
       "    .dataframe thead th {\n",
       "        text-align: right;\n",
       "    }\n",
       "</style>\n",
       "<table border=\"1\" class=\"dataframe\">\n",
       "  <thead>\n",
       "    <tr style=\"text-align: right;\">\n",
       "      <th></th>\n",
       "      <th>customer_ID</th>\n",
       "      <th>prediction</th>\n",
       "    </tr>\n",
       "  </thead>\n",
       "  <tbody>\n",
       "    <tr>\n",
       "      <th>0</th>\n",
       "      <td>03999d5e3bd61a69504cc6e7025c260c1ed2e5b449dba5...</td>\n",
       "      <td>0.102352</td>\n",
       "    </tr>\n",
       "    <tr>\n",
       "      <th>1</th>\n",
       "      <td>039b4f21aa584fb0c3c7055beabc098af55013f9f25515...</td>\n",
       "      <td>0.004843</td>\n",
       "    </tr>\n",
       "    <tr>\n",
       "      <th>2</th>\n",
       "      <td>039a6aea85575ebd33eec75e5c45bc7973481b81a99b62...</td>\n",
       "      <td>0.068333</td>\n",
       "    </tr>\n",
       "    <tr>\n",
       "      <th>3</th>\n",
       "      <td>039bd96164c6567580b24ba13c2b85b60f4554eb43d55b...</td>\n",
       "      <td>0.358319</td>\n",
       "    </tr>\n",
       "    <tr>\n",
       "      <th>4</th>\n",
       "      <td>0399a5a95461ced4134cd9693712fb012351cca1bde04d...</td>\n",
       "      <td>0.000119</td>\n",
       "    </tr>\n",
       "  </tbody>\n",
       "</table>\n",
       "</div>"
      ],
      "text/plain": [
       "                                         customer_ID  prediction\n",
       "0  03999d5e3bd61a69504cc6e7025c260c1ed2e5b449dba5...    0.102352\n",
       "1  039b4f21aa584fb0c3c7055beabc098af55013f9f25515...    0.004843\n",
       "2  039a6aea85575ebd33eec75e5c45bc7973481b81a99b62...    0.068333\n",
       "3  039bd96164c6567580b24ba13c2b85b60f4554eb43d55b...    0.358319\n",
       "4  0399a5a95461ced4134cd9693712fb012351cca1bde04d...    0.000119"
      ]
     },
     "execution_count": 19,
     "metadata": {},
     "output_type": "execute_result"
    }
   ],
   "source": [
    "# WRITE SUBMISSION FILE\n",
    "test_preds = np.concatenate(test_preds)\n",
    "test = cudf.DataFrame(index=customers,data={'prediction':test_preds})\n",
    "sub = cudf.read_csv('../input/amex-default-prediction/sample_submission.csv')[['customer_ID']]\n",
    "sub['customer_ID_hash'] = sub['customer_ID'].str[-16:].str.hex_to_int().astype('int64')\n",
    "sub = sub.set_index('customer_ID_hash')\n",
    "sub = sub.merge(test[['prediction']], left_index=True, right_index=True, how='left')\n",
    "sub = sub.reset_index(drop=True)\n",
    "\n",
    "# DISPLAY PREDICTIONS\n",
    "sub.to_csv(f'submission_xgb_v{VER}.csv',index=False)\n",
    "print('Submission file shape is', sub.shape )\n",
    "sub.head()"
   ]
  },
  {
   "cell_type": "code",
   "execution_count": 20,
   "id": "23844bac",
   "metadata": {
    "execution": {
     "iopub.execute_input": "2022-07-16T17:18:45.103687Z",
     "iopub.status.busy": "2022-07-16T17:18:45.103277Z",
     "iopub.status.idle": "2022-07-16T17:18:45.793842Z",
     "shell.execute_reply": "2022-07-16T17:18:45.793107Z"
    },
    "papermill": {
     "duration": 0.716342,
     "end_time": "2022-07-16T17:18:45.795654",
     "exception": false,
     "start_time": "2022-07-16T17:18:45.079312",
     "status": "completed"
    },
    "tags": []
   },
   "outputs": [
    {
     "data": {
      "image/png": "[encoded data removed]",
      "text/plain": [
       "<Figure size 432x288 with 1 Axes>"
      ]
     },
     "metadata": {
      "needs_background": "light"
     },
     "output_type": "display_data"
    }
   ],
   "source": [
    "# PLOT PREDICTIONS\n",
    "plt.hist(sub.to_pandas().prediction, bins=100)\n",
    "plt.title('Test Predictions')\n",
    "plt.show()"
   ]
  }
 ],
 "metadata": {
  "kernelspec": {
   "display_name": "Python 3",
   "language": "python",
   "name": "python3"
  },
  "language_info": {
   "codemirror_mode": {
    "name": "ipython",
    "version": 3
   },
   "file_extension": ".py",
   "mimetype": "text/x-python",
   "name": "python",
   "nbconvert_exporter": "python",
   "pygments_lexer": "ipython3",
   "version": "3.7.12"
  },
  "papermill": {
   "default_parameters": {},
   "duration": 580.327914,
   "end_time": "2022-07-16T17:18:47.134588",
   "environment_variables": {},
   "exception": null,
   "input_path": "__notebook__.ipynb",
   "output_path": "__notebook__.ipynb",
   "parameters": {},
   "start_time": "2022-07-16T17:09:06.806674",
   "version": "2.3.4"
  }
 },
 "nbformat": 4,
 "nbformat_minor": 5
}
