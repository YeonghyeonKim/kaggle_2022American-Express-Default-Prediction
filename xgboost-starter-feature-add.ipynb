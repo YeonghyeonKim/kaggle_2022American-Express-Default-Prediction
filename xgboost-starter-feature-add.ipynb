{
 "cells": [
  {
   "cell_type": "markdown",
   "id": "bad64dc4",
   "metadata": {
    "papermill": {
     "duration": 0.007059,
     "end_time": "2022-08-04T14:30:11.672131",
     "exception": false,
     "start_time": "2022-08-04T14:30:11.665072",
     "status": "completed"
    },
    "tags": []
   },
   "source": [
    "# XGBoost Starter - LB 0.793\n",
    "In this notebook we build and train an XGBoost model using @raddar Kaggle dataset from [here][1] with discussion [here][2]. Then we engineer features suggested by @huseyincot in his notebooks [here][3] and [here][4]. This XGB model achieves CV 0.792 LB 0.793! When training with XGB, we use a special XGB dataloader called `DeviceQuantileDMatrix` which uses a small GPU memory footprint. This allows us to engineer more additional columns and train with more rows of data. Our feature engineering is performed using [RAPIDS][5] on the GPU to create new features quickly.\n",
    "\n",
    "[1]: https://www.kaggle.com/datasets/raddar/amex-data-integer-dtypes-parquet-format\n",
    "[2]: https://www.kaggle.com/competitions/amex-default-prediction/discussion/328514\n",
    "[3]: https://www.kaggle.com/code/huseyincot/amex-catboost-0-793\n",
    "[4]: https://www.kaggle.com/code/huseyincot/amex-agg-data-how-it-created\n",
    "[5]: https://rapids.ai/"
   ]
  },
  {
   "cell_type": "markdown",
   "id": "abe10d1b",
   "metadata": {
    "papermill": {
     "duration": 0.005752,
     "end_time": "2022-08-04T14:30:11.684155",
     "exception": false,
     "start_time": "2022-08-04T14:30:11.678403",
     "status": "completed"
    },
    "tags": []
   },
   "source": [
    "Feature Engineering I done\n",
    "1. Drop B_29, https://www.kaggle.com/code/roberthatch/amex-feature-engg-gpu-or-cpu-process-in-chunks/notebook\n",
    "2. Add each customer count (how long they used) (not normalize)\n",
    "3. Don't fill NaN (with -127)\n",
    "4. remove num_features's min, std\n",
    "5. D_39에 대한 feature 추가 -> CV하락\n",
    "6. B_1과 B_2간의 연관 feature 추가; CV 0.7920\n",
    "7. B_8과 B_9간의 연관 feature 추가; CV 0.7919\n",
    "~~8. corr가 높은 feature중 제거; CV: 0.7914~~\n",
    "9. 6+ fillna(method='bfill'); CV: 0.7906 => NaN으로 냅두자\n",
    "10. 마지막 3개월만 이용; 6 + CV: 0.7892; 4 + CV: 0.7886\n",
    "11. 영향도 낮은 features  제거 R_28, D_94, R_2; 10 + CV: 0.7890,4 + CV: 0.7916, 6 + CV: 0.7921  \n",
    "12. Test시 Fold4 제외; LB: 0.791\n",
    "~~13.\n",
    "    13-1. 영향도가 0인 features 제거; 12 + CV: 0.7921 (LB 등록시 12번을 적용할지 말지 선택해야함)  \n",
    "    13-2. 영향도 범위를 조금 늘림ㅣ 12 + CV: 0.7923, LB: 0.790, 6 + CV: 0.7923, LB: 0.791 (일단 LB가 떨어지긴 하는데 계속 진행)  ~~\n",
    "14. Fold 4;   \n",
    "    6+13-1 CV: 0.7909   \n",
    "    6+13-2 CV: 0.7920, LB: 0.792 (어떻게 해석해야지)  \n",
    "    6+11   CV: 0.7917, (이건 성능이 잘 나올줄 알았는데)\n",
    "~~15. After-pay, 6+11+FOLD4 CV: 0.7917~~ (적용안됬었음 코드 순서 ;;)\n",
    "16. 영향도가 0인 피쳐 제거\n",
    "<!-- 9. add nasdaq info simply -->"
   ]
  },
  {
   "cell_type": "markdown",
   "id": "b848d3f7",
   "metadata": {
    "papermill": {
     "duration": 0.005478,
     "end_time": "2022-08-04T14:30:11.695974",
     "exception": false,
     "start_time": "2022-08-04T14:30:11.690496",
     "status": "completed"
    },
    "tags": []
   },
   "source": [
    "# Load Libraries"
   ]
  },
  {
   "cell_type": "code",
   "execution_count": 1,
   "id": "6839838f",
   "metadata": {
    "execution": {
     "iopub.execute_input": "2022-08-04T14:30:11.709210Z",
     "iopub.status.busy": "2022-08-04T14:30:11.708700Z",
     "iopub.status.idle": "2022-08-04T14:30:15.661846Z",
     "shell.execute_reply": "2022-08-04T14:30:15.660128Z"
    },
    "papermill": {
     "duration": 3.962097,
     "end_time": "2022-08-04T14:30:15.663804",
     "exception": false,
     "start_time": "2022-08-04T14:30:11.701707",
     "status": "completed"
    },
    "tags": []
   },
   "outputs": [
    {
     "name": "stdout",
     "output_type": "stream",
     "text": [
      "RAPIDS version 21.10.01\n"
     ]
    }
   ],
   "source": [
    "# LOAD LIBRARIES\n",
    "import pandas as pd, numpy as np # CPU libraries\n",
    "import cupy, cudf # GPU libraries\n",
    "import matplotlib.pyplot as plt, gc, os\n",
    "\n",
    "print('RAPIDS version',cudf.__version__)"
   ]
  },
  {
   "cell_type": "code",
   "execution_count": 2,
   "id": "38777b94",
   "metadata": {
    "execution": {
     "iopub.execute_input": "2022-08-04T14:30:15.678014Z",
     "iopub.status.busy": "2022-08-04T14:30:15.677361Z",
     "iopub.status.idle": "2022-08-04T14:30:15.681748Z",
     "shell.execute_reply": "2022-08-04T14:30:15.680870Z"
    },
    "papermill": {
     "duration": 0.013538,
     "end_time": "2022-08-04T14:30:15.683633",
     "exception": false,
     "start_time": "2022-08-04T14:30:15.670095",
     "status": "completed"
    },
    "tags": []
   },
   "outputs": [],
   "source": [
    "# VERSION NAME FOR SAVED MODEL FILES\n",
    "VER = 1\n",
    "\n",
    "# TRAIN RANDOM SEED\n",
    "SEED = 42\n",
    "\n",
    "# FILL NAN VALUE\n",
    "NAN_VALUE = -127 # will fit in int8\n",
    "\n",
    "# FOLDS PER MODEL\n",
    "FOLDS = 4"
   ]
  },
  {
   "cell_type": "markdown",
   "id": "b4c21f32",
   "metadata": {
    "papermill": {
     "duration": 0.0055,
     "end_time": "2022-08-04T14:30:15.694836",
     "exception": false,
     "start_time": "2022-08-04T14:30:15.689336",
     "status": "completed"
    },
    "tags": []
   },
   "source": [
    "# Process and Feature Engineer Train Data\n",
    "We will load @raddar Kaggle dataset from [here][1] with discussion [here][2]. Then we will engineer features suggested by @huseyincot in his notebooks [here][3] and [here][4]. We will use [RAPIDS][5] and the GPU to create new features quickly.\n",
    "\n",
    "[1]: https://www.kaggle.com/datasets/raddar/amex-data-integer-dtypes-parquet-format\n",
    "[2]: https://www.kaggle.com/competitions/amex-default-prediction/discussion/328514\n",
    "[3]: https://www.kaggle.com/code/huseyincot/amex-catboost-0-793\n",
    "[4]: https://www.kaggle.com/code/huseyincot/amex-agg-data-how-it-created\n",
    "[5]: https://rapids.ai/"
   ]
  },
  {
   "cell_type": "code",
   "execution_count": 3,
   "id": "8c018bd9",
   "metadata": {
    "execution": {
     "iopub.execute_input": "2022-08-04T14:30:15.707749Z",
     "iopub.status.busy": "2022-08-04T14:30:15.707483Z",
     "iopub.status.idle": "2022-08-04T14:30:38.934237Z",
     "shell.execute_reply": "2022-08-04T14:30:38.933392Z"
    },
    "papermill": {
     "duration": 23.236152,
     "end_time": "2022-08-04T14:30:38.936703",
     "exception": false,
     "start_time": "2022-08-04T14:30:15.700551",
     "status": "completed"
    },
    "tags": []
   },
   "outputs": [
    {
     "name": "stdout",
     "output_type": "stream",
     "text": [
      "Reading train data...\n",
      "shape of data: (5531451, 190)\n"
     ]
    }
   ],
   "source": [
    "def read_file(path = '', usecols = None):\n",
    "    # LOAD DATAFRAME\n",
    "    if usecols is not None: df = cudf.read_parquet(path, columns=usecols)\n",
    "    else: df = cudf.read_parquet(path)\n",
    "    # REDUCE DTYPE FOR CUSTOMER AND DATE\n",
    "    df['customer_ID'] = df['customer_ID'].str[-16:].str.hex_to_int().astype('int64')\n",
    "    df.S_2 = cudf.to_datetime( df.S_2 )\n",
    "    # SORT BY CUSTOMER AND DATE (so agg('last') works correctly)\n",
    "    #df = df.sort_values(['customer_ID','S_2'])\n",
    "    #df = df.reset_index(drop=True)\n",
    "    # FILL NAN\n",
    "#     df = df.fillna(NAN_VALUE) \n",
    "    print('shape of data:', df.shape)\n",
    "    \n",
    "    return df\n",
    "\n",
    "print('Reading train data...')\n",
    "TRAIN_PATH = '../input/amex-data-integer-dtypes-parquet-format/train.parquet'\n",
    "train = read_file(path = TRAIN_PATH)"
   ]
  },
  {
   "cell_type": "code",
   "execution_count": 4,
   "id": "9f893c28",
   "metadata": {
    "execution": {
     "iopub.execute_input": "2022-08-04T14:30:38.950819Z",
     "iopub.status.busy": "2022-08-04T14:30:38.949976Z",
     "iopub.status.idle": "2022-08-04T14:30:39.222104Z",
     "shell.execute_reply": "2022-08-04T14:30:39.221241Z"
    },
    "papermill": {
     "duration": 0.280728,
     "end_time": "2022-08-04T14:30:39.224113",
     "exception": false,
     "start_time": "2022-08-04T14:30:38.943385",
     "status": "completed"
    },
    "tags": []
   },
   "outputs": [
    {
     "data": {
      "text/html": [
       "<div>\n",
       "<style scoped>\n",
       "    .dataframe tbody tr th:only-of-type {\n",
       "        vertical-align: middle;\n",
       "    }\n",
       "\n",
       "    .dataframe tbody tr th {\n",
       "        vertical-align: top;\n",
       "    }\n",
       "\n",
       "    .dataframe thead th {\n",
       "        text-align: right;\n",
       "    }\n",
       "</style>\n",
       "<table border=\"1\" class=\"dataframe\">\n",
       "  <thead>\n",
       "    <tr style=\"text-align: right;\">\n",
       "      <th></th>\n",
       "      <th>customer_ID</th>\n",
       "      <th>S_2</th>\n",
       "      <th>P_2</th>\n",
       "      <th>D_39</th>\n",
       "      <th>B_1</th>\n",
       "      <th>B_2</th>\n",
       "      <th>R_1</th>\n",
       "      <th>S_3</th>\n",
       "      <th>D_41</th>\n",
       "      <th>B_3</th>\n",
       "      <th>...</th>\n",
       "      <th>D_136</th>\n",
       "      <th>D_137</th>\n",
       "      <th>D_138</th>\n",
       "      <th>D_139</th>\n",
       "      <th>D_140</th>\n",
       "      <th>D_141</th>\n",
       "      <th>D_142</th>\n",
       "      <th>D_143</th>\n",
       "      <th>D_144</th>\n",
       "      <th>D_145</th>\n",
       "    </tr>\n",
       "  </thead>\n",
       "  <tbody>\n",
       "    <tr>\n",
       "      <th>0</th>\n",
       "      <td>-4532153018459703766</td>\n",
       "      <td>2017-03-09</td>\n",
       "      <td>0.938469</td>\n",
       "      <td>0</td>\n",
       "      <td>0.008724</td>\n",
       "      <td>1.006838</td>\n",
       "      <td>0.009228</td>\n",
       "      <td>0.124035</td>\n",
       "      <td>0.0</td>\n",
       "      <td>0.004709</td>\n",
       "      <td>...</td>\n",
       "      <td>-1</td>\n",
       "      <td>-1</td>\n",
       "      <td>-1</td>\n",
       "      <td>0</td>\n",
       "      <td>0</td>\n",
       "      <td>0.0</td>\n",
       "      <td>&lt;NA&gt;</td>\n",
       "      <td>0</td>\n",
       "      <td>0.000610</td>\n",
       "      <td>0</td>\n",
       "    </tr>\n",
       "    <tr>\n",
       "      <th>1</th>\n",
       "      <td>-4532153018459703766</td>\n",
       "      <td>2017-04-07</td>\n",
       "      <td>0.936665</td>\n",
       "      <td>0</td>\n",
       "      <td>0.004923</td>\n",
       "      <td>1.000653</td>\n",
       "      <td>0.006151</td>\n",
       "      <td>0.126750</td>\n",
       "      <td>0.0</td>\n",
       "      <td>0.002714</td>\n",
       "      <td>...</td>\n",
       "      <td>-1</td>\n",
       "      <td>-1</td>\n",
       "      <td>-1</td>\n",
       "      <td>0</td>\n",
       "      <td>0</td>\n",
       "      <td>0.0</td>\n",
       "      <td>&lt;NA&gt;</td>\n",
       "      <td>0</td>\n",
       "      <td>0.005492</td>\n",
       "      <td>0</td>\n",
       "    </tr>\n",
       "    <tr>\n",
       "      <th>2</th>\n",
       "      <td>-4532153018459703766</td>\n",
       "      <td>2017-05-28</td>\n",
       "      <td>0.954180</td>\n",
       "      <td>3</td>\n",
       "      <td>0.021655</td>\n",
       "      <td>1.009672</td>\n",
       "      <td>0.006815</td>\n",
       "      <td>0.123977</td>\n",
       "      <td>0.0</td>\n",
       "      <td>0.009423</td>\n",
       "      <td>...</td>\n",
       "      <td>-1</td>\n",
       "      <td>-1</td>\n",
       "      <td>-1</td>\n",
       "      <td>0</td>\n",
       "      <td>0</td>\n",
       "      <td>0.0</td>\n",
       "      <td>&lt;NA&gt;</td>\n",
       "      <td>0</td>\n",
       "      <td>0.006986</td>\n",
       "      <td>0</td>\n",
       "    </tr>\n",
       "    <tr>\n",
       "      <th>3</th>\n",
       "      <td>-4532153018459703766</td>\n",
       "      <td>2017-06-13</td>\n",
       "      <td>0.960384</td>\n",
       "      <td>0</td>\n",
       "      <td>0.013683</td>\n",
       "      <td>1.002700</td>\n",
       "      <td>0.001373</td>\n",
       "      <td>0.117169</td>\n",
       "      <td>0.0</td>\n",
       "      <td>0.005531</td>\n",
       "      <td>...</td>\n",
       "      <td>-1</td>\n",
       "      <td>-1</td>\n",
       "      <td>-1</td>\n",
       "      <td>0</td>\n",
       "      <td>0</td>\n",
       "      <td>0.0</td>\n",
       "      <td>&lt;NA&gt;</td>\n",
       "      <td>0</td>\n",
       "      <td>0.006527</td>\n",
       "      <td>0</td>\n",
       "    </tr>\n",
       "    <tr>\n",
       "      <th>4</th>\n",
       "      <td>-4532153018459703766</td>\n",
       "      <td>2017-07-16</td>\n",
       "      <td>0.947248</td>\n",
       "      <td>0</td>\n",
       "      <td>0.015193</td>\n",
       "      <td>1.000727</td>\n",
       "      <td>0.007605</td>\n",
       "      <td>0.117325</td>\n",
       "      <td>0.0</td>\n",
       "      <td>0.009312</td>\n",
       "      <td>...</td>\n",
       "      <td>-1</td>\n",
       "      <td>-1</td>\n",
       "      <td>-1</td>\n",
       "      <td>0</td>\n",
       "      <td>0</td>\n",
       "      <td>0.0</td>\n",
       "      <td>&lt;NA&gt;</td>\n",
       "      <td>0</td>\n",
       "      <td>0.008126</td>\n",
       "      <td>0</td>\n",
       "    </tr>\n",
       "  </tbody>\n",
       "</table>\n",
       "<p>5 rows × 190 columns</p>\n",
       "</div>"
      ],
      "text/plain": [
       "           customer_ID        S_2       P_2  D_39       B_1       B_2  \\\n",
       "0 -4532153018459703766 2017-03-09  0.938469     0  0.008724  1.006838   \n",
       "1 -4532153018459703766 2017-04-07  0.936665     0  0.004923  1.000653   \n",
       "2 -4532153018459703766 2017-05-28  0.954180     3  0.021655  1.009672   \n",
       "3 -4532153018459703766 2017-06-13  0.960384     0  0.013683  1.002700   \n",
       "4 -4532153018459703766 2017-07-16  0.947248     0  0.015193  1.000727   \n",
       "\n",
       "        R_1       S_3  D_41       B_3  ... D_136  D_137  D_138  D_139  D_140  \\\n",
       "0  0.009228  0.124035   0.0  0.004709  ...    -1     -1     -1      0      0   \n",
       "1  0.006151  0.126750   0.0  0.002714  ...    -1     -1     -1      0      0   \n",
       "2  0.006815  0.123977   0.0  0.009423  ...    -1     -1     -1      0      0   \n",
       "3  0.001373  0.117169   0.0  0.005531  ...    -1     -1     -1      0      0   \n",
       "4  0.007605  0.117325   0.0  0.009312  ...    -1     -1     -1      0      0   \n",
       "\n",
       "   D_141  D_142 D_143     D_144  D_145  \n",
       "0    0.0   <NA>     0  0.000610      0  \n",
       "1    0.0   <NA>     0  0.005492      0  \n",
       "2    0.0   <NA>     0  0.006986      0  \n",
       "3    0.0   <NA>     0  0.006527      0  \n",
       "4    0.0   <NA>     0  0.008126      0  \n",
       "\n",
       "[5 rows x 190 columns]"
      ]
     },
     "execution_count": 4,
     "metadata": {},
     "output_type": "execute_result"
    }
   ],
   "source": [
    "train.head()"
   ]
  },
  {
   "cell_type": "code",
   "execution_count": 5,
   "id": "6558d59f",
   "metadata": {
    "execution": {
     "iopub.execute_input": "2022-08-04T14:30:39.238129Z",
     "iopub.status.busy": "2022-08-04T14:30:39.237831Z",
     "iopub.status.idle": "2022-08-04T14:30:41.762408Z",
     "shell.execute_reply": "2022-08-04T14:30:41.761528Z"
    },
    "papermill": {
     "duration": 2.534677,
     "end_time": "2022-08-04T14:30:41.765244",
     "exception": false,
     "start_time": "2022-08-04T14:30:39.230567",
     "status": "completed"
    },
    "tags": []
   },
   "outputs": [
    {
     "name": "stdout",
     "output_type": "stream",
     "text": [
      "shape after engineering (458913, 516)\n"
     ]
    }
   ],
   "source": [
    "def process_and_feature_engineer(df):\n",
    "    # FEATURE ENGINEERING FROM \n",
    "    # https://www.kaggle.com/code/huseyincot/amex-agg-data-how-it-created\n",
    "#     9) nasdaq\n",
    "#     nasdaq_path = '../input/nasdaq/nasdaq.csv'\n",
    "#     nasdaq = cudf.read_csv(nasdaq_path, encoding='utf-8-sig')\n",
    "#     nasdaq.rename(columns={'\\ufeffS_2': 'S_2'}, inplace=True)\n",
    "#     nasdaq.drop(['tradingvolume'], inplace=True, axis=1)\n",
    "#     nasdaq.S_2 = cudf.to_datetime(nasdaq.S_2)\n",
    "#     nasdaq[['closing','open', 'high', 'low']] = nasdaq[['closing','open', 'high', 'low']].astype(float)    \n",
    "#     df = df.merge(nasdaq, on='S_2')\n",
    "    \n",
    "#     1) Drop 'B_29' \n",
    "    df.drop(['B_29'], inplace=True, axis=1)\n",
    "#     11) Drop R_28, D_94, R_2\n",
    "    df.drop(['R_28', 'D_94', 'R_2'], inplace=True, axis=1)\n",
    "    \n",
    "#     6) B1, B2에 연관 feature추가\n",
    "    df['B_1_2'] = df['B_1']/(df['B_2']+0.0000001)\n",
    "\n",
    "#     5) D_39에 대한 feature 추가\n",
    "#     df['D_39_div30'] = df['D_39']/30\n",
    "#     10) 마지막 3개월만 이용\n",
    "#     df = cudf.concat([df.groupby('customer_ID').nth(-3), df.groupby('customer_ID').nth(-2), df.groupby('customer_ID').nth(-1)]).reset_index()\n",
    "\n",
    "    \n",
    "    all_cols = [c for c in list(df.columns) if c not in ['customer_ID','S_2']]\n",
    "    cat_features = [\"B_30\",\"B_38\",\"D_114\",\"D_116\",\"D_117\",\"D_120\",\"D_126\",\"D_63\",\"D_64\",\"D_66\",\"D_68\"]\n",
    "    num_features = [col for col in all_cols if col not in cat_features]\n",
    "\n",
    "    \n",
    "#     2) Add customer count\n",
    "    test_count_agg = df.groupby(['customer_ID'])['S_2'].agg(['count'])\n",
    "\n",
    "\n",
    "    test_num_agg = df.groupby(\"customer_ID\")[num_features].agg(['mean', 'max', 'last'])\n",
    "    test_num_agg.columns = ['_'.join(x) for x in test_num_agg.columns]\n",
    "\n",
    "    test_cat_agg = df.groupby(\"customer_ID\")[cat_features].agg(['count', 'last', 'nunique'])\n",
    "    test_cat_agg.columns = ['_'.join(x) for x in test_cat_agg.columns]\n",
    "\n",
    "    \n",
    "    # compute \"after pay\" features\n",
    "    for bcol in [f'B_{i}_last' for i in [ 14,17]]:\n",
    "        for pcol in ['P_2_last','P_3_last']:\n",
    "            if bcol in df.columns:\n",
    "                df[f'{bcol}-{pcol}'] = df[bcol] - df[pcol]\n",
    "    \n",
    "    df = cudf.concat([test_count_agg,test_num_agg, test_cat_agg], axis=1)\n",
    "    df.drop(['D_68_count',\n",
    " 'D_117_count',\n",
    " 'D_66_count',\n",
    " 'S_18_max',\n",
    " 'D_87_max',\n",
    " 'D_64_count',\n",
    " 'D_109_last',\n",
    " 'D_63_count',\n",
    " 'D_120_count',\n",
    " 'D_116_last',\n",
    " 'S_6_max',\n",
    " 'R_25_last',\n",
    " 'D_126_count',\n",
    " 'D_126_last',\n",
    " 'D_109_max',\n",
    " 'D_103_max',\n",
    " 'R_24_max',\n",
    " 'D_111_last',\n",
    " 'D_136_last',\n",
    " 'D_123_last',\n",
    " 'R_18_last',\n",
    " 'D_137_last',\n",
    " 'R_18_max',\n",
    " 'D_139_max',\n",
    " 'S_20_last',\n",
    " 'R_21_max',\n",
    " 'R_21_last',\n",
    " 'D_116_count',\n",
    " 'R_18_mean',\n",
    " 'R_23_mean',\n",
    " 'R_23_max',\n",
    " 'R_23_last',\n",
    " 'D_93_max',\n",
    " 'D_93_last',\n",
    " 'B_31_max',\n",
    " 'D_87_last',\n",
    " 'R_4_max',\n",
    " 'D_114_count',\n",
    " 'D_143_last',\n",
    " 'D_143_max'], inplace=True, axis=1)\n",
    "    \n",
    "    del test_num_agg, test_cat_agg\n",
    "    print('shape after engineering', df.shape )\n",
    "    \n",
    "    return df\n",
    "\n",
    "train = process_and_feature_engineer(train)"
   ]
  },
  {
   "cell_type": "code",
   "execution_count": 6,
   "id": "4d542816",
   "metadata": {
    "execution": {
     "iopub.execute_input": "2022-08-04T14:30:41.780166Z",
     "iopub.status.busy": "2022-08-04T14:30:41.779868Z",
     "iopub.status.idle": "2022-08-04T14:30:42.665476Z",
     "shell.execute_reply": "2022-08-04T14:30:42.663642Z"
    },
    "papermill": {
     "duration": 0.894941,
     "end_time": "2022-08-04T14:30:42.667343",
     "exception": false,
     "start_time": "2022-08-04T14:30:41.772402",
     "status": "completed"
    },
    "tags": []
   },
   "outputs": [
    {
     "name": "stdout",
     "output_type": "stream",
     "text": [
      "There are 516 features!\n"
     ]
    }
   ],
   "source": [
    "# ADD TARGETS\n",
    "targets = cudf.read_csv('../input/amex-default-prediction/train_labels.csv')\n",
    "targets['customer_ID'] = targets['customer_ID'].str[-16:].str.hex_to_int().astype('int64')\n",
    "targets = targets.set_index('customer_ID')\n",
    "train = train.merge(targets, left_index=True, right_index=True, how='left')\n",
    "train.target = train.target.astype('int8')\n",
    "del targets\n",
    "\n",
    "# NEEDED TO MAKE CV DETERMINISTIC (cudf merge above randomly shuffles rows)\n",
    "train = train.sort_index().reset_index()\n",
    "\n",
    "# FEATURES\n",
    "FEATURES = train.columns[1:-1]\n",
    "print(f'There are {len(FEATURES)} features!')"
   ]
  },
  {
   "cell_type": "markdown",
   "id": "05327136",
   "metadata": {
    "papermill": {
     "duration": 0.006352,
     "end_time": "2022-08-04T14:30:42.680072",
     "exception": false,
     "start_time": "2022-08-04T14:30:42.673720",
     "status": "completed"
    },
    "tags": []
   },
   "source": [
    "# Train XGB\n",
    "We will train using `DeviceQuantileDMatrix`. This has a very small GPU memory footprint."
   ]
  },
  {
   "cell_type": "code",
   "execution_count": 7,
   "id": "cc4e80df",
   "metadata": {
    "execution": {
     "iopub.execute_input": "2022-08-04T14:30:42.693647Z",
     "iopub.status.busy": "2022-08-04T14:30:42.693333Z",
     "iopub.status.idle": "2022-08-04T14:30:42.803295Z",
     "shell.execute_reply": "2022-08-04T14:30:42.802373Z"
    },
    "papermill": {
     "duration": 0.119429,
     "end_time": "2022-08-04T14:30:42.805684",
     "exception": false,
     "start_time": "2022-08-04T14:30:42.686255",
     "status": "completed"
    },
    "tags": []
   },
   "outputs": [
    {
     "name": "stdout",
     "output_type": "stream",
     "text": [
      "XGB Version 1.6.1\n"
     ]
    }
   ],
   "source": [
    "# LOAD XGB LIBRARY\n",
    "from sklearn.model_selection import KFold\n",
    "import xgboost as xgb\n",
    "print('XGB Version',xgb.__version__)\n",
    "\n",
    "# XGB MODEL PARAMETERS\n",
    "xgb_parms = { \n",
    "    'max_depth':4, \n",
    "    'learning_rate':0.05, \n",
    "    'subsample':0.8,\n",
    "    'colsample_bytree':0.6, \n",
    "    'eval_metric':'logloss',\n",
    "    'objective':'binary:logistic',\n",
    "    'tree_method':'gpu_hist',\n",
    "    'predictor':'gpu_predictor',\n",
    "    'random_state':SEED\n",
    "}"
   ]
  },
  {
   "cell_type": "code",
   "execution_count": 8,
   "id": "121362f8",
   "metadata": {
    "execution": {
     "iopub.execute_input": "2022-08-04T14:30:42.819745Z",
     "iopub.status.busy": "2022-08-04T14:30:42.819445Z",
     "iopub.status.idle": "2022-08-04T14:30:42.828152Z",
     "shell.execute_reply": "2022-08-04T14:30:42.827305Z"
    },
    "papermill": {
     "duration": 0.017487,
     "end_time": "2022-08-04T14:30:42.829843",
     "exception": false,
     "start_time": "2022-08-04T14:30:42.812356",
     "status": "completed"
    },
    "tags": []
   },
   "outputs": [],
   "source": [
    "# NEEDED WITH DeviceQuantileDMatrix BELOW\n",
    "class IterLoadForDMatrix(xgb.core.DataIter):\n",
    "    def __init__(self, df=None, features=None, target=None, batch_size=256*1024):\n",
    "        self.features = features\n",
    "        self.target = target\n",
    "        self.df = df\n",
    "        self.it = 0 # set iterator to 0\n",
    "        self.batch_size = batch_size\n",
    "        self.batches = int( np.ceil( len(df) / self.batch_size ) )\n",
    "        super().__init__()\n",
    "\n",
    "    def reset(self):\n",
    "        '''Reset the iterator'''\n",
    "        self.it = 0\n",
    "\n",
    "    def next(self, input_data):\n",
    "        '''Yield next batch of data.'''\n",
    "        if self.it == self.batches:\n",
    "            return 0 # Return 0 when there's no more batch.\n",
    "        \n",
    "        a = self.it * self.batch_size\n",
    "        b = min( (self.it + 1) * self.batch_size, len(self.df) )\n",
    "        dt = cudf.DataFrame(self.df.iloc[a:b])\n",
    "        input_data(data=dt[self.features], label=dt[self.target]) #, weight=dt['weight'])\n",
    "        self.it += 1\n",
    "        return 1"
   ]
  },
  {
   "cell_type": "code",
   "execution_count": 9,
   "id": "d0bfc8c1",
   "metadata": {
    "execution": {
     "iopub.execute_input": "2022-08-04T14:30:42.844076Z",
     "iopub.status.busy": "2022-08-04T14:30:42.843813Z",
     "iopub.status.idle": "2022-08-04T14:30:42.852337Z",
     "shell.execute_reply": "2022-08-04T14:30:42.851438Z"
    },
    "papermill": {
     "duration": 0.01785,
     "end_time": "2022-08-04T14:30:42.854232",
     "exception": false,
     "start_time": "2022-08-04T14:30:42.836382",
     "status": "completed"
    },
    "tags": []
   },
   "outputs": [],
   "source": [
    "# https://www.kaggle.com/kyakovlev\n",
    "# https://www.kaggle.com/competitions/amex-default-prediction/discussion/327534\n",
    "def amex_metric_mod(y_true, y_pred):\n",
    "\n",
    "    labels     = np.transpose(np.array([y_true, y_pred]))\n",
    "    labels     = labels[labels[:, 1].argsort()[::-1]]\n",
    "    weights    = np.where(labels[:,0]==0, 20, 1)\n",
    "    cut_vals   = labels[np.cumsum(weights) <= int(0.04 * np.sum(weights))]\n",
    "    top_four   = np.sum(cut_vals[:,0]) / np.sum(labels[:,0])\n",
    "\n",
    "    gini = [0,0]\n",
    "    for i in [1,0]:\n",
    "        labels         = np.transpose(np.array([y_true, y_pred]))\n",
    "        labels         = labels[labels[:, i].argsort()[::-1]]\n",
    "        weight         = np.where(labels[:,0]==0, 20, 1)\n",
    "        weight_random  = np.cumsum(weight / np.sum(weight))\n",
    "        total_pos      = np.sum(labels[:, 0] *  weight)\n",
    "        cum_pos_found  = np.cumsum(labels[:, 0] * weight)\n",
    "        lorentz        = cum_pos_found / total_pos\n",
    "        gini[i]        = np.sum((lorentz - weight_random) * weight)\n",
    "\n",
    "    return 0.5 * (gini[1]/gini[0] + top_four)"
   ]
  },
  {
   "cell_type": "code",
   "execution_count": 10,
   "id": "8ec201d1",
   "metadata": {
    "execution": {
     "iopub.execute_input": "2022-08-04T14:30:42.868419Z",
     "iopub.status.busy": "2022-08-04T14:30:42.867774Z",
     "iopub.status.idle": "2022-08-04T14:35:24.881840Z",
     "shell.execute_reply": "2022-08-04T14:35:24.880100Z"
    },
    "papermill": {
     "duration": 282.02329,
     "end_time": "2022-08-04T14:35:24.883726",
     "exception": false,
     "start_time": "2022-08-04T14:30:42.860436",
     "status": "completed"
    },
    "scrolled": true,
    "tags": []
   },
   "outputs": [
    {
     "name": "stdout",
     "output_type": "stream",
     "text": [
      "#########################\n",
      "### Fold 1\n",
      "### Train size 344184 Valid size 114729\n",
      "### Training with 100% fold data...\n",
      "#########################\n",
      "[0]\ttrain-logloss:0.66304\tvalid-logloss:0.66300\n",
      "[100]\ttrain-logloss:0.23696\tvalid-logloss:0.23943\n",
      "[200]\ttrain-logloss:0.22260\tvalid-logloss:0.22746\n",
      "[300]\ttrain-logloss:0.21642\tvalid-logloss:0.22338\n",
      "[400]\ttrain-logloss:0.21235\tvalid-logloss:0.22135\n",
      "[500]\ttrain-logloss:0.20914\tvalid-logloss:0.22020\n",
      "[600]\ttrain-logloss:0.20629\tvalid-logloss:0.21938\n",
      "[700]\ttrain-logloss:0.20379\tvalid-logloss:0.21886\n",
      "[800]\ttrain-logloss:0.20144\tvalid-logloss:0.21839\n",
      "[900]\ttrain-logloss:0.19927\tvalid-logloss:0.21812\n",
      "[1000]\ttrain-logloss:0.19723\tvalid-logloss:0.21781\n",
      "[1100]\ttrain-logloss:0.19520\tvalid-logloss:0.21764\n",
      "[1200]\ttrain-logloss:0.19326\tvalid-logloss:0.21750\n",
      "[1300]\ttrain-logloss:0.19139\tvalid-logloss:0.21740\n",
      "[1400]\ttrain-logloss:0.18959\tvalid-logloss:0.21733\n",
      "[1500]\ttrain-logloss:0.18783\tvalid-logloss:0.21729\n",
      "[1600]\ttrain-logloss:0.18605\tvalid-logloss:0.21719\n",
      "[1697]\ttrain-logloss:0.18436\tvalid-logloss:0.21719\n",
      "Kaggle Metric = 0.7913870556588538 \n",
      "\n",
      "#########################\n",
      "### Fold 2\n",
      "### Train size 344185 Valid size 114728\n",
      "### Training with 100% fold data...\n",
      "#########################\n",
      "[0]\ttrain-logloss:0.66307\tvalid-logloss:0.66313\n",
      "[100]\ttrain-logloss:0.23698\tvalid-logloss:0.23903\n",
      "[200]\ttrain-logloss:0.22265\tvalid-logloss:0.22686\n",
      "[300]\ttrain-logloss:0.21658\tvalid-logloss:0.22286\n",
      "[400]\ttrain-logloss:0.21250\tvalid-logloss:0.22083\n",
      "[500]\ttrain-logloss:0.20927\tvalid-logloss:0.21968\n",
      "[600]\ttrain-logloss:0.20652\tvalid-logloss:0.21890\n",
      "[700]\ttrain-logloss:0.20405\tvalid-logloss:0.21842\n",
      "[800]\ttrain-logloss:0.20177\tvalid-logloss:0.21798\n",
      "[900]\ttrain-logloss:0.19953\tvalid-logloss:0.21762\n",
      "[1000]\ttrain-logloss:0.19749\tvalid-logloss:0.21738\n",
      "[1100]\ttrain-logloss:0.19543\tvalid-logloss:0.21721\n",
      "[1200]\ttrain-logloss:0.19347\tvalid-logloss:0.21707\n",
      "[1300]\ttrain-logloss:0.19148\tvalid-logloss:0.21689\n",
      "[1400]\ttrain-logloss:0.18962\tvalid-logloss:0.21673\n",
      "[1500]\ttrain-logloss:0.18791\tvalid-logloss:0.21664\n",
      "[1600]\ttrain-logloss:0.18616\tvalid-logloss:0.21658\n",
      "[1700]\ttrain-logloss:0.18442\tvalid-logloss:0.21651\n",
      "[1800]\ttrain-logloss:0.18275\tvalid-logloss:0.21649\n",
      "[1858]\ttrain-logloss:0.18184\tvalid-logloss:0.21648\n",
      "Kaggle Metric = 0.7928177012394064 \n",
      "\n",
      "#########################\n",
      "### Fold 3\n",
      "### Train size 344185 Valid size 114728\n",
      "### Training with 100% fold data...\n",
      "#########################\n",
      "[0]\ttrain-logloss:0.66298\tvalid-logloss:0.66312\n",
      "[100]\ttrain-logloss:0.23644\tvalid-logloss:0.24088\n",
      "[200]\ttrain-logloss:0.22202\tvalid-logloss:0.22915\n",
      "[300]\ttrain-logloss:0.21576\tvalid-logloss:0.22537\n",
      "[400]\ttrain-logloss:0.21159\tvalid-logloss:0.22341\n",
      "[500]\ttrain-logloss:0.20834\tvalid-logloss:0.22230\n",
      "[600]\ttrain-logloss:0.20558\tvalid-logloss:0.22164\n",
      "[700]\ttrain-logloss:0.20304\tvalid-logloss:0.22124\n",
      "[800]\ttrain-logloss:0.20071\tvalid-logloss:0.22097\n",
      "[900]\ttrain-logloss:0.19858\tvalid-logloss:0.22069\n",
      "[1000]\ttrain-logloss:0.19655\tvalid-logloss:0.22050\n",
      "[1100]\ttrain-logloss:0.19454\tvalid-logloss:0.22039\n",
      "[1200]\ttrain-logloss:0.19265\tvalid-logloss:0.22035\n",
      "[1300]\ttrain-logloss:0.19071\tvalid-logloss:0.22021\n",
      "[1400]\ttrain-logloss:0.18880\tvalid-logloss:0.22015\n",
      "[1500]\ttrain-logloss:0.18697\tvalid-logloss:0.22007\n",
      "[1600]\ttrain-logloss:0.18525\tvalid-logloss:0.21999\n",
      "[1700]\ttrain-logloss:0.18362\tvalid-logloss:0.21997\n",
      "[1800]\ttrain-logloss:0.18190\tvalid-logloss:0.21987\n",
      "[1900]\ttrain-logloss:0.18023\tvalid-logloss:0.21988\n",
      "[1942]\ttrain-logloss:0.17954\tvalid-logloss:0.21987\n",
      "Kaggle Metric = 0.7871131176454917 \n",
      "\n",
      "#########################\n",
      "### Fold 4\n",
      "### Train size 344185 Valid size 114728\n",
      "### Training with 100% fold data...\n",
      "#########################\n",
      "[0]\ttrain-logloss:0.66307\tvalid-logloss:0.66305\n",
      "[100]\ttrain-logloss:0.23750\tvalid-logloss:0.23873\n",
      "[200]\ttrain-logloss:0.22311\tvalid-logloss:0.22652\n",
      "[300]\ttrain-logloss:0.21710\tvalid-logloss:0.22249\n",
      "[400]\ttrain-logloss:0.21297\tvalid-logloss:0.22044\n",
      "[500]\ttrain-logloss:0.20967\tvalid-logloss:0.21922\n",
      "[600]\ttrain-logloss:0.20687\tvalid-logloss:0.21835\n",
      "[700]\ttrain-logloss:0.20434\tvalid-logloss:0.21784\n",
      "[800]\ttrain-logloss:0.20190\tvalid-logloss:0.21734\n",
      "[900]\ttrain-logloss:0.19975\tvalid-logloss:0.21708\n",
      "[1000]\ttrain-logloss:0.19771\tvalid-logloss:0.21687\n",
      "[1100]\ttrain-logloss:0.19562\tvalid-logloss:0.21669\n",
      "[1200]\ttrain-logloss:0.19366\tvalid-logloss:0.21657\n",
      "[1300]\ttrain-logloss:0.19179\tvalid-logloss:0.21651\n",
      "[1400]\ttrain-logloss:0.18993\tvalid-logloss:0.21641\n",
      "[1500]\ttrain-logloss:0.18815\tvalid-logloss:0.21629\n",
      "[1600]\ttrain-logloss:0.18642\tvalid-logloss:0.21618\n",
      "[1700]\ttrain-logloss:0.18473\tvalid-logloss:0.21618\n",
      "[1800]\ttrain-logloss:0.18304\tvalid-logloss:0.21616\n",
      "[1900]\ttrain-logloss:0.18135\tvalid-logloss:0.21617\n",
      "[1990]\ttrain-logloss:0.17991\tvalid-logloss:0.21616\n",
      "Kaggle Metric = 0.7953147588080164 \n",
      "\n",
      "#########################\n",
      "OVERALL CV Kaggle Metric = 0.7916911902226764\n"
     ]
    }
   ],
   "source": [
    "importances = []\n",
    "oof = []\n",
    "train = train.to_pandas() # free GPU memory\n",
    "TRAIN_SUBSAMPLE = 1.0\n",
    "gc.collect()\n",
    "\n",
    "skf = KFold(n_splits=FOLDS, shuffle=True, random_state=SEED)\n",
    "for fold,(train_idx, valid_idx) in enumerate(skf.split(\n",
    "            train, train.target )):\n",
    "    \n",
    "    # TRAIN WITH SUBSAMPLE OF TRAIN FOLD DATA\n",
    "    if TRAIN_SUBSAMPLE<1.0:\n",
    "        np.random.seed(SEED)\n",
    "        train_idx = np.random.choice(train_idx, \n",
    "                       int(len(train_idx)*TRAIN_SUBSAMPLE), replace=False)\n",
    "        np.random.seed(None)\n",
    "    \n",
    "    print('#'*25)\n",
    "    print('### Fold',fold+1)\n",
    "    print('### Train size',len(train_idx),'Valid size',len(valid_idx))\n",
    "    print(f'### Training with {int(TRAIN_SUBSAMPLE*100)}% fold data...')\n",
    "    print('#'*25)\n",
    "    \n",
    "    # TRAIN, VALID, TEST FOR FOLD K\n",
    "    Xy_train = IterLoadForDMatrix(train.loc[train_idx], FEATURES, 'target')\n",
    "    X_valid = train.loc[valid_idx, FEATURES]\n",
    "    y_valid = train.loc[valid_idx, 'target']\n",
    "    \n",
    "    dtrain = xgb.DeviceQuantileDMatrix(Xy_train, max_bin=256)\n",
    "    dvalid = xgb.DMatrix(data=X_valid, label=y_valid)\n",
    "    \n",
    "    # TRAIN MODEL FOLD K\n",
    "    model = xgb.train(xgb_parms, \n",
    "                dtrain=dtrain,\n",
    "                evals=[(dtrain,'train'),(dvalid,'valid')],\n",
    "                num_boost_round=9999,\n",
    "                early_stopping_rounds=100,\n",
    "                verbose_eval=100) \n",
    "    model.save_model(f'XGB_v{VER}_fold{fold}.xgb')\n",
    "    \n",
    "    # GET FEATURE IMPORTANCE FOR FOLD K\n",
    "    dd = model.get_score(importance_type='weight')\n",
    "    df = pd.DataFrame({'feature':dd.keys(),f'importance_{fold}':dd.values()})\n",
    "    importances.append(df)\n",
    "            \n",
    "    # INFER OOF FOLD K\n",
    "    oof_preds = model.predict(dvalid)\n",
    "    acc = amex_metric_mod(y_valid.values, oof_preds)\n",
    "    print('Kaggle Metric =',acc,'\\n')\n",
    "    \n",
    "    # SAVE OOF\n",
    "    df = train.loc[valid_idx, ['customer_ID','target'] ].copy()\n",
    "    df['oof_pred'] = oof_preds\n",
    "    oof.append( df )\n",
    "    \n",
    "    del dtrain, Xy_train, dd, df\n",
    "    del X_valid, y_valid, dvalid, model\n",
    "    _ = gc.collect()\n",
    "    \n",
    "print('#'*25)\n",
    "oof = pd.concat(oof,axis=0,ignore_index=True).set_index('customer_ID')\n",
    "acc = amex_metric_mod(oof.target.values, oof.oof_pred.values)\n",
    "print('OVERALL CV Kaggle Metric =',acc)"
   ]
  },
  {
   "cell_type": "code",
   "execution_count": 11,
   "id": "da891832",
   "metadata": {
    "execution": {
     "iopub.execute_input": "2022-08-04T14:35:24.906589Z",
     "iopub.status.busy": "2022-08-04T14:35:24.906216Z",
     "iopub.status.idle": "2022-08-04T14:35:25.039673Z",
     "shell.execute_reply": "2022-08-04T14:35:25.038748Z"
    },
    "papermill": {
     "duration": 0.146639,
     "end_time": "2022-08-04T14:35:25.041470",
     "exception": false,
     "start_time": "2022-08-04T14:35:24.894831",
     "status": "completed"
    },
    "tags": []
   },
   "outputs": [],
   "source": [
    "# CLEAN RAM\n",
    "del train\n",
    "_ = gc.collect()"
   ]
  },
  {
   "cell_type": "markdown",
   "id": "12a66561",
   "metadata": {
    "papermill": {
     "duration": 0.01017,
     "end_time": "2022-08-04T14:35:25.062632",
     "exception": false,
     "start_time": "2022-08-04T14:35:25.052462",
     "status": "completed"
    },
    "tags": []
   },
   "source": [
    "# Save OOF Preds"
   ]
  },
  {
   "cell_type": "code",
   "execution_count": 12,
   "id": "de6b3e3c",
   "metadata": {
    "execution": {
     "iopub.execute_input": "2022-08-04T14:35:25.086586Z",
     "iopub.status.busy": "2022-08-04T14:35:25.085781Z",
     "iopub.status.idle": "2022-08-04T14:35:28.950162Z",
     "shell.execute_reply": "2022-08-04T14:35:28.949241Z"
    },
    "papermill": {
     "duration": 3.878097,
     "end_time": "2022-08-04T14:35:28.951970",
     "exception": false,
     "start_time": "2022-08-04T14:35:25.073873",
     "status": "completed"
    },
    "tags": []
   },
   "outputs": [
    {
     "data": {
      "text/html": [
       "<div>\n",
       "<style scoped>\n",
       "    .dataframe tbody tr th:only-of-type {\n",
       "        vertical-align: middle;\n",
       "    }\n",
       "\n",
       "    .dataframe tbody tr th {\n",
       "        vertical-align: top;\n",
       "    }\n",
       "\n",
       "    .dataframe thead th {\n",
       "        text-align: right;\n",
       "    }\n",
       "</style>\n",
       "<table border=\"1\" class=\"dataframe\">\n",
       "  <thead>\n",
       "    <tr style=\"text-align: right;\">\n",
       "      <th></th>\n",
       "      <th>customer_ID</th>\n",
       "      <th>target</th>\n",
       "      <th>oof_pred</th>\n",
       "    </tr>\n",
       "  </thead>\n",
       "  <tbody>\n",
       "    <tr>\n",
       "      <th>0</th>\n",
       "      <td>20eac26171c3d251c55fc78204e59fab1c15fc2bc96d0c...</td>\n",
       "      <td>1</td>\n",
       "      <td>0.686250</td>\n",
       "    </tr>\n",
       "    <tr>\n",
       "      <th>1</th>\n",
       "      <td>aea50fdf9b974ccec95fa177c3225a0f913483b457de6e...</td>\n",
       "      <td>0</td>\n",
       "      <td>0.000348</td>\n",
       "    </tr>\n",
       "    <tr>\n",
       "      <th>2</th>\n",
       "      <td>32cd2d41aef737b69089882754395925c96eaee1f4a859...</td>\n",
       "      <td>0</td>\n",
       "      <td>0.001272</td>\n",
       "    </tr>\n",
       "    <tr>\n",
       "      <th>3</th>\n",
       "      <td>8daa6d5dc2655a8a437531e6b8b96829113cdfe9bf6cae...</td>\n",
       "      <td>0</td>\n",
       "      <td>0.010828</td>\n",
       "    </tr>\n",
       "    <tr>\n",
       "      <th>4</th>\n",
       "      <td>0ceba351a3851202542feb49d7385bcef32f6037fc57c7...</td>\n",
       "      <td>1</td>\n",
       "      <td>0.892799</td>\n",
       "    </tr>\n",
       "  </tbody>\n",
       "</table>\n",
       "</div>"
      ],
      "text/plain": [
       "                                         customer_ID  target  oof_pred\n",
       "0  20eac26171c3d251c55fc78204e59fab1c15fc2bc96d0c...       1  0.686250\n",
       "1  aea50fdf9b974ccec95fa177c3225a0f913483b457de6e...       0  0.000348\n",
       "2  32cd2d41aef737b69089882754395925c96eaee1f4a859...       0  0.001272\n",
       "3  8daa6d5dc2655a8a437531e6b8b96829113cdfe9bf6cae...       0  0.010828\n",
       "4  0ceba351a3851202542feb49d7385bcef32f6037fc57c7...       1  0.892799"
      ]
     },
     "execution_count": 12,
     "metadata": {},
     "output_type": "execute_result"
    }
   ],
   "source": [
    "oof_xgb = pd.read_parquet(TRAIN_PATH, columns=['customer_ID']).drop_duplicates()\n",
    "oof_xgb['customer_ID_hash'] = oof_xgb['customer_ID'].apply(lambda x: int(x[-16:],16) ).astype('int64')\n",
    "oof_xgb = oof_xgb.set_index('customer_ID_hash')\n",
    "oof_xgb = oof_xgb.merge(oof, left_index=True, right_index=True)\n",
    "oof_xgb = oof_xgb.sort_index().reset_index(drop=True)\n",
    "oof_xgb.to_csv(f'oof_xgb_v{VER}.csv',index=False)\n",
    "oof_xgb.head()"
   ]
  },
  {
   "cell_type": "code",
   "execution_count": 13,
   "id": "86bd43b0",
   "metadata": {
    "execution": {
     "iopub.execute_input": "2022-08-04T14:35:28.975143Z",
     "iopub.status.busy": "2022-08-04T14:35:28.974841Z",
     "iopub.status.idle": "2022-08-04T14:35:29.344663Z",
     "shell.execute_reply": "2022-08-04T14:35:29.343873Z"
    },
    "papermill": {
     "duration": 0.383793,
     "end_time": "2022-08-04T14:35:29.346720",
     "exception": false,
     "start_time": "2022-08-04T14:35:28.962927",
     "status": "completed"
    },
    "tags": []
   },
   "outputs": [
    {
     "data": {
      "image/png": "[encoded data removed]",
      "text/plain": [
       "<Figure size 432x288 with 1 Axes>"
      ]
     },
     "metadata": {
      "needs_background": "light"
     },
     "output_type": "display_data"
    }
   ],
   "source": [
    "# PLOT OOF PREDICTIONS\n",
    "plt.hist(oof_xgb.oof_pred.values, bins=100)\n",
    "plt.title('OOF Predictions')\n",
    "plt.show()"
   ]
  },
  {
   "cell_type": "code",
   "execution_count": 14,
   "id": "44a2f0e0",
   "metadata": {
    "execution": {
     "iopub.execute_input": "2022-08-04T14:35:29.370709Z",
     "iopub.status.busy": "2022-08-04T14:35:29.370398Z",
     "iopub.status.idle": "2022-08-04T14:35:29.507039Z",
     "shell.execute_reply": "2022-08-04T14:35:29.506011Z"
    },
    "papermill": {
     "duration": 0.151649,
     "end_time": "2022-08-04T14:35:29.509477",
     "exception": false,
     "start_time": "2022-08-04T14:35:29.357828",
     "status": "completed"
    },
    "tags": []
   },
   "outputs": [],
   "source": [
    "# CLEAR VRAM, RAM FOR INFERENCE BELOW\n",
    "del oof_xgb, oof\n",
    "_ = gc.collect()"
   ]
  },
  {
   "cell_type": "markdown",
   "id": "a305d55e",
   "metadata": {
    "papermill": {
     "duration": 0.011332,
     "end_time": "2022-08-04T14:35:29.533927",
     "exception": false,
     "start_time": "2022-08-04T14:35:29.522595",
     "status": "completed"
    },
    "tags": []
   },
   "source": [
    "# Feature Importance"
   ]
  },
  {
   "cell_type": "code",
   "execution_count": 15,
   "id": "aebe1a3a",
   "metadata": {
    "execution": {
     "iopub.execute_input": "2022-08-04T14:35:29.556692Z",
     "iopub.status.busy": "2022-08-04T14:35:29.556395Z",
     "iopub.status.idle": "2022-08-04T14:35:29.578376Z",
     "shell.execute_reply": "2022-08-04T14:35:29.577648Z"
    },
    "papermill": {
     "duration": 0.035861,
     "end_time": "2022-08-04T14:35:29.580545",
     "exception": false,
     "start_time": "2022-08-04T14:35:29.544684",
     "status": "completed"
    },
    "tags": []
   },
   "outputs": [],
   "source": [
    "import matplotlib.pyplot as plt\n",
    "\n",
    "df = importances[0].copy()\n",
    "for k in range(1,FOLDS): df = df.merge(importances[k], on='feature', how='left')\n",
    "df['importance'] = df.iloc[:,1:].mean(axis=1)\n",
    "df = df.sort_values('importance',ascending=False)\n",
    "df.to_csv(f'xgb_feature_importance_v{VER}.csv',index=False)"
   ]
  },
  {
   "cell_type": "code",
   "execution_count": 16,
   "id": "8b52372d",
   "metadata": {
    "execution": {
     "iopub.execute_input": "2022-08-04T14:35:29.604437Z",
     "iopub.status.busy": "2022-08-04T14:35:29.604144Z",
     "iopub.status.idle": "2022-08-04T14:35:29.875981Z",
     "shell.execute_reply": "2022-08-04T14:35:29.875166Z"
    },
    "papermill": {
     "duration": 0.285419,
     "end_time": "2022-08-04T14:35:29.877983",
     "exception": false,
     "start_time": "2022-08-04T14:35:29.592564",
     "status": "completed"
    },
    "tags": []
   },
   "outputs": [
    {
     "data": {
      "image/png": "[encoded data removed]",
      "text/plain": [
       "<Figure size 720x720 with 1 Axes>"
      ]
     },
     "metadata": {
      "needs_background": "light"
     },
     "output_type": "display_data"
    }
   ],
   "source": [
    "NUM_FEATURES = 20\n",
    "plt.figure(figsize=(10,5*NUM_FEATURES//10))\n",
    "plt.barh(np.arange(NUM_FEATURES,0,-1), df.importance.values[:NUM_FEATURES])\n",
    "plt.yticks(np.arange(NUM_FEATURES,0,-1), df.feature.values[:NUM_FEATURES])\n",
    "plt.title(f'XGB Feature Importance - Top {NUM_FEATURES}')\n",
    "plt.show()"
   ]
  },
  {
   "cell_type": "markdown",
   "id": "7d664228",
   "metadata": {
    "papermill": {
     "duration": 0.010984,
     "end_time": "2022-08-04T14:35:29.901058",
     "exception": false,
     "start_time": "2022-08-04T14:35:29.890074",
     "status": "completed"
    },
    "tags": []
   },
   "source": [
    "# Process and Feature Engineer Test Data\n",
    "We will load @raddar Kaggle dataset from [here][1] with discussion [here][2]. Then we will engineer features suggested by @huseyincot in his notebooks [here][1] and [here][4]. We will use [RAPIDS][5] and the GPU to create new features quickly.\n",
    "\n",
    "[1]: https://www.kaggle.com/datasets/raddar/amex-data-integer-dtypes-parquet-format\n",
    "[2]: https://www.kaggle.com/competitions/amex-default-prediction/discussion/328514\n",
    "[3]: https://www.kaggle.com/code/huseyincot/amex-catboost-0-793\n",
    "[4]: https://www.kaggle.com/code/huseyincot/amex-agg-data-how-it-created\n",
    "[5]: https://rapids.ai/"
   ]
  },
  {
   "cell_type": "code",
   "execution_count": 17,
   "id": "cafdb29c",
   "metadata": {
    "execution": {
     "iopub.execute_input": "2022-08-04T14:35:29.925266Z",
     "iopub.status.busy": "2022-08-04T14:35:29.924950Z",
     "iopub.status.idle": "2022-08-04T14:35:32.460768Z",
     "shell.execute_reply": "2022-08-04T14:35:32.459846Z"
    },
    "papermill": {
     "duration": 2.550514,
     "end_time": "2022-08-04T14:35:32.463159",
     "exception": false,
     "start_time": "2022-08-04T14:35:29.912645",
     "status": "completed"
    },
    "tags": []
   },
   "outputs": [
    {
     "name": "stdout",
     "output_type": "stream",
     "text": [
      "Reading test data...\n",
      "shape of data: (11363762, 2)\n",
      "We will process test data as 4 separate parts.\n",
      "There will be 231155 customers in each part (except the last part).\n",
      "Below are number of rows in each part:\n",
      "[2841209, 2839857, 2842105, 2840591]\n"
     ]
    }
   ],
   "source": [
    "# CALCULATE SIZE OF EACH SEPARATE TEST PART\n",
    "def get_rows(customers, test, NUM_PARTS = 4, verbose = ''):\n",
    "    chunk = len(customers)//NUM_PARTS\n",
    "    if verbose != '':\n",
    "        print(f'We will process {verbose} data as {NUM_PARTS} separate parts.')\n",
    "        print(f'There will be {chunk} customers in each part (except the last part).')\n",
    "        print('Below are number of rows in each part:')\n",
    "    rows = []\n",
    "\n",
    "    for k in range(NUM_PARTS):\n",
    "        if k==NUM_PARTS-1: cc = customers[k*chunk:]\n",
    "        else: cc = customers[k*chunk:(k+1)*chunk]\n",
    "        s = test.loc[test.customer_ID.isin(cc)].shape[0]\n",
    "        rows.append(s)\n",
    "    if verbose != '': print( rows )\n",
    "    return rows,chunk\n",
    "\n",
    "# COMPUTE SIZE OF 4 PARTS FOR TEST DATA\n",
    "NUM_PARTS = 4\n",
    "TEST_PATH = '../input/amex-data-integer-dtypes-parquet-format/test.parquet'\n",
    "\n",
    "print(f'Reading test data...')\n",
    "test = read_file(path = TEST_PATH, usecols = ['customer_ID','S_2'])\n",
    "customers = test[['customer_ID']].drop_duplicates().sort_index().values.flatten()\n",
    "rows,num_cust = get_rows(customers, test[['customer_ID']], NUM_PARTS = NUM_PARTS, verbose = 'test')"
   ]
  },
  {
   "cell_type": "markdown",
   "id": "6b5d033c",
   "metadata": {
    "papermill": {
     "duration": 0.018385,
     "end_time": "2022-08-04T14:35:32.500620",
     "exception": false,
     "start_time": "2022-08-04T14:35:32.482235",
     "status": "completed"
    },
    "tags": []
   },
   "source": [
    "# Infer Test"
   ]
  },
  {
   "cell_type": "code",
   "execution_count": 18,
   "id": "bb802155",
   "metadata": {
    "execution": {
     "iopub.execute_input": "2022-08-04T14:35:32.537284Z",
     "iopub.status.busy": "2022-08-04T14:35:32.536887Z",
     "iopub.status.idle": "2022-08-04T14:37:12.494865Z",
     "shell.execute_reply": "2022-08-04T14:37:12.494036Z"
    },
    "papermill": {
     "duration": 99.978973,
     "end_time": "2022-08-04T14:37:12.497362",
     "exception": false,
     "start_time": "2022-08-04T14:35:32.518389",
     "status": "completed"
    },
    "tags": []
   },
   "outputs": [
    {
     "name": "stdout",
     "output_type": "stream",
     "text": [
      "\n",
      "Reading test data...\n",
      "shape of data: (11363762, 190)\n",
      "=> Test part 1 has shape (2841209, 190)\n",
      "shape after engineering (231155, 516)\n",
      "\n",
      "Reading test data...\n",
      "shape of data: (11363762, 190)\n",
      "=> Test part 2 has shape (2839857, 190)\n",
      "shape after engineering (231155, 516)\n",
      "\n",
      "Reading test data...\n",
      "shape of data: (11363762, 190)\n",
      "=> Test part 3 has shape (2842105, 190)\n",
      "shape after engineering (231155, 516)\n",
      "\n",
      "Reading test data...\n",
      "shape of data: (11363762, 190)\n",
      "=> Test part 4 has shape (2840591, 190)\n",
      "shape after engineering (231156, 516)\n"
     ]
    }
   ],
   "source": [
    "# INFER TEST DATA IN PARTS\n",
    "skip_rows = 0\n",
    "skip_cust = 0\n",
    "test_preds = []\n",
    "\n",
    "for k in range(NUM_PARTS):\n",
    "    \n",
    "    # READ PART OF TEST DATA\n",
    "    print(f'\\nReading test data...')\n",
    "    test = read_file(path = TEST_PATH)\n",
    "    test = test.iloc[skip_rows:skip_rows+rows[k]]\n",
    "    skip_rows += rows[k]\n",
    "    print(f'=> Test part {k+1} has shape', test.shape )\n",
    "    \n",
    "    # PROCESS AND FEATURE ENGINEER PART OF TEST DATA\n",
    "    test = process_and_feature_engineer(test)\n",
    "    if k==NUM_PARTS-1: test = test.loc[customers[skip_cust:]]\n",
    "    else: test = test.loc[customers[skip_cust:skip_cust+num_cust]]\n",
    "    skip_cust += num_cust\n",
    "    \n",
    "    # TEST DATA FOR XGB\n",
    "    X_test = test[FEATURES]\n",
    "    dtest = xgb.DMatrix(data=X_test)\n",
    "    test = test[['P_2_mean']] # reduce memory\n",
    "    del X_test\n",
    "    gc.collect()\n",
    "\n",
    "    # INFER XGB MODELS ON TEST DATA\n",
    "    model = xgb.Booster()\n",
    "    model.load_model(f'XGB_v{VER}_fold0.xgb')\n",
    "    preds = model.predict(dtest)\n",
    "    for f in range(1,FOLDS):\n",
    "        model.load_model(f'XGB_v{VER}_fold{f}.xgb')\n",
    "        preds += model.predict(dtest)\n",
    "    preds /= FOLDS\n",
    "    test_preds.append(preds)\n",
    "\n",
    "    # CLEAN MEMORY\n",
    "    del dtest, model\n",
    "    _ = gc.collect()"
   ]
  },
  {
   "cell_type": "markdown",
   "id": "42e0482e",
   "metadata": {
    "papermill": {
     "duration": 0.012122,
     "end_time": "2022-08-04T14:37:12.522024",
     "exception": false,
     "start_time": "2022-08-04T14:37:12.509902",
     "status": "completed"
    },
    "tags": []
   },
   "source": [
    "# Create Submission CSV"
   ]
  },
  {
   "cell_type": "code",
   "execution_count": 19,
   "id": "7db463e0",
   "metadata": {
    "execution": {
     "iopub.execute_input": "2022-08-04T14:37:12.547789Z",
     "iopub.status.busy": "2022-08-04T14:37:12.547475Z",
     "iopub.status.idle": "2022-08-04T14:37:13.653214Z",
     "shell.execute_reply": "2022-08-04T14:37:13.652377Z"
    },
    "papermill": {
     "duration": 1.120757,
     "end_time": "2022-08-04T14:37:13.655169",
     "exception": false,
     "start_time": "2022-08-04T14:37:12.534412",
     "status": "completed"
    },
    "tags": []
   },
   "outputs": [
    {
     "name": "stdout",
     "output_type": "stream",
     "text": [
      "Submission file shape is (924621, 2)\n"
     ]
    },
    {
     "data": {
      "text/html": [
       "<div>\n",
       "<style scoped>\n",
       "    .dataframe tbody tr th:only-of-type {\n",
       "        vertical-align: middle;\n",
       "    }\n",
       "\n",
       "    .dataframe tbody tr th {\n",
       "        vertical-align: top;\n",
       "    }\n",
       "\n",
       "    .dataframe thead th {\n",
       "        text-align: right;\n",
       "    }\n",
       "</style>\n",
       "<table border=\"1\" class=\"dataframe\">\n",
       "  <thead>\n",
       "    <tr style=\"text-align: right;\">\n",
       "      <th></th>\n",
       "      <th>customer_ID</th>\n",
       "      <th>prediction</th>\n",
       "    </tr>\n",
       "  </thead>\n",
       "  <tbody>\n",
       "    <tr>\n",
       "      <th>0</th>\n",
       "      <td>0f7f94e1247f12d2a38fb2b014d6be7175f51b3b4efe9b...</td>\n",
       "      <td>0.031803</td>\n",
       "    </tr>\n",
       "    <tr>\n",
       "      <th>1</th>\n",
       "      <td>0f8086f7297593825bba8c654ea9d35f661089ce25ed79...</td>\n",
       "      <td>0.065177</td>\n",
       "    </tr>\n",
       "    <tr>\n",
       "      <th>2</th>\n",
       "      <td>0f7fe57b8ce23fdd299b99cbcf7fac47e0cdf6459bb616...</td>\n",
       "      <td>0.060542</td>\n",
       "    </tr>\n",
       "    <tr>\n",
       "      <th>3</th>\n",
       "      <td>0f81168c4911b484975ff222f75321396c546b700fa329...</td>\n",
       "      <td>0.049677</td>\n",
       "    </tr>\n",
       "    <tr>\n",
       "      <th>4</th>\n",
       "      <td>0f7f94e3f0e63573b61dccc9fb3c4091ccc8d283d7b58a...</td>\n",
       "      <td>0.007995</td>\n",
       "    </tr>\n",
       "  </tbody>\n",
       "</table>\n",
       "</div>"
      ],
      "text/plain": [
       "                                         customer_ID  prediction\n",
       "0  0f7f94e1247f12d2a38fb2b014d6be7175f51b3b4efe9b...    0.031803\n",
       "1  0f8086f7297593825bba8c654ea9d35f661089ce25ed79...    0.065177\n",
       "2  0f7fe57b8ce23fdd299b99cbcf7fac47e0cdf6459bb616...    0.060542\n",
       "3  0f81168c4911b484975ff222f75321396c546b700fa329...    0.049677\n",
       "4  0f7f94e3f0e63573b61dccc9fb3c4091ccc8d283d7b58a...    0.007995"
      ]
     },
     "execution_count": 19,
     "metadata": {},
     "output_type": "execute_result"
    }
   ],
   "source": [
    "# WRITE SUBMISSION FILE\n",
    "test_preds = np.concatenate(test_preds)\n",
    "test = cudf.DataFrame(index=customers,data={'prediction':test_preds})\n",
    "sub = cudf.read_csv('../input/amex-default-prediction/sample_submission.csv')[['customer_ID']]\n",
    "sub['customer_ID_hash'] = sub['customer_ID'].str[-16:].str.hex_to_int().astype('int64')\n",
    "sub = sub.set_index('customer_ID_hash')\n",
    "sub = sub.merge(test[['prediction']], left_index=True, right_index=True, how='left')\n",
    "sub = sub.reset_index(drop=True)\n",
    "\n",
    "# DISPLAY PREDICTIONS\n",
    "sub.to_csv(f'submission_xgb_v{VER}.csv',index=False)\n",
    "print('Submission file shape is', sub.shape )\n",
    "sub.head()"
   ]
  },
  {
   "cell_type": "code",
   "execution_count": 20,
   "id": "9840f0cf",
   "metadata": {
    "execution": {
     "iopub.execute_input": "2022-08-04T14:37:13.682680Z",
     "iopub.status.busy": "2022-08-04T14:37:13.682382Z",
     "iopub.status.idle": "2022-08-04T14:37:14.399623Z",
     "shell.execute_reply": "2022-08-04T14:37:14.398823Z"
    },
    "papermill": {
     "duration": 0.732541,
     "end_time": "2022-08-04T14:37:14.401394",
     "exception": false,
     "start_time": "2022-08-04T14:37:13.668853",
     "status": "completed"
    },
    "tags": []
   },
   "outputs": [
    {
     "data": {
      "image/png": "[encoded data removed]",
      "text/plain": [
       "<Figure size 432x288 with 1 Axes>"
      ]
     },
     "metadata": {
      "needs_background": "light"
     },
     "output_type": "display_data"
    }
   ],
   "source": [
    "# PLOT PREDICTIONS\n",
    "plt.hist(sub.to_pandas().prediction, bins=100)\n",
    "plt.title('Test Predictions')\n",
    "plt.show()"
   ]
  }
 ],
 "metadata": {
  "kernelspec": {
   "display_name": "Python 3",
   "language": "python",
   "name": "python3"
  },
  "language_info": {
   "codemirror_mode": {
    "name": "ipython",
    "version": 3
   },
   "file_extension": ".py",
   "mimetype": "text/x-python",
   "name": "python",
   "nbconvert_exporter": "python",
   "pygments_lexer": "ipython3",
   "version": "3.7.12"
  },
  "papermill": {
   "default_parameters": {},
   "duration": 431.8999,
   "end_time": "2022-08-04T14:37:15.735977",
   "environment_variables": {},
   "exception": null,
   "input_path": "__notebook__.ipynb",
   "output_path": "__notebook__.ipynb",
   "parameters": {},
   "start_time": "2022-08-04T14:30:03.836077",
   "version": "2.3.4"
  }
 },
 "nbformat": 4,
 "nbformat_minor": 5
}
