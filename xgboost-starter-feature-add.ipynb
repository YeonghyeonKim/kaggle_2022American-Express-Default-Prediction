{
 "cells": [
  {
   "cell_type": "markdown",
   "id": "4a7df0bf",
   "metadata": {
    "papermill": {
     "duration": 0.008626,
     "end_time": "2022-07-14T15:24:34.351051",
     "exception": false,
     "start_time": "2022-07-14T15:24:34.342425",
     "status": "completed"
    },
    "tags": []
   },
   "source": [
    "# XGBoost Starter - LB 0.793\n",
    "In this notebook we build and train an XGBoost model using @raddar Kaggle dataset from [here][1] with discussion [here][2]. Then we engineer features suggested by @huseyincot in his notebooks [here][3] and [here][4]. This XGB model achieves CV 0.792 LB 0.793! When training with XGB, we use a special XGB dataloader called `DeviceQuantileDMatrix` which uses a small GPU memory footprint. This allows us to engineer more additional columns and train with more rows of data. Our feature engineering is performed using [RAPIDS][5] on the GPU to create new features quickly.\n",
    "\n",
    "[1]: https://www.kaggle.com/datasets/raddar/amex-data-integer-dtypes-parquet-format\n",
    "[2]: https://www.kaggle.com/competitions/amex-default-prediction/discussion/328514\n",
    "[3]: https://www.kaggle.com/code/huseyincot/amex-catboost-0-793\n",
    "[4]: https://www.kaggle.com/code/huseyincot/amex-agg-data-how-it-created\n",
    "[5]: https://rapids.ai/"
   ]
  },
  {
   "cell_type": "markdown",
   "id": "b1e2f2df",
   "metadata": {
    "papermill": {
     "duration": 0.007693,
     "end_time": "2022-07-14T15:24:34.366543",
     "exception": false,
     "start_time": "2022-07-14T15:24:34.358850",
     "status": "completed"
    },
    "tags": []
   },
   "source": [
    "Feature Engineering I done\n",
    "1. Drop B_29, https://www.kaggle.com/code/roberthatch/amex-feature-engg-gpu-or-cpu-process-in-chunks/notebook\n",
    "2. Add each customer count (how long they used) (not normalize)\n",
    "3. Don't fill NaN (with -127)\n",
    "4. remove num_features's min, std\n",
    "5. D_39에 대한 feature 추가"
   ]
  },
  {
   "cell_type": "markdown",
   "id": "9a92ae4e",
   "metadata": {
    "papermill": {
     "duration": 0.007024,
     "end_time": "2022-07-14T15:24:34.380894",
     "exception": false,
     "start_time": "2022-07-14T15:24:34.373870",
     "status": "completed"
    },
    "tags": []
   },
   "source": [
    "# Load Libraries"
   ]
  },
  {
   "cell_type": "code",
   "execution_count": 1,
   "id": "f34eff84",
   "metadata": {
    "execution": {
     "iopub.execute_input": "2022-07-14T15:24:34.398614Z",
     "iopub.status.busy": "2022-07-14T15:24:34.397996Z",
     "iopub.status.idle": "2022-07-14T15:24:39.490994Z",
     "shell.execute_reply": "2022-07-14T15:24:39.488442Z"
    },
    "papermill": {
     "duration": 5.104739,
     "end_time": "2022-07-14T15:24:39.493370",
     "exception": false,
     "start_time": "2022-07-14T15:24:34.388631",
     "status": "completed"
    },
    "tags": []
   },
   "outputs": [
    {
     "name": "stdout",
     "output_type": "stream",
     "text": [
      "RAPIDS version 21.10.01\n"
     ]
    }
   ],
   "source": [
    "# LOAD LIBRARIES\n",
    "import pandas as pd, numpy as np # CPU libraries\n",
    "import cupy, cudf # GPU libraries\n",
    "import matplotlib.pyplot as plt, gc, os\n",
    "\n",
    "print('RAPIDS version',cudf.__version__)"
   ]
  },
  {
   "cell_type": "code",
   "execution_count": 2,
   "id": "8266372d",
   "metadata": {
    "execution": {
     "iopub.execute_input": "2022-07-14T15:24:39.511153Z",
     "iopub.status.busy": "2022-07-14T15:24:39.510264Z",
     "iopub.status.idle": "2022-07-14T15:24:39.516422Z",
     "shell.execute_reply": "2022-07-14T15:24:39.515402Z"
    },
    "papermill": {
     "duration": 0.017269,
     "end_time": "2022-07-14T15:24:39.518550",
     "exception": false,
     "start_time": "2022-07-14T15:24:39.501281",
     "status": "completed"
    },
    "tags": []
   },
   "outputs": [],
   "source": [
    "# VERSION NAME FOR SAVED MODEL FILES\n",
    "VER = 1\n",
    "\n",
    "# TRAIN RANDOM SEED\n",
    "SEED = 42\n",
    "\n",
    "# FILL NAN VALUE\n",
    "NAN_VALUE = -127 # will fit in int8\n",
    "\n",
    "# FOLDS PER MODEL\n",
    "FOLDS = 5"
   ]
  },
  {
   "cell_type": "markdown",
   "id": "41085343",
   "metadata": {
    "papermill": {
     "duration": 0.007562,
     "end_time": "2022-07-14T15:24:39.533801",
     "exception": false,
     "start_time": "2022-07-14T15:24:39.526239",
     "status": "completed"
    },
    "tags": []
   },
   "source": [
    "# Process and Feature Engineer Train Data\n",
    "We will load @raddar Kaggle dataset from [here][1] with discussion [here][2]. Then we will engineer features suggested by @huseyincot in his notebooks [here][3] and [here][4]. We will use [RAPIDS][5] and the GPU to create new features quickly.\n",
    "\n",
    "[1]: https://www.kaggle.com/datasets/raddar/amex-data-integer-dtypes-parquet-format\n",
    "[2]: https://www.kaggle.com/competitions/amex-default-prediction/discussion/328514\n",
    "[3]: https://www.kaggle.com/code/huseyincot/amex-catboost-0-793\n",
    "[4]: https://www.kaggle.com/code/huseyincot/amex-agg-data-how-it-created\n",
    "[5]: https://rapids.ai/"
   ]
  },
  {
   "cell_type": "code",
   "execution_count": 3,
   "id": "a8e84112",
   "metadata": {
    "execution": {
     "iopub.execute_input": "2022-07-14T15:24:39.550176Z",
     "iopub.status.busy": "2022-07-14T15:24:39.549861Z",
     "iopub.status.idle": "2022-07-14T15:25:02.865720Z",
     "shell.execute_reply": "2022-07-14T15:25:02.864326Z"
    },
    "papermill": {
     "duration": 23.327654,
     "end_time": "2022-07-14T15:25:02.869050",
     "exception": false,
     "start_time": "2022-07-14T15:24:39.541396",
     "status": "completed"
    },
    "tags": []
   },
   "outputs": [
    {
     "name": "stdout",
     "output_type": "stream",
     "text": [
      "Reading train data...\n",
      "shape of data: (5531451, 190)\n"
     ]
    }
   ],
   "source": [
    "def read_file(path = '', usecols = None):\n",
    "    # LOAD DATAFRAME\n",
    "    if usecols is not None: df = cudf.read_parquet(path, columns=usecols)\n",
    "    else: df = cudf.read_parquet(path)\n",
    "    # REDUCE DTYPE FOR CUSTOMER AND DATE\n",
    "    df['customer_ID'] = df['customer_ID'].str[-16:].str.hex_to_int().astype('int64')\n",
    "    df.S_2 = cudf.to_datetime( df.S_2 )\n",
    "    # SORT BY CUSTOMER AND DATE (so agg('last') works correctly)\n",
    "    #df = df.sort_values(['customer_ID','S_2'])\n",
    "    #df = df.reset_index(drop=True)\n",
    "    # FILL NAN\n",
    "#     df = df.fillna(NAN_VALUE) \n",
    "    print('shape of data:', df.shape)\n",
    "    \n",
    "    return df\n",
    "\n",
    "print('Reading train data...')\n",
    "TRAIN_PATH = '../input/amex-data-integer-dtypes-parquet-format/train.parquet'\n",
    "train = read_file(path = TRAIN_PATH)"
   ]
  },
  {
   "cell_type": "code",
   "execution_count": 4,
   "id": "822dcb1c",
   "metadata": {
    "execution": {
     "iopub.execute_input": "2022-07-14T15:25:02.887925Z",
     "iopub.status.busy": "2022-07-14T15:25:02.887035Z",
     "iopub.status.idle": "2022-07-14T15:25:03.249915Z",
     "shell.execute_reply": "2022-07-14T15:25:03.248917Z"
    },
    "papermill": {
     "duration": 0.374414,
     "end_time": "2022-07-14T15:25:03.252442",
     "exception": false,
     "start_time": "2022-07-14T15:25:02.878028",
     "status": "completed"
    },
    "tags": []
   },
   "outputs": [
    {
     "data": {
      "text/html": [
       "<div>\n",
       "<style scoped>\n",
       "    .dataframe tbody tr th:only-of-type {\n",
       "        vertical-align: middle;\n",
       "    }\n",
       "\n",
       "    .dataframe tbody tr th {\n",
       "        vertical-align: top;\n",
       "    }\n",
       "\n",
       "    .dataframe thead th {\n",
       "        text-align: right;\n",
       "    }\n",
       "</style>\n",
       "<table border=\"1\" class=\"dataframe\">\n",
       "  <thead>\n",
       "    <tr style=\"text-align: right;\">\n",
       "      <th></th>\n",
       "      <th>customer_ID</th>\n",
       "      <th>S_2</th>\n",
       "      <th>P_2</th>\n",
       "      <th>D_39</th>\n",
       "      <th>B_1</th>\n",
       "      <th>B_2</th>\n",
       "      <th>R_1</th>\n",
       "      <th>S_3</th>\n",
       "      <th>D_41</th>\n",
       "      <th>B_3</th>\n",
       "      <th>...</th>\n",
       "      <th>D_136</th>\n",
       "      <th>D_137</th>\n",
       "      <th>D_138</th>\n",
       "      <th>D_139</th>\n",
       "      <th>D_140</th>\n",
       "      <th>D_141</th>\n",
       "      <th>D_142</th>\n",
       "      <th>D_143</th>\n",
       "      <th>D_144</th>\n",
       "      <th>D_145</th>\n",
       "    </tr>\n",
       "  </thead>\n",
       "  <tbody>\n",
       "    <tr>\n",
       "      <th>0</th>\n",
       "      <td>-4532153018459703766</td>\n",
       "      <td>2017-03-09</td>\n",
       "      <td>0.938469</td>\n",
       "      <td>0</td>\n",
       "      <td>0.008724</td>\n",
       "      <td>1.006838</td>\n",
       "      <td>0.009228</td>\n",
       "      <td>0.124035</td>\n",
       "      <td>0.0</td>\n",
       "      <td>0.004709</td>\n",
       "      <td>...</td>\n",
       "      <td>-1</td>\n",
       "      <td>-1</td>\n",
       "      <td>-1</td>\n",
       "      <td>0</td>\n",
       "      <td>0</td>\n",
       "      <td>0.0</td>\n",
       "      <td>&lt;NA&gt;</td>\n",
       "      <td>0</td>\n",
       "      <td>0.000610</td>\n",
       "      <td>0</td>\n",
       "    </tr>\n",
       "    <tr>\n",
       "      <th>1</th>\n",
       "      <td>-4532153018459703766</td>\n",
       "      <td>2017-04-07</td>\n",
       "      <td>0.936665</td>\n",
       "      <td>0</td>\n",
       "      <td>0.004923</td>\n",
       "      <td>1.000653</td>\n",
       "      <td>0.006151</td>\n",
       "      <td>0.126750</td>\n",
       "      <td>0.0</td>\n",
       "      <td>0.002714</td>\n",
       "      <td>...</td>\n",
       "      <td>-1</td>\n",
       "      <td>-1</td>\n",
       "      <td>-1</td>\n",
       "      <td>0</td>\n",
       "      <td>0</td>\n",
       "      <td>0.0</td>\n",
       "      <td>&lt;NA&gt;</td>\n",
       "      <td>0</td>\n",
       "      <td>0.005492</td>\n",
       "      <td>0</td>\n",
       "    </tr>\n",
       "    <tr>\n",
       "      <th>2</th>\n",
       "      <td>-4532153018459703766</td>\n",
       "      <td>2017-05-28</td>\n",
       "      <td>0.954180</td>\n",
       "      <td>3</td>\n",
       "      <td>0.021655</td>\n",
       "      <td>1.009672</td>\n",
       "      <td>0.006815</td>\n",
       "      <td>0.123977</td>\n",
       "      <td>0.0</td>\n",
       "      <td>0.009423</td>\n",
       "      <td>...</td>\n",
       "      <td>-1</td>\n",
       "      <td>-1</td>\n",
       "      <td>-1</td>\n",
       "      <td>0</td>\n",
       "      <td>0</td>\n",
       "      <td>0.0</td>\n",
       "      <td>&lt;NA&gt;</td>\n",
       "      <td>0</td>\n",
       "      <td>0.006986</td>\n",
       "      <td>0</td>\n",
       "    </tr>\n",
       "    <tr>\n",
       "      <th>3</th>\n",
       "      <td>-4532153018459703766</td>\n",
       "      <td>2017-06-13</td>\n",
       "      <td>0.960384</td>\n",
       "      <td>0</td>\n",
       "      <td>0.013683</td>\n",
       "      <td>1.002700</td>\n",
       "      <td>0.001373</td>\n",
       "      <td>0.117169</td>\n",
       "      <td>0.0</td>\n",
       "      <td>0.005531</td>\n",
       "      <td>...</td>\n",
       "      <td>-1</td>\n",
       "      <td>-1</td>\n",
       "      <td>-1</td>\n",
       "      <td>0</td>\n",
       "      <td>0</td>\n",
       "      <td>0.0</td>\n",
       "      <td>&lt;NA&gt;</td>\n",
       "      <td>0</td>\n",
       "      <td>0.006527</td>\n",
       "      <td>0</td>\n",
       "    </tr>\n",
       "    <tr>\n",
       "      <th>4</th>\n",
       "      <td>-4532153018459703766</td>\n",
       "      <td>2017-07-16</td>\n",
       "      <td>0.947248</td>\n",
       "      <td>0</td>\n",
       "      <td>0.015193</td>\n",
       "      <td>1.000727</td>\n",
       "      <td>0.007605</td>\n",
       "      <td>0.117325</td>\n",
       "      <td>0.0</td>\n",
       "      <td>0.009312</td>\n",
       "      <td>...</td>\n",
       "      <td>-1</td>\n",
       "      <td>-1</td>\n",
       "      <td>-1</td>\n",
       "      <td>0</td>\n",
       "      <td>0</td>\n",
       "      <td>0.0</td>\n",
       "      <td>&lt;NA&gt;</td>\n",
       "      <td>0</td>\n",
       "      <td>0.008126</td>\n",
       "      <td>0</td>\n",
       "    </tr>\n",
       "  </tbody>\n",
       "</table>\n",
       "<p>5 rows × 190 columns</p>\n",
       "</div>"
      ],
      "text/plain": [
       "           customer_ID        S_2       P_2  D_39       B_1       B_2  \\\n",
       "0 -4532153018459703766 2017-03-09  0.938469     0  0.008724  1.006838   \n",
       "1 -4532153018459703766 2017-04-07  0.936665     0  0.004923  1.000653   \n",
       "2 -4532153018459703766 2017-05-28  0.954180     3  0.021655  1.009672   \n",
       "3 -4532153018459703766 2017-06-13  0.960384     0  0.013683  1.002700   \n",
       "4 -4532153018459703766 2017-07-16  0.947248     0  0.015193  1.000727   \n",
       "\n",
       "        R_1       S_3  D_41       B_3  ... D_136  D_137  D_138  D_139  D_140  \\\n",
       "0  0.009228  0.124035   0.0  0.004709  ...    -1     -1     -1      0      0   \n",
       "1  0.006151  0.126750   0.0  0.002714  ...    -1     -1     -1      0      0   \n",
       "2  0.006815  0.123977   0.0  0.009423  ...    -1     -1     -1      0      0   \n",
       "3  0.001373  0.117169   0.0  0.005531  ...    -1     -1     -1      0      0   \n",
       "4  0.007605  0.117325   0.0  0.009312  ...    -1     -1     -1      0      0   \n",
       "\n",
       "   D_141  D_142 D_143     D_144  D_145  \n",
       "0    0.0   <NA>     0  0.000610      0  \n",
       "1    0.0   <NA>     0  0.005492      0  \n",
       "2    0.0   <NA>     0  0.006986      0  \n",
       "3    0.0   <NA>     0  0.006527      0  \n",
       "4    0.0   <NA>     0  0.008126      0  \n",
       "\n",
       "[5 rows x 190 columns]"
      ]
     },
     "execution_count": 4,
     "metadata": {},
     "output_type": "execute_result"
    }
   ],
   "source": [
    "train.head()"
   ]
  },
  {
   "cell_type": "code",
   "execution_count": 5,
   "id": "d728fa83",
   "metadata": {
    "execution": {
     "iopub.execute_input": "2022-07-14T15:25:03.271084Z",
     "iopub.status.busy": "2022-07-14T15:25:03.270129Z",
     "iopub.status.idle": "2022-07-14T15:25:06.249908Z",
     "shell.execute_reply": "2022-07-14T15:25:06.248186Z"
    },
    "papermill": {
     "duration": 2.994358,
     "end_time": "2022-07-14T15:25:06.255072",
     "exception": false,
     "start_time": "2022-07-14T15:25:03.260714",
     "status": "completed"
    },
    "tags": []
   },
   "outputs": [
    {
     "name": "stdout",
     "output_type": "stream",
     "text": [
      "shape after engineering (458913, 562)\n"
     ]
    }
   ],
   "source": [
    "def process_and_feature_engineer(df):\n",
    "    # FEATURE ENGINEERING FROM \n",
    "    # https://www.kaggle.com/code/huseyincot/amex-agg-data-how-it-created\n",
    "    \n",
    "#     1) Drop 'B_29'\n",
    "    df.drop(['B_29'], inplace=True, axis=1)\n",
    "\n",
    "    all_cols = [c for c in list(df.columns) if c not in ['customer_ID','S_2']]\n",
    "    cat_features = [\"B_30\",\"B_38\",\"D_114\",\"D_116\",\"D_117\",\"D_120\",\"D_126\",\"D_63\",\"D_64\",\"D_66\",\"D_68\"]\n",
    "    num_features = [col for col in all_cols if col not in cat_features]\n",
    "    \n",
    "#     2) Add customer count\n",
    "    test_count_agg = df.groupby(['customer_ID'])['S_2'].agg(['count'])\n",
    "\n",
    "#     5) D_39에 대한 feature 추가\n",
    "    df['D_39_div30'] = df['D_39']/30\n",
    "\n",
    "    test_num_agg = df.groupby(\"customer_ID\")[num_features].agg(['mean', 'max', 'last'])\n",
    "    test_num_agg.columns = ['_'.join(x) for x in test_num_agg.columns]\n",
    "\n",
    "    test_cat_agg = df.groupby(\"customer_ID\")[cat_features].agg(['count', 'last', 'nunique'])\n",
    "    test_cat_agg.columns = ['_'.join(x) for x in test_cat_agg.columns]\n",
    "\n",
    "    df = cudf.concat([test_count_agg,test_num_agg, test_cat_agg], axis=1)\n",
    "    del test_num_agg, test_cat_agg\n",
    "    print('shape after engineering', df.shape )\n",
    "    \n",
    "    return df\n",
    "\n",
    "train = process_and_feature_engineer(train)"
   ]
  },
  {
   "cell_type": "code",
   "execution_count": 6,
   "id": "92b9647e",
   "metadata": {
    "execution": {
     "iopub.execute_input": "2022-07-14T15:25:06.286864Z",
     "iopub.status.busy": "2022-07-14T15:25:06.286406Z",
     "iopub.status.idle": "2022-07-14T15:25:07.399795Z",
     "shell.execute_reply": "2022-07-14T15:25:07.398683Z"
    },
    "papermill": {
     "duration": 1.131237,
     "end_time": "2022-07-14T15:25:07.402611",
     "exception": false,
     "start_time": "2022-07-14T15:25:06.271374",
     "status": "completed"
    },
    "tags": []
   },
   "outputs": [
    {
     "name": "stdout",
     "output_type": "stream",
     "text": [
      "There are 562 features!\n"
     ]
    }
   ],
   "source": [
    "# ADD TARGETS\n",
    "targets = cudf.read_csv('../input/amex-default-prediction/train_labels.csv')\n",
    "targets['customer_ID'] = targets['customer_ID'].str[-16:].str.hex_to_int().astype('int64')\n",
    "targets = targets.set_index('customer_ID')\n",
    "train = train.merge(targets, left_index=True, right_index=True, how='left')\n",
    "train.target = train.target.astype('int8')\n",
    "del targets\n",
    "\n",
    "# NEEDED TO MAKE CV DETERMINISTIC (cudf merge above randomly shuffles rows)\n",
    "train = train.sort_index().reset_index()\n",
    "\n",
    "# FEATURES\n",
    "FEATURES = train.columns[1:-1]\n",
    "print(f'There are {len(FEATURES)} features!')"
   ]
  },
  {
   "cell_type": "markdown",
   "id": "28129003",
   "metadata": {
    "papermill": {
     "duration": 0.008105,
     "end_time": "2022-07-14T15:25:07.419431",
     "exception": false,
     "start_time": "2022-07-14T15:25:07.411326",
     "status": "completed"
    },
    "tags": []
   },
   "source": [
    "# Train XGB\n",
    "We will train using `DeviceQuantileDMatrix`. This has a very small GPU memory footprint."
   ]
  },
  {
   "cell_type": "code",
   "execution_count": 7,
   "id": "bbd5fc26",
   "metadata": {
    "execution": {
     "iopub.execute_input": "2022-07-14T15:25:07.437494Z",
     "iopub.status.busy": "2022-07-14T15:25:07.437194Z",
     "iopub.status.idle": "2022-07-14T15:25:07.553625Z",
     "shell.execute_reply": "2022-07-14T15:25:07.552014Z"
    },
    "papermill": {
     "duration": 0.129263,
     "end_time": "2022-07-14T15:25:07.556830",
     "exception": false,
     "start_time": "2022-07-14T15:25:07.427567",
     "status": "completed"
    },
    "tags": []
   },
   "outputs": [
    {
     "name": "stdout",
     "output_type": "stream",
     "text": [
      "XGB Version 1.6.1\n"
     ]
    }
   ],
   "source": [
    "# LOAD XGB LIBRARY\n",
    "from sklearn.model_selection import KFold\n",
    "import xgboost as xgb\n",
    "print('XGB Version',xgb.__version__)\n",
    "\n",
    "# XGB MODEL PARAMETERS\n",
    "xgb_parms = { \n",
    "    'max_depth':4, \n",
    "    'learning_rate':0.05, \n",
    "    'subsample':0.8,\n",
    "    'colsample_bytree':0.6, \n",
    "    'eval_metric':'logloss',\n",
    "    'objective':'binary:logistic',\n",
    "    'tree_method':'gpu_hist',\n",
    "    'predictor':'gpu_predictor',\n",
    "    'random_state':SEED\n",
    "}"
   ]
  },
  {
   "cell_type": "code",
   "execution_count": 8,
   "id": "4a6da777",
   "metadata": {
    "execution": {
     "iopub.execute_input": "2022-07-14T15:25:07.575713Z",
     "iopub.status.busy": "2022-07-14T15:25:07.575403Z",
     "iopub.status.idle": "2022-07-14T15:25:07.585939Z",
     "shell.execute_reply": "2022-07-14T15:25:07.584794Z"
    },
    "papermill": {
     "duration": 0.022326,
     "end_time": "2022-07-14T15:25:07.588577",
     "exception": false,
     "start_time": "2022-07-14T15:25:07.566251",
     "status": "completed"
    },
    "tags": []
   },
   "outputs": [],
   "source": [
    "# NEEDED WITH DeviceQuantileDMatrix BELOW\n",
    "class IterLoadForDMatrix(xgb.core.DataIter):\n",
    "    def __init__(self, df=None, features=None, target=None, batch_size=256*1024):\n",
    "        self.features = features\n",
    "        self.target = target\n",
    "        self.df = df\n",
    "        self.it = 0 # set iterator to 0\n",
    "        self.batch_size = batch_size\n",
    "        self.batches = int( np.ceil( len(df) / self.batch_size ) )\n",
    "        super().__init__()\n",
    "\n",
    "    def reset(self):\n",
    "        '''Reset the iterator'''\n",
    "        self.it = 0\n",
    "\n",
    "    def next(self, input_data):\n",
    "        '''Yield next batch of data.'''\n",
    "        if self.it == self.batches:\n",
    "            return 0 # Return 0 when there's no more batch.\n",
    "        \n",
    "        a = self.it * self.batch_size\n",
    "        b = min( (self.it + 1) * self.batch_size, len(self.df) )\n",
    "        dt = cudf.DataFrame(self.df.iloc[a:b])\n",
    "        input_data(data=dt[self.features], label=dt[self.target]) #, weight=dt['weight'])\n",
    "        self.it += 1\n",
    "        return 1"
   ]
  },
  {
   "cell_type": "code",
   "execution_count": 9,
   "id": "16aa3d61",
   "metadata": {
    "execution": {
     "iopub.execute_input": "2022-07-14T15:25:07.608255Z",
     "iopub.status.busy": "2022-07-14T15:25:07.607839Z",
     "iopub.status.idle": "2022-07-14T15:25:07.619043Z",
     "shell.execute_reply": "2022-07-14T15:25:07.617778Z"
    },
    "papermill": {
     "duration": 0.024517,
     "end_time": "2022-07-14T15:25:07.621879",
     "exception": false,
     "start_time": "2022-07-14T15:25:07.597362",
     "status": "completed"
    },
    "tags": []
   },
   "outputs": [],
   "source": [
    "# https://www.kaggle.com/kyakovlev\n",
    "# https://www.kaggle.com/competitions/amex-default-prediction/discussion/327534\n",
    "def amex_metric_mod(y_true, y_pred):\n",
    "\n",
    "    labels     = np.transpose(np.array([y_true, y_pred]))\n",
    "    labels     = labels[labels[:, 1].argsort()[::-1]]\n",
    "    weights    = np.where(labels[:,0]==0, 20, 1)\n",
    "    cut_vals   = labels[np.cumsum(weights) <= int(0.04 * np.sum(weights))]\n",
    "    top_four   = np.sum(cut_vals[:,0]) / np.sum(labels[:,0])\n",
    "\n",
    "    gini = [0,0]\n",
    "    for i in [1,0]:\n",
    "        labels         = np.transpose(np.array([y_true, y_pred]))\n",
    "        labels         = labels[labels[:, i].argsort()[::-1]]\n",
    "        weight         = np.where(labels[:,0]==0, 20, 1)\n",
    "        weight_random  = np.cumsum(weight / np.sum(weight))\n",
    "        total_pos      = np.sum(labels[:, 0] *  weight)\n",
    "        cum_pos_found  = np.cumsum(labels[:, 0] * weight)\n",
    "        lorentz        = cum_pos_found / total_pos\n",
    "        gini[i]        = np.sum((lorentz - weight_random) * weight)\n",
    "\n",
    "    return 0.5 * (gini[1]/gini[0] + top_four)"
   ]
  },
  {
   "cell_type": "code",
   "execution_count": 10,
   "id": "c2b1a847",
   "metadata": {
    "execution": {
     "iopub.execute_input": "2022-07-14T15:25:07.640522Z",
     "iopub.status.busy": "2022-07-14T15:25:07.640217Z",
     "iopub.status.idle": "2022-07-14T15:31:23.061940Z",
     "shell.execute_reply": "2022-07-14T15:31:23.060777Z"
    },
    "papermill": {
     "duration": 375.434055,
     "end_time": "2022-07-14T15:31:23.064517",
     "exception": false,
     "start_time": "2022-07-14T15:25:07.630462",
     "status": "completed"
    },
    "scrolled": true,
    "tags": []
   },
   "outputs": [
    {
     "name": "stdout",
     "output_type": "stream",
     "text": [
      "#########################\n",
      "### Fold 1\n",
      "### Train size 367130 Valid size 91783\n",
      "### Training with 100% fold data...\n",
      "#########################\n",
      "[0]\ttrain-logloss:0.66337\tvalid-logloss:0.66337\n",
      "[100]\ttrain-logloss:0.23717\tvalid-logloss:0.23959\n",
      "[200]\ttrain-logloss:0.22274\tvalid-logloss:0.22762\n",
      "[300]\ttrain-logloss:0.21670\tvalid-logloss:0.22357\n",
      "[400]\ttrain-logloss:0.21279\tvalid-logloss:0.22158\n",
      "[500]\ttrain-logloss:0.20963\tvalid-logloss:0.22032\n",
      "[600]\ttrain-logloss:0.20701\tvalid-logloss:0.21950\n",
      "[700]\ttrain-logloss:0.20462\tvalid-logloss:0.21892\n",
      "[800]\ttrain-logloss:0.20237\tvalid-logloss:0.21848\n",
      "[900]\ttrain-logloss:0.20031\tvalid-logloss:0.21823\n",
      "[1000]\ttrain-logloss:0.19835\tvalid-logloss:0.21797\n",
      "[1100]\ttrain-logloss:0.19643\tvalid-logloss:0.21782\n",
      "[1200]\ttrain-logloss:0.19460\tvalid-logloss:0.21770\n",
      "[1300]\ttrain-logloss:0.19286\tvalid-logloss:0.21759\n",
      "[1400]\ttrain-logloss:0.19115\tvalid-logloss:0.21749\n",
      "[1500]\ttrain-logloss:0.18945\tvalid-logloss:0.21742\n",
      "[1600]\ttrain-logloss:0.18781\tvalid-logloss:0.21736\n",
      "[1700]\ttrain-logloss:0.18623\tvalid-logloss:0.21732\n",
      "[1800]\ttrain-logloss:0.18464\tvalid-logloss:0.21726\n",
      "[1889]\ttrain-logloss:0.18326\tvalid-logloss:0.21727\n",
      "Kaggle Metric = 0.7927882402070798 \n",
      "\n",
      "#########################\n",
      "### Fold 2\n",
      "### Train size 367130 Valid size 91783\n",
      "### Training with 100% fold data...\n",
      "#########################\n",
      "[0]\ttrain-logloss:0.66351\tvalid-logloss:0.66339\n",
      "[100]\ttrain-logloss:0.23747\tvalid-logloss:0.23841\n",
      "[200]\ttrain-logloss:0.22312\tvalid-logloss:0.22601\n",
      "[300]\ttrain-logloss:0.21711\tvalid-logloss:0.22205\n",
      "[400]\ttrain-logloss:0.21306\tvalid-logloss:0.21999\n",
      "[500]\ttrain-logloss:0.21001\tvalid-logloss:0.21891\n",
      "[600]\ttrain-logloss:0.20730\tvalid-logloss:0.21812\n",
      "[700]\ttrain-logloss:0.20491\tvalid-logloss:0.21762\n",
      "[800]\ttrain-logloss:0.20273\tvalid-logloss:0.21713\n",
      "[900]\ttrain-logloss:0.20063\tvalid-logloss:0.21688\n",
      "[1000]\ttrain-logloss:0.19869\tvalid-logloss:0.21667\n",
      "[1100]\ttrain-logloss:0.19677\tvalid-logloss:0.21651\n",
      "[1200]\ttrain-logloss:0.19505\tvalid-logloss:0.21648\n",
      "[1300]\ttrain-logloss:0.19329\tvalid-logloss:0.21639\n",
      "[1400]\ttrain-logloss:0.19154\tvalid-logloss:0.21631\n",
      "[1500]\ttrain-logloss:0.18983\tvalid-logloss:0.21626\n",
      "[1600]\ttrain-logloss:0.18817\tvalid-logloss:0.21625\n",
      "[1700]\ttrain-logloss:0.18650\tvalid-logloss:0.21620\n",
      "[1800]\ttrain-logloss:0.18488\tvalid-logloss:0.21621\n",
      "[1819]\ttrain-logloss:0.18459\tvalid-logloss:0.21619\n",
      "Kaggle Metric = 0.7939460346129512 \n",
      "\n",
      "#########################\n",
      "### Fold 3\n",
      "### Train size 367130 Valid size 91783\n",
      "### Training with 100% fold data...\n",
      "#########################\n",
      "[0]\ttrain-logloss:0.66331\tvalid-logloss:0.66343\n",
      "[100]\ttrain-logloss:0.23674\tvalid-logloss:0.24082\n",
      "[200]\ttrain-logloss:0.22245\tvalid-logloss:0.22898\n",
      "[300]\ttrain-logloss:0.21646\tvalid-logloss:0.22492\n",
      "[400]\ttrain-logloss:0.21248\tvalid-logloss:0.22289\n",
      "[500]\ttrain-logloss:0.20932\tvalid-logloss:0.22172\n",
      "[600]\ttrain-logloss:0.20663\tvalid-logloss:0.22087\n",
      "[700]\ttrain-logloss:0.20424\tvalid-logloss:0.22026\n",
      "[800]\ttrain-logloss:0.20212\tvalid-logloss:0.21992\n",
      "[900]\ttrain-logloss:0.20002\tvalid-logloss:0.21958\n",
      "[1000]\ttrain-logloss:0.19804\tvalid-logloss:0.21944\n",
      "[1100]\ttrain-logloss:0.19615\tvalid-logloss:0.21930\n",
      "[1200]\ttrain-logloss:0.19431\tvalid-logloss:0.21912\n",
      "[1300]\ttrain-logloss:0.19253\tvalid-logloss:0.21908\n",
      "[1400]\ttrain-logloss:0.19078\tvalid-logloss:0.21897\n",
      "[1500]\ttrain-logloss:0.18910\tvalid-logloss:0.21889\n",
      "[1596]\ttrain-logloss:0.18746\tvalid-logloss:0.21891\n",
      "Kaggle Metric = 0.7909692985483116 \n",
      "\n",
      "#########################\n",
      "### Fold 4\n",
      "### Train size 367131 Valid size 91782\n",
      "### Training with 100% fold data...\n",
      "#########################\n",
      "[0]\ttrain-logloss:0.66333\tvalid-logloss:0.66346\n",
      "[100]\ttrain-logloss:0.23681\tvalid-logloss:0.24136\n",
      "[200]\ttrain-logloss:0.22235\tvalid-logloss:0.22921\n",
      "[300]\ttrain-logloss:0.21626\tvalid-logloss:0.22527\n",
      "[400]\ttrain-logloss:0.21229\tvalid-logloss:0.22338\n",
      "[500]\ttrain-logloss:0.20918\tvalid-logloss:0.22228\n",
      "[600]\ttrain-logloss:0.20639\tvalid-logloss:0.22147\n",
      "[700]\ttrain-logloss:0.20400\tvalid-logloss:0.22093\n",
      "[800]\ttrain-logloss:0.20171\tvalid-logloss:0.22054\n",
      "[900]\ttrain-logloss:0.19969\tvalid-logloss:0.22032\n",
      "[1000]\ttrain-logloss:0.19768\tvalid-logloss:0.22007\n",
      "[1100]\ttrain-logloss:0.19578\tvalid-logloss:0.21994\n",
      "[1200]\ttrain-logloss:0.19395\tvalid-logloss:0.21986\n",
      "[1300]\ttrain-logloss:0.19212\tvalid-logloss:0.21970\n",
      "[1400]\ttrain-logloss:0.19038\tvalid-logloss:0.21967\n",
      "[1500]\ttrain-logloss:0.18867\tvalid-logloss:0.21957\n",
      "[1600]\ttrain-logloss:0.18705\tvalid-logloss:0.21956\n",
      "[1666]\ttrain-logloss:0.18599\tvalid-logloss:0.21954\n",
      "Kaggle Metric = 0.7876463674646274 \n",
      "\n",
      "#########################\n",
      "### Fold 5\n",
      "### Train size 367131 Valid size 91782\n",
      "### Training with 100% fold data...\n",
      "#########################\n",
      "[0]\ttrain-logloss:0.66339\tvalid-logloss:0.66339\n",
      "[100]\ttrain-logloss:0.23735\tvalid-logloss:0.23780\n",
      "[200]\ttrain-logloss:0.22309\tvalid-logloss:0.22555\n",
      "[300]\ttrain-logloss:0.21718\tvalid-logloss:0.22161\n",
      "[400]\ttrain-logloss:0.21323\tvalid-logloss:0.21954\n",
      "[500]\ttrain-logloss:0.21014\tvalid-logloss:0.21833\n",
      "[600]\ttrain-logloss:0.20749\tvalid-logloss:0.21764\n",
      "[700]\ttrain-logloss:0.20504\tvalid-logloss:0.21713\n",
      "[800]\ttrain-logloss:0.20282\tvalid-logloss:0.21673\n",
      "[900]\ttrain-logloss:0.20074\tvalid-logloss:0.21641\n",
      "[1000]\ttrain-logloss:0.19875\tvalid-logloss:0.21620\n",
      "[1100]\ttrain-logloss:0.19682\tvalid-logloss:0.21596\n",
      "[1200]\ttrain-logloss:0.19494\tvalid-logloss:0.21581\n",
      "[1300]\ttrain-logloss:0.19312\tvalid-logloss:0.21566\n",
      "[1400]\ttrain-logloss:0.19141\tvalid-logloss:0.21562\n",
      "[1500]\ttrain-logloss:0.18974\tvalid-logloss:0.21555\n",
      "[1600]\ttrain-logloss:0.18807\tvalid-logloss:0.21548\n",
      "[1700]\ttrain-logloss:0.18648\tvalid-logloss:0.21543\n",
      "[1800]\ttrain-logloss:0.18482\tvalid-logloss:0.21538\n",
      "[1900]\ttrain-logloss:0.18326\tvalid-logloss:0.21538\n",
      "[1942]\ttrain-logloss:0.18260\tvalid-logloss:0.21539\n",
      "Kaggle Metric = 0.7951435528277131 \n",
      "\n",
      "#########################\n",
      "OVERALL CV Kaggle Metric = 0.7920618996777669\n"
     ]
    }
   ],
   "source": [
    "importances = []\n",
    "oof = []\n",
    "train = train.to_pandas() # free GPU memory\n",
    "TRAIN_SUBSAMPLE = 1.0\n",
    "gc.collect()\n",
    "\n",
    "skf = KFold(n_splits=FOLDS, shuffle=True, random_state=SEED)\n",
    "for fold,(train_idx, valid_idx) in enumerate(skf.split(\n",
    "            train, train.target )):\n",
    "    \n",
    "    # TRAIN WITH SUBSAMPLE OF TRAIN FOLD DATA\n",
    "    if TRAIN_SUBSAMPLE<1.0:\n",
    "        np.random.seed(SEED)\n",
    "        train_idx = np.random.choice(train_idx, \n",
    "                       int(len(train_idx)*TRAIN_SUBSAMPLE), replace=False)\n",
    "        np.random.seed(None)\n",
    "    \n",
    "    print('#'*25)\n",
    "    print('### Fold',fold+1)\n",
    "    print('### Train size',len(train_idx),'Valid size',len(valid_idx))\n",
    "    print(f'### Training with {int(TRAIN_SUBSAMPLE*100)}% fold data...')\n",
    "    print('#'*25)\n",
    "    \n",
    "    # TRAIN, VALID, TEST FOR FOLD K\n",
    "    Xy_train = IterLoadForDMatrix(train.loc[train_idx], FEATURES, 'target')\n",
    "    X_valid = train.loc[valid_idx, FEATURES]\n",
    "    y_valid = train.loc[valid_idx, 'target']\n",
    "    \n",
    "    dtrain = xgb.DeviceQuantileDMatrix(Xy_train, max_bin=256)\n",
    "    dvalid = xgb.DMatrix(data=X_valid, label=y_valid)\n",
    "    \n",
    "    # TRAIN MODEL FOLD K\n",
    "    model = xgb.train(xgb_parms, \n",
    "                dtrain=dtrain,\n",
    "                evals=[(dtrain,'train'),(dvalid,'valid')],\n",
    "                num_boost_round=9999,\n",
    "                early_stopping_rounds=100,\n",
    "                verbose_eval=100) \n",
    "    model.save_model(f'XGB_v{VER}_fold{fold}.xgb')\n",
    "    \n",
    "    # GET FEATURE IMPORTANCE FOR FOLD K\n",
    "    dd = model.get_score(importance_type='weight')\n",
    "    df = pd.DataFrame({'feature':dd.keys(),f'importance_{fold}':dd.values()})\n",
    "    importances.append(df)\n",
    "            \n",
    "    # INFER OOF FOLD K\n",
    "    oof_preds = model.predict(dvalid)\n",
    "    acc = amex_metric_mod(y_valid.values, oof_preds)\n",
    "    print('Kaggle Metric =',acc,'\\n')\n",
    "    \n",
    "    # SAVE OOF\n",
    "    df = train.loc[valid_idx, ['customer_ID','target'] ].copy()\n",
    "    df['oof_pred'] = oof_preds\n",
    "    oof.append( df )\n",
    "    \n",
    "    del dtrain, Xy_train, dd, df\n",
    "    del X_valid, y_valid, dvalid, model\n",
    "    _ = gc.collect()\n",
    "    \n",
    "print('#'*25)\n",
    "oof = pd.concat(oof,axis=0,ignore_index=True).set_index('customer_ID')\n",
    "acc = amex_metric_mod(oof.target.values, oof.oof_pred.values)\n",
    "print('OVERALL CV Kaggle Metric =',acc)"
   ]
  },
  {
   "cell_type": "code",
   "execution_count": 11,
   "id": "df7527a1",
   "metadata": {
    "execution": {
     "iopub.execute_input": "2022-07-14T15:31:23.096803Z",
     "iopub.status.busy": "2022-07-14T15:31:23.096479Z",
     "iopub.status.idle": "2022-07-14T15:31:23.241236Z",
     "shell.execute_reply": "2022-07-14T15:31:23.239911Z"
    },
    "papermill": {
     "duration": 0.163252,
     "end_time": "2022-07-14T15:31:23.243629",
     "exception": false,
     "start_time": "2022-07-14T15:31:23.080377",
     "status": "completed"
    },
    "tags": []
   },
   "outputs": [],
   "source": [
    "# CLEAN RAM\n",
    "del train\n",
    "_ = gc.collect()"
   ]
  },
  {
   "cell_type": "markdown",
   "id": "4e718b65",
   "metadata": {
    "papermill": {
     "duration": 0.014751,
     "end_time": "2022-07-14T15:31:23.273745",
     "exception": false,
     "start_time": "2022-07-14T15:31:23.258994",
     "status": "completed"
    },
    "tags": []
   },
   "source": [
    "# Save OOF Preds"
   ]
  },
  {
   "cell_type": "code",
   "execution_count": 12,
   "id": "435460ac",
   "metadata": {
    "execution": {
     "iopub.execute_input": "2022-07-14T15:31:23.306493Z",
     "iopub.status.busy": "2022-07-14T15:31:23.305885Z",
     "iopub.status.idle": "2022-07-14T15:31:28.862666Z",
     "shell.execute_reply": "2022-07-14T15:31:28.861617Z"
    },
    "papermill": {
     "duration": 5.575476,
     "end_time": "2022-07-14T15:31:28.864883",
     "exception": false,
     "start_time": "2022-07-14T15:31:23.289407",
     "status": "completed"
    },
    "tags": []
   },
   "outputs": [
    {
     "data": {
      "text/html": [
       "<div>\n",
       "<style scoped>\n",
       "    .dataframe tbody tr th:only-of-type {\n",
       "        vertical-align: middle;\n",
       "    }\n",
       "\n",
       "    .dataframe tbody tr th {\n",
       "        vertical-align: top;\n",
       "    }\n",
       "\n",
       "    .dataframe thead th {\n",
       "        text-align: right;\n",
       "    }\n",
       "</style>\n",
       "<table border=\"1\" class=\"dataframe\">\n",
       "  <thead>\n",
       "    <tr style=\"text-align: right;\">\n",
       "      <th></th>\n",
       "      <th>customer_ID</th>\n",
       "      <th>target</th>\n",
       "      <th>oof_pred</th>\n",
       "    </tr>\n",
       "  </thead>\n",
       "  <tbody>\n",
       "    <tr>\n",
       "      <th>0</th>\n",
       "      <td>20eac26171c3d251c55fc78204e59fab1c15fc2bc96d0c...</td>\n",
       "      <td>1</td>\n",
       "      <td>0.744343</td>\n",
       "    </tr>\n",
       "    <tr>\n",
       "      <th>1</th>\n",
       "      <td>aea50fdf9b974ccec95fa177c3225a0f913483b457de6e...</td>\n",
       "      <td>0</td>\n",
       "      <td>0.000232</td>\n",
       "    </tr>\n",
       "    <tr>\n",
       "      <th>2</th>\n",
       "      <td>32cd2d41aef737b69089882754395925c96eaee1f4a859...</td>\n",
       "      <td>0</td>\n",
       "      <td>0.001279</td>\n",
       "    </tr>\n",
       "    <tr>\n",
       "      <th>3</th>\n",
       "      <td>8daa6d5dc2655a8a437531e6b8b96829113cdfe9bf6cae...</td>\n",
       "      <td>0</td>\n",
       "      <td>0.011114</td>\n",
       "    </tr>\n",
       "    <tr>\n",
       "      <th>4</th>\n",
       "      <td>0ceba351a3851202542feb49d7385bcef32f6037fc57c7...</td>\n",
       "      <td>1</td>\n",
       "      <td>0.912165</td>\n",
       "    </tr>\n",
       "  </tbody>\n",
       "</table>\n",
       "</div>"
      ],
      "text/plain": [
       "                                         customer_ID  target  oof_pred\n",
       "0  20eac26171c3d251c55fc78204e59fab1c15fc2bc96d0c...       1  0.744343\n",
       "1  aea50fdf9b974ccec95fa177c3225a0f913483b457de6e...       0  0.000232\n",
       "2  32cd2d41aef737b69089882754395925c96eaee1f4a859...       0  0.001279\n",
       "3  8daa6d5dc2655a8a437531e6b8b96829113cdfe9bf6cae...       0  0.011114\n",
       "4  0ceba351a3851202542feb49d7385bcef32f6037fc57c7...       1  0.912165"
      ]
     },
     "execution_count": 12,
     "metadata": {},
     "output_type": "execute_result"
    }
   ],
   "source": [
    "oof_xgb = pd.read_parquet(TRAIN_PATH, columns=['customer_ID']).drop_duplicates()\n",
    "oof_xgb['customer_ID_hash'] = oof_xgb['customer_ID'].apply(lambda x: int(x[-16:],16) ).astype('int64')\n",
    "oof_xgb = oof_xgb.set_index('customer_ID_hash')\n",
    "oof_xgb = oof_xgb.merge(oof, left_index=True, right_index=True)\n",
    "oof_xgb = oof_xgb.sort_index().reset_index(drop=True)\n",
    "oof_xgb.to_csv(f'oof_xgb_v{VER}.csv',index=False)\n",
    "oof_xgb.head()"
   ]
  },
  {
   "cell_type": "code",
   "execution_count": 13,
   "id": "bef625e8",
   "metadata": {
    "execution": {
     "iopub.execute_input": "2022-07-14T15:31:28.897497Z",
     "iopub.status.busy": "2022-07-14T15:31:28.896692Z",
     "iopub.status.idle": "2022-07-14T15:31:29.347944Z",
     "shell.execute_reply": "2022-07-14T15:31:29.346773Z"
    },
    "papermill": {
     "duration": 0.469831,
     "end_time": "2022-07-14T15:31:29.350337",
     "exception": false,
     "start_time": "2022-07-14T15:31:28.880506",
     "status": "completed"
    },
    "tags": []
   },
   "outputs": [
    {
     "data": {
      "image/png": "[encoded data removed]",
      "text/plain": [
       "<Figure size 432x288 with 1 Axes>"
      ]
     },
     "metadata": {
      "needs_background": "light"
     },
     "output_type": "display_data"
    }
   ],
   "source": [
    "# PLOT OOF PREDICTIONS\n",
    "plt.hist(oof_xgb.oof_pred.values, bins=100)\n",
    "plt.title('OOF Predictions')\n",
    "plt.show()"
   ]
  },
  {
   "cell_type": "code",
   "execution_count": 14,
   "id": "e0b8c53a",
   "metadata": {
    "execution": {
     "iopub.execute_input": "2022-07-14T15:31:29.385090Z",
     "iopub.status.busy": "2022-07-14T15:31:29.384125Z",
     "iopub.status.idle": "2022-07-14T15:31:29.532953Z",
     "shell.execute_reply": "2022-07-14T15:31:29.531831Z"
    },
    "papermill": {
     "duration": 0.168228,
     "end_time": "2022-07-14T15:31:29.535235",
     "exception": false,
     "start_time": "2022-07-14T15:31:29.367007",
     "status": "completed"
    },
    "tags": []
   },
   "outputs": [],
   "source": [
    "# CLEAR VRAM, RAM FOR INFERENCE BELOW\n",
    "del oof_xgb, oof\n",
    "_ = gc.collect()"
   ]
  },
  {
   "cell_type": "markdown",
   "id": "90adcdff",
   "metadata": {
    "papermill": {
     "duration": 0.015128,
     "end_time": "2022-07-14T15:31:29.566408",
     "exception": false,
     "start_time": "2022-07-14T15:31:29.551280",
     "status": "completed"
    },
    "tags": []
   },
   "source": [
    "# Feature Importance"
   ]
  },
  {
   "cell_type": "code",
   "execution_count": 15,
   "id": "0884a139",
   "metadata": {
    "execution": {
     "iopub.execute_input": "2022-07-14T15:31:29.599681Z",
     "iopub.status.busy": "2022-07-14T15:31:29.598720Z",
     "iopub.status.idle": "2022-07-14T15:31:29.629903Z",
     "shell.execute_reply": "2022-07-14T15:31:29.628934Z"
    },
    "papermill": {
     "duration": 0.050175,
     "end_time": "2022-07-14T15:31:29.632344",
     "exception": false,
     "start_time": "2022-07-14T15:31:29.582169",
     "status": "completed"
    },
    "tags": []
   },
   "outputs": [],
   "source": [
    "import matplotlib.pyplot as plt\n",
    "\n",
    "df = importances[0].copy()\n",
    "for k in range(1,FOLDS): df = df.merge(importances[k], on='feature', how='left')\n",
    "df['importance'] = df.iloc[:,1:].mean(axis=1)\n",
    "df = df.sort_values('importance',ascending=False)\n",
    "df.to_csv(f'xgb_feature_importance_v{VER}.csv',index=False)"
   ]
  },
  {
   "cell_type": "code",
   "execution_count": 16,
   "id": "2ea213bf",
   "metadata": {
    "execution": {
     "iopub.execute_input": "2022-07-14T15:31:29.666016Z",
     "iopub.status.busy": "2022-07-14T15:31:29.665184Z",
     "iopub.status.idle": "2022-07-14T15:31:29.980710Z",
     "shell.execute_reply": "2022-07-14T15:31:29.979616Z"
    },
    "papermill": {
     "duration": 0.334788,
     "end_time": "2022-07-14T15:31:29.983212",
     "exception": false,
     "start_time": "2022-07-14T15:31:29.648424",
     "status": "completed"
    },
    "tags": []
   },
   "outputs": [
    {
     "data": {
      "image/png": "[encoded data removed]",
      "text/plain": [
       "<Figure size 720x720 with 1 Axes>"
      ]
     },
     "metadata": {
      "needs_background": "light"
     },
     "output_type": "display_data"
    }
   ],
   "source": [
    "NUM_FEATURES = 20\n",
    "plt.figure(figsize=(10,5*NUM_FEATURES//10))\n",
    "plt.barh(np.arange(NUM_FEATURES,0,-1), df.importance.values[:NUM_FEATURES])\n",
    "plt.yticks(np.arange(NUM_FEATURES,0,-1), df.feature.values[:NUM_FEATURES])\n",
    "plt.title(f'XGB Feature Importance - Top {NUM_FEATURES}')\n",
    "plt.show()"
   ]
  },
  {
   "cell_type": "markdown",
   "id": "0268308a",
   "metadata": {
    "papermill": {
     "duration": 0.016508,
     "end_time": "2022-07-14T15:31:30.016490",
     "exception": false,
     "start_time": "2022-07-14T15:31:29.999982",
     "status": "completed"
    },
    "tags": []
   },
   "source": [
    "# Process and Feature Engineer Test Data\n",
    "We will load @raddar Kaggle dataset from [here][1] with discussion [here][2]. Then we will engineer features suggested by @huseyincot in his notebooks [here][1] and [here][4]. We will use [RAPIDS][5] and the GPU to create new features quickly.\n",
    "\n",
    "[1]: https://www.kaggle.com/datasets/raddar/amex-data-integer-dtypes-parquet-format\n",
    "[2]: https://www.kaggle.com/competitions/amex-default-prediction/discussion/328514\n",
    "[3]: https://www.kaggle.com/code/huseyincot/amex-catboost-0-793\n",
    "[4]: https://www.kaggle.com/code/huseyincot/amex-agg-data-how-it-created\n",
    "[5]: https://rapids.ai/"
   ]
  },
  {
   "cell_type": "code",
   "execution_count": 17,
   "id": "32b5a5d2",
   "metadata": {
    "execution": {
     "iopub.execute_input": "2022-07-14T15:31:30.052946Z",
     "iopub.status.busy": "2022-07-14T15:31:30.051992Z",
     "iopub.status.idle": "2022-07-14T15:31:32.661948Z",
     "shell.execute_reply": "2022-07-14T15:31:32.660566Z"
    },
    "papermill": {
     "duration": 2.631923,
     "end_time": "2022-07-14T15:31:32.664373",
     "exception": false,
     "start_time": "2022-07-14T15:31:30.032450",
     "status": "completed"
    },
    "tags": []
   },
   "outputs": [
    {
     "name": "stdout",
     "output_type": "stream",
     "text": [
      "Reading test data...\n",
      "shape of data: (11363762, 2)\n",
      "We will process test data as 4 separate parts.\n",
      "There will be 231155 customers in each part (except the last part).\n",
      "Below are number of rows in each part:\n",
      "[2841209, 2839857, 2842105, 2840591]\n"
     ]
    }
   ],
   "source": [
    "# CALCULATE SIZE OF EACH SEPARATE TEST PART\n",
    "def get_rows(customers, test, NUM_PARTS = 4, verbose = ''):\n",
    "    chunk = len(customers)//NUM_PARTS\n",
    "    if verbose != '':\n",
    "        print(f'We will process {verbose} data as {NUM_PARTS} separate parts.')\n",
    "        print(f'There will be {chunk} customers in each part (except the last part).')\n",
    "        print('Below are number of rows in each part:')\n",
    "    rows = []\n",
    "\n",
    "    for k in range(NUM_PARTS):\n",
    "        if k==NUM_PARTS-1: cc = customers[k*chunk:]\n",
    "        else: cc = customers[k*chunk:(k+1)*chunk]\n",
    "        s = test.loc[test.customer_ID.isin(cc)].shape[0]\n",
    "        rows.append(s)\n",
    "    if verbose != '': print( rows )\n",
    "    return rows,chunk\n",
    "\n",
    "# COMPUTE SIZE OF 4 PARTS FOR TEST DATA\n",
    "NUM_PARTS = 4\n",
    "TEST_PATH = '../input/amex-data-integer-dtypes-parquet-format/test.parquet'\n",
    "\n",
    "print(f'Reading test data...')\n",
    "test = read_file(path = TEST_PATH, usecols = ['customer_ID','S_2'])\n",
    "customers = test[['customer_ID']].drop_duplicates().sort_index().values.flatten()\n",
    "rows,num_cust = get_rows(customers, test[['customer_ID']], NUM_PARTS = NUM_PARTS, verbose = 'test')"
   ]
  },
  {
   "cell_type": "markdown",
   "id": "b333e2a3",
   "metadata": {
    "papermill": {
     "duration": 0.016139,
     "end_time": "2022-07-14T15:31:32.697854",
     "exception": false,
     "start_time": "2022-07-14T15:31:32.681715",
     "status": "completed"
    },
    "tags": []
   },
   "source": [
    "# Infer Test"
   ]
  },
  {
   "cell_type": "code",
   "execution_count": 18,
   "id": "49f3a376",
   "metadata": {
    "execution": {
     "iopub.execute_input": "2022-07-14T15:31:32.733767Z",
     "iopub.status.busy": "2022-07-14T15:31:32.732828Z",
     "iopub.status.idle": "2022-07-14T15:34:40.921298Z",
     "shell.execute_reply": "2022-07-14T15:34:40.920154Z"
    },
    "papermill": {
     "duration": 188.209664,
     "end_time": "2022-07-14T15:34:40.924251",
     "exception": false,
     "start_time": "2022-07-14T15:31:32.714587",
     "status": "completed"
    },
    "tags": []
   },
   "outputs": [
    {
     "name": "stdout",
     "output_type": "stream",
     "text": [
      "\n",
      "Reading test data...\n",
      "shape of data: (11363762, 190)\n",
      "=> Test part 1 has shape (2841209, 190)\n",
      "shape after engineering (231155, 562)\n",
      "\n",
      "Reading test data...\n",
      "shape of data: (11363762, 190)\n",
      "=> Test part 2 has shape (2839857, 190)\n",
      "shape after engineering (231155, 562)\n",
      "\n",
      "Reading test data...\n",
      "shape of data: (11363762, 190)\n",
      "=> Test part 3 has shape (2842105, 190)\n",
      "shape after engineering (231155, 562)\n",
      "\n",
      "Reading test data...\n",
      "shape of data: (11363762, 190)\n",
      "=> Test part 4 has shape (2840591, 190)\n",
      "shape after engineering (231156, 562)\n"
     ]
    }
   ],
   "source": [
    "# INFER TEST DATA IN PARTS\n",
    "skip_rows = 0\n",
    "skip_cust = 0\n",
    "test_preds = []\n",
    "\n",
    "for k in range(NUM_PARTS):\n",
    "    \n",
    "    # READ PART OF TEST DATA\n",
    "    print(f'\\nReading test data...')\n",
    "    test = read_file(path = TEST_PATH)\n",
    "    test = test.iloc[skip_rows:skip_rows+rows[k]]\n",
    "    skip_rows += rows[k]\n",
    "    print(f'=> Test part {k+1} has shape', test.shape )\n",
    "    \n",
    "    # PROCESS AND FEATURE ENGINEER PART OF TEST DATA\n",
    "    test = process_and_feature_engineer(test)\n",
    "    if k==NUM_PARTS-1: test = test.loc[customers[skip_cust:]]\n",
    "    else: test = test.loc[customers[skip_cust:skip_cust+num_cust]]\n",
    "    skip_cust += num_cust\n",
    "    \n",
    "    # TEST DATA FOR XGB\n",
    "    X_test = test[FEATURES]\n",
    "    dtest = xgb.DMatrix(data=X_test)\n",
    "    test = test[['P_2_mean']] # reduce memory\n",
    "    del X_test\n",
    "    gc.collect()\n",
    "\n",
    "    # INFER XGB MODELS ON TEST DATA\n",
    "    model = xgb.Booster()\n",
    "    model.load_model(f'XGB_v{VER}_fold0.xgb')\n",
    "    preds = model.predict(dtest)\n",
    "    for f in range(1,FOLDS):\n",
    "        model.load_model(f'XGB_v{VER}_fold{f}.xgb')\n",
    "        preds += model.predict(dtest)\n",
    "    preds /= FOLDS\n",
    "    test_preds.append(preds)\n",
    "\n",
    "    # CLEAN MEMORY\n",
    "    del dtest, model\n",
    "    _ = gc.collect()"
   ]
  },
  {
   "cell_type": "markdown",
   "id": "25605f41",
   "metadata": {
    "papermill": {
     "duration": 0.017351,
     "end_time": "2022-07-14T15:34:40.959821",
     "exception": false,
     "start_time": "2022-07-14T15:34:40.942470",
     "status": "completed"
    },
    "tags": []
   },
   "source": [
    "# Create Submission CSV"
   ]
  },
  {
   "cell_type": "code",
   "execution_count": 19,
   "id": "3b471f5c",
   "metadata": {
    "execution": {
     "iopub.execute_input": "2022-07-14T15:34:40.995961Z",
     "iopub.status.busy": "2022-07-14T15:34:40.995612Z",
     "iopub.status.idle": "2022-07-14T15:34:42.384573Z",
     "shell.execute_reply": "2022-07-14T15:34:42.383118Z"
    },
    "papermill": {
     "duration": 1.409924,
     "end_time": "2022-07-14T15:34:42.386909",
     "exception": false,
     "start_time": "2022-07-14T15:34:40.976985",
     "status": "completed"
    },
    "tags": []
   },
   "outputs": [
    {
     "name": "stdout",
     "output_type": "stream",
     "text": [
      "Submission file shape is (924621, 2)\n"
     ]
    },
    {
     "data": {
      "text/html": [
       "<div>\n",
       "<style scoped>\n",
       "    .dataframe tbody tr th:only-of-type {\n",
       "        vertical-align: middle;\n",
       "    }\n",
       "\n",
       "    .dataframe tbody tr th {\n",
       "        vertical-align: top;\n",
       "    }\n",
       "\n",
       "    .dataframe thead th {\n",
       "        text-align: right;\n",
       "    }\n",
       "</style>\n",
       "<table border=\"1\" class=\"dataframe\">\n",
       "  <thead>\n",
       "    <tr style=\"text-align: right;\">\n",
       "      <th></th>\n",
       "      <th>customer_ID</th>\n",
       "      <th>prediction</th>\n",
       "    </tr>\n",
       "  </thead>\n",
       "  <tbody>\n",
       "    <tr>\n",
       "      <th>0</th>\n",
       "      <td>0359e97c244bbbbe2db7c21e891debe80e82291f2e470e...</td>\n",
       "      <td>0.002737</td>\n",
       "    </tr>\n",
       "    <tr>\n",
       "      <th>1</th>\n",
       "      <td>035b3479c9020483c00b7dac8f816759bb3aa6fdd8dfab...</td>\n",
       "      <td>0.000534</td>\n",
       "    </tr>\n",
       "    <tr>\n",
       "      <th>2</th>\n",
       "      <td>035a556cc13aae13de7bdcc71c81a1ab27f586f2ddf50e...</td>\n",
       "      <td>0.002182</td>\n",
       "    </tr>\n",
       "    <tr>\n",
       "      <th>3</th>\n",
       "      <td>035bca6744c2fe912b15a0bc6011f3ec679cbc7c60e049...</td>\n",
       "      <td>0.033567</td>\n",
       "    </tr>\n",
       "    <tr>\n",
       "      <th>4</th>\n",
       "      <td>0359f31145b54da7258ed5ff894cbe50dd4302d3d4a1e9...</td>\n",
       "      <td>0.048845</td>\n",
       "    </tr>\n",
       "  </tbody>\n",
       "</table>\n",
       "</div>"
      ],
      "text/plain": [
       "                                         customer_ID  prediction\n",
       "0  0359e97c244bbbbe2db7c21e891debe80e82291f2e470e...    0.002737\n",
       "1  035b3479c9020483c00b7dac8f816759bb3aa6fdd8dfab...    0.000534\n",
       "2  035a556cc13aae13de7bdcc71c81a1ab27f586f2ddf50e...    0.002182\n",
       "3  035bca6744c2fe912b15a0bc6011f3ec679cbc7c60e049...    0.033567\n",
       "4  0359f31145b54da7258ed5ff894cbe50dd4302d3d4a1e9...    0.048845"
      ]
     },
     "execution_count": 19,
     "metadata": {},
     "output_type": "execute_result"
    }
   ],
   "source": [
    "# WRITE SUBMISSION FILE\n",
    "test_preds = np.concatenate(test_preds)\n",
    "test = cudf.DataFrame(index=customers,data={'prediction':test_preds})\n",
    "sub = cudf.read_csv('../input/amex-default-prediction/sample_submission.csv')[['customer_ID']]\n",
    "sub['customer_ID_hash'] = sub['customer_ID'].str[-16:].str.hex_to_int().astype('int64')\n",
    "sub = sub.set_index('customer_ID_hash')\n",
    "sub = sub.merge(test[['prediction']], left_index=True, right_index=True, how='left')\n",
    "sub = sub.reset_index(drop=True)\n",
    "\n",
    "# DISPLAY PREDICTIONS\n",
    "sub.to_csv(f'submission_xgb_v{VER}.csv',index=False)\n",
    "print('Submission file shape is', sub.shape )\n",
    "sub.head()"
   ]
  },
  {
   "cell_type": "code",
   "execution_count": 20,
   "id": "35a30199",
   "metadata": {
    "execution": {
     "iopub.execute_input": "2022-07-14T15:34:42.423586Z",
     "iopub.status.busy": "2022-07-14T15:34:42.422537Z",
     "iopub.status.idle": "2022-07-14T15:34:43.270587Z",
     "shell.execute_reply": "2022-07-14T15:34:43.269529Z"
    },
    "papermill": {
     "duration": 0.86804,
     "end_time": "2022-07-14T15:34:43.272874",
     "exception": false,
     "start_time": "2022-07-14T15:34:42.404834",
     "status": "completed"
    },
    "tags": []
   },
   "outputs": [
    {
     "data": {
      "image/png": "[encoded data removed]",
      "text/plain": [
       "<Figure size 432x288 with 1 Axes>"
      ]
     },
     "metadata": {
      "needs_background": "light"
     },
     "output_type": "display_data"
    }
   ],
   "source": [
    "# PLOT PREDICTIONS\n",
    "plt.hist(sub.to_pandas().prediction, bins=100)\n",
    "plt.title('Test Predictions')\n",
    "plt.show()"
   ]
  }
 ],
 "metadata": {
  "kernelspec": {
   "display_name": "Python 3",
   "language": "python",
   "name": "python3"
  },
  "language_info": {
   "codemirror_mode": {
    "name": "ipython",
    "version": 3
   },
   "file_extension": ".py",
   "mimetype": "text/x-python",
   "name": "python",
   "nbconvert_exporter": "python",
   "pygments_lexer": "ipython3",
   "version": "3.7.12"
  },
  "papermill": {
   "default_parameters": {},
   "duration": 620.975793,
   "end_time": "2022-07-14T15:34:44.819220",
   "environment_variables": {},
   "exception": null,
   "input_path": "__notebook__.ipynb",
   "output_path": "__notebook__.ipynb",
   "parameters": {},
   "start_time": "2022-07-14T15:24:23.843427",
   "version": "2.3.4"
  }
 },
 "nbformat": 4,
 "nbformat_minor": 5
}
