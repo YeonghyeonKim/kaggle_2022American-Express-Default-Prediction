{
 "cells": [
  {
   "cell_type": "markdown",
   "id": "acb6eead",
   "metadata": {
    "papermill": {
     "duration": 0.009066,
     "end_time": "2022-07-29T16:34:25.013278",
     "exception": false,
     "start_time": "2022-07-29T16:34:25.004212",
     "status": "completed"
    },
    "tags": []
   },
   "source": [
    "# XGBoost Starter - LB 0.793\n",
    "In this notebook we build and train an XGBoost model using @raddar Kaggle dataset from [here][1] with discussion [here][2]. Then we engineer features suggested by @huseyincot in his notebooks [here][3] and [here][4]. This XGB model achieves CV 0.792 LB 0.793! When training with XGB, we use a special XGB dataloader called `DeviceQuantileDMatrix` which uses a small GPU memory footprint. This allows us to engineer more additional columns and train with more rows of data. Our feature engineering is performed using [RAPIDS][5] on the GPU to create new features quickly.\n",
    "\n",
    "[1]: https://www.kaggle.com/datasets/raddar/amex-data-integer-dtypes-parquet-format\n",
    "[2]: https://www.kaggle.com/competitions/amex-default-prediction/discussion/328514\n",
    "[3]: https://www.kaggle.com/code/huseyincot/amex-catboost-0-793\n",
    "[4]: https://www.kaggle.com/code/huseyincot/amex-agg-data-how-it-created\n",
    "[5]: https://rapids.ai/"
   ]
  },
  {
   "cell_type": "markdown",
   "id": "0aed29b1",
   "metadata": {
    "papermill": {
     "duration": 0.006854,
     "end_time": "2022-07-29T16:34:25.027878",
     "exception": false,
     "start_time": "2022-07-29T16:34:25.021024",
     "status": "completed"
    },
    "tags": []
   },
   "source": [
    "Feature Engineering I done\n",
    "1. Drop B_29, https://www.kaggle.com/code/roberthatch/amex-feature-engg-gpu-or-cpu-process-in-chunks/notebook\n",
    "2. Add each customer count (how long they used) (not normalize)\n",
    "3. Don't fill NaN (with -127)\n",
    "4. remove num_features's min, std\n",
    "5. D_39에 대한 feature 추가 -> CV하락\n",
    "6. B_1과 B_2간의 연관 feature 추가; CV 0.7920\n",
    "7. B_8과 B_9간의 연관 feature 추가; CV 0.7919\n",
    "8. corr가 높은 feature중 제거; CV: 0.7914\n",
    "9. 6+ fillna(method='bfill'); CV: 0.7906 => NaN으로 냅두자\n",
    "10. \n",
    "<!-- 9. add nasdaq info simply -->"
   ]
  },
  {
   "cell_type": "markdown",
   "id": "2427ccb2",
   "metadata": {
    "papermill": {
     "duration": 0.006722,
     "end_time": "2022-07-29T16:34:25.041697",
     "exception": false,
     "start_time": "2022-07-29T16:34:25.034975",
     "status": "completed"
    },
    "tags": []
   },
   "source": [
    "# Load Libraries"
   ]
  },
  {
   "cell_type": "code",
   "execution_count": 1,
   "id": "67060b73",
   "metadata": {
    "execution": {
     "iopub.execute_input": "2022-07-29T16:34:25.057196Z",
     "iopub.status.busy": "2022-07-29T16:34:25.056794Z",
     "iopub.status.idle": "2022-07-29T16:34:28.889451Z",
     "shell.execute_reply": "2022-07-29T16:34:28.888599Z"
    },
    "papermill": {
     "duration": 3.843285,
     "end_time": "2022-07-29T16:34:28.891988",
     "exception": false,
     "start_time": "2022-07-29T16:34:25.048703",
     "status": "completed"
    },
    "tags": []
   },
   "outputs": [
    {
     "name": "stdout",
     "output_type": "stream",
     "text": [
      "RAPIDS version 21.10.01\n"
     ]
    }
   ],
   "source": [
    "# LOAD LIBRARIES\n",
    "import pandas as pd, numpy as np # CPU libraries\n",
    "import cupy, cudf # GPU libraries\n",
    "import matplotlib.pyplot as plt, gc, os\n",
    "\n",
    "print('RAPIDS version',cudf.__version__)"
   ]
  },
  {
   "cell_type": "code",
   "execution_count": 2,
   "id": "af08a835",
   "metadata": {
    "execution": {
     "iopub.execute_input": "2022-07-29T16:34:28.907520Z",
     "iopub.status.busy": "2022-07-29T16:34:28.906874Z",
     "iopub.status.idle": "2022-07-29T16:34:28.912244Z",
     "shell.execute_reply": "2022-07-29T16:34:28.911526Z"
    },
    "papermill": {
     "duration": 0.015106,
     "end_time": "2022-07-29T16:34:28.913929",
     "exception": false,
     "start_time": "2022-07-29T16:34:28.898823",
     "status": "completed"
    },
    "tags": []
   },
   "outputs": [],
   "source": [
    "# VERSION NAME FOR SAVED MODEL FILES\n",
    "VER = 1\n",
    "\n",
    "# TRAIN RANDOM SEED\n",
    "SEED = 42\n",
    "\n",
    "# FILL NAN VALUE\n",
    "NAN_VALUE = -127 # will fit in int8\n",
    "\n",
    "# FOLDS PER MODEL\n",
    "FOLDS = 5"
   ]
  },
  {
   "cell_type": "markdown",
   "id": "e2869077",
   "metadata": {
    "papermill": {
     "duration": 0.006588,
     "end_time": "2022-07-29T16:34:28.927141",
     "exception": false,
     "start_time": "2022-07-29T16:34:28.920553",
     "status": "completed"
    },
    "tags": []
   },
   "source": [
    "# Process and Feature Engineer Train Data\n",
    "We will load @raddar Kaggle dataset from [here][1] with discussion [here][2]. Then we will engineer features suggested by @huseyincot in his notebooks [here][3] and [here][4]. We will use [RAPIDS][5] and the GPU to create new features quickly.\n",
    "\n",
    "[1]: https://www.kaggle.com/datasets/raddar/amex-data-integer-dtypes-parquet-format\n",
    "[2]: https://www.kaggle.com/competitions/amex-default-prediction/discussion/328514\n",
    "[3]: https://www.kaggle.com/code/huseyincot/amex-catboost-0-793\n",
    "[4]: https://www.kaggle.com/code/huseyincot/amex-agg-data-how-it-created\n",
    "[5]: https://rapids.ai/"
   ]
  },
  {
   "cell_type": "code",
   "execution_count": 3,
   "id": "f14a4910",
   "metadata": {
    "execution": {
     "iopub.execute_input": "2022-07-29T16:34:28.941696Z",
     "iopub.status.busy": "2022-07-29T16:34:28.941419Z",
     "iopub.status.idle": "2022-07-29T16:35:26.643858Z",
     "shell.execute_reply": "2022-07-29T16:35:26.643013Z"
    },
    "papermill": {
     "duration": 57.718391,
     "end_time": "2022-07-29T16:35:26.652134",
     "exception": false,
     "start_time": "2022-07-29T16:34:28.933743",
     "status": "completed"
    },
    "tags": []
   },
   "outputs": [
    {
     "name": "stdout",
     "output_type": "stream",
     "text": [
      "Reading train data...\n",
      "shape of data: (5531451, 190)\n"
     ]
    }
   ],
   "source": [
    "def read_file(path = '', usecols = None):\n",
    "    # LOAD DATAFRAME\n",
    "    if usecols is not None: df = cudf.read_parquet(path, columns=usecols)\n",
    "    else: df = cudf.read_parquet(path)\n",
    "    # REDUCE DTYPE FOR CUSTOMER AND DATE\n",
    "    df['customer_ID'] = df['customer_ID'].str[-16:].str.hex_to_int().astype('int64')\n",
    "    df.S_2 = cudf.to_datetime( df.S_2 )\n",
    "    # SORT BY CUSTOMER AND DATE (so agg('last') works correctly)\n",
    "    #df = df.sort_values(['customer_ID','S_2'])\n",
    "    #df = df.reset_index(drop=True)\n",
    "    # FILL NAN\n",
    "#     df = df.fillna(NAN_VALUE) \n",
    "    print('shape of data:', df.shape)\n",
    "    \n",
    "    return df\n",
    "\n",
    "print('Reading train data...')\n",
    "TRAIN_PATH = '../input/amex-data-integer-dtypes-parquet-format/train.parquet'\n",
    "train = read_file(path = TRAIN_PATH)"
   ]
  },
  {
   "cell_type": "code",
   "execution_count": 4,
   "id": "e796b75e",
   "metadata": {
    "execution": {
     "iopub.execute_input": "2022-07-29T16:35:26.667009Z",
     "iopub.status.busy": "2022-07-29T16:35:26.666730Z",
     "iopub.status.idle": "2022-07-29T16:35:26.960555Z",
     "shell.execute_reply": "2022-07-29T16:35:26.959660Z"
    },
    "papermill": {
     "duration": 0.30393,
     "end_time": "2022-07-29T16:35:26.963238",
     "exception": false,
     "start_time": "2022-07-29T16:35:26.659308",
     "status": "completed"
    },
    "tags": []
   },
   "outputs": [
    {
     "data": {
      "text/html": [
       "<div>\n",
       "<style scoped>\n",
       "    .dataframe tbody tr th:only-of-type {\n",
       "        vertical-align: middle;\n",
       "    }\n",
       "\n",
       "    .dataframe tbody tr th {\n",
       "        vertical-align: top;\n",
       "    }\n",
       "\n",
       "    .dataframe thead th {\n",
       "        text-align: right;\n",
       "    }\n",
       "</style>\n",
       "<table border=\"1\" class=\"dataframe\">\n",
       "  <thead>\n",
       "    <tr style=\"text-align: right;\">\n",
       "      <th></th>\n",
       "      <th>customer_ID</th>\n",
       "      <th>S_2</th>\n",
       "      <th>P_2</th>\n",
       "      <th>D_39</th>\n",
       "      <th>B_1</th>\n",
       "      <th>B_2</th>\n",
       "      <th>R_1</th>\n",
       "      <th>S_3</th>\n",
       "      <th>D_41</th>\n",
       "      <th>B_3</th>\n",
       "      <th>...</th>\n",
       "      <th>D_136</th>\n",
       "      <th>D_137</th>\n",
       "      <th>D_138</th>\n",
       "      <th>D_139</th>\n",
       "      <th>D_140</th>\n",
       "      <th>D_141</th>\n",
       "      <th>D_142</th>\n",
       "      <th>D_143</th>\n",
       "      <th>D_144</th>\n",
       "      <th>D_145</th>\n",
       "    </tr>\n",
       "  </thead>\n",
       "  <tbody>\n",
       "    <tr>\n",
       "      <th>0</th>\n",
       "      <td>-4532153018459703766</td>\n",
       "      <td>2017-03-09</td>\n",
       "      <td>0.938469</td>\n",
       "      <td>0</td>\n",
       "      <td>0.008724</td>\n",
       "      <td>1.006838</td>\n",
       "      <td>0.009228</td>\n",
       "      <td>0.124035</td>\n",
       "      <td>0.0</td>\n",
       "      <td>0.004709</td>\n",
       "      <td>...</td>\n",
       "      <td>-1</td>\n",
       "      <td>-1</td>\n",
       "      <td>-1</td>\n",
       "      <td>0</td>\n",
       "      <td>0</td>\n",
       "      <td>0.0</td>\n",
       "      <td>&lt;NA&gt;</td>\n",
       "      <td>0</td>\n",
       "      <td>0.000610</td>\n",
       "      <td>0</td>\n",
       "    </tr>\n",
       "    <tr>\n",
       "      <th>1</th>\n",
       "      <td>-4532153018459703766</td>\n",
       "      <td>2017-04-07</td>\n",
       "      <td>0.936665</td>\n",
       "      <td>0</td>\n",
       "      <td>0.004923</td>\n",
       "      <td>1.000653</td>\n",
       "      <td>0.006151</td>\n",
       "      <td>0.126750</td>\n",
       "      <td>0.0</td>\n",
       "      <td>0.002714</td>\n",
       "      <td>...</td>\n",
       "      <td>-1</td>\n",
       "      <td>-1</td>\n",
       "      <td>-1</td>\n",
       "      <td>0</td>\n",
       "      <td>0</td>\n",
       "      <td>0.0</td>\n",
       "      <td>&lt;NA&gt;</td>\n",
       "      <td>0</td>\n",
       "      <td>0.005492</td>\n",
       "      <td>0</td>\n",
       "    </tr>\n",
       "    <tr>\n",
       "      <th>2</th>\n",
       "      <td>-4532153018459703766</td>\n",
       "      <td>2017-05-28</td>\n",
       "      <td>0.954180</td>\n",
       "      <td>3</td>\n",
       "      <td>0.021655</td>\n",
       "      <td>1.009672</td>\n",
       "      <td>0.006815</td>\n",
       "      <td>0.123977</td>\n",
       "      <td>0.0</td>\n",
       "      <td>0.009423</td>\n",
       "      <td>...</td>\n",
       "      <td>-1</td>\n",
       "      <td>-1</td>\n",
       "      <td>-1</td>\n",
       "      <td>0</td>\n",
       "      <td>0</td>\n",
       "      <td>0.0</td>\n",
       "      <td>&lt;NA&gt;</td>\n",
       "      <td>0</td>\n",
       "      <td>0.006986</td>\n",
       "      <td>0</td>\n",
       "    </tr>\n",
       "    <tr>\n",
       "      <th>3</th>\n",
       "      <td>-4532153018459703766</td>\n",
       "      <td>2017-06-13</td>\n",
       "      <td>0.960384</td>\n",
       "      <td>0</td>\n",
       "      <td>0.013683</td>\n",
       "      <td>1.002700</td>\n",
       "      <td>0.001373</td>\n",
       "      <td>0.117169</td>\n",
       "      <td>0.0</td>\n",
       "      <td>0.005531</td>\n",
       "      <td>...</td>\n",
       "      <td>-1</td>\n",
       "      <td>-1</td>\n",
       "      <td>-1</td>\n",
       "      <td>0</td>\n",
       "      <td>0</td>\n",
       "      <td>0.0</td>\n",
       "      <td>&lt;NA&gt;</td>\n",
       "      <td>0</td>\n",
       "      <td>0.006527</td>\n",
       "      <td>0</td>\n",
       "    </tr>\n",
       "    <tr>\n",
       "      <th>4</th>\n",
       "      <td>-4532153018459703766</td>\n",
       "      <td>2017-07-16</td>\n",
       "      <td>0.947248</td>\n",
       "      <td>0</td>\n",
       "      <td>0.015193</td>\n",
       "      <td>1.000727</td>\n",
       "      <td>0.007605</td>\n",
       "      <td>0.117325</td>\n",
       "      <td>0.0</td>\n",
       "      <td>0.009312</td>\n",
       "      <td>...</td>\n",
       "      <td>-1</td>\n",
       "      <td>-1</td>\n",
       "      <td>-1</td>\n",
       "      <td>0</td>\n",
       "      <td>0</td>\n",
       "      <td>0.0</td>\n",
       "      <td>&lt;NA&gt;</td>\n",
       "      <td>0</td>\n",
       "      <td>0.008126</td>\n",
       "      <td>0</td>\n",
       "    </tr>\n",
       "  </tbody>\n",
       "</table>\n",
       "<p>5 rows × 190 columns</p>\n",
       "</div>"
      ],
      "text/plain": [
       "           customer_ID        S_2       P_2  D_39       B_1       B_2  \\\n",
       "0 -4532153018459703766 2017-03-09  0.938469     0  0.008724  1.006838   \n",
       "1 -4532153018459703766 2017-04-07  0.936665     0  0.004923  1.000653   \n",
       "2 -4532153018459703766 2017-05-28  0.954180     3  0.021655  1.009672   \n",
       "3 -4532153018459703766 2017-06-13  0.960384     0  0.013683  1.002700   \n",
       "4 -4532153018459703766 2017-07-16  0.947248     0  0.015193  1.000727   \n",
       "\n",
       "        R_1       S_3  D_41       B_3  ... D_136  D_137  D_138  D_139  D_140  \\\n",
       "0  0.009228  0.124035   0.0  0.004709  ...    -1     -1     -1      0      0   \n",
       "1  0.006151  0.126750   0.0  0.002714  ...    -1     -1     -1      0      0   \n",
       "2  0.006815  0.123977   0.0  0.009423  ...    -1     -1     -1      0      0   \n",
       "3  0.001373  0.117169   0.0  0.005531  ...    -1     -1     -1      0      0   \n",
       "4  0.007605  0.117325   0.0  0.009312  ...    -1     -1     -1      0      0   \n",
       "\n",
       "   D_141  D_142 D_143     D_144  D_145  \n",
       "0    0.0   <NA>     0  0.000610      0  \n",
       "1    0.0   <NA>     0  0.005492      0  \n",
       "2    0.0   <NA>     0  0.006986      0  \n",
       "3    0.0   <NA>     0  0.006527      0  \n",
       "4    0.0   <NA>     0  0.008126      0  \n",
       "\n",
       "[5 rows x 190 columns]"
      ]
     },
     "execution_count": 4,
     "metadata": {},
     "output_type": "execute_result"
    }
   ],
   "source": [
    "train.head()"
   ]
  },
  {
   "cell_type": "code",
   "execution_count": 5,
   "id": "ec7da0bb",
   "metadata": {
    "execution": {
     "iopub.execute_input": "2022-07-29T16:35:26.979383Z",
     "iopub.status.busy": "2022-07-29T16:35:26.979075Z",
     "iopub.status.idle": "2022-07-29T16:35:29.513312Z",
     "shell.execute_reply": "2022-07-29T16:35:29.512089Z"
    },
    "papermill": {
     "duration": 2.544828,
     "end_time": "2022-07-29T16:35:29.515519",
     "exception": false,
     "start_time": "2022-07-29T16:35:26.970691",
     "status": "completed"
    },
    "tags": []
   },
   "outputs": [
    {
     "name": "stdout",
     "output_type": "stream",
     "text": [
      "shape after engineering (458913, 565)\n"
     ]
    }
   ],
   "source": [
    "def process_and_feature_engineer(df):\n",
    "    # FEATURE ENGINEERING FROM \n",
    "    # https://www.kaggle.com/code/huseyincot/amex-agg-data-how-it-created\n",
    "#     9) nasdaq\n",
    "#     nasdaq_path = '../input/nasdaq/nasdaq.csv'\n",
    "#     nasdaq = cudf.read_csv(nasdaq_path, encoding='utf-8-sig')\n",
    "#     nasdaq.rename(columns={'\\ufeffS_2': 'S_2'}, inplace=True)\n",
    "#     nasdaq.drop(['tradingvolume'], inplace=True, axis=1)\n",
    "#     nasdaq.S_2 = cudf.to_datetime(nasdaq.S_2)\n",
    "#     nasdaq[['closing','open', 'high', 'low']] = nasdaq[['closing','open', 'high', 'low']].astype(float)    \n",
    "#     df = df.merge(nasdaq, on='S_2')\n",
    "    \n",
    "#     1) Drop 'B_29'\n",
    "    df.drop(['B_29'], inplace=True, axis=1)\n",
    "    \n",
    "#     5) D_39에 대한 feature 추가\n",
    "#     df['D_39_div30'] = df['D_39']/30\n",
    "    \n",
    "#     6) B1, B2에 연관 feature추가\n",
    "    df['B_1_2'] = df['B_1']/(df['B_2']+0.0000001)\n",
    "#     df['B_1_3'] = (df['B_1']+0.0000001) * (df['B_2']+0.0000001) # 성능하락\n",
    "\n",
    "    \n",
    "    all_cols = [c for c in list(df.columns) if c not in ['customer_ID','S_2']]\n",
    "    cat_features = [\"B_30\",\"B_38\",\"D_114\",\"D_116\",\"D_117\",\"D_120\",\"D_126\",\"D_63\",\"D_64\",\"D_66\",\"D_68\"]\n",
    "    num_features = [col for col in all_cols if col not in cat_features]\n",
    "    \n",
    "#     2) Add customer count\n",
    "    test_count_agg = df.groupby(['customer_ID'])['S_2'].agg(['count'])\n",
    "\n",
    "\n",
    "    test_num_agg = df.groupby(\"customer_ID\")[num_features].agg(['mean', 'max', 'last'])\n",
    "    test_num_agg.columns = ['_'.join(x) for x in test_num_agg.columns]\n",
    "\n",
    "    test_cat_agg = df.groupby(\"customer_ID\")[cat_features].agg(['count', 'last', 'nunique'])\n",
    "    test_cat_agg.columns = ['_'.join(x) for x in test_cat_agg.columns]\n",
    "\n",
    "    df = cudf.concat([test_count_agg,test_num_agg, test_cat_agg], axis=1)\n",
    "    del test_num_agg, test_cat_agg\n",
    "    print('shape after engineering', df.shape )\n",
    "    \n",
    "    return df\n",
    "\n",
    "train = process_and_feature_engineer(train)"
   ]
  },
  {
   "cell_type": "code",
   "execution_count": 6,
   "id": "2c07b1d3",
   "metadata": {
    "execution": {
     "iopub.execute_input": "2022-07-29T16:35:29.531101Z",
     "iopub.status.busy": "2022-07-29T16:35:29.530813Z",
     "iopub.status.idle": "2022-07-29T16:35:31.229885Z",
     "shell.execute_reply": "2022-07-29T16:35:31.229011Z"
    },
    "papermill": {
     "duration": 1.708829,
     "end_time": "2022-07-29T16:35:31.231808",
     "exception": false,
     "start_time": "2022-07-29T16:35:29.522979",
     "status": "completed"
    },
    "tags": []
   },
   "outputs": [
    {
     "name": "stdout",
     "output_type": "stream",
     "text": [
      "There are 565 features!\n"
     ]
    }
   ],
   "source": [
    "# ADD TARGETS\n",
    "targets = cudf.read_csv('../input/amex-default-prediction/train_labels.csv')\n",
    "targets['customer_ID'] = targets['customer_ID'].str[-16:].str.hex_to_int().astype('int64')\n",
    "targets = targets.set_index('customer_ID')\n",
    "train = train.merge(targets, left_index=True, right_index=True, how='left')\n",
    "train.target = train.target.astype('int8')\n",
    "del targets\n",
    "\n",
    "# NEEDED TO MAKE CV DETERMINISTIC (cudf merge above randomly shuffles rows)\n",
    "train = train.sort_index().reset_index()\n",
    "\n",
    "# FEATURES\n",
    "FEATURES = train.columns[1:-1]\n",
    "print(f'There are {len(FEATURES)} features!')"
   ]
  },
  {
   "cell_type": "markdown",
   "id": "98522b6d",
   "metadata": {
    "papermill": {
     "duration": 0.006928,
     "end_time": "2022-07-29T16:35:31.246121",
     "exception": false,
     "start_time": "2022-07-29T16:35:31.239193",
     "status": "completed"
    },
    "tags": []
   },
   "source": [
    "# Train XGB\n",
    "We will train using `DeviceQuantileDMatrix`. This has a very small GPU memory footprint."
   ]
  },
  {
   "cell_type": "code",
   "execution_count": 7,
   "id": "08189fe1",
   "metadata": {
    "execution": {
     "iopub.execute_input": "2022-07-29T16:35:31.261970Z",
     "iopub.status.busy": "2022-07-29T16:35:31.261650Z",
     "iopub.status.idle": "2022-07-29T16:35:31.360835Z",
     "shell.execute_reply": "2022-07-29T16:35:31.359816Z"
    },
    "papermill": {
     "duration": 0.109518,
     "end_time": "2022-07-29T16:35:31.362644",
     "exception": false,
     "start_time": "2022-07-29T16:35:31.253126",
     "status": "completed"
    },
    "tags": []
   },
   "outputs": [
    {
     "name": "stdout",
     "output_type": "stream",
     "text": [
      "XGB Version 1.6.1\n"
     ]
    }
   ],
   "source": [
    "# LOAD XGB LIBRARY\n",
    "from sklearn.model_selection import KFold\n",
    "import xgboost as xgb\n",
    "print('XGB Version',xgb.__version__)\n",
    "\n",
    "# XGB MODEL PARAMETERS\n",
    "xgb_parms = { \n",
    "    'max_depth':4, \n",
    "    'learning_rate':0.05, \n",
    "    'subsample':0.8,\n",
    "    'colsample_bytree':0.6, \n",
    "    'eval_metric':'logloss',\n",
    "    'objective':'binary:logistic',\n",
    "    'tree_method':'gpu_hist',\n",
    "    'predictor':'gpu_predictor',\n",
    "    'random_state':SEED\n",
    "}"
   ]
  },
  {
   "cell_type": "code",
   "execution_count": 8,
   "id": "414c2355",
   "metadata": {
    "execution": {
     "iopub.execute_input": "2022-07-29T16:35:31.378414Z",
     "iopub.status.busy": "2022-07-29T16:35:31.378087Z",
     "iopub.status.idle": "2022-07-29T16:35:31.386650Z",
     "shell.execute_reply": "2022-07-29T16:35:31.385813Z"
    },
    "papermill": {
     "duration": 0.018462,
     "end_time": "2022-07-29T16:35:31.388249",
     "exception": false,
     "start_time": "2022-07-29T16:35:31.369787",
     "status": "completed"
    },
    "tags": []
   },
   "outputs": [],
   "source": [
    "# NEEDED WITH DeviceQuantileDMatrix BELOW\n",
    "class IterLoadForDMatrix(xgb.core.DataIter):\n",
    "    def __init__(self, df=None, features=None, target=None, batch_size=256*1024):\n",
    "        self.features = features\n",
    "        self.target = target\n",
    "        self.df = df\n",
    "        self.it = 0 # set iterator to 0\n",
    "        self.batch_size = batch_size\n",
    "        self.batches = int( np.ceil( len(df) / self.batch_size ) )\n",
    "        super().__init__()\n",
    "\n",
    "    def reset(self):\n",
    "        '''Reset the iterator'''\n",
    "        self.it = 0\n",
    "\n",
    "    def next(self, input_data):\n",
    "        '''Yield next batch of data.'''\n",
    "        if self.it == self.batches:\n",
    "            return 0 # Return 0 when there's no more batch.\n",
    "        \n",
    "        a = self.it * self.batch_size\n",
    "        b = min( (self.it + 1) * self.batch_size, len(self.df) )\n",
    "        dt = cudf.DataFrame(self.df.iloc[a:b])\n",
    "        input_data(data=dt[self.features], label=dt[self.target]) #, weight=dt['weight'])\n",
    "        self.it += 1\n",
    "        return 1"
   ]
  },
  {
   "cell_type": "code",
   "execution_count": 9,
   "id": "f93ca677",
   "metadata": {
    "execution": {
     "iopub.execute_input": "2022-07-29T16:35:31.404893Z",
     "iopub.status.busy": "2022-07-29T16:35:31.403496Z",
     "iopub.status.idle": "2022-07-29T16:35:31.414051Z",
     "shell.execute_reply": "2022-07-29T16:35:31.413381Z"
    },
    "papermill": {
     "duration": 0.020242,
     "end_time": "2022-07-29T16:35:31.415875",
     "exception": false,
     "start_time": "2022-07-29T16:35:31.395633",
     "status": "completed"
    },
    "tags": []
   },
   "outputs": [],
   "source": [
    "# https://www.kaggle.com/kyakovlev\n",
    "# https://www.kaggle.com/competitions/amex-default-prediction/discussion/327534\n",
    "def amex_metric_mod(y_true, y_pred):\n",
    "\n",
    "    labels     = np.transpose(np.array([y_true, y_pred]))\n",
    "    labels     = labels[labels[:, 1].argsort()[::-1]]\n",
    "    weights    = np.where(labels[:,0]==0, 20, 1)\n",
    "    cut_vals   = labels[np.cumsum(weights) <= int(0.04 * np.sum(weights))]\n",
    "    top_four   = np.sum(cut_vals[:,0]) / np.sum(labels[:,0])\n",
    "\n",
    "    gini = [0,0]\n",
    "    for i in [1,0]:\n",
    "        labels         = np.transpose(np.array([y_true, y_pred]))\n",
    "        labels         = labels[labels[:, i].argsort()[::-1]]\n",
    "        weight         = np.where(labels[:,0]==0, 20, 1)\n",
    "        weight_random  = np.cumsum(weight / np.sum(weight))\n",
    "        total_pos      = np.sum(labels[:, 0] *  weight)\n",
    "        cum_pos_found  = np.cumsum(labels[:, 0] * weight)\n",
    "        lorentz        = cum_pos_found / total_pos\n",
    "        gini[i]        = np.sum((lorentz - weight_random) * weight)\n",
    "\n",
    "    return 0.5 * (gini[1]/gini[0] + top_four)"
   ]
  },
  {
   "cell_type": "code",
   "execution_count": 10,
   "id": "29a94b3a",
   "metadata": {
    "execution": {
     "iopub.execute_input": "2022-07-29T16:35:31.431801Z",
     "iopub.status.busy": "2022-07-29T16:35:31.431171Z",
     "iopub.status.idle": "2022-07-29T16:42:08.975859Z",
     "shell.execute_reply": "2022-07-29T16:42:08.974784Z"
    },
    "papermill": {
     "duration": 397.554658,
     "end_time": "2022-07-29T16:42:08.977855",
     "exception": false,
     "start_time": "2022-07-29T16:35:31.423197",
     "status": "completed"
    },
    "scrolled": true,
    "tags": []
   },
   "outputs": [
    {
     "name": "stdout",
     "output_type": "stream",
     "text": [
      "#########################\n",
      "### Fold 1\n",
      "### Train size 367130 Valid size 91783\n",
      "### Training with 100% fold data...\n",
      "#########################\n",
      "[0]\ttrain-logloss:0.66200\tvalid-logloss:0.66202\n",
      "[100]\ttrain-logloss:0.23710\tvalid-logloss:0.23954\n",
      "[200]\ttrain-logloss:0.22268\tvalid-logloss:0.22757\n",
      "[300]\ttrain-logloss:0.21670\tvalid-logloss:0.22358\n",
      "[400]\ttrain-logloss:0.21268\tvalid-logloss:0.22141\n",
      "[500]\ttrain-logloss:0.20956\tvalid-logloss:0.22014\n",
      "[600]\ttrain-logloss:0.20689\tvalid-logloss:0.21930\n",
      "[700]\ttrain-logloss:0.20457\tvalid-logloss:0.21873\n",
      "[800]\ttrain-logloss:0.20243\tvalid-logloss:0.21833\n",
      "[900]\ttrain-logloss:0.20032\tvalid-logloss:0.21795\n",
      "[1000]\ttrain-logloss:0.19839\tvalid-logloss:0.21776\n",
      "[1100]\ttrain-logloss:0.19645\tvalid-logloss:0.21763\n",
      "[1200]\ttrain-logloss:0.19463\tvalid-logloss:0.21746\n",
      "[1300]\ttrain-logloss:0.19286\tvalid-logloss:0.21731\n",
      "[1400]\ttrain-logloss:0.19119\tvalid-logloss:0.21716\n",
      "[1500]\ttrain-logloss:0.18948\tvalid-logloss:0.21710\n",
      "[1600]\ttrain-logloss:0.18779\tvalid-logloss:0.21706\n",
      "[1700]\ttrain-logloss:0.18610\tvalid-logloss:0.21700\n",
      "[1746]\ttrain-logloss:0.18535\tvalid-logloss:0.21699\n",
      "Kaggle Metric = 0.7925154855009477 \n",
      "\n",
      "#########################\n",
      "### Fold 2\n",
      "### Train size 367130 Valid size 91783\n",
      "### Training with 100% fold data...\n",
      "#########################\n",
      "[0]\ttrain-logloss:0.66201\tvalid-logloss:0.66200\n",
      "[100]\ttrain-logloss:0.23742\tvalid-logloss:0.23823\n",
      "[200]\ttrain-logloss:0.22310\tvalid-logloss:0.22595\n",
      "[300]\ttrain-logloss:0.21702\tvalid-logloss:0.22197\n",
      "[400]\ttrain-logloss:0.21299\tvalid-logloss:0.21996\n",
      "[500]\ttrain-logloss:0.20992\tvalid-logloss:0.21895\n",
      "[600]\ttrain-logloss:0.20716\tvalid-logloss:0.21822\n",
      "[700]\ttrain-logloss:0.20470\tvalid-logloss:0.21777\n",
      "[800]\ttrain-logloss:0.20246\tvalid-logloss:0.21738\n",
      "[900]\ttrain-logloss:0.20036\tvalid-logloss:0.21705\n",
      "[1000]\ttrain-logloss:0.19837\tvalid-logloss:0.21685\n",
      "[1100]\ttrain-logloss:0.19644\tvalid-logloss:0.21668\n",
      "[1200]\ttrain-logloss:0.19463\tvalid-logloss:0.21654\n",
      "[1300]\ttrain-logloss:0.19289\tvalid-logloss:0.21642\n",
      "[1400]\ttrain-logloss:0.19113\tvalid-logloss:0.21636\n",
      "[1500]\ttrain-logloss:0.18943\tvalid-logloss:0.21635\n",
      "[1600]\ttrain-logloss:0.18782\tvalid-logloss:0.21626\n",
      "[1700]\ttrain-logloss:0.18619\tvalid-logloss:0.21621\n",
      "[1800]\ttrain-logloss:0.18459\tvalid-logloss:0.21620\n",
      "[1900]\ttrain-logloss:0.18303\tvalid-logloss:0.21620\n",
      "[1904]\ttrain-logloss:0.18297\tvalid-logloss:0.21622\n",
      "Kaggle Metric = 0.7931368072159757 \n",
      "\n",
      "#########################\n",
      "### Fold 3\n",
      "### Train size 367130 Valid size 91783\n",
      "### Training with 100% fold data...\n",
      "#########################\n",
      "[0]\ttrain-logloss:0.66194\tvalid-logloss:0.66205\n",
      "[100]\ttrain-logloss:0.23658\tvalid-logloss:0.24083\n",
      "[200]\ttrain-logloss:0.22235\tvalid-logloss:0.22890\n",
      "[300]\ttrain-logloss:0.21629\tvalid-logloss:0.22489\n",
      "[400]\ttrain-logloss:0.21237\tvalid-logloss:0.22282\n",
      "[500]\ttrain-logloss:0.20917\tvalid-logloss:0.22158\n",
      "[600]\ttrain-logloss:0.20649\tvalid-logloss:0.22091\n",
      "[700]\ttrain-logloss:0.20410\tvalid-logloss:0.22033\n",
      "[800]\ttrain-logloss:0.20193\tvalid-logloss:0.21998\n",
      "[900]\ttrain-logloss:0.19979\tvalid-logloss:0.21969\n",
      "[1000]\ttrain-logloss:0.19785\tvalid-logloss:0.21949\n",
      "[1100]\ttrain-logloss:0.19593\tvalid-logloss:0.21932\n",
      "[1200]\ttrain-logloss:0.19408\tvalid-logloss:0.21920\n",
      "[1300]\ttrain-logloss:0.19234\tvalid-logloss:0.21907\n",
      "[1400]\ttrain-logloss:0.19060\tvalid-logloss:0.21901\n",
      "[1500]\ttrain-logloss:0.18890\tvalid-logloss:0.21886\n",
      "[1600]\ttrain-logloss:0.18719\tvalid-logloss:0.21879\n",
      "[1700]\ttrain-logloss:0.18564\tvalid-logloss:0.21878\n",
      "[1800]\ttrain-logloss:0.18405\tvalid-logloss:0.21881\n",
      "[1810]\ttrain-logloss:0.18389\tvalid-logloss:0.21881\n",
      "Kaggle Metric = 0.7919589831910723 \n",
      "\n",
      "#########################\n",
      "### Fold 4\n",
      "### Train size 367131 Valid size 91782\n",
      "### Training with 100% fold data...\n",
      "#########################\n",
      "[0]\ttrain-logloss:0.66197\tvalid-logloss:0.66212\n",
      "[100]\ttrain-logloss:0.23680\tvalid-logloss:0.24142\n",
      "[200]\ttrain-logloss:0.22228\tvalid-logloss:0.22919\n",
      "[300]\ttrain-logloss:0.21622\tvalid-logloss:0.22536\n",
      "[400]\ttrain-logloss:0.21224\tvalid-logloss:0.22359\n",
      "[500]\ttrain-logloss:0.20908\tvalid-logloss:0.22248\n",
      "[600]\ttrain-logloss:0.20633\tvalid-logloss:0.22161\n",
      "[700]\ttrain-logloss:0.20395\tvalid-logloss:0.22105\n",
      "[800]\ttrain-logloss:0.20175\tvalid-logloss:0.22072\n",
      "[900]\ttrain-logloss:0.19968\tvalid-logloss:0.22044\n",
      "[1000]\ttrain-logloss:0.19762\tvalid-logloss:0.22027\n",
      "[1100]\ttrain-logloss:0.19566\tvalid-logloss:0.22010\n",
      "[1200]\ttrain-logloss:0.19380\tvalid-logloss:0.21998\n",
      "[1300]\ttrain-logloss:0.19196\tvalid-logloss:0.21990\n",
      "[1400]\ttrain-logloss:0.19023\tvalid-logloss:0.21981\n",
      "[1500]\ttrain-logloss:0.18850\tvalid-logloss:0.21977\n",
      "[1600]\ttrain-logloss:0.18682\tvalid-logloss:0.21974\n",
      "[1700]\ttrain-logloss:0.18521\tvalid-logloss:0.21970\n",
      "[1800]\ttrain-logloss:0.18363\tvalid-logloss:0.21960\n",
      "[1900]\ttrain-logloss:0.18206\tvalid-logloss:0.21960\n",
      "[2000]\ttrain-logloss:0.18048\tvalid-logloss:0.21962\n",
      "[2003]\ttrain-logloss:0.18045\tvalid-logloss:0.21963\n",
      "Kaggle Metric = 0.7873052946931058 \n",
      "\n",
      "#########################\n",
      "### Fold 5\n",
      "### Train size 367131 Valid size 91782\n",
      "### Training with 100% fold data...\n",
      "#########################\n",
      "[0]\ttrain-logloss:0.66203\tvalid-logloss:0.66193\n",
      "[100]\ttrain-logloss:0.23769\tvalid-logloss:0.23819\n",
      "[200]\ttrain-logloss:0.22338\tvalid-logloss:0.22600\n",
      "[300]\ttrain-logloss:0.21740\tvalid-logloss:0.22199\n",
      "[400]\ttrain-logloss:0.21334\tvalid-logloss:0.21981\n",
      "[500]\ttrain-logloss:0.21020\tvalid-logloss:0.21864\n",
      "[600]\ttrain-logloss:0.20751\tvalid-logloss:0.21780\n",
      "[700]\ttrain-logloss:0.20506\tvalid-logloss:0.21722\n",
      "[800]\ttrain-logloss:0.20285\tvalid-logloss:0.21689\n",
      "[900]\ttrain-logloss:0.20072\tvalid-logloss:0.21656\n",
      "[1000]\ttrain-logloss:0.19866\tvalid-logloss:0.21633\n",
      "[1100]\ttrain-logloss:0.19674\tvalid-logloss:0.21619\n",
      "[1200]\ttrain-logloss:0.19492\tvalid-logloss:0.21602\n",
      "[1300]\ttrain-logloss:0.19313\tvalid-logloss:0.21590\n",
      "[1400]\ttrain-logloss:0.19137\tvalid-logloss:0.21583\n",
      "[1500]\ttrain-logloss:0.18963\tvalid-logloss:0.21572\n",
      "[1600]\ttrain-logloss:0.18793\tvalid-logloss:0.21570\n",
      "[1700]\ttrain-logloss:0.18633\tvalid-logloss:0.21565\n",
      "[1800]\ttrain-logloss:0.18474\tvalid-logloss:0.21562\n",
      "[1900]\ttrain-logloss:0.18317\tvalid-logloss:0.21557\n",
      "[2000]\ttrain-logloss:0.18160\tvalid-logloss:0.21550\n",
      "[2100]\ttrain-logloss:0.18006\tvalid-logloss:0.21548\n",
      "[2182]\ttrain-logloss:0.17881\tvalid-logloss:0.21551\n",
      "Kaggle Metric = 0.794064111935902 \n",
      "\n",
      "#########################\n",
      "OVERALL CV Kaggle Metric = 0.7920068513313425\n"
     ]
    }
   ],
   "source": [
    "importances = []\n",
    "oof = []\n",
    "train = train.to_pandas() # free GPU memory\n",
    "TRAIN_SUBSAMPLE = 1.0\n",
    "gc.collect()\n",
    "\n",
    "skf = KFold(n_splits=FOLDS, shuffle=True, random_state=SEED)\n",
    "for fold,(train_idx, valid_idx) in enumerate(skf.split(\n",
    "            train, train.target )):\n",
    "    \n",
    "    # TRAIN WITH SUBSAMPLE OF TRAIN FOLD DATA\n",
    "    if TRAIN_SUBSAMPLE<1.0:\n",
    "        np.random.seed(SEED)\n",
    "        train_idx = np.random.choice(train_idx, \n",
    "                       int(len(train_idx)*TRAIN_SUBSAMPLE), replace=False)\n",
    "        np.random.seed(None)\n",
    "    \n",
    "    print('#'*25)\n",
    "    print('### Fold',fold+1)\n",
    "    print('### Train size',len(train_idx),'Valid size',len(valid_idx))\n",
    "    print(f'### Training with {int(TRAIN_SUBSAMPLE*100)}% fold data...')\n",
    "    print('#'*25)\n",
    "    \n",
    "    # TRAIN, VALID, TEST FOR FOLD K\n",
    "    Xy_train = IterLoadForDMatrix(train.loc[train_idx], FEATURES, 'target')\n",
    "    X_valid = train.loc[valid_idx, FEATURES]\n",
    "    y_valid = train.loc[valid_idx, 'target']\n",
    "    \n",
    "    dtrain = xgb.DeviceQuantileDMatrix(Xy_train, max_bin=256)\n",
    "    dvalid = xgb.DMatrix(data=X_valid, label=y_valid)\n",
    "    \n",
    "    # TRAIN MODEL FOLD K\n",
    "    model = xgb.train(xgb_parms, \n",
    "                dtrain=dtrain,\n",
    "                evals=[(dtrain,'train'),(dvalid,'valid')],\n",
    "                num_boost_round=9999,\n",
    "                early_stopping_rounds=100,\n",
    "                verbose_eval=100) \n",
    "    model.save_model(f'XGB_v{VER}_fold{fold}.xgb')\n",
    "    \n",
    "    # GET FEATURE IMPORTANCE FOR FOLD K\n",
    "    dd = model.get_score(importance_type='weight')\n",
    "    df = pd.DataFrame({'feature':dd.keys(),f'importance_{fold}':dd.values()})\n",
    "    importances.append(df)\n",
    "            \n",
    "    # INFER OOF FOLD K\n",
    "    oof_preds = model.predict(dvalid)\n",
    "    acc = amex_metric_mod(y_valid.values, oof_preds)\n",
    "    print('Kaggle Metric =',acc,'\\n')\n",
    "    \n",
    "    # SAVE OOF\n",
    "    df = train.loc[valid_idx, ['customer_ID','target'] ].copy()\n",
    "    df['oof_pred'] = oof_preds\n",
    "    oof.append( df )\n",
    "    \n",
    "    del dtrain, Xy_train, dd, df\n",
    "    del X_valid, y_valid, dvalid, model\n",
    "    _ = gc.collect()\n",
    "    \n",
    "print('#'*25)\n",
    "oof = pd.concat(oof,axis=0,ignore_index=True).set_index('customer_ID')\n",
    "acc = amex_metric_mod(oof.target.values, oof.oof_pred.values)\n",
    "print('OVERALL CV Kaggle Metric =',acc)"
   ]
  },
  {
   "cell_type": "code",
   "execution_count": 11,
   "id": "dc9df384",
   "metadata": {
    "execution": {
     "iopub.execute_input": "2022-07-29T16:42:09.007024Z",
     "iopub.status.busy": "2022-07-29T16:42:09.006728Z",
     "iopub.status.idle": "2022-07-29T16:42:09.144116Z",
     "shell.execute_reply": "2022-07-29T16:42:09.143229Z"
    },
    "papermill": {
     "duration": 0.153877,
     "end_time": "2022-07-29T16:42:09.145911",
     "exception": false,
     "start_time": "2022-07-29T16:42:08.992034",
     "status": "completed"
    },
    "tags": []
   },
   "outputs": [],
   "source": [
    "# CLEAN RAM\n",
    "del train\n",
    "_ = gc.collect()"
   ]
  },
  {
   "cell_type": "markdown",
   "id": "a2a83e16",
   "metadata": {
    "papermill": {
     "duration": 0.013324,
     "end_time": "2022-07-29T16:42:09.173291",
     "exception": false,
     "start_time": "2022-07-29T16:42:09.159967",
     "status": "completed"
    },
    "tags": []
   },
   "source": [
    "# Save OOF Preds"
   ]
  },
  {
   "cell_type": "code",
   "execution_count": 12,
   "id": "e504e36b",
   "metadata": {
    "execution": {
     "iopub.execute_input": "2022-07-29T16:42:09.202978Z",
     "iopub.status.busy": "2022-07-29T16:42:09.202275Z",
     "iopub.status.idle": "2022-07-29T16:42:13.925011Z",
     "shell.execute_reply": "2022-07-29T16:42:13.924172Z"
    },
    "papermill": {
     "duration": 4.739621,
     "end_time": "2022-07-29T16:42:13.926892",
     "exception": false,
     "start_time": "2022-07-29T16:42:09.187271",
     "status": "completed"
    },
    "tags": []
   },
   "outputs": [
    {
     "data": {
      "text/html": [
       "<div>\n",
       "<style scoped>\n",
       "    .dataframe tbody tr th:only-of-type {\n",
       "        vertical-align: middle;\n",
       "    }\n",
       "\n",
       "    .dataframe tbody tr th {\n",
       "        vertical-align: top;\n",
       "    }\n",
       "\n",
       "    .dataframe thead th {\n",
       "        text-align: right;\n",
       "    }\n",
       "</style>\n",
       "<table border=\"1\" class=\"dataframe\">\n",
       "  <thead>\n",
       "    <tr style=\"text-align: right;\">\n",
       "      <th></th>\n",
       "      <th>customer_ID</th>\n",
       "      <th>target</th>\n",
       "      <th>oof_pred</th>\n",
       "    </tr>\n",
       "  </thead>\n",
       "  <tbody>\n",
       "    <tr>\n",
       "      <th>0</th>\n",
       "      <td>20eac26171c3d251c55fc78204e59fab1c15fc2bc96d0c...</td>\n",
       "      <td>1</td>\n",
       "      <td>0.720899</td>\n",
       "    </tr>\n",
       "    <tr>\n",
       "      <th>1</th>\n",
       "      <td>aea50fdf9b974ccec95fa177c3225a0f913483b457de6e...</td>\n",
       "      <td>0</td>\n",
       "      <td>0.000375</td>\n",
       "    </tr>\n",
       "    <tr>\n",
       "      <th>2</th>\n",
       "      <td>32cd2d41aef737b69089882754395925c96eaee1f4a859...</td>\n",
       "      <td>0</td>\n",
       "      <td>0.001648</td>\n",
       "    </tr>\n",
       "    <tr>\n",
       "      <th>3</th>\n",
       "      <td>8daa6d5dc2655a8a437531e6b8b96829113cdfe9bf6cae...</td>\n",
       "      <td>0</td>\n",
       "      <td>0.017124</td>\n",
       "    </tr>\n",
       "    <tr>\n",
       "      <th>4</th>\n",
       "      <td>0ceba351a3851202542feb49d7385bcef32f6037fc57c7...</td>\n",
       "      <td>1</td>\n",
       "      <td>0.885251</td>\n",
       "    </tr>\n",
       "  </tbody>\n",
       "</table>\n",
       "</div>"
      ],
      "text/plain": [
       "                                         customer_ID  target  oof_pred\n",
       "0  20eac26171c3d251c55fc78204e59fab1c15fc2bc96d0c...       1  0.720899\n",
       "1  aea50fdf9b974ccec95fa177c3225a0f913483b457de6e...       0  0.000375\n",
       "2  32cd2d41aef737b69089882754395925c96eaee1f4a859...       0  0.001648\n",
       "3  8daa6d5dc2655a8a437531e6b8b96829113cdfe9bf6cae...       0  0.017124\n",
       "4  0ceba351a3851202542feb49d7385bcef32f6037fc57c7...       1  0.885251"
      ]
     },
     "execution_count": 12,
     "metadata": {},
     "output_type": "execute_result"
    }
   ],
   "source": [
    "oof_xgb = pd.read_parquet(TRAIN_PATH, columns=['customer_ID']).drop_duplicates()\n",
    "oof_xgb['customer_ID_hash'] = oof_xgb['customer_ID'].apply(lambda x: int(x[-16:],16) ).astype('int64')\n",
    "oof_xgb = oof_xgb.set_index('customer_ID_hash')\n",
    "oof_xgb = oof_xgb.merge(oof, left_index=True, right_index=True)\n",
    "oof_xgb = oof_xgb.sort_index().reset_index(drop=True)\n",
    "oof_xgb.to_csv(f'oof_xgb_v{VER}.csv',index=False)\n",
    "oof_xgb.head()"
   ]
  },
  {
   "cell_type": "code",
   "execution_count": 13,
   "id": "438b56e8",
   "metadata": {
    "execution": {
     "iopub.execute_input": "2022-07-29T16:42:13.955970Z",
     "iopub.status.busy": "2022-07-29T16:42:13.955667Z",
     "iopub.status.idle": "2022-07-29T16:42:14.293043Z",
     "shell.execute_reply": "2022-07-29T16:42:14.292147Z"
    },
    "papermill": {
     "duration": 0.35358,
     "end_time": "2022-07-29T16:42:14.294869",
     "exception": false,
     "start_time": "2022-07-29T16:42:13.941289",
     "status": "completed"
    },
    "tags": []
   },
   "outputs": [
    {
     "data": {
      "image/png": "[encoded data removed]",
      "text/plain": [
       "<Figure size 432x288 with 1 Axes>"
      ]
     },
     "metadata": {
      "needs_background": "light"
     },
     "output_type": "display_data"
    }
   ],
   "source": [
    "# PLOT OOF PREDICTIONS\n",
    "plt.hist(oof_xgb.oof_pred.values, bins=100)\n",
    "plt.title('OOF Predictions')\n",
    "plt.show()"
   ]
  },
  {
   "cell_type": "code",
   "execution_count": 14,
   "id": "3d315b52",
   "metadata": {
    "execution": {
     "iopub.execute_input": "2022-07-29T16:42:14.324637Z",
     "iopub.status.busy": "2022-07-29T16:42:14.324100Z",
     "iopub.status.idle": "2022-07-29T16:42:14.485194Z",
     "shell.execute_reply": "2022-07-29T16:42:14.484365Z"
    },
    "papermill": {
     "duration": 0.17816,
     "end_time": "2022-07-29T16:42:14.487159",
     "exception": false,
     "start_time": "2022-07-29T16:42:14.308999",
     "status": "completed"
    },
    "tags": []
   },
   "outputs": [],
   "source": [
    "# CLEAR VRAM, RAM FOR INFERENCE BELOW\n",
    "del oof_xgb, oof\n",
    "_ = gc.collect()"
   ]
  },
  {
   "cell_type": "markdown",
   "id": "25869036",
   "metadata": {
    "papermill": {
     "duration": 0.013737,
     "end_time": "2022-07-29T16:42:14.515232",
     "exception": false,
     "start_time": "2022-07-29T16:42:14.501495",
     "status": "completed"
    },
    "tags": []
   },
   "source": [
    "# Feature Importance"
   ]
  },
  {
   "cell_type": "code",
   "execution_count": 15,
   "id": "8ea56aba",
   "metadata": {
    "execution": {
     "iopub.execute_input": "2022-07-29T16:42:14.544547Z",
     "iopub.status.busy": "2022-07-29T16:42:14.544200Z",
     "iopub.status.idle": "2022-07-29T16:42:14.569474Z",
     "shell.execute_reply": "2022-07-29T16:42:14.568748Z"
    },
    "papermill": {
     "duration": 0.041833,
     "end_time": "2022-07-29T16:42:14.571197",
     "exception": false,
     "start_time": "2022-07-29T16:42:14.529364",
     "status": "completed"
    },
    "tags": []
   },
   "outputs": [],
   "source": [
    "import matplotlib.pyplot as plt\n",
    "\n",
    "df = importances[0].copy()\n",
    "for k in range(1,FOLDS): df = df.merge(importances[k], on='feature', how='left')\n",
    "df['importance'] = df.iloc[:,1:].mean(axis=1)\n",
    "df = df.sort_values('importance',ascending=False)\n",
    "df.to_csv(f'xgb_feature_importance_v{VER}.csv',index=False)"
   ]
  },
  {
   "cell_type": "code",
   "execution_count": 16,
   "id": "ac8f61cd",
   "metadata": {
    "execution": {
     "iopub.execute_input": "2022-07-29T16:42:14.601233Z",
     "iopub.status.busy": "2022-07-29T16:42:14.600941Z",
     "iopub.status.idle": "2022-07-29T16:42:14.852881Z",
     "shell.execute_reply": "2022-07-29T16:42:14.852204Z"
    },
    "papermill": {
     "duration": 0.268942,
     "end_time": "2022-07-29T16:42:14.854746",
     "exception": false,
     "start_time": "2022-07-29T16:42:14.585804",
     "status": "completed"
    },
    "tags": []
   },
   "outputs": [
    {
     "data": {
      "image/png": "[encoded data removed]",
      "text/plain": [
       "<Figure size 720x720 with 1 Axes>"
      ]
     },
     "metadata": {
      "needs_background": "light"
     },
     "output_type": "display_data"
    }
   ],
   "source": [
    "NUM_FEATURES = 20\n",
    "plt.figure(figsize=(10,5*NUM_FEATURES//10))\n",
    "plt.barh(np.arange(NUM_FEATURES,0,-1), df.importance.values[:NUM_FEATURES])\n",
    "plt.yticks(np.arange(NUM_FEATURES,0,-1), df.feature.values[:NUM_FEATURES])\n",
    "plt.title(f'XGB Feature Importance - Top {NUM_FEATURES}')\n",
    "plt.show()"
   ]
  },
  {
   "cell_type": "markdown",
   "id": "43e12e77",
   "metadata": {
    "papermill": {
     "duration": 0.014064,
     "end_time": "2022-07-29T16:42:14.883949",
     "exception": false,
     "start_time": "2022-07-29T16:42:14.869885",
     "status": "completed"
    },
    "tags": []
   },
   "source": [
    "# Process and Feature Engineer Test Data\n",
    "We will load @raddar Kaggle dataset from [here][1] with discussion [here][2]. Then we will engineer features suggested by @huseyincot in his notebooks [here][1] and [here][4]. We will use [RAPIDS][5] and the GPU to create new features quickly.\n",
    "\n",
    "[1]: https://www.kaggle.com/datasets/raddar/amex-data-integer-dtypes-parquet-format\n",
    "[2]: https://www.kaggle.com/competitions/amex-default-prediction/discussion/328514\n",
    "[3]: https://www.kaggle.com/code/huseyincot/amex-catboost-0-793\n",
    "[4]: https://www.kaggle.com/code/huseyincot/amex-agg-data-how-it-created\n",
    "[5]: https://rapids.ai/"
   ]
  },
  {
   "cell_type": "code",
   "execution_count": 17,
   "id": "62dfd5d7",
   "metadata": {
    "execution": {
     "iopub.execute_input": "2022-07-29T16:42:14.914769Z",
     "iopub.status.busy": "2022-07-29T16:42:14.914480Z",
     "iopub.status.idle": "2022-07-29T16:42:17.622252Z",
     "shell.execute_reply": "2022-07-29T16:42:17.621222Z"
    },
    "papermill": {
     "duration": 2.725049,
     "end_time": "2022-07-29T16:42:17.624072",
     "exception": false,
     "start_time": "2022-07-29T16:42:14.899023",
     "status": "completed"
    },
    "tags": []
   },
   "outputs": [
    {
     "name": "stdout",
     "output_type": "stream",
     "text": [
      "Reading test data...\n",
      "shape of data: (11363762, 2)\n",
      "We will process test data as 4 separate parts.\n",
      "There will be 231155 customers in each part (except the last part).\n",
      "Below are number of rows in each part:\n",
      "[2841209, 2839857, 2842105, 2840591]\n"
     ]
    }
   ],
   "source": [
    "# CALCULATE SIZE OF EACH SEPARATE TEST PART\n",
    "def get_rows(customers, test, NUM_PARTS = 4, verbose = ''):\n",
    "    chunk = len(customers)//NUM_PARTS\n",
    "    if verbose != '':\n",
    "        print(f'We will process {verbose} data as {NUM_PARTS} separate parts.')\n",
    "        print(f'There will be {chunk} customers in each part (except the last part).')\n",
    "        print('Below are number of rows in each part:')\n",
    "    rows = []\n",
    "\n",
    "    for k in range(NUM_PARTS):\n",
    "        if k==NUM_PARTS-1: cc = customers[k*chunk:]\n",
    "        else: cc = customers[k*chunk:(k+1)*chunk]\n",
    "        s = test.loc[test.customer_ID.isin(cc)].shape[0]\n",
    "        rows.append(s)\n",
    "    if verbose != '': print( rows )\n",
    "    return rows,chunk\n",
    "\n",
    "# COMPUTE SIZE OF 4 PARTS FOR TEST DATA\n",
    "NUM_PARTS = 4\n",
    "TEST_PATH = '../input/amex-data-integer-dtypes-parquet-format/test.parquet'\n",
    "\n",
    "print(f'Reading test data...')\n",
    "test = read_file(path = TEST_PATH, usecols = ['customer_ID','S_2'])\n",
    "customers = test[['customer_ID']].drop_duplicates().sort_index().values.flatten()\n",
    "rows,num_cust = get_rows(customers, test[['customer_ID']], NUM_PARTS = NUM_PARTS, verbose = 'test')"
   ]
  },
  {
   "cell_type": "markdown",
   "id": "4c428518",
   "metadata": {
    "papermill": {
     "duration": 0.015151,
     "end_time": "2022-07-29T16:42:17.654107",
     "exception": false,
     "start_time": "2022-07-29T16:42:17.638956",
     "status": "completed"
    },
    "tags": []
   },
   "source": [
    "# Infer Test"
   ]
  },
  {
   "cell_type": "code",
   "execution_count": 18,
   "id": "11273650",
   "metadata": {
    "execution": {
     "iopub.execute_input": "2022-07-29T16:42:17.683795Z",
     "iopub.status.busy": "2022-07-29T16:42:17.683493Z",
     "iopub.status.idle": "2022-07-29T16:44:28.669089Z",
     "shell.execute_reply": "2022-07-29T16:44:28.668302Z"
    },
    "papermill": {
     "duration": 131.003206,
     "end_time": "2022-07-29T16:44:28.671558",
     "exception": false,
     "start_time": "2022-07-29T16:42:17.668352",
     "status": "completed"
    },
    "tags": []
   },
   "outputs": [
    {
     "name": "stdout",
     "output_type": "stream",
     "text": [
      "\n",
      "Reading test data...\n",
      "shape of data: (11363762, 190)\n",
      "=> Test part 1 has shape (2841209, 190)\n",
      "shape after engineering (231155, 565)\n",
      "\n",
      "Reading test data...\n",
      "shape of data: (11363762, 190)\n",
      "=> Test part 2 has shape (2839857, 190)\n",
      "shape after engineering (231155, 565)\n",
      "\n",
      "Reading test data...\n",
      "shape of data: (11363762, 190)\n",
      "=> Test part 3 has shape (2842105, 190)\n",
      "shape after engineering (231155, 565)\n",
      "\n",
      "Reading test data...\n",
      "shape of data: (11363762, 190)\n",
      "=> Test part 4 has shape (2840591, 190)\n",
      "shape after engineering (231156, 565)\n"
     ]
    }
   ],
   "source": [
    "# INFER TEST DATA IN PARTS\n",
    "skip_rows = 0\n",
    "skip_cust = 0\n",
    "test_preds = []\n",
    "\n",
    "for k in range(NUM_PARTS):\n",
    "    \n",
    "    # READ PART OF TEST DATA\n",
    "    print(f'\\nReading test data...')\n",
    "    test = read_file(path = TEST_PATH)\n",
    "    test = test.iloc[skip_rows:skip_rows+rows[k]]\n",
    "    skip_rows += rows[k]\n",
    "    print(f'=> Test part {k+1} has shape', test.shape )\n",
    "    \n",
    "    # PROCESS AND FEATURE ENGINEER PART OF TEST DATA\n",
    "    test = process_and_feature_engineer(test)\n",
    "    if k==NUM_PARTS-1: test = test.loc[customers[skip_cust:]]\n",
    "    else: test = test.loc[customers[skip_cust:skip_cust+num_cust]]\n",
    "    skip_cust += num_cust\n",
    "    \n",
    "    # TEST DATA FOR XGB\n",
    "    X_test = test[FEATURES]\n",
    "    dtest = xgb.DMatrix(data=X_test)\n",
    "    test = test[['P_2_mean']] # reduce memory\n",
    "    del X_test\n",
    "    gc.collect()\n",
    "\n",
    "    # INFER XGB MODELS ON TEST DATA\n",
    "    model = xgb.Booster()\n",
    "    model.load_model(f'XGB_v{VER}_fold0.xgb')\n",
    "    preds = model.predict(dtest)\n",
    "    for f in range(1,FOLDS):\n",
    "        model.load_model(f'XGB_v{VER}_fold{f}.xgb')\n",
    "        preds += model.predict(dtest)\n",
    "    preds /= FOLDS\n",
    "    test_preds.append(preds)\n",
    "\n",
    "    # CLEAN MEMORY\n",
    "    del dtest, model\n",
    "    _ = gc.collect()"
   ]
  },
  {
   "cell_type": "markdown",
   "id": "8152f2fb",
   "metadata": {
    "papermill": {
     "duration": 0.015216,
     "end_time": "2022-07-29T16:44:28.702942",
     "exception": false,
     "start_time": "2022-07-29T16:44:28.687726",
     "status": "completed"
    },
    "tags": []
   },
   "source": [
    "# Create Submission CSV"
   ]
  },
  {
   "cell_type": "code",
   "execution_count": 19,
   "id": "f2cdd313",
   "metadata": {
    "execution": {
     "iopub.execute_input": "2022-07-29T16:44:28.734837Z",
     "iopub.status.busy": "2022-07-29T16:44:28.734296Z",
     "iopub.status.idle": "2022-07-29T16:44:30.044227Z",
     "shell.execute_reply": "2022-07-29T16:44:30.043402Z"
    },
    "papermill": {
     "duration": 1.328175,
     "end_time": "2022-07-29T16:44:30.046688",
     "exception": false,
     "start_time": "2022-07-29T16:44:28.718513",
     "status": "completed"
    },
    "tags": []
   },
   "outputs": [
    {
     "name": "stdout",
     "output_type": "stream",
     "text": [
      "Submission file shape is (924621, 2)\n"
     ]
    },
    {
     "data": {
      "text/html": [
       "<div>\n",
       "<style scoped>\n",
       "    .dataframe tbody tr th:only-of-type {\n",
       "        vertical-align: middle;\n",
       "    }\n",
       "\n",
       "    .dataframe tbody tr th {\n",
       "        vertical-align: top;\n",
       "    }\n",
       "\n",
       "    .dataframe thead th {\n",
       "        text-align: right;\n",
       "    }\n",
       "</style>\n",
       "<table border=\"1\" class=\"dataframe\">\n",
       "  <thead>\n",
       "    <tr style=\"text-align: right;\">\n",
       "      <th></th>\n",
       "      <th>customer_ID</th>\n",
       "      <th>prediction</th>\n",
       "    </tr>\n",
       "  </thead>\n",
       "  <tbody>\n",
       "    <tr>\n",
       "      <th>0</th>\n",
       "      <td>0f7f94e1247f12d2a38fb2b014d6be7175f51b3b4efe9b...</td>\n",
       "      <td>0.024927</td>\n",
       "    </tr>\n",
       "    <tr>\n",
       "      <th>1</th>\n",
       "      <td>0f8086f7297593825bba8c654ea9d35f661089ce25ed79...</td>\n",
       "      <td>0.125454</td>\n",
       "    </tr>\n",
       "    <tr>\n",
       "      <th>2</th>\n",
       "      <td>0f7fe57b8ce23fdd299b99cbcf7fac47e0cdf6459bb616...</td>\n",
       "      <td>0.072436</td>\n",
       "    </tr>\n",
       "    <tr>\n",
       "      <th>3</th>\n",
       "      <td>0f81168c4911b484975ff222f75321396c546b700fa329...</td>\n",
       "      <td>0.059081</td>\n",
       "    </tr>\n",
       "    <tr>\n",
       "      <th>4</th>\n",
       "      <td>0f7f94e3f0e63573b61dccc9fb3c4091ccc8d283d7b58a...</td>\n",
       "      <td>0.009145</td>\n",
       "    </tr>\n",
       "  </tbody>\n",
       "</table>\n",
       "</div>"
      ],
      "text/plain": [
       "                                         customer_ID  prediction\n",
       "0  0f7f94e1247f12d2a38fb2b014d6be7175f51b3b4efe9b...    0.024927\n",
       "1  0f8086f7297593825bba8c654ea9d35f661089ce25ed79...    0.125454\n",
       "2  0f7fe57b8ce23fdd299b99cbcf7fac47e0cdf6459bb616...    0.072436\n",
       "3  0f81168c4911b484975ff222f75321396c546b700fa329...    0.059081\n",
       "4  0f7f94e3f0e63573b61dccc9fb3c4091ccc8d283d7b58a...    0.009145"
      ]
     },
     "execution_count": 19,
     "metadata": {},
     "output_type": "execute_result"
    }
   ],
   "source": [
    "# WRITE SUBMISSION FILE\n",
    "test_preds = np.concatenate(test_preds)\n",
    "test = cudf.DataFrame(index=customers,data={'prediction':test_preds})\n",
    "sub = cudf.read_csv('../input/amex-default-prediction/sample_submission.csv')[['customer_ID']]\n",
    "sub['customer_ID_hash'] = sub['customer_ID'].str[-16:].str.hex_to_int().astype('int64')\n",
    "sub = sub.set_index('customer_ID_hash')\n",
    "sub = sub.merge(test[['prediction']], left_index=True, right_index=True, how='left')\n",
    "sub = sub.reset_index(drop=True)\n",
    "\n",
    "# DISPLAY PREDICTIONS\n",
    "sub.to_csv(f'submission_xgb_v{VER}.csv',index=False)\n",
    "print('Submission file shape is', sub.shape )\n",
    "sub.head()"
   ]
  },
  {
   "cell_type": "code",
   "execution_count": 20,
   "id": "cea6d1e3",
   "metadata": {
    "execution": {
     "iopub.execute_input": "2022-07-29T16:44:30.078974Z",
     "iopub.status.busy": "2022-07-29T16:44:30.078706Z",
     "iopub.status.idle": "2022-07-29T16:44:30.770899Z",
     "shell.execute_reply": "2022-07-29T16:44:30.770156Z"
    },
    "papermill": {
     "duration": 0.710383,
     "end_time": "2022-07-29T16:44:30.773007",
     "exception": false,
     "start_time": "2022-07-29T16:44:30.062624",
     "status": "completed"
    },
    "tags": []
   },
   "outputs": [
    {
     "data": {
      "image/png": "[encoded data removed]",
      "text/plain": [
       "<Figure size 432x288 with 1 Axes>"
      ]
     },
     "metadata": {
      "needs_background": "light"
     },
     "output_type": "display_data"
    }
   ],
   "source": [
    "# PLOT PREDICTIONS\n",
    "plt.hist(sub.to_pandas().prediction, bins=100)\n",
    "plt.title('Test Predictions')\n",
    "plt.show()"
   ]
  }
 ],
 "metadata": {
  "kernelspec": {
   "display_name": "Python 3",
   "language": "python",
   "name": "python3"
  },
  "language_info": {
   "codemirror_mode": {
    "name": "ipython",
    "version": 3
   },
   "file_extension": ".py",
   "mimetype": "text/x-python",
   "name": "python",
   "nbconvert_exporter": "python",
   "pygments_lexer": "ipython3",
   "version": "3.7.12"
  },
  "papermill": {
   "default_parameters": {},
   "duration": 615.214385,
   "end_time": "2022-07-29T16:44:32.213534",
   "environment_variables": {},
   "exception": null,
   "input_path": "__notebook__.ipynb",
   "output_path": "__notebook__.ipynb",
   "parameters": {},
   "start_time": "2022-07-29T16:34:16.999149",
   "version": "2.3.4"
  }
 },
 "nbformat": 4,
 "nbformat_minor": 5
}
