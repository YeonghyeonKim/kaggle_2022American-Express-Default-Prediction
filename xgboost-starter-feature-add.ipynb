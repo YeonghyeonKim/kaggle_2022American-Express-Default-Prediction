{
 "cells": [
  {
   "cell_type": "markdown",
   "id": "542a09d2",
   "metadata": {
    "papermill": {
     "duration": 0.007719,
     "end_time": "2022-08-01T16:10:35.179774",
     "exception": false,
     "start_time": "2022-08-01T16:10:35.172055",
     "status": "completed"
    },
    "tags": []
   },
   "source": [
    "# XGBoost Starter - LB 0.793\n",
    "In this notebook we build and train an XGBoost model using @raddar Kaggle dataset from [here][1] with discussion [here][2]. Then we engineer features suggested by @huseyincot in his notebooks [here][3] and [here][4]. This XGB model achieves CV 0.792 LB 0.793! When training with XGB, we use a special XGB dataloader called `DeviceQuantileDMatrix` which uses a small GPU memory footprint. This allows us to engineer more additional columns and train with more rows of data. Our feature engineering is performed using [RAPIDS][5] on the GPU to create new features quickly.\n",
    "\n",
    "[1]: https://www.kaggle.com/datasets/raddar/amex-data-integer-dtypes-parquet-format\n",
    "[2]: https://www.kaggle.com/competitions/amex-default-prediction/discussion/328514\n",
    "[3]: https://www.kaggle.com/code/huseyincot/amex-catboost-0-793\n",
    "[4]: https://www.kaggle.com/code/huseyincot/amex-agg-data-how-it-created\n",
    "[5]: https://rapids.ai/"
   ]
  },
  {
   "cell_type": "markdown",
   "id": "9b33bd10",
   "metadata": {
    "papermill": {
     "duration": 0.006343,
     "end_time": "2022-08-01T16:10:35.192870",
     "exception": false,
     "start_time": "2022-08-01T16:10:35.186527",
     "status": "completed"
    },
    "tags": []
   },
   "source": [
    "Feature Engineering I done\n",
    "1. Drop B_29, https://www.kaggle.com/code/roberthatch/amex-feature-engg-gpu-or-cpu-process-in-chunks/notebook\n",
    "2. Add each customer count (how long they used) (not normalize)\n",
    "3. Don't fill NaN (with -127)\n",
    "4. remove num_features's min, std\n",
    "5. D_39에 대한 feature 추가 -> CV하락\n",
    "6. B_1과 B_2간의 연관 feature 추가; CV 0.7920\n",
    "7. B_8과 B_9간의 연관 feature 추가; CV 0.7919\n",
    "8. corr가 높은 feature중 제거; CV: 0.7914\n",
    "9. 6+ fillna(method='bfill'); CV: 0.7906 => NaN으로 냅두자\n",
    "10. 마지막 3개월만 이용; 6 + CV: 0.7892; 4 + CV: 0.7886\n",
    "11. 영향도 낮은 features  제거 R_28, D_94, R_2; 10 + CV: 0.7890,4 + CV: 0.7916, 6 + CV: 0.7921\n",
    "<!-- 12. Test시 Fold4 제외; LB에서 체크 예정 -->\n",
    "13-1. 영향도가 0인 features 제거; 12 + CV: 0.7921 (LB 등록시 12번을 적용할지 말지 선택해야함)    \n",
    "13-2. 영향도 범위를 조금 늘림ㅣ 12 + CV: 0.7923, LB: 0.790, 6 + CV: 0.7923, LB: 0.791 (일단 LB가 떨어지긴 하는데 계속 진행)  \n",
    "14. Fold 4;   \n",
    "    6+13-1 CV: 0.7909   \n",
    "    6+13-2 CV: 0.7920, LB: 0.792 (어떻게 해석해야지)  \n",
    "    6+11   CV: \n",
    "\n",
    "<!-- 9. add nasdaq info simply -->"
   ]
  },
  {
   "cell_type": "markdown",
   "id": "2424fffb",
   "metadata": {
    "papermill": {
     "duration": 0.006284,
     "end_time": "2022-08-01T16:10:35.205671",
     "exception": false,
     "start_time": "2022-08-01T16:10:35.199387",
     "status": "completed"
    },
    "tags": []
   },
   "source": [
    "# Load Libraries"
   ]
  },
  {
   "cell_type": "code",
   "execution_count": 1,
   "id": "08d6d73f",
   "metadata": {
    "execution": {
     "iopub.execute_input": "2022-08-01T16:10:35.220781Z",
     "iopub.status.busy": "2022-08-01T16:10:35.220254Z",
     "iopub.status.idle": "2022-08-01T16:10:39.132633Z",
     "shell.execute_reply": "2022-08-01T16:10:39.130234Z"
    },
    "papermill": {
     "duration": 3.922331,
     "end_time": "2022-08-01T16:10:39.134558",
     "exception": false,
     "start_time": "2022-08-01T16:10:35.212227",
     "status": "completed"
    },
    "tags": []
   },
   "outputs": [
    {
     "name": "stdout",
     "output_type": "stream",
     "text": [
      "RAPIDS version 21.10.01\n"
     ]
    }
   ],
   "source": [
    "# LOAD LIBRARIES\n",
    "import pandas as pd, numpy as np # CPU libraries\n",
    "import cupy, cudf # GPU libraries\n",
    "import matplotlib.pyplot as plt, gc, os\n",
    "\n",
    "print('RAPIDS version',cudf.__version__)"
   ]
  },
  {
   "cell_type": "code",
   "execution_count": 2,
   "id": "01918b73",
   "metadata": {
    "execution": {
     "iopub.execute_input": "2022-08-01T16:10:39.150474Z",
     "iopub.status.busy": "2022-08-01T16:10:39.149593Z",
     "iopub.status.idle": "2022-08-01T16:10:39.154530Z",
     "shell.execute_reply": "2022-08-01T16:10:39.153798Z"
    },
    "papermill": {
     "duration": 0.014259,
     "end_time": "2022-08-01T16:10:39.156129",
     "exception": false,
     "start_time": "2022-08-01T16:10:39.141870",
     "status": "completed"
    },
    "tags": []
   },
   "outputs": [],
   "source": [
    "# VERSION NAME FOR SAVED MODEL FILES\n",
    "VER = 1\n",
    "\n",
    "# TRAIN RANDOM SEED\n",
    "SEED = 42\n",
    "\n",
    "# FILL NAN VALUE\n",
    "NAN_VALUE = -127 # will fit in int8\n",
    "\n",
    "# FOLDS PER MODEL\n",
    "FOLDS = 4"
   ]
  },
  {
   "cell_type": "markdown",
   "id": "b9479ee3",
   "metadata": {
    "papermill": {
     "duration": 0.006698,
     "end_time": "2022-08-01T16:10:39.169490",
     "exception": false,
     "start_time": "2022-08-01T16:10:39.162792",
     "status": "completed"
    },
    "tags": []
   },
   "source": [
    "# Process and Feature Engineer Train Data\n",
    "We will load @raddar Kaggle dataset from [here][1] with discussion [here][2]. Then we will engineer features suggested by @huseyincot in his notebooks [here][3] and [here][4]. We will use [RAPIDS][5] and the GPU to create new features quickly.\n",
    "\n",
    "[1]: https://www.kaggle.com/datasets/raddar/amex-data-integer-dtypes-parquet-format\n",
    "[2]: https://www.kaggle.com/competitions/amex-default-prediction/discussion/328514\n",
    "[3]: https://www.kaggle.com/code/huseyincot/amex-catboost-0-793\n",
    "[4]: https://www.kaggle.com/code/huseyincot/amex-agg-data-how-it-created\n",
    "[5]: https://rapids.ai/"
   ]
  },
  {
   "cell_type": "code",
   "execution_count": 3,
   "id": "0653d7ef",
   "metadata": {
    "execution": {
     "iopub.execute_input": "2022-08-01T16:10:39.184132Z",
     "iopub.status.busy": "2022-08-01T16:10:39.183798Z",
     "iopub.status.idle": "2022-08-01T16:11:02.080214Z",
     "shell.execute_reply": "2022-08-01T16:11:02.079036Z"
    },
    "papermill": {
     "duration": 22.90814,
     "end_time": "2022-08-01T16:11:02.084216",
     "exception": false,
     "start_time": "2022-08-01T16:10:39.176076",
     "status": "completed"
    },
    "tags": []
   },
   "outputs": [
    {
     "name": "stdout",
     "output_type": "stream",
     "text": [
      "Reading train data...\n",
      "shape of data: (5531451, 190)\n"
     ]
    }
   ],
   "source": [
    "def read_file(path = '', usecols = None):\n",
    "    # LOAD DATAFRAME\n",
    "    if usecols is not None: df = cudf.read_parquet(path, columns=usecols)\n",
    "    else: df = cudf.read_parquet(path)\n",
    "    # REDUCE DTYPE FOR CUSTOMER AND DATE\n",
    "    df['customer_ID'] = df['customer_ID'].str[-16:].str.hex_to_int().astype('int64')\n",
    "    df.S_2 = cudf.to_datetime( df.S_2 )\n",
    "    # SORT BY CUSTOMER AND DATE (so agg('last') works correctly)\n",
    "    #df = df.sort_values(['customer_ID','S_2'])\n",
    "    #df = df.reset_index(drop=True)\n",
    "    # FILL NAN\n",
    "#     df = df.fillna(NAN_VALUE) \n",
    "    print('shape of data:', df.shape)\n",
    "    \n",
    "    return df\n",
    "\n",
    "print('Reading train data...')\n",
    "TRAIN_PATH = '../input/amex-data-integer-dtypes-parquet-format/train.parquet'\n",
    "train = read_file(path = TRAIN_PATH)"
   ]
  },
  {
   "cell_type": "code",
   "execution_count": 4,
   "id": "7cac0dca",
   "metadata": {
    "execution": {
     "iopub.execute_input": "2022-08-01T16:11:02.108762Z",
     "iopub.status.busy": "2022-08-01T16:11:02.108348Z",
     "iopub.status.idle": "2022-08-01T16:11:02.437853Z",
     "shell.execute_reply": "2022-08-01T16:11:02.437019Z"
    },
    "papermill": {
     "duration": 0.343335,
     "end_time": "2022-08-01T16:11:02.439656",
     "exception": false,
     "start_time": "2022-08-01T16:11:02.096321",
     "status": "completed"
    },
    "tags": []
   },
   "outputs": [
    {
     "data": {
      "text/html": [
       "<div>\n",
       "<style scoped>\n",
       "    .dataframe tbody tr th:only-of-type {\n",
       "        vertical-align: middle;\n",
       "    }\n",
       "\n",
       "    .dataframe tbody tr th {\n",
       "        vertical-align: top;\n",
       "    }\n",
       "\n",
       "    .dataframe thead th {\n",
       "        text-align: right;\n",
       "    }\n",
       "</style>\n",
       "<table border=\"1\" class=\"dataframe\">\n",
       "  <thead>\n",
       "    <tr style=\"text-align: right;\">\n",
       "      <th></th>\n",
       "      <th>customer_ID</th>\n",
       "      <th>S_2</th>\n",
       "      <th>P_2</th>\n",
       "      <th>D_39</th>\n",
       "      <th>B_1</th>\n",
       "      <th>B_2</th>\n",
       "      <th>R_1</th>\n",
       "      <th>S_3</th>\n",
       "      <th>D_41</th>\n",
       "      <th>B_3</th>\n",
       "      <th>...</th>\n",
       "      <th>D_136</th>\n",
       "      <th>D_137</th>\n",
       "      <th>D_138</th>\n",
       "      <th>D_139</th>\n",
       "      <th>D_140</th>\n",
       "      <th>D_141</th>\n",
       "      <th>D_142</th>\n",
       "      <th>D_143</th>\n",
       "      <th>D_144</th>\n",
       "      <th>D_145</th>\n",
       "    </tr>\n",
       "  </thead>\n",
       "  <tbody>\n",
       "    <tr>\n",
       "      <th>0</th>\n",
       "      <td>-4532153018459703766</td>\n",
       "      <td>2017-03-09</td>\n",
       "      <td>0.938469</td>\n",
       "      <td>0</td>\n",
       "      <td>0.008724</td>\n",
       "      <td>1.006838</td>\n",
       "      <td>0.009228</td>\n",
       "      <td>0.124035</td>\n",
       "      <td>0.0</td>\n",
       "      <td>0.004709</td>\n",
       "      <td>...</td>\n",
       "      <td>-1</td>\n",
       "      <td>-1</td>\n",
       "      <td>-1</td>\n",
       "      <td>0</td>\n",
       "      <td>0</td>\n",
       "      <td>0.0</td>\n",
       "      <td>&lt;NA&gt;</td>\n",
       "      <td>0</td>\n",
       "      <td>0.000610</td>\n",
       "      <td>0</td>\n",
       "    </tr>\n",
       "    <tr>\n",
       "      <th>1</th>\n",
       "      <td>-4532153018459703766</td>\n",
       "      <td>2017-04-07</td>\n",
       "      <td>0.936665</td>\n",
       "      <td>0</td>\n",
       "      <td>0.004923</td>\n",
       "      <td>1.000653</td>\n",
       "      <td>0.006151</td>\n",
       "      <td>0.126750</td>\n",
       "      <td>0.0</td>\n",
       "      <td>0.002714</td>\n",
       "      <td>...</td>\n",
       "      <td>-1</td>\n",
       "      <td>-1</td>\n",
       "      <td>-1</td>\n",
       "      <td>0</td>\n",
       "      <td>0</td>\n",
       "      <td>0.0</td>\n",
       "      <td>&lt;NA&gt;</td>\n",
       "      <td>0</td>\n",
       "      <td>0.005492</td>\n",
       "      <td>0</td>\n",
       "    </tr>\n",
       "    <tr>\n",
       "      <th>2</th>\n",
       "      <td>-4532153018459703766</td>\n",
       "      <td>2017-05-28</td>\n",
       "      <td>0.954180</td>\n",
       "      <td>3</td>\n",
       "      <td>0.021655</td>\n",
       "      <td>1.009672</td>\n",
       "      <td>0.006815</td>\n",
       "      <td>0.123977</td>\n",
       "      <td>0.0</td>\n",
       "      <td>0.009423</td>\n",
       "      <td>...</td>\n",
       "      <td>-1</td>\n",
       "      <td>-1</td>\n",
       "      <td>-1</td>\n",
       "      <td>0</td>\n",
       "      <td>0</td>\n",
       "      <td>0.0</td>\n",
       "      <td>&lt;NA&gt;</td>\n",
       "      <td>0</td>\n",
       "      <td>0.006986</td>\n",
       "      <td>0</td>\n",
       "    </tr>\n",
       "    <tr>\n",
       "      <th>3</th>\n",
       "      <td>-4532153018459703766</td>\n",
       "      <td>2017-06-13</td>\n",
       "      <td>0.960384</td>\n",
       "      <td>0</td>\n",
       "      <td>0.013683</td>\n",
       "      <td>1.002700</td>\n",
       "      <td>0.001373</td>\n",
       "      <td>0.117169</td>\n",
       "      <td>0.0</td>\n",
       "      <td>0.005531</td>\n",
       "      <td>...</td>\n",
       "      <td>-1</td>\n",
       "      <td>-1</td>\n",
       "      <td>-1</td>\n",
       "      <td>0</td>\n",
       "      <td>0</td>\n",
       "      <td>0.0</td>\n",
       "      <td>&lt;NA&gt;</td>\n",
       "      <td>0</td>\n",
       "      <td>0.006527</td>\n",
       "      <td>0</td>\n",
       "    </tr>\n",
       "    <tr>\n",
       "      <th>4</th>\n",
       "      <td>-4532153018459703766</td>\n",
       "      <td>2017-07-16</td>\n",
       "      <td>0.947248</td>\n",
       "      <td>0</td>\n",
       "      <td>0.015193</td>\n",
       "      <td>1.000727</td>\n",
       "      <td>0.007605</td>\n",
       "      <td>0.117325</td>\n",
       "      <td>0.0</td>\n",
       "      <td>0.009312</td>\n",
       "      <td>...</td>\n",
       "      <td>-1</td>\n",
       "      <td>-1</td>\n",
       "      <td>-1</td>\n",
       "      <td>0</td>\n",
       "      <td>0</td>\n",
       "      <td>0.0</td>\n",
       "      <td>&lt;NA&gt;</td>\n",
       "      <td>0</td>\n",
       "      <td>0.008126</td>\n",
       "      <td>0</td>\n",
       "    </tr>\n",
       "  </tbody>\n",
       "</table>\n",
       "<p>5 rows × 190 columns</p>\n",
       "</div>"
      ],
      "text/plain": [
       "           customer_ID        S_2       P_2  D_39       B_1       B_2  \\\n",
       "0 -4532153018459703766 2017-03-09  0.938469     0  0.008724  1.006838   \n",
       "1 -4532153018459703766 2017-04-07  0.936665     0  0.004923  1.000653   \n",
       "2 -4532153018459703766 2017-05-28  0.954180     3  0.021655  1.009672   \n",
       "3 -4532153018459703766 2017-06-13  0.960384     0  0.013683  1.002700   \n",
       "4 -4532153018459703766 2017-07-16  0.947248     0  0.015193  1.000727   \n",
       "\n",
       "        R_1       S_3  D_41       B_3  ... D_136  D_137  D_138  D_139  D_140  \\\n",
       "0  0.009228  0.124035   0.0  0.004709  ...    -1     -1     -1      0      0   \n",
       "1  0.006151  0.126750   0.0  0.002714  ...    -1     -1     -1      0      0   \n",
       "2  0.006815  0.123977   0.0  0.009423  ...    -1     -1     -1      0      0   \n",
       "3  0.001373  0.117169   0.0  0.005531  ...    -1     -1     -1      0      0   \n",
       "4  0.007605  0.117325   0.0  0.009312  ...    -1     -1     -1      0      0   \n",
       "\n",
       "   D_141  D_142 D_143     D_144  D_145  \n",
       "0    0.0   <NA>     0  0.000610      0  \n",
       "1    0.0   <NA>     0  0.005492      0  \n",
       "2    0.0   <NA>     0  0.006986      0  \n",
       "3    0.0   <NA>     0  0.006527      0  \n",
       "4    0.0   <NA>     0  0.008126      0  \n",
       "\n",
       "[5 rows x 190 columns]"
      ]
     },
     "execution_count": 4,
     "metadata": {},
     "output_type": "execute_result"
    }
   ],
   "source": [
    "train.head()"
   ]
  },
  {
   "cell_type": "code",
   "execution_count": 5,
   "id": "73fb8c9b",
   "metadata": {
    "execution": {
     "iopub.execute_input": "2022-08-01T16:11:02.455730Z",
     "iopub.status.busy": "2022-08-01T16:11:02.455078Z",
     "iopub.status.idle": "2022-08-01T16:11:04.971583Z",
     "shell.execute_reply": "2022-08-01T16:11:04.970741Z"
    },
    "papermill": {
     "duration": 2.527336,
     "end_time": "2022-08-01T16:11:04.974263",
     "exception": false,
     "start_time": "2022-08-01T16:11:02.446927",
     "status": "completed"
    },
    "tags": []
   },
   "outputs": [
    {
     "name": "stdout",
     "output_type": "stream",
     "text": [
      "shape after engineering (458913, 556)\n"
     ]
    }
   ],
   "source": [
    "def process_and_feature_engineer(df):\n",
    "    # FEATURE ENGINEERING FROM \n",
    "    # https://www.kaggle.com/code/huseyincot/amex-agg-data-how-it-created\n",
    "#     9) nasdaq\n",
    "#     nasdaq_path = '../input/nasdaq/nasdaq.csv'\n",
    "#     nasdaq = cudf.read_csv(nasdaq_path, encoding='utf-8-sig')\n",
    "#     nasdaq.rename(columns={'\\ufeffS_2': 'S_2'}, inplace=True)\n",
    "#     nasdaq.drop(['tradingvolume'], inplace=True, axis=1)\n",
    "#     nasdaq.S_2 = cudf.to_datetime(nasdaq.S_2)\n",
    "#     nasdaq[['closing','open', 'high', 'low']] = nasdaq[['closing','open', 'high', 'low']].astype(float)    \n",
    "#     df = df.merge(nasdaq, on='S_2')\n",
    "    \n",
    "#     1) Drop 'B_29'\n",
    "    df.drop(['B_29'], inplace=True, axis=1)\n",
    "#     11) Drop R_28, D_94, R_2\n",
    "    df.drop(['R_28', 'D_94', 'R_2'], inplace=True, axis=1)\n",
    "    \n",
    "#     6) B1, B2에 연관 feature추가\n",
    "    df['B_1_2'] = df['B_1']/(df['B_2']+0.0000001)\n",
    "\n",
    "#     5) D_39에 대한 feature 추가\n",
    "#     df['D_39_div30'] = df['D_39']/30\n",
    "#     10) 마지막 3개월만 이용\n",
    "#     df = cudf.concat([df.groupby('customer_ID').nth(-3), df.groupby('customer_ID').nth(-2), df.groupby('customer_ID').nth(-1)]).reset_index()\n",
    "\n",
    "    \n",
    "    all_cols = [c for c in list(df.columns) if c not in ['customer_ID','S_2']]\n",
    "    cat_features = [\"B_30\",\"B_38\",\"D_114\",\"D_116\",\"D_117\",\"D_120\",\"D_126\",\"D_63\",\"D_64\",\"D_66\",\"D_68\"]\n",
    "    num_features = [col for col in all_cols if col not in cat_features]\n",
    "    \n",
    "#     2) Add customer count\n",
    "    test_count_agg = df.groupby(['customer_ID'])['S_2'].agg(['count'])\n",
    "\n",
    "\n",
    "    test_num_agg = df.groupby(\"customer_ID\")[num_features].agg(['mean', 'max', 'last'])\n",
    "    test_num_agg.columns = ['_'.join(x) for x in test_num_agg.columns]\n",
    "\n",
    "    test_cat_agg = df.groupby(\"customer_ID\")[cat_features].agg(['count', 'last', 'nunique'])\n",
    "    test_cat_agg.columns = ['_'.join(x) for x in test_cat_agg.columns]\n",
    "\n",
    "    df = cudf.concat([test_count_agg,test_num_agg, test_cat_agg], axis=1)\n",
    "\n",
    "    \n",
    "    del test_num_agg, test_cat_agg\n",
    "    print('shape after engineering', df.shape )\n",
    "    \n",
    "    return df\n",
    "\n",
    "train = process_and_feature_engineer(train)"
   ]
  },
  {
   "cell_type": "code",
   "execution_count": 6,
   "id": "1351382f",
   "metadata": {
    "execution": {
     "iopub.execute_input": "2022-08-01T16:11:04.991622Z",
     "iopub.status.busy": "2022-08-01T16:11:04.991288Z",
     "iopub.status.idle": "2022-08-01T16:11:05.949970Z",
     "shell.execute_reply": "2022-08-01T16:11:05.948728Z"
    },
    "papermill": {
     "duration": 0.969518,
     "end_time": "2022-08-01T16:11:05.951795",
     "exception": false,
     "start_time": "2022-08-01T16:11:04.982277",
     "status": "completed"
    },
    "tags": []
   },
   "outputs": [
    {
     "name": "stdout",
     "output_type": "stream",
     "text": [
      "There are 556 features!\n"
     ]
    }
   ],
   "source": [
    "# ADD TARGETS\n",
    "targets = cudf.read_csv('../input/amex-default-prediction/train_labels.csv')\n",
    "targets['customer_ID'] = targets['customer_ID'].str[-16:].str.hex_to_int().astype('int64')\n",
    "targets = targets.set_index('customer_ID')\n",
    "train = train.merge(targets, left_index=True, right_index=True, how='left')\n",
    "train.target = train.target.astype('int8')\n",
    "del targets\n",
    "\n",
    "# NEEDED TO MAKE CV DETERMINISTIC (cudf merge above randomly shuffles rows)\n",
    "train = train.sort_index().reset_index()\n",
    "\n",
    "# FEATURES\n",
    "FEATURES = train.columns[1:-1]\n",
    "print(f'There are {len(FEATURES)} features!')"
   ]
  },
  {
   "cell_type": "markdown",
   "id": "3a81855b",
   "metadata": {
    "papermill": {
     "duration": 0.007113,
     "end_time": "2022-08-01T16:11:05.966426",
     "exception": false,
     "start_time": "2022-08-01T16:11:05.959313",
     "status": "completed"
    },
    "tags": []
   },
   "source": [
    "# Train XGB\n",
    "We will train using `DeviceQuantileDMatrix`. This has a very small GPU memory footprint."
   ]
  },
  {
   "cell_type": "code",
   "execution_count": 7,
   "id": "97180223",
   "metadata": {
    "execution": {
     "iopub.execute_input": "2022-08-01T16:11:05.984097Z",
     "iopub.status.busy": "2022-08-01T16:11:05.983768Z",
     "iopub.status.idle": "2022-08-01T16:11:06.067901Z",
     "shell.execute_reply": "2022-08-01T16:11:06.067117Z"
    },
    "papermill": {
     "duration": 0.095665,
     "end_time": "2022-08-01T16:11:06.070782",
     "exception": false,
     "start_time": "2022-08-01T16:11:05.975117",
     "status": "completed"
    },
    "tags": []
   },
   "outputs": [
    {
     "name": "stdout",
     "output_type": "stream",
     "text": [
      "XGB Version 1.6.1\n"
     ]
    }
   ],
   "source": [
    "# LOAD XGB LIBRARY\n",
    "from sklearn.model_selection import KFold\n",
    "import xgboost as xgb\n",
    "print('XGB Version',xgb.__version__)\n",
    "\n",
    "# XGB MODEL PARAMETERS\n",
    "xgb_parms = { \n",
    "    'max_depth':4, \n",
    "    'learning_rate':0.05, \n",
    "    'subsample':0.8,\n",
    "    'colsample_bytree':0.6, \n",
    "    'eval_metric':'logloss',\n",
    "    'objective':'binary:logistic',\n",
    "    'tree_method':'gpu_hist',\n",
    "    'predictor':'gpu_predictor',\n",
    "    'random_state':SEED\n",
    "}"
   ]
  },
  {
   "cell_type": "code",
   "execution_count": 8,
   "id": "495d3591",
   "metadata": {
    "execution": {
     "iopub.execute_input": "2022-08-01T16:11:06.088400Z",
     "iopub.status.busy": "2022-08-01T16:11:06.087785Z",
     "iopub.status.idle": "2022-08-01T16:11:06.097749Z",
     "shell.execute_reply": "2022-08-01T16:11:06.097041Z"
    },
    "papermill": {
     "duration": 0.02039,
     "end_time": "2022-08-01T16:11:06.099415",
     "exception": false,
     "start_time": "2022-08-01T16:11:06.079025",
     "status": "completed"
    },
    "tags": []
   },
   "outputs": [],
   "source": [
    "# NEEDED WITH DeviceQuantileDMatrix BELOW\n",
    "class IterLoadForDMatrix(xgb.core.DataIter):\n",
    "    def __init__(self, df=None, features=None, target=None, batch_size=256*1024):\n",
    "        self.features = features\n",
    "        self.target = target\n",
    "        self.df = df\n",
    "        self.it = 0 # set iterator to 0\n",
    "        self.batch_size = batch_size\n",
    "        self.batches = int( np.ceil( len(df) / self.batch_size ) )\n",
    "        super().__init__()\n",
    "\n",
    "    def reset(self):\n",
    "        '''Reset the iterator'''\n",
    "        self.it = 0\n",
    "\n",
    "    def next(self, input_data):\n",
    "        '''Yield next batch of data.'''\n",
    "        if self.it == self.batches:\n",
    "            return 0 # Return 0 when there's no more batch.\n",
    "        \n",
    "        a = self.it * self.batch_size\n",
    "        b = min( (self.it + 1) * self.batch_size, len(self.df) )\n",
    "        dt = cudf.DataFrame(self.df.iloc[a:b])\n",
    "        input_data(data=dt[self.features], label=dt[self.target]) #, weight=dt['weight'])\n",
    "        self.it += 1\n",
    "        return 1"
   ]
  },
  {
   "cell_type": "code",
   "execution_count": 9,
   "id": "b6e983d5",
   "metadata": {
    "execution": {
     "iopub.execute_input": "2022-08-01T16:11:06.116024Z",
     "iopub.status.busy": "2022-08-01T16:11:06.115713Z",
     "iopub.status.idle": "2022-08-01T16:11:06.125039Z",
     "shell.execute_reply": "2022-08-01T16:11:06.124227Z"
    },
    "papermill": {
     "duration": 0.020057,
     "end_time": "2022-08-01T16:11:06.126807",
     "exception": false,
     "start_time": "2022-08-01T16:11:06.106750",
     "status": "completed"
    },
    "tags": []
   },
   "outputs": [],
   "source": [
    "# https://www.kaggle.com/kyakovlev\n",
    "# https://www.kaggle.com/competitions/amex-default-prediction/discussion/327534\n",
    "def amex_metric_mod(y_true, y_pred):\n",
    "\n",
    "    labels     = np.transpose(np.array([y_true, y_pred]))\n",
    "    labels     = labels[labels[:, 1].argsort()[::-1]]\n",
    "    weights    = np.where(labels[:,0]==0, 20, 1)\n",
    "    cut_vals   = labels[np.cumsum(weights) <= int(0.04 * np.sum(weights))]\n",
    "    top_four   = np.sum(cut_vals[:,0]) / np.sum(labels[:,0])\n",
    "\n",
    "    gini = [0,0]\n",
    "    for i in [1,0]:\n",
    "        labels         = np.transpose(np.array([y_true, y_pred]))\n",
    "        labels         = labels[labels[:, i].argsort()[::-1]]\n",
    "        weight         = np.where(labels[:,0]==0, 20, 1)\n",
    "        weight_random  = np.cumsum(weight / np.sum(weight))\n",
    "        total_pos      = np.sum(labels[:, 0] *  weight)\n",
    "        cum_pos_found  = np.cumsum(labels[:, 0] * weight)\n",
    "        lorentz        = cum_pos_found / total_pos\n",
    "        gini[i]        = np.sum((lorentz - weight_random) * weight)\n",
    "\n",
    "    return 0.5 * (gini[1]/gini[0] + top_four)"
   ]
  },
  {
   "cell_type": "code",
   "execution_count": 10,
   "id": "63dd4c2b",
   "metadata": {
    "execution": {
     "iopub.execute_input": "2022-08-01T16:11:06.143745Z",
     "iopub.status.busy": "2022-08-01T16:11:06.142871Z",
     "iopub.status.idle": "2022-08-01T16:16:06.363821Z",
     "shell.execute_reply": "2022-08-01T16:16:06.362434Z"
    },
    "papermill": {
     "duration": 300.232115,
     "end_time": "2022-08-01T16:16:06.366188",
     "exception": false,
     "start_time": "2022-08-01T16:11:06.134073",
     "status": "completed"
    },
    "scrolled": true,
    "tags": []
   },
   "outputs": [
    {
     "name": "stdout",
     "output_type": "stream",
     "text": [
      "#########################\n",
      "### Fold 1\n",
      "### Train size 344184 Valid size 114729\n",
      "### Training with 100% fold data...\n",
      "#########################\n",
      "[0]\ttrain-logloss:0.66356\tvalid-logloss:0.66355\n",
      "[100]\ttrain-logloss:0.23694\tvalid-logloss:0.23930\n",
      "[200]\ttrain-logloss:0.22259\tvalid-logloss:0.22734\n",
      "[300]\ttrain-logloss:0.21635\tvalid-logloss:0.22322\n",
      "[400]\ttrain-logloss:0.21231\tvalid-logloss:0.22111\n",
      "[500]\ttrain-logloss:0.20908\tvalid-logloss:0.21985\n",
      "[600]\ttrain-logloss:0.20631\tvalid-logloss:0.21910\n",
      "[700]\ttrain-logloss:0.20377\tvalid-logloss:0.21856\n",
      "[800]\ttrain-logloss:0.20145\tvalid-logloss:0.21809\n",
      "[900]\ttrain-logloss:0.19927\tvalid-logloss:0.21779\n",
      "[1000]\ttrain-logloss:0.19730\tvalid-logloss:0.21762\n",
      "[1100]\ttrain-logloss:0.19527\tvalid-logloss:0.21750\n",
      "[1200]\ttrain-logloss:0.19335\tvalid-logloss:0.21734\n",
      "[1300]\ttrain-logloss:0.19148\tvalid-logloss:0.21720\n",
      "[1400]\ttrain-logloss:0.18962\tvalid-logloss:0.21709\n",
      "[1500]\ttrain-logloss:0.18783\tvalid-logloss:0.21700\n",
      "[1600]\ttrain-logloss:0.18610\tvalid-logloss:0.21699\n",
      "[1700]\ttrain-logloss:0.18435\tvalid-logloss:0.21688\n",
      "[1800]\ttrain-logloss:0.18262\tvalid-logloss:0.21689\n",
      "[1900]\ttrain-logloss:0.18096\tvalid-logloss:0.21682\n",
      "[2000]\ttrain-logloss:0.17931\tvalid-logloss:0.21681\n",
      "[2100]\ttrain-logloss:0.17771\tvalid-logloss:0.21681\n",
      "[2140]\ttrain-logloss:0.17709\tvalid-logloss:0.21683\n",
      "Kaggle Metric = 0.7921982937012604 \n",
      "\n",
      "#########################\n",
      "### Fold 2\n",
      "### Train size 344185 Valid size 114728\n",
      "### Training with 100% fold data...\n",
      "#########################\n",
      "[0]\ttrain-logloss:0.66349\tvalid-logloss:0.66355\n",
      "[100]\ttrain-logloss:0.23708\tvalid-logloss:0.23904\n",
      "[200]\ttrain-logloss:0.22280\tvalid-logloss:0.22691\n",
      "[300]\ttrain-logloss:0.21660\tvalid-logloss:0.22279\n",
      "[400]\ttrain-logloss:0.21252\tvalid-logloss:0.22078\n",
      "[500]\ttrain-logloss:0.20931\tvalid-logloss:0.21960\n",
      "[600]\ttrain-logloss:0.20655\tvalid-logloss:0.21884\n",
      "[700]\ttrain-logloss:0.20403\tvalid-logloss:0.21820\n",
      "[800]\ttrain-logloss:0.20173\tvalid-logloss:0.21777\n",
      "[900]\ttrain-logloss:0.19951\tvalid-logloss:0.21745\n",
      "[1000]\ttrain-logloss:0.19749\tvalid-logloss:0.21723\n",
      "[1100]\ttrain-logloss:0.19546\tvalid-logloss:0.21708\n",
      "[1200]\ttrain-logloss:0.19349\tvalid-logloss:0.21695\n",
      "[1300]\ttrain-logloss:0.19152\tvalid-logloss:0.21679\n",
      "[1400]\ttrain-logloss:0.18972\tvalid-logloss:0.21672\n",
      "[1500]\ttrain-logloss:0.18797\tvalid-logloss:0.21663\n",
      "[1600]\ttrain-logloss:0.18615\tvalid-logloss:0.21656\n",
      "[1700]\ttrain-logloss:0.18443\tvalid-logloss:0.21652\n",
      "[1800]\ttrain-logloss:0.18274\tvalid-logloss:0.21647\n",
      "[1843]\ttrain-logloss:0.18205\tvalid-logloss:0.21646\n",
      "Kaggle Metric = 0.7922103099481069 \n",
      "\n",
      "#########################\n",
      "### Fold 3\n",
      "### Train size 344185 Valid size 114728\n",
      "### Training with 100% fold data...\n",
      "#########################\n",
      "[0]\ttrain-logloss:0.66351\tvalid-logloss:0.66363\n",
      "[100]\ttrain-logloss:0.23618\tvalid-logloss:0.24058\n",
      "[200]\ttrain-logloss:0.22188\tvalid-logloss:0.22896\n",
      "[300]\ttrain-logloss:0.21565\tvalid-logloss:0.22511\n",
      "[400]\ttrain-logloss:0.21158\tvalid-logloss:0.22329\n",
      "[500]\ttrain-logloss:0.20832\tvalid-logloss:0.22218\n",
      "[600]\ttrain-logloss:0.20554\tvalid-logloss:0.22147\n",
      "[700]\ttrain-logloss:0.20304\tvalid-logloss:0.22103\n",
      "[800]\ttrain-logloss:0.20070\tvalid-logloss:0.22067\n",
      "[900]\ttrain-logloss:0.19848\tvalid-logloss:0.22040\n",
      "[1000]\ttrain-logloss:0.19642\tvalid-logloss:0.22022\n",
      "[1100]\ttrain-logloss:0.19441\tvalid-logloss:0.22008\n",
      "[1200]\ttrain-logloss:0.19244\tvalid-logloss:0.21998\n",
      "[1300]\ttrain-logloss:0.19053\tvalid-logloss:0.21985\n",
      "[1400]\ttrain-logloss:0.18865\tvalid-logloss:0.21979\n",
      "[1500]\ttrain-logloss:0.18685\tvalid-logloss:0.21977\n",
      "[1600]\ttrain-logloss:0.18516\tvalid-logloss:0.21973\n",
      "[1700]\ttrain-logloss:0.18350\tvalid-logloss:0.21964\n",
      "[1800]\ttrain-logloss:0.18181\tvalid-logloss:0.21963\n",
      "[1900]\ttrain-logloss:0.18015\tvalid-logloss:0.21963\n",
      "[1945]\ttrain-logloss:0.17940\tvalid-logloss:0.21966\n",
      "Kaggle Metric = 0.7873775809820369 \n",
      "\n",
      "#########################\n",
      "### Fold 4\n",
      "### Train size 344185 Valid size 114728\n",
      "### Training with 100% fold data...\n",
      "#########################\n",
      "[0]\ttrain-logloss:0.66346\tvalid-logloss:0.66347\n",
      "[100]\ttrain-logloss:0.23717\tvalid-logloss:0.23854\n",
      "[200]\ttrain-logloss:0.22281\tvalid-logloss:0.22628\n",
      "[300]\ttrain-logloss:0.21676\tvalid-logloss:0.22230\n",
      "[400]\ttrain-logloss:0.21277\tvalid-logloss:0.22036\n",
      "[500]\ttrain-logloss:0.20943\tvalid-logloss:0.21905\n",
      "[600]\ttrain-logloss:0.20668\tvalid-logloss:0.21828\n",
      "[700]\ttrain-logloss:0.20414\tvalid-logloss:0.21765\n",
      "[800]\ttrain-logloss:0.20181\tvalid-logloss:0.21722\n",
      "[900]\ttrain-logloss:0.19969\tvalid-logloss:0.21706\n",
      "[1000]\ttrain-logloss:0.19763\tvalid-logloss:0.21675\n",
      "[1100]\ttrain-logloss:0.19560\tvalid-logloss:0.21652\n",
      "[1200]\ttrain-logloss:0.19371\tvalid-logloss:0.21643\n",
      "[1300]\ttrain-logloss:0.19184\tvalid-logloss:0.21634\n",
      "[1400]\ttrain-logloss:0.18997\tvalid-logloss:0.21625\n",
      "[1500]\ttrain-logloss:0.18818\tvalid-logloss:0.21616\n",
      "[1600]\ttrain-logloss:0.18641\tvalid-logloss:0.21610\n",
      "[1700]\ttrain-logloss:0.18472\tvalid-logloss:0.21611\n",
      "[1800]\ttrain-logloss:0.18303\tvalid-logloss:0.21605\n",
      "[1900]\ttrain-logloss:0.18136\tvalid-logloss:0.21609\n",
      "[1927]\ttrain-logloss:0.18090\tvalid-logloss:0.21609\n",
      "Kaggle Metric = 0.7950388947217631 \n",
      "\n",
      "#########################\n",
      "OVERALL CV Kaggle Metric = 0.7917296964347613\n"
     ]
    }
   ],
   "source": [
    "importances = []\n",
    "oof = []\n",
    "train = train.to_pandas() # free GPU memory\n",
    "TRAIN_SUBSAMPLE = 1.0\n",
    "gc.collect()\n",
    "\n",
    "skf = KFold(n_splits=FOLDS, shuffle=True, random_state=SEED)\n",
    "for fold,(train_idx, valid_idx) in enumerate(skf.split(\n",
    "            train, train.target )):\n",
    "    \n",
    "    # TRAIN WITH SUBSAMPLE OF TRAIN FOLD DATA\n",
    "    if TRAIN_SUBSAMPLE<1.0:\n",
    "        np.random.seed(SEED)\n",
    "        train_idx = np.random.choice(train_idx, \n",
    "                       int(len(train_idx)*TRAIN_SUBSAMPLE), replace=False)\n",
    "        np.random.seed(None)\n",
    "    \n",
    "    print('#'*25)\n",
    "    print('### Fold',fold+1)\n",
    "    print('### Train size',len(train_idx),'Valid size',len(valid_idx))\n",
    "    print(f'### Training with {int(TRAIN_SUBSAMPLE*100)}% fold data...')\n",
    "    print('#'*25)\n",
    "    \n",
    "    # TRAIN, VALID, TEST FOR FOLD K\n",
    "    Xy_train = IterLoadForDMatrix(train.loc[train_idx], FEATURES, 'target')\n",
    "    X_valid = train.loc[valid_idx, FEATURES]\n",
    "    y_valid = train.loc[valid_idx, 'target']\n",
    "    \n",
    "    dtrain = xgb.DeviceQuantileDMatrix(Xy_train, max_bin=256)\n",
    "    dvalid = xgb.DMatrix(data=X_valid, label=y_valid)\n",
    "    \n",
    "    # TRAIN MODEL FOLD K\n",
    "    model = xgb.train(xgb_parms, \n",
    "                dtrain=dtrain,\n",
    "                evals=[(dtrain,'train'),(dvalid,'valid')],\n",
    "                num_boost_round=9999,\n",
    "                early_stopping_rounds=100,\n",
    "                verbose_eval=100) \n",
    "    model.save_model(f'XGB_v{VER}_fold{fold}.xgb')\n",
    "    \n",
    "    # GET FEATURE IMPORTANCE FOR FOLD K\n",
    "    dd = model.get_score(importance_type='weight')\n",
    "    df = pd.DataFrame({'feature':dd.keys(),f'importance_{fold}':dd.values()})\n",
    "    importances.append(df)\n",
    "            \n",
    "    # INFER OOF FOLD K\n",
    "    oof_preds = model.predict(dvalid)\n",
    "    acc = amex_metric_mod(y_valid.values, oof_preds)\n",
    "    print('Kaggle Metric =',acc,'\\n')\n",
    "    \n",
    "    # SAVE OOF\n",
    "    df = train.loc[valid_idx, ['customer_ID','target'] ].copy()\n",
    "    df['oof_pred'] = oof_preds\n",
    "    oof.append( df )\n",
    "    \n",
    "    del dtrain, Xy_train, dd, df\n",
    "    del X_valid, y_valid, dvalid, model\n",
    "    _ = gc.collect()\n",
    "    \n",
    "print('#'*25)\n",
    "oof = pd.concat(oof,axis=0,ignore_index=True).set_index('customer_ID')\n",
    "acc = amex_metric_mod(oof.target.values, oof.oof_pred.values)\n",
    "print('OVERALL CV Kaggle Metric =',acc)"
   ]
  },
  {
   "cell_type": "code",
   "execution_count": 11,
   "id": "3d370a29",
   "metadata": {
    "execution": {
     "iopub.execute_input": "2022-08-01T16:16:06.393555Z",
     "iopub.status.busy": "2022-08-01T16:16:06.393030Z",
     "iopub.status.idle": "2022-08-01T16:16:06.538362Z",
     "shell.execute_reply": "2022-08-01T16:16:06.537442Z"
    },
    "papermill": {
     "duration": 0.160658,
     "end_time": "2022-08-01T16:16:06.540098",
     "exception": false,
     "start_time": "2022-08-01T16:16:06.379440",
     "status": "completed"
    },
    "tags": []
   },
   "outputs": [],
   "source": [
    "# CLEAN RAM\n",
    "del train\n",
    "_ = gc.collect()"
   ]
  },
  {
   "cell_type": "markdown",
   "id": "c07c1004",
   "metadata": {
    "papermill": {
     "duration": 0.012308,
     "end_time": "2022-08-01T16:16:06.565141",
     "exception": false,
     "start_time": "2022-08-01T16:16:06.552833",
     "status": "completed"
    },
    "tags": []
   },
   "source": [
    "# Save OOF Preds"
   ]
  },
  {
   "cell_type": "code",
   "execution_count": 12,
   "id": "ee2e68e9",
   "metadata": {
    "execution": {
     "iopub.execute_input": "2022-08-01T16:16:06.591471Z",
     "iopub.status.busy": "2022-08-01T16:16:06.590732Z",
     "iopub.status.idle": "2022-08-01T16:16:11.461808Z",
     "shell.execute_reply": "2022-08-01T16:16:11.460956Z"
    },
    "papermill": {
     "duration": 4.88667,
     "end_time": "2022-08-01T16:16:11.464208",
     "exception": false,
     "start_time": "2022-08-01T16:16:06.577538",
     "status": "completed"
    },
    "tags": []
   },
   "outputs": [
    {
     "data": {
      "text/html": [
       "<div>\n",
       "<style scoped>\n",
       "    .dataframe tbody tr th:only-of-type {\n",
       "        vertical-align: middle;\n",
       "    }\n",
       "\n",
       "    .dataframe tbody tr th {\n",
       "        vertical-align: top;\n",
       "    }\n",
       "\n",
       "    .dataframe thead th {\n",
       "        text-align: right;\n",
       "    }\n",
       "</style>\n",
       "<table border=\"1\" class=\"dataframe\">\n",
       "  <thead>\n",
       "    <tr style=\"text-align: right;\">\n",
       "      <th></th>\n",
       "      <th>customer_ID</th>\n",
       "      <th>target</th>\n",
       "      <th>oof_pred</th>\n",
       "    </tr>\n",
       "  </thead>\n",
       "  <tbody>\n",
       "    <tr>\n",
       "      <th>0</th>\n",
       "      <td>20eac26171c3d251c55fc78204e59fab1c15fc2bc96d0c...</td>\n",
       "      <td>1</td>\n",
       "      <td>0.692880</td>\n",
       "    </tr>\n",
       "    <tr>\n",
       "      <th>1</th>\n",
       "      <td>aea50fdf9b974ccec95fa177c3225a0f913483b457de6e...</td>\n",
       "      <td>0</td>\n",
       "      <td>0.000297</td>\n",
       "    </tr>\n",
       "    <tr>\n",
       "      <th>2</th>\n",
       "      <td>32cd2d41aef737b69089882754395925c96eaee1f4a859...</td>\n",
       "      <td>0</td>\n",
       "      <td>0.001562</td>\n",
       "    </tr>\n",
       "    <tr>\n",
       "      <th>3</th>\n",
       "      <td>8daa6d5dc2655a8a437531e6b8b96829113cdfe9bf6cae...</td>\n",
       "      <td>0</td>\n",
       "      <td>0.016268</td>\n",
       "    </tr>\n",
       "    <tr>\n",
       "      <th>4</th>\n",
       "      <td>0ceba351a3851202542feb49d7385bcef32f6037fc57c7...</td>\n",
       "      <td>1</td>\n",
       "      <td>0.874589</td>\n",
       "    </tr>\n",
       "  </tbody>\n",
       "</table>\n",
       "</div>"
      ],
      "text/plain": [
       "                                         customer_ID  target  oof_pred\n",
       "0  20eac26171c3d251c55fc78204e59fab1c15fc2bc96d0c...       1  0.692880\n",
       "1  aea50fdf9b974ccec95fa177c3225a0f913483b457de6e...       0  0.000297\n",
       "2  32cd2d41aef737b69089882754395925c96eaee1f4a859...       0  0.001562\n",
       "3  8daa6d5dc2655a8a437531e6b8b96829113cdfe9bf6cae...       0  0.016268\n",
       "4  0ceba351a3851202542feb49d7385bcef32f6037fc57c7...       1  0.874589"
      ]
     },
     "execution_count": 12,
     "metadata": {},
     "output_type": "execute_result"
    }
   ],
   "source": [
    "oof_xgb = pd.read_parquet(TRAIN_PATH, columns=['customer_ID']).drop_duplicates()\n",
    "oof_xgb['customer_ID_hash'] = oof_xgb['customer_ID'].apply(lambda x: int(x[-16:],16) ).astype('int64')\n",
    "oof_xgb = oof_xgb.set_index('customer_ID_hash')\n",
    "oof_xgb = oof_xgb.merge(oof, left_index=True, right_index=True)\n",
    "oof_xgb = oof_xgb.sort_index().reset_index(drop=True)\n",
    "oof_xgb.to_csv(f'oof_xgb_v{VER}.csv',index=False)\n",
    "oof_xgb.head()"
   ]
  },
  {
   "cell_type": "code",
   "execution_count": 13,
   "id": "5246a5b5",
   "metadata": {
    "execution": {
     "iopub.execute_input": "2022-08-01T16:16:11.490720Z",
     "iopub.status.busy": "2022-08-01T16:16:11.490429Z",
     "iopub.status.idle": "2022-08-01T16:16:11.839791Z",
     "shell.execute_reply": "2022-08-01T16:16:11.839004Z"
    },
    "papermill": {
     "duration": 0.364444,
     "end_time": "2022-08-01T16:16:11.841592",
     "exception": false,
     "start_time": "2022-08-01T16:16:11.477148",
     "status": "completed"
    },
    "tags": []
   },
   "outputs": [
    {
     "data": {
      "image/png": "[encoded data removed]",
      "text/plain": [
       "<Figure size 432x288 with 1 Axes>"
      ]
     },
     "metadata": {
      "needs_background": "light"
     },
     "output_type": "display_data"
    }
   ],
   "source": [
    "# PLOT OOF PREDICTIONS\n",
    "plt.hist(oof_xgb.oof_pred.values, bins=100)\n",
    "plt.title('OOF Predictions')\n",
    "plt.show()"
   ]
  },
  {
   "cell_type": "code",
   "execution_count": 14,
   "id": "7a3cc3bf",
   "metadata": {
    "execution": {
     "iopub.execute_input": "2022-08-01T16:16:11.868590Z",
     "iopub.status.busy": "2022-08-01T16:16:11.868298Z",
     "iopub.status.idle": "2022-08-01T16:16:12.009746Z",
     "shell.execute_reply": "2022-08-01T16:16:12.008841Z"
    },
    "papermill": {
     "duration": 0.157012,
     "end_time": "2022-08-01T16:16:12.011766",
     "exception": false,
     "start_time": "2022-08-01T16:16:11.854754",
     "status": "completed"
    },
    "tags": []
   },
   "outputs": [],
   "source": [
    "# CLEAR VRAM, RAM FOR INFERENCE BELOW\n",
    "del oof_xgb, oof\n",
    "_ = gc.collect()"
   ]
  },
  {
   "cell_type": "markdown",
   "id": "88eb7d50",
   "metadata": {
    "papermill": {
     "duration": 0.012888,
     "end_time": "2022-08-01T16:16:12.037665",
     "exception": false,
     "start_time": "2022-08-01T16:16:12.024777",
     "status": "completed"
    },
    "tags": []
   },
   "source": [
    "# Feature Importance"
   ]
  },
  {
   "cell_type": "code",
   "execution_count": 15,
   "id": "f80ec5c2",
   "metadata": {
    "execution": {
     "iopub.execute_input": "2022-08-01T16:16:12.066156Z",
     "iopub.status.busy": "2022-08-01T16:16:12.065802Z",
     "iopub.status.idle": "2022-08-01T16:16:12.089687Z",
     "shell.execute_reply": "2022-08-01T16:16:12.088903Z"
    },
    "papermill": {
     "duration": 0.040562,
     "end_time": "2022-08-01T16:16:12.091492",
     "exception": false,
     "start_time": "2022-08-01T16:16:12.050930",
     "status": "completed"
    },
    "tags": []
   },
   "outputs": [],
   "source": [
    "import matplotlib.pyplot as plt\n",
    "\n",
    "df = importances[0].copy()\n",
    "for k in range(1,FOLDS): df = df.merge(importances[k], on='feature', how='left')\n",
    "df['importance'] = df.iloc[:,1:].mean(axis=1)\n",
    "df = df.sort_values('importance',ascending=False)\n",
    "df.to_csv(f'xgb_feature_importance_v{VER}.csv',index=False)"
   ]
  },
  {
   "cell_type": "code",
   "execution_count": 16,
   "id": "02fdd86f",
   "metadata": {
    "execution": {
     "iopub.execute_input": "2022-08-01T16:16:12.118677Z",
     "iopub.status.busy": "2022-08-01T16:16:12.117963Z",
     "iopub.status.idle": "2022-08-01T16:16:12.370085Z",
     "shell.execute_reply": "2022-08-01T16:16:12.369309Z"
    },
    "papermill": {
     "duration": 0.267478,
     "end_time": "2022-08-01T16:16:12.372005",
     "exception": false,
     "start_time": "2022-08-01T16:16:12.104527",
     "status": "completed"
    },
    "tags": []
   },
   "outputs": [
    {
     "data": {
      "image/png": "[encoded data removed]",
      "text/plain": [
       "<Figure size 720x720 with 1 Axes>"
      ]
     },
     "metadata": {
      "needs_background": "light"
     },
     "output_type": "display_data"
    }
   ],
   "source": [
    "NUM_FEATURES = 20\n",
    "plt.figure(figsize=(10,5*NUM_FEATURES//10))\n",
    "plt.barh(np.arange(NUM_FEATURES,0,-1), df.importance.values[:NUM_FEATURES])\n",
    "plt.yticks(np.arange(NUM_FEATURES,0,-1), df.feature.values[:NUM_FEATURES])\n",
    "plt.title(f'XGB Feature Importance - Top {NUM_FEATURES}')\n",
    "plt.show()"
   ]
  },
  {
   "cell_type": "markdown",
   "id": "e188675d",
   "metadata": {
    "papermill": {
     "duration": 0.012849,
     "end_time": "2022-08-01T16:16:12.398842",
     "exception": false,
     "start_time": "2022-08-01T16:16:12.385993",
     "status": "completed"
    },
    "tags": []
   },
   "source": [
    "# Process and Feature Engineer Test Data\n",
    "We will load @raddar Kaggle dataset from [here][1] with discussion [here][2]. Then we will engineer features suggested by @huseyincot in his notebooks [here][1] and [here][4]. We will use [RAPIDS][5] and the GPU to create new features quickly.\n",
    "\n",
    "[1]: https://www.kaggle.com/datasets/raddar/amex-data-integer-dtypes-parquet-format\n",
    "[2]: https://www.kaggle.com/competitions/amex-default-prediction/discussion/328514\n",
    "[3]: https://www.kaggle.com/code/huseyincot/amex-catboost-0-793\n",
    "[4]: https://www.kaggle.com/code/huseyincot/amex-agg-data-how-it-created\n",
    "[5]: https://rapids.ai/"
   ]
  },
  {
   "cell_type": "code",
   "execution_count": 17,
   "id": "433e29ad",
   "metadata": {
    "execution": {
     "iopub.execute_input": "2022-08-01T16:16:12.426489Z",
     "iopub.status.busy": "2022-08-01T16:16:12.425762Z",
     "iopub.status.idle": "2022-08-01T16:16:14.897877Z",
     "shell.execute_reply": "2022-08-01T16:16:14.896217Z"
    },
    "papermill": {
     "duration": 2.4885,
     "end_time": "2022-08-01T16:16:14.900408",
     "exception": false,
     "start_time": "2022-08-01T16:16:12.411908",
     "status": "completed"
    },
    "tags": []
   },
   "outputs": [
    {
     "name": "stdout",
     "output_type": "stream",
     "text": [
      "Reading test data...\n",
      "shape of data: (11363762, 2)\n",
      "We will process test data as 4 separate parts.\n",
      "There will be 231155 customers in each part (except the last part).\n",
      "Below are number of rows in each part:\n",
      "[2841209, 2839857, 2842105, 2840591]\n"
     ]
    }
   ],
   "source": [
    "# CALCULATE SIZE OF EACH SEPARATE TEST PART\n",
    "def get_rows(customers, test, NUM_PARTS = 4, verbose = ''):\n",
    "    chunk = len(customers)//NUM_PARTS\n",
    "    if verbose != '':\n",
    "        print(f'We will process {verbose} data as {NUM_PARTS} separate parts.')\n",
    "        print(f'There will be {chunk} customers in each part (except the last part).')\n",
    "        print('Below are number of rows in each part:')\n",
    "    rows = []\n",
    "\n",
    "    for k in range(NUM_PARTS):\n",
    "        if k==NUM_PARTS-1: cc = customers[k*chunk:]\n",
    "        else: cc = customers[k*chunk:(k+1)*chunk]\n",
    "        s = test.loc[test.customer_ID.isin(cc)].shape[0]\n",
    "        rows.append(s)\n",
    "    if verbose != '': print( rows )\n",
    "    return rows,chunk\n",
    "\n",
    "# COMPUTE SIZE OF 4 PARTS FOR TEST DATA\n",
    "NUM_PARTS = 4\n",
    "TEST_PATH = '../input/amex-data-integer-dtypes-parquet-format/test.parquet'\n",
    "\n",
    "print(f'Reading test data...')\n",
    "test = read_file(path = TEST_PATH, usecols = ['customer_ID','S_2'])\n",
    "customers = test[['customer_ID']].drop_duplicates().sort_index().values.flatten()\n",
    "rows,num_cust = get_rows(customers, test[['customer_ID']], NUM_PARTS = NUM_PARTS, verbose = 'test')"
   ]
  },
  {
   "cell_type": "markdown",
   "id": "93a98e20",
   "metadata": {
    "papermill": {
     "duration": 0.014343,
     "end_time": "2022-08-01T16:16:14.929591",
     "exception": false,
     "start_time": "2022-08-01T16:16:14.915248",
     "status": "completed"
    },
    "tags": []
   },
   "source": [
    "# Infer Test"
   ]
  },
  {
   "cell_type": "code",
   "execution_count": 18,
   "id": "a824e7b3",
   "metadata": {
    "execution": {
     "iopub.execute_input": "2022-08-01T16:16:14.957222Z",
     "iopub.status.busy": "2022-08-01T16:16:14.956897Z",
     "iopub.status.idle": "2022-08-01T16:18:48.048589Z",
     "shell.execute_reply": "2022-08-01T16:18:48.047685Z"
    },
    "papermill": {
     "duration": 153.108056,
     "end_time": "2022-08-01T16:18:48.050825",
     "exception": false,
     "start_time": "2022-08-01T16:16:14.942769",
     "status": "completed"
    },
    "tags": []
   },
   "outputs": [
    {
     "name": "stdout",
     "output_type": "stream",
     "text": [
      "\n",
      "Reading test data...\n",
      "shape of data: (11363762, 190)\n",
      "=> Test part 1 has shape (2841209, 190)\n",
      "shape after engineering (231155, 556)\n",
      "\n",
      "Reading test data...\n",
      "shape of data: (11363762, 190)\n",
      "=> Test part 2 has shape (2839857, 190)\n",
      "shape after engineering (231155, 556)\n",
      "\n",
      "Reading test data...\n",
      "shape of data: (11363762, 190)\n",
      "=> Test part 3 has shape (2842105, 190)\n",
      "shape after engineering (231155, 556)\n",
      "\n",
      "Reading test data...\n",
      "shape of data: (11363762, 190)\n",
      "=> Test part 4 has shape (2840591, 190)\n",
      "shape after engineering (231156, 556)\n"
     ]
    }
   ],
   "source": [
    "# INFER TEST DATA IN PARTS\n",
    "skip_rows = 0\n",
    "skip_cust = 0\n",
    "test_preds = []\n",
    "\n",
    "for k in range(NUM_PARTS):\n",
    "    \n",
    "    # READ PART OF TEST DATA\n",
    "    print(f'\\nReading test data...')\n",
    "    test = read_file(path = TEST_PATH)\n",
    "    test = test.iloc[skip_rows:skip_rows+rows[k]]\n",
    "    skip_rows += rows[k]\n",
    "    print(f'=> Test part {k+1} has shape', test.shape )\n",
    "    \n",
    "    # PROCESS AND FEATURE ENGINEER PART OF TEST DATA\n",
    "    test = process_and_feature_engineer(test)\n",
    "    if k==NUM_PARTS-1: test = test.loc[customers[skip_cust:]]\n",
    "    else: test = test.loc[customers[skip_cust:skip_cust+num_cust]]\n",
    "    skip_cust += num_cust\n",
    "    \n",
    "    # TEST DATA FOR XGB\n",
    "    X_test = test[FEATURES]\n",
    "    dtest = xgb.DMatrix(data=X_test)\n",
    "    test = test[['P_2_mean']] # reduce memory\n",
    "    del X_test\n",
    "    gc.collect()\n",
    "\n",
    "    # INFER XGB MODELS ON TEST DATA\n",
    "    model = xgb.Booster()\n",
    "    model.load_model(f'XGB_v{VER}_fold0.xgb')\n",
    "    preds = model.predict(dtest)\n",
    "    for f in range(1,FOLDS):\n",
    "#         11) \n",
    "        model.load_model(f'XGB_v{VER}_fold{f}.xgb')\n",
    "        preds += model.predict(dtest)\n",
    "    preds /= FOLDS\n",
    "    test_preds.append(preds)\n",
    "\n",
    "    # CLEAN MEMORY\n",
    "    del dtest, model\n",
    "    _ = gc.collect()"
   ]
  },
  {
   "cell_type": "markdown",
   "id": "26401bf2",
   "metadata": {
    "papermill": {
     "duration": 0.013743,
     "end_time": "2022-08-01T16:18:48.080089",
     "exception": false,
     "start_time": "2022-08-01T16:18:48.066346",
     "status": "completed"
    },
    "tags": []
   },
   "source": [
    "# Create Submission CSV"
   ]
  },
  {
   "cell_type": "code",
   "execution_count": 19,
   "id": "96660437",
   "metadata": {
    "execution": {
     "iopub.execute_input": "2022-08-01T16:18:48.109759Z",
     "iopub.status.busy": "2022-08-01T16:18:48.109415Z",
     "iopub.status.idle": "2022-08-01T16:18:49.430898Z",
     "shell.execute_reply": "2022-08-01T16:18:49.430057Z"
    },
    "papermill": {
     "duration": 1.338373,
     "end_time": "2022-08-01T16:18:49.432716",
     "exception": false,
     "start_time": "2022-08-01T16:18:48.094343",
     "status": "completed"
    },
    "tags": []
   },
   "outputs": [
    {
     "name": "stdout",
     "output_type": "stream",
     "text": [
      "Submission file shape is (924621, 2)\n"
     ]
    },
    {
     "data": {
      "text/html": [
       "<div>\n",
       "<style scoped>\n",
       "    .dataframe tbody tr th:only-of-type {\n",
       "        vertical-align: middle;\n",
       "    }\n",
       "\n",
       "    .dataframe tbody tr th {\n",
       "        vertical-align: top;\n",
       "    }\n",
       "\n",
       "    .dataframe thead th {\n",
       "        text-align: right;\n",
       "    }\n",
       "</style>\n",
       "<table border=\"1\" class=\"dataframe\">\n",
       "  <thead>\n",
       "    <tr style=\"text-align: right;\">\n",
       "      <th></th>\n",
       "      <th>customer_ID</th>\n",
       "      <th>prediction</th>\n",
       "    </tr>\n",
       "  </thead>\n",
       "  <tbody>\n",
       "    <tr>\n",
       "      <th>0</th>\n",
       "      <td>03999d5e3bd61a69504cc6e7025c260c1ed2e5b449dba5...</td>\n",
       "      <td>0.113106</td>\n",
       "    </tr>\n",
       "    <tr>\n",
       "      <th>1</th>\n",
       "      <td>039b4f21aa584fb0c3c7055beabc098af55013f9f25515...</td>\n",
       "      <td>0.004853</td>\n",
       "    </tr>\n",
       "    <tr>\n",
       "      <th>2</th>\n",
       "      <td>039a6aea85575ebd33eec75e5c45bc7973481b81a99b62...</td>\n",
       "      <td>0.059411</td>\n",
       "    </tr>\n",
       "    <tr>\n",
       "      <th>3</th>\n",
       "      <td>039bd96164c6567580b24ba13c2b85b60f4554eb43d55b...</td>\n",
       "      <td>0.362176</td>\n",
       "    </tr>\n",
       "    <tr>\n",
       "      <th>4</th>\n",
       "      <td>0399a5a95461ced4134cd9693712fb012351cca1bde04d...</td>\n",
       "      <td>0.000120</td>\n",
       "    </tr>\n",
       "  </tbody>\n",
       "</table>\n",
       "</div>"
      ],
      "text/plain": [
       "                                         customer_ID  prediction\n",
       "0  03999d5e3bd61a69504cc6e7025c260c1ed2e5b449dba5...    0.113106\n",
       "1  039b4f21aa584fb0c3c7055beabc098af55013f9f25515...    0.004853\n",
       "2  039a6aea85575ebd33eec75e5c45bc7973481b81a99b62...    0.059411\n",
       "3  039bd96164c6567580b24ba13c2b85b60f4554eb43d55b...    0.362176\n",
       "4  0399a5a95461ced4134cd9693712fb012351cca1bde04d...    0.000120"
      ]
     },
     "execution_count": 19,
     "metadata": {},
     "output_type": "execute_result"
    }
   ],
   "source": [
    "# WRITE SUBMISSION FILE\n",
    "test_preds = np.concatenate(test_preds)\n",
    "test = cudf.DataFrame(index=customers,data={'prediction':test_preds})\n",
    "sub = cudf.read_csv('../input/amex-default-prediction/sample_submission.csv')[['customer_ID']]\n",
    "sub['customer_ID_hash'] = sub['customer_ID'].str[-16:].str.hex_to_int().astype('int64')\n",
    "sub = sub.set_index('customer_ID_hash')\n",
    "sub = sub.merge(test[['prediction']], left_index=True, right_index=True, how='left')\n",
    "sub = sub.reset_index(drop=True)\n",
    "\n",
    "# DISPLAY PREDICTIONS\n",
    "sub.to_csv(f'submission_xgb_v{VER}.csv',index=False)\n",
    "print('Submission file shape is', sub.shape )\n",
    "sub.head()"
   ]
  },
  {
   "cell_type": "code",
   "execution_count": 20,
   "id": "c6a83efb",
   "metadata": {
    "execution": {
     "iopub.execute_input": "2022-08-01T16:18:49.463144Z",
     "iopub.status.busy": "2022-08-01T16:18:49.462850Z",
     "iopub.status.idle": "2022-08-01T16:18:50.166667Z",
     "shell.execute_reply": "2022-08-01T16:18:50.165899Z"
    },
    "papermill": {
     "duration": 0.720708,
     "end_time": "2022-08-01T16:18:50.168440",
     "exception": false,
     "start_time": "2022-08-01T16:18:49.447732",
     "status": "completed"
    },
    "tags": []
   },
   "outputs": [
    {
     "data": {
      "image/png": "[encoded data removed]",
      "text/plain": [
       "<Figure size 432x288 with 1 Axes>"
      ]
     },
     "metadata": {
      "needs_background": "light"
     },
     "output_type": "display_data"
    }
   ],
   "source": [
    "# PLOT PREDICTIONS\n",
    "plt.hist(sub.to_pandas().prediction, bins=100)\n",
    "plt.title('Test Predictions')\n",
    "plt.show()"
   ]
  }
 ],
 "metadata": {
  "kernelspec": {
   "display_name": "Python 3",
   "language": "python",
   "name": "python3"
  },
  "language_info": {
   "codemirror_mode": {
    "name": "ipython",
    "version": 3
   },
   "file_extension": ".py",
   "mimetype": "text/x-python",
   "name": "python",
   "nbconvert_exporter": "python",
   "pygments_lexer": "ipython3",
   "version": "3.7.12"
  },
  "papermill": {
   "default_parameters": {},
   "duration": 504.930466,
   "end_time": "2022-08-01T16:18:51.607076",
   "environment_variables": {},
   "exception": null,
   "input_path": "__notebook__.ipynb",
   "output_path": "__notebook__.ipynb",
   "parameters": {},
   "start_time": "2022-08-01T16:10:26.676610",
   "version": "2.3.4"
  }
 },
 "nbformat": 4,
 "nbformat_minor": 5
}
