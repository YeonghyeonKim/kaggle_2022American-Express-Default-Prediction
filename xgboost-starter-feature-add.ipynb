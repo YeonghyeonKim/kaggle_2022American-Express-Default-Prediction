{
 "cells": [
  {
   "cell_type": "markdown",
   "id": "669fdd24",
   "metadata": {
    "papermill": {
     "duration": 0.007356,
     "end_time": "2022-07-12T15:53:38.846259",
     "exception": false,
     "start_time": "2022-07-12T15:53:38.838903",
     "status": "completed"
    },
    "tags": []
   },
   "source": [
    "# XGBoost Starter - LB 0.793\n",
    "In this notebook we build and train an XGBoost model using @raddar Kaggle dataset from [here][1] with discussion [here][2]. Then we engineer features suggested by @huseyincot in his notebooks [here][3] and [here][4]. This XGB model achieves CV 0.792 LB 0.793! When training with XGB, we use a special XGB dataloader called `DeviceQuantileDMatrix` which uses a small GPU memory footprint. This allows us to engineer more additional columns and train with more rows of data. Our feature engineering is performed using [RAPIDS][5] on the GPU to create new features quickly.\n",
    "\n",
    "[1]: https://www.kaggle.com/datasets/raddar/amex-data-integer-dtypes-parquet-format\n",
    "[2]: https://www.kaggle.com/competitions/amex-default-prediction/discussion/328514\n",
    "[3]: https://www.kaggle.com/code/huseyincot/amex-catboost-0-793\n",
    "[4]: https://www.kaggle.com/code/huseyincot/amex-agg-data-how-it-created\n",
    "[5]: https://rapids.ai/"
   ]
  },
  {
   "cell_type": "markdown",
   "id": "6ae43994",
   "metadata": {
    "papermill": {
     "duration": 0.006192,
     "end_time": "2022-07-12T15:53:38.859015",
     "exception": false,
     "start_time": "2022-07-12T15:53:38.852823",
     "status": "completed"
    },
    "tags": []
   },
   "source": [
    "Feature Engineering I done\n",
    "1. Drop B_29, https://www.kaggle.com/code/roberthatch/amex-feature-engg-gpu-or-cpu-process-in-chunks/notebook\n",
    "2. Add each customer count (how long they used)"
   ]
  },
  {
   "cell_type": "markdown",
   "id": "6e205c1d",
   "metadata": {
    "papermill": {
     "duration": 0.006063,
     "end_time": "2022-07-12T15:53:38.871317",
     "exception": false,
     "start_time": "2022-07-12T15:53:38.865254",
     "status": "completed"
    },
    "tags": []
   },
   "source": [
    "# Load Libraries"
   ]
  },
  {
   "cell_type": "code",
   "execution_count": 1,
   "id": "9ea601e4",
   "metadata": {
    "execution": {
     "iopub.execute_input": "2022-07-12T15:53:38.885734Z",
     "iopub.status.busy": "2022-07-12T15:53:38.885288Z",
     "iopub.status.idle": "2022-07-12T15:53:42.399654Z",
     "shell.execute_reply": "2022-07-12T15:53:42.397611Z"
    },
    "papermill": {
     "duration": 3.523683,
     "end_time": "2022-07-12T15:53:42.401579",
     "exception": false,
     "start_time": "2022-07-12T15:53:38.877896",
     "status": "completed"
    },
    "tags": []
   },
   "outputs": [
    {
     "name": "stdout",
     "output_type": "stream",
     "text": [
      "RAPIDS version 21.10.01\n"
     ]
    }
   ],
   "source": [
    "# LOAD LIBRARIES\n",
    "import pandas as pd, numpy as np # CPU libraries\n",
    "import cupy, cudf # GPU libraries\n",
    "import matplotlib.pyplot as plt, gc, os\n",
    "\n",
    "print('RAPIDS version',cudf.__version__)"
   ]
  },
  {
   "cell_type": "code",
   "execution_count": 2,
   "id": "c537c0ee",
   "metadata": {
    "execution": {
     "iopub.execute_input": "2022-07-12T15:53:42.416663Z",
     "iopub.status.busy": "2022-07-12T15:53:42.416368Z",
     "iopub.status.idle": "2022-07-12T15:53:42.420369Z",
     "shell.execute_reply": "2022-07-12T15:53:42.419655Z"
    },
    "papermill": {
     "duration": 0.013675,
     "end_time": "2022-07-12T15:53:42.422023",
     "exception": false,
     "start_time": "2022-07-12T15:53:42.408348",
     "status": "completed"
    },
    "tags": []
   },
   "outputs": [],
   "source": [
    "# VERSION NAME FOR SAVED MODEL FILES\n",
    "VER = 1\n",
    "\n",
    "# TRAIN RANDOM SEED\n",
    "SEED = 42\n",
    "\n",
    "# FILL NAN VALUE\n",
    "NAN_VALUE = -127 # will fit in int8\n",
    "\n",
    "# FOLDS PER MODEL\n",
    "FOLDS = 5"
   ]
  },
  {
   "cell_type": "markdown",
   "id": "d5e928bb",
   "metadata": {
    "papermill": {
     "duration": 0.00618,
     "end_time": "2022-07-12T15:53:42.434459",
     "exception": false,
     "start_time": "2022-07-12T15:53:42.428279",
     "status": "completed"
    },
    "tags": []
   },
   "source": [
    "# Process and Feature Engineer Train Data\n",
    "We will load @raddar Kaggle dataset from [here][1] with discussion [here][2]. Then we will engineer features suggested by @huseyincot in his notebooks [here][3] and [here][4]. We will use [RAPIDS][5] and the GPU to create new features quickly.\n",
    "\n",
    "[1]: https://www.kaggle.com/datasets/raddar/amex-data-integer-dtypes-parquet-format\n",
    "[2]: https://www.kaggle.com/competitions/amex-default-prediction/discussion/328514\n",
    "[3]: https://www.kaggle.com/code/huseyincot/amex-catboost-0-793\n",
    "[4]: https://www.kaggle.com/code/huseyincot/amex-agg-data-how-it-created\n",
    "[5]: https://rapids.ai/"
   ]
  },
  {
   "cell_type": "code",
   "execution_count": 3,
   "id": "16ae22a7",
   "metadata": {
    "execution": {
     "iopub.execute_input": "2022-07-12T15:53:42.447991Z",
     "iopub.status.busy": "2022-07-12T15:53:42.447740Z",
     "iopub.status.idle": "2022-07-12T15:54:03.980103Z",
     "shell.execute_reply": "2022-07-12T15:54:03.979213Z"
    },
    "papermill": {
     "duration": 21.5413,
     "end_time": "2022-07-12T15:54:03.982023",
     "exception": false,
     "start_time": "2022-07-12T15:53:42.440723",
     "status": "completed"
    },
    "tags": []
   },
   "outputs": [
    {
     "name": "stdout",
     "output_type": "stream",
     "text": [
      "Reading train data...\n",
      "shape of data: (5531451, 190)\n"
     ]
    }
   ],
   "source": [
    "def read_file(path = '', usecols = None):\n",
    "    # LOAD DATAFRAME\n",
    "    if usecols is not None: df = cudf.read_parquet(path, columns=usecols)\n",
    "    else: df = cudf.read_parquet(path)\n",
    "    # REDUCE DTYPE FOR CUSTOMER AND DATE\n",
    "    df['customer_ID'] = df['customer_ID'].str[-16:].str.hex_to_int().astype('int64')\n",
    "    df.S_2 = cudf.to_datetime( df.S_2 )\n",
    "    # SORT BY CUSTOMER AND DATE (so agg('last') works correctly)\n",
    "    #df = df.sort_values(['customer_ID','S_2'])\n",
    "    #df = df.reset_index(drop=True)\n",
    "    # FILL NAN\n",
    "    df = df.fillna(NAN_VALUE) \n",
    "    print('shape of data:', df.shape)\n",
    "    \n",
    "    return df\n",
    "\n",
    "print('Reading train data...')\n",
    "TRAIN_PATH = '../input/amex-data-integer-dtypes-parquet-format/train.parquet'\n",
    "train = read_file(path = TRAIN_PATH)"
   ]
  },
  {
   "cell_type": "code",
   "execution_count": 4,
   "id": "a124f097",
   "metadata": {
    "execution": {
     "iopub.execute_input": "2022-07-12T15:54:03.999754Z",
     "iopub.status.busy": "2022-07-12T15:54:03.999355Z",
     "iopub.status.idle": "2022-07-12T15:54:04.229581Z",
     "shell.execute_reply": "2022-07-12T15:54:04.228675Z"
    },
    "papermill": {
     "duration": 0.24369,
     "end_time": "2022-07-12T15:54:04.232531",
     "exception": false,
     "start_time": "2022-07-12T15:54:03.988841",
     "status": "completed"
    },
    "tags": []
   },
   "outputs": [
    {
     "data": {
      "text/html": [
       "<div>\n",
       "<style scoped>\n",
       "    .dataframe tbody tr th:only-of-type {\n",
       "        vertical-align: middle;\n",
       "    }\n",
       "\n",
       "    .dataframe tbody tr th {\n",
       "        vertical-align: top;\n",
       "    }\n",
       "\n",
       "    .dataframe thead th {\n",
       "        text-align: right;\n",
       "    }\n",
       "</style>\n",
       "<table border=\"1\" class=\"dataframe\">\n",
       "  <thead>\n",
       "    <tr style=\"text-align: right;\">\n",
       "      <th></th>\n",
       "      <th>customer_ID</th>\n",
       "      <th>S_2</th>\n",
       "      <th>P_2</th>\n",
       "      <th>D_39</th>\n",
       "      <th>B_1</th>\n",
       "      <th>B_2</th>\n",
       "      <th>R_1</th>\n",
       "      <th>S_3</th>\n",
       "      <th>D_41</th>\n",
       "      <th>B_3</th>\n",
       "      <th>...</th>\n",
       "      <th>D_136</th>\n",
       "      <th>D_137</th>\n",
       "      <th>D_138</th>\n",
       "      <th>D_139</th>\n",
       "      <th>D_140</th>\n",
       "      <th>D_141</th>\n",
       "      <th>D_142</th>\n",
       "      <th>D_143</th>\n",
       "      <th>D_144</th>\n",
       "      <th>D_145</th>\n",
       "    </tr>\n",
       "  </thead>\n",
       "  <tbody>\n",
       "    <tr>\n",
       "      <th>0</th>\n",
       "      <td>-4532153018459703766</td>\n",
       "      <td>2017-03-09</td>\n",
       "      <td>0.938469</td>\n",
       "      <td>0</td>\n",
       "      <td>0.008724</td>\n",
       "      <td>1.006838</td>\n",
       "      <td>0.009228</td>\n",
       "      <td>0.124035</td>\n",
       "      <td>0.0</td>\n",
       "      <td>0.004709</td>\n",
       "      <td>...</td>\n",
       "      <td>-1</td>\n",
       "      <td>-1</td>\n",
       "      <td>-1</td>\n",
       "      <td>0</td>\n",
       "      <td>0</td>\n",
       "      <td>0.0</td>\n",
       "      <td>-127.0</td>\n",
       "      <td>0</td>\n",
       "      <td>0.000610</td>\n",
       "      <td>0</td>\n",
       "    </tr>\n",
       "    <tr>\n",
       "      <th>1</th>\n",
       "      <td>-4532153018459703766</td>\n",
       "      <td>2017-04-07</td>\n",
       "      <td>0.936665</td>\n",
       "      <td>0</td>\n",
       "      <td>0.004923</td>\n",
       "      <td>1.000653</td>\n",
       "      <td>0.006151</td>\n",
       "      <td>0.126750</td>\n",
       "      <td>0.0</td>\n",
       "      <td>0.002714</td>\n",
       "      <td>...</td>\n",
       "      <td>-1</td>\n",
       "      <td>-1</td>\n",
       "      <td>-1</td>\n",
       "      <td>0</td>\n",
       "      <td>0</td>\n",
       "      <td>0.0</td>\n",
       "      <td>-127.0</td>\n",
       "      <td>0</td>\n",
       "      <td>0.005492</td>\n",
       "      <td>0</td>\n",
       "    </tr>\n",
       "    <tr>\n",
       "      <th>2</th>\n",
       "      <td>-4532153018459703766</td>\n",
       "      <td>2017-05-28</td>\n",
       "      <td>0.954180</td>\n",
       "      <td>3</td>\n",
       "      <td>0.021655</td>\n",
       "      <td>1.009672</td>\n",
       "      <td>0.006815</td>\n",
       "      <td>0.123977</td>\n",
       "      <td>0.0</td>\n",
       "      <td>0.009423</td>\n",
       "      <td>...</td>\n",
       "      <td>-1</td>\n",
       "      <td>-1</td>\n",
       "      <td>-1</td>\n",
       "      <td>0</td>\n",
       "      <td>0</td>\n",
       "      <td>0.0</td>\n",
       "      <td>-127.0</td>\n",
       "      <td>0</td>\n",
       "      <td>0.006986</td>\n",
       "      <td>0</td>\n",
       "    </tr>\n",
       "    <tr>\n",
       "      <th>3</th>\n",
       "      <td>-4532153018459703766</td>\n",
       "      <td>2017-06-13</td>\n",
       "      <td>0.960384</td>\n",
       "      <td>0</td>\n",
       "      <td>0.013683</td>\n",
       "      <td>1.002700</td>\n",
       "      <td>0.001373</td>\n",
       "      <td>0.117169</td>\n",
       "      <td>0.0</td>\n",
       "      <td>0.005531</td>\n",
       "      <td>...</td>\n",
       "      <td>-1</td>\n",
       "      <td>-1</td>\n",
       "      <td>-1</td>\n",
       "      <td>0</td>\n",
       "      <td>0</td>\n",
       "      <td>0.0</td>\n",
       "      <td>-127.0</td>\n",
       "      <td>0</td>\n",
       "      <td>0.006527</td>\n",
       "      <td>0</td>\n",
       "    </tr>\n",
       "    <tr>\n",
       "      <th>4</th>\n",
       "      <td>-4532153018459703766</td>\n",
       "      <td>2017-07-16</td>\n",
       "      <td>0.947248</td>\n",
       "      <td>0</td>\n",
       "      <td>0.015193</td>\n",
       "      <td>1.000727</td>\n",
       "      <td>0.007605</td>\n",
       "      <td>0.117325</td>\n",
       "      <td>0.0</td>\n",
       "      <td>0.009312</td>\n",
       "      <td>...</td>\n",
       "      <td>-1</td>\n",
       "      <td>-1</td>\n",
       "      <td>-1</td>\n",
       "      <td>0</td>\n",
       "      <td>0</td>\n",
       "      <td>0.0</td>\n",
       "      <td>-127.0</td>\n",
       "      <td>0</td>\n",
       "      <td>0.008126</td>\n",
       "      <td>0</td>\n",
       "    </tr>\n",
       "  </tbody>\n",
       "</table>\n",
       "<p>5 rows × 190 columns</p>\n",
       "</div>"
      ],
      "text/plain": [
       "           customer_ID        S_2       P_2  D_39       B_1       B_2  \\\n",
       "0 -4532153018459703766 2017-03-09  0.938469     0  0.008724  1.006838   \n",
       "1 -4532153018459703766 2017-04-07  0.936665     0  0.004923  1.000653   \n",
       "2 -4532153018459703766 2017-05-28  0.954180     3  0.021655  1.009672   \n",
       "3 -4532153018459703766 2017-06-13  0.960384     0  0.013683  1.002700   \n",
       "4 -4532153018459703766 2017-07-16  0.947248     0  0.015193  1.000727   \n",
       "\n",
       "        R_1       S_3  D_41       B_3  ...  D_136  D_137  D_138  D_139  D_140  \\\n",
       "0  0.009228  0.124035   0.0  0.004709  ...     -1     -1     -1      0      0   \n",
       "1  0.006151  0.126750   0.0  0.002714  ...     -1     -1     -1      0      0   \n",
       "2  0.006815  0.123977   0.0  0.009423  ...     -1     -1     -1      0      0   \n",
       "3  0.001373  0.117169   0.0  0.005531  ...     -1     -1     -1      0      0   \n",
       "4  0.007605  0.117325   0.0  0.009312  ...     -1     -1     -1      0      0   \n",
       "\n",
       "   D_141  D_142  D_143     D_144  D_145  \n",
       "0    0.0 -127.0      0  0.000610      0  \n",
       "1    0.0 -127.0      0  0.005492      0  \n",
       "2    0.0 -127.0      0  0.006986      0  \n",
       "3    0.0 -127.0      0  0.006527      0  \n",
       "4    0.0 -127.0      0  0.008126      0  \n",
       "\n",
       "[5 rows x 190 columns]"
      ]
     },
     "execution_count": 4,
     "metadata": {},
     "output_type": "execute_result"
    }
   ],
   "source": [
    "train.head()"
   ]
  },
  {
   "cell_type": "code",
   "execution_count": 5,
   "id": "de404831",
   "metadata": {
    "execution": {
     "iopub.execute_input": "2022-07-12T15:54:04.248187Z",
     "iopub.status.busy": "2022-07-12T15:54:04.247891Z",
     "iopub.status.idle": "2022-07-12T15:54:07.620759Z",
     "shell.execute_reply": "2022-07-12T15:54:07.619245Z"
    },
    "papermill": {
     "duration": 3.382726,
     "end_time": "2022-07-12T15:54:07.622682",
     "exception": false,
     "start_time": "2022-07-12T15:54:04.239956",
     "status": "completed"
    },
    "tags": []
   },
   "outputs": [
    {
     "name": "stdout",
     "output_type": "stream",
     "text": [
      "shape after engineering (458913, 914)\n"
     ]
    }
   ],
   "source": [
    "def process_and_feature_engineer(df):\n",
    "    # FEATURE ENGINEERING FROM \n",
    "    # https://www.kaggle.com/code/huseyincot/amex-agg-data-how-it-created\n",
    "    \n",
    "#     1) Drop 'B_29'\n",
    "    df.drop(['B_29'], inplace=True, axis=1)\n",
    "    df\n",
    "    all_cols = [c for c in list(df.columns) if c not in ['customer_ID','S_2']]\n",
    "    cat_features = [\"B_30\",\"B_38\",\"D_114\",\"D_116\",\"D_117\",\"D_120\",\"D_126\",\"D_63\",\"D_64\",\"D_66\",\"D_68\"]\n",
    "    num_features = [col for col in all_cols if col not in cat_features]\n",
    "    \n",
    "#     2) Add customer count\n",
    "    test_count_agg = df.groupby(['customer_ID'])['S_2'].agg(['count'])/13. # max is 13 (months)\n",
    "    \n",
    "    test_num_agg = df.groupby(\"customer_ID\")[num_features].agg(['mean', 'std', 'min', 'max', 'last'])\n",
    "    test_num_agg.columns = ['_'.join(x) for x in test_num_agg.columns]\n",
    "\n",
    "    test_cat_agg = df.groupby(\"customer_ID\")[cat_features].agg(['count', 'last', 'nunique'])\n",
    "    test_cat_agg.columns = ['_'.join(x) for x in test_cat_agg.columns]\n",
    "\n",
    "    df = cudf.concat([test_count_agg,test_num_agg, test_cat_agg], axis=1)\n",
    "    del test_num_agg, test_cat_agg\n",
    "    print('shape after engineering', df.shape )\n",
    "    \n",
    "    return df\n",
    "\n",
    "train = process_and_feature_engineer(train)"
   ]
  },
  {
   "cell_type": "code",
   "execution_count": 6,
   "id": "16ad83a4",
   "metadata": {
    "execution": {
     "iopub.execute_input": "2022-07-12T15:54:07.637940Z",
     "iopub.status.busy": "2022-07-12T15:54:07.637662Z",
     "iopub.status.idle": "2022-07-12T15:54:08.903972Z",
     "shell.execute_reply": "2022-07-12T15:54:08.903130Z"
    },
    "papermill": {
     "duration": 1.276174,
     "end_time": "2022-07-12T15:54:08.905891",
     "exception": false,
     "start_time": "2022-07-12T15:54:07.629717",
     "status": "completed"
    },
    "tags": []
   },
   "outputs": [
    {
     "name": "stdout",
     "output_type": "stream",
     "text": [
      "There are 914 features!\n"
     ]
    }
   ],
   "source": [
    "# ADD TARGETS\n",
    "targets = cudf.read_csv('../input/amex-default-prediction/train_labels.csv')\n",
    "targets['customer_ID'] = targets['customer_ID'].str[-16:].str.hex_to_int().astype('int64')\n",
    "targets = targets.set_index('customer_ID')\n",
    "train = train.merge(targets, left_index=True, right_index=True, how='left')\n",
    "train.target = train.target.astype('int8')\n",
    "del targets\n",
    "\n",
    "# NEEDED TO MAKE CV DETERMINISTIC (cudf merge above randomly shuffles rows)\n",
    "train = train.sort_index().reset_index()\n",
    "\n",
    "# FEATURES\n",
    "FEATURES = train.columns[1:-1]\n",
    "print(f'There are {len(FEATURES)} features!')"
   ]
  },
  {
   "cell_type": "markdown",
   "id": "9fcd281d",
   "metadata": {
    "papermill": {
     "duration": 0.006717,
     "end_time": "2022-07-12T15:54:08.919912",
     "exception": false,
     "start_time": "2022-07-12T15:54:08.913195",
     "status": "completed"
    },
    "tags": []
   },
   "source": [
    "# Train XGB\n",
    "We will train using `DeviceQuantileDMatrix`. This has a very small GPU memory footprint."
   ]
  },
  {
   "cell_type": "code",
   "execution_count": 7,
   "id": "80edd2cc",
   "metadata": {
    "execution": {
     "iopub.execute_input": "2022-07-12T15:54:08.935598Z",
     "iopub.status.busy": "2022-07-12T15:54:08.935048Z",
     "iopub.status.idle": "2022-07-12T15:54:09.019233Z",
     "shell.execute_reply": "2022-07-12T15:54:09.018272Z"
    },
    "papermill": {
     "duration": 0.094393,
     "end_time": "2022-07-12T15:54:09.021351",
     "exception": false,
     "start_time": "2022-07-12T15:54:08.926958",
     "status": "completed"
    },
    "tags": []
   },
   "outputs": [
    {
     "name": "stdout",
     "output_type": "stream",
     "text": [
      "XGB Version 1.6.1\n"
     ]
    }
   ],
   "source": [
    "# LOAD XGB LIBRARY\n",
    "from sklearn.model_selection import KFold\n",
    "import xgboost as xgb\n",
    "print('XGB Version',xgb.__version__)\n",
    "\n",
    "# XGB MODEL PARAMETERS\n",
    "xgb_parms = { \n",
    "    'max_depth':4, \n",
    "    'learning_rate':0.05, \n",
    "    'subsample':0.8,\n",
    "    'colsample_bytree':0.6, \n",
    "    'eval_metric':'logloss',\n",
    "    'objective':'binary:logistic',\n",
    "    'tree_method':'gpu_hist',\n",
    "    'predictor':'gpu_predictor',\n",
    "    'random_state':SEED\n",
    "}"
   ]
  },
  {
   "cell_type": "code",
   "execution_count": 8,
   "id": "1b2ea74b",
   "metadata": {
    "execution": {
     "iopub.execute_input": "2022-07-12T15:54:09.037210Z",
     "iopub.status.busy": "2022-07-12T15:54:09.036929Z",
     "iopub.status.idle": "2022-07-12T15:54:09.045747Z",
     "shell.execute_reply": "2022-07-12T15:54:09.044854Z"
    },
    "papermill": {
     "duration": 0.019073,
     "end_time": "2022-07-12T15:54:09.047603",
     "exception": false,
     "start_time": "2022-07-12T15:54:09.028530",
     "status": "completed"
    },
    "tags": []
   },
   "outputs": [],
   "source": [
    "# NEEDED WITH DeviceQuantileDMatrix BELOW\n",
    "class IterLoadForDMatrix(xgb.core.DataIter):\n",
    "    def __init__(self, df=None, features=None, target=None, batch_size=256*1024):\n",
    "        self.features = features\n",
    "        self.target = target\n",
    "        self.df = df\n",
    "        self.it = 0 # set iterator to 0\n",
    "        self.batch_size = batch_size\n",
    "        self.batches = int( np.ceil( len(df) / self.batch_size ) )\n",
    "        super().__init__()\n",
    "\n",
    "    def reset(self):\n",
    "        '''Reset the iterator'''\n",
    "        self.it = 0\n",
    "\n",
    "    def next(self, input_data):\n",
    "        '''Yield next batch of data.'''\n",
    "        if self.it == self.batches:\n",
    "            return 0 # Return 0 when there's no more batch.\n",
    "        \n",
    "        a = self.it * self.batch_size\n",
    "        b = min( (self.it + 1) * self.batch_size, len(self.df) )\n",
    "        dt = cudf.DataFrame(self.df.iloc[a:b])\n",
    "        input_data(data=dt[self.features], label=dt[self.target]) #, weight=dt['weight'])\n",
    "        self.it += 1\n",
    "        return 1"
   ]
  },
  {
   "cell_type": "code",
   "execution_count": 9,
   "id": "c2ad2e31",
   "metadata": {
    "execution": {
     "iopub.execute_input": "2022-07-12T15:54:09.063588Z",
     "iopub.status.busy": "2022-07-12T15:54:09.063311Z",
     "iopub.status.idle": "2022-07-12T15:54:09.072358Z",
     "shell.execute_reply": "2022-07-12T15:54:09.071420Z"
    },
    "papermill": {
     "duration": 0.019278,
     "end_time": "2022-07-12T15:54:09.074319",
     "exception": false,
     "start_time": "2022-07-12T15:54:09.055041",
     "status": "completed"
    },
    "tags": []
   },
   "outputs": [],
   "source": [
    "# https://www.kaggle.com/kyakovlev\n",
    "# https://www.kaggle.com/competitions/amex-default-prediction/discussion/327534\n",
    "def amex_metric_mod(y_true, y_pred):\n",
    "\n",
    "    labels     = np.transpose(np.array([y_true, y_pred]))\n",
    "    labels     = labels[labels[:, 1].argsort()[::-1]]\n",
    "    weights    = np.where(labels[:,0]==0, 20, 1)\n",
    "    cut_vals   = labels[np.cumsum(weights) <= int(0.04 * np.sum(weights))]\n",
    "    top_four   = np.sum(cut_vals[:,0]) / np.sum(labels[:,0])\n",
    "\n",
    "    gini = [0,0]\n",
    "    for i in [1,0]:\n",
    "        labels         = np.transpose(np.array([y_true, y_pred]))\n",
    "        labels         = labels[labels[:, i].argsort()[::-1]]\n",
    "        weight         = np.where(labels[:,0]==0, 20, 1)\n",
    "        weight_random  = np.cumsum(weight / np.sum(weight))\n",
    "        total_pos      = np.sum(labels[:, 0] *  weight)\n",
    "        cum_pos_found  = np.cumsum(labels[:, 0] * weight)\n",
    "        lorentz        = cum_pos_found / total_pos\n",
    "        gini[i]        = np.sum((lorentz - weight_random) * weight)\n",
    "\n",
    "    return 0.5 * (gini[1]/gini[0] + top_four)"
   ]
  },
  {
   "cell_type": "code",
   "execution_count": 10,
   "id": "b566c129",
   "metadata": {
    "execution": {
     "iopub.execute_input": "2022-07-12T15:54:09.089174Z",
     "iopub.status.busy": "2022-07-12T15:54:09.088917Z",
     "iopub.status.idle": "2022-07-12T16:03:47.424468Z",
     "shell.execute_reply": "2022-07-12T16:03:47.423597Z"
    },
    "papermill": {
     "duration": 578.345174,
     "end_time": "2022-07-12T16:03:47.426355",
     "exception": false,
     "start_time": "2022-07-12T15:54:09.081181",
     "status": "completed"
    },
    "scrolled": true,
    "tags": []
   },
   "outputs": [
    {
     "name": "stdout",
     "output_type": "stream",
     "text": [
      "#########################\n",
      "### Fold 1\n",
      "### Train size 367130 Valid size 91783\n",
      "### Training with 100% fold data...\n",
      "#########################\n",
      "[0]\ttrain-logloss:0.66201\tvalid-logloss:0.66207\n",
      "[100]\ttrain-logloss:0.23669\tvalid-logloss:0.23954\n",
      "[200]\ttrain-logloss:0.22234\tvalid-logloss:0.22777\n",
      "[300]\ttrain-logloss:0.21628\tvalid-logloss:0.22377\n",
      "[400]\ttrain-logloss:0.21232\tvalid-logloss:0.22183\n",
      "[500]\ttrain-logloss:0.20913\tvalid-logloss:0.22063\n",
      "[600]\ttrain-logloss:0.20640\tvalid-logloss:0.21980\n",
      "[700]\ttrain-logloss:0.20400\tvalid-logloss:0.21931\n",
      "[800]\ttrain-logloss:0.20174\tvalid-logloss:0.21889\n",
      "[900]\ttrain-logloss:0.19957\tvalid-logloss:0.21851\n",
      "[1000]\ttrain-logloss:0.19752\tvalid-logloss:0.21823\n",
      "[1100]\ttrain-logloss:0.19553\tvalid-logloss:0.21808\n",
      "[1200]\ttrain-logloss:0.19363\tvalid-logloss:0.21794\n",
      "[1300]\ttrain-logloss:0.19175\tvalid-logloss:0.21779\n",
      "[1400]\ttrain-logloss:0.18987\tvalid-logloss:0.21764\n",
      "[1500]\ttrain-logloss:0.18806\tvalid-logloss:0.21752\n",
      "[1600]\ttrain-logloss:0.18629\tvalid-logloss:0.21745\n",
      "[1700]\ttrain-logloss:0.18461\tvalid-logloss:0.21736\n",
      "[1800]\ttrain-logloss:0.18288\tvalid-logloss:0.21728\n",
      "[1900]\ttrain-logloss:0.18121\tvalid-logloss:0.21722\n",
      "[1962]\ttrain-logloss:0.18021\tvalid-logloss:0.21724\n",
      "Kaggle Metric = 0.7928623520680268 \n",
      "\n",
      "#########################\n",
      "### Fold 2\n",
      "### Train size 367130 Valid size 91783\n",
      "### Training with 100% fold data...\n",
      "#########################\n",
      "[0]\ttrain-logloss:0.66203\tvalid-logloss:0.66203\n",
      "[100]\ttrain-logloss:0.23711\tvalid-logloss:0.23778\n",
      "[200]\ttrain-logloss:0.22295\tvalid-logloss:0.22583\n",
      "[300]\ttrain-logloss:0.21685\tvalid-logloss:0.22202\n",
      "[400]\ttrain-logloss:0.21269\tvalid-logloss:0.21998\n",
      "[500]\ttrain-logloss:0.20957\tvalid-logloss:0.21886\n",
      "[600]\ttrain-logloss:0.20674\tvalid-logloss:0.21806\n",
      "[700]\ttrain-logloss:0.20432\tvalid-logloss:0.21767\n",
      "[800]\ttrain-logloss:0.20203\tvalid-logloss:0.21738\n",
      "[900]\ttrain-logloss:0.19983\tvalid-logloss:0.21715\n",
      "[1000]\ttrain-logloss:0.19771\tvalid-logloss:0.21700\n",
      "[1100]\ttrain-logloss:0.19569\tvalid-logloss:0.21686\n",
      "[1200]\ttrain-logloss:0.19370\tvalid-logloss:0.21678\n",
      "[1300]\ttrain-logloss:0.19180\tvalid-logloss:0.21670\n",
      "[1400]\ttrain-logloss:0.19001\tvalid-logloss:0.21665\n",
      "[1500]\ttrain-logloss:0.18821\tvalid-logloss:0.21658\n",
      "[1600]\ttrain-logloss:0.18650\tvalid-logloss:0.21653\n",
      "[1700]\ttrain-logloss:0.18477\tvalid-logloss:0.21650\n",
      "[1800]\ttrain-logloss:0.18305\tvalid-logloss:0.21646\n",
      "[1900]\ttrain-logloss:0.18138\tvalid-logloss:0.21646\n",
      "[1904]\ttrain-logloss:0.18131\tvalid-logloss:0.21646\n",
      "Kaggle Metric = 0.7930246226580835 \n",
      "\n",
      "#########################\n",
      "### Fold 3\n",
      "### Train size 367130 Valid size 91783\n",
      "### Training with 100% fold data...\n",
      "#########################\n",
      "[0]\ttrain-logloss:0.66202\tvalid-logloss:0.66212\n",
      "[100]\ttrain-logloss:0.23650\tvalid-logloss:0.24048\n",
      "[200]\ttrain-logloss:0.22219\tvalid-logloss:0.22861\n",
      "[300]\ttrain-logloss:0.21601\tvalid-logloss:0.22456\n",
      "[400]\ttrain-logloss:0.21206\tvalid-logloss:0.22277\n",
      "[500]\ttrain-logloss:0.20886\tvalid-logloss:0.22163\n",
      "[600]\ttrain-logloss:0.20609\tvalid-logloss:0.22093\n",
      "[700]\ttrain-logloss:0.20361\tvalid-logloss:0.22043\n",
      "[800]\ttrain-logloss:0.20129\tvalid-logloss:0.22005\n",
      "[900]\ttrain-logloss:0.19907\tvalid-logloss:0.21979\n",
      "[1000]\ttrain-logloss:0.19701\tvalid-logloss:0.21961\n",
      "[1100]\ttrain-logloss:0.19501\tvalid-logloss:0.21944\n",
      "[1200]\ttrain-logloss:0.19313\tvalid-logloss:0.21927\n",
      "[1300]\ttrain-logloss:0.19127\tvalid-logloss:0.21919\n",
      "[1400]\ttrain-logloss:0.18939\tvalid-logloss:0.21909\n",
      "[1500]\ttrain-logloss:0.18768\tvalid-logloss:0.21907\n",
      "[1600]\ttrain-logloss:0.18590\tvalid-logloss:0.21904\n",
      "[1700]\ttrain-logloss:0.18418\tvalid-logloss:0.21901\n",
      "[1800]\ttrain-logloss:0.18245\tvalid-logloss:0.21898\n",
      "[1865]\ttrain-logloss:0.18133\tvalid-logloss:0.21904\n",
      "Kaggle Metric = 0.7911617451956948 \n",
      "\n",
      "#########################\n",
      "### Fold 4\n",
      "### Train size 367131 Valid size 91782\n",
      "### Training with 100% fold data...\n",
      "#########################\n",
      "[0]\ttrain-logloss:0.66199\tvalid-logloss:0.66211\n",
      "[100]\ttrain-logloss:0.23625\tvalid-logloss:0.24104\n",
      "[200]\ttrain-logloss:0.22203\tvalid-logloss:0.22911\n",
      "[300]\ttrain-logloss:0.21588\tvalid-logloss:0.22527\n",
      "[400]\ttrain-logloss:0.21183\tvalid-logloss:0.22342\n",
      "[500]\ttrain-logloss:0.20867\tvalid-logloss:0.22231\n",
      "[600]\ttrain-logloss:0.20592\tvalid-logloss:0.22159\n",
      "[700]\ttrain-logloss:0.20342\tvalid-logloss:0.22107\n",
      "[800]\ttrain-logloss:0.20119\tvalid-logloss:0.22075\n",
      "[900]\ttrain-logloss:0.19903\tvalid-logloss:0.22052\n",
      "[1000]\ttrain-logloss:0.19695\tvalid-logloss:0.22037\n",
      "[1100]\ttrain-logloss:0.19493\tvalid-logloss:0.22027\n",
      "[1200]\ttrain-logloss:0.19292\tvalid-logloss:0.22018\n",
      "[1300]\ttrain-logloss:0.19104\tvalid-logloss:0.22009\n",
      "[1400]\ttrain-logloss:0.18910\tvalid-logloss:0.21994\n",
      "[1500]\ttrain-logloss:0.18734\tvalid-logloss:0.21998\n",
      "[1540]\ttrain-logloss:0.18662\tvalid-logloss:0.21998\n",
      "Kaggle Metric = 0.7864178266530873 \n",
      "\n",
      "#########################\n",
      "### Fold 5\n",
      "### Train size 367131 Valid size 91782\n",
      "### Training with 100% fold data...\n",
      "#########################\n",
      "[0]\ttrain-logloss:0.66205\tvalid-logloss:0.66199\n",
      "[100]\ttrain-logloss:0.23736\tvalid-logloss:0.23806\n",
      "[200]\ttrain-logloss:0.22300\tvalid-logloss:0.22579\n",
      "[300]\ttrain-logloss:0.21691\tvalid-logloss:0.22182\n",
      "[400]\ttrain-logloss:0.21281\tvalid-logloss:0.21970\n",
      "[500]\ttrain-logloss:0.20966\tvalid-logloss:0.21850\n",
      "[600]\ttrain-logloss:0.20691\tvalid-logloss:0.21776\n",
      "[700]\ttrain-logloss:0.20441\tvalid-logloss:0.21727\n",
      "[800]\ttrain-logloss:0.20208\tvalid-logloss:0.21683\n",
      "[900]\ttrain-logloss:0.19991\tvalid-logloss:0.21655\n",
      "[1000]\ttrain-logloss:0.19782\tvalid-logloss:0.21630\n",
      "[1100]\ttrain-logloss:0.19583\tvalid-logloss:0.21616\n",
      "[1200]\ttrain-logloss:0.19393\tvalid-logloss:0.21602\n",
      "[1300]\ttrain-logloss:0.19207\tvalid-logloss:0.21592\n",
      "[1400]\ttrain-logloss:0.19020\tvalid-logloss:0.21587\n",
      "[1500]\ttrain-logloss:0.18840\tvalid-logloss:0.21580\n",
      "[1600]\ttrain-logloss:0.18660\tvalid-logloss:0.21574\n",
      "[1700]\ttrain-logloss:0.18488\tvalid-logloss:0.21571\n",
      "[1800]\ttrain-logloss:0.18316\tvalid-logloss:0.21571\n",
      "[1828]\ttrain-logloss:0.18271\tvalid-logloss:0.21570\n",
      "Kaggle Metric = 0.7949106570440021 \n",
      "\n",
      "#########################\n",
      "OVERALL CV Kaggle Metric = 0.7915672796683756\n"
     ]
    }
   ],
   "source": [
    "importances = []\n",
    "oof = []\n",
    "train = train.to_pandas() # free GPU memory\n",
    "TRAIN_SUBSAMPLE = 1.0\n",
    "gc.collect()\n",
    "\n",
    "skf = KFold(n_splits=FOLDS, shuffle=True, random_state=SEED)\n",
    "for fold,(train_idx, valid_idx) in enumerate(skf.split(\n",
    "            train, train.target )):\n",
    "    \n",
    "    # TRAIN WITH SUBSAMPLE OF TRAIN FOLD DATA\n",
    "    if TRAIN_SUBSAMPLE<1.0:\n",
    "        np.random.seed(SEED)\n",
    "        train_idx = np.random.choice(train_idx, \n",
    "                       int(len(train_idx)*TRAIN_SUBSAMPLE), replace=False)\n",
    "        np.random.seed(None)\n",
    "    \n",
    "    print('#'*25)\n",
    "    print('### Fold',fold+1)\n",
    "    print('### Train size',len(train_idx),'Valid size',len(valid_idx))\n",
    "    print(f'### Training with {int(TRAIN_SUBSAMPLE*100)}% fold data...')\n",
    "    print('#'*25)\n",
    "    \n",
    "    # TRAIN, VALID, TEST FOR FOLD K\n",
    "    Xy_train = IterLoadForDMatrix(train.loc[train_idx], FEATURES, 'target')\n",
    "    X_valid = train.loc[valid_idx, FEATURES]\n",
    "    y_valid = train.loc[valid_idx, 'target']\n",
    "    \n",
    "    dtrain = xgb.DeviceQuantileDMatrix(Xy_train, max_bin=256)\n",
    "    dvalid = xgb.DMatrix(data=X_valid, label=y_valid)\n",
    "    \n",
    "    # TRAIN MODEL FOLD K\n",
    "    model = xgb.train(xgb_parms, \n",
    "                dtrain=dtrain,\n",
    "                evals=[(dtrain,'train'),(dvalid,'valid')],\n",
    "                num_boost_round=9999,\n",
    "                early_stopping_rounds=100,\n",
    "                verbose_eval=100) \n",
    "    model.save_model(f'XGB_v{VER}_fold{fold}.xgb')\n",
    "    \n",
    "    # GET FEATURE IMPORTANCE FOR FOLD K\n",
    "    dd = model.get_score(importance_type='weight')\n",
    "    df = pd.DataFrame({'feature':dd.keys(),f'importance_{fold}':dd.values()})\n",
    "    importances.append(df)\n",
    "            \n",
    "    # INFER OOF FOLD K\n",
    "    oof_preds = model.predict(dvalid)\n",
    "    acc = amex_metric_mod(y_valid.values, oof_preds)\n",
    "    print('Kaggle Metric =',acc,'\\n')\n",
    "    \n",
    "    # SAVE OOF\n",
    "    df = train.loc[valid_idx, ['customer_ID','target'] ].copy()\n",
    "    df['oof_pred'] = oof_preds\n",
    "    oof.append( df )\n",
    "    \n",
    "    del dtrain, Xy_train, dd, df\n",
    "    del X_valid, y_valid, dvalid, model\n",
    "    _ = gc.collect()\n",
    "    \n",
    "print('#'*25)\n",
    "oof = pd.concat(oof,axis=0,ignore_index=True).set_index('customer_ID')\n",
    "acc = amex_metric_mod(oof.target.values, oof.oof_pred.values)\n",
    "print('OVERALL CV Kaggle Metric =',acc)"
   ]
  },
  {
   "cell_type": "code",
   "execution_count": 11,
   "id": "f811c883",
   "metadata": {
    "execution": {
     "iopub.execute_input": "2022-07-12T16:03:47.454133Z",
     "iopub.status.busy": "2022-07-12T16:03:47.453423Z",
     "iopub.status.idle": "2022-07-12T16:03:47.592793Z",
     "shell.execute_reply": "2022-07-12T16:03:47.591923Z"
    },
    "papermill": {
     "duration": 0.154965,
     "end_time": "2022-07-12T16:03:47.594494",
     "exception": false,
     "start_time": "2022-07-12T16:03:47.439529",
     "status": "completed"
    },
    "tags": []
   },
   "outputs": [],
   "source": [
    "# CLEAN RAM\n",
    "del train\n",
    "_ = gc.collect()"
   ]
  },
  {
   "cell_type": "markdown",
   "id": "2a1b8325",
   "metadata": {
    "papermill": {
     "duration": 0.012722,
     "end_time": "2022-07-12T16:03:47.620584",
     "exception": false,
     "start_time": "2022-07-12T16:03:47.607862",
     "status": "completed"
    },
    "tags": []
   },
   "source": [
    "# Save OOF Preds"
   ]
  },
  {
   "cell_type": "code",
   "execution_count": 12,
   "id": "89ac5795",
   "metadata": {
    "execution": {
     "iopub.execute_input": "2022-07-12T16:03:47.647784Z",
     "iopub.status.busy": "2022-07-12T16:03:47.647218Z",
     "iopub.status.idle": "2022-07-12T16:03:52.987859Z",
     "shell.execute_reply": "2022-07-12T16:03:52.987052Z"
    },
    "papermill": {
     "duration": 5.356451,
     "end_time": "2022-07-12T16:03:52.989809",
     "exception": false,
     "start_time": "2022-07-12T16:03:47.633358",
     "status": "completed"
    },
    "tags": []
   },
   "outputs": [
    {
     "data": {
      "text/html": [
       "<div>\n",
       "<style scoped>\n",
       "    .dataframe tbody tr th:only-of-type {\n",
       "        vertical-align: middle;\n",
       "    }\n",
       "\n",
       "    .dataframe tbody tr th {\n",
       "        vertical-align: top;\n",
       "    }\n",
       "\n",
       "    .dataframe thead th {\n",
       "        text-align: right;\n",
       "    }\n",
       "</style>\n",
       "<table border=\"1\" class=\"dataframe\">\n",
       "  <thead>\n",
       "    <tr style=\"text-align: right;\">\n",
       "      <th></th>\n",
       "      <th>customer_ID</th>\n",
       "      <th>target</th>\n",
       "      <th>oof_pred</th>\n",
       "    </tr>\n",
       "  </thead>\n",
       "  <tbody>\n",
       "    <tr>\n",
       "      <th>0</th>\n",
       "      <td>20eac26171c3d251c55fc78204e59fab1c15fc2bc96d0c...</td>\n",
       "      <td>1</td>\n",
       "      <td>0.711233</td>\n",
       "    </tr>\n",
       "    <tr>\n",
       "      <th>1</th>\n",
       "      <td>aea50fdf9b974ccec95fa177c3225a0f913483b457de6e...</td>\n",
       "      <td>0</td>\n",
       "      <td>0.000458</td>\n",
       "    </tr>\n",
       "    <tr>\n",
       "      <th>2</th>\n",
       "      <td>32cd2d41aef737b69089882754395925c96eaee1f4a859...</td>\n",
       "      <td>0</td>\n",
       "      <td>0.002688</td>\n",
       "    </tr>\n",
       "    <tr>\n",
       "      <th>3</th>\n",
       "      <td>8daa6d5dc2655a8a437531e6b8b96829113cdfe9bf6cae...</td>\n",
       "      <td>0</td>\n",
       "      <td>0.015429</td>\n",
       "    </tr>\n",
       "    <tr>\n",
       "      <th>4</th>\n",
       "      <td>0ceba351a3851202542feb49d7385bcef32f6037fc57c7...</td>\n",
       "      <td>1</td>\n",
       "      <td>0.851165</td>\n",
       "    </tr>\n",
       "  </tbody>\n",
       "</table>\n",
       "</div>"
      ],
      "text/plain": [
       "                                         customer_ID  target  oof_pred\n",
       "0  20eac26171c3d251c55fc78204e59fab1c15fc2bc96d0c...       1  0.711233\n",
       "1  aea50fdf9b974ccec95fa177c3225a0f913483b457de6e...       0  0.000458\n",
       "2  32cd2d41aef737b69089882754395925c96eaee1f4a859...       0  0.002688\n",
       "3  8daa6d5dc2655a8a437531e6b8b96829113cdfe9bf6cae...       0  0.015429\n",
       "4  0ceba351a3851202542feb49d7385bcef32f6037fc57c7...       1  0.851165"
      ]
     },
     "execution_count": 12,
     "metadata": {},
     "output_type": "execute_result"
    }
   ],
   "source": [
    "oof_xgb = pd.read_parquet(TRAIN_PATH, columns=['customer_ID']).drop_duplicates()\n",
    "oof_xgb['customer_ID_hash'] = oof_xgb['customer_ID'].apply(lambda x: int(x[-16:],16) ).astype('int64')\n",
    "oof_xgb = oof_xgb.set_index('customer_ID_hash')\n",
    "oof_xgb = oof_xgb.merge(oof, left_index=True, right_index=True)\n",
    "oof_xgb = oof_xgb.sort_index().reset_index(drop=True)\n",
    "oof_xgb.to_csv(f'oof_xgb_v{VER}.csv',index=False)\n",
    "oof_xgb.head()"
   ]
  },
  {
   "cell_type": "code",
   "execution_count": 13,
   "id": "af1f7f86",
   "metadata": {
    "execution": {
     "iopub.execute_input": "2022-07-12T16:03:53.018300Z",
     "iopub.status.busy": "2022-07-12T16:03:53.018018Z",
     "iopub.status.idle": "2022-07-12T16:03:53.364030Z",
     "shell.execute_reply": "2022-07-12T16:03:53.363291Z"
    },
    "papermill": {
     "duration": 0.362666,
     "end_time": "2022-07-12T16:03:53.365789",
     "exception": false,
     "start_time": "2022-07-12T16:03:53.003123",
     "status": "completed"
    },
    "tags": []
   },
   "outputs": [
    {
     "data": {
      "image/png": "[encoded data removed]",
      "text/plain": [
       "<Figure size 432x288 with 1 Axes>"
      ]
     },
     "metadata": {
      "needs_background": "light"
     },
     "output_type": "display_data"
    }
   ],
   "source": [
    "# PLOT OOF PREDICTIONS\n",
    "plt.hist(oof_xgb.oof_pred.values, bins=100)\n",
    "plt.title('OOF Predictions')\n",
    "plt.show()"
   ]
  },
  {
   "cell_type": "code",
   "execution_count": 14,
   "id": "ef260f83",
   "metadata": {
    "execution": {
     "iopub.execute_input": "2022-07-12T16:03:53.393720Z",
     "iopub.status.busy": "2022-07-12T16:03:53.393418Z",
     "iopub.status.idle": "2022-07-12T16:03:53.534246Z",
     "shell.execute_reply": "2022-07-12T16:03:53.533368Z"
    },
    "papermill": {
     "duration": 0.156841,
     "end_time": "2022-07-12T16:03:53.536162",
     "exception": false,
     "start_time": "2022-07-12T16:03:53.379321",
     "status": "completed"
    },
    "tags": []
   },
   "outputs": [],
   "source": [
    "# CLEAR VRAM, RAM FOR INFERENCE BELOW\n",
    "del oof_xgb, oof\n",
    "_ = gc.collect()"
   ]
  },
  {
   "cell_type": "markdown",
   "id": "09c3705f",
   "metadata": {
    "papermill": {
     "duration": 0.013298,
     "end_time": "2022-07-12T16:03:53.563636",
     "exception": false,
     "start_time": "2022-07-12T16:03:53.550338",
     "status": "completed"
    },
    "tags": []
   },
   "source": [
    "# Feature Importance"
   ]
  },
  {
   "cell_type": "code",
   "execution_count": 15,
   "id": "1bc93df8",
   "metadata": {
    "execution": {
     "iopub.execute_input": "2022-07-12T16:03:53.591583Z",
     "iopub.status.busy": "2022-07-12T16:03:53.591242Z",
     "iopub.status.idle": "2022-07-12T16:03:53.619689Z",
     "shell.execute_reply": "2022-07-12T16:03:53.618876Z"
    },
    "papermill": {
     "duration": 0.044729,
     "end_time": "2022-07-12T16:03:53.621742",
     "exception": false,
     "start_time": "2022-07-12T16:03:53.577013",
     "status": "completed"
    },
    "tags": []
   },
   "outputs": [],
   "source": [
    "import matplotlib.pyplot as plt\n",
    "\n",
    "df = importances[0].copy()\n",
    "for k in range(1,FOLDS): df = df.merge(importances[k], on='feature', how='left')\n",
    "df['importance'] = df.iloc[:,1:].mean(axis=1)\n",
    "df = df.sort_values('importance',ascending=False)\n",
    "df.to_csv(f'xgb_feature_importance_v{VER}.csv',index=False)"
   ]
  },
  {
   "cell_type": "code",
   "execution_count": 16,
   "id": "5b2ecb5c",
   "metadata": {
    "execution": {
     "iopub.execute_input": "2022-07-12T16:03:53.650051Z",
     "iopub.status.busy": "2022-07-12T16:03:53.649770Z",
     "iopub.status.idle": "2022-07-12T16:03:53.901075Z",
     "shell.execute_reply": "2022-07-12T16:03:53.900303Z"
    },
    "papermill": {
     "duration": 0.267627,
     "end_time": "2022-07-12T16:03:53.902980",
     "exception": false,
     "start_time": "2022-07-12T16:03:53.635353",
     "status": "completed"
    },
    "tags": []
   },
   "outputs": [
    {
     "data": {
      "image/png": "[encoded data removed]",
      "text/plain": [
       "<Figure size 720x720 with 1 Axes>"
      ]
     },
     "metadata": {
      "needs_background": "light"
     },
     "output_type": "display_data"
    }
   ],
   "source": [
    "NUM_FEATURES = 20\n",
    "plt.figure(figsize=(10,5*NUM_FEATURES//10))\n",
    "plt.barh(np.arange(NUM_FEATURES,0,-1), df.importance.values[:NUM_FEATURES])\n",
    "plt.yticks(np.arange(NUM_FEATURES,0,-1), df.feature.values[:NUM_FEATURES])\n",
    "plt.title(f'XGB Feature Importance - Top {NUM_FEATURES}')\n",
    "plt.show()"
   ]
  },
  {
   "cell_type": "markdown",
   "id": "c3463536",
   "metadata": {
    "papermill": {
     "duration": 0.013754,
     "end_time": "2022-07-12T16:03:53.930956",
     "exception": false,
     "start_time": "2022-07-12T16:03:53.917202",
     "status": "completed"
    },
    "tags": []
   },
   "source": [
    "# Process and Feature Engineer Test Data\n",
    "We will load @raddar Kaggle dataset from [here][1] with discussion [here][2]. Then we will engineer features suggested by @huseyincot in his notebooks [here][1] and [here][4]. We will use [RAPIDS][5] and the GPU to create new features quickly.\n",
    "\n",
    "[1]: https://www.kaggle.com/datasets/raddar/amex-data-integer-dtypes-parquet-format\n",
    "[2]: https://www.kaggle.com/competitions/amex-default-prediction/discussion/328514\n",
    "[3]: https://www.kaggle.com/code/huseyincot/amex-catboost-0-793\n",
    "[4]: https://www.kaggle.com/code/huseyincot/amex-agg-data-how-it-created\n",
    "[5]: https://rapids.ai/"
   ]
  },
  {
   "cell_type": "code",
   "execution_count": 17,
   "id": "81113b04",
   "metadata": {
    "execution": {
     "iopub.execute_input": "2022-07-12T16:03:53.960163Z",
     "iopub.status.busy": "2022-07-12T16:03:53.959855Z",
     "iopub.status.idle": "2022-07-12T16:03:56.450197Z",
     "shell.execute_reply": "2022-07-12T16:03:56.449383Z"
    },
    "papermill": {
     "duration": 2.507465,
     "end_time": "2022-07-12T16:03:56.452116",
     "exception": false,
     "start_time": "2022-07-12T16:03:53.944651",
     "status": "completed"
    },
    "tags": []
   },
   "outputs": [
    {
     "name": "stdout",
     "output_type": "stream",
     "text": [
      "Reading test data...\n",
      "shape of data: (11363762, 2)\n",
      "We will process test data as 4 separate parts.\n",
      "There will be 231155 customers in each part (except the last part).\n",
      "Below are number of rows in each part:\n",
      "[2841209, 2839857, 2842105, 2840591]\n"
     ]
    }
   ],
   "source": [
    "# CALCULATE SIZE OF EACH SEPARATE TEST PART\n",
    "def get_rows(customers, test, NUM_PARTS = 4, verbose = ''):\n",
    "    chunk = len(customers)//NUM_PARTS\n",
    "    if verbose != '':\n",
    "        print(f'We will process {verbose} data as {NUM_PARTS} separate parts.')\n",
    "        print(f'There will be {chunk} customers in each part (except the last part).')\n",
    "        print('Below are number of rows in each part:')\n",
    "    rows = []\n",
    "\n",
    "    for k in range(NUM_PARTS):\n",
    "        if k==NUM_PARTS-1: cc = customers[k*chunk:]\n",
    "        else: cc = customers[k*chunk:(k+1)*chunk]\n",
    "        s = test.loc[test.customer_ID.isin(cc)].shape[0]\n",
    "        rows.append(s)\n",
    "    if verbose != '': print( rows )\n",
    "    return rows,chunk\n",
    "\n",
    "# COMPUTE SIZE OF 4 PARTS FOR TEST DATA\n",
    "NUM_PARTS = 4\n",
    "TEST_PATH = '../input/amex-data-integer-dtypes-parquet-format/test.parquet'\n",
    "\n",
    "print(f'Reading test data...')\n",
    "test = read_file(path = TEST_PATH, usecols = ['customer_ID','S_2'])\n",
    "customers = test[['customer_ID']].drop_duplicates().sort_index().values.flatten()\n",
    "rows,num_cust = get_rows(customers, test[['customer_ID']], NUM_PARTS = NUM_PARTS, verbose = 'test')"
   ]
  },
  {
   "cell_type": "markdown",
   "id": "d51f748d",
   "metadata": {
    "papermill": {
     "duration": 0.013761,
     "end_time": "2022-07-12T16:03:56.480140",
     "exception": false,
     "start_time": "2022-07-12T16:03:56.466379",
     "status": "completed"
    },
    "tags": []
   },
   "source": [
    "# Infer Test"
   ]
  },
  {
   "cell_type": "code",
   "execution_count": 18,
   "id": "840999ad",
   "metadata": {
    "execution": {
     "iopub.execute_input": "2022-07-12T16:03:56.509627Z",
     "iopub.status.busy": "2022-07-12T16:03:56.509289Z",
     "iopub.status.idle": "2022-07-12T16:06:44.711383Z",
     "shell.execute_reply": "2022-07-12T16:06:44.710554Z"
    },
    "papermill": {
     "duration": 168.219129,
     "end_time": "2022-07-12T16:06:44.713535",
     "exception": false,
     "start_time": "2022-07-12T16:03:56.494406",
     "status": "completed"
    },
    "tags": []
   },
   "outputs": [
    {
     "name": "stdout",
     "output_type": "stream",
     "text": [
      "\n",
      "Reading test data...\n",
      "shape of data: (11363762, 190)\n",
      "=> Test part 1 has shape (2841209, 190)\n",
      "shape after engineering (231155, 914)\n",
      "\n",
      "Reading test data...\n",
      "shape of data: (11363762, 190)\n",
      "=> Test part 2 has shape (2839857, 190)\n",
      "shape after engineering (231155, 914)\n",
      "\n",
      "Reading test data...\n",
      "shape of data: (11363762, 190)\n",
      "=> Test part 3 has shape (2842105, 190)\n",
      "shape after engineering (231155, 914)\n",
      "\n",
      "Reading test data...\n",
      "shape of data: (11363762, 190)\n",
      "=> Test part 4 has shape (2840591, 190)\n",
      "shape after engineering (231156, 914)\n"
     ]
    }
   ],
   "source": [
    "# INFER TEST DATA IN PARTS\n",
    "skip_rows = 0\n",
    "skip_cust = 0\n",
    "test_preds = []\n",
    "\n",
    "for k in range(NUM_PARTS):\n",
    "    \n",
    "    # READ PART OF TEST DATA\n",
    "    print(f'\\nReading test data...')\n",
    "    test = read_file(path = TEST_PATH)\n",
    "    test = test.iloc[skip_rows:skip_rows+rows[k]]\n",
    "    skip_rows += rows[k]\n",
    "    print(f'=> Test part {k+1} has shape', test.shape )\n",
    "    \n",
    "    # PROCESS AND FEATURE ENGINEER PART OF TEST DATA\n",
    "    test = process_and_feature_engineer(test)\n",
    "    if k==NUM_PARTS-1: test = test.loc[customers[skip_cust:]]\n",
    "    else: test = test.loc[customers[skip_cust:skip_cust+num_cust]]\n",
    "    skip_cust += num_cust\n",
    "    \n",
    "    # TEST DATA FOR XGB\n",
    "    X_test = test[FEATURES]\n",
    "    dtest = xgb.DMatrix(data=X_test)\n",
    "    test = test[['P_2_mean']] # reduce memory\n",
    "    del X_test\n",
    "    gc.collect()\n",
    "\n",
    "    # INFER XGB MODELS ON TEST DATA\n",
    "    model = xgb.Booster()\n",
    "    model.load_model(f'XGB_v{VER}_fold0.xgb')\n",
    "    preds = model.predict(dtest)\n",
    "    for f in range(1,FOLDS):\n",
    "        model.load_model(f'XGB_v{VER}_fold{f}.xgb')\n",
    "        preds += model.predict(dtest)\n",
    "    preds /= FOLDS\n",
    "    test_preds.append(preds)\n",
    "\n",
    "    # CLEAN MEMORY\n",
    "    del dtest, model\n",
    "    _ = gc.collect()"
   ]
  },
  {
   "cell_type": "markdown",
   "id": "1fa5c804",
   "metadata": {
    "papermill": {
     "duration": 0.014583,
     "end_time": "2022-07-12T16:06:44.743156",
     "exception": false,
     "start_time": "2022-07-12T16:06:44.728573",
     "status": "completed"
    },
    "tags": []
   },
   "source": [
    "# Create Submission CSV"
   ]
  },
  {
   "cell_type": "code",
   "execution_count": 19,
   "id": "ccfea388",
   "metadata": {
    "execution": {
     "iopub.execute_input": "2022-07-12T16:06:44.773523Z",
     "iopub.status.busy": "2022-07-12T16:06:44.773206Z",
     "iopub.status.idle": "2022-07-12T16:06:45.930094Z",
     "shell.execute_reply": "2022-07-12T16:06:45.929297Z"
    },
    "papermill": {
     "duration": 1.174504,
     "end_time": "2022-07-12T16:06:45.932113",
     "exception": false,
     "start_time": "2022-07-12T16:06:44.757609",
     "status": "completed"
    },
    "tags": []
   },
   "outputs": [
    {
     "name": "stdout",
     "output_type": "stream",
     "text": [
      "Submission file shape is (924621, 2)\n"
     ]
    },
    {
     "data": {
      "text/html": [
       "<div>\n",
       "<style scoped>\n",
       "    .dataframe tbody tr th:only-of-type {\n",
       "        vertical-align: middle;\n",
       "    }\n",
       "\n",
       "    .dataframe tbody tr th {\n",
       "        vertical-align: top;\n",
       "    }\n",
       "\n",
       "    .dataframe thead th {\n",
       "        text-align: right;\n",
       "    }\n",
       "</style>\n",
       "<table border=\"1\" class=\"dataframe\">\n",
       "  <thead>\n",
       "    <tr style=\"text-align: right;\">\n",
       "      <th></th>\n",
       "      <th>customer_ID</th>\n",
       "      <th>prediction</th>\n",
       "    </tr>\n",
       "  </thead>\n",
       "  <tbody>\n",
       "    <tr>\n",
       "      <th>0</th>\n",
       "      <td>03999d5e3bd61a69504cc6e7025c260c1ed2e5b449dba5...</td>\n",
       "      <td>0.133373</td>\n",
       "    </tr>\n",
       "    <tr>\n",
       "      <th>1</th>\n",
       "      <td>039b4f21aa584fb0c3c7055beabc098af55013f9f25515...</td>\n",
       "      <td>0.003910</td>\n",
       "    </tr>\n",
       "    <tr>\n",
       "      <th>2</th>\n",
       "      <td>039a6aea85575ebd33eec75e5c45bc7973481b81a99b62...</td>\n",
       "      <td>0.067444</td>\n",
       "    </tr>\n",
       "    <tr>\n",
       "      <th>3</th>\n",
       "      <td>039bd96164c6567580b24ba13c2b85b60f4554eb43d55b...</td>\n",
       "      <td>0.481554</td>\n",
       "    </tr>\n",
       "    <tr>\n",
       "      <th>4</th>\n",
       "      <td>0399a5a95461ced4134cd9693712fb012351cca1bde04d...</td>\n",
       "      <td>0.000203</td>\n",
       "    </tr>\n",
       "  </tbody>\n",
       "</table>\n",
       "</div>"
      ],
      "text/plain": [
       "                                         customer_ID  prediction\n",
       "0  03999d5e3bd61a69504cc6e7025c260c1ed2e5b449dba5...    0.133373\n",
       "1  039b4f21aa584fb0c3c7055beabc098af55013f9f25515...    0.003910\n",
       "2  039a6aea85575ebd33eec75e5c45bc7973481b81a99b62...    0.067444\n",
       "3  039bd96164c6567580b24ba13c2b85b60f4554eb43d55b...    0.481554\n",
       "4  0399a5a95461ced4134cd9693712fb012351cca1bde04d...    0.000203"
      ]
     },
     "execution_count": 19,
     "metadata": {},
     "output_type": "execute_result"
    }
   ],
   "source": [
    "# WRITE SUBMISSION FILE\n",
    "test_preds = np.concatenate(test_preds)\n",
    "test = cudf.DataFrame(index=customers,data={'prediction':test_preds})\n",
    "sub = cudf.read_csv('../input/amex-default-prediction/sample_submission.csv')[['customer_ID']]\n",
    "sub['customer_ID_hash'] = sub['customer_ID'].str[-16:].str.hex_to_int().astype('int64')\n",
    "sub = sub.set_index('customer_ID_hash')\n",
    "sub = sub.merge(test[['prediction']], left_index=True, right_index=True, how='left')\n",
    "sub = sub.reset_index(drop=True)\n",
    "\n",
    "# DISPLAY PREDICTIONS\n",
    "sub.to_csv(f'submission_xgb_v{VER}.csv',index=False)\n",
    "print('Submission file shape is', sub.shape )\n",
    "sub.head()"
   ]
  },
  {
   "cell_type": "code",
   "execution_count": 20,
   "id": "10c11004",
   "metadata": {
    "execution": {
     "iopub.execute_input": "2022-07-12T16:06:45.963691Z",
     "iopub.status.busy": "2022-07-12T16:06:45.963300Z",
     "iopub.status.idle": "2022-07-12T16:06:46.662359Z",
     "shell.execute_reply": "2022-07-12T16:06:46.661606Z"
    },
    "papermill": {
     "duration": 0.71659,
     "end_time": "2022-07-12T16:06:46.664193",
     "exception": false,
     "start_time": "2022-07-12T16:06:45.947603",
     "status": "completed"
    },
    "tags": []
   },
   "outputs": [
    {
     "data": {
      "image/png": "[encoded data removed]",
      "text/plain": [
       "<Figure size 432x288 with 1 Axes>"
      ]
     },
     "metadata": {
      "needs_background": "light"
     },
     "output_type": "display_data"
    }
   ],
   "source": [
    "# PLOT PREDICTIONS\n",
    "plt.hist(sub.to_pandas().prediction, bins=100)\n",
    "plt.title('Test Predictions')\n",
    "plt.show()"
   ]
  }
 ],
 "metadata": {
  "kernelspec": {
   "display_name": "Python 3",
   "language": "python",
   "name": "python3"
  },
  "language_info": {
   "codemirror_mode": {
    "name": "ipython",
    "version": 3
   },
   "file_extension": ".py",
   "mimetype": "text/x-python",
   "name": "python",
   "nbconvert_exporter": "python",
   "pygments_lexer": "ipython3",
   "version": "3.7.12"
  },
  "papermill": {
   "default_parameters": {},
   "duration": 797.082303,
   "end_time": "2022-07-12T16:06:48.002367",
   "environment_variables": {},
   "exception": null,
   "input_path": "__notebook__.ipynb",
   "output_path": "__notebook__.ipynb",
   "parameters": {},
   "start_time": "2022-07-12T15:53:30.920064",
   "version": "2.3.4"
  }
 },
 "nbformat": 4,
 "nbformat_minor": 5
}
