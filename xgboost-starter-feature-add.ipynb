{
 "cells": [
  {
   "cell_type": "markdown",
   "id": "0f19b057",
   "metadata": {
    "papermill": {
     "duration": 0.008016,
     "end_time": "2022-07-18T16:00:16.006056",
     "exception": false,
     "start_time": "2022-07-18T16:00:15.998040",
     "status": "completed"
    },
    "tags": []
   },
   "source": [
    "# XGBoost Starter - LB 0.793\n",
    "In this notebook we build and train an XGBoost model using @raddar Kaggle dataset from [here][1] with discussion [here][2]. Then we engineer features suggested by @huseyincot in his notebooks [here][3] and [here][4]. This XGB model achieves CV 0.792 LB 0.793! When training with XGB, we use a special XGB dataloader called `DeviceQuantileDMatrix` which uses a small GPU memory footprint. This allows us to engineer more additional columns and train with more rows of data. Our feature engineering is performed using [RAPIDS][5] on the GPU to create new features quickly.\n",
    "\n",
    "[1]: https://www.kaggle.com/datasets/raddar/amex-data-integer-dtypes-parquet-format\n",
    "[2]: https://www.kaggle.com/competitions/amex-default-prediction/discussion/328514\n",
    "[3]: https://www.kaggle.com/code/huseyincot/amex-catboost-0-793\n",
    "[4]: https://www.kaggle.com/code/huseyincot/amex-agg-data-how-it-created\n",
    "[5]: https://rapids.ai/"
   ]
  },
  {
   "cell_type": "markdown",
   "id": "b05d8216",
   "metadata": {
    "papermill": {
     "duration": 0.007102,
     "end_time": "2022-07-18T16:00:16.020043",
     "exception": false,
     "start_time": "2022-07-18T16:00:16.012941",
     "status": "completed"
    },
    "tags": []
   },
   "source": [
    "Feature Engineering I done\n",
    "1. Drop B_29, https://www.kaggle.com/code/roberthatch/amex-feature-engg-gpu-or-cpu-process-in-chunks/notebook\n",
    "2. Add each customer count (how long they used) (not normalize)\n",
    "3. Don't fill NaN (with -127)\n",
    "4. remove num_features's min, std\n",
    "5. D_39에 대한 feature 추가 -> CV하락\n",
    "6. B_1과 B_2간의 연관 feature 추가; CV 0.7920\n",
    "7. B_8과 B_9간의 연관 feature 추가; CV 0.7919\n",
    "8. corr가 높은 feature중 제거\n",
    "<!-- 9. add nasdaq info simply -->"
   ]
  },
  {
   "cell_type": "markdown",
   "id": "261f95f2",
   "metadata": {
    "papermill": {
     "duration": 0.006761,
     "end_time": "2022-07-18T16:00:16.033632",
     "exception": false,
     "start_time": "2022-07-18T16:00:16.026871",
     "status": "completed"
    },
    "tags": []
   },
   "source": [
    "# Load Libraries"
   ]
  },
  {
   "cell_type": "code",
   "execution_count": 1,
   "id": "b13e585d",
   "metadata": {
    "execution": {
     "iopub.execute_input": "2022-07-18T16:00:16.048836Z",
     "iopub.status.busy": "2022-07-18T16:00:16.048361Z",
     "iopub.status.idle": "2022-07-18T16:00:20.242803Z",
     "shell.execute_reply": "2022-07-18T16:00:20.242026Z"
    },
    "papermill": {
     "duration": 4.205372,
     "end_time": "2022-07-18T16:00:20.245903",
     "exception": false,
     "start_time": "2022-07-18T16:00:16.040531",
     "status": "completed"
    },
    "tags": []
   },
   "outputs": [
    {
     "name": "stdout",
     "output_type": "stream",
     "text": [
      "RAPIDS version 21.10.01\n"
     ]
    }
   ],
   "source": [
    "# LOAD LIBRARIES\n",
    "import pandas as pd, numpy as np # CPU libraries\n",
    "import cupy, cudf # GPU libraries\n",
    "import matplotlib.pyplot as plt, gc, os\n",
    "\n",
    "print('RAPIDS version',cudf.__version__)"
   ]
  },
  {
   "cell_type": "code",
   "execution_count": 2,
   "id": "1d511252",
   "metadata": {
    "execution": {
     "iopub.execute_input": "2022-07-18T16:00:20.262597Z",
     "iopub.status.busy": "2022-07-18T16:00:20.261878Z",
     "iopub.status.idle": "2022-07-18T16:00:20.266232Z",
     "shell.execute_reply": "2022-07-18T16:00:20.265507Z"
    },
    "papermill": {
     "duration": 0.01392,
     "end_time": "2022-07-18T16:00:20.267912",
     "exception": false,
     "start_time": "2022-07-18T16:00:20.253992",
     "status": "completed"
    },
    "tags": []
   },
   "outputs": [],
   "source": [
    "# VERSION NAME FOR SAVED MODEL FILES\n",
    "VER = 1\n",
    "\n",
    "# TRAIN RANDOM SEED\n",
    "SEED = 42\n",
    "\n",
    "# FILL NAN VALUE\n",
    "NAN_VALUE = -127 # will fit in int8\n",
    "\n",
    "# FOLDS PER MODEL\n",
    "FOLDS = 5"
   ]
  },
  {
   "cell_type": "markdown",
   "id": "c128fff5",
   "metadata": {
    "papermill": {
     "duration": 0.006255,
     "end_time": "2022-07-18T16:00:20.280595",
     "exception": false,
     "start_time": "2022-07-18T16:00:20.274340",
     "status": "completed"
    },
    "tags": []
   },
   "source": [
    "# Process and Feature Engineer Train Data\n",
    "We will load @raddar Kaggle dataset from [here][1] with discussion [here][2]. Then we will engineer features suggested by @huseyincot in his notebooks [here][3] and [here][4]. We will use [RAPIDS][5] and the GPU to create new features quickly.\n",
    "\n",
    "[1]: https://www.kaggle.com/datasets/raddar/amex-data-integer-dtypes-parquet-format\n",
    "[2]: https://www.kaggle.com/competitions/amex-default-prediction/discussion/328514\n",
    "[3]: https://www.kaggle.com/code/huseyincot/amex-catboost-0-793\n",
    "[4]: https://www.kaggle.com/code/huseyincot/amex-agg-data-how-it-created\n",
    "[5]: https://rapids.ai/"
   ]
  },
  {
   "cell_type": "code",
   "execution_count": 3,
   "id": "0f04867f",
   "metadata": {
    "execution": {
     "iopub.execute_input": "2022-07-18T16:00:20.294479Z",
     "iopub.status.busy": "2022-07-18T16:00:20.294227Z",
     "iopub.status.idle": "2022-07-18T16:00:43.161947Z",
     "shell.execute_reply": "2022-07-18T16:00:43.160701Z"
    },
    "papermill": {
     "duration": 22.876839,
     "end_time": "2022-07-18T16:00:43.163898",
     "exception": false,
     "start_time": "2022-07-18T16:00:20.287059",
     "status": "completed"
    },
    "tags": []
   },
   "outputs": [
    {
     "name": "stdout",
     "output_type": "stream",
     "text": [
      "Reading train data...\n",
      "shape of data: (5531451, 190)\n"
     ]
    }
   ],
   "source": [
    "def read_file(path = '', usecols = None):\n",
    "    # LOAD DATAFRAME\n",
    "    if usecols is not None: df = cudf.read_parquet(path, columns=usecols)\n",
    "    else: df = cudf.read_parquet(path)\n",
    "    # REDUCE DTYPE FOR CUSTOMER AND DATE\n",
    "    df['customer_ID'] = df['customer_ID'].str[-16:].str.hex_to_int().astype('int64')\n",
    "    df.S_2 = cudf.to_datetime( df.S_2 )\n",
    "    # SORT BY CUSTOMER AND DATE (so agg('last') works correctly)\n",
    "    #df = df.sort_values(['customer_ID','S_2'])\n",
    "    #df = df.reset_index(drop=True)\n",
    "    # FILL NAN\n",
    "#     df = df.fillna(NAN_VALUE) \n",
    "    print('shape of data:', df.shape)\n",
    "    \n",
    "    return df\n",
    "\n",
    "print('Reading train data...')\n",
    "TRAIN_PATH = '../input/amex-data-integer-dtypes-parquet-format/train.parquet'\n",
    "train = read_file(path = TRAIN_PATH)"
   ]
  },
  {
   "cell_type": "code",
   "execution_count": 4,
   "id": "869cd020",
   "metadata": {
    "execution": {
     "iopub.execute_input": "2022-07-18T16:00:43.178851Z",
     "iopub.status.busy": "2022-07-18T16:00:43.178560Z",
     "iopub.status.idle": "2022-07-18T16:00:43.476111Z",
     "shell.execute_reply": "2022-07-18T16:00:43.475129Z"
    },
    "papermill": {
     "duration": 0.308015,
     "end_time": "2022-07-18T16:00:43.478775",
     "exception": false,
     "start_time": "2022-07-18T16:00:43.170760",
     "status": "completed"
    },
    "tags": []
   },
   "outputs": [
    {
     "data": {
      "text/html": [
       "<div>\n",
       "<style scoped>\n",
       "    .dataframe tbody tr th:only-of-type {\n",
       "        vertical-align: middle;\n",
       "    }\n",
       "\n",
       "    .dataframe tbody tr th {\n",
       "        vertical-align: top;\n",
       "    }\n",
       "\n",
       "    .dataframe thead th {\n",
       "        text-align: right;\n",
       "    }\n",
       "</style>\n",
       "<table border=\"1\" class=\"dataframe\">\n",
       "  <thead>\n",
       "    <tr style=\"text-align: right;\">\n",
       "      <th></th>\n",
       "      <th>customer_ID</th>\n",
       "      <th>S_2</th>\n",
       "      <th>P_2</th>\n",
       "      <th>D_39</th>\n",
       "      <th>B_1</th>\n",
       "      <th>B_2</th>\n",
       "      <th>R_1</th>\n",
       "      <th>S_3</th>\n",
       "      <th>D_41</th>\n",
       "      <th>B_3</th>\n",
       "      <th>...</th>\n",
       "      <th>D_136</th>\n",
       "      <th>D_137</th>\n",
       "      <th>D_138</th>\n",
       "      <th>D_139</th>\n",
       "      <th>D_140</th>\n",
       "      <th>D_141</th>\n",
       "      <th>D_142</th>\n",
       "      <th>D_143</th>\n",
       "      <th>D_144</th>\n",
       "      <th>D_145</th>\n",
       "    </tr>\n",
       "  </thead>\n",
       "  <tbody>\n",
       "    <tr>\n",
       "      <th>0</th>\n",
       "      <td>-4532153018459703766</td>\n",
       "      <td>2017-03-09</td>\n",
       "      <td>0.938469</td>\n",
       "      <td>0</td>\n",
       "      <td>0.008724</td>\n",
       "      <td>1.006838</td>\n",
       "      <td>0.009228</td>\n",
       "      <td>0.124035</td>\n",
       "      <td>0.0</td>\n",
       "      <td>0.004709</td>\n",
       "      <td>...</td>\n",
       "      <td>-1</td>\n",
       "      <td>-1</td>\n",
       "      <td>-1</td>\n",
       "      <td>0</td>\n",
       "      <td>0</td>\n",
       "      <td>0.0</td>\n",
       "      <td>&lt;NA&gt;</td>\n",
       "      <td>0</td>\n",
       "      <td>0.000610</td>\n",
       "      <td>0</td>\n",
       "    </tr>\n",
       "    <tr>\n",
       "      <th>1</th>\n",
       "      <td>-4532153018459703766</td>\n",
       "      <td>2017-04-07</td>\n",
       "      <td>0.936665</td>\n",
       "      <td>0</td>\n",
       "      <td>0.004923</td>\n",
       "      <td>1.000653</td>\n",
       "      <td>0.006151</td>\n",
       "      <td>0.126750</td>\n",
       "      <td>0.0</td>\n",
       "      <td>0.002714</td>\n",
       "      <td>...</td>\n",
       "      <td>-1</td>\n",
       "      <td>-1</td>\n",
       "      <td>-1</td>\n",
       "      <td>0</td>\n",
       "      <td>0</td>\n",
       "      <td>0.0</td>\n",
       "      <td>&lt;NA&gt;</td>\n",
       "      <td>0</td>\n",
       "      <td>0.005492</td>\n",
       "      <td>0</td>\n",
       "    </tr>\n",
       "    <tr>\n",
       "      <th>2</th>\n",
       "      <td>-4532153018459703766</td>\n",
       "      <td>2017-05-28</td>\n",
       "      <td>0.954180</td>\n",
       "      <td>3</td>\n",
       "      <td>0.021655</td>\n",
       "      <td>1.009672</td>\n",
       "      <td>0.006815</td>\n",
       "      <td>0.123977</td>\n",
       "      <td>0.0</td>\n",
       "      <td>0.009423</td>\n",
       "      <td>...</td>\n",
       "      <td>-1</td>\n",
       "      <td>-1</td>\n",
       "      <td>-1</td>\n",
       "      <td>0</td>\n",
       "      <td>0</td>\n",
       "      <td>0.0</td>\n",
       "      <td>&lt;NA&gt;</td>\n",
       "      <td>0</td>\n",
       "      <td>0.006986</td>\n",
       "      <td>0</td>\n",
       "    </tr>\n",
       "    <tr>\n",
       "      <th>3</th>\n",
       "      <td>-4532153018459703766</td>\n",
       "      <td>2017-06-13</td>\n",
       "      <td>0.960384</td>\n",
       "      <td>0</td>\n",
       "      <td>0.013683</td>\n",
       "      <td>1.002700</td>\n",
       "      <td>0.001373</td>\n",
       "      <td>0.117169</td>\n",
       "      <td>0.0</td>\n",
       "      <td>0.005531</td>\n",
       "      <td>...</td>\n",
       "      <td>-1</td>\n",
       "      <td>-1</td>\n",
       "      <td>-1</td>\n",
       "      <td>0</td>\n",
       "      <td>0</td>\n",
       "      <td>0.0</td>\n",
       "      <td>&lt;NA&gt;</td>\n",
       "      <td>0</td>\n",
       "      <td>0.006527</td>\n",
       "      <td>0</td>\n",
       "    </tr>\n",
       "    <tr>\n",
       "      <th>4</th>\n",
       "      <td>-4532153018459703766</td>\n",
       "      <td>2017-07-16</td>\n",
       "      <td>0.947248</td>\n",
       "      <td>0</td>\n",
       "      <td>0.015193</td>\n",
       "      <td>1.000727</td>\n",
       "      <td>0.007605</td>\n",
       "      <td>0.117325</td>\n",
       "      <td>0.0</td>\n",
       "      <td>0.009312</td>\n",
       "      <td>...</td>\n",
       "      <td>-1</td>\n",
       "      <td>-1</td>\n",
       "      <td>-1</td>\n",
       "      <td>0</td>\n",
       "      <td>0</td>\n",
       "      <td>0.0</td>\n",
       "      <td>&lt;NA&gt;</td>\n",
       "      <td>0</td>\n",
       "      <td>0.008126</td>\n",
       "      <td>0</td>\n",
       "    </tr>\n",
       "  </tbody>\n",
       "</table>\n",
       "<p>5 rows × 190 columns</p>\n",
       "</div>"
      ],
      "text/plain": [
       "           customer_ID        S_2       P_2  D_39       B_1       B_2  \\\n",
       "0 -4532153018459703766 2017-03-09  0.938469     0  0.008724  1.006838   \n",
       "1 -4532153018459703766 2017-04-07  0.936665     0  0.004923  1.000653   \n",
       "2 -4532153018459703766 2017-05-28  0.954180     3  0.021655  1.009672   \n",
       "3 -4532153018459703766 2017-06-13  0.960384     0  0.013683  1.002700   \n",
       "4 -4532153018459703766 2017-07-16  0.947248     0  0.015193  1.000727   \n",
       "\n",
       "        R_1       S_3  D_41       B_3  ... D_136  D_137  D_138  D_139  D_140  \\\n",
       "0  0.009228  0.124035   0.0  0.004709  ...    -1     -1     -1      0      0   \n",
       "1  0.006151  0.126750   0.0  0.002714  ...    -1     -1     -1      0      0   \n",
       "2  0.006815  0.123977   0.0  0.009423  ...    -1     -1     -1      0      0   \n",
       "3  0.001373  0.117169   0.0  0.005531  ...    -1     -1     -1      0      0   \n",
       "4  0.007605  0.117325   0.0  0.009312  ...    -1     -1     -1      0      0   \n",
       "\n",
       "   D_141  D_142 D_143     D_144  D_145  \n",
       "0    0.0   <NA>     0  0.000610      0  \n",
       "1    0.0   <NA>     0  0.005492      0  \n",
       "2    0.0   <NA>     0  0.006986      0  \n",
       "3    0.0   <NA>     0  0.006527      0  \n",
       "4    0.0   <NA>     0  0.008126      0  \n",
       "\n",
       "[5 rows x 190 columns]"
      ]
     },
     "execution_count": 4,
     "metadata": {},
     "output_type": "execute_result"
    }
   ],
   "source": [
    "train.head()"
   ]
  },
  {
   "cell_type": "code",
   "execution_count": 5,
   "id": "7be51e1d",
   "metadata": {
    "execution": {
     "iopub.execute_input": "2022-07-18T16:00:43.494551Z",
     "iopub.status.busy": "2022-07-18T16:00:43.494254Z",
     "iopub.status.idle": "2022-07-18T16:00:46.034504Z",
     "shell.execute_reply": "2022-07-18T16:00:46.033651Z"
    },
    "papermill": {
     "duration": 2.551448,
     "end_time": "2022-07-18T16:00:46.037661",
     "exception": false,
     "start_time": "2022-07-18T16:00:43.486213",
     "status": "completed"
    },
    "tags": []
   },
   "outputs": [
    {
     "name": "stdout",
     "output_type": "stream",
     "text": [
      "shape after engineering (458913, 544)\n"
     ]
    }
   ],
   "source": [
    "def process_and_feature_engineer(df):\n",
    "    # FEATURE ENGINEERING FROM \n",
    "    # https://www.kaggle.com/code/huseyincot/amex-agg-data-how-it-created\n",
    "#     9) nasdaq\n",
    "#     nasdaq_path = '../input/nasdaq/nasdaq.csv'\n",
    "#     nasdaq = cudf.read_csv(nasdaq_path, encoding='utf-8-sig')\n",
    "#     nasdaq.rename(columns={'\\ufeffS_2': 'S_2'}, inplace=True)\n",
    "#     nasdaq.drop(['tradingvolume'], inplace=True, axis=1)\n",
    "#     nasdaq.S_2 = cudf.to_datetime(nasdaq.S_2)\n",
    "#     nasdaq[['closing','open', 'high', 'low']] = nasdaq[['closing','open', 'high', 'low']].astype(float)    \n",
    "#     df = df.merge(nasdaq, on='S_2')\n",
    "    \n",
    "#     1) Drop 'B_29'\n",
    "    df.drop(['B_29'], inplace=True, axis=1)\n",
    "#     5) D_39에 대한 feature 추가\n",
    "#     df['D_39_div30'] = df['D_39']/30\n",
    "    \n",
    "#     6) B1, B2에 연관 feature추가\n",
    "    df['B_1_2'] = df['B_1']/(df['B_2']+0.0000001)\n",
    "#     df['B_1_3'] = (df['B_1']+0.0000001) * (df['B_2']+0.0000001) # 성능하락\n",
    "    \n",
    "#     7) B8, B9에 연관 feature추가\n",
    "    #df['B_8_9'] = (df['B_8']+0.0000001)*(df['B_9']+0.0000001) # 성능하락\n",
    "#     df['B_8_9'] = (df['B_8']+0.0000001)/(df['B_9']+0.0000001) # 미소한 성능하락\n",
    "#     8) Corr 높은 특징 제거\n",
    "    df.drop(['D_118', 'D_119', 'D_121'], inplace=True, axis=1) #  D_115\n",
    "    df.drop(['D_135', 'D_137', 'D_138', 'D_139'], inplace=True, axis=1) # D_134\n",
    "\n",
    "    \n",
    "    all_cols = [c for c in list(df.columns) if c not in ['customer_ID','S_2']]\n",
    "    cat_features = [\"B_30\",\"B_38\",\"D_114\",\"D_116\",\"D_117\",\"D_120\",\"D_126\",\"D_63\",\"D_64\",\"D_66\",\"D_68\"]\n",
    "    num_features = [col for col in all_cols if col not in cat_features]\n",
    "    \n",
    "#     2) Add customer count\n",
    "    test_count_agg = df.groupby(['customer_ID'])['S_2'].agg(['count'])\n",
    "\n",
    "\n",
    "    test_num_agg = df.groupby(\"customer_ID\")[num_features].agg(['mean', 'max', 'last'])\n",
    "    test_num_agg.columns = ['_'.join(x) for x in test_num_agg.columns]\n",
    "\n",
    "    test_cat_agg = df.groupby(\"customer_ID\")[cat_features].agg(['count', 'last', 'nunique'])\n",
    "    test_cat_agg.columns = ['_'.join(x) for x in test_cat_agg.columns]\n",
    "\n",
    "    df = cudf.concat([test_count_agg,test_num_agg, test_cat_agg], axis=1)\n",
    "    del test_num_agg, test_cat_agg\n",
    "    print('shape after engineering', df.shape )\n",
    "    \n",
    "    return df\n",
    "\n",
    "train = process_and_feature_engineer(train)"
   ]
  },
  {
   "cell_type": "code",
   "execution_count": 6,
   "id": "d9a3cee7",
   "metadata": {
    "execution": {
     "iopub.execute_input": "2022-07-18T16:00:46.055171Z",
     "iopub.status.busy": "2022-07-18T16:00:46.053756Z",
     "iopub.status.idle": "2022-07-18T16:00:46.948593Z",
     "shell.execute_reply": "2022-07-18T16:00:46.946956Z"
    },
    "papermill": {
     "duration": 0.905193,
     "end_time": "2022-07-18T16:00:46.950610",
     "exception": false,
     "start_time": "2022-07-18T16:00:46.045417",
     "status": "completed"
    },
    "tags": []
   },
   "outputs": [
    {
     "name": "stdout",
     "output_type": "stream",
     "text": [
      "There are 544 features!\n"
     ]
    }
   ],
   "source": [
    "# ADD TARGETS\n",
    "targets = cudf.read_csv('../input/amex-default-prediction/train_labels.csv')\n",
    "targets['customer_ID'] = targets['customer_ID'].str[-16:].str.hex_to_int().astype('int64')\n",
    "targets = targets.set_index('customer_ID')\n",
    "train = train.merge(targets, left_index=True, right_index=True, how='left')\n",
    "train.target = train.target.astype('int8')\n",
    "del targets\n",
    "\n",
    "# NEEDED TO MAKE CV DETERMINISTIC (cudf merge above randomly shuffles rows)\n",
    "train = train.sort_index().reset_index()\n",
    "\n",
    "# FEATURES\n",
    "FEATURES = train.columns[1:-1]\n",
    "print(f'There are {len(FEATURES)} features!')"
   ]
  },
  {
   "cell_type": "markdown",
   "id": "ced1a59c",
   "metadata": {
    "papermill": {
     "duration": 0.00751,
     "end_time": "2022-07-18T16:00:46.965772",
     "exception": false,
     "start_time": "2022-07-18T16:00:46.958262",
     "status": "completed"
    },
    "tags": []
   },
   "source": [
    "# Train XGB\n",
    "We will train using `DeviceQuantileDMatrix`. This has a very small GPU memory footprint."
   ]
  },
  {
   "cell_type": "code",
   "execution_count": 7,
   "id": "a2b24ca9",
   "metadata": {
    "execution": {
     "iopub.execute_input": "2022-07-18T16:00:46.981294Z",
     "iopub.status.busy": "2022-07-18T16:00:46.980982Z",
     "iopub.status.idle": "2022-07-18T16:00:47.093580Z",
     "shell.execute_reply": "2022-07-18T16:00:47.092678Z"
    },
    "papermill": {
     "duration": 0.12275,
     "end_time": "2022-07-18T16:00:47.095604",
     "exception": false,
     "start_time": "2022-07-18T16:00:46.972854",
     "status": "completed"
    },
    "tags": []
   },
   "outputs": [
    {
     "name": "stdout",
     "output_type": "stream",
     "text": [
      "XGB Version 1.6.1\n"
     ]
    }
   ],
   "source": [
    "# LOAD XGB LIBRARY\n",
    "from sklearn.model_selection import KFold\n",
    "import xgboost as xgb\n",
    "print('XGB Version',xgb.__version__)\n",
    "\n",
    "# XGB MODEL PARAMETERS\n",
    "xgb_parms = { \n",
    "    'max_depth':4, \n",
    "    'learning_rate':0.05, \n",
    "    'subsample':0.8,\n",
    "    'colsample_bytree':0.6, \n",
    "    'eval_metric':'logloss',\n",
    "    'objective':'binary:logistic',\n",
    "    'tree_method':'gpu_hist',\n",
    "    'predictor':'gpu_predictor',\n",
    "    'random_state':SEED\n",
    "}"
   ]
  },
  {
   "cell_type": "code",
   "execution_count": 8,
   "id": "965ebd6e",
   "metadata": {
    "execution": {
     "iopub.execute_input": "2022-07-18T16:00:47.111428Z",
     "iopub.status.busy": "2022-07-18T16:00:47.111115Z",
     "iopub.status.idle": "2022-07-18T16:00:47.119870Z",
     "shell.execute_reply": "2022-07-18T16:00:47.119127Z"
    },
    "papermill": {
     "duration": 0.018575,
     "end_time": "2022-07-18T16:00:47.121552",
     "exception": false,
     "start_time": "2022-07-18T16:00:47.102977",
     "status": "completed"
    },
    "tags": []
   },
   "outputs": [],
   "source": [
    "# NEEDED WITH DeviceQuantileDMatrix BELOW\n",
    "class IterLoadForDMatrix(xgb.core.DataIter):\n",
    "    def __init__(self, df=None, features=None, target=None, batch_size=256*1024):\n",
    "        self.features = features\n",
    "        self.target = target\n",
    "        self.df = df\n",
    "        self.it = 0 # set iterator to 0\n",
    "        self.batch_size = batch_size\n",
    "        self.batches = int( np.ceil( len(df) / self.batch_size ) )\n",
    "        super().__init__()\n",
    "\n",
    "    def reset(self):\n",
    "        '''Reset the iterator'''\n",
    "        self.it = 0\n",
    "\n",
    "    def next(self, input_data):\n",
    "        '''Yield next batch of data.'''\n",
    "        if self.it == self.batches:\n",
    "            return 0 # Return 0 when there's no more batch.\n",
    "        \n",
    "        a = self.it * self.batch_size\n",
    "        b = min( (self.it + 1) * self.batch_size, len(self.df) )\n",
    "        dt = cudf.DataFrame(self.df.iloc[a:b])\n",
    "        input_data(data=dt[self.features], label=dt[self.target]) #, weight=dt['weight'])\n",
    "        self.it += 1\n",
    "        return 1"
   ]
  },
  {
   "cell_type": "code",
   "execution_count": 9,
   "id": "c9ca8671",
   "metadata": {
    "execution": {
     "iopub.execute_input": "2022-07-18T16:00:47.137869Z",
     "iopub.status.busy": "2022-07-18T16:00:47.137559Z",
     "iopub.status.idle": "2022-07-18T16:00:47.147954Z",
     "shell.execute_reply": "2022-07-18T16:00:47.147174Z"
    },
    "papermill": {
     "duration": 0.020664,
     "end_time": "2022-07-18T16:00:47.149613",
     "exception": false,
     "start_time": "2022-07-18T16:00:47.128949",
     "status": "completed"
    },
    "tags": []
   },
   "outputs": [],
   "source": [
    "# https://www.kaggle.com/kyakovlev\n",
    "# https://www.kaggle.com/competitions/amex-default-prediction/discussion/327534\n",
    "def amex_metric_mod(y_true, y_pred):\n",
    "\n",
    "    labels     = np.transpose(np.array([y_true, y_pred]))\n",
    "    labels     = labels[labels[:, 1].argsort()[::-1]]\n",
    "    weights    = np.where(labels[:,0]==0, 20, 1)\n",
    "    cut_vals   = labels[np.cumsum(weights) <= int(0.04 * np.sum(weights))]\n",
    "    top_four   = np.sum(cut_vals[:,0]) / np.sum(labels[:,0])\n",
    "\n",
    "    gini = [0,0]\n",
    "    for i in [1,0]:\n",
    "        labels         = np.transpose(np.array([y_true, y_pred]))\n",
    "        labels         = labels[labels[:, i].argsort()[::-1]]\n",
    "        weight         = np.where(labels[:,0]==0, 20, 1)\n",
    "        weight_random  = np.cumsum(weight / np.sum(weight))\n",
    "        total_pos      = np.sum(labels[:, 0] *  weight)\n",
    "        cum_pos_found  = np.cumsum(labels[:, 0] * weight)\n",
    "        lorentz        = cum_pos_found / total_pos\n",
    "        gini[i]        = np.sum((lorentz - weight_random) * weight)\n",
    "\n",
    "    return 0.5 * (gini[1]/gini[0] + top_four)"
   ]
  },
  {
   "cell_type": "code",
   "execution_count": 10,
   "id": "8cbf963f",
   "metadata": {
    "execution": {
     "iopub.execute_input": "2022-07-18T16:00:47.165844Z",
     "iopub.status.busy": "2022-07-18T16:00:47.165554Z",
     "iopub.status.idle": "2022-07-18T16:07:22.344658Z",
     "shell.execute_reply": "2022-07-18T16:07:22.343838Z"
    },
    "papermill": {
     "duration": 395.189555,
     "end_time": "2022-07-18T16:07:22.346687",
     "exception": false,
     "start_time": "2022-07-18T16:00:47.157132",
     "status": "completed"
    },
    "scrolled": true,
    "tags": []
   },
   "outputs": [
    {
     "name": "stdout",
     "output_type": "stream",
     "text": [
      "#########################\n",
      "### Fold 1\n",
      "### Train size 367130 Valid size 91783\n",
      "### Training with 100% fold data...\n",
      "#########################\n",
      "[0]\ttrain-logloss:0.66331\tvalid-logloss:0.66331\n",
      "[100]\ttrain-logloss:0.23705\tvalid-logloss:0.23951\n",
      "[200]\ttrain-logloss:0.22284\tvalid-logloss:0.22764\n",
      "[300]\ttrain-logloss:0.21681\tvalid-logloss:0.22359\n",
      "[400]\ttrain-logloss:0.21283\tvalid-logloss:0.22153\n",
      "[500]\ttrain-logloss:0.20982\tvalid-logloss:0.22035\n",
      "[600]\ttrain-logloss:0.20720\tvalid-logloss:0.21952\n",
      "[700]\ttrain-logloss:0.20485\tvalid-logloss:0.21901\n",
      "[800]\ttrain-logloss:0.20271\tvalid-logloss:0.21858\n",
      "[900]\ttrain-logloss:0.20060\tvalid-logloss:0.21831\n",
      "[1000]\ttrain-logloss:0.19868\tvalid-logloss:0.21807\n",
      "[1100]\ttrain-logloss:0.19679\tvalid-logloss:0.21795\n",
      "[1200]\ttrain-logloss:0.19500\tvalid-logloss:0.21777\n",
      "[1300]\ttrain-logloss:0.19324\tvalid-logloss:0.21765\n",
      "[1400]\ttrain-logloss:0.19154\tvalid-logloss:0.21756\n",
      "[1500]\ttrain-logloss:0.18989\tvalid-logloss:0.21742\n",
      "[1600]\ttrain-logloss:0.18822\tvalid-logloss:0.21731\n",
      "[1700]\ttrain-logloss:0.18663\tvalid-logloss:0.21726\n",
      "[1800]\ttrain-logloss:0.18502\tvalid-logloss:0.21729\n",
      "[1806]\ttrain-logloss:0.18493\tvalid-logloss:0.21730\n",
      "Kaggle Metric = 0.7924296653917 \n",
      "\n",
      "#########################\n",
      "### Fold 2\n",
      "### Train size 367130 Valid size 91783\n",
      "### Training with 100% fold data...\n",
      "#########################\n",
      "[0]\ttrain-logloss:0.66345\tvalid-logloss:0.66336\n",
      "[100]\ttrain-logloss:0.23740\tvalid-logloss:0.23822\n",
      "[200]\ttrain-logloss:0.22333\tvalid-logloss:0.22608\n",
      "[300]\ttrain-logloss:0.21729\tvalid-logloss:0.22204\n",
      "[400]\ttrain-logloss:0.21324\tvalid-logloss:0.22001\n",
      "[500]\ttrain-logloss:0.21022\tvalid-logloss:0.21893\n",
      "[600]\ttrain-logloss:0.20750\tvalid-logloss:0.21814\n",
      "[700]\ttrain-logloss:0.20511\tvalid-logloss:0.21760\n",
      "[800]\ttrain-logloss:0.20283\tvalid-logloss:0.21722\n",
      "[900]\ttrain-logloss:0.20073\tvalid-logloss:0.21695\n",
      "[1000]\ttrain-logloss:0.19874\tvalid-logloss:0.21673\n",
      "[1100]\ttrain-logloss:0.19683\tvalid-logloss:0.21656\n",
      "[1200]\ttrain-logloss:0.19507\tvalid-logloss:0.21643\n",
      "[1300]\ttrain-logloss:0.19330\tvalid-logloss:0.21633\n",
      "[1400]\ttrain-logloss:0.19160\tvalid-logloss:0.21627\n",
      "[1500]\ttrain-logloss:0.18990\tvalid-logloss:0.21622\n",
      "[1600]\ttrain-logloss:0.18827\tvalid-logloss:0.21617\n",
      "[1700]\ttrain-logloss:0.18662\tvalid-logloss:0.21612\n",
      "[1800]\ttrain-logloss:0.18499\tvalid-logloss:0.21609\n",
      "[1900]\ttrain-logloss:0.18342\tvalid-logloss:0.21606\n",
      "[2000]\ttrain-logloss:0.18186\tvalid-logloss:0.21600\n",
      "[2100]\ttrain-logloss:0.18033\tvalid-logloss:0.21597\n",
      "[2200]\ttrain-logloss:0.17886\tvalid-logloss:0.21601\n",
      "[2205]\ttrain-logloss:0.17879\tvalid-logloss:0.21602\n",
      "Kaggle Metric = 0.7936934468523347 \n",
      "\n",
      "#########################\n",
      "### Fold 3\n",
      "### Train size 367130 Valid size 91783\n",
      "### Training with 100% fold data...\n",
      "#########################\n",
      "[0]\ttrain-logloss:0.66333\tvalid-logloss:0.66346\n",
      "[100]\ttrain-logloss:0.23653\tvalid-logloss:0.24073\n",
      "[200]\ttrain-logloss:0.22246\tvalid-logloss:0.22908\n",
      "[300]\ttrain-logloss:0.21639\tvalid-logloss:0.22506\n",
      "[400]\ttrain-logloss:0.21253\tvalid-logloss:0.22317\n",
      "[500]\ttrain-logloss:0.20939\tvalid-logloss:0.22209\n",
      "[600]\ttrain-logloss:0.20672\tvalid-logloss:0.22139\n",
      "[700]\ttrain-logloss:0.20437\tvalid-logloss:0.22091\n",
      "[800]\ttrain-logloss:0.20222\tvalid-logloss:0.22059\n",
      "[900]\ttrain-logloss:0.20013\tvalid-logloss:0.22022\n",
      "[1000]\ttrain-logloss:0.19818\tvalid-logloss:0.21997\n",
      "[1100]\ttrain-logloss:0.19624\tvalid-logloss:0.21980\n",
      "[1200]\ttrain-logloss:0.19443\tvalid-logloss:0.21970\n",
      "[1300]\ttrain-logloss:0.19265\tvalid-logloss:0.21957\n",
      "[1400]\ttrain-logloss:0.19091\tvalid-logloss:0.21945\n",
      "[1500]\ttrain-logloss:0.18926\tvalid-logloss:0.21939\n",
      "[1600]\ttrain-logloss:0.18759\tvalid-logloss:0.21937\n",
      "[1700]\ttrain-logloss:0.18596\tvalid-logloss:0.21936\n",
      "[1800]\ttrain-logloss:0.18434\tvalid-logloss:0.21933\n",
      "[1900]\ttrain-logloss:0.18277\tvalid-logloss:0.21925\n",
      "[2000]\ttrain-logloss:0.18123\tvalid-logloss:0.21922\n",
      "[2100]\ttrain-logloss:0.17976\tvalid-logloss:0.21924\n",
      "[2181]\ttrain-logloss:0.17854\tvalid-logloss:0.21927\n",
      "Kaggle Metric = 0.7898176457486598 \n",
      "\n",
      "#########################\n",
      "### Fold 4\n",
      "### Train size 367131 Valid size 91782\n",
      "### Training with 100% fold data...\n",
      "#########################\n",
      "[0]\ttrain-logloss:0.66330\tvalid-logloss:0.66343\n",
      "[100]\ttrain-logloss:0.23649\tvalid-logloss:0.24109\n",
      "[200]\ttrain-logloss:0.22230\tvalid-logloss:0.22925\n",
      "[300]\ttrain-logloss:0.21628\tvalid-logloss:0.22548\n",
      "[400]\ttrain-logloss:0.21231\tvalid-logloss:0.22363\n",
      "[500]\ttrain-logloss:0.20929\tvalid-logloss:0.22256\n",
      "[600]\ttrain-logloss:0.20658\tvalid-logloss:0.22172\n",
      "[700]\ttrain-logloss:0.20418\tvalid-logloss:0.22119\n",
      "[800]\ttrain-logloss:0.20194\tvalid-logloss:0.22083\n",
      "[900]\ttrain-logloss:0.19987\tvalid-logloss:0.22062\n",
      "[1000]\ttrain-logloss:0.19786\tvalid-logloss:0.22043\n",
      "[1100]\ttrain-logloss:0.19596\tvalid-logloss:0.22038\n",
      "[1200]\ttrain-logloss:0.19409\tvalid-logloss:0.22031\n",
      "[1300]\ttrain-logloss:0.19231\tvalid-logloss:0.22017\n",
      "[1400]\ttrain-logloss:0.19053\tvalid-logloss:0.22011\n",
      "[1500]\ttrain-logloss:0.18882\tvalid-logloss:0.22004\n",
      "[1600]\ttrain-logloss:0.18718\tvalid-logloss:0.21999\n",
      "[1700]\ttrain-logloss:0.18549\tvalid-logloss:0.21992\n",
      "[1800]\ttrain-logloss:0.18387\tvalid-logloss:0.21986\n",
      "[1900]\ttrain-logloss:0.18230\tvalid-logloss:0.21986\n",
      "[2000]\ttrain-logloss:0.18073\tvalid-logloss:0.21979\n",
      "[2100]\ttrain-logloss:0.17920\tvalid-logloss:0.21976\n",
      "[2200]\ttrain-logloss:0.17770\tvalid-logloss:0.21975\n",
      "[2292]\ttrain-logloss:0.17633\tvalid-logloss:0.21978\n",
      "Kaggle Metric = 0.788167738008918 \n",
      "\n",
      "#########################\n",
      "### Fold 5\n",
      "### Train size 367131 Valid size 91782\n",
      "### Training with 100% fold data...\n",
      "#########################\n",
      "[0]\ttrain-logloss:0.66333\tvalid-logloss:0.66328\n",
      "[100]\ttrain-logloss:0.23743\tvalid-logloss:0.23794\n",
      "[200]\ttrain-logloss:0.22341\tvalid-logloss:0.22591\n",
      "[300]\ttrain-logloss:0.21753\tvalid-logloss:0.22201\n",
      "[400]\ttrain-logloss:0.21359\tvalid-logloss:0.21987\n",
      "[500]\ttrain-logloss:0.21049\tvalid-logloss:0.21875\n",
      "[600]\ttrain-logloss:0.20778\tvalid-logloss:0.21791\n",
      "[700]\ttrain-logloss:0.20536\tvalid-logloss:0.21733\n",
      "[800]\ttrain-logloss:0.20308\tvalid-logloss:0.21688\n",
      "[900]\ttrain-logloss:0.20102\tvalid-logloss:0.21664\n",
      "[1000]\ttrain-logloss:0.19901\tvalid-logloss:0.21638\n",
      "[1100]\ttrain-logloss:0.19711\tvalid-logloss:0.21619\n",
      "[1200]\ttrain-logloss:0.19526\tvalid-logloss:0.21601\n",
      "[1300]\ttrain-logloss:0.19345\tvalid-logloss:0.21587\n",
      "[1400]\ttrain-logloss:0.19169\tvalid-logloss:0.21578\n",
      "[1500]\ttrain-logloss:0.18998\tvalid-logloss:0.21571\n",
      "[1600]\ttrain-logloss:0.18824\tvalid-logloss:0.21560\n",
      "[1700]\ttrain-logloss:0.18668\tvalid-logloss:0.21548\n",
      "[1800]\ttrain-logloss:0.18509\tvalid-logloss:0.21550\n",
      "[1870]\ttrain-logloss:0.18395\tvalid-logloss:0.21547\n",
      "Kaggle Metric = 0.7948370598400487 \n",
      "\n",
      "#########################\n",
      "OVERALL CV Kaggle Metric = 0.7917944506932741\n"
     ]
    }
   ],
   "source": [
    "importances = []\n",
    "oof = []\n",
    "train = train.to_pandas() # free GPU memory\n",
    "TRAIN_SUBSAMPLE = 1.0\n",
    "gc.collect()\n",
    "\n",
    "skf = KFold(n_splits=FOLDS, shuffle=True, random_state=SEED)\n",
    "for fold,(train_idx, valid_idx) in enumerate(skf.split(\n",
    "            train, train.target )):\n",
    "    \n",
    "    # TRAIN WITH SUBSAMPLE OF TRAIN FOLD DATA\n",
    "    if TRAIN_SUBSAMPLE<1.0:\n",
    "        np.random.seed(SEED)\n",
    "        train_idx = np.random.choice(train_idx, \n",
    "                       int(len(train_idx)*TRAIN_SUBSAMPLE), replace=False)\n",
    "        np.random.seed(None)\n",
    "    \n",
    "    print('#'*25)\n",
    "    print('### Fold',fold+1)\n",
    "    print('### Train size',len(train_idx),'Valid size',len(valid_idx))\n",
    "    print(f'### Training with {int(TRAIN_SUBSAMPLE*100)}% fold data...')\n",
    "    print('#'*25)\n",
    "    \n",
    "    # TRAIN, VALID, TEST FOR FOLD K\n",
    "    Xy_train = IterLoadForDMatrix(train.loc[train_idx], FEATURES, 'target')\n",
    "    X_valid = train.loc[valid_idx, FEATURES]\n",
    "    y_valid = train.loc[valid_idx, 'target']\n",
    "    \n",
    "    dtrain = xgb.DeviceQuantileDMatrix(Xy_train, max_bin=256)\n",
    "    dvalid = xgb.DMatrix(data=X_valid, label=y_valid)\n",
    "    \n",
    "    # TRAIN MODEL FOLD K\n",
    "    model = xgb.train(xgb_parms, \n",
    "                dtrain=dtrain,\n",
    "                evals=[(dtrain,'train'),(dvalid,'valid')],\n",
    "                num_boost_round=9999,\n",
    "                early_stopping_rounds=100,\n",
    "                verbose_eval=100) \n",
    "    model.save_model(f'XGB_v{VER}_fold{fold}.xgb')\n",
    "    \n",
    "    # GET FEATURE IMPORTANCE FOR FOLD K\n",
    "    dd = model.get_score(importance_type='weight')\n",
    "    df = pd.DataFrame({'feature':dd.keys(),f'importance_{fold}':dd.values()})\n",
    "    importances.append(df)\n",
    "            \n",
    "    # INFER OOF FOLD K\n",
    "    oof_preds = model.predict(dvalid)\n",
    "    acc = amex_metric_mod(y_valid.values, oof_preds)\n",
    "    print('Kaggle Metric =',acc,'\\n')\n",
    "    \n",
    "    # SAVE OOF\n",
    "    df = train.loc[valid_idx, ['customer_ID','target'] ].copy()\n",
    "    df['oof_pred'] = oof_preds\n",
    "    oof.append( df )\n",
    "    \n",
    "    del dtrain, Xy_train, dd, df\n",
    "    del X_valid, y_valid, dvalid, model\n",
    "    _ = gc.collect()\n",
    "    \n",
    "print('#'*25)\n",
    "oof = pd.concat(oof,axis=0,ignore_index=True).set_index('customer_ID')\n",
    "acc = amex_metric_mod(oof.target.values, oof.oof_pred.values)\n",
    "print('OVERALL CV Kaggle Metric =',acc)"
   ]
  },
  {
   "cell_type": "code",
   "execution_count": 11,
   "id": "0753d73f",
   "metadata": {
    "execution": {
     "iopub.execute_input": "2022-07-18T16:07:22.377007Z",
     "iopub.status.busy": "2022-07-18T16:07:22.376201Z",
     "iopub.status.idle": "2022-07-18T16:07:22.509779Z",
     "shell.execute_reply": "2022-07-18T16:07:22.508964Z"
    },
    "papermill": {
     "duration": 0.150493,
     "end_time": "2022-07-18T16:07:22.511478",
     "exception": false,
     "start_time": "2022-07-18T16:07:22.360985",
     "status": "completed"
    },
    "tags": []
   },
   "outputs": [],
   "source": [
    "# CLEAN RAM\n",
    "del train\n",
    "_ = gc.collect()"
   ]
  },
  {
   "cell_type": "markdown",
   "id": "aab19a66",
   "metadata": {
    "papermill": {
     "duration": 0.014398,
     "end_time": "2022-07-18T16:07:22.540103",
     "exception": false,
     "start_time": "2022-07-18T16:07:22.525705",
     "status": "completed"
    },
    "tags": []
   },
   "source": [
    "# Save OOF Preds"
   ]
  },
  {
   "cell_type": "code",
   "execution_count": 12,
   "id": "b3aac4f5",
   "metadata": {
    "execution": {
     "iopub.execute_input": "2022-07-18T16:07:22.569593Z",
     "iopub.status.busy": "2022-07-18T16:07:22.569221Z",
     "iopub.status.idle": "2022-07-18T16:07:27.647948Z",
     "shell.execute_reply": "2022-07-18T16:07:27.647162Z"
    },
    "papermill": {
     "duration": 5.095468,
     "end_time": "2022-07-18T16:07:27.649624",
     "exception": false,
     "start_time": "2022-07-18T16:07:22.554156",
     "status": "completed"
    },
    "tags": []
   },
   "outputs": [
    {
     "data": {
      "text/html": [
       "<div>\n",
       "<style scoped>\n",
       "    .dataframe tbody tr th:only-of-type {\n",
       "        vertical-align: middle;\n",
       "    }\n",
       "\n",
       "    .dataframe tbody tr th {\n",
       "        vertical-align: top;\n",
       "    }\n",
       "\n",
       "    .dataframe thead th {\n",
       "        text-align: right;\n",
       "    }\n",
       "</style>\n",
       "<table border=\"1\" class=\"dataframe\">\n",
       "  <thead>\n",
       "    <tr style=\"text-align: right;\">\n",
       "      <th></th>\n",
       "      <th>customer_ID</th>\n",
       "      <th>target</th>\n",
       "      <th>oof_pred</th>\n",
       "    </tr>\n",
       "  </thead>\n",
       "  <tbody>\n",
       "    <tr>\n",
       "      <th>0</th>\n",
       "      <td>20eac26171c3d251c55fc78204e59fab1c15fc2bc96d0c...</td>\n",
       "      <td>1</td>\n",
       "      <td>0.648269</td>\n",
       "    </tr>\n",
       "    <tr>\n",
       "      <th>1</th>\n",
       "      <td>aea50fdf9b974ccec95fa177c3225a0f913483b457de6e...</td>\n",
       "      <td>0</td>\n",
       "      <td>0.000187</td>\n",
       "    </tr>\n",
       "    <tr>\n",
       "      <th>2</th>\n",
       "      <td>32cd2d41aef737b69089882754395925c96eaee1f4a859...</td>\n",
       "      <td>0</td>\n",
       "      <td>0.001724</td>\n",
       "    </tr>\n",
       "    <tr>\n",
       "      <th>3</th>\n",
       "      <td>8daa6d5dc2655a8a437531e6b8b96829113cdfe9bf6cae...</td>\n",
       "      <td>0</td>\n",
       "      <td>0.018459</td>\n",
       "    </tr>\n",
       "    <tr>\n",
       "      <th>4</th>\n",
       "      <td>0ceba351a3851202542feb49d7385bcef32f6037fc57c7...</td>\n",
       "      <td>1</td>\n",
       "      <td>0.887522</td>\n",
       "    </tr>\n",
       "  </tbody>\n",
       "</table>\n",
       "</div>"
      ],
      "text/plain": [
       "                                         customer_ID  target  oof_pred\n",
       "0  20eac26171c3d251c55fc78204e59fab1c15fc2bc96d0c...       1  0.648269\n",
       "1  aea50fdf9b974ccec95fa177c3225a0f913483b457de6e...       0  0.000187\n",
       "2  32cd2d41aef737b69089882754395925c96eaee1f4a859...       0  0.001724\n",
       "3  8daa6d5dc2655a8a437531e6b8b96829113cdfe9bf6cae...       0  0.018459\n",
       "4  0ceba351a3851202542feb49d7385bcef32f6037fc57c7...       1  0.887522"
      ]
     },
     "execution_count": 12,
     "metadata": {},
     "output_type": "execute_result"
    }
   ],
   "source": [
    "oof_xgb = pd.read_parquet(TRAIN_PATH, columns=['customer_ID']).drop_duplicates()\n",
    "oof_xgb['customer_ID_hash'] = oof_xgb['customer_ID'].apply(lambda x: int(x[-16:],16) ).astype('int64')\n",
    "oof_xgb = oof_xgb.set_index('customer_ID_hash')\n",
    "oof_xgb = oof_xgb.merge(oof, left_index=True, right_index=True)\n",
    "oof_xgb = oof_xgb.sort_index().reset_index(drop=True)\n",
    "oof_xgb.to_csv(f'oof_xgb_v{VER}.csv',index=False)\n",
    "oof_xgb.head()"
   ]
  },
  {
   "cell_type": "code",
   "execution_count": 13,
   "id": "1d75019c",
   "metadata": {
    "execution": {
     "iopub.execute_input": "2022-07-18T16:07:27.680027Z",
     "iopub.status.busy": "2022-07-18T16:07:27.679371Z",
     "iopub.status.idle": "2022-07-18T16:07:28.039556Z",
     "shell.execute_reply": "2022-07-18T16:07:28.038734Z"
    },
    "papermill": {
     "duration": 0.377105,
     "end_time": "2022-07-18T16:07:28.041349",
     "exception": false,
     "start_time": "2022-07-18T16:07:27.664244",
     "status": "completed"
    },
    "tags": []
   },
   "outputs": [
    {
     "data": {
      "image/png": "[encoded data removed]",
      "text/plain": [
       "<Figure size 432x288 with 1 Axes>"
      ]
     },
     "metadata": {
      "needs_background": "light"
     },
     "output_type": "display_data"
    }
   ],
   "source": [
    "# PLOT OOF PREDICTIONS\n",
    "plt.hist(oof_xgb.oof_pred.values, bins=100)\n",
    "plt.title('OOF Predictions')\n",
    "plt.show()"
   ]
  },
  {
   "cell_type": "code",
   "execution_count": 14,
   "id": "2d1abc1f",
   "metadata": {
    "execution": {
     "iopub.execute_input": "2022-07-18T16:07:28.071469Z",
     "iopub.status.busy": "2022-07-18T16:07:28.071174Z",
     "iopub.status.idle": "2022-07-18T16:07:28.206897Z",
     "shell.execute_reply": "2022-07-18T16:07:28.205956Z"
    },
    "papermill": {
     "duration": 0.153012,
     "end_time": "2022-07-18T16:07:28.209041",
     "exception": false,
     "start_time": "2022-07-18T16:07:28.056029",
     "status": "completed"
    },
    "tags": []
   },
   "outputs": [],
   "source": [
    "# CLEAR VRAM, RAM FOR INFERENCE BELOW\n",
    "del oof_xgb, oof\n",
    "_ = gc.collect()"
   ]
  },
  {
   "cell_type": "markdown",
   "id": "43a60114",
   "metadata": {
    "papermill": {
     "duration": 0.014326,
     "end_time": "2022-07-18T16:07:28.238416",
     "exception": false,
     "start_time": "2022-07-18T16:07:28.224090",
     "status": "completed"
    },
    "tags": []
   },
   "source": [
    "# Feature Importance"
   ]
  },
  {
   "cell_type": "code",
   "execution_count": 15,
   "id": "f3ddafeb",
   "metadata": {
    "execution": {
     "iopub.execute_input": "2022-07-18T16:07:28.268223Z",
     "iopub.status.busy": "2022-07-18T16:07:28.267907Z",
     "iopub.status.idle": "2022-07-18T16:07:28.295533Z",
     "shell.execute_reply": "2022-07-18T16:07:28.294682Z"
    },
    "papermill": {
     "duration": 0.045158,
     "end_time": "2022-07-18T16:07:28.297705",
     "exception": false,
     "start_time": "2022-07-18T16:07:28.252547",
     "status": "completed"
    },
    "tags": []
   },
   "outputs": [],
   "source": [
    "import matplotlib.pyplot as plt\n",
    "\n",
    "df = importances[0].copy()\n",
    "for k in range(1,FOLDS): df = df.merge(importances[k], on='feature', how='left')\n",
    "df['importance'] = df.iloc[:,1:].mean(axis=1)\n",
    "df = df.sort_values('importance',ascending=False)\n",
    "df.to_csv(f'xgb_feature_importance_v{VER}.csv',index=False)"
   ]
  },
  {
   "cell_type": "code",
   "execution_count": 16,
   "id": "4de46661",
   "metadata": {
    "execution": {
     "iopub.execute_input": "2022-07-18T16:07:28.327204Z",
     "iopub.status.busy": "2022-07-18T16:07:28.326907Z",
     "iopub.status.idle": "2022-07-18T16:07:28.590697Z",
     "shell.execute_reply": "2022-07-18T16:07:28.589950Z"
    },
    "papermill": {
     "duration": 0.280344,
     "end_time": "2022-07-18T16:07:28.592590",
     "exception": false,
     "start_time": "2022-07-18T16:07:28.312246",
     "status": "completed"
    },
    "tags": []
   },
   "outputs": [
    {
     "data": {
      "image/png": "[encoded data removed]",
      "text/plain": [
       "<Figure size 720x720 with 1 Axes>"
      ]
     },
     "metadata": {
      "needs_background": "light"
     },
     "output_type": "display_data"
    }
   ],
   "source": [
    "NUM_FEATURES = 20\n",
    "plt.figure(figsize=(10,5*NUM_FEATURES//10))\n",
    "plt.barh(np.arange(NUM_FEATURES,0,-1), df.importance.values[:NUM_FEATURES])\n",
    "plt.yticks(np.arange(NUM_FEATURES,0,-1), df.feature.values[:NUM_FEATURES])\n",
    "plt.title(f'XGB Feature Importance - Top {NUM_FEATURES}')\n",
    "plt.show()"
   ]
  },
  {
   "cell_type": "markdown",
   "id": "457a575d",
   "metadata": {
    "papermill": {
     "duration": 0.01493,
     "end_time": "2022-07-18T16:07:28.622492",
     "exception": false,
     "start_time": "2022-07-18T16:07:28.607562",
     "status": "completed"
    },
    "tags": []
   },
   "source": [
    "# Process and Feature Engineer Test Data\n",
    "We will load @raddar Kaggle dataset from [here][1] with discussion [here][2]. Then we will engineer features suggested by @huseyincot in his notebooks [here][1] and [here][4]. We will use [RAPIDS][5] and the GPU to create new features quickly.\n",
    "\n",
    "[1]: https://www.kaggle.com/datasets/raddar/amex-data-integer-dtypes-parquet-format\n",
    "[2]: https://www.kaggle.com/competitions/amex-default-prediction/discussion/328514\n",
    "[3]: https://www.kaggle.com/code/huseyincot/amex-catboost-0-793\n",
    "[4]: https://www.kaggle.com/code/huseyincot/amex-agg-data-how-it-created\n",
    "[5]: https://rapids.ai/"
   ]
  },
  {
   "cell_type": "code",
   "execution_count": 17,
   "id": "19cd6556",
   "metadata": {
    "execution": {
     "iopub.execute_input": "2022-07-18T16:07:28.653046Z",
     "iopub.status.busy": "2022-07-18T16:07:28.652722Z",
     "iopub.status.idle": "2022-07-18T16:07:31.135536Z",
     "shell.execute_reply": "2022-07-18T16:07:31.134592Z"
    },
    "papermill": {
     "duration": 2.500848,
     "end_time": "2022-07-18T16:07:31.137775",
     "exception": false,
     "start_time": "2022-07-18T16:07:28.636927",
     "status": "completed"
    },
    "tags": []
   },
   "outputs": [
    {
     "name": "stdout",
     "output_type": "stream",
     "text": [
      "Reading test data...\n",
      "shape of data: (11363762, 2)\n",
      "We will process test data as 4 separate parts.\n",
      "There will be 231155 customers in each part (except the last part).\n",
      "Below are number of rows in each part:\n",
      "[2841209, 2839857, 2842105, 2840591]\n"
     ]
    }
   ],
   "source": [
    "# CALCULATE SIZE OF EACH SEPARATE TEST PART\n",
    "def get_rows(customers, test, NUM_PARTS = 4, verbose = ''):\n",
    "    chunk = len(customers)//NUM_PARTS\n",
    "    if verbose != '':\n",
    "        print(f'We will process {verbose} data as {NUM_PARTS} separate parts.')\n",
    "        print(f'There will be {chunk} customers in each part (except the last part).')\n",
    "        print('Below are number of rows in each part:')\n",
    "    rows = []\n",
    "\n",
    "    for k in range(NUM_PARTS):\n",
    "        if k==NUM_PARTS-1: cc = customers[k*chunk:]\n",
    "        else: cc = customers[k*chunk:(k+1)*chunk]\n",
    "        s = test.loc[test.customer_ID.isin(cc)].shape[0]\n",
    "        rows.append(s)\n",
    "    if verbose != '': print( rows )\n",
    "    return rows,chunk\n",
    "\n",
    "# COMPUTE SIZE OF 4 PARTS FOR TEST DATA\n",
    "NUM_PARTS = 4\n",
    "TEST_PATH = '../input/amex-data-integer-dtypes-parquet-format/test.parquet'\n",
    "\n",
    "print(f'Reading test data...')\n",
    "test = read_file(path = TEST_PATH, usecols = ['customer_ID','S_2'])\n",
    "customers = test[['customer_ID']].drop_duplicates().sort_index().values.flatten()\n",
    "rows,num_cust = get_rows(customers, test[['customer_ID']], NUM_PARTS = NUM_PARTS, verbose = 'test')"
   ]
  },
  {
   "cell_type": "markdown",
   "id": "9394527f",
   "metadata": {
    "papermill": {
     "duration": 0.015082,
     "end_time": "2022-07-18T16:07:31.168809",
     "exception": false,
     "start_time": "2022-07-18T16:07:31.153727",
     "status": "completed"
    },
    "tags": []
   },
   "source": [
    "# Infer Test"
   ]
  },
  {
   "cell_type": "code",
   "execution_count": 18,
   "id": "e07abd1e",
   "metadata": {
    "execution": {
     "iopub.execute_input": "2022-07-18T16:07:31.199710Z",
     "iopub.status.busy": "2022-07-18T16:07:31.199437Z",
     "iopub.status.idle": "2022-07-18T16:10:12.964486Z",
     "shell.execute_reply": "2022-07-18T16:10:12.963680Z"
    },
    "papermill": {
     "duration": 161.782832,
     "end_time": "2022-07-18T16:10:12.966974",
     "exception": false,
     "start_time": "2022-07-18T16:07:31.184142",
     "status": "completed"
    },
    "tags": []
   },
   "outputs": [
    {
     "name": "stdout",
     "output_type": "stream",
     "text": [
      "\n",
      "Reading test data...\n",
      "shape of data: (11363762, 190)\n",
      "=> Test part 1 has shape (2841209, 190)\n",
      "shape after engineering (231155, 544)\n",
      "\n",
      "Reading test data...\n",
      "shape of data: (11363762, 190)\n",
      "=> Test part 2 has shape (2839857, 190)\n",
      "shape after engineering (231155, 544)\n",
      "\n",
      "Reading test data...\n",
      "shape of data: (11363762, 190)\n",
      "=> Test part 3 has shape (2842105, 190)\n",
      "shape after engineering (231155, 544)\n",
      "\n",
      "Reading test data...\n",
      "shape of data: (11363762, 190)\n",
      "=> Test part 4 has shape (2840591, 190)\n",
      "shape after engineering (231156, 544)\n"
     ]
    }
   ],
   "source": [
    "# INFER TEST DATA IN PARTS\n",
    "skip_rows = 0\n",
    "skip_cust = 0\n",
    "test_preds = []\n",
    "\n",
    "for k in range(NUM_PARTS):\n",
    "    \n",
    "    # READ PART OF TEST DATA\n",
    "    print(f'\\nReading test data...')\n",
    "    test = read_file(path = TEST_PATH)\n",
    "    test = test.iloc[skip_rows:skip_rows+rows[k]]\n",
    "    skip_rows += rows[k]\n",
    "    print(f'=> Test part {k+1} has shape', test.shape )\n",
    "    \n",
    "    # PROCESS AND FEATURE ENGINEER PART OF TEST DATA\n",
    "    test = process_and_feature_engineer(test)\n",
    "    if k==NUM_PARTS-1: test = test.loc[customers[skip_cust:]]\n",
    "    else: test = test.loc[customers[skip_cust:skip_cust+num_cust]]\n",
    "    skip_cust += num_cust\n",
    "    \n",
    "    # TEST DATA FOR XGB\n",
    "    X_test = test[FEATURES]\n",
    "    dtest = xgb.DMatrix(data=X_test)\n",
    "    test = test[['P_2_mean']] # reduce memory\n",
    "    del X_test\n",
    "    gc.collect()\n",
    "\n",
    "    # INFER XGB MODELS ON TEST DATA\n",
    "    model = xgb.Booster()\n",
    "    model.load_model(f'XGB_v{VER}_fold0.xgb')\n",
    "    preds = model.predict(dtest)\n",
    "    for f in range(1,FOLDS):\n",
    "        model.load_model(f'XGB_v{VER}_fold{f}.xgb')\n",
    "        preds += model.predict(dtest)\n",
    "    preds /= FOLDS\n",
    "    test_preds.append(preds)\n",
    "\n",
    "    # CLEAN MEMORY\n",
    "    del dtest, model\n",
    "    _ = gc.collect()"
   ]
  },
  {
   "cell_type": "markdown",
   "id": "fc278d97",
   "metadata": {
    "papermill": {
     "duration": 0.015413,
     "end_time": "2022-07-18T16:10:12.998558",
     "exception": false,
     "start_time": "2022-07-18T16:10:12.983145",
     "status": "completed"
    },
    "tags": []
   },
   "source": [
    "# Create Submission CSV"
   ]
  },
  {
   "cell_type": "code",
   "execution_count": 19,
   "id": "b80ece0f",
   "metadata": {
    "execution": {
     "iopub.execute_input": "2022-07-18T16:10:13.031942Z",
     "iopub.status.busy": "2022-07-18T16:10:13.031601Z",
     "iopub.status.idle": "2022-07-18T16:10:14.165479Z",
     "shell.execute_reply": "2022-07-18T16:10:14.164722Z"
    },
    "papermill": {
     "duration": 1.152286,
     "end_time": "2022-07-18T16:10:14.167208",
     "exception": false,
     "start_time": "2022-07-18T16:10:13.014922",
     "status": "completed"
    },
    "tags": []
   },
   "outputs": [
    {
     "name": "stdout",
     "output_type": "stream",
     "text": [
      "Submission file shape is (924621, 2)\n"
     ]
    },
    {
     "data": {
      "text/html": [
       "<div>\n",
       "<style scoped>\n",
       "    .dataframe tbody tr th:only-of-type {\n",
       "        vertical-align: middle;\n",
       "    }\n",
       "\n",
       "    .dataframe tbody tr th {\n",
       "        vertical-align: top;\n",
       "    }\n",
       "\n",
       "    .dataframe thead th {\n",
       "        text-align: right;\n",
       "    }\n",
       "</style>\n",
       "<table border=\"1\" class=\"dataframe\">\n",
       "  <thead>\n",
       "    <tr style=\"text-align: right;\">\n",
       "      <th></th>\n",
       "      <th>customer_ID</th>\n",
       "      <th>prediction</th>\n",
       "    </tr>\n",
       "  </thead>\n",
       "  <tbody>\n",
       "    <tr>\n",
       "      <th>0</th>\n",
       "      <td>0359e97c244bbbbe2db7c21e891debe80e82291f2e470e...</td>\n",
       "      <td>0.002952</td>\n",
       "    </tr>\n",
       "    <tr>\n",
       "      <th>1</th>\n",
       "      <td>035b3479c9020483c00b7dac8f816759bb3aa6fdd8dfab...</td>\n",
       "      <td>0.000534</td>\n",
       "    </tr>\n",
       "    <tr>\n",
       "      <th>2</th>\n",
       "      <td>035a556cc13aae13de7bdcc71c81a1ab27f586f2ddf50e...</td>\n",
       "      <td>0.001387</td>\n",
       "    </tr>\n",
       "    <tr>\n",
       "      <th>3</th>\n",
       "      <td>035bca6744c2fe912b15a0bc6011f3ec679cbc7c60e049...</td>\n",
       "      <td>0.027794</td>\n",
       "    </tr>\n",
       "    <tr>\n",
       "      <th>4</th>\n",
       "      <td>0359f31145b54da7258ed5ff894cbe50dd4302d3d4a1e9...</td>\n",
       "      <td>0.047105</td>\n",
       "    </tr>\n",
       "  </tbody>\n",
       "</table>\n",
       "</div>"
      ],
      "text/plain": [
       "                                         customer_ID  prediction\n",
       "0  0359e97c244bbbbe2db7c21e891debe80e82291f2e470e...    0.002952\n",
       "1  035b3479c9020483c00b7dac8f816759bb3aa6fdd8dfab...    0.000534\n",
       "2  035a556cc13aae13de7bdcc71c81a1ab27f586f2ddf50e...    0.001387\n",
       "3  035bca6744c2fe912b15a0bc6011f3ec679cbc7c60e049...    0.027794\n",
       "4  0359f31145b54da7258ed5ff894cbe50dd4302d3d4a1e9...    0.047105"
      ]
     },
     "execution_count": 19,
     "metadata": {},
     "output_type": "execute_result"
    }
   ],
   "source": [
    "# WRITE SUBMISSION FILE\n",
    "test_preds = np.concatenate(test_preds)\n",
    "test = cudf.DataFrame(index=customers,data={'prediction':test_preds})\n",
    "sub = cudf.read_csv('../input/amex-default-prediction/sample_submission.csv')[['customer_ID']]\n",
    "sub['customer_ID_hash'] = sub['customer_ID'].str[-16:].str.hex_to_int().astype('int64')\n",
    "sub = sub.set_index('customer_ID_hash')\n",
    "sub = sub.merge(test[['prediction']], left_index=True, right_index=True, how='left')\n",
    "sub = sub.reset_index(drop=True)\n",
    "\n",
    "# DISPLAY PREDICTIONS\n",
    "sub.to_csv(f'submission_xgb_v{VER}.csv',index=False)\n",
    "print('Submission file shape is', sub.shape )\n",
    "sub.head()"
   ]
  },
  {
   "cell_type": "code",
   "execution_count": 20,
   "id": "e9f3b28f",
   "metadata": {
    "execution": {
     "iopub.execute_input": "2022-07-18T16:10:14.200775Z",
     "iopub.status.busy": "2022-07-18T16:10:14.200268Z",
     "iopub.status.idle": "2022-07-18T16:10:14.926912Z",
     "shell.execute_reply": "2022-07-18T16:10:14.926121Z"
    },
    "papermill": {
     "duration": 0.74553,
     "end_time": "2022-07-18T16:10:14.928800",
     "exception": false,
     "start_time": "2022-07-18T16:10:14.183270",
     "status": "completed"
    },
    "tags": []
   },
   "outputs": [
    {
     "data": {
      "image/png": "[encoded data removed]",
      "text/plain": [
       "<Figure size 432x288 with 1 Axes>"
      ]
     },
     "metadata": {
      "needs_background": "light"
     },
     "output_type": "display_data"
    }
   ],
   "source": [
    "# PLOT PREDICTIONS\n",
    "plt.hist(sub.to_pandas().prediction, bins=100)\n",
    "plt.title('Test Predictions')\n",
    "plt.show()"
   ]
  }
 ],
 "metadata": {
  "kernelspec": {
   "display_name": "Python 3",
   "language": "python",
   "name": "python3"
  },
  "language_info": {
   "codemirror_mode": {
    "name": "ipython",
    "version": 3
   },
   "file_extension": ".py",
   "mimetype": "text/x-python",
   "name": "python",
   "nbconvert_exporter": "python",
   "pygments_lexer": "ipython3",
   "version": "3.7.12"
  },
  "papermill": {
   "default_parameters": {},
   "duration": 609.646522,
   "end_time": "2022-07-18T16:10:17.248537",
   "environment_variables": {},
   "exception": null,
   "input_path": "__notebook__.ipynb",
   "output_path": "__notebook__.ipynb",
   "parameters": {},
   "start_time": "2022-07-18T16:00:07.602015",
   "version": "2.3.4"
  }
 },
 "nbformat": 4,
 "nbformat_minor": 5
}
