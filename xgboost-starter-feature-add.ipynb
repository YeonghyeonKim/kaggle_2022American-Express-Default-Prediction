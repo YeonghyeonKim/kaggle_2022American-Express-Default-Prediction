{
 "cells": [
  {
   "cell_type": "markdown",
   "id": "571fc198",
   "metadata": {
    "papermill": {
     "duration": 0.009408,
     "end_time": "2022-07-16T17:19:13.985239",
     "exception": false,
     "start_time": "2022-07-16T17:19:13.975831",
     "status": "completed"
    },
    "tags": []
   },
   "source": [
    "# XGBoost Starter - LB 0.793\n",
    "In this notebook we build and train an XGBoost model using @raddar Kaggle dataset from [here][1] with discussion [here][2]. Then we engineer features suggested by @huseyincot in his notebooks [here][3] and [here][4]. This XGB model achieves CV 0.792 LB 0.793! When training with XGB, we use a special XGB dataloader called `DeviceQuantileDMatrix` which uses a small GPU memory footprint. This allows us to engineer more additional columns and train with more rows of data. Our feature engineering is performed using [RAPIDS][5] on the GPU to create new features quickly.\n",
    "\n",
    "[1]: https://www.kaggle.com/datasets/raddar/amex-data-integer-dtypes-parquet-format\n",
    "[2]: https://www.kaggle.com/competitions/amex-default-prediction/discussion/328514\n",
    "[3]: https://www.kaggle.com/code/huseyincot/amex-catboost-0-793\n",
    "[4]: https://www.kaggle.com/code/huseyincot/amex-agg-data-how-it-created\n",
    "[5]: https://rapids.ai/"
   ]
  },
  {
   "cell_type": "markdown",
   "id": "5dc88dae",
   "metadata": {
    "papermill": {
     "duration": 0.007695,
     "end_time": "2022-07-16T17:19:14.001165",
     "exception": false,
     "start_time": "2022-07-16T17:19:13.993470",
     "status": "completed"
    },
    "tags": []
   },
   "source": [
    "Feature Engineering I done\n",
    "1. Drop B_29, https://www.kaggle.com/code/roberthatch/amex-feature-engg-gpu-or-cpu-process-in-chunks/notebook\n",
    "2. Add each customer count (how long they used) (not normalize)\n",
    "3. Don't fill NaN (with -127)\n",
    "4. remove num_features's min, std\n",
    "5. D_39에 대한 feature 추가 -> CV하락\n",
    "6. B_1과 B_2간의 연관 feature 추가\n",
    "7. B_8과 B_9간의 연관 feature 추가\n",
    "\n",
    "2번을 빼니 0.792에서 0.7917 로 줄어듦.\n"
   ]
  },
  {
   "cell_type": "markdown",
   "id": "1e17d4b1",
   "metadata": {
    "papermill": {
     "duration": 0.007472,
     "end_time": "2022-07-16T17:19:14.016818",
     "exception": false,
     "start_time": "2022-07-16T17:19:14.009346",
     "status": "completed"
    },
    "tags": []
   },
   "source": [
    "# Load Libraries"
   ]
  },
  {
   "cell_type": "code",
   "execution_count": 1,
   "id": "32a513ac",
   "metadata": {
    "execution": {
     "iopub.execute_input": "2022-07-16T17:19:14.034536Z",
     "iopub.status.busy": "2022-07-16T17:19:14.033908Z",
     "iopub.status.idle": "2022-07-16T17:19:18.553697Z",
     "shell.execute_reply": "2022-07-16T17:19:18.551066Z"
    },
    "papermill": {
     "duration": 4.531328,
     "end_time": "2022-07-16T17:19:18.556104",
     "exception": false,
     "start_time": "2022-07-16T17:19:14.024776",
     "status": "completed"
    },
    "tags": []
   },
   "outputs": [
    {
     "name": "stdout",
     "output_type": "stream",
     "text": [
      "RAPIDS version 21.10.01\n"
     ]
    }
   ],
   "source": [
    "# LOAD LIBRARIES\n",
    "import pandas as pd, numpy as np # CPU libraries\n",
    "import cupy, cudf # GPU libraries\n",
    "import matplotlib.pyplot as plt, gc, os\n",
    "\n",
    "print('RAPIDS version',cudf.__version__)"
   ]
  },
  {
   "cell_type": "code",
   "execution_count": 2,
   "id": "447f2561",
   "metadata": {
    "execution": {
     "iopub.execute_input": "2022-07-16T17:19:18.574496Z",
     "iopub.status.busy": "2022-07-16T17:19:18.573743Z",
     "iopub.status.idle": "2022-07-16T17:19:18.578950Z",
     "shell.execute_reply": "2022-07-16T17:19:18.577908Z"
    },
    "papermill": {
     "duration": 0.016406,
     "end_time": "2022-07-16T17:19:18.581025",
     "exception": false,
     "start_time": "2022-07-16T17:19:18.564619",
     "status": "completed"
    },
    "tags": []
   },
   "outputs": [],
   "source": [
    "# VERSION NAME FOR SAVED MODEL FILES\n",
    "VER = 1\n",
    "\n",
    "# TRAIN RANDOM SEED\n",
    "SEED = 42\n",
    "\n",
    "# FILL NAN VALUE\n",
    "NAN_VALUE = -127 # will fit in int8\n",
    "\n",
    "# FOLDS PER MODEL\n",
    "FOLDS = 5"
   ]
  },
  {
   "cell_type": "markdown",
   "id": "bcfdb1a2",
   "metadata": {
    "papermill": {
     "duration": 0.007226,
     "end_time": "2022-07-16T17:19:18.595655",
     "exception": false,
     "start_time": "2022-07-16T17:19:18.588429",
     "status": "completed"
    },
    "tags": []
   },
   "source": [
    "# Process and Feature Engineer Train Data\n",
    "We will load @raddar Kaggle dataset from [here][1] with discussion [here][2]. Then we will engineer features suggested by @huseyincot in his notebooks [here][3] and [here][4]. We will use [RAPIDS][5] and the GPU to create new features quickly.\n",
    "\n",
    "[1]: https://www.kaggle.com/datasets/raddar/amex-data-integer-dtypes-parquet-format\n",
    "[2]: https://www.kaggle.com/competitions/amex-default-prediction/discussion/328514\n",
    "[3]: https://www.kaggle.com/code/huseyincot/amex-catboost-0-793\n",
    "[4]: https://www.kaggle.com/code/huseyincot/amex-agg-data-how-it-created\n",
    "[5]: https://rapids.ai/"
   ]
  },
  {
   "cell_type": "code",
   "execution_count": 3,
   "id": "5e8771f8",
   "metadata": {
    "execution": {
     "iopub.execute_input": "2022-07-16T17:19:18.612275Z",
     "iopub.status.busy": "2022-07-16T17:19:18.611932Z",
     "iopub.status.idle": "2022-07-16T17:19:40.966517Z",
     "shell.execute_reply": "2022-07-16T17:19:40.964919Z"
    },
    "papermill": {
     "duration": 22.365319,
     "end_time": "2022-07-16T17:19:40.968856",
     "exception": false,
     "start_time": "2022-07-16T17:19:18.603537",
     "status": "completed"
    },
    "tags": []
   },
   "outputs": [
    {
     "name": "stdout",
     "output_type": "stream",
     "text": [
      "Reading train data...\n",
      "shape of data: (5531451, 190)\n"
     ]
    }
   ],
   "source": [
    "def read_file(path = '', usecols = None):\n",
    "    # LOAD DATAFRAME\n",
    "    if usecols is not None: df = cudf.read_parquet(path, columns=usecols)\n",
    "    else: df = cudf.read_parquet(path)\n",
    "    # REDUCE DTYPE FOR CUSTOMER AND DATE\n",
    "    df['customer_ID'] = df['customer_ID'].str[-16:].str.hex_to_int().astype('int64')\n",
    "    df.S_2 = cudf.to_datetime( df.S_2 )\n",
    "    # SORT BY CUSTOMER AND DATE (so agg('last') works correctly)\n",
    "    #df = df.sort_values(['customer_ID','S_2'])\n",
    "    #df = df.reset_index(drop=True)\n",
    "    # FILL NAN\n",
    "#     df = df.fillna(NAN_VALUE) \n",
    "    print('shape of data:', df.shape)\n",
    "    \n",
    "    return df\n",
    "\n",
    "print('Reading train data...')\n",
    "TRAIN_PATH = '../input/amex-data-integer-dtypes-parquet-format/train.parquet'\n",
    "train = read_file(path = TRAIN_PATH)"
   ]
  },
  {
   "cell_type": "code",
   "execution_count": 4,
   "id": "450063f2",
   "metadata": {
    "execution": {
     "iopub.execute_input": "2022-07-16T17:19:40.986173Z",
     "iopub.status.busy": "2022-07-16T17:19:40.985858Z",
     "iopub.status.idle": "2022-07-16T17:19:41.353493Z",
     "shell.execute_reply": "2022-07-16T17:19:41.352229Z"
    },
    "papermill": {
     "duration": 0.379272,
     "end_time": "2022-07-16T17:19:41.356316",
     "exception": false,
     "start_time": "2022-07-16T17:19:40.977044",
     "status": "completed"
    },
    "tags": []
   },
   "outputs": [
    {
     "data": {
      "text/html": [
       "<div>\n",
       "<style scoped>\n",
       "    .dataframe tbody tr th:only-of-type {\n",
       "        vertical-align: middle;\n",
       "    }\n",
       "\n",
       "    .dataframe tbody tr th {\n",
       "        vertical-align: top;\n",
       "    }\n",
       "\n",
       "    .dataframe thead th {\n",
       "        text-align: right;\n",
       "    }\n",
       "</style>\n",
       "<table border=\"1\" class=\"dataframe\">\n",
       "  <thead>\n",
       "    <tr style=\"text-align: right;\">\n",
       "      <th></th>\n",
       "      <th>customer_ID</th>\n",
       "      <th>S_2</th>\n",
       "      <th>P_2</th>\n",
       "      <th>D_39</th>\n",
       "      <th>B_1</th>\n",
       "      <th>B_2</th>\n",
       "      <th>R_1</th>\n",
       "      <th>S_3</th>\n",
       "      <th>D_41</th>\n",
       "      <th>B_3</th>\n",
       "      <th>...</th>\n",
       "      <th>D_136</th>\n",
       "      <th>D_137</th>\n",
       "      <th>D_138</th>\n",
       "      <th>D_139</th>\n",
       "      <th>D_140</th>\n",
       "      <th>D_141</th>\n",
       "      <th>D_142</th>\n",
       "      <th>D_143</th>\n",
       "      <th>D_144</th>\n",
       "      <th>D_145</th>\n",
       "    </tr>\n",
       "  </thead>\n",
       "  <tbody>\n",
       "    <tr>\n",
       "      <th>0</th>\n",
       "      <td>-4532153018459703766</td>\n",
       "      <td>2017-03-09</td>\n",
       "      <td>0.938469</td>\n",
       "      <td>0</td>\n",
       "      <td>0.008724</td>\n",
       "      <td>1.006838</td>\n",
       "      <td>0.009228</td>\n",
       "      <td>0.124035</td>\n",
       "      <td>0.0</td>\n",
       "      <td>0.004709</td>\n",
       "      <td>...</td>\n",
       "      <td>-1</td>\n",
       "      <td>-1</td>\n",
       "      <td>-1</td>\n",
       "      <td>0</td>\n",
       "      <td>0</td>\n",
       "      <td>0.0</td>\n",
       "      <td>&lt;NA&gt;</td>\n",
       "      <td>0</td>\n",
       "      <td>0.000610</td>\n",
       "      <td>0</td>\n",
       "    </tr>\n",
       "    <tr>\n",
       "      <th>1</th>\n",
       "      <td>-4532153018459703766</td>\n",
       "      <td>2017-04-07</td>\n",
       "      <td>0.936665</td>\n",
       "      <td>0</td>\n",
       "      <td>0.004923</td>\n",
       "      <td>1.000653</td>\n",
       "      <td>0.006151</td>\n",
       "      <td>0.126750</td>\n",
       "      <td>0.0</td>\n",
       "      <td>0.002714</td>\n",
       "      <td>...</td>\n",
       "      <td>-1</td>\n",
       "      <td>-1</td>\n",
       "      <td>-1</td>\n",
       "      <td>0</td>\n",
       "      <td>0</td>\n",
       "      <td>0.0</td>\n",
       "      <td>&lt;NA&gt;</td>\n",
       "      <td>0</td>\n",
       "      <td>0.005492</td>\n",
       "      <td>0</td>\n",
       "    </tr>\n",
       "    <tr>\n",
       "      <th>2</th>\n",
       "      <td>-4532153018459703766</td>\n",
       "      <td>2017-05-28</td>\n",
       "      <td>0.954180</td>\n",
       "      <td>3</td>\n",
       "      <td>0.021655</td>\n",
       "      <td>1.009672</td>\n",
       "      <td>0.006815</td>\n",
       "      <td>0.123977</td>\n",
       "      <td>0.0</td>\n",
       "      <td>0.009423</td>\n",
       "      <td>...</td>\n",
       "      <td>-1</td>\n",
       "      <td>-1</td>\n",
       "      <td>-1</td>\n",
       "      <td>0</td>\n",
       "      <td>0</td>\n",
       "      <td>0.0</td>\n",
       "      <td>&lt;NA&gt;</td>\n",
       "      <td>0</td>\n",
       "      <td>0.006986</td>\n",
       "      <td>0</td>\n",
       "    </tr>\n",
       "    <tr>\n",
       "      <th>3</th>\n",
       "      <td>-4532153018459703766</td>\n",
       "      <td>2017-06-13</td>\n",
       "      <td>0.960384</td>\n",
       "      <td>0</td>\n",
       "      <td>0.013683</td>\n",
       "      <td>1.002700</td>\n",
       "      <td>0.001373</td>\n",
       "      <td>0.117169</td>\n",
       "      <td>0.0</td>\n",
       "      <td>0.005531</td>\n",
       "      <td>...</td>\n",
       "      <td>-1</td>\n",
       "      <td>-1</td>\n",
       "      <td>-1</td>\n",
       "      <td>0</td>\n",
       "      <td>0</td>\n",
       "      <td>0.0</td>\n",
       "      <td>&lt;NA&gt;</td>\n",
       "      <td>0</td>\n",
       "      <td>0.006527</td>\n",
       "      <td>0</td>\n",
       "    </tr>\n",
       "    <tr>\n",
       "      <th>4</th>\n",
       "      <td>-4532153018459703766</td>\n",
       "      <td>2017-07-16</td>\n",
       "      <td>0.947248</td>\n",
       "      <td>0</td>\n",
       "      <td>0.015193</td>\n",
       "      <td>1.000727</td>\n",
       "      <td>0.007605</td>\n",
       "      <td>0.117325</td>\n",
       "      <td>0.0</td>\n",
       "      <td>0.009312</td>\n",
       "      <td>...</td>\n",
       "      <td>-1</td>\n",
       "      <td>-1</td>\n",
       "      <td>-1</td>\n",
       "      <td>0</td>\n",
       "      <td>0</td>\n",
       "      <td>0.0</td>\n",
       "      <td>&lt;NA&gt;</td>\n",
       "      <td>0</td>\n",
       "      <td>0.008126</td>\n",
       "      <td>0</td>\n",
       "    </tr>\n",
       "  </tbody>\n",
       "</table>\n",
       "<p>5 rows × 190 columns</p>\n",
       "</div>"
      ],
      "text/plain": [
       "           customer_ID        S_2       P_2  D_39       B_1       B_2  \\\n",
       "0 -4532153018459703766 2017-03-09  0.938469     0  0.008724  1.006838   \n",
       "1 -4532153018459703766 2017-04-07  0.936665     0  0.004923  1.000653   \n",
       "2 -4532153018459703766 2017-05-28  0.954180     3  0.021655  1.009672   \n",
       "3 -4532153018459703766 2017-06-13  0.960384     0  0.013683  1.002700   \n",
       "4 -4532153018459703766 2017-07-16  0.947248     0  0.015193  1.000727   \n",
       "\n",
       "        R_1       S_3  D_41       B_3  ... D_136  D_137  D_138  D_139  D_140  \\\n",
       "0  0.009228  0.124035   0.0  0.004709  ...    -1     -1     -1      0      0   \n",
       "1  0.006151  0.126750   0.0  0.002714  ...    -1     -1     -1      0      0   \n",
       "2  0.006815  0.123977   0.0  0.009423  ...    -1     -1     -1      0      0   \n",
       "3  0.001373  0.117169   0.0  0.005531  ...    -1     -1     -1      0      0   \n",
       "4  0.007605  0.117325   0.0  0.009312  ...    -1     -1     -1      0      0   \n",
       "\n",
       "   D_141  D_142 D_143     D_144  D_145  \n",
       "0    0.0   <NA>     0  0.000610      0  \n",
       "1    0.0   <NA>     0  0.005492      0  \n",
       "2    0.0   <NA>     0  0.006986      0  \n",
       "3    0.0   <NA>     0  0.006527      0  \n",
       "4    0.0   <NA>     0  0.008126      0  \n",
       "\n",
       "[5 rows x 190 columns]"
      ]
     },
     "execution_count": 4,
     "metadata": {},
     "output_type": "execute_result"
    }
   ],
   "source": [
    "train.head()"
   ]
  },
  {
   "cell_type": "code",
   "execution_count": 5,
   "id": "54114a2e",
   "metadata": {
    "execution": {
     "iopub.execute_input": "2022-07-16T17:19:41.375872Z",
     "iopub.status.busy": "2022-07-16T17:19:41.375539Z",
     "iopub.status.idle": "2022-07-16T17:19:44.303025Z",
     "shell.execute_reply": "2022-07-16T17:19:44.301970Z"
    },
    "papermill": {
     "duration": 2.940287,
     "end_time": "2022-07-16T17:19:44.305929",
     "exception": false,
     "start_time": "2022-07-16T17:19:41.365642",
     "status": "completed"
    },
    "tags": []
   },
   "outputs": [
    {
     "name": "stdout",
     "output_type": "stream",
     "text": [
      "shape after engineering (458913, 568)\n"
     ]
    }
   ],
   "source": [
    "def process_and_feature_engineer(df):\n",
    "    # FEATURE ENGINEERING FROM \n",
    "    # https://www.kaggle.com/code/huseyincot/amex-agg-data-how-it-created\n",
    "    \n",
    "#     1) Drop 'B_29'\n",
    "    df.drop(['B_29'], inplace=True, axis=1)\n",
    "#     5) D_39에 대한 feature 추가\n",
    "#     df['D_39_div30'] = df['D_39']/30\n",
    "    \n",
    "#     6) B1, B2에 연관 feature추가\n",
    "    df['B_1_2'] = df['B_1']/(df['B_2']+0.0000001)\n",
    "#     df['B_1_3'] = (df['B_1']+0.0000001) * (df['B_2']+0.0000001) # 성능하락\n",
    "    \n",
    "#     7) B8, B9에 연관 feature추가\n",
    "    #df['B_8_9'] = (df['B_8']+0.0000001)*(df['B_9']+0.0000001) # 성능하락\n",
    "    df['B_8_9'] = (df['B_8']+0.0000001)/(df['B_9']+0.0000001)\n",
    "    \n",
    "    all_cols = [c for c in list(df.columns) if c not in ['customer_ID','S_2']]\n",
    "    cat_features = [\"B_30\",\"B_38\",\"D_114\",\"D_116\",\"D_117\",\"D_120\",\"D_126\",\"D_63\",\"D_64\",\"D_66\",\"D_68\"]\n",
    "    num_features = [col for col in all_cols if col not in cat_features]\n",
    "    \n",
    "#     2) Add customer count\n",
    "    test_count_agg = df.groupby(['customer_ID'])['S_2'].agg(['count'])\n",
    "\n",
    "\n",
    "    test_num_agg = df.groupby(\"customer_ID\")[num_features].agg(['mean', 'max', 'last'])\n",
    "    test_num_agg.columns = ['_'.join(x) for x in test_num_agg.columns]\n",
    "\n",
    "    test_cat_agg = df.groupby(\"customer_ID\")[cat_features].agg(['count', 'last', 'nunique'])\n",
    "    test_cat_agg.columns = ['_'.join(x) for x in test_cat_agg.columns]\n",
    "\n",
    "    df = cudf.concat([test_count_agg,test_num_agg, test_cat_agg], axis=1)\n",
    "    del test_num_agg, test_cat_agg\n",
    "    print('shape after engineering', df.shape )\n",
    "    \n",
    "    return df\n",
    "\n",
    "train = process_and_feature_engineer(train)"
   ]
  },
  {
   "cell_type": "code",
   "execution_count": 6,
   "id": "2bf3fee7",
   "metadata": {
    "execution": {
     "iopub.execute_input": "2022-07-16T17:19:44.324550Z",
     "iopub.status.busy": "2022-07-16T17:19:44.324228Z",
     "iopub.status.idle": "2022-07-16T17:19:45.423349Z",
     "shell.execute_reply": "2022-07-16T17:19:45.421960Z"
    },
    "papermill": {
     "duration": 1.110831,
     "end_time": "2022-07-16T17:19:45.425592",
     "exception": false,
     "start_time": "2022-07-16T17:19:44.314761",
     "status": "completed"
    },
    "tags": []
   },
   "outputs": [
    {
     "name": "stdout",
     "output_type": "stream",
     "text": [
      "There are 568 features!\n"
     ]
    }
   ],
   "source": [
    "# ADD TARGETS\n",
    "targets = cudf.read_csv('../input/amex-default-prediction/train_labels.csv')\n",
    "targets['customer_ID'] = targets['customer_ID'].str[-16:].str.hex_to_int().astype('int64')\n",
    "targets = targets.set_index('customer_ID')\n",
    "train = train.merge(targets, left_index=True, right_index=True, how='left')\n",
    "train.target = train.target.astype('int8')\n",
    "del targets\n",
    "\n",
    "# NEEDED TO MAKE CV DETERMINISTIC (cudf merge above randomly shuffles rows)\n",
    "train = train.sort_index().reset_index()\n",
    "\n",
    "# FEATURES\n",
    "FEATURES = train.columns[1:-1]\n",
    "print(f'There are {len(FEATURES)} features!')"
   ]
  },
  {
   "cell_type": "markdown",
   "id": "27b73767",
   "metadata": {
    "papermill": {
     "duration": 0.00861,
     "end_time": "2022-07-16T17:19:45.443167",
     "exception": false,
     "start_time": "2022-07-16T17:19:45.434557",
     "status": "completed"
    },
    "tags": []
   },
   "source": [
    "# Train XGB\n",
    "We will train using `DeviceQuantileDMatrix`. This has a very small GPU memory footprint."
   ]
  },
  {
   "cell_type": "code",
   "execution_count": 7,
   "id": "ccd500f9",
   "metadata": {
    "execution": {
     "iopub.execute_input": "2022-07-16T17:19:45.461396Z",
     "iopub.status.busy": "2022-07-16T17:19:45.460937Z",
     "iopub.status.idle": "2022-07-16T17:19:45.586815Z",
     "shell.execute_reply": "2022-07-16T17:19:45.585502Z"
    },
    "papermill": {
     "duration": 0.137635,
     "end_time": "2022-07-16T17:19:45.589032",
     "exception": false,
     "start_time": "2022-07-16T17:19:45.451397",
     "status": "completed"
    },
    "tags": []
   },
   "outputs": [
    {
     "name": "stdout",
     "output_type": "stream",
     "text": [
      "XGB Version 1.6.1\n"
     ]
    }
   ],
   "source": [
    "# LOAD XGB LIBRARY\n",
    "from sklearn.model_selection import KFold\n",
    "import xgboost as xgb\n",
    "print('XGB Version',xgb.__version__)\n",
    "\n",
    "# XGB MODEL PARAMETERS\n",
    "xgb_parms = { \n",
    "    'max_depth':4, \n",
    "    'learning_rate':0.05, \n",
    "    'subsample':0.8,\n",
    "    'colsample_bytree':0.6, \n",
    "    'eval_metric':'logloss',\n",
    "    'objective':'binary:logistic',\n",
    "    'tree_method':'gpu_hist',\n",
    "    'predictor':'gpu_predictor',\n",
    "    'random_state':SEED\n",
    "}"
   ]
  },
  {
   "cell_type": "code",
   "execution_count": 8,
   "id": "bf74997e",
   "metadata": {
    "execution": {
     "iopub.execute_input": "2022-07-16T17:19:45.607309Z",
     "iopub.status.busy": "2022-07-16T17:19:45.606967Z",
     "iopub.status.idle": "2022-07-16T17:19:45.617713Z",
     "shell.execute_reply": "2022-07-16T17:19:45.616539Z"
    },
    "papermill": {
     "duration": 0.022728,
     "end_time": "2022-07-16T17:19:45.620596",
     "exception": false,
     "start_time": "2022-07-16T17:19:45.597868",
     "status": "completed"
    },
    "tags": []
   },
   "outputs": [],
   "source": [
    "# NEEDED WITH DeviceQuantileDMatrix BELOW\n",
    "class IterLoadForDMatrix(xgb.core.DataIter):\n",
    "    def __init__(self, df=None, features=None, target=None, batch_size=256*1024):\n",
    "        self.features = features\n",
    "        self.target = target\n",
    "        self.df = df\n",
    "        self.it = 0 # set iterator to 0\n",
    "        self.batch_size = batch_size\n",
    "        self.batches = int( np.ceil( len(df) / self.batch_size ) )\n",
    "        super().__init__()\n",
    "\n",
    "    def reset(self):\n",
    "        '''Reset the iterator'''\n",
    "        self.it = 0\n",
    "\n",
    "    def next(self, input_data):\n",
    "        '''Yield next batch of data.'''\n",
    "        if self.it == self.batches:\n",
    "            return 0 # Return 0 when there's no more batch.\n",
    "        \n",
    "        a = self.it * self.batch_size\n",
    "        b = min( (self.it + 1) * self.batch_size, len(self.df) )\n",
    "        dt = cudf.DataFrame(self.df.iloc[a:b])\n",
    "        input_data(data=dt[self.features], label=dt[self.target]) #, weight=dt['weight'])\n",
    "        self.it += 1\n",
    "        return 1"
   ]
  },
  {
   "cell_type": "code",
   "execution_count": 9,
   "id": "36cc9f97",
   "metadata": {
    "execution": {
     "iopub.execute_input": "2022-07-16T17:19:45.640310Z",
     "iopub.status.busy": "2022-07-16T17:19:45.639501Z",
     "iopub.status.idle": "2022-07-16T17:19:45.651429Z",
     "shell.execute_reply": "2022-07-16T17:19:45.650346Z"
    },
    "papermill": {
     "duration": 0.024223,
     "end_time": "2022-07-16T17:19:45.653732",
     "exception": false,
     "start_time": "2022-07-16T17:19:45.629509",
     "status": "completed"
    },
    "tags": []
   },
   "outputs": [],
   "source": [
    "# https://www.kaggle.com/kyakovlev\n",
    "# https://www.kaggle.com/competitions/amex-default-prediction/discussion/327534\n",
    "def amex_metric_mod(y_true, y_pred):\n",
    "\n",
    "    labels     = np.transpose(np.array([y_true, y_pred]))\n",
    "    labels     = labels[labels[:, 1].argsort()[::-1]]\n",
    "    weights    = np.where(labels[:,0]==0, 20, 1)\n",
    "    cut_vals   = labels[np.cumsum(weights) <= int(0.04 * np.sum(weights))]\n",
    "    top_four   = np.sum(cut_vals[:,0]) / np.sum(labels[:,0])\n",
    "\n",
    "    gini = [0,0]\n",
    "    for i in [1,0]:\n",
    "        labels         = np.transpose(np.array([y_true, y_pred]))\n",
    "        labels         = labels[labels[:, i].argsort()[::-1]]\n",
    "        weight         = np.where(labels[:,0]==0, 20, 1)\n",
    "        weight_random  = np.cumsum(weight / np.sum(weight))\n",
    "        total_pos      = np.sum(labels[:, 0] *  weight)\n",
    "        cum_pos_found  = np.cumsum(labels[:, 0] * weight)\n",
    "        lorentz        = cum_pos_found / total_pos\n",
    "        gini[i]        = np.sum((lorentz - weight_random) * weight)\n",
    "\n",
    "    return 0.5 * (gini[1]/gini[0] + top_four)"
   ]
  },
  {
   "cell_type": "code",
   "execution_count": 10,
   "id": "31b5de34",
   "metadata": {
    "execution": {
     "iopub.execute_input": "2022-07-16T17:19:45.672189Z",
     "iopub.status.busy": "2022-07-16T17:19:45.671875Z",
     "iopub.status.idle": "2022-07-16T17:26:44.487975Z",
     "shell.execute_reply": "2022-07-16T17:26:44.486900Z"
    },
    "papermill": {
     "duration": 418.828289,
     "end_time": "2022-07-16T17:26:44.490618",
     "exception": false,
     "start_time": "2022-07-16T17:19:45.662329",
     "status": "completed"
    },
    "scrolled": true,
    "tags": []
   },
   "outputs": [
    {
     "name": "stdout",
     "output_type": "stream",
     "text": [
      "#########################\n",
      "### Fold 1\n",
      "### Train size 367130 Valid size 91783\n",
      "### Training with 100% fold data...\n",
      "#########################\n",
      "[0]\ttrain-logloss:0.66324\tvalid-logloss:0.66325\n",
      "[100]\ttrain-logloss:0.23702\tvalid-logloss:0.23964\n",
      "[200]\ttrain-logloss:0.22270\tvalid-logloss:0.22771\n",
      "[300]\ttrain-logloss:0.21662\tvalid-logloss:0.22359\n",
      "[400]\ttrain-logloss:0.21262\tvalid-logloss:0.22142\n",
      "[500]\ttrain-logloss:0.20953\tvalid-logloss:0.22010\n",
      "[600]\ttrain-logloss:0.20690\tvalid-logloss:0.21930\n",
      "[700]\ttrain-logloss:0.20447\tvalid-logloss:0.21867\n",
      "[800]\ttrain-logloss:0.20235\tvalid-logloss:0.21825\n",
      "[900]\ttrain-logloss:0.20026\tvalid-logloss:0.21797\n",
      "[1000]\ttrain-logloss:0.19828\tvalid-logloss:0.21783\n",
      "[1100]\ttrain-logloss:0.19637\tvalid-logloss:0.21769\n",
      "[1200]\ttrain-logloss:0.19453\tvalid-logloss:0.21753\n",
      "[1300]\ttrain-logloss:0.19277\tvalid-logloss:0.21739\n",
      "[1400]\ttrain-logloss:0.19105\tvalid-logloss:0.21723\n",
      "[1500]\ttrain-logloss:0.18935\tvalid-logloss:0.21711\n",
      "[1600]\ttrain-logloss:0.18766\tvalid-logloss:0.21696\n",
      "[1700]\ttrain-logloss:0.18602\tvalid-logloss:0.21683\n",
      "[1800]\ttrain-logloss:0.18444\tvalid-logloss:0.21680\n",
      "[1900]\ttrain-logloss:0.18284\tvalid-logloss:0.21679\n",
      "[1963]\ttrain-logloss:0.18187\tvalid-logloss:0.21677\n",
      "Kaggle Metric = 0.7934081761551243 \n",
      "\n",
      "#########################\n",
      "### Fold 2\n",
      "### Train size 367130 Valid size 91783\n",
      "### Training with 100% fold data...\n",
      "#########################\n",
      "[0]\ttrain-logloss:0.66330\tvalid-logloss:0.66317\n",
      "[100]\ttrain-logloss:0.23737\tvalid-logloss:0.23798\n",
      "[200]\ttrain-logloss:0.22323\tvalid-logloss:0.22577\n",
      "[300]\ttrain-logloss:0.21719\tvalid-logloss:0.22188\n",
      "[400]\ttrain-logloss:0.21318\tvalid-logloss:0.21992\n",
      "[500]\ttrain-logloss:0.21002\tvalid-logloss:0.21881\n",
      "[600]\ttrain-logloss:0.20726\tvalid-logloss:0.21798\n",
      "[700]\ttrain-logloss:0.20487\tvalid-logloss:0.21752\n",
      "[800]\ttrain-logloss:0.20260\tvalid-logloss:0.21708\n",
      "[900]\ttrain-logloss:0.20050\tvalid-logloss:0.21675\n",
      "[1000]\ttrain-logloss:0.19855\tvalid-logloss:0.21656\n",
      "[1100]\ttrain-logloss:0.19661\tvalid-logloss:0.21634\n",
      "[1200]\ttrain-logloss:0.19479\tvalid-logloss:0.21621\n",
      "[1300]\ttrain-logloss:0.19305\tvalid-logloss:0.21608\n",
      "[1400]\ttrain-logloss:0.19134\tvalid-logloss:0.21600\n",
      "[1500]\ttrain-logloss:0.18965\tvalid-logloss:0.21591\n",
      "[1600]\ttrain-logloss:0.18799\tvalid-logloss:0.21586\n",
      "[1700]\ttrain-logloss:0.18637\tvalid-logloss:0.21577\n",
      "[1800]\ttrain-logloss:0.18474\tvalid-logloss:0.21580\n",
      "[1835]\ttrain-logloss:0.18421\tvalid-logloss:0.21583\n",
      "Kaggle Metric = 0.7945760661575257 \n",
      "\n",
      "#########################\n",
      "### Fold 3\n",
      "### Train size 367130 Valid size 91783\n",
      "### Training with 100% fold data...\n",
      "#########################\n",
      "[0]\ttrain-logloss:0.66319\tvalid-logloss:0.66332\n",
      "[100]\ttrain-logloss:0.23665\tvalid-logloss:0.24072\n",
      "[200]\ttrain-logloss:0.22242\tvalid-logloss:0.22902\n",
      "[300]\ttrain-logloss:0.21643\tvalid-logloss:0.22505\n",
      "[400]\ttrain-logloss:0.21251\tvalid-logloss:0.22314\n",
      "[500]\ttrain-logloss:0.20930\tvalid-logloss:0.22194\n",
      "[600]\ttrain-logloss:0.20651\tvalid-logloss:0.22116\n",
      "[700]\ttrain-logloss:0.20409\tvalid-logloss:0.22057\n",
      "[800]\ttrain-logloss:0.20194\tvalid-logloss:0.22026\n",
      "[900]\ttrain-logloss:0.19983\tvalid-logloss:0.21989\n",
      "[1000]\ttrain-logloss:0.19785\tvalid-logloss:0.21967\n",
      "[1100]\ttrain-logloss:0.19594\tvalid-logloss:0.21951\n",
      "[1200]\ttrain-logloss:0.19406\tvalid-logloss:0.21937\n",
      "[1300]\ttrain-logloss:0.19230\tvalid-logloss:0.21932\n",
      "[1400]\ttrain-logloss:0.19058\tvalid-logloss:0.21922\n",
      "[1500]\ttrain-logloss:0.18892\tvalid-logloss:0.21912\n",
      "[1600]\ttrain-logloss:0.18724\tvalid-logloss:0.21910\n",
      "[1700]\ttrain-logloss:0.18564\tvalid-logloss:0.21909\n",
      "[1800]\ttrain-logloss:0.18401\tvalid-logloss:0.21906\n",
      "[1900]\ttrain-logloss:0.18243\tvalid-logloss:0.21898\n",
      "[2000]\ttrain-logloss:0.18085\tvalid-logloss:0.21900\n",
      "[2008]\ttrain-logloss:0.18073\tvalid-logloss:0.21901\n",
      "Kaggle Metric = 0.7894773672686032 \n",
      "\n",
      "#########################\n",
      "### Fold 4\n",
      "### Train size 367131 Valid size 91782\n",
      "### Training with 100% fold data...\n",
      "#########################\n",
      "[0]\ttrain-logloss:0.66315\tvalid-logloss:0.66334\n",
      "[100]\ttrain-logloss:0.23664\tvalid-logloss:0.24112\n",
      "[200]\ttrain-logloss:0.22229\tvalid-logloss:0.22915\n",
      "[300]\ttrain-logloss:0.21631\tvalid-logloss:0.22548\n",
      "[400]\ttrain-logloss:0.21231\tvalid-logloss:0.22360\n",
      "[500]\ttrain-logloss:0.20912\tvalid-logloss:0.22241\n",
      "[600]\ttrain-logloss:0.20638\tvalid-logloss:0.22165\n",
      "[700]\ttrain-logloss:0.20402\tvalid-logloss:0.22117\n",
      "[800]\ttrain-logloss:0.20175\tvalid-logloss:0.22077\n",
      "[900]\ttrain-logloss:0.19966\tvalid-logloss:0.22043\n",
      "[1000]\ttrain-logloss:0.19764\tvalid-logloss:0.22023\n",
      "[1100]\ttrain-logloss:0.19573\tvalid-logloss:0.22003\n",
      "[1200]\ttrain-logloss:0.19386\tvalid-logloss:0.21990\n",
      "[1300]\ttrain-logloss:0.19204\tvalid-logloss:0.21988\n",
      "[1400]\ttrain-logloss:0.19029\tvalid-logloss:0.21983\n",
      "[1500]\ttrain-logloss:0.18852\tvalid-logloss:0.21977\n",
      "[1600]\ttrain-logloss:0.18682\tvalid-logloss:0.21973\n",
      "[1700]\ttrain-logloss:0.18515\tvalid-logloss:0.21963\n",
      "[1800]\ttrain-logloss:0.18355\tvalid-logloss:0.21968\n",
      "[1824]\ttrain-logloss:0.18319\tvalid-logloss:0.21968\n",
      "Kaggle Metric = 0.7872780064419962 \n",
      "\n",
      "#########################\n",
      "### Fold 5\n",
      "### Train size 367131 Valid size 91782\n",
      "### Training with 100% fold data...\n",
      "#########################\n",
      "[0]\ttrain-logloss:0.66321\tvalid-logloss:0.66318\n",
      "[100]\ttrain-logloss:0.23757\tvalid-logloss:0.23798\n",
      "[200]\ttrain-logloss:0.22342\tvalid-logloss:0.22586\n",
      "[300]\ttrain-logloss:0.21745\tvalid-logloss:0.22180\n",
      "[400]\ttrain-logloss:0.21347\tvalid-logloss:0.21966\n",
      "[500]\ttrain-logloss:0.21031\tvalid-logloss:0.21840\n",
      "[600]\ttrain-logloss:0.20758\tvalid-logloss:0.21761\n",
      "[700]\ttrain-logloss:0.20515\tvalid-logloss:0.21710\n",
      "[800]\ttrain-logloss:0.20284\tvalid-logloss:0.21665\n",
      "[900]\ttrain-logloss:0.20078\tvalid-logloss:0.21640\n",
      "[1000]\ttrain-logloss:0.19877\tvalid-logloss:0.21615\n",
      "[1100]\ttrain-logloss:0.19684\tvalid-logloss:0.21593\n",
      "[1200]\ttrain-logloss:0.19495\tvalid-logloss:0.21584\n",
      "[1300]\ttrain-logloss:0.19310\tvalid-logloss:0.21575\n",
      "[1400]\ttrain-logloss:0.19137\tvalid-logloss:0.21573\n",
      "[1500]\ttrain-logloss:0.18967\tvalid-logloss:0.21568\n",
      "[1600]\ttrain-logloss:0.18796\tvalid-logloss:0.21557\n",
      "[1700]\ttrain-logloss:0.18637\tvalid-logloss:0.21553\n",
      "[1800]\ttrain-logloss:0.18476\tvalid-logloss:0.21547\n",
      "[1861]\ttrain-logloss:0.18384\tvalid-logloss:0.21546\n",
      "Kaggle Metric = 0.7947225885369522 \n",
      "\n",
      "#########################\n",
      "OVERALL CV Kaggle Metric = 0.791985343857703\n"
     ]
    }
   ],
   "source": [
    "importances = []\n",
    "oof = []\n",
    "train = train.to_pandas() # free GPU memory\n",
    "TRAIN_SUBSAMPLE = 1.0\n",
    "gc.collect()\n",
    "\n",
    "skf = KFold(n_splits=FOLDS, shuffle=True, random_state=SEED)\n",
    "for fold,(train_idx, valid_idx) in enumerate(skf.split(\n",
    "            train, train.target )):\n",
    "    \n",
    "    # TRAIN WITH SUBSAMPLE OF TRAIN FOLD DATA\n",
    "    if TRAIN_SUBSAMPLE<1.0:\n",
    "        np.random.seed(SEED)\n",
    "        train_idx = np.random.choice(train_idx, \n",
    "                       int(len(train_idx)*TRAIN_SUBSAMPLE), replace=False)\n",
    "        np.random.seed(None)\n",
    "    \n",
    "    print('#'*25)\n",
    "    print('### Fold',fold+1)\n",
    "    print('### Train size',len(train_idx),'Valid size',len(valid_idx))\n",
    "    print(f'### Training with {int(TRAIN_SUBSAMPLE*100)}% fold data...')\n",
    "    print('#'*25)\n",
    "    \n",
    "    # TRAIN, VALID, TEST FOR FOLD K\n",
    "    Xy_train = IterLoadForDMatrix(train.loc[train_idx], FEATURES, 'target')\n",
    "    X_valid = train.loc[valid_idx, FEATURES]\n",
    "    y_valid = train.loc[valid_idx, 'target']\n",
    "    \n",
    "    dtrain = xgb.DeviceQuantileDMatrix(Xy_train, max_bin=256)\n",
    "    dvalid = xgb.DMatrix(data=X_valid, label=y_valid)\n",
    "    \n",
    "    # TRAIN MODEL FOLD K\n",
    "    model = xgb.train(xgb_parms, \n",
    "                dtrain=dtrain,\n",
    "                evals=[(dtrain,'train'),(dvalid,'valid')],\n",
    "                num_boost_round=9999,\n",
    "                early_stopping_rounds=100,\n",
    "                verbose_eval=100) \n",
    "    model.save_model(f'XGB_v{VER}_fold{fold}.xgb')\n",
    "    \n",
    "    # GET FEATURE IMPORTANCE FOR FOLD K\n",
    "    dd = model.get_score(importance_type='weight')\n",
    "    df = pd.DataFrame({'feature':dd.keys(),f'importance_{fold}':dd.values()})\n",
    "    importances.append(df)\n",
    "            \n",
    "    # INFER OOF FOLD K\n",
    "    oof_preds = model.predict(dvalid)\n",
    "    acc = amex_metric_mod(y_valid.values, oof_preds)\n",
    "    print('Kaggle Metric =',acc,'\\n')\n",
    "    \n",
    "    # SAVE OOF\n",
    "    df = train.loc[valid_idx, ['customer_ID','target'] ].copy()\n",
    "    df['oof_pred'] = oof_preds\n",
    "    oof.append( df )\n",
    "    \n",
    "    del dtrain, Xy_train, dd, df\n",
    "    del X_valid, y_valid, dvalid, model\n",
    "    _ = gc.collect()\n",
    "    \n",
    "print('#'*25)\n",
    "oof = pd.concat(oof,axis=0,ignore_index=True).set_index('customer_ID')\n",
    "acc = amex_metric_mod(oof.target.values, oof.oof_pred.values)\n",
    "print('OVERALL CV Kaggle Metric =',acc)"
   ]
  },
  {
   "cell_type": "code",
   "execution_count": 11,
   "id": "e87dbb1f",
   "metadata": {
    "execution": {
     "iopub.execute_input": "2022-07-16T17:26:44.525578Z",
     "iopub.status.busy": "2022-07-16T17:26:44.525200Z",
     "iopub.status.idle": "2022-07-16T17:26:44.665121Z",
     "shell.execute_reply": "2022-07-16T17:26:44.663920Z"
    },
    "papermill": {
     "duration": 0.160098,
     "end_time": "2022-07-16T17:26:44.667393",
     "exception": false,
     "start_time": "2022-07-16T17:26:44.507295",
     "status": "completed"
    },
    "tags": []
   },
   "outputs": [],
   "source": [
    "# CLEAN RAM\n",
    "del train\n",
    "_ = gc.collect()"
   ]
  },
  {
   "cell_type": "markdown",
   "id": "ab88ffe7",
   "metadata": {
    "papermill": {
     "duration": 0.016708,
     "end_time": "2022-07-16T17:26:44.701514",
     "exception": false,
     "start_time": "2022-07-16T17:26:44.684806",
     "status": "completed"
    },
    "tags": []
   },
   "source": [
    "# Save OOF Preds"
   ]
  },
  {
   "cell_type": "code",
   "execution_count": 12,
   "id": "cf4d962d",
   "metadata": {
    "execution": {
     "iopub.execute_input": "2022-07-16T17:26:44.736339Z",
     "iopub.status.busy": "2022-07-16T17:26:44.735991Z",
     "iopub.status.idle": "2022-07-16T17:26:50.138266Z",
     "shell.execute_reply": "2022-07-16T17:26:50.137115Z"
    },
    "papermill": {
     "duration": 5.421977,
     "end_time": "2022-07-16T17:26:50.140489",
     "exception": false,
     "start_time": "2022-07-16T17:26:44.718512",
     "status": "completed"
    },
    "tags": []
   },
   "outputs": [
    {
     "data": {
      "text/html": [
       "<div>\n",
       "<style scoped>\n",
       "    .dataframe tbody tr th:only-of-type {\n",
       "        vertical-align: middle;\n",
       "    }\n",
       "\n",
       "    .dataframe tbody tr th {\n",
       "        vertical-align: top;\n",
       "    }\n",
       "\n",
       "    .dataframe thead th {\n",
       "        text-align: right;\n",
       "    }\n",
       "</style>\n",
       "<table border=\"1\" class=\"dataframe\">\n",
       "  <thead>\n",
       "    <tr style=\"text-align: right;\">\n",
       "      <th></th>\n",
       "      <th>customer_ID</th>\n",
       "      <th>target</th>\n",
       "      <th>oof_pred</th>\n",
       "    </tr>\n",
       "  </thead>\n",
       "  <tbody>\n",
       "    <tr>\n",
       "      <th>0</th>\n",
       "      <td>20eac26171c3d251c55fc78204e59fab1c15fc2bc96d0c...</td>\n",
       "      <td>1</td>\n",
       "      <td>0.706134</td>\n",
       "    </tr>\n",
       "    <tr>\n",
       "      <th>1</th>\n",
       "      <td>aea50fdf9b974ccec95fa177c3225a0f913483b457de6e...</td>\n",
       "      <td>0</td>\n",
       "      <td>0.000279</td>\n",
       "    </tr>\n",
       "    <tr>\n",
       "      <th>2</th>\n",
       "      <td>32cd2d41aef737b69089882754395925c96eaee1f4a859...</td>\n",
       "      <td>0</td>\n",
       "      <td>0.001828</td>\n",
       "    </tr>\n",
       "    <tr>\n",
       "      <th>3</th>\n",
       "      <td>8daa6d5dc2655a8a437531e6b8b96829113cdfe9bf6cae...</td>\n",
       "      <td>0</td>\n",
       "      <td>0.022588</td>\n",
       "    </tr>\n",
       "    <tr>\n",
       "      <th>4</th>\n",
       "      <td>0ceba351a3851202542feb49d7385bcef32f6037fc57c7...</td>\n",
       "      <td>1</td>\n",
       "      <td>0.867744</td>\n",
       "    </tr>\n",
       "  </tbody>\n",
       "</table>\n",
       "</div>"
      ],
      "text/plain": [
       "                                         customer_ID  target  oof_pred\n",
       "0  20eac26171c3d251c55fc78204e59fab1c15fc2bc96d0c...       1  0.706134\n",
       "1  aea50fdf9b974ccec95fa177c3225a0f913483b457de6e...       0  0.000279\n",
       "2  32cd2d41aef737b69089882754395925c96eaee1f4a859...       0  0.001828\n",
       "3  8daa6d5dc2655a8a437531e6b8b96829113cdfe9bf6cae...       0  0.022588\n",
       "4  0ceba351a3851202542feb49d7385bcef32f6037fc57c7...       1  0.867744"
      ]
     },
     "execution_count": 12,
     "metadata": {},
     "output_type": "execute_result"
    }
   ],
   "source": [
    "oof_xgb = pd.read_parquet(TRAIN_PATH, columns=['customer_ID']).drop_duplicates()\n",
    "oof_xgb['customer_ID_hash'] = oof_xgb['customer_ID'].apply(lambda x: int(x[-16:],16) ).astype('int64')\n",
    "oof_xgb = oof_xgb.set_index('customer_ID_hash')\n",
    "oof_xgb = oof_xgb.merge(oof, left_index=True, right_index=True)\n",
    "oof_xgb = oof_xgb.sort_index().reset_index(drop=True)\n",
    "oof_xgb.to_csv(f'oof_xgb_v{VER}.csv',index=False)\n",
    "oof_xgb.head()"
   ]
  },
  {
   "cell_type": "code",
   "execution_count": 13,
   "id": "cf34ecf5",
   "metadata": {
    "execution": {
     "iopub.execute_input": "2022-07-16T17:26:50.175089Z",
     "iopub.status.busy": "2022-07-16T17:26:50.174751Z",
     "iopub.status.idle": "2022-07-16T17:26:50.627488Z",
     "shell.execute_reply": "2022-07-16T17:26:50.626503Z"
    },
    "papermill": {
     "duration": 0.472443,
     "end_time": "2022-07-16T17:26:50.629598",
     "exception": false,
     "start_time": "2022-07-16T17:26:50.157155",
     "status": "completed"
    },
    "tags": []
   },
   "outputs": [
    {
     "data": {
      "image/png": "[encoded data removed]",
      "text/plain": [
       "<Figure size 432x288 with 1 Axes>"
      ]
     },
     "metadata": {
      "needs_background": "light"
     },
     "output_type": "display_data"
    }
   ],
   "source": [
    "# PLOT OOF PREDICTIONS\n",
    "plt.hist(oof_xgb.oof_pred.values, bins=100)\n",
    "plt.title('OOF Predictions')\n",
    "plt.show()"
   ]
  },
  {
   "cell_type": "code",
   "execution_count": 14,
   "id": "e014ec33",
   "metadata": {
    "execution": {
     "iopub.execute_input": "2022-07-16T17:26:50.664981Z",
     "iopub.status.busy": "2022-07-16T17:26:50.664662Z",
     "iopub.status.idle": "2022-07-16T17:26:50.805250Z",
     "shell.execute_reply": "2022-07-16T17:26:50.803915Z"
    },
    "papermill": {
     "duration": 0.161152,
     "end_time": "2022-07-16T17:26:50.808183",
     "exception": false,
     "start_time": "2022-07-16T17:26:50.647031",
     "status": "completed"
    },
    "tags": []
   },
   "outputs": [],
   "source": [
    "# CLEAR VRAM, RAM FOR INFERENCE BELOW\n",
    "del oof_xgb, oof\n",
    "_ = gc.collect()"
   ]
  },
  {
   "cell_type": "markdown",
   "id": "a4012fbd",
   "metadata": {
    "papermill": {
     "duration": 0.016725,
     "end_time": "2022-07-16T17:26:50.842399",
     "exception": false,
     "start_time": "2022-07-16T17:26:50.825674",
     "status": "completed"
    },
    "tags": []
   },
   "source": [
    "# Feature Importance"
   ]
  },
  {
   "cell_type": "code",
   "execution_count": 15,
   "id": "0e8a09d6",
   "metadata": {
    "execution": {
     "iopub.execute_input": "2022-07-16T17:26:50.876911Z",
     "iopub.status.busy": "2022-07-16T17:26:50.876595Z",
     "iopub.status.idle": "2022-07-16T17:26:50.909460Z",
     "shell.execute_reply": "2022-07-16T17:26:50.908484Z"
    },
    "papermill": {
     "duration": 0.052734,
     "end_time": "2022-07-16T17:26:50.911749",
     "exception": false,
     "start_time": "2022-07-16T17:26:50.859015",
     "status": "completed"
    },
    "tags": []
   },
   "outputs": [],
   "source": [
    "import matplotlib.pyplot as plt\n",
    "\n",
    "df = importances[0].copy()\n",
    "for k in range(1,FOLDS): df = df.merge(importances[k], on='feature', how='left')\n",
    "df['importance'] = df.iloc[:,1:].mean(axis=1)\n",
    "df = df.sort_values('importance',ascending=False)\n",
    "df.to_csv(f'xgb_feature_importance_v{VER}.csv',index=False)"
   ]
  },
  {
   "cell_type": "code",
   "execution_count": 16,
   "id": "98a01ae1",
   "metadata": {
    "execution": {
     "iopub.execute_input": "2022-07-16T17:26:50.946702Z",
     "iopub.status.busy": "2022-07-16T17:26:50.946063Z",
     "iopub.status.idle": "2022-07-16T17:26:51.282292Z",
     "shell.execute_reply": "2022-07-16T17:26:51.281154Z"
    },
    "papermill": {
     "duration": 0.356592,
     "end_time": "2022-07-16T17:26:51.284723",
     "exception": false,
     "start_time": "2022-07-16T17:26:50.928131",
     "status": "completed"
    },
    "tags": []
   },
   "outputs": [
    {
     "data": {
      "image/png": "[encoded data removed]",
      "text/plain": [
       "<Figure size 720x720 with 1 Axes>"
      ]
     },
     "metadata": {
      "needs_background": "light"
     },
     "output_type": "display_data"
    }
   ],
   "source": [
    "NUM_FEATURES = 20\n",
    "plt.figure(figsize=(10,5*NUM_FEATURES//10))\n",
    "plt.barh(np.arange(NUM_FEATURES,0,-1), df.importance.values[:NUM_FEATURES])\n",
    "plt.yticks(np.arange(NUM_FEATURES,0,-1), df.feature.values[:NUM_FEATURES])\n",
    "plt.title(f'XGB Feature Importance - Top {NUM_FEATURES}')\n",
    "plt.show()"
   ]
  },
  {
   "cell_type": "markdown",
   "id": "47d53746",
   "metadata": {
    "papermill": {
     "duration": 0.016799,
     "end_time": "2022-07-16T17:26:51.320144",
     "exception": false,
     "start_time": "2022-07-16T17:26:51.303345",
     "status": "completed"
    },
    "tags": []
   },
   "source": [
    "# Process and Feature Engineer Test Data\n",
    "We will load @raddar Kaggle dataset from [here][1] with discussion [here][2]. Then we will engineer features suggested by @huseyincot in his notebooks [here][1] and [here][4]. We will use [RAPIDS][5] and the GPU to create new features quickly.\n",
    "\n",
    "[1]: https://www.kaggle.com/datasets/raddar/amex-data-integer-dtypes-parquet-format\n",
    "[2]: https://www.kaggle.com/competitions/amex-default-prediction/discussion/328514\n",
    "[3]: https://www.kaggle.com/code/huseyincot/amex-catboost-0-793\n",
    "[4]: https://www.kaggle.com/code/huseyincot/amex-agg-data-how-it-created\n",
    "[5]: https://rapids.ai/"
   ]
  },
  {
   "cell_type": "code",
   "execution_count": 17,
   "id": "c0d9814d",
   "metadata": {
    "execution": {
     "iopub.execute_input": "2022-07-16T17:26:51.356828Z",
     "iopub.status.busy": "2022-07-16T17:26:51.356430Z",
     "iopub.status.idle": "2022-07-16T17:26:53.844600Z",
     "shell.execute_reply": "2022-07-16T17:26:53.843086Z"
    },
    "papermill": {
     "duration": 2.509306,
     "end_time": "2022-07-16T17:26:53.846881",
     "exception": false,
     "start_time": "2022-07-16T17:26:51.337575",
     "status": "completed"
    },
    "tags": []
   },
   "outputs": [
    {
     "name": "stdout",
     "output_type": "stream",
     "text": [
      "Reading test data...\n",
      "shape of data: (11363762, 2)\n",
      "We will process test data as 4 separate parts.\n",
      "There will be 231155 customers in each part (except the last part).\n",
      "Below are number of rows in each part:\n",
      "[2841209, 2839857, 2842105, 2840591]\n"
     ]
    }
   ],
   "source": [
    "# CALCULATE SIZE OF EACH SEPARATE TEST PART\n",
    "def get_rows(customers, test, NUM_PARTS = 4, verbose = ''):\n",
    "    chunk = len(customers)//NUM_PARTS\n",
    "    if verbose != '':\n",
    "        print(f'We will process {verbose} data as {NUM_PARTS} separate parts.')\n",
    "        print(f'There will be {chunk} customers in each part (except the last part).')\n",
    "        print('Below are number of rows in each part:')\n",
    "    rows = []\n",
    "\n",
    "    for k in range(NUM_PARTS):\n",
    "        if k==NUM_PARTS-1: cc = customers[k*chunk:]\n",
    "        else: cc = customers[k*chunk:(k+1)*chunk]\n",
    "        s = test.loc[test.customer_ID.isin(cc)].shape[0]\n",
    "        rows.append(s)\n",
    "    if verbose != '': print( rows )\n",
    "    return rows,chunk\n",
    "\n",
    "# COMPUTE SIZE OF 4 PARTS FOR TEST DATA\n",
    "NUM_PARTS = 4\n",
    "TEST_PATH = '../input/amex-data-integer-dtypes-parquet-format/test.parquet'\n",
    "\n",
    "print(f'Reading test data...')\n",
    "test = read_file(path = TEST_PATH, usecols = ['customer_ID','S_2'])\n",
    "customers = test[['customer_ID']].drop_duplicates().sort_index().values.flatten()\n",
    "rows,num_cust = get_rows(customers, test[['customer_ID']], NUM_PARTS = NUM_PARTS, verbose = 'test')"
   ]
  },
  {
   "cell_type": "markdown",
   "id": "b445e000",
   "metadata": {
    "papermill": {
     "duration": 0.017935,
     "end_time": "2022-07-16T17:26:53.882879",
     "exception": false,
     "start_time": "2022-07-16T17:26:53.864944",
     "status": "completed"
    },
    "tags": []
   },
   "source": [
    "# Infer Test"
   ]
  },
  {
   "cell_type": "code",
   "execution_count": 18,
   "id": "4374c6fb",
   "metadata": {
    "execution": {
     "iopub.execute_input": "2022-07-16T17:26:53.919760Z",
     "iopub.status.busy": "2022-07-16T17:26:53.919399Z",
     "iopub.status.idle": "2022-07-16T17:30:02.465070Z",
     "shell.execute_reply": "2022-07-16T17:30:02.464035Z"
    },
    "papermill": {
     "duration": 188.569674,
     "end_time": "2022-07-16T17:30:02.470234",
     "exception": false,
     "start_time": "2022-07-16T17:26:53.900560",
     "status": "completed"
    },
    "tags": []
   },
   "outputs": [
    {
     "name": "stdout",
     "output_type": "stream",
     "text": [
      "\n",
      "Reading test data...\n",
      "shape of data: (11363762, 190)\n",
      "=> Test part 1 has shape (2841209, 190)\n",
      "shape after engineering (231155, 568)\n",
      "\n",
      "Reading test data...\n",
      "shape of data: (11363762, 190)\n",
      "=> Test part 2 has shape (2839857, 190)\n",
      "shape after engineering (231155, 568)\n",
      "\n",
      "Reading test data...\n",
      "shape of data: (11363762, 190)\n",
      "=> Test part 3 has shape (2842105, 190)\n",
      "shape after engineering (231155, 568)\n",
      "\n",
      "Reading test data...\n",
      "shape of data: (11363762, 190)\n",
      "=> Test part 4 has shape (2840591, 190)\n",
      "shape after engineering (231156, 568)\n"
     ]
    }
   ],
   "source": [
    "# INFER TEST DATA IN PARTS\n",
    "skip_rows = 0\n",
    "skip_cust = 0\n",
    "test_preds = []\n",
    "\n",
    "for k in range(NUM_PARTS):\n",
    "    \n",
    "    # READ PART OF TEST DATA\n",
    "    print(f'\\nReading test data...')\n",
    "    test = read_file(path = TEST_PATH)\n",
    "    test = test.iloc[skip_rows:skip_rows+rows[k]]\n",
    "    skip_rows += rows[k]\n",
    "    print(f'=> Test part {k+1} has shape', test.shape )\n",
    "    \n",
    "    # PROCESS AND FEATURE ENGINEER PART OF TEST DATA\n",
    "    test = process_and_feature_engineer(test)\n",
    "    if k==NUM_PARTS-1: test = test.loc[customers[skip_cust:]]\n",
    "    else: test = test.loc[customers[skip_cust:skip_cust+num_cust]]\n",
    "    skip_cust += num_cust\n",
    "    \n",
    "    # TEST DATA FOR XGB\n",
    "    X_test = test[FEATURES]\n",
    "    dtest = xgb.DMatrix(data=X_test)\n",
    "    test = test[['P_2_mean']] # reduce memory\n",
    "    del X_test\n",
    "    gc.collect()\n",
    "\n",
    "    # INFER XGB MODELS ON TEST DATA\n",
    "    model = xgb.Booster()\n",
    "    model.load_model(f'XGB_v{VER}_fold0.xgb')\n",
    "    preds = model.predict(dtest)\n",
    "    for f in range(1,FOLDS):\n",
    "        model.load_model(f'XGB_v{VER}_fold{f}.xgb')\n",
    "        preds += model.predict(dtest)\n",
    "    preds /= FOLDS\n",
    "    test_preds.append(preds)\n",
    "\n",
    "    # CLEAN MEMORY\n",
    "    del dtest, model\n",
    "    _ = gc.collect()"
   ]
  },
  {
   "cell_type": "markdown",
   "id": "713fcef9",
   "metadata": {
    "papermill": {
     "duration": 0.017679,
     "end_time": "2022-07-16T17:30:02.513824",
     "exception": false,
     "start_time": "2022-07-16T17:30:02.496145",
     "status": "completed"
    },
    "tags": []
   },
   "source": [
    "# Create Submission CSV"
   ]
  },
  {
   "cell_type": "code",
   "execution_count": 19,
   "id": "524b67ee",
   "metadata": {
    "execution": {
     "iopub.execute_input": "2022-07-16T17:30:02.550760Z",
     "iopub.status.busy": "2022-07-16T17:30:02.550415Z",
     "iopub.status.idle": "2022-07-16T17:30:03.740035Z",
     "shell.execute_reply": "2022-07-16T17:30:03.738988Z"
    },
    "papermill": {
     "duration": 1.211687,
     "end_time": "2022-07-16T17:30:03.743443",
     "exception": false,
     "start_time": "2022-07-16T17:30:02.531756",
     "status": "completed"
    },
    "tags": []
   },
   "outputs": [
    {
     "name": "stdout",
     "output_type": "stream",
     "text": [
      "Submission file shape is (924621, 2)\n"
     ]
    },
    {
     "data": {
      "text/html": [
       "<div>\n",
       "<style scoped>\n",
       "    .dataframe tbody tr th:only-of-type {\n",
       "        vertical-align: middle;\n",
       "    }\n",
       "\n",
       "    .dataframe tbody tr th {\n",
       "        vertical-align: top;\n",
       "    }\n",
       "\n",
       "    .dataframe thead th {\n",
       "        text-align: right;\n",
       "    }\n",
       "</style>\n",
       "<table border=\"1\" class=\"dataframe\">\n",
       "  <thead>\n",
       "    <tr style=\"text-align: right;\">\n",
       "      <th></th>\n",
       "      <th>customer_ID</th>\n",
       "      <th>prediction</th>\n",
       "    </tr>\n",
       "  </thead>\n",
       "  <tbody>\n",
       "    <tr>\n",
       "      <th>0</th>\n",
       "      <td>03999d5e3bd61a69504cc6e7025c260c1ed2e5b449dba5...</td>\n",
       "      <td>0.125533</td>\n",
       "    </tr>\n",
       "    <tr>\n",
       "      <th>1</th>\n",
       "      <td>039b4f21aa584fb0c3c7055beabc098af55013f9f25515...</td>\n",
       "      <td>0.004337</td>\n",
       "    </tr>\n",
       "    <tr>\n",
       "      <th>2</th>\n",
       "      <td>039a6aea85575ebd33eec75e5c45bc7973481b81a99b62...</td>\n",
       "      <td>0.081246</td>\n",
       "    </tr>\n",
       "    <tr>\n",
       "      <th>3</th>\n",
       "      <td>039bd96164c6567580b24ba13c2b85b60f4554eb43d55b...</td>\n",
       "      <td>0.350167</td>\n",
       "    </tr>\n",
       "    <tr>\n",
       "      <th>4</th>\n",
       "      <td>0399a5a95461ced4134cd9693712fb012351cca1bde04d...</td>\n",
       "      <td>0.000130</td>\n",
       "    </tr>\n",
       "  </tbody>\n",
       "</table>\n",
       "</div>"
      ],
      "text/plain": [
       "                                         customer_ID  prediction\n",
       "0  03999d5e3bd61a69504cc6e7025c260c1ed2e5b449dba5...    0.125533\n",
       "1  039b4f21aa584fb0c3c7055beabc098af55013f9f25515...    0.004337\n",
       "2  039a6aea85575ebd33eec75e5c45bc7973481b81a99b62...    0.081246\n",
       "3  039bd96164c6567580b24ba13c2b85b60f4554eb43d55b...    0.350167\n",
       "4  0399a5a95461ced4134cd9693712fb012351cca1bde04d...    0.000130"
      ]
     },
     "execution_count": 19,
     "metadata": {},
     "output_type": "execute_result"
    }
   ],
   "source": [
    "# WRITE SUBMISSION FILE\n",
    "test_preds = np.concatenate(test_preds)\n",
    "test = cudf.DataFrame(index=customers,data={'prediction':test_preds})\n",
    "sub = cudf.read_csv('../input/amex-default-prediction/sample_submission.csv')[['customer_ID']]\n",
    "sub['customer_ID_hash'] = sub['customer_ID'].str[-16:].str.hex_to_int().astype('int64')\n",
    "sub = sub.set_index('customer_ID_hash')\n",
    "sub = sub.merge(test[['prediction']], left_index=True, right_index=True, how='left')\n",
    "sub = sub.reset_index(drop=True)\n",
    "\n",
    "# DISPLAY PREDICTIONS\n",
    "sub.to_csv(f'submission_xgb_v{VER}.csv',index=False)\n",
    "print('Submission file shape is', sub.shape )\n",
    "sub.head()"
   ]
  },
  {
   "cell_type": "code",
   "execution_count": 20,
   "id": "05c0d41d",
   "metadata": {
    "execution": {
     "iopub.execute_input": "2022-07-16T17:30:03.816147Z",
     "iopub.status.busy": "2022-07-16T17:30:03.815731Z",
     "iopub.status.idle": "2022-07-16T17:30:04.722170Z",
     "shell.execute_reply": "2022-07-16T17:30:04.721176Z"
    },
    "papermill": {
     "duration": 0.945272,
     "end_time": "2022-07-16T17:30:04.724364",
     "exception": false,
     "start_time": "2022-07-16T17:30:03.779092",
     "status": "completed"
    },
    "tags": []
   },
   "outputs": [
    {
     "data": {
      "image/png": "[encoded data removed]",
      "text/plain": [
       "<Figure size 432x288 with 1 Axes>"
      ]
     },
     "metadata": {
      "needs_background": "light"
     },
     "output_type": "display_data"
    }
   ],
   "source": [
    "# PLOT PREDICTIONS\n",
    "plt.hist(sub.to_pandas().prediction, bins=100)\n",
    "plt.title('Test Predictions')\n",
    "plt.show()"
   ]
  }
 ],
 "metadata": {
  "kernelspec": {
   "display_name": "Python 3",
   "language": "python",
   "name": "python3"
  },
  "language_info": {
   "codemirror_mode": {
    "name": "ipython",
    "version": 3
   },
   "file_extension": ".py",
   "mimetype": "text/x-python",
   "name": "python",
   "nbconvert_exporter": "python",
   "pygments_lexer": "ipython3",
   "version": "3.7.12"
  },
  "papermill": {
   "default_parameters": {},
   "duration": 661.726034,
   "end_time": "2022-07-16T17:30:06.170149",
   "environment_variables": {},
   "exception": null,
   "input_path": "__notebook__.ipynb",
   "output_path": "__notebook__.ipynb",
   "parameters": {},
   "start_time": "2022-07-16T17:19:04.444115",
   "version": "2.3.4"
  }
 },
 "nbformat": 4,
 "nbformat_minor": 5
}
